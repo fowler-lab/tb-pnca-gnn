{
 "cells": [
  {
   "cell_type": "markdown",
   "metadata": {},
   "source": [
    "# Run PncA WandB Sweep"
   ]
  },
  {
   "cell_type": "code",
   "execution_count": 1,
   "metadata": {},
   "outputs": [
    {
     "data": {
      "text/plain": [
       "'Running locally'"
      ]
     },
     "metadata": {},
     "output_type": "display_data"
    },
    {
     "data": {
      "text/plain": [
       "False"
      ]
     },
     "execution_count": 1,
     "metadata": {},
     "output_type": "execute_result"
    }
   ],
   "source": [
    "from IPython.display import display\n",
    "import os\n",
    "\n",
    "if \"SSH_CONNECTION\" in os.environ:\n",
    "    display(\"Running via SSH\")\n",
    "else:\n",
    "    display(\"Running locally\")\n",
    "    \n",
    "import sys\n",
    "import os\n",
    "\n",
    "path = os.path.join('..', '/Users/dylandissanayake/Desktop/DPhil/Comp Disc/Repositories/TB-PNCA-GNN') if \"SSH_CONNECTION\" not in os.environ else os.path.join('..', '/mnt/alphafold-volume-1/dylan2/repos/tb-pnca-gnn')\n",
    "if path not in sys.path:\n",
    "    sys.path.append(os.path.abspath(path))\n",
    "\n",
    "import datetime\n",
    "import random\n",
    "\n",
    "import numpy as np\n",
    "import pandas as pd\n",
    "\n",
    "import torch\n",
    "from torch_geometric.data import Data\n",
    "\n",
    "import wandb\n",
    "\n",
    "import warnings\n",
    "warnings.filterwarnings('ignore')\n",
    "\n",
    "from src import run_model, protein_graph, gcn_model, evaluation\n",
    "\n",
    "%load_ext autoreload\n",
    "%autoreload 2\n",
    "\n",
    "%aimport src\n",
    "\n",
    "torch.cuda.is_available()"
   ]
  },
  {
   "cell_type": "code",
   "execution_count": 2,
   "metadata": {},
   "outputs": [],
   "source": [
    "full_dataset = torch.load('datasets/full_real_dataset.pth')"
   ]
  },
  {
   "cell_type": "markdown",
   "metadata": {},
   "source": [
    "### Set Up Params and Sweep Config"
   ]
  },
  {
   "cell_type": "code",
   "execution_count": 3,
   "metadata": {},
   "outputs": [],
   "source": [
    "seed = 42\n",
    "np.random.seed(seed)\n",
    "random.seed(seed)\n",
    "\n",
    "# logging params (only used for wandb metrics)\n",
    "n_samples = len(full_dataset)\n",
    "# cutoff_distance = 6.3  \n",
    "\n",
    "# gcn params\n",
    "num_node_features = 12\n",
    "batch_size = 256\n",
    "# hidden_channels = 64\n",
    "# learning_rate = 0.001\n",
    "# wd = 5e-5\n",
    "epochs = 1500\n",
    "\n",
    "wt_seq = 'MRALIIVDVQNDFCEGGSLAVTGGAALARAISDYLAEAADYHHVVATKDFHIDPGDHFSGTPDYSSSWPPHCVSGTPGADFHPSLDTSAIEAVFYKGAYTGAYSGFEGVDENGTPLLNWLRQRGVDEVDVVGIATDHCVRQTAEDAVRNGLATRVLVDLTAGVSADTTVAALEEMRTASVELVCS'"
   ]
  },
  {
   "cell_type": "code",
   "execution_count": 6,
   "metadata": {},
   "outputs": [],
   "source": [
    "# First sweep:\n",
    "\n",
    "sweep_config = {\n",
    "    'method': 'random'\n",
    "    }\n",
    "\n",
    "metric = {\n",
    "    'name': 'Test Accuracy',\n",
    "    'goal': 'maximize'   \n",
    "    }\n",
    "\n",
    "sweep_config['metric'] = metric\n",
    "\n",
    "parameters_dict = {\n",
    "    'hidden_channels': {\n",
    "        'values': [32, 64, 128, 256, 320, 384]\n",
    "        },\n",
    "    'weight_decay': {\n",
    "        'distribution': 'log_uniform_values',\n",
    "        'min': 1e-10,\n",
    "        'max': 1e-1\n",
    "        },\n",
    "    'dropout': {\n",
    "          'values': [0.2, 0.4, 0.5, 0.6, 0.8]\n",
    "        },\n",
    "    'cutoff_distance': {\n",
    "        'distribution': 'uniform',\n",
    "        'min': 5.5,\n",
    "        'max': 14 \n",
    "        },\n",
    "    'learning_rate': {\n",
    "        'distribution': 'log_uniform_values',\n",
    "        'min': 1e-10,\n",
    "        'max': 1e-1\n",
    "      },\n",
    "    }\n",
    "\n",
    "sweep_config['parameters'] = parameters_dict\n"
   ]
  },
  {
   "cell_type": "code",
   "execution_count": 7,
   "metadata": {},
   "outputs": [
    {
     "name": "stdout",
     "output_type": "stream",
     "text": [
      "{'method': 'random',\n",
      " 'metric': {'goal': 'maximize', 'name': 'Test Accuracy'},\n",
      " 'parameters': {'cutoff_distance': {'distribution': 'uniform',\n",
      "                                    'max': 14,\n",
      "                                    'min': 5.5},\n",
      "                'dropout': {'values': [0.2, 0.4, 0.5, 0.6, 0.8]},\n",
      "                'hidden_channels': {'values': [32, 64, 128, 256, 320, 384]},\n",
      "                'learning_rate': {'distribution': 'log_uniform_values',\n",
      "                                  'max': 0.1,\n",
      "                                  'min': 1e-10},\n",
      "                'weight_decay': {'distribution': 'log_uniform_values',\n",
      "                                 'max': 0.1,\n",
      "                                 'min': 1e-10}}}\n"
     ]
    }
   ],
   "source": [
    "import pprint\n",
    "pprint.pprint(sweep_config)"
   ]
  },
  {
   "cell_type": "markdown",
   "metadata": {},
   "source": [
    "### Define Training Loop"
   ]
  },
  {
   "cell_type": "code",
   "execution_count": 8,
   "metadata": {},
   "outputs": [],
   "source": [
    "project = \"pnca-singletons-sweep\""
   ]
  },
  {
   "cell_type": "code",
   "execution_count": 9,
   "metadata": {},
   "outputs": [
    {
     "name": "stderr",
     "output_type": "stream",
     "text": [
      "Failed to detect the name of this notebook, you can set it manually with the WANDB_NOTEBOOK_NAME environment variable to enable code saving.\n"
     ]
    },
    {
     "name": "stdout",
     "output_type": "stream",
     "text": [
      "Create sweep with ID: i8r2s0bc\n",
      "Sweep URL: https://wandb.ai/dylan-home/pnca-singletons-sweep/sweeps/i8r2s0bc\n"
     ]
    }
   ],
   "source": [
    "sweep_id = wandb.sweep(sweep_config, project=project)\n",
    "# sweep_id = 'nc8eahq7'\n",
    "# sweep_id = 'i8r2s0bc'"
   ]
  },
  {
   "cell_type": "code",
   "execution_count": 10,
   "metadata": {},
   "outputs": [],
   "source": [
    "def sweep_run():\n",
    "\n",
    "    with wandb.init() as run:\n",
    "        config = run.config\n",
    "\n",
    "        model = run_model.pnca_simpleGCN(\n",
    "            # sequences=sequences_dict,\n",
    "            sequences=None,\n",
    "            self_loops = False,\n",
    "            cutoff_distance = config.cutoff_distance,\n",
    "            edge_weight_func = '1-(dist/cutoff)',\n",
    "            batch_size = batch_size,\n",
    "            num_node_features = num_node_features,\n",
    "            hidden_channels = config.hidden_channels,\n",
    "            learning_rate = config.learning_rate,\n",
    "            wd = config.weight_decay,\n",
    "            dropout = config.dropout,\n",
    "            lr_scheduling=False,\n",
    "            epochs = epochs,\n",
    "            dataset = full_dataset,\n",
    "            normalise_ews=True,\n",
    "            wandb_params={\n",
    "                'use_wandb': False,\n",
    "                'sweep': True\n",
    "            }\n",
    "        )\n",
    "\n",
    "        # os.makedirs(f'saved_models/carter_ds_aug/{project}/{sweep_id}', exist_ok=True)\n",
    "        \n",
    "        # torch.save(model, f'saved_models/carter_ds_aug/{project}/{sweep_id}/{run.name}')"
   ]
  },
  {
   "cell_type": "code",
   "execution_count": 11,
   "metadata": {},
   "outputs": [
    {
     "name": "stderr",
     "output_type": "stream",
     "text": [
      "\u001b[34m\u001b[1mwandb\u001b[0m: Agent Starting Run: 0d3zqy3j with config:\n",
      "\u001b[34m\u001b[1mwandb\u001b[0m: \tcutoff_distance: 8.756811569791214\n",
      "\u001b[34m\u001b[1mwandb\u001b[0m: \tdropout: 0.6\n",
      "\u001b[34m\u001b[1mwandb\u001b[0m: \thidden_channels: 32\n",
      "\u001b[34m\u001b[1mwandb\u001b[0m: \tlearning_rate: 2.6167706326170646e-06\n",
      "\u001b[34m\u001b[1mwandb\u001b[0m: \tweight_decay: 0.0002639324904566719\n",
      "Failed to detect the name of this notebook, you can set it manually with the WANDB_NOTEBOOK_NAME environment variable to enable code saving.\n",
      "\u001b[34m\u001b[1mwandb\u001b[0m: Currently logged in as: \u001b[33mdylan-home\u001b[0m. Use \u001b[1m`wandb login --relogin`\u001b[0m to force relogin\n"
     ]
    },
    {
     "data": {
      "text/html": [
       "wandb version 0.19.6 is available!  To upgrade, please run:\n",
       " $ pip install wandb --upgrade"
      ],
      "text/plain": [
       "<IPython.core.display.HTML object>"
      ]
     },
     "metadata": {},
     "output_type": "display_data"
    },
    {
     "data": {
      "text/html": [
       "Tracking run with wandb version 0.16.4"
      ],
      "text/plain": [
       "<IPython.core.display.HTML object>"
      ]
     },
     "metadata": {},
     "output_type": "display_data"
    },
    {
     "data": {
      "text/html": [
       "Run data is saved locally in <code>/Users/dylandissanayake/Desktop/DPhil/Comp Disc/Repositories/tb-pnca-gnn/dd_pnca/wandb/run-20250206_171835-0d3zqy3j</code>"
      ],
      "text/plain": [
       "<IPython.core.display.HTML object>"
      ]
     },
     "metadata": {},
     "output_type": "display_data"
    },
    {
     "data": {
      "text/html": [
       "Syncing run <strong><a href='https://wandb.ai/dylan-home/pnca-singletons-sweep/runs/0d3zqy3j' target=\"_blank\">earnest-sweep-1</a></strong> to <a href='https://wandb.ai/dylan-home/pnca-singletons-sweep' target=\"_blank\">Weights & Biases</a> (<a href='https://wandb.me/run' target=\"_blank\">docs</a>)<br/>Sweep page: <a href='https://wandb.ai/dylan-home/pnca-singletons-sweep/sweeps/i8r2s0bc' target=\"_blank\">https://wandb.ai/dylan-home/pnca-singletons-sweep/sweeps/i8r2s0bc</a>"
      ],
      "text/plain": [
       "<IPython.core.display.HTML object>"
      ]
     },
     "metadata": {},
     "output_type": "display_data"
    },
    {
     "data": {
      "text/html": [
       " View project at <a href='https://wandb.ai/dylan-home/pnca-singletons-sweep' target=\"_blank\">https://wandb.ai/dylan-home/pnca-singletons-sweep</a>"
      ],
      "text/plain": [
       "<IPython.core.display.HTML object>"
      ]
     },
     "metadata": {},
     "output_type": "display_data"
    },
    {
     "data": {
      "text/html": [
       " View sweep at <a href='https://wandb.ai/dylan-home/pnca-singletons-sweep/sweeps/i8r2s0bc' target=\"_blank\">https://wandb.ai/dylan-home/pnca-singletons-sweep/sweeps/i8r2s0bc</a>"
      ],
      "text/plain": [
       "<IPython.core.display.HTML object>"
      ]
     },
     "metadata": {},
     "output_type": "display_data"
    },
    {
     "data": {
      "text/html": [
       " View run at <a href='https://wandb.ai/dylan-home/pnca-singletons-sweep/runs/0d3zqy3j' target=\"_blank\">https://wandb.ai/dylan-home/pnca-singletons-sweep/runs/0d3zqy3j</a>"
      ],
      "text/plain": [
       "<IPython.core.display.HTML object>"
      ]
     },
     "metadata": {},
     "output_type": "display_data"
    },
    {
     "name": "stdout",
     "output_type": "stream",
     "text": [
      "Adjusting edge index and attaching edge weights for cutoff distance 8.756811569791214\n",
      "Early stopping enabled. Patience: 20. Min Delta: 0.\n",
      "Epoch: 010, Train Acc: 0.5302, Test Acc: 0.5150, Train Loss: 1.0754, Test Loss: 1.0975\n",
      "Epoch: 020, Train Acc: 0.5302, Test Acc: 0.5150, Train Loss: 0.9105, Test Loss: 0.9281\n",
      "Epoch: 030, Train Acc: 0.5302, Test Acc: 0.5150, Train Loss: 0.8839, Test Loss: 0.9022\n",
      "Epoch: 040, Train Acc: 0.5302, Test Acc: 0.5150, Train Loss: 0.8740, Test Loss: 0.8931\n",
      "Epoch: 050, Train Acc: 0.5302, Test Acc: 0.5150, Train Loss: 0.8682, Test Loss: 0.8863\n",
      "Epoch: 060, Train Acc: 0.5302, Test Acc: 0.5150, Train Loss: 0.8643, Test Loss: 0.8797\n",
      "Epoch: 070, Train Acc: 0.5302, Test Acc: 0.5150, Train Loss: 0.8572, Test Loss: 0.8735\n",
      "Epoch: 080, Train Acc: 0.5302, Test Acc: 0.5150, Train Loss: 0.8439, Test Loss: 0.8675\n",
      "Epoch: 090, Train Acc: 0.5302, Test Acc: 0.5150, Train Loss: 0.8418, Test Loss: 0.8614\n",
      "Epoch: 100, Train Acc: 0.5302, Test Acc: 0.5150, Train Loss: 0.8379, Test Loss: 0.8555\n",
      "Epoch: 110, Train Acc: 0.5302, Test Acc: 0.5150, Train Loss: 0.8327, Test Loss: 0.8501\n",
      "Epoch: 120, Train Acc: 0.5302, Test Acc: 0.5150, Train Loss: 0.8256, Test Loss: 0.8446\n",
      "Epoch: 130, Train Acc: 0.5302, Test Acc: 0.5150, Train Loss: 0.8243, Test Loss: 0.8393\n",
      "Epoch: 140, Train Acc: 0.5302, Test Acc: 0.5150, Train Loss: 0.8166, Test Loss: 0.8340\n",
      "Epoch: 150, Train Acc: 0.5302, Test Acc: 0.5150, Train Loss: 0.8109, Test Loss: 0.8289\n",
      "Epoch: 160, Train Acc: 0.5302, Test Acc: 0.5150, Train Loss: 0.8059, Test Loss: 0.8240\n",
      "Epoch: 170, Train Acc: 0.5302, Test Acc: 0.5150, Train Loss: 0.8079, Test Loss: 0.8193\n",
      "Epoch: 180, Train Acc: 0.5302, Test Acc: 0.5150, Train Loss: 0.7977, Test Loss: 0.8147\n",
      "Epoch: 190, Train Acc: 0.5302, Test Acc: 0.5150, Train Loss: 0.7926, Test Loss: 0.8101\n",
      "Epoch: 200, Train Acc: 0.5302, Test Acc: 0.5150, Train Loss: 0.7911, Test Loss: 0.8056\n",
      "Epoch: 210, Train Acc: 0.5302, Test Acc: 0.5150, Train Loss: 0.7859, Test Loss: 0.8014\n",
      "Epoch: 220, Train Acc: 0.5302, Test Acc: 0.5150, Train Loss: 0.7849, Test Loss: 0.7973\n",
      "Epoch: 230, Train Acc: 0.5302, Test Acc: 0.5150, Train Loss: 0.7761, Test Loss: 0.7932\n",
      "Epoch: 240, Train Acc: 0.5302, Test Acc: 0.5150, Train Loss: 0.7765, Test Loss: 0.7893\n",
      "Epoch: 250, Train Acc: 0.5302, Test Acc: 0.5150, Train Loss: 0.7719, Test Loss: 0.7856\n",
      "Epoch: 260, Train Acc: 0.5302, Test Acc: 0.5150, Train Loss: 0.7654, Test Loss: 0.7818\n",
      "Epoch: 270, Train Acc: 0.5302, Test Acc: 0.5150, Train Loss: 0.7652, Test Loss: 0.7784\n",
      "Epoch: 280, Train Acc: 0.5302, Test Acc: 0.5150, Train Loss: 0.7645, Test Loss: 0.7749\n",
      "Epoch: 290, Train Acc: 0.5302, Test Acc: 0.5150, Train Loss: 0.7606, Test Loss: 0.7716\n",
      "Epoch: 300, Train Acc: 0.5302, Test Acc: 0.5150, Train Loss: 0.7604, Test Loss: 0.7684\n",
      "Epoch: 310, Train Acc: 0.5302, Test Acc: 0.5150, Train Loss: 0.7535, Test Loss: 0.7652\n",
      "Epoch: 320, Train Acc: 0.5302, Test Acc: 0.5150, Train Loss: 0.7526, Test Loss: 0.7622\n",
      "Epoch: 330, Train Acc: 0.5302, Test Acc: 0.5150, Train Loss: 0.7463, Test Loss: 0.7593\n",
      "Epoch: 340, Train Acc: 0.5302, Test Acc: 0.5150, Train Loss: 0.7480, Test Loss: 0.7564\n",
      "Epoch: 350, Train Acc: 0.5302, Test Acc: 0.5150, Train Loss: 0.7421, Test Loss: 0.7539\n",
      "Epoch: 360, Train Acc: 0.5302, Test Acc: 0.5150, Train Loss: 0.7424, Test Loss: 0.7515\n",
      "Epoch: 370, Train Acc: 0.5302, Test Acc: 0.5150, Train Loss: 0.7372, Test Loss: 0.7490\n",
      "Epoch: 380, Train Acc: 0.5302, Test Acc: 0.5150, Train Loss: 0.7340, Test Loss: 0.7465\n",
      "Epoch: 390, Train Acc: 0.5302, Test Acc: 0.5150, Train Loss: 0.7383, Test Loss: 0.7441\n",
      "Epoch: 400, Train Acc: 0.5302, Test Acc: 0.5150, Train Loss: 0.7317, Test Loss: 0.7419\n",
      "Epoch: 410, Train Acc: 0.5302, Test Acc: 0.5150, Train Loss: 0.7348, Test Loss: 0.7397\n",
      "Epoch: 420, Train Acc: 0.5302, Test Acc: 0.5150, Train Loss: 0.7292, Test Loss: 0.7376\n",
      "Epoch: 430, Train Acc: 0.5302, Test Acc: 0.5150, Train Loss: 0.7259, Test Loss: 0.7357\n",
      "Epoch: 440, Train Acc: 0.5302, Test Acc: 0.5150, Train Loss: 0.7295, Test Loss: 0.7338\n",
      "Epoch: 450, Train Acc: 0.5302, Test Acc: 0.5150, Train Loss: 0.7255, Test Loss: 0.7319\n",
      "Epoch: 460, Train Acc: 0.5302, Test Acc: 0.5150, Train Loss: 0.7234, Test Loss: 0.7301\n",
      "Epoch: 470, Train Acc: 0.5302, Test Acc: 0.5150, Train Loss: 0.7195, Test Loss: 0.7285\n",
      "Epoch: 480, Train Acc: 0.5302, Test Acc: 0.5150, Train Loss: 0.7192, Test Loss: 0.7269\n",
      "Epoch: 490, Train Acc: 0.5302, Test Acc: 0.5150, Train Loss: 0.7187, Test Loss: 0.7254\n",
      "Epoch: 500, Train Acc: 0.5302, Test Acc: 0.5150, Train Loss: 0.7169, Test Loss: 0.7238\n",
      "Epoch: 510, Train Acc: 0.5302, Test Acc: 0.5150, Train Loss: 0.7153, Test Loss: 0.7224\n",
      "Epoch: 520, Train Acc: 0.5302, Test Acc: 0.5150, Train Loss: 0.7160, Test Loss: 0.7211\n",
      "Epoch: 530, Train Acc: 0.5302, Test Acc: 0.5150, Train Loss: 0.7148, Test Loss: 0.7199\n",
      "Epoch: 540, Train Acc: 0.5302, Test Acc: 0.5150, Train Loss: 0.7118, Test Loss: 0.7187\n",
      "Epoch: 550, Train Acc: 0.5302, Test Acc: 0.5150, Train Loss: 0.7112, Test Loss: 0.7175\n",
      "Epoch: 560, Train Acc: 0.5302, Test Acc: 0.5150, Train Loss: 0.7123, Test Loss: 0.7163\n",
      "Epoch: 570, Train Acc: 0.5302, Test Acc: 0.5150, Train Loss: 0.7092, Test Loss: 0.7153\n",
      "Epoch: 580, Train Acc: 0.5302, Test Acc: 0.5150, Train Loss: 0.7098, Test Loss: 0.7142\n",
      "Epoch: 590, Train Acc: 0.5302, Test Acc: 0.5150, Train Loss: 0.7062, Test Loss: 0.7132\n",
      "Epoch: 600, Train Acc: 0.5302, Test Acc: 0.5150, Train Loss: 0.7066, Test Loss: 0.7123\n",
      "Epoch: 610, Train Acc: 0.5302, Test Acc: 0.5150, Train Loss: 0.7058, Test Loss: 0.7113\n",
      "Epoch: 620, Train Acc: 0.5302, Test Acc: 0.5150, Train Loss: 0.7068, Test Loss: 0.7104\n",
      "Epoch: 630, Train Acc: 0.5302, Test Acc: 0.5150, Train Loss: 0.7041, Test Loss: 0.7097\n",
      "Epoch: 640, Train Acc: 0.5302, Test Acc: 0.5150, Train Loss: 0.7032, Test Loss: 0.7089\n",
      "Epoch: 650, Train Acc: 0.5302, Test Acc: 0.5150, Train Loss: 0.7015, Test Loss: 0.7080\n",
      "Epoch: 660, Train Acc: 0.5302, Test Acc: 0.5150, Train Loss: 0.7020, Test Loss: 0.7074\n",
      "Epoch: 670, Train Acc: 0.5302, Test Acc: 0.5150, Train Loss: 0.7023, Test Loss: 0.7068\n",
      "Epoch: 680, Train Acc: 0.5302, Test Acc: 0.5150, Train Loss: 0.7029, Test Loss: 0.7062\n",
      "Epoch: 690, Train Acc: 0.5302, Test Acc: 0.5150, Train Loss: 0.7034, Test Loss: 0.7056\n",
      "Epoch: 700, Train Acc: 0.5302, Test Acc: 0.5150, Train Loss: 0.6989, Test Loss: 0.7050\n",
      "Epoch: 710, Train Acc: 0.5302, Test Acc: 0.5150, Train Loss: 0.7008, Test Loss: 0.7044\n",
      "Epoch: 720, Train Acc: 0.5302, Test Acc: 0.5150, Train Loss: 0.6999, Test Loss: 0.7039\n",
      "Epoch: 730, Train Acc: 0.5302, Test Acc: 0.5150, Train Loss: 0.6991, Test Loss: 0.7034\n",
      "Epoch: 740, Train Acc: 0.5302, Test Acc: 0.5150, Train Loss: 0.7003, Test Loss: 0.7029\n",
      "Epoch: 750, Train Acc: 0.5302, Test Acc: 0.5150, Train Loss: 0.6987, Test Loss: 0.7024\n",
      "Epoch: 760, Train Acc: 0.5302, Test Acc: 0.5150, Train Loss: 0.6977, Test Loss: 0.7019\n",
      "Epoch: 770, Train Acc: 0.5302, Test Acc: 0.5150, Train Loss: 0.6977, Test Loss: 0.7014\n",
      "Epoch: 780, Train Acc: 0.5302, Test Acc: 0.5150, Train Loss: 0.6977, Test Loss: 0.7011\n",
      "Epoch: 790, Train Acc: 0.5302, Test Acc: 0.5150, Train Loss: 0.6977, Test Loss: 0.7007\n",
      "Epoch: 800, Train Acc: 0.5302, Test Acc: 0.5150, Train Loss: 0.6973, Test Loss: 0.7003\n",
      "Epoch: 810, Train Acc: 0.5302, Test Acc: 0.5150, Train Loss: 0.6969, Test Loss: 0.7000\n",
      "Epoch: 820, Train Acc: 0.5302, Test Acc: 0.5150, Train Loss: 0.6960, Test Loss: 0.6997\n",
      "Epoch: 830, Train Acc: 0.5302, Test Acc: 0.5150, Train Loss: 0.6961, Test Loss: 0.6995\n",
      "Epoch: 840, Train Acc: 0.5302, Test Acc: 0.5150, Train Loss: 0.6952, Test Loss: 0.6991\n",
      "Epoch: 850, Train Acc: 0.5302, Test Acc: 0.5150, Train Loss: 0.6954, Test Loss: 0.6988\n",
      "Epoch: 860, Train Acc: 0.5302, Test Acc: 0.5150, Train Loss: 0.6964, Test Loss: 0.6985\n",
      "Epoch: 870, Train Acc: 0.5302, Test Acc: 0.5150, Train Loss: 0.6945, Test Loss: 0.6983\n",
      "Epoch: 880, Train Acc: 0.5302, Test Acc: 0.5150, Train Loss: 0.6951, Test Loss: 0.6981\n",
      "Epoch: 890, Train Acc: 0.5302, Test Acc: 0.5150, Train Loss: 0.6958, Test Loss: 0.6978\n",
      "Epoch: 900, Train Acc: 0.5302, Test Acc: 0.5150, Train Loss: 0.6957, Test Loss: 0.6975\n",
      "Epoch: 910, Train Acc: 0.5302, Test Acc: 0.5150, Train Loss: 0.6949, Test Loss: 0.6973\n",
      "Epoch: 920, Train Acc: 0.5302, Test Acc: 0.5150, Train Loss: 0.6943, Test Loss: 0.6971\n",
      "Epoch: 930, Train Acc: 0.5302, Test Acc: 0.5150, Train Loss: 0.6935, Test Loss: 0.6969\n",
      "Epoch: 940, Train Acc: 0.5302, Test Acc: 0.5150, Train Loss: 0.6941, Test Loss: 0.6966\n",
      "Epoch: 950, Train Acc: 0.5302, Test Acc: 0.5150, Train Loss: 0.6940, Test Loss: 0.6964\n",
      "Epoch: 960, Train Acc: 0.5302, Test Acc: 0.5150, Train Loss: 0.6946, Test Loss: 0.6963\n",
      "Epoch: 970, Train Acc: 0.5302, Test Acc: 0.5150, Train Loss: 0.6933, Test Loss: 0.6962\n",
      "Epoch: 980, Train Acc: 0.5302, Test Acc: 0.5150, Train Loss: 0.6950, Test Loss: 0.6961\n",
      "Epoch: 990, Train Acc: 0.5302, Test Acc: 0.5150, Train Loss: 0.6932, Test Loss: 0.6959\n",
      "Epoch: 1000, Train Acc: 0.5302, Test Acc: 0.5150, Train Loss: 0.6939, Test Loss: 0.6958\n",
      "Epoch: 1010, Train Acc: 0.5302, Test Acc: 0.5150, Train Loss: 0.6940, Test Loss: 0.6957\n",
      "Epoch: 1020, Train Acc: 0.5302, Test Acc: 0.5150, Train Loss: 0.6932, Test Loss: 0.6955\n",
      "Epoch: 1030, Train Acc: 0.5302, Test Acc: 0.5150, Train Loss: 0.6932, Test Loss: 0.6954\n",
      "Epoch: 1040, Train Acc: 0.5302, Test Acc: 0.5150, Train Loss: 0.6936, Test Loss: 0.6953\n",
      "Epoch: 1050, Train Acc: 0.5302, Test Acc: 0.5150, Train Loss: 0.6930, Test Loss: 0.6952\n",
      "Epoch: 1060, Train Acc: 0.5302, Test Acc: 0.5150, Train Loss: 0.6934, Test Loss: 0.6950\n",
      "Epoch: 1070, Train Acc: 0.5302, Test Acc: 0.5150, Train Loss: 0.6924, Test Loss: 0.6949\n",
      "Epoch: 1080, Train Acc: 0.5302, Test Acc: 0.5150, Train Loss: 0.6941, Test Loss: 0.6948\n",
      "Epoch: 1090, Train Acc: 0.5302, Test Acc: 0.5150, Train Loss: 0.6927, Test Loss: 0.6947\n",
      "Epoch: 1100, Train Acc: 0.5302, Test Acc: 0.5150, Train Loss: 0.6922, Test Loss: 0.6946\n",
      "Epoch: 1110, Train Acc: 0.5302, Test Acc: 0.5150, Train Loss: 0.6941, Test Loss: 0.6945\n",
      "Epoch: 1120, Train Acc: 0.5302, Test Acc: 0.5150, Train Loss: 0.6932, Test Loss: 0.6944\n",
      "Epoch: 1130, Train Acc: 0.5302, Test Acc: 0.5150, Train Loss: 0.6921, Test Loss: 0.6943\n",
      "Epoch: 1140, Train Acc: 0.5302, Test Acc: 0.5150, Train Loss: 0.6924, Test Loss: 0.6942\n",
      "Epoch: 1150, Train Acc: 0.5302, Test Acc: 0.5150, Train Loss: 0.6924, Test Loss: 0.6941\n",
      "Epoch: 1160, Train Acc: 0.5302, Test Acc: 0.5150, Train Loss: 0.6925, Test Loss: 0.6941\n",
      "Epoch: 1170, Train Acc: 0.5302, Test Acc: 0.5150, Train Loss: 0.6929, Test Loss: 0.6940\n",
      "Epoch: 1180, Train Acc: 0.5302, Test Acc: 0.5150, Train Loss: 0.6925, Test Loss: 0.6939\n",
      "Epoch: 1190, Train Acc: 0.5302, Test Acc: 0.5150, Train Loss: 0.6922, Test Loss: 0.6939\n",
      "Epoch: 1200, Train Acc: 0.5302, Test Acc: 0.5150, Train Loss: 0.6922, Test Loss: 0.6939\n",
      "Epoch: 1210, Train Acc: 0.5302, Test Acc: 0.5150, Train Loss: 0.6930, Test Loss: 0.6938\n",
      "Epoch: 1220, Train Acc: 0.5302, Test Acc: 0.5150, Train Loss: 0.6933, Test Loss: 0.6938\n",
      "Epoch: 1230, Train Acc: 0.5302, Test Acc: 0.5150, Train Loss: 0.6917, Test Loss: 0.6937\n",
      "Epoch: 1240, Train Acc: 0.5302, Test Acc: 0.5150, Train Loss: 0.6929, Test Loss: 0.6937\n",
      "Epoch: 1250, Train Acc: 0.5302, Test Acc: 0.5150, Train Loss: 0.6921, Test Loss: 0.6937\n",
      "Epoch: 1260, Train Acc: 0.5302, Test Acc: 0.5150, Train Loss: 0.6916, Test Loss: 0.6936\n",
      "Epoch: 1270, Train Acc: 0.5302, Test Acc: 0.5150, Train Loss: 0.6929, Test Loss: 0.6935\n",
      "Epoch: 1280, Train Acc: 0.5302, Test Acc: 0.5150, Train Loss: 0.6925, Test Loss: 0.6935\n",
      "Epoch: 1290, Train Acc: 0.5302, Test Acc: 0.5150, Train Loss: 0.6926, Test Loss: 0.6934\n",
      "Epoch: 1300, Train Acc: 0.5302, Test Acc: 0.5150, Train Loss: 0.6926, Test Loss: 0.6934\n",
      "Epoch: 1310, Train Acc: 0.5302, Test Acc: 0.5150, Train Loss: 0.6918, Test Loss: 0.6933\n",
      "Epoch: 1320, Train Acc: 0.5302, Test Acc: 0.5150, Train Loss: 0.6927, Test Loss: 0.6933\n",
      "Epoch: 1330, Train Acc: 0.5302, Test Acc: 0.5150, Train Loss: 0.6922, Test Loss: 0.6933\n",
      "Epoch: 1340, Train Acc: 0.5302, Test Acc: 0.5150, Train Loss: 0.6922, Test Loss: 0.6932\n",
      "Epoch: 1350, Train Acc: 0.5302, Test Acc: 0.5150, Train Loss: 0.6925, Test Loss: 0.6932\n",
      "Epoch: 1360, Train Acc: 0.5302, Test Acc: 0.5150, Train Loss: 0.6924, Test Loss: 0.6932\n",
      "Epoch: 1370, Train Acc: 0.5302, Test Acc: 0.5150, Train Loss: 0.6920, Test Loss: 0.6931\n",
      "Epoch: 1380, Train Acc: 0.5302, Test Acc: 0.5150, Train Loss: 0.6918, Test Loss: 0.6930\n",
      "Epoch: 1390, Train Acc: 0.5302, Test Acc: 0.5150, Train Loss: 0.6918, Test Loss: 0.6930\n",
      "Epoch: 1400, Train Acc: 0.5302, Test Acc: 0.5150, Train Loss: 0.6923, Test Loss: 0.6930\n",
      "Epoch: 1410, Train Acc: 0.5302, Test Acc: 0.5150, Train Loss: 0.6917, Test Loss: 0.6929\n",
      "Epoch: 1420, Train Acc: 0.5302, Test Acc: 0.5150, Train Loss: 0.6917, Test Loss: 0.6929\n",
      "Epoch: 1430, Train Acc: 0.5302, Test Acc: 0.5150, Train Loss: 0.6922, Test Loss: 0.6928\n",
      "Epoch: 1440, Train Acc: 0.5302, Test Acc: 0.5150, Train Loss: 0.6908, Test Loss: 0.6928\n",
      "Epoch: 1450, Train Acc: 0.5302, Test Acc: 0.5150, Train Loss: 0.6914, Test Loss: 0.6927\n",
      "Epoch: 1460, Train Acc: 0.5302, Test Acc: 0.5150, Train Loss: 0.6913, Test Loss: 0.6927\n",
      "Epoch: 1470, Train Acc: 0.5302, Test Acc: 0.5150, Train Loss: 0.6919, Test Loss: 0.6927\n",
      "Epoch: 1480, Train Acc: 0.5302, Test Acc: 0.5150, Train Loss: 0.6919, Test Loss: 0.6926\n",
      "Epoch: 1490, Train Acc: 0.5302, Test Acc: 0.5150, Train Loss: 0.6916, Test Loss: 0.6926\n",
      "Epoch: 1500, Train Acc: 0.5302, Test Acc: 0.5150, Train Loss: 0.6909, Test Loss: 0.6926\n"
     ]
    },
    {
     "data": {
      "text/html": [
       "<style>\n",
       "    table.wandb td:nth-child(1) { padding: 0 10px; text-align: left ; width: auto;} td:nth-child(2) {text-align: left ; width: 100%}\n",
       "    .wandb-row { display: flex; flex-direction: row; flex-wrap: wrap; justify-content: flex-start; width: 100% }\n",
       "    .wandb-col { display: flex; flex-direction: column; flex-basis: 100%; flex: 1; padding: 10px; }\n",
       "    </style>\n",
       "<div class=\"wandb-row\"><div class=\"wandb-col\"><h3>Run history:</h3><br/><table class=\"wandb\"><tr><td>Test Accuracy</td><td>▁▁▁▁▁▁▁▁▁▁▁▁▁▁▁▁▁▁▁▁▁▁▁▁▁▁▁▁▁▁▁▁▁▁▁▁▁▁▁▁</td></tr><tr><td>Test F1</td><td>▁▁▁▁▁▁▁▁▁▁▁▁▁▁▁▁▁▁▁▁▁▁▁▁▁▁▁▁▁▁▁▁▁▁▁▁▁▁▁▁</td></tr><tr><td>Test Loss</td><td>█▆▆▅▄▄▄▃▃▃▂▂▂▂▂▂▁▁▁▁▁▁▁▁▁▁▁▁▁▁▁▁▁▁▁▁▁▁▁▁</td></tr><tr><td>Test Sensitivity</td><td>▁▁▁▁▁▁▁▁▁▁▁▁▁▁▁▁▁▁▁▁▁▁▁▁▁▁▁▁▁▁▁▁▁▁▁▁▁▁▁▁</td></tr><tr><td>Test Specificity</td><td>▁▁▁▁▁▁▁▁▁▁▁▁▁▁▁▁▁▁▁▁▁▁▁▁▁▁▁▁▁▁▁▁▁▁▁▁▁▁▁▁</td></tr><tr><td>Train Accuracy</td><td>▁▁▁▁▁▁▁▁▁▁▁▁▁▁▁▁▁▁▁▁▁▁▁▁▁▁▁▁▁▁▁▁▁▁▁▁▁▁▁▁</td></tr><tr><td>Train F1</td><td>▁▁▁▁▁▁▁▁▁▁▁▁▁▁▁▁▁▁▁▁▁▁▁▁▁▁▁▁▁▁▁▁▁▁▁▁▁▁▁▁</td></tr><tr><td>Train Loss</td><td>█▆▅▅▄▄▃▃▃▂▂▂▂▂▂▂▁▁▁▁▁▁▁▁▁▁▁▁▁▁▁▁▁▁▁▁▁▁▁▁</td></tr><tr><td>Train Sensitivity</td><td>▁▁▁▁▁▁▁▁▁▁▁▁▁▁▁▁▁▁▁▁▁▁▁▁▁▁▁▁▁▁▁▁▁▁▁▁▁▁▁▁</td></tr><tr><td>Train Specificity</td><td>▁▁▁▁▁▁▁▁▁▁▁▁▁▁▁▁▁▁▁▁▁▁▁▁▁▁▁▁▁▁▁▁▁▁▁▁▁▁▁▁</td></tr></table><br/></div><div class=\"wandb-col\"><h3>Run summary:</h3><br/><table class=\"wandb\"><tr><td>Test Accuracy</td><td>0.515</td></tr><tr><td>Test F1</td><td>0.67987</td></tr><tr><td>Test Loss</td><td>0.69258</td></tr><tr><td>Test Sensitivity</td><td>1.0</td></tr><tr><td>Test Specificity</td><td>0.0</td></tr><tr><td>Train Accuracy</td><td>0.53017</td></tr><tr><td>Train F1</td><td>0.69296</td></tr><tr><td>Train Loss</td><td>0.69093</td></tr><tr><td>Train Sensitivity</td><td>1.0</td></tr><tr><td>Train Specificity</td><td>0.0</td></tr></table><br/></div></div>"
      ],
      "text/plain": [
       "<IPython.core.display.HTML object>"
      ]
     },
     "metadata": {},
     "output_type": "display_data"
    },
    {
     "data": {
      "text/html": [
       " View run <strong style=\"color:#cdcd00\">earnest-sweep-1</strong> at: <a href='https://wandb.ai/dylan-home/pnca-singletons-sweep/runs/0d3zqy3j' target=\"_blank\">https://wandb.ai/dylan-home/pnca-singletons-sweep/runs/0d3zqy3j</a><br/>Synced 5 W&B file(s), 0 media file(s), 0 artifact file(s) and 0 other file(s)"
      ],
      "text/plain": [
       "<IPython.core.display.HTML object>"
      ]
     },
     "metadata": {},
     "output_type": "display_data"
    },
    {
     "data": {
      "text/html": [
       "Find logs at: <code>./wandb/run-20250206_171835-0d3zqy3j/logs</code>"
      ],
      "text/plain": [
       "<IPython.core.display.HTML object>"
      ]
     },
     "metadata": {},
     "output_type": "display_data"
    },
    {
     "name": "stderr",
     "output_type": "stream",
     "text": [
      "\u001b[34m\u001b[1mwandb\u001b[0m: Agent Starting Run: 8qri6whe with config:\n",
      "\u001b[34m\u001b[1mwandb\u001b[0m: \tcutoff_distance: 12.353278292838937\n",
      "\u001b[34m\u001b[1mwandb\u001b[0m: \tdropout: 0.5\n",
      "\u001b[34m\u001b[1mwandb\u001b[0m: \thidden_channels: 256\n",
      "\u001b[34m\u001b[1mwandb\u001b[0m: \tlearning_rate: 8.298650305704545e-06\n",
      "\u001b[34m\u001b[1mwandb\u001b[0m: \tweight_decay: 7.727779621645622e-07\n",
      "Failed to detect the name of this notebook, you can set it manually with the WANDB_NOTEBOOK_NAME environment variable to enable code saving.\n"
     ]
    },
    {
     "data": {
      "text/html": [
       "wandb version 0.19.6 is available!  To upgrade, please run:\n",
       " $ pip install wandb --upgrade"
      ],
      "text/plain": [
       "<IPython.core.display.HTML object>"
      ]
     },
     "metadata": {},
     "output_type": "display_data"
    },
    {
     "data": {
      "text/html": [
       "Tracking run with wandb version 0.16.4"
      ],
      "text/plain": [
       "<IPython.core.display.HTML object>"
      ]
     },
     "metadata": {},
     "output_type": "display_data"
    },
    {
     "data": {
      "text/html": [
       "Run data is saved locally in <code>/Users/dylandissanayake/Desktop/DPhil/Comp Disc/Repositories/tb-pnca-gnn/dd_pnca/wandb/run-20250206_172508-8qri6whe</code>"
      ],
      "text/plain": [
       "<IPython.core.display.HTML object>"
      ]
     },
     "metadata": {},
     "output_type": "display_data"
    },
    {
     "data": {
      "text/html": [
       "Syncing run <strong><a href='https://wandb.ai/dylan-home/pnca-singletons-sweep/runs/8qri6whe' target=\"_blank\">golden-sweep-2</a></strong> to <a href='https://wandb.ai/dylan-home/pnca-singletons-sweep' target=\"_blank\">Weights & Biases</a> (<a href='https://wandb.me/run' target=\"_blank\">docs</a>)<br/>Sweep page: <a href='https://wandb.ai/dylan-home/pnca-singletons-sweep/sweeps/i8r2s0bc' target=\"_blank\">https://wandb.ai/dylan-home/pnca-singletons-sweep/sweeps/i8r2s0bc</a>"
      ],
      "text/plain": [
       "<IPython.core.display.HTML object>"
      ]
     },
     "metadata": {},
     "output_type": "display_data"
    },
    {
     "data": {
      "text/html": [
       " View project at <a href='https://wandb.ai/dylan-home/pnca-singletons-sweep' target=\"_blank\">https://wandb.ai/dylan-home/pnca-singletons-sweep</a>"
      ],
      "text/plain": [
       "<IPython.core.display.HTML object>"
      ]
     },
     "metadata": {},
     "output_type": "display_data"
    },
    {
     "data": {
      "text/html": [
       " View sweep at <a href='https://wandb.ai/dylan-home/pnca-singletons-sweep/sweeps/i8r2s0bc' target=\"_blank\">https://wandb.ai/dylan-home/pnca-singletons-sweep/sweeps/i8r2s0bc</a>"
      ],
      "text/plain": [
       "<IPython.core.display.HTML object>"
      ]
     },
     "metadata": {},
     "output_type": "display_data"
    },
    {
     "data": {
      "text/html": [
       " View run at <a href='https://wandb.ai/dylan-home/pnca-singletons-sweep/runs/8qri6whe' target=\"_blank\">https://wandb.ai/dylan-home/pnca-singletons-sweep/runs/8qri6whe</a>"
      ],
      "text/plain": [
       "<IPython.core.display.HTML object>"
      ]
     },
     "metadata": {},
     "output_type": "display_data"
    },
    {
     "name": "stdout",
     "output_type": "stream",
     "text": [
      "Adjusting edge index and attaching edge weights for cutoff distance 12.353278292838937\n",
      "Early stopping enabled. Patience: 20. Min Delta: 0.\n",
      "Epoch: 010, Train Acc: 0.4698, Test Acc: 0.4850, Train Loss: 1.4859, Test Loss: 1.4424\n",
      "Epoch: 020, Train Acc: 0.5539, Test Acc: 0.5650, Train Loss: 0.6985, Test Loss: 0.6958\n",
      "Epoch: 030, Train Acc: 0.4957, Test Acc: 0.4700, Train Loss: 0.6890, Test Loss: 0.6926\n",
      "Epoch: 040, Train Acc: 0.5280, Test Acc: 0.5150, Train Loss: 0.6937, Test Loss: 0.6997\n",
      "Epoch: 050, Train Acc: 0.4935, Test Acc: 0.4600, Train Loss: 0.6832, Test Loss: 0.6859\n",
      "Epoch: 060, Train Acc: 0.5000, Test Acc: 0.4700, Train Loss: 0.6815, Test Loss: 0.6850\n",
      "Epoch: 070, Train Acc: 0.5280, Test Acc: 0.5100, Train Loss: 0.6833, Test Loss: 0.6905\n",
      "Epoch: 080, Train Acc: 0.5043, Test Acc: 0.4950, Train Loss: 0.6779, Test Loss: 0.6805\n",
      "Epoch: 090, Train Acc: 0.5259, Test Acc: 0.4800, Train Loss: 0.6756, Test Loss: 0.6795\n",
      "Epoch: 100, Train Acc: 0.5323, Test Acc: 0.4850, Train Loss: 0.6751, Test Loss: 0.6798\n",
      "Epoch: 110, Train Acc: 0.5970, Test Acc: 0.6050, Train Loss: 0.6721, Test Loss: 0.6749\n",
      "Epoch: 120, Train Acc: 0.5409, Test Acc: 0.5000, Train Loss: 0.6702, Test Loss: 0.6776\n",
      "Epoch: 130, Train Acc: 0.5496, Test Acc: 0.4850, Train Loss: 0.6686, Test Loss: 0.6742\n",
      "Epoch: 140, Train Acc: 0.5517, Test Acc: 0.5650, Train Loss: 0.6649, Test Loss: 0.6711\n",
      "Epoch: 150, Train Acc: 0.5517, Test Acc: 0.4950, Train Loss: 0.6650, Test Loss: 0.6733\n",
      "Epoch: 160, Train Acc: 0.5991, Test Acc: 0.6100, Train Loss: 0.6606, Test Loss: 0.6672\n",
      "Epoch: 170, Train Acc: 0.5711, Test Acc: 0.5700, Train Loss: 0.6588, Test Loss: 0.6664\n",
      "Epoch: 180, Train Acc: 0.5668, Test Acc: 0.5750, Train Loss: 0.6562, Test Loss: 0.6661\n",
      "Epoch: 190, Train Acc: 0.5711, Test Acc: 0.5850, Train Loss: 0.6538, Test Loss: 0.6635\n",
      "Epoch: 200, Train Acc: 0.6013, Test Acc: 0.6050, Train Loss: 0.6528, Test Loss: 0.6620\n",
      "Epoch: 210, Train Acc: 0.5668, Test Acc: 0.5250, Train Loss: 0.6535, Test Loss: 0.6674\n",
      "Epoch: 220, Train Acc: 0.6034, Test Acc: 0.5900, Train Loss: 0.6501, Test Loss: 0.6601\n",
      "Epoch: 230, Train Acc: 0.6573, Test Acc: 0.6100, Train Loss: 0.6503, Test Loss: 0.6589\n",
      "Epoch: 240, Train Acc: 0.5668, Test Acc: 0.5850, Train Loss: 0.6465, Test Loss: 0.6597\n",
      "Epoch: 250, Train Acc: 0.5754, Test Acc: 0.5700, Train Loss: 0.6435, Test Loss: 0.6592\n",
      "Epoch: 260, Train Acc: 0.5841, Test Acc: 0.5650, Train Loss: 0.6431, Test Loss: 0.6594\n",
      "Epoch: 270, Train Acc: 0.5647, Test Acc: 0.5750, Train Loss: 0.6412, Test Loss: 0.6558\n",
      "Epoch: 280, Train Acc: 0.6681, Test Acc: 0.6000, Train Loss: 0.6384, Test Loss: 0.6536\n",
      "Epoch: 290, Train Acc: 0.5668, Test Acc: 0.5750, Train Loss: 0.6380, Test Loss: 0.6541\n",
      "Epoch: 300, Train Acc: 0.6681, Test Acc: 0.6050, Train Loss: 0.6352, Test Loss: 0.6515\n",
      "Epoch: 310, Train Acc: 0.6185, Test Acc: 0.6000, Train Loss: 0.6328, Test Loss: 0.6513\n",
      "Epoch: 320, Train Acc: 0.6422, Test Acc: 0.6050, Train Loss: 0.6304, Test Loss: 0.6500\n",
      "Epoch: 330, Train Acc: 0.6595, Test Acc: 0.6150, Train Loss: 0.6279, Test Loss: 0.6488\n",
      "Epoch: 340, Train Acc: 0.6164, Test Acc: 0.6050, Train Loss: 0.6272, Test Loss: 0.6490\n",
      "Epoch: 350, Train Acc: 0.6078, Test Acc: 0.5900, Train Loss: 0.6253, Test Loss: 0.6487\n",
      "Epoch: 360, Train Acc: 0.5948, Test Acc: 0.5850, Train Loss: 0.6251, Test Loss: 0.6485\n",
      "Epoch: 370, Train Acc: 0.6659, Test Acc: 0.6150, Train Loss: 0.6228, Test Loss: 0.6451\n",
      "Epoch: 380, Train Acc: 0.6552, Test Acc: 0.6100, Train Loss: 0.6187, Test Loss: 0.6444\n",
      "Epoch: 390, Train Acc: 0.6595, Test Acc: 0.6100, Train Loss: 0.6184, Test Loss: 0.6436\n",
      "Epoch: 400, Train Acc: 0.6746, Test Acc: 0.6300, Train Loss: 0.6161, Test Loss: 0.6420\n",
      "Epoch: 410, Train Acc: 0.6509, Test Acc: 0.6150, Train Loss: 0.6154, Test Loss: 0.6427\n",
      "Epoch: 420, Train Acc: 0.6616, Test Acc: 0.6100, Train Loss: 0.6106, Test Loss: 0.6406\n",
      "Epoch: 430, Train Acc: 0.6789, Test Acc: 0.6300, Train Loss: 0.6115, Test Loss: 0.6394\n",
      "Epoch: 440, Train Acc: 0.6724, Test Acc: 0.6150, Train Loss: 0.6083, Test Loss: 0.6384\n",
      "Epoch: 450, Train Acc: 0.6703, Test Acc: 0.6250, Train Loss: 0.6095, Test Loss: 0.6369\n",
      "Epoch: 460, Train Acc: 0.6746, Test Acc: 0.6150, Train Loss: 0.6060, Test Loss: 0.6361\n",
      "Epoch: 470, Train Acc: 0.6724, Test Acc: 0.6350, Train Loss: 0.6040, Test Loss: 0.6350\n",
      "Epoch: 480, Train Acc: 0.6767, Test Acc: 0.6100, Train Loss: 0.6016, Test Loss: 0.6346\n",
      "Epoch: 490, Train Acc: 0.6767, Test Acc: 0.6150, Train Loss: 0.5986, Test Loss: 0.6335\n",
      "Epoch: 500, Train Acc: 0.6853, Test Acc: 0.6300, Train Loss: 0.5993, Test Loss: 0.6324\n",
      "Epoch: 510, Train Acc: 0.6832, Test Acc: 0.6250, Train Loss: 0.5962, Test Loss: 0.6315\n",
      "Epoch: 520, Train Acc: 0.6509, Test Acc: 0.6050, Train Loss: 0.5936, Test Loss: 0.6348\n",
      "Epoch: 530, Train Acc: 0.6789, Test Acc: 0.6250, Train Loss: 0.5926, Test Loss: 0.6301\n",
      "Epoch: 540, Train Acc: 0.6789, Test Acc: 0.6150, Train Loss: 0.5900, Test Loss: 0.6311\n",
      "Epoch: 550, Train Acc: 0.6853, Test Acc: 0.6250, Train Loss: 0.5885, Test Loss: 0.6280\n",
      "Epoch: 560, Train Acc: 0.6810, Test Acc: 0.6200, Train Loss: 0.5883, Test Loss: 0.6278\n",
      "Epoch: 570, Train Acc: 0.6897, Test Acc: 0.6100, Train Loss: 0.5847, Test Loss: 0.6279\n",
      "Epoch: 580, Train Acc: 0.6703, Test Acc: 0.6200, Train Loss: 0.5862, Test Loss: 0.6286\n",
      "Epoch: 590, Train Acc: 0.6853, Test Acc: 0.6150, Train Loss: 0.5798, Test Loss: 0.6264\n",
      "Epoch: 600, Train Acc: 0.6595, Test Acc: 0.6050, Train Loss: 0.5831, Test Loss: 0.6290\n",
      "Epoch: 610, Train Acc: 0.7004, Test Acc: 0.6300, Train Loss: 0.5775, Test Loss: 0.6216\n",
      "Epoch: 620, Train Acc: 0.7004, Test Acc: 0.6300, Train Loss: 0.5759, Test Loss: 0.6222\n",
      "Epoch: 630, Train Acc: 0.7026, Test Acc: 0.6350, Train Loss: 0.5748, Test Loss: 0.6192\n",
      "Epoch: 640, Train Acc: 0.7091, Test Acc: 0.6350, Train Loss: 0.5762, Test Loss: 0.6181\n",
      "Epoch: 650, Train Acc: 0.6961, Test Acc: 0.6250, Train Loss: 0.5704, Test Loss: 0.6199\n",
      "Epoch: 660, Train Acc: 0.7004, Test Acc: 0.6250, Train Loss: 0.5693, Test Loss: 0.6191\n",
      "Epoch: 670, Train Acc: 0.7155, Test Acc: 0.6400, Train Loss: 0.5679, Test Loss: 0.6154\n",
      "Epoch: 680, Train Acc: 0.7069, Test Acc: 0.6400, Train Loss: 0.5693, Test Loss: 0.6142\n",
      "Epoch: 690, Train Acc: 0.7177, Test Acc: 0.6350, Train Loss: 0.5693, Test Loss: 0.6140\n",
      "Epoch: 700, Train Acc: 0.7155, Test Acc: 0.6400, Train Loss: 0.5632, Test Loss: 0.6124\n",
      "Epoch: 710, Train Acc: 0.7134, Test Acc: 0.6450, Train Loss: 0.5610, Test Loss: 0.6116\n",
      "Epoch: 720, Train Acc: 0.7155, Test Acc: 0.6300, Train Loss: 0.5604, Test Loss: 0.6107\n",
      "Epoch: 730, Train Acc: 0.7134, Test Acc: 0.6300, Train Loss: 0.5602, Test Loss: 0.6102\n",
      "Epoch: 740, Train Acc: 0.7177, Test Acc: 0.6300, Train Loss: 0.5601, Test Loss: 0.6090\n",
      "Epoch: 750, Train Acc: 0.7220, Test Acc: 0.6450, Train Loss: 0.5598, Test Loss: 0.6101\n",
      "Epoch: 760, Train Acc: 0.7263, Test Acc: 0.6350, Train Loss: 0.5600, Test Loss: 0.6080\n",
      "Epoch: 770, Train Acc: 0.7220, Test Acc: 0.6350, Train Loss: 0.5531, Test Loss: 0.6066\n",
      "Epoch: 780, Train Acc: 0.7134, Test Acc: 0.6550, Train Loss: 0.5511, Test Loss: 0.6072\n",
      "Epoch: 790, Train Acc: 0.7284, Test Acc: 0.6300, Train Loss: 0.5532, Test Loss: 0.6057\n",
      "Epoch: 800, Train Acc: 0.7134, Test Acc: 0.6550, Train Loss: 0.5494, Test Loss: 0.6065\n",
      "Epoch: 810, Train Acc: 0.7069, Test Acc: 0.6650, Train Loss: 0.5511, Test Loss: 0.6083\n",
      "Epoch: 820, Train Acc: 0.7198, Test Acc: 0.6450, Train Loss: 0.5485, Test Loss: 0.6044\n",
      "Epoch: 830, Train Acc: 0.7198, Test Acc: 0.6550, Train Loss: 0.5473, Test Loss: 0.6046\n",
      "Epoch: 840, Train Acc: 0.7241, Test Acc: 0.6400, Train Loss: 0.5460, Test Loss: 0.6028\n",
      "Epoch: 850, Train Acc: 0.7220, Test Acc: 0.6500, Train Loss: 0.5432, Test Loss: 0.6029\n",
      "Epoch: 860, Train Acc: 0.7220, Test Acc: 0.6650, Train Loss: 0.5428, Test Loss: 0.6037\n",
      "Epoch: 870, Train Acc: 0.7263, Test Acc: 0.6400, Train Loss: 0.5457, Test Loss: 0.6011\n",
      "Epoch: 880, Train Acc: 0.7328, Test Acc: 0.6500, Train Loss: 0.5422, Test Loss: 0.6004\n",
      "Epoch: 890, Train Acc: 0.7220, Test Acc: 0.6550, Train Loss: 0.5416, Test Loss: 0.6021\n",
      "Epoch: 900, Train Acc: 0.7371, Test Acc: 0.6600, Train Loss: 0.5396, Test Loss: 0.5997\n",
      "Epoch: 910, Train Acc: 0.7241, Test Acc: 0.6550, Train Loss: 0.5405, Test Loss: 0.5992\n",
      "Epoch: 920, Train Acc: 0.7284, Test Acc: 0.6550, Train Loss: 0.5405, Test Loss: 0.5986\n",
      "Epoch: 930, Train Acc: 0.7284, Test Acc: 0.6550, Train Loss: 0.5351, Test Loss: 0.5983\n",
      "Epoch: 940, Train Acc: 0.7177, Test Acc: 0.6600, Train Loss: 0.5367, Test Loss: 0.6023\n",
      "Epoch: 950, Train Acc: 0.7263, Test Acc: 0.6700, Train Loss: 0.5329, Test Loss: 0.6007\n",
      "20 epochs passed without 0 test loss improvement. \n",
      "Early stopping triggered.\n"
     ]
    },
    {
     "data": {
      "text/html": [
       "<style>\n",
       "    table.wandb td:nth-child(1) { padding: 0 10px; text-align: left ; width: auto;} td:nth-child(2) {text-align: left ; width: 100%}\n",
       "    .wandb-row { display: flex; flex-direction: row; flex-wrap: wrap; justify-content: flex-start; width: 100% }\n",
       "    .wandb-col { display: flex; flex-direction: column; flex-basis: 100%; flex: 1; padding: 10px; }\n",
       "    </style>\n",
       "<div class=\"wandb-row\"><div class=\"wandb-col\"><h3>Run history:</h3><br/><table class=\"wandb\"><tr><td>Test Accuracy</td><td>▂▁▃▃▃▅▃▅▆▅▅▅▆▆▆▆▆▅▆▆▆▆▇▆▇▆▇▇▇▇▇▆▇▇▇▇▇▇▇█</td></tr><tr><td>Test F1</td><td>▁▇█▇███████▇▇▇█▇▇▇▇▇▇▇▇▇▇▇▇▇▇██▇▇██▇▇█▇█</td></tr><tr><td>Test Loss</td><td>█▁▁▁▁▁▁▁▁▁▁▁▁▁▁▁▁▁▁▁▁▁▁▁▁▁▁▁▁▁▁▁▁▁▁▁▁▁▁▁</td></tr><tr><td>Test Sensitivity</td><td>▁▇█▇█▇█▇▆▇▇▆▆▆▆▆▆▆▅▅▅▅▅▅▅▆▅▅▅▆▆▅▅▆▆▅▅▆▅▆</td></tr><tr><td>Test Specificity</td><td>█▁▁▂▁▃▁▃▄▃▄▄▅▅▄▅▅▄▅▅▅▆▆▅▆▅▆▆▆▆▆▆▆▆▆▆▇▆▆▆</td></tr><tr><td>Train Accuracy</td><td>▁▁▂▂▃▃▃▄▄▄▃▄▅▆▅▆▆▅▆▇▆▇▇▇▇▇▇▇▇▇▇█▇▇▇█████</td></tr><tr><td>Train F1</td><td>▁▇█▇█▇█▇▇█▇▇▇▇▇█▇▇██████████████████████</td></tr><tr><td>Train Loss</td><td>█▂▂▂▂▂▂▂▁▁▁▁▁▁▁▁▁▁▁▁▁▁▁▁▁▁▁▁▁▁▁▁▁▁▁▁▁▁▁▁</td></tr><tr><td>Train Sensitivity</td><td>▁▇█▇█▇█▇▆▇▆▆▆▆▆▆▆▆▆▆▆▅▆▆▅▆▅▅▅▆▆▅▆▆▆▆▅▆▆▆</td></tr><tr><td>Train Specificity</td><td>█▁▁▂▁▃▂▃▄▃▃▄▅▅▅▆▅▅▆▆▆▆▆▆▆▆▆▇▇▆▆▇▆▆▆▇▇▆▇▆</td></tr></table><br/></div><div class=\"wandb-col\"><h3>Run summary:</h3><br/><table class=\"wandb\"><tr><td>Test Accuracy</td><td>0.66</td></tr><tr><td>Test F1</td><td>0.66337</td></tr><tr><td>Test Loss</td><td>0.59762</td></tr><tr><td>Test Sensitivity</td><td>0.65049</td></tr><tr><td>Test Specificity</td><td>0.6701</td></tr><tr><td>Train Accuracy</td><td>0.72845</td></tr><tr><td>Train F1</td><td>0.72124</td></tr><tr><td>Train Loss</td><td>0.53197</td></tr><tr><td>Train Sensitivity</td><td>0.6626</td></tr><tr><td>Train Specificity</td><td>0.80275</td></tr></table><br/></div></div>"
      ],
      "text/plain": [
       "<IPython.core.display.HTML object>"
      ]
     },
     "metadata": {},
     "output_type": "display_data"
    },
    {
     "data": {
      "text/html": [
       " View run <strong style=\"color:#cdcd00\">golden-sweep-2</strong> at: <a href='https://wandb.ai/dylan-home/pnca-singletons-sweep/runs/8qri6whe' target=\"_blank\">https://wandb.ai/dylan-home/pnca-singletons-sweep/runs/8qri6whe</a><br/>Synced 5 W&B file(s), 0 media file(s), 0 artifact file(s) and 0 other file(s)"
      ],
      "text/plain": [
       "<IPython.core.display.HTML object>"
      ]
     },
     "metadata": {},
     "output_type": "display_data"
    },
    {
     "data": {
      "text/html": [
       "Find logs at: <code>./wandb/run-20250206_172508-8qri6whe/logs</code>"
      ],
      "text/plain": [
       "<IPython.core.display.HTML object>"
      ]
     },
     "metadata": {},
     "output_type": "display_data"
    },
    {
     "name": "stderr",
     "output_type": "stream",
     "text": [
      "\u001b[34m\u001b[1mwandb\u001b[0m: Agent Starting Run: f0y1pkbn with config:\n",
      "\u001b[34m\u001b[1mwandb\u001b[0m: \tcutoff_distance: 10.53524026570049\n",
      "\u001b[34m\u001b[1mwandb\u001b[0m: \tdropout: 0.6\n",
      "\u001b[34m\u001b[1mwandb\u001b[0m: \thidden_channels: 32\n",
      "\u001b[34m\u001b[1mwandb\u001b[0m: \tlearning_rate: 2.4086981980086892e-09\n",
      "\u001b[34m\u001b[1mwandb\u001b[0m: \tweight_decay: 1.364981247628898e-06\n",
      "Failed to detect the name of this notebook, you can set it manually with the WANDB_NOTEBOOK_NAME environment variable to enable code saving.\n"
     ]
    },
    {
     "data": {
      "text/html": [
       "wandb version 0.19.6 is available!  To upgrade, please run:\n",
       " $ pip install wandb --upgrade"
      ],
      "text/plain": [
       "<IPython.core.display.HTML object>"
      ]
     },
     "metadata": {},
     "output_type": "display_data"
    },
    {
     "data": {
      "text/html": [
       "Tracking run with wandb version 0.16.4"
      ],
      "text/plain": [
       "<IPython.core.display.HTML object>"
      ]
     },
     "metadata": {},
     "output_type": "display_data"
    },
    {
     "data": {
      "text/html": [
       "Run data is saved locally in <code>/Users/dylandissanayake/Desktop/DPhil/Comp Disc/Repositories/tb-pnca-gnn/dd_pnca/wandb/run-20250206_182727-f0y1pkbn</code>"
      ],
      "text/plain": [
       "<IPython.core.display.HTML object>"
      ]
     },
     "metadata": {},
     "output_type": "display_data"
    },
    {
     "data": {
      "text/html": [
       "Syncing run <strong><a href='https://wandb.ai/dylan-home/pnca-singletons-sweep/runs/f0y1pkbn' target=\"_blank\">earnest-sweep-3</a></strong> to <a href='https://wandb.ai/dylan-home/pnca-singletons-sweep' target=\"_blank\">Weights & Biases</a> (<a href='https://wandb.me/run' target=\"_blank\">docs</a>)<br/>Sweep page: <a href='https://wandb.ai/dylan-home/pnca-singletons-sweep/sweeps/i8r2s0bc' target=\"_blank\">https://wandb.ai/dylan-home/pnca-singletons-sweep/sweeps/i8r2s0bc</a>"
      ],
      "text/plain": [
       "<IPython.core.display.HTML object>"
      ]
     },
     "metadata": {},
     "output_type": "display_data"
    },
    {
     "data": {
      "text/html": [
       " View project at <a href='https://wandb.ai/dylan-home/pnca-singletons-sweep' target=\"_blank\">https://wandb.ai/dylan-home/pnca-singletons-sweep</a>"
      ],
      "text/plain": [
       "<IPython.core.display.HTML object>"
      ]
     },
     "metadata": {},
     "output_type": "display_data"
    },
    {
     "data": {
      "text/html": [
       " View sweep at <a href='https://wandb.ai/dylan-home/pnca-singletons-sweep/sweeps/i8r2s0bc' target=\"_blank\">https://wandb.ai/dylan-home/pnca-singletons-sweep/sweeps/i8r2s0bc</a>"
      ],
      "text/plain": [
       "<IPython.core.display.HTML object>"
      ]
     },
     "metadata": {},
     "output_type": "display_data"
    },
    {
     "data": {
      "text/html": [
       " View run at <a href='https://wandb.ai/dylan-home/pnca-singletons-sweep/runs/f0y1pkbn' target=\"_blank\">https://wandb.ai/dylan-home/pnca-singletons-sweep/runs/f0y1pkbn</a>"
      ],
      "text/plain": [
       "<IPython.core.display.HTML object>"
      ]
     },
     "metadata": {},
     "output_type": "display_data"
    },
    {
     "name": "stdout",
     "output_type": "stream",
     "text": [
      "Adjusting edge index and attaching edge weights for cutoff distance 10.53524026570049\n",
      "Early stopping enabled. Patience: 20. Min Delta: 0.\n",
      "Epoch: 010, Train Acc: 0.5302, Test Acc: 0.5150, Train Loss: 1.7948, Test Loss: 1.8359\n",
      "Epoch: 020, Train Acc: 0.5302, Test Acc: 0.5150, Train Loss: 1.2825, Test Loss: 1.3127\n",
      "Epoch: 030, Train Acc: 0.5302, Test Acc: 0.5150, Train Loss: 1.2268, Test Loss: 1.2585\n",
      "Epoch: 040, Train Acc: 0.5302, Test Acc: 0.5150, Train Loss: 1.2181, Test Loss: 1.2519\n",
      "Epoch: 050, Train Acc: 0.5302, Test Acc: 0.5150, Train Loss: 1.2188, Test Loss: 1.2513\n",
      "Epoch: 060, Train Acc: 0.5302, Test Acc: 0.5150, Train Loss: 1.2226, Test Loss: 1.2510\n",
      "Epoch: 070, Train Acc: 0.5302, Test Acc: 0.5150, Train Loss: 1.2205, Test Loss: 1.2510\n",
      "Epoch: 080, Train Acc: 0.5302, Test Acc: 0.5150, Train Loss: 1.2064, Test Loss: 1.2511\n",
      "20 epochs passed without 0 test loss improvement. \n",
      "Early stopping triggered.\n"
     ]
    },
    {
     "data": {
      "text/html": [
       "<style>\n",
       "    table.wandb td:nth-child(1) { padding: 0 10px; text-align: left ; width: auto;} td:nth-child(2) {text-align: left ; width: 100%}\n",
       "    .wandb-row { display: flex; flex-direction: row; flex-wrap: wrap; justify-content: flex-start; width: 100% }\n",
       "    .wandb-col { display: flex; flex-direction: column; flex-basis: 100%; flex: 1; padding: 10px; }\n",
       "    </style>\n",
       "<div class=\"wandb-row\"><div class=\"wandb-col\"><h3>Run history:</h3><br/><table class=\"wandb\"><tr><td>Test Accuracy</td><td>▁▁▁▁▁▁▁▁▁▁▁▁▁▁▁▁▁▁▁▁▁▁▁▁▁▁▁▁▁▁▁▁▁▁▁▁▁▁▁▁</td></tr><tr><td>Test F1</td><td>▁▁▁▁▁▁▁▁▁▁▁▁▁▁▁▁▁▁▁▁▁▁▁▁▁▁▁▁▁▁▁▁▁▁▁▁▁▁▁▁</td></tr><tr><td>Test Loss</td><td>█▅▃▂▂▂▁▁▁▁▁▁▁▁▁▁▁▁▁▁▁▁▁▁▁▁▁▁▁▁▁▁▁▁▁▁▁▁▁▁</td></tr><tr><td>Test Sensitivity</td><td>▁▁▁▁▁▁▁▁▁▁▁▁▁▁▁▁▁▁▁▁▁▁▁▁▁▁▁▁▁▁▁▁▁▁▁▁▁▁▁▁</td></tr><tr><td>Test Specificity</td><td>▁▁▁▁▁▁▁▁▁▁▁▁▁▁▁▁▁▁▁▁▁▁▁▁▁▁▁▁▁▁▁▁▁▁▁▁▁▁▁▁</td></tr><tr><td>Train Accuracy</td><td>▁▁▁▁▁▁▁▁▁▁▁▁▁▁▁▁▁▁▁▁▁▁▁▁▁▁▁▁▁▁▁▁▁▁▁▁▁▁▁▁</td></tr><tr><td>Train F1</td><td>▁▁▁▁▁▁▁▁▁▁▁▁▁▁▁▁▁▁▁▁▁▁▁▁▁▁▁▁▁▁▁▁▁▁▁▁▁▁▁▁</td></tr><tr><td>Train Loss</td><td>█▅▃▂▂▂▁▁▁▁▁▁▁▁▁▁▁▁▁▁▁▁▁▁▁▁▁▁▁▁▁▁▁▁▁▁▁▁▁▁</td></tr><tr><td>Train Sensitivity</td><td>▁▁▁▁▁▁▁▁▁▁▁▁▁▁▁▁▁▁▁▁▁▁▁▁▁▁▁▁▁▁▁▁▁▁▁▁▁▁▁▁</td></tr><tr><td>Train Specificity</td><td>▁▁▁▁▁▁▁▁▁▁▁▁▁▁▁▁▁▁▁▁▁▁▁▁▁▁▁▁▁▁▁▁▁▁▁▁▁▁▁▁</td></tr></table><br/></div><div class=\"wandb-col\"><h3>Run summary:</h3><br/><table class=\"wandb\"><tr><td>Test Accuracy</td><td>0.515</td></tr><tr><td>Test F1</td><td>0.67987</td></tr><tr><td>Test Loss</td><td>1.2511</td></tr><tr><td>Test Sensitivity</td><td>1.0</td></tr><tr><td>Test Specificity</td><td>0.0</td></tr><tr><td>Train Accuracy</td><td>0.53017</td></tr><tr><td>Train F1</td><td>0.69296</td></tr><tr><td>Train Loss</td><td>1.20642</td></tr><tr><td>Train Sensitivity</td><td>1.0</td></tr><tr><td>Train Specificity</td><td>0.0</td></tr></table><br/></div></div>"
      ],
      "text/plain": [
       "<IPython.core.display.HTML object>"
      ]
     },
     "metadata": {},
     "output_type": "display_data"
    },
    {
     "data": {
      "text/html": [
       " View run <strong style=\"color:#cdcd00\">earnest-sweep-3</strong> at: <a href='https://wandb.ai/dylan-home/pnca-singletons-sweep/runs/f0y1pkbn' target=\"_blank\">https://wandb.ai/dylan-home/pnca-singletons-sweep/runs/f0y1pkbn</a><br/>Synced 5 W&B file(s), 0 media file(s), 0 artifact file(s) and 0 other file(s)"
      ],
      "text/plain": [
       "<IPython.core.display.HTML object>"
      ]
     },
     "metadata": {},
     "output_type": "display_data"
    },
    {
     "data": {
      "text/html": [
       "Find logs at: <code>./wandb/run-20250206_182727-f0y1pkbn/logs</code>"
      ],
      "text/plain": [
       "<IPython.core.display.HTML object>"
      ]
     },
     "metadata": {},
     "output_type": "display_data"
    },
    {
     "name": "stderr",
     "output_type": "stream",
     "text": [
      "\u001b[34m\u001b[1mwandb\u001b[0m: Agent Starting Run: xaz6o2oq with config:\n",
      "\u001b[34m\u001b[1mwandb\u001b[0m: \tcutoff_distance: 5.9692718989799936\n",
      "\u001b[34m\u001b[1mwandb\u001b[0m: \tdropout: 0.4\n",
      "\u001b[34m\u001b[1mwandb\u001b[0m: \thidden_channels: 320\n",
      "\u001b[34m\u001b[1mwandb\u001b[0m: \tlearning_rate: 4.1151182466641154e-06\n",
      "\u001b[34m\u001b[1mwandb\u001b[0m: \tweight_decay: 0.0015428923203354057\n",
      "Failed to detect the name of this notebook, you can set it manually with the WANDB_NOTEBOOK_NAME environment variable to enable code saving.\n"
     ]
    },
    {
     "data": {
      "text/html": [
       "wandb version 0.19.6 is available!  To upgrade, please run:\n",
       " $ pip install wandb --upgrade"
      ],
      "text/plain": [
       "<IPython.core.display.HTML object>"
      ]
     },
     "metadata": {},
     "output_type": "display_data"
    },
    {
     "data": {
      "text/html": [
       "Tracking run with wandb version 0.16.4"
      ],
      "text/plain": [
       "<IPython.core.display.HTML object>"
      ]
     },
     "metadata": {},
     "output_type": "display_data"
    },
    {
     "data": {
      "text/html": [
       "Run data is saved locally in <code>/Users/dylandissanayake/Desktop/DPhil/Comp Disc/Repositories/tb-pnca-gnn/dd_pnca/wandb/run-20250206_182808-xaz6o2oq</code>"
      ],
      "text/plain": [
       "<IPython.core.display.HTML object>"
      ]
     },
     "metadata": {},
     "output_type": "display_data"
    },
    {
     "data": {
      "text/html": [
       "Syncing run <strong><a href='https://wandb.ai/dylan-home/pnca-singletons-sweep/runs/xaz6o2oq' target=\"_blank\">elated-sweep-4</a></strong> to <a href='https://wandb.ai/dylan-home/pnca-singletons-sweep' target=\"_blank\">Weights & Biases</a> (<a href='https://wandb.me/run' target=\"_blank\">docs</a>)<br/>Sweep page: <a href='https://wandb.ai/dylan-home/pnca-singletons-sweep/sweeps/i8r2s0bc' target=\"_blank\">https://wandb.ai/dylan-home/pnca-singletons-sweep/sweeps/i8r2s0bc</a>"
      ],
      "text/plain": [
       "<IPython.core.display.HTML object>"
      ]
     },
     "metadata": {},
     "output_type": "display_data"
    },
    {
     "data": {
      "text/html": [
       " View project at <a href='https://wandb.ai/dylan-home/pnca-singletons-sweep' target=\"_blank\">https://wandb.ai/dylan-home/pnca-singletons-sweep</a>"
      ],
      "text/plain": [
       "<IPython.core.display.HTML object>"
      ]
     },
     "metadata": {},
     "output_type": "display_data"
    },
    {
     "data": {
      "text/html": [
       " View sweep at <a href='https://wandb.ai/dylan-home/pnca-singletons-sweep/sweeps/i8r2s0bc' target=\"_blank\">https://wandb.ai/dylan-home/pnca-singletons-sweep/sweeps/i8r2s0bc</a>"
      ],
      "text/plain": [
       "<IPython.core.display.HTML object>"
      ]
     },
     "metadata": {},
     "output_type": "display_data"
    },
    {
     "data": {
      "text/html": [
       " View run at <a href='https://wandb.ai/dylan-home/pnca-singletons-sweep/runs/xaz6o2oq' target=\"_blank\">https://wandb.ai/dylan-home/pnca-singletons-sweep/runs/xaz6o2oq</a>"
      ],
      "text/plain": [
       "<IPython.core.display.HTML object>"
      ]
     },
     "metadata": {},
     "output_type": "display_data"
    },
    {
     "name": "stdout",
     "output_type": "stream",
     "text": [
      "Adjusting edge index and attaching edge weights for cutoff distance 5.9692718989799936\n",
      "Early stopping enabled. Patience: 20. Min Delta: 0.\n",
      "Epoch: 010, Train Acc: 0.5302, Test Acc: 0.5150, Train Loss: 0.6909, Test Loss: 0.6929\n",
      "Epoch: 020, Train Acc: 0.5302, Test Acc: 0.5150, Train Loss: 0.6913, Test Loss: 0.6929\n",
      "20 epochs passed without 0 test loss improvement. \n",
      "Early stopping triggered.\n"
     ]
    },
    {
     "data": {
      "text/html": [
       "<style>\n",
       "    table.wandb td:nth-child(1) { padding: 0 10px; text-align: left ; width: auto;} td:nth-child(2) {text-align: left ; width: 100%}\n",
       "    .wandb-row { display: flex; flex-direction: row; flex-wrap: wrap; justify-content: flex-start; width: 100% }\n",
       "    .wandb-col { display: flex; flex-direction: column; flex-basis: 100%; flex: 1; padding: 10px; }\n",
       "    </style>\n",
       "<div class=\"wandb-row\"><div class=\"wandb-col\"><h3>Run history:</h3><br/><table class=\"wandb\"><tr><td>Test Accuracy</td><td>▁▁█▄▄▄▄▄▄▄▄▄▄▄▄▄▄▄▄▄▄▄▄▄▄▄</td></tr><tr><td>Test F1</td><td>▁▁▆███████████████████████</td></tr><tr><td>Test Loss</td><td>██▅▃▁▁▁▂▂▃▃▃▃▃▃▃▃▃▃▃▃▃▄▄▄▅</td></tr><tr><td>Test Sensitivity</td><td>▁▁▄███████████████████████</td></tr><tr><td>Test Specificity</td><td>██▆▁▁▁▁▁▁▁▁▁▁▁▁▁▁▁▁▁▁▁▁▁▁▁</td></tr><tr><td>Train Accuracy</td><td>▁▁█▅▅▅▅▅▅▅▅▅▅▅▅▅▅▅▅▅▅▅▅▅▅▅</td></tr><tr><td>Train F1</td><td>▁▁▆███████████████████████</td></tr><tr><td>Train Loss</td><td>██▆▅▄▃▂▂▂▁▂▃▂▃▃▂▃▂▂▂▃▂▃▂▂▂</td></tr><tr><td>Train Sensitivity</td><td>▁▁▄███████████████████████</td></tr><tr><td>Train Specificity</td><td>██▆▁▁▁▁▁▁▁▁▁▁▁▁▁▁▁▁▁▁▁▁▁▁▁</td></tr></table><br/></div><div class=\"wandb-col\"><h3>Run summary:</h3><br/><table class=\"wandb\"><tr><td>Test Accuracy</td><td>0.515</td></tr><tr><td>Test F1</td><td>0.67987</td></tr><tr><td>Test Loss</td><td>0.69306</td></tr><tr><td>Test Sensitivity</td><td>1.0</td></tr><tr><td>Test Specificity</td><td>0.0</td></tr><tr><td>Train Accuracy</td><td>0.53017</td></tr><tr><td>Train F1</td><td>0.69296</td></tr><tr><td>Train Loss</td><td>0.69139</td></tr><tr><td>Train Sensitivity</td><td>1.0</td></tr><tr><td>Train Specificity</td><td>0.0</td></tr></table><br/></div></div>"
      ],
      "text/plain": [
       "<IPython.core.display.HTML object>"
      ]
     },
     "metadata": {},
     "output_type": "display_data"
    },
    {
     "data": {
      "text/html": [
       " View run <strong style=\"color:#cdcd00\">elated-sweep-4</strong> at: <a href='https://wandb.ai/dylan-home/pnca-singletons-sweep/runs/xaz6o2oq' target=\"_blank\">https://wandb.ai/dylan-home/pnca-singletons-sweep/runs/xaz6o2oq</a><br/>Synced 5 W&B file(s), 0 media file(s), 0 artifact file(s) and 0 other file(s)"
      ],
      "text/plain": [
       "<IPython.core.display.HTML object>"
      ]
     },
     "metadata": {},
     "output_type": "display_data"
    },
    {
     "data": {
      "text/html": [
       "Find logs at: <code>./wandb/run-20250206_182808-xaz6o2oq/logs</code>"
      ],
      "text/plain": [
       "<IPython.core.display.HTML object>"
      ]
     },
     "metadata": {},
     "output_type": "display_data"
    },
    {
     "name": "stderr",
     "output_type": "stream",
     "text": [
      "\u001b[34m\u001b[1mwandb\u001b[0m: Agent Starting Run: mk4upyyw with config:\n",
      "\u001b[34m\u001b[1mwandb\u001b[0m: \tcutoff_distance: 10.12272849411262\n",
      "\u001b[34m\u001b[1mwandb\u001b[0m: \tdropout: 0.2\n",
      "\u001b[34m\u001b[1mwandb\u001b[0m: \thidden_channels: 32\n",
      "\u001b[34m\u001b[1mwandb\u001b[0m: \tlearning_rate: 0.0050694271220194966\n",
      "\u001b[34m\u001b[1mwandb\u001b[0m: \tweight_decay: 4.089344358705568e-09\n",
      "Failed to detect the name of this notebook, you can set it manually with the WANDB_NOTEBOOK_NAME environment variable to enable code saving.\n"
     ]
    },
    {
     "data": {
      "text/html": [
       "wandb version 0.19.6 is available!  To upgrade, please run:\n",
       " $ pip install wandb --upgrade"
      ],
      "text/plain": [
       "<IPython.core.display.HTML object>"
      ]
     },
     "metadata": {},
     "output_type": "display_data"
    },
    {
     "data": {
      "text/html": [
       "Tracking run with wandb version 0.16.4"
      ],
      "text/plain": [
       "<IPython.core.display.HTML object>"
      ]
     },
     "metadata": {},
     "output_type": "display_data"
    },
    {
     "data": {
      "text/html": [
       "Run data is saved locally in <code>/Users/dylandissanayake/Desktop/DPhil/Comp Disc/Repositories/tb-pnca-gnn/dd_pnca/wandb/run-20250206_182844-mk4upyyw</code>"
      ],
      "text/plain": [
       "<IPython.core.display.HTML object>"
      ]
     },
     "metadata": {},
     "output_type": "display_data"
    },
    {
     "data": {
      "text/html": [
       "Syncing run <strong><a href='https://wandb.ai/dylan-home/pnca-singletons-sweep/runs/mk4upyyw' target=\"_blank\">vital-sweep-5</a></strong> to <a href='https://wandb.ai/dylan-home/pnca-singletons-sweep' target=\"_blank\">Weights & Biases</a> (<a href='https://wandb.me/run' target=\"_blank\">docs</a>)<br/>Sweep page: <a href='https://wandb.ai/dylan-home/pnca-singletons-sweep/sweeps/i8r2s0bc' target=\"_blank\">https://wandb.ai/dylan-home/pnca-singletons-sweep/sweeps/i8r2s0bc</a>"
      ],
      "text/plain": [
       "<IPython.core.display.HTML object>"
      ]
     },
     "metadata": {},
     "output_type": "display_data"
    },
    {
     "data": {
      "text/html": [
       " View project at <a href='https://wandb.ai/dylan-home/pnca-singletons-sweep' target=\"_blank\">https://wandb.ai/dylan-home/pnca-singletons-sweep</a>"
      ],
      "text/plain": [
       "<IPython.core.display.HTML object>"
      ]
     },
     "metadata": {},
     "output_type": "display_data"
    },
    {
     "data": {
      "text/html": [
       " View sweep at <a href='https://wandb.ai/dylan-home/pnca-singletons-sweep/sweeps/i8r2s0bc' target=\"_blank\">https://wandb.ai/dylan-home/pnca-singletons-sweep/sweeps/i8r2s0bc</a>"
      ],
      "text/plain": [
       "<IPython.core.display.HTML object>"
      ]
     },
     "metadata": {},
     "output_type": "display_data"
    },
    {
     "data": {
      "text/html": [
       " View run at <a href='https://wandb.ai/dylan-home/pnca-singletons-sweep/runs/mk4upyyw' target=\"_blank\">https://wandb.ai/dylan-home/pnca-singletons-sweep/runs/mk4upyyw</a>"
      ],
      "text/plain": [
       "<IPython.core.display.HTML object>"
      ]
     },
     "metadata": {},
     "output_type": "display_data"
    },
    {
     "name": "stdout",
     "output_type": "stream",
     "text": [
      "Adjusting edge index and attaching edge weights for cutoff distance 10.12272849411262\n",
      "Early stopping enabled. Patience: 20. Min Delta: 0.\n",
      "Epoch: 010, Train Acc: 0.5302, Test Acc: 0.5150, Train Loss: 0.6960, Test Loss: 0.6997\n",
      "Epoch: 020, Train Acc: 0.5302, Test Acc: 0.5150, Train Loss: 0.6935, Test Loss: 0.6984\n",
      "Epoch: 030, Train Acc: 0.5302, Test Acc: 0.5150, Train Loss: 0.6927, Test Loss: 0.6983\n",
      "Epoch: 040, Train Acc: 0.4698, Test Acc: 0.4850, Train Loss: 1.6231, Test Loss: 1.5715\n",
      "Epoch: 050, Train Acc: 0.4698, Test Acc: 0.4850, Train Loss: 4.7068, Test Loss: 4.5621\n",
      "20 epochs passed without 0 test loss improvement. \n",
      "Early stopping triggered.\n"
     ]
    },
    {
     "data": {
      "text/html": [
       "<style>\n",
       "    table.wandb td:nth-child(1) { padding: 0 10px; text-align: left ; width: auto;} td:nth-child(2) {text-align: left ; width: 100%}\n",
       "    .wandb-row { display: flex; flex-direction: row; flex-wrap: wrap; justify-content: flex-start; width: 100% }\n",
       "    .wandb-col { display: flex; flex-direction: column; flex-basis: 100%; flex: 1; padding: 10px; }\n",
       "    </style>\n",
       "<div class=\"wandb-row\"><div class=\"wandb-col\"><h3>Run history:</h3><br/><table class=\"wandb\"><tr><td>Test Accuracy</td><td>▁▃▃▃▃▃▃▃▅▃▃▃▂▅▃▃▃▇▃▃▃█▃▃▂▂▂▁▁▁▁▅▁▃▃▁▁▁▁▂</td></tr><tr><td>Test F1</td><td>▁███████▃████▄███▆███▆██▂█▁▁▁▁▁▄▁██▁▁▁▁▁</td></tr><tr><td>Test Loss</td><td>▁▃▃▁▁▁▁▁▁▁▁▁▁▁▁▁▁▁▁▁▁▁▁▁▁▁▁▂▂▂▃▁▁▁▂▄█▆▆▁</td></tr><tr><td>Test Sensitivity</td><td>▁███████▂████▂███▃███▄██▁▇▁▁▁▁▁▂▁██▁▁▁▁▁</td></tr><tr><td>Test Specificity</td><td>█▁▁▁▁▁▁▁█▁▁▁▁█▁▁▁▇▁▁▁▇▁▁█▂███████▁▁█████</td></tr><tr><td>Train Accuracy</td><td>▁▄▄▄▄▄▄▄▃▄▄▄▃▅▄▄▄▇▄▄▄█▄▄▂▄▁▁▁▁▁▅▁▅▄▁▁▁▁▂</td></tr><tr><td>Train F1</td><td>▁███████▂████▄███▅███▆██▁█▁▁▁▁▁▄▁██▁▁▁▁▁</td></tr><tr><td>Train Loss</td><td>▁▃▃▁▁▁▁▁▁▁▁▁▁▁▁▁▁▁▁▁▁▁▁▁▁▁▁▂▂▂▃▁▁▁▂▄█▆▆▁</td></tr><tr><td>Train Sensitivity</td><td>▁███████▂████▂███▃███▃██▁▇▁▁▁▁▁▂▁██▁▁▁▁▁</td></tr><tr><td>Train Specificity</td><td>█▁▁▁▁▁▁▁█▁▁▁▁█▁▁▁█▁▁▁▇▁▁█▂███████▁▁█████</td></tr></table><br/></div><div class=\"wandb-col\"><h3>Run summary:</h3><br/><table class=\"wandb\"><tr><td>Test Accuracy</td><td>0.495</td></tr><tr><td>Test F1</td><td>0.0381</td></tr><tr><td>Test Loss</td><td>1.01617</td></tr><tr><td>Test Sensitivity</td><td>0.01942</td></tr><tr><td>Test Specificity</td><td>1.0</td></tr><tr><td>Train Accuracy</td><td>0.48276</td></tr><tr><td>Train F1</td><td>0.04762</td></tr><tr><td>Train Loss</td><td>1.02728</td></tr><tr><td>Train Sensitivity</td><td>0.02439</td></tr><tr><td>Train Specificity</td><td>1.0</td></tr></table><br/></div></div>"
      ],
      "text/plain": [
       "<IPython.core.display.HTML object>"
      ]
     },
     "metadata": {},
     "output_type": "display_data"
    },
    {
     "data": {
      "text/html": [
       " View run <strong style=\"color:#cdcd00\">vital-sweep-5</strong> at: <a href='https://wandb.ai/dylan-home/pnca-singletons-sweep/runs/mk4upyyw' target=\"_blank\">https://wandb.ai/dylan-home/pnca-singletons-sweep/runs/mk4upyyw</a><br/>Synced 5 W&B file(s), 0 media file(s), 0 artifact file(s) and 0 other file(s)"
      ],
      "text/plain": [
       "<IPython.core.display.HTML object>"
      ]
     },
     "metadata": {},
     "output_type": "display_data"
    },
    {
     "data": {
      "text/html": [
       "Find logs at: <code>./wandb/run-20250206_182844-mk4upyyw/logs</code>"
      ],
      "text/plain": [
       "<IPython.core.display.HTML object>"
      ]
     },
     "metadata": {},
     "output_type": "display_data"
    },
    {
     "name": "stderr",
     "output_type": "stream",
     "text": [
      "\u001b[34m\u001b[1mwandb\u001b[0m: Agent Starting Run: cimxt5nh with config:\n",
      "\u001b[34m\u001b[1mwandb\u001b[0m: \tcutoff_distance: 12.221585438851337\n",
      "\u001b[34m\u001b[1mwandb\u001b[0m: \tdropout: 0.6\n",
      "\u001b[34m\u001b[1mwandb\u001b[0m: \thidden_channels: 320\n",
      "\u001b[34m\u001b[1mwandb\u001b[0m: \tlearning_rate: 0.0009332959295471634\n",
      "\u001b[34m\u001b[1mwandb\u001b[0m: \tweight_decay: 1.854517169798136e-06\n",
      "Failed to detect the name of this notebook, you can set it manually with the WANDB_NOTEBOOK_NAME environment variable to enable code saving.\n"
     ]
    },
    {
     "data": {
      "text/html": [
       "wandb version 0.19.6 is available!  To upgrade, please run:\n",
       " $ pip install wandb --upgrade"
      ],
      "text/plain": [
       "<IPython.core.display.HTML object>"
      ]
     },
     "metadata": {},
     "output_type": "display_data"
    },
    {
     "data": {
      "text/html": [
       "Tracking run with wandb version 0.16.4"
      ],
      "text/plain": [
       "<IPython.core.display.HTML object>"
      ]
     },
     "metadata": {},
     "output_type": "display_data"
    },
    {
     "data": {
      "text/html": [
       "Run data is saved locally in <code>/Users/dylandissanayake/Desktop/DPhil/Comp Disc/Repositories/tb-pnca-gnn/dd_pnca/wandb/run-20250206_182911-cimxt5nh</code>"
      ],
      "text/plain": [
       "<IPython.core.display.HTML object>"
      ]
     },
     "metadata": {},
     "output_type": "display_data"
    },
    {
     "data": {
      "text/html": [
       "Syncing run <strong><a href='https://wandb.ai/dylan-home/pnca-singletons-sweep/runs/cimxt5nh' target=\"_blank\">playful-sweep-6</a></strong> to <a href='https://wandb.ai/dylan-home/pnca-singletons-sweep' target=\"_blank\">Weights & Biases</a> (<a href='https://wandb.me/run' target=\"_blank\">docs</a>)<br/>Sweep page: <a href='https://wandb.ai/dylan-home/pnca-singletons-sweep/sweeps/i8r2s0bc' target=\"_blank\">https://wandb.ai/dylan-home/pnca-singletons-sweep/sweeps/i8r2s0bc</a>"
      ],
      "text/plain": [
       "<IPython.core.display.HTML object>"
      ]
     },
     "metadata": {},
     "output_type": "display_data"
    },
    {
     "data": {
      "text/html": [
       " View project at <a href='https://wandb.ai/dylan-home/pnca-singletons-sweep' target=\"_blank\">https://wandb.ai/dylan-home/pnca-singletons-sweep</a>"
      ],
      "text/plain": [
       "<IPython.core.display.HTML object>"
      ]
     },
     "metadata": {},
     "output_type": "display_data"
    },
    {
     "data": {
      "text/html": [
       " View sweep at <a href='https://wandb.ai/dylan-home/pnca-singletons-sweep/sweeps/i8r2s0bc' target=\"_blank\">https://wandb.ai/dylan-home/pnca-singletons-sweep/sweeps/i8r2s0bc</a>"
      ],
      "text/plain": [
       "<IPython.core.display.HTML object>"
      ]
     },
     "metadata": {},
     "output_type": "display_data"
    },
    {
     "data": {
      "text/html": [
       " View run at <a href='https://wandb.ai/dylan-home/pnca-singletons-sweep/runs/cimxt5nh' target=\"_blank\">https://wandb.ai/dylan-home/pnca-singletons-sweep/runs/cimxt5nh</a>"
      ],
      "text/plain": [
       "<IPython.core.display.HTML object>"
      ]
     },
     "metadata": {},
     "output_type": "display_data"
    },
    {
     "name": "stdout",
     "output_type": "stream",
     "text": [
      "Adjusting edge index and attaching edge weights for cutoff distance 12.221585438851337\n",
      "Early stopping enabled. Patience: 20. Min Delta: 0.\n",
      "Epoch: 010, Train Acc: 0.5302, Test Acc: 0.5150, Train Loss: 0.7115, Test Loss: 0.7300\n",
      "Epoch: 020, Train Acc: 0.5323, Test Acc: 0.5150, Train Loss: 0.7044, Test Loss: 0.7223\n",
      "Epoch: 030, Train Acc: 0.5323, Test Acc: 0.5150, Train Loss: 0.7623, Test Loss: 0.7965\n",
      "Epoch: 040, Train Acc: 0.5539, Test Acc: 0.5400, Train Loss: 0.6460, Test Loss: 0.6649\n",
      "Epoch: 050, Train Acc: 0.6379, Test Acc: 0.6150, Train Loss: 0.6204, Test Loss: 0.6462\n",
      "Epoch: 060, Train Acc: 0.6767, Test Acc: 0.6250, Train Loss: 0.6121, Test Loss: 0.6416\n",
      "Epoch: 070, Train Acc: 0.6961, Test Acc: 0.6400, Train Loss: 0.5958, Test Loss: 0.6381\n",
      "Epoch: 080, Train Acc: 0.5108, Test Acc: 0.5400, Train Loss: 0.9259, Test Loss: 0.9382\n",
      "Epoch: 090, Train Acc: 0.6595, Test Acc: 0.6150, Train Loss: 0.6415, Test Loss: 0.6793\n",
      "Epoch: 100, Train Acc: 0.5819, Test Acc: 0.5800, Train Loss: 0.8185, Test Loss: 0.8274\n",
      "Epoch: 110, Train Acc: 0.5302, Test Acc: 0.5150, Train Loss: 2.4704, Test Loss: 2.6428\n",
      "Epoch: 120, Train Acc: 0.6142, Test Acc: 0.5600, Train Loss: 0.5695, Test Loss: 0.6665\n",
      "Epoch: 130, Train Acc: 0.5302, Test Acc: 0.5150, Train Loss: 3.9196, Test Loss: 4.1284\n",
      "20 epochs passed without 0 test loss improvement. \n",
      "Early stopping triggered.\n"
     ]
    },
    {
     "data": {
      "text/html": [
       "<style>\n",
       "    table.wandb td:nth-child(1) { padding: 0 10px; text-align: left ; width: auto;} td:nth-child(2) {text-align: left ; width: 100%}\n",
       "    .wandb-row { display: flex; flex-direction: row; flex-wrap: wrap; justify-content: flex-start; width: 100% }\n",
       "    .wandb-col { display: flex; flex-direction: column; flex-basis: 100%; flex: 1; padding: 10px; }\n",
       "    </style>\n",
       "<div class=\"wandb-row\"><div class=\"wandb-col\"><h3>Run history:</h3><br/><table class=\"wandb\"><tr><td>Test Accuracy</td><td>▂▁▁▂▂▂▂▂▄▂▂▅▂▂▅▄▂▆▄▂▆▂▅▃▄▇▅▆▅▄▃█▂▂▃▁▂▄▂█</td></tr><tr><td>Test F1</td><td>█▁▁▇████▆██▅██▇▇█▆▄█▇▂█▃▄▇▆▆▅▄▃████▁▂███</td></tr><tr><td>Test Loss</td><td>█▄▁▁▁▁▁▁▁▁▁▁▁▁▁▁▁▁▁▁▁▁▁▁▁▁▁▁▁▁▁▁▂▁▁▂▁▁▂▁</td></tr><tr><td>Test Sensitivity</td><td>█▁▁▇▇███▄██▃██▅▆█▄▂█▄▁▇▂▂▄▃▃▃▂▂▆██▇▁▁▇█▅</td></tr><tr><td>Test Specificity</td><td>▁██▂▂▁▁▁▆▂▁▇▁▁▆▄▁▇█▁▇█▄██▇█████▆▁▁▂██▃▁▆</td></tr><tr><td>Train Accuracy</td><td>▃▁▁▃▂▃▃▃▅▃▃▅▃▃▅▄▃▆▄▃▇▂▅▂▃▇▆▆▆▄▃█▃▄▄▁▁▅▃█</td></tr><tr><td>Train F1</td><td>█▁▁▇▇███▇██▅██▇▇█▇▄█▇▂█▂▄▇▆▆▆▄▃████▁▁███</td></tr><tr><td>Train Loss</td><td>█▄▁▁▁▁▁▁▁▁▁▁▁▁▁▁▁▁▁▁▁▁▁▁▁▁▁▁▁▁▁▁▂▁▁▂▁▁▂▁</td></tr><tr><td>Train Sensitivity</td><td>█▁▁▇▇███▄██▃██▅▆█▄▂█▅▁▇▂▂▄▄▃▄▂▂▆███▁▁██▆</td></tr><tr><td>Train Specificity</td><td>▁██▂▁▁▁▁▆▂▁█▁▁▆▄▁▇█▁▇█▄██▇█████▆▁▂▂██▃▁▇</td></tr></table><br/></div><div class=\"wandb-col\"><h3>Run summary:</h3><br/><table class=\"wandb\"><tr><td>Test Accuracy</td><td>0.695</td></tr><tr><td>Test F1</td><td>0.68394</td></tr><tr><td>Test Loss</td><td>0.591</td></tr><tr><td>Test Sensitivity</td><td>0.64078</td></tr><tr><td>Test Specificity</td><td>0.75258</td></tr><tr><td>Train Accuracy</td><td>0.74353</td></tr><tr><td>Train F1</td><td>0.72893</td></tr><tr><td>Train Loss</td><td>0.5287</td></tr><tr><td>Train Sensitivity</td><td>0.65041</td></tr><tr><td>Train Specificity</td><td>0.84862</td></tr></table><br/></div></div>"
      ],
      "text/plain": [
       "<IPython.core.display.HTML object>"
      ]
     },
     "metadata": {},
     "output_type": "display_data"
    },
    {
     "data": {
      "text/html": [
       " View run <strong style=\"color:#cdcd00\">playful-sweep-6</strong> at: <a href='https://wandb.ai/dylan-home/pnca-singletons-sweep/runs/cimxt5nh' target=\"_blank\">https://wandb.ai/dylan-home/pnca-singletons-sweep/runs/cimxt5nh</a><br/>Synced 5 W&B file(s), 0 media file(s), 0 artifact file(s) and 0 other file(s)"
      ],
      "text/plain": [
       "<IPython.core.display.HTML object>"
      ]
     },
     "metadata": {},
     "output_type": "display_data"
    },
    {
     "data": {
      "text/html": [
       "Find logs at: <code>./wandb/run-20250206_182911-cimxt5nh/logs</code>"
      ],
      "text/plain": [
       "<IPython.core.display.HTML object>"
      ]
     },
     "metadata": {},
     "output_type": "display_data"
    },
    {
     "name": "stderr",
     "output_type": "stream",
     "text": [
      "\u001b[34m\u001b[1mwandb\u001b[0m: Agent Starting Run: zi9qx2n6 with config:\n",
      "\u001b[34m\u001b[1mwandb\u001b[0m: \tcutoff_distance: 6.890182305958402\n",
      "\u001b[34m\u001b[1mwandb\u001b[0m: \tdropout: 0.2\n",
      "\u001b[34m\u001b[1mwandb\u001b[0m: \thidden_channels: 64\n",
      "\u001b[34m\u001b[1mwandb\u001b[0m: \tlearning_rate: 2.639576696542702e-06\n",
      "\u001b[34m\u001b[1mwandb\u001b[0m: \tweight_decay: 5.8394693333525456e-05\n",
      "Failed to detect the name of this notebook, you can set it manually with the WANDB_NOTEBOOK_NAME environment variable to enable code saving.\n"
     ]
    },
    {
     "data": {
      "text/html": [
       "wandb version 0.19.6 is available!  To upgrade, please run:\n",
       " $ pip install wandb --upgrade"
      ],
      "text/plain": [
       "<IPython.core.display.HTML object>"
      ]
     },
     "metadata": {},
     "output_type": "display_data"
    },
    {
     "data": {
      "text/html": [
       "Tracking run with wandb version 0.16.4"
      ],
      "text/plain": [
       "<IPython.core.display.HTML object>"
      ]
     },
     "metadata": {},
     "output_type": "display_data"
    },
    {
     "data": {
      "text/html": [
       "Run data is saved locally in <code>/Users/dylandissanayake/Desktop/DPhil/Comp Disc/Repositories/tb-pnca-gnn/dd_pnca/wandb/run-20250206_184412-zi9qx2n6</code>"
      ],
      "text/plain": [
       "<IPython.core.display.HTML object>"
      ]
     },
     "metadata": {},
     "output_type": "display_data"
    },
    {
     "data": {
      "text/html": [
       "Syncing run <strong><a href='https://wandb.ai/dylan-home/pnca-singletons-sweep/runs/zi9qx2n6' target=\"_blank\">restful-sweep-7</a></strong> to <a href='https://wandb.ai/dylan-home/pnca-singletons-sweep' target=\"_blank\">Weights & Biases</a> (<a href='https://wandb.me/run' target=\"_blank\">docs</a>)<br/>Sweep page: <a href='https://wandb.ai/dylan-home/pnca-singletons-sweep/sweeps/i8r2s0bc' target=\"_blank\">https://wandb.ai/dylan-home/pnca-singletons-sweep/sweeps/i8r2s0bc</a>"
      ],
      "text/plain": [
       "<IPython.core.display.HTML object>"
      ]
     },
     "metadata": {},
     "output_type": "display_data"
    },
    {
     "data": {
      "text/html": [
       " View project at <a href='https://wandb.ai/dylan-home/pnca-singletons-sweep' target=\"_blank\">https://wandb.ai/dylan-home/pnca-singletons-sweep</a>"
      ],
      "text/plain": [
       "<IPython.core.display.HTML object>"
      ]
     },
     "metadata": {},
     "output_type": "display_data"
    },
    {
     "data": {
      "text/html": [
       " View sweep at <a href='https://wandb.ai/dylan-home/pnca-singletons-sweep/sweeps/i8r2s0bc' target=\"_blank\">https://wandb.ai/dylan-home/pnca-singletons-sweep/sweeps/i8r2s0bc</a>"
      ],
      "text/plain": [
       "<IPython.core.display.HTML object>"
      ]
     },
     "metadata": {},
     "output_type": "display_data"
    },
    {
     "data": {
      "text/html": [
       " View run at <a href='https://wandb.ai/dylan-home/pnca-singletons-sweep/runs/zi9qx2n6' target=\"_blank\">https://wandb.ai/dylan-home/pnca-singletons-sweep/runs/zi9qx2n6</a>"
      ],
      "text/plain": [
       "<IPython.core.display.HTML object>"
      ]
     },
     "metadata": {},
     "output_type": "display_data"
    },
    {
     "name": "stdout",
     "output_type": "stream",
     "text": [
      "Adjusting edge index and attaching edge weights for cutoff distance 6.890182305958402\n",
      "Early stopping enabled. Patience: 20. Min Delta: 0.\n",
      "Epoch: 010, Train Acc: 0.5302, Test Acc: 0.5150, Train Loss: 0.6960, Test Loss: 0.7009\n",
      "Epoch: 020, Train Acc: 0.5302, Test Acc: 0.5150, Train Loss: 0.6923, Test Loss: 0.6938\n",
      "20 epochs passed without 0 test loss improvement. \n",
      "Early stopping triggered.\n"
     ]
    },
    {
     "data": {
      "text/html": [
       "<style>\n",
       "    table.wandb td:nth-child(1) { padding: 0 10px; text-align: left ; width: auto;} td:nth-child(2) {text-align: left ; width: 100%}\n",
       "    .wandb-row { display: flex; flex-direction: row; flex-wrap: wrap; justify-content: flex-start; width: 100% }\n",
       "    .wandb-col { display: flex; flex-direction: column; flex-basis: 100%; flex: 1; padding: 10px; }\n",
       "    </style>\n",
       "<div class=\"wandb-row\"><div class=\"wandb-col\"><h3>Run history:</h3><br/><table class=\"wandb\"><tr><td>Test Accuracy</td><td>▃▃▃▁█████████████████████</td></tr><tr><td>Test F1</td><td>▁▁▁▇█████████████████████</td></tr><tr><td>Test Loss</td><td>█▄▂▁▁▁▂▂▃▃▃▂▂▂▂▂▁▁▁▁▁▁▁▁▁</td></tr><tr><td>Test Sensitivity</td><td>▁▁▁▇█████████████████████</td></tr><tr><td>Test Specificity</td><td>███▂▁▁▁▁▁▁▁▁▁▁▁▁▁▁▁▁▁▁▁▁▁</td></tr><tr><td>Train Accuracy</td><td>▂▂▂▁█████████████████████</td></tr><tr><td>Train F1</td><td>▁▁▁▇█████████████████████</td></tr><tr><td>Train Loss</td><td>█▅▂▁▁▁▁▂▂▂▂▂▂▂▁▁▁▁▁▁▁▁▁▁▁</td></tr><tr><td>Train Sensitivity</td><td>▁▁▁▇█████████████████████</td></tr><tr><td>Train Specificity</td><td>███▂▁▁▁▁▁▁▁▁▁▁▁▁▁▁▁▁▁▁▁▁▁</td></tr></table><br/></div><div class=\"wandb-col\"><h3>Run summary:</h3><br/><table class=\"wandb\"><tr><td>Test Accuracy</td><td>0.515</td></tr><tr><td>Test F1</td><td>0.67987</td></tr><tr><td>Test Loss</td><td>0.69315</td></tr><tr><td>Test Sensitivity</td><td>1.0</td></tr><tr><td>Test Specificity</td><td>0.0</td></tr><tr><td>Train Accuracy</td><td>0.53017</td></tr><tr><td>Train F1</td><td>0.69296</td></tr><tr><td>Train Loss</td><td>0.69204</td></tr><tr><td>Train Sensitivity</td><td>1.0</td></tr><tr><td>Train Specificity</td><td>0.0</td></tr></table><br/></div></div>"
      ],
      "text/plain": [
       "<IPython.core.display.HTML object>"
      ]
     },
     "metadata": {},
     "output_type": "display_data"
    },
    {
     "data": {
      "text/html": [
       " View run <strong style=\"color:#cdcd00\">restful-sweep-7</strong> at: <a href='https://wandb.ai/dylan-home/pnca-singletons-sweep/runs/zi9qx2n6' target=\"_blank\">https://wandb.ai/dylan-home/pnca-singletons-sweep/runs/zi9qx2n6</a><br/>Synced 5 W&B file(s), 0 media file(s), 0 artifact file(s) and 0 other file(s)"
      ],
      "text/plain": [
       "<IPython.core.display.HTML object>"
      ]
     },
     "metadata": {},
     "output_type": "display_data"
    },
    {
     "data": {
      "text/html": [
       "Find logs at: <code>./wandb/run-20250206_184412-zi9qx2n6/logs</code>"
      ],
      "text/plain": [
       "<IPython.core.display.HTML object>"
      ]
     },
     "metadata": {},
     "output_type": "display_data"
    },
    {
     "name": "stderr",
     "output_type": "stream",
     "text": [
      "\u001b[34m\u001b[1mwandb\u001b[0m: Agent Starting Run: ni3xjch2 with config:\n",
      "\u001b[34m\u001b[1mwandb\u001b[0m: \tcutoff_distance: 8.863578873072479\n",
      "\u001b[34m\u001b[1mwandb\u001b[0m: \tdropout: 0.4\n",
      "\u001b[34m\u001b[1mwandb\u001b[0m: \thidden_channels: 64\n",
      "\u001b[34m\u001b[1mwandb\u001b[0m: \tlearning_rate: 2.3692392235379745e-06\n",
      "\u001b[34m\u001b[1mwandb\u001b[0m: \tweight_decay: 1.6265347898767878e-07\n",
      "Failed to detect the name of this notebook, you can set it manually with the WANDB_NOTEBOOK_NAME environment variable to enable code saving.\n"
     ]
    },
    {
     "data": {
      "text/html": [
       "wandb version 0.19.6 is available!  To upgrade, please run:\n",
       " $ pip install wandb --upgrade"
      ],
      "text/plain": [
       "<IPython.core.display.HTML object>"
      ]
     },
     "metadata": {},
     "output_type": "display_data"
    },
    {
     "data": {
      "text/html": [
       "Tracking run with wandb version 0.16.4"
      ],
      "text/plain": [
       "<IPython.core.display.HTML object>"
      ]
     },
     "metadata": {},
     "output_type": "display_data"
    },
    {
     "data": {
      "text/html": [
       "Run data is saved locally in <code>/Users/dylandissanayake/Desktop/DPhil/Comp Disc/Repositories/tb-pnca-gnn/dd_pnca/wandb/run-20250206_184428-ni3xjch2</code>"
      ],
      "text/plain": [
       "<IPython.core.display.HTML object>"
      ]
     },
     "metadata": {},
     "output_type": "display_data"
    },
    {
     "data": {
      "text/html": [
       "Syncing run <strong><a href='https://wandb.ai/dylan-home/pnca-singletons-sweep/runs/ni3xjch2' target=\"_blank\">cerulean-sweep-8</a></strong> to <a href='https://wandb.ai/dylan-home/pnca-singletons-sweep' target=\"_blank\">Weights & Biases</a> (<a href='https://wandb.me/run' target=\"_blank\">docs</a>)<br/>Sweep page: <a href='https://wandb.ai/dylan-home/pnca-singletons-sweep/sweeps/i8r2s0bc' target=\"_blank\">https://wandb.ai/dylan-home/pnca-singletons-sweep/sweeps/i8r2s0bc</a>"
      ],
      "text/plain": [
       "<IPython.core.display.HTML object>"
      ]
     },
     "metadata": {},
     "output_type": "display_data"
    },
    {
     "data": {
      "text/html": [
       " View project at <a href='https://wandb.ai/dylan-home/pnca-singletons-sweep' target=\"_blank\">https://wandb.ai/dylan-home/pnca-singletons-sweep</a>"
      ],
      "text/plain": [
       "<IPython.core.display.HTML object>"
      ]
     },
     "metadata": {},
     "output_type": "display_data"
    },
    {
     "data": {
      "text/html": [
       " View sweep at <a href='https://wandb.ai/dylan-home/pnca-singletons-sweep/sweeps/i8r2s0bc' target=\"_blank\">https://wandb.ai/dylan-home/pnca-singletons-sweep/sweeps/i8r2s0bc</a>"
      ],
      "text/plain": [
       "<IPython.core.display.HTML object>"
      ]
     },
     "metadata": {},
     "output_type": "display_data"
    },
    {
     "data": {
      "text/html": [
       " View run at <a href='https://wandb.ai/dylan-home/pnca-singletons-sweep/runs/ni3xjch2' target=\"_blank\">https://wandb.ai/dylan-home/pnca-singletons-sweep/runs/ni3xjch2</a>"
      ],
      "text/plain": [
       "<IPython.core.display.HTML object>"
      ]
     },
     "metadata": {},
     "output_type": "display_data"
    },
    {
     "name": "stdout",
     "output_type": "stream",
     "text": [
      "Adjusting edge index and attaching edge weights for cutoff distance 8.863578873072479\n",
      "Early stopping enabled. Patience: 20. Min Delta: 0.\n",
      "Epoch: 010, Train Acc: 0.4698, Test Acc: 0.4850, Train Loss: 0.7110, Test Loss: 0.7052\n",
      "Epoch: 020, Train Acc: 0.4698, Test Acc: 0.4850, Train Loss: 0.6999, Test Loss: 0.6975\n",
      "Epoch: 030, Train Acc: 0.4698, Test Acc: 0.4850, Train Loss: 0.7005, Test Loss: 0.6976\n",
      "20 epochs passed without 0 test loss improvement. \n",
      "Early stopping triggered.\n"
     ]
    },
    {
     "data": {
      "text/html": [
       "<style>\n",
       "    table.wandb td:nth-child(1) { padding: 0 10px; text-align: left ; width: auto;} td:nth-child(2) {text-align: left ; width: 100%}\n",
       "    .wandb-row { display: flex; flex-direction: row; flex-wrap: wrap; justify-content: flex-start; width: 100% }\n",
       "    .wandb-col { display: flex; flex-direction: column; flex-basis: 100%; flex: 1; padding: 10px; }\n",
       "    </style>\n",
       "<div class=\"wandb-row\"><div class=\"wandb-col\"><h3>Run history:</h3><br/><table class=\"wandb\"><tr><td>Test Accuracy</td><td>▁▁▁▁▁▁▁▁▁▁▁▁▁▁▁▁▁▁▁▁▁▁▁▁▁▁▁▁▁▁▁▁▁▁▁</td></tr><tr><td>Test F1</td><td>▁▁▁▁▁▁▁▁▁▁▁▁▁▁▁▁▁▁▁▁▁▁▁▁▁▁▁▁▁▁▁▁▁▁▁</td></tr><tr><td>Test Loss</td><td>█▆▅▃▂▂▁▁▁▁▁▁▁▁▁▁▁▁▁▁▁▁▁▁▁▁▁▁▁▁▁▁▁▁▁</td></tr><tr><td>Test Sensitivity</td><td>▁▁▁▁▁▁▁▁▁▁▁▁▁▁▁▁▁▁▁▁▁▁▁▁▁▁▁▁▁▁▁▁▁▁▁</td></tr><tr><td>Test Specificity</td><td>▁▁▁▁▁▁▁▁▁▁▁▁▁▁▁▁▁▁▁▁▁▁▁▁▁▁▁▁▁▁▁▁▁▁▁</td></tr><tr><td>Train Accuracy</td><td>▁▁▁▁▁▁▁▁▁▁▁▁▁▁▁▁▁▁▁▁▁▁▁▁▁▁▁▁▁▁▁▁▁▁▁</td></tr><tr><td>Train F1</td><td>▁▁▁▁▁▁▁▁▁▁▁▁▁▁▁▁▁▁▁▁▁▁▁▁▁▁▁▁▁▁▁▁▁▁▁</td></tr><tr><td>Train Loss</td><td>█▆▅▃▂▂▁▁▁▁▁▁▁▁▁▁▁▁▁▁▁▁▁▁▁▁▁▁▁▁▁▁▁▁▁</td></tr><tr><td>Train Sensitivity</td><td>▁▁▁▁▁▁▁▁▁▁▁▁▁▁▁▁▁▁▁▁▁▁▁▁▁▁▁▁▁▁▁▁▁▁▁</td></tr><tr><td>Train Specificity</td><td>▁▁▁▁▁▁▁▁▁▁▁▁▁▁▁▁▁▁▁▁▁▁▁▁▁▁▁▁▁▁▁▁▁▁▁</td></tr></table><br/></div><div class=\"wandb-col\"><h3>Run summary:</h3><br/><table class=\"wandb\"><tr><td>Test Accuracy</td><td>0.485</td></tr><tr><td>Test F1</td><td>0.0</td></tr><tr><td>Test Loss</td><td>0.69708</td></tr><tr><td>Test Sensitivity</td><td>0.0</td></tr><tr><td>Test Specificity</td><td>1.0</td></tr><tr><td>Train Accuracy</td><td>0.46983</td></tr><tr><td>Train F1</td><td>0.0</td></tr><tr><td>Train Loss</td><td>0.69938</td></tr><tr><td>Train Sensitivity</td><td>0.0</td></tr><tr><td>Train Specificity</td><td>1.0</td></tr></table><br/></div></div>"
      ],
      "text/plain": [
       "<IPython.core.display.HTML object>"
      ]
     },
     "metadata": {},
     "output_type": "display_data"
    },
    {
     "data": {
      "text/html": [
       " View run <strong style=\"color:#cdcd00\">cerulean-sweep-8</strong> at: <a href='https://wandb.ai/dylan-home/pnca-singletons-sweep/runs/ni3xjch2' target=\"_blank\">https://wandb.ai/dylan-home/pnca-singletons-sweep/runs/ni3xjch2</a><br/>Synced 5 W&B file(s), 0 media file(s), 0 artifact file(s) and 0 other file(s)"
      ],
      "text/plain": [
       "<IPython.core.display.HTML object>"
      ]
     },
     "metadata": {},
     "output_type": "display_data"
    },
    {
     "data": {
      "text/html": [
       "Find logs at: <code>./wandb/run-20250206_184428-ni3xjch2/logs</code>"
      ],
      "text/plain": [
       "<IPython.core.display.HTML object>"
      ]
     },
     "metadata": {},
     "output_type": "display_data"
    },
    {
     "name": "stderr",
     "output_type": "stream",
     "text": [
      "\u001b[34m\u001b[1mwandb\u001b[0m: Sweep Agent: Waiting for job.\n",
      "\u001b[34m\u001b[1mwandb\u001b[0m: Job received.\n",
      "\u001b[34m\u001b[1mwandb\u001b[0m: Agent Starting Run: fxeer5vz with config:\n",
      "\u001b[34m\u001b[1mwandb\u001b[0m: \tcutoff_distance: 11.416177358131913\n",
      "\u001b[34m\u001b[1mwandb\u001b[0m: \tdropout: 0.2\n",
      "\u001b[34m\u001b[1mwandb\u001b[0m: \thidden_channels: 256\n",
      "\u001b[34m\u001b[1mwandb\u001b[0m: \tlearning_rate: 4.920015687366998e-06\n",
      "\u001b[34m\u001b[1mwandb\u001b[0m: \tweight_decay: 2.45324858475515e-09\n",
      "Failed to detect the name of this notebook, you can set it manually with the WANDB_NOTEBOOK_NAME environment variable to enable code saving.\n"
     ]
    },
    {
     "data": {
      "text/html": [
       "wandb version 0.19.6 is available!  To upgrade, please run:\n",
       " $ pip install wandb --upgrade"
      ],
      "text/plain": [
       "<IPython.core.display.HTML object>"
      ]
     },
     "metadata": {},
     "output_type": "display_data"
    },
    {
     "data": {
      "text/html": [
       "Tracking run with wandb version 0.16.4"
      ],
      "text/plain": [
       "<IPython.core.display.HTML object>"
      ]
     },
     "metadata": {},
     "output_type": "display_data"
    },
    {
     "data": {
      "text/html": [
       "Run data is saved locally in <code>/Users/dylandissanayake/Desktop/DPhil/Comp Disc/Repositories/tb-pnca-gnn/dd_pnca/wandb/run-20250206_184500-fxeer5vz</code>"
      ],
      "text/plain": [
       "<IPython.core.display.HTML object>"
      ]
     },
     "metadata": {},
     "output_type": "display_data"
    },
    {
     "data": {
      "text/html": [
       "Syncing run <strong><a href='https://wandb.ai/dylan-home/pnca-singletons-sweep/runs/fxeer5vz' target=\"_blank\">sparkling-sweep-9</a></strong> to <a href='https://wandb.ai/dylan-home/pnca-singletons-sweep' target=\"_blank\">Weights & Biases</a> (<a href='https://wandb.me/run' target=\"_blank\">docs</a>)<br/>Sweep page: <a href='https://wandb.ai/dylan-home/pnca-singletons-sweep/sweeps/i8r2s0bc' target=\"_blank\">https://wandb.ai/dylan-home/pnca-singletons-sweep/sweeps/i8r2s0bc</a>"
      ],
      "text/plain": [
       "<IPython.core.display.HTML object>"
      ]
     },
     "metadata": {},
     "output_type": "display_data"
    },
    {
     "data": {
      "text/html": [
       " View project at <a href='https://wandb.ai/dylan-home/pnca-singletons-sweep' target=\"_blank\">https://wandb.ai/dylan-home/pnca-singletons-sweep</a>"
      ],
      "text/plain": [
       "<IPython.core.display.HTML object>"
      ]
     },
     "metadata": {},
     "output_type": "display_data"
    },
    {
     "data": {
      "text/html": [
       " View sweep at <a href='https://wandb.ai/dylan-home/pnca-singletons-sweep/sweeps/i8r2s0bc' target=\"_blank\">https://wandb.ai/dylan-home/pnca-singletons-sweep/sweeps/i8r2s0bc</a>"
      ],
      "text/plain": [
       "<IPython.core.display.HTML object>"
      ]
     },
     "metadata": {},
     "output_type": "display_data"
    },
    {
     "data": {
      "text/html": [
       " View run at <a href='https://wandb.ai/dylan-home/pnca-singletons-sweep/runs/fxeer5vz' target=\"_blank\">https://wandb.ai/dylan-home/pnca-singletons-sweep/runs/fxeer5vz</a>"
      ],
      "text/plain": [
       "<IPython.core.display.HTML object>"
      ]
     },
     "metadata": {},
     "output_type": "display_data"
    },
    {
     "name": "stdout",
     "output_type": "stream",
     "text": [
      "Adjusting edge index and attaching edge weights for cutoff distance 11.416177358131913\n",
      "Early stopping enabled. Patience: 20. Min Delta: 0.\n",
      "Epoch: 010, Train Acc: 0.4698, Test Acc: 0.4850, Train Loss: 1.3401, Test Loss: 1.3014\n",
      "Epoch: 020, Train Acc: 0.5237, Test Acc: 0.5450, Train Loss: 0.6993, Test Loss: 0.6970\n",
      "Epoch: 030, Train Acc: 0.4871, Test Acc: 0.4400, Train Loss: 0.6879, Test Loss: 0.6910\n",
      "Epoch: 040, Train Acc: 0.5259, Test Acc: 0.5100, Train Loss: 0.6889, Test Loss: 0.6939\n",
      "Epoch: 050, Train Acc: 0.4978, Test Acc: 0.4600, Train Loss: 0.6848, Test Loss: 0.6884\n",
      "Epoch: 060, Train Acc: 0.5043, Test Acc: 0.4700, Train Loss: 0.6836, Test Loss: 0.6875\n",
      "Epoch: 070, Train Acc: 0.5108, Test Acc: 0.4900, Train Loss: 0.6821, Test Loss: 0.6867\n",
      "Epoch: 080, Train Acc: 0.4978, Test Acc: 0.4750, Train Loss: 0.6815, Test Loss: 0.6846\n",
      "Epoch: 090, Train Acc: 0.5302, Test Acc: 0.4900, Train Loss: 0.6806, Test Loss: 0.6859\n",
      "Epoch: 100, Train Acc: 0.5216, Test Acc: 0.4850, Train Loss: 0.6793, Test Loss: 0.6832\n",
      "Epoch: 110, Train Acc: 0.5841, Test Acc: 0.5950, Train Loss: 0.6786, Test Loss: 0.6816\n",
      "Epoch: 120, Train Acc: 0.5345, Test Acc: 0.4850, Train Loss: 0.6760, Test Loss: 0.6810\n",
      "Epoch: 130, Train Acc: 0.5323, Test Acc: 0.4950, Train Loss: 0.6765, Test Loss: 0.6817\n",
      "Epoch: 140, Train Acc: 0.5323, Test Acc: 0.5450, Train Loss: 0.6739, Test Loss: 0.6786\n",
      "Epoch: 150, Train Acc: 0.5474, Test Acc: 0.4900, Train Loss: 0.6732, Test Loss: 0.6784\n",
      "Epoch: 160, Train Acc: 0.5560, Test Acc: 0.5150, Train Loss: 0.6712, Test Loss: 0.6771\n",
      "Epoch: 170, Train Acc: 0.5603, Test Acc: 0.5200, Train Loss: 0.6708, Test Loss: 0.6762\n",
      "Epoch: 180, Train Acc: 0.5582, Test Acc: 0.5450, Train Loss: 0.6688, Test Loss: 0.6748\n",
      "Epoch: 190, Train Acc: 0.5625, Test Acc: 0.5850, Train Loss: 0.6673, Test Loss: 0.6736\n",
      "Epoch: 200, Train Acc: 0.5625, Test Acc: 0.5400, Train Loss: 0.6663, Test Loss: 0.6733\n",
      "Epoch: 210, Train Acc: 0.5668, Test Acc: 0.5000, Train Loss: 0.6654, Test Loss: 0.6735\n",
      "Epoch: 220, Train Acc: 0.5625, Test Acc: 0.5250, Train Loss: 0.6647, Test Loss: 0.6724\n",
      "Epoch: 230, Train Acc: 0.6293, Test Acc: 0.6150, Train Loss: 0.6649, Test Loss: 0.6702\n",
      "Epoch: 240, Train Acc: 0.5647, Test Acc: 0.5100, Train Loss: 0.6620, Test Loss: 0.6714\n",
      "Epoch: 250, Train Acc: 0.5668, Test Acc: 0.5650, Train Loss: 0.6597, Test Loss: 0.6687\n",
      "Epoch: 260, Train Acc: 0.5690, Test Acc: 0.5400, Train Loss: 0.6593, Test Loss: 0.6693\n",
      "Epoch: 270, Train Acc: 0.5862, Test Acc: 0.5750, Train Loss: 0.6584, Test Loss: 0.6677\n",
      "Epoch: 280, Train Acc: 0.6358, Test Acc: 0.6050, Train Loss: 0.6571, Test Loss: 0.6660\n",
      "Epoch: 290, Train Acc: 0.5948, Test Acc: 0.5750, Train Loss: 0.6570, Test Loss: 0.6654\n",
      "Epoch: 300, Train Acc: 0.5841, Test Acc: 0.5650, Train Loss: 0.6553, Test Loss: 0.6649\n",
      "Epoch: 310, Train Acc: 0.5668, Test Acc: 0.5700, Train Loss: 0.6539, Test Loss: 0.6645\n",
      "Epoch: 320, Train Acc: 0.5776, Test Acc: 0.5800, Train Loss: 0.6526, Test Loss: 0.6641\n",
      "Epoch: 330, Train Acc: 0.6099, Test Acc: 0.5800, Train Loss: 0.6512, Test Loss: 0.6629\n",
      "Epoch: 340, Train Acc: 0.5668, Test Acc: 0.5700, Train Loss: 0.6508, Test Loss: 0.6629\n",
      "Epoch: 350, Train Acc: 0.5884, Test Acc: 0.5750, Train Loss: 0.6496, Test Loss: 0.6621\n",
      "Epoch: 360, Train Acc: 0.5733, Test Acc: 0.5700, Train Loss: 0.6497, Test Loss: 0.6617\n",
      "Epoch: 370, Train Acc: 0.6250, Test Acc: 0.5950, Train Loss: 0.6484, Test Loss: 0.6606\n",
      "Epoch: 380, Train Acc: 0.5991, Test Acc: 0.5700, Train Loss: 0.6460, Test Loss: 0.6603\n",
      "Epoch: 390, Train Acc: 0.6272, Test Acc: 0.5900, Train Loss: 0.6460, Test Loss: 0.6594\n",
      "Epoch: 400, Train Acc: 0.6315, Test Acc: 0.6000, Train Loss: 0.6439, Test Loss: 0.6588\n",
      "Epoch: 410, Train Acc: 0.6293, Test Acc: 0.5850, Train Loss: 0.6443, Test Loss: 0.6583\n",
      "Epoch: 420, Train Acc: 0.6013, Test Acc: 0.5800, Train Loss: 0.6411, Test Loss: 0.6581\n",
      "Epoch: 430, Train Acc: 0.6659, Test Acc: 0.5900, Train Loss: 0.6412, Test Loss: 0.6569\n",
      "Epoch: 440, Train Acc: 0.6099, Test Acc: 0.5850, Train Loss: 0.6403, Test Loss: 0.6570\n",
      "Epoch: 450, Train Acc: 0.5797, Test Acc: 0.5850, Train Loss: 0.6400, Test Loss: 0.6572\n",
      "Epoch: 460, Train Acc: 0.5797, Test Acc: 0.5850, Train Loss: 0.6384, Test Loss: 0.6565\n",
      "Epoch: 470, Train Acc: 0.6099, Test Acc: 0.5900, Train Loss: 0.6368, Test Loss: 0.6554\n",
      "Epoch: 480, Train Acc: 0.5905, Test Acc: 0.5850, Train Loss: 0.6364, Test Loss: 0.6555\n",
      "Epoch: 490, Train Acc: 0.6552, Test Acc: 0.5950, Train Loss: 0.6341, Test Loss: 0.6535\n",
      "Epoch: 500, Train Acc: 0.6013, Test Acc: 0.5900, Train Loss: 0.6343, Test Loss: 0.6540\n",
      "Epoch: 510, Train Acc: 0.6552, Test Acc: 0.5950, Train Loss: 0.6325, Test Loss: 0.6525\n",
      "Epoch: 520, Train Acc: 0.5991, Test Acc: 0.5950, Train Loss: 0.6301, Test Loss: 0.6533\n",
      "Epoch: 530, Train Acc: 0.6487, Test Acc: 0.5900, Train Loss: 0.6305, Test Loss: 0.6514\n",
      "Epoch: 540, Train Acc: 0.6422, Test Acc: 0.6000, Train Loss: 0.6285, Test Loss: 0.6514\n",
      "Epoch: 550, Train Acc: 0.6703, Test Acc: 0.5900, Train Loss: 0.6285, Test Loss: 0.6500\n",
      "Epoch: 560, Train Acc: 0.6422, Test Acc: 0.6050, Train Loss: 0.6274, Test Loss: 0.6503\n",
      "Epoch: 570, Train Acc: 0.6573, Test Acc: 0.6000, Train Loss: 0.6256, Test Loss: 0.6489\n",
      "Epoch: 580, Train Acc: 0.6379, Test Acc: 0.5950, Train Loss: 0.6257, Test Loss: 0.6494\n",
      "Epoch: 590, Train Acc: 0.6509, Test Acc: 0.6000, Train Loss: 0.6222, Test Loss: 0.6484\n",
      "Epoch: 600, Train Acc: 0.6552, Test Acc: 0.6000, Train Loss: 0.6232, Test Loss: 0.6479\n",
      "Epoch: 610, Train Acc: 0.6659, Test Acc: 0.6050, Train Loss: 0.6208, Test Loss: 0.6467\n",
      "Epoch: 620, Train Acc: 0.6379, Test Acc: 0.6050, Train Loss: 0.6196, Test Loss: 0.6474\n",
      "Epoch: 630, Train Acc: 0.6573, Test Acc: 0.6150, Train Loss: 0.6187, Test Loss: 0.6464\n",
      "Epoch: 640, Train Acc: 0.6530, Test Acc: 0.6100, Train Loss: 0.6179, Test Loss: 0.6459\n",
      "Epoch: 650, Train Acc: 0.6401, Test Acc: 0.6050, Train Loss: 0.6161, Test Loss: 0.6461\n",
      "Epoch: 660, Train Acc: 0.6228, Test Acc: 0.5900, Train Loss: 0.6147, Test Loss: 0.6465\n",
      "Epoch: 670, Train Acc: 0.6228, Test Acc: 0.5900, Train Loss: 0.6147, Test Loss: 0.6459\n",
      "Epoch: 680, Train Acc: 0.6703, Test Acc: 0.6150, Train Loss: 0.6149, Test Loss: 0.6430\n",
      "Epoch: 690, Train Acc: 0.6659, Test Acc: 0.6000, Train Loss: 0.6130, Test Loss: 0.6422\n",
      "Epoch: 700, Train Acc: 0.6724, Test Acc: 0.6100, Train Loss: 0.6111, Test Loss: 0.6420\n",
      "Epoch: 710, Train Acc: 0.6595, Test Acc: 0.6100, Train Loss: 0.6093, Test Loss: 0.6427\n",
      "Epoch: 720, Train Acc: 0.6552, Test Acc: 0.6100, Train Loss: 0.6077, Test Loss: 0.6424\n",
      "Epoch: 730, Train Acc: 0.6422, Test Acc: 0.6050, Train Loss: 0.6080, Test Loss: 0.6422\n",
      "Epoch: 740, Train Acc: 0.6638, Test Acc: 0.6100, Train Loss: 0.6074, Test Loss: 0.6403\n",
      "Epoch: 750, Train Acc: 0.6810, Test Acc: 0.6150, Train Loss: 0.6048, Test Loss: 0.6390\n",
      "Epoch: 760, Train Acc: 0.6789, Test Acc: 0.6150, Train Loss: 0.6070, Test Loss: 0.6383\n",
      "Epoch: 770, Train Acc: 0.6767, Test Acc: 0.6100, Train Loss: 0.6021, Test Loss: 0.6379\n",
      "Epoch: 780, Train Acc: 0.6767, Test Acc: 0.6100, Train Loss: 0.6010, Test Loss: 0.6373\n",
      "Epoch: 790, Train Acc: 0.6638, Test Acc: 0.6150, Train Loss: 0.6009, Test Loss: 0.6376\n",
      "Epoch: 800, Train Acc: 0.6595, Test Acc: 0.6050, Train Loss: 0.6005, Test Loss: 0.6379\n",
      "Epoch: 810, Train Acc: 0.6746, Test Acc: 0.6150, Train Loss: 0.6000, Test Loss: 0.6361\n",
      "Epoch: 820, Train Acc: 0.6810, Test Acc: 0.6150, Train Loss: 0.5981, Test Loss: 0.6350\n",
      "Epoch: 830, Train Acc: 0.6789, Test Acc: 0.6100, Train Loss: 0.5973, Test Loss: 0.6343\n",
      "Epoch: 840, Train Acc: 0.6724, Test Acc: 0.6150, Train Loss: 0.5957, Test Loss: 0.6337\n",
      "Epoch: 850, Train Acc: 0.6789, Test Acc: 0.6150, Train Loss: 0.5941, Test Loss: 0.6333\n",
      "Epoch: 860, Train Acc: 0.6724, Test Acc: 0.6150, Train Loss: 0.5940, Test Loss: 0.6326\n",
      "Epoch: 870, Train Acc: 0.6659, Test Acc: 0.6150, Train Loss: 0.5945, Test Loss: 0.6344\n",
      "Epoch: 880, Train Acc: 0.6853, Test Acc: 0.6150, Train Loss: 0.5922, Test Loss: 0.6317\n",
      "Epoch: 890, Train Acc: 0.6810, Test Acc: 0.6150, Train Loss: 0.5920, Test Loss: 0.6323\n",
      "Epoch: 900, Train Acc: 0.6832, Test Acc: 0.6200, Train Loss: 0.5883, Test Loss: 0.6315\n",
      "Epoch: 910, Train Acc: 0.6853, Test Acc: 0.6150, Train Loss: 0.5895, Test Loss: 0.6317\n",
      "Epoch: 920, Train Acc: 0.6746, Test Acc: 0.6100, Train Loss: 0.5893, Test Loss: 0.6303\n",
      "Epoch: 930, Train Acc: 0.6875, Test Acc: 0.6200, Train Loss: 0.5865, Test Loss: 0.6302\n",
      "Epoch: 940, Train Acc: 0.6897, Test Acc: 0.6200, Train Loss: 0.5860, Test Loss: 0.6300\n",
      "Epoch: 950, Train Acc: 0.6918, Test Acc: 0.6250, Train Loss: 0.5843, Test Loss: 0.6285\n",
      "Epoch: 960, Train Acc: 0.6875, Test Acc: 0.6250, Train Loss: 0.5846, Test Loss: 0.6283\n",
      "Epoch: 970, Train Acc: 0.7004, Test Acc: 0.6300, Train Loss: 0.5849, Test Loss: 0.6277\n",
      "Epoch: 980, Train Acc: 0.6875, Test Acc: 0.6150, Train Loss: 0.5841, Test Loss: 0.6277\n",
      "Epoch: 990, Train Acc: 0.6897, Test Acc: 0.6250, Train Loss: 0.5816, Test Loss: 0.6283\n",
      "Epoch: 1000, Train Acc: 0.6875, Test Acc: 0.6200, Train Loss: 0.5813, Test Loss: 0.6288\n",
      "Epoch: 1010, Train Acc: 0.6961, Test Acc: 0.6350, Train Loss: 0.5805, Test Loss: 0.6266\n",
      "Epoch: 1020, Train Acc: 0.6897, Test Acc: 0.6300, Train Loss: 0.5791, Test Loss: 0.6264\n",
      "Epoch: 1030, Train Acc: 0.6918, Test Acc: 0.6250, Train Loss: 0.5773, Test Loss: 0.6259\n",
      "Epoch: 1040, Train Acc: 0.6918, Test Acc: 0.6300, Train Loss: 0.5772, Test Loss: 0.6257\n",
      "Epoch: 1050, Train Acc: 0.7047, Test Acc: 0.6300, Train Loss: 0.5791, Test Loss: 0.6246\n",
      "Epoch: 1060, Train Acc: 0.7026, Test Acc: 0.6300, Train Loss: 0.5765, Test Loss: 0.6241\n",
      "Epoch: 1070, Train Acc: 0.7112, Test Acc: 0.6300, Train Loss: 0.5770, Test Loss: 0.6238\n",
      "Epoch: 1080, Train Acc: 0.6940, Test Acc: 0.6450, Train Loss: 0.5745, Test Loss: 0.6239\n",
      "Epoch: 1090, Train Acc: 0.6940, Test Acc: 0.6250, Train Loss: 0.5728, Test Loss: 0.6241\n",
      "Epoch: 1100, Train Acc: 0.7091, Test Acc: 0.6350, Train Loss: 0.5720, Test Loss: 0.6227\n",
      "Epoch: 1110, Train Acc: 0.6983, Test Acc: 0.6200, Train Loss: 0.5701, Test Loss: 0.6233\n",
      "Epoch: 1120, Train Acc: 0.6983, Test Acc: 0.6450, Train Loss: 0.5712, Test Loss: 0.6226\n",
      "Epoch: 1130, Train Acc: 0.7004, Test Acc: 0.6250, Train Loss: 0.5707, Test Loss: 0.6234\n",
      "Epoch: 1140, Train Acc: 0.7004, Test Acc: 0.6250, Train Loss: 0.5714, Test Loss: 0.6234\n",
      "Epoch: 1150, Train Acc: 0.7091, Test Acc: 0.6400, Train Loss: 0.5667, Test Loss: 0.6208\n",
      "Epoch: 1160, Train Acc: 0.7004, Test Acc: 0.6350, Train Loss: 0.5685, Test Loss: 0.6205\n",
      "Epoch: 1170, Train Acc: 0.7091, Test Acc: 0.6400, Train Loss: 0.5684, Test Loss: 0.6201\n",
      "Epoch: 1180, Train Acc: 0.7134, Test Acc: 0.6400, Train Loss: 0.5663, Test Loss: 0.6196\n",
      "Epoch: 1190, Train Acc: 0.7047, Test Acc: 0.6400, Train Loss: 0.5644, Test Loss: 0.6197\n",
      "Epoch: 1200, Train Acc: 0.7069, Test Acc: 0.6400, Train Loss: 0.5640, Test Loss: 0.6194\n",
      "Epoch: 1210, Train Acc: 0.7091, Test Acc: 0.6300, Train Loss: 0.5626, Test Loss: 0.6199\n",
      "Epoch: 1220, Train Acc: 0.7155, Test Acc: 0.6350, Train Loss: 0.5610, Test Loss: 0.6181\n",
      "Epoch: 1230, Train Acc: 0.7134, Test Acc: 0.6400, Train Loss: 0.5645, Test Loss: 0.6177\n",
      "Epoch: 1240, Train Acc: 0.7112, Test Acc: 0.6300, Train Loss: 0.5621, Test Loss: 0.6193\n",
      "Epoch: 1250, Train Acc: 0.7091, Test Acc: 0.6450, Train Loss: 0.5596, Test Loss: 0.6178\n",
      "Epoch: 1260, Train Acc: 0.7198, Test Acc: 0.6300, Train Loss: 0.5615, Test Loss: 0.6170\n",
      "Epoch: 1270, Train Acc: 0.7220, Test Acc: 0.6400, Train Loss: 0.5597, Test Loss: 0.6168\n",
      "Epoch: 1280, Train Acc: 0.7177, Test Acc: 0.6350, Train Loss: 0.5607, Test Loss: 0.6161\n",
      "Epoch: 1290, Train Acc: 0.7134, Test Acc: 0.6450, Train Loss: 0.5557, Test Loss: 0.6174\n",
      "Epoch: 1300, Train Acc: 0.7112, Test Acc: 0.6450, Train Loss: 0.5558, Test Loss: 0.6168\n",
      "Epoch: 1310, Train Acc: 0.7220, Test Acc: 0.6350, Train Loss: 0.5547, Test Loss: 0.6157\n",
      "Epoch: 1320, Train Acc: 0.7198, Test Acc: 0.6350, Train Loss: 0.5570, Test Loss: 0.6149\n",
      "Epoch: 1330, Train Acc: 0.7155, Test Acc: 0.6300, Train Loss: 0.5556, Test Loss: 0.6146\n",
      "Epoch: 1340, Train Acc: 0.7198, Test Acc: 0.6450, Train Loss: 0.5557, Test Loss: 0.6165\n",
      "Epoch: 1350, Train Acc: 0.7220, Test Acc: 0.6400, Train Loss: 0.5536, Test Loss: 0.6148\n",
      "Epoch: 1360, Train Acc: 0.7284, Test Acc: 0.6400, Train Loss: 0.5563, Test Loss: 0.6134\n",
      "Epoch: 1370, Train Acc: 0.7284, Test Acc: 0.6350, Train Loss: 0.5534, Test Loss: 0.6130\n",
      "Epoch: 1380, Train Acc: 0.7263, Test Acc: 0.6450, Train Loss: 0.5519, Test Loss: 0.6138\n",
      "Epoch: 1390, Train Acc: 0.7241, Test Acc: 0.6400, Train Loss: 0.5515, Test Loss: 0.6126\n",
      "Epoch: 1400, Train Acc: 0.7198, Test Acc: 0.6450, Train Loss: 0.5507, Test Loss: 0.6124\n",
      "Epoch: 1410, Train Acc: 0.7284, Test Acc: 0.6400, Train Loss: 0.5512, Test Loss: 0.6123\n",
      "Epoch: 1420, Train Acc: 0.7263, Test Acc: 0.6350, Train Loss: 0.5478, Test Loss: 0.6120\n",
      "Epoch: 1430, Train Acc: 0.7263, Test Acc: 0.6450, Train Loss: 0.5486, Test Loss: 0.6117\n",
      "Epoch: 1440, Train Acc: 0.7220, Test Acc: 0.6550, Train Loss: 0.5491, Test Loss: 0.6132\n",
      "Epoch: 1450, Train Acc: 0.7306, Test Acc: 0.6500, Train Loss: 0.5460, Test Loss: 0.6116\n",
      "Epoch: 1460, Train Acc: 0.7306, Test Acc: 0.6450, Train Loss: 0.5471, Test Loss: 0.6106\n",
      "Epoch: 1470, Train Acc: 0.7155, Test Acc: 0.6400, Train Loss: 0.5449, Test Loss: 0.6131\n",
      "Epoch: 1480, Train Acc: 0.7284, Test Acc: 0.6500, Train Loss: 0.5459, Test Loss: 0.6104\n",
      "Epoch: 1490, Train Acc: 0.7328, Test Acc: 0.6500, Train Loss: 0.5454, Test Loss: 0.6095\n",
      "Epoch: 1500, Train Acc: 0.7349, Test Acc: 0.6500, Train Loss: 0.5423, Test Loss: 0.6092\n"
     ]
    },
    {
     "data": {
      "text/html": [
       "<style>\n",
       "    table.wandb td:nth-child(1) { padding: 0 10px; text-align: left ; width: auto;} td:nth-child(2) {text-align: left ; width: 100%}\n",
       "    .wandb-row { display: flex; flex-direction: row; flex-wrap: wrap; justify-content: flex-start; width: 100% }\n",
       "    .wandb-col { display: flex; flex-direction: column; flex-basis: 100%; flex: 1; padding: 10px; }\n",
       "    </style>\n",
       "<div class=\"wandb-row\"><div class=\"wandb-col\"><h3>Run history:</h3><br/><table class=\"wandb\"><tr><td>Test Accuracy</td><td>▂▁▂▂▃▅▃▅▅▅▅▅▆▆▆▆▇▆▆▇▇▆▇▇▇▇▇█▇▇▇█▇▇▇▇████</td></tr><tr><td>Test F1</td><td>▁▇▇█████▇▇███████▇▇███▇▇▇▇▇█▇▇▇███▇▇▇▇██</td></tr><tr><td>Test Loss</td><td>█▅▅▅▅▅▄▄▄▄▄▄▄▃▃▃▃▃▃▃▃▃▂▂▂▂▂▂▂▂▂▂▂▁▁▁▁▁▁▁</td></tr><tr><td>Test Sensitivity</td><td>▁▇▇█████▇▆▇▇▇▆▇▆▆▅▆▆▆▆▆▅▆▆▅▆▆▆▆▆▆▆▅▅▅▅▆▆</td></tr><tr><td>Test Specificity</td><td>█▁▂▁▂▃▂▃▄▄▃▃▄▄▄▅▅▅▅▅▅▅▅▆▅▅▆▆▆▅▆▆▅▅▆▆▆▆▅▆</td></tr><tr><td>Train Accuracy</td><td>▁▂▂▃▃▃▄▄▄▄▄▄▄▅▄▆▆▆▆▆▆▆▇▇▇▇▇▇▇▇▇█▇▇██████</td></tr><tr><td>Train F1</td><td>▁▇▇██▇██▇▇▇█▇▇▇▇█▇██████████████████████</td></tr><tr><td>Train Loss</td><td>█▆▆▆▅▅▅▅▅▅▅▄▄▄▄▄▄▄▃▃▃▃▃▃▃▃▂▂▂▂▂▂▂▂▂▁▁▁▁▁</td></tr><tr><td>Train Sensitivity</td><td>▁▇▇█▇▇█▇▆▆▇▇▇▆▇▆▆▆▆▆▆▆▆▆▆▆▆▆▆▆▆▆▆▆▆▆▆▆▆▆</td></tr><tr><td>Train Specificity</td><td>█▁▁▁▂▂▂▂▃▄▃▃▃▄▃▅▅▆▅▅▅▅▆▆▆▆▆▆▆▆▆▆▆▆▇▇▇▇▆▇</td></tr></table><br/></div><div class=\"wandb-col\"><h3>Run summary:</h3><br/><table class=\"wandb\"><tr><td>Test Accuracy</td><td>0.65</td></tr><tr><td>Test F1</td><td>0.63542</td></tr><tr><td>Test Loss</td><td>0.6092</td></tr><tr><td>Test Sensitivity</td><td>0.59223</td></tr><tr><td>Test Specificity</td><td>0.71134</td></tr><tr><td>Train Accuracy</td><td>0.73491</td></tr><tr><td>Train F1</td><td>0.72235</td></tr><tr><td>Train Loss</td><td>0.54227</td></tr><tr><td>Train Sensitivity</td><td>0.65041</td></tr><tr><td>Train Specificity</td><td>0.83028</td></tr></table><br/></div></div>"
      ],
      "text/plain": [
       "<IPython.core.display.HTML object>"
      ]
     },
     "metadata": {},
     "output_type": "display_data"
    },
    {
     "data": {
      "text/html": [
       " View run <strong style=\"color:#cdcd00\">sparkling-sweep-9</strong> at: <a href='https://wandb.ai/dylan-home/pnca-singletons-sweep/runs/fxeer5vz' target=\"_blank\">https://wandb.ai/dylan-home/pnca-singletons-sweep/runs/fxeer5vz</a><br/>Synced 5 W&B file(s), 0 media file(s), 0 artifact file(s) and 0 other file(s)"
      ],
      "text/plain": [
       "<IPython.core.display.HTML object>"
      ]
     },
     "metadata": {},
     "output_type": "display_data"
    },
    {
     "data": {
      "text/html": [
       "Find logs at: <code>./wandb/run-20250206_184500-fxeer5vz/logs</code>"
      ],
      "text/plain": [
       "<IPython.core.display.HTML object>"
      ]
     },
     "metadata": {},
     "output_type": "display_data"
    },
    {
     "name": "stderr",
     "output_type": "stream",
     "text": [
      "\u001b[34m\u001b[1mwandb\u001b[0m: Agent Starting Run: blnw2ivl with config:\n",
      "\u001b[34m\u001b[1mwandb\u001b[0m: \tcutoff_distance: 12.03213400264242\n",
      "\u001b[34m\u001b[1mwandb\u001b[0m: \tdropout: 0.2\n",
      "\u001b[34m\u001b[1mwandb\u001b[0m: \thidden_channels: 32\n",
      "\u001b[34m\u001b[1mwandb\u001b[0m: \tlearning_rate: 0.0009197151592639528\n",
      "\u001b[34m\u001b[1mwandb\u001b[0m: \tweight_decay: 0.02652113765985763\n",
      "Failed to detect the name of this notebook, you can set it manually with the WANDB_NOTEBOOK_NAME environment variable to enable code saving.\n"
     ]
    },
    {
     "data": {
      "text/html": [
       "wandb version 0.19.6 is available!  To upgrade, please run:\n",
       " $ pip install wandb --upgrade"
      ],
      "text/plain": [
       "<IPython.core.display.HTML object>"
      ]
     },
     "metadata": {},
     "output_type": "display_data"
    },
    {
     "data": {
      "text/html": [
       "Tracking run with wandb version 0.16.4"
      ],
      "text/plain": [
       "<IPython.core.display.HTML object>"
      ]
     },
     "metadata": {},
     "output_type": "display_data"
    },
    {
     "data": {
      "text/html": [
       "Run data is saved locally in <code>/Users/dylandissanayake/Desktop/DPhil/Comp Disc/Repositories/tb-pnca-gnn/dd_pnca/wandb/run-20250206_200626-blnw2ivl</code>"
      ],
      "text/plain": [
       "<IPython.core.display.HTML object>"
      ]
     },
     "metadata": {},
     "output_type": "display_data"
    },
    {
     "data": {
      "text/html": [
       "Syncing run <strong><a href='https://wandb.ai/dylan-home/pnca-singletons-sweep/runs/blnw2ivl' target=\"_blank\">swept-sweep-10</a></strong> to <a href='https://wandb.ai/dylan-home/pnca-singletons-sweep' target=\"_blank\">Weights & Biases</a> (<a href='https://wandb.me/run' target=\"_blank\">docs</a>)<br/>Sweep page: <a href='https://wandb.ai/dylan-home/pnca-singletons-sweep/sweeps/i8r2s0bc' target=\"_blank\">https://wandb.ai/dylan-home/pnca-singletons-sweep/sweeps/i8r2s0bc</a>"
      ],
      "text/plain": [
       "<IPython.core.display.HTML object>"
      ]
     },
     "metadata": {},
     "output_type": "display_data"
    },
    {
     "data": {
      "text/html": [
       " View project at <a href='https://wandb.ai/dylan-home/pnca-singletons-sweep' target=\"_blank\">https://wandb.ai/dylan-home/pnca-singletons-sweep</a>"
      ],
      "text/plain": [
       "<IPython.core.display.HTML object>"
      ]
     },
     "metadata": {},
     "output_type": "display_data"
    },
    {
     "data": {
      "text/html": [
       " View sweep at <a href='https://wandb.ai/dylan-home/pnca-singletons-sweep/sweeps/i8r2s0bc' target=\"_blank\">https://wandb.ai/dylan-home/pnca-singletons-sweep/sweeps/i8r2s0bc</a>"
      ],
      "text/plain": [
       "<IPython.core.display.HTML object>"
      ]
     },
     "metadata": {},
     "output_type": "display_data"
    },
    {
     "data": {
      "text/html": [
       " View run at <a href='https://wandb.ai/dylan-home/pnca-singletons-sweep/runs/blnw2ivl' target=\"_blank\">https://wandb.ai/dylan-home/pnca-singletons-sweep/runs/blnw2ivl</a>"
      ],
      "text/plain": [
       "<IPython.core.display.HTML object>"
      ]
     },
     "metadata": {},
     "output_type": "display_data"
    },
    {
     "name": "stdout",
     "output_type": "stream",
     "text": [
      "Adjusting edge index and attaching edge weights for cutoff distance 12.03213400264242\n",
      "Early stopping enabled. Patience: 20. Min Delta: 0.\n",
      "Epoch: 010, Train Acc: 0.5302, Test Acc: 0.5150, Train Loss: 1.4623, Test Loss: 1.4965\n",
      "Epoch: 020, Train Acc: 0.5302, Test Acc: 0.5150, Train Loss: 0.7159, Test Loss: 0.7218\n",
      "Epoch: 030, Train Acc: 0.5345, Test Acc: 0.5650, Train Loss: 0.6913, Test Loss: 0.6849\n",
      "Epoch: 040, Train Acc: 0.5216, Test Acc: 0.5150, Train Loss: 0.6812, Test Loss: 0.6849\n",
      "Epoch: 050, Train Acc: 0.5302, Test Acc: 0.5150, Train Loss: 1.0132, Test Loss: 1.0468\n",
      "Epoch: 060, Train Acc: 0.5409, Test Acc: 0.5250, Train Loss: 0.6678, Test Loss: 0.6818\n",
      "Epoch: 070, Train Acc: 0.4828, Test Acc: 0.5050, Train Loss: 0.8537, Test Loss: 0.8361\n",
      "Epoch: 080, Train Acc: 0.5043, Test Acc: 0.5450, Train Loss: 0.8304, Test Loss: 0.8149\n",
      "20 epochs passed without 0 test loss improvement. \n",
      "Early stopping triggered.\n"
     ]
    },
    {
     "data": {
      "text/html": [
       "<style>\n",
       "    table.wandb td:nth-child(1) { padding: 0 10px; text-align: left ; width: auto;} td:nth-child(2) {text-align: left ; width: 100%}\n",
       "    .wandb-row { display: flex; flex-direction: row; flex-wrap: wrap; justify-content: flex-start; width: 100% }\n",
       "    .wandb-col { display: flex; flex-direction: column; flex-basis: 100%; flex: 1; padding: 10px; }\n",
       "    </style>\n",
       "<div class=\"wandb-row\"><div class=\"wandb-col\"><h3>Run history:</h3><br/><table class=\"wandb\"><tr><td>Test Accuracy</td><td>▃▃▃▃▃▃▃▄▂▃▂▃▅█▆▅▇▃▃▃▃▃▃▃▃▃▃▂▃▁▃▂▂▂▂▄▇▂▅▂</td></tr><tr><td>Test F1</td><td>███████▃███▂▃▆▄▄▆████████████▁█▁▁▂▂▃▆▂▃▂</td></tr><tr><td>Test Loss</td><td>█▁▁▂▂▁▁▁▁▁▁▁▁▁▁▁▁▁▁▁▁▁▁▁▁▁▁▁▁▁▁▁▁▁▁▁▁▁▁▁</td></tr><tr><td>Test Sensitivity</td><td>███████▂███▁▂▃▂▂▃██████████▇█▁▇▁▁▁▁▂▄▁▂▁</td></tr><tr><td>Test Specificity</td><td>▁▁▁▁▁▁▁█▁▁▁██▇██▇▁▁▁▁▁▁▁▁▁▁▂▁█▂█████▇███</td></tr><tr><td>Train Accuracy</td><td>▄▄▄▄▄▄▄▃▄▄▃▁▃▆▄▄█▃▄▃▄▄▄▄▄▄▄▅▄▁▆▁▁▂▁▂█▁▃▁</td></tr><tr><td>Train F1</td><td>███████▂███▁▂▅▃▃▆████████████▁█▁▁▁▁▂▆▁▂▁</td></tr><tr><td>Train Loss</td><td>█▁▁▂▂▁▁▁▁▁▁▁▁▁▁▁▁▁▁▁▁▁▁▁▁▁▁▁▁▁▁▁▁▁▁▁▁▁▁▁</td></tr><tr><td>Train Sensitivity</td><td>███████▂███▁▂▃▂▂▃▇███████████▁▇▁▁▁▁▁▃▁▁▁</td></tr><tr><td>Train Specificity</td><td>▁▁▁▁▁▁▁█▁▁▁██████▁▁▁▁▁▁▁▁▁▁▂▁█▂█████▇███</td></tr></table><br/></div><div class=\"wandb-col\"><h3>Run summary:</h3><br/><table class=\"wandb\"><tr><td>Test Accuracy</td><td>0.5</td></tr><tr><td>Test F1</td><td>0.0566</td></tr><tr><td>Test Loss</td><td>1.08392</td></tr><tr><td>Test Sensitivity</td><td>0.02913</td></tr><tr><td>Test Specificity</td><td>1.0</td></tr><tr><td>Train Accuracy</td><td>0.4806</td></tr><tr><td>Train F1</td><td>0.03984</td></tr><tr><td>Train Loss</td><td>1.1152</td></tr><tr><td>Train Sensitivity</td><td>0.02033</td></tr><tr><td>Train Specificity</td><td>1.0</td></tr></table><br/></div></div>"
      ],
      "text/plain": [
       "<IPython.core.display.HTML object>"
      ]
     },
     "metadata": {},
     "output_type": "display_data"
    },
    {
     "data": {
      "text/html": [
       " View run <strong style=\"color:#cdcd00\">swept-sweep-10</strong> at: <a href='https://wandb.ai/dylan-home/pnca-singletons-sweep/runs/blnw2ivl' target=\"_blank\">https://wandb.ai/dylan-home/pnca-singletons-sweep/runs/blnw2ivl</a><br/>Synced 5 W&B file(s), 0 media file(s), 0 artifact file(s) and 0 other file(s)"
      ],
      "text/plain": [
       "<IPython.core.display.HTML object>"
      ]
     },
     "metadata": {},
     "output_type": "display_data"
    },
    {
     "data": {
      "text/html": [
       "Find logs at: <code>./wandb/run-20250206_200626-blnw2ivl/logs</code>"
      ],
      "text/plain": [
       "<IPython.core.display.HTML object>"
      ]
     },
     "metadata": {},
     "output_type": "display_data"
    },
    {
     "name": "stderr",
     "output_type": "stream",
     "text": [
      "\u001b[34m\u001b[1mwandb\u001b[0m: Agent Starting Run: jylzwnnb with config:\n",
      "\u001b[34m\u001b[1mwandb\u001b[0m: \tcutoff_distance: 9.155594714309997\n",
      "\u001b[34m\u001b[1mwandb\u001b[0m: \tdropout: 0.6\n",
      "\u001b[34m\u001b[1mwandb\u001b[0m: \thidden_channels: 320\n",
      "\u001b[34m\u001b[1mwandb\u001b[0m: \tlearning_rate: 3.208489532697285e-06\n",
      "\u001b[34m\u001b[1mwandb\u001b[0m: \tweight_decay: 0.038912774337169026\n",
      "Failed to detect the name of this notebook, you can set it manually with the WANDB_NOTEBOOK_NAME environment variable to enable code saving.\n"
     ]
    },
    {
     "data": {
      "text/html": [
       "wandb version 0.19.6 is available!  To upgrade, please run:\n",
       " $ pip install wandb --upgrade"
      ],
      "text/plain": [
       "<IPython.core.display.HTML object>"
      ]
     },
     "metadata": {},
     "output_type": "display_data"
    },
    {
     "data": {
      "text/html": [
       "Tracking run with wandb version 0.16.4"
      ],
      "text/plain": [
       "<IPython.core.display.HTML object>"
      ]
     },
     "metadata": {},
     "output_type": "display_data"
    },
    {
     "data": {
      "text/html": [
       "Run data is saved locally in <code>/Users/dylandissanayake/Desktop/DPhil/Comp Disc/Repositories/tb-pnca-gnn/dd_pnca/wandb/run-20250206_200717-jylzwnnb</code>"
      ],
      "text/plain": [
       "<IPython.core.display.HTML object>"
      ]
     },
     "metadata": {},
     "output_type": "display_data"
    },
    {
     "data": {
      "text/html": [
       "Syncing run <strong><a href='https://wandb.ai/dylan-home/pnca-singletons-sweep/runs/jylzwnnb' target=\"_blank\">fancy-sweep-11</a></strong> to <a href='https://wandb.ai/dylan-home/pnca-singletons-sweep' target=\"_blank\">Weights & Biases</a> (<a href='https://wandb.me/run' target=\"_blank\">docs</a>)<br/>Sweep page: <a href='https://wandb.ai/dylan-home/pnca-singletons-sweep/sweeps/i8r2s0bc' target=\"_blank\">https://wandb.ai/dylan-home/pnca-singletons-sweep/sweeps/i8r2s0bc</a>"
      ],
      "text/plain": [
       "<IPython.core.display.HTML object>"
      ]
     },
     "metadata": {},
     "output_type": "display_data"
    },
    {
     "data": {
      "text/html": [
       " View project at <a href='https://wandb.ai/dylan-home/pnca-singletons-sweep' target=\"_blank\">https://wandb.ai/dylan-home/pnca-singletons-sweep</a>"
      ],
      "text/plain": [
       "<IPython.core.display.HTML object>"
      ]
     },
     "metadata": {},
     "output_type": "display_data"
    },
    {
     "data": {
      "text/html": [
       " View sweep at <a href='https://wandb.ai/dylan-home/pnca-singletons-sweep/sweeps/i8r2s0bc' target=\"_blank\">https://wandb.ai/dylan-home/pnca-singletons-sweep/sweeps/i8r2s0bc</a>"
      ],
      "text/plain": [
       "<IPython.core.display.HTML object>"
      ]
     },
     "metadata": {},
     "output_type": "display_data"
    },
    {
     "data": {
      "text/html": [
       " View run at <a href='https://wandb.ai/dylan-home/pnca-singletons-sweep/runs/jylzwnnb' target=\"_blank\">https://wandb.ai/dylan-home/pnca-singletons-sweep/runs/jylzwnnb</a>"
      ],
      "text/plain": [
       "<IPython.core.display.HTML object>"
      ]
     },
     "metadata": {},
     "output_type": "display_data"
    },
    {
     "name": "stdout",
     "output_type": "stream",
     "text": [
      "Adjusting edge index and attaching edge weights for cutoff distance 9.155594714309997\n",
      "Early stopping enabled. Patience: 20. Min Delta: 0.\n",
      "Epoch: 010, Train Acc: 0.4892, Test Acc: 0.5050, Train Loss: 0.6952, Test Loss: 0.6933\n",
      "Epoch: 020, Train Acc: 0.5259, Test Acc: 0.5100, Train Loss: 0.6875, Test Loss: 0.6907\n",
      "20 epochs passed without 0 test loss improvement. \n",
      "Early stopping triggered.\n"
     ]
    },
    {
     "data": {
      "text/html": [
       "<style>\n",
       "    table.wandb td:nth-child(1) { padding: 0 10px; text-align: left ; width: auto;} td:nth-child(2) {text-align: left ; width: 100%}\n",
       "    .wandb-row { display: flex; flex-direction: row; flex-wrap: wrap; justify-content: flex-start; width: 100% }\n",
       "    .wandb-col { display: flex; flex-direction: column; flex-basis: 100%; flex: 1; padding: 10px; }\n",
       "    </style>\n",
       "<div class=\"wandb-row\"><div class=\"wandb-col\"><h3>Run history:</h3><br/><table class=\"wandb\"><tr><td>Test Accuracy</td><td>▃▃▃▃▃▃▂▆▃▃▃▃▂▄█▃▁▃▃▃▃▃▃▃▃▃▃</td></tr><tr><td>Test F1</td><td>███████▄▁▁▁▁▂▄▆▇███████████</td></tr><tr><td>Test Loss</td><td>█▄▂▂▁▁▁▁▁▁▁▁▁▁▁▁▁▁▁▁▁▁▁▁▁▁▁</td></tr><tr><td>Test Sensitivity</td><td>██████▇▂▁▁▁▁▁▂▄▆▇██████████</td></tr><tr><td>Test Specificity</td><td>▁▁▁▁▁▁▂▇████▇▇▆▃▁▁▁▁▁▁▁▁▁▁▁</td></tr><tr><td>Train Accuracy</td><td>▄▄▄▄▄▄▁▅▂▁▁▂▃▆█▃▃▃▄▄▄▄▄▄▄▄▄</td></tr><tr><td>Train F1</td><td>██████▇▃▂▁▁▂▂▄▆▇███████████</td></tr><tr><td>Train Loss</td><td>█▄▂▂▁▁▁▁▁▁▁▁▁▁▁▁▁▁▁▁▁▁▁▁▁▁▁</td></tr><tr><td>Train Sensitivity</td><td>██████▇▂▁▁▁▁▁▂▃▆▇██████████</td></tr><tr><td>Train Specificity</td><td>▁▁▁▁▁▁▂███████▇▃▂▁▁▁▁▁▁▁▁▁▁</td></tr></table><br/></div><div class=\"wandb-col\"><h3>Run summary:</h3><br/><table class=\"wandb\"><tr><td>Test Accuracy</td><td>0.51</td></tr><tr><td>Test F1</td><td>0.6755</td></tr><tr><td>Test Loss</td><td>0.69111</td></tr><tr><td>Test Sensitivity</td><td>0.99029</td></tr><tr><td>Test Specificity</td><td>0.0</td></tr><tr><td>Train Accuracy</td><td>0.53017</td></tr><tr><td>Train F1</td><td>0.69296</td></tr><tr><td>Train Loss</td><td>0.68714</td></tr><tr><td>Train Sensitivity</td><td>1.0</td></tr><tr><td>Train Specificity</td><td>0.0</td></tr></table><br/></div></div>"
      ],
      "text/plain": [
       "<IPython.core.display.HTML object>"
      ]
     },
     "metadata": {},
     "output_type": "display_data"
    },
    {
     "data": {
      "text/html": [
       " View run <strong style=\"color:#cdcd00\">fancy-sweep-11</strong> at: <a href='https://wandb.ai/dylan-home/pnca-singletons-sweep/runs/jylzwnnb' target=\"_blank\">https://wandb.ai/dylan-home/pnca-singletons-sweep/runs/jylzwnnb</a><br/>Synced 5 W&B file(s), 0 media file(s), 0 artifact file(s) and 0 other file(s)"
      ],
      "text/plain": [
       "<IPython.core.display.HTML object>"
      ]
     },
     "metadata": {},
     "output_type": "display_data"
    },
    {
     "data": {
      "text/html": [
       "Find logs at: <code>./wandb/run-20250206_200717-jylzwnnb/logs</code>"
      ],
      "text/plain": [
       "<IPython.core.display.HTML object>"
      ]
     },
     "metadata": {},
     "output_type": "display_data"
    },
    {
     "name": "stderr",
     "output_type": "stream",
     "text": [
      "\u001b[34m\u001b[1mwandb\u001b[0m: Agent Starting Run: wyd00h98 with config:\n",
      "\u001b[34m\u001b[1mwandb\u001b[0m: \tcutoff_distance: 5.6733359774592165\n",
      "\u001b[34m\u001b[1mwandb\u001b[0m: \tdropout: 0.8\n",
      "\u001b[34m\u001b[1mwandb\u001b[0m: \thidden_channels: 320\n",
      "\u001b[34m\u001b[1mwandb\u001b[0m: \tlearning_rate: 0.0625018649638442\n",
      "\u001b[34m\u001b[1mwandb\u001b[0m: \tweight_decay: 1.6272962992496178e-07\n",
      "Failed to detect the name of this notebook, you can set it manually with the WANDB_NOTEBOOK_NAME environment variable to enable code saving.\n"
     ]
    },
    {
     "data": {
      "text/html": [
       "wandb version 0.19.6 is available!  To upgrade, please run:\n",
       " $ pip install wandb --upgrade"
      ],
      "text/plain": [
       "<IPython.core.display.HTML object>"
      ]
     },
     "metadata": {},
     "output_type": "display_data"
    },
    {
     "data": {
      "text/html": [
       "Tracking run with wandb version 0.16.4"
      ],
      "text/plain": [
       "<IPython.core.display.HTML object>"
      ]
     },
     "metadata": {},
     "output_type": "display_data"
    },
    {
     "data": {
      "text/html": [
       "Run data is saved locally in <code>/Users/dylandissanayake/Desktop/DPhil/Comp Disc/Repositories/tb-pnca-gnn/dd_pnca/wandb/run-20250206_200851-wyd00h98</code>"
      ],
      "text/plain": [
       "<IPython.core.display.HTML object>"
      ]
     },
     "metadata": {},
     "output_type": "display_data"
    },
    {
     "data": {
      "text/html": [
       "Syncing run <strong><a href='https://wandb.ai/dylan-home/pnca-singletons-sweep/runs/wyd00h98' target=\"_blank\">spring-sweep-12</a></strong> to <a href='https://wandb.ai/dylan-home/pnca-singletons-sweep' target=\"_blank\">Weights & Biases</a> (<a href='https://wandb.me/run' target=\"_blank\">docs</a>)<br/>Sweep page: <a href='https://wandb.ai/dylan-home/pnca-singletons-sweep/sweeps/i8r2s0bc' target=\"_blank\">https://wandb.ai/dylan-home/pnca-singletons-sweep/sweeps/i8r2s0bc</a>"
      ],
      "text/plain": [
       "<IPython.core.display.HTML object>"
      ]
     },
     "metadata": {},
     "output_type": "display_data"
    },
    {
     "data": {
      "text/html": [
       " View project at <a href='https://wandb.ai/dylan-home/pnca-singletons-sweep' target=\"_blank\">https://wandb.ai/dylan-home/pnca-singletons-sweep</a>"
      ],
      "text/plain": [
       "<IPython.core.display.HTML object>"
      ]
     },
     "metadata": {},
     "output_type": "display_data"
    },
    {
     "data": {
      "text/html": [
       " View sweep at <a href='https://wandb.ai/dylan-home/pnca-singletons-sweep/sweeps/i8r2s0bc' target=\"_blank\">https://wandb.ai/dylan-home/pnca-singletons-sweep/sweeps/i8r2s0bc</a>"
      ],
      "text/plain": [
       "<IPython.core.display.HTML object>"
      ]
     },
     "metadata": {},
     "output_type": "display_data"
    },
    {
     "data": {
      "text/html": [
       " View run at <a href='https://wandb.ai/dylan-home/pnca-singletons-sweep/runs/wyd00h98' target=\"_blank\">https://wandb.ai/dylan-home/pnca-singletons-sweep/runs/wyd00h98</a>"
      ],
      "text/plain": [
       "<IPython.core.display.HTML object>"
      ]
     },
     "metadata": {},
     "output_type": "display_data"
    },
    {
     "name": "stdout",
     "output_type": "stream",
     "text": [
      "Adjusting edge index and attaching edge weights for cutoff distance 5.6733359774592165\n",
      "Early stopping enabled. Patience: 20. Min Delta: 0.\n",
      "Epoch: 010, Train Acc: 0.4698, Test Acc: 0.4850, Train Loss: 0.7602, Test Loss: 0.7483\n",
      "Epoch: 020, Train Acc: 0.5302, Test Acc: 0.5150, Train Loss: 0.7372, Test Loss: 0.7490\n",
      "Epoch: 030, Train Acc: 0.4698, Test Acc: 0.4850, Train Loss: 0.7047, Test Loss: 0.7010\n",
      "Epoch: 040, Train Acc: 0.5302, Test Acc: 0.5150, Train Loss: 0.6981, Test Loss: 0.7028\n",
      "Epoch: 050, Train Acc: 0.5302, Test Acc: 0.5150, Train Loss: 0.6924, Test Loss: 0.6961\n",
      "Epoch: 060, Train Acc: 0.5302, Test Acc: 0.5150, Train Loss: 0.6928, Test Loss: 0.6971\n",
      "20 epochs passed without 0 test loss improvement. \n",
      "Early stopping triggered.\n"
     ]
    },
    {
     "data": {
      "text/html": [
       "<style>\n",
       "    table.wandb td:nth-child(1) { padding: 0 10px; text-align: left ; width: auto;} td:nth-child(2) {text-align: left ; width: 100%}\n",
       "    .wandb-row { display: flex; flex-direction: row; flex-wrap: wrap; justify-content: flex-start; width: 100% }\n",
       "    .wandb-col { display: flex; flex-direction: column; flex-basis: 100%; flex: 1; padding: 10px; }\n",
       "    </style>\n",
       "<div class=\"wandb-row\"><div class=\"wandb-col\"><h3>Run history:</h3><br/><table class=\"wandb\"><tr><td>Test Accuracy</td><td>▁▁▁▁██▁██▁██▁█▁▁█▁▁█▁█▁██▁██████▁█████▁█</td></tr><tr><td>Test F1</td><td>▁▁▁▁██▁██▁██▁█▁▁█▁▁█▁█▁██▁██████▁█████▁█</td></tr><tr><td>Test Loss</td><td>█▁▁▁▁▁▁▁▁▁▁▁▁▁▁▁▁▁▁▁▁▁▁▁▁▁▁▁▁▁▁▁▁▁▁▁▁▁▁▁</td></tr><tr><td>Test Sensitivity</td><td>▁▁▁▁██▁██▁██▁█▁▁█▁▁█▁█▁██▁██████▁█████▁█</td></tr><tr><td>Test Specificity</td><td>████▁▁█▁▁█▁▁█▁██▁██▁█▁█▁▁█▁▁▁▁▁▁█▁▁▁▁▁█▁</td></tr><tr><td>Train Accuracy</td><td>▁▁▁▁██▁██▁██▁█▁▁█▁▁█▁█▁██▁██████▁█████▁█</td></tr><tr><td>Train F1</td><td>▁▁▁▁██▁██▁██▁█▁▁█▁▁█▁█▁██▁██████▁█████▁█</td></tr><tr><td>Train Loss</td><td>█▁▁▁▁▁▁▁▁▁▁▁▁▁▁▁▁▁▁▁▁▁▁▁▁▁▁▁▁▁▁▁▁▁▁▁▁▁▁▁</td></tr><tr><td>Train Sensitivity</td><td>▁▁▁▁██▁██▁██▁█▁▁█▁▁█▁█▁██▁██████▁█████▁█</td></tr><tr><td>Train Specificity</td><td>████▁▁█▁▁█▁▁█▁██▁██▁█▁█▁▁█▁▁▁▁▁▁█▁▁▁▁▁█▁</td></tr></table><br/></div><div class=\"wandb-col\"><h3>Run summary:</h3><br/><table class=\"wandb\"><tr><td>Test Accuracy</td><td>0.515</td></tr><tr><td>Test F1</td><td>0.67987</td></tr><tr><td>Test Loss</td><td>0.70306</td></tr><tr><td>Test Sensitivity</td><td>1.0</td></tr><tr><td>Test Specificity</td><td>0.0</td></tr><tr><td>Train Accuracy</td><td>0.53017</td></tr><tr><td>Train F1</td><td>0.69296</td></tr><tr><td>Train Loss</td><td>0.69781</td></tr><tr><td>Train Sensitivity</td><td>1.0</td></tr><tr><td>Train Specificity</td><td>0.0</td></tr></table><br/></div></div>"
      ],
      "text/plain": [
       "<IPython.core.display.HTML object>"
      ]
     },
     "metadata": {},
     "output_type": "display_data"
    },
    {
     "data": {
      "text/html": [
       " View run <strong style=\"color:#cdcd00\">spring-sweep-12</strong> at: <a href='https://wandb.ai/dylan-home/pnca-singletons-sweep/runs/wyd00h98' target=\"_blank\">https://wandb.ai/dylan-home/pnca-singletons-sweep/runs/wyd00h98</a><br/>Synced 5 W&B file(s), 0 media file(s), 0 artifact file(s) and 0 other file(s)"
      ],
      "text/plain": [
       "<IPython.core.display.HTML object>"
      ]
     },
     "metadata": {},
     "output_type": "display_data"
    },
    {
     "data": {
      "text/html": [
       "Find logs at: <code>./wandb/run-20250206_200851-wyd00h98/logs</code>"
      ],
      "text/plain": [
       "<IPython.core.display.HTML object>"
      ]
     },
     "metadata": {},
     "output_type": "display_data"
    },
    {
     "name": "stderr",
     "output_type": "stream",
     "text": [
      "\u001b[34m\u001b[1mwandb\u001b[0m: Agent Starting Run: i8cgv3ke with config:\n",
      "\u001b[34m\u001b[1mwandb\u001b[0m: \tcutoff_distance: 10.365112912006264\n",
      "\u001b[34m\u001b[1mwandb\u001b[0m: \tdropout: 0.6\n",
      "\u001b[34m\u001b[1mwandb\u001b[0m: \thidden_channels: 384\n",
      "\u001b[34m\u001b[1mwandb\u001b[0m: \tlearning_rate: 2.8600326490697017e-05\n",
      "\u001b[34m\u001b[1mwandb\u001b[0m: \tweight_decay: 0.001118794512526002\n",
      "Failed to detect the name of this notebook, you can set it manually with the WANDB_NOTEBOOK_NAME environment variable to enable code saving.\n"
     ]
    },
    {
     "data": {
      "text/html": [
       "wandb version 0.19.6 is available!  To upgrade, please run:\n",
       " $ pip install wandb --upgrade"
      ],
      "text/plain": [
       "<IPython.core.display.HTML object>"
      ]
     },
     "metadata": {},
     "output_type": "display_data"
    },
    {
     "data": {
      "text/html": [
       "Tracking run with wandb version 0.16.4"
      ],
      "text/plain": [
       "<IPython.core.display.HTML object>"
      ]
     },
     "metadata": {},
     "output_type": "display_data"
    },
    {
     "data": {
      "text/html": [
       "Run data is saved locally in <code>/Users/dylandissanayake/Desktop/DPhil/Comp Disc/Repositories/tb-pnca-gnn/dd_pnca/wandb/run-20250206_201008-i8cgv3ke</code>"
      ],
      "text/plain": [
       "<IPython.core.display.HTML object>"
      ]
     },
     "metadata": {},
     "output_type": "display_data"
    },
    {
     "data": {
      "text/html": [
       "Syncing run <strong><a href='https://wandb.ai/dylan-home/pnca-singletons-sweep/runs/i8cgv3ke' target=\"_blank\">zany-sweep-13</a></strong> to <a href='https://wandb.ai/dylan-home/pnca-singletons-sweep' target=\"_blank\">Weights & Biases</a> (<a href='https://wandb.me/run' target=\"_blank\">docs</a>)<br/>Sweep page: <a href='https://wandb.ai/dylan-home/pnca-singletons-sweep/sweeps/i8r2s0bc' target=\"_blank\">https://wandb.ai/dylan-home/pnca-singletons-sweep/sweeps/i8r2s0bc</a>"
      ],
      "text/plain": [
       "<IPython.core.display.HTML object>"
      ]
     },
     "metadata": {},
     "output_type": "display_data"
    },
    {
     "data": {
      "text/html": [
       " View project at <a href='https://wandb.ai/dylan-home/pnca-singletons-sweep' target=\"_blank\">https://wandb.ai/dylan-home/pnca-singletons-sweep</a>"
      ],
      "text/plain": [
       "<IPython.core.display.HTML object>"
      ]
     },
     "metadata": {},
     "output_type": "display_data"
    },
    {
     "data": {
      "text/html": [
       " View sweep at <a href='https://wandb.ai/dylan-home/pnca-singletons-sweep/sweeps/i8r2s0bc' target=\"_blank\">https://wandb.ai/dylan-home/pnca-singletons-sweep/sweeps/i8r2s0bc</a>"
      ],
      "text/plain": [
       "<IPython.core.display.HTML object>"
      ]
     },
     "metadata": {},
     "output_type": "display_data"
    },
    {
     "data": {
      "text/html": [
       " View run at <a href='https://wandb.ai/dylan-home/pnca-singletons-sweep/runs/i8cgv3ke' target=\"_blank\">https://wandb.ai/dylan-home/pnca-singletons-sweep/runs/i8cgv3ke</a>"
      ],
      "text/plain": [
       "<IPython.core.display.HTML object>"
      ]
     },
     "metadata": {},
     "output_type": "display_data"
    },
    {
     "name": "stdout",
     "output_type": "stream",
     "text": [
      "Adjusting edge index and attaching edge weights for cutoff distance 10.365112912006264\n",
      "Early stopping enabled. Patience: 20. Min Delta: 0.\n",
      "Epoch: 010, Train Acc: 0.5280, Test Acc: 0.5150, Train Loss: 0.6910, Test Loss: 0.6972\n",
      "Epoch: 020, Train Acc: 0.5302, Test Acc: 0.5150, Train Loss: 0.6946, Test Loss: 0.7047\n",
      "Epoch: 030, Train Acc: 0.5172, Test Acc: 0.4650, Train Loss: 0.6801, Test Loss: 0.6863\n",
      "Epoch: 040, Train Acc: 0.5259, Test Acc: 0.4600, Train Loss: 0.6746, Test Loss: 0.6821\n",
      "Epoch: 050, Train Acc: 0.6013, Test Acc: 0.5700, Train Loss: 0.6714, Test Loss: 0.6790\n",
      "Epoch: 060, Train Acc: 0.5733, Test Acc: 0.5250, Train Loss: 0.6661, Test Loss: 0.6752\n",
      "Epoch: 070, Train Acc: 0.6121, Test Acc: 0.5600, Train Loss: 0.6702, Test Loss: 0.6769\n",
      "Epoch: 080, Train Acc: 0.6444, Test Acc: 0.6100, Train Loss: 0.6593, Test Loss: 0.6693\n",
      "Epoch: 090, Train Acc: 0.6336, Test Acc: 0.5900, Train Loss: 0.6607, Test Loss: 0.6692\n",
      "Epoch: 100, Train Acc: 0.6444, Test Acc: 0.6050, Train Loss: 0.6517, Test Loss: 0.6636\n",
      "Epoch: 110, Train Acc: 0.6422, Test Acc: 0.6400, Train Loss: 0.6447, Test Loss: 0.6602\n",
      "Epoch: 120, Train Acc: 0.5841, Test Acc: 0.5700, Train Loss: 0.6390, Test Loss: 0.6587\n",
      "Epoch: 130, Train Acc: 0.6552, Test Acc: 0.6050, Train Loss: 0.6393, Test Loss: 0.6563\n",
      "Epoch: 140, Train Acc: 0.6552, Test Acc: 0.6200, Train Loss: 0.6382, Test Loss: 0.6568\n",
      "Epoch: 150, Train Acc: 0.6379, Test Acc: 0.5750, Train Loss: 0.6280, Test Loss: 0.6515\n",
      "Epoch: 160, Train Acc: 0.6530, Test Acc: 0.6300, Train Loss: 0.6343, Test Loss: 0.6544\n",
      "Epoch: 170, Train Acc: 0.6595, Test Acc: 0.6350, Train Loss: 0.6321, Test Loss: 0.6523\n",
      "Epoch: 180, Train Acc: 0.6703, Test Acc: 0.6200, Train Loss: 0.6178, Test Loss: 0.6444\n",
      "Epoch: 190, Train Acc: 0.6724, Test Acc: 0.6350, Train Loss: 0.6206, Test Loss: 0.6469\n",
      "Epoch: 200, Train Acc: 0.6250, Test Acc: 0.5850, Train Loss: 0.6488, Test Loss: 0.6708\n",
      "Epoch: 210, Train Acc: 0.6530, Test Acc: 0.6050, Train Loss: 0.6055, Test Loss: 0.6394\n",
      "Epoch: 220, Train Acc: 0.6918, Test Acc: 0.6300, Train Loss: 0.6028, Test Loss: 0.6362\n",
      "Epoch: 230, Train Acc: 0.6444, Test Acc: 0.6300, Train Loss: 0.5975, Test Loss: 0.6365\n",
      "Epoch: 240, Train Acc: 0.5905, Test Acc: 0.5750, Train Loss: 0.5996, Test Loss: 0.6433\n",
      "Epoch: 250, Train Acc: 0.6853, Test Acc: 0.6200, Train Loss: 0.5895, Test Loss: 0.6305\n",
      "Epoch: 260, Train Acc: 0.6875, Test Acc: 0.6700, Train Loss: 0.5927, Test Loss: 0.6322\n",
      "Epoch: 270, Train Acc: 0.6897, Test Acc: 0.6250, Train Loss: 0.5813, Test Loss: 0.6263\n",
      "Epoch: 280, Train Acc: 0.6121, Test Acc: 0.5750, Train Loss: 0.5850, Test Loss: 0.6351\n",
      "Epoch: 290, Train Acc: 0.6078, Test Acc: 0.5700, Train Loss: 0.5830, Test Loss: 0.6369\n",
      "Epoch: 300, Train Acc: 0.6832, Test Acc: 0.6400, Train Loss: 0.5718, Test Loss: 0.6218\n",
      "Epoch: 310, Train Acc: 0.7091, Test Acc: 0.6500, Train Loss: 0.5731, Test Loss: 0.6197\n",
      "Epoch: 320, Train Acc: 0.6595, Test Acc: 0.6350, Train Loss: 0.5683, Test Loss: 0.6223\n",
      "Epoch: 330, Train Acc: 0.6897, Test Acc: 0.6800, Train Loss: 0.5828, Test Loss: 0.6285\n",
      "Epoch: 340, Train Acc: 0.6897, Test Acc: 0.6550, Train Loss: 0.5929, Test Loss: 0.6358\n",
      "Epoch: 350, Train Acc: 0.6746, Test Acc: 0.6450, Train Loss: 0.5578, Test Loss: 0.6170\n",
      "Epoch: 360, Train Acc: 0.6940, Test Acc: 0.6950, Train Loss: 0.5690, Test Loss: 0.6206\n",
      "Epoch: 370, Train Acc: 0.7155, Test Acc: 0.6600, Train Loss: 0.5508, Test Loss: 0.6101\n",
      "Epoch: 380, Train Acc: 0.7241, Test Acc: 0.6750, Train Loss: 0.5510, Test Loss: 0.6082\n",
      "Epoch: 390, Train Acc: 0.6746, Test Acc: 0.6100, Train Loss: 0.5525, Test Loss: 0.6210\n",
      "Epoch: 400, Train Acc: 0.7177, Test Acc: 0.6750, Train Loss: 0.5486, Test Loss: 0.6063\n",
      "Epoch: 410, Train Acc: 0.6983, Test Acc: 0.6850, Train Loss: 0.5805, Test Loss: 0.6307\n",
      "Epoch: 420, Train Acc: 0.7026, Test Acc: 0.6550, Train Loss: 0.5386, Test Loss: 0.6081\n",
      "Epoch: 430, Train Acc: 0.7284, Test Acc: 0.6900, Train Loss: 0.5353, Test Loss: 0.6029\n",
      "Epoch: 440, Train Acc: 0.6940, Test Acc: 0.6750, Train Loss: 0.5867, Test Loss: 0.6414\n",
      "Epoch: 450, Train Acc: 0.7134, Test Acc: 0.6450, Train Loss: 0.5339, Test Loss: 0.6085\n",
      "Epoch: 460, Train Acc: 0.7026, Test Acc: 0.6500, Train Loss: 0.5360, Test Loss: 0.6096\n",
      "Epoch: 470, Train Acc: 0.6875, Test Acc: 0.6700, Train Loss: 0.5941, Test Loss: 0.6512\n",
      "Epoch: 480, Train Acc: 0.7177, Test Acc: 0.6700, Train Loss: 0.5260, Test Loss: 0.6031\n",
      "Epoch: 490, Train Acc: 0.7177, Test Acc: 0.6750, Train Loss: 0.5258, Test Loss: 0.6012\n",
      "20 epochs passed without 0 test loss improvement. \n",
      "Early stopping triggered.\n"
     ]
    },
    {
     "data": {
      "text/html": [
       "<style>\n",
       "    table.wandb td:nth-child(1) { padding: 0 10px; text-align: left ; width: auto;} td:nth-child(2) {text-align: left ; width: 100%}\n",
       "    .wandb-row { display: flex; flex-direction: row; flex-wrap: wrap; justify-content: flex-start; width: 100% }\n",
       "    .wandb-col { display: flex; flex-direction: column; flex-basis: 100%; flex: 1; padding: 10px; }\n",
       "    </style>\n",
       "<div class=\"wandb-row\"><div class=\"wandb-col\"><h3>Run history:</h3><br/><table class=\"wandb\"><tr><td>Test Accuracy</td><td>▃▂▃▁▅▅▄▄▄▅▅▆▆▆▆▆▆▆▆▄▆▆▅▅▇▆▆▇▇▅▇██▆█▇█▇██</td></tr><tr><td>Test F1</td><td>███▆▃▃▁▁▆▄▃▄▅▄▅▆▆▆▅██▆▇▃▇▇▇▅▇▂▇▆██▇▆▇█▇▇</td></tr><tr><td>Test Loss</td><td>█▂▂▂▂▂▂▂▂▂▂▁▁▁▁▁▁▁▁▁▁▁▁▂▁▁▁▁▁▂▁▁▁▁▁▁▁▁▁▁</td></tr><tr><td>Test Sensitivity</td><td>███▅▂▂▁▁▅▂▂▂▃▂▃▃▄▄▃▆▅▄▅▂▄▄▅▂▄▁▄▃▄▅▃▃▃▅▃▄</td></tr><tr><td>Test Specificity</td><td>▁▁▁▂▇▇██▄▇█▇▇▇▇▆▆▆▇▃▅▆▅█▇▆▅█▆█▆█▇▅██▇▅▇▇</td></tr><tr><td>Train Accuracy</td><td>▁▁▁▁▅▅▄▄▃▆▅▆▆▅▆▇▆▆▆▃▅▇▅▅▇▇▆▇█▅█▇█▇▇▇▇▇██</td></tr><tr><td>Train F1</td><td>▇▇▇▆▂▃▁▁▅▄▂▄▅▃▄▆▆▆▅▇▇▆▇▂▇▇▇▅▇▂▇▅██▆▅▆█▇▇</td></tr><tr><td>Train Loss</td><td>█▂▂▂▂▂▂▂▂▂▂▂▂▂▂▂▂▂▂▂▂▂▁▂▁▁▁▂▁▂▁▁▁▁▁▂▁▁▁▁</td></tr><tr><td>Train Sensitivity</td><td>███▆▂▂▁▁▅▂▁▂▃▂▂▄▃▄▃▆▅▄▅▁▄▄▅▂▄▁▄▃▄▅▃▂▃▅▃▄</td></tr><tr><td>Train Specificity</td><td>▁▁▁▃▇▇██▄▇██▇█▇▇▇▆▇▃▅▇▅█▇▆▆█▇█▇█▇▅███▆▇▇</td></tr></table><br/></div><div class=\"wandb-col\"><h3>Run summary:</h3><br/><table class=\"wandb\"><tr><td>Test Accuracy</td><td>0.565</td></tr><tr><td>Test F1</td><td>0.6692</td></tr><tr><td>Test Loss</td><td>0.652</td></tr><tr><td>Test Sensitivity</td><td>0.85437</td></tr><tr><td>Test Specificity</td><td>0.25773</td></tr><tr><td>Train Accuracy</td><td>0.62716</td></tr><tr><td>Train F1</td><td>0.72142</td></tr><tr><td>Train Loss</td><td>0.56442</td></tr><tr><td>Train Sensitivity</td><td>0.91057</td></tr><tr><td>Train Specificity</td><td>0.30734</td></tr></table><br/></div></div>"
      ],
      "text/plain": [
       "<IPython.core.display.HTML object>"
      ]
     },
     "metadata": {},
     "output_type": "display_data"
    },
    {
     "data": {
      "text/html": [
       " View run <strong style=\"color:#cdcd00\">zany-sweep-13</strong> at: <a href='https://wandb.ai/dylan-home/pnca-singletons-sweep/runs/i8cgv3ke' target=\"_blank\">https://wandb.ai/dylan-home/pnca-singletons-sweep/runs/i8cgv3ke</a><br/>Synced 5 W&B file(s), 0 media file(s), 0 artifact file(s) and 0 other file(s)"
      ],
      "text/plain": [
       "<IPython.core.display.HTML object>"
      ]
     },
     "metadata": {},
     "output_type": "display_data"
    },
    {
     "data": {
      "text/html": [
       "Find logs at: <code>./wandb/run-20250206_201008-i8cgv3ke/logs</code>"
      ],
      "text/plain": [
       "<IPython.core.display.HTML object>"
      ]
     },
     "metadata": {},
     "output_type": "display_data"
    },
    {
     "name": "stderr",
     "output_type": "stream",
     "text": [
      "\u001b[34m\u001b[1mwandb\u001b[0m: Agent Starting Run: p586x6u0 with config:\n",
      "\u001b[34m\u001b[1mwandb\u001b[0m: \tcutoff_distance: 7.847230228622415\n",
      "\u001b[34m\u001b[1mwandb\u001b[0m: \tdropout: 0.2\n",
      "\u001b[34m\u001b[1mwandb\u001b[0m: \thidden_channels: 128\n",
      "\u001b[34m\u001b[1mwandb\u001b[0m: \tlearning_rate: 5.102184746386721e-09\n",
      "\u001b[34m\u001b[1mwandb\u001b[0m: \tweight_decay: 0.00284358810372003\n",
      "Failed to detect the name of this notebook, you can set it manually with the WANDB_NOTEBOOK_NAME environment variable to enable code saving.\n"
     ]
    },
    {
     "data": {
      "text/html": [
       "wandb version 0.19.6 is available!  To upgrade, please run:\n",
       " $ pip install wandb --upgrade"
      ],
      "text/plain": [
       "<IPython.core.display.HTML object>"
      ]
     },
     "metadata": {},
     "output_type": "display_data"
    },
    {
     "data": {
      "text/html": [
       "Tracking run with wandb version 0.16.4"
      ],
      "text/plain": [
       "<IPython.core.display.HTML object>"
      ]
     },
     "metadata": {},
     "output_type": "display_data"
    },
    {
     "data": {
      "text/html": [
       "Run data is saved locally in <code>/Users/dylandissanayake/Desktop/DPhil/Comp Disc/Repositories/tb-pnca-gnn/dd_pnca/wandb/run-20250206_205010-p586x6u0</code>"
      ],
      "text/plain": [
       "<IPython.core.display.HTML object>"
      ]
     },
     "metadata": {},
     "output_type": "display_data"
    },
    {
     "data": {
      "text/html": [
       "Syncing run <strong><a href='https://wandb.ai/dylan-home/pnca-singletons-sweep/runs/p586x6u0' target=\"_blank\">vivid-sweep-14</a></strong> to <a href='https://wandb.ai/dylan-home/pnca-singletons-sweep' target=\"_blank\">Weights & Biases</a> (<a href='https://wandb.me/run' target=\"_blank\">docs</a>)<br/>Sweep page: <a href='https://wandb.ai/dylan-home/pnca-singletons-sweep/sweeps/i8r2s0bc' target=\"_blank\">https://wandb.ai/dylan-home/pnca-singletons-sweep/sweeps/i8r2s0bc</a>"
      ],
      "text/plain": [
       "<IPython.core.display.HTML object>"
      ]
     },
     "metadata": {},
     "output_type": "display_data"
    },
    {
     "data": {
      "text/html": [
       " View project at <a href='https://wandb.ai/dylan-home/pnca-singletons-sweep' target=\"_blank\">https://wandb.ai/dylan-home/pnca-singletons-sweep</a>"
      ],
      "text/plain": [
       "<IPython.core.display.HTML object>"
      ]
     },
     "metadata": {},
     "output_type": "display_data"
    },
    {
     "data": {
      "text/html": [
       " View sweep at <a href='https://wandb.ai/dylan-home/pnca-singletons-sweep/sweeps/i8r2s0bc' target=\"_blank\">https://wandb.ai/dylan-home/pnca-singletons-sweep/sweeps/i8r2s0bc</a>"
      ],
      "text/plain": [
       "<IPython.core.display.HTML object>"
      ]
     },
     "metadata": {},
     "output_type": "display_data"
    },
    {
     "data": {
      "text/html": [
       " View run at <a href='https://wandb.ai/dylan-home/pnca-singletons-sweep/runs/p586x6u0' target=\"_blank\">https://wandb.ai/dylan-home/pnca-singletons-sweep/runs/p586x6u0</a>"
      ],
      "text/plain": [
       "<IPython.core.display.HTML object>"
      ]
     },
     "metadata": {},
     "output_type": "display_data"
    },
    {
     "name": "stdout",
     "output_type": "stream",
     "text": [
      "Adjusting edge index and attaching edge weights for cutoff distance 7.847230228622415\n",
      "Early stopping enabled. Patience: 20. Min Delta: 0.\n",
      "Epoch: 010, Train Acc: 0.5302, Test Acc: 0.5150, Train Loss: 0.7342, Test Loss: 0.7465\n",
      "Epoch: 020, Train Acc: 0.5302, Test Acc: 0.5150, Train Loss: 0.7075, Test Loss: 0.7123\n",
      "Epoch: 030, Train Acc: 0.5302, Test Acc: 0.5150, Train Loss: 0.6999, Test Loss: 0.7030\n",
      "Epoch: 040, Train Acc: 0.5302, Test Acc: 0.5150, Train Loss: 0.6981, Test Loss: 0.7017\n",
      "Epoch: 050, Train Acc: 0.5302, Test Acc: 0.5150, Train Loss: 0.6983, Test Loss: 0.7015\n",
      "Epoch: 060, Train Acc: 0.5302, Test Acc: 0.5150, Train Loss: 0.6972, Test Loss: 0.7015\n",
      "Epoch: 070, Train Acc: 0.5302, Test Acc: 0.5150, Train Loss: 0.6981, Test Loss: 0.7014\n",
      "Epoch: 080, Train Acc: 0.5302, Test Acc: 0.5150, Train Loss: 0.6962, Test Loss: 0.7014\n",
      "Epoch: 090, Train Acc: 0.5302, Test Acc: 0.5150, Train Loss: 0.6970, Test Loss: 0.7014\n",
      "Epoch: 100, Train Acc: 0.5302, Test Acc: 0.5150, Train Loss: 0.6979, Test Loss: 0.7014\n",
      "Epoch: 110, Train Acc: 0.5302, Test Acc: 0.5150, Train Loss: 0.6971, Test Loss: 0.7014\n",
      "Epoch: 120, Train Acc: 0.5302, Test Acc: 0.5150, Train Loss: 0.6968, Test Loss: 0.7014\n",
      "Epoch: 130, Train Acc: 0.5302, Test Acc: 0.5150, Train Loss: 0.6976, Test Loss: 0.7014\n",
      "Epoch: 140, Train Acc: 0.5302, Test Acc: 0.5150, Train Loss: 0.6973, Test Loss: 0.7013\n",
      "Epoch: 150, Train Acc: 0.5302, Test Acc: 0.5150, Train Loss: 0.6978, Test Loss: 0.7013\n",
      "Epoch: 160, Train Acc: 0.5302, Test Acc: 0.5150, Train Loss: 0.6955, Test Loss: 0.7013\n",
      "Epoch: 170, Train Acc: 0.5302, Test Acc: 0.5150, Train Loss: 0.6976, Test Loss: 0.7013\n",
      "Epoch: 180, Train Acc: 0.5302, Test Acc: 0.5150, Train Loss: 0.6974, Test Loss: 0.7013\n",
      "Epoch: 190, Train Acc: 0.5302, Test Acc: 0.5150, Train Loss: 0.6971, Test Loss: 0.7013\n",
      "Epoch: 200, Train Acc: 0.5302, Test Acc: 0.5150, Train Loss: 0.6965, Test Loss: 0.7013\n",
      "Epoch: 210, Train Acc: 0.5302, Test Acc: 0.5150, Train Loss: 0.6966, Test Loss: 0.7012\n",
      "Epoch: 220, Train Acc: 0.5302, Test Acc: 0.5150, Train Loss: 0.6978, Test Loss: 0.7012\n",
      "Epoch: 230, Train Acc: 0.5302, Test Acc: 0.5150, Train Loss: 0.6977, Test Loss: 0.7012\n",
      "Epoch: 240, Train Acc: 0.5302, Test Acc: 0.5150, Train Loss: 0.6980, Test Loss: 0.7012\n",
      "Epoch: 250, Train Acc: 0.5302, Test Acc: 0.5150, Train Loss: 0.6974, Test Loss: 0.7012\n",
      "Epoch: 260, Train Acc: 0.5302, Test Acc: 0.5150, Train Loss: 0.6978, Test Loss: 0.7012\n",
      "Epoch: 270, Train Acc: 0.5302, Test Acc: 0.5150, Train Loss: 0.6973, Test Loss: 0.7012\n",
      "Epoch: 280, Train Acc: 0.5302, Test Acc: 0.5150, Train Loss: 0.6983, Test Loss: 0.7011\n",
      "Epoch: 290, Train Acc: 0.5302, Test Acc: 0.5150, Train Loss: 0.6964, Test Loss: 0.7011\n",
      "Epoch: 300, Train Acc: 0.5302, Test Acc: 0.5150, Train Loss: 0.6969, Test Loss: 0.7011\n",
      "Epoch: 310, Train Acc: 0.5302, Test Acc: 0.5150, Train Loss: 0.6979, Test Loss: 0.7011\n",
      "Epoch: 320, Train Acc: 0.5302, Test Acc: 0.5150, Train Loss: 0.6962, Test Loss: 0.7011\n",
      "Epoch: 330, Train Acc: 0.5302, Test Acc: 0.5150, Train Loss: 0.6969, Test Loss: 0.7011\n",
      "Epoch: 340, Train Acc: 0.5302, Test Acc: 0.5150, Train Loss: 0.6980, Test Loss: 0.7010\n",
      "Epoch: 350, Train Acc: 0.5302, Test Acc: 0.5150, Train Loss: 0.6970, Test Loss: 0.7010\n",
      "Epoch: 360, Train Acc: 0.5302, Test Acc: 0.5150, Train Loss: 0.6977, Test Loss: 0.7010\n",
      "Epoch: 370, Train Acc: 0.5302, Test Acc: 0.5150, Train Loss: 0.6985, Test Loss: 0.7010\n",
      "Epoch: 380, Train Acc: 0.5302, Test Acc: 0.5150, Train Loss: 0.6968, Test Loss: 0.7010\n",
      "Epoch: 390, Train Acc: 0.5302, Test Acc: 0.5150, Train Loss: 0.6982, Test Loss: 0.7010\n",
      "Epoch: 400, Train Acc: 0.5302, Test Acc: 0.5150, Train Loss: 0.6976, Test Loss: 0.7010\n",
      "Epoch: 410, Train Acc: 0.5302, Test Acc: 0.5150, Train Loss: 0.6978, Test Loss: 0.7009\n",
      "Epoch: 420, Train Acc: 0.5302, Test Acc: 0.5150, Train Loss: 0.6968, Test Loss: 0.7009\n",
      "Epoch: 430, Train Acc: 0.5302, Test Acc: 0.5150, Train Loss: 0.6981, Test Loss: 0.7009\n",
      "Epoch: 440, Train Acc: 0.5302, Test Acc: 0.5150, Train Loss: 0.6977, Test Loss: 0.7009\n",
      "Epoch: 450, Train Acc: 0.5302, Test Acc: 0.5150, Train Loss: 0.6960, Test Loss: 0.7009\n",
      "Epoch: 460, Train Acc: 0.5302, Test Acc: 0.5150, Train Loss: 0.6966, Test Loss: 0.7009\n",
      "Epoch: 470, Train Acc: 0.5302, Test Acc: 0.5150, Train Loss: 0.6965, Test Loss: 0.7009\n",
      "Epoch: 480, Train Acc: 0.5302, Test Acc: 0.5150, Train Loss: 0.6970, Test Loss: 0.7008\n",
      "Epoch: 490, Train Acc: 0.5302, Test Acc: 0.5150, Train Loss: 0.6971, Test Loss: 0.7008\n",
      "Epoch: 500, Train Acc: 0.5302, Test Acc: 0.5150, Train Loss: 0.6961, Test Loss: 0.7008\n",
      "Epoch: 510, Train Acc: 0.5302, Test Acc: 0.5150, Train Loss: 0.6965, Test Loss: 0.7008\n",
      "Epoch: 520, Train Acc: 0.5302, Test Acc: 0.5150, Train Loss: 0.6971, Test Loss: 0.7008\n",
      "Epoch: 530, Train Acc: 0.5302, Test Acc: 0.5150, Train Loss: 0.6966, Test Loss: 0.7008\n",
      "Epoch: 540, Train Acc: 0.5302, Test Acc: 0.5150, Train Loss: 0.6956, Test Loss: 0.7008\n",
      "Epoch: 550, Train Acc: 0.5302, Test Acc: 0.5150, Train Loss: 0.6968, Test Loss: 0.7007\n",
      "Epoch: 560, Train Acc: 0.5302, Test Acc: 0.5150, Train Loss: 0.6972, Test Loss: 0.7007\n",
      "Epoch: 570, Train Acc: 0.5302, Test Acc: 0.5150, Train Loss: 0.6968, Test Loss: 0.7007\n",
      "Epoch: 580, Train Acc: 0.5302, Test Acc: 0.5150, Train Loss: 0.6964, Test Loss: 0.7007\n",
      "Epoch: 590, Train Acc: 0.5302, Test Acc: 0.5150, Train Loss: 0.6968, Test Loss: 0.7007\n",
      "Epoch: 600, Train Acc: 0.5302, Test Acc: 0.5150, Train Loss: 0.6974, Test Loss: 0.7007\n",
      "Epoch: 610, Train Acc: 0.5302, Test Acc: 0.5150, Train Loss: 0.6956, Test Loss: 0.7007\n",
      "Epoch: 620, Train Acc: 0.5302, Test Acc: 0.5150, Train Loss: 0.6969, Test Loss: 0.7006\n",
      "Epoch: 630, Train Acc: 0.5302, Test Acc: 0.5150, Train Loss: 0.6977, Test Loss: 0.7006\n",
      "Epoch: 640, Train Acc: 0.5302, Test Acc: 0.5150, Train Loss: 0.6963, Test Loss: 0.7006\n",
      "Epoch: 650, Train Acc: 0.5302, Test Acc: 0.5150, Train Loss: 0.6970, Test Loss: 0.7006\n",
      "Epoch: 660, Train Acc: 0.5302, Test Acc: 0.5150, Train Loss: 0.6961, Test Loss: 0.7006\n",
      "Epoch: 670, Train Acc: 0.5302, Test Acc: 0.5150, Train Loss: 0.6966, Test Loss: 0.7006\n",
      "Epoch: 680, Train Acc: 0.5302, Test Acc: 0.5150, Train Loss: 0.6972, Test Loss: 0.7006\n",
      "Epoch: 690, Train Acc: 0.5302, Test Acc: 0.5150, Train Loss: 0.6981, Test Loss: 0.7005\n",
      "Epoch: 700, Train Acc: 0.5302, Test Acc: 0.5150, Train Loss: 0.6974, Test Loss: 0.7005\n",
      "Epoch: 710, Train Acc: 0.5302, Test Acc: 0.5150, Train Loss: 0.6966, Test Loss: 0.7005\n",
      "Epoch: 720, Train Acc: 0.5302, Test Acc: 0.5150, Train Loss: 0.6964, Test Loss: 0.7005\n",
      "Epoch: 730, Train Acc: 0.5302, Test Acc: 0.5150, Train Loss: 0.6970, Test Loss: 0.7005\n",
      "Epoch: 740, Train Acc: 0.5302, Test Acc: 0.5150, Train Loss: 0.6973, Test Loss: 0.7005\n",
      "Epoch: 750, Train Acc: 0.5302, Test Acc: 0.5150, Train Loss: 0.6968, Test Loss: 0.7005\n",
      "Epoch: 760, Train Acc: 0.5302, Test Acc: 0.5150, Train Loss: 0.6970, Test Loss: 0.7005\n",
      "Epoch: 770, Train Acc: 0.5302, Test Acc: 0.5150, Train Loss: 0.6960, Test Loss: 0.7004\n",
      "Epoch: 780, Train Acc: 0.5302, Test Acc: 0.5150, Train Loss: 0.6962, Test Loss: 0.7004\n",
      "Epoch: 790, Train Acc: 0.5302, Test Acc: 0.5150, Train Loss: 0.6972, Test Loss: 0.7004\n",
      "Epoch: 800, Train Acc: 0.5302, Test Acc: 0.5150, Train Loss: 0.6963, Test Loss: 0.7004\n",
      "Epoch: 810, Train Acc: 0.5302, Test Acc: 0.5150, Train Loss: 0.6955, Test Loss: 0.7004\n",
      "Epoch: 820, Train Acc: 0.5302, Test Acc: 0.5150, Train Loss: 0.6963, Test Loss: 0.7004\n",
      "Epoch: 830, Train Acc: 0.5302, Test Acc: 0.5150, Train Loss: 0.6975, Test Loss: 0.7004\n",
      "Epoch: 840, Train Acc: 0.5302, Test Acc: 0.5150, Train Loss: 0.6966, Test Loss: 0.7003\n",
      "Epoch: 850, Train Acc: 0.5302, Test Acc: 0.5150, Train Loss: 0.6968, Test Loss: 0.7003\n",
      "Epoch: 860, Train Acc: 0.5302, Test Acc: 0.5150, Train Loss: 0.6959, Test Loss: 0.7003\n",
      "Epoch: 870, Train Acc: 0.5302, Test Acc: 0.5150, Train Loss: 0.6966, Test Loss: 0.7003\n",
      "Epoch: 880, Train Acc: 0.5302, Test Acc: 0.5150, Train Loss: 0.6975, Test Loss: 0.7003\n",
      "Epoch: 890, Train Acc: 0.5302, Test Acc: 0.5150, Train Loss: 0.6966, Test Loss: 0.7003\n",
      "Epoch: 900, Train Acc: 0.5302, Test Acc: 0.5150, Train Loss: 0.6975, Test Loss: 0.7003\n",
      "Epoch: 910, Train Acc: 0.5302, Test Acc: 0.5150, Train Loss: 0.6980, Test Loss: 0.7002\n",
      "Epoch: 920, Train Acc: 0.5302, Test Acc: 0.5150, Train Loss: 0.6962, Test Loss: 0.7002\n",
      "Epoch: 930, Train Acc: 0.5302, Test Acc: 0.5150, Train Loss: 0.6964, Test Loss: 0.7002\n",
      "Epoch: 940, Train Acc: 0.5302, Test Acc: 0.5150, Train Loss: 0.6961, Test Loss: 0.7002\n",
      "Epoch: 950, Train Acc: 0.5302, Test Acc: 0.5150, Train Loss: 0.6959, Test Loss: 0.7002\n",
      "Epoch: 960, Train Acc: 0.5302, Test Acc: 0.5150, Train Loss: 0.6964, Test Loss: 0.7002\n",
      "Epoch: 970, Train Acc: 0.5302, Test Acc: 0.5150, Train Loss: 0.6968, Test Loss: 0.7002\n",
      "Epoch: 980, Train Acc: 0.5302, Test Acc: 0.5150, Train Loss: 0.6958, Test Loss: 0.7002\n",
      "Epoch: 990, Train Acc: 0.5302, Test Acc: 0.5150, Train Loss: 0.6964, Test Loss: 0.7001\n",
      "Epoch: 1000, Train Acc: 0.5302, Test Acc: 0.5150, Train Loss: 0.6967, Test Loss: 0.7001\n",
      "Epoch: 1010, Train Acc: 0.5302, Test Acc: 0.5150, Train Loss: 0.6963, Test Loss: 0.7001\n",
      "Epoch: 1020, Train Acc: 0.5302, Test Acc: 0.5150, Train Loss: 0.6953, Test Loss: 0.7001\n",
      "Epoch: 1030, Train Acc: 0.5302, Test Acc: 0.5150, Train Loss: 0.6961, Test Loss: 0.7001\n",
      "Epoch: 1040, Train Acc: 0.5302, Test Acc: 0.5150, Train Loss: 0.6960, Test Loss: 0.7001\n",
      "Epoch: 1050, Train Acc: 0.5302, Test Acc: 0.5150, Train Loss: 0.6957, Test Loss: 0.7001\n",
      "Epoch: 1060, Train Acc: 0.5302, Test Acc: 0.5150, Train Loss: 0.6979, Test Loss: 0.7001\n",
      "Epoch: 1070, Train Acc: 0.5302, Test Acc: 0.5150, Train Loss: 0.6964, Test Loss: 0.7000\n",
      "Epoch: 1080, Train Acc: 0.5302, Test Acc: 0.5150, Train Loss: 0.6959, Test Loss: 0.7000\n",
      "Epoch: 1090, Train Acc: 0.5302, Test Acc: 0.5150, Train Loss: 0.6967, Test Loss: 0.7000\n",
      "Epoch: 1100, Train Acc: 0.5302, Test Acc: 0.5150, Train Loss: 0.6954, Test Loss: 0.7000\n",
      "Epoch: 1110, Train Acc: 0.5302, Test Acc: 0.5150, Train Loss: 0.6965, Test Loss: 0.7000\n",
      "Epoch: 1120, Train Acc: 0.5302, Test Acc: 0.5150, Train Loss: 0.6966, Test Loss: 0.7000\n",
      "Epoch: 1130, Train Acc: 0.5302, Test Acc: 0.5150, Train Loss: 0.6958, Test Loss: 0.7000\n",
      "Epoch: 1140, Train Acc: 0.5302, Test Acc: 0.5150, Train Loss: 0.6961, Test Loss: 0.6999\n",
      "Epoch: 1150, Train Acc: 0.5302, Test Acc: 0.5150, Train Loss: 0.6960, Test Loss: 0.6999\n",
      "Epoch: 1160, Train Acc: 0.5302, Test Acc: 0.5150, Train Loss: 0.6968, Test Loss: 0.6999\n",
      "Epoch: 1170, Train Acc: 0.5302, Test Acc: 0.5150, Train Loss: 0.6970, Test Loss: 0.6999\n",
      "Epoch: 1180, Train Acc: 0.5302, Test Acc: 0.5150, Train Loss: 0.6970, Test Loss: 0.6999\n",
      "Epoch: 1190, Train Acc: 0.5302, Test Acc: 0.5150, Train Loss: 0.6954, Test Loss: 0.6999\n",
      "Epoch: 1200, Train Acc: 0.5302, Test Acc: 0.5150, Train Loss: 0.6959, Test Loss: 0.6999\n",
      "Epoch: 1210, Train Acc: 0.5302, Test Acc: 0.5150, Train Loss: 0.6959, Test Loss: 0.6999\n",
      "Epoch: 1220, Train Acc: 0.5302, Test Acc: 0.5150, Train Loss: 0.6965, Test Loss: 0.6998\n",
      "Epoch: 1230, Train Acc: 0.5302, Test Acc: 0.5150, Train Loss: 0.6964, Test Loss: 0.6998\n",
      "Epoch: 1240, Train Acc: 0.5302, Test Acc: 0.5150, Train Loss: 0.6962, Test Loss: 0.6998\n",
      "Epoch: 1250, Train Acc: 0.5302, Test Acc: 0.5150, Train Loss: 0.6974, Test Loss: 0.6998\n",
      "Epoch: 1260, Train Acc: 0.5302, Test Acc: 0.5150, Train Loss: 0.6962, Test Loss: 0.6998\n",
      "Epoch: 1270, Train Acc: 0.5302, Test Acc: 0.5150, Train Loss: 0.6972, Test Loss: 0.6998\n",
      "Epoch: 1280, Train Acc: 0.5302, Test Acc: 0.5150, Train Loss: 0.6954, Test Loss: 0.6998\n",
      "Epoch: 1290, Train Acc: 0.5302, Test Acc: 0.5150, Train Loss: 0.6963, Test Loss: 0.6998\n",
      "Epoch: 1300, Train Acc: 0.5302, Test Acc: 0.5150, Train Loss: 0.6952, Test Loss: 0.6997\n",
      "Epoch: 1310, Train Acc: 0.5302, Test Acc: 0.5150, Train Loss: 0.6965, Test Loss: 0.6997\n",
      "Epoch: 1320, Train Acc: 0.5302, Test Acc: 0.5150, Train Loss: 0.6965, Test Loss: 0.6997\n",
      "Epoch: 1330, Train Acc: 0.5302, Test Acc: 0.5150, Train Loss: 0.6961, Test Loss: 0.6997\n",
      "Epoch: 1340, Train Acc: 0.5302, Test Acc: 0.5150, Train Loss: 0.6966, Test Loss: 0.6997\n",
      "Epoch: 1350, Train Acc: 0.5302, Test Acc: 0.5150, Train Loss: 0.6974, Test Loss: 0.6997\n",
      "Epoch: 1360, Train Acc: 0.5302, Test Acc: 0.5150, Train Loss: 0.6958, Test Loss: 0.6997\n",
      "Epoch: 1370, Train Acc: 0.5302, Test Acc: 0.5150, Train Loss: 0.6951, Test Loss: 0.6997\n",
      "Epoch: 1380, Train Acc: 0.5302, Test Acc: 0.5150, Train Loss: 0.6969, Test Loss: 0.6996\n",
      "Epoch: 1390, Train Acc: 0.5302, Test Acc: 0.5150, Train Loss: 0.6961, Test Loss: 0.6996\n",
      "Epoch: 1400, Train Acc: 0.5302, Test Acc: 0.5150, Train Loss: 0.6951, Test Loss: 0.6996\n",
      "Epoch: 1410, Train Acc: 0.5302, Test Acc: 0.5150, Train Loss: 0.6961, Test Loss: 0.6996\n",
      "Epoch: 1420, Train Acc: 0.5302, Test Acc: 0.5150, Train Loss: 0.6968, Test Loss: 0.6996\n",
      "Epoch: 1430, Train Acc: 0.5302, Test Acc: 0.5150, Train Loss: 0.6953, Test Loss: 0.6996\n",
      "Epoch: 1440, Train Acc: 0.5302, Test Acc: 0.5150, Train Loss: 0.6960, Test Loss: 0.6996\n",
      "Epoch: 1450, Train Acc: 0.5302, Test Acc: 0.5150, Train Loss: 0.6963, Test Loss: 0.6996\n",
      "Epoch: 1460, Train Acc: 0.5302, Test Acc: 0.5150, Train Loss: 0.6964, Test Loss: 0.6995\n",
      "Epoch: 1470, Train Acc: 0.5302, Test Acc: 0.5150, Train Loss: 0.6956, Test Loss: 0.6995\n",
      "Epoch: 1480, Train Acc: 0.5302, Test Acc: 0.5150, Train Loss: 0.6952, Test Loss: 0.6995\n",
      "Epoch: 1490, Train Acc: 0.5302, Test Acc: 0.5150, Train Loss: 0.6953, Test Loss: 0.6995\n",
      "Epoch: 1500, Train Acc: 0.5302, Test Acc: 0.5150, Train Loss: 0.6964, Test Loss: 0.6995\n"
     ]
    },
    {
     "data": {
      "text/html": [
       "<style>\n",
       "    table.wandb td:nth-child(1) { padding: 0 10px; text-align: left ; width: auto;} td:nth-child(2) {text-align: left ; width: 100%}\n",
       "    .wandb-row { display: flex; flex-direction: row; flex-wrap: wrap; justify-content: flex-start; width: 100% }\n",
       "    .wandb-col { display: flex; flex-direction: column; flex-basis: 100%; flex: 1; padding: 10px; }\n",
       "    </style>\n",
       "<div class=\"wandb-row\"><div class=\"wandb-col\"><h3>Run history:</h3><br/><table class=\"wandb\"><tr><td>Test Accuracy</td><td>▁▁▁▁▁▁▁▁▁▁▁▁▁▁▁▁▁▁▁▁▁▁▁▁▁▁▁▁▁▁▁▁▁▁▁▁▁▁▁▁</td></tr><tr><td>Test F1</td><td>▁▁▁▁▁▁▁▁▁▁▁▁▁▁▁▁▁▁▁▁▁▁▁▁▁▁▁▁▁▁▁▁▁▁▁▁▁▁▁▁</td></tr><tr><td>Test Loss</td><td>█▂▂▂▂▂▂▁▁▁▁▁▁▁▁▁▁▁▁▁▁▁▁▁▁▁▁▁▁▁▁▁▁▁▁▁▁▁▁▁</td></tr><tr><td>Test Sensitivity</td><td>▁▁▁▁▁▁▁▁▁▁▁▁▁▁▁▁▁▁▁▁▁▁▁▁▁▁▁▁▁▁▁▁▁▁▁▁▁▁▁▁</td></tr><tr><td>Test Specificity</td><td>▁▁▁▁▁▁▁▁▁▁▁▁▁▁▁▁▁▁▁▁▁▁▁▁▁▁▁▁▁▁▁▁▁▁▁▁▁▁▁▁</td></tr><tr><td>Train Accuracy</td><td>▁▁▁▁▁▁▁▁▁▁▁▁▁▁▁▁▁▁▁▁▁▁▁▁▁▁▁▁▁▁▁▁▁▁▁▁▁▁▁▁</td></tr><tr><td>Train F1</td><td>▁▁▁▁▁▁▁▁▁▁▁▁▁▁▁▁▁▁▁▁▁▁▁▁▁▁▁▁▁▁▁▁▁▁▁▁▁▁▁▁</td></tr><tr><td>Train Loss</td><td>█▂▁▂▁▂▂▂▁▂▂▂▂▂▁▂▂▂▂▂▂▂▂▂▂▂▁▂▂▁▁▁▂▁▂▁▁▁▁▁</td></tr><tr><td>Train Sensitivity</td><td>▁▁▁▁▁▁▁▁▁▁▁▁▁▁▁▁▁▁▁▁▁▁▁▁▁▁▁▁▁▁▁▁▁▁▁▁▁▁▁▁</td></tr><tr><td>Train Specificity</td><td>▁▁▁▁▁▁▁▁▁▁▁▁▁▁▁▁▁▁▁▁▁▁▁▁▁▁▁▁▁▁▁▁▁▁▁▁▁▁▁▁</td></tr></table><br/></div><div class=\"wandb-col\"><h3>Run summary:</h3><br/><table class=\"wandb\"><tr><td>Test Accuracy</td><td>0.515</td></tr><tr><td>Test F1</td><td>0.67987</td></tr><tr><td>Test Loss</td><td>0.6995</td></tr><tr><td>Test Sensitivity</td><td>1.0</td></tr><tr><td>Test Specificity</td><td>0.0</td></tr><tr><td>Train Accuracy</td><td>0.53017</td></tr><tr><td>Train F1</td><td>0.69296</td></tr><tr><td>Train Loss</td><td>0.69637</td></tr><tr><td>Train Sensitivity</td><td>1.0</td></tr><tr><td>Train Specificity</td><td>0.0</td></tr></table><br/></div></div>"
      ],
      "text/plain": [
       "<IPython.core.display.HTML object>"
      ]
     },
     "metadata": {},
     "output_type": "display_data"
    },
    {
     "data": {
      "text/html": [
       " View run <strong style=\"color:#cdcd00\">vivid-sweep-14</strong> at: <a href='https://wandb.ai/dylan-home/pnca-singletons-sweep/runs/p586x6u0' target=\"_blank\">https://wandb.ai/dylan-home/pnca-singletons-sweep/runs/p586x6u0</a><br/>Synced 5 W&B file(s), 0 media file(s), 0 artifact file(s) and 0 other file(s)"
      ],
      "text/plain": [
       "<IPython.core.display.HTML object>"
      ]
     },
     "metadata": {},
     "output_type": "display_data"
    },
    {
     "data": {
      "text/html": [
       "Find logs at: <code>./wandb/run-20250206_205010-p586x6u0/logs</code>"
      ],
      "text/plain": [
       "<IPython.core.display.HTML object>"
      ]
     },
     "metadata": {},
     "output_type": "display_data"
    },
    {
     "name": "stderr",
     "output_type": "stream",
     "text": [
      "\u001b[34m\u001b[1mwandb\u001b[0m: Agent Starting Run: cah1o5mi with config:\n",
      "\u001b[34m\u001b[1mwandb\u001b[0m: \tcutoff_distance: 10.79780493460619\n",
      "\u001b[34m\u001b[1mwandb\u001b[0m: \tdropout: 0.5\n",
      "\u001b[34m\u001b[1mwandb\u001b[0m: \thidden_channels: 384\n",
      "\u001b[34m\u001b[1mwandb\u001b[0m: \tlearning_rate: 1.1957991451768803e-09\n",
      "\u001b[34m\u001b[1mwandb\u001b[0m: \tweight_decay: 0.0001839139305574555\n",
      "Failed to detect the name of this notebook, you can set it manually with the WANDB_NOTEBOOK_NAME environment variable to enable code saving.\n"
     ]
    },
    {
     "data": {
      "text/html": [
       "wandb version 0.19.6 is available!  To upgrade, please run:\n",
       " $ pip install wandb --upgrade"
      ],
      "text/plain": [
       "<IPython.core.display.HTML object>"
      ]
     },
     "metadata": {},
     "output_type": "display_data"
    },
    {
     "data": {
      "text/html": [
       "Tracking run with wandb version 0.16.4"
      ],
      "text/plain": [
       "<IPython.core.display.HTML object>"
      ]
     },
     "metadata": {},
     "output_type": "display_data"
    },
    {
     "data": {
      "text/html": [
       "Run data is saved locally in <code>/Users/dylandissanayake/Desktop/DPhil/Comp Disc/Repositories/tb-pnca-gnn/dd_pnca/wandb/run-20250206_210432-cah1o5mi</code>"
      ],
      "text/plain": [
       "<IPython.core.display.HTML object>"
      ]
     },
     "metadata": {},
     "output_type": "display_data"
    },
    {
     "data": {
      "text/html": [
       "Syncing run <strong><a href='https://wandb.ai/dylan-home/pnca-singletons-sweep/runs/cah1o5mi' target=\"_blank\">radiant-sweep-15</a></strong> to <a href='https://wandb.ai/dylan-home/pnca-singletons-sweep' target=\"_blank\">Weights & Biases</a> (<a href='https://wandb.me/run' target=\"_blank\">docs</a>)<br/>Sweep page: <a href='https://wandb.ai/dylan-home/pnca-singletons-sweep/sweeps/i8r2s0bc' target=\"_blank\">https://wandb.ai/dylan-home/pnca-singletons-sweep/sweeps/i8r2s0bc</a>"
      ],
      "text/plain": [
       "<IPython.core.display.HTML object>"
      ]
     },
     "metadata": {},
     "output_type": "display_data"
    },
    {
     "data": {
      "text/html": [
       " View project at <a href='https://wandb.ai/dylan-home/pnca-singletons-sweep' target=\"_blank\">https://wandb.ai/dylan-home/pnca-singletons-sweep</a>"
      ],
      "text/plain": [
       "<IPython.core.display.HTML object>"
      ]
     },
     "metadata": {},
     "output_type": "display_data"
    },
    {
     "data": {
      "text/html": [
       " View sweep at <a href='https://wandb.ai/dylan-home/pnca-singletons-sweep/sweeps/i8r2s0bc' target=\"_blank\">https://wandb.ai/dylan-home/pnca-singletons-sweep/sweeps/i8r2s0bc</a>"
      ],
      "text/plain": [
       "<IPython.core.display.HTML object>"
      ]
     },
     "metadata": {},
     "output_type": "display_data"
    },
    {
     "data": {
      "text/html": [
       " View run at <a href='https://wandb.ai/dylan-home/pnca-singletons-sweep/runs/cah1o5mi' target=\"_blank\">https://wandb.ai/dylan-home/pnca-singletons-sweep/runs/cah1o5mi</a>"
      ],
      "text/plain": [
       "<IPython.core.display.HTML object>"
      ]
     },
     "metadata": {},
     "output_type": "display_data"
    },
    {
     "name": "stdout",
     "output_type": "stream",
     "text": [
      "Adjusting edge index and attaching edge weights for cutoff distance 10.79780493460619\n",
      "Early stopping enabled. Patience: 20. Min Delta: 0.\n",
      "Epoch: 010, Train Acc: 0.5302, Test Acc: 0.5150, Train Loss: 0.9863, Test Loss: 1.0150\n",
      "Epoch: 020, Train Acc: 0.5302, Test Acc: 0.5150, Train Loss: 0.8564, Test Loss: 0.8779\n",
      "Epoch: 030, Train Acc: 0.5302, Test Acc: 0.5150, Train Loss: 0.8605, Test Loss: 0.8789\n",
      "Epoch: 040, Train Acc: 0.5302, Test Acc: 0.5150, Train Loss: 0.8543, Test Loss: 0.8793\n",
      "20 epochs passed without 0 test loss improvement. \n",
      "Early stopping triggered.\n"
     ]
    },
    {
     "data": {
      "text/html": [
       "<style>\n",
       "    table.wandb td:nth-child(1) { padding: 0 10px; text-align: left ; width: auto;} td:nth-child(2) {text-align: left ; width: 100%}\n",
       "    .wandb-row { display: flex; flex-direction: row; flex-wrap: wrap; justify-content: flex-start; width: 100% }\n",
       "    .wandb-col { display: flex; flex-direction: column; flex-basis: 100%; flex: 1; padding: 10px; }\n",
       "    </style>\n",
       "<div class=\"wandb-row\"><div class=\"wandb-col\"><h3>Run history:</h3><br/><table class=\"wandb\"><tr><td>Test Accuracy</td><td>▁▁▁▁▁▁▁▁▁▁▁▁▁▁▁▁▁▁▁▁▁▁▁▁▁▁▁▁▁▁▁▁▁▁▁▁▁▁▁▁</td></tr><tr><td>Test F1</td><td>▁▁▁▁▁▁▁▁▁▁▁▁▁▁▁▁▁▁▁▁▁▁▁▁▁▁▁▁▁▁▁▁▁▁▁▁▁▁▁▁</td></tr><tr><td>Test Loss</td><td>█▆▄▃▃▂▂▁▁▁▁▁▁▁▁▁▁▁▁▁▁▁▁▁▁▁▁▁▁▁▁▁▁▁▁▁▁▁▁▁</td></tr><tr><td>Test Sensitivity</td><td>▁▁▁▁▁▁▁▁▁▁▁▁▁▁▁▁▁▁▁▁▁▁▁▁▁▁▁▁▁▁▁▁▁▁▁▁▁▁▁▁</td></tr><tr><td>Test Specificity</td><td>▁▁▁▁▁▁▁▁▁▁▁▁▁▁▁▁▁▁▁▁▁▁▁▁▁▁▁▁▁▁▁▁▁▁▁▁▁▁▁▁</td></tr><tr><td>Train Accuracy</td><td>▁▁▁▁▁▁▁▁▁▁▁▁▁▁▁▁▁▁▁▁▁▁▁▁▁▁▁▁▁▁▁▁▁▁▁▁▁▁▁▁</td></tr><tr><td>Train F1</td><td>▁▁▁▁▁▁▁▁▁▁▁▁▁▁▁▁▁▁▁▁▁▁▁▁▁▁▁▁▁▁▁▁▁▁▁▁▁▁▁▁</td></tr><tr><td>Train Loss</td><td>█▆▄▃▂▂▂▁▁▁▁▁▁▁▁▁▁▁▁▁▁▁▁▁▁▁▁▁▁▁▁▁▁▁▁▁▁▁▁▁</td></tr><tr><td>Train Sensitivity</td><td>▁▁▁▁▁▁▁▁▁▁▁▁▁▁▁▁▁▁▁▁▁▁▁▁▁▁▁▁▁▁▁▁▁▁▁▁▁▁▁▁</td></tr><tr><td>Train Specificity</td><td>▁▁▁▁▁▁▁▁▁▁▁▁▁▁▁▁▁▁▁▁▁▁▁▁▁▁▁▁▁▁▁▁▁▁▁▁▁▁▁▁</td></tr></table><br/></div><div class=\"wandb-col\"><h3>Run summary:</h3><br/><table class=\"wandb\"><tr><td>Test Accuracy</td><td>0.515</td></tr><tr><td>Test F1</td><td>0.67987</td></tr><tr><td>Test Loss</td><td>0.87928</td></tr><tr><td>Test Sensitivity</td><td>1.0</td></tr><tr><td>Test Specificity</td><td>0.0</td></tr><tr><td>Train Accuracy</td><td>0.53017</td></tr><tr><td>Train F1</td><td>0.69296</td></tr><tr><td>Train Loss</td><td>0.85431</td></tr><tr><td>Train Sensitivity</td><td>1.0</td></tr><tr><td>Train Specificity</td><td>0.0</td></tr></table><br/></div></div>"
      ],
      "text/plain": [
       "<IPython.core.display.HTML object>"
      ]
     },
     "metadata": {},
     "output_type": "display_data"
    },
    {
     "data": {
      "text/html": [
       " View run <strong style=\"color:#cdcd00\">radiant-sweep-15</strong> at: <a href='https://wandb.ai/dylan-home/pnca-singletons-sweep/runs/cah1o5mi' target=\"_blank\">https://wandb.ai/dylan-home/pnca-singletons-sweep/runs/cah1o5mi</a><br/>Synced 5 W&B file(s), 0 media file(s), 0 artifact file(s) and 0 other file(s)"
      ],
      "text/plain": [
       "<IPython.core.display.HTML object>"
      ]
     },
     "metadata": {},
     "output_type": "display_data"
    },
    {
     "data": {
      "text/html": [
       "Find logs at: <code>./wandb/run-20250206_210432-cah1o5mi/logs</code>"
      ],
      "text/plain": [
       "<IPython.core.display.HTML object>"
      ]
     },
     "metadata": {},
     "output_type": "display_data"
    },
    {
     "name": "stderr",
     "output_type": "stream",
     "text": [
      "\u001b[34m\u001b[1mwandb\u001b[0m: Agent Starting Run: zo195qb6 with config:\n",
      "\u001b[34m\u001b[1mwandb\u001b[0m: \tcutoff_distance: 7.347065928617955\n",
      "\u001b[34m\u001b[1mwandb\u001b[0m: \tdropout: 0.2\n",
      "\u001b[34m\u001b[1mwandb\u001b[0m: \thidden_channels: 256\n",
      "\u001b[34m\u001b[1mwandb\u001b[0m: \tlearning_rate: 5.369728066846379e-05\n",
      "\u001b[34m\u001b[1mwandb\u001b[0m: \tweight_decay: 1.5237168026792176e-06\n",
      "Failed to detect the name of this notebook, you can set it manually with the WANDB_NOTEBOOK_NAME environment variable to enable code saving.\n"
     ]
    },
    {
     "data": {
      "text/html": [
       "wandb version 0.19.6 is available!  To upgrade, please run:\n",
       " $ pip install wandb --upgrade"
      ],
      "text/plain": [
       "<IPython.core.display.HTML object>"
      ]
     },
     "metadata": {},
     "output_type": "display_data"
    },
    {
     "data": {
      "text/html": [
       "Tracking run with wandb version 0.16.4"
      ],
      "text/plain": [
       "<IPython.core.display.HTML object>"
      ]
     },
     "metadata": {},
     "output_type": "display_data"
    },
    {
     "data": {
      "text/html": [
       "Run data is saved locally in <code>/Users/dylandissanayake/Desktop/DPhil/Comp Disc/Repositories/tb-pnca-gnn/dd_pnca/wandb/run-20250206_210813-zo195qb6</code>"
      ],
      "text/plain": [
       "<IPython.core.display.HTML object>"
      ]
     },
     "metadata": {},
     "output_type": "display_data"
    },
    {
     "data": {
      "text/html": [
       "Syncing run <strong><a href='https://wandb.ai/dylan-home/pnca-singletons-sweep/runs/zo195qb6' target=\"_blank\">trim-sweep-16</a></strong> to <a href='https://wandb.ai/dylan-home/pnca-singletons-sweep' target=\"_blank\">Weights & Biases</a> (<a href='https://wandb.me/run' target=\"_blank\">docs</a>)<br/>Sweep page: <a href='https://wandb.ai/dylan-home/pnca-singletons-sweep/sweeps/i8r2s0bc' target=\"_blank\">https://wandb.ai/dylan-home/pnca-singletons-sweep/sweeps/i8r2s0bc</a>"
      ],
      "text/plain": [
       "<IPython.core.display.HTML object>"
      ]
     },
     "metadata": {},
     "output_type": "display_data"
    },
    {
     "data": {
      "text/html": [
       " View project at <a href='https://wandb.ai/dylan-home/pnca-singletons-sweep' target=\"_blank\">https://wandb.ai/dylan-home/pnca-singletons-sweep</a>"
      ],
      "text/plain": [
       "<IPython.core.display.HTML object>"
      ]
     },
     "metadata": {},
     "output_type": "display_data"
    },
    {
     "data": {
      "text/html": [
       " View sweep at <a href='https://wandb.ai/dylan-home/pnca-singletons-sweep/sweeps/i8r2s0bc' target=\"_blank\">https://wandb.ai/dylan-home/pnca-singletons-sweep/sweeps/i8r2s0bc</a>"
      ],
      "text/plain": [
       "<IPython.core.display.HTML object>"
      ]
     },
     "metadata": {},
     "output_type": "display_data"
    },
    {
     "data": {
      "text/html": [
       " View run at <a href='https://wandb.ai/dylan-home/pnca-singletons-sweep/runs/zo195qb6' target=\"_blank\">https://wandb.ai/dylan-home/pnca-singletons-sweep/runs/zo195qb6</a>"
      ],
      "text/plain": [
       "<IPython.core.display.HTML object>"
      ]
     },
     "metadata": {},
     "output_type": "display_data"
    },
    {
     "name": "stdout",
     "output_type": "stream",
     "text": [
      "Adjusting edge index and attaching edge weights for cutoff distance 7.347065928617955\n",
      "Early stopping enabled. Patience: 20. Min Delta: 0.\n",
      "Epoch: 010, Train Acc: 0.4698, Test Acc: 0.4850, Train Loss: 0.7050, Test Loss: 0.7015\n",
      "Epoch: 020, Train Acc: 0.5474, Test Acc: 0.5650, Train Loss: 0.6911, Test Loss: 0.6915\n",
      "Epoch: 030, Train Acc: 0.5302, Test Acc: 0.5050, Train Loss: 0.6858, Test Loss: 0.6891\n",
      "Epoch: 040, Train Acc: 0.5302, Test Acc: 0.5150, Train Loss: 0.6838, Test Loss: 0.6888\n",
      "Epoch: 050, Train Acc: 0.5302, Test Acc: 0.5150, Train Loss: 0.6821, Test Loss: 0.6893\n",
      "Epoch: 060, Train Acc: 0.5733, Test Acc: 0.5050, Train Loss: 0.6802, Test Loss: 0.6858\n",
      "Epoch: 070, Train Acc: 0.5668, Test Acc: 0.5050, Train Loss: 0.6778, Test Loss: 0.6847\n",
      "Epoch: 080, Train Acc: 0.5862, Test Acc: 0.5200, Train Loss: 0.6762, Test Loss: 0.6835\n",
      "Epoch: 090, Train Acc: 0.5603, Test Acc: 0.5150, Train Loss: 0.6735, Test Loss: 0.6825\n",
      "Epoch: 100, Train Acc: 0.5603, Test Acc: 0.5150, Train Loss: 0.6713, Test Loss: 0.6814\n",
      "Epoch: 110, Train Acc: 0.5841, Test Acc: 0.5450, Train Loss: 0.6684, Test Loss: 0.6795\n",
      "Epoch: 120, Train Acc: 0.6746, Test Acc: 0.6000, Train Loss: 0.6681, Test Loss: 0.6789\n",
      "Epoch: 130, Train Acc: 0.5970, Test Acc: 0.5350, Train Loss: 0.6627, Test Loss: 0.6764\n",
      "Epoch: 140, Train Acc: 0.5884, Test Acc: 0.5350, Train Loss: 0.6580, Test Loss: 0.6747\n",
      "Epoch: 150, Train Acc: 0.5841, Test Acc: 0.5150, Train Loss: 0.6557, Test Loss: 0.6736\n",
      "Epoch: 160, Train Acc: 0.6746, Test Acc: 0.6150, Train Loss: 0.6543, Test Loss: 0.6723\n",
      "Epoch: 170, Train Acc: 0.5948, Test Acc: 0.5650, Train Loss: 0.6466, Test Loss: 0.6683\n",
      "Epoch: 180, Train Acc: 0.6961, Test Acc: 0.5950, Train Loss: 0.6431, Test Loss: 0.6653\n",
      "Epoch: 190, Train Acc: 0.6961, Test Acc: 0.6250, Train Loss: 0.6376, Test Loss: 0.6630\n",
      "Epoch: 200, Train Acc: 0.6897, Test Acc: 0.6050, Train Loss: 0.6337, Test Loss: 0.6606\n",
      "Epoch: 210, Train Acc: 0.6961, Test Acc: 0.6150, Train Loss: 0.6283, Test Loss: 0.6580\n",
      "Epoch: 220, Train Acc: 0.7155, Test Acc: 0.6000, Train Loss: 0.6226, Test Loss: 0.6542\n",
      "Epoch: 230, Train Acc: 0.7134, Test Acc: 0.6050, Train Loss: 0.6165, Test Loss: 0.6513\n",
      "Epoch: 240, Train Acc: 0.7047, Test Acc: 0.6250, Train Loss: 0.6161, Test Loss: 0.6509\n",
      "Epoch: 250, Train Acc: 0.6810, Test Acc: 0.6500, Train Loss: 0.6154, Test Loss: 0.6540\n",
      "Epoch: 260, Train Acc: 0.6207, Test Acc: 0.5700, Train Loss: 0.6526, Test Loss: 0.6887\n",
      "Epoch: 270, Train Acc: 0.6832, Test Acc: 0.6550, Train Loss: 0.6102, Test Loss: 0.6516\n",
      "Epoch: 280, Train Acc: 0.5539, Test Acc: 0.5500, Train Loss: 0.7104, Test Loss: 0.7527\n",
      "Epoch: 290, Train Acc: 0.6487, Test Acc: 0.6300, Train Loss: 0.6262, Test Loss: 0.6735\n",
      "Epoch: 300, Train Acc: 0.7220, Test Acc: 0.6150, Train Loss: 0.5750, Test Loss: 0.6324\n",
      "Epoch: 310, Train Acc: 0.6810, Test Acc: 0.6700, Train Loss: 0.5975, Test Loss: 0.6521\n",
      "Epoch: 320, Train Acc: 0.7047, Test Acc: 0.6450, Train Loss: 0.5746, Test Loss: 0.6363\n",
      "Epoch: 330, Train Acc: 0.7091, Test Acc: 0.6400, Train Loss: 0.5683, Test Loss: 0.6339\n",
      "Epoch: 340, Train Acc: 0.7457, Test Acc: 0.6450, Train Loss: 0.5540, Test Loss: 0.6245\n",
      "Epoch: 350, Train Acc: 0.6875, Test Acc: 0.6650, Train Loss: 0.5743, Test Loss: 0.6430\n",
      "Epoch: 360, Train Acc: 0.6832, Test Acc: 0.6900, Train Loss: 0.5892, Test Loss: 0.6617\n",
      "Epoch: 370, Train Acc: 0.6379, Test Acc: 0.5700, Train Loss: 0.5596, Test Loss: 0.6460\n",
      "Epoch: 380, Train Acc: 0.6832, Test Acc: 0.6850, Train Loss: 0.5897, Test Loss: 0.6698\n",
      "Epoch: 390, Train Acc: 0.6401, Test Acc: 0.5750, Train Loss: 0.5503, Test Loss: 0.6439\n",
      "Epoch: 400, Train Acc: 0.7091, Test Acc: 0.6650, Train Loss: 0.5460, Test Loss: 0.6384\n",
      "Epoch: 410, Train Acc: 0.6940, Test Acc: 0.6850, Train Loss: 0.5710, Test Loss: 0.6604\n",
      "Epoch: 420, Train Acc: 0.7716, Test Acc: 0.6550, Train Loss: 0.5111, Test Loss: 0.6141\n",
      "Epoch: 430, Train Acc: 0.7672, Test Acc: 0.6500, Train Loss: 0.5063, Test Loss: 0.6131\n",
      "Epoch: 440, Train Acc: 0.7349, Test Acc: 0.6700, Train Loss: 0.5153, Test Loss: 0.6237\n",
      "Epoch: 450, Train Acc: 0.6401, Test Acc: 0.5250, Train Loss: 0.5527, Test Loss: 0.6716\n",
      "20 epochs passed without 0 test loss improvement. \n",
      "Early stopping triggered.\n"
     ]
    },
    {
     "data": {
      "text/html": [
       "<style>\n",
       "    table.wandb td:nth-child(1) { padding: 0 10px; text-align: left ; width: auto;} td:nth-child(2) {text-align: left ; width: 100%}\n",
       "    .wandb-row { display: flex; flex-direction: row; flex-wrap: wrap; justify-content: flex-start; width: 100% }\n",
       "    .wandb-col { display: flex; flex-direction: column; flex-basis: 100%; flex: 1; padding: 10px; }\n",
       "    </style>\n",
       "<div class=\"wandb-row\"><div class=\"wandb-col\"><h3>Run history:</h3><br/><table class=\"wandb\"><tr><td>Test Accuracy</td><td>▁▁▂▂▂▂▂▃▂▅▄▅▃▂▄▂▆▅▆▆▄▆▆▇▃▆▅▆▇▆▆█▅█▇▇▇▇▇▇</td></tr><tr><td>Test F1</td><td>▁▁█████▇█▅▇▇██▇█▆▇▇▇▄▇▇▇▃▇▇▇▇▇▇▇▅▇▇▇▇▇█▇</td></tr><tr><td>Test Loss</td><td>▇▆▅▅▅▅▅▅▄▄▄▄▄▄▄▄▄▃▃▃▅▃▃▃█▂▂▂▂▂▂▃▆▃▄▂▁▁▁▁</td></tr><tr><td>Test Sensitivity</td><td>▁▁███▇█▆▇▃▅▄▇▇▅▇▃▄▄▅▂▅▄▄▂▅▅▅▄▅▄▄▃▄▄▄▅▅▅▅</td></tr><tr><td>Test Specificity</td><td>██▁▁▁▂▁▄▁▇▅▆▃▂▅▂▇▆▇▆█▆▇▇█▆▅▆▇▆▇████▇▆▆▆▇</td></tr><tr><td>Train Accuracy</td><td>▁▁▂▂▃▃▃▅▃▅▅▆▄▄▆▄▅▆▆▇▄▇▇▆▃▇▇▇▆▇▇▆▅▆▆▇████</td></tr><tr><td>Train F1</td><td>▁▁▇▇▇▇▇▇▇▆▇▇▇▇▇▇▆▇▇▇▅▇▇▇▄▇██▇█▇▆▆▇▆▇████</td></tr><tr><td>Train Loss</td><td>█▇▆▆▆▆▆▆▆▆▆▆▆▆▅▅▅▅▅▅▅▄▄▄▇▃▃▃▃▂▃▄▅▃▄▂▁▁▁▁</td></tr><tr><td>Train Sensitivity</td><td>▁▁█████▆█▃▆▅▇▇▆█▄▅▅▅▃▅▅▄▂▅▆▅▄▅▅▄▃▄▄▅▆▆▆▅</td></tr><tr><td>Train Specificity</td><td>██▁▁▂▂▂▄▂█▅▇▃▃▆▂█▇▇▇█▇▇██▇▆▇█▇██████▇▇▇▇</td></tr></table><br/></div><div class=\"wandb-col\"><h3>Run summary:</h3><br/><table class=\"wandb\"><tr><td>Test Accuracy</td><td>0.69</td></tr><tr><td>Test F1</td><td>0.59211</td></tr><tr><td>Test Loss</td><td>0.6715</td></tr><tr><td>Test Sensitivity</td><td>0.43689</td></tr><tr><td>Test Specificity</td><td>0.95876</td></tr><tr><td>Train Accuracy</td><td>0.70905</td></tr><tr><td>Train F1</td><td>0.63215</td></tr><tr><td>Train Loss</td><td>0.56359</td></tr><tr><td>Train Sensitivity</td><td>0.47154</td></tr><tr><td>Train Specificity</td><td>0.97706</td></tr></table><br/></div></div>"
      ],
      "text/plain": [
       "<IPython.core.display.HTML object>"
      ]
     },
     "metadata": {},
     "output_type": "display_data"
    },
    {
     "data": {
      "text/html": [
       " View run <strong style=\"color:#cdcd00\">trim-sweep-16</strong> at: <a href='https://wandb.ai/dylan-home/pnca-singletons-sweep/runs/zo195qb6' target=\"_blank\">https://wandb.ai/dylan-home/pnca-singletons-sweep/runs/zo195qb6</a><br/>Synced 5 W&B file(s), 0 media file(s), 0 artifact file(s) and 0 other file(s)"
      ],
      "text/plain": [
       "<IPython.core.display.HTML object>"
      ]
     },
     "metadata": {},
     "output_type": "display_data"
    },
    {
     "data": {
      "text/html": [
       "Find logs at: <code>./wandb/run-20250206_210813-zo195qb6/logs</code>"
      ],
      "text/plain": [
       "<IPython.core.display.HTML object>"
      ]
     },
     "metadata": {},
     "output_type": "display_data"
    },
    {
     "name": "stderr",
     "output_type": "stream",
     "text": [
      "\u001b[34m\u001b[1mwandb\u001b[0m: Agent Starting Run: lofr46fm with config:\n",
      "\u001b[34m\u001b[1mwandb\u001b[0m: \tcutoff_distance: 11.904083282455783\n",
      "\u001b[34m\u001b[1mwandb\u001b[0m: \tdropout: 0.5\n",
      "\u001b[34m\u001b[1mwandb\u001b[0m: \thidden_channels: 256\n",
      "\u001b[34m\u001b[1mwandb\u001b[0m: \tlearning_rate: 1.9712511227409076e-05\n",
      "\u001b[34m\u001b[1mwandb\u001b[0m: \tweight_decay: 1.8420355329391906e-10\n",
      "Failed to detect the name of this notebook, you can set it manually with the WANDB_NOTEBOOK_NAME environment variable to enable code saving.\n"
     ]
    },
    {
     "data": {
      "text/html": [
       "wandb version 0.19.6 is available!  To upgrade, please run:\n",
       " $ pip install wandb --upgrade"
      ],
      "text/plain": [
       "<IPython.core.display.HTML object>"
      ]
     },
     "metadata": {},
     "output_type": "display_data"
    },
    {
     "data": {
      "text/html": [
       "Tracking run with wandb version 0.16.4"
      ],
      "text/plain": [
       "<IPython.core.display.HTML object>"
      ]
     },
     "metadata": {},
     "output_type": "display_data"
    },
    {
     "data": {
      "text/html": [
       "Run data is saved locally in <code>/Users/dylandissanayake/Desktop/DPhil/Comp Disc/Repositories/tb-pnca-gnn/dd_pnca/wandb/run-20250206_211537-lofr46fm</code>"
      ],
      "text/plain": [
       "<IPython.core.display.HTML object>"
      ]
     },
     "metadata": {},
     "output_type": "display_data"
    },
    {
     "data": {
      "text/html": [
       "Syncing run <strong><a href='https://wandb.ai/dylan-home/pnca-singletons-sweep/runs/lofr46fm' target=\"_blank\">firm-sweep-17</a></strong> to <a href='https://wandb.ai/dylan-home/pnca-singletons-sweep' target=\"_blank\">Weights & Biases</a> (<a href='https://wandb.me/run' target=\"_blank\">docs</a>)<br/>Sweep page: <a href='https://wandb.ai/dylan-home/pnca-singletons-sweep/sweeps/i8r2s0bc' target=\"_blank\">https://wandb.ai/dylan-home/pnca-singletons-sweep/sweeps/i8r2s0bc</a>"
      ],
      "text/plain": [
       "<IPython.core.display.HTML object>"
      ]
     },
     "metadata": {},
     "output_type": "display_data"
    },
    {
     "data": {
      "text/html": [
       " View project at <a href='https://wandb.ai/dylan-home/pnca-singletons-sweep' target=\"_blank\">https://wandb.ai/dylan-home/pnca-singletons-sweep</a>"
      ],
      "text/plain": [
       "<IPython.core.display.HTML object>"
      ]
     },
     "metadata": {},
     "output_type": "display_data"
    },
    {
     "data": {
      "text/html": [
       " View sweep at <a href='https://wandb.ai/dylan-home/pnca-singletons-sweep/sweeps/i8r2s0bc' target=\"_blank\">https://wandb.ai/dylan-home/pnca-singletons-sweep/sweeps/i8r2s0bc</a>"
      ],
      "text/plain": [
       "<IPython.core.display.HTML object>"
      ]
     },
     "metadata": {},
     "output_type": "display_data"
    },
    {
     "data": {
      "text/html": [
       " View run at <a href='https://wandb.ai/dylan-home/pnca-singletons-sweep/runs/lofr46fm' target=\"_blank\">https://wandb.ai/dylan-home/pnca-singletons-sweep/runs/lofr46fm</a>"
      ],
      "text/plain": [
       "<IPython.core.display.HTML object>"
      ]
     },
     "metadata": {},
     "output_type": "display_data"
    },
    {
     "name": "stdout",
     "output_type": "stream",
     "text": [
      "Adjusting edge index and attaching edge weights for cutoff distance 11.904083282455783\n",
      "Early stopping enabled. Patience: 20. Min Delta: 0.\n",
      "Epoch: 010, Train Acc: 0.4698, Test Acc: 0.4850, Train Loss: 1.3884, Test Loss: 1.3466\n",
      "Epoch: 020, Train Acc: 0.5302, Test Acc: 0.5250, Train Loss: 0.7012, Test Loss: 0.6961\n",
      "Epoch: 030, Train Acc: 0.5991, Test Acc: 0.6250, Train Loss: 0.6865, Test Loss: 0.6858\n",
      "Epoch: 040, Train Acc: 0.5237, Test Acc: 0.5000, Train Loss: 0.6783, Test Loss: 0.6835\n",
      "Epoch: 050, Train Acc: 0.5388, Test Acc: 0.5050, Train Loss: 0.6728, Test Loss: 0.6795\n",
      "Epoch: 060, Train Acc: 0.5517, Test Acc: 0.5450, Train Loss: 0.6676, Test Loss: 0.6733\n",
      "Epoch: 070, Train Acc: 0.5625, Test Acc: 0.5550, Train Loss: 0.6639, Test Loss: 0.6708\n",
      "Epoch: 080, Train Acc: 0.6207, Test Acc: 0.6050, Train Loss: 0.6611, Test Loss: 0.6676\n",
      "Epoch: 090, Train Acc: 0.6509, Test Acc: 0.5900, Train Loss: 0.6579, Test Loss: 0.6653\n",
      "Epoch: 100, Train Acc: 0.5819, Test Acc: 0.5650, Train Loss: 0.6539, Test Loss: 0.6655\n",
      "Epoch: 110, Train Acc: 0.5690, Test Acc: 0.5800, Train Loss: 0.6493, Test Loss: 0.6625\n",
      "Epoch: 120, Train Acc: 0.5841, Test Acc: 0.5350, Train Loss: 0.6468, Test Loss: 0.6641\n",
      "Epoch: 130, Train Acc: 0.6142, Test Acc: 0.5800, Train Loss: 0.6428, Test Loss: 0.6574\n",
      "Epoch: 140, Train Acc: 0.6659, Test Acc: 0.5950, Train Loss: 0.6384, Test Loss: 0.6548\n",
      "Epoch: 150, Train Acc: 0.6681, Test Acc: 0.6050, Train Loss: 0.6352, Test Loss: 0.6528\n",
      "Epoch: 160, Train Acc: 0.6703, Test Acc: 0.6100, Train Loss: 0.6309, Test Loss: 0.6511\n",
      "Epoch: 170, Train Acc: 0.6659, Test Acc: 0.6000, Train Loss: 0.6275, Test Loss: 0.6492\n",
      "Epoch: 180, Train Acc: 0.6724, Test Acc: 0.6250, Train Loss: 0.6263, Test Loss: 0.6481\n",
      "Epoch: 190, Train Acc: 0.6767, Test Acc: 0.6300, Train Loss: 0.6202, Test Loss: 0.6456\n",
      "Epoch: 200, Train Acc: 0.6875, Test Acc: 0.6300, Train Loss: 0.6206, Test Loss: 0.6452\n",
      "Epoch: 210, Train Acc: 0.6681, Test Acc: 0.6150, Train Loss: 0.6114, Test Loss: 0.6412\n",
      "Epoch: 220, Train Acc: 0.6250, Test Acc: 0.5950, Train Loss: 0.6091, Test Loss: 0.6430\n",
      "Epoch: 230, Train Acc: 0.6681, Test Acc: 0.6250, Train Loss: 0.6054, Test Loss: 0.6374\n",
      "Epoch: 240, Train Acc: 0.6746, Test Acc: 0.6150, Train Loss: 0.6022, Test Loss: 0.6357\n",
      "Epoch: 250, Train Acc: 0.6897, Test Acc: 0.6400, Train Loss: 0.5965, Test Loss: 0.6328\n",
      "Epoch: 260, Train Acc: 0.6918, Test Acc: 0.6400, Train Loss: 0.5968, Test Loss: 0.6317\n",
      "Epoch: 270, Train Acc: 0.6853, Test Acc: 0.6250, Train Loss: 0.5901, Test Loss: 0.6296\n",
      "Epoch: 280, Train Acc: 0.7004, Test Acc: 0.6400, Train Loss: 0.5854, Test Loss: 0.6270\n",
      "Epoch: 290, Train Acc: 0.6983, Test Acc: 0.6300, Train Loss: 0.5859, Test Loss: 0.6254\n",
      "Epoch: 300, Train Acc: 0.7134, Test Acc: 0.6650, Train Loss: 0.5894, Test Loss: 0.6287\n",
      "Epoch: 310, Train Acc: 0.7112, Test Acc: 0.6350, Train Loss: 0.5810, Test Loss: 0.6233\n",
      "Epoch: 320, Train Acc: 0.6875, Test Acc: 0.6350, Train Loss: 0.5717, Test Loss: 0.6238\n",
      "Epoch: 330, Train Acc: 0.7241, Test Acc: 0.6300, Train Loss: 0.5708, Test Loss: 0.6188\n",
      "Epoch: 340, Train Acc: 0.7004, Test Acc: 0.6400, Train Loss: 0.5656, Test Loss: 0.6180\n",
      "Epoch: 350, Train Acc: 0.7177, Test Acc: 0.6600, Train Loss: 0.5690, Test Loss: 0.6175\n",
      "Epoch: 360, Train Acc: 0.7134, Test Acc: 0.6500, Train Loss: 0.5603, Test Loss: 0.6141\n",
      "Epoch: 370, Train Acc: 0.6638, Test Acc: 0.6350, Train Loss: 0.5627, Test Loss: 0.6218\n",
      "Epoch: 380, Train Acc: 0.7220, Test Acc: 0.6400, Train Loss: 0.5554, Test Loss: 0.6118\n",
      "Epoch: 390, Train Acc: 0.7263, Test Acc: 0.6400, Train Loss: 0.5547, Test Loss: 0.6100\n",
      "Epoch: 400, Train Acc: 0.7241, Test Acc: 0.6400, Train Loss: 0.5461, Test Loss: 0.6094\n",
      "Epoch: 410, Train Acc: 0.7306, Test Acc: 0.6500, Train Loss: 0.5499, Test Loss: 0.6076\n",
      "Epoch: 420, Train Acc: 0.7220, Test Acc: 0.6450, Train Loss: 0.5406, Test Loss: 0.6075\n",
      "Epoch: 430, Train Acc: 0.7306, Test Acc: 0.6450, Train Loss: 0.5394, Test Loss: 0.6046\n",
      "Epoch: 440, Train Acc: 0.7328, Test Acc: 0.6600, Train Loss: 0.5385, Test Loss: 0.6047\n",
      "Epoch: 450, Train Acc: 0.7349, Test Acc: 0.6650, Train Loss: 0.5528, Test Loss: 0.6099\n",
      "Epoch: 460, Train Acc: 0.7414, Test Acc: 0.6550, Train Loss: 0.5425, Test Loss: 0.6044\n",
      "Epoch: 470, Train Acc: 0.7392, Test Acc: 0.6550, Train Loss: 0.5349, Test Loss: 0.6011\n",
      "Epoch: 480, Train Acc: 0.7328, Test Acc: 0.6700, Train Loss: 0.5305, Test Loss: 0.6025\n",
      "Epoch: 490, Train Acc: 0.7457, Test Acc: 0.6700, Train Loss: 0.5371, Test Loss: 0.6033\n",
      "Epoch: 500, Train Acc: 0.7414, Test Acc: 0.6650, Train Loss: 0.5264, Test Loss: 0.5996\n",
      "Epoch: 510, Train Acc: 0.7349, Test Acc: 0.6750, Train Loss: 0.5259, Test Loss: 0.5981\n",
      "Epoch: 520, Train Acc: 0.7263, Test Acc: 0.6700, Train Loss: 0.5237, Test Loss: 0.6033\n",
      "Epoch: 530, Train Acc: 0.7371, Test Acc: 0.6700, Train Loss: 0.5194, Test Loss: 0.5948\n",
      "Epoch: 540, Train Acc: 0.7392, Test Acc: 0.6700, Train Loss: 0.5176, Test Loss: 0.5965\n",
      "20 epochs passed without 0 test loss improvement. \n",
      "Early stopping triggered.\n"
     ]
    },
    {
     "data": {
      "text/html": [
       "<style>\n",
       "    table.wandb td:nth-child(1) { padding: 0 10px; text-align: left ; width: auto;} td:nth-child(2) {text-align: left ; width: 100%}\n",
       "    .wandb-row { display: flex; flex-direction: row; flex-wrap: wrap; justify-content: flex-start; width: 100% }\n",
       "    .wandb-col { display: flex; flex-direction: column; flex-basis: 100%; flex: 1; padding: 10px; }\n",
       "    </style>\n",
       "<div class=\"wandb-row\"><div class=\"wandb-col\"><h3>Run history:</h3><br/><table class=\"wandb\"><tr><td>Test Accuracy</td><td>▁▂▆▃▄▃▅▅▃▅▅▄▅▅▆▄▇▆▆▆▆▆▆▆▇▇▇▆▇▆▆▇▇▇▇▇▇▇█▇</td></tr><tr><td>Test F1</td><td>▁▃▇▇██▇▇█▇▇▇▇▇▇█▇▇▇▇▇▇▇█▇▇██▇▇▇▇▇▇██████</td></tr><tr><td>Test Loss</td><td>█▂▁▁▁▁▁▁▁▁▁▁▁▁▁▁▁▁▁▁▁▁▁▁▁▁▁▁▁▁▁▁▁▁▁▁▁▁▁▁</td></tr><tr><td>Test Sensitivity</td><td>▁▂▅▇▇█▅▇█▆▅▇▅▆▅▇▅▆▅▆▅▆▅▆▅▅▆▆▆▆▆▆▅▆▆▆▆▇▆▆</td></tr><tr><td>Test Specificity</td><td>██▆▂▂▁▅▄▁▄▅▃▅▅▆▃▆▅▅▅▆▅▆▅▆▆▅▅▆▅▅▅▆▅▆▅▅▅▆▅</td></tr><tr><td>Train Accuracy</td><td>▁▂▄▃▃▄▆▄▄▅▆▄▆▆▇▅▇▆▇▇▇▇▇▇▇▇▇▇████████████</td></tr><tr><td>Train F1</td><td>▁▃▆▇▇▇▇▇█▇▇▇▇▇▇▇▇▇▇▇▇█▇█▇▇██████████████</td></tr><tr><td>Train Loss</td><td>█▂▂▂▂▂▂▂▂▂▂▂▂▁▁▁▁▁▁▁▁▁▁▁▁▁▁▁▁▁▁▁▁▁▁▁▁▁▁▁</td></tr><tr><td>Train Sensitivity</td><td>▁▂▅▇▇█▅▆█▆▅▆▅▆▅▇▅▆▆▆▆▆▆▆▅▅▆▆▆▆▆▆▆▆▆▆▆▇▆▆</td></tr><tr><td>Train Specificity</td><td>██▆▂▂▁▆▃▁▅▆▃▆▆▇▃▆▆▆▆▆▆▆▅▇▇▆▅▇▆▆▆▇▆▇▆▆▅▇▆</td></tr></table><br/></div><div class=\"wandb-col\"><h3>Run summary:</h3><br/><table class=\"wandb\"><tr><td>Test Accuracy</td><td>0.685</td></tr><tr><td>Test F1</td><td>0.61818</td></tr><tr><td>Test Loss</td><td>0.61353</td></tr><tr><td>Test Sensitivity</td><td>0.49515</td></tr><tr><td>Test Specificity</td><td>0.8866</td></tr><tr><td>Train Accuracy</td><td>0.72414</td></tr><tr><td>Train F1</td><td>0.6701</td></tr><tr><td>Train Loss</td><td>0.54875</td></tr><tr><td>Train Sensitivity</td><td>0.52846</td></tr><tr><td>Train Specificity</td><td>0.94495</td></tr></table><br/></div></div>"
      ],
      "text/plain": [
       "<IPython.core.display.HTML object>"
      ]
     },
     "metadata": {},
     "output_type": "display_data"
    },
    {
     "data": {
      "text/html": [
       " View run <strong style=\"color:#cdcd00\">firm-sweep-17</strong> at: <a href='https://wandb.ai/dylan-home/pnca-singletons-sweep/runs/lofr46fm' target=\"_blank\">https://wandb.ai/dylan-home/pnca-singletons-sweep/runs/lofr46fm</a><br/>Synced 5 W&B file(s), 0 media file(s), 0 artifact file(s) and 0 other file(s)"
      ],
      "text/plain": [
       "<IPython.core.display.HTML object>"
      ]
     },
     "metadata": {},
     "output_type": "display_data"
    },
    {
     "data": {
      "text/html": [
       "Find logs at: <code>./wandb/run-20250206_211537-lofr46fm/logs</code>"
      ],
      "text/plain": [
       "<IPython.core.display.HTML object>"
      ]
     },
     "metadata": {},
     "output_type": "display_data"
    },
    {
     "name": "stderr",
     "output_type": "stream",
     "text": [
      "\u001b[34m\u001b[1mwandb\u001b[0m: Agent Starting Run: xue2jc60 with config:\n",
      "\u001b[34m\u001b[1mwandb\u001b[0m: \tcutoff_distance: 10.97714630537332\n",
      "\u001b[34m\u001b[1mwandb\u001b[0m: \tdropout: 0.8\n",
      "\u001b[34m\u001b[1mwandb\u001b[0m: \thidden_channels: 256\n",
      "\u001b[34m\u001b[1mwandb\u001b[0m: \tlearning_rate: 0.0003267939698345754\n",
      "\u001b[34m\u001b[1mwandb\u001b[0m: \tweight_decay: 3.2211268247617425e-08\n",
      "Failed to detect the name of this notebook, you can set it manually with the WANDB_NOTEBOOK_NAME environment variable to enable code saving.\n"
     ]
    },
    {
     "data": {
      "text/html": [
       "wandb version 0.19.6 is available!  To upgrade, please run:\n",
       " $ pip install wandb --upgrade"
      ],
      "text/plain": [
       "<IPython.core.display.HTML object>"
      ]
     },
     "metadata": {},
     "output_type": "display_data"
    },
    {
     "data": {
      "text/html": [
       "Tracking run with wandb version 0.16.4"
      ],
      "text/plain": [
       "<IPython.core.display.HTML object>"
      ]
     },
     "metadata": {},
     "output_type": "display_data"
    },
    {
     "data": {
      "text/html": [
       "Run data is saved locally in <code>/Users/dylandissanayake/Desktop/DPhil/Comp Disc/Repositories/tb-pnca-gnn/dd_pnca/wandb/run-20250206_214824-xue2jc60</code>"
      ],
      "text/plain": [
       "<IPython.core.display.HTML object>"
      ]
     },
     "metadata": {},
     "output_type": "display_data"
    },
    {
     "data": {
      "text/html": [
       "Syncing run <strong><a href='https://wandb.ai/dylan-home/pnca-singletons-sweep/runs/xue2jc60' target=\"_blank\">volcanic-sweep-18</a></strong> to <a href='https://wandb.ai/dylan-home/pnca-singletons-sweep' target=\"_blank\">Weights & Biases</a> (<a href='https://wandb.me/run' target=\"_blank\">docs</a>)<br/>Sweep page: <a href='https://wandb.ai/dylan-home/pnca-singletons-sweep/sweeps/i8r2s0bc' target=\"_blank\">https://wandb.ai/dylan-home/pnca-singletons-sweep/sweeps/i8r2s0bc</a>"
      ],
      "text/plain": [
       "<IPython.core.display.HTML object>"
      ]
     },
     "metadata": {},
     "output_type": "display_data"
    },
    {
     "data": {
      "text/html": [
       " View project at <a href='https://wandb.ai/dylan-home/pnca-singletons-sweep' target=\"_blank\">https://wandb.ai/dylan-home/pnca-singletons-sweep</a>"
      ],
      "text/plain": [
       "<IPython.core.display.HTML object>"
      ]
     },
     "metadata": {},
     "output_type": "display_data"
    },
    {
     "data": {
      "text/html": [
       " View sweep at <a href='https://wandb.ai/dylan-home/pnca-singletons-sweep/sweeps/i8r2s0bc' target=\"_blank\">https://wandb.ai/dylan-home/pnca-singletons-sweep/sweeps/i8r2s0bc</a>"
      ],
      "text/plain": [
       "<IPython.core.display.HTML object>"
      ]
     },
     "metadata": {},
     "output_type": "display_data"
    },
    {
     "data": {
      "text/html": [
       " View run at <a href='https://wandb.ai/dylan-home/pnca-singletons-sweep/runs/xue2jc60' target=\"_blank\">https://wandb.ai/dylan-home/pnca-singletons-sweep/runs/xue2jc60</a>"
      ],
      "text/plain": [
       "<IPython.core.display.HTML object>"
      ]
     },
     "metadata": {},
     "output_type": "display_data"
    },
    {
     "name": "stdout",
     "output_type": "stream",
     "text": [
      "Adjusting edge index and attaching edge weights for cutoff distance 10.97714630537332\n",
      "Early stopping enabled. Patience: 20. Min Delta: 0.\n",
      "Epoch: 010, Train Acc: 0.4720, Test Acc: 0.5000, Train Loss: 0.7122, Test Loss: 0.7050\n",
      "Epoch: 020, Train Acc: 0.5474, Test Acc: 0.5200, Train Loss: 0.6651, Test Loss: 0.6790\n",
      "Epoch: 030, Train Acc: 0.4763, Test Acc: 0.5000, Train Loss: 0.7850, Test Loss: 0.7797\n",
      "Epoch: 040, Train Acc: 0.6056, Test Acc: 0.5650, Train Loss: 0.6352, Test Loss: 0.6570\n",
      "Epoch: 050, Train Acc: 0.5603, Test Acc: 0.5250, Train Loss: 0.6508, Test Loss: 0.6943\n",
      "Epoch: 060, Train Acc: 0.5366, Test Acc: 0.5150, Train Loss: 0.7660, Test Loss: 0.8329\n",
      "Epoch: 070, Train Acc: 0.6897, Test Acc: 0.6300, Train Loss: 0.5975, Test Loss: 0.6385\n",
      "Epoch: 080, Train Acc: 0.6918, Test Acc: 0.6500, Train Loss: 0.5818, Test Loss: 0.6346\n",
      "Epoch: 090, Train Acc: 0.5754, Test Acc: 0.5200, Train Loss: 0.6446, Test Loss: 0.7222\n",
      "Epoch: 100, Train Acc: 0.6487, Test Acc: 0.6050, Train Loss: 0.6662, Test Loss: 0.7182\n",
      "Epoch: 110, Train Acc: 0.7284, Test Acc: 0.6750, Train Loss: 0.5533, Test Loss: 0.6153\n",
      "Epoch: 120, Train Acc: 0.6358, Test Acc: 0.6000, Train Loss: 0.7155, Test Loss: 0.7702\n",
      "Epoch: 130, Train Acc: 0.6875, Test Acc: 0.6800, Train Loss: 0.5837, Test Loss: 0.6385\n",
      "Epoch: 140, Train Acc: 0.5668, Test Acc: 0.5200, Train Loss: 0.7050, Test Loss: 0.8220\n",
      "Epoch: 150, Train Acc: 0.7198, Test Acc: 0.6650, Train Loss: 0.5679, Test Loss: 0.6533\n",
      "Epoch: 160, Train Acc: 0.6078, Test Acc: 0.5200, Train Loss: 0.6068, Test Loss: 0.7213\n",
      "Epoch: 170, Train Acc: 0.6940, Test Acc: 0.6600, Train Loss: 0.6330, Test Loss: 0.7044\n",
      "Epoch: 180, Train Acc: 0.7500, Test Acc: 0.6900, Train Loss: 0.5080, Test Loss: 0.5945\n",
      "Epoch: 190, Train Acc: 0.6552, Test Acc: 0.6250, Train Loss: 0.7177, Test Loss: 0.7880\n",
      "Epoch: 200, Train Acc: 0.5862, Test Acc: 0.5400, Train Loss: 0.6334, Test Loss: 0.7506\n",
      "20 epochs passed without 0 test loss improvement. \n",
      "Early stopping triggered.\n"
     ]
    },
    {
     "data": {
      "text/html": [
       "<style>\n",
       "    table.wandb td:nth-child(1) { padding: 0 10px; text-align: left ; width: auto;} td:nth-child(2) {text-align: left ; width: 100%}\n",
       "    .wandb-row { display: flex; flex-direction: row; flex-wrap: wrap; justify-content: flex-start; width: 100% }\n",
       "    .wandb-col { display: flex; flex-direction: column; flex-basis: 100%; flex: 1; padding: 10px; }\n",
       "    </style>\n",
       "<div class=\"wandb-row\"><div class=\"wandb-col\"><h3>Run history:</h3><br/><table class=\"wandb\"><tr><td>Test Accuracy</td><td>▁▁▂▂▃▄▂▂▃▄▂▃▃▄▂▅▆▇▇▄▇▄▂▃▄▃▇███▂▃▄▃▃▂▂▇▃▃</td></tr><tr><td>Test F1</td><td>▁▁██▄▄███▄▂▃▃▅█▇▆█▇█▇▄███▃▇▇███▃████████</td></tr><tr><td>Test Loss</td><td>█▃▁▁▁▁▁▁▁▁▂▂▂▁▁▁▁▁▁▁▁▂▂▁▁▃▁▁▁▁▃▃▁▂▁▂▂▁▁▂</td></tr><tr><td>Test Sensitivity</td><td>▁▁██▂▂██▇▂▁▂▂▃█▅▄▆▄▇▅▂█▇▇▂▄▄▅▅█▂▇█▇██▆▇█</td></tr><tr><td>Test Specificity</td><td>██▁▁██▁▁▃█████▂▅▇▅▇▃▇█▁▂▃█▇▇▇▇▁█▃▁▂▁▁▅▂▂</td></tr><tr><td>Train Accuracy</td><td>▁▁▂▃▂▄▃▃▄▃▁▂▂▅▄▆▆▇▇▄▇▃▃▄▄▂▇▇██▃▂▅▃▅▃▄█▅▄</td></tr><tr><td>Train F1</td><td>▁▁▇▇▃▄██▇▄▂▃▃▅█▇▆█▇▇▇▄███▃▇▇███▃████████</td></tr><tr><td>Train Loss</td><td>█▃▂▂▂▂▂▂▁▂▂▂▂▂▁▁▁▁▁▁▁▂▂▁▁▃▁▁▁▁▃▃▁▂▁▂▂▁▁▁</td></tr><tr><td>Train Sensitivity</td><td>▁▁██▂▂██▇▂▁▂▂▃█▆▄▆▅▇▅▂█▇▇▂▅▄▅▅█▂▇█▇██▆██</td></tr><tr><td>Train Specificity</td><td>██▁▁██▁▁▃█████▂▆█▆▇▄▇█▁▃▃███▇▇▁█▄▁▃▁▂▆▃▂</td></tr></table><br/></div><div class=\"wandb-col\"><h3>Run summary:</h3><br/><table class=\"wandb\"><tr><td>Test Accuracy</td><td>0.54</td></tr><tr><td>Test F1</td><td>0.68056</td></tr><tr><td>Test Loss</td><td>0.75063</td></tr><tr><td>Test Sensitivity</td><td>0.95146</td></tr><tr><td>Test Specificity</td><td>0.10309</td></tr><tr><td>Train Accuracy</td><td>0.58621</td></tr><tr><td>Train F1</td><td>0.71513</td></tr><tr><td>Train Loss</td><td>0.63339</td></tr><tr><td>Train Sensitivity</td><td>0.97967</td></tr><tr><td>Train Specificity</td><td>0.1422</td></tr></table><br/></div></div>"
      ],
      "text/plain": [
       "<IPython.core.display.HTML object>"
      ]
     },
     "metadata": {},
     "output_type": "display_data"
    },
    {
     "data": {
      "text/html": [
       " View run <strong style=\"color:#cdcd00\">volcanic-sweep-18</strong> at: <a href='https://wandb.ai/dylan-home/pnca-singletons-sweep/runs/xue2jc60' target=\"_blank\">https://wandb.ai/dylan-home/pnca-singletons-sweep/runs/xue2jc60</a><br/>Synced 5 W&B file(s), 0 media file(s), 0 artifact file(s) and 0 other file(s)"
      ],
      "text/plain": [
       "<IPython.core.display.HTML object>"
      ]
     },
     "metadata": {},
     "output_type": "display_data"
    },
    {
     "data": {
      "text/html": [
       "Find logs at: <code>./wandb/run-20250206_214824-xue2jc60/logs</code>"
      ],
      "text/plain": [
       "<IPython.core.display.HTML object>"
      ]
     },
     "metadata": {},
     "output_type": "display_data"
    },
    {
     "name": "stderr",
     "output_type": "stream",
     "text": [
      "\u001b[34m\u001b[1mwandb\u001b[0m: Agent Starting Run: ooi6kwgl with config:\n",
      "\u001b[34m\u001b[1mwandb\u001b[0m: \tcutoff_distance: 13.182016812227989\n",
      "\u001b[34m\u001b[1mwandb\u001b[0m: \tdropout: 0.2\n",
      "\u001b[34m\u001b[1mwandb\u001b[0m: \thidden_channels: 320\n",
      "\u001b[34m\u001b[1mwandb\u001b[0m: \tlearning_rate: 1.844743754235364e-07\n",
      "\u001b[34m\u001b[1mwandb\u001b[0m: \tweight_decay: 3.465273747104558e-09\n",
      "Failed to detect the name of this notebook, you can set it manually with the WANDB_NOTEBOOK_NAME environment variable to enable code saving.\n"
     ]
    },
    {
     "data": {
      "text/html": [
       "wandb version 0.19.6 is available!  To upgrade, please run:\n",
       " $ pip install wandb --upgrade"
      ],
      "text/plain": [
       "<IPython.core.display.HTML object>"
      ]
     },
     "metadata": {},
     "output_type": "display_data"
    },
    {
     "data": {
      "text/html": [
       "Tracking run with wandb version 0.16.4"
      ],
      "text/plain": [
       "<IPython.core.display.HTML object>"
      ]
     },
     "metadata": {},
     "output_type": "display_data"
    },
    {
     "data": {
      "text/html": [
       "Run data is saved locally in <code>/Users/dylandissanayake/Desktop/DPhil/Comp Disc/Repositories/tb-pnca-gnn/dd_pnca/wandb/run-20250206_215832-ooi6kwgl</code>"
      ],
      "text/plain": [
       "<IPython.core.display.HTML object>"
      ]
     },
     "metadata": {},
     "output_type": "display_data"
    },
    {
     "data": {
      "text/html": [
       "Syncing run <strong><a href='https://wandb.ai/dylan-home/pnca-singletons-sweep/runs/ooi6kwgl' target=\"_blank\">drawn-sweep-19</a></strong> to <a href='https://wandb.ai/dylan-home/pnca-singletons-sweep' target=\"_blank\">Weights & Biases</a> (<a href='https://wandb.me/run' target=\"_blank\">docs</a>)<br/>Sweep page: <a href='https://wandb.ai/dylan-home/pnca-singletons-sweep/sweeps/i8r2s0bc' target=\"_blank\">https://wandb.ai/dylan-home/pnca-singletons-sweep/sweeps/i8r2s0bc</a>"
      ],
      "text/plain": [
       "<IPython.core.display.HTML object>"
      ]
     },
     "metadata": {},
     "output_type": "display_data"
    },
    {
     "data": {
      "text/html": [
       " View project at <a href='https://wandb.ai/dylan-home/pnca-singletons-sweep' target=\"_blank\">https://wandb.ai/dylan-home/pnca-singletons-sweep</a>"
      ],
      "text/plain": [
       "<IPython.core.display.HTML object>"
      ]
     },
     "metadata": {},
     "output_type": "display_data"
    },
    {
     "data": {
      "text/html": [
       " View sweep at <a href='https://wandb.ai/dylan-home/pnca-singletons-sweep/sweeps/i8r2s0bc' target=\"_blank\">https://wandb.ai/dylan-home/pnca-singletons-sweep/sweeps/i8r2s0bc</a>"
      ],
      "text/plain": [
       "<IPython.core.display.HTML object>"
      ]
     },
     "metadata": {},
     "output_type": "display_data"
    },
    {
     "data": {
      "text/html": [
       " View run at <a href='https://wandb.ai/dylan-home/pnca-singletons-sweep/runs/ooi6kwgl' target=\"_blank\">https://wandb.ai/dylan-home/pnca-singletons-sweep/runs/ooi6kwgl</a>"
      ],
      "text/plain": [
       "<IPython.core.display.HTML object>"
      ]
     },
     "metadata": {},
     "output_type": "display_data"
    },
    {
     "name": "stdout",
     "output_type": "stream",
     "text": [
      "Adjusting edge index and attaching edge weights for cutoff distance 13.182016812227989\n",
      "Early stopping enabled. Patience: 20. Min Delta: 0.\n"
     ]
    },
    {
     "name": "stderr",
     "output_type": "stream",
     "text": [
      "\u001b[34m\u001b[1mwandb\u001b[0m: Ctrl + C detected. Stopping sweep.\n"
     ]
    }
   ],
   "source": [
    "wandb.agent(sweep_id, sweep_run, project = project, count=100)"
   ]
  },
  {
   "cell_type": "code",
   "execution_count": null,
   "metadata": {},
   "outputs": [],
   "source": []
  }
 ],
 "metadata": {
  "kernelspec": {
   "display_name": "Python 3",
   "language": "python",
   "name": "python3"
  },
  "language_info": {
   "codemirror_mode": {
    "name": "ipython",
    "version": 3
   },
   "file_extension": ".py",
   "mimetype": "text/x-python",
   "name": "python",
   "nbconvert_exporter": "python",
   "pygments_lexer": "ipython3",
   "version": "3.12.0"
  }
 },
 "nbformat": 4,
 "nbformat_minor": 2
}
