{
 "cells": [
  {
   "cell_type": "markdown",
   "metadata": {},
   "source": [
    "# Run PncA WandB Sweep"
   ]
  },
  {
   "cell_type": "code",
   "execution_count": 1,
   "metadata": {},
   "outputs": [
    {
     "data": {
      "text/plain": [
       "'Running locally'"
      ]
     },
     "metadata": {},
     "output_type": "display_data"
    },
    {
     "data": {
      "text/plain": [
       "False"
      ]
     },
     "execution_count": 1,
     "metadata": {},
     "output_type": "execute_result"
    }
   ],
   "source": [
    "from IPython.display import display\n",
    "import os\n",
    "\n",
    "if \"SSH_CONNECTION\" in os.environ:\n",
    "    display(\"Running via SSH\")\n",
    "else:\n",
    "    display(\"Running locally\")\n",
    "    \n",
    "import sys\n",
    "import os\n",
    "\n",
    "path = os.path.join('..', '/Users/dylandissanayake/Desktop/DPhil/Comp Disc/Repositories/TB-PNCA-GNN') if \"SSH_CONNECTION\" not in os.environ else os.path.join('..', '/mnt/alphafold-volume-1/dylan2/repos/tb-pnca-gnn')\n",
    "if path not in sys.path:\n",
    "    sys.path.append(os.path.abspath(path))\n",
    "\n",
    "import datetime\n",
    "import random\n",
    "\n",
    "import numpy as np\n",
    "import pandas as pd\n",
    "\n",
    "import torch\n",
    "from torch_geometric.data import Data\n",
    "\n",
    "import wandb\n",
    "\n",
    "import warnings\n",
    "warnings.filterwarnings('ignore')\n",
    "\n",
    "from src import run_model, protein_graph, gcn_model, evaluation\n",
    "\n",
    "%load_ext autoreload\n",
    "%autoreload 2\n",
    "\n",
    "%aimport src\n",
    "\n",
    "torch.cuda.is_available()"
   ]
  },
  {
   "cell_type": "code",
   "execution_count": 2,
   "metadata": {},
   "outputs": [],
   "source": [
    "full_dataset = torch.load('datasets/full_real_dataset.pth')"
   ]
  },
  {
   "cell_type": "markdown",
   "metadata": {},
   "source": [
    "### Set Up Params and Sweep Config"
   ]
  },
  {
   "cell_type": "code",
   "execution_count": 3,
   "metadata": {},
   "outputs": [],
   "source": [
    "seed = 42\n",
    "np.random.seed(seed)\n",
    "random.seed(seed)\n",
    "\n",
    "# logging params (only used for wandb metrics)\n",
    "n_samples = len(full_dataset)\n",
    "# cutoff_distance = 6.3  \n",
    "\n",
    "# gcn params\n",
    "num_node_features = 12\n",
    "batch_size = 256\n",
    "# hidden_channels = 64\n",
    "# learning_rate = 0.001\n",
    "# wd = 5e-5\n",
    "epochs = 1500\n",
    "\n",
    "wt_seq = 'MRALIIVDVQNDFCEGGSLAVTGGAALARAISDYLAEAADYHHVVATKDFHIDPGDHFSGTPDYSSSWPPHCVSGTPGADFHPSLDTSAIEAVFYKGAYTGAYSGFEGVDENGTPLLNWLRQRGVDEVDVVGIATDHCVRQTAEDAVRNGLATRVLVDLTAGVSADTTVAALEEMRTASVELVCS'"
   ]
  },
  {
   "cell_type": "code",
   "execution_count": 4,
   "metadata": {},
   "outputs": [],
   "source": [
    "# First sweep:\n",
    "\n",
    "sweep_config = {\n",
    "    'method': 'random'\n",
    "    }\n",
    "\n",
    "metric = {\n",
    "    'name': 'Test Accuracy',\n",
    "    'goal': 'maximize'   \n",
    "    }\n",
    "\n",
    "sweep_config['metric'] = metric\n",
    "\n",
    "parameters_dict = {\n",
    "    'hidden_channels': {\n",
    "        'values': [32, 64, 128, 256]\n",
    "        },\n",
    "    'weight_decay': {\n",
    "        'distribution': 'log_uniform_values',\n",
    "        'min': 1e-8,\n",
    "        'max': 1e-2\n",
    "        },\n",
    "    'dropout': {\n",
    "          'values': [0.2, 0.4, 0.5, 0.6, 0.8]\n",
    "        },\n",
    "    'cutoff_distance': {\n",
    "        'distribution': 'uniform',\n",
    "        'min': 3.5,\n",
    "        'max': 10 \n",
    "        },\n",
    "    'learning_rate': {\n",
    "        'distribution': 'log_uniform_values',\n",
    "        'min': 1e-8,\n",
    "        'max': 1e-1\n",
    "      },\n",
    "    }\n",
    "\n",
    "sweep_config['parameters'] = parameters_dict\n",
    "\n",
    "# Second / third sweep:\n",
    "\n",
    "parameters_dict.update({\n",
    "    'hidden_channels': {\n",
    "        'values': [64, 128, 192, 256, 320, 384]\n",
    "        },\n",
    "    'weight_decay': {\n",
    "        'distribution': 'log_uniform_values',\n",
    "        'min': 5e-7, \n",
    "        'max': 1e-2\n",
    "        },\n",
    "    'dropout': {\n",
    "          'values': [0.4, 0.5, 0.6, 0.8]\n",
    "        },\n",
    "    'learning_rate': {\n",
    "        'distribution': 'log_uniform_values',\n",
    "        'min': 1e-5,\n",
    "        'max': 1e-2 \n",
    "        },\n",
    "    })\n",
    "\n",
    "# Fourth / Fifth sweep:\n",
    "\n",
    "parameters_dict.update({\n",
    "    'hidden_channels': {\n",
    "        'values': [128, 192, 256, 320]\n",
    "        },\n",
    "    'weight_decay': {\n",
    "        'distribution': 'log_uniform_values',\n",
    "        'min': 1e-5,\n",
    "        'max': 1e-3\n",
    "        },\n",
    "    'dropout': {\n",
    "          'values': [0.4, 0.5, 0.6, 0.8]\n",
    "        },\n",
    "    'learning_rate': {\n",
    "        'distribution': 'log_uniform_values',\n",
    "        'min': 5e-5,\n",
    "        'max': 5e-2\n",
    "        },\n",
    "    })\n",
    "\n",
    "# Sixth sweep:\n",
    "\n",
    "parameters_dict.update({\n",
    "    'learning_rate': {\n",
    "        'distribution': 'log_uniform_values',\n",
    "        'min': 1e-6,\n",
    "        'max': 5e-3 \n",
    "        }\n",
    "    })\n",
    "\n",
    "# Seventh sweep:\n",
    "\n",
    "parameters_dict.update({\n",
    "    'learning_rate': {\n",
    "        'distribution': 'log_uniform_values',\n",
    "        'min': 5e-6,\n",
    "        'max': 5e-4 \n",
    "        }\n",
    "    })\n",
    "\n",
    "# Eight sweep w cutoff varying:\n",
    "\n",
    "parameters_dict.update({\n",
    "    'learning_rate': {\n",
    "        'distribution': 'log_uniform_values',\n",
    "        'min': 5e-6,\n",
    "        'max': 1e-3 \n",
    "        },\n",
    "        'cutoff_distance': {\n",
    "        'distribution': 'uniform',\n",
    "        'min': 5.5,\n",
    "        'max': 14\n",
    "        },\n",
    "    })\n",
    "\n"
   ]
  },
  {
   "cell_type": "code",
   "execution_count": 5,
   "metadata": {},
   "outputs": [
    {
     "name": "stdout",
     "output_type": "stream",
     "text": [
      "{'method': 'random',\n",
      " 'metric': {'goal': 'maximize', 'name': 'Test Accuracy'},\n",
      " 'parameters': {'cutoff_distance': {'distribution': 'uniform',\n",
      "                                    'max': 14,\n",
      "                                    'min': 5.5},\n",
      "                'dropout': {'values': [0.4, 0.5, 0.6, 0.8]},\n",
      "                'hidden_channels': {'values': [128, 192, 256, 320]},\n",
      "                'learning_rate': {'distribution': 'log_uniform_values',\n",
      "                                  'max': 0.001,\n",
      "                                  'min': 5e-06},\n",
      "                'weight_decay': {'distribution': 'log_uniform_values',\n",
      "                                 'max': 0.001,\n",
      "                                 'min': 1e-05}}}\n"
     ]
    }
   ],
   "source": [
    "import pprint\n",
    "pprint.pprint(sweep_config)"
   ]
  },
  {
   "cell_type": "markdown",
   "metadata": {},
   "source": [
    "### Define Training Loop"
   ]
  },
  {
   "cell_type": "code",
   "execution_count": 6,
   "metadata": {},
   "outputs": [],
   "source": [
    "project = \"pnca-singletons-sweep\""
   ]
  },
  {
   "cell_type": "code",
   "execution_count": 7,
   "metadata": {},
   "outputs": [],
   "source": [
    "# sweep_id = wandb.sweep(sweep_config, project=project)\n",
    "sweep_id = 'nc8eahq7'"
   ]
  },
  {
   "cell_type": "code",
   "execution_count": 8,
   "metadata": {},
   "outputs": [],
   "source": [
    "def sweep_run():\n",
    "\n",
    "    with wandb.init() as run:\n",
    "        config = run.config\n",
    "\n",
    "        model = run_model.pnca_simpleGCN(\n",
    "            # sequences=sequences_dict,\n",
    "            sequences=None,\n",
    "            self_loops = False,\n",
    "            cutoff_distance = config.cutoff_distance,\n",
    "            edge_weight_func = '1-(dist/cutoff)',\n",
    "            # edge_weight_func = 'none',\n",
    "            batch_size = batch_size,\n",
    "            num_node_features = num_node_features,\n",
    "            hidden_channels = config.hidden_channels,\n",
    "            learning_rate = config.learning_rate,\n",
    "            wd = config.weight_decay,\n",
    "            dropout = config.dropout,\n",
    "            lr_scheduling=False,\n",
    "            epochs = epochs,\n",
    "            dataset = full_dataset,\n",
    "            normalise_ews=True,\n",
    "            wandb_params={\n",
    "                'use_wandb': False,\n",
    "                'sweep': True\n",
    "            }\n",
    "        )\n",
    "\n",
    "        # os.makedirs(f'saved_models/carter_ds_aug/{project}/{sweep_id}', exist_ok=True)\n",
    "        \n",
    "        # torch.save(model, f'saved_models/carter_ds_aug/{project}/{sweep_id}/{run.name}')"
   ]
  },
  {
   "cell_type": "code",
   "execution_count": 9,
   "metadata": {},
   "outputs": [
    {
     "name": "stderr",
     "output_type": "stream",
     "text": [
      "Failed to detect the name of this notebook, you can set it manually with the WANDB_NOTEBOOK_NAME environment variable to enable code saving.\n",
      "\u001b[34m\u001b[1mwandb\u001b[0m: Agent Starting Run: l3gb54ch with config:\n",
      "\u001b[34m\u001b[1mwandb\u001b[0m: \tcutoff_distance: 6.214923452698586\n",
      "\u001b[34m\u001b[1mwandb\u001b[0m: \tdropout: 0.8\n",
      "\u001b[34m\u001b[1mwandb\u001b[0m: \thidden_channels: 256\n",
      "\u001b[34m\u001b[1mwandb\u001b[0m: \tlearning_rate: 9.724685079274246e-06\n",
      "\u001b[34m\u001b[1mwandb\u001b[0m: \tweight_decay: 0.00011731121453622746\n",
      "Failed to detect the name of this notebook, you can set it manually with the WANDB_NOTEBOOK_NAME environment variable to enable code saving.\n",
      "\u001b[34m\u001b[1mwandb\u001b[0m: Currently logged in as: \u001b[33mdylan-home\u001b[0m. Use \u001b[1m`wandb login --relogin`\u001b[0m to force relogin\n"
     ]
    },
    {
     "data": {
      "text/html": [
       "wandb version 0.19.6 is available!  To upgrade, please run:\n",
       " $ pip install wandb --upgrade"
      ],
      "text/plain": [
       "<IPython.core.display.HTML object>"
      ]
     },
     "metadata": {},
     "output_type": "display_data"
    },
    {
     "data": {
      "text/html": [
       "Tracking run with wandb version 0.16.4"
      ],
      "text/plain": [
       "<IPython.core.display.HTML object>"
      ]
     },
     "metadata": {},
     "output_type": "display_data"
    },
    {
     "data": {
      "text/html": [
       "Run data is saved locally in <code>/Users/dylandissanayake/Desktop/DPhil/Comp Disc/Repositories/tb-pnca-gnn/dd_pnca/wandb/run-20250206_160338-l3gb54ch</code>"
      ],
      "text/plain": [
       "<IPython.core.display.HTML object>"
      ]
     },
     "metadata": {},
     "output_type": "display_data"
    },
    {
     "data": {
      "text/html": [
       "Syncing run <strong><a href='https://wandb.ai/dylan-home/pnca-singletons-sweep/runs/l3gb54ch' target=\"_blank\">different-sweep-3</a></strong> to <a href='https://wandb.ai/dylan-home/pnca-singletons-sweep' target=\"_blank\">Weights & Biases</a> (<a href='https://wandb.me/run' target=\"_blank\">docs</a>)<br/>Sweep page: <a href='https://wandb.ai/dylan-home/pnca-singletons-sweep/sweeps/nc8eahq7' target=\"_blank\">https://wandb.ai/dylan-home/pnca-singletons-sweep/sweeps/nc8eahq7</a>"
      ],
      "text/plain": [
       "<IPython.core.display.HTML object>"
      ]
     },
     "metadata": {},
     "output_type": "display_data"
    },
    {
     "data": {
      "text/html": [
       " View project at <a href='https://wandb.ai/dylan-home/pnca-singletons-sweep' target=\"_blank\">https://wandb.ai/dylan-home/pnca-singletons-sweep</a>"
      ],
      "text/plain": [
       "<IPython.core.display.HTML object>"
      ]
     },
     "metadata": {},
     "output_type": "display_data"
    },
    {
     "data": {
      "text/html": [
       " View sweep at <a href='https://wandb.ai/dylan-home/pnca-singletons-sweep/sweeps/nc8eahq7' target=\"_blank\">https://wandb.ai/dylan-home/pnca-singletons-sweep/sweeps/nc8eahq7</a>"
      ],
      "text/plain": [
       "<IPython.core.display.HTML object>"
      ]
     },
     "metadata": {},
     "output_type": "display_data"
    },
    {
     "data": {
      "text/html": [
       " View run at <a href='https://wandb.ai/dylan-home/pnca-singletons-sweep/runs/l3gb54ch' target=\"_blank\">https://wandb.ai/dylan-home/pnca-singletons-sweep/runs/l3gb54ch</a>"
      ],
      "text/plain": [
       "<IPython.core.display.HTML object>"
      ]
     },
     "metadata": {},
     "output_type": "display_data"
    },
    {
     "name": "stdout",
     "output_type": "stream",
     "text": [
      "Adjusting edge index and attaching edge weights for cutoff distance 6.214923452698586\n",
      "Early stopping enabled. Patience: 20. Min Delta: 0.\n",
      "Epoch: 010, Train Acc: 0.4698, Test Acc: 0.4850, Train Loss: 0.6953, Test Loss: 0.6944\n",
      "Epoch: 020, Train Acc: 0.5302, Test Acc: 0.5150, Train Loss: 0.6909, Test Loss: 0.6928\n",
      "Epoch: 030, Train Acc: 0.5302, Test Acc: 0.5150, Train Loss: 0.6913, Test Loss: 0.6932\n",
      "20 epochs passed without 0 test loss improvement. \n",
      "Early stopping triggered.\n"
     ]
    },
    {
     "data": {
      "text/html": [
       "<style>\n",
       "    table.wandb td:nth-child(1) { padding: 0 10px; text-align: left ; width: auto;} td:nth-child(2) {text-align: left ; width: 100%}\n",
       "    .wandb-row { display: flex; flex-direction: row; flex-wrap: wrap; justify-content: flex-start; width: 100% }\n",
       "    .wandb-col { display: flex; flex-direction: column; flex-basis: 100%; flex: 1; padding: 10px; }\n",
       "    </style>\n",
       "<div class=\"wandb-row\"><div class=\"wandb-col\"><h3>Run history:</h3><br/><table class=\"wandb\"><tr><td>Test Accuracy</td><td>▂▂▂▂▂▂▂▂▂▂▂▂▆▁▅██████████████████████</td></tr><tr><td>Test F1</td><td>▁▁▁▁▁▁▁▁▁▁▁▁▂▇███████████████████████</td></tr><tr><td>Test Loss</td><td>█▇▇▇▇▆▆▆▅▄▄▃▂▂▁▁▁▁▁▁▁▂▂▂▂▂▂▂▂▂▂▂▂▂▂▂▂</td></tr><tr><td>Test Sensitivity</td><td>▁▁▁▁▁▁▁▁▁▁▁▁▁▇███████████████████████</td></tr><tr><td>Test Specificity</td><td>█████████████▂▁▁▁▁▁▁▁▁▁▁▁▁▁▁▁▁▁▁▁▁▁▁▁</td></tr><tr><td>Train Accuracy</td><td>▁▁▁▁▁▁▁▁▁▁▁▁▃▄▇██████████████████████</td></tr><tr><td>Train F1</td><td>▁▁▁▁▁▁▁▁▁▁▁▁▂████████████████████████</td></tr><tr><td>Train Loss</td><td>█▇▇▇▇▇▇▆▆▅▅▄▄▃▃▂▂▂▂▁▂▂▁▂▂▂▂▂▂▂▂▁▁▂▂▂▂</td></tr><tr><td>Train Sensitivity</td><td>▁▁▁▁▁▁▁▁▁▁▁▁▁▇███████████████████████</td></tr><tr><td>Train Specificity</td><td>█████████████▂▁▁▁▁▁▁▁▁▁▁▁▁▁▁▁▁▁▁▁▁▁▁▁</td></tr></table><br/></div><div class=\"wandb-col\"><h3>Run summary:</h3><br/><table class=\"wandb\"><tr><td>Test Accuracy</td><td>0.515</td></tr><tr><td>Test F1</td><td>0.67987</td></tr><tr><td>Test Loss</td><td>0.69317</td></tr><tr><td>Test Sensitivity</td><td>1.0</td></tr><tr><td>Test Specificity</td><td>0.0</td></tr><tr><td>Train Accuracy</td><td>0.53017</td></tr><tr><td>Train F1</td><td>0.69296</td></tr><tr><td>Train Loss</td><td>0.69139</td></tr><tr><td>Train Sensitivity</td><td>1.0</td></tr><tr><td>Train Specificity</td><td>0.0</td></tr></table><br/></div></div>"
      ],
      "text/plain": [
       "<IPython.core.display.HTML object>"
      ]
     },
     "metadata": {},
     "output_type": "display_data"
    },
    {
     "data": {
      "text/html": [
       " View run <strong style=\"color:#cdcd00\">different-sweep-3</strong> at: <a href='https://wandb.ai/dylan-home/pnca-singletons-sweep/runs/l3gb54ch' target=\"_blank\">https://wandb.ai/dylan-home/pnca-singletons-sweep/runs/l3gb54ch</a><br/>Synced 5 W&B file(s), 0 media file(s), 0 artifact file(s) and 0 other file(s)"
      ],
      "text/plain": [
       "<IPython.core.display.HTML object>"
      ]
     },
     "metadata": {},
     "output_type": "display_data"
    },
    {
     "data": {
      "text/html": [
       "Find logs at: <code>./wandb/run-20250206_160338-l3gb54ch/logs</code>"
      ],
      "text/plain": [
       "<IPython.core.display.HTML object>"
      ]
     },
     "metadata": {},
     "output_type": "display_data"
    },
    {
     "name": "stderr",
     "output_type": "stream",
     "text": [
      "\u001b[34m\u001b[1mwandb\u001b[0m: Agent Starting Run: duvxit9x with config:\n",
      "\u001b[34m\u001b[1mwandb\u001b[0m: \tcutoff_distance: 8.609485151933017\n",
      "\u001b[34m\u001b[1mwandb\u001b[0m: \tdropout: 0.6\n",
      "\u001b[34m\u001b[1mwandb\u001b[0m: \thidden_channels: 256\n",
      "\u001b[34m\u001b[1mwandb\u001b[0m: \tlearning_rate: 9.300780261332198e-06\n",
      "\u001b[34m\u001b[1mwandb\u001b[0m: \tweight_decay: 2.0673408617606565e-05\n",
      "Failed to detect the name of this notebook, you can set it manually with the WANDB_NOTEBOOK_NAME environment variable to enable code saving.\n"
     ]
    },
    {
     "data": {
      "text/html": [
       "wandb version 0.19.6 is available!  To upgrade, please run:\n",
       " $ pip install wandb --upgrade"
      ],
      "text/plain": [
       "<IPython.core.display.HTML object>"
      ]
     },
     "metadata": {},
     "output_type": "display_data"
    },
    {
     "data": {
      "text/html": [
       "Tracking run with wandb version 0.16.4"
      ],
      "text/plain": [
       "<IPython.core.display.HTML object>"
      ]
     },
     "metadata": {},
     "output_type": "display_data"
    },
    {
     "data": {
      "text/html": [
       "Run data is saved locally in <code>/Users/dylandissanayake/Desktop/DPhil/Comp Disc/Repositories/tb-pnca-gnn/dd_pnca/wandb/run-20250206_160416-duvxit9x</code>"
      ],
      "text/plain": [
       "<IPython.core.display.HTML object>"
      ]
     },
     "metadata": {},
     "output_type": "display_data"
    },
    {
     "data": {
      "text/html": [
       "Syncing run <strong><a href='https://wandb.ai/dylan-home/pnca-singletons-sweep/runs/duvxit9x' target=\"_blank\">pious-sweep-4</a></strong> to <a href='https://wandb.ai/dylan-home/pnca-singletons-sweep' target=\"_blank\">Weights & Biases</a> (<a href='https://wandb.me/run' target=\"_blank\">docs</a>)<br/>Sweep page: <a href='https://wandb.ai/dylan-home/pnca-singletons-sweep/sweeps/nc8eahq7' target=\"_blank\">https://wandb.ai/dylan-home/pnca-singletons-sweep/sweeps/nc8eahq7</a>"
      ],
      "text/plain": [
       "<IPython.core.display.HTML object>"
      ]
     },
     "metadata": {},
     "output_type": "display_data"
    },
    {
     "data": {
      "text/html": [
       " View project at <a href='https://wandb.ai/dylan-home/pnca-singletons-sweep' target=\"_blank\">https://wandb.ai/dylan-home/pnca-singletons-sweep</a>"
      ],
      "text/plain": [
       "<IPython.core.display.HTML object>"
      ]
     },
     "metadata": {},
     "output_type": "display_data"
    },
    {
     "data": {
      "text/html": [
       " View sweep at <a href='https://wandb.ai/dylan-home/pnca-singletons-sweep/sweeps/nc8eahq7' target=\"_blank\">https://wandb.ai/dylan-home/pnca-singletons-sweep/sweeps/nc8eahq7</a>"
      ],
      "text/plain": [
       "<IPython.core.display.HTML object>"
      ]
     },
     "metadata": {},
     "output_type": "display_data"
    },
    {
     "data": {
      "text/html": [
       " View run at <a href='https://wandb.ai/dylan-home/pnca-singletons-sweep/runs/duvxit9x' target=\"_blank\">https://wandb.ai/dylan-home/pnca-singletons-sweep/runs/duvxit9x</a>"
      ],
      "text/plain": [
       "<IPython.core.display.HTML object>"
      ]
     },
     "metadata": {},
     "output_type": "display_data"
    },
    {
     "name": "stdout",
     "output_type": "stream",
     "text": [
      "Adjusting edge index and attaching edge weights for cutoff distance 8.609485151933017\n",
      "Early stopping enabled. Patience: 20. Min Delta: 0.\n",
      "Epoch: 010, Train Acc: 0.4698, Test Acc: 0.4850, Train Loss: 0.7801, Test Loss: 0.7675\n",
      "Epoch: 020, Train Acc: 0.5366, Test Acc: 0.5400, Train Loss: 0.6937, Test Loss: 0.6928\n",
      "Epoch: 030, Train Acc: 0.5280, Test Acc: 0.5050, Train Loss: 0.6889, Test Loss: 0.6912\n",
      "Epoch: 040, Train Acc: 0.5302, Test Acc: 0.5150, Train Loss: 0.6890, Test Loss: 0.6924\n",
      "20 epochs passed without 0 test loss improvement. \n",
      "Early stopping triggered.\n"
     ]
    },
    {
     "data": {
      "text/html": [
       "<style>\n",
       "    table.wandb td:nth-child(1) { padding: 0 10px; text-align: left ; width: auto;} td:nth-child(2) {text-align: left ; width: 100%}\n",
       "    .wandb-row { display: flex; flex-direction: row; flex-wrap: wrap; justify-content: flex-start; width: 100% }\n",
       "    .wandb-col { display: flex; flex-direction: column; flex-basis: 100%; flex: 1; padding: 10px; }\n",
       "    </style>\n",
       "<div class=\"wandb-row\"><div class=\"wandb-col\"><h3>Run history:</h3><br/><table class=\"wandb\"><tr><td>Test Accuracy</td><td>▂▂▂▂▂▂▂▂▂▂▂▂▂▂▂▂▄▅▇█▃▁▂▃▃▃▃▃▃▃▃▃▃▃▄▄▄▄▄▄</td></tr><tr><td>Test F1</td><td>▁▁▁▁▁▁▁▁▁▁▁▁▁▁▁▁▂▃▅▆▇▇██████████████████</td></tr><tr><td>Test Loss</td><td>█▇▆▅▄▄▃▃▂▂▁▁▁▁▁▁▁▁▁▁▁▁▁▁▁▁▁▁▁▁▁▁▁▁▁▁▁▁▁▁</td></tr><tr><td>Test Sensitivity</td><td>▁▁▁▁▁▁▁▁▁▁▁▁▁▁▁▁▁▂▂▄▅▇██████████████████</td></tr><tr><td>Test Specificity</td><td>███████████████████▇▄▁▁▁▁▁▁▁▁▁▁▁▁▁▁▁▁▁▁▁</td></tr><tr><td>Train Accuracy</td><td>▁▁▁▁▁▁▁▁▁▁▁▁▁▁▁▁▄▅▅█▄▂▂▄▄▄▄▄▄▄▄▄▄▄▄▄▄▄▄▄</td></tr><tr><td>Train F1</td><td>▁▁▁▁▁▁▁▁▁▁▁▁▁▁▁▁▃▃▄▆▇▇██████████████████</td></tr><tr><td>Train Loss</td><td>█▇▆▅▄▄▃▃▂▂▁▁▁▁▁▁▁▁▁▁▁▁▁▁▁▁▁▁▁▁▁▁▁▁▁▁▁▁▁▁</td></tr><tr><td>Train Sensitivity</td><td>▁▁▁▁▁▁▁▁▁▁▁▁▁▁▁▁▂▂▂▃▅▇▇█████████████████</td></tr><tr><td>Train Specificity</td><td>███████████████████▇▄▁▁▁▁▁▁▁▁▁▁▁▁▁▁▁▁▁▁▁</td></tr></table><br/></div><div class=\"wandb-col\"><h3>Run summary:</h3><br/><table class=\"wandb\"><tr><td>Test Accuracy</td><td>0.515</td></tr><tr><td>Test F1</td><td>0.67987</td></tr><tr><td>Test Loss</td><td>0.69147</td></tr><tr><td>Test Sensitivity</td><td>1.0</td></tr><tr><td>Test Specificity</td><td>0.0</td></tr><tr><td>Train Accuracy</td><td>0.53017</td></tr><tr><td>Train F1</td><td>0.69296</td></tr><tr><td>Train Loss</td><td>0.68814</td></tr><tr><td>Train Sensitivity</td><td>1.0</td></tr><tr><td>Train Specificity</td><td>0.0</td></tr></table><br/></div></div>"
      ],
      "text/plain": [
       "<IPython.core.display.HTML object>"
      ]
     },
     "metadata": {},
     "output_type": "display_data"
    },
    {
     "data": {
      "text/html": [
       " View run <strong style=\"color:#cdcd00\">pious-sweep-4</strong> at: <a href='https://wandb.ai/dylan-home/pnca-singletons-sweep/runs/duvxit9x' target=\"_blank\">https://wandb.ai/dylan-home/pnca-singletons-sweep/runs/duvxit9x</a><br/>Synced 5 W&B file(s), 0 media file(s), 0 artifact file(s) and 0 other file(s)"
      ],
      "text/plain": [
       "<IPython.core.display.HTML object>"
      ]
     },
     "metadata": {},
     "output_type": "display_data"
    },
    {
     "data": {
      "text/html": [
       "Find logs at: <code>./wandb/run-20250206_160416-duvxit9x/logs</code>"
      ],
      "text/plain": [
       "<IPython.core.display.HTML object>"
      ]
     },
     "metadata": {},
     "output_type": "display_data"
    },
    {
     "name": "stderr",
     "output_type": "stream",
     "text": [
      "\u001b[34m\u001b[1mwandb\u001b[0m: Agent Starting Run: n6cn0ty0 with config:\n",
      "\u001b[34m\u001b[1mwandb\u001b[0m: \tcutoff_distance: 13.037331837590976\n",
      "\u001b[34m\u001b[1mwandb\u001b[0m: \tdropout: 0.5\n",
      "\u001b[34m\u001b[1mwandb\u001b[0m: \thidden_channels: 320\n",
      "\u001b[34m\u001b[1mwandb\u001b[0m: \tlearning_rate: 0.00011332735851571204\n",
      "\u001b[34m\u001b[1mwandb\u001b[0m: \tweight_decay: 1.0711051373788378e-05\n",
      "Failed to detect the name of this notebook, you can set it manually with the WANDB_NOTEBOOK_NAME environment variable to enable code saving.\n"
     ]
    },
    {
     "data": {
      "text/html": [
       "wandb version 0.19.6 is available!  To upgrade, please run:\n",
       " $ pip install wandb --upgrade"
      ],
      "text/plain": [
       "<IPython.core.display.HTML object>"
      ]
     },
     "metadata": {},
     "output_type": "display_data"
    },
    {
     "data": {
      "text/html": [
       "Tracking run with wandb version 0.16.4"
      ],
      "text/plain": [
       "<IPython.core.display.HTML object>"
      ]
     },
     "metadata": {},
     "output_type": "display_data"
    },
    {
     "data": {
      "text/html": [
       "Run data is saved locally in <code>/Users/dylandissanayake/Desktop/DPhil/Comp Disc/Repositories/tb-pnca-gnn/dd_pnca/wandb/run-20250206_160529-n6cn0ty0</code>"
      ],
      "text/plain": [
       "<IPython.core.display.HTML object>"
      ]
     },
     "metadata": {},
     "output_type": "display_data"
    },
    {
     "data": {
      "text/html": [
       "Syncing run <strong><a href='https://wandb.ai/dylan-home/pnca-singletons-sweep/runs/n6cn0ty0' target=\"_blank\">quiet-sweep-5</a></strong> to <a href='https://wandb.ai/dylan-home/pnca-singletons-sweep' target=\"_blank\">Weights & Biases</a> (<a href='https://wandb.me/run' target=\"_blank\">docs</a>)<br/>Sweep page: <a href='https://wandb.ai/dylan-home/pnca-singletons-sweep/sweeps/nc8eahq7' target=\"_blank\">https://wandb.ai/dylan-home/pnca-singletons-sweep/sweeps/nc8eahq7</a>"
      ],
      "text/plain": [
       "<IPython.core.display.HTML object>"
      ]
     },
     "metadata": {},
     "output_type": "display_data"
    },
    {
     "data": {
      "text/html": [
       " View project at <a href='https://wandb.ai/dylan-home/pnca-singletons-sweep' target=\"_blank\">https://wandb.ai/dylan-home/pnca-singletons-sweep</a>"
      ],
      "text/plain": [
       "<IPython.core.display.HTML object>"
      ]
     },
     "metadata": {},
     "output_type": "display_data"
    },
    {
     "data": {
      "text/html": [
       " View sweep at <a href='https://wandb.ai/dylan-home/pnca-singletons-sweep/sweeps/nc8eahq7' target=\"_blank\">https://wandb.ai/dylan-home/pnca-singletons-sweep/sweeps/nc8eahq7</a>"
      ],
      "text/plain": [
       "<IPython.core.display.HTML object>"
      ]
     },
     "metadata": {},
     "output_type": "display_data"
    },
    {
     "data": {
      "text/html": [
       " View run at <a href='https://wandb.ai/dylan-home/pnca-singletons-sweep/runs/n6cn0ty0' target=\"_blank\">https://wandb.ai/dylan-home/pnca-singletons-sweep/runs/n6cn0ty0</a>"
      ],
      "text/plain": [
       "<IPython.core.display.HTML object>"
      ]
     },
     "metadata": {},
     "output_type": "display_data"
    },
    {
     "name": "stdout",
     "output_type": "stream",
     "text": [
      "Adjusting edge index and attaching edge weights for cutoff distance 13.037331837590976\n",
      "Early stopping enabled. Patience: 20. Min Delta: 0.\n",
      "Epoch: 010, Train Acc: 0.5345, Test Acc: 0.5100, Train Loss: 0.7187, Test Loss: 0.7407\n",
      "Epoch: 020, Train Acc: 0.5819, Test Acc: 0.5950, Train Loss: 0.6824, Test Loss: 0.6799\n",
      "Epoch: 030, Train Acc: 0.5302, Test Acc: 0.5150, Train Loss: 0.7847, Test Loss: 0.8395\n",
      "Epoch: 040, Train Acc: 0.5991, Test Acc: 0.5650, Train Loss: 0.6153, Test Loss: 0.6508\n",
      "Epoch: 050, Train Acc: 0.5776, Test Acc: 0.5900, Train Loss: 0.7203, Test Loss: 0.7249\n",
      "Epoch: 060, Train Acc: 0.6832, Test Acc: 0.6550, Train Loss: 0.6027, Test Loss: 0.6322\n",
      "Epoch: 070, Train Acc: 0.5560, Test Acc: 0.5200, Train Loss: 0.6925, Test Loss: 0.7664\n",
      "Epoch: 080, Train Acc: 0.7177, Test Acc: 0.6500, Train Loss: 0.5599, Test Loss: 0.6075\n",
      "Epoch: 090, Train Acc: 0.7306, Test Acc: 0.6600, Train Loss: 0.5552, Test Loss: 0.6019\n",
      "Epoch: 100, Train Acc: 0.6789, Test Acc: 0.6550, Train Loss: 0.6125, Test Loss: 0.6550\n",
      "Epoch: 110, Train Acc: 0.7328, Test Acc: 0.6800, Train Loss: 0.5340, Test Loss: 0.5928\n",
      "Epoch: 120, Train Acc: 0.7306, Test Acc: 0.6800, Train Loss: 0.5351, Test Loss: 0.5977\n"
     ]
    }
   ],
   "source": [
    "wandb.agent(sweep_id, sweep_run, project = project, count=10)"
   ]
  },
  {
   "cell_type": "code",
   "execution_count": null,
   "metadata": {},
   "outputs": [],
   "source": []
  }
 ],
 "metadata": {
  "kernelspec": {
   "display_name": "Python 3",
   "language": "python",
   "name": "python3"
  },
  "language_info": {
   "codemirror_mode": {
    "name": "ipython",
    "version": 3
   },
   "file_extension": ".py",
   "mimetype": "text/x-python",
   "name": "python",
   "nbconvert_exporter": "python",
   "pygments_lexer": "ipython3",
   "version": "3.12.0"
  }
 },
 "nbformat": 4,
 "nbformat_minor": 2
}
