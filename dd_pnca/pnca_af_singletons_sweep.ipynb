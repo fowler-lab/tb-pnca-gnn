{
 "cells": [
  {
   "cell_type": "markdown",
   "metadata": {},
   "source": [
    "# Run PncA WandB Sweep"
   ]
  },
  {
   "cell_type": "code",
   "execution_count": 1,
   "metadata": {},
   "outputs": [
    {
     "data": {
      "text/plain": [
       "'Running via SSH'"
      ]
     },
     "metadata": {},
     "output_type": "display_data"
    },
    {
     "name": "stderr",
     "output_type": "stream",
     "text": [
      "/usr/lib/python3/dist-packages/requests/__init__.py:87: RequestsDependencyWarning: urllib3 (2.2.3) or chardet (4.0.0) doesn't match a supported version!\n",
      "  warnings.warn(\"urllib3 ({}) or chardet ({}) doesn't match a supported \"\n"
     ]
    },
    {
     "data": {
      "text/plain": [
       "True"
      ]
     },
     "execution_count": 1,
     "metadata": {},
     "output_type": "execute_result"
    }
   ],
   "source": [
    "from IPython.display import display\n",
    "import os\n",
    "\n",
    "if \"SSH_CONNECTION\" in os.environ:\n",
    "    display(\"Running via SSH\")\n",
    "else:\n",
    "    display(\"Running locally\")\n",
    "    \n",
    "import sys\n",
    "import os\n",
    "\n",
    "path = os.path.join('..', '/Users/dylandissanayake/Desktop/DPhil/Comp Disc/Repositories/TB-PNCA-GNN') if \"SSH_CONNECTION\" not in os.environ else os.path.join('..', '/mnt/alphafold-volume-1/dylan2/repos/tb-pnca-gnn')\n",
    "if path not in sys.path:\n",
    "    sys.path.append(os.path.abspath(path))\n",
    "\n",
    "import datetime\n",
    "import random\n",
    "\n",
    "import numpy as np\n",
    "import pandas as pd\n",
    "import pickle as pkl\n",
    "\n",
    "import torch\n",
    "from torch_geometric.data import Data\n",
    "\n",
    "import wandb\n",
    "\n",
    "import warnings\n",
    "warnings.filterwarnings('ignore')\n",
    "\n",
    "from src import run_model, protein_graph, gcn_model, evaluation\n",
    "\n",
    "%load_ext autoreload\n",
    "%autoreload 2\n",
    "\n",
    "%aimport src\n",
    "\n",
    "torch.cuda.is_available()"
   ]
  },
  {
   "cell_type": "code",
   "execution_count": 2,
   "metadata": {},
   "outputs": [],
   "source": [
    "with open('datasets/singletons_af_graph_dict.pkl', 'rb') as f:\n",
    "    graph_dict = pkl.load(f)"
   ]
  },
  {
   "cell_type": "code",
   "execution_count": 3,
   "metadata": {},
   "outputs": [
    {
     "data": {
      "text/plain": [
       "664"
      ]
     },
     "execution_count": 3,
     "metadata": {},
     "output_type": "execute_result"
    }
   ],
   "source": [
    "len(graph_dict['train']) + len(graph_dict['test'])"
   ]
  },
  {
   "cell_type": "markdown",
   "metadata": {},
   "source": [
    "### Set Up Params and Sweep Config"
   ]
  },
  {
   "cell_type": "code",
   "execution_count": 4,
   "metadata": {},
   "outputs": [],
   "source": [
    "seed = 42\n",
    "np.random.seed(seed)\n",
    "random.seed(seed)\n",
    "\n",
    "# logging params (only used for wandb metrics)\n",
    "n_samples = len(graph_dict['train']) + len(graph_dict['test'])\n",
    "# cutoff_distance = 6.3  \n",
    "\n",
    "# gcn params\n",
    "num_node_features = 16\n",
    "batch_size = 256\n",
    "# hidden_channels = 64\n",
    "# learning_rate = 0.001\n",
    "# wd = 5e-5\n",
    "epochs = 400\n",
    "\n",
    "wt_seq = 'MRALIIVDVQNDFCEGGSLAVTGGAALARAISDYLAEAADYHHVVATKDFHIDPGDHFSGTPDYSSSWPPHCVSGTPGADFHPSLDTSAIEAVFYKGAYTGAYSGFEGVDENGTPLLNWLRQRGVDEVDVVGIATDHCVRQTAEDAVRNGLATRVLVDLTAGVSADTTVAALEEMRTASVELVCS'"
   ]
  },
  {
   "cell_type": "code",
   "execution_count": 5,
   "metadata": {},
   "outputs": [],
   "source": [
    "# First sweep:\n",
    "\n",
    "sweep_config = {\n",
    "    'method': 'random'\n",
    "    }\n",
    "\n",
    "metric = {\n",
    "    'name': 'Test Accuracy',\n",
    "    'goal': 'maximize'   \n",
    "    }\n",
    "\n",
    "sweep_config['metric'] = metric\n",
    "\n",
    "parameters_dict = {\n",
    "    'hidden_channels': {\n",
    "        'values': [32, 64, 128, 256]\n",
    "        },\n",
    "    'weight_decay': {\n",
    "        'distribution': 'log_uniform_values',\n",
    "        'min': 1e-8,\n",
    "        'max': 1e-2\n",
    "        },\n",
    "    'dropout': {\n",
    "          'values': [0.2, 0.4, 0.5, 0.6, 0.8]\n",
    "        },\n",
    "    'cutoff_distance': {\n",
    "        'distribution': 'uniform',\n",
    "        'min': 4,\n",
    "        'max': 12 \n",
    "        },\n",
    "    'learning_rate': {\n",
    "        'distribution': 'log_uniform_values',\n",
    "        'min': 1e-8,\n",
    "        'max': 1e-1\n",
    "      },\n",
    "    }\n",
    "\n",
    "sweep_config['parameters'] = parameters_dict\n",
    "\n",
    "# # Second / third sweep:\n",
    "\n",
    "# parameters_dict.update({\n",
    "#     'hidden_channels': {\n",
    "#         'values': [64, 128, 192, 256, 320, 384]\n",
    "#         },\n",
    "#     'weight_decay': {\n",
    "#         'distribution': 'log_uniform_values',\n",
    "#         'min': 5e-7, \n",
    "#         'max': 1e-2\n",
    "#         },\n",
    "#     'dropout': {\n",
    "#           'values': [0.4, 0.5, 0.6, 0.8]\n",
    "#         },\n",
    "#     'learning_rate': {\n",
    "#         'distribution': 'log_uniform_values',\n",
    "#         'min': 1e-5,\n",
    "#         'max': 1e-2 \n",
    "#         },\n",
    "#     })\n",
    "\n",
    "# # Fourth / Fifth sweep:\n",
    "\n",
    "# parameters_dict.update({\n",
    "#     'hidden_channels': {\n",
    "#         'values': [128, 192, 256, 320]\n",
    "#         },\n",
    "#     'weight_decay': {\n",
    "#         'distribution': 'log_uniform_values',\n",
    "#         'min': 1e-5,\n",
    "#         'max': 1e-3\n",
    "#         },\n",
    "#     'dropout': {\n",
    "#           'values': [0.4, 0.5, 0.6, 0.8]\n",
    "#         },\n",
    "#     'learning_rate': {\n",
    "#         'distribution': 'log_uniform_values',\n",
    "#         'min': 5e-5,\n",
    "#         'max': 5e-2\n",
    "#         },\n",
    "#     })\n",
    "\n",
    "# # Sixth sweep:\n",
    "\n",
    "# parameters_dict.update({\n",
    "#     'learning_rate': {\n",
    "#         'distribution': 'log_uniform_values',\n",
    "#         'min': 1e-6,\n",
    "#         'max': 5e-3 \n",
    "#         }\n",
    "#     })\n",
    "\n",
    "# # Seventh sweep:\n",
    "\n",
    "# parameters_dict.update({\n",
    "#     'learning_rate': {\n",
    "#         'distribution': 'log_uniform_values',\n",
    "#         'min': 5e-6,\n",
    "#         'max': 5e-4 \n",
    "#         }\n",
    "#     })\n",
    "\n",
    "# # Eight sweep w cutoff varying:\n",
    "\n",
    "# parameters_dict.update({\n",
    "#     'learning_rate': {\n",
    "#         'distribution': 'log_uniform_values',\n",
    "#         'min': 1e-15,\n",
    "#         'max': 1e-3 \n",
    "#         },\n",
    "#         'cutoff_distance': {\n",
    "#         'distribution': 'uniform',\n",
    "#         'min': 5.5,\n",
    "#         'max': 14\n",
    "#         },\n",
    "#     })\n",
    "\n"
   ]
  },
  {
   "cell_type": "code",
   "execution_count": 6,
   "metadata": {},
   "outputs": [
    {
     "name": "stdout",
     "output_type": "stream",
     "text": [
      "{'method': 'random',\n",
      " 'metric': {'goal': 'maximize', 'name': 'Test Accuracy'},\n",
      " 'parameters': {'cutoff_distance': {'distribution': 'uniform',\n",
      "                                    'max': 12,\n",
      "                                    'min': 4},\n",
      "                'dropout': {'values': [0.2, 0.4, 0.5, 0.6, 0.8]},\n",
      "                'hidden_channels': {'values': [32, 64, 128, 256]},\n",
      "                'learning_rate': {'distribution': 'log_uniform_values',\n",
      "                                  'max': 0.1,\n",
      "                                  'min': 1e-08},\n",
      "                'weight_decay': {'distribution': 'log_uniform_values',\n",
      "                                 'max': 0.01,\n",
      "                                 'min': 1e-08}}}\n"
     ]
    }
   ],
   "source": [
    "import pprint\n",
    "pprint.pprint(sweep_config)"
   ]
  },
  {
   "cell_type": "markdown",
   "metadata": {},
   "source": [
    "### Define Training Loop"
   ]
  },
  {
   "cell_type": "code",
   "execution_count": 7,
   "metadata": {},
   "outputs": [],
   "source": [
    "project = \"pnca-af-singletons-sweep-w-mutation-feats\""
   ]
  },
  {
   "cell_type": "code",
   "execution_count": 8,
   "metadata": {},
   "outputs": [],
   "source": [
    "# sweep_id = wandb.sweep(sweep_config, project=project)\n",
    "sweep_id = 'x0k5kbpt'"
   ]
  },
  {
   "cell_type": "code",
   "execution_count": 9,
   "metadata": {},
   "outputs": [],
   "source": [
    "# # Run a single run\n",
    "\n",
    "# model = run_model.pnca_GCN_vary_graph(\n",
    "#             self_loops = False,\n",
    "#             cutoff_distance = 4,\n",
    "#             edge_weight_func = '1-(dist/cutoff)',\n",
    "#             batch_size = batch_size,\n",
    "#             num_node_features = num_node_features,\n",
    "#             hidden_channels = 64,\n",
    "#             learning_rate = 1e-5,\n",
    "#             wd = 1e-5,\n",
    "#             dropout = 0.5,\n",
    "#             lr_scheduling=False,\n",
    "#             epochs = 50,\n",
    "#             graph_dict= graph_dict,\n",
    "#             normalise_ews=True,\n",
    "#             # wandb_params={\n",
    "#             #     'use_wandb': False,\n",
    "#             #     'sweep': True\n",
    "#             # }\n",
    "#         )"
   ]
  },
  {
   "cell_type": "code",
   "execution_count": 10,
   "metadata": {},
   "outputs": [],
   "source": [
    "def sweep_run():\n",
    "\n",
    "    with wandb.init() as run:\n",
    "        config = run.config\n",
    "\n",
    "        model = run_model.pnca_GCN_vary_graph(\n",
    "            self_loops = False,\n",
    "            cutoff_distance = config.cutoff_distance,\n",
    "            edge_weight_func = '1-(dist/cutoff)',\n",
    "            batch_size = batch_size,\n",
    "            num_node_features = num_node_features,\n",
    "            hidden_channels = config.hidden_channels,\n",
    "            learning_rate = config.learning_rate,\n",
    "            wd = config.weight_decay,\n",
    "            dropout = config.dropout,\n",
    "            lr_scheduling=False,\n",
    "            epochs = epochs,\n",
    "            graph_dict= graph_dict,\n",
    "            normalise_ews=True,\n",
    "            wandb_params={\n",
    "                'use_wandb': False,\n",
    "                'sweep': True\n",
    "            }\n",
    "        )\n",
    "\n",
    "        # os.makedirs(f'saved_models/carter_ds_aug/{project}/{sweep_id}', exist_ok=True)\n",
    "        \n",
    "        # torch.save(model, f'saved_models/carter_ds_aug/{project}/{sweep_id}/{run.name}')"
   ]
  },
  {
   "cell_type": "code",
   "execution_count": 11,
   "metadata": {},
   "outputs": [
    {
     "name": "stderr",
     "output_type": "stream",
     "text": [
      "Failed to detect the name of this notebook, you can set it manually with the WANDB_NOTEBOOK_NAME environment variable to enable code saving.\n",
      "/usr/lib/python3/dist-packages/requests/__init__.py:87: RequestsDependencyWarning: urllib3 (2.2.3) or chardet (4.0.0) doesn't match a supported version!\n",
      "  warnings.warn(\"urllib3 ({}) or chardet ({}) doesn't match a supported \"\n",
      "\u001b[34m\u001b[1mwandb\u001b[0m: Agent Starting Run: 8cg6sd2f with config:\n",
      "\u001b[34m\u001b[1mwandb\u001b[0m: \tcutoff_distance: 7.503507123483934\n",
      "\u001b[34m\u001b[1mwandb\u001b[0m: \tdropout: 0.5\n",
      "\u001b[34m\u001b[1mwandb\u001b[0m: \thidden_channels: 256\n",
      "\u001b[34m\u001b[1mwandb\u001b[0m: \tlearning_rate: 6.751133651144298e-05\n",
      "\u001b[34m\u001b[1mwandb\u001b[0m: \tweight_decay: 0.000151560868497435\n",
      "Failed to detect the name of this notebook, you can set it manually with the WANDB_NOTEBOOK_NAME environment variable to enable code saving.\n",
      "/usr/lib/python3/dist-packages/requests/__init__.py:87: RequestsDependencyWarning: urllib3 (2.2.3) or chardet (4.0.0) doesn't match a supported version!\n",
      "  warnings.warn(\"urllib3 ({}) or chardet ({}) doesn't match a supported \"\n",
      "\u001b[34m\u001b[1mwandb\u001b[0m: Currently logged in as: \u001b[33mdylan-home\u001b[0m. Use \u001b[1m`wandb login --relogin`\u001b[0m to force relogin\n"
     ]
    },
    {
     "data": {
      "text/html": [
       "wandb version 0.19.8 is available!  To upgrade, please run:\n",
       " $ pip install wandb --upgrade"
      ],
      "text/plain": [
       "<IPython.core.display.HTML object>"
      ]
     },
     "metadata": {},
     "output_type": "display_data"
    },
    {
     "data": {
      "text/html": [
       "Tracking run with wandb version 0.16.4"
      ],
      "text/plain": [
       "<IPython.core.display.HTML object>"
      ]
     },
     "metadata": {},
     "output_type": "display_data"
    },
    {
     "data": {
      "text/html": [
       "Run data is saved locally in <code>/mnt/alphafold-volume-1/dylan2/repos/tb-pnca-gnn/dd_pnca/wandb/run-20250318_190309-8cg6sd2f</code>"
      ],
      "text/plain": [
       "<IPython.core.display.HTML object>"
      ]
     },
     "metadata": {},
     "output_type": "display_data"
    },
    {
     "data": {
      "text/html": [
       "Syncing run <strong><a href='https://wandb.ai/dylan-home/pnca-af-singletons-sweep-w-mutation-feats/runs/8cg6sd2f' target=\"_blank\">dry-sweep-3</a></strong> to <a href='https://wandb.ai/dylan-home/pnca-af-singletons-sweep-w-mutation-feats' target=\"_blank\">Weights & Biases</a> (<a href='https://wandb.me/run' target=\"_blank\">docs</a>)<br/>Sweep page: <a href='https://wandb.ai/dylan-home/pnca-af-singletons-sweep-w-mutation-feats/sweeps/x0k5kbpt' target=\"_blank\">https://wandb.ai/dylan-home/pnca-af-singletons-sweep-w-mutation-feats/sweeps/x0k5kbpt</a>"
      ],
      "text/plain": [
       "<IPython.core.display.HTML object>"
      ]
     },
     "metadata": {},
     "output_type": "display_data"
    },
    {
     "data": {
      "text/html": [
       " View project at <a href='https://wandb.ai/dylan-home/pnca-af-singletons-sweep-w-mutation-feats' target=\"_blank\">https://wandb.ai/dylan-home/pnca-af-singletons-sweep-w-mutation-feats</a>"
      ],
      "text/plain": [
       "<IPython.core.display.HTML object>"
      ]
     },
     "metadata": {},
     "output_type": "display_data"
    },
    {
     "data": {
      "text/html": [
       " View sweep at <a href='https://wandb.ai/dylan-home/pnca-af-singletons-sweep-w-mutation-feats/sweeps/x0k5kbpt' target=\"_blank\">https://wandb.ai/dylan-home/pnca-af-singletons-sweep-w-mutation-feats/sweeps/x0k5kbpt</a>"
      ],
      "text/plain": [
       "<IPython.core.display.HTML object>"
      ]
     },
     "metadata": {},
     "output_type": "display_data"
    },
    {
     "data": {
      "text/html": [
       " View run at <a href='https://wandb.ai/dylan-home/pnca-af-singletons-sweep-w-mutation-feats/runs/8cg6sd2f' target=\"_blank\">https://wandb.ai/dylan-home/pnca-af-singletons-sweep-w-mutation-feats/runs/8cg6sd2f</a>"
      ],
      "text/plain": [
       "<IPython.core.display.HTML object>"
      ]
     },
     "metadata": {},
     "output_type": "display_data"
    },
    {
     "name": "stdout",
     "output_type": "stream",
     "text": [
      "Adjusting edge index and attaching edge weights for cutoff distance 7.503507123483934\n",
      "Using CUDA\n",
      "Early stopping enabled. Patience: 20. Min Delta: 0.\n",
      "Epoch: 010, Train Acc: 0.6121, Test Acc: 0.5750, Train Loss: 0.6495, Test Loss: 0.6641\n",
      "Epoch: 020, Train Acc: 0.6358, Test Acc: 0.6200, Train Loss: 0.6399, Test Loss: 0.6397\n",
      "Epoch: 030, Train Acc: 0.6358, Test Acc: 0.6200, Train Loss: 0.6380, Test Loss: 0.6418\n",
      "Epoch: 040, Train Acc: 0.6358, Test Acc: 0.6200, Train Loss: 0.6303, Test Loss: 0.6435\n",
      "Epoch: 050, Train Acc: 0.6358, Test Acc: 0.6200, Train Loss: 0.6252, Test Loss: 0.6370\n",
      "Epoch: 060, Train Acc: 0.6358, Test Acc: 0.6200, Train Loss: 0.6215, Test Loss: 0.6357\n",
      "Epoch: 070, Train Acc: 0.6379, Test Acc: 0.6150, Train Loss: 0.6193, Test Loss: 0.6321\n",
      "Epoch: 080, Train Acc: 0.6422, Test Acc: 0.6150, Train Loss: 0.6154, Test Loss: 0.6318\n",
      "Epoch: 090, Train Acc: 0.6401, Test Acc: 0.6150, Train Loss: 0.6113, Test Loss: 0.6252\n",
      "Epoch: 100, Train Acc: 0.6444, Test Acc: 0.6100, Train Loss: 0.6061, Test Loss: 0.6266\n",
      "Epoch: 110, Train Acc: 0.6616, Test Acc: 0.6350, Train Loss: 0.6022, Test Loss: 0.6202\n",
      "Epoch: 120, Train Acc: 0.6552, Test Acc: 0.6350, Train Loss: 0.5993, Test Loss: 0.6124\n",
      "Epoch: 130, Train Acc: 0.6616, Test Acc: 0.6300, Train Loss: 0.5935, Test Loss: 0.6160\n",
      "Epoch: 140, Train Acc: 0.6681, Test Acc: 0.6300, Train Loss: 0.5895, Test Loss: 0.6158\n",
      "Epoch: 150, Train Acc: 0.6638, Test Acc: 0.6450, Train Loss: 0.5865, Test Loss: 0.6095\n",
      "Epoch: 160, Train Acc: 0.6789, Test Acc: 0.6500, Train Loss: 0.5831, Test Loss: 0.6067\n",
      "Epoch: 170, Train Acc: 0.6767, Test Acc: 0.6500, Train Loss: 0.5792, Test Loss: 0.6025\n",
      "Epoch: 180, Train Acc: 0.6789, Test Acc: 0.6650, Train Loss: 0.5730, Test Loss: 0.6011\n",
      "Epoch: 190, Train Acc: 0.6940, Test Acc: 0.6600, Train Loss: 0.5700, Test Loss: 0.6020\n",
      "Epoch: 200, Train Acc: 0.6961, Test Acc: 0.6600, Train Loss: 0.5699, Test Loss: 0.6000\n",
      "Epoch: 210, Train Acc: 0.6897, Test Acc: 0.6750, Train Loss: 0.5624, Test Loss: 0.5930\n",
      "20 epochs passed without 0 test loss improvement. \n",
      "Early stopping triggered.\n"
     ]
    },
    {
     "data": {
      "text/html": [
       "<style>\n",
       "    table.wandb td:nth-child(1) { padding: 0 10px; text-align: left ; width: auto;} td:nth-child(2) {text-align: left ; width: 100%}\n",
       "    .wandb-row { display: flex; flex-direction: row; flex-wrap: wrap; justify-content: flex-start; width: 100% }\n",
       "    .wandb-col { display: flex; flex-direction: column; flex-basis: 100%; flex: 1; padding: 10px; }\n",
       "    </style>\n",
       "<div class=\"wandb-row\"><div class=\"wandb-col\"><h3>Run history:</h3><br/><table class=\"wandb\"><tr><td>Test Accuracy</td><td>▁▅▃▅▅▅▅▅▅▅▅▅▅▅▅▅▅▅▅▅▅▅▆▆▆▆▇▆▇▇▇▇▇██▇█▇▇█</td></tr><tr><td>Test F1</td><td>▁█████████████████████████████████████▇▇</td></tr><tr><td>Test Loss</td><td>█▆▇▅▅▅▅▅▄▄▄▄▄▄▄▄▄▄▃▄▃▃▂▃▃▂▂▂▂▂▂▂▂▂▁▂▂▁▁▁</td></tr><tr><td>Test Sensitivity</td><td>▁█████████████████████▇▇▇▇▇▇▆▇▇▆▆▆▆▆▆▆▆▅</td></tr><tr><td>Test Specificity</td><td>█▂▁▂▂▂▂▂▂▂▂▂▂▂▂▂▂▂▂▂▂▂▃▃▄▃▄▄▄▄▄▄▄▅▅▅▅▅▅▆</td></tr><tr><td>Train Accuracy</td><td>▁▅▃▅▅▅▅▅▅▅▅▅▅▅▅▅▅▅▅▅▅▅▆▆▆▇▆▆▇▇▇▇▇▇▇█▇██▇</td></tr><tr><td>Train F1</td><td>▁████████████████████████████████▇▇████▇</td></tr><tr><td>Train Loss</td><td>█▆▆▅▅▆▅▅▅▅▅▄▄▄▄▄▄▄▄▃▃▃▃▃▃▃▃▂▂▂▂▂▂▂▂▁▁▁▁▁</td></tr><tr><td>Train Sensitivity</td><td>▁▇█▇▇▇▇▇▇▇▇▇▇▇▇▇▇▇▇▇▇▇▇▇▆▇▆▆▆▆▇▆▆▆▆▆▆▆▆▅</td></tr><tr><td>Train Specificity</td><td>█▂▁▂▂▂▂▃▃▂▃▂▃▃▃▃▃▃▃▃▃▃▄▃▄▄▄▄▅▄▄▄▅▅▅▅▅▅▆▆</td></tr></table><br/></div><div class=\"wandb-col\"><h3>Run summary:</h3><br/><table class=\"wandb\"><tr><td>Test Accuracy</td><td>0.665</td></tr><tr><td>Test F1</td><td>0.67633</td></tr><tr><td>Test Loss</td><td>0.59407</td></tr><tr><td>Test Sensitivity</td><td>0.67961</td></tr><tr><td>Test Specificity</td><td>0.64948</td></tr><tr><td>Train Accuracy</td><td>0.6875</td></tr><tr><td>Train F1</td><td>0.69729</td></tr><tr><td>Train Loss</td><td>0.5627</td></tr><tr><td>Train Sensitivity</td><td>0.67886</td></tr><tr><td>Train Specificity</td><td>0.69725</td></tr></table><br/></div></div>"
      ],
      "text/plain": [
       "<IPython.core.display.HTML object>"
      ]
     },
     "metadata": {},
     "output_type": "display_data"
    },
    {
     "data": {
      "text/html": [
       " View run <strong style=\"color:#cdcd00\">dry-sweep-3</strong> at: <a href='https://wandb.ai/dylan-home/pnca-af-singletons-sweep-w-mutation-feats/runs/8cg6sd2f' target=\"_blank\">https://wandb.ai/dylan-home/pnca-af-singletons-sweep-w-mutation-feats/runs/8cg6sd2f</a><br/>Synced 5 W&B file(s), 0 media file(s), 0 artifact file(s) and 0 other file(s)"
      ],
      "text/plain": [
       "<IPython.core.display.HTML object>"
      ]
     },
     "metadata": {},
     "output_type": "display_data"
    },
    {
     "data": {
      "text/html": [
       "Find logs at: <code>./wandb/run-20250318_190309-8cg6sd2f/logs</code>"
      ],
      "text/plain": [
       "<IPython.core.display.HTML object>"
      ]
     },
     "metadata": {},
     "output_type": "display_data"
    },
    {
     "name": "stderr",
     "output_type": "stream",
     "text": [
      "\u001b[34m\u001b[1mwandb\u001b[0m: Agent Starting Run: 2rsrzq7r with config:\n",
      "\u001b[34m\u001b[1mwandb\u001b[0m: \tcutoff_distance: 8.554294805728848\n",
      "\u001b[34m\u001b[1mwandb\u001b[0m: \tdropout: 0.8\n",
      "\u001b[34m\u001b[1mwandb\u001b[0m: \thidden_channels: 256\n",
      "\u001b[34m\u001b[1mwandb\u001b[0m: \tlearning_rate: 1.9446102773579997e-05\n",
      "\u001b[34m\u001b[1mwandb\u001b[0m: \tweight_decay: 8.66146532859258e-08\n",
      "Failed to detect the name of this notebook, you can set it manually with the WANDB_NOTEBOOK_NAME environment variable to enable code saving.\n",
      "/usr/lib/python3/dist-packages/requests/__init__.py:87: RequestsDependencyWarning: urllib3 (2.2.3) or chardet (4.0.0) doesn't match a supported version!\n",
      "  warnings.warn(\"urllib3 ({}) or chardet ({}) doesn't match a supported \"\n"
     ]
    },
    {
     "data": {
      "text/html": [
       "wandb version 0.19.8 is available!  To upgrade, please run:\n",
       " $ pip install wandb --upgrade"
      ],
      "text/plain": [
       "<IPython.core.display.HTML object>"
      ]
     },
     "metadata": {},
     "output_type": "display_data"
    },
    {
     "data": {
      "text/html": [
       "Tracking run with wandb version 0.16.4"
      ],
      "text/plain": [
       "<IPython.core.display.HTML object>"
      ]
     },
     "metadata": {},
     "output_type": "display_data"
    },
    {
     "data": {
      "text/html": [
       "Run data is saved locally in <code>/mnt/alphafold-volume-1/dylan2/repos/tb-pnca-gnn/dd_pnca/wandb/run-20250318_190427-2rsrzq7r</code>"
      ],
      "text/plain": [
       "<IPython.core.display.HTML object>"
      ]
     },
     "metadata": {},
     "output_type": "display_data"
    },
    {
     "data": {
      "text/html": [
       "Syncing run <strong><a href='https://wandb.ai/dylan-home/pnca-af-singletons-sweep-w-mutation-feats/runs/2rsrzq7r' target=\"_blank\">charmed-sweep-4</a></strong> to <a href='https://wandb.ai/dylan-home/pnca-af-singletons-sweep-w-mutation-feats' target=\"_blank\">Weights & Biases</a> (<a href='https://wandb.me/run' target=\"_blank\">docs</a>)<br/>Sweep page: <a href='https://wandb.ai/dylan-home/pnca-af-singletons-sweep-w-mutation-feats/sweeps/x0k5kbpt' target=\"_blank\">https://wandb.ai/dylan-home/pnca-af-singletons-sweep-w-mutation-feats/sweeps/x0k5kbpt</a>"
      ],
      "text/plain": [
       "<IPython.core.display.HTML object>"
      ]
     },
     "metadata": {},
     "output_type": "display_data"
    },
    {
     "data": {
      "text/html": [
       " View project at <a href='https://wandb.ai/dylan-home/pnca-af-singletons-sweep-w-mutation-feats' target=\"_blank\">https://wandb.ai/dylan-home/pnca-af-singletons-sweep-w-mutation-feats</a>"
      ],
      "text/plain": [
       "<IPython.core.display.HTML object>"
      ]
     },
     "metadata": {},
     "output_type": "display_data"
    },
    {
     "data": {
      "text/html": [
       " View sweep at <a href='https://wandb.ai/dylan-home/pnca-af-singletons-sweep-w-mutation-feats/sweeps/x0k5kbpt' target=\"_blank\">https://wandb.ai/dylan-home/pnca-af-singletons-sweep-w-mutation-feats/sweeps/x0k5kbpt</a>"
      ],
      "text/plain": [
       "<IPython.core.display.HTML object>"
      ]
     },
     "metadata": {},
     "output_type": "display_data"
    },
    {
     "data": {
      "text/html": [
       " View run at <a href='https://wandb.ai/dylan-home/pnca-af-singletons-sweep-w-mutation-feats/runs/2rsrzq7r' target=\"_blank\">https://wandb.ai/dylan-home/pnca-af-singletons-sweep-w-mutation-feats/runs/2rsrzq7r</a>"
      ],
      "text/plain": [
       "<IPython.core.display.HTML object>"
      ]
     },
     "metadata": {},
     "output_type": "display_data"
    },
    {
     "name": "stdout",
     "output_type": "stream",
     "text": [
      "Adjusting edge index and attaching edge weights for cutoff distance 8.554294805728848\n",
      "Using CUDA\n",
      "Early stopping enabled. Patience: 20. Min Delta: 0.\n",
      "Epoch: 010, Train Acc: 0.6358, Test Acc: 0.6200, Train Loss: 0.6415, Test Loss: 0.6546\n",
      "Epoch: 020, Train Acc: 0.6358, Test Acc: 0.6200, Train Loss: 0.7059, Test Loss: 0.6683\n",
      "Epoch: 030, Train Acc: 0.6358, Test Acc: 0.6200, Train Loss: 0.7005, Test Loss: 0.6730\n",
      "20 epochs passed without 0 test loss improvement. \n",
      "Early stopping triggered.\n"
     ]
    },
    {
     "data": {
      "text/html": [
       "<style>\n",
       "    table.wandb td:nth-child(1) { padding: 0 10px; text-align: left ; width: auto;} td:nth-child(2) {text-align: left ; width: 100%}\n",
       "    .wandb-row { display: flex; flex-direction: row; flex-wrap: wrap; justify-content: flex-start; width: 100% }\n",
       "    .wandb-col { display: flex; flex-direction: column; flex-basis: 100%; flex: 1; padding: 10px; }\n",
       "    </style>\n",
       "<div class=\"wandb-row\"><div class=\"wandb-col\"><h3>Run history:</h3><br/><table class=\"wandb\"><tr><td>Test Accuracy</td><td>▁▁▁▂▂▃▅▆████████████████████████</td></tr><tr><td>Test F1</td><td>▁▁▁▁▁▃▇█████████████████████████</td></tr><tr><td>Test Loss</td><td>█▆▅▄▄▃▂▂▁▁▁▁▁▁▁▁▁▁▁▁▁▁▁▂▂▂▂▂▂▂▂▂</td></tr><tr><td>Test Sensitivity</td><td>▁▁▁▁▁▂▇█████████████████████████</td></tr><tr><td>Test Specificity</td><td>▇▇▇███▁▁▂▂▂▂▂▂▂▂▂▂▂▂▂▂▂▂▂▂▂▂▂▂▂▂</td></tr><tr><td>Train Accuracy</td><td>▁▁▁▂▂▃▆▇████████████████████████</td></tr><tr><td>Train F1</td><td>▁▁▁▁▁▃██████████████████████████</td></tr><tr><td>Train Loss</td><td>█▆▅▄▃▃▂▂▁▁▁▁▁▁▂▂▂▂▂▂▂▂▂▂▂▂▂▂▂▂▂▂</td></tr><tr><td>Train Sensitivity</td><td>▁▁▁▁▁▂▇█▇▇▇▇▇▇▇▇▇▇▇▇▇▇▇▇▇▇▇▇▇▇▇▇</td></tr><tr><td>Train Specificity</td><td>▇▇▇███▂▁▃▃▃▃▃▃▃▃▃▃▃▃▃▃▃▃▃▃▃▃▃▃▃▃</td></tr></table><br/></div><div class=\"wandb-col\"><h3>Run summary:</h3><br/><table class=\"wandb\"><tr><td>Test Accuracy</td><td>0.62</td></tr><tr><td>Test F1</td><td>0.72464</td></tr><tr><td>Test Loss</td><td>0.67354</td></tr><tr><td>Test Sensitivity</td><td>0.97087</td></tr><tr><td>Test Specificity</td><td>0.24742</td></tr><tr><td>Train Accuracy</td><td>0.63578</td></tr><tr><td>Train F1</td><td>0.72066</td></tr><tr><td>Train Loss</td><td>0.6942</td></tr><tr><td>Train Sensitivity</td><td>0.88618</td></tr><tr><td>Train Specificity</td><td>0.35321</td></tr></table><br/></div></div>"
      ],
      "text/plain": [
       "<IPython.core.display.HTML object>"
      ]
     },
     "metadata": {},
     "output_type": "display_data"
    },
    {
     "data": {
      "text/html": [
       " View run <strong style=\"color:#cdcd00\">charmed-sweep-4</strong> at: <a href='https://wandb.ai/dylan-home/pnca-af-singletons-sweep-w-mutation-feats/runs/2rsrzq7r' target=\"_blank\">https://wandb.ai/dylan-home/pnca-af-singletons-sweep-w-mutation-feats/runs/2rsrzq7r</a><br/>Synced 5 W&B file(s), 0 media file(s), 0 artifact file(s) and 0 other file(s)"
      ],
      "text/plain": [
       "<IPython.core.display.HTML object>"
      ]
     },
     "metadata": {},
     "output_type": "display_data"
    },
    {
     "data": {
      "text/html": [
       "Find logs at: <code>./wandb/run-20250318_190427-2rsrzq7r/logs</code>"
      ],
      "text/plain": [
       "<IPython.core.display.HTML object>"
      ]
     },
     "metadata": {},
     "output_type": "display_data"
    },
    {
     "name": "stderr",
     "output_type": "stream",
     "text": [
      "\u001b[34m\u001b[1mwandb\u001b[0m: Sweep Agent: Waiting for job.\n",
      "\u001b[34m\u001b[1mwandb\u001b[0m: Job received.\n",
      "\u001b[34m\u001b[1mwandb\u001b[0m: Agent Starting Run: bf01dlqf with config:\n",
      "\u001b[34m\u001b[1mwandb\u001b[0m: \tcutoff_distance: 10.98172603912937\n",
      "\u001b[34m\u001b[1mwandb\u001b[0m: \tdropout: 0.2\n",
      "\u001b[34m\u001b[1mwandb\u001b[0m: \thidden_channels: 256\n",
      "\u001b[34m\u001b[1mwandb\u001b[0m: \tlearning_rate: 2.8814273978874205e-08\n",
      "\u001b[34m\u001b[1mwandb\u001b[0m: \tweight_decay: 7.817611681958289e-06\n",
      "Failed to detect the name of this notebook, you can set it manually with the WANDB_NOTEBOOK_NAME environment variable to enable code saving.\n",
      "/usr/lib/python3/dist-packages/requests/__init__.py:87: RequestsDependencyWarning: urllib3 (2.2.3) or chardet (4.0.0) doesn't match a supported version!\n",
      "  warnings.warn(\"urllib3 ({}) or chardet ({}) doesn't match a supported \"\n"
     ]
    },
    {
     "data": {
      "text/html": [
       "wandb version 0.19.8 is available!  To upgrade, please run:\n",
       " $ pip install wandb --upgrade"
      ],
      "text/plain": [
       "<IPython.core.display.HTML object>"
      ]
     },
     "metadata": {},
     "output_type": "display_data"
    },
    {
     "data": {
      "text/html": [
       "Tracking run with wandb version 0.16.4"
      ],
      "text/plain": [
       "<IPython.core.display.HTML object>"
      ]
     },
     "metadata": {},
     "output_type": "display_data"
    },
    {
     "data": {
      "text/html": [
       "Run data is saved locally in <code>/mnt/alphafold-volume-1/dylan2/repos/tb-pnca-gnn/dd_pnca/wandb/run-20250318_190539-bf01dlqf</code>"
      ],
      "text/plain": [
       "<IPython.core.display.HTML object>"
      ]
     },
     "metadata": {},
     "output_type": "display_data"
    },
    {
     "data": {
      "text/html": [
       "Syncing run <strong><a href='https://wandb.ai/dylan-home/pnca-af-singletons-sweep-w-mutation-feats/runs/bf01dlqf' target=\"_blank\">driven-sweep-5</a></strong> to <a href='https://wandb.ai/dylan-home/pnca-af-singletons-sweep-w-mutation-feats' target=\"_blank\">Weights & Biases</a> (<a href='https://wandb.me/run' target=\"_blank\">docs</a>)<br/>Sweep page: <a href='https://wandb.ai/dylan-home/pnca-af-singletons-sweep-w-mutation-feats/sweeps/x0k5kbpt' target=\"_blank\">https://wandb.ai/dylan-home/pnca-af-singletons-sweep-w-mutation-feats/sweeps/x0k5kbpt</a>"
      ],
      "text/plain": [
       "<IPython.core.display.HTML object>"
      ]
     },
     "metadata": {},
     "output_type": "display_data"
    },
    {
     "data": {
      "text/html": [
       " View project at <a href='https://wandb.ai/dylan-home/pnca-af-singletons-sweep-w-mutation-feats' target=\"_blank\">https://wandb.ai/dylan-home/pnca-af-singletons-sweep-w-mutation-feats</a>"
      ],
      "text/plain": [
       "<IPython.core.display.HTML object>"
      ]
     },
     "metadata": {},
     "output_type": "display_data"
    },
    {
     "data": {
      "text/html": [
       " View sweep at <a href='https://wandb.ai/dylan-home/pnca-af-singletons-sweep-w-mutation-feats/sweeps/x0k5kbpt' target=\"_blank\">https://wandb.ai/dylan-home/pnca-af-singletons-sweep-w-mutation-feats/sweeps/x0k5kbpt</a>"
      ],
      "text/plain": [
       "<IPython.core.display.HTML object>"
      ]
     },
     "metadata": {},
     "output_type": "display_data"
    },
    {
     "data": {
      "text/html": [
       " View run at <a href='https://wandb.ai/dylan-home/pnca-af-singletons-sweep-w-mutation-feats/runs/bf01dlqf' target=\"_blank\">https://wandb.ai/dylan-home/pnca-af-singletons-sweep-w-mutation-feats/runs/bf01dlqf</a>"
      ],
      "text/plain": [
       "<IPython.core.display.HTML object>"
      ]
     },
     "metadata": {},
     "output_type": "display_data"
    },
    {
     "name": "stdout",
     "output_type": "stream",
     "text": [
      "Adjusting edge index and attaching edge weights for cutoff distance 10.98172603912937\n",
      "Using CUDA\n",
      "Early stopping enabled. Patience: 20. Min Delta: 0.\n",
      "Epoch: 010, Train Acc: 0.3685, Test Acc: 0.3800, Train Loss: 1.8941, Test Loss: 1.6760\n",
      "Epoch: 020, Train Acc: 0.3750, Test Acc: 0.3900, Train Loss: 1.8829, Test Loss: 1.6696\n",
      "Epoch: 030, Train Acc: 0.3772, Test Acc: 0.3950, Train Loss: 1.8699, Test Loss: 1.6654\n",
      "Epoch: 040, Train Acc: 0.3772, Test Acc: 0.3900, Train Loss: 1.8725, Test Loss: 1.6610\n",
      "Epoch: 050, Train Acc: 0.3772, Test Acc: 0.3950, Train Loss: 1.8683, Test Loss: 1.6576\n",
      "Epoch: 060, Train Acc: 0.3772, Test Acc: 0.4050, Train Loss: 1.8899, Test Loss: 1.6533\n",
      "Epoch: 070, Train Acc: 0.3772, Test Acc: 0.4000, Train Loss: 1.8720, Test Loss: 1.6510\n",
      "Epoch: 080, Train Acc: 0.3772, Test Acc: 0.4000, Train Loss: 1.8613, Test Loss: 1.6488\n",
      "Epoch: 090, Train Acc: 0.3793, Test Acc: 0.4050, Train Loss: 1.8623, Test Loss: 1.6464\n",
      "Epoch: 100, Train Acc: 0.3772, Test Acc: 0.4000, Train Loss: 1.8704, Test Loss: 1.6411\n",
      "Epoch: 110, Train Acc: 0.3772, Test Acc: 0.4050, Train Loss: 1.8647, Test Loss: 1.6395\n",
      "Epoch: 120, Train Acc: 0.3772, Test Acc: 0.4000, Train Loss: 1.8588, Test Loss: 1.6353\n",
      "Epoch: 130, Train Acc: 0.3793, Test Acc: 0.4000, Train Loss: 1.8492, Test Loss: 1.6333\n",
      "Epoch: 140, Train Acc: 0.3772, Test Acc: 0.4000, Train Loss: 1.8490, Test Loss: 1.6333\n",
      "Epoch: 150, Train Acc: 0.3750, Test Acc: 0.4000, Train Loss: 1.8453, Test Loss: 1.6263\n",
      "Epoch: 160, Train Acc: 0.3750, Test Acc: 0.4000, Train Loss: 1.8351, Test Loss: 1.6223\n",
      "Epoch: 170, Train Acc: 0.3750, Test Acc: 0.4000, Train Loss: 1.8277, Test Loss: 1.6217\n",
      "Epoch: 180, Train Acc: 0.3750, Test Acc: 0.4000, Train Loss: 1.8021, Test Loss: 1.6182\n",
      "Epoch: 190, Train Acc: 0.3815, Test Acc: 0.4000, Train Loss: 1.8120, Test Loss: 1.6150\n",
      "Epoch: 200, Train Acc: 0.3815, Test Acc: 0.4100, Train Loss: 1.7948, Test Loss: 1.6117\n",
      "Epoch: 210, Train Acc: 0.3836, Test Acc: 0.4100, Train Loss: 1.8251, Test Loss: 1.6063\n",
      "Epoch: 220, Train Acc: 0.3836, Test Acc: 0.4100, Train Loss: 1.8132, Test Loss: 1.6031\n",
      "Epoch: 230, Train Acc: 0.3815, Test Acc: 0.4100, Train Loss: 1.7992, Test Loss: 1.6017\n",
      "Epoch: 240, Train Acc: 0.3901, Test Acc: 0.4100, Train Loss: 1.7945, Test Loss: 1.5977\n",
      "Epoch: 250, Train Acc: 0.3922, Test Acc: 0.4150, Train Loss: 1.7902, Test Loss: 1.5956\n",
      "Epoch: 260, Train Acc: 0.3901, Test Acc: 0.4100, Train Loss: 1.8008, Test Loss: 1.5933\n",
      "Epoch: 270, Train Acc: 0.3922, Test Acc: 0.4150, Train Loss: 1.7836, Test Loss: 1.5895\n",
      "Epoch: 280, Train Acc: 0.3836, Test Acc: 0.4100, Train Loss: 1.7874, Test Loss: 1.5868\n",
      "Epoch: 290, Train Acc: 0.3944, Test Acc: 0.4150, Train Loss: 1.7778, Test Loss: 1.5841\n",
      "Epoch: 300, Train Acc: 0.3922, Test Acc: 0.4150, Train Loss: 1.7670, Test Loss: 1.5814\n",
      "Epoch: 310, Train Acc: 0.3901, Test Acc: 0.4150, Train Loss: 1.7872, Test Loss: 1.5788\n",
      "Epoch: 320, Train Acc: 0.4030, Test Acc: 0.4150, Train Loss: 1.7843, Test Loss: 1.5748\n",
      "Epoch: 330, Train Acc: 0.4030, Test Acc: 0.4150, Train Loss: 1.7599, Test Loss: 1.5704\n",
      "Epoch: 340, Train Acc: 0.4030, Test Acc: 0.4150, Train Loss: 1.7558, Test Loss: 1.5677\n",
      "Epoch: 350, Train Acc: 0.4030, Test Acc: 0.4150, Train Loss: 1.7598, Test Loss: 1.5660\n",
      "Epoch: 360, Train Acc: 0.4030, Test Acc: 0.4150, Train Loss: 1.7779, Test Loss: 1.5628\n",
      "Epoch: 370, Train Acc: 0.4052, Test Acc: 0.4150, Train Loss: 1.7600, Test Loss: 1.5596\n",
      "Epoch: 380, Train Acc: 0.4030, Test Acc: 0.4150, Train Loss: 1.7568, Test Loss: 1.5566\n",
      "Epoch: 390, Train Acc: 0.4030, Test Acc: 0.4150, Train Loss: 1.7421, Test Loss: 1.5539\n",
      "Epoch: 400, Train Acc: 0.4073, Test Acc: 0.4150, Train Loss: 1.7482, Test Loss: 1.5500\n"
     ]
    },
    {
     "data": {
      "text/html": [
       "<style>\n",
       "    table.wandb td:nth-child(1) { padding: 0 10px; text-align: left ; width: auto;} td:nth-child(2) {text-align: left ; width: 100%}\n",
       "    .wandb-row { display: flex; flex-direction: row; flex-wrap: wrap; justify-content: flex-start; width: 100% }\n",
       "    .wandb-col { display: flex; flex-direction: column; flex-basis: 100%; flex: 1; padding: 10px; }\n",
       "    </style>\n",
       "<div class=\"wandb-row\"><div class=\"wandb-col\"><h3>Run history:</h3><br/><table class=\"wandb\"><tr><td>Test Accuracy</td><td>▁▂▃▅▅▃▅▅▅▅▅▅▅▅▅▅▅▅▅▇▇▇▅▇████████████████</td></tr><tr><td>Test F1</td><td>███▅██▅▅▅▅▅▅▅▅▅▅▅▅▅▅▅▅▅▅▁▅▅▁▅▁▁▁▁▁▁▁▁▁▁▁</td></tr><tr><td>Test Loss</td><td>█▃▃▃▃▃▃▃▃▃▃▃▃▃▃▂▂▂▂▂▂▂▂▂▂▂▂▂▂▂▂▂▁▁▁▁▁▁▁▁</td></tr><tr><td>Test Sensitivity</td><td>███▅██▅▅▅▅▅▅▅▅▅▅▅▅▅▅▅▅▅▅▁▅▅▁▅▁▁▁▁▁▁▁▁▁▁▁</td></tr><tr><td>Test Specificity</td><td>▁▂▃▅▄▃▅▅▅▅▅▅▅▅▅▅▅▅▅▆▆▆▅▆█▇▇█▇███████████</td></tr><tr><td>Train Accuracy</td><td>▁▂▃▃▃▃▃▃▃▃▃▃▃▃▃▃▃▃▃▄▄▄▄▄▆▅▅▆▅▆▆▇▇▇▇▇██▇█</td></tr><tr><td>Train F1</td><td>██▆▇▆▆▄▇▄▇▇▇▄▁▁▁▁▁▁▂▂▂▂▂▃▃▃▃▃▃▃▄▄▄▄▄▅▅▄▅</td></tr><tr><td>Train Loss</td><td>█▄▄▄▃▃▃▃▃▃▃▃▃▃▃▃▃▂▂▂▃▂▂▂▂▂▂▂▂▁▂▁▂▂▂▁▁▁▁▁</td></tr><tr><td>Train Sensitivity</td><td>██▆▆▆▆▃▆▃▆▆▆▃▁▁▁▁▁▁▁▁▁▁▁▁▁▁▁▁▁▁▁▁▁▁▁▁▁▁▁</td></tr><tr><td>Train Specificity</td><td>▁▂▃▃▃▃▃▃▃▃▃▃▃▃▃▄▃▃▄▅▄▄▄▅▆▆▆▆▆▆▆▇▇▇▇▇██▇█</td></tr></table><br/></div><div class=\"wandb-col\"><h3>Run summary:</h3><br/><table class=\"wandb\"><tr><td>Test Accuracy</td><td>0.415</td></tr><tr><td>Test F1</td><td>0.01681</td></tr><tr><td>Test Loss</td><td>1.55004</td></tr><tr><td>Test Sensitivity</td><td>0.00971</td></tr><tr><td>Test Specificity</td><td>0.84536</td></tr><tr><td>Train Accuracy</td><td>0.40733</td></tr><tr><td>Train F1</td><td>0.15385</td></tr><tr><td>Train Loss</td><td>1.74824</td></tr><tr><td>Train Sensitivity</td><td>0.10163</td></tr><tr><td>Train Specificity</td><td>0.75229</td></tr></table><br/></div></div>"
      ],
      "text/plain": [
       "<IPython.core.display.HTML object>"
      ]
     },
     "metadata": {},
     "output_type": "display_data"
    },
    {
     "data": {
      "text/html": [
       " View run <strong style=\"color:#cdcd00\">driven-sweep-5</strong> at: <a href='https://wandb.ai/dylan-home/pnca-af-singletons-sweep-w-mutation-feats/runs/bf01dlqf' target=\"_blank\">https://wandb.ai/dylan-home/pnca-af-singletons-sweep-w-mutation-feats/runs/bf01dlqf</a><br/>Synced 5 W&B file(s), 0 media file(s), 0 artifact file(s) and 0 other file(s)"
      ],
      "text/plain": [
       "<IPython.core.display.HTML object>"
      ]
     },
     "metadata": {},
     "output_type": "display_data"
    },
    {
     "data": {
      "text/html": [
       "Find logs at: <code>./wandb/run-20250318_190539-bf01dlqf/logs</code>"
      ],
      "text/plain": [
       "<IPython.core.display.HTML object>"
      ]
     },
     "metadata": {},
     "output_type": "display_data"
    },
    {
     "name": "stderr",
     "output_type": "stream",
     "text": [
      "\u001b[34m\u001b[1mwandb\u001b[0m: Agent Starting Run: z5vmq7h0 with config:\n",
      "\u001b[34m\u001b[1mwandb\u001b[0m: \tcutoff_distance: 5.220239545478079\n",
      "\u001b[34m\u001b[1mwandb\u001b[0m: \tdropout: 0.6\n",
      "\u001b[34m\u001b[1mwandb\u001b[0m: \thidden_channels: 256\n",
      "\u001b[34m\u001b[1mwandb\u001b[0m: \tlearning_rate: 0.09205130864488528\n",
      "\u001b[34m\u001b[1mwandb\u001b[0m: \tweight_decay: 2.1878980272641103e-08\n",
      "Failed to detect the name of this notebook, you can set it manually with the WANDB_NOTEBOOK_NAME environment variable to enable code saving.\n",
      "/usr/lib/python3/dist-packages/requests/__init__.py:87: RequestsDependencyWarning: urllib3 (2.2.3) or chardet (4.0.0) doesn't match a supported version!\n",
      "  warnings.warn(\"urllib3 ({}) or chardet ({}) doesn't match a supported \"\n"
     ]
    },
    {
     "data": {
      "text/html": [
       "wandb version 0.19.8 is available!  To upgrade, please run:\n",
       " $ pip install wandb --upgrade"
      ],
      "text/plain": [
       "<IPython.core.display.HTML object>"
      ]
     },
     "metadata": {},
     "output_type": "display_data"
    },
    {
     "data": {
      "text/html": [
       "Tracking run with wandb version 0.16.4"
      ],
      "text/plain": [
       "<IPython.core.display.HTML object>"
      ]
     },
     "metadata": {},
     "output_type": "display_data"
    },
    {
     "data": {
      "text/html": [
       "Run data is saved locally in <code>/mnt/alphafold-volume-1/dylan2/repos/tb-pnca-gnn/dd_pnca/wandb/run-20250318_190940-z5vmq7h0</code>"
      ],
      "text/plain": [
       "<IPython.core.display.HTML object>"
      ]
     },
     "metadata": {},
     "output_type": "display_data"
    },
    {
     "data": {
      "text/html": [
       "Syncing run <strong><a href='https://wandb.ai/dylan-home/pnca-af-singletons-sweep-w-mutation-feats/runs/z5vmq7h0' target=\"_blank\">olive-sweep-6</a></strong> to <a href='https://wandb.ai/dylan-home/pnca-af-singletons-sweep-w-mutation-feats' target=\"_blank\">Weights & Biases</a> (<a href='https://wandb.me/run' target=\"_blank\">docs</a>)<br/>Sweep page: <a href='https://wandb.ai/dylan-home/pnca-af-singletons-sweep-w-mutation-feats/sweeps/x0k5kbpt' target=\"_blank\">https://wandb.ai/dylan-home/pnca-af-singletons-sweep-w-mutation-feats/sweeps/x0k5kbpt</a>"
      ],
      "text/plain": [
       "<IPython.core.display.HTML object>"
      ]
     },
     "metadata": {},
     "output_type": "display_data"
    },
    {
     "data": {
      "text/html": [
       " View project at <a href='https://wandb.ai/dylan-home/pnca-af-singletons-sweep-w-mutation-feats' target=\"_blank\">https://wandb.ai/dylan-home/pnca-af-singletons-sweep-w-mutation-feats</a>"
      ],
      "text/plain": [
       "<IPython.core.display.HTML object>"
      ]
     },
     "metadata": {},
     "output_type": "display_data"
    },
    {
     "data": {
      "text/html": [
       " View sweep at <a href='https://wandb.ai/dylan-home/pnca-af-singletons-sweep-w-mutation-feats/sweeps/x0k5kbpt' target=\"_blank\">https://wandb.ai/dylan-home/pnca-af-singletons-sweep-w-mutation-feats/sweeps/x0k5kbpt</a>"
      ],
      "text/plain": [
       "<IPython.core.display.HTML object>"
      ]
     },
     "metadata": {},
     "output_type": "display_data"
    },
    {
     "data": {
      "text/html": [
       " View run at <a href='https://wandb.ai/dylan-home/pnca-af-singletons-sweep-w-mutation-feats/runs/z5vmq7h0' target=\"_blank\">https://wandb.ai/dylan-home/pnca-af-singletons-sweep-w-mutation-feats/runs/z5vmq7h0</a>"
      ],
      "text/plain": [
       "<IPython.core.display.HTML object>"
      ]
     },
     "metadata": {},
     "output_type": "display_data"
    },
    {
     "name": "stdout",
     "output_type": "stream",
     "text": [
      "Adjusting edge index and attaching edge weights for cutoff distance 5.220239545478079\n",
      "Using CUDA\n",
      "Early stopping enabled. Patience: 20. Min Delta: 0.\n",
      "Epoch: 010, Train Acc: 0.6207, Test Acc: 0.5900, Train Loss: 1.1393, Test Loss: 1.0728\n",
      "Epoch: 020, Train Acc: 0.4698, Test Acc: 0.4850, Train Loss: 0.8935, Test Loss: 0.8137\n",
      "Epoch: 030, Train Acc: 0.6422, Test Acc: 0.6250, Train Loss: 0.6476, Test Loss: 0.6682\n",
      "Epoch: 040, Train Acc: 0.6401, Test Acc: 0.6250, Train Loss: 0.6460, Test Loss: 0.6707\n",
      "20 epochs passed without 0 test loss improvement. \n",
      "Early stopping triggered.\n"
     ]
    },
    {
     "data": {
      "text/html": [
       "<style>\n",
       "    table.wandb td:nth-child(1) { padding: 0 10px; text-align: left ; width: auto;} td:nth-child(2) {text-align: left ; width: 100%}\n",
       "    .wandb-row { display: flex; flex-direction: row; flex-wrap: wrap; justify-content: flex-start; width: 100% }\n",
       "    .wandb-col { display: flex; flex-direction: column; flex-basis: 100%; flex: 1; padding: 10px; }\n",
       "    </style>\n",
       "<div class=\"wandb-row\"><div class=\"wandb-col\"><h3>Run history:</h3><br/><table class=\"wandb\"><tr><td>Test Accuracy</td><td>▃▁▃▁▆▁▁▁▆▆▆▁▁▆▅▁▁▆▄█████▁▆█▁█▇██████████</td></tr><tr><td>Test F1</td><td>█▁█▁█▁▁▁███▁▁██▁▁███████▁██▁████████████</td></tr><tr><td>Test Loss</td><td>█▁▂▂▁▁▁▁▁▁▁▁▁▁▁▁▁▁▁▁▁▁▁▁▁▁▁▁▁▁▁▁▁▁▁▁▁▁▁▁</td></tr><tr><td>Test Sensitivity</td><td>█▁█▁█▁▁▁███▁▁██▁▁███████▁██▁████████████</td></tr><tr><td>Test Specificity</td><td>▁█▁█▂███▂▂▂██▂▂██▂▁▃▃▃▃▃█▂▃█▃▂▃▃▃▃▃▃▃▃▃▃</td></tr><tr><td>Train Accuracy</td><td>▄▂▄▂▆▁▂▂▇▇▇▂▂▇▇▂▂▇▅█▇█▇▇▂▇█▂█▇██████████</td></tr><tr><td>Train F1</td><td>█▁█▁█▁▁▁███▁▁██▁▁███████▁██▁████████████</td></tr><tr><td>Train Loss</td><td>█▁▂▂▁▁▁▁▁▁▁▁▁▁▁▁▁▁▁▁▁▁▁▁▁▁▁▁▁▁▁▁▁▁▁▁▁▁▁▁</td></tr><tr><td>Train Sensitivity</td><td>█▁█▁█▁▁▁███▁▁██▁▁██▇▇▇▇▇▁█▇▁▇█▇▇▇▇▇▇▇▇▇▇</td></tr><tr><td>Train Specificity</td><td>▁█▁█▂███▃▂▂██▂▂██▃▂▃▃▃▃▃█▂▃█▃▃▃▃▃▃▃▃▃▃▃▃</td></tr></table><br/></div><div class=\"wandb-col\"><h3>Run summary:</h3><br/><table class=\"wandb\"><tr><td>Test Accuracy</td><td>0.62</td></tr><tr><td>Test F1</td><td>0.72464</td></tr><tr><td>Test Loss</td><td>0.66221</td></tr><tr><td>Test Sensitivity</td><td>0.97087</td></tr><tr><td>Test Specificity</td><td>0.24742</td></tr><tr><td>Train Accuracy</td><td>0.63793</td></tr><tr><td>Train F1</td><td>0.72368</td></tr><tr><td>Train Loss</td><td>0.64127</td></tr><tr><td>Train Sensitivity</td><td>0.89431</td></tr><tr><td>Train Specificity</td><td>0.34862</td></tr></table><br/></div></div>"
      ],
      "text/plain": [
       "<IPython.core.display.HTML object>"
      ]
     },
     "metadata": {},
     "output_type": "display_data"
    },
    {
     "data": {
      "text/html": [
       " View run <strong style=\"color:#cdcd00\">olive-sweep-6</strong> at: <a href='https://wandb.ai/dylan-home/pnca-af-singletons-sweep-w-mutation-feats/runs/z5vmq7h0' target=\"_blank\">https://wandb.ai/dylan-home/pnca-af-singletons-sweep-w-mutation-feats/runs/z5vmq7h0</a><br/>Synced 5 W&B file(s), 0 media file(s), 0 artifact file(s) and 0 other file(s)"
      ],
      "text/plain": [
       "<IPython.core.display.HTML object>"
      ]
     },
     "metadata": {},
     "output_type": "display_data"
    },
    {
     "data": {
      "text/html": [
       "Find logs at: <code>./wandb/run-20250318_190940-z5vmq7h0/logs</code>"
      ],
      "text/plain": [
       "<IPython.core.display.HTML object>"
      ]
     },
     "metadata": {},
     "output_type": "display_data"
    },
    {
     "name": "stderr",
     "output_type": "stream",
     "text": [
      "\u001b[34m\u001b[1mwandb\u001b[0m: Agent Starting Run: 3qb9lg13 with config:\n",
      "\u001b[34m\u001b[1mwandb\u001b[0m: \tcutoff_distance: 9.955393200791198\n",
      "\u001b[34m\u001b[1mwandb\u001b[0m: \tdropout: 0.4\n",
      "\u001b[34m\u001b[1mwandb\u001b[0m: \thidden_channels: 32\n",
      "\u001b[34m\u001b[1mwandb\u001b[0m: \tlearning_rate: 0.0003307996657316876\n",
      "\u001b[34m\u001b[1mwandb\u001b[0m: \tweight_decay: 0.0015072830185846966\n",
      "Failed to detect the name of this notebook, you can set it manually with the WANDB_NOTEBOOK_NAME environment variable to enable code saving.\n",
      "/usr/lib/python3/dist-packages/requests/__init__.py:87: RequestsDependencyWarning: urllib3 (2.2.3) or chardet (4.0.0) doesn't match a supported version!\n",
      "  warnings.warn(\"urllib3 ({}) or chardet ({}) doesn't match a supported \"\n"
     ]
    },
    {
     "data": {
      "text/html": [
       "wandb version 0.19.8 is available!  To upgrade, please run:\n",
       " $ pip install wandb --upgrade"
      ],
      "text/plain": [
       "<IPython.core.display.HTML object>"
      ]
     },
     "metadata": {},
     "output_type": "display_data"
    },
    {
     "data": {
      "text/html": [
       "Tracking run with wandb version 0.16.4"
      ],
      "text/plain": [
       "<IPython.core.display.HTML object>"
      ]
     },
     "metadata": {},
     "output_type": "display_data"
    },
    {
     "data": {
      "text/html": [
       "Run data is saved locally in <code>/mnt/alphafold-volume-1/dylan2/repos/tb-pnca-gnn/dd_pnca/wandb/run-20250318_191005-3qb9lg13</code>"
      ],
      "text/plain": [
       "<IPython.core.display.HTML object>"
      ]
     },
     "metadata": {},
     "output_type": "display_data"
    },
    {
     "data": {
      "text/html": [
       "Syncing run <strong><a href='https://wandb.ai/dylan-home/pnca-af-singletons-sweep-w-mutation-feats/runs/3qb9lg13' target=\"_blank\">pleasant-sweep-7</a></strong> to <a href='https://wandb.ai/dylan-home/pnca-af-singletons-sweep-w-mutation-feats' target=\"_blank\">Weights & Biases</a> (<a href='https://wandb.me/run' target=\"_blank\">docs</a>)<br/>Sweep page: <a href='https://wandb.ai/dylan-home/pnca-af-singletons-sweep-w-mutation-feats/sweeps/x0k5kbpt' target=\"_blank\">https://wandb.ai/dylan-home/pnca-af-singletons-sweep-w-mutation-feats/sweeps/x0k5kbpt</a>"
      ],
      "text/plain": [
       "<IPython.core.display.HTML object>"
      ]
     },
     "metadata": {},
     "output_type": "display_data"
    },
    {
     "data": {
      "text/html": [
       " View project at <a href='https://wandb.ai/dylan-home/pnca-af-singletons-sweep-w-mutation-feats' target=\"_blank\">https://wandb.ai/dylan-home/pnca-af-singletons-sweep-w-mutation-feats</a>"
      ],
      "text/plain": [
       "<IPython.core.display.HTML object>"
      ]
     },
     "metadata": {},
     "output_type": "display_data"
    },
    {
     "data": {
      "text/html": [
       " View sweep at <a href='https://wandb.ai/dylan-home/pnca-af-singletons-sweep-w-mutation-feats/sweeps/x0k5kbpt' target=\"_blank\">https://wandb.ai/dylan-home/pnca-af-singletons-sweep-w-mutation-feats/sweeps/x0k5kbpt</a>"
      ],
      "text/plain": [
       "<IPython.core.display.HTML object>"
      ]
     },
     "metadata": {},
     "output_type": "display_data"
    },
    {
     "data": {
      "text/html": [
       " View run at <a href='https://wandb.ai/dylan-home/pnca-af-singletons-sweep-w-mutation-feats/runs/3qb9lg13' target=\"_blank\">https://wandb.ai/dylan-home/pnca-af-singletons-sweep-w-mutation-feats/runs/3qb9lg13</a>"
      ],
      "text/plain": [
       "<IPython.core.display.HTML object>"
      ]
     },
     "metadata": {},
     "output_type": "display_data"
    },
    {
     "name": "stdout",
     "output_type": "stream",
     "text": [
      "Adjusting edge index and attaching edge weights for cutoff distance 9.955393200791198\n",
      "Using CUDA\n",
      "Early stopping enabled. Patience: 20. Min Delta: 0.\n",
      "Epoch: 010, Train Acc: 0.6336, Test Acc: 0.6150, Train Loss: 0.7593, Test Loss: 0.6557\n",
      "Epoch: 020, Train Acc: 0.6358, Test Acc: 0.6200, Train Loss: 0.6828, Test Loss: 0.6752\n",
      "20 epochs passed without 0 test loss improvement. \n",
      "Early stopping triggered.\n"
     ]
    },
    {
     "data": {
      "text/html": [
       "<style>\n",
       "    table.wandb td:nth-child(1) { padding: 0 10px; text-align: left ; width: auto;} td:nth-child(2) {text-align: left ; width: 100%}\n",
       "    .wandb-row { display: flex; flex-direction: row; flex-wrap: wrap; justify-content: flex-start; width: 100% }\n",
       "    .wandb-col { display: flex; flex-direction: column; flex-basis: 100%; flex: 1; padding: 10px; }\n",
       "    </style>\n",
       "<div class=\"wandb-row\"><div class=\"wandb-col\"><h3>Run history:</h3><br/><table class=\"wandb\"><tr><td>Test Accuracy</td><td>▁█████████▆▇▆▇▆██████▇▇▇▇▇███</td></tr><tr><td>Test F1</td><td>▅█████████▆▄▁▄▆██████████████</td></tr><tr><td>Test Loss</td><td>█▅▃▂▂▁▁▁▁▁▁▁▁▁▁▁▁▁▁▁▁▁▁▁▁▁▁▁▁</td></tr><tr><td>Test Sensitivity</td><td>█▇▇▇▇▇▇▇▇▇▆▃▁▃▆▇▇▇▇▇▇▇▇▇▇▇▇▇▇</td></tr><tr><td>Test Specificity</td><td>▁▄▄▄▄▄▄▄▄▄▄▆█▆▄▄▄▄▄▄▄▄▄▄▄▄▄▄▄</td></tr><tr><td>Train Accuracy</td><td>▁▇███████▇▇▃▂▃▆▇▇████████████</td></tr><tr><td>Train F1</td><td>▇█████████▇▄▁▄▇▇█████████████</td></tr><tr><td>Train Loss</td><td>█▅▃▂▂▁▁▁▁▁▁▁▁▁▁▁▁▁▁▁▁▁▁▁▁▁▁▁▁</td></tr><tr><td>Train Sensitivity</td><td>█▆▆▆▆▆▆▆▆▆▆▃▁▃▅▆▆▆▆▆▆▆▆▆▆▆▆▆▆</td></tr><tr><td>Train Specificity</td><td>▁▆▆▆▆▆▆▆▆▆▆▇█▇▆▆▆▆▆▆▆▆▆▆▆▆▆▆▆</td></tr></table><br/></div><div class=\"wandb-col\"><h3>Run summary:</h3><br/><table class=\"wandb\"><tr><td>Test Accuracy</td><td>0.62</td></tr><tr><td>Test F1</td><td>0.72464</td></tr><tr><td>Test Loss</td><td>0.67189</td></tr><tr><td>Test Sensitivity</td><td>0.97087</td></tr><tr><td>Test Specificity</td><td>0.24742</td></tr><tr><td>Train Accuracy</td><td>0.63578</td></tr><tr><td>Train F1</td><td>0.72066</td></tr><tr><td>Train Loss</td><td>0.66612</td></tr><tr><td>Train Sensitivity</td><td>0.88618</td></tr><tr><td>Train Specificity</td><td>0.35321</td></tr></table><br/></div></div>"
      ],
      "text/plain": [
       "<IPython.core.display.HTML object>"
      ]
     },
     "metadata": {},
     "output_type": "display_data"
    },
    {
     "data": {
      "text/html": [
       " View run <strong style=\"color:#cdcd00\">pleasant-sweep-7</strong> at: <a href='https://wandb.ai/dylan-home/pnca-af-singletons-sweep-w-mutation-feats/runs/3qb9lg13' target=\"_blank\">https://wandb.ai/dylan-home/pnca-af-singletons-sweep-w-mutation-feats/runs/3qb9lg13</a><br/>Synced 5 W&B file(s), 0 media file(s), 0 artifact file(s) and 0 other file(s)"
      ],
      "text/plain": [
       "<IPython.core.display.HTML object>"
      ]
     },
     "metadata": {},
     "output_type": "display_data"
    },
    {
     "data": {
      "text/html": [
       "Find logs at: <code>./wandb/run-20250318_191005-3qb9lg13/logs</code>"
      ],
      "text/plain": [
       "<IPython.core.display.HTML object>"
      ]
     },
     "metadata": {},
     "output_type": "display_data"
    },
    {
     "name": "stderr",
     "output_type": "stream",
     "text": [
      "\u001b[34m\u001b[1mwandb\u001b[0m: Agent Starting Run: jez2hj3z with config:\n",
      "\u001b[34m\u001b[1mwandb\u001b[0m: \tcutoff_distance: 6.963096537542119\n",
      "\u001b[34m\u001b[1mwandb\u001b[0m: \tdropout: 0.2\n",
      "\u001b[34m\u001b[1mwandb\u001b[0m: \thidden_channels: 256\n",
      "\u001b[34m\u001b[1mwandb\u001b[0m: \tlearning_rate: 0.08770114287943867\n",
      "\u001b[34m\u001b[1mwandb\u001b[0m: \tweight_decay: 3.685454927135777e-07\n",
      "Failed to detect the name of this notebook, you can set it manually with the WANDB_NOTEBOOK_NAME environment variable to enable code saving.\n",
      "/usr/lib/python3/dist-packages/requests/__init__.py:87: RequestsDependencyWarning: urllib3 (2.2.3) or chardet (4.0.0) doesn't match a supported version!\n",
      "  warnings.warn(\"urllib3 ({}) or chardet ({}) doesn't match a supported \"\n"
     ]
    },
    {
     "data": {
      "text/html": [
       "wandb version 0.19.8 is available!  To upgrade, please run:\n",
       " $ pip install wandb --upgrade"
      ],
      "text/plain": [
       "<IPython.core.display.HTML object>"
      ]
     },
     "metadata": {},
     "output_type": "display_data"
    },
    {
     "data": {
      "text/html": [
       "Tracking run with wandb version 0.16.4"
      ],
      "text/plain": [
       "<IPython.core.display.HTML object>"
      ]
     },
     "metadata": {},
     "output_type": "display_data"
    },
    {
     "data": {
      "text/html": [
       "Run data is saved locally in <code>/mnt/alphafold-volume-1/dylan2/repos/tb-pnca-gnn/dd_pnca/wandb/run-20250318_191137-jez2hj3z</code>"
      ],
      "text/plain": [
       "<IPython.core.display.HTML object>"
      ]
     },
     "metadata": {},
     "output_type": "display_data"
    },
    {
     "data": {
      "text/html": [
       "Syncing run <strong><a href='https://wandb.ai/dylan-home/pnca-af-singletons-sweep-w-mutation-feats/runs/jez2hj3z' target=\"_blank\">faithful-sweep-8</a></strong> to <a href='https://wandb.ai/dylan-home/pnca-af-singletons-sweep-w-mutation-feats' target=\"_blank\">Weights & Biases</a> (<a href='https://wandb.me/run' target=\"_blank\">docs</a>)<br/>Sweep page: <a href='https://wandb.ai/dylan-home/pnca-af-singletons-sweep-w-mutation-feats/sweeps/x0k5kbpt' target=\"_blank\">https://wandb.ai/dylan-home/pnca-af-singletons-sweep-w-mutation-feats/sweeps/x0k5kbpt</a>"
      ],
      "text/plain": [
       "<IPython.core.display.HTML object>"
      ]
     },
     "metadata": {},
     "output_type": "display_data"
    },
    {
     "data": {
      "text/html": [
       " View project at <a href='https://wandb.ai/dylan-home/pnca-af-singletons-sweep-w-mutation-feats' target=\"_blank\">https://wandb.ai/dylan-home/pnca-af-singletons-sweep-w-mutation-feats</a>"
      ],
      "text/plain": [
       "<IPython.core.display.HTML object>"
      ]
     },
     "metadata": {},
     "output_type": "display_data"
    },
    {
     "data": {
      "text/html": [
       " View sweep at <a href='https://wandb.ai/dylan-home/pnca-af-singletons-sweep-w-mutation-feats/sweeps/x0k5kbpt' target=\"_blank\">https://wandb.ai/dylan-home/pnca-af-singletons-sweep-w-mutation-feats/sweeps/x0k5kbpt</a>"
      ],
      "text/plain": [
       "<IPython.core.display.HTML object>"
      ]
     },
     "metadata": {},
     "output_type": "display_data"
    },
    {
     "data": {
      "text/html": [
       " View run at <a href='https://wandb.ai/dylan-home/pnca-af-singletons-sweep-w-mutation-feats/runs/jez2hj3z' target=\"_blank\">https://wandb.ai/dylan-home/pnca-af-singletons-sweep-w-mutation-feats/runs/jez2hj3z</a>"
      ],
      "text/plain": [
       "<IPython.core.display.HTML object>"
      ]
     },
     "metadata": {},
     "output_type": "display_data"
    },
    {
     "name": "stdout",
     "output_type": "stream",
     "text": [
      "Adjusting edge index and attaching edge weights for cutoff distance 6.963096537542119\n",
      "Using CUDA\n",
      "Early stopping enabled. Patience: 20. Min Delta: 0.\n",
      "Epoch: 010, Train Acc: 0.6358, Test Acc: 0.6200, Train Loss: 8.2360, Test Loss: 3.8568\n",
      "Epoch: 020, Train Acc: 0.5302, Test Acc: 0.5150, Train Loss: 2.8044, Test Loss: 2.2494\n",
      "Epoch: 030, Train Acc: 0.4203, Test Acc: 0.4500, Train Loss: 0.6932, Test Loss: 0.6840\n",
      "Epoch: 040, Train Acc: 0.6121, Test Acc: 0.5750, Train Loss: 0.6661, Test Loss: 0.6606\n",
      "Epoch: 050, Train Acc: 0.6121, Test Acc: 0.5750, Train Loss: 0.6522, Test Loss: 0.6643\n",
      "20 epochs passed without 0 test loss improvement. \n",
      "Early stopping triggered.\n"
     ]
    },
    {
     "data": {
      "text/html": [
       "<style>\n",
       "    table.wandb td:nth-child(1) { padding: 0 10px; text-align: left ; width: auto;} td:nth-child(2) {text-align: left ; width: 100%}\n",
       "    .wandb-row { display: flex; flex-direction: row; flex-wrap: wrap; justify-content: flex-start; width: 100% }\n",
       "    .wandb-col { display: flex; flex-direction: column; flex-basis: 100%; flex: 1; padding: 10px; }\n",
       "    </style>\n",
       "<div class=\"wandb-row\"><div class=\"wandb-col\"><h3>Run history:</h3><br/><table class=\"wandb\"><tr><td>Test Accuracy</td><td>▅▄▅▄█▇▅▄▄▂▇▇▆▅▁▄█▇▇▇▃▄▄▇▇▇▇▇▇▇▇▇▇▇▇▇▇▇▇▇</td></tr><tr><td>Test F1</td><td>█▁█▁███▁▁▁████▁▁████▁▁▁█████████████████</td></tr><tr><td>Test Loss</td><td>█▂▂▁▁▁▁▁▁▁▁▁▁▁▁▁▁▁▁▁▁▁▁▁▁▁▁▁▁▁▁▁▁▁▁▁▁▁▁▁</td></tr><tr><td>Test Sensitivity</td><td>█▁█▁███▁▁▁████▁▁████▁▁▁█████████████████</td></tr><tr><td>Test Specificity</td><td>▁█▁█▃▂▁██▇▂▂▁▁▇█▂▂▂▂▇██▂▂▂▂▂▂▂▂▂▂▂▂▂▂▂▂▂</td></tr><tr><td>Train Accuracy</td><td>▅▄▅▄█▇▅▄▄▁▇▇▆▅▁▄█▇▇▇▂▄▄▇▇▇▇▇▇▇▇▇▇▇▇▇▇▇▇▇</td></tr><tr><td>Train F1</td><td>█▁█▁███▁▁▁████▂▁████▁▁▁█████████████████</td></tr><tr><td>Train Loss</td><td>█▂▂▁▁▁▁▁▁▁▁▁▁▁▁▁▁▁▁▁▁▁▁▁▁▁▁▁▁▁▁▁▁▁▁▁▁▁▁▁</td></tr><tr><td>Train Sensitivity</td><td>█▁█▁▇██▁▁▁████▁▁████▁▁▁█████████████████</td></tr><tr><td>Train Specificity</td><td>▁█▁█▃▂▁██▇▂▂▂▁▆█▃▂▂▂▇██▂▂▂▂▂▂▂▂▂▂▂▂▂▂▂▂▂</td></tr></table><br/></div><div class=\"wandb-col\"><h3>Run summary:</h3><br/><table class=\"wandb\"><tr><td>Test Accuracy</td><td>0.575</td></tr><tr><td>Test F1</td><td>0.70383</td></tr><tr><td>Test Loss</td><td>0.66846</td></tr><tr><td>Test Sensitivity</td><td>0.98058</td></tr><tr><td>Test Specificity</td><td>0.14433</td></tr><tr><td>Train Accuracy</td><td>0.61207</td></tr><tr><td>Train F1</td><td>0.72644</td></tr><tr><td>Train Loss</td><td>0.6478</td></tr><tr><td>Train Sensitivity</td><td>0.97154</td></tr><tr><td>Train Specificity</td><td>0.20642</td></tr></table><br/></div></div>"
      ],
      "text/plain": [
       "<IPython.core.display.HTML object>"
      ]
     },
     "metadata": {},
     "output_type": "display_data"
    },
    {
     "data": {
      "text/html": [
       " View run <strong style=\"color:#cdcd00\">faithful-sweep-8</strong> at: <a href='https://wandb.ai/dylan-home/pnca-af-singletons-sweep-w-mutation-feats/runs/jez2hj3z' target=\"_blank\">https://wandb.ai/dylan-home/pnca-af-singletons-sweep-w-mutation-feats/runs/jez2hj3z</a><br/>Synced 5 W&B file(s), 0 media file(s), 0 artifact file(s) and 0 other file(s)"
      ],
      "text/plain": [
       "<IPython.core.display.HTML object>"
      ]
     },
     "metadata": {},
     "output_type": "display_data"
    },
    {
     "data": {
      "text/html": [
       "Find logs at: <code>./wandb/run-20250318_191137-jez2hj3z/logs</code>"
      ],
      "text/plain": [
       "<IPython.core.display.HTML object>"
      ]
     },
     "metadata": {},
     "output_type": "display_data"
    },
    {
     "name": "stderr",
     "output_type": "stream",
     "text": [
      "\u001b[34m\u001b[1mwandb\u001b[0m: Agent Starting Run: 0j36rj2m with config:\n",
      "\u001b[34m\u001b[1mwandb\u001b[0m: \tcutoff_distance: 6.904300011845394\n",
      "\u001b[34m\u001b[1mwandb\u001b[0m: \tdropout: 0.2\n",
      "\u001b[34m\u001b[1mwandb\u001b[0m: \thidden_channels: 64\n",
      "\u001b[34m\u001b[1mwandb\u001b[0m: \tlearning_rate: 2.570061721705067e-07\n",
      "\u001b[34m\u001b[1mwandb\u001b[0m: \tweight_decay: 0.000475125960489735\n",
      "Failed to detect the name of this notebook, you can set it manually with the WANDB_NOTEBOOK_NAME environment variable to enable code saving.\n",
      "/usr/lib/python3/dist-packages/requests/__init__.py:87: RequestsDependencyWarning: urllib3 (2.2.3) or chardet (4.0.0) doesn't match a supported version!\n",
      "  warnings.warn(\"urllib3 ({}) or chardet ({}) doesn't match a supported \"\n"
     ]
    },
    {
     "data": {
      "text/html": [
       "wandb version 0.19.8 is available!  To upgrade, please run:\n",
       " $ pip install wandb --upgrade"
      ],
      "text/plain": [
       "<IPython.core.display.HTML object>"
      ]
     },
     "metadata": {},
     "output_type": "display_data"
    },
    {
     "data": {
      "text/html": [
       "Tracking run with wandb version 0.16.4"
      ],
      "text/plain": [
       "<IPython.core.display.HTML object>"
      ]
     },
     "metadata": {},
     "output_type": "display_data"
    },
    {
     "data": {
      "text/html": [
       "Run data is saved locally in <code>/mnt/alphafold-volume-1/dylan2/repos/tb-pnca-gnn/dd_pnca/wandb/run-20250318_191229-0j36rj2m</code>"
      ],
      "text/plain": [
       "<IPython.core.display.HTML object>"
      ]
     },
     "metadata": {},
     "output_type": "display_data"
    },
    {
     "data": {
      "text/html": [
       "Syncing run <strong><a href='https://wandb.ai/dylan-home/pnca-af-singletons-sweep-w-mutation-feats/runs/0j36rj2m' target=\"_blank\">dazzling-sweep-9</a></strong> to <a href='https://wandb.ai/dylan-home/pnca-af-singletons-sweep-w-mutation-feats' target=\"_blank\">Weights & Biases</a> (<a href='https://wandb.me/run' target=\"_blank\">docs</a>)<br/>Sweep page: <a href='https://wandb.ai/dylan-home/pnca-af-singletons-sweep-w-mutation-feats/sweeps/x0k5kbpt' target=\"_blank\">https://wandb.ai/dylan-home/pnca-af-singletons-sweep-w-mutation-feats/sweeps/x0k5kbpt</a>"
      ],
      "text/plain": [
       "<IPython.core.display.HTML object>"
      ]
     },
     "metadata": {},
     "output_type": "display_data"
    },
    {
     "data": {
      "text/html": [
       " View project at <a href='https://wandb.ai/dylan-home/pnca-af-singletons-sweep-w-mutation-feats' target=\"_blank\">https://wandb.ai/dylan-home/pnca-af-singletons-sweep-w-mutation-feats</a>"
      ],
      "text/plain": [
       "<IPython.core.display.HTML object>"
      ]
     },
     "metadata": {},
     "output_type": "display_data"
    },
    {
     "data": {
      "text/html": [
       " View sweep at <a href='https://wandb.ai/dylan-home/pnca-af-singletons-sweep-w-mutation-feats/sweeps/x0k5kbpt' target=\"_blank\">https://wandb.ai/dylan-home/pnca-af-singletons-sweep-w-mutation-feats/sweeps/x0k5kbpt</a>"
      ],
      "text/plain": [
       "<IPython.core.display.HTML object>"
      ]
     },
     "metadata": {},
     "output_type": "display_data"
    },
    {
     "data": {
      "text/html": [
       " View run at <a href='https://wandb.ai/dylan-home/pnca-af-singletons-sweep-w-mutation-feats/runs/0j36rj2m' target=\"_blank\">https://wandb.ai/dylan-home/pnca-af-singletons-sweep-w-mutation-feats/runs/0j36rj2m</a>"
      ],
      "text/plain": [
       "<IPython.core.display.HTML object>"
      ]
     },
     "metadata": {},
     "output_type": "display_data"
    },
    {
     "name": "stdout",
     "output_type": "stream",
     "text": [
      "Adjusting edge index and attaching edge weights for cutoff distance 6.904300011845394\n",
      "Using CUDA\n",
      "Early stopping enabled. Patience: 20. Min Delta: 0.\n",
      "Epoch: 010, Train Acc: 0.5819, Test Acc: 0.5650, Train Loss: 0.6863, Test Loss: 0.6667\n",
      "Epoch: 020, Train Acc: 0.5905, Test Acc: 0.5700, Train Loss: 0.6847, Test Loss: 0.6621\n",
      "Epoch: 030, Train Acc: 0.5884, Test Acc: 0.5750, Train Loss: 0.6841, Test Loss: 0.6603\n",
      "Epoch: 040, Train Acc: 0.5884, Test Acc: 0.5750, Train Loss: 0.6846, Test Loss: 0.6599\n",
      "Epoch: 050, Train Acc: 0.5884, Test Acc: 0.5750, Train Loss: 0.6852, Test Loss: 0.6597\n",
      "Epoch: 060, Train Acc: 0.5862, Test Acc: 0.5750, Train Loss: 0.6841, Test Loss: 0.6596\n",
      "Epoch: 070, Train Acc: 0.5862, Test Acc: 0.5800, Train Loss: 0.6823, Test Loss: 0.6594\n",
      "Epoch: 080, Train Acc: 0.5862, Test Acc: 0.5800, Train Loss: 0.6827, Test Loss: 0.6593\n",
      "Epoch: 090, Train Acc: 0.5862, Test Acc: 0.5800, Train Loss: 0.6799, Test Loss: 0.6593\n",
      "Epoch: 100, Train Acc: 0.5862, Test Acc: 0.5850, Train Loss: 0.6830, Test Loss: 0.6591\n",
      "Epoch: 110, Train Acc: 0.5884, Test Acc: 0.5850, Train Loss: 0.6819, Test Loss: 0.6590\n",
      "Epoch: 120, Train Acc: 0.5905, Test Acc: 0.5850, Train Loss: 0.6809, Test Loss: 0.6588\n",
      "Epoch: 130, Train Acc: 0.5905, Test Acc: 0.5850, Train Loss: 0.6795, Test Loss: 0.6586\n",
      "Epoch: 140, Train Acc: 0.5927, Test Acc: 0.5850, Train Loss: 0.6799, Test Loss: 0.6586\n",
      "Epoch: 150, Train Acc: 0.5970, Test Acc: 0.5900, Train Loss: 0.6798, Test Loss: 0.6584\n",
      "Epoch: 160, Train Acc: 0.5991, Test Acc: 0.5900, Train Loss: 0.6780, Test Loss: 0.6582\n",
      "Epoch: 170, Train Acc: 0.6056, Test Acc: 0.6000, Train Loss: 0.6824, Test Loss: 0.6581\n",
      "Epoch: 180, Train Acc: 0.6056, Test Acc: 0.6000, Train Loss: 0.6797, Test Loss: 0.6579\n",
      "Epoch: 190, Train Acc: 0.6078, Test Acc: 0.6100, Train Loss: 0.6797, Test Loss: 0.6579\n",
      "Epoch: 200, Train Acc: 0.6099, Test Acc: 0.6100, Train Loss: 0.6792, Test Loss: 0.6577\n",
      "Epoch: 210, Train Acc: 0.6142, Test Acc: 0.6100, Train Loss: 0.6803, Test Loss: 0.6576\n",
      "Epoch: 220, Train Acc: 0.6207, Test Acc: 0.6150, Train Loss: 0.6807, Test Loss: 0.6575\n",
      "Epoch: 230, Train Acc: 0.6207, Test Acc: 0.6150, Train Loss: 0.6779, Test Loss: 0.6574\n",
      "Epoch: 240, Train Acc: 0.6207, Test Acc: 0.6200, Train Loss: 0.6770, Test Loss: 0.6571\n",
      "Epoch: 250, Train Acc: 0.6293, Test Acc: 0.6200, Train Loss: 0.6789, Test Loss: 0.6571\n",
      "Epoch: 260, Train Acc: 0.6315, Test Acc: 0.6200, Train Loss: 0.6770, Test Loss: 0.6570\n",
      "Epoch: 270, Train Acc: 0.6315, Test Acc: 0.6200, Train Loss: 0.6769, Test Loss: 0.6570\n",
      "Epoch: 280, Train Acc: 0.6315, Test Acc: 0.6200, Train Loss: 0.6782, Test Loss: 0.6568\n",
      "Epoch: 290, Train Acc: 0.6315, Test Acc: 0.6200, Train Loss: 0.6764, Test Loss: 0.6567\n",
      "Epoch: 300, Train Acc: 0.6336, Test Acc: 0.6200, Train Loss: 0.6789, Test Loss: 0.6566\n",
      "Epoch: 310, Train Acc: 0.6358, Test Acc: 0.6200, Train Loss: 0.6764, Test Loss: 0.6565\n",
      "Epoch: 320, Train Acc: 0.6358, Test Acc: 0.6200, Train Loss: 0.6735, Test Loss: 0.6563\n",
      "Epoch: 330, Train Acc: 0.6358, Test Acc: 0.6200, Train Loss: 0.6753, Test Loss: 0.6562\n",
      "Epoch: 340, Train Acc: 0.6358, Test Acc: 0.6200, Train Loss: 0.6739, Test Loss: 0.6561\n",
      "Epoch: 350, Train Acc: 0.6358, Test Acc: 0.6200, Train Loss: 0.6772, Test Loss: 0.6560\n",
      "Epoch: 360, Train Acc: 0.6358, Test Acc: 0.6200, Train Loss: 0.6755, Test Loss: 0.6559\n",
      "Epoch: 370, Train Acc: 0.6358, Test Acc: 0.6200, Train Loss: 0.6736, Test Loss: 0.6558\n",
      "Epoch: 380, Train Acc: 0.6358, Test Acc: 0.6200, Train Loss: 0.6756, Test Loss: 0.6557\n",
      "20 epochs passed without 0 test loss improvement. \n",
      "Early stopping triggered.\n"
     ]
    },
    {
     "data": {
      "text/html": [
       "<style>\n",
       "    table.wandb td:nth-child(1) { padding: 0 10px; text-align: left ; width: auto;} td:nth-child(2) {text-align: left ; width: 100%}\n",
       "    .wandb-row { display: flex; flex-direction: row; flex-wrap: wrap; justify-content: flex-start; width: 100% }\n",
       "    .wandb-col { display: flex; flex-direction: column; flex-basis: 100%; flex: 1; padding: 10px; }\n",
       "    </style>\n",
       "<div class=\"wandb-row\"><div class=\"wandb-col\"><h3>Run history:</h3><br/><table class=\"wandb\"><tr><td>Test Accuracy</td><td>█▁▄▄▄▄▄▄▄▄▅▅▅▅▅▅▅▆▆▇▇▇▇▇████████████████</td></tr><tr><td>Test F1</td><td>█▁▅▆▆▆▆▆▆▆▇▇▇▇▇▇▇▇▇████▇████████████████</td></tr><tr><td>Test Loss</td><td>▇█▅▄▄▄▄▄▃▃▃▃▃▃▃▃▃▃▃▃▂▂▂▂▂▂▂▂▂▂▂▂▂▁▁▁▁▁▁▁</td></tr><tr><td>Test Sensitivity</td><td>▇▁▆▇▇▇▇████████████████▇▇▇▇▇▇▇▇▇▇▇▇▇▇▇▇▇</td></tr><tr><td>Test Specificity</td><td>█▆▂▁▁▁▁▁▁▁▁▁▁▁▁▁▂▃▃▅▆▆▆▆▇███████████████</td></tr><tr><td>Train Accuracy</td><td>█▁▃▂▂▂▂▂▂▂▂▂▂▃▃▃▃▄▅▅▅▅▆▆▆▇▇▇▇▇▇█████████</td></tr><tr><td>Train F1</td><td>█▁▄▅▅▅▅▅▅▅▅▅▅▅▅▆▆▆▆▆▆▇▇▇▇███████████████</td></tr><tr><td>Train Loss</td><td>▁████▇█▇▇▇▇▆██▆▆▅▅▆▅▄▄▆▅▅▃▄▅▃▄▃▄▂▁▄▁▃▂▂▂</td></tr><tr><td>Train Sensitivity</td><td>▇▁▆█████████████████▇▇▇▇▇▇▇▇▇▇▇▇▇▇▇▇▇▇▇▇</td></tr><tr><td>Train Specificity</td><td>█▆▃▁▁▁▁▁▁▁▁▁▁▁▁▂▂▂▄▄▄▅▆▆▆▇▇▇▇▇▇█████████</td></tr></table><br/></div><div class=\"wandb-col\"><h3>Run summary:</h3><br/><table class=\"wandb\"><tr><td>Test Accuracy</td><td>0.62</td></tr><tr><td>Test F1</td><td>0.72464</td></tr><tr><td>Test Loss</td><td>0.65568</td></tr><tr><td>Test Sensitivity</td><td>0.97087</td></tr><tr><td>Test Specificity</td><td>0.24742</td></tr><tr><td>Train Accuracy</td><td>0.63578</td></tr><tr><td>Train F1</td><td>0.72066</td></tr><tr><td>Train Loss</td><td>0.67635</td></tr><tr><td>Train Sensitivity</td><td>0.88618</td></tr><tr><td>Train Specificity</td><td>0.35321</td></tr></table><br/></div></div>"
      ],
      "text/plain": [
       "<IPython.core.display.HTML object>"
      ]
     },
     "metadata": {},
     "output_type": "display_data"
    },
    {
     "data": {
      "text/html": [
       " View run <strong style=\"color:#cdcd00\">dazzling-sweep-9</strong> at: <a href='https://wandb.ai/dylan-home/pnca-af-singletons-sweep-w-mutation-feats/runs/0j36rj2m' target=\"_blank\">https://wandb.ai/dylan-home/pnca-af-singletons-sweep-w-mutation-feats/runs/0j36rj2m</a><br/>Synced 5 W&B file(s), 0 media file(s), 0 artifact file(s) and 0 other file(s)"
      ],
      "text/plain": [
       "<IPython.core.display.HTML object>"
      ]
     },
     "metadata": {},
     "output_type": "display_data"
    },
    {
     "data": {
      "text/html": [
       "Find logs at: <code>./wandb/run-20250318_191229-0j36rj2m/logs</code>"
      ],
      "text/plain": [
       "<IPython.core.display.HTML object>"
      ]
     },
     "metadata": {},
     "output_type": "display_data"
    },
    {
     "name": "stderr",
     "output_type": "stream",
     "text": [
      "\u001b[34m\u001b[1mwandb\u001b[0m: Agent Starting Run: ra1qc4vs with config:\n",
      "\u001b[34m\u001b[1mwandb\u001b[0m: \tcutoff_distance: 9.854658876939734\n",
      "\u001b[34m\u001b[1mwandb\u001b[0m: \tdropout: 0.6\n",
      "\u001b[34m\u001b[1mwandb\u001b[0m: \thidden_channels: 128\n",
      "\u001b[34m\u001b[1mwandb\u001b[0m: \tlearning_rate: 0.0013004803848588348\n",
      "\u001b[34m\u001b[1mwandb\u001b[0m: \tweight_decay: 1.5498517686769453e-07\n",
      "Failed to detect the name of this notebook, you can set it manually with the WANDB_NOTEBOOK_NAME environment variable to enable code saving.\n",
      "/usr/lib/python3/dist-packages/requests/__init__.py:87: RequestsDependencyWarning: urllib3 (2.2.3) or chardet (4.0.0) doesn't match a supported version!\n",
      "  warnings.warn(\"urllib3 ({}) or chardet ({}) doesn't match a supported \"\n"
     ]
    },
    {
     "data": {
      "text/html": [
       "wandb version 0.19.8 is available!  To upgrade, please run:\n",
       " $ pip install wandb --upgrade"
      ],
      "text/plain": [
       "<IPython.core.display.HTML object>"
      ]
     },
     "metadata": {},
     "output_type": "display_data"
    },
    {
     "data": {
      "text/html": [
       "Tracking run with wandb version 0.16.4"
      ],
      "text/plain": [
       "<IPython.core.display.HTML object>"
      ]
     },
     "metadata": {},
     "output_type": "display_data"
    },
    {
     "data": {
      "text/html": [
       "Run data is saved locally in <code>/mnt/alphafold-volume-1/dylan2/repos/tb-pnca-gnn/dd_pnca/wandb/run-20250318_191352-ra1qc4vs</code>"
      ],
      "text/plain": [
       "<IPython.core.display.HTML object>"
      ]
     },
     "metadata": {},
     "output_type": "display_data"
    },
    {
     "data": {
      "text/html": [
       "Syncing run <strong><a href='https://wandb.ai/dylan-home/pnca-af-singletons-sweep-w-mutation-feats/runs/ra1qc4vs' target=\"_blank\">whole-sweep-10</a></strong> to <a href='https://wandb.ai/dylan-home/pnca-af-singletons-sweep-w-mutation-feats' target=\"_blank\">Weights & Biases</a> (<a href='https://wandb.me/run' target=\"_blank\">docs</a>)<br/>Sweep page: <a href='https://wandb.ai/dylan-home/pnca-af-singletons-sweep-w-mutation-feats/sweeps/x0k5kbpt' target=\"_blank\">https://wandb.ai/dylan-home/pnca-af-singletons-sweep-w-mutation-feats/sweeps/x0k5kbpt</a>"
      ],
      "text/plain": [
       "<IPython.core.display.HTML object>"
      ]
     },
     "metadata": {},
     "output_type": "display_data"
    },
    {
     "data": {
      "text/html": [
       " View project at <a href='https://wandb.ai/dylan-home/pnca-af-singletons-sweep-w-mutation-feats' target=\"_blank\">https://wandb.ai/dylan-home/pnca-af-singletons-sweep-w-mutation-feats</a>"
      ],
      "text/plain": [
       "<IPython.core.display.HTML object>"
      ]
     },
     "metadata": {},
     "output_type": "display_data"
    },
    {
     "data": {
      "text/html": [
       " View sweep at <a href='https://wandb.ai/dylan-home/pnca-af-singletons-sweep-w-mutation-feats/sweeps/x0k5kbpt' target=\"_blank\">https://wandb.ai/dylan-home/pnca-af-singletons-sweep-w-mutation-feats/sweeps/x0k5kbpt</a>"
      ],
      "text/plain": [
       "<IPython.core.display.HTML object>"
      ]
     },
     "metadata": {},
     "output_type": "display_data"
    },
    {
     "data": {
      "text/html": [
       " View run at <a href='https://wandb.ai/dylan-home/pnca-af-singletons-sweep-w-mutation-feats/runs/ra1qc4vs' target=\"_blank\">https://wandb.ai/dylan-home/pnca-af-singletons-sweep-w-mutation-feats/runs/ra1qc4vs</a>"
      ],
      "text/plain": [
       "<IPython.core.display.HTML object>"
      ]
     },
     "metadata": {},
     "output_type": "display_data"
    },
    {
     "name": "stdout",
     "output_type": "stream",
     "text": [
      "Adjusting edge index and attaching edge weights for cutoff distance 9.854658876939734\n",
      "Using CUDA\n",
      "Early stopping enabled. Patience: 20. Min Delta: 0.\n",
      "Epoch: 010, Train Acc: 0.5259, Test Acc: 0.5050, Train Loss: 0.7313, Test Loss: 0.7551\n",
      "Epoch: 020, Train Acc: 0.6121, Test Acc: 0.6000, Train Loss: 0.6766, Test Loss: 0.6631\n",
      "Epoch: 030, Train Acc: 0.6358, Test Acc: 0.6200, Train Loss: 0.6707, Test Loss: 0.7135\n",
      "Epoch: 040, Train Acc: 0.6509, Test Acc: 0.6000, Train Loss: 0.6030, Test Loss: 0.6364\n",
      "Epoch: 050, Train Acc: 0.6875, Test Acc: 0.6400, Train Loss: 0.5819, Test Loss: 0.6137\n",
      "Epoch: 060, Train Acc: 0.6530, Test Acc: 0.6700, Train Loss: 0.6048, Test Loss: 0.6054\n",
      "Epoch: 070, Train Acc: 0.6767, Test Acc: 0.6600, Train Loss: 0.5807, Test Loss: 0.6424\n",
      "Epoch: 080, Train Acc: 0.7328, Test Acc: 0.7000, Train Loss: 0.5368, Test Loss: 0.5829\n",
      "Epoch: 090, Train Acc: 0.7263, Test Acc: 0.7150, Train Loss: 0.5389, Test Loss: 0.5889\n",
      "20 epochs passed without 0 test loss improvement. \n",
      "Early stopping triggered.\n"
     ]
    },
    {
     "data": {
      "text/html": [
       "<style>\n",
       "    table.wandb td:nth-child(1) { padding: 0 10px; text-align: left ; width: auto;} td:nth-child(2) {text-align: left ; width: 100%}\n",
       "    .wandb-row { display: flex; flex-direction: row; flex-wrap: wrap; justify-content: flex-start; width: 100% }\n",
       "    .wandb-col { display: flex; flex-direction: column; flex-basis: 100%; flex: 1; padding: 10px; }\n",
       "    </style>\n",
       "<div class=\"wandb-row\"><div class=\"wandb-col\"><h3>Run history:</h3><br/><table class=\"wandb\"><tr><td>Test Accuracy</td><td>▁▄▁▁▂▁▄▂▅▅▆▅▅▅▄▇▆▅▆▆▅▇▅▇▆▇█▇▆▆▇██▆▇█▇██▇</td></tr><tr><td>Test F1</td><td>▁█▁▁▃▁▄▄▅███████▇██████▇█▇▇▇█████▆▇███▇█</td></tr><tr><td>Test Loss</td><td>█▂▃▂▁▂▁▁▁▁▁▁▁▁▁▁▁▁▁▁▁▁▁▁▁▁▁▁▁▁▁▁▁▁▁▁▁▁▁▁</td></tr><tr><td>Test Sensitivity</td><td>▁█▁▁▂▁▃▂▃█▇████▆▆█▇▇█▇█▆▆▄▆▄▇█▆▆▆▄▅▆▇▆▅█</td></tr><tr><td>Test Specificity</td><td>█▁██▇██▇█▂▃▂▁▂▁▄▅▂▄▄▂▄▂▅▄▇▆▇▄▃▅▅▆▇▇▆▄▅▇▃</td></tr><tr><td>Train Accuracy</td><td>▁▅▁▁▂▁▄▃▅▅▆▆▅▆▅▇▇▆▇▇▆▇▆▇▇▆▇▆▇▇█▇█▆██▇██▇</td></tr><tr><td>Train F1</td><td>▁█▁▁▄▁▅▅▅██████▇▇████████▆▇▇█████▆▇█████</td></tr><tr><td>Train Loss</td><td>█▂▂▂▁▁▁▁▁▁▁▁▁▁▁▁▁▁▁▁▁▁▁▁▁▁▁▁▁▁▁▁▁▁▁▁▁▁▁▁</td></tr><tr><td>Train Sensitivity</td><td>▁█▁▁▃▁▃▃▃▇▇▇███▆▆█▇▇█▇█▆▇▄▆▄▇█▇▆▆▄▅▆▇▆▅▇</td></tr><tr><td>Train Specificity</td><td>█▁██▆██▆▇▂▃▂▂▂▁▅▅▂▄▄▂▄▂▅▅▇▆▇▄▃▅▅▆▇▇▆▄▅▇▃</td></tr></table><br/></div><div class=\"wandb-col\"><h3>Run summary:</h3><br/><table class=\"wandb\"><tr><td>Test Accuracy</td><td>0.665</td></tr><tr><td>Test F1</td><td>0.7393</td></tr><tr><td>Test Loss</td><td>0.62626</td></tr><tr><td>Test Sensitivity</td><td>0.92233</td></tr><tr><td>Test Specificity</td><td>0.39175</td></tr><tr><td>Train Accuracy</td><td>0.68319</td></tr><tr><td>Train F1</td><td>0.75042</td></tr><tr><td>Train Loss</td><td>0.56603</td></tr><tr><td>Train Sensitivity</td><td>0.89837</td></tr><tr><td>Train Specificity</td><td>0.44037</td></tr></table><br/></div></div>"
      ],
      "text/plain": [
       "<IPython.core.display.HTML object>"
      ]
     },
     "metadata": {},
     "output_type": "display_data"
    },
    {
     "data": {
      "text/html": [
       " View run <strong style=\"color:#cdcd00\">whole-sweep-10</strong> at: <a href='https://wandb.ai/dylan-home/pnca-af-singletons-sweep-w-mutation-feats/runs/ra1qc4vs' target=\"_blank\">https://wandb.ai/dylan-home/pnca-af-singletons-sweep-w-mutation-feats/runs/ra1qc4vs</a><br/>Synced 5 W&B file(s), 0 media file(s), 0 artifact file(s) and 0 other file(s)"
      ],
      "text/plain": [
       "<IPython.core.display.HTML object>"
      ]
     },
     "metadata": {},
     "output_type": "display_data"
    },
    {
     "data": {
      "text/html": [
       "Find logs at: <code>./wandb/run-20250318_191352-ra1qc4vs/logs</code>"
      ],
      "text/plain": [
       "<IPython.core.display.HTML object>"
      ]
     },
     "metadata": {},
     "output_type": "display_data"
    },
    {
     "name": "stderr",
     "output_type": "stream",
     "text": [
      "\u001b[34m\u001b[1mwandb\u001b[0m: Agent Starting Run: 7ajw3qqn with config:\n",
      "\u001b[34m\u001b[1mwandb\u001b[0m: \tcutoff_distance: 7.215830817453146\n",
      "\u001b[34m\u001b[1mwandb\u001b[0m: \tdropout: 0.5\n",
      "\u001b[34m\u001b[1mwandb\u001b[0m: \thidden_channels: 64\n",
      "\u001b[34m\u001b[1mwandb\u001b[0m: \tlearning_rate: 0.0014829865186178522\n",
      "\u001b[34m\u001b[1mwandb\u001b[0m: \tweight_decay: 2.932826396241491e-05\n",
      "Failed to detect the name of this notebook, you can set it manually with the WANDB_NOTEBOOK_NAME environment variable to enable code saving.\n",
      "/usr/lib/python3/dist-packages/requests/__init__.py:87: RequestsDependencyWarning: urllib3 (2.2.3) or chardet (4.0.0) doesn't match a supported version!\n",
      "  warnings.warn(\"urllib3 ({}) or chardet ({}) doesn't match a supported \"\n"
     ]
    },
    {
     "data": {
      "text/html": [
       "wandb version 0.19.8 is available!  To upgrade, please run:\n",
       " $ pip install wandb --upgrade"
      ],
      "text/plain": [
       "<IPython.core.display.HTML object>"
      ]
     },
     "metadata": {},
     "output_type": "display_data"
    },
    {
     "data": {
      "text/html": [
       "Tracking run with wandb version 0.16.4"
      ],
      "text/plain": [
       "<IPython.core.display.HTML object>"
      ]
     },
     "metadata": {},
     "output_type": "display_data"
    },
    {
     "data": {
      "text/html": [
       "Run data is saved locally in <code>/mnt/alphafold-volume-1/dylan2/repos/tb-pnca-gnn/dd_pnca/wandb/run-20250318_191534-7ajw3qqn</code>"
      ],
      "text/plain": [
       "<IPython.core.display.HTML object>"
      ]
     },
     "metadata": {},
     "output_type": "display_data"
    },
    {
     "data": {
      "text/html": [
       "Syncing run <strong><a href='https://wandb.ai/dylan-home/pnca-af-singletons-sweep-w-mutation-feats/runs/7ajw3qqn' target=\"_blank\">fancy-sweep-11</a></strong> to <a href='https://wandb.ai/dylan-home/pnca-af-singletons-sweep-w-mutation-feats' target=\"_blank\">Weights & Biases</a> (<a href='https://wandb.me/run' target=\"_blank\">docs</a>)<br/>Sweep page: <a href='https://wandb.ai/dylan-home/pnca-af-singletons-sweep-w-mutation-feats/sweeps/x0k5kbpt' target=\"_blank\">https://wandb.ai/dylan-home/pnca-af-singletons-sweep-w-mutation-feats/sweeps/x0k5kbpt</a>"
      ],
      "text/plain": [
       "<IPython.core.display.HTML object>"
      ]
     },
     "metadata": {},
     "output_type": "display_data"
    },
    {
     "data": {
      "text/html": [
       " View project at <a href='https://wandb.ai/dylan-home/pnca-af-singletons-sweep-w-mutation-feats' target=\"_blank\">https://wandb.ai/dylan-home/pnca-af-singletons-sweep-w-mutation-feats</a>"
      ],
      "text/plain": [
       "<IPython.core.display.HTML object>"
      ]
     },
     "metadata": {},
     "output_type": "display_data"
    },
    {
     "data": {
      "text/html": [
       " View sweep at <a href='https://wandb.ai/dylan-home/pnca-af-singletons-sweep-w-mutation-feats/sweeps/x0k5kbpt' target=\"_blank\">https://wandb.ai/dylan-home/pnca-af-singletons-sweep-w-mutation-feats/sweeps/x0k5kbpt</a>"
      ],
      "text/plain": [
       "<IPython.core.display.HTML object>"
      ]
     },
     "metadata": {},
     "output_type": "display_data"
    },
    {
     "data": {
      "text/html": [
       " View run at <a href='https://wandb.ai/dylan-home/pnca-af-singletons-sweep-w-mutation-feats/runs/7ajw3qqn' target=\"_blank\">https://wandb.ai/dylan-home/pnca-af-singletons-sweep-w-mutation-feats/runs/7ajw3qqn</a>"
      ],
      "text/plain": [
       "<IPython.core.display.HTML object>"
      ]
     },
     "metadata": {},
     "output_type": "display_data"
    },
    {
     "name": "stdout",
     "output_type": "stream",
     "text": [
      "Adjusting edge index and attaching edge weights for cutoff distance 7.215830817453146\n",
      "Using CUDA\n",
      "Early stopping enabled. Patience: 20. Min Delta: 0.\n",
      "Epoch: 010, Train Acc: 0.6422, Test Acc: 0.6150, Train Loss: 0.6568, Test Loss: 0.6474\n",
      "Epoch: 020, Train Acc: 0.6358, Test Acc: 0.6200, Train Loss: 0.6311, Test Loss: 0.6457\n",
      "Epoch: 030, Train Acc: 0.6358, Test Acc: 0.6250, Train Loss: 0.6138, Test Loss: 0.6278\n",
      "Epoch: 040, Train Acc: 0.6616, Test Acc: 0.6350, Train Loss: 0.5931, Test Loss: 0.6091\n",
      "Epoch: 050, Train Acc: 0.6961, Test Acc: 0.6400, Train Loss: 0.5762, Test Loss: 0.6050\n",
      "Epoch: 060, Train Acc: 0.7155, Test Acc: 0.6800, Train Loss: 0.5631, Test Loss: 0.5874\n",
      "Epoch: 070, Train Acc: 0.7047, Test Acc: 0.6800, Train Loss: 0.5488, Test Loss: 0.5954\n",
      "Epoch: 080, Train Acc: 0.7220, Test Acc: 0.6750, Train Loss: 0.5455, Test Loss: 0.5744\n",
      "Epoch: 090, Train Acc: 0.6638, Test Acc: 0.6150, Train Loss: 0.5858, Test Loss: 0.6231\n",
      "20 epochs passed without 0 test loss improvement. \n",
      "Early stopping triggered.\n"
     ]
    },
    {
     "data": {
      "text/html": [
       "<style>\n",
       "    table.wandb td:nth-child(1) { padding: 0 10px; text-align: left ; width: auto;} td:nth-child(2) {text-align: left ; width: 100%}\n",
       "    .wandb-row { display: flex; flex-direction: row; flex-wrap: wrap; justify-content: flex-start; width: 100% }\n",
       "    .wandb-col { display: flex; flex-direction: column; flex-basis: 100%; flex: 1; padding: 10px; }\n",
       "    </style>\n",
       "<div class=\"wandb-row\"><div class=\"wandb-col\"><h3>Run history:</h3><br/><table class=\"wandb\"><tr><td>Test Accuracy</td><td>▁▁▄▄▃▄▄▃▄▄▄▄▃▄▃▃▃▅▄▆▆▄▇▆▇▇█▇█▇▅▇▆▇█▆▃▃▆▆</td></tr><tr><td>Test F1</td><td>▆▆██▅██▂████▆████▇▆▇▇▇▁▇▂▆▄▃▃▆█▆█▄▆▆█▇▅█</td></tr><tr><td>Test Loss</td><td>█▄▃▃▃▃▃▃▃▃▃▃▃▃▃▃▃▂▂▂▂▂▂▂▂▁▁▂▁▂▂▁▂▁▁▂▅▂▂▂</td></tr><tr><td>Test Sensitivity</td><td>████▆██▄████▇████▆▆▅▅▇▁▆▂▄▂▂▂▄▇▄▇▃▄▄█▇▅▆</td></tr><tr><td>Test Specificity</td><td>▁▁▂▂▃▂▂▅▂▂▂▂▂▂▂▂▂▄▃▅▅▃█▅▇▆▇▇▇▆▃▆▄▇▆▅▂▂▅▄</td></tr><tr><td>Train Accuracy</td><td>▁▁▂▂▃▂▂▂▂▂▃▂▃▂▃▃▃▄▅▇▆▅▇▆▇██▇▇▇▅▇▅██▇▃▄▇▆</td></tr><tr><td>Train F1</td><td>▆▆▆▆▄▆▆▁▆▆▆▆▆▆▆▆▆▆▇▇▆█▂▇▄█▅▄▄▆▇▆█▆▇█▇▇██</td></tr><tr><td>Train Loss</td><td>█▄▄▄▄▄▄▄▄▄▃▃▃▃▃▃▃▂▂▂▂▂▂▂▂▂▂▂▂▁▂▁▂▁▁▁▄▂▁▁</td></tr><tr><td>Train Sensitivity</td><td>██▇▇▄▇▇▂▇▇▇▇▆▇▇▇▇▆▆▅▅▇▁▆▂▅▂▂▂▄▇▄▇▃▅▅▇▇▆▇</td></tr><tr><td>Train Specificity</td><td>▁▁▃▃▄▃▃▆▃▃▃▃▃▃▂▂▂▄▄▅▅▃█▅█▆▇██▆▃▆▃▇▆▅▂▃▄▄</td></tr></table><br/></div><div class=\"wandb-col\"><h3>Run summary:</h3><br/><table class=\"wandb\"><tr><td>Test Accuracy</td><td>0.66</td></tr><tr><td>Test F1</td><td>0.72581</td></tr><tr><td>Test Loss</td><td>0.61158</td></tr><tr><td>Test Sensitivity</td><td>0.87379</td></tr><tr><td>Test Specificity</td><td>0.43299</td></tr><tr><td>Train Accuracy</td><td>0.68966</td></tr><tr><td>Train F1</td><td>0.75342</td></tr><tr><td>Train Loss</td><td>0.55399</td></tr><tr><td>Train Sensitivity</td><td>0.89431</td></tr><tr><td>Train Specificity</td><td>0.45872</td></tr></table><br/></div></div>"
      ],
      "text/plain": [
       "<IPython.core.display.HTML object>"
      ]
     },
     "metadata": {},
     "output_type": "display_data"
    },
    {
     "data": {
      "text/html": [
       " View run <strong style=\"color:#cdcd00\">fancy-sweep-11</strong> at: <a href='https://wandb.ai/dylan-home/pnca-af-singletons-sweep-w-mutation-feats/runs/7ajw3qqn' target=\"_blank\">https://wandb.ai/dylan-home/pnca-af-singletons-sweep-w-mutation-feats/runs/7ajw3qqn</a><br/>Synced 5 W&B file(s), 0 media file(s), 0 artifact file(s) and 0 other file(s)"
      ],
      "text/plain": [
       "<IPython.core.display.HTML object>"
      ]
     },
     "metadata": {},
     "output_type": "display_data"
    },
    {
     "data": {
      "text/html": [
       "Find logs at: <code>./wandb/run-20250318_191534-7ajw3qqn/logs</code>"
      ],
      "text/plain": [
       "<IPython.core.display.HTML object>"
      ]
     },
     "metadata": {},
     "output_type": "display_data"
    },
    {
     "name": "stderr",
     "output_type": "stream",
     "text": [
      "\u001b[34m\u001b[1mwandb\u001b[0m: Agent Starting Run: z7ze4fkk with config:\n",
      "\u001b[34m\u001b[1mwandb\u001b[0m: \tcutoff_distance: 9.612295047875987\n",
      "\u001b[34m\u001b[1mwandb\u001b[0m: \tdropout: 0.4\n",
      "\u001b[34m\u001b[1mwandb\u001b[0m: \thidden_channels: 32\n",
      "\u001b[34m\u001b[1mwandb\u001b[0m: \tlearning_rate: 1.1357400467845429e-05\n",
      "\u001b[34m\u001b[1mwandb\u001b[0m: \tweight_decay: 8.95353403525266e-06\n",
      "Failed to detect the name of this notebook, you can set it manually with the WANDB_NOTEBOOK_NAME environment variable to enable code saving.\n",
      "/usr/lib/python3/dist-packages/requests/__init__.py:87: RequestsDependencyWarning: urllib3 (2.2.3) or chardet (4.0.0) doesn't match a supported version!\n",
      "  warnings.warn(\"urllib3 ({}) or chardet ({}) doesn't match a supported \"\n"
     ]
    },
    {
     "data": {
      "text/html": [
       "wandb version 0.19.8 is available!  To upgrade, please run:\n",
       " $ pip install wandb --upgrade"
      ],
      "text/plain": [
       "<IPython.core.display.HTML object>"
      ]
     },
     "metadata": {},
     "output_type": "display_data"
    },
    {
     "data": {
      "text/html": [
       "Tracking run with wandb version 0.16.4"
      ],
      "text/plain": [
       "<IPython.core.display.HTML object>"
      ]
     },
     "metadata": {},
     "output_type": "display_data"
    },
    {
     "data": {
      "text/html": [
       "Run data is saved locally in <code>/mnt/alphafold-volume-1/dylan2/repos/tb-pnca-gnn/dd_pnca/wandb/run-20250318_191631-z7ze4fkk</code>"
      ],
      "text/plain": [
       "<IPython.core.display.HTML object>"
      ]
     },
     "metadata": {},
     "output_type": "display_data"
    },
    {
     "data": {
      "text/html": [
       "Syncing run <strong><a href='https://wandb.ai/dylan-home/pnca-af-singletons-sweep-w-mutation-feats/runs/z7ze4fkk' target=\"_blank\">kind-sweep-12</a></strong> to <a href='https://wandb.ai/dylan-home/pnca-af-singletons-sweep-w-mutation-feats' target=\"_blank\">Weights & Biases</a> (<a href='https://wandb.me/run' target=\"_blank\">docs</a>)<br/>Sweep page: <a href='https://wandb.ai/dylan-home/pnca-af-singletons-sweep-w-mutation-feats/sweeps/x0k5kbpt' target=\"_blank\">https://wandb.ai/dylan-home/pnca-af-singletons-sweep-w-mutation-feats/sweeps/x0k5kbpt</a>"
      ],
      "text/plain": [
       "<IPython.core.display.HTML object>"
      ]
     },
     "metadata": {},
     "output_type": "display_data"
    },
    {
     "data": {
      "text/html": [
       " View project at <a href='https://wandb.ai/dylan-home/pnca-af-singletons-sweep-w-mutation-feats' target=\"_blank\">https://wandb.ai/dylan-home/pnca-af-singletons-sweep-w-mutation-feats</a>"
      ],
      "text/plain": [
       "<IPython.core.display.HTML object>"
      ]
     },
     "metadata": {},
     "output_type": "display_data"
    },
    {
     "data": {
      "text/html": [
       " View sweep at <a href='https://wandb.ai/dylan-home/pnca-af-singletons-sweep-w-mutation-feats/sweeps/x0k5kbpt' target=\"_blank\">https://wandb.ai/dylan-home/pnca-af-singletons-sweep-w-mutation-feats/sweeps/x0k5kbpt</a>"
      ],
      "text/plain": [
       "<IPython.core.display.HTML object>"
      ]
     },
     "metadata": {},
     "output_type": "display_data"
    },
    {
     "data": {
      "text/html": [
       " View run at <a href='https://wandb.ai/dylan-home/pnca-af-singletons-sweep-w-mutation-feats/runs/z7ze4fkk' target=\"_blank\">https://wandb.ai/dylan-home/pnca-af-singletons-sweep-w-mutation-feats/runs/z7ze4fkk</a>"
      ],
      "text/plain": [
       "<IPython.core.display.HTML object>"
      ]
     },
     "metadata": {},
     "output_type": "display_data"
    },
    {
     "name": "stdout",
     "output_type": "stream",
     "text": [
      "Adjusting edge index and attaching edge weights for cutoff distance 9.612295047875987\n",
      "Using CUDA\n",
      "Early stopping enabled. Patience: 20. Min Delta: 0.\n",
      "Epoch: 010, Train Acc: 0.5302, Test Acc: 0.5150, Train Loss: 1.1318, Test Loss: 1.1115\n",
      "Epoch: 020, Train Acc: 0.5302, Test Acc: 0.5150, Train Loss: 1.1248, Test Loss: 1.0751\n",
      "Epoch: 030, Train Acc: 0.5302, Test Acc: 0.5150, Train Loss: 1.0963, Test Loss: 1.0397\n",
      "Epoch: 040, Train Acc: 0.5302, Test Acc: 0.5150, Train Loss: 1.0517, Test Loss: 1.0017\n",
      "Epoch: 050, Train Acc: 0.5302, Test Acc: 0.5150, Train Loss: 0.9881, Test Loss: 0.9632\n",
      "Epoch: 060, Train Acc: 0.5302, Test Acc: 0.5150, Train Loss: 0.9471, Test Loss: 0.9283\n",
      "Epoch: 070, Train Acc: 0.5302, Test Acc: 0.5150, Train Loss: 0.9009, Test Loss: 0.8944\n",
      "Epoch: 080, Train Acc: 0.5302, Test Acc: 0.5150, Train Loss: 0.8626, Test Loss: 0.8632\n",
      "Epoch: 090, Train Acc: 0.5302, Test Acc: 0.5150, Train Loss: 0.8294, Test Loss: 0.8372\n",
      "Epoch: 100, Train Acc: 0.5797, Test Acc: 0.5500, Train Loss: 0.7940, Test Loss: 0.8129\n",
      "Epoch: 110, Train Acc: 0.5797, Test Acc: 0.5500, Train Loss: 0.7748, Test Loss: 0.7907\n",
      "Epoch: 120, Train Acc: 0.5797, Test Acc: 0.5500, Train Loss: 0.7519, Test Loss: 0.7708\n",
      "Epoch: 130, Train Acc: 0.6078, Test Acc: 0.5800, Train Loss: 0.7294, Test Loss: 0.7523\n",
      "Epoch: 140, Train Acc: 0.6099, Test Acc: 0.5850, Train Loss: 0.7088, Test Loss: 0.7359\n",
      "Epoch: 150, Train Acc: 0.6056, Test Acc: 0.5850, Train Loss: 0.6992, Test Loss: 0.7229\n",
      "Epoch: 160, Train Acc: 0.6121, Test Acc: 0.5900, Train Loss: 0.6860, Test Loss: 0.7109\n",
      "Epoch: 170, Train Acc: 0.6315, Test Acc: 0.6150, Train Loss: 0.6701, Test Loss: 0.7021\n",
      "Epoch: 180, Train Acc: 0.6336, Test Acc: 0.6200, Train Loss: 0.6673, Test Loss: 0.6937\n",
      "Epoch: 190, Train Acc: 0.6358, Test Acc: 0.6200, Train Loss: 0.6617, Test Loss: 0.6866\n",
      "Epoch: 200, Train Acc: 0.6358, Test Acc: 0.6200, Train Loss: 0.6561, Test Loss: 0.6810\n",
      "Epoch: 210, Train Acc: 0.6358, Test Acc: 0.6200, Train Loss: 0.6541, Test Loss: 0.6758\n",
      "Epoch: 220, Train Acc: 0.6358, Test Acc: 0.6200, Train Loss: 0.6508, Test Loss: 0.6720\n",
      "Epoch: 230, Train Acc: 0.6358, Test Acc: 0.6200, Train Loss: 0.6519, Test Loss: 0.6691\n",
      "Epoch: 240, Train Acc: 0.6358, Test Acc: 0.6200, Train Loss: 0.6495, Test Loss: 0.6664\n",
      "Epoch: 250, Train Acc: 0.6358, Test Acc: 0.6200, Train Loss: 0.6465, Test Loss: 0.6644\n",
      "Epoch: 260, Train Acc: 0.6358, Test Acc: 0.6200, Train Loss: 0.6476, Test Loss: 0.6621\n",
      "Epoch: 270, Train Acc: 0.6358, Test Acc: 0.6200, Train Loss: 0.6533, Test Loss: 0.6610\n",
      "Epoch: 280, Train Acc: 0.6358, Test Acc: 0.6200, Train Loss: 0.6517, Test Loss: 0.6599\n",
      "Epoch: 290, Train Acc: 0.6358, Test Acc: 0.6200, Train Loss: 0.6513, Test Loss: 0.6587\n",
      "Epoch: 300, Train Acc: 0.6358, Test Acc: 0.6200, Train Loss: 0.6489, Test Loss: 0.6578\n",
      "Epoch: 310, Train Acc: 0.6358, Test Acc: 0.6200, Train Loss: 0.6471, Test Loss: 0.6573\n",
      "Epoch: 320, Train Acc: 0.6358, Test Acc: 0.6200, Train Loss: 0.6497, Test Loss: 0.6566\n",
      "Epoch: 330, Train Acc: 0.6358, Test Acc: 0.6200, Train Loss: 0.6505, Test Loss: 0.6559\n",
      "Epoch: 340, Train Acc: 0.6358, Test Acc: 0.6200, Train Loss: 0.6516, Test Loss: 0.6558\n",
      "Epoch: 350, Train Acc: 0.6358, Test Acc: 0.6200, Train Loss: 0.6507, Test Loss: 0.6558\n",
      "Epoch: 360, Train Acc: 0.6358, Test Acc: 0.6200, Train Loss: 0.6502, Test Loss: 0.6560\n",
      "20 epochs passed without 0 test loss improvement. \n",
      "Early stopping triggered.\n"
     ]
    },
    {
     "data": {
      "text/html": [
       "<style>\n",
       "    table.wandb td:nth-child(1) { padding: 0 10px; text-align: left ; width: auto;} td:nth-child(2) {text-align: left ; width: 100%}\n",
       "    .wandb-row { display: flex; flex-direction: row; flex-wrap: wrap; justify-content: flex-start; width: 100% }\n",
       "    .wandb-col { display: flex; flex-direction: column; flex-basis: 100%; flex: 1; padding: 10px; }\n",
       "    </style>\n",
       "<div class=\"wandb-row\"><div class=\"wandb-col\"><h3>Run history:</h3><br/><table class=\"wandb\"><tr><td>Test Accuracy</td><td>▁▁▁▁▁▁▁▁▁▁▂▃▃▃▆▆▆▆██████████████████████</td></tr><tr><td>Test F1</td><td>▁▁▁▁▁▁▁▁▁▁▂▃▃▃▆▅▅▆██████████████████████</td></tr><tr><td>Test Loss</td><td>█▄▄▄▄▃▃▃▃▃▂▂▂▂▂▂▂▁▁▁▁▁▁▁▁▁▁▁▁▁▁▁▁▁▁▁▁▁▁▁</td></tr><tr><td>Test Sensitivity</td><td>██████████▃▃▃▃▃▁▁▁▁▁▁▁▁▁▁▁▁▁▁▁▁▁▁▁▁▁▁▁▁▁</td></tr><tr><td>Test Specificity</td><td>▁▁▁▁▁▁▁▁▁▁▃▄▄▄▆▆▆▆██████████████████████</td></tr><tr><td>Train Accuracy</td><td>▁▁▁▁▁▁▁▁▁▁▄▄▄▄▇▆▆▆▇█████████████████████</td></tr><tr><td>Train F1</td><td>▁▁▁▁▁▁▁▁▁▁▅▆▆▆█▆▄▅▆▇▇▇▇▇▇▇▇▇▇▇▇▇▇▇▇▇▇▇▇▇</td></tr><tr><td>Train Loss</td><td>█▅▅▅▅▄▄▃▃▃▂▂▂▂▂▂▁▁▁▁▁▁▁▁▁▁▁▁▁▁▁▁▁▁▁▁▁▁▁▁</td></tr><tr><td>Train Sensitivity</td><td>███████████▇▇▇▅▃▂▂▁▁▁▁▁▁▁▁▁▁▁▁▁▁▁▁▁▁▁▁▁▁</td></tr><tr><td>Train Specificity</td><td>▁▁▁▁▁▁▁▁▁▁▃▃▃▃▆▆▆▇▇█████████████████████</td></tr></table><br/></div><div class=\"wandb-col\"><h3>Run summary:</h3><br/><table class=\"wandb\"><tr><td>Test Accuracy</td><td>0.62</td></tr><tr><td>Test F1</td><td>0.72464</td></tr><tr><td>Test Loss</td><td>0.65611</td></tr><tr><td>Test Sensitivity</td><td>0.97087</td></tr><tr><td>Test Specificity</td><td>0.24742</td></tr><tr><td>Train Accuracy</td><td>0.63578</td></tr><tr><td>Train F1</td><td>0.72066</td></tr><tr><td>Train Loss</td><td>0.65434</td></tr><tr><td>Train Sensitivity</td><td>0.88618</td></tr><tr><td>Train Specificity</td><td>0.35321</td></tr></table><br/></div></div>"
      ],
      "text/plain": [
       "<IPython.core.display.HTML object>"
      ]
     },
     "metadata": {},
     "output_type": "display_data"
    },
    {
     "data": {
      "text/html": [
       " View run <strong style=\"color:#cdcd00\">kind-sweep-12</strong> at: <a href='https://wandb.ai/dylan-home/pnca-af-singletons-sweep-w-mutation-feats/runs/z7ze4fkk' target=\"_blank\">https://wandb.ai/dylan-home/pnca-af-singletons-sweep-w-mutation-feats/runs/z7ze4fkk</a><br/>Synced 5 W&B file(s), 0 media file(s), 0 artifact file(s) and 0 other file(s)"
      ],
      "text/plain": [
       "<IPython.core.display.HTML object>"
      ]
     },
     "metadata": {},
     "output_type": "display_data"
    },
    {
     "data": {
      "text/html": [
       "Find logs at: <code>./wandb/run-20250318_191631-z7ze4fkk/logs</code>"
      ],
      "text/plain": [
       "<IPython.core.display.HTML object>"
      ]
     },
     "metadata": {},
     "output_type": "display_data"
    },
    {
     "name": "stderr",
     "output_type": "stream",
     "text": [
      "\u001b[34m\u001b[1mwandb\u001b[0m: Agent Starting Run: wx3uciiu with config:\n",
      "\u001b[34m\u001b[1mwandb\u001b[0m: \tcutoff_distance: 9.197731318811398\n",
      "\u001b[34m\u001b[1mwandb\u001b[0m: \tdropout: 0.4\n",
      "\u001b[34m\u001b[1mwandb\u001b[0m: \thidden_channels: 256\n",
      "\u001b[34m\u001b[1mwandb\u001b[0m: \tlearning_rate: 1.036508528557976e-07\n",
      "\u001b[34m\u001b[1mwandb\u001b[0m: \tweight_decay: 2.516376362080779e-05\n",
      "Failed to detect the name of this notebook, you can set it manually with the WANDB_NOTEBOOK_NAME environment variable to enable code saving.\n",
      "/usr/lib/python3/dist-packages/requests/__init__.py:87: RequestsDependencyWarning: urllib3 (2.2.3) or chardet (4.0.0) doesn't match a supported version!\n",
      "  warnings.warn(\"urllib3 ({}) or chardet ({}) doesn't match a supported \"\n"
     ]
    },
    {
     "data": {
      "text/html": [
       "wandb version 0.19.8 is available!  To upgrade, please run:\n",
       " $ pip install wandb --upgrade"
      ],
      "text/plain": [
       "<IPython.core.display.HTML object>"
      ]
     },
     "metadata": {},
     "output_type": "display_data"
    },
    {
     "data": {
      "text/html": [
       "Tracking run with wandb version 0.16.4"
      ],
      "text/plain": [
       "<IPython.core.display.HTML object>"
      ]
     },
     "metadata": {},
     "output_type": "display_data"
    },
    {
     "data": {
      "text/html": [
       "Run data is saved locally in <code>/mnt/alphafold-volume-1/dylan2/repos/tb-pnca-gnn/dd_pnca/wandb/run-20250318_191905-wx3uciiu</code>"
      ],
      "text/plain": [
       "<IPython.core.display.HTML object>"
      ]
     },
     "metadata": {},
     "output_type": "display_data"
    },
    {
     "data": {
      "text/html": [
       "Syncing run <strong><a href='https://wandb.ai/dylan-home/pnca-af-singletons-sweep-w-mutation-feats/runs/wx3uciiu' target=\"_blank\">faithful-sweep-13</a></strong> to <a href='https://wandb.ai/dylan-home/pnca-af-singletons-sweep-w-mutation-feats' target=\"_blank\">Weights & Biases</a> (<a href='https://wandb.me/run' target=\"_blank\">docs</a>)<br/>Sweep page: <a href='https://wandb.ai/dylan-home/pnca-af-singletons-sweep-w-mutation-feats/sweeps/x0k5kbpt' target=\"_blank\">https://wandb.ai/dylan-home/pnca-af-singletons-sweep-w-mutation-feats/sweeps/x0k5kbpt</a>"
      ],
      "text/plain": [
       "<IPython.core.display.HTML object>"
      ]
     },
     "metadata": {},
     "output_type": "display_data"
    },
    {
     "data": {
      "text/html": [
       " View project at <a href='https://wandb.ai/dylan-home/pnca-af-singletons-sweep-w-mutation-feats' target=\"_blank\">https://wandb.ai/dylan-home/pnca-af-singletons-sweep-w-mutation-feats</a>"
      ],
      "text/plain": [
       "<IPython.core.display.HTML object>"
      ]
     },
     "metadata": {},
     "output_type": "display_data"
    },
    {
     "data": {
      "text/html": [
       " View sweep at <a href='https://wandb.ai/dylan-home/pnca-af-singletons-sweep-w-mutation-feats/sweeps/x0k5kbpt' target=\"_blank\">https://wandb.ai/dylan-home/pnca-af-singletons-sweep-w-mutation-feats/sweeps/x0k5kbpt</a>"
      ],
      "text/plain": [
       "<IPython.core.display.HTML object>"
      ]
     },
     "metadata": {},
     "output_type": "display_data"
    },
    {
     "data": {
      "text/html": [
       " View run at <a href='https://wandb.ai/dylan-home/pnca-af-singletons-sweep-w-mutation-feats/runs/wx3uciiu' target=\"_blank\">https://wandb.ai/dylan-home/pnca-af-singletons-sweep-w-mutation-feats/runs/wx3uciiu</a>"
      ],
      "text/plain": [
       "<IPython.core.display.HTML object>"
      ]
     },
     "metadata": {},
     "output_type": "display_data"
    },
    {
     "name": "stdout",
     "output_type": "stream",
     "text": [
      "Adjusting edge index and attaching edge weights for cutoff distance 9.197731318811398\n",
      "Using CUDA\n",
      "Early stopping enabled. Patience: 20. Min Delta: 0.\n",
      "Epoch: 010, Train Acc: 0.3642, Test Acc: 0.3800, Train Loss: 1.2506, Test Loss: 1.1401\n",
      "Epoch: 020, Train Acc: 0.3685, Test Acc: 0.3800, Train Loss: 1.2500, Test Loss: 1.1400\n",
      "20 epochs passed without 0 test loss improvement. \n",
      "Early stopping triggered.\n"
     ]
    },
    {
     "data": {
      "text/html": [
       "<style>\n",
       "    table.wandb td:nth-child(1) { padding: 0 10px; text-align: left ; width: auto;} td:nth-child(2) {text-align: left ; width: 100%}\n",
       "    .wandb-row { display: flex; flex-direction: row; flex-wrap: wrap; justify-content: flex-start; width: 100% }\n",
       "    .wandb-col { display: flex; flex-direction: column; flex-basis: 100%; flex: 1; padding: 10px; }\n",
       "    </style>\n",
       "<div class=\"wandb-row\"><div class=\"wandb-col\"><h3>Run history:</h3><br/><table class=\"wandb\"><tr><td>Test Accuracy</td><td>▁▁▁▁▁▁▁▁▁▁▁▁▁▁▁▁▁▁▁▁▁▁▁▁▁</td></tr><tr><td>Test F1</td><td>▁▁▁▁▁▁▁▁▁▁▁▁▁▁▁▁▁▁▁▁▁▁▁▁▁</td></tr><tr><td>Test Loss</td><td>█▃▂▁▁▁▁▁▂▂▂▂▂▂▂▂▂▂▂▂▂▂▂▁▁</td></tr><tr><td>Test Sensitivity</td><td>▁▁▁▁▁▁▁▁▁▁▁▁▁▁▁▁▁▁▁▁▁▁▁▁▁</td></tr><tr><td>Test Specificity</td><td>▁▁▁▁▁▁▁▁▁▁▁▁▁▁▁▁▁▁▁▁▁▁▁▁▁</td></tr><tr><td>Train Accuracy</td><td>▁▁▁▁▁▁▁▁▁▁▁▅█████████████</td></tr><tr><td>Train F1</td><td>▁▁▁▁▁▁▁▁▁▁▁▄█████████████</td></tr><tr><td>Train Loss</td><td>█▃▂▂▁▁▂▂▂▂▃▂▂▃▂▂▂▂▂▂▂▁▂▂▂</td></tr><tr><td>Train Sensitivity</td><td>▁▁▁▁▁▁▁▁▁▁▁▁▁▁▁▁▁▁▁▁▁▁▁▁▁</td></tr><tr><td>Train Specificity</td><td>▁▁▁▁▁▁▁▁▁▁▁▄█████████████</td></tr></table><br/></div><div class=\"wandb-col\"><h3>Run summary:</h3><br/><table class=\"wandb\"><tr><td>Test Accuracy</td><td>0.38</td></tr><tr><td>Test F1</td><td>0.04615</td></tr><tr><td>Test Loss</td><td>1.13575</td></tr><tr><td>Test Sensitivity</td><td>0.02913</td></tr><tr><td>Test Specificity</td><td>0.75258</td></tr><tr><td>Train Accuracy</td><td>0.36853</td></tr><tr><td>Train F1</td><td>0.16046</td></tr><tr><td>Train Loss</td><td>1.24849</td></tr><tr><td>Train Sensitivity</td><td>0.11382</td></tr><tr><td>Train Specificity</td><td>0.65596</td></tr></table><br/></div></div>"
      ],
      "text/plain": [
       "<IPython.core.display.HTML object>"
      ]
     },
     "metadata": {},
     "output_type": "display_data"
    },
    {
     "data": {
      "text/html": [
       " View run <strong style=\"color:#cdcd00\">faithful-sweep-13</strong> at: <a href='https://wandb.ai/dylan-home/pnca-af-singletons-sweep-w-mutation-feats/runs/wx3uciiu' target=\"_blank\">https://wandb.ai/dylan-home/pnca-af-singletons-sweep-w-mutation-feats/runs/wx3uciiu</a><br/>Synced 5 W&B file(s), 0 media file(s), 0 artifact file(s) and 0 other file(s)"
      ],
      "text/plain": [
       "<IPython.core.display.HTML object>"
      ]
     },
     "metadata": {},
     "output_type": "display_data"
    },
    {
     "data": {
      "text/html": [
       "Find logs at: <code>./wandb/run-20250318_191905-wx3uciiu/logs</code>"
      ],
      "text/plain": [
       "<IPython.core.display.HTML object>"
      ]
     },
     "metadata": {},
     "output_type": "display_data"
    },
    {
     "name": "stderr",
     "output_type": "stream",
     "text": [
      "\u001b[34m\u001b[1mwandb\u001b[0m: Agent Starting Run: fm91467j with config:\n",
      "\u001b[34m\u001b[1mwandb\u001b[0m: \tcutoff_distance: 6.727931954633349\n",
      "\u001b[34m\u001b[1mwandb\u001b[0m: \tdropout: 0.2\n",
      "\u001b[34m\u001b[1mwandb\u001b[0m: \thidden_channels: 256\n",
      "\u001b[34m\u001b[1mwandb\u001b[0m: \tlearning_rate: 0.0046558538850043785\n",
      "\u001b[34m\u001b[1mwandb\u001b[0m: \tweight_decay: 0.00027306378788223166\n",
      "Failed to detect the name of this notebook, you can set it manually with the WANDB_NOTEBOOK_NAME environment variable to enable code saving.\n",
      "/usr/lib/python3/dist-packages/requests/__init__.py:87: RequestsDependencyWarning: urllib3 (2.2.3) or chardet (4.0.0) doesn't match a supported version!\n",
      "  warnings.warn(\"urllib3 ({}) or chardet ({}) doesn't match a supported \"\n"
     ]
    },
    {
     "data": {
      "text/html": [
       "wandb version 0.19.8 is available!  To upgrade, please run:\n",
       " $ pip install wandb --upgrade"
      ],
      "text/plain": [
       "<IPython.core.display.HTML object>"
      ]
     },
     "metadata": {},
     "output_type": "display_data"
    },
    {
     "data": {
      "text/html": [
       "Tracking run with wandb version 0.16.4"
      ],
      "text/plain": [
       "<IPython.core.display.HTML object>"
      ]
     },
     "metadata": {},
     "output_type": "display_data"
    },
    {
     "data": {
      "text/html": [
       "Run data is saved locally in <code>/mnt/alphafold-volume-1/dylan2/repos/tb-pnca-gnn/dd_pnca/wandb/run-20250318_192042-fm91467j</code>"
      ],
      "text/plain": [
       "<IPython.core.display.HTML object>"
      ]
     },
     "metadata": {},
     "output_type": "display_data"
    },
    {
     "data": {
      "text/html": [
       "Syncing run <strong><a href='https://wandb.ai/dylan-home/pnca-af-singletons-sweep-w-mutation-feats/runs/fm91467j' target=\"_blank\">ruby-sweep-14</a></strong> to <a href='https://wandb.ai/dylan-home/pnca-af-singletons-sweep-w-mutation-feats' target=\"_blank\">Weights & Biases</a> (<a href='https://wandb.me/run' target=\"_blank\">docs</a>)<br/>Sweep page: <a href='https://wandb.ai/dylan-home/pnca-af-singletons-sweep-w-mutation-feats/sweeps/x0k5kbpt' target=\"_blank\">https://wandb.ai/dylan-home/pnca-af-singletons-sweep-w-mutation-feats/sweeps/x0k5kbpt</a>"
      ],
      "text/plain": [
       "<IPython.core.display.HTML object>"
      ]
     },
     "metadata": {},
     "output_type": "display_data"
    },
    {
     "data": {
      "text/html": [
       " View project at <a href='https://wandb.ai/dylan-home/pnca-af-singletons-sweep-w-mutation-feats' target=\"_blank\">https://wandb.ai/dylan-home/pnca-af-singletons-sweep-w-mutation-feats</a>"
      ],
      "text/plain": [
       "<IPython.core.display.HTML object>"
      ]
     },
     "metadata": {},
     "output_type": "display_data"
    },
    {
     "data": {
      "text/html": [
       " View sweep at <a href='https://wandb.ai/dylan-home/pnca-af-singletons-sweep-w-mutation-feats/sweeps/x0k5kbpt' target=\"_blank\">https://wandb.ai/dylan-home/pnca-af-singletons-sweep-w-mutation-feats/sweeps/x0k5kbpt</a>"
      ],
      "text/plain": [
       "<IPython.core.display.HTML object>"
      ]
     },
     "metadata": {},
     "output_type": "display_data"
    },
    {
     "data": {
      "text/html": [
       " View run at <a href='https://wandb.ai/dylan-home/pnca-af-singletons-sweep-w-mutation-feats/runs/fm91467j' target=\"_blank\">https://wandb.ai/dylan-home/pnca-af-singletons-sweep-w-mutation-feats/runs/fm91467j</a>"
      ],
      "text/plain": [
       "<IPython.core.display.HTML object>"
      ]
     },
     "metadata": {},
     "output_type": "display_data"
    },
    {
     "name": "stdout",
     "output_type": "stream",
     "text": [
      "Adjusting edge index and attaching edge weights for cutoff distance 6.727931954633349\n",
      "Using CUDA\n",
      "Early stopping enabled. Patience: 20. Min Delta: 0.\n",
      "Epoch: 010, Train Acc: 0.4159, Test Acc: 0.4500, Train Loss: 0.7166, Test Loss: 0.7095\n",
      "Epoch: 020, Train Acc: 0.6358, Test Acc: 0.6200, Train Loss: 0.6458, Test Loss: 0.6484\n",
      "Epoch: 030, Train Acc: 0.6358, Test Acc: 0.6200, Train Loss: 0.6404, Test Loss: 0.6481\n",
      "Epoch: 040, Train Acc: 0.6358, Test Acc: 0.6200, Train Loss: 0.6367, Test Loss: 0.6514\n",
      "20 epochs passed without 0 test loss improvement. \n",
      "Early stopping triggered.\n"
     ]
    },
    {
     "data": {
      "text/html": [
       "<style>\n",
       "    table.wandb td:nth-child(1) { padding: 0 10px; text-align: left ; width: auto;} td:nth-child(2) {text-align: left ; width: 100%}\n",
       "    .wandb-row { display: flex; flex-direction: row; flex-wrap: wrap; justify-content: flex-start; width: 100% }\n",
       "    .wandb-col { display: flex; flex-direction: column; flex-basis: 100%; flex: 1; padding: 10px; }\n",
       "    </style>\n",
       "<div class=\"wandb-row\"><div class=\"wandb-col\"><h3>Run history:</h3><br/><table class=\"wandb\"><tr><td>Test Accuracy</td><td>▄▇█▄▁▇███▃▄█████████████████████████████</td></tr><tr><td>Test F1</td><td>▁██▁▁████▁▁█████████████████████████████</td></tr><tr><td>Test Loss</td><td>█▁▁▁▁▁▁▁▁▁▁▁▁▁▁▁▁▁▁▁▁▁▁▁▁▁▁▁▁▁▁▁▁▁▁▁▁▁▁▁</td></tr><tr><td>Test Sensitivity</td><td>▁██▁▁████▁▁█████████████████████████████</td></tr><tr><td>Test Specificity</td><td>█▁▂█▆▁▂▂▂▇█▂▂▂▂▂▂▂▂▂▂▂▂▂▂▂▂▂▂▂▂▂▂▂▂▂▂▂▂▂</td></tr><tr><td>Train Accuracy</td><td>▄▇█▄▁▇███▂▄█████████████████████████████</td></tr><tr><td>Train F1</td><td>▁██▁▃████▁▁█████████████████████████████</td></tr><tr><td>Train Loss</td><td>█▁▁▁▁▁▁▁▁▁▁▁▁▁▁▁▁▁▁▁▁▁▁▁▁▁▁▁▁▁▁▁▁▁▁▁▁▁▁▁</td></tr><tr><td>Train Sensitivity</td><td>▁█▇▁▂█▇▇▇▁▁▇▇▇▇▇▇▇▇▇▇▇▇▇▇▇▇▇▇▇▇▇▇▇▇▇▇▇▇▇</td></tr><tr><td>Train Specificity</td><td>█▁▂█▅▁▂▂▂▇█▂▂▂▂▂▂▂▂▂▂▂▂▂▂▂▂▂▂▂▂▂▂▂▂▂▂▂▂▂</td></tr></table><br/></div><div class=\"wandb-col\"><h3>Run summary:</h3><br/><table class=\"wandb\"><tr><td>Test Accuracy</td><td>0.62</td></tr><tr><td>Test F1</td><td>0.72464</td></tr><tr><td>Test Loss</td><td>0.64847</td></tr><tr><td>Test Sensitivity</td><td>0.97087</td></tr><tr><td>Test Specificity</td><td>0.24742</td></tr><tr><td>Train Accuracy</td><td>0.63578</td></tr><tr><td>Train F1</td><td>0.72066</td></tr><tr><td>Train Loss</td><td>0.6414</td></tr><tr><td>Train Sensitivity</td><td>0.88618</td></tr><tr><td>Train Specificity</td><td>0.35321</td></tr></table><br/></div></div>"
      ],
      "text/plain": [
       "<IPython.core.display.HTML object>"
      ]
     },
     "metadata": {},
     "output_type": "display_data"
    },
    {
     "data": {
      "text/html": [
       " View run <strong style=\"color:#cdcd00\">ruby-sweep-14</strong> at: <a href='https://wandb.ai/dylan-home/pnca-af-singletons-sweep-w-mutation-feats/runs/fm91467j' target=\"_blank\">https://wandb.ai/dylan-home/pnca-af-singletons-sweep-w-mutation-feats/runs/fm91467j</a><br/>Synced 5 W&B file(s), 0 media file(s), 0 artifact file(s) and 0 other file(s)"
      ],
      "text/plain": [
       "<IPython.core.display.HTML object>"
      ]
     },
     "metadata": {},
     "output_type": "display_data"
    },
    {
     "data": {
      "text/html": [
       "Find logs at: <code>./wandb/run-20250318_192042-fm91467j/logs</code>"
      ],
      "text/plain": [
       "<IPython.core.display.HTML object>"
      ]
     },
     "metadata": {},
     "output_type": "display_data"
    },
    {
     "name": "stderr",
     "output_type": "stream",
     "text": [
      "\u001b[34m\u001b[1mwandb\u001b[0m: Agent Starting Run: binen1jk with config:\n",
      "\u001b[34m\u001b[1mwandb\u001b[0m: \tcutoff_distance: 6.623582556167073\n",
      "\u001b[34m\u001b[1mwandb\u001b[0m: \tdropout: 0.2\n",
      "\u001b[34m\u001b[1mwandb\u001b[0m: \thidden_channels: 64\n",
      "\u001b[34m\u001b[1mwandb\u001b[0m: \tlearning_rate: 6.437683956518773e-08\n",
      "\u001b[34m\u001b[1mwandb\u001b[0m: \tweight_decay: 0.002708092653505882\n",
      "Failed to detect the name of this notebook, you can set it manually with the WANDB_NOTEBOOK_NAME environment variable to enable code saving.\n",
      "/usr/lib/python3/dist-packages/requests/__init__.py:87: RequestsDependencyWarning: urllib3 (2.2.3) or chardet (4.0.0) doesn't match a supported version!\n",
      "  warnings.warn(\"urllib3 ({}) or chardet ({}) doesn't match a supported \"\n"
     ]
    },
    {
     "data": {
      "text/html": [
       "wandb version 0.19.8 is available!  To upgrade, please run:\n",
       " $ pip install wandb --upgrade"
      ],
      "text/plain": [
       "<IPython.core.display.HTML object>"
      ]
     },
     "metadata": {},
     "output_type": "display_data"
    },
    {
     "data": {
      "text/html": [
       "Tracking run with wandb version 0.16.4"
      ],
      "text/plain": [
       "<IPython.core.display.HTML object>"
      ]
     },
     "metadata": {},
     "output_type": "display_data"
    },
    {
     "data": {
      "text/html": [
       "Run data is saved locally in <code>/mnt/alphafold-volume-1/dylan2/repos/tb-pnca-gnn/dd_pnca/wandb/run-20250318_192134-binen1jk</code>"
      ],
      "text/plain": [
       "<IPython.core.display.HTML object>"
      ]
     },
     "metadata": {},
     "output_type": "display_data"
    },
    {
     "data": {
      "text/html": [
       "Syncing run <strong><a href='https://wandb.ai/dylan-home/pnca-af-singletons-sweep-w-mutation-feats/runs/binen1jk' target=\"_blank\">misty-sweep-15</a></strong> to <a href='https://wandb.ai/dylan-home/pnca-af-singletons-sweep-w-mutation-feats' target=\"_blank\">Weights & Biases</a> (<a href='https://wandb.me/run' target=\"_blank\">docs</a>)<br/>Sweep page: <a href='https://wandb.ai/dylan-home/pnca-af-singletons-sweep-w-mutation-feats/sweeps/x0k5kbpt' target=\"_blank\">https://wandb.ai/dylan-home/pnca-af-singletons-sweep-w-mutation-feats/sweeps/x0k5kbpt</a>"
      ],
      "text/plain": [
       "<IPython.core.display.HTML object>"
      ]
     },
     "metadata": {},
     "output_type": "display_data"
    },
    {
     "data": {
      "text/html": [
       " View project at <a href='https://wandb.ai/dylan-home/pnca-af-singletons-sweep-w-mutation-feats' target=\"_blank\">https://wandb.ai/dylan-home/pnca-af-singletons-sweep-w-mutation-feats</a>"
      ],
      "text/plain": [
       "<IPython.core.display.HTML object>"
      ]
     },
     "metadata": {},
     "output_type": "display_data"
    },
    {
     "data": {
      "text/html": [
       " View sweep at <a href='https://wandb.ai/dylan-home/pnca-af-singletons-sweep-w-mutation-feats/sweeps/x0k5kbpt' target=\"_blank\">https://wandb.ai/dylan-home/pnca-af-singletons-sweep-w-mutation-feats/sweeps/x0k5kbpt</a>"
      ],
      "text/plain": [
       "<IPython.core.display.HTML object>"
      ]
     },
     "metadata": {},
     "output_type": "display_data"
    },
    {
     "data": {
      "text/html": [
       " View run at <a href='https://wandb.ai/dylan-home/pnca-af-singletons-sweep-w-mutation-feats/runs/binen1jk' target=\"_blank\">https://wandb.ai/dylan-home/pnca-af-singletons-sweep-w-mutation-feats/runs/binen1jk</a>"
      ],
      "text/plain": [
       "<IPython.core.display.HTML object>"
      ]
     },
     "metadata": {},
     "output_type": "display_data"
    },
    {
     "name": "stdout",
     "output_type": "stream",
     "text": [
      "Adjusting edge index and attaching edge weights for cutoff distance 6.623582556167073\n",
      "Using CUDA\n",
      "Early stopping enabled. Patience: 20. Min Delta: 0.\n",
      "Epoch: 010, Train Acc: 0.5884, Test Acc: 0.5850, Train Loss: 0.6812, Test Loss: 0.6692\n",
      "Epoch: 020, Train Acc: 0.6315, Test Acc: 0.6100, Train Loss: 0.6783, Test Loss: 0.6627\n",
      "Epoch: 030, Train Acc: 0.6358, Test Acc: 0.6150, Train Loss: 0.6773, Test Loss: 0.6606\n",
      "Epoch: 040, Train Acc: 0.6358, Test Acc: 0.6150, Train Loss: 0.6777, Test Loss: 0.6603\n",
      "Epoch: 050, Train Acc: 0.6358, Test Acc: 0.6150, Train Loss: 0.6785, Test Loss: 0.6602\n",
      "Epoch: 060, Train Acc: 0.6358, Test Acc: 0.6150, Train Loss: 0.6777, Test Loss: 0.6601\n",
      "Epoch: 070, Train Acc: 0.6358, Test Acc: 0.6150, Train Loss: 0.6764, Test Loss: 0.6601\n",
      "Epoch: 080, Train Acc: 0.6358, Test Acc: 0.6150, Train Loss: 0.6768, Test Loss: 0.6601\n",
      "Epoch: 090, Train Acc: 0.6336, Test Acc: 0.6200, Train Loss: 0.6749, Test Loss: 0.6601\n",
      "Epoch: 100, Train Acc: 0.6336, Test Acc: 0.6200, Train Loss: 0.6776, Test Loss: 0.6601\n",
      "Epoch: 110, Train Acc: 0.6336, Test Acc: 0.6200, Train Loss: 0.6769, Test Loss: 0.6601\n",
      "Epoch: 120, Train Acc: 0.6336, Test Acc: 0.6200, Train Loss: 0.6763, Test Loss: 0.6599\n",
      "Epoch: 130, Train Acc: 0.6336, Test Acc: 0.6200, Train Loss: 0.6751, Test Loss: 0.6599\n",
      "20 epochs passed without 0 test loss improvement. \n",
      "Early stopping triggered.\n"
     ]
    },
    {
     "data": {
      "text/html": [
       "<style>\n",
       "    table.wandb td:nth-child(1) { padding: 0 10px; text-align: left ; width: auto;} td:nth-child(2) {text-align: left ; width: 100%}\n",
       "    .wandb-row { display: flex; flex-direction: row; flex-wrap: wrap; justify-content: flex-start; width: 100% }\n",
       "    .wandb-col { display: flex; flex-direction: column; flex-basis: 100%; flex: 1; padding: 10px; }\n",
       "    </style>\n",
       "<div class=\"wandb-row\"><div class=\"wandb-col\"><h3>Run history:</h3><br/><table class=\"wandb\"><tr><td>Test Accuracy</td><td>██▃▁▃▄▆▆▇▇▇▇▇▇▇▇▇▇▇▇▇▇▇▇▇███████████████</td></tr><tr><td>Test F1</td><td>██▄▁▃▃▅▅▇▇▇▇▇▇▇▇▇▇▇▇▇▇▇▇▇███████████████</td></tr><tr><td>Test Loss</td><td>██▇▆▅▃▂▂▂▁▁▁▁▁▁▁▁▁▁▁▁▁▁▁▁▁▁▁▁▁▁▁▁▁▁▁▁▁▁▁</td></tr><tr><td>Test Sensitivity</td><td>▄▄█▄▄▁▁▁▃▃▃▃▃▃▃▃▃▃▃▃▃▃▃▃▃▄▄▄▄▄▄▄▄▄▄▄▄▄▄▄</td></tr><tr><td>Test Specificity</td><td>██▁▁▃▆██████████████████████████████████</td></tr><tr><td>Train Accuracy</td><td>██▁▁▁▆▇█████████████████████████████████</td></tr><tr><td>Train F1</td><td>██▂▂▁▆▇███████████████████▇▇▇▇▇▇▇▇▇▇▇▇▇▇</td></tr><tr><td>Train Loss</td><td>▁▄▇▇█▇▇▅▇▆█▅▅▇▇▆▅▆▆▆▅▅▆▆▇▆▄▅▆▆▅▆▆▆▅▆▆▇▄▅</td></tr><tr><td>Train Sensitivity</td><td>▄▄█▅▁▂▂▂▂▂▂▂▂▂▂▂▂▂▂▂▂▂▂▂▂▂▂▂▂▂▂▂▂▂▂▂▂▂▂▂</td></tr><tr><td>Train Specificity</td><td>█▇▁▁▂▆▇█████████████████████████████████</td></tr></table><br/></div><div class=\"wandb-col\"><h3>Run summary:</h3><br/><table class=\"wandb\"><tr><td>Test Accuracy</td><td>0.62</td></tr><tr><td>Test F1</td><td>0.72464</td></tr><tr><td>Test Loss</td><td>0.65992</td></tr><tr><td>Test Sensitivity</td><td>0.97087</td></tr><tr><td>Test Specificity</td><td>0.24742</td></tr><tr><td>Train Accuracy</td><td>0.63362</td></tr><tr><td>Train F1</td><td>0.71854</td></tr><tr><td>Train Loss</td><td>0.67694</td></tr><tr><td>Train Sensitivity</td><td>0.88211</td></tr><tr><td>Train Specificity</td><td>0.35321</td></tr></table><br/></div></div>"
      ],
      "text/plain": [
       "<IPython.core.display.HTML object>"
      ]
     },
     "metadata": {},
     "output_type": "display_data"
    },
    {
     "data": {
      "text/html": [
       " View run <strong style=\"color:#cdcd00\">misty-sweep-15</strong> at: <a href='https://wandb.ai/dylan-home/pnca-af-singletons-sweep-w-mutation-feats/runs/binen1jk' target=\"_blank\">https://wandb.ai/dylan-home/pnca-af-singletons-sweep-w-mutation-feats/runs/binen1jk</a><br/>Synced 5 W&B file(s), 0 media file(s), 0 artifact file(s) and 0 other file(s)"
      ],
      "text/plain": [
       "<IPython.core.display.HTML object>"
      ]
     },
     "metadata": {},
     "output_type": "display_data"
    },
    {
     "data": {
      "text/html": [
       "Find logs at: <code>./wandb/run-20250318_192134-binen1jk/logs</code>"
      ],
      "text/plain": [
       "<IPython.core.display.HTML object>"
      ]
     },
     "metadata": {},
     "output_type": "display_data"
    },
    {
     "name": "stderr",
     "output_type": "stream",
     "text": [
      "\u001b[34m\u001b[1mwandb\u001b[0m: Agent Starting Run: 7g95v9yy with config:\n",
      "\u001b[34m\u001b[1mwandb\u001b[0m: \tcutoff_distance: 5.362479867146717\n",
      "\u001b[34m\u001b[1mwandb\u001b[0m: \tdropout: 0.2\n",
      "\u001b[34m\u001b[1mwandb\u001b[0m: \thidden_channels: 256\n",
      "\u001b[34m\u001b[1mwandb\u001b[0m: \tlearning_rate: 0.00025108845295139076\n",
      "\u001b[34m\u001b[1mwandb\u001b[0m: \tweight_decay: 1.0882972822989737e-05\n",
      "Failed to detect the name of this notebook, you can set it manually with the WANDB_NOTEBOOK_NAME environment variable to enable code saving.\n",
      "/usr/lib/python3/dist-packages/requests/__init__.py:87: RequestsDependencyWarning: urllib3 (2.2.3) or chardet (4.0.0) doesn't match a supported version!\n",
      "  warnings.warn(\"urllib3 ({}) or chardet ({}) doesn't match a supported \"\n"
     ]
    },
    {
     "data": {
      "text/html": [
       "wandb version 0.19.8 is available!  To upgrade, please run:\n",
       " $ pip install wandb --upgrade"
      ],
      "text/plain": [
       "<IPython.core.display.HTML object>"
      ]
     },
     "metadata": {},
     "output_type": "display_data"
    },
    {
     "data": {
      "text/html": [
       "Tracking run with wandb version 0.16.4"
      ],
      "text/plain": [
       "<IPython.core.display.HTML object>"
      ]
     },
     "metadata": {},
     "output_type": "display_data"
    },
    {
     "data": {
      "text/html": [
       "Run data is saved locally in <code>/mnt/alphafold-volume-1/dylan2/repos/tb-pnca-gnn/dd_pnca/wandb/run-20250318_192236-7g95v9yy</code>"
      ],
      "text/plain": [
       "<IPython.core.display.HTML object>"
      ]
     },
     "metadata": {},
     "output_type": "display_data"
    },
    {
     "data": {
      "text/html": [
       "Syncing run <strong><a href='https://wandb.ai/dylan-home/pnca-af-singletons-sweep-w-mutation-feats/runs/7g95v9yy' target=\"_blank\">mild-sweep-16</a></strong> to <a href='https://wandb.ai/dylan-home/pnca-af-singletons-sweep-w-mutation-feats' target=\"_blank\">Weights & Biases</a> (<a href='https://wandb.me/run' target=\"_blank\">docs</a>)<br/>Sweep page: <a href='https://wandb.ai/dylan-home/pnca-af-singletons-sweep-w-mutation-feats/sweeps/x0k5kbpt' target=\"_blank\">https://wandb.ai/dylan-home/pnca-af-singletons-sweep-w-mutation-feats/sweeps/x0k5kbpt</a>"
      ],
      "text/plain": [
       "<IPython.core.display.HTML object>"
      ]
     },
     "metadata": {},
     "output_type": "display_data"
    },
    {
     "data": {
      "text/html": [
       " View project at <a href='https://wandb.ai/dylan-home/pnca-af-singletons-sweep-w-mutation-feats' target=\"_blank\">https://wandb.ai/dylan-home/pnca-af-singletons-sweep-w-mutation-feats</a>"
      ],
      "text/plain": [
       "<IPython.core.display.HTML object>"
      ]
     },
     "metadata": {},
     "output_type": "display_data"
    },
    {
     "data": {
      "text/html": [
       " View sweep at <a href='https://wandb.ai/dylan-home/pnca-af-singletons-sweep-w-mutation-feats/sweeps/x0k5kbpt' target=\"_blank\">https://wandb.ai/dylan-home/pnca-af-singletons-sweep-w-mutation-feats/sweeps/x0k5kbpt</a>"
      ],
      "text/plain": [
       "<IPython.core.display.HTML object>"
      ]
     },
     "metadata": {},
     "output_type": "display_data"
    },
    {
     "data": {
      "text/html": [
       " View run at <a href='https://wandb.ai/dylan-home/pnca-af-singletons-sweep-w-mutation-feats/runs/7g95v9yy' target=\"_blank\">https://wandb.ai/dylan-home/pnca-af-singletons-sweep-w-mutation-feats/runs/7g95v9yy</a>"
      ],
      "text/plain": [
       "<IPython.core.display.HTML object>"
      ]
     },
     "metadata": {},
     "output_type": "display_data"
    },
    {
     "name": "stdout",
     "output_type": "stream",
     "text": [
      "Adjusting edge index and attaching edge weights for cutoff distance 5.362479867146717\n",
      "Using CUDA\n",
      "Early stopping enabled. Patience: 20. Min Delta: 0.\n",
      "Epoch: 010, Train Acc: 0.6358, Test Acc: 0.6200, Train Loss: 0.6583, Test Loss: 0.6664\n",
      "Epoch: 020, Train Acc: 0.6358, Test Acc: 0.6200, Train Loss: 0.6365, Test Loss: 0.6492\n",
      "Epoch: 030, Train Acc: 0.6358, Test Acc: 0.6200, Train Loss: 0.6323, Test Loss: 0.6496\n",
      "Epoch: 040, Train Acc: 0.6358, Test Acc: 0.6200, Train Loss: 0.6279, Test Loss: 0.6513\n",
      "Epoch: 050, Train Acc: 0.6466, Test Acc: 0.6200, Train Loss: 0.6274, Test Loss: 0.6571\n",
      "20 epochs passed without 0 test loss improvement. \n",
      "Early stopping triggered.\n"
     ]
    },
    {
     "data": {
      "text/html": [
       "<style>\n",
       "    table.wandb td:nth-child(1) { padding: 0 10px; text-align: left ; width: auto;} td:nth-child(2) {text-align: left ; width: 100%}\n",
       "    .wandb-row { display: flex; flex-direction: row; flex-wrap: wrap; justify-content: flex-start; width: 100% }\n",
       "    .wandb-col { display: flex; flex-direction: column; flex-basis: 100%; flex: 1; padding: 10px; }\n",
       "    </style>\n",
       "<div class=\"wandb-row\"><div class=\"wandb-col\"><h3>Run history:</h3><br/><table class=\"wandb\"><tr><td>Test Accuracy</td><td>██▁▁▁▅███████████████████████████████▇▇█</td></tr><tr><td>Test F1</td><td>▇▇▁▁▁▅▇▇▇▇▇█▇▇▇▇▇▇▇▇▇▇▇▇▇▇▇▇▇▇▇▇▇▇█▇▇▇▇▇</td></tr><tr><td>Test Loss</td><td>█▇▇▇▇▆▅▄▄▃▃▄▃▂▃▂▁▂▂▁▂▃▁▁▄▃▁▂▄▁▁▄▃▂▃▃▂▃▃▃</td></tr><tr><td>Test Sensitivity</td><td>▁▁████▁▁▁▁▁█▁▁▁▁▁▁▁▁▁▁▁▁▁▁▁▁▁▁▁▁▁▁█▁▁█▁▁</td></tr><tr><td>Test Specificity</td><td>██▁▁▁▅█████▇██████████████████████▇██▇▇█</td></tr><tr><td>Train Accuracy</td><td>▆▅▁▁▁▃▆▆▆▆▅▆▆▆▆▆▆▆▆▆▆▅▆▆▆▆▆▆▆▆▆▆▆▆█▆▆▇▇▆</td></tr><tr><td>Train F1</td><td>▂▁▄▄▄▅▂▂▂▂▁▆▂▂▂▂▂▂▂▂▂▁▂▂▂▂▂▂▃▂▂▂▂▃█▃▂▇▄▃</td></tr><tr><td>Train Loss</td><td>█▇▇▆▆▆▆▅▄▄▃▃▃▃▃▃▂▂▂▂▂▂▂▂▃▂▁▂▂▂▁▂▂▁▂▁▁▁▁▁</td></tr><tr><td>Train Sensitivity</td><td>▁▁███▇▁▁▁▁▁▄▁▁▁▁▁▁▁▁▁▁▁▁▁▁▁▁▂▁▁▁▁▁▄▁▁▄▂▁</td></tr><tr><td>Train Specificity</td><td>██▁▁▁▃█████▆██████████████████████▇██▆██</td></tr></table><br/></div><div class=\"wandb-col\"><h3>Run summary:</h3><br/><table class=\"wandb\"><tr><td>Test Accuracy</td><td>0.62</td></tr><tr><td>Test F1</td><td>0.72464</td></tr><tr><td>Test Loss</td><td>0.65324</td></tr><tr><td>Test Sensitivity</td><td>0.97087</td></tr><tr><td>Test Specificity</td><td>0.24742</td></tr><tr><td>Train Accuracy</td><td>0.63793</td></tr><tr><td>Train F1</td><td>0.72277</td></tr><tr><td>Train Loss</td><td>0.62099</td></tr><tr><td>Train Sensitivity</td><td>0.89024</td></tr><tr><td>Train Specificity</td><td>0.35321</td></tr></table><br/></div></div>"
      ],
      "text/plain": [
       "<IPython.core.display.HTML object>"
      ]
     },
     "metadata": {},
     "output_type": "display_data"
    },
    {
     "data": {
      "text/html": [
       " View run <strong style=\"color:#cdcd00\">mild-sweep-16</strong> at: <a href='https://wandb.ai/dylan-home/pnca-af-singletons-sweep-w-mutation-feats/runs/7g95v9yy' target=\"_blank\">https://wandb.ai/dylan-home/pnca-af-singletons-sweep-w-mutation-feats/runs/7g95v9yy</a><br/>Synced 5 W&B file(s), 0 media file(s), 0 artifact file(s) and 0 other file(s)"
      ],
      "text/plain": [
       "<IPython.core.display.HTML object>"
      ]
     },
     "metadata": {},
     "output_type": "display_data"
    },
    {
     "data": {
      "text/html": [
       "Find logs at: <code>./wandb/run-20250318_192236-7g95v9yy/logs</code>"
      ],
      "text/plain": [
       "<IPython.core.display.HTML object>"
      ]
     },
     "metadata": {},
     "output_type": "display_data"
    },
    {
     "name": "stderr",
     "output_type": "stream",
     "text": [
      "\u001b[34m\u001b[1mwandb\u001b[0m: Agent Starting Run: zjak4jue with config:\n",
      "\u001b[34m\u001b[1mwandb\u001b[0m: \tcutoff_distance: 6.972840851887438\n",
      "\u001b[34m\u001b[1mwandb\u001b[0m: \tdropout: 0.6\n",
      "\u001b[34m\u001b[1mwandb\u001b[0m: \thidden_channels: 256\n",
      "\u001b[34m\u001b[1mwandb\u001b[0m: \tlearning_rate: 8.073768707601326e-08\n",
      "\u001b[34m\u001b[1mwandb\u001b[0m: \tweight_decay: 0.00032626519508115783\n",
      "Failed to detect the name of this notebook, you can set it manually with the WANDB_NOTEBOOK_NAME environment variable to enable code saving.\n",
      "/usr/lib/python3/dist-packages/requests/__init__.py:87: RequestsDependencyWarning: urllib3 (2.2.3) or chardet (4.0.0) doesn't match a supported version!\n",
      "  warnings.warn(\"urllib3 ({}) or chardet ({}) doesn't match a supported \"\n"
     ]
    },
    {
     "data": {
      "text/html": [
       "wandb version 0.19.8 is available!  To upgrade, please run:\n",
       " $ pip install wandb --upgrade"
      ],
      "text/plain": [
       "<IPython.core.display.HTML object>"
      ]
     },
     "metadata": {},
     "output_type": "display_data"
    },
    {
     "data": {
      "text/html": [
       "Tracking run with wandb version 0.16.4"
      ],
      "text/plain": [
       "<IPython.core.display.HTML object>"
      ]
     },
     "metadata": {},
     "output_type": "display_data"
    },
    {
     "data": {
      "text/html": [
       "Run data is saved locally in <code>/mnt/alphafold-volume-1/dylan2/repos/tb-pnca-gnn/dd_pnca/wandb/run-20250318_192307-zjak4jue</code>"
      ],
      "text/plain": [
       "<IPython.core.display.HTML object>"
      ]
     },
     "metadata": {},
     "output_type": "display_data"
    },
    {
     "data": {
      "text/html": [
       "Syncing run <strong><a href='https://wandb.ai/dylan-home/pnca-af-singletons-sweep-w-mutation-feats/runs/zjak4jue' target=\"_blank\">soft-sweep-17</a></strong> to <a href='https://wandb.ai/dylan-home/pnca-af-singletons-sweep-w-mutation-feats' target=\"_blank\">Weights & Biases</a> (<a href='https://wandb.me/run' target=\"_blank\">docs</a>)<br/>Sweep page: <a href='https://wandb.ai/dylan-home/pnca-af-singletons-sweep-w-mutation-feats/sweeps/x0k5kbpt' target=\"_blank\">https://wandb.ai/dylan-home/pnca-af-singletons-sweep-w-mutation-feats/sweeps/x0k5kbpt</a>"
      ],
      "text/plain": [
       "<IPython.core.display.HTML object>"
      ]
     },
     "metadata": {},
     "output_type": "display_data"
    },
    {
     "data": {
      "text/html": [
       " View project at <a href='https://wandb.ai/dylan-home/pnca-af-singletons-sweep-w-mutation-feats' target=\"_blank\">https://wandb.ai/dylan-home/pnca-af-singletons-sweep-w-mutation-feats</a>"
      ],
      "text/plain": [
       "<IPython.core.display.HTML object>"
      ]
     },
     "metadata": {},
     "output_type": "display_data"
    },
    {
     "data": {
      "text/html": [
       " View sweep at <a href='https://wandb.ai/dylan-home/pnca-af-singletons-sweep-w-mutation-feats/sweeps/x0k5kbpt' target=\"_blank\">https://wandb.ai/dylan-home/pnca-af-singletons-sweep-w-mutation-feats/sweeps/x0k5kbpt</a>"
      ],
      "text/plain": [
       "<IPython.core.display.HTML object>"
      ]
     },
     "metadata": {},
     "output_type": "display_data"
    },
    {
     "data": {
      "text/html": [
       " View run at <a href='https://wandb.ai/dylan-home/pnca-af-singletons-sweep-w-mutation-feats/runs/zjak4jue' target=\"_blank\">https://wandb.ai/dylan-home/pnca-af-singletons-sweep-w-mutation-feats/runs/zjak4jue</a>"
      ],
      "text/plain": [
       "<IPython.core.display.HTML object>"
      ]
     },
     "metadata": {},
     "output_type": "display_data"
    },
    {
     "name": "stdout",
     "output_type": "stream",
     "text": [
      "Adjusting edge index and attaching edge weights for cutoff distance 6.972840851887438\n",
      "Using CUDA\n",
      "Early stopping enabled. Patience: 20. Min Delta: 0.\n",
      "Epoch: 010, Train Acc: 0.4116, Test Acc: 0.4150, Train Loss: 0.7980, Test Loss: 0.7804\n",
      "Epoch: 020, Train Acc: 0.4116, Test Acc: 0.4150, Train Loss: 0.8093, Test Loss: 0.7893\n",
      "20 epochs passed without 0 test loss improvement. \n",
      "Early stopping triggered.\n"
     ]
    },
    {
     "data": {
      "text/html": [
       "<style>\n",
       "    table.wandb td:nth-child(1) { padding: 0 10px; text-align: left ; width: auto;} td:nth-child(2) {text-align: left ; width: 100%}\n",
       "    .wandb-row { display: flex; flex-direction: row; flex-wrap: wrap; justify-content: flex-start; width: 100% }\n",
       "    .wandb-col { display: flex; flex-direction: column; flex-basis: 100%; flex: 1; padding: 10px; }\n",
       "    </style>\n",
       "<div class=\"wandb-row\"><div class=\"wandb-col\"><h3>Run history:</h3><br/><table class=\"wandb\"><tr><td>Test Accuracy</td><td>▁▁▁▁▅████████████████</td></tr><tr><td>Test F1</td><td>█████▁▁▁▁▁▁▁▁▁▁▁▁▁▁▁▁</td></tr><tr><td>Test Loss</td><td>▁▂▃▃▄▅▅▆▆▇▇▇█████████</td></tr><tr><td>Test Sensitivity</td><td>█████▁▁▁▁▁▁▁▁▁▁▁▁▁▁▁▁</td></tr><tr><td>Test Specificity</td><td>▁▁▁▁▄████████████████</td></tr><tr><td>Train Accuracy</td><td>▁▁▁▁▄▆███████████████</td></tr><tr><td>Train F1</td><td>████▂▁▃▃▃▃▃▃▃▃▃▃▃▃▃▃▃</td></tr><tr><td>Train Loss</td><td>▁▁▂▃▄▄▅▆▆▇▇▇█████████</td></tr><tr><td>Train Sensitivity</td><td>████▃▁▁▁▁▁▁▁▁▁▁▁▁▁▁▁▁</td></tr><tr><td>Train Specificity</td><td>▁▁▁▁▄▇███████████████</td></tr></table><br/></div><div class=\"wandb-col\"><h3>Run summary:</h3><br/><table class=\"wandb\"><tr><td>Test Accuracy</td><td>0.415</td></tr><tr><td>Test F1</td><td>0.01681</td></tr><tr><td>Test Loss</td><td>0.789</td></tr><tr><td>Test Sensitivity</td><td>0.00971</td></tr><tr><td>Test Specificity</td><td>0.84536</td></tr><tr><td>Train Accuracy</td><td>0.41164</td></tr><tr><td>Train F1</td><td>0.1548</td></tr><tr><td>Train Loss</td><td>0.81018</td></tr><tr><td>Train Sensitivity</td><td>0.10163</td></tr><tr><td>Train Specificity</td><td>0.76147</td></tr></table><br/></div></div>"
      ],
      "text/plain": [
       "<IPython.core.display.HTML object>"
      ]
     },
     "metadata": {},
     "output_type": "display_data"
    },
    {
     "data": {
      "text/html": [
       " View run <strong style=\"color:#cdcd00\">soft-sweep-17</strong> at: <a href='https://wandb.ai/dylan-home/pnca-af-singletons-sweep-w-mutation-feats/runs/zjak4jue' target=\"_blank\">https://wandb.ai/dylan-home/pnca-af-singletons-sweep-w-mutation-feats/runs/zjak4jue</a><br/>Synced 5 W&B file(s), 0 media file(s), 0 artifact file(s) and 0 other file(s)"
      ],
      "text/plain": [
       "<IPython.core.display.HTML object>"
      ]
     },
     "metadata": {},
     "output_type": "display_data"
    },
    {
     "data": {
      "text/html": [
       "Find logs at: <code>./wandb/run-20250318_192307-zjak4jue/logs</code>"
      ],
      "text/plain": [
       "<IPython.core.display.HTML object>"
      ]
     },
     "metadata": {},
     "output_type": "display_data"
    },
    {
     "name": "stderr",
     "output_type": "stream",
     "text": [
      "\u001b[34m\u001b[1mwandb\u001b[0m: Agent Starting Run: b1o4j6t8 with config:\n",
      "\u001b[34m\u001b[1mwandb\u001b[0m: \tcutoff_distance: 7.45357526429016\n",
      "\u001b[34m\u001b[1mwandb\u001b[0m: \tdropout: 0.4\n",
      "\u001b[34m\u001b[1mwandb\u001b[0m: \thidden_channels: 32\n",
      "\u001b[34m\u001b[1mwandb\u001b[0m: \tlearning_rate: 0.0028626000930004744\n",
      "\u001b[34m\u001b[1mwandb\u001b[0m: \tweight_decay: 3.477204375619711e-05\n",
      "Failed to detect the name of this notebook, you can set it manually with the WANDB_NOTEBOOK_NAME environment variable to enable code saving.\n",
      "/usr/lib/python3/dist-packages/requests/__init__.py:87: RequestsDependencyWarning: urllib3 (2.2.3) or chardet (4.0.0) doesn't match a supported version!\n",
      "  warnings.warn(\"urllib3 ({}) or chardet ({}) doesn't match a supported \"\n"
     ]
    },
    {
     "data": {
      "text/html": [
       "wandb version 0.19.8 is available!  To upgrade, please run:\n",
       " $ pip install wandb --upgrade"
      ],
      "text/plain": [
       "<IPython.core.display.HTML object>"
      ]
     },
     "metadata": {},
     "output_type": "display_data"
    },
    {
     "data": {
      "text/html": [
       "Tracking run with wandb version 0.16.4"
      ],
      "text/plain": [
       "<IPython.core.display.HTML object>"
      ]
     },
     "metadata": {},
     "output_type": "display_data"
    },
    {
     "data": {
      "text/html": [
       "Run data is saved locally in <code>/mnt/alphafold-volume-1/dylan2/repos/tb-pnca-gnn/dd_pnca/wandb/run-20250318_192357-b1o4j6t8</code>"
      ],
      "text/plain": [
       "<IPython.core.display.HTML object>"
      ]
     },
     "metadata": {},
     "output_type": "display_data"
    },
    {
     "data": {
      "text/html": [
       "Syncing run <strong><a href='https://wandb.ai/dylan-home/pnca-af-singletons-sweep-w-mutation-feats/runs/b1o4j6t8' target=\"_blank\">spring-sweep-18</a></strong> to <a href='https://wandb.ai/dylan-home/pnca-af-singletons-sweep-w-mutation-feats' target=\"_blank\">Weights & Biases</a> (<a href='https://wandb.me/run' target=\"_blank\">docs</a>)<br/>Sweep page: <a href='https://wandb.ai/dylan-home/pnca-af-singletons-sweep-w-mutation-feats/sweeps/x0k5kbpt' target=\"_blank\">https://wandb.ai/dylan-home/pnca-af-singletons-sweep-w-mutation-feats/sweeps/x0k5kbpt</a>"
      ],
      "text/plain": [
       "<IPython.core.display.HTML object>"
      ]
     },
     "metadata": {},
     "output_type": "display_data"
    },
    {
     "data": {
      "text/html": [
       " View project at <a href='https://wandb.ai/dylan-home/pnca-af-singletons-sweep-w-mutation-feats' target=\"_blank\">https://wandb.ai/dylan-home/pnca-af-singletons-sweep-w-mutation-feats</a>"
      ],
      "text/plain": [
       "<IPython.core.display.HTML object>"
      ]
     },
     "metadata": {},
     "output_type": "display_data"
    },
    {
     "data": {
      "text/html": [
       " View sweep at <a href='https://wandb.ai/dylan-home/pnca-af-singletons-sweep-w-mutation-feats/sweeps/x0k5kbpt' target=\"_blank\">https://wandb.ai/dylan-home/pnca-af-singletons-sweep-w-mutation-feats/sweeps/x0k5kbpt</a>"
      ],
      "text/plain": [
       "<IPython.core.display.HTML object>"
      ]
     },
     "metadata": {},
     "output_type": "display_data"
    },
    {
     "data": {
      "text/html": [
       " View run at <a href='https://wandb.ai/dylan-home/pnca-af-singletons-sweep-w-mutation-feats/runs/b1o4j6t8' target=\"_blank\">https://wandb.ai/dylan-home/pnca-af-singletons-sweep-w-mutation-feats/runs/b1o4j6t8</a>"
      ],
      "text/plain": [
       "<IPython.core.display.HTML object>"
      ]
     },
     "metadata": {},
     "output_type": "display_data"
    },
    {
     "name": "stdout",
     "output_type": "stream",
     "text": [
      "Adjusting edge index and attaching edge weights for cutoff distance 7.45357526429016\n",
      "Using CUDA\n",
      "Early stopping enabled. Patience: 20. Min Delta: 0.\n",
      "Epoch: 010, Train Acc: 0.6358, Test Acc: 0.6200, Train Loss: 0.6522, Test Loss: 0.6575\n",
      "Epoch: 020, Train Acc: 0.6358, Test Acc: 0.6200, Train Loss: 0.6418, Test Loss: 0.6467\n",
      "Epoch: 030, Train Acc: 0.6358, Test Acc: 0.6200, Train Loss: 0.6312, Test Loss: 0.6469\n",
      "20 epochs passed without 0 test loss improvement. \n",
      "Early stopping triggered.\n"
     ]
    },
    {
     "data": {
      "text/html": [
       "<style>\n",
       "    table.wandb td:nth-child(1) { padding: 0 10px; text-align: left ; width: auto;} td:nth-child(2) {text-align: left ; width: 100%}\n",
       "    .wandb-row { display: flex; flex-direction: row; flex-wrap: wrap; justify-content: flex-start; width: 100% }\n",
       "    .wandb-col { display: flex; flex-direction: column; flex-basis: 100%; flex: 1; padding: 10px; }\n",
       "    </style>\n",
       "<div class=\"wandb-row\"><div class=\"wandb-col\"><h3>Run history:</h3><br/><table class=\"wandb\"><tr><td>Test Accuracy</td><td>▁▁█▆▆▆▆▆███████████████████████████</td></tr><tr><td>Test F1</td><td>▁▁█████████████████████████████████</td></tr><tr><td>Test Loss</td><td>▅█▂▅▆▅▄▄▄▃▃▂▁▁▁▁▁▁▂▂▂▂▂▂▂▂▂▂▂▂▂▂▂▂▁</td></tr><tr><td>Test Sensitivity</td><td>▁▁█████████████████████████████████</td></tr><tr><td>Test Specificity</td><td>██▂▁▁▁▁▁▂▂▂▂▂▂▂▂▂▂▂▂▂▂▂▂▂▂▂▂▂▂▂▂▂▂▂</td></tr><tr><td>Train Accuracy</td><td>▁▁█▇▇▇▇▇███████████████████████████</td></tr><tr><td>Train F1</td><td>▁▁█████████████████████████████████</td></tr><tr><td>Train Loss</td><td>▆█▃▃▃▃▂▃▃▃▃▂▂▂▂▂▂▂▂▂▂▂▂▂▂▁▁▁▂▁▁▁▁▁▁</td></tr><tr><td>Train Sensitivity</td><td>▁▁▇█████▇▇▇▇▇▇▇▇▇▇▇▇▇▇▇▇▇▇▇▇▇▇▇▇▇▇▇</td></tr><tr><td>Train Specificity</td><td>██▂▁▁▁▁▁▂▂▂▂▂▂▂▂▂▂▂▂▂▂▂▂▂▂▂▂▂▂▂▂▂▂▂</td></tr></table><br/></div><div class=\"wandb-col\"><h3>Run summary:</h3><br/><table class=\"wandb\"><tr><td>Test Accuracy</td><td>0.62</td></tr><tr><td>Test F1</td><td>0.72464</td></tr><tr><td>Test Loss</td><td>0.64282</td></tr><tr><td>Test Sensitivity</td><td>0.97087</td></tr><tr><td>Test Specificity</td><td>0.24742</td></tr><tr><td>Train Accuracy</td><td>0.63578</td></tr><tr><td>Train F1</td><td>0.72066</td></tr><tr><td>Train Loss</td><td>0.62915</td></tr><tr><td>Train Sensitivity</td><td>0.88618</td></tr><tr><td>Train Specificity</td><td>0.35321</td></tr></table><br/></div></div>"
      ],
      "text/plain": [
       "<IPython.core.display.HTML object>"
      ]
     },
     "metadata": {},
     "output_type": "display_data"
    },
    {
     "data": {
      "text/html": [
       " View run <strong style=\"color:#cdcd00\">spring-sweep-18</strong> at: <a href='https://wandb.ai/dylan-home/pnca-af-singletons-sweep-w-mutation-feats/runs/b1o4j6t8' target=\"_blank\">https://wandb.ai/dylan-home/pnca-af-singletons-sweep-w-mutation-feats/runs/b1o4j6t8</a><br/>Synced 5 W&B file(s), 0 media file(s), 0 artifact file(s) and 0 other file(s)"
      ],
      "text/plain": [
       "<IPython.core.display.HTML object>"
      ]
     },
     "metadata": {},
     "output_type": "display_data"
    },
    {
     "data": {
      "text/html": [
       "Find logs at: <code>./wandb/run-20250318_192357-b1o4j6t8/logs</code>"
      ],
      "text/plain": [
       "<IPython.core.display.HTML object>"
      ]
     },
     "metadata": {},
     "output_type": "display_data"
    },
    {
     "name": "stderr",
     "output_type": "stream",
     "text": [
      "\u001b[34m\u001b[1mwandb\u001b[0m: Agent Starting Run: 4jub96bg with config:\n",
      "\u001b[34m\u001b[1mwandb\u001b[0m: \tcutoff_distance: 4.689627663183488\n",
      "\u001b[34m\u001b[1mwandb\u001b[0m: \tdropout: 0.2\n",
      "\u001b[34m\u001b[1mwandb\u001b[0m: \thidden_channels: 32\n",
      "\u001b[34m\u001b[1mwandb\u001b[0m: \tlearning_rate: 5.185909857820523e-08\n",
      "\u001b[34m\u001b[1mwandb\u001b[0m: \tweight_decay: 0.00018790186134274848\n",
      "Failed to detect the name of this notebook, you can set it manually with the WANDB_NOTEBOOK_NAME environment variable to enable code saving.\n",
      "/usr/lib/python3/dist-packages/requests/__init__.py:87: RequestsDependencyWarning: urllib3 (2.2.3) or chardet (4.0.0) doesn't match a supported version!\n",
      "  warnings.warn(\"urllib3 ({}) or chardet ({}) doesn't match a supported \"\n"
     ]
    },
    {
     "data": {
      "text/html": [
       "wandb version 0.19.8 is available!  To upgrade, please run:\n",
       " $ pip install wandb --upgrade"
      ],
      "text/plain": [
       "<IPython.core.display.HTML object>"
      ]
     },
     "metadata": {},
     "output_type": "display_data"
    },
    {
     "data": {
      "text/html": [
       "Tracking run with wandb version 0.16.4"
      ],
      "text/plain": [
       "<IPython.core.display.HTML object>"
      ]
     },
     "metadata": {},
     "output_type": "display_data"
    },
    {
     "data": {
      "text/html": [
       "Run data is saved locally in <code>/mnt/alphafold-volume-1/dylan2/repos/tb-pnca-gnn/dd_pnca/wandb/run-20250318_192459-4jub96bg</code>"
      ],
      "text/plain": [
       "<IPython.core.display.HTML object>"
      ]
     },
     "metadata": {},
     "output_type": "display_data"
    },
    {
     "data": {
      "text/html": [
       "Syncing run <strong><a href='https://wandb.ai/dylan-home/pnca-af-singletons-sweep-w-mutation-feats/runs/4jub96bg' target=\"_blank\">amber-sweep-19</a></strong> to <a href='https://wandb.ai/dylan-home/pnca-af-singletons-sweep-w-mutation-feats' target=\"_blank\">Weights & Biases</a> (<a href='https://wandb.me/run' target=\"_blank\">docs</a>)<br/>Sweep page: <a href='https://wandb.ai/dylan-home/pnca-af-singletons-sweep-w-mutation-feats/sweeps/x0k5kbpt' target=\"_blank\">https://wandb.ai/dylan-home/pnca-af-singletons-sweep-w-mutation-feats/sweeps/x0k5kbpt</a>"
      ],
      "text/plain": [
       "<IPython.core.display.HTML object>"
      ]
     },
     "metadata": {},
     "output_type": "display_data"
    },
    {
     "data": {
      "text/html": [
       " View project at <a href='https://wandb.ai/dylan-home/pnca-af-singletons-sweep-w-mutation-feats' target=\"_blank\">https://wandb.ai/dylan-home/pnca-af-singletons-sweep-w-mutation-feats</a>"
      ],
      "text/plain": [
       "<IPython.core.display.HTML object>"
      ]
     },
     "metadata": {},
     "output_type": "display_data"
    },
    {
     "data": {
      "text/html": [
       " View sweep at <a href='https://wandb.ai/dylan-home/pnca-af-singletons-sweep-w-mutation-feats/sweeps/x0k5kbpt' target=\"_blank\">https://wandb.ai/dylan-home/pnca-af-singletons-sweep-w-mutation-feats/sweeps/x0k5kbpt</a>"
      ],
      "text/plain": [
       "<IPython.core.display.HTML object>"
      ]
     },
     "metadata": {},
     "output_type": "display_data"
    },
    {
     "data": {
      "text/html": [
       " View run at <a href='https://wandb.ai/dylan-home/pnca-af-singletons-sweep-w-mutation-feats/runs/4jub96bg' target=\"_blank\">https://wandb.ai/dylan-home/pnca-af-singletons-sweep-w-mutation-feats/runs/4jub96bg</a>"
      ],
      "text/plain": [
       "<IPython.core.display.HTML object>"
      ]
     },
     "metadata": {},
     "output_type": "display_data"
    },
    {
     "name": "stdout",
     "output_type": "stream",
     "text": [
      "Adjusting edge index and attaching edge weights for cutoff distance 4.689627663183488\n",
      "Using CUDA\n",
      "Early stopping enabled. Patience: 20. Min Delta: 0.\n",
      "Epoch: 010, Train Acc: 0.4698, Test Acc: 0.4850, Train Loss: 0.6976, Test Loss: 0.6962\n",
      "Epoch: 020, Train Acc: 0.4289, Test Acc: 0.4100, Train Loss: 0.6959, Test Loss: 0.6959\n",
      "20 epochs passed without 0 test loss improvement. \n",
      "Early stopping triggered.\n"
     ]
    },
    {
     "data": {
      "text/html": [
       "<style>\n",
       "    table.wandb td:nth-child(1) { padding: 0 10px; text-align: left ; width: auto;} td:nth-child(2) {text-align: left ; width: 100%}\n",
       "    .wandb-row { display: flex; flex-direction: row; flex-wrap: wrap; justify-content: flex-start; width: 100% }\n",
       "    .wandb-col { display: flex; flex-direction: column; flex-basis: 100%; flex: 1; padding: 10px; }\n",
       "    </style>\n",
       "<div class=\"wandb-row\"><div class=\"wandb-col\"><h3>Run history:</h3><br/><table class=\"wandb\"><tr><td>Test Accuracy</td><td>██████████████▆▆▆▂▂▁▅</td></tr><tr><td>Test F1</td><td>▁▁▁▁▁▁▁▁▁▁▁▁▁▁▁▁▁▁▁▃█</td></tr><tr><td>Test Loss</td><td>▁▃▅▇███▇▆▅▄▄▃▂▂▂▂▂▃▃▄</td></tr><tr><td>Test Sensitivity</td><td>▁▁▁▁▁▁▁▁▁▁▁▁▁▁▁▁▁▁▁▂█</td></tr><tr><td>Test Specificity</td><td>██████████████▇▇▇▇▆▅▁</td></tr><tr><td>Train Accuracy</td><td>██████████████▃▃▃▁▁▂▇</td></tr><tr><td>Train F1</td><td>▁▁▁▁▁▁▁▁▁▁▁▁▁▁▁▁▁▂▃▅█</td></tr><tr><td>Train Loss</td><td>▄▅▆▇▆▆█▅▅▅▅▄▃▃▃▂▂▂▁▁▁</td></tr><tr><td>Train Sensitivity</td><td>▁▁▁▁▁▁▁▁▁▁▁▁▁▁▁▁▁▂▂▄█</td></tr><tr><td>Train Specificity</td><td>██████████████▇▇▇▆▅▅▁</td></tr></table><br/></div><div class=\"wandb-col\"><h3>Run summary:</h3><br/><table class=\"wandb\"><tr><td>Test Accuracy</td><td>0.45</td></tr><tr><td>Test F1</td><td>0.47619</td></tr><tr><td>Test Loss</td><td>0.69603</td></tr><tr><td>Test Sensitivity</td><td>0.48544</td></tr><tr><td>Test Specificity</td><td>0.41237</td></tr><tr><td>Train Accuracy</td><td>0.46336</td></tr><tr><td>Train F1</td><td>0.5239</td></tr><tr><td>Train Loss</td><td>0.69597</td></tr><tr><td>Train Sensitivity</td><td>0.55691</td></tr><tr><td>Train Specificity</td><td>0.3578</td></tr></table><br/></div></div>"
      ],
      "text/plain": [
       "<IPython.core.display.HTML object>"
      ]
     },
     "metadata": {},
     "output_type": "display_data"
    },
    {
     "data": {
      "text/html": [
       " View run <strong style=\"color:#cdcd00\">amber-sweep-19</strong> at: <a href='https://wandb.ai/dylan-home/pnca-af-singletons-sweep-w-mutation-feats/runs/4jub96bg' target=\"_blank\">https://wandb.ai/dylan-home/pnca-af-singletons-sweep-w-mutation-feats/runs/4jub96bg</a><br/>Synced 5 W&B file(s), 0 media file(s), 0 artifact file(s) and 0 other file(s)"
      ],
      "text/plain": [
       "<IPython.core.display.HTML object>"
      ]
     },
     "metadata": {},
     "output_type": "display_data"
    },
    {
     "data": {
      "text/html": [
       "Find logs at: <code>./wandb/run-20250318_192459-4jub96bg/logs</code>"
      ],
      "text/plain": [
       "<IPython.core.display.HTML object>"
      ]
     },
     "metadata": {},
     "output_type": "display_data"
    },
    {
     "name": "stderr",
     "output_type": "stream",
     "text": [
      "\u001b[34m\u001b[1mwandb\u001b[0m: Agent Starting Run: c7enc6z5 with config:\n",
      "\u001b[34m\u001b[1mwandb\u001b[0m: \tcutoff_distance: 6.139037830075159\n",
      "\u001b[34m\u001b[1mwandb\u001b[0m: \tdropout: 0.6\n",
      "\u001b[34m\u001b[1mwandb\u001b[0m: \thidden_channels: 256\n",
      "\u001b[34m\u001b[1mwandb\u001b[0m: \tlearning_rate: 3.3678240460092623e-06\n",
      "\u001b[34m\u001b[1mwandb\u001b[0m: \tweight_decay: 0.00075730808734815\n",
      "Failed to detect the name of this notebook, you can set it manually with the WANDB_NOTEBOOK_NAME environment variable to enable code saving.\n",
      "/usr/lib/python3/dist-packages/requests/__init__.py:87: RequestsDependencyWarning: urllib3 (2.2.3) or chardet (4.0.0) doesn't match a supported version!\n",
      "  warnings.warn(\"urllib3 ({}) or chardet ({}) doesn't match a supported \"\n"
     ]
    },
    {
     "data": {
      "text/html": [
       "wandb version 0.19.8 is available!  To upgrade, please run:\n",
       " $ pip install wandb --upgrade"
      ],
      "text/plain": [
       "<IPython.core.display.HTML object>"
      ]
     },
     "metadata": {},
     "output_type": "display_data"
    },
    {
     "data": {
      "text/html": [
       "Tracking run with wandb version 0.16.4"
      ],
      "text/plain": [
       "<IPython.core.display.HTML object>"
      ]
     },
     "metadata": {},
     "output_type": "display_data"
    },
    {
     "data": {
      "text/html": [
       "Run data is saved locally in <code>/mnt/alphafold-volume-1/dylan2/repos/tb-pnca-gnn/dd_pnca/wandb/run-20250318_192520-c7enc6z5</code>"
      ],
      "text/plain": [
       "<IPython.core.display.HTML object>"
      ]
     },
     "metadata": {},
     "output_type": "display_data"
    },
    {
     "data": {
      "text/html": [
       "Syncing run <strong><a href='https://wandb.ai/dylan-home/pnca-af-singletons-sweep-w-mutation-feats/runs/c7enc6z5' target=\"_blank\">dulcet-sweep-20</a></strong> to <a href='https://wandb.ai/dylan-home/pnca-af-singletons-sweep-w-mutation-feats' target=\"_blank\">Weights & Biases</a> (<a href='https://wandb.me/run' target=\"_blank\">docs</a>)<br/>Sweep page: <a href='https://wandb.ai/dylan-home/pnca-af-singletons-sweep-w-mutation-feats/sweeps/x0k5kbpt' target=\"_blank\">https://wandb.ai/dylan-home/pnca-af-singletons-sweep-w-mutation-feats/sweeps/x0k5kbpt</a>"
      ],
      "text/plain": [
       "<IPython.core.display.HTML object>"
      ]
     },
     "metadata": {},
     "output_type": "display_data"
    },
    {
     "data": {
      "text/html": [
       " View project at <a href='https://wandb.ai/dylan-home/pnca-af-singletons-sweep-w-mutation-feats' target=\"_blank\">https://wandb.ai/dylan-home/pnca-af-singletons-sweep-w-mutation-feats</a>"
      ],
      "text/plain": [
       "<IPython.core.display.HTML object>"
      ]
     },
     "metadata": {},
     "output_type": "display_data"
    },
    {
     "data": {
      "text/html": [
       " View sweep at <a href='https://wandb.ai/dylan-home/pnca-af-singletons-sweep-w-mutation-feats/sweeps/x0k5kbpt' target=\"_blank\">https://wandb.ai/dylan-home/pnca-af-singletons-sweep-w-mutation-feats/sweeps/x0k5kbpt</a>"
      ],
      "text/plain": [
       "<IPython.core.display.HTML object>"
      ]
     },
     "metadata": {},
     "output_type": "display_data"
    },
    {
     "data": {
      "text/html": [
       " View run at <a href='https://wandb.ai/dylan-home/pnca-af-singletons-sweep-w-mutation-feats/runs/c7enc6z5' target=\"_blank\">https://wandb.ai/dylan-home/pnca-af-singletons-sweep-w-mutation-feats/runs/c7enc6z5</a>"
      ],
      "text/plain": [
       "<IPython.core.display.HTML object>"
      ]
     },
     "metadata": {},
     "output_type": "display_data"
    },
    {
     "name": "stdout",
     "output_type": "stream",
     "text": [
      "Adjusting edge index and attaching edge weights for cutoff distance 6.139037830075159\n",
      "Using CUDA\n",
      "Early stopping enabled. Patience: 20. Min Delta: 0.\n",
      "Epoch: 010, Train Acc: 0.4763, Test Acc: 0.4500, Train Loss: 0.7030, Test Loss: 0.7051\n",
      "Epoch: 020, Train Acc: 0.5797, Test Acc: 0.5500, Train Loss: 0.6777, Test Loss: 0.6845\n",
      "Epoch: 030, Train Acc: 0.6358, Test Acc: 0.6200, Train Loss: 0.6600, Test Loss: 0.6689\n",
      "Epoch: 040, Train Acc: 0.6358, Test Acc: 0.6200, Train Loss: 0.6501, Test Loss: 0.6603\n",
      "Epoch: 050, Train Acc: 0.6358, Test Acc: 0.6200, Train Loss: 0.6451, Test Loss: 0.6551\n",
      "Epoch: 060, Train Acc: 0.6358, Test Acc: 0.6200, Train Loss: 0.6418, Test Loss: 0.6519\n",
      "Epoch: 070, Train Acc: 0.6358, Test Acc: 0.6200, Train Loss: 0.6410, Test Loss: 0.6501\n",
      "Epoch: 080, Train Acc: 0.6358, Test Acc: 0.6200, Train Loss: 0.6399, Test Loss: 0.6489\n",
      "Epoch: 090, Train Acc: 0.6358, Test Acc: 0.6200, Train Loss: 0.6396, Test Loss: 0.6484\n",
      "Epoch: 100, Train Acc: 0.6358, Test Acc: 0.6200, Train Loss: 0.6381, Test Loss: 0.6483\n",
      "Epoch: 110, Train Acc: 0.6358, Test Acc: 0.6200, Train Loss: 0.6381, Test Loss: 0.6482\n",
      "Epoch: 120, Train Acc: 0.6358, Test Acc: 0.6200, Train Loss: 0.6381, Test Loss: 0.6488\n",
      "20 epochs passed without 0 test loss improvement. \n",
      "Early stopping triggered.\n"
     ]
    },
    {
     "data": {
      "text/html": [
       "<style>\n",
       "    table.wandb td:nth-child(1) { padding: 0 10px; text-align: left ; width: auto;} td:nth-child(2) {text-align: left ; width: 100%}\n",
       "    .wandb-row { display: flex; flex-direction: row; flex-wrap: wrap; justify-content: flex-start; width: 100% }\n",
       "    .wandb-col { display: flex; flex-direction: column; flex-basis: 100%; flex: 1; padding: 10px; }\n",
       "    </style>\n",
       "<div class=\"wandb-row\"><div class=\"wandb-col\"><h3>Run history:</h3><br/><table class=\"wandb\"><tr><td>Test Accuracy</td><td>▁▂▂▃▆▆▆▇▇███████████████████████████████</td></tr><tr><td>Test F1</td><td>▁▁▁▃▇███████████████████████████████████</td></tr><tr><td>Test Loss</td><td>████▇▆▅▅▄▄▃▃▃▂▂▂▂▂▂▁▁▁▁▁▁▁▁▁▁▁▁▁▁▁▁▁▁▁▁▁</td></tr><tr><td>Test Sensitivity</td><td>▁▁▁▂▆███████████████████████████████████</td></tr><tr><td>Test Specificity</td><td>▇██▇▄▁▁▁▁▂▂▂▂▂▂▂▂▂▂▂▂▂▂▂▂▂▂▂▂▂▂▂▂▂▂▂▂▂▂▂</td></tr><tr><td>Train Accuracy</td><td>▁▂▃▄▇▇▇▇▇███████████████████████████████</td></tr><tr><td>Train F1</td><td>▁▁▁▄▇███████████████████████████████████</td></tr><tr><td>Train Loss</td><td>███▇▇▆▅▄▄▃▃▃▂▂▂▂▂▂▂▁▁▁▂▁▂▁▁▁▁▁▁▁▁▁▁▁▁▁▁▁</td></tr><tr><td>Train Sensitivity</td><td>▁▁▁▃▆████▇▇▇▇▇▇▇▇▇▇▇▇▇▇▇▇▇▇▇▇▇▇▇▇▇▇▇▇▇▇▇</td></tr><tr><td>Train Specificity</td><td>▇██▇▄▁▁▂▂▄▄▄▄▄▄▄▄▄▄▄▄▄▄▄▄▄▄▄▄▄▄▄▄▄▄▄▄▄▄▄</td></tr></table><br/></div><div class=\"wandb-col\"><h3>Run summary:</h3><br/><table class=\"wandb\"><tr><td>Test Accuracy</td><td>0.62</td></tr><tr><td>Test F1</td><td>0.72464</td></tr><tr><td>Test Loss</td><td>0.64892</td></tr><tr><td>Test Sensitivity</td><td>0.97087</td></tr><tr><td>Test Specificity</td><td>0.24742</td></tr><tr><td>Train Accuracy</td><td>0.63578</td></tr><tr><td>Train F1</td><td>0.72066</td></tr><tr><td>Train Loss</td><td>0.64135</td></tr><tr><td>Train Sensitivity</td><td>0.88618</td></tr><tr><td>Train Specificity</td><td>0.35321</td></tr></table><br/></div></div>"
      ],
      "text/plain": [
       "<IPython.core.display.HTML object>"
      ]
     },
     "metadata": {},
     "output_type": "display_data"
    },
    {
     "data": {
      "text/html": [
       " View run <strong style=\"color:#cdcd00\">dulcet-sweep-20</strong> at: <a href='https://wandb.ai/dylan-home/pnca-af-singletons-sweep-w-mutation-feats/runs/c7enc6z5' target=\"_blank\">https://wandb.ai/dylan-home/pnca-af-singletons-sweep-w-mutation-feats/runs/c7enc6z5</a><br/>Synced 5 W&B file(s), 0 media file(s), 0 artifact file(s) and 0 other file(s)"
      ],
      "text/plain": [
       "<IPython.core.display.HTML object>"
      ]
     },
     "metadata": {},
     "output_type": "display_data"
    },
    {
     "data": {
      "text/html": [
       "Find logs at: <code>./wandb/run-20250318_192520-c7enc6z5/logs</code>"
      ],
      "text/plain": [
       "<IPython.core.display.HTML object>"
      ]
     },
     "metadata": {},
     "output_type": "display_data"
    },
    {
     "name": "stderr",
     "output_type": "stream",
     "text": [
      "\u001b[34m\u001b[1mwandb\u001b[0m: Agent Starting Run: 6khrlbyb with config:\n",
      "\u001b[34m\u001b[1mwandb\u001b[0m: \tcutoff_distance: 7.475087876560125\n",
      "\u001b[34m\u001b[1mwandb\u001b[0m: \tdropout: 0.2\n",
      "\u001b[34m\u001b[1mwandb\u001b[0m: \thidden_channels: 64\n",
      "\u001b[34m\u001b[1mwandb\u001b[0m: \tlearning_rate: 5.171295737895517e-08\n",
      "\u001b[34m\u001b[1mwandb\u001b[0m: \tweight_decay: 0.0007514831711783906\n",
      "Failed to detect the name of this notebook, you can set it manually with the WANDB_NOTEBOOK_NAME environment variable to enable code saving.\n",
      "/usr/lib/python3/dist-packages/requests/__init__.py:87: RequestsDependencyWarning: urllib3 (2.2.3) or chardet (4.0.0) doesn't match a supported version!\n",
      "  warnings.warn(\"urllib3 ({}) or chardet ({}) doesn't match a supported \"\n"
     ]
    },
    {
     "data": {
      "text/html": [
       "wandb version 0.19.8 is available!  To upgrade, please run:\n",
       " $ pip install wandb --upgrade"
      ],
      "text/plain": [
       "<IPython.core.display.HTML object>"
      ]
     },
     "metadata": {},
     "output_type": "display_data"
    },
    {
     "data": {
      "text/html": [
       "Tracking run with wandb version 0.16.4"
      ],
      "text/plain": [
       "<IPython.core.display.HTML object>"
      ]
     },
     "metadata": {},
     "output_type": "display_data"
    },
    {
     "data": {
      "text/html": [
       "Run data is saved locally in <code>/mnt/alphafold-volume-1/dylan2/repos/tb-pnca-gnn/dd_pnca/wandb/run-20250318_192611-6khrlbyb</code>"
      ],
      "text/plain": [
       "<IPython.core.display.HTML object>"
      ]
     },
     "metadata": {},
     "output_type": "display_data"
    },
    {
     "data": {
      "text/html": [
       "Syncing run <strong><a href='https://wandb.ai/dylan-home/pnca-af-singletons-sweep-w-mutation-feats/runs/6khrlbyb' target=\"_blank\">expert-sweep-21</a></strong> to <a href='https://wandb.ai/dylan-home/pnca-af-singletons-sweep-w-mutation-feats' target=\"_blank\">Weights & Biases</a> (<a href='https://wandb.me/run' target=\"_blank\">docs</a>)<br/>Sweep page: <a href='https://wandb.ai/dylan-home/pnca-af-singletons-sweep-w-mutation-feats/sweeps/x0k5kbpt' target=\"_blank\">https://wandb.ai/dylan-home/pnca-af-singletons-sweep-w-mutation-feats/sweeps/x0k5kbpt</a>"
      ],
      "text/plain": [
       "<IPython.core.display.HTML object>"
      ]
     },
     "metadata": {},
     "output_type": "display_data"
    },
    {
     "data": {
      "text/html": [
       " View project at <a href='https://wandb.ai/dylan-home/pnca-af-singletons-sweep-w-mutation-feats' target=\"_blank\">https://wandb.ai/dylan-home/pnca-af-singletons-sweep-w-mutation-feats</a>"
      ],
      "text/plain": [
       "<IPython.core.display.HTML object>"
      ]
     },
     "metadata": {},
     "output_type": "display_data"
    },
    {
     "data": {
      "text/html": [
       " View sweep at <a href='https://wandb.ai/dylan-home/pnca-af-singletons-sweep-w-mutation-feats/sweeps/x0k5kbpt' target=\"_blank\">https://wandb.ai/dylan-home/pnca-af-singletons-sweep-w-mutation-feats/sweeps/x0k5kbpt</a>"
      ],
      "text/plain": [
       "<IPython.core.display.HTML object>"
      ]
     },
     "metadata": {},
     "output_type": "display_data"
    },
    {
     "data": {
      "text/html": [
       " View run at <a href='https://wandb.ai/dylan-home/pnca-af-singletons-sweep-w-mutation-feats/runs/6khrlbyb' target=\"_blank\">https://wandb.ai/dylan-home/pnca-af-singletons-sweep-w-mutation-feats/runs/6khrlbyb</a>"
      ],
      "text/plain": [
       "<IPython.core.display.HTML object>"
      ]
     },
     "metadata": {},
     "output_type": "display_data"
    },
    {
     "name": "stdout",
     "output_type": "stream",
     "text": [
      "Adjusting edge index and attaching edge weights for cutoff distance 7.475087876560125\n",
      "Using CUDA\n",
      "Early stopping enabled. Patience: 20. Min Delta: 0.\n",
      "Epoch: 010, Train Acc: 0.4461, Test Acc: 0.5000, Train Loss: 0.7085, Test Loss: 0.6664\n",
      "Epoch: 020, Train Acc: 0.5237, Test Acc: 0.5250, Train Loss: 0.7074, Test Loss: 0.6654\n",
      "20 epochs passed without 0 test loss improvement. \n",
      "Early stopping triggered.\n"
     ]
    },
    {
     "data": {
      "text/html": [
       "<style>\n",
       "    table.wandb td:nth-child(1) { padding: 0 10px; text-align: left ; width: auto;} td:nth-child(2) {text-align: left ; width: 100%}\n",
       "    .wandb-row { display: flex; flex-direction: row; flex-wrap: wrap; justify-content: flex-start; width: 100% }\n",
       "    .wandb-col { display: flex; flex-direction: column; flex-basis: 100%; flex: 1; padding: 10px; }\n",
       "    </style>\n",
       "<div class=\"wandb-row\"><div class=\"wandb-col\"><h3>Run history:</h3><br/><table class=\"wandb\"><tr><td>Test Accuracy</td><td>█▆▆▆▆▄▂▁▁▂▂▁▂▃▁▂▂▂▃▃▃</td></tr><tr><td>Test F1</td><td>█▇▇▇▆▅▄▂▁▁▁▁▂▂▃▄▅▅▆▆▆</td></tr><tr><td>Test Loss</td><td>▁▂▂▃▄▅▆▇▇████████▇▇▇▇</td></tr><tr><td>Test Sensitivity</td><td>█▇▆▆▅▄▃▁▁▁▁▁▁▂▂▃▄▄▅▅▅</td></tr><tr><td>Test Specificity</td><td>▁▂▃▄▄▅▆▇█████▇▆▅▄▄▃▃▃</td></tr><tr><td>Train Accuracy</td><td>█▇▇▆▆▄▂▁▁▁▁▂▂▃▂▃▃▃▃▄▄</td></tr><tr><td>Train F1</td><td>█▇▇▇▆▅▃▂▁▁▁▂▂▃▄▄▅▅▆▆▆</td></tr><tr><td>Train Loss</td><td>▁▂▃▄▄▅▆▇▇█▇▇▇█▇██████</td></tr><tr><td>Train Sensitivity</td><td>█▇▆▆▅▄▂▁▁▁▁▁▂▂▃▃▄▄▅▅▅</td></tr><tr><td>Train Specificity</td><td>▁▂▄▄▄▅▆██████▇▆▆▅▄▄▃▃</td></tr></table><br/></div><div class=\"wandb-col\"><h3>Run summary:</h3><br/><table class=\"wandb\"><tr><td>Test Accuracy</td><td>0.525</td></tr><tr><td>Test F1</td><td>0.57778</td></tr><tr><td>Test Loss</td><td>0.66527</td></tr><tr><td>Test Sensitivity</td><td>0.63107</td></tr><tr><td>Test Specificity</td><td>0.41237</td></tr><tr><td>Train Accuracy</td><td>0.52155</td></tr><tr><td>Train F1</td><td>0.55777</td></tr><tr><td>Train Loss</td><td>0.70867</td></tr><tr><td>Train Sensitivity</td><td>0.56911</td></tr><tr><td>Train Specificity</td><td>0.46789</td></tr></table><br/></div></div>"
      ],
      "text/plain": [
       "<IPython.core.display.HTML object>"
      ]
     },
     "metadata": {},
     "output_type": "display_data"
    },
    {
     "data": {
      "text/html": [
       " View run <strong style=\"color:#cdcd00\">expert-sweep-21</strong> at: <a href='https://wandb.ai/dylan-home/pnca-af-singletons-sweep-w-mutation-feats/runs/6khrlbyb' target=\"_blank\">https://wandb.ai/dylan-home/pnca-af-singletons-sweep-w-mutation-feats/runs/6khrlbyb</a><br/>Synced 5 W&B file(s), 0 media file(s), 0 artifact file(s) and 0 other file(s)"
      ],
      "text/plain": [
       "<IPython.core.display.HTML object>"
      ]
     },
     "metadata": {},
     "output_type": "display_data"
    },
    {
     "data": {
      "text/html": [
       "Find logs at: <code>./wandb/run-20250318_192611-6khrlbyb/logs</code>"
      ],
      "text/plain": [
       "<IPython.core.display.HTML object>"
      ]
     },
     "metadata": {},
     "output_type": "display_data"
    },
    {
     "name": "stderr",
     "output_type": "stream",
     "text": [
      "\u001b[34m\u001b[1mwandb\u001b[0m: Agent Starting Run: akzg5h85 with config:\n",
      "\u001b[34m\u001b[1mwandb\u001b[0m: \tcutoff_distance: 11.960932299464115\n",
      "\u001b[34m\u001b[1mwandb\u001b[0m: \tdropout: 0.2\n",
      "\u001b[34m\u001b[1mwandb\u001b[0m: \thidden_channels: 64\n",
      "\u001b[34m\u001b[1mwandb\u001b[0m: \tlearning_rate: 2.1664673488994535e-05\n",
      "\u001b[34m\u001b[1mwandb\u001b[0m: \tweight_decay: 0.0008081924215269685\n",
      "Failed to detect the name of this notebook, you can set it manually with the WANDB_NOTEBOOK_NAME environment variable to enable code saving.\n",
      "/usr/lib/python3/dist-packages/requests/__init__.py:87: RequestsDependencyWarning: urllib3 (2.2.3) or chardet (4.0.0) doesn't match a supported version!\n",
      "  warnings.warn(\"urllib3 ({}) or chardet ({}) doesn't match a supported \"\n"
     ]
    },
    {
     "data": {
      "text/html": [
       "wandb version 0.19.8 is available!  To upgrade, please run:\n",
       " $ pip install wandb --upgrade"
      ],
      "text/plain": [
       "<IPython.core.display.HTML object>"
      ]
     },
     "metadata": {},
     "output_type": "display_data"
    },
    {
     "data": {
      "text/html": [
       "Tracking run with wandb version 0.16.4"
      ],
      "text/plain": [
       "<IPython.core.display.HTML object>"
      ]
     },
     "metadata": {},
     "output_type": "display_data"
    },
    {
     "data": {
      "text/html": [
       "Run data is saved locally in <code>/mnt/alphafold-volume-1/dylan2/repos/tb-pnca-gnn/dd_pnca/wandb/run-20250318_192713-akzg5h85</code>"
      ],
      "text/plain": [
       "<IPython.core.display.HTML object>"
      ]
     },
     "metadata": {},
     "output_type": "display_data"
    },
    {
     "data": {
      "text/html": [
       "Syncing run <strong><a href='https://wandb.ai/dylan-home/pnca-af-singletons-sweep-w-mutation-feats/runs/akzg5h85' target=\"_blank\">brisk-sweep-22</a></strong> to <a href='https://wandb.ai/dylan-home/pnca-af-singletons-sweep-w-mutation-feats' target=\"_blank\">Weights & Biases</a> (<a href='https://wandb.me/run' target=\"_blank\">docs</a>)<br/>Sweep page: <a href='https://wandb.ai/dylan-home/pnca-af-singletons-sweep-w-mutation-feats/sweeps/x0k5kbpt' target=\"_blank\">https://wandb.ai/dylan-home/pnca-af-singletons-sweep-w-mutation-feats/sweeps/x0k5kbpt</a>"
      ],
      "text/plain": [
       "<IPython.core.display.HTML object>"
      ]
     },
     "metadata": {},
     "output_type": "display_data"
    },
    {
     "data": {
      "text/html": [
       " View project at <a href='https://wandb.ai/dylan-home/pnca-af-singletons-sweep-w-mutation-feats' target=\"_blank\">https://wandb.ai/dylan-home/pnca-af-singletons-sweep-w-mutation-feats</a>"
      ],
      "text/plain": [
       "<IPython.core.display.HTML object>"
      ]
     },
     "metadata": {},
     "output_type": "display_data"
    },
    {
     "data": {
      "text/html": [
       " View sweep at <a href='https://wandb.ai/dylan-home/pnca-af-singletons-sweep-w-mutation-feats/sweeps/x0k5kbpt' target=\"_blank\">https://wandb.ai/dylan-home/pnca-af-singletons-sweep-w-mutation-feats/sweeps/x0k5kbpt</a>"
      ],
      "text/plain": [
       "<IPython.core.display.HTML object>"
      ]
     },
     "metadata": {},
     "output_type": "display_data"
    },
    {
     "data": {
      "text/html": [
       " View run at <a href='https://wandb.ai/dylan-home/pnca-af-singletons-sweep-w-mutation-feats/runs/akzg5h85' target=\"_blank\">https://wandb.ai/dylan-home/pnca-af-singletons-sweep-w-mutation-feats/runs/akzg5h85</a>"
      ],
      "text/plain": [
       "<IPython.core.display.HTML object>"
      ]
     },
     "metadata": {},
     "output_type": "display_data"
    },
    {
     "name": "stdout",
     "output_type": "stream",
     "text": [
      "Adjusting edge index and attaching edge weights for cutoff distance 11.960932299464115\n",
      "Using CUDA\n",
      "Early stopping enabled. Patience: 20. Min Delta: 0.\n",
      "Epoch: 010, Train Acc: 0.4871, Test Acc: 0.5100, Train Loss: 1.0060, Test Loss: 0.6958\n",
      "Epoch: 020, Train Acc: 0.5927, Test Acc: 0.5850, Train Loss: 0.8112, Test Loss: 0.6545\n",
      "Epoch: 030, Train Acc: 0.6358, Test Acc: 0.6200, Train Loss: 0.7109, Test Loss: 0.6352\n",
      "Epoch: 040, Train Acc: 0.6358, Test Acc: 0.6200, Train Loss: 0.6607, Test Loss: 0.6349\n",
      "Epoch: 050, Train Acc: 0.6358, Test Acc: 0.6200, Train Loss: 0.6504, Test Loss: 0.6399\n",
      "20 epochs passed without 0 test loss improvement. \n",
      "Early stopping triggered.\n"
     ]
    },
    {
     "data": {
      "text/html": [
       "<style>\n",
       "    table.wandb td:nth-child(1) { padding: 0 10px; text-align: left ; width: auto;} td:nth-child(2) {text-align: left ; width: 100%}\n",
       "    .wandb-row { display: flex; flex-direction: row; flex-wrap: wrap; justify-content: flex-start; width: 100% }\n",
       "    .wandb-col { display: flex; flex-direction: column; flex-basis: 100%; flex: 1; padding: 10px; }\n",
       "    </style>\n",
       "<div class=\"wandb-row\"><div class=\"wandb-col\"><h3>Run history:</h3><br/><table class=\"wandb\"><tr><td>Test Accuracy</td><td>▂▂▂▂▂▂▁▃▅▆▆▆▆▆▆▇████████████████████████</td></tr><tr><td>Test F1</td><td>▁▁▁▁▁▁▂▄████████████████████████████████</td></tr><tr><td>Test Loss</td><td>█▅▃▂▁▁▁▁▁▁▁▁▁▁▁▁▁▁▁▁▁▁▁▁▁▁▁▁▁▁▁▁▁▁▁▁▁▁▁▁</td></tr><tr><td>Test Sensitivity</td><td>▁▁▁▁▁▁▁▃████████████████████████████████</td></tr><tr><td>Test Specificity</td><td>██████▇▆▁▁▁▁▁▁▁▁▂▂▂▂▂▂▂▂▂▂▂▂▂▂▂▂▂▂▂▂▂▂▂▂</td></tr><tr><td>Train Accuracy</td><td>▃▃▃▃▃▂▁▃▆▆▆▆▆▆▇▇████████████████████████</td></tr><tr><td>Train F1</td><td>▁▁▁▁▁▁▁▄████████████████████████████████</td></tr><tr><td>Train Loss</td><td>█▅▄▂▂▁▁▁▁▁▁▁▁▁▁▁▁▁▁▁▁▁▁▁▁▁▁▁▁▁▁▁▁▁▁▁▁▁▁▁</td></tr><tr><td>Train Sensitivity</td><td>▁▁▁▁▁▁▁▃████████████████████████████████</td></tr><tr><td>Train Specificity</td><td>██████▇▆▁▁▁▁▁▁▁▂▂▂▂▂▂▂▂▂▂▂▂▂▂▂▂▂▂▂▂▂▂▂▂▂</td></tr></table><br/></div><div class=\"wandb-col\"><h3>Run summary:</h3><br/><table class=\"wandb\"><tr><td>Test Accuracy</td><td>0.62</td></tr><tr><td>Test F1</td><td>0.72464</td></tr><tr><td>Test Loss</td><td>0.64217</td></tr><tr><td>Test Sensitivity</td><td>0.97087</td></tr><tr><td>Test Specificity</td><td>0.24742</td></tr><tr><td>Train Accuracy</td><td>0.63578</td></tr><tr><td>Train F1</td><td>0.72066</td></tr><tr><td>Train Loss</td><td>0.64681</td></tr><tr><td>Train Sensitivity</td><td>0.88618</td></tr><tr><td>Train Specificity</td><td>0.35321</td></tr></table><br/></div></div>"
      ],
      "text/plain": [
       "<IPython.core.display.HTML object>"
      ]
     },
     "metadata": {},
     "output_type": "display_data"
    },
    {
     "data": {
      "text/html": [
       " View run <strong style=\"color:#cdcd00\">brisk-sweep-22</strong> at: <a href='https://wandb.ai/dylan-home/pnca-af-singletons-sweep-w-mutation-feats/runs/akzg5h85' target=\"_blank\">https://wandb.ai/dylan-home/pnca-af-singletons-sweep-w-mutation-feats/runs/akzg5h85</a><br/>Synced 5 W&B file(s), 0 media file(s), 0 artifact file(s) and 0 other file(s)"
      ],
      "text/plain": [
       "<IPython.core.display.HTML object>"
      ]
     },
     "metadata": {},
     "output_type": "display_data"
    },
    {
     "data": {
      "text/html": [
       "Find logs at: <code>./wandb/run-20250318_192713-akzg5h85/logs</code>"
      ],
      "text/plain": [
       "<IPython.core.display.HTML object>"
      ]
     },
     "metadata": {},
     "output_type": "display_data"
    },
    {
     "name": "stderr",
     "output_type": "stream",
     "text": [
      "\u001b[34m\u001b[1mwandb\u001b[0m: Agent Starting Run: w4yup44h with config:\n",
      "\u001b[34m\u001b[1mwandb\u001b[0m: \tcutoff_distance: 8.678710181890597\n",
      "\u001b[34m\u001b[1mwandb\u001b[0m: \tdropout: 0.4\n",
      "\u001b[34m\u001b[1mwandb\u001b[0m: \thidden_channels: 128\n",
      "\u001b[34m\u001b[1mwandb\u001b[0m: \tlearning_rate: 0.0005429085799289039\n",
      "\u001b[34m\u001b[1mwandb\u001b[0m: \tweight_decay: 1.6753781303744793e-08\n",
      "Failed to detect the name of this notebook, you can set it manually with the WANDB_NOTEBOOK_NAME environment variable to enable code saving.\n",
      "/usr/lib/python3/dist-packages/requests/__init__.py:87: RequestsDependencyWarning: urllib3 (2.2.3) or chardet (4.0.0) doesn't match a supported version!\n",
      "  warnings.warn(\"urllib3 ({}) or chardet ({}) doesn't match a supported \"\n"
     ]
    },
    {
     "data": {
      "text/html": [
       "wandb version 0.19.8 is available!  To upgrade, please run:\n",
       " $ pip install wandb --upgrade"
      ],
      "text/plain": [
       "<IPython.core.display.HTML object>"
      ]
     },
     "metadata": {},
     "output_type": "display_data"
    },
    {
     "data": {
      "text/html": [
       "Tracking run with wandb version 0.16.4"
      ],
      "text/plain": [
       "<IPython.core.display.HTML object>"
      ]
     },
     "metadata": {},
     "output_type": "display_data"
    },
    {
     "data": {
      "text/html": [
       "Run data is saved locally in <code>/mnt/alphafold-volume-1/dylan2/repos/tb-pnca-gnn/dd_pnca/wandb/run-20250318_193028-w4yup44h</code>"
      ],
      "text/plain": [
       "<IPython.core.display.HTML object>"
      ]
     },
     "metadata": {},
     "output_type": "display_data"
    },
    {
     "data": {
      "text/html": [
       "Syncing run <strong><a href='https://wandb.ai/dylan-home/pnca-af-singletons-sweep-w-mutation-feats/runs/w4yup44h' target=\"_blank\">fluent-sweep-23</a></strong> to <a href='https://wandb.ai/dylan-home/pnca-af-singletons-sweep-w-mutation-feats' target=\"_blank\">Weights & Biases</a> (<a href='https://wandb.me/run' target=\"_blank\">docs</a>)<br/>Sweep page: <a href='https://wandb.ai/dylan-home/pnca-af-singletons-sweep-w-mutation-feats/sweeps/x0k5kbpt' target=\"_blank\">https://wandb.ai/dylan-home/pnca-af-singletons-sweep-w-mutation-feats/sweeps/x0k5kbpt</a>"
      ],
      "text/plain": [
       "<IPython.core.display.HTML object>"
      ]
     },
     "metadata": {},
     "output_type": "display_data"
    },
    {
     "data": {
      "text/html": [
       " View project at <a href='https://wandb.ai/dylan-home/pnca-af-singletons-sweep-w-mutation-feats' target=\"_blank\">https://wandb.ai/dylan-home/pnca-af-singletons-sweep-w-mutation-feats</a>"
      ],
      "text/plain": [
       "<IPython.core.display.HTML object>"
      ]
     },
     "metadata": {},
     "output_type": "display_data"
    },
    {
     "data": {
      "text/html": [
       " View sweep at <a href='https://wandb.ai/dylan-home/pnca-af-singletons-sweep-w-mutation-feats/sweeps/x0k5kbpt' target=\"_blank\">https://wandb.ai/dylan-home/pnca-af-singletons-sweep-w-mutation-feats/sweeps/x0k5kbpt</a>"
      ],
      "text/plain": [
       "<IPython.core.display.HTML object>"
      ]
     },
     "metadata": {},
     "output_type": "display_data"
    },
    {
     "data": {
      "text/html": [
       " View run at <a href='https://wandb.ai/dylan-home/pnca-af-singletons-sweep-w-mutation-feats/runs/w4yup44h' target=\"_blank\">https://wandb.ai/dylan-home/pnca-af-singletons-sweep-w-mutation-feats/runs/w4yup44h</a>"
      ],
      "text/plain": [
       "<IPython.core.display.HTML object>"
      ]
     },
     "metadata": {},
     "output_type": "display_data"
    },
    {
     "name": "stdout",
     "output_type": "stream",
     "text": [
      "Adjusting edge index and attaching edge weights for cutoff distance 8.678710181890597\n",
      "Using CUDA\n",
      "Early stopping enabled. Patience: 20. Min Delta: 0.\n",
      "Epoch: 010, Train Acc: 0.6099, Test Acc: 0.6400, Train Loss: 0.6478, Test Loss: 0.6590\n",
      "Epoch: 020, Train Acc: 0.6681, Test Acc: 0.6150, Train Loss: 0.6334, Test Loss: 0.6355\n",
      "Epoch: 030, Train Acc: 0.6422, Test Acc: 0.6200, Train Loss: 0.6129, Test Loss: 0.6299\n",
      "20 epochs passed without 0 test loss improvement. \n",
      "Early stopping triggered.\n"
     ]
    },
    {
     "data": {
      "text/html": [
       "<style>\n",
       "    table.wandb td:nth-child(1) { padding: 0 10px; text-align: left ; width: auto;} td:nth-child(2) {text-align: left ; width: 100%}\n",
       "    .wandb-row { display: flex; flex-direction: row; flex-wrap: wrap; justify-content: flex-start; width: 100% }\n",
       "    .wandb-col { display: flex; flex-direction: column; flex-basis: 100%; flex: 1; padding: 10px; }\n",
       "    </style>\n",
       "<div class=\"wandb-row\"><div class=\"wandb-col\"><h3>Run history:</h3><br/><table class=\"wandb\"><tr><td>Test Accuracy</td><td>▆▆▆▅▆▂▂▂▇▇▁▂▅▆▆█▆▆▆▆▆▆▇▆▆▇▇▆▆▆▆▆▆▆▆</td></tr><tr><td>Test F1</td><td>█████▁▁▁▇▇▂▁▄██▇▅▇▇█████▇██████████</td></tr><tr><td>Test Loss</td><td>▃▂▃▇▃▅█▄▂▄▆▇▃▁▁▂▄▄▂▂▂▂▂▁▁▁▁▂▂▁▁▃▃▂▂</td></tr><tr><td>Test Sensitivity</td><td>█████▁▁▁▅▆▁▁▂██▅▃▅▆▇█▇▇▇▆▇█████████</td></tr><tr><td>Test Specificity</td><td>▂▂▂▁▂███▆▅▇██▂▂▆▇▅▃▃▂▃▃▃▄▃▂▂▂▂▂▂▂▂▂</td></tr><tr><td>Train Accuracy</td><td>▇▇▇▆▇▁▁▁▇▆▁▁▄▇▇▆▆▆▇█▇█▇█▇█▇▇▇▇▇▇▇▇▇</td></tr><tr><td>Train F1</td><td>█████▁▁▁▇▇▃▁▄██▇▆▇▇█████▇██████████</td></tr><tr><td>Train Loss</td><td>█▆▂▃▂▄▆▄▂▂▃▄▃▃▂▂▂▂▂▂▂▂▁▁▁▁▁▁▁▁▁▁▁▁▁</td></tr><tr><td>Train Sensitivity</td><td>▇▇▇█▇▁▁▁▅▅▂▁▂▇▇▅▄▅▆▇▇▇▇▇▆▇▇▇█▇▇▇▇▇█</td></tr><tr><td>Train Specificity</td><td>▂▂▂▁▂███▆▅▇██▃▂▆▇▅▄▄▃▃▄▄▄▄▂▂▂▃▂▂▂▂▂</td></tr></table><br/></div><div class=\"wandb-col\"><h3>Run summary:</h3><br/><table class=\"wandb\"><tr><td>Test Accuracy</td><td>0.61</td></tr><tr><td>Test F1</td><td>0.71739</td></tr><tr><td>Test Loss</td><td>0.63626</td></tr><tr><td>Test Sensitivity</td><td>0.96117</td></tr><tr><td>Test Specificity</td><td>0.23711</td></tr><tr><td>Train Accuracy</td><td>0.65302</td></tr><tr><td>Train F1</td><td>0.73821</td></tr><tr><td>Train Loss</td><td>0.60605</td></tr><tr><td>Train Sensitivity</td><td>0.92276</td></tr><tr><td>Train Specificity</td><td>0.34862</td></tr></table><br/></div></div>"
      ],
      "text/plain": [
       "<IPython.core.display.HTML object>"
      ]
     },
     "metadata": {},
     "output_type": "display_data"
    },
    {
     "data": {
      "text/html": [
       " View run <strong style=\"color:#cdcd00\">fluent-sweep-23</strong> at: <a href='https://wandb.ai/dylan-home/pnca-af-singletons-sweep-w-mutation-feats/runs/w4yup44h' target=\"_blank\">https://wandb.ai/dylan-home/pnca-af-singletons-sweep-w-mutation-feats/runs/w4yup44h</a><br/>Synced 5 W&B file(s), 0 media file(s), 0 artifact file(s) and 0 other file(s)"
      ],
      "text/plain": [
       "<IPython.core.display.HTML object>"
      ]
     },
     "metadata": {},
     "output_type": "display_data"
    },
    {
     "data": {
      "text/html": [
       "Find logs at: <code>./wandb/run-20250318_193028-w4yup44h/logs</code>"
      ],
      "text/plain": [
       "<IPython.core.display.HTML object>"
      ]
     },
     "metadata": {},
     "output_type": "display_data"
    },
    {
     "name": "stderr",
     "output_type": "stream",
     "text": [
      "\u001b[34m\u001b[1mwandb\u001b[0m: Agent Starting Run: m94imfeg with config:\n",
      "\u001b[34m\u001b[1mwandb\u001b[0m: \tcutoff_distance: 8.3173033214977\n",
      "\u001b[34m\u001b[1mwandb\u001b[0m: \tdropout: 0.6\n",
      "\u001b[34m\u001b[1mwandb\u001b[0m: \thidden_channels: 256\n",
      "\u001b[34m\u001b[1mwandb\u001b[0m: \tlearning_rate: 4.698876775892371e-06\n",
      "\u001b[34m\u001b[1mwandb\u001b[0m: \tweight_decay: 1.1405761579720757e-06\n",
      "Failed to detect the name of this notebook, you can set it manually with the WANDB_NOTEBOOK_NAME environment variable to enable code saving.\n",
      "/usr/lib/python3/dist-packages/requests/__init__.py:87: RequestsDependencyWarning: urllib3 (2.2.3) or chardet (4.0.0) doesn't match a supported version!\n",
      "  warnings.warn(\"urllib3 ({}) or chardet ({}) doesn't match a supported \"\n"
     ]
    },
    {
     "data": {
      "text/html": [
       "wandb version 0.19.8 is available!  To upgrade, please run:\n",
       " $ pip install wandb --upgrade"
      ],
      "text/plain": [
       "<IPython.core.display.HTML object>"
      ]
     },
     "metadata": {},
     "output_type": "display_data"
    },
    {
     "data": {
      "text/html": [
       "Tracking run with wandb version 0.16.4"
      ],
      "text/plain": [
       "<IPython.core.display.HTML object>"
      ]
     },
     "metadata": {},
     "output_type": "display_data"
    },
    {
     "data": {
      "text/html": [
       "Run data is saved locally in <code>/mnt/alphafold-volume-1/dylan2/repos/tb-pnca-gnn/dd_pnca/wandb/run-20250318_193151-m94imfeg</code>"
      ],
      "text/plain": [
       "<IPython.core.display.HTML object>"
      ]
     },
     "metadata": {},
     "output_type": "display_data"
    },
    {
     "data": {
      "text/html": [
       "Syncing run <strong><a href='https://wandb.ai/dylan-home/pnca-af-singletons-sweep-w-mutation-feats/runs/m94imfeg' target=\"_blank\">eager-sweep-24</a></strong> to <a href='https://wandb.ai/dylan-home/pnca-af-singletons-sweep-w-mutation-feats' target=\"_blank\">Weights & Biases</a> (<a href='https://wandb.me/run' target=\"_blank\">docs</a>)<br/>Sweep page: <a href='https://wandb.ai/dylan-home/pnca-af-singletons-sweep-w-mutation-feats/sweeps/x0k5kbpt' target=\"_blank\">https://wandb.ai/dylan-home/pnca-af-singletons-sweep-w-mutation-feats/sweeps/x0k5kbpt</a>"
      ],
      "text/plain": [
       "<IPython.core.display.HTML object>"
      ]
     },
     "metadata": {},
     "output_type": "display_data"
    },
    {
     "data": {
      "text/html": [
       " View project at <a href='https://wandb.ai/dylan-home/pnca-af-singletons-sweep-w-mutation-feats' target=\"_blank\">https://wandb.ai/dylan-home/pnca-af-singletons-sweep-w-mutation-feats</a>"
      ],
      "text/plain": [
       "<IPython.core.display.HTML object>"
      ]
     },
     "metadata": {},
     "output_type": "display_data"
    },
    {
     "data": {
      "text/html": [
       " View sweep at <a href='https://wandb.ai/dylan-home/pnca-af-singletons-sweep-w-mutation-feats/sweeps/x0k5kbpt' target=\"_blank\">https://wandb.ai/dylan-home/pnca-af-singletons-sweep-w-mutation-feats/sweeps/x0k5kbpt</a>"
      ],
      "text/plain": [
       "<IPython.core.display.HTML object>"
      ]
     },
     "metadata": {},
     "output_type": "display_data"
    },
    {
     "data": {
      "text/html": [
       " View run at <a href='https://wandb.ai/dylan-home/pnca-af-singletons-sweep-w-mutation-feats/runs/m94imfeg' target=\"_blank\">https://wandb.ai/dylan-home/pnca-af-singletons-sweep-w-mutation-feats/runs/m94imfeg</a>"
      ],
      "text/plain": [
       "<IPython.core.display.HTML object>"
      ]
     },
     "metadata": {},
     "output_type": "display_data"
    },
    {
     "name": "stdout",
     "output_type": "stream",
     "text": [
      "Adjusting edge index and attaching edge weights for cutoff distance 8.3173033214977\n",
      "Using CUDA\n",
      "Early stopping enabled. Patience: 20. Min Delta: 0.\n",
      "Epoch: 010, Train Acc: 0.4138, Test Acc: 0.4150, Train Loss: 0.8596, Test Loss: 0.8282\n",
      "Epoch: 020, Train Acc: 0.4181, Test Acc: 0.4150, Train Loss: 0.7182, Test Loss: 0.7198\n",
      "Epoch: 030, Train Acc: 0.6272, Test Acc: 0.6050, Train Loss: 0.6571, Test Loss: 0.6688\n",
      "Epoch: 040, Train Acc: 0.6358, Test Acc: 0.6200, Train Loss: 0.6419, Test Loss: 0.6531\n",
      "Epoch: 050, Train Acc: 0.6358, Test Acc: 0.6200, Train Loss: 0.6425, Test Loss: 0.6495\n",
      "Epoch: 060, Train Acc: 0.6358, Test Acc: 0.6200, Train Loss: 0.6470, Test Loss: 0.6498\n",
      "Epoch: 070, Train Acc: 0.6358, Test Acc: 0.6200, Train Loss: 0.6513, Test Loss: 0.6510\n",
      "20 epochs passed without 0 test loss improvement. \n",
      "Early stopping triggered.\n"
     ]
    },
    {
     "data": {
      "text/html": [
       "<style>\n",
       "    table.wandb td:nth-child(1) { padding: 0 10px; text-align: left ; width: auto;} td:nth-child(2) {text-align: left ; width: 100%}\n",
       "    .wandb-row { display: flex; flex-direction: row; flex-wrap: wrap; justify-content: flex-start; width: 100% }\n",
       "    .wandb-col { display: flex; flex-direction: column; flex-basis: 100%; flex: 1; padding: 10px; }\n",
       "    </style>\n",
       "<div class=\"wandb-row\"><div class=\"wandb-col\"><h3>Run history:</h3><br/><table class=\"wandb\"><tr><td>Test Accuracy</td><td>▁▁▁▂▂▂▂▂▂▂▂▂▃▄▅▇████████████████████████</td></tr><tr><td>Test F1</td><td>▁▁▁▁▁▁▁▁▁▁▁▁▂▃▆█████████████████████████</td></tr><tr><td>Test Loss</td><td>█▇▇▇▆▆▅▅▄▄▃▃▂▂▂▂▂▁▁▁▁▁▁▁▁▁▁▁▁▁▁▁▁▁▁▁▁▁▁▁</td></tr><tr><td>Test Sensitivity</td><td>▁▁▁▁▁▁▁▁▁▁▁▁▁▂▆▇████████████████████████</td></tr><tr><td>Test Specificity</td><td>▇▇▇██████████▇▂▁▁▁▁▁▁▁▁▁▁▁▁▁▁▁▁▁▁▁▁▁▁▁▁▁</td></tr><tr><td>Train Accuracy</td><td>▁▁▁▂▂▂▂▂▂▂▂▃▃▄▅▇████████████████████████</td></tr><tr><td>Train F1</td><td>▁▁▁▁▁▁▁▁▁▁▁▁▂▄▆█████████████████████████</td></tr><tr><td>Train Loss</td><td>█▇▇▇▆▆▅▅▄▃▃▂▂▂▂▂▁▁▁▁▁▁▁▁▁▁▁▁▁▁▁▁▁▁▁▁▁▁▁▁</td></tr><tr><td>Train Sensitivity</td><td>▁▁▁▁▁▁▁▁▁▁▁▁▁▃▆▇████████████████████████</td></tr><tr><td>Train Specificity</td><td>▆▆▆▇█████████▇▂▂▂▂▂▁▁▁▁▁▁▁▁▁▁▁▁▁▁▁▁▁▁▁▁▁</td></tr></table><br/></div><div class=\"wandb-col\"><h3>Run summary:</h3><br/><table class=\"wandb\"><tr><td>Test Accuracy</td><td>0.62</td></tr><tr><td>Test F1</td><td>0.72464</td></tr><tr><td>Test Loss</td><td>0.65105</td></tr><tr><td>Test Sensitivity</td><td>0.97087</td></tr><tr><td>Test Specificity</td><td>0.24742</td></tr><tr><td>Train Accuracy</td><td>0.63578</td></tr><tr><td>Train F1</td><td>0.72066</td></tr><tr><td>Train Loss</td><td>0.65143</td></tr><tr><td>Train Sensitivity</td><td>0.88618</td></tr><tr><td>Train Specificity</td><td>0.35321</td></tr></table><br/></div></div>"
      ],
      "text/plain": [
       "<IPython.core.display.HTML object>"
      ]
     },
     "metadata": {},
     "output_type": "display_data"
    },
    {
     "data": {
      "text/html": [
       " View run <strong style=\"color:#cdcd00\">eager-sweep-24</strong> at: <a href='https://wandb.ai/dylan-home/pnca-af-singletons-sweep-w-mutation-feats/runs/m94imfeg' target=\"_blank\">https://wandb.ai/dylan-home/pnca-af-singletons-sweep-w-mutation-feats/runs/m94imfeg</a><br/>Synced 5 W&B file(s), 0 media file(s), 0 artifact file(s) and 0 other file(s)"
      ],
      "text/plain": [
       "<IPython.core.display.HTML object>"
      ]
     },
     "metadata": {},
     "output_type": "display_data"
    },
    {
     "data": {
      "text/html": [
       "Find logs at: <code>./wandb/run-20250318_193151-m94imfeg/logs</code>"
      ],
      "text/plain": [
       "<IPython.core.display.HTML object>"
      ]
     },
     "metadata": {},
     "output_type": "display_data"
    },
    {
     "name": "stderr",
     "output_type": "stream",
     "text": [
      "\u001b[34m\u001b[1mwandb\u001b[0m: Agent Starting Run: 0rwfd51d with config:\n",
      "\u001b[34m\u001b[1mwandb\u001b[0m: \tcutoff_distance: 7.120232480916838\n",
      "\u001b[34m\u001b[1mwandb\u001b[0m: \tdropout: 0.4\n",
      "\u001b[34m\u001b[1mwandb\u001b[0m: \thidden_channels: 256\n",
      "\u001b[34m\u001b[1mwandb\u001b[0m: \tlearning_rate: 1.115133601485585e-08\n",
      "\u001b[34m\u001b[1mwandb\u001b[0m: \tweight_decay: 0.001502736119949638\n",
      "Failed to detect the name of this notebook, you can set it manually with the WANDB_NOTEBOOK_NAME environment variable to enable code saving.\n",
      "/usr/lib/python3/dist-packages/requests/__init__.py:87: RequestsDependencyWarning: urllib3 (2.2.3) or chardet (4.0.0) doesn't match a supported version!\n",
      "  warnings.warn(\"urllib3 ({}) or chardet ({}) doesn't match a supported \"\n"
     ]
    },
    {
     "data": {
      "text/html": [
       "wandb version 0.19.8 is available!  To upgrade, please run:\n",
       " $ pip install wandb --upgrade"
      ],
      "text/plain": [
       "<IPython.core.display.HTML object>"
      ]
     },
     "metadata": {},
     "output_type": "display_data"
    },
    {
     "data": {
      "text/html": [
       "Tracking run with wandb version 0.16.4"
      ],
      "text/plain": [
       "<IPython.core.display.HTML object>"
      ]
     },
     "metadata": {},
     "output_type": "display_data"
    },
    {
     "data": {
      "text/html": [
       "Run data is saved locally in <code>/mnt/alphafold-volume-1/dylan2/repos/tb-pnca-gnn/dd_pnca/wandb/run-20250318_193314-0rwfd51d</code>"
      ],
      "text/plain": [
       "<IPython.core.display.HTML object>"
      ]
     },
     "metadata": {},
     "output_type": "display_data"
    },
    {
     "data": {
      "text/html": [
       "Syncing run <strong><a href='https://wandb.ai/dylan-home/pnca-af-singletons-sweep-w-mutation-feats/runs/0rwfd51d' target=\"_blank\">honest-sweep-25</a></strong> to <a href='https://wandb.ai/dylan-home/pnca-af-singletons-sweep-w-mutation-feats' target=\"_blank\">Weights & Biases</a> (<a href='https://wandb.me/run' target=\"_blank\">docs</a>)<br/>Sweep page: <a href='https://wandb.ai/dylan-home/pnca-af-singletons-sweep-w-mutation-feats/sweeps/x0k5kbpt' target=\"_blank\">https://wandb.ai/dylan-home/pnca-af-singletons-sweep-w-mutation-feats/sweeps/x0k5kbpt</a>"
      ],
      "text/plain": [
       "<IPython.core.display.HTML object>"
      ]
     },
     "metadata": {},
     "output_type": "display_data"
    },
    {
     "data": {
      "text/html": [
       " View project at <a href='https://wandb.ai/dylan-home/pnca-af-singletons-sweep-w-mutation-feats' target=\"_blank\">https://wandb.ai/dylan-home/pnca-af-singletons-sweep-w-mutation-feats</a>"
      ],
      "text/plain": [
       "<IPython.core.display.HTML object>"
      ]
     },
     "metadata": {},
     "output_type": "display_data"
    },
    {
     "data": {
      "text/html": [
       " View sweep at <a href='https://wandb.ai/dylan-home/pnca-af-singletons-sweep-w-mutation-feats/sweeps/x0k5kbpt' target=\"_blank\">https://wandb.ai/dylan-home/pnca-af-singletons-sweep-w-mutation-feats/sweeps/x0k5kbpt</a>"
      ],
      "text/plain": [
       "<IPython.core.display.HTML object>"
      ]
     },
     "metadata": {},
     "output_type": "display_data"
    },
    {
     "data": {
      "text/html": [
       " View run at <a href='https://wandb.ai/dylan-home/pnca-af-singletons-sweep-w-mutation-feats/runs/0rwfd51d' target=\"_blank\">https://wandb.ai/dylan-home/pnca-af-singletons-sweep-w-mutation-feats/runs/0rwfd51d</a>"
      ],
      "text/plain": [
       "<IPython.core.display.HTML object>"
      ]
     },
     "metadata": {},
     "output_type": "display_data"
    },
    {
     "name": "stdout",
     "output_type": "stream",
     "text": [
      "Adjusting edge index and attaching edge weights for cutoff distance 7.120232480916838\n",
      "Using CUDA\n",
      "Early stopping enabled. Patience: 20. Min Delta: 0.\n",
      "Epoch: 010, Train Acc: 0.4116, Test Acc: 0.4150, Train Loss: 0.8196, Test Loss: 0.7974\n",
      "Epoch: 020, Train Acc: 0.4116, Test Acc: 0.4150, Train Loss: 0.8333, Test Loss: 0.8081\n",
      "20 epochs passed without 0 test loss improvement. \n",
      "Early stopping triggered.\n"
     ]
    },
    {
     "data": {
      "text/html": [
       "<style>\n",
       "    table.wandb td:nth-child(1) { padding: 0 10px; text-align: left ; width: auto;} td:nth-child(2) {text-align: left ; width: 100%}\n",
       "    .wandb-row { display: flex; flex-direction: row; flex-wrap: wrap; justify-content: flex-start; width: 100% }\n",
       "    .wandb-col { display: flex; flex-direction: column; flex-basis: 100%; flex: 1; padding: 10px; }\n",
       "    </style>\n",
       "<div class=\"wandb-row\"><div class=\"wandb-col\"><h3>Run history:</h3><br/><table class=\"wandb\"><tr><td>Test Accuracy</td><td>▁▁▁▁▃▆███████████████</td></tr><tr><td>Test F1</td><td>█████▅▁▁▁▁▁▁▁▁▁▁▁▁▁▁▁</td></tr><tr><td>Test Loss</td><td>▁▂▃▃▄▅▅▆▆▇▇▇█████████</td></tr><tr><td>Test Sensitivity</td><td>█████▅▁▁▁▁▁▁▁▁▁▁▁▁▁▁▁</td></tr><tr><td>Test Specificity</td><td>▁▁▁▁▃▆███████████████</td></tr><tr><td>Train Accuracy</td><td>▁▁▁▁▃▄▆██████████████</td></tr><tr><td>Train F1</td><td>▇▇▇▇█▁▃▄▄▄▄▄▄▄▄▄▄▄▄▄▄</td></tr><tr><td>Train Loss</td><td>▁▁▂▃▄▄▅▆▆▇▇▇█████████</td></tr><tr><td>Train Sensitivity</td><td>█████▁▁▁▁▁▁▁▁▁▁▁▁▁▁▁▁</td></tr><tr><td>Train Specificity</td><td>▁▁▁▁▂▄▇██████████████</td></tr></table><br/></div><div class=\"wandb-col\"><h3>Run summary:</h3><br/><table class=\"wandb\"><tr><td>Test Accuracy</td><td>0.415</td></tr><tr><td>Test F1</td><td>0.01681</td></tr><tr><td>Test Loss</td><td>0.80785</td></tr><tr><td>Test Sensitivity</td><td>0.00971</td></tr><tr><td>Test Specificity</td><td>0.84536</td></tr><tr><td>Train Accuracy</td><td>0.41164</td></tr><tr><td>Train F1</td><td>0.1548</td></tr><tr><td>Train Loss</td><td>0.83455</td></tr><tr><td>Train Sensitivity</td><td>0.10163</td></tr><tr><td>Train Specificity</td><td>0.76147</td></tr></table><br/></div></div>"
      ],
      "text/plain": [
       "<IPython.core.display.HTML object>"
      ]
     },
     "metadata": {},
     "output_type": "display_data"
    },
    {
     "data": {
      "text/html": [
       " View run <strong style=\"color:#cdcd00\">honest-sweep-25</strong> at: <a href='https://wandb.ai/dylan-home/pnca-af-singletons-sweep-w-mutation-feats/runs/0rwfd51d' target=\"_blank\">https://wandb.ai/dylan-home/pnca-af-singletons-sweep-w-mutation-feats/runs/0rwfd51d</a><br/>Synced 5 W&B file(s), 0 media file(s), 0 artifact file(s) and 0 other file(s)"
      ],
      "text/plain": [
       "<IPython.core.display.HTML object>"
      ]
     },
     "metadata": {},
     "output_type": "display_data"
    },
    {
     "data": {
      "text/html": [
       "Find logs at: <code>./wandb/run-20250318_193314-0rwfd51d/logs</code>"
      ],
      "text/plain": [
       "<IPython.core.display.HTML object>"
      ]
     },
     "metadata": {},
     "output_type": "display_data"
    },
    {
     "name": "stderr",
     "output_type": "stream",
     "text": [
      "\u001b[34m\u001b[1mwandb\u001b[0m: Agent Starting Run: rbh85kzo with config:\n",
      "\u001b[34m\u001b[1mwandb\u001b[0m: \tcutoff_distance: 8.72878297825818\n",
      "\u001b[34m\u001b[1mwandb\u001b[0m: \tdropout: 0.8\n",
      "\u001b[34m\u001b[1mwandb\u001b[0m: \thidden_channels: 32\n",
      "\u001b[34m\u001b[1mwandb\u001b[0m: \tlearning_rate: 5.649024519731144e-07\n",
      "\u001b[34m\u001b[1mwandb\u001b[0m: \tweight_decay: 0.003427216202705245\n",
      "Failed to detect the name of this notebook, you can set it manually with the WANDB_NOTEBOOK_NAME environment variable to enable code saving.\n",
      "/usr/lib/python3/dist-packages/requests/__init__.py:87: RequestsDependencyWarning: urllib3 (2.2.3) or chardet (4.0.0) doesn't match a supported version!\n",
      "  warnings.warn(\"urllib3 ({}) or chardet ({}) doesn't match a supported \"\n"
     ]
    },
    {
     "data": {
      "text/html": [
       "wandb version 0.19.8 is available!  To upgrade, please run:\n",
       " $ pip install wandb --upgrade"
      ],
      "text/plain": [
       "<IPython.core.display.HTML object>"
      ]
     },
     "metadata": {},
     "output_type": "display_data"
    },
    {
     "data": {
      "text/html": [
       "Tracking run with wandb version 0.16.4"
      ],
      "text/plain": [
       "<IPython.core.display.HTML object>"
      ]
     },
     "metadata": {},
     "output_type": "display_data"
    },
    {
     "data": {
      "text/html": [
       "Run data is saved locally in <code>/mnt/alphafold-volume-1/dylan2/repos/tb-pnca-gnn/dd_pnca/wandb/run-20250318_193409-rbh85kzo</code>"
      ],
      "text/plain": [
       "<IPython.core.display.HTML object>"
      ]
     },
     "metadata": {},
     "output_type": "display_data"
    },
    {
     "data": {
      "text/html": [
       "Syncing run <strong><a href='https://wandb.ai/dylan-home/pnca-af-singletons-sweep-w-mutation-feats/runs/rbh85kzo' target=\"_blank\">copper-sweep-26</a></strong> to <a href='https://wandb.ai/dylan-home/pnca-af-singletons-sweep-w-mutation-feats' target=\"_blank\">Weights & Biases</a> (<a href='https://wandb.me/run' target=\"_blank\">docs</a>)<br/>Sweep page: <a href='https://wandb.ai/dylan-home/pnca-af-singletons-sweep-w-mutation-feats/sweeps/x0k5kbpt' target=\"_blank\">https://wandb.ai/dylan-home/pnca-af-singletons-sweep-w-mutation-feats/sweeps/x0k5kbpt</a>"
      ],
      "text/plain": [
       "<IPython.core.display.HTML object>"
      ]
     },
     "metadata": {},
     "output_type": "display_data"
    },
    {
     "data": {
      "text/html": [
       " View project at <a href='https://wandb.ai/dylan-home/pnca-af-singletons-sweep-w-mutation-feats' target=\"_blank\">https://wandb.ai/dylan-home/pnca-af-singletons-sweep-w-mutation-feats</a>"
      ],
      "text/plain": [
       "<IPython.core.display.HTML object>"
      ]
     },
     "metadata": {},
     "output_type": "display_data"
    },
    {
     "data": {
      "text/html": [
       " View sweep at <a href='https://wandb.ai/dylan-home/pnca-af-singletons-sweep-w-mutation-feats/sweeps/x0k5kbpt' target=\"_blank\">https://wandb.ai/dylan-home/pnca-af-singletons-sweep-w-mutation-feats/sweeps/x0k5kbpt</a>"
      ],
      "text/plain": [
       "<IPython.core.display.HTML object>"
      ]
     },
     "metadata": {},
     "output_type": "display_data"
    },
    {
     "data": {
      "text/html": [
       " View run at <a href='https://wandb.ai/dylan-home/pnca-af-singletons-sweep-w-mutation-feats/runs/rbh85kzo' target=\"_blank\">https://wandb.ai/dylan-home/pnca-af-singletons-sweep-w-mutation-feats/runs/rbh85kzo</a>"
      ],
      "text/plain": [
       "<IPython.core.display.HTML object>"
      ]
     },
     "metadata": {},
     "output_type": "display_data"
    },
    {
     "name": "stdout",
     "output_type": "stream",
     "text": [
      "Adjusting edge index and attaching edge weights for cutoff distance 8.72878297825818\n",
      "Using CUDA\n",
      "Early stopping enabled. Patience: 20. Min Delta: 0.\n",
      "Epoch: 010, Train Acc: 0.5302, Test Acc: 0.5150, Train Loss: 0.9795, Test Loss: 0.9551\n",
      "Epoch: 020, Train Acc: 0.5302, Test Acc: 0.5150, Train Loss: 1.0766, Test Loss: 1.0191\n",
      "20 epochs passed without 0 test loss improvement. \n",
      "Early stopping triggered.\n"
     ]
    },
    {
     "data": {
      "text/html": [
       "<style>\n",
       "    table.wandb td:nth-child(1) { padding: 0 10px; text-align: left ; width: auto;} td:nth-child(2) {text-align: left ; width: 100%}\n",
       "    .wandb-row { display: flex; flex-direction: row; flex-wrap: wrap; justify-content: flex-start; width: 100% }\n",
       "    .wandb-col { display: flex; flex-direction: column; flex-basis: 100%; flex: 1; padding: 10px; }\n",
       "    </style>\n",
       "<div class=\"wandb-row\"><div class=\"wandb-col\"><h3>Run history:</h3><br/><table class=\"wandb\"><tr><td>Test Accuracy</td><td>▁▁▁▁▁▁▁▁▁▁▁▁▁▁▁▁▁▁▁▁▁▁▁▁▁▁▁▁</td></tr><tr><td>Test F1</td><td>▁▁▁▁▁▁▁▁▁▁▁▁▁▁▁▁▁▁▁▁▁▁▁▁▁▁▁▁</td></tr><tr><td>Test Loss</td><td>█▅▃▂▂▁▁▁▁▁▁▁▁▁▂▂▂▂▂▂▂▂▂▂▂▂▂▂</td></tr><tr><td>Test Sensitivity</td><td>▁▁▁▁▁▁▁▁▁▁▁▁▁▁▁▁▁▁▁▁▁▁▁▁▁▁▁▁</td></tr><tr><td>Test Specificity</td><td>▁▁▁▁▁▁▁▁▁▁▁▁▁▁▁▁▁▁▁▁▁▁▁▁▁▁▁▁</td></tr><tr><td>Train Accuracy</td><td>▁▁▁▁▁▁▁▁▁▁▁▁▁▁▁▁▁▁▁▁▁▁▁▁▁▁▁▁</td></tr><tr><td>Train F1</td><td>▁▁▁▁▁▁▁▁▁▁▁▁▁▁▁▁▁▁▁▁▁▁▁▁▁▁▁▁</td></tr><tr><td>Train Loss</td><td>█▅▃▂▁▁▁▁▁▂▂▂▂▂▂▃▃▃▃▃▃▃▃▃▃▃▃▃</td></tr><tr><td>Train Sensitivity</td><td>▁▁▁▁▁▁▁▁▁▁▁▁▁▁▁▁▁▁▁▁▁▁▁▁▁▁▁▁</td></tr><tr><td>Train Specificity</td><td>▁▁▁▁▁▁▁▁▁▁▁▁▁▁▁▁▁▁▁▁▁▁▁▁▁▁▁▁</td></tr></table><br/></div><div class=\"wandb-col\"><h3>Run summary:</h3><br/><table class=\"wandb\"><tr><td>Test Accuracy</td><td>0.515</td></tr><tr><td>Test F1</td><td>0.67987</td></tr><tr><td>Test Loss</td><td>1.0298</td></tr><tr><td>Test Sensitivity</td><td>1.0</td></tr><tr><td>Test Specificity</td><td>0.0</td></tr><tr><td>Train Accuracy</td><td>0.53017</td></tr><tr><td>Train F1</td><td>0.69296</td></tr><tr><td>Train Loss</td><td>1.11006</td></tr><tr><td>Train Sensitivity</td><td>1.0</td></tr><tr><td>Train Specificity</td><td>0.0</td></tr></table><br/></div></div>"
      ],
      "text/plain": [
       "<IPython.core.display.HTML object>"
      ]
     },
     "metadata": {},
     "output_type": "display_data"
    },
    {
     "data": {
      "text/html": [
       " View run <strong style=\"color:#cdcd00\">copper-sweep-26</strong> at: <a href='https://wandb.ai/dylan-home/pnca-af-singletons-sweep-w-mutation-feats/runs/rbh85kzo' target=\"_blank\">https://wandb.ai/dylan-home/pnca-af-singletons-sweep-w-mutation-feats/runs/rbh85kzo</a><br/>Synced 5 W&B file(s), 0 media file(s), 0 artifact file(s) and 0 other file(s)"
      ],
      "text/plain": [
       "<IPython.core.display.HTML object>"
      ]
     },
     "metadata": {},
     "output_type": "display_data"
    },
    {
     "data": {
      "text/html": [
       "Find logs at: <code>./wandb/run-20250318_193409-rbh85kzo/logs</code>"
      ],
      "text/plain": [
       "<IPython.core.display.HTML object>"
      ]
     },
     "metadata": {},
     "output_type": "display_data"
    },
    {
     "name": "stderr",
     "output_type": "stream",
     "text": [
      "\u001b[34m\u001b[1mwandb\u001b[0m: Agent Starting Run: dc1gdp57 with config:\n",
      "\u001b[34m\u001b[1mwandb\u001b[0m: \tcutoff_distance: 4.536080621910034\n",
      "\u001b[34m\u001b[1mwandb\u001b[0m: \tdropout: 0.5\n",
      "\u001b[34m\u001b[1mwandb\u001b[0m: \thidden_channels: 128\n",
      "\u001b[34m\u001b[1mwandb\u001b[0m: \tlearning_rate: 1.3270064177224941e-08\n",
      "\u001b[34m\u001b[1mwandb\u001b[0m: \tweight_decay: 0.007140091384154929\n",
      "Failed to detect the name of this notebook, you can set it manually with the WANDB_NOTEBOOK_NAME environment variable to enable code saving.\n",
      "/usr/lib/python3/dist-packages/requests/__init__.py:87: RequestsDependencyWarning: urllib3 (2.2.3) or chardet (4.0.0) doesn't match a supported version!\n",
      "  warnings.warn(\"urllib3 ({}) or chardet ({}) doesn't match a supported \"\n"
     ]
    },
    {
     "data": {
      "text/html": [
       "wandb version 0.19.8 is available!  To upgrade, please run:\n",
       " $ pip install wandb --upgrade"
      ],
      "text/plain": [
       "<IPython.core.display.HTML object>"
      ]
     },
     "metadata": {},
     "output_type": "display_data"
    },
    {
     "data": {
      "text/html": [
       "Tracking run with wandb version 0.16.4"
      ],
      "text/plain": [
       "<IPython.core.display.HTML object>"
      ]
     },
     "metadata": {},
     "output_type": "display_data"
    },
    {
     "data": {
      "text/html": [
       "Run data is saved locally in <code>/mnt/alphafold-volume-1/dylan2/repos/tb-pnca-gnn/dd_pnca/wandb/run-20250318_193531-dc1gdp57</code>"
      ],
      "text/plain": [
       "<IPython.core.display.HTML object>"
      ]
     },
     "metadata": {},
     "output_type": "display_data"
    },
    {
     "data": {
      "text/html": [
       "Syncing run <strong><a href='https://wandb.ai/dylan-home/pnca-af-singletons-sweep-w-mutation-feats/runs/dc1gdp57' target=\"_blank\">restful-sweep-27</a></strong> to <a href='https://wandb.ai/dylan-home/pnca-af-singletons-sweep-w-mutation-feats' target=\"_blank\">Weights & Biases</a> (<a href='https://wandb.me/run' target=\"_blank\">docs</a>)<br/>Sweep page: <a href='https://wandb.ai/dylan-home/pnca-af-singletons-sweep-w-mutation-feats/sweeps/x0k5kbpt' target=\"_blank\">https://wandb.ai/dylan-home/pnca-af-singletons-sweep-w-mutation-feats/sweeps/x0k5kbpt</a>"
      ],
      "text/plain": [
       "<IPython.core.display.HTML object>"
      ]
     },
     "metadata": {},
     "output_type": "display_data"
    },
    {
     "data": {
      "text/html": [
       " View project at <a href='https://wandb.ai/dylan-home/pnca-af-singletons-sweep-w-mutation-feats' target=\"_blank\">https://wandb.ai/dylan-home/pnca-af-singletons-sweep-w-mutation-feats</a>"
      ],
      "text/plain": [
       "<IPython.core.display.HTML object>"
      ]
     },
     "metadata": {},
     "output_type": "display_data"
    },
    {
     "data": {
      "text/html": [
       " View sweep at <a href='https://wandb.ai/dylan-home/pnca-af-singletons-sweep-w-mutation-feats/sweeps/x0k5kbpt' target=\"_blank\">https://wandb.ai/dylan-home/pnca-af-singletons-sweep-w-mutation-feats/sweeps/x0k5kbpt</a>"
      ],
      "text/plain": [
       "<IPython.core.display.HTML object>"
      ]
     },
     "metadata": {},
     "output_type": "display_data"
    },
    {
     "data": {
      "text/html": [
       " View run at <a href='https://wandb.ai/dylan-home/pnca-af-singletons-sweep-w-mutation-feats/runs/dc1gdp57' target=\"_blank\">https://wandb.ai/dylan-home/pnca-af-singletons-sweep-w-mutation-feats/runs/dc1gdp57</a>"
      ],
      "text/plain": [
       "<IPython.core.display.HTML object>"
      ]
     },
     "metadata": {},
     "output_type": "display_data"
    },
    {
     "name": "stdout",
     "output_type": "stream",
     "text": [
      "Adjusting edge index and attaching edge weights for cutoff distance 4.536080621910034\n",
      "Using CUDA\n",
      "Early stopping enabled. Patience: 20. Min Delta: 0.\n",
      "Epoch: 010, Train Acc: 0.3966, Test Acc: 0.4350, Train Loss: 0.6965, Test Loss: 0.6945\n",
      "Epoch: 020, Train Acc: 0.3879, Test Acc: 0.4250, Train Loss: 0.7030, Test Loss: 0.6983\n",
      "20 epochs passed without 0 test loss improvement. \n",
      "Early stopping triggered.\n"
     ]
    },
    {
     "data": {
      "text/html": [
       "<style>\n",
       "    table.wandb td:nth-child(1) { padding: 0 10px; text-align: left ; width: auto;} td:nth-child(2) {text-align: left ; width: 100%}\n",
       "    .wandb-row { display: flex; flex-direction: row; flex-wrap: wrap; justify-content: flex-start; width: 100% }\n",
       "    .wandb-col { display: flex; flex-direction: column; flex-basis: 100%; flex: 1; padding: 10px; }\n",
       "    </style>\n",
       "<div class=\"wandb-row\"><div class=\"wandb-col\"><h3>Run history:</h3><br/><table class=\"wandb\"><tr><td>Test Accuracy</td><td>▇██▆▅▅▅▃▃▁▁▁▁▁▁▁▁▁▁▁▁▁</td></tr><tr><td>Test F1</td><td>████▇▇▆▄▂▁▁▁▁▁▁▁▁▁▁▁▁▁</td></tr><tr><td>Test Loss</td><td>▁▁▁▁▂▂▂▃▃▃▃▄▄▄▅▅▆▆▇▇██</td></tr><tr><td>Test Sensitivity</td><td>████▇▆▄▂▂▁▁▁▁▁▁▁▁▁▁▁▁▁</td></tr><tr><td>Test Specificity</td><td>▁▁▁▁▁▃▅▇██████████████</td></tr><tr><td>Train Accuracy</td><td>███▇▆▅▄▃▂▁▁▁▁▁▁▁▁▁▁▁▁▁</td></tr><tr><td>Train F1</td><td>█████▇▅▄▂▁▁▁▁▁▁▁▁▁▁▁▁▁</td></tr><tr><td>Train Loss</td><td>▁▁▁▁▂▂▂▃▃▃▄▄▄▄▅▅▆▆▇▇▇█</td></tr><tr><td>Train Sensitivity</td><td>████▇▆▄▂▁▁▁▁▁▁▁▁▁▁▁▁▁▁</td></tr><tr><td>Train Specificity</td><td>▂▂▂▁▂▃▅▇██████████████</td></tr></table><br/></div><div class=\"wandb-col\"><h3>Run summary:</h3><br/><table class=\"wandb\"><tr><td>Test Accuracy</td><td>0.425</td></tr><tr><td>Test F1</td><td>0.03361</td></tr><tr><td>Test Loss</td><td>0.69926</td></tr><tr><td>Test Sensitivity</td><td>0.01942</td></tr><tr><td>Test Specificity</td><td>0.85567</td></tr><tr><td>Train Accuracy</td><td>0.38793</td></tr><tr><td>Train F1</td><td>0.04698</td></tr><tr><td>Train Loss</td><td>0.70529</td></tr><tr><td>Train Sensitivity</td><td>0.02846</td></tr><tr><td>Train Specificity</td><td>0.79358</td></tr></table><br/></div></div>"
      ],
      "text/plain": [
       "<IPython.core.display.HTML object>"
      ]
     },
     "metadata": {},
     "output_type": "display_data"
    },
    {
     "data": {
      "text/html": [
       " View run <strong style=\"color:#cdcd00\">restful-sweep-27</strong> at: <a href='https://wandb.ai/dylan-home/pnca-af-singletons-sweep-w-mutation-feats/runs/dc1gdp57' target=\"_blank\">https://wandb.ai/dylan-home/pnca-af-singletons-sweep-w-mutation-feats/runs/dc1gdp57</a><br/>Synced 5 W&B file(s), 0 media file(s), 0 artifact file(s) and 0 other file(s)"
      ],
      "text/plain": [
       "<IPython.core.display.HTML object>"
      ]
     },
     "metadata": {},
     "output_type": "display_data"
    },
    {
     "data": {
      "text/html": [
       "Find logs at: <code>./wandb/run-20250318_193531-dc1gdp57/logs</code>"
      ],
      "text/plain": [
       "<IPython.core.display.HTML object>"
      ]
     },
     "metadata": {},
     "output_type": "display_data"
    },
    {
     "name": "stderr",
     "output_type": "stream",
     "text": [
      "\u001b[34m\u001b[1mwandb\u001b[0m: Agent Starting Run: 06f3ohvh with config:\n",
      "\u001b[34m\u001b[1mwandb\u001b[0m: \tcutoff_distance: 7.40885831173666\n",
      "\u001b[34m\u001b[1mwandb\u001b[0m: \tdropout: 0.6\n",
      "\u001b[34m\u001b[1mwandb\u001b[0m: \thidden_channels: 64\n",
      "\u001b[34m\u001b[1mwandb\u001b[0m: \tlearning_rate: 4.49228596870341e-05\n",
      "\u001b[34m\u001b[1mwandb\u001b[0m: \tweight_decay: 4.132091588715752e-06\n",
      "Failed to detect the name of this notebook, you can set it manually with the WANDB_NOTEBOOK_NAME environment variable to enable code saving.\n",
      "/usr/lib/python3/dist-packages/requests/__init__.py:87: RequestsDependencyWarning: urllib3 (2.2.3) or chardet (4.0.0) doesn't match a supported version!\n",
      "  warnings.warn(\"urllib3 ({}) or chardet ({}) doesn't match a supported \"\n"
     ]
    },
    {
     "data": {
      "text/html": [
       "wandb version 0.19.8 is available!  To upgrade, please run:\n",
       " $ pip install wandb --upgrade"
      ],
      "text/plain": [
       "<IPython.core.display.HTML object>"
      ]
     },
     "metadata": {},
     "output_type": "display_data"
    },
    {
     "data": {
      "text/html": [
       "Tracking run with wandb version 0.16.4"
      ],
      "text/plain": [
       "<IPython.core.display.HTML object>"
      ]
     },
     "metadata": {},
     "output_type": "display_data"
    },
    {
     "data": {
      "text/html": [
       "Run data is saved locally in <code>/mnt/alphafold-volume-1/dylan2/repos/tb-pnca-gnn/dd_pnca/wandb/run-20250318_193548-06f3ohvh</code>"
      ],
      "text/plain": [
       "<IPython.core.display.HTML object>"
      ]
     },
     "metadata": {},
     "output_type": "display_data"
    },
    {
     "data": {
      "text/html": [
       "Syncing run <strong><a href='https://wandb.ai/dylan-home/pnca-af-singletons-sweep-w-mutation-feats/runs/06f3ohvh' target=\"_blank\">effortless-sweep-28</a></strong> to <a href='https://wandb.ai/dylan-home/pnca-af-singletons-sweep-w-mutation-feats' target=\"_blank\">Weights & Biases</a> (<a href='https://wandb.me/run' target=\"_blank\">docs</a>)<br/>Sweep page: <a href='https://wandb.ai/dylan-home/pnca-af-singletons-sweep-w-mutation-feats/sweeps/x0k5kbpt' target=\"_blank\">https://wandb.ai/dylan-home/pnca-af-singletons-sweep-w-mutation-feats/sweeps/x0k5kbpt</a>"
      ],
      "text/plain": [
       "<IPython.core.display.HTML object>"
      ]
     },
     "metadata": {},
     "output_type": "display_data"
    },
    {
     "data": {
      "text/html": [
       " View project at <a href='https://wandb.ai/dylan-home/pnca-af-singletons-sweep-w-mutation-feats' target=\"_blank\">https://wandb.ai/dylan-home/pnca-af-singletons-sweep-w-mutation-feats</a>"
      ],
      "text/plain": [
       "<IPython.core.display.HTML object>"
      ]
     },
     "metadata": {},
     "output_type": "display_data"
    },
    {
     "data": {
      "text/html": [
       " View sweep at <a href='https://wandb.ai/dylan-home/pnca-af-singletons-sweep-w-mutation-feats/sweeps/x0k5kbpt' target=\"_blank\">https://wandb.ai/dylan-home/pnca-af-singletons-sweep-w-mutation-feats/sweeps/x0k5kbpt</a>"
      ],
      "text/plain": [
       "<IPython.core.display.HTML object>"
      ]
     },
     "metadata": {},
     "output_type": "display_data"
    },
    {
     "data": {
      "text/html": [
       " View run at <a href='https://wandb.ai/dylan-home/pnca-af-singletons-sweep-w-mutation-feats/runs/06f3ohvh' target=\"_blank\">https://wandb.ai/dylan-home/pnca-af-singletons-sweep-w-mutation-feats/runs/06f3ohvh</a>"
      ],
      "text/plain": [
       "<IPython.core.display.HTML object>"
      ]
     },
     "metadata": {},
     "output_type": "display_data"
    },
    {
     "name": "stdout",
     "output_type": "stream",
     "text": [
      "Adjusting edge index and attaching edge weights for cutoff distance 7.40885831173666\n",
      "Using CUDA\n",
      "Early stopping enabled. Patience: 20. Min Delta: 0.\n",
      "Epoch: 010, Train Acc: 0.6358, Test Acc: 0.6200, Train Loss: 0.6652, Test Loss: 0.6506\n",
      "Epoch: 020, Train Acc: 0.6358, Test Acc: 0.6200, Train Loss: 0.6485, Test Loss: 0.6432\n",
      "Epoch: 030, Train Acc: 0.6358, Test Acc: 0.6200, Train Loss: 0.6436, Test Loss: 0.6425\n",
      "Epoch: 040, Train Acc: 0.6358, Test Acc: 0.6200, Train Loss: 0.6414, Test Loss: 0.6462\n",
      "20 epochs passed without 0 test loss improvement. \n",
      "Early stopping triggered.\n"
     ]
    },
    {
     "data": {
      "text/html": [
       "<style>\n",
       "    table.wandb td:nth-child(1) { padding: 0 10px; text-align: left ; width: auto;} td:nth-child(2) {text-align: left ; width: 100%}\n",
       "    .wandb-row { display: flex; flex-direction: row; flex-wrap: wrap; justify-content: flex-start; width: 100% }\n",
       "    .wandb-col { display: flex; flex-direction: column; flex-basis: 100%; flex: 1; padding: 10px; }\n",
       "    </style>\n",
       "<div class=\"wandb-row\"><div class=\"wandb-col\"><h3>Run history:</h3><br/><table class=\"wandb\"><tr><td>Test Accuracy</td><td>▁▁▁▁▁▁▁▁▁▁▁▁▁▁▁▁▁▁▁▁▁▁▁▁▁▁▁▁▁▁▁▁▁▁▁▁▁▁▁▁</td></tr><tr><td>Test F1</td><td>▁▁▁▁▁▁▁▁▁▁▁▁▁▁▁▁▁▁▁▁▁▁▁▁▁▁▁▁▁▁▁▁▁▁▁▁▁▁▁▁</td></tr><tr><td>Test Loss</td><td>▇▇▆▇▇███▇▆▅▄▄▃▃▂▂▂▁▁▁▁▁▁▁▁▁▂▂▂▂▂▃▃▄▄▄▄▄▄</td></tr><tr><td>Test Sensitivity</td><td>▁▁▁▁▁▁▁▁▁▁▁▁▁▁▁▁▁▁▁▁▁▁▁▁▁▁▁▁▁▁▁▁▁▁▁▁▁▁▁▁</td></tr><tr><td>Test Specificity</td><td>▁▁▁▁▁▁▁▁▁▁▁▁▁▁▁▁▁▁▁▁▁▁▁▁▁▁▁▁▁▁▁▁▁▁▁▁▁▁▁▁</td></tr><tr><td>Train Accuracy</td><td>▁▁▁▁▁▁▁▁▁▁▁▁▁▁▁▁▁▁▁▁▁▁▁▁▁▁▁▁▁▁▁▁▁▁▁▁▁▁▁▁</td></tr><tr><td>Train F1</td><td>▁▁▁▁▁▁▁▁▁▁▁▁▁▁▁▁▁▁▁▁▁▁▁▁▁▁▁▁▁▁▁▁▁▁▁▁▁▁▁▁</td></tr><tr><td>Train Loss</td><td>▇▇▇█████▇▆▅▄▅▄▄▄▃▃▃▃▂▃▂▃▃▂▂▃▂▂▂▂▂▁▂▂▂▁▂▁</td></tr><tr><td>Train Sensitivity</td><td>▁▁▁▁▁▁▁▁▁▁▁▁▁▁▁▁▁▁▁▁▁▁▁▁▁▁▁▁▁▁▁▁▁▁▁▁▁▁▁▁</td></tr><tr><td>Train Specificity</td><td>▁▁▁▁▁▁▁▁▁▁▁▁▁▁▁▁▁▁▁▁▁▁▁▁▁▁▁▁▁▁▁▁▁▁▁▁▁▁▁▁</td></tr></table><br/></div><div class=\"wandb-col\"><h3>Run summary:</h3><br/><table class=\"wandb\"><tr><td>Test Accuracy</td><td>0.62</td></tr><tr><td>Test F1</td><td>0.72464</td></tr><tr><td>Test Loss</td><td>0.64646</td></tr><tr><td>Test Sensitivity</td><td>0.97087</td></tr><tr><td>Test Specificity</td><td>0.24742</td></tr><tr><td>Train Accuracy</td><td>0.63578</td></tr><tr><td>Train F1</td><td>0.72066</td></tr><tr><td>Train Loss</td><td>0.63996</td></tr><tr><td>Train Sensitivity</td><td>0.88618</td></tr><tr><td>Train Specificity</td><td>0.35321</td></tr></table><br/></div></div>"
      ],
      "text/plain": [
       "<IPython.core.display.HTML object>"
      ]
     },
     "metadata": {},
     "output_type": "display_data"
    },
    {
     "data": {
      "text/html": [
       " View run <strong style=\"color:#cdcd00\">effortless-sweep-28</strong> at: <a href='https://wandb.ai/dylan-home/pnca-af-singletons-sweep-w-mutation-feats/runs/06f3ohvh' target=\"_blank\">https://wandb.ai/dylan-home/pnca-af-singletons-sweep-w-mutation-feats/runs/06f3ohvh</a><br/>Synced 5 W&B file(s), 0 media file(s), 0 artifact file(s) and 0 other file(s)"
      ],
      "text/plain": [
       "<IPython.core.display.HTML object>"
      ]
     },
     "metadata": {},
     "output_type": "display_data"
    },
    {
     "data": {
      "text/html": [
       "Find logs at: <code>./wandb/run-20250318_193548-06f3ohvh/logs</code>"
      ],
      "text/plain": [
       "<IPython.core.display.HTML object>"
      ]
     },
     "metadata": {},
     "output_type": "display_data"
    },
    {
     "name": "stderr",
     "output_type": "stream",
     "text": [
      "\u001b[34m\u001b[1mwandb\u001b[0m: Agent Starting Run: zscgm7md with config:\n",
      "\u001b[34m\u001b[1mwandb\u001b[0m: \tcutoff_distance: 5.544366411656939\n",
      "\u001b[34m\u001b[1mwandb\u001b[0m: \tdropout: 0.6\n",
      "\u001b[34m\u001b[1mwandb\u001b[0m: \thidden_channels: 128\n",
      "\u001b[34m\u001b[1mwandb\u001b[0m: \tlearning_rate: 0.07027806529385264\n",
      "\u001b[34m\u001b[1mwandb\u001b[0m: \tweight_decay: 0.002969155868790536\n",
      "Failed to detect the name of this notebook, you can set it manually with the WANDB_NOTEBOOK_NAME environment variable to enable code saving.\n",
      "/usr/lib/python3/dist-packages/requests/__init__.py:87: RequestsDependencyWarning: urllib3 (2.2.3) or chardet (4.0.0) doesn't match a supported version!\n",
      "  warnings.warn(\"urllib3 ({}) or chardet ({}) doesn't match a supported \"\n"
     ]
    },
    {
     "data": {
      "text/html": [
       "wandb version 0.19.8 is available!  To upgrade, please run:\n",
       " $ pip install wandb --upgrade"
      ],
      "text/plain": [
       "<IPython.core.display.HTML object>"
      ]
     },
     "metadata": {},
     "output_type": "display_data"
    },
    {
     "data": {
      "text/html": [
       "Tracking run with wandb version 0.16.4"
      ],
      "text/plain": [
       "<IPython.core.display.HTML object>"
      ]
     },
     "metadata": {},
     "output_type": "display_data"
    },
    {
     "data": {
      "text/html": [
       "Run data is saved locally in <code>/mnt/alphafold-volume-1/dylan2/repos/tb-pnca-gnn/dd_pnca/wandb/run-20250318_193654-zscgm7md</code>"
      ],
      "text/plain": [
       "<IPython.core.display.HTML object>"
      ]
     },
     "metadata": {},
     "output_type": "display_data"
    },
    {
     "data": {
      "text/html": [
       "Syncing run <strong><a href='https://wandb.ai/dylan-home/pnca-af-singletons-sweep-w-mutation-feats/runs/zscgm7md' target=\"_blank\">restful-sweep-29</a></strong> to <a href='https://wandb.ai/dylan-home/pnca-af-singletons-sweep-w-mutation-feats' target=\"_blank\">Weights & Biases</a> (<a href='https://wandb.me/run' target=\"_blank\">docs</a>)<br/>Sweep page: <a href='https://wandb.ai/dylan-home/pnca-af-singletons-sweep-w-mutation-feats/sweeps/x0k5kbpt' target=\"_blank\">https://wandb.ai/dylan-home/pnca-af-singletons-sweep-w-mutation-feats/sweeps/x0k5kbpt</a>"
      ],
      "text/plain": [
       "<IPython.core.display.HTML object>"
      ]
     },
     "metadata": {},
     "output_type": "display_data"
    },
    {
     "data": {
      "text/html": [
       " View project at <a href='https://wandb.ai/dylan-home/pnca-af-singletons-sweep-w-mutation-feats' target=\"_blank\">https://wandb.ai/dylan-home/pnca-af-singletons-sweep-w-mutation-feats</a>"
      ],
      "text/plain": [
       "<IPython.core.display.HTML object>"
      ]
     },
     "metadata": {},
     "output_type": "display_data"
    },
    {
     "data": {
      "text/html": [
       " View sweep at <a href='https://wandb.ai/dylan-home/pnca-af-singletons-sweep-w-mutation-feats/sweeps/x0k5kbpt' target=\"_blank\">https://wandb.ai/dylan-home/pnca-af-singletons-sweep-w-mutation-feats/sweeps/x0k5kbpt</a>"
      ],
      "text/plain": [
       "<IPython.core.display.HTML object>"
      ]
     },
     "metadata": {},
     "output_type": "display_data"
    },
    {
     "data": {
      "text/html": [
       " View run at <a href='https://wandb.ai/dylan-home/pnca-af-singletons-sweep-w-mutation-feats/runs/zscgm7md' target=\"_blank\">https://wandb.ai/dylan-home/pnca-af-singletons-sweep-w-mutation-feats/runs/zscgm7md</a>"
      ],
      "text/plain": [
       "<IPython.core.display.HTML object>"
      ]
     },
     "metadata": {},
     "output_type": "display_data"
    },
    {
     "name": "stdout",
     "output_type": "stream",
     "text": [
      "Adjusting edge index and attaching edge weights for cutoff distance 5.544366411656939\n",
      "Using CUDA\n",
      "Early stopping enabled. Patience: 20. Min Delta: 0.\n",
      "Epoch: 010, Train Acc: 0.5302, Test Acc: 0.5150, Train Loss: 1.6941, Test Loss: 1.3682\n",
      "Epoch: 020, Train Acc: 0.6358, Test Acc: 0.6200, Train Loss: 0.6421, Test Loss: 0.6562\n",
      "Epoch: 030, Train Acc: 0.6358, Test Acc: 0.6200, Train Loss: 0.6394, Test Loss: 0.6439\n",
      "Epoch: 040, Train Acc: 0.6358, Test Acc: 0.6200, Train Loss: 0.6384, Test Loss: 0.6471\n",
      "Epoch: 050, Train Acc: 0.6358, Test Acc: 0.6200, Train Loss: 0.6349, Test Loss: 0.6491\n",
      "Epoch: 060, Train Acc: 0.6358, Test Acc: 0.6200, Train Loss: 0.6327, Test Loss: 0.6418\n",
      "Epoch: 070, Train Acc: 0.6358, Test Acc: 0.6200, Train Loss: 0.6323, Test Loss: 0.6449\n",
      "Epoch: 080, Train Acc: 0.6358, Test Acc: 0.6200, Train Loss: 0.6273, Test Loss: 0.6407\n",
      "Epoch: 090, Train Acc: 0.6121, Test Acc: 0.5650, Train Loss: 0.6312, Test Loss: 0.6607\n",
      "Epoch: 100, Train Acc: 0.6703, Test Acc: 0.6400, Train Loss: 0.6041, Test Loss: 0.6207\n",
      "Epoch: 110, Train Acc: 0.6789, Test Acc: 0.6300, Train Loss: 0.5764, Test Loss: 0.6201\n",
      "Epoch: 120, Train Acc: 0.5884, Test Acc: 0.6100, Train Loss: 0.7058, Test Loss: 0.7286\n",
      "Epoch: 130, Train Acc: 0.6099, Test Acc: 0.6250, Train Loss: 0.6937, Test Loss: 0.7408\n",
      "Epoch: 140, Train Acc: 0.5129, Test Acc: 0.5350, Train Loss: 1.0350, Test Loss: 1.1034\n",
      "20 epochs passed without 0 test loss improvement. \n",
      "Early stopping triggered.\n"
     ]
    },
    {
     "data": {
      "text/html": [
       "<style>\n",
       "    table.wandb td:nth-child(1) { padding: 0 10px; text-align: left ; width: auto;} td:nth-child(2) {text-align: left ; width: 100%}\n",
       "    .wandb-row { display: flex; flex-direction: row; flex-wrap: wrap; justify-content: flex-start; width: 100% }\n",
       "    .wandb-col { display: flex; flex-direction: column; flex-basis: 100%; flex: 1; padding: 10px; }\n",
       "    </style>\n",
       "<div class=\"wandb-row\"><div class=\"wandb-col\"><h3>Run history:</h3><br/><table class=\"wandb\"><tr><td>Test Accuracy</td><td>▃▅▁▆▆▆▆▆▆▆▆▆▆▆▆▆▆▆▆▆▆▆▆▆▅▅▆▇▆▇▅█▆▆▅▆▄▅██</td></tr><tr><td>Test F1</td><td>██▁█████████████████████████▇██▇▅▅▄▅▃▄▆▇</td></tr><tr><td>Test Loss</td><td>█▁▁▁▁▁▁▁▁▁▁▁▁▁▁▁▁▁▁▁▁▁▁▁▁▁▁▁▁▁▁▁▁▁▁▁▁▁▁▁</td></tr><tr><td>Test Sensitivity</td><td>██▁████████████████████████▇▅▇█▅▃▃▂▃▂▂▄▄</td></tr><tr><td>Test Specificity</td><td>▁▂▇▃▃▃▃▃▃▃▃▃▃▃▃▃▃▃▃▃▃▃▃▃▂▂▃▄▆▅▃▆███████▇</td></tr><tr><td>Train Accuracy</td><td>▃▅▁▆▆▆▆▆▆▆▆▆▆▆▆▆▆▆▆▆▆▆▆▆▅▆▆▇▇▇▆█▅▅▄▅▃▄▇█</td></tr><tr><td>Train F1</td><td>▇█▁█████████████████████████▇███▄▅▃▅▂▃▆▇</td></tr><tr><td>Train Loss</td><td>█▁▁▁▁▁▁▁▁▁▁▁▁▁▁▁▁▁▁▁▁▁▁▁▁▁▁▁▁▁▁▁▁▁▁▁▁▁▁▁</td></tr><tr><td>Train Sensitivity</td><td>██▁▇▇▇▇▇▇▇▇▇▇▇▇▇▇▇▇▇▇▇▇▇██▇▇▄▆█▆▂▃▂▃▁▂▄▄</td></tr><tr><td>Train Specificity</td><td>▁▂▇▃▃▃▃▃▃▃▃▃▃▃▃▃▃▃▃▃▃▃▃▃▂▃▄▅▇▅▃▆████████</td></tr></table><br/></div><div class=\"wandb-col\"><h3>Run summary:</h3><br/><table class=\"wandb\"><tr><td>Test Accuracy</td><td>0.67</td></tr><tr><td>Test F1</td><td>0.55405</td></tr><tr><td>Test Loss</td><td>0.73627</td></tr><tr><td>Test Sensitivity</td><td>0.39806</td></tr><tr><td>Test Specificity</td><td>0.95876</td></tr><tr><td>Train Accuracy</td><td>0.66379</td></tr><tr><td>Train F1</td><td>0.55172</td></tr><tr><td>Train Loss</td><td>0.65653</td></tr><tr><td>Train Sensitivity</td><td>0.39024</td></tr><tr><td>Train Specificity</td><td>0.97248</td></tr></table><br/></div></div>"
      ],
      "text/plain": [
       "<IPython.core.display.HTML object>"
      ]
     },
     "metadata": {},
     "output_type": "display_data"
    },
    {
     "data": {
      "text/html": [
       " View run <strong style=\"color:#cdcd00\">restful-sweep-29</strong> at: <a href='https://wandb.ai/dylan-home/pnca-af-singletons-sweep-w-mutation-feats/runs/zscgm7md' target=\"_blank\">https://wandb.ai/dylan-home/pnca-af-singletons-sweep-w-mutation-feats/runs/zscgm7md</a><br/>Synced 5 W&B file(s), 0 media file(s), 0 artifact file(s) and 0 other file(s)"
      ],
      "text/plain": [
       "<IPython.core.display.HTML object>"
      ]
     },
     "metadata": {},
     "output_type": "display_data"
    },
    {
     "data": {
      "text/html": [
       "Find logs at: <code>./wandb/run-20250318_193654-zscgm7md/logs</code>"
      ],
      "text/plain": [
       "<IPython.core.display.HTML object>"
      ]
     },
     "metadata": {},
     "output_type": "display_data"
    },
    {
     "name": "stderr",
     "output_type": "stream",
     "text": [
      "\u001b[34m\u001b[1mwandb\u001b[0m: Agent Starting Run: b1q90f0q with config:\n",
      "\u001b[34m\u001b[1mwandb\u001b[0m: \tcutoff_distance: 11.36252954055152\n",
      "\u001b[34m\u001b[1mwandb\u001b[0m: \tdropout: 0.8\n",
      "\u001b[34m\u001b[1mwandb\u001b[0m: \thidden_channels: 128\n",
      "\u001b[34m\u001b[1mwandb\u001b[0m: \tlearning_rate: 0.0070186308124485855\n",
      "\u001b[34m\u001b[1mwandb\u001b[0m: \tweight_decay: 8.420138493454321e-05\n",
      "Failed to detect the name of this notebook, you can set it manually with the WANDB_NOTEBOOK_NAME environment variable to enable code saving.\n",
      "/usr/lib/python3/dist-packages/requests/__init__.py:87: RequestsDependencyWarning: urllib3 (2.2.3) or chardet (4.0.0) doesn't match a supported version!\n",
      "  warnings.warn(\"urllib3 ({}) or chardet ({}) doesn't match a supported \"\n"
     ]
    },
    {
     "data": {
      "text/html": [
       "wandb version 0.19.8 is available!  To upgrade, please run:\n",
       " $ pip install wandb --upgrade"
      ],
      "text/plain": [
       "<IPython.core.display.HTML object>"
      ]
     },
     "metadata": {},
     "output_type": "display_data"
    },
    {
     "data": {
      "text/html": [
       "Tracking run with wandb version 0.16.4"
      ],
      "text/plain": [
       "<IPython.core.display.HTML object>"
      ]
     },
     "metadata": {},
     "output_type": "display_data"
    },
    {
     "data": {
      "text/html": [
       "Run data is saved locally in <code>/mnt/alphafold-volume-1/dylan2/repos/tb-pnca-gnn/dd_pnca/wandb/run-20250318_193740-b1q90f0q</code>"
      ],
      "text/plain": [
       "<IPython.core.display.HTML object>"
      ]
     },
     "metadata": {},
     "output_type": "display_data"
    },
    {
     "data": {
      "text/html": [
       "Syncing run <strong><a href='https://wandb.ai/dylan-home/pnca-af-singletons-sweep-w-mutation-feats/runs/b1q90f0q' target=\"_blank\">volcanic-sweep-30</a></strong> to <a href='https://wandb.ai/dylan-home/pnca-af-singletons-sweep-w-mutation-feats' target=\"_blank\">Weights & Biases</a> (<a href='https://wandb.me/run' target=\"_blank\">docs</a>)<br/>Sweep page: <a href='https://wandb.ai/dylan-home/pnca-af-singletons-sweep-w-mutation-feats/sweeps/x0k5kbpt' target=\"_blank\">https://wandb.ai/dylan-home/pnca-af-singletons-sweep-w-mutation-feats/sweeps/x0k5kbpt</a>"
      ],
      "text/plain": [
       "<IPython.core.display.HTML object>"
      ]
     },
     "metadata": {},
     "output_type": "display_data"
    },
    {
     "data": {
      "text/html": [
       " View project at <a href='https://wandb.ai/dylan-home/pnca-af-singletons-sweep-w-mutation-feats' target=\"_blank\">https://wandb.ai/dylan-home/pnca-af-singletons-sweep-w-mutation-feats</a>"
      ],
      "text/plain": [
       "<IPython.core.display.HTML object>"
      ]
     },
     "metadata": {},
     "output_type": "display_data"
    },
    {
     "data": {
      "text/html": [
       " View sweep at <a href='https://wandb.ai/dylan-home/pnca-af-singletons-sweep-w-mutation-feats/sweeps/x0k5kbpt' target=\"_blank\">https://wandb.ai/dylan-home/pnca-af-singletons-sweep-w-mutation-feats/sweeps/x0k5kbpt</a>"
      ],
      "text/plain": [
       "<IPython.core.display.HTML object>"
      ]
     },
     "metadata": {},
     "output_type": "display_data"
    },
    {
     "data": {
      "text/html": [
       " View run at <a href='https://wandb.ai/dylan-home/pnca-af-singletons-sweep-w-mutation-feats/runs/b1q90f0q' target=\"_blank\">https://wandb.ai/dylan-home/pnca-af-singletons-sweep-w-mutation-feats/runs/b1q90f0q</a>"
      ],
      "text/plain": [
       "<IPython.core.display.HTML object>"
      ]
     },
     "metadata": {},
     "output_type": "display_data"
    },
    {
     "name": "stdout",
     "output_type": "stream",
     "text": [
      "Adjusting edge index and attaching edge weights for cutoff distance 11.36252954055152\n",
      "Using CUDA\n",
      "Early stopping enabled. Patience: 20. Min Delta: 0.\n",
      "Epoch: 010, Train Acc: 0.4698, Test Acc: 0.4850, Train Loss: 0.9006, Test Loss: 0.8004\n",
      "Epoch: 020, Train Acc: 0.5216, Test Acc: 0.5350, Train Loss: 0.7154, Test Loss: 0.7149\n",
      "Epoch: 030, Train Acc: 0.6379, Test Acc: 0.6150, Train Loss: 0.6685, Test Loss: 0.6812\n",
      "Epoch: 040, Train Acc: 0.6509, Test Acc: 0.6200, Train Loss: 0.6506, Test Loss: 0.6596\n",
      "Epoch: 050, Train Acc: 0.6358, Test Acc: 0.6200, Train Loss: 0.6281, Test Loss: 0.6459\n",
      "Epoch: 060, Train Acc: 0.6573, Test Acc: 0.6250, Train Loss: 0.6173, Test Loss: 0.6251\n",
      "Epoch: 070, Train Acc: 0.6487, Test Acc: 0.6200, Train Loss: 0.6364, Test Loss: 0.6709\n",
      "Epoch: 080, Train Acc: 0.6466, Test Acc: 0.6100, Train Loss: 0.6236, Test Loss: 0.6565\n",
      "Epoch: 090, Train Acc: 0.6940, Test Acc: 0.6850, Train Loss: 0.5654, Test Loss: 0.5701\n",
      "Epoch: 100, Train Acc: 0.6401, Test Acc: 0.6000, Train Loss: 0.6711, Test Loss: 0.7269\n",
      "20 epochs passed without 0 test loss improvement. \n",
      "Early stopping triggered.\n"
     ]
    },
    {
     "data": {
      "text/html": [
       "<style>\n",
       "    table.wandb td:nth-child(1) { padding: 0 10px; text-align: left ; width: auto;} td:nth-child(2) {text-align: left ; width: 100%}\n",
       "    .wandb-row { display: flex; flex-direction: row; flex-wrap: wrap; justify-content: flex-start; width: 100% }\n",
       "    .wandb-col { display: flex; flex-direction: column; flex-basis: 100%; flex: 1; padding: 10px; }\n",
       "    </style>\n",
       "<div class=\"wandb-row\"><div class=\"wandb-col\"><h3>Run history:</h3><br/><table class=\"wandb\"><tr><td>Test Accuracy</td><td>▁▄▄▁▂▁▁▃▅▅▅▅▅▅▅▅▅▅▅▅▅▅▆▅▅▅▅▆▅▅▅▅▇▆▅▄▅▇▇█</td></tr><tr><td>Test F1</td><td>▁██▁▃▁▁▃██████████████████████████████▇█</td></tr><tr><td>Test Loss</td><td>█▁▁▁▁▁▁▁▁▁▁▁▁▁▁▁▁▁▁▁▁▁▁▁▁▁▁▁▁▁▁▁▁▁▁▁▁▁▁▁</td></tr><tr><td>Test Sensitivity</td><td>▁██▁▂▁▁▂██████████████▇████▇████▆▇███▇▄▅</td></tr><tr><td>Test Specificity</td><td>█▁▁█████▂▂▂▂▂▂▂▂▂▂▂▂▂▂▃▂▂▂▂▃▂▂▂▂▅▄▂▁▂▃▇▆</td></tr><tr><td>Train Accuracy</td><td>▁▅▅▁▂▁▁▃▆▆▆▆▆▆▆▆▆▆▆▆▆▆▇▆▆▆▆▇▆▆▇▆▇█▆▅▆▇▆█</td></tr><tr><td>Train F1</td><td>▁██▁▂▁▁▃████████████████████████▇█████▆▇</td></tr><tr><td>Train Loss</td><td>█▁▁▁▁▁▁▁▁▁▁▁▁▁▁▁▁▁▁▁▁▁▁▁▁▁▁▁▁▁▁▁▁▁▁▁▁▁▁▁</td></tr><tr><td>Train Sensitivity</td><td>▁██▁▁▁▁▂▇▇▇▇▇▇▇▇▇▇▇▇▇▇▇▇▇██▇██▇█▆▇███▇▄▅</td></tr><tr><td>Train Specificity</td><td>█▁▁█████▃▂▂▂▂▂▃▂▂▂▂▂▂▃▄▂▂▂▂▄▂▂▃▂▅▄▂▁▂▃▇▆</td></tr></table><br/></div><div class=\"wandb-col\"><h3>Run summary:</h3><br/><table class=\"wandb\"><tr><td>Test Accuracy</td><td>0.705</td></tr><tr><td>Test F1</td><td>0.68108</td></tr><tr><td>Test Loss</td><td>0.57632</td></tr><tr><td>Test Sensitivity</td><td>0.61165</td></tr><tr><td>Test Specificity</td><td>0.80412</td></tr><tr><td>Train Accuracy</td><td>0.70259</td></tr><tr><td>Train F1</td><td>0.68056</td></tr><tr><td>Train Loss</td><td>0.55333</td></tr><tr><td>Train Sensitivity</td><td>0.59756</td></tr><tr><td>Train Specificity</td><td>0.8211</td></tr></table><br/></div></div>"
      ],
      "text/plain": [
       "<IPython.core.display.HTML object>"
      ]
     },
     "metadata": {},
     "output_type": "display_data"
    },
    {
     "data": {
      "text/html": [
       " View run <strong style=\"color:#cdcd00\">volcanic-sweep-30</strong> at: <a href='https://wandb.ai/dylan-home/pnca-af-singletons-sweep-w-mutation-feats/runs/b1q90f0q' target=\"_blank\">https://wandb.ai/dylan-home/pnca-af-singletons-sweep-w-mutation-feats/runs/b1q90f0q</a><br/>Synced 5 W&B file(s), 0 media file(s), 0 artifact file(s) and 0 other file(s)"
      ],
      "text/plain": [
       "<IPython.core.display.HTML object>"
      ]
     },
     "metadata": {},
     "output_type": "display_data"
    },
    {
     "data": {
      "text/html": [
       "Find logs at: <code>./wandb/run-20250318_193740-b1q90f0q/logs</code>"
      ],
      "text/plain": [
       "<IPython.core.display.HTML object>"
      ]
     },
     "metadata": {},
     "output_type": "display_data"
    },
    {
     "name": "stderr",
     "output_type": "stream",
     "text": [
      "\u001b[34m\u001b[1mwandb\u001b[0m: Agent Starting Run: qnorpbyn with config:\n",
      "\u001b[34m\u001b[1mwandb\u001b[0m: \tcutoff_distance: 9.26758094740877\n",
      "\u001b[34m\u001b[1mwandb\u001b[0m: \tdropout: 0.8\n",
      "\u001b[34m\u001b[1mwandb\u001b[0m: \thidden_channels: 128\n",
      "\u001b[34m\u001b[1mwandb\u001b[0m: \tlearning_rate: 0.0003426874017997328\n",
      "\u001b[34m\u001b[1mwandb\u001b[0m: \tweight_decay: 4.839896599743749e-08\n",
      "Failed to detect the name of this notebook, you can set it manually with the WANDB_NOTEBOOK_NAME environment variable to enable code saving.\n",
      "/usr/lib/python3/dist-packages/requests/__init__.py:87: RequestsDependencyWarning: urllib3 (2.2.3) or chardet (4.0.0) doesn't match a supported version!\n",
      "  warnings.warn(\"urllib3 ({}) or chardet ({}) doesn't match a supported \"\n"
     ]
    },
    {
     "data": {
      "text/html": [
       "wandb version 0.19.8 is available!  To upgrade, please run:\n",
       " $ pip install wandb --upgrade"
      ],
      "text/plain": [
       "<IPython.core.display.HTML object>"
      ]
     },
     "metadata": {},
     "output_type": "display_data"
    },
    {
     "data": {
      "text/html": [
       "Tracking run with wandb version 0.16.4"
      ],
      "text/plain": [
       "<IPython.core.display.HTML object>"
      ]
     },
     "metadata": {},
     "output_type": "display_data"
    },
    {
     "data": {
      "text/html": [
       "Run data is saved locally in <code>/mnt/alphafold-volume-1/dylan2/repos/tb-pnca-gnn/dd_pnca/wandb/run-20250318_194055-qnorpbyn</code>"
      ],
      "text/plain": [
       "<IPython.core.display.HTML object>"
      ]
     },
     "metadata": {},
     "output_type": "display_data"
    },
    {
     "data": {
      "text/html": [
       "Syncing run <strong><a href='https://wandb.ai/dylan-home/pnca-af-singletons-sweep-w-mutation-feats/runs/qnorpbyn' target=\"_blank\">desert-sweep-31</a></strong> to <a href='https://wandb.ai/dylan-home/pnca-af-singletons-sweep-w-mutation-feats' target=\"_blank\">Weights & Biases</a> (<a href='https://wandb.me/run' target=\"_blank\">docs</a>)<br/>Sweep page: <a href='https://wandb.ai/dylan-home/pnca-af-singletons-sweep-w-mutation-feats/sweeps/x0k5kbpt' target=\"_blank\">https://wandb.ai/dylan-home/pnca-af-singletons-sweep-w-mutation-feats/sweeps/x0k5kbpt</a>"
      ],
      "text/plain": [
       "<IPython.core.display.HTML object>"
      ]
     },
     "metadata": {},
     "output_type": "display_data"
    },
    {
     "data": {
      "text/html": [
       " View project at <a href='https://wandb.ai/dylan-home/pnca-af-singletons-sweep-w-mutation-feats' target=\"_blank\">https://wandb.ai/dylan-home/pnca-af-singletons-sweep-w-mutation-feats</a>"
      ],
      "text/plain": [
       "<IPython.core.display.HTML object>"
      ]
     },
     "metadata": {},
     "output_type": "display_data"
    },
    {
     "data": {
      "text/html": [
       " View sweep at <a href='https://wandb.ai/dylan-home/pnca-af-singletons-sweep-w-mutation-feats/sweeps/x0k5kbpt' target=\"_blank\">https://wandb.ai/dylan-home/pnca-af-singletons-sweep-w-mutation-feats/sweeps/x0k5kbpt</a>"
      ],
      "text/plain": [
       "<IPython.core.display.HTML object>"
      ]
     },
     "metadata": {},
     "output_type": "display_data"
    },
    {
     "data": {
      "text/html": [
       " View run at <a href='https://wandb.ai/dylan-home/pnca-af-singletons-sweep-w-mutation-feats/runs/qnorpbyn' target=\"_blank\">https://wandb.ai/dylan-home/pnca-af-singletons-sweep-w-mutation-feats/runs/qnorpbyn</a>"
      ],
      "text/plain": [
       "<IPython.core.display.HTML object>"
      ]
     },
     "metadata": {},
     "output_type": "display_data"
    },
    {
     "name": "stdout",
     "output_type": "stream",
     "text": [
      "Adjusting edge index and attaching edge weights for cutoff distance 9.26758094740877\n",
      "Using CUDA\n",
      "Early stopping enabled. Patience: 20. Min Delta: 0.\n",
      "Epoch: 010, Train Acc: 0.6358, Test Acc: 0.6200, Train Loss: 0.6929, Test Loss: 0.6698\n",
      "Epoch: 020, Train Acc: 0.6552, Test Acc: 0.6100, Train Loss: 0.6626, Test Loss: 0.6501\n",
      "Epoch: 030, Train Acc: 0.6444, Test Acc: 0.5750, Train Loss: 0.6306, Test Loss: 0.6508\n",
      "Epoch: 040, Train Acc: 0.6616, Test Acc: 0.6350, Train Loss: 0.6186, Test Loss: 0.6298\n",
      "Epoch: 050, Train Acc: 0.6358, Test Acc: 0.6150, Train Loss: 0.6128, Test Loss: 0.6348\n",
      "Epoch: 060, Train Acc: 0.6638, Test Acc: 0.6150, Train Loss: 0.6026, Test Loss: 0.6127\n",
      "Epoch: 070, Train Acc: 0.6444, Test Acc: 0.6000, Train Loss: 0.6010, Test Loss: 0.6314\n",
      "Epoch: 080, Train Acc: 0.6810, Test Acc: 0.6600, Train Loss: 0.5855, Test Loss: 0.6025\n",
      "Epoch: 090, Train Acc: 0.6832, Test Acc: 0.6500, Train Loss: 0.5794, Test Loss: 0.6002\n",
      "Epoch: 100, Train Acc: 0.6853, Test Acc: 0.6350, Train Loss: 0.5785, Test Loss: 0.6028\n",
      "Epoch: 110, Train Acc: 0.6810, Test Acc: 0.6500, Train Loss: 0.5694, Test Loss: 0.6018\n",
      "Epoch: 120, Train Acc: 0.6832, Test Acc: 0.6550, Train Loss: 0.5679, Test Loss: 0.5952\n",
      "Epoch: 130, Train Acc: 0.6918, Test Acc: 0.6650, Train Loss: 0.5662, Test Loss: 0.5916\n",
      "20 epochs passed without 0 test loss improvement. \n",
      "Early stopping triggered.\n"
     ]
    },
    {
     "data": {
      "text/html": [
       "<style>\n",
       "    table.wandb td:nth-child(1) { padding: 0 10px; text-align: left ; width: auto;} td:nth-child(2) {text-align: left ; width: 100%}\n",
       "    .wandb-row { display: flex; flex-direction: row; flex-wrap: wrap; justify-content: flex-start; width: 100% }\n",
       "    .wandb-col { display: flex; flex-direction: column; flex-basis: 100%; flex: 1; padding: 10px; }\n",
       "    </style>\n",
       "<div class=\"wandb-row\"><div class=\"wandb-col\"><h3>Run history:</h3><br/><table class=\"wandb\"><tr><td>Test Accuracy</td><td>▄▄▁▃▇▄▅▅▄▄▃▅▄▅▄▃▄▄▆▄▃▄▅▇▆▇▆▇▆▅▆▇▆▇▇▇█▅▇▇</td></tr><tr><td>Test F1</td><td>███▁▇█▇██▇█████▇███████▇█▇██▇█▇▇███▇▇█▇▇</td></tr><tr><td>Test Loss</td><td>█▄▅▄▃▃▃▃▃▃▃▃▃▂▃▂▃▂▂▂▃▂▂▂▂▁▂▁▂▂▂▁▂▁▁▁▁▂▁▁</td></tr><tr><td>Test Sensitivity</td><td>███▁▅█▆▇▇▇▇▇█▇█▇█▇▇███▇▆▇▆▇▆▅▇▆▆▇▆▆▆▅█▅▅</td></tr><tr><td>Test Specificity</td><td>▂▂▁█▅▂▄▃▂▃▂▃▂▃▂▂▂▃▃▂▂▂▃▅▃▅▄▄▅▃▄▅▃▄▄▅▅▂▅▅</td></tr><tr><td>Train Accuracy</td><td>▃▃▁▁▂▃▄▄▄▄▄▅▃▅▃▅▃▅▅▃▃▃▅▆▆▆▆▆▆▆▆▇▆▇█▇▇▅▇▆</td></tr><tr><td>Train F1</td><td>▇▇▇▁▅▇▆▇▇▇▇▇▇▇▇▇█▇▇▇█▇█▇█▇██▇██▇███▇▇█▇▇</td></tr><tr><td>Train Loss</td><td>█▅▄▄▄▃▃▃▂▃▂▂▂▂▂▂▂▂▂▂▂▂▂▂▂▁▁▁▁▁▁▁▁▁▁▁▁▁▁▁</td></tr><tr><td>Train Sensitivity</td><td>▇▇█▁▄▇▅▆▇▆▇▆▇▆▇▇▇▇▆▇█▇▇▅▆▅▆▆▅▇▆▆▇▆▆▅▅▇▅▅</td></tr><tr><td>Train Specificity</td><td>▂▂▁█▅▃▄▄▃▄▃▄▂▄▂▃▂▄▄▃▂▃▃▅▄▆▄▄▅▄▄▅▄▅▅▅▆▃▆▅</td></tr></table><br/></div><div class=\"wandb-col\"><h3>Run summary:</h3><br/><table class=\"wandb\"><tr><td>Test Accuracy</td><td>0.67</td></tr><tr><td>Test F1</td><td>0.69159</td></tr><tr><td>Test Loss</td><td>0.59753</td></tr><tr><td>Test Sensitivity</td><td>0.71845</td></tr><tr><td>Test Specificity</td><td>0.61856</td></tr><tr><td>Train Accuracy</td><td>0.69612</td></tr><tr><td>Train F1</td><td>0.7163</td></tr><tr><td>Train Loss</td><td>0.55628</td></tr><tr><td>Train Sensitivity</td><td>0.72358</td></tr><tr><td>Train Specificity</td><td>0.66514</td></tr></table><br/></div></div>"
      ],
      "text/plain": [
       "<IPython.core.display.HTML object>"
      ]
     },
     "metadata": {},
     "output_type": "display_data"
    },
    {
     "data": {
      "text/html": [
       " View run <strong style=\"color:#cdcd00\">desert-sweep-31</strong> at: <a href='https://wandb.ai/dylan-home/pnca-af-singletons-sweep-w-mutation-feats/runs/qnorpbyn' target=\"_blank\">https://wandb.ai/dylan-home/pnca-af-singletons-sweep-w-mutation-feats/runs/qnorpbyn</a><br/>Synced 5 W&B file(s), 0 media file(s), 0 artifact file(s) and 0 other file(s)"
      ],
      "text/plain": [
       "<IPython.core.display.HTML object>"
      ]
     },
     "metadata": {},
     "output_type": "display_data"
    },
    {
     "data": {
      "text/html": [
       "Find logs at: <code>./wandb/run-20250318_194055-qnorpbyn/logs</code>"
      ],
      "text/plain": [
       "<IPython.core.display.HTML object>"
      ]
     },
     "metadata": {},
     "output_type": "display_data"
    },
    {
     "name": "stderr",
     "output_type": "stream",
     "text": [
      "\u001b[34m\u001b[1mwandb\u001b[0m: Agent Starting Run: pjsj8n5q with config:\n",
      "\u001b[34m\u001b[1mwandb\u001b[0m: \tcutoff_distance: 11.669038707431508\n",
      "\u001b[34m\u001b[1mwandb\u001b[0m: \tdropout: 0.6\n",
      "\u001b[34m\u001b[1mwandb\u001b[0m: \thidden_channels: 64\n",
      "\u001b[34m\u001b[1mwandb\u001b[0m: \tlearning_rate: 9.14704747959834e-08\n",
      "\u001b[34m\u001b[1mwandb\u001b[0m: \tweight_decay: 9.356537542034832e-07\n",
      "Failed to detect the name of this notebook, you can set it manually with the WANDB_NOTEBOOK_NAME environment variable to enable code saving.\n",
      "/usr/lib/python3/dist-packages/requests/__init__.py:87: RequestsDependencyWarning: urllib3 (2.2.3) or chardet (4.0.0) doesn't match a supported version!\n",
      "  warnings.warn(\"urllib3 ({}) or chardet ({}) doesn't match a supported \"\n"
     ]
    },
    {
     "data": {
      "text/html": [
       "wandb version 0.19.8 is available!  To upgrade, please run:\n",
       " $ pip install wandb --upgrade"
      ],
      "text/plain": [
       "<IPython.core.display.HTML object>"
      ]
     },
     "metadata": {},
     "output_type": "display_data"
    },
    {
     "data": {
      "text/html": [
       "Tracking run with wandb version 0.16.4"
      ],
      "text/plain": [
       "<IPython.core.display.HTML object>"
      ]
     },
     "metadata": {},
     "output_type": "display_data"
    },
    {
     "data": {
      "text/html": [
       "Run data is saved locally in <code>/mnt/alphafold-volume-1/dylan2/repos/tb-pnca-gnn/dd_pnca/wandb/run-20250318_194248-pjsj8n5q</code>"
      ],
      "text/plain": [
       "<IPython.core.display.HTML object>"
      ]
     },
     "metadata": {},
     "output_type": "display_data"
    },
    {
     "data": {
      "text/html": [
       "Syncing run <strong><a href='https://wandb.ai/dylan-home/pnca-af-singletons-sweep-w-mutation-feats/runs/pjsj8n5q' target=\"_blank\">lunar-sweep-32</a></strong> to <a href='https://wandb.ai/dylan-home/pnca-af-singletons-sweep-w-mutation-feats' target=\"_blank\">Weights & Biases</a> (<a href='https://wandb.me/run' target=\"_blank\">docs</a>)<br/>Sweep page: <a href='https://wandb.ai/dylan-home/pnca-af-singletons-sweep-w-mutation-feats/sweeps/x0k5kbpt' target=\"_blank\">https://wandb.ai/dylan-home/pnca-af-singletons-sweep-w-mutation-feats/sweeps/x0k5kbpt</a>"
      ],
      "text/plain": [
       "<IPython.core.display.HTML object>"
      ]
     },
     "metadata": {},
     "output_type": "display_data"
    },
    {
     "data": {
      "text/html": [
       " View project at <a href='https://wandb.ai/dylan-home/pnca-af-singletons-sweep-w-mutation-feats' target=\"_blank\">https://wandb.ai/dylan-home/pnca-af-singletons-sweep-w-mutation-feats</a>"
      ],
      "text/plain": [
       "<IPython.core.display.HTML object>"
      ]
     },
     "metadata": {},
     "output_type": "display_data"
    },
    {
     "data": {
      "text/html": [
       " View sweep at <a href='https://wandb.ai/dylan-home/pnca-af-singletons-sweep-w-mutation-feats/sweeps/x0k5kbpt' target=\"_blank\">https://wandb.ai/dylan-home/pnca-af-singletons-sweep-w-mutation-feats/sweeps/x0k5kbpt</a>"
      ],
      "text/plain": [
       "<IPython.core.display.HTML object>"
      ]
     },
     "metadata": {},
     "output_type": "display_data"
    },
    {
     "data": {
      "text/html": [
       " View run at <a href='https://wandb.ai/dylan-home/pnca-af-singletons-sweep-w-mutation-feats/runs/pjsj8n5q' target=\"_blank\">https://wandb.ai/dylan-home/pnca-af-singletons-sweep-w-mutation-feats/runs/pjsj8n5q</a>"
      ],
      "text/plain": [
       "<IPython.core.display.HTML object>"
      ]
     },
     "metadata": {},
     "output_type": "display_data"
    },
    {
     "name": "stdout",
     "output_type": "stream",
     "text": [
      "Adjusting edge index and attaching edge weights for cutoff distance 11.669038707431508\n",
      "Using CUDA\n",
      "Early stopping enabled. Patience: 20. Min Delta: 0.\n",
      "Epoch: 010, Train Acc: 0.4203, Test Acc: 0.4500, Train Loss: 1.2157, Test Loss: 0.8137\n",
      "Epoch: 020, Train Acc: 0.4246, Test Acc: 0.4550, Train Loss: 1.1239, Test Loss: 0.7877\n",
      "Epoch: 030, Train Acc: 0.4310, Test Acc: 0.4650, Train Loss: 1.1245, Test Loss: 0.7860\n",
      "Epoch: 040, Train Acc: 0.4310, Test Acc: 0.4700, Train Loss: 1.1353, Test Loss: 0.7856\n",
      "Epoch: 050, Train Acc: 0.4353, Test Acc: 0.4700, Train Loss: 1.1327, Test Loss: 0.7854\n",
      "Epoch: 060, Train Acc: 0.4353, Test Acc: 0.4700, Train Loss: 1.1273, Test Loss: 0.7846\n",
      "Epoch: 070, Train Acc: 0.4353, Test Acc: 0.4700, Train Loss: 1.1238, Test Loss: 0.7849\n",
      "Epoch: 080, Train Acc: 0.4375, Test Acc: 0.4750, Train Loss: 1.1240, Test Loss: 0.7845\n",
      "Epoch: 090, Train Acc: 0.4504, Test Acc: 0.4800, Train Loss: 1.1006, Test Loss: 0.7834\n",
      "Epoch: 100, Train Acc: 0.4504, Test Acc: 0.4800, Train Loss: 1.1272, Test Loss: 0.7831\n",
      "Epoch: 110, Train Acc: 0.4504, Test Acc: 0.4800, Train Loss: 1.1134, Test Loss: 0.7829\n",
      "Epoch: 120, Train Acc: 0.4504, Test Acc: 0.4800, Train Loss: 1.1076, Test Loss: 0.7826\n",
      "Epoch: 130, Train Acc: 0.4547, Test Acc: 0.4800, Train Loss: 1.1084, Test Loss: 0.7820\n",
      "Epoch: 140, Train Acc: 0.4504, Test Acc: 0.4800, Train Loss: 1.1067, Test Loss: 0.7811\n",
      "Epoch: 150, Train Acc: 0.4504, Test Acc: 0.4800, Train Loss: 1.1103, Test Loss: 0.7817\n",
      "Epoch: 160, Train Acc: 0.4461, Test Acc: 0.4800, Train Loss: 1.0965, Test Loss: 0.7806\n",
      "Epoch: 170, Train Acc: 0.4504, Test Acc: 0.4800, Train Loss: 1.1243, Test Loss: 0.7802\n",
      "Epoch: 180, Train Acc: 0.4547, Test Acc: 0.4800, Train Loss: 1.1131, Test Loss: 0.7803\n",
      "Epoch: 190, Train Acc: 0.4547, Test Acc: 0.4800, Train Loss: 1.1047, Test Loss: 0.7795\n",
      "Epoch: 200, Train Acc: 0.4526, Test Acc: 0.4800, Train Loss: 1.1021, Test Loss: 0.7792\n",
      "Epoch: 210, Train Acc: 0.4526, Test Acc: 0.4800, Train Loss: 1.1253, Test Loss: 0.7785\n",
      "Epoch: 220, Train Acc: 0.4547, Test Acc: 0.4800, Train Loss: 1.1197, Test Loss: 0.7784\n",
      "Epoch: 230, Train Acc: 0.4526, Test Acc: 0.4800, Train Loss: 1.1052, Test Loss: 0.7777\n",
      "Epoch: 240, Train Acc: 0.4547, Test Acc: 0.4900, Train Loss: 1.0977, Test Loss: 0.7783\n",
      "Epoch: 250, Train Acc: 0.4526, Test Acc: 0.4800, Train Loss: 1.1162, Test Loss: 0.7771\n",
      "Epoch: 260, Train Acc: 0.4526, Test Acc: 0.4850, Train Loss: 1.1054, Test Loss: 0.7777\n",
      "Epoch: 270, Train Acc: 0.4526, Test Acc: 0.4850, Train Loss: 1.1100, Test Loss: 0.7761\n",
      "Epoch: 280, Train Acc: 0.4591, Test Acc: 0.4900, Train Loss: 1.1099, Test Loss: 0.7758\n",
      "Epoch: 290, Train Acc: 0.4612, Test Acc: 0.4900, Train Loss: 1.1044, Test Loss: 0.7756\n",
      "Epoch: 300, Train Acc: 0.4591, Test Acc: 0.4900, Train Loss: 1.1140, Test Loss: 0.7749\n",
      "Epoch: 310, Train Acc: 0.4591, Test Acc: 0.4900, Train Loss: 1.0957, Test Loss: 0.7750\n",
      "Epoch: 320, Train Acc: 0.4612, Test Acc: 0.4900, Train Loss: 1.0857, Test Loss: 0.7743\n",
      "Epoch: 330, Train Acc: 0.4591, Test Acc: 0.4900, Train Loss: 1.1011, Test Loss: 0.7743\n",
      "Epoch: 340, Train Acc: 0.4634, Test Acc: 0.4900, Train Loss: 1.0912, Test Loss: 0.7733\n",
      "Epoch: 350, Train Acc: 0.4634, Test Acc: 0.4900, Train Loss: 1.1101, Test Loss: 0.7735\n",
      "Epoch: 360, Train Acc: 0.4634, Test Acc: 0.4900, Train Loss: 1.1026, Test Loss: 0.7729\n",
      "Epoch: 370, Train Acc: 0.4677, Test Acc: 0.4950, Train Loss: 1.0984, Test Loss: 0.7727\n",
      "Epoch: 380, Train Acc: 0.4655, Test Acc: 0.4900, Train Loss: 1.1050, Test Loss: 0.7717\n",
      "Epoch: 390, Train Acc: 0.4655, Test Acc: 0.4900, Train Loss: 1.0877, Test Loss: 0.7719\n",
      "Epoch: 400, Train Acc: 0.4677, Test Acc: 0.5000, Train Loss: 1.0990, Test Loss: 0.7710\n"
     ]
    },
    {
     "data": {
      "text/html": [
       "<style>\n",
       "    table.wandb td:nth-child(1) { padding: 0 10px; text-align: left ; width: auto;} td:nth-child(2) {text-align: left ; width: 100%}\n",
       "    .wandb-row { display: flex; flex-direction: row; flex-wrap: wrap; justify-content: flex-start; width: 100% }\n",
       "    .wandb-col { display: flex; flex-direction: column; flex-basis: 100%; flex: 1; padding: 10px; }\n",
       "    </style>\n",
       "<div class=\"wandb-row\"><div class=\"wandb-col\"><h3>Run history:</h3><br/><table class=\"wandb\"><tr><td>Test Accuracy</td><td>▆▁▂▄▄▄▅▅▅▅▅▅▅▅▅▅▅▅▅▅▅▅▅▅▅▅▅▇▇▇▇▇▇▇▇▇█▇▇█</td></tr><tr><td>Test F1</td><td>▁▂▃▅▅▅▅▅▅▆▆▆▆▆▆▆▆▆▆▆▆▆▆▆▆▆▆▇▇▇▇▇▇▇▇▇█▇▇█</td></tr><tr><td>Test Loss</td><td>█▁▁▁▁▁▁▁▁▁▁▁▁▁▁▁▁▁▁▁▁▁▁▁▁▁▁▁▁▁▁▁▁▁▁▁▁▁▁▁</td></tr><tr><td>Test Sensitivity</td><td>▁▂▃▅▅▅▅▅▅▆▆▆▆▆▆▆▆▆▆▆▆▆▆▆▆▆▆▇▇▇▇▇▇▇▇▇█▇▇█</td></tr><tr><td>Test Specificity</td><td>█▁▁▁▁▁▁▁▁▁▁▁▁▁▁▁▁▁▁▁▁▁▁▁▁▁▁▁▁▁▁▁▁▁▁▁▁▁▁▁</td></tr><tr><td>Train Accuracy</td><td>█▁▂▃▃▃▃▃▃▆▆▅▆▅▅▅▅▆▆▆▆▆▆▆▆▆▆▆▆▆▆▆▇▆▇▇██▇█</td></tr><tr><td>Train F1</td><td>▁▂▃▃▃▄▄▄▄▆▆▅▆▅▅▅▅▆▆▆▆▆▆▆▆▆▆▆▇▇▇▇▇▇▇▇████</td></tr><tr><td>Train Loss</td><td>█▁▁▁▁▁▁▁▁▁▁▁▁▁▁▁▁▁▁▁▁▁▁▁▁▁▁▁▁▁▁▁▁▁▁▁▁▁▁▁</td></tr><tr><td>Train Sensitivity</td><td>▁▂▂▃▃▃▃▃▄▅▆▅▆▅▅▅▅▆▆▆▆▆▆▆▆▆▆▆▇▇▇▇▇▇▇▇████</td></tr><tr><td>Train Specificity</td><td>█▂▂▂▂▂▂▂▂▂▁▂▂▂▂▂▂▁▁▁▁▁▁▁▁▁▁▁▁▁▁▁▁▁▁▁▁▁▁▁</td></tr></table><br/></div><div class=\"wandb-col\"><h3>Run summary:</h3><br/><table class=\"wandb\"><tr><td>Test Accuracy</td><td>0.5</td></tr><tr><td>Test F1</td><td>0.19355</td></tr><tr><td>Test Loss</td><td>0.77103</td></tr><tr><td>Test Sensitivity</td><td>0.1165</td></tr><tr><td>Test Specificity</td><td>0.90722</td></tr><tr><td>Train Accuracy</td><td>0.46767</td></tr><tr><td>Train F1</td><td>0.1794</td></tr><tr><td>Train Loss</td><td>1.099</td></tr><tr><td>Train Sensitivity</td><td>0.10976</td></tr><tr><td>Train Specificity</td><td>0.87156</td></tr></table><br/></div></div>"
      ],
      "text/plain": [
       "<IPython.core.display.HTML object>"
      ]
     },
     "metadata": {},
     "output_type": "display_data"
    },
    {
     "data": {
      "text/html": [
       " View run <strong style=\"color:#cdcd00\">lunar-sweep-32</strong> at: <a href='https://wandb.ai/dylan-home/pnca-af-singletons-sweep-w-mutation-feats/runs/pjsj8n5q' target=\"_blank\">https://wandb.ai/dylan-home/pnca-af-singletons-sweep-w-mutation-feats/runs/pjsj8n5q</a><br/>Synced 5 W&B file(s), 0 media file(s), 0 artifact file(s) and 0 other file(s)"
      ],
      "text/plain": [
       "<IPython.core.display.HTML object>"
      ]
     },
     "metadata": {},
     "output_type": "display_data"
    },
    {
     "data": {
      "text/html": [
       "Find logs at: <code>./wandb/run-20250318_194248-pjsj8n5q/logs</code>"
      ],
      "text/plain": [
       "<IPython.core.display.HTML object>"
      ]
     },
     "metadata": {},
     "output_type": "display_data"
    },
    {
     "name": "stderr",
     "output_type": "stream",
     "text": [
      "\u001b[34m\u001b[1mwandb\u001b[0m: Agent Starting Run: himzqsyj with config:\n",
      "\u001b[34m\u001b[1mwandb\u001b[0m: \tcutoff_distance: 6.673837566919544\n",
      "\u001b[34m\u001b[1mwandb\u001b[0m: \tdropout: 0.6\n",
      "\u001b[34m\u001b[1mwandb\u001b[0m: \thidden_channels: 128\n",
      "\u001b[34m\u001b[1mwandb\u001b[0m: \tlearning_rate: 0.0003871968302450432\n",
      "\u001b[34m\u001b[1mwandb\u001b[0m: \tweight_decay: 4.833372207084011e-07\n",
      "Failed to detect the name of this notebook, you can set it manually with the WANDB_NOTEBOOK_NAME environment variable to enable code saving.\n",
      "/usr/lib/python3/dist-packages/requests/__init__.py:87: RequestsDependencyWarning: urllib3 (2.2.3) or chardet (4.0.0) doesn't match a supported version!\n",
      "  warnings.warn(\"urllib3 ({}) or chardet ({}) doesn't match a supported \"\n"
     ]
    },
    {
     "data": {
      "text/html": [
       "wandb version 0.19.8 is available!  To upgrade, please run:\n",
       " $ pip install wandb --upgrade"
      ],
      "text/plain": [
       "<IPython.core.display.HTML object>"
      ]
     },
     "metadata": {},
     "output_type": "display_data"
    },
    {
     "data": {
      "text/html": [
       "Tracking run with wandb version 0.16.4"
      ],
      "text/plain": [
       "<IPython.core.display.HTML object>"
      ]
     },
     "metadata": {},
     "output_type": "display_data"
    },
    {
     "data": {
      "text/html": [
       "Run data is saved locally in <code>/mnt/alphafold-volume-1/dylan2/repos/tb-pnca-gnn/dd_pnca/wandb/run-20250318_194634-himzqsyj</code>"
      ],
      "text/plain": [
       "<IPython.core.display.HTML object>"
      ]
     },
     "metadata": {},
     "output_type": "display_data"
    },
    {
     "data": {
      "text/html": [
       "Syncing run <strong><a href='https://wandb.ai/dylan-home/pnca-af-singletons-sweep-w-mutation-feats/runs/himzqsyj' target=\"_blank\">dauntless-sweep-33</a></strong> to <a href='https://wandb.ai/dylan-home/pnca-af-singletons-sweep-w-mutation-feats' target=\"_blank\">Weights & Biases</a> (<a href='https://wandb.me/run' target=\"_blank\">docs</a>)<br/>Sweep page: <a href='https://wandb.ai/dylan-home/pnca-af-singletons-sweep-w-mutation-feats/sweeps/x0k5kbpt' target=\"_blank\">https://wandb.ai/dylan-home/pnca-af-singletons-sweep-w-mutation-feats/sweeps/x0k5kbpt</a>"
      ],
      "text/plain": [
       "<IPython.core.display.HTML object>"
      ]
     },
     "metadata": {},
     "output_type": "display_data"
    },
    {
     "data": {
      "text/html": [
       " View project at <a href='https://wandb.ai/dylan-home/pnca-af-singletons-sweep-w-mutation-feats' target=\"_blank\">https://wandb.ai/dylan-home/pnca-af-singletons-sweep-w-mutation-feats</a>"
      ],
      "text/plain": [
       "<IPython.core.display.HTML object>"
      ]
     },
     "metadata": {},
     "output_type": "display_data"
    },
    {
     "data": {
      "text/html": [
       " View sweep at <a href='https://wandb.ai/dylan-home/pnca-af-singletons-sweep-w-mutation-feats/sweeps/x0k5kbpt' target=\"_blank\">https://wandb.ai/dylan-home/pnca-af-singletons-sweep-w-mutation-feats/sweeps/x0k5kbpt</a>"
      ],
      "text/plain": [
       "<IPython.core.display.HTML object>"
      ]
     },
     "metadata": {},
     "output_type": "display_data"
    },
    {
     "data": {
      "text/html": [
       " View run at <a href='https://wandb.ai/dylan-home/pnca-af-singletons-sweep-w-mutation-feats/runs/himzqsyj' target=\"_blank\">https://wandb.ai/dylan-home/pnca-af-singletons-sweep-w-mutation-feats/runs/himzqsyj</a>"
      ],
      "text/plain": [
       "<IPython.core.display.HTML object>"
      ]
     },
     "metadata": {},
     "output_type": "display_data"
    },
    {
     "name": "stdout",
     "output_type": "stream",
     "text": [
      "Adjusting edge index and attaching edge weights for cutoff distance 6.673837566919544\n",
      "Using CUDA\n",
      "Early stopping enabled. Patience: 20. Min Delta: 0.\n",
      "Epoch: 010, Train Acc: 0.6358, Test Acc: 0.6200, Train Loss: 0.6437, Test Loss: 0.6472\n",
      "Epoch: 020, Train Acc: 0.6358, Test Acc: 0.6200, Train Loss: 0.6333, Test Loss: 0.6426\n",
      "Epoch: 030, Train Acc: 0.6358, Test Acc: 0.6200, Train Loss: 0.6257, Test Loss: 0.6421\n",
      "Epoch: 040, Train Acc: 0.6336, Test Acc: 0.6150, Train Loss: 0.6213, Test Loss: 0.6331\n",
      "Epoch: 050, Train Acc: 0.6444, Test Acc: 0.6100, Train Loss: 0.6183, Test Loss: 0.6499\n",
      "Epoch: 060, Train Acc: 0.6379, Test Acc: 0.6200, Train Loss: 0.6022, Test Loss: 0.6234\n",
      "Epoch: 070, Train Acc: 0.6487, Test Acc: 0.6100, Train Loss: 0.6212, Test Loss: 0.6650\n",
      "Epoch: 080, Train Acc: 0.6358, Test Acc: 0.6100, Train Loss: 0.5964, Test Loss: 0.6365\n",
      "20 epochs passed without 0 test loss improvement. \n",
      "Early stopping triggered.\n"
     ]
    },
    {
     "data": {
      "text/html": [
       "<style>\n",
       "    table.wandb td:nth-child(1) { padding: 0 10px; text-align: left ; width: auto;} td:nth-child(2) {text-align: left ; width: 100%}\n",
       "    .wandb-row { display: flex; flex-direction: row; flex-wrap: wrap; justify-content: flex-start; width: 100% }\n",
       "    .wandb-col { display: flex; flex-direction: column; flex-basis: 100%; flex: 1; padding: 10px; }\n",
       "    </style>\n",
       "<div class=\"wandb-row\"><div class=\"wandb-col\"><h3>Run history:</h3><br/><table class=\"wandb\"><tr><td>Test Accuracy</td><td>███▇█████████████████▇██▆▇█▆▁▇▇▃█▇▆▇▆▇▆▆</td></tr><tr><td>Test F1</td><td>███▇███████████████▆████▅▇█▅▁▆▆▄█▁▅█▅█▅▄</td></tr><tr><td>Test Loss</td><td>▆▆▆▆▅▄▃▄▅▄▄▄▃▃▃▃▃▄▃▂▄▅▃▂▅▃▃▆▇▂▁▆▂▁▄█▇▇▆▃</td></tr><tr><td>Test Sensitivity</td><td>▇▇▇▇▇▇▇▇▇▇▇▇▇▇▇▇▇▇▇▅▇█▇▇▇▇▇▇█▆▆█▇▁▇█▇█▇▆</td></tr><tr><td>Test Specificity</td><td>▅▅▅▅▅▅▅▅▅▅▅▅▅▅▅▅▅▅▅▇▅▄▅▅▄▅▅▄▁▅▅▂▅█▄▄▄▄▄▅</td></tr><tr><td>Train Accuracy</td><td>▃▃▃▄▃▃▃▃▃▃▃▃▃▃▃▃▃▃▃▅▃▃▃▃▄▄▃▅▁▃▄▂▄█▄▃▅▃▅▃</td></tr><tr><td>Train F1</td><td>▁▁▁▅▁▁▁▁▁▁▁▁▁▁▁▁▁▁▁▂▁▆▁▁▆▃▁█▅▁▃▆▂█▆▆█▆▇▅</td></tr><tr><td>Train Loss</td><td>█▇▇▇▆▆▅▅▅▅▅▅▄▅▄▄▄▄▄▄▄▄▃▃▃▃▃▄▄▂▂▃▂▁▂▅▄▄▃▁</td></tr><tr><td>Train Sensitivity</td><td>▂▂▂▄▂▂▂▂▂▂▂▂▂▂▂▂▂▂▂▁▂▆▂▂▅▃▂▆█▂▂█▃▃▅▇▆▇▆▆</td></tr><tr><td>Train Specificity</td><td>▅▅▅▅▅▅▅▅▅▅▅▅▅▅▅▅▅▅▅▇▅▃▅▆▄▅▅▄▁▆▆▂▆█▄▃▄▃▄▃</td></tr></table><br/></div><div class=\"wandb-col\"><h3>Run summary:</h3><br/><table class=\"wandb\"><tr><td>Test Accuracy</td><td>0.61</td></tr><tr><td>Test F1</td><td>0.71739</td></tr><tr><td>Test Loss</td><td>0.63648</td></tr><tr><td>Test Sensitivity</td><td>0.96117</td></tr><tr><td>Test Specificity</td><td>0.23711</td></tr><tr><td>Train Accuracy</td><td>0.63578</td></tr><tr><td>Train F1</td><td>0.73132</td></tr><tr><td>Train Loss</td><td>0.5964</td></tr><tr><td>Train Sensitivity</td><td>0.93496</td></tr><tr><td>Train Specificity</td><td>0.29817</td></tr></table><br/></div></div>"
      ],
      "text/plain": [
       "<IPython.core.display.HTML object>"
      ]
     },
     "metadata": {},
     "output_type": "display_data"
    },
    {
     "data": {
      "text/html": [
       " View run <strong style=\"color:#cdcd00\">dauntless-sweep-33</strong> at: <a href='https://wandb.ai/dylan-home/pnca-af-singletons-sweep-w-mutation-feats/runs/himzqsyj' target=\"_blank\">https://wandb.ai/dylan-home/pnca-af-singletons-sweep-w-mutation-feats/runs/himzqsyj</a><br/>Synced 5 W&B file(s), 0 media file(s), 0 artifact file(s) and 0 other file(s)"
      ],
      "text/plain": [
       "<IPython.core.display.HTML object>"
      ]
     },
     "metadata": {},
     "output_type": "display_data"
    },
    {
     "data": {
      "text/html": [
       "Find logs at: <code>./wandb/run-20250318_194634-himzqsyj/logs</code>"
      ],
      "text/plain": [
       "<IPython.core.display.HTML object>"
      ]
     },
     "metadata": {},
     "output_type": "display_data"
    },
    {
     "name": "stderr",
     "output_type": "stream",
     "text": [
      "\u001b[34m\u001b[1mwandb\u001b[0m: Agent Starting Run: z14bk0s1 with config:\n",
      "\u001b[34m\u001b[1mwandb\u001b[0m: \tcutoff_distance: 11.34701165656125\n",
      "\u001b[34m\u001b[1mwandb\u001b[0m: \tdropout: 0.2\n",
      "\u001b[34m\u001b[1mwandb\u001b[0m: \thidden_channels: 128\n",
      "\u001b[34m\u001b[1mwandb\u001b[0m: \tlearning_rate: 0.0003864780914578913\n",
      "\u001b[34m\u001b[1mwandb\u001b[0m: \tweight_decay: 0.003071100569180734\n",
      "Failed to detect the name of this notebook, you can set it manually with the WANDB_NOTEBOOK_NAME environment variable to enable code saving.\n",
      "/usr/lib/python3/dist-packages/requests/__init__.py:87: RequestsDependencyWarning: urllib3 (2.2.3) or chardet (4.0.0) doesn't match a supported version!\n",
      "  warnings.warn(\"urllib3 ({}) or chardet ({}) doesn't match a supported \"\n"
     ]
    },
    {
     "data": {
      "text/html": [
       "wandb version 0.19.8 is available!  To upgrade, please run:\n",
       " $ pip install wandb --upgrade"
      ],
      "text/plain": [
       "<IPython.core.display.HTML object>"
      ]
     },
     "metadata": {},
     "output_type": "display_data"
    },
    {
     "data": {
      "text/html": [
       "Tracking run with wandb version 0.16.4"
      ],
      "text/plain": [
       "<IPython.core.display.HTML object>"
      ]
     },
     "metadata": {},
     "output_type": "display_data"
    },
    {
     "data": {
      "text/html": [
       "Run data is saved locally in <code>/mnt/alphafold-volume-1/dylan2/repos/tb-pnca-gnn/dd_pnca/wandb/run-20250318_194721-z14bk0s1</code>"
      ],
      "text/plain": [
       "<IPython.core.display.HTML object>"
      ]
     },
     "metadata": {},
     "output_type": "display_data"
    },
    {
     "data": {
      "text/html": [
       "Syncing run <strong><a href='https://wandb.ai/dylan-home/pnca-af-singletons-sweep-w-mutation-feats/runs/z14bk0s1' target=\"_blank\">helpful-sweep-34</a></strong> to <a href='https://wandb.ai/dylan-home/pnca-af-singletons-sweep-w-mutation-feats' target=\"_blank\">Weights & Biases</a> (<a href='https://wandb.me/run' target=\"_blank\">docs</a>)<br/>Sweep page: <a href='https://wandb.ai/dylan-home/pnca-af-singletons-sweep-w-mutation-feats/sweeps/x0k5kbpt' target=\"_blank\">https://wandb.ai/dylan-home/pnca-af-singletons-sweep-w-mutation-feats/sweeps/x0k5kbpt</a>"
      ],
      "text/plain": [
       "<IPython.core.display.HTML object>"
      ]
     },
     "metadata": {},
     "output_type": "display_data"
    },
    {
     "data": {
      "text/html": [
       " View project at <a href='https://wandb.ai/dylan-home/pnca-af-singletons-sweep-w-mutation-feats' target=\"_blank\">https://wandb.ai/dylan-home/pnca-af-singletons-sweep-w-mutation-feats</a>"
      ],
      "text/plain": [
       "<IPython.core.display.HTML object>"
      ]
     },
     "metadata": {},
     "output_type": "display_data"
    },
    {
     "data": {
      "text/html": [
       " View sweep at <a href='https://wandb.ai/dylan-home/pnca-af-singletons-sweep-w-mutation-feats/sweeps/x0k5kbpt' target=\"_blank\">https://wandb.ai/dylan-home/pnca-af-singletons-sweep-w-mutation-feats/sweeps/x0k5kbpt</a>"
      ],
      "text/plain": [
       "<IPython.core.display.HTML object>"
      ]
     },
     "metadata": {},
     "output_type": "display_data"
    },
    {
     "data": {
      "text/html": [
       " View run at <a href='https://wandb.ai/dylan-home/pnca-af-singletons-sweep-w-mutation-feats/runs/z14bk0s1' target=\"_blank\">https://wandb.ai/dylan-home/pnca-af-singletons-sweep-w-mutation-feats/runs/z14bk0s1</a>"
      ],
      "text/plain": [
       "<IPython.core.display.HTML object>"
      ]
     },
     "metadata": {},
     "output_type": "display_data"
    },
    {
     "name": "stdout",
     "output_type": "stream",
     "text": [
      "Adjusting edge index and attaching edge weights for cutoff distance 11.34701165656125\n",
      "Using CUDA\n",
      "Early stopping enabled. Patience: 20. Min Delta: 0.\n",
      "Epoch: 010, Train Acc: 0.4461, Test Acc: 0.4450, Train Loss: 0.7572, Test Loss: 0.7766\n",
      "Epoch: 020, Train Acc: 0.5065, Test Acc: 0.5200, Train Loss: 0.7537, Test Loss: 0.7204\n",
      "Epoch: 030, Train Acc: 0.6595, Test Acc: 0.6450, Train Loss: 0.6262, Test Loss: 0.6060\n",
      "Epoch: 040, Train Acc: 0.6336, Test Acc: 0.6200, Train Loss: 0.6454, Test Loss: 0.6655\n",
      "Epoch: 050, Train Acc: 0.6789, Test Acc: 0.6550, Train Loss: 0.5780, Test Loss: 0.5865\n",
      "Epoch: 060, Train Acc: 0.6595, Test Acc: 0.6400, Train Loss: 0.5917, Test Loss: 0.6150\n",
      "Epoch: 070, Train Acc: 0.6703, Test Acc: 0.6000, Train Loss: 0.5881, Test Loss: 0.6407\n",
      "Epoch: 080, Train Acc: 0.6961, Test Acc: 0.7050, Train Loss: 0.5409, Test Loss: 0.5754\n",
      "Epoch: 090, Train Acc: 0.7177, Test Acc: 0.6400, Train Loss: 0.5468, Test Loss: 0.5994\n",
      "Epoch: 100, Train Acc: 0.7069, Test Acc: 0.6950, Train Loss: 0.5390, Test Loss: 0.5778\n",
      "Epoch: 110, Train Acc: 0.7241, Test Acc: 0.6950, Train Loss: 0.5227, Test Loss: 0.5857\n",
      "Epoch: 120, Train Acc: 0.7349, Test Acc: 0.6700, Train Loss: 0.5220, Test Loss: 0.5793\n",
      "20 epochs passed without 0 test loss improvement. \n",
      "Early stopping triggered.\n"
     ]
    },
    {
     "data": {
      "text/html": [
       "<style>\n",
       "    table.wandb td:nth-child(1) { padding: 0 10px; text-align: left ; width: auto;} td:nth-child(2) {text-align: left ; width: 100%}\n",
       "    .wandb-row { display: flex; flex-direction: row; flex-wrap: wrap; justify-content: flex-start; width: 100% }\n",
       "    .wandb-col { display: flex; flex-direction: column; flex-basis: 100%; flex: 1; padding: 10px; }\n",
       "    </style>\n",
       "<div class=\"wandb-row\"><div class=\"wandb-col\"><h3>Run history:</h3><br/><table class=\"wandb\"><tr><td>Test Accuracy</td><td>▅▄▂▁▂▂▃▇▅▇▅▅▅▅▅▅▆▆▆▅▆▅▅▆▆▇█▆▆▅█▇▆▇▆█▆▆▇▇</td></tr><tr><td>Test F1</td><td>██▁▁▁▁▂▇▇▇██████████████████▇▇█████████▇</td></tr><tr><td>Test Loss</td><td>▇█▃▃▂▃▂▂▁▂▁▂▂▂▂▂▁▁▁▂▁▂▂▁▁▁▁▁▁▁▁▁▁▁▁▁▁▁▁▁</td></tr><tr><td>Test Sensitivity</td><td>██▁▁▁▁▁▅▆▅██████▇▆██▇██▇▆▆▅▆▆▆▆▆▇▆▆▆▇▇▆▅</td></tr><tr><td>Test Specificity</td><td>▂▁█▇███▆▄▇▂▂▂▂▂▂▄▅▃▂▃▂▂▄▅▆▆▅▄▄▆▅▄▅▅▆▃▄▅▆</td></tr><tr><td>Train Accuracy</td><td>▆▅▁▁▂▂▂▆▆▆▆▆▆▆▆▆▇▇▆▆▇▆▆▇█▇▇█████████▇███</td></tr><tr><td>Train F1</td><td>██▁▂▂▁▂▇▇▇███████████████▇▇█████████████</td></tr><tr><td>Train Loss</td><td>█▅▄▂▂▂▂▂▂▂▁▂▁▁▂▂▁▁▁▁▁▂▁▁▁▁▁▁▁▁▁▁▁▁▁▁▁▁▁▁</td></tr><tr><td>Train Sensitivity</td><td>▇█▁▂▁▁▁▅▆▅▇▇▇█▇█▇▆▇█▇██▇▇▆▅▇▇▇▆▆▇▆▇▆▇▇▆▆</td></tr><tr><td>Train Specificity</td><td>▂▁█▇███▆▄▆▃▃▃▂▃▂▄▅▃▂▃▃▃▄▅▆▆▅▅▅▆▆▅▆▅▆▄▄▆▆</td></tr></table><br/></div><div class=\"wandb-col\"><h3>Run summary:</h3><br/><table class=\"wandb\"><tr><td>Test Accuracy</td><td>0.68</td></tr><tr><td>Test F1</td><td>0.69524</td></tr><tr><td>Test Loss</td><td>0.56882</td></tr><tr><td>Test Sensitivity</td><td>0.70874</td></tr><tr><td>Test Specificity</td><td>0.64948</td></tr><tr><td>Train Accuracy</td><td>0.73491</td></tr><tr><td>Train F1</td><td>0.74743</td></tr><tr><td>Train Loss</td><td>0.51803</td></tr><tr><td>Train Sensitivity</td><td>0.73984</td></tr><tr><td>Train Specificity</td><td>0.72936</td></tr></table><br/></div></div>"
      ],
      "text/plain": [
       "<IPython.core.display.HTML object>"
      ]
     },
     "metadata": {},
     "output_type": "display_data"
    },
    {
     "data": {
      "text/html": [
       " View run <strong style=\"color:#cdcd00\">helpful-sweep-34</strong> at: <a href='https://wandb.ai/dylan-home/pnca-af-singletons-sweep-w-mutation-feats/runs/z14bk0s1' target=\"_blank\">https://wandb.ai/dylan-home/pnca-af-singletons-sweep-w-mutation-feats/runs/z14bk0s1</a><br/>Synced 5 W&B file(s), 0 media file(s), 0 artifact file(s) and 0 other file(s)"
      ],
      "text/plain": [
       "<IPython.core.display.HTML object>"
      ]
     },
     "metadata": {},
     "output_type": "display_data"
    },
    {
     "data": {
      "text/html": [
       "Find logs at: <code>./wandb/run-20250318_194721-z14bk0s1/logs</code>"
      ],
      "text/plain": [
       "<IPython.core.display.HTML object>"
      ]
     },
     "metadata": {},
     "output_type": "display_data"
    },
    {
     "name": "stderr",
     "output_type": "stream",
     "text": [
      "\u001b[34m\u001b[1mwandb\u001b[0m: Agent Starting Run: m838f52b with config:\n",
      "\u001b[34m\u001b[1mwandb\u001b[0m: \tcutoff_distance: 11.341289155058512\n",
      "\u001b[34m\u001b[1mwandb\u001b[0m: \tdropout: 0.6\n",
      "\u001b[34m\u001b[1mwandb\u001b[0m: \thidden_channels: 256\n",
      "\u001b[34m\u001b[1mwandb\u001b[0m: \tlearning_rate: 7.093448676343721e-07\n",
      "\u001b[34m\u001b[1mwandb\u001b[0m: \tweight_decay: 8.240232072745793e-05\n",
      "Failed to detect the name of this notebook, you can set it manually with the WANDB_NOTEBOOK_NAME environment variable to enable code saving.\n",
      "/usr/lib/python3/dist-packages/requests/__init__.py:87: RequestsDependencyWarning: urllib3 (2.2.3) or chardet (4.0.0) doesn't match a supported version!\n",
      "  warnings.warn(\"urllib3 ({}) or chardet ({}) doesn't match a supported \"\n"
     ]
    },
    {
     "data": {
      "text/html": [
       "wandb version 0.19.8 is available!  To upgrade, please run:\n",
       " $ pip install wandb --upgrade"
      ],
      "text/plain": [
       "<IPython.core.display.HTML object>"
      ]
     },
     "metadata": {},
     "output_type": "display_data"
    },
    {
     "data": {
      "text/html": [
       "Tracking run with wandb version 0.16.4"
      ],
      "text/plain": [
       "<IPython.core.display.HTML object>"
      ]
     },
     "metadata": {},
     "output_type": "display_data"
    },
    {
     "data": {
      "text/html": [
       "Run data is saved locally in <code>/mnt/alphafold-volume-1/dylan2/repos/tb-pnca-gnn/dd_pnca/wandb/run-20250318_194950-m838f52b</code>"
      ],
      "text/plain": [
       "<IPython.core.display.HTML object>"
      ]
     },
     "metadata": {},
     "output_type": "display_data"
    },
    {
     "data": {
      "text/html": [
       "Syncing run <strong><a href='https://wandb.ai/dylan-home/pnca-af-singletons-sweep-w-mutation-feats/runs/m838f52b' target=\"_blank\">golden-sweep-35</a></strong> to <a href='https://wandb.ai/dylan-home/pnca-af-singletons-sweep-w-mutation-feats' target=\"_blank\">Weights & Biases</a> (<a href='https://wandb.me/run' target=\"_blank\">docs</a>)<br/>Sweep page: <a href='https://wandb.ai/dylan-home/pnca-af-singletons-sweep-w-mutation-feats/sweeps/x0k5kbpt' target=\"_blank\">https://wandb.ai/dylan-home/pnca-af-singletons-sweep-w-mutation-feats/sweeps/x0k5kbpt</a>"
      ],
      "text/plain": [
       "<IPython.core.display.HTML object>"
      ]
     },
     "metadata": {},
     "output_type": "display_data"
    },
    {
     "data": {
      "text/html": [
       " View project at <a href='https://wandb.ai/dylan-home/pnca-af-singletons-sweep-w-mutation-feats' target=\"_blank\">https://wandb.ai/dylan-home/pnca-af-singletons-sweep-w-mutation-feats</a>"
      ],
      "text/plain": [
       "<IPython.core.display.HTML object>"
      ]
     },
     "metadata": {},
     "output_type": "display_data"
    },
    {
     "data": {
      "text/html": [
       " View sweep at <a href='https://wandb.ai/dylan-home/pnca-af-singletons-sweep-w-mutation-feats/sweeps/x0k5kbpt' target=\"_blank\">https://wandb.ai/dylan-home/pnca-af-singletons-sweep-w-mutation-feats/sweeps/x0k5kbpt</a>"
      ],
      "text/plain": [
       "<IPython.core.display.HTML object>"
      ]
     },
     "metadata": {},
     "output_type": "display_data"
    },
    {
     "data": {
      "text/html": [
       " View run at <a href='https://wandb.ai/dylan-home/pnca-af-singletons-sweep-w-mutation-feats/runs/m838f52b' target=\"_blank\">https://wandb.ai/dylan-home/pnca-af-singletons-sweep-w-mutation-feats/runs/m838f52b</a>"
      ],
      "text/plain": [
       "<IPython.core.display.HTML object>"
      ]
     },
     "metadata": {},
     "output_type": "display_data"
    },
    {
     "name": "stdout",
     "output_type": "stream",
     "text": [
      "Adjusting edge index and attaching edge weights for cutoff distance 11.341289155058512\n"
     ]
    },
    {
     "name": "stderr",
     "output_type": "stream",
     "text": [
      "\u001b[34m\u001b[1mwandb\u001b[0m: Ctrl + C detected. Stopping sweep.\n"
     ]
    }
   ],
   "source": [
    "wandb.agent(sweep_id, sweep_run, project = project, count=100)"
   ]
  },
  {
   "cell_type": "code",
   "execution_count": null,
   "metadata": {},
   "outputs": [],
   "source": []
  }
 ],
 "metadata": {
  "kernelspec": {
   "display_name": "Python 3",
   "language": "python",
   "name": "python3"
  },
  "language_info": {
   "codemirror_mode": {
    "name": "ipython",
    "version": 3
   },
   "file_extension": ".py",
   "mimetype": "text/x-python",
   "name": "python",
   "nbconvert_exporter": "python",
   "pygments_lexer": "ipython3",
   "version": "3.10.12"
  }
 },
 "nbformat": 4,
 "nbformat_minor": 2
}
