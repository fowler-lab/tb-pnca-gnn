{
 "cells": [
  {
   "cell_type": "markdown",
   "metadata": {},
   "source": [
    "# Run PncA WandB Sweep"
   ]
  },
  {
   "cell_type": "code",
   "execution_count": 1,
   "metadata": {},
   "outputs": [
    {
     "data": {
      "text/plain": [
       "'Running via SSH'"
      ]
     },
     "metadata": {},
     "output_type": "display_data"
    },
    {
     "name": "stderr",
     "output_type": "stream",
     "text": [
      "/usr/lib/python3/dist-packages/requests/__init__.py:87: RequestsDependencyWarning: urllib3 (2.2.3) or chardet (4.0.0) doesn't match a supported version!\n",
      "  warnings.warn(\"urllib3 ({}) or chardet ({}) doesn't match a supported \"\n"
     ]
    },
    {
     "data": {
      "text/plain": [
       "True"
      ]
     },
     "execution_count": 1,
     "metadata": {},
     "output_type": "execute_result"
    }
   ],
   "source": [
    "from IPython.display import display\n",
    "import os\n",
    "\n",
    "if \"SSH_CONNECTION\" in os.environ:\n",
    "    display(\"Running via SSH\")\n",
    "else:\n",
    "    display(\"Running locally\")\n",
    "    \n",
    "import sys\n",
    "import os\n",
    "\n",
    "path = os.path.join('..', '/Users/dylandissanayake/Desktop/DPhil/Comp Disc/Repositories/TB-PNCA-GNN') if \"SSH_CONNECTION\" not in os.environ else os.path.join('..', '/mnt/alphafold-volume-1/dylan2/repos/tb-pnca-gnn')\n",
    "if path not in sys.path:\n",
    "    sys.path.append(os.path.abspath(path))\n",
    "\n",
    "import datetime\n",
    "import random\n",
    "\n",
    "import numpy as np\n",
    "import pandas as pd\n",
    "import pickle as pkl\n",
    "\n",
    "import torch\n",
    "from torch_geometric.data import Data\n",
    "\n",
    "import wandb\n",
    "\n",
    "import warnings\n",
    "warnings.filterwarnings('ignore')\n",
    "\n",
    "from src import run_model, protein_graph, gcn_model, evaluation\n",
    "\n",
    "%load_ext autoreload\n",
    "%autoreload 2\n",
    "\n",
    "%aimport src\n",
    "\n",
    "torch.cuda.is_available()"
   ]
  },
  {
   "cell_type": "code",
   "execution_count": 2,
   "metadata": {},
   "outputs": [],
   "source": [
    "# with open('datasets/singletons_af_graph_dict.pkl', 'rb') as f:\n",
    "#     graph_dict = pkl.load(f)\n",
    "with open('datasets/singletons_af_w_pza_graph_dict.pkl', 'rb') as f:\n",
    "    graph_dict = pkl.load(f)\n",
    "# with open('datasets/singletons_af_no_mut_feats_graph_dict.pkl', 'rb') as f:\n",
    "#     graph_dict = pkl.load(f)"
   ]
  },
  {
   "cell_type": "code",
   "execution_count": 3,
   "metadata": {},
   "outputs": [
    {
     "data": {
      "text/plain": [
       "664"
      ]
     },
     "execution_count": 3,
     "metadata": {},
     "output_type": "execute_result"
    }
   ],
   "source": [
    "len(graph_dict['train']) + len(graph_dict['test'])"
   ]
  },
  {
   "cell_type": "markdown",
   "metadata": {},
   "source": [
    "### Set Up Params and Sweep Config"
   ]
  },
  {
   "cell_type": "code",
   "execution_count": 4,
   "metadata": {},
   "outputs": [],
   "source": [
    "seed = 42\n",
    "np.random.seed(seed)\n",
    "random.seed(seed)\n",
    "\n",
    "# logging params (only used for wandb metrics)\n",
    "n_samples = len(graph_dict['train']) + len(graph_dict['test'])\n",
    "# cutoff_distance = 6.3  \n",
    "\n",
    "# gcn params\n",
    "num_node_features = 16\n",
    "# num_node_features = 12\n",
    "batch_size = 256\n",
    "# hidden_channels = 64\n",
    "# learning_rate = 0.001\n",
    "# wd = 5e-5\n",
    "epochs = 1500\n",
    "\n",
    "wt_seq = 'MRALIIVDVQNDFCEGGSLAVTGGAALARAISDYLAEAADYHHVVATKDFHIDPGDHFSGTPDYSSSWPPHCVSGTPGADFHPSLDTSAIEAVFYKGAYTGAYSGFEGVDENGTPLLNWLRQRGVDEVDVVGIATDHCVRQTAEDAVRNGLATRVLVDLTAGVSADTTVAALEEMRTASVELVCS'"
   ]
  },
  {
   "cell_type": "code",
   "execution_count": 24,
   "metadata": {},
   "outputs": [],
   "source": [
    "# First sweep:\n",
    "\n",
    "sweep_config = {\n",
    "    'method': 'random'\n",
    "    }\n",
    "\n",
    "metric = {\n",
    "    'name': 'Test Accuracy',\n",
    "    'goal': 'maximize'   \n",
    "    }\n",
    "\n",
    "sweep_config['metric'] = metric\n",
    "\n",
    "parameters_dict = {\n",
    "    'hidden_channels': {\n",
    "        'values': [64, 128, 192, 256, 320, 384]\n",
    "        },\n",
    "    'weight_decay': {\n",
    "        'distribution': 'log_uniform_values',\n",
    "        'min': 1e-8,\n",
    "        'max': 1e-2\n",
    "        },\n",
    "    'dropout': {\n",
    "          'values': [0.2, 0.4, 0.5, 0.6, 0.8]\n",
    "        },\n",
    "    'cutoff_distance': {\n",
    "        'distribution': 'uniform',\n",
    "        'min': 4,\n",
    "        'max': 12 \n",
    "        },\n",
    "    'learning_rate': {\n",
    "        'distribution': 'log_uniform_values',\n",
    "        'min': 1e-8,\n",
    "        'max': 1e-1\n",
    "      },\n",
    "    }\n",
    "\n",
    "sweep_config['parameters'] = parameters_dict\n",
    "\n",
    "# Second sweep:\n",
    "\n",
    "parameters_dict.update({\n",
    "    'learning_rate': {\n",
    "        'distribution': 'log_uniform_values',\n",
    "        'min': 1e-5,\n",
    "        'max': 1e-2 \n",
    "        },\n",
    "    'hidden_channels': {\n",
    "        'values': [128, 192, 256, 320, 384]\n",
    "        },\n",
    "    })\n",
    "\n",
    "# Third sweep:\n",
    "\n",
    "parameters_dict.update({\n",
    "    'learning_rate': {\n",
    "        'distribution': 'log_uniform_values',\n",
    "        'min': 1e-5,\n",
    "        'max': 1e-3 \n",
    "        },\n",
    "    'edge_weights': {\n",
    "        'values': [\"dist\", \"1-(dist/cutoff)\", \"1/dist\"]\n",
    "        },\n",
    "    })\n"
   ]
  },
  {
   "cell_type": "code",
   "execution_count": 25,
   "metadata": {},
   "outputs": [
    {
     "name": "stdout",
     "output_type": "stream",
     "text": [
      "{'method': 'random',\n",
      " 'metric': {'goal': 'maximize', 'name': 'Test Accuracy'},\n",
      " 'parameters': {'cutoff_distance': {'distribution': 'uniform',\n",
      "                                    'max': 12,\n",
      "                                    'min': 4},\n",
      "                'dropout': {'values': [0.2, 0.4, 0.5, 0.6, 0.8]},\n",
      "                'edge_weights': {'values': ['dist',\n",
      "                                            '1-(dist/cutoff)',\n",
      "                                            '1/dist']},\n",
      "                'hidden_channels': {'values': [128, 192, 256, 320, 384]},\n",
      "                'learning_rate': {'distribution': 'log_uniform_values',\n",
      "                                  'max': 0.001,\n",
      "                                  'min': 1e-05},\n",
      "                'weight_decay': {'distribution': 'log_uniform_values',\n",
      "                                 'max': 0.01,\n",
      "                                 'min': 1e-08}}}\n"
     ]
    }
   ],
   "source": [
    "import pprint\n",
    "pprint.pprint(sweep_config)"
   ]
  },
  {
   "cell_type": "markdown",
   "metadata": {},
   "source": [
    "### Define Training Loop"
   ]
  },
  {
   "cell_type": "code",
   "execution_count": 21,
   "metadata": {},
   "outputs": [],
   "source": [
    "project = \"pnca-af-singletons-sweep-w-mutation-feats\"\n",
    "# project = \"pnca-af-singletons-sweep-NO-mutation-feats\""
   ]
  },
  {
   "cell_type": "code",
   "execution_count": 26,
   "metadata": {},
   "outputs": [
    {
     "name": "stdout",
     "output_type": "stream",
     "text": [
      "Create sweep with ID: r7865la3\n",
      "Sweep URL: https://wandb.ai/dylan-home/pnca-af-singletons-sweep-w-mutation-feats/sweeps/r7865la3\n"
     ]
    }
   ],
   "source": [
    "sweep_id = wandb.sweep(sweep_config, project=project)\n",
    "## project 1\n",
    "# sweep_id = 'x0k5kbpt'\n",
    "# sweep_id = 'mnkuowkk'\n",
    "# sweep_id = 'jp3xzyp5'\n",
    "#! sweeps from here include proper pza distance\n",
    "# sweep_id = '9b3bkt5y'\n",
    "# sweep_id = 'w1bgy5pd'\n",
    "# sweep_id = 'r7865la3'\n",
    "\n",
    "# sweep_id = wandb.sweep(sweep_config, project=project)\n",
    "# sweep_id = 'fypk3i0y'"
   ]
  },
  {
   "cell_type": "code",
   "execution_count": 9,
   "metadata": {},
   "outputs": [],
   "source": [
    "# # Run a single run\n",
    "\n",
    "# model = run_model.pnca_GCN_vary_graph(\n",
    "#             self_loops = False,\n",
    "#             cutoff_distance = 4,\n",
    "#             edge_weight_func = '1-(dist/cutoff)',\n",
    "#             batch_size = batch_size,\n",
    "#             num_node_features = num_node_features,\n",
    "#             hidden_channels = 64,\n",
    "#             learning_rate = 1e-5,\n",
    "#             wd = 1e-5,\n",
    "#             dropout = 0.5,\n",
    "#             lr_scheduling=False,\n",
    "#             epochs = 50,\n",
    "#             graph_dict= graph_dict,\n",
    "#             normalise_ews=True,\n",
    "#             # wandb_params={\n",
    "#             #     'use_wandb': False,\n",
    "#             #     'sweep': True\n",
    "#             # }\n",
    "#         )"
   ]
  },
  {
   "cell_type": "code",
   "execution_count": 27,
   "metadata": {},
   "outputs": [],
   "source": [
    "def sweep_run():\n",
    "\n",
    "    with wandb.init() as run:\n",
    "        config = run.config\n",
    "\n",
    "        model = run_model.pnca_GCN_vary_graph(\n",
    "            self_loops = False,\n",
    "            cutoff_distance = config.cutoff_distance,\n",
    "            # edge_weight_func = '1-(dist/cutoff)',\n",
    "            edge_weight_func = config.edge_weights,\n",
    "            batch_size = batch_size,\n",
    "            num_node_features = num_node_features,\n",
    "            hidden_channels = config.hidden_channels,\n",
    "            learning_rate = config.learning_rate,\n",
    "            wd = config.weight_decay,\n",
    "            dropout = config.dropout,\n",
    "            lr_scheduling=False,\n",
    "            epochs = epochs,\n",
    "            graph_dict= graph_dict,\n",
    "            normalise_ews=True,\n",
    "            wandb_params={\n",
    "                'use_wandb': False,\n",
    "                'sweep': True\n",
    "            }\n",
    "        )\n",
    "\n",
    "        # os.makedirs(f'saved_models/carter_ds_aug/{project}/{sweep_id}', exist_ok=True)\n",
    "        \n",
    "        # torch.save(model, f'saved_models/carter_ds_aug/{project}/{sweep_id}/{run.name}')"
   ]
  },
  {
   "cell_type": "code",
   "execution_count": 28,
   "metadata": {},
   "outputs": [
    {
     "name": "stderr",
     "output_type": "stream",
     "text": [
      "\u001b[34m\u001b[1mwandb\u001b[0m: Agent Starting Run: 0v5q5tco with config:\n",
      "\u001b[34m\u001b[1mwandb\u001b[0m: \tcutoff_distance: 6.057335565107498\n",
      "\u001b[34m\u001b[1mwandb\u001b[0m: \tdropout: 0.2\n",
      "\u001b[34m\u001b[1mwandb\u001b[0m: \tedge_weights: 1-(dist/cutoff)\n",
      "\u001b[34m\u001b[1mwandb\u001b[0m: \thidden_channels: 320\n",
      "\u001b[34m\u001b[1mwandb\u001b[0m: \tlearning_rate: 7.252955287168342e-05\n",
      "\u001b[34m\u001b[1mwandb\u001b[0m: \tweight_decay: 9.478203831121294e-07\n",
      "Failed to detect the name of this notebook, you can set it manually with the WANDB_NOTEBOOK_NAME environment variable to enable code saving.\n",
      "/usr/lib/python3/dist-packages/requests/__init__.py:87: RequestsDependencyWarning: urllib3 (2.2.3) or chardet (4.0.0) doesn't match a supported version!\n",
      "  warnings.warn(\"urllib3 ({}) or chardet ({}) doesn't match a supported \"\n"
     ]
    },
    {
     "data": {
      "text/html": [
       "wandb version 0.19.8 is available!  To upgrade, please run:\n",
       " $ pip install wandb --upgrade"
      ],
      "text/plain": [
       "<IPython.core.display.HTML object>"
      ]
     },
     "metadata": {},
     "output_type": "display_data"
    },
    {
     "data": {
      "text/html": [
       "Tracking run with wandb version 0.16.4"
      ],
      "text/plain": [
       "<IPython.core.display.HTML object>"
      ]
     },
     "metadata": {},
     "output_type": "display_data"
    },
    {
     "data": {
      "text/html": [
       "Run data is saved locally in <code>/mnt/alphafold-volume-1/dylan2/repos/tb-pnca-gnn/dd_pnca/wandb/run-20250324_185558-0v5q5tco</code>"
      ],
      "text/plain": [
       "<IPython.core.display.HTML object>"
      ]
     },
     "metadata": {},
     "output_type": "display_data"
    },
    {
     "data": {
      "text/html": [
       "Syncing run <strong><a href='https://wandb.ai/dylan-home/pnca-af-singletons-sweep-w-mutation-feats/runs/0v5q5tco' target=\"_blank\">whole-sweep-1</a></strong> to <a href='https://wandb.ai/dylan-home/pnca-af-singletons-sweep-w-mutation-feats' target=\"_blank\">Weights & Biases</a> (<a href='https://wandb.me/run' target=\"_blank\">docs</a>)<br/>Sweep page: <a href='https://wandb.ai/dylan-home/pnca-af-singletons-sweep-w-mutation-feats/sweeps/r7865la3' target=\"_blank\">https://wandb.ai/dylan-home/pnca-af-singletons-sweep-w-mutation-feats/sweeps/r7865la3</a>"
      ],
      "text/plain": [
       "<IPython.core.display.HTML object>"
      ]
     },
     "metadata": {},
     "output_type": "display_data"
    },
    {
     "data": {
      "text/html": [
       " View project at <a href='https://wandb.ai/dylan-home/pnca-af-singletons-sweep-w-mutation-feats' target=\"_blank\">https://wandb.ai/dylan-home/pnca-af-singletons-sweep-w-mutation-feats</a>"
      ],
      "text/plain": [
       "<IPython.core.display.HTML object>"
      ]
     },
     "metadata": {},
     "output_type": "display_data"
    },
    {
     "data": {
      "text/html": [
       " View sweep at <a href='https://wandb.ai/dylan-home/pnca-af-singletons-sweep-w-mutation-feats/sweeps/r7865la3' target=\"_blank\">https://wandb.ai/dylan-home/pnca-af-singletons-sweep-w-mutation-feats/sweeps/r7865la3</a>"
      ],
      "text/plain": [
       "<IPython.core.display.HTML object>"
      ]
     },
     "metadata": {},
     "output_type": "display_data"
    },
    {
     "data": {
      "text/html": [
       " View run at <a href='https://wandb.ai/dylan-home/pnca-af-singletons-sweep-w-mutation-feats/runs/0v5q5tco' target=\"_blank\">https://wandb.ai/dylan-home/pnca-af-singletons-sweep-w-mutation-feats/runs/0v5q5tco</a>"
      ],
      "text/plain": [
       "<IPython.core.display.HTML object>"
      ]
     },
     "metadata": {},
     "output_type": "display_data"
    },
    {
     "name": "stdout",
     "output_type": "stream",
     "text": [
      "Adjusting edge index and attaching edge weights for cutoff distance 6.057335565107498\n",
      "Using CUDA\n",
      "Early stopping enabled. Patience: 20. Min Delta: 0.\n",
      "Epoch: 010, Train Acc: 0.5280, Test Acc: 0.5000, Train Loss: 0.6886, Test Loss: 0.6896\n",
      "Epoch: 020, Train Acc: 0.5797, Test Acc: 0.5800, Train Loss: 0.6825, Test Loss: 0.6830\n",
      "Epoch: 030, Train Acc: 0.5323, Test Acc: 0.5150, Train Loss: 0.6729, Test Loss: 0.6811\n",
      "Epoch: 040, Train Acc: 0.5302, Test Acc: 0.5150, Train Loss: 0.6679, Test Loss: 0.6815\n",
      "Epoch: 050, Train Acc: 0.5517, Test Acc: 0.5200, Train Loss: 0.6479, Test Loss: 0.6595\n",
      "Epoch: 060, Train Acc: 0.5948, Test Acc: 0.5250, Train Loss: 0.6310, Test Loss: 0.6456\n",
      "Epoch: 070, Train Acc: 0.7026, Test Acc: 0.6550, Train Loss: 0.6018, Test Loss: 0.6209\n",
      "Epoch: 080, Train Acc: 0.6056, Test Acc: 0.5950, Train Loss: 0.6050, Test Loss: 0.6309\n",
      "Epoch: 090, Train Acc: 0.7198, Test Acc: 0.6600, Train Loss: 0.5640, Test Loss: 0.5831\n",
      "Epoch: 100, Train Acc: 0.7543, Test Acc: 0.7050, Train Loss: 0.5433, Test Loss: 0.5696\n",
      "Epoch: 110, Train Acc: 0.7651, Test Acc: 0.6800, Train Loss: 0.5339, Test Loss: 0.5628\n",
      "Epoch: 120, Train Acc: 0.7328, Test Acc: 0.6600, Train Loss: 0.5423, Test Loss: 0.5713\n",
      "Epoch: 130, Train Acc: 0.7177, Test Acc: 0.6700, Train Loss: 0.5545, Test Loss: 0.5878\n",
      "Epoch: 140, Train Acc: 0.7500, Test Acc: 0.6800, Train Loss: 0.5208, Test Loss: 0.5595\n",
      "Epoch: 150, Train Acc: 0.7435, Test Acc: 0.6750, Train Loss: 0.5380, Test Loss: 0.5777\n",
      "Epoch: 160, Train Acc: 0.7694, Test Acc: 0.6950, Train Loss: 0.4989, Test Loss: 0.5498\n",
      "Epoch: 170, Train Acc: 0.7909, Test Acc: 0.7300, Train Loss: 0.4766, Test Loss: 0.5358\n",
      "Epoch: 180, Train Acc: 0.7716, Test Acc: 0.6950, Train Loss: 0.4905, Test Loss: 0.5533\n",
      "Epoch: 190, Train Acc: 0.7931, Test Acc: 0.7050, Train Loss: 0.4678, Test Loss: 0.5385\n",
      "Epoch: 200, Train Acc: 0.7651, Test Acc: 0.6950, Train Loss: 0.5070, Test Loss: 0.5721\n",
      "Epoch: 210, Train Acc: 0.8060, Test Acc: 0.7350, Train Loss: 0.4461, Test Loss: 0.5294\n",
      "Epoch: 220, Train Acc: 0.8082, Test Acc: 0.7350, Train Loss: 0.4402, Test Loss: 0.5302\n",
      "Epoch: 230, Train Acc: 0.8082, Test Acc: 0.7400, Train Loss: 0.4353, Test Loss: 0.5312\n",
      "Epoch: 240, Train Acc: 0.8060, Test Acc: 0.7400, Train Loss: 0.4347, Test Loss: 0.5332\n",
      "Epoch: 250, Train Acc: 0.8147, Test Acc: 0.7450, Train Loss: 0.4175, Test Loss: 0.5272\n",
      "20 epochs passed without 0 test loss improvement. \n",
      "Early stopping triggered.\n"
     ]
    },
    {
     "data": {
      "text/html": [
       "<style>\n",
       "    table.wandb td:nth-child(1) { padding: 0 10px; text-align: left ; width: auto;} td:nth-child(2) {text-align: left ; width: 100%}\n",
       "    .wandb-row { display: flex; flex-direction: row; flex-wrap: wrap; justify-content: flex-start; width: 100% }\n",
       "    .wandb-col { display: flex; flex-direction: column; flex-basis: 100%; flex: 1; padding: 10px; }\n",
       "    </style>\n",
       "<div class=\"wandb-row\"><div class=\"wandb-col\"><h3>Run history:</h3><br/><table class=\"wandb\"><tr><td>Test Accuracy</td><td>▂▁▃▃▂▂▂▂▂▂▇▆▄▆▇▇▆▇▆▇▆▇▆▇▆▇█▇▇▆▇▇████▇█▇▇</td></tr><tr><td>Test F1</td><td>▇▁▆▆▇▇▇▇▇▇▇▇█▇██▇▇▇▇▆▇▇▇▇▇█▇▇▇▇▇████▇█▇▇</td></tr><tr><td>Test Loss</td><td>████▇▇▇▇▇▆▅▄▅▃▃▃▃▂▃▂▃▂▃▂▃▂▁▂▄▄▂▂▁▁▁▁▇▁▂▂</td></tr><tr><td>Test Sensitivity</td><td>█▁▅▄▇█████▅▅█▄▆▅▅▅▄▅▄▅▄▅▄▅▆▅▄▄▅▅▅▆▅▅▄▅▅▅</td></tr><tr><td>Test Specificity</td><td>▁█▅▆▂▁▁▂▁▂▆▆▂▇▆▇▇▇▇▇▇▇▇▇▇▇▆▇▇▇▇▇▇▆▇▇▇▇▇▇</td></tr><tr><td>Train Accuracy</td><td>▂▁▃▃▃▂▂▄▂▄▆▆▄▆▇▇▇▇▆▇▆▇▇▇▇▇█▇▇▆█▇████▆███</td></tr><tr><td>Train F1</td><td>▇▁▆▆▇▇▇▇▇▇▇▇▇▇██▇█▇█▇█▇█▇███▇▇██████▇███</td></tr><tr><td>Train Loss</td><td>████▇▇▇▇▇▆▆▅▆▅▄▄▄▄▄▃▄▃▃▃▄▃▂▂▄▄▂▂▁▁▁▁▅▁▂▁</td></tr><tr><td>Train Sensitivity</td><td>█▁▅▅▇█████▅▆█▅▆▆▅▆▅▆▅▆▅▆▅▆▆▆▅▅▆▅▆▆▆▆▄▆▆▆</td></tr><tr><td>Train Specificity</td><td>▁█▅▆▃▁▁▂▁▂▇▆▂▇▆▇▇▇▇▇▇▇▇▇█▇▇▇██▇█▇▇▇▇█▇██</td></tr></table><br/></div><div class=\"wandb-col\"><h3>Run summary:</h3><br/><table class=\"wandb\"><tr><td>Test Accuracy</td><td>0.72</td></tr><tr><td>Test F1</td><td>0.67442</td></tr><tr><td>Test Loss</td><td>0.54855</td></tr><tr><td>Test Sensitivity</td><td>0.56311</td></tr><tr><td>Test Specificity</td><td>0.8866</td></tr><tr><td>Train Accuracy</td><td>0.8125</td></tr><tr><td>Train F1</td><td>0.79433</td></tr><tr><td>Train Loss</td><td>0.4433</td></tr><tr><td>Train Sensitivity</td><td>0.68293</td></tr><tr><td>Train Specificity</td><td>0.95872</td></tr></table><br/></div></div>"
      ],
      "text/plain": [
       "<IPython.core.display.HTML object>"
      ]
     },
     "metadata": {},
     "output_type": "display_data"
    },
    {
     "data": {
      "text/html": [
       " View run <strong style=\"color:#cdcd00\">whole-sweep-1</strong> at: <a href='https://wandb.ai/dylan-home/pnca-af-singletons-sweep-w-mutation-feats/runs/0v5q5tco' target=\"_blank\">https://wandb.ai/dylan-home/pnca-af-singletons-sweep-w-mutation-feats/runs/0v5q5tco</a><br/>Synced 5 W&B file(s), 0 media file(s), 0 artifact file(s) and 0 other file(s)"
      ],
      "text/plain": [
       "<IPython.core.display.HTML object>"
      ]
     },
     "metadata": {},
     "output_type": "display_data"
    },
    {
     "data": {
      "text/html": [
       "Find logs at: <code>./wandb/run-20250324_185558-0v5q5tco/logs</code>"
      ],
      "text/plain": [
       "<IPython.core.display.HTML object>"
      ]
     },
     "metadata": {},
     "output_type": "display_data"
    },
    {
     "name": "stderr",
     "output_type": "stream",
     "text": [
      "\u001b[34m\u001b[1mwandb\u001b[0m: Agent Starting Run: yky9d62w with config:\n",
      "\u001b[34m\u001b[1mwandb\u001b[0m: \tcutoff_distance: 4.418753950502125\n",
      "\u001b[34m\u001b[1mwandb\u001b[0m: \tdropout: 0.5\n",
      "\u001b[34m\u001b[1mwandb\u001b[0m: \tedge_weights: dist\n",
      "\u001b[34m\u001b[1mwandb\u001b[0m: \thidden_channels: 256\n",
      "\u001b[34m\u001b[1mwandb\u001b[0m: \tlearning_rate: 7.161810216811372e-05\n",
      "\u001b[34m\u001b[1mwandb\u001b[0m: \tweight_decay: 5.466810046631845e-05\n",
      "Failed to detect the name of this notebook, you can set it manually with the WANDB_NOTEBOOK_NAME environment variable to enable code saving.\n",
      "/usr/lib/python3/dist-packages/requests/__init__.py:87: RequestsDependencyWarning: urllib3 (2.2.3) or chardet (4.0.0) doesn't match a supported version!\n",
      "  warnings.warn(\"urllib3 ({}) or chardet ({}) doesn't match a supported \"\n"
     ]
    },
    {
     "data": {
      "text/html": [
       "wandb version 0.19.8 is available!  To upgrade, please run:\n",
       " $ pip install wandb --upgrade"
      ],
      "text/plain": [
       "<IPython.core.display.HTML object>"
      ]
     },
     "metadata": {},
     "output_type": "display_data"
    },
    {
     "data": {
      "text/html": [
       "Tracking run with wandb version 0.16.4"
      ],
      "text/plain": [
       "<IPython.core.display.HTML object>"
      ]
     },
     "metadata": {},
     "output_type": "display_data"
    },
    {
     "data": {
      "text/html": [
       "Run data is saved locally in <code>/mnt/alphafold-volume-1/dylan2/repos/tb-pnca-gnn/dd_pnca/wandb/run-20250324_185706-yky9d62w</code>"
      ],
      "text/plain": [
       "<IPython.core.display.HTML object>"
      ]
     },
     "metadata": {},
     "output_type": "display_data"
    },
    {
     "data": {
      "text/html": [
       "Syncing run <strong><a href='https://wandb.ai/dylan-home/pnca-af-singletons-sweep-w-mutation-feats/runs/yky9d62w' target=\"_blank\">pretty-sweep-2</a></strong> to <a href='https://wandb.ai/dylan-home/pnca-af-singletons-sweep-w-mutation-feats' target=\"_blank\">Weights & Biases</a> (<a href='https://wandb.me/run' target=\"_blank\">docs</a>)<br/>Sweep page: <a href='https://wandb.ai/dylan-home/pnca-af-singletons-sweep-w-mutation-feats/sweeps/r7865la3' target=\"_blank\">https://wandb.ai/dylan-home/pnca-af-singletons-sweep-w-mutation-feats/sweeps/r7865la3</a>"
      ],
      "text/plain": [
       "<IPython.core.display.HTML object>"
      ]
     },
     "metadata": {},
     "output_type": "display_data"
    },
    {
     "data": {
      "text/html": [
       " View project at <a href='https://wandb.ai/dylan-home/pnca-af-singletons-sweep-w-mutation-feats' target=\"_blank\">https://wandb.ai/dylan-home/pnca-af-singletons-sweep-w-mutation-feats</a>"
      ],
      "text/plain": [
       "<IPython.core.display.HTML object>"
      ]
     },
     "metadata": {},
     "output_type": "display_data"
    },
    {
     "data": {
      "text/html": [
       " View sweep at <a href='https://wandb.ai/dylan-home/pnca-af-singletons-sweep-w-mutation-feats/sweeps/r7865la3' target=\"_blank\">https://wandb.ai/dylan-home/pnca-af-singletons-sweep-w-mutation-feats/sweeps/r7865la3</a>"
      ],
      "text/plain": [
       "<IPython.core.display.HTML object>"
      ]
     },
     "metadata": {},
     "output_type": "display_data"
    },
    {
     "data": {
      "text/html": [
       " View run at <a href='https://wandb.ai/dylan-home/pnca-af-singletons-sweep-w-mutation-feats/runs/yky9d62w' target=\"_blank\">https://wandb.ai/dylan-home/pnca-af-singletons-sweep-w-mutation-feats/runs/yky9d62w</a>"
      ],
      "text/plain": [
       "<IPython.core.display.HTML object>"
      ]
     },
     "metadata": {},
     "output_type": "display_data"
    },
    {
     "name": "stdout",
     "output_type": "stream",
     "text": [
      "Adjusting edge index and attaching edge weights for cutoff distance 4.418753950502125\n",
      "Using CUDA\n",
      "Early stopping enabled. Patience: 20. Min Delta: 0.\n",
      "Epoch: 010, Train Acc: 0.4720, Test Acc: 0.4850, Train Loss: 0.6935, Test Loss: 0.6931\n",
      "Epoch: 020, Train Acc: 0.5302, Test Acc: 0.5150, Train Loss: 0.6902, Test Loss: 0.6910\n",
      "Epoch: 030, Train Acc: 0.5302, Test Acc: 0.5150, Train Loss: 0.6880, Test Loss: 0.6902\n",
      "Epoch: 040, Train Acc: 0.5302, Test Acc: 0.5150, Train Loss: 0.6858, Test Loss: 0.6891\n",
      "Epoch: 050, Train Acc: 0.5302, Test Acc: 0.5150, Train Loss: 0.6851, Test Loss: 0.6879\n",
      "Epoch: 060, Train Acc: 0.5302, Test Acc: 0.5150, Train Loss: 0.6830, Test Loss: 0.6867\n",
      "Epoch: 070, Train Acc: 0.5302, Test Acc: 0.5150, Train Loss: 0.6797, Test Loss: 0.6843\n",
      "Epoch: 080, Train Acc: 0.5345, Test Acc: 0.5200, Train Loss: 0.6759, Test Loss: 0.6814\n",
      "Epoch: 090, Train Acc: 0.5927, Test Acc: 0.5150, Train Loss: 0.6724, Test Loss: 0.6778\n",
      "Epoch: 100, Train Acc: 0.6207, Test Acc: 0.5450, Train Loss: 0.6664, Test Loss: 0.6742\n",
      "Epoch: 110, Train Acc: 0.6315, Test Acc: 0.6200, Train Loss: 0.6602, Test Loss: 0.6700\n",
      "Epoch: 120, Train Acc: 0.6659, Test Acc: 0.6300, Train Loss: 0.6521, Test Loss: 0.6656\n",
      "Epoch: 130, Train Acc: 0.6746, Test Acc: 0.6300, Train Loss: 0.6428, Test Loss: 0.6611\n",
      "Epoch: 140, Train Acc: 0.6897, Test Acc: 0.6050, Train Loss: 0.6339, Test Loss: 0.6567\n",
      "Epoch: 150, Train Acc: 0.6789, Test Acc: 0.6000, Train Loss: 0.6232, Test Loss: 0.6530\n",
      "Epoch: 160, Train Acc: 0.6918, Test Acc: 0.6050, Train Loss: 0.6125, Test Loss: 0.6505\n",
      "Epoch: 170, Train Acc: 0.6940, Test Acc: 0.5750, Train Loss: 0.6050, Test Loss: 0.6480\n",
      "Epoch: 180, Train Acc: 0.6961, Test Acc: 0.5950, Train Loss: 0.5928, Test Loss: 0.6455\n",
      "Epoch: 190, Train Acc: 0.7026, Test Acc: 0.6300, Train Loss: 0.5879, Test Loss: 0.6462\n",
      "Epoch: 200, Train Acc: 0.7091, Test Acc: 0.6200, Train Loss: 0.5818, Test Loss: 0.6415\n",
      "Epoch: 210, Train Acc: 0.7004, Test Acc: 0.5800, Train Loss: 0.5732, Test Loss: 0.6397\n",
      "Epoch: 220, Train Acc: 0.7091, Test Acc: 0.5950, Train Loss: 0.5643, Test Loss: 0.6352\n",
      "Epoch: 230, Train Acc: 0.7177, Test Acc: 0.6200, Train Loss: 0.5601, Test Loss: 0.6313\n",
      "Epoch: 240, Train Acc: 0.7371, Test Acc: 0.6550, Train Loss: 0.5476, Test Loss: 0.6269\n",
      "Epoch: 250, Train Acc: 0.7457, Test Acc: 0.6550, Train Loss: 0.5414, Test Loss: 0.6239\n",
      "Epoch: 260, Train Acc: 0.7543, Test Acc: 0.6550, Train Loss: 0.5338, Test Loss: 0.6191\n",
      "Epoch: 270, Train Acc: 0.7522, Test Acc: 0.6700, Train Loss: 0.5238, Test Loss: 0.6124\n",
      "Epoch: 280, Train Acc: 0.7629, Test Acc: 0.6700, Train Loss: 0.5203, Test Loss: 0.6069\n",
      "Epoch: 290, Train Acc: 0.7629, Test Acc: 0.6600, Train Loss: 0.5150, Test Loss: 0.6028\n",
      "Epoch: 300, Train Acc: 0.7672, Test Acc: 0.6800, Train Loss: 0.5053, Test Loss: 0.6010\n",
      "Epoch: 310, Train Acc: 0.7608, Test Acc: 0.6600, Train Loss: 0.5055, Test Loss: 0.5970\n",
      "Epoch: 320, Train Acc: 0.7802, Test Acc: 0.6850, Train Loss: 0.4902, Test Loss: 0.5875\n",
      "Epoch: 330, Train Acc: 0.7802, Test Acc: 0.6800, Train Loss: 0.4950, Test Loss: 0.5885\n",
      "Epoch: 340, Train Acc: 0.7866, Test Acc: 0.6850, Train Loss: 0.4772, Test Loss: 0.5771\n",
      "Epoch: 350, Train Acc: 0.7953, Test Acc: 0.7000, Train Loss: 0.4686, Test Loss: 0.5761\n",
      "Epoch: 360, Train Acc: 0.7780, Test Acc: 0.6700, Train Loss: 0.4831, Test Loss: 0.5824\n",
      "Epoch: 370, Train Acc: 0.7866, Test Acc: 0.6800, Train Loss: 0.4754, Test Loss: 0.5737\n",
      "Epoch: 380, Train Acc: 0.7974, Test Acc: 0.7050, Train Loss: 0.4575, Test Loss: 0.5652\n",
      "Epoch: 390, Train Acc: 0.7996, Test Acc: 0.7100, Train Loss: 0.4515, Test Loss: 0.5616\n",
      "Epoch: 400, Train Acc: 0.8039, Test Acc: 0.7000, Train Loss: 0.4556, Test Loss: 0.5638\n",
      "Epoch: 410, Train Acc: 0.8190, Test Acc: 0.7000, Train Loss: 0.4328, Test Loss: 0.5568\n",
      "Epoch: 420, Train Acc: 0.8125, Test Acc: 0.7100, Train Loss: 0.4332, Test Loss: 0.5543\n",
      "Epoch: 430, Train Acc: 0.8211, Test Acc: 0.7000, Train Loss: 0.4244, Test Loss: 0.5536\n",
      "Epoch: 440, Train Acc: 0.8276, Test Acc: 0.7050, Train Loss: 0.4213, Test Loss: 0.5525\n",
      "Epoch: 450, Train Acc: 0.8147, Test Acc: 0.7200, Train Loss: 0.4348, Test Loss: 0.5576\n",
      "Epoch: 460, Train Acc: 0.8405, Test Acc: 0.7100, Train Loss: 0.4099, Test Loss: 0.5526\n",
      "Epoch: 470, Train Acc: 0.8319, Test Acc: 0.7150, Train Loss: 0.4115, Test Loss: 0.5495\n",
      "Epoch: 480, Train Acc: 0.8254, Test Acc: 0.7200, Train Loss: 0.4087, Test Loss: 0.5490\n",
      "Epoch: 490, Train Acc: 0.8297, Test Acc: 0.7250, Train Loss: 0.4049, Test Loss: 0.5492\n",
      "Epoch: 500, Train Acc: 0.8254, Test Acc: 0.7100, Train Loss: 0.4009, Test Loss: 0.5640\n",
      "20 epochs passed without 0 test loss improvement. \n",
      "Early stopping triggered.\n"
     ]
    },
    {
     "data": {
      "text/html": [
       "<style>\n",
       "    table.wandb td:nth-child(1) { padding: 0 10px; text-align: left ; width: auto;} td:nth-child(2) {text-align: left ; width: 100%}\n",
       "    .wandb-row { display: flex; flex-direction: row; flex-wrap: wrap; justify-content: flex-start; width: 100% }\n",
       "    .wandb-col { display: flex; flex-direction: column; flex-basis: 100%; flex: 1; padding: 10px; }\n",
       "    </style>\n",
       "<div class=\"wandb-row\"><div class=\"wandb-col\"><h3>Run history:</h3><br/><table class=\"wandb\"><tr><td>Test Accuracy</td><td>▂▁▁▁▁▁▁▁▁▅▅▃▃▅▄▃▄▄▆▆▆▆▆▆▆▇▆▆▆▇▇▇▇███▇███</td></tr><tr><td>Test F1</td><td>▅▆▆▆▆▆▆▆▆▆▆▁▁▄▃▁▃▃▅▅▆▅▅▅▅▆▄▄▅▆▆▆▆█▇█▇▇▇█</td></tr><tr><td>Test Loss</td><td>██████▇▇▇▇▆▆▆▆▆▆▅▅▅▅▄▄▄▃▃▃▃▃▂▂▁▂▂▂▁▂▂▁▁▁</td></tr><tr><td>Test Sensitivity</td><td>▆██████▇█▅▅▁▁▃▂▁▂▂▃▄▄▄▃▃▃▃▂▂▃▃▄▃▃▅▅▆▅▄▅▅</td></tr><tr><td>Test Specificity</td><td>▃▁▁▁▁▁▁▂▁▅▆▇▇▆▇▇▇▇▇▇▆▇▇▇█▇████▇██▇▇▆▆█▇▆</td></tr><tr><td>Train Accuracy</td><td>▁▁▁▁▁▁▁▂▂▄▄▄▅▅▅▅▅▅▅▆▆▆▆▆▆▆▆▆▇▇▇▇▇██▇█▇██</td></tr><tr><td>Train F1</td><td>▁▃▃▃▃▃▃▄▃▃▄▁▂▃▃▂▃▃▄▅▅▅▅▅▅▅▅▅▅▆▆▆▆█▇▇█▇██</td></tr><tr><td>Train Loss</td><td>███████▇▇▇▇▇▆▆▆▅▅▅▅▄▄▄▄▄▄▃▄▃▃▃▂▂▂▂▂▂▁▂▁▁</td></tr><tr><td>Train Sensitivity</td><td>▅████████▅▄▁▂▃▂▂▂▂▃▄▄▄▃▄▃▃▃▃▃▃▄▄▄▅▅▆▆▄▅▆</td></tr><tr><td>Train Specificity</td><td>▃▁▁▁▁▁▁▂▁▅▆█▇▆▇█▇▇▇▇▇▇▇▇█████████▇█▆▇██▇</td></tr></table><br/></div><div class=\"wandb-col\"><h3>Run summary:</h3><br/><table class=\"wandb\"><tr><td>Test Accuracy</td><td>0.72</td></tr><tr><td>Test F1</td><td>0.70526</td></tr><tr><td>Test Loss</td><td>0.55004</td></tr><tr><td>Test Sensitivity</td><td>0.65049</td></tr><tr><td>Test Specificity</td><td>0.79381</td></tr><tr><td>Train Accuracy</td><td>0.82759</td></tr><tr><td>Train F1</td><td>0.82063</td></tr><tr><td>Train Loss</td><td>0.40315</td></tr><tr><td>Train Sensitivity</td><td>0.7439</td></tr><tr><td>Train Specificity</td><td>0.92202</td></tr></table><br/></div></div>"
      ],
      "text/plain": [
       "<IPython.core.display.HTML object>"
      ]
     },
     "metadata": {},
     "output_type": "display_data"
    },
    {
     "data": {
      "text/html": [
       " View run <strong style=\"color:#cdcd00\">pretty-sweep-2</strong> at: <a href='https://wandb.ai/dylan-home/pnca-af-singletons-sweep-w-mutation-feats/runs/yky9d62w' target=\"_blank\">https://wandb.ai/dylan-home/pnca-af-singletons-sweep-w-mutation-feats/runs/yky9d62w</a><br/>Synced 5 W&B file(s), 0 media file(s), 0 artifact file(s) and 0 other file(s)"
      ],
      "text/plain": [
       "<IPython.core.display.HTML object>"
      ]
     },
     "metadata": {},
     "output_type": "display_data"
    },
    {
     "data": {
      "text/html": [
       "Find logs at: <code>./wandb/run-20250324_185706-yky9d62w/logs</code>"
      ],
      "text/plain": [
       "<IPython.core.display.HTML object>"
      ]
     },
     "metadata": {},
     "output_type": "display_data"
    },
    {
     "name": "stderr",
     "output_type": "stream",
     "text": [
      "\u001b[34m\u001b[1mwandb\u001b[0m: Agent Starting Run: wonzuu5w with config:\n",
      "\u001b[34m\u001b[1mwandb\u001b[0m: \tcutoff_distance: 7.484564821190283\n",
      "\u001b[34m\u001b[1mwandb\u001b[0m: \tdropout: 0.5\n",
      "\u001b[34m\u001b[1mwandb\u001b[0m: \tedge_weights: dist\n",
      "\u001b[34m\u001b[1mwandb\u001b[0m: \thidden_channels: 256\n",
      "\u001b[34m\u001b[1mwandb\u001b[0m: \tlearning_rate: 1.5576715769846176e-05\n",
      "\u001b[34m\u001b[1mwandb\u001b[0m: \tweight_decay: 4.112169248817613e-06\n",
      "Failed to detect the name of this notebook, you can set it manually with the WANDB_NOTEBOOK_NAME environment variable to enable code saving.\n",
      "/usr/lib/python3/dist-packages/requests/__init__.py:87: RequestsDependencyWarning: urllib3 (2.2.3) or chardet (4.0.0) doesn't match a supported version!\n",
      "  warnings.warn(\"urllib3 ({}) or chardet ({}) doesn't match a supported \"\n"
     ]
    },
    {
     "data": {
      "text/html": [
       "wandb version 0.19.8 is available!  To upgrade, please run:\n",
       " $ pip install wandb --upgrade"
      ],
      "text/plain": [
       "<IPython.core.display.HTML object>"
      ]
     },
     "metadata": {},
     "output_type": "display_data"
    },
    {
     "data": {
      "text/html": [
       "Tracking run with wandb version 0.16.4"
      ],
      "text/plain": [
       "<IPython.core.display.HTML object>"
      ]
     },
     "metadata": {},
     "output_type": "display_data"
    },
    {
     "data": {
      "text/html": [
       "Run data is saved locally in <code>/mnt/alphafold-volume-1/dylan2/repos/tb-pnca-gnn/dd_pnca/wandb/run-20250324_185812-wonzuu5w</code>"
      ],
      "text/plain": [
       "<IPython.core.display.HTML object>"
      ]
     },
     "metadata": {},
     "output_type": "display_data"
    },
    {
     "data": {
      "text/html": [
       "Syncing run <strong><a href='https://wandb.ai/dylan-home/pnca-af-singletons-sweep-w-mutation-feats/runs/wonzuu5w' target=\"_blank\">peach-sweep-3</a></strong> to <a href='https://wandb.ai/dylan-home/pnca-af-singletons-sweep-w-mutation-feats' target=\"_blank\">Weights & Biases</a> (<a href='https://wandb.me/run' target=\"_blank\">docs</a>)<br/>Sweep page: <a href='https://wandb.ai/dylan-home/pnca-af-singletons-sweep-w-mutation-feats/sweeps/r7865la3' target=\"_blank\">https://wandb.ai/dylan-home/pnca-af-singletons-sweep-w-mutation-feats/sweeps/r7865la3</a>"
      ],
      "text/plain": [
       "<IPython.core.display.HTML object>"
      ]
     },
     "metadata": {},
     "output_type": "display_data"
    },
    {
     "data": {
      "text/html": [
       " View project at <a href='https://wandb.ai/dylan-home/pnca-af-singletons-sweep-w-mutation-feats' target=\"_blank\">https://wandb.ai/dylan-home/pnca-af-singletons-sweep-w-mutation-feats</a>"
      ],
      "text/plain": [
       "<IPython.core.display.HTML object>"
      ]
     },
     "metadata": {},
     "output_type": "display_data"
    },
    {
     "data": {
      "text/html": [
       " View sweep at <a href='https://wandb.ai/dylan-home/pnca-af-singletons-sweep-w-mutation-feats/sweeps/r7865la3' target=\"_blank\">https://wandb.ai/dylan-home/pnca-af-singletons-sweep-w-mutation-feats/sweeps/r7865la3</a>"
      ],
      "text/plain": [
       "<IPython.core.display.HTML object>"
      ]
     },
     "metadata": {},
     "output_type": "display_data"
    },
    {
     "data": {
      "text/html": [
       " View run at <a href='https://wandb.ai/dylan-home/pnca-af-singletons-sweep-w-mutation-feats/runs/wonzuu5w' target=\"_blank\">https://wandb.ai/dylan-home/pnca-af-singletons-sweep-w-mutation-feats/runs/wonzuu5w</a>"
      ],
      "text/plain": [
       "<IPython.core.display.HTML object>"
      ]
     },
     "metadata": {},
     "output_type": "display_data"
    },
    {
     "name": "stdout",
     "output_type": "stream",
     "text": [
      "Adjusting edge index and attaching edge weights for cutoff distance 7.484564821190283\n"
     ]
    }
   ],
   "source": [
    "wandb.agent(sweep_id, sweep_run, project = project, count=200)"
   ]
  },
  {
   "cell_type": "code",
   "execution_count": null,
   "metadata": {},
   "outputs": [],
   "source": []
  }
 ],
 "metadata": {
  "kernelspec": {
   "display_name": "Python 3",
   "language": "python",
   "name": "python3"
  },
  "language_info": {
   "codemirror_mode": {
    "name": "ipython",
    "version": 3
   },
   "file_extension": ".py",
   "mimetype": "text/x-python",
   "name": "python",
   "nbconvert_exporter": "python",
   "pygments_lexer": "ipython3",
   "version": "3.10.12"
  }
 },
 "nbformat": 4,
 "nbformat_minor": 2
}
