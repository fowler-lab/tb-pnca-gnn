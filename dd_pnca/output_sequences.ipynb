{
 "cells": [
  {
   "cell_type": "code",
   "execution_count": 1,
   "metadata": {},
   "outputs": [],
   "source": [
    "import pandas as pd\n",
    "import pickle as pkl\n",
    "import tqdm"
   ]
  },
  {
   "cell_type": "code",
   "execution_count": 2,
   "metadata": {},
   "outputs": [],
   "source": [
    "train_seqs = pd.read_csv('../data/real_train_sequences.csv')\n",
    "test_seqs = pd.read_csv('../data/real_test_sequences.csv')"
   ]
  },
  {
   "cell_type": "code",
   "execution_count": 3,
   "metadata": {},
   "outputs": [],
   "source": [
    "with open('../data/original-ds-muts.pkl', 'rb') as file:\n",
    "    mutations = pkl.load(file)\n"
   ]
  },
  {
   "cell_type": "code",
   "execution_count": 4,
   "metadata": {},
   "outputs": [],
   "source": [
    "mutations['train'].sort()\n",
    "mutations['test'].sort()"
   ]
  },
  {
   "cell_type": "code",
   "execution_count": 5,
   "metadata": {},
   "outputs": [
    {
     "data": {
      "text/plain": [
       "'MRALIIVDVQNDFCEGGSLAVTGGAALARAISDYLAEAADYHHVVATKDFHIDPGDHFSGTPDYSSSWPPHCVSGTPGADFHPSLDTSAIEAVFYKGAYTGVYSGFEGVDENGTPLLNWLRQRGVDEVDVVGIATDHCVRQTAEDAVRNGLATRVLVDLTAGVSADTTVAALEEMRTASVELVCSS!'"
      ]
     },
     "execution_count": 5,
     "metadata": {},
     "output_type": "execute_result"
    }
   ],
   "source": [
    "(train_seqs.allele.values[0])"
   ]
  },
  {
   "cell_type": "code",
   "execution_count": 11,
   "metadata": {},
   "outputs": [
    {
     "data": {
      "text/html": [
       "<div>\n",
       "<style scoped>\n",
       "    .dataframe tbody tr th:only-of-type {\n",
       "        vertical-align: middle;\n",
       "    }\n",
       "\n",
       "    .dataframe tbody tr th {\n",
       "        vertical-align: top;\n",
       "    }\n",
       "\n",
       "    .dataframe thead th {\n",
       "        text-align: right;\n",
       "    }\n",
       "</style>\n",
       "<table border=\"1\" class=\"dataframe\">\n",
       "  <thead>\n",
       "    <tr style=\"text-align: right;\">\n",
       "      <th></th>\n",
       "      <th>phenotype_label</th>\n",
       "      <th>number_resistant_mutations</th>\n",
       "      <th>number_susceptible_mutations</th>\n",
       "      <th>allele</th>\n",
       "    </tr>\n",
       "  </thead>\n",
       "  <tbody>\n",
       "    <tr>\n",
       "      <th>0</th>\n",
       "      <td>S</td>\n",
       "      <td>0</td>\n",
       "      <td>1</td>\n",
       "      <td>MRALIIVDVQNDFCEGGSLAVTGGAALARAISDYLAEAADYHHVVA...</td>\n",
       "    </tr>\n",
       "    <tr>\n",
       "      <th>1</th>\n",
       "      <td>S</td>\n",
       "      <td>0</td>\n",
       "      <td>1</td>\n",
       "      <td>MRALIIVDVQNDFCEGGSLAVTGGAALARAISDYLAEAADYHHVVA...</td>\n",
       "    </tr>\n",
       "    <tr>\n",
       "      <th>2</th>\n",
       "      <td>R</td>\n",
       "      <td>1</td>\n",
       "      <td>0</td>\n",
       "      <td>MRALIIVDVQNDFCEGGSLAVTGGAALARAISDYLAEAADYHHVVA...</td>\n",
       "    </tr>\n",
       "    <tr>\n",
       "      <th>3</th>\n",
       "      <td>S</td>\n",
       "      <td>0</td>\n",
       "      <td>1</td>\n",
       "      <td>MRALIIVDVQNDFCEGGSLAVTGGAALARAISDYLAEAADYHHVVA...</td>\n",
       "    </tr>\n",
       "    <tr>\n",
       "      <th>4</th>\n",
       "      <td>R</td>\n",
       "      <td>1</td>\n",
       "      <td>0</td>\n",
       "      <td>MRALIIVDVQNDFCEGGSLAVTGGAALARAISDYLAEAADYHHVVA...</td>\n",
       "    </tr>\n",
       "    <tr>\n",
       "      <th>...</th>\n",
       "      <td>...</td>\n",
       "      <td>...</td>\n",
       "      <td>...</td>\n",
       "      <td>...</td>\n",
       "    </tr>\n",
       "    <tr>\n",
       "      <th>459</th>\n",
       "      <td>S</td>\n",
       "      <td>0</td>\n",
       "      <td>1</td>\n",
       "      <td>MRALIIVDVQNDFCEGGSLAVTGGAALARAISDHLAEAADYHHVVA...</td>\n",
       "    </tr>\n",
       "    <tr>\n",
       "      <th>460</th>\n",
       "      <td>S</td>\n",
       "      <td>0</td>\n",
       "      <td>1</td>\n",
       "      <td>MRALIIVDVQNDFCEGGSLAVTGGAALARAISDYLAEAADYHHVVA...</td>\n",
       "    </tr>\n",
       "    <tr>\n",
       "      <th>461</th>\n",
       "      <td>S</td>\n",
       "      <td>0</td>\n",
       "      <td>1</td>\n",
       "      <td>MRALIIVDVQNDFCEGGSLAVTGGAALARAISDYLAEAADYHHVVA...</td>\n",
       "    </tr>\n",
       "    <tr>\n",
       "      <th>462</th>\n",
       "      <td>S</td>\n",
       "      <td>0</td>\n",
       "      <td>1</td>\n",
       "      <td>MRALIIVDVQNDFCEGGSLAVTGGAALARAISDYLAEAADYHHVVA...</td>\n",
       "    </tr>\n",
       "    <tr>\n",
       "      <th>463</th>\n",
       "      <td>S</td>\n",
       "      <td>0</td>\n",
       "      <td>1</td>\n",
       "      <td>MRALIIVDVQNDFCEGGSLAVTGGAALARAISDYLAEAADYHHVVA...</td>\n",
       "    </tr>\n",
       "  </tbody>\n",
       "</table>\n",
       "<p>464 rows × 4 columns</p>\n",
       "</div>"
      ],
      "text/plain": [
       "    phenotype_label  number_resistant_mutations  number_susceptible_mutations  \\\n",
       "0                 S                           0                             1   \n",
       "1                 S                           0                             1   \n",
       "2                 R                           1                             0   \n",
       "3                 S                           0                             1   \n",
       "4                 R                           1                             0   \n",
       "..              ...                         ...                           ...   \n",
       "459               S                           0                             1   \n",
       "460               S                           0                             1   \n",
       "461               S                           0                             1   \n",
       "462               S                           0                             1   \n",
       "463               S                           0                             1   \n",
       "\n",
       "                                                allele  \n",
       "0    MRALIIVDVQNDFCEGGSLAVTGGAALARAISDYLAEAADYHHVVA...  \n",
       "1    MRALIIVDVQNDFCEGGSLAVTGGAALARAISDYLAEAADYHHVVA...  \n",
       "2    MRALIIVDVQNDFCEGGSLAVTGGAALARAISDYLAEAADYHHVVA...  \n",
       "3    MRALIIVDVQNDFCEGGSLAVTGGAALARAISDYLAEAADYHHVVA...  \n",
       "4    MRALIIVDVQNDFCEGGSLAVTGGAALARAISDYLAEAADYHHVVA...  \n",
       "..                                                 ...  \n",
       "459  MRALIIVDVQNDFCEGGSLAVTGGAALARAISDHLAEAADYHHVVA...  \n",
       "460  MRALIIVDVQNDFCEGGSLAVTGGAALARAISDYLAEAADYHHVVA...  \n",
       "461  MRALIIVDVQNDFCEGGSLAVTGGAALARAISDYLAEAADYHHVVA...  \n",
       "462  MRALIIVDVQNDFCEGGSLAVTGGAALARAISDYLAEAADYHHVVA...  \n",
       "463  MRALIIVDVQNDFCEGGSLAVTGGAALARAISDYLAEAADYHHVVA...  \n",
       "\n",
       "[464 rows x 4 columns]"
      ]
     },
     "execution_count": 11,
     "metadata": {},
     "output_type": "execute_result"
    }
   ],
   "source": [
    "train_seqs"
   ]
  },
  {
   "cell_type": "code",
   "execution_count": 10,
   "metadata": {},
   "outputs": [],
   "source": [
    "def save_fasta(header, sequence, name):\n",
    "    filename = f\"../data/fastas/{name}.fasta\"\n",
    "    \"\"\"Save a sequence in FASTA format to a file.\"\"\"\n",
    "    with open(filename, \"w\") as fasta_file:\n",
    "        fasta_file.write(f\">{header}\\n\")\n",
    "        fasta_file.write(sequence)\n",
    "\n",
    "# Example usage\n",
    "header = \"Example_Sequence\"\n",
    "sequence = \"AGCTGATCGTAGCTAGCTGATCGTAGCTGATGCTAGCTGATGCTAGCTGATCGT\" * 2  # Example sequence\n",
    "save_fasta(header, sequence, \"test\")\n"
   ]
  },
  {
   "cell_type": "code",
   "execution_count": 9,
   "metadata": {},
   "outputs": [],
   "source": [
    "filename = \"../data/fastas/train.fasta\"\n",
    "\n",
    "with open(filename, 'w') as fasta_file:\n",
    "    \n",
    "    for mut, (index, seq_row) in zip(mutations['train'], train_seqs.iterrows()):\n",
    "        res_index = int(mut[1:-1]) -1\n",
    "        alt_res = mut[-1]\n",
    "        assert alt_res == seq_row.allele[res_index], 'Mutation does not match sequence \\n' + str(mut) + '\\n' + str(seq_row.allele)\n",
    "\n",
    "        sequence = seq_row.allele\n",
    "        \n",
    "        fasta_file.write(f\">{index}\\n\")\n",
    "        fasta_file.write(f\"{sequence}\\n\")\n",
    "        \n",
    "        # print(mut)\n",
    "        # print(seq_row.allele)\n",
    "        \n",
    "        # save_fasta(f'3PL1 {mut} variant|Chain A|PNCA ', seq_row.allele, f'train/{mut}')"
   ]
  },
  {
   "cell_type": "code",
   "execution_count": 12,
   "metadata": {},
   "outputs": [],
   "source": [
    "filename = \"../data/fastas/test.fasta\"\n",
    "\n",
    "with open(filename, 'w') as fasta_file:\n",
    "    \n",
    "    for mut, (index, seq_row) in zip(mutations['test'], test_seqs.iterrows()):\n",
    "        res_index = int(mut[1:-1]) -1\n",
    "        alt_res = mut[-1]\n",
    "        assert alt_res == seq_row.allele[res_index], 'Mutation does not match sequence \\n' + str(mut) + '\\n' + str(seq_row.allele)\n",
    "\n",
    "        sequence = seq_row.allele\n",
    "        \n",
    "        fasta_file.write(f\">{index}\\n\")\n",
    "        fasta_file.write(f\"{sequence}\\n\")"
   ]
  },
  {
   "cell_type": "code",
   "execution_count": 19,
   "metadata": {},
   "outputs": [],
   "source": [
    "# for mut, (_, seq_row) in zip(mutations['test'], test_seqs.iterrows()):\n",
    "#     res_index = int(mut[1:-1]) -1\n",
    "#     alt_res = mut[-1]\n",
    "#     assert alt_res == seq_row.allele[res_index], 'Mutation does not match sequence \\n' + str(mut) + '\\n' + str(seq_row.allele)\n",
    "\n",
    "#     save_fasta(f'3PL1 {mut} variant|Chain A|PNCA ', seq_row.allele, f'test/{mut}')\n"
   ]
  },
  {
   "cell_type": "code",
   "execution_count": null,
   "metadata": {},
   "outputs": [],
   "source": []
  }
 ],
 "metadata": {
  "kernelspec": {
   "display_name": "Python 3",
   "language": "python",
   "name": "python3"
  },
  "language_info": {
   "codemirror_mode": {
    "name": "ipython",
    "version": 3
   },
   "file_extension": ".py",
   "mimetype": "text/x-python",
   "name": "python",
   "nbconvert_exporter": "python",
   "pygments_lexer": "ipython3",
   "version": "3.10.12"
  }
 },
 "nbformat": 4,
 "nbformat_minor": 2
}
