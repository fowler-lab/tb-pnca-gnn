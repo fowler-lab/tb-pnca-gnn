{
 "cells": [
  {
   "cell_type": "markdown",
   "metadata": {},
   "source": [
    "# Run PncA WandB Sweep"
   ]
  },
  {
   "cell_type": "code",
   "execution_count": 1,
   "metadata": {},
   "outputs": [
    {
     "data": {
      "text/plain": [
       "'Running via SSH'"
      ]
     },
     "metadata": {},
     "output_type": "display_data"
    },
    {
     "name": "stderr",
     "output_type": "stream",
     "text": [
      "/usr/lib/python3/dist-packages/requests/__init__.py:87: RequestsDependencyWarning: urllib3 (2.2.3) or chardet (4.0.0) doesn't match a supported version!\n",
      "  warnings.warn(\"urllib3 ({}) or chardet ({}) doesn't match a supported \"\n",
      "/home/ubuntu/.local/lib/python3.10/site-packages/tqdm/auto.py:21: TqdmWarning: IProgress not found. Please update jupyter and ipywidgets. See https://ipywidgets.readthedocs.io/en/stable/user_install.html\n",
      "  from .autonotebook import tqdm as notebook_tqdm\n"
     ]
    },
    {
     "data": {
      "text/plain": [
       "True"
      ]
     },
     "execution_count": 1,
     "metadata": {},
     "output_type": "execute_result"
    }
   ],
   "source": [
    "from IPython.display import display\n",
    "import os\n",
    "\n",
    "if \"SSH_CONNECTION\" in os.environ:\n",
    "    display(\"Running via SSH\")\n",
    "else:\n",
    "    display(\"Running locally\")\n",
    "    \n",
    "import sys\n",
    "import os\n",
    "\n",
    "path = os.path.join('..', '/Users/dylandissanayake/Desktop/DPhil/Comp Disc/Repositories/TB-PNCA-GNN') if \"SSH_CONNECTION\" not in os.environ else os.path.join('..', '/mnt/alphafold-volume-1/dylan2/repos/tb-pnca-gnn')\n",
    "if path not in sys.path:\n",
    "    sys.path.append(os.path.abspath(path))\n",
    "\n",
    "import datetime\n",
    "import random\n",
    "\n",
    "import numpy as np\n",
    "import pandas as pd\n",
    "import copy\n",
    "import pickle\n",
    "\n",
    "import torch\n",
    "from torch_geometric.data import Data\n",
    "\n",
    "import wandb\n",
    "\n",
    "import sbmlcore\n",
    "import sbmlsim\n",
    "import gumpy\n",
    "\n",
    "import warnings\n",
    "warnings.filterwarnings('ignore')\n",
    "\n",
    "from src import run_model, protein_graph, gcn_model, evaluation\n",
    "\n",
    "%load_ext autoreload\n",
    "%autoreload 2\n",
    "\n",
    "%aimport src\n",
    "\n",
    "torch.cuda.is_available()"
   ]
  },
  {
   "cell_type": "code",
   "execution_count": 2,
   "metadata": {},
   "outputs": [],
   "source": [
    "full_dataset = torch.load('full_orig_dataset.pth')"
   ]
  },
  {
   "cell_type": "markdown",
   "metadata": {},
   "source": [
    "### Set Up Params and Sweep Config"
   ]
  },
  {
   "cell_type": "code",
   "execution_count": 5,
   "metadata": {},
   "outputs": [],
   "source": [
    "seed = 42\n",
    "np.random.seed(seed)\n",
    "random.seed(seed)\n",
    "\n",
    "# logging params (only used for wandb metrics)\n",
    "n_samples = 10000\n",
    "cutoff_distance = 6.3  \n",
    "\n",
    "# gcn params\n",
    "ews = 'none'\n",
    "num_node_features = 12\n",
    "batch_size = 256\n",
    "hidden_channels = 64\n",
    "learning_rate = 0.001\n",
    "wd = 5e-5\n",
    "epochs = 500\n",
    "\n",
    "wt_seq = 'MRALIIVDVQNDFCEGGSLAVTGGAALARAISDYLAEAADYHHVVATKDFHIDPGDHFSGTPDYSSSWPPHCVSGTPGADFHPSLDTSAIEAVFYKGAYTGAYSGFEGVDENGTPLLNWLRQRGVDEVDVVGIATDHCVRQTAEDAVRNGLATRVLVDLTAGVSADTTVAALEEMRTASVELVCS'"
   ]
  },
  {
   "cell_type": "code",
   "execution_count": 4,
   "metadata": {},
   "outputs": [],
   "source": [
    "# First sweep:\n",
    "\n",
    "sweep_config = {\n",
    "    'method': 'random'\n",
    "    }\n",
    "\n",
    "metric = {\n",
    "    'name': 'Test Accuracy',\n",
    "    'goal': 'maximize'   \n",
    "    }\n",
    "\n",
    "sweep_config['metric'] = metric\n",
    "\n",
    "parameters_dict = {\n",
    "    'hidden_channels': {\n",
    "        'values': [32, 64, 128, 256]\n",
    "        },\n",
    "    'weight_decay': {\n",
    "        'distribution': 'log_uniform_values',\n",
    "        'min': 1e-8,\n",
    "        'max': 1e-2\n",
    "        },\n",
    "    'dropout': {\n",
    "          'values': [0.2, 0.4, 0.5, 0.6, 0.8]\n",
    "        },\n",
    "    'cutoff_distance': {\n",
    "        'distribution': 'uniform',\n",
    "        'min': 3,\n",
    "        'max': 10 \n",
    "        },\n",
    "    'learning_rate': {\n",
    "        'distribution': 'log_uniform_values',\n",
    "        'min': 1e-8,\n",
    "        'max': 1e-1\n",
    "      },\n",
    "    }\n",
    "\n",
    "sweep_config['parameters'] = parameters_dict\n",
    "\n",
    "# Second / third sweep:\n",
    "\n",
    "parameters_dict.update({\n",
    "    'hidden_channels': {\n",
    "        'values': [64, 128, 192, 256, 320, 384]\n",
    "        },\n",
    "    'weight_decay': {\n",
    "        'distribution': 'log_uniform_values',\n",
    "        'min': 5e-7, \n",
    "        'max': 1e-2\n",
    "        },\n",
    "    'dropout': {\n",
    "          'values': [0.4, 0.5, 0.6, 0.8]\n",
    "        },\n",
    "    'learning_rate': {\n",
    "        'distribution': 'log_uniform_values',\n",
    "        'min': 1e-5,\n",
    "        'max': 1e-2 \n",
    "        },\n",
    "    })\n",
    "\n",
    "# Fourth sweep:\n",
    "\n",
    "parameters_dict.update({\n",
    "    'hidden_channels': {\n",
    "        'values': [128, 192, 256, 320]\n",
    "        },\n",
    "    'weight_decay': {\n",
    "        'distribution': 'log_uniform_values',\n",
    "        'min': 1e-5,\n",
    "        'max': 1e-3\n",
    "        },\n",
    "    'dropout': {\n",
    "          'values': [0.4, 0.5, 0.6, 0.8]\n",
    "        },\n",
    "    'learning_rate': {\n",
    "        'distribution': 'log_uniform_values',\n",
    "        'min': 5e-5,\n",
    "        'max': 1e-3\n",
    "        },\n",
    "    'cutoff_distance': {\n",
    "        'distribution': 'uniform',\n",
    "        'min': 3,\n",
    "        'max': 9\n",
    "        },\n",
    "    })\n",
    "\n"
   ]
  },
  {
   "cell_type": "code",
   "execution_count": 5,
   "metadata": {},
   "outputs": [
    {
     "name": "stdout",
     "output_type": "stream",
     "text": [
      "{'method': 'random',\n",
      " 'metric': {'goal': 'maximize', 'name': 'Test Accuracy'},\n",
      " 'parameters': {'cutoff_distance': {'distribution': 'uniform',\n",
      "                                    'max': 9,\n",
      "                                    'min': 3},\n",
      "                'dropout': {'values': [0.4, 0.5, 0.6, 0.8]},\n",
      "                'hidden_channels': {'values': [64, 128, 192, 256, 320]},\n",
      "                'learning_rate': {'distribution': 'log_uniform_values',\n",
      "                                  'max': 0.001,\n",
      "                                  'min': 5e-05},\n",
      "                'weight_decay': {'distribution': 'log_uniform_values',\n",
      "                                 'max': 0.001,\n",
      "                                 'min': 1e-05}}}\n"
     ]
    }
   ],
   "source": [
    "import pprint\n",
    "pprint.pprint(sweep_config)"
   ]
  },
  {
   "cell_type": "markdown",
   "metadata": {},
   "source": [
    "### Define Training Loop"
   ]
  },
  {
   "cell_type": "code",
   "execution_count": 8,
   "metadata": {},
   "outputs": [],
   "source": [
    "project = \"pnca-sweep-1\""
   ]
  },
  {
   "cell_type": "code",
   "execution_count": 9,
   "metadata": {},
   "outputs": [
    {
     "name": "stderr",
     "output_type": "stream",
     "text": [
      "Failed to detect the name of this notebook, you can set it manually with the WANDB_NOTEBOOK_NAME environment variable to enable code saving.\n",
      "/usr/lib/python3/dist-packages/requests/__init__.py:87: RequestsDependencyWarning: urllib3 (2.2.3) or chardet (4.0.0) doesn't match a supported version!\n",
      "  warnings.warn(\"urllib3 ({}) or chardet ({}) doesn't match a supported \"\n"
     ]
    },
    {
     "name": "stdout",
     "output_type": "stream",
     "text": [
      "Create sweep with ID: tr8mwg42\n",
      "Sweep URL: https://wandb.ai/dylan-home/pnca-sweep-1/sweeps/tr8mwg42\n"
     ]
    }
   ],
   "source": [
    "sweep_id = wandb.sweep(sweep_config, project=project)\n",
    "# sweep_id = '18ili8gf'\n",
    "# sweep_id = 'z95xpbwd'\n",
    "# sweep_id = 'tr8mwg42'"
   ]
  },
  {
   "cell_type": "code",
   "execution_count": 13,
   "metadata": {},
   "outputs": [],
   "source": [
    "def sweep_run():\n",
    "\n",
    "    with wandb.init() as run:\n",
    "        config = run.config\n",
    "        \n",
    "        model = run_model.pnca_simpleGCN(\n",
    "            # sequences=sequences_dict,\n",
    "            sequences=None,\n",
    "            self_loops = False,\n",
    "            cutoff_distance = config.cutoff_distance,\n",
    "            edge_weight_func = '1-(dist/cutoff)',\n",
    "            # edge_weight_func = 'none',\n",
    "            batch_size = batch_size,\n",
    "            num_node_features = num_node_features,\n",
    "            hidden_channels = config.hidden_channels,\n",
    "            learning_rate = config.learning_rate,\n",
    "            wd = config.weight_decay,\n",
    "            dropout = config.dropout,\n",
    "            epochs = epochs,\n",
    "            dataset = full_dataset,\n",
    "            normalise_ews=True,\n",
    "            wandb_params={\n",
    "                'use_wandb': False,\n",
    "                'sweep': True\n",
    "            }\n",
    "        )\n",
    "\n",
    "        torch.save(model, f'saved_models/carter_ds_aug/{project}/{datetime.datetime.now().strftime(\"%Y_%m_%d_%H%M%S\")}')"
   ]
  },
  {
   "cell_type": "code",
   "execution_count": 14,
   "metadata": {},
   "outputs": [
    {
     "name": "stderr",
     "output_type": "stream",
     "text": [
      "\u001b[34m\u001b[1mwandb\u001b[0m: Agent Starting Run: vm0xw36w with config:\n",
      "\u001b[34m\u001b[1mwandb\u001b[0m: \tcutoff_distance: 7.1589747289868555\n",
      "\u001b[34m\u001b[1mwandb\u001b[0m: \tdropout: 0.4\n",
      "\u001b[34m\u001b[1mwandb\u001b[0m: \thidden_channels: 64\n",
      "\u001b[34m\u001b[1mwandb\u001b[0m: \tlearning_rate: 9.031200079445804e-05\n",
      "\u001b[34m\u001b[1mwandb\u001b[0m: \tweight_decay: 0.0027336118535111185\n",
      "Failed to detect the name of this notebook, you can set it manually with the WANDB_NOTEBOOK_NAME environment variable to enable code saving.\n",
      "/usr/lib/python3/dist-packages/requests/__init__.py:87: RequestsDependencyWarning: urllib3 (2.2.3) or chardet (4.0.0) doesn't match a supported version!\n",
      "  warnings.warn(\"urllib3 ({}) or chardet ({}) doesn't match a supported \"\n",
      "\u001b[34m\u001b[1mwandb\u001b[0m: Currently logged in as: \u001b[33mdylan-home\u001b[0m. Use \u001b[1m`wandb login --relogin`\u001b[0m to force relogin\n"
     ]
    },
    {
     "data": {
      "text/html": [
       "wandb version 0.19.3 is available!  To upgrade, please run:\n",
       " $ pip install wandb --upgrade"
      ],
      "text/plain": [
       "<IPython.core.display.HTML object>"
      ]
     },
     "metadata": {},
     "output_type": "display_data"
    },
    {
     "data": {
      "text/html": [
       "Tracking run with wandb version 0.16.4"
      ],
      "text/plain": [
       "<IPython.core.display.HTML object>"
      ]
     },
     "metadata": {},
     "output_type": "display_data"
    },
    {
     "data": {
      "text/html": [
       "Run data is saved locally in <code>/mnt/alphafold-volume-1/dylan2/repos/tb-pnca-gnn/dd_pnca/wandb/run-20250115_230730-vm0xw36w</code>"
      ],
      "text/plain": [
       "<IPython.core.display.HTML object>"
      ]
     },
     "metadata": {},
     "output_type": "display_data"
    },
    {
     "data": {
      "text/html": [
       "Syncing run <strong><a href='https://wandb.ai/dylan-home/pnca-sweep-1/runs/vm0xw36w' target=\"_blank\">neat-sweep-1</a></strong> to <a href='https://wandb.ai/dylan-home/pnca-sweep-1' target=\"_blank\">Weights & Biases</a> (<a href='https://wandb.me/run' target=\"_blank\">docs</a>)<br/>Sweep page: <a href='https://wandb.ai/dylan-home/pnca-sweep-1/sweeps/tr8mwg42' target=\"_blank\">https://wandb.ai/dylan-home/pnca-sweep-1/sweeps/tr8mwg42</a>"
      ],
      "text/plain": [
       "<IPython.core.display.HTML object>"
      ]
     },
     "metadata": {},
     "output_type": "display_data"
    },
    {
     "data": {
      "text/html": [
       " View project at <a href='https://wandb.ai/dylan-home/pnca-sweep-1' target=\"_blank\">https://wandb.ai/dylan-home/pnca-sweep-1</a>"
      ],
      "text/plain": [
       "<IPython.core.display.HTML object>"
      ]
     },
     "metadata": {},
     "output_type": "display_data"
    },
    {
     "data": {
      "text/html": [
       " View sweep at <a href='https://wandb.ai/dylan-home/pnca-sweep-1/sweeps/tr8mwg42' target=\"_blank\">https://wandb.ai/dylan-home/pnca-sweep-1/sweeps/tr8mwg42</a>"
      ],
      "text/plain": [
       "<IPython.core.display.HTML object>"
      ]
     },
     "metadata": {},
     "output_type": "display_data"
    },
    {
     "data": {
      "text/html": [
       " View run at <a href='https://wandb.ai/dylan-home/pnca-sweep-1/runs/vm0xw36w' target=\"_blank\">https://wandb.ai/dylan-home/pnca-sweep-1/runs/vm0xw36w</a>"
      ],
      "text/plain": [
       "<IPython.core.display.HTML object>"
      ]
     },
     "metadata": {},
     "output_type": "display_data"
    },
    {
     "name": "stdout",
     "output_type": "stream",
     "text": [
      "Using CUDA\n",
      "Early stopping enabled. Patience: 20. Min Delta: 0.\n",
      "Epoch: 010, Train Acc: 0.4949, Test Acc: 0.4817, Train Loss: 0.6922, Test Loss: 0.6915\n",
      "Epoch: 020, Train Acc: 0.5101, Test Acc: 0.5023, Train Loss: 0.6907, Test Loss: 0.6902\n",
      "Epoch: 030, Train Acc: 0.4841, Test Acc: 0.4703, Train Loss: 0.6905, Test Loss: 0.6890\n",
      "Epoch: 040, Train Acc: 0.4650, Test Acc: 0.4653, Train Loss: 0.6898, Test Loss: 0.6878\n",
      "Epoch: 050, Train Acc: 0.6244, Test Acc: 0.6203, Train Loss: 0.6899, Test Loss: 0.6868\n",
      "Epoch: 060, Train Acc: 0.5256, Test Acc: 0.5107, Train Loss: 0.6876, Test Loss: 0.6878\n",
      "Epoch: 070, Train Acc: 0.5253, Test Acc: 0.5107, Train Loss: 0.6871, Test Loss: 0.6871\n",
      "Epoch: 080, Train Acc: 0.5236, Test Acc: 0.5820, Train Loss: 0.6906, Test Loss: 0.6848\n",
      "Epoch: 090, Train Acc: 0.5184, Test Acc: 0.5093, Train Loss: 0.6828, Test Loss: 0.6824\n",
      "Epoch: 100, Train Acc: 0.4753, Test Acc: 0.4787, Train Loss: 0.6796, Test Loss: 0.6767\n",
      "Epoch: 110, Train Acc: 0.4797, Test Acc: 0.4837, Train Loss: 0.6769, Test Loss: 0.6744\n",
      "Epoch: 120, Train Acc: 0.6696, Test Acc: 0.6740, Train Loss: 0.6756, Test Loss: 0.6715\n",
      "Epoch: 130, Train Acc: 0.6190, Test Acc: 0.6387, Train Loss: 0.6737, Test Loss: 0.6686\n",
      "Epoch: 140, Train Acc: 0.5130, Test Acc: 0.4993, Train Loss: 0.6681, Test Loss: 0.6691\n",
      "Epoch: 150, Train Acc: 0.5141, Test Acc: 0.4973, Train Loss: 0.6646, Test Loss: 0.6670\n",
      "Epoch: 160, Train Acc: 0.7039, Test Acc: 0.6810, Train Loss: 0.6539, Test Loss: 0.6511\n",
      "Epoch: 170, Train Acc: 0.5129, Test Acc: 0.4870, Train Loss: 0.6551, Test Loss: 0.6591\n",
      "Epoch: 180, Train Acc: 0.6694, Test Acc: 0.6623, Train Loss: 0.6457, Test Loss: 0.6413\n",
      "Epoch: 190, Train Acc: 0.5141, Test Acc: 0.4930, Train Loss: 0.6357, Test Loss: 0.6373\n",
      "Epoch: 200, Train Acc: 0.6859, Test Acc: 0.6790, Train Loss: 0.6319, Test Loss: 0.6282\n",
      "Epoch: 210, Train Acc: 0.7350, Test Acc: 0.7150, Train Loss: 0.6197, Test Loss: 0.6198\n",
      "Epoch: 220, Train Acc: 0.6731, Test Acc: 0.6733, Train Loss: 0.6194, Test Loss: 0.6155\n",
      "Epoch: 230, Train Acc: 0.5164, Test Acc: 0.4740, Train Loss: 0.6192, Test Loss: 0.6283\n",
      "Epoch: 240, Train Acc: 0.6864, Test Acc: 0.6803, Train Loss: 0.6047, Test Loss: 0.6023\n",
      "Epoch: 250, Train Acc: 0.7019, Test Acc: 0.6960, Train Loss: 0.5928, Test Loss: 0.5939\n",
      "Epoch: 260, Train Acc: 0.7190, Test Acc: 0.6967, Train Loss: 0.5859, Test Loss: 0.5885\n",
      "Epoch: 270, Train Acc: 0.5293, Test Acc: 0.4840, Train Loss: 0.6041, Test Loss: 0.6211\n",
      "Epoch: 280, Train Acc: 0.7321, Test Acc: 0.6983, Train Loss: 0.5690, Test Loss: 0.5759\n",
      "Epoch: 290, Train Acc: 0.7167, Test Acc: 0.7063, Train Loss: 0.5656, Test Loss: 0.5725\n",
      "Epoch: 300, Train Acc: 0.7637, Test Acc: 0.7367, Train Loss: 0.5562, Test Loss: 0.5703\n",
      "Epoch: 310, Train Acc: 0.7629, Test Acc: 0.7190, Train Loss: 0.5455, Test Loss: 0.5607\n",
      "Epoch: 320, Train Acc: 0.7579, Test Acc: 0.7000, Train Loss: 0.5689, Test Loss: 0.5906\n",
      "Epoch: 330, Train Acc: 0.5300, Test Acc: 0.5050, Train Loss: 0.6252, Test Loss: 0.6597\n",
      "Epoch: 340, Train Acc: 0.7586, Test Acc: 0.7193, Train Loss: 0.5278, Test Loss: 0.5460\n",
      "Epoch: 350, Train Acc: 0.7414, Test Acc: 0.7190, Train Loss: 0.5259, Test Loss: 0.5434\n",
      "Epoch: 360, Train Acc: 0.7794, Test Acc: 0.7470, Train Loss: 0.5221, Test Loss: 0.5482\n",
      "Epoch: 370, Train Acc: 0.7859, Test Acc: 0.7270, Train Loss: 0.5330, Test Loss: 0.5647\n",
      "Epoch: 380, Train Acc: 0.7730, Test Acc: 0.7317, Train Loss: 0.5051, Test Loss: 0.5323\n",
      "Epoch: 390, Train Acc: 0.7240, Test Acc: 0.7173, Train Loss: 0.5256, Test Loss: 0.5441\n",
      "Epoch: 400, Train Acc: 0.7471, Test Acc: 0.7323, Train Loss: 0.5024, Test Loss: 0.5280\n",
      "Epoch: 410, Train Acc: 0.7511, Test Acc: 0.7313, Train Loss: 0.4980, Test Loss: 0.5249\n",
      "Epoch: 420, Train Acc: 0.7577, Test Acc: 0.7427, Train Loss: 0.4887, Test Loss: 0.5198\n",
      "Epoch: 430, Train Acc: 0.7890, Test Acc: 0.7510, Train Loss: 0.4955, Test Loss: 0.5369\n",
      "Epoch: 440, Train Acc: 0.7500, Test Acc: 0.7330, Train Loss: 0.4945, Test Loss: 0.5220\n",
      "Epoch: 450, Train Acc: 0.7790, Test Acc: 0.7450, Train Loss: 0.4792, Test Loss: 0.5128\n",
      "Epoch: 460, Train Acc: 0.7970, Test Acc: 0.7540, Train Loss: 0.4802, Test Loss: 0.5276\n",
      "Epoch: 470, Train Acc: 0.7959, Test Acc: 0.7397, Train Loss: 0.4970, Test Loss: 0.5492\n",
      "Epoch: 480, Train Acc: 0.7921, Test Acc: 0.7437, Train Loss: 0.4721, Test Loss: 0.5130\n",
      "Epoch: 490, Train Acc: 0.7510, Test Acc: 0.7040, Train Loss: 0.5512, Test Loss: 0.6126\n",
      "Epoch: 500, Train Acc: 0.7927, Test Acc: 0.7467, Train Loss: 0.4611, Test Loss: 0.5058\n"
     ]
    },
    {
     "data": {
      "text/html": [
       "<style>\n",
       "    table.wandb td:nth-child(1) { padding: 0 10px; text-align: left ; width: auto;} td:nth-child(2) {text-align: left ; width: 100%}\n",
       "    .wandb-row { display: flex; flex-direction: row; flex-wrap: wrap; justify-content: flex-start; width: 100% }\n",
       "    .wandb-col { display: flex; flex-direction: column; flex-basis: 100%; flex: 1; padding: 10px; }\n",
       "    </style>\n",
       "<div class=\"wandb-row\"><div class=\"wandb-col\"><h3>Run history:</h3><br/><table class=\"wandb\"><tr><td>Test Accuracy</td><td>▂▄▂▁▂▂▄▂▂▁▆▂▂▇▆▁▇▆▇▇▆▇▇▇▂▇▆▇█▇▇█████████</td></tr><tr><td>Test F1</td><td>▇▃▇▆▇▆▁▇▇▆▇▆▆▇▅▆▇▅▆▇▆▆▆▆▆█▅▇██▇██▇███▇█▇</td></tr><tr><td>Test Loss</td><td>████████▇▇▇▇▇▆▆▆▅▅▅▄▄▄▄▃▄▄▄▂▃▃▂▂▂▂▃▂▂▁▁▁</td></tr><tr><td>Test Sensitivity</td><td>█▂█▆██▁██▆▅█▆▅▃▇▅▄▄▅▄▄▄▄▇▇▃▅▆▇▄▆▅▅▇▆▆▅▆▄</td></tr><tr><td>Test Specificity</td><td>▁█▁▂▁▁█▁▁▂▆▁▂▆▇▁▇▇▇▇▇▇▇▇▂▅█▇▆▅▇▆▆▇▅▆▆▇▇▇</td></tr><tr><td>Train Accuracy</td><td>▂▄▂▁▂▂▂▂▂▁▆▂▂▆▅▂▆▅▆▇▆▆▇▇▃▇▅▇██▇██▇█████▇</td></tr><tr><td>Train F1</td><td>▇▃▇▆▆▆▁▇▆▆▇▆▆▇▅▆▇▅▇▇▆▆▇▇▆█▅▇██▇██▇███▇█▇</td></tr><tr><td>Train Loss</td><td>█████████▇▇▇▇▇▇▆▆▆▅▅▅▅▄▄▅▄▄▃▃▃▂▂▂▂▃▂▂▁▁▂</td></tr><tr><td>Train Sensitivity</td><td>█▂█▆██▁██▆▅█▆▆▄▇▅▄▅▅▄▄▅▅▇▇▃▅▆▇▅▆▆▅▇▇▇▅▆▅</td></tr><tr><td>Train Specificity</td><td>▁█▁▂▁▁█▁▁▂▆▁▂▆█▁▇█▇▇█▇▇▇▂▅█▇▇▆▇▇▇▇▆▆▇▇▇█</td></tr></table><br/></div><div class=\"wandb-col\"><h3>Run summary:</h3><br/><table class=\"wandb\"><tr><td>Test Accuracy</td><td>0.74667</td></tr><tr><td>Test F1</td><td>0.73883</td></tr><tr><td>Test Loss</td><td>0.50585</td></tr><tr><td>Test Sensitivity</td><td>0.70124</td></tr><tr><td>Test Specificity</td><td>0.79414</td></tr><tr><td>Train Accuracy</td><td>0.79271</td></tr><tr><td>Train F1</td><td>0.79227</td></tr><tr><td>Train Loss</td><td>0.46107</td></tr><tr><td>Train Sensitivity</td><td>0.75088</td></tr><tr><td>Train Specificity</td><td>0.83922</td></tr></table><br/></div></div>"
      ],
      "text/plain": [
       "<IPython.core.display.HTML object>"
      ]
     },
     "metadata": {},
     "output_type": "display_data"
    },
    {
     "data": {
      "text/html": [
       " View run <strong style=\"color:#cdcd00\">neat-sweep-1</strong> at: <a href='https://wandb.ai/dylan-home/pnca-sweep-1/runs/vm0xw36w' target=\"_blank\">https://wandb.ai/dylan-home/pnca-sweep-1/runs/vm0xw36w</a><br/>Synced 5 W&B file(s), 0 media file(s), 0 artifact file(s) and 0 other file(s)"
      ],
      "text/plain": [
       "<IPython.core.display.HTML object>"
      ]
     },
     "metadata": {},
     "output_type": "display_data"
    },
    {
     "data": {
      "text/html": [
       "Find logs at: <code>./wandb/run-20250115_230730-vm0xw36w/logs</code>"
      ],
      "text/plain": [
       "<IPython.core.display.HTML object>"
      ]
     },
     "metadata": {},
     "output_type": "display_data"
    },
    {
     "name": "stderr",
     "output_type": "stream",
     "text": [
      "\u001b[34m\u001b[1mwandb\u001b[0m: Agent Starting Run: 16bjl0ar with config:\n",
      "\u001b[34m\u001b[1mwandb\u001b[0m: \tcutoff_distance: 3.6269286906904816\n",
      "\u001b[34m\u001b[1mwandb\u001b[0m: \tdropout: 0.4\n",
      "\u001b[34m\u001b[1mwandb\u001b[0m: \thidden_channels: 64\n",
      "\u001b[34m\u001b[1mwandb\u001b[0m: \tlearning_rate: 0.0059142339243303445\n",
      "\u001b[34m\u001b[1mwandb\u001b[0m: \tweight_decay: 0.002533177463390691\n",
      "Failed to detect the name of this notebook, you can set it manually with the WANDB_NOTEBOOK_NAME environment variable to enable code saving.\n",
      "/usr/lib/python3/dist-packages/requests/__init__.py:87: RequestsDependencyWarning: urllib3 (2.2.3) or chardet (4.0.0) doesn't match a supported version!\n",
      "  warnings.warn(\"urllib3 ({}) or chardet ({}) doesn't match a supported \"\n"
     ]
    },
    {
     "data": {
      "text/html": [
       "wandb version 0.19.3 is available!  To upgrade, please run:\n",
       " $ pip install wandb --upgrade"
      ],
      "text/plain": [
       "<IPython.core.display.HTML object>"
      ]
     },
     "metadata": {},
     "output_type": "display_data"
    },
    {
     "data": {
      "text/html": [
       "Tracking run with wandb version 0.16.4"
      ],
      "text/plain": [
       "<IPython.core.display.HTML object>"
      ]
     },
     "metadata": {},
     "output_type": "display_data"
    },
    {
     "data": {
      "text/html": [
       "Run data is saved locally in <code>/mnt/alphafold-volume-1/dylan2/repos/tb-pnca-gnn/dd_pnca/wandb/run-20250115_232111-16bjl0ar</code>"
      ],
      "text/plain": [
       "<IPython.core.display.HTML object>"
      ]
     },
     "metadata": {},
     "output_type": "display_data"
    },
    {
     "data": {
      "text/html": [
       "Syncing run <strong><a href='https://wandb.ai/dylan-home/pnca-sweep-1/runs/16bjl0ar' target=\"_blank\">avid-sweep-2</a></strong> to <a href='https://wandb.ai/dylan-home/pnca-sweep-1' target=\"_blank\">Weights & Biases</a> (<a href='https://wandb.me/run' target=\"_blank\">docs</a>)<br/>Sweep page: <a href='https://wandb.ai/dylan-home/pnca-sweep-1/sweeps/tr8mwg42' target=\"_blank\">https://wandb.ai/dylan-home/pnca-sweep-1/sweeps/tr8mwg42</a>"
      ],
      "text/plain": [
       "<IPython.core.display.HTML object>"
      ]
     },
     "metadata": {},
     "output_type": "display_data"
    },
    {
     "data": {
      "text/html": [
       " View project at <a href='https://wandb.ai/dylan-home/pnca-sweep-1' target=\"_blank\">https://wandb.ai/dylan-home/pnca-sweep-1</a>"
      ],
      "text/plain": [
       "<IPython.core.display.HTML object>"
      ]
     },
     "metadata": {},
     "output_type": "display_data"
    },
    {
     "data": {
      "text/html": [
       " View sweep at <a href='https://wandb.ai/dylan-home/pnca-sweep-1/sweeps/tr8mwg42' target=\"_blank\">https://wandb.ai/dylan-home/pnca-sweep-1/sweeps/tr8mwg42</a>"
      ],
      "text/plain": [
       "<IPython.core.display.HTML object>"
      ]
     },
     "metadata": {},
     "output_type": "display_data"
    },
    {
     "data": {
      "text/html": [
       " View run at <a href='https://wandb.ai/dylan-home/pnca-sweep-1/runs/16bjl0ar' target=\"_blank\">https://wandb.ai/dylan-home/pnca-sweep-1/runs/16bjl0ar</a>"
      ],
      "text/plain": [
       "<IPython.core.display.HTML object>"
      ]
     },
     "metadata": {},
     "output_type": "display_data"
    },
    {
     "name": "stdout",
     "output_type": "stream",
     "text": [
      "Using CUDA\n",
      "Early stopping enabled. Patience: 20. Min Delta: 0.\n",
      "Epoch: 010, Train Acc: 0.5264, Test Acc: 0.5110, Train Loss: 0.6922, Test Loss: 0.6938\n",
      "Epoch: 020, Train Acc: 0.5264, Test Acc: 0.5110, Train Loss: 0.6917, Test Loss: 0.6935\n",
      "Epoch: 030, Train Acc: 0.5264, Test Acc: 0.5110, Train Loss: 0.6919, Test Loss: 0.6937\n",
      "Epoch: 040, Train Acc: 0.5264, Test Acc: 0.5110, Train Loss: 0.6919, Test Loss: 0.6938\n",
      "Epoch: 050, Train Acc: 0.5264, Test Acc: 0.5110, Train Loss: 0.6918, Test Loss: 0.6935\n",
      "20 epochs passed without 0 test loss improvement. \n",
      "Early stopping triggered.\n"
     ]
    },
    {
     "data": {
      "text/html": [
       "<style>\n",
       "    table.wandb td:nth-child(1) { padding: 0 10px; text-align: left ; width: auto;} td:nth-child(2) {text-align: left ; width: 100%}\n",
       "    .wandb-row { display: flex; flex-direction: row; flex-wrap: wrap; justify-content: flex-start; width: 100% }\n",
       "    .wandb-col { display: flex; flex-direction: column; flex-basis: 100%; flex: 1; padding: 10px; }\n",
       "    </style>\n",
       "<div class=\"wandb-row\"><div class=\"wandb-col\"><h3>Run history:</h3><br/><table class=\"wandb\"><tr><td>Test Accuracy</td><td>▁▁▁▁▁▁▁▁▁▁▁▁▁▁▁▁▁▁▁▁▁▁▁▁▁▁▁▁▁▁▁▁▁▁▁▁▁▁▁▁</td></tr><tr><td>Test F1</td><td>▁▁▁▁▁▁▁▁▁▁▁▁▁▁▁▁▁▁▁▁▁▁▁▁▁▁▁▁▁▁▁▁▁▁▁▁▁▁▁▁</td></tr><tr><td>Test Loss</td><td>█▁▁▁▁▁▁▁▁▂▁▁▁▁▁▁▁▁▁▁▂▁▁▁▁▂▁▁▁▁▂▁▂▁▁▁▂▁▁▁</td></tr><tr><td>Test Sensitivity</td><td>▁▁▁▁▁▁▁▁▁▁▁▁▁▁▁▁▁▁▁▁▁▁▁▁▁▁▁▁▁▁▁▁▁▁▁▁▁▁▁▁</td></tr><tr><td>Test Specificity</td><td>▁▁▁▁▁▁▁▁▁▁▁▁▁▁▁▁▁▁▁▁▁▁▁▁▁▁▁▁▁▁▁▁▁▁▁▁▁▁▁▁</td></tr><tr><td>Train Accuracy</td><td>▁▁▁▁▁▁▁▁▁▁▁▁▁▁▁▁▁▁▁▁▁▁▁▁▁▁▁▁▁▁▁▁▁▁▁▁▁▁▁▁</td></tr><tr><td>Train F1</td><td>▁▁▁▁▁▁▁▁▁▁▁▁▁▁▁▁▁▁▁▁▁▁▁▁▁▁▁▁▁▁▁▁▁▁▁▁▁▁▁▁</td></tr><tr><td>Train Loss</td><td>█▂▁▁▁▁▁▁▂▁▁▂▂▁▁▁▂▁▁▁▂▁▁▂▁▂▂▁▁▂▂▁▁▁▁▂▂▁▁▁</td></tr><tr><td>Train Sensitivity</td><td>▁▁▁▁▁▁▁▁▁▁▁▁▁▁▁▁▁▁▁▁▁▁▁▁▁▁▁▁▁▁▁▁▁▁▁▁▁▁▁▁</td></tr><tr><td>Train Specificity</td><td>▁▁▁▁▁▁▁▁▁▁▁▁▁▁▁▁▁▁▁▁▁▁▁▁▁▁▁▁▁▁▁▁▁▁▁▁▁▁▁▁</td></tr></table><br/></div><div class=\"wandb-col\"><h3>Run summary:</h3><br/><table class=\"wandb\"><tr><td>Test Accuracy</td><td>0.511</td></tr><tr><td>Test F1</td><td>0.67637</td></tr><tr><td>Test Loss</td><td>0.69301</td></tr><tr><td>Test Sensitivity</td><td>1.0</td></tr><tr><td>Test Specificity</td><td>0.0</td></tr><tr><td>Train Accuracy</td><td>0.52643</td></tr><tr><td>Train F1</td><td>0.68975</td></tr><tr><td>Train Loss</td><td>0.69176</td></tr><tr><td>Train Sensitivity</td><td>1.0</td></tr><tr><td>Train Specificity</td><td>0.0</td></tr></table><br/></div></div>"
      ],
      "text/plain": [
       "<IPython.core.display.HTML object>"
      ]
     },
     "metadata": {},
     "output_type": "display_data"
    },
    {
     "data": {
      "text/html": [
       " View run <strong style=\"color:#cdcd00\">avid-sweep-2</strong> at: <a href='https://wandb.ai/dylan-home/pnca-sweep-1/runs/16bjl0ar' target=\"_blank\">https://wandb.ai/dylan-home/pnca-sweep-1/runs/16bjl0ar</a><br/>Synced 5 W&B file(s), 0 media file(s), 0 artifact file(s) and 0 other file(s)"
      ],
      "text/plain": [
       "<IPython.core.display.HTML object>"
      ]
     },
     "metadata": {},
     "output_type": "display_data"
    },
    {
     "data": {
      "text/html": [
       "Find logs at: <code>./wandb/run-20250115_232111-16bjl0ar/logs</code>"
      ],
      "text/plain": [
       "<IPython.core.display.HTML object>"
      ]
     },
     "metadata": {},
     "output_type": "display_data"
    },
    {
     "name": "stderr",
     "output_type": "stream",
     "text": [
      "\u001b[34m\u001b[1mwandb\u001b[0m: Sweep Agent: Waiting for job.\n",
      "\u001b[34m\u001b[1mwandb\u001b[0m: Job received.\n",
      "\u001b[34m\u001b[1mwandb\u001b[0m: Agent Starting Run: gbmw8ejj with config:\n",
      "\u001b[34m\u001b[1mwandb\u001b[0m: \tcutoff_distance: 8.247923662738284\n",
      "\u001b[34m\u001b[1mwandb\u001b[0m: \tdropout: 0.8\n",
      "\u001b[34m\u001b[1mwandb\u001b[0m: \thidden_channels: 128\n",
      "\u001b[34m\u001b[1mwandb\u001b[0m: \tlearning_rate: 0.003798424160050356\n",
      "\u001b[34m\u001b[1mwandb\u001b[0m: \tweight_decay: 0.0002415511765890852\n",
      "Failed to detect the name of this notebook, you can set it manually with the WANDB_NOTEBOOK_NAME environment variable to enable code saving.\n",
      "/usr/lib/python3/dist-packages/requests/__init__.py:87: RequestsDependencyWarning: urllib3 (2.2.3) or chardet (4.0.0) doesn't match a supported version!\n",
      "  warnings.warn(\"urllib3 ({}) or chardet ({}) doesn't match a supported \"\n"
     ]
    },
    {
     "data": {
      "text/html": [
       "wandb version 0.19.3 is available!  To upgrade, please run:\n",
       " $ pip install wandb --upgrade"
      ],
      "text/plain": [
       "<IPython.core.display.HTML object>"
      ]
     },
     "metadata": {},
     "output_type": "display_data"
    },
    {
     "data": {
      "text/html": [
       "Tracking run with wandb version 0.16.4"
      ],
      "text/plain": [
       "<IPython.core.display.HTML object>"
      ]
     },
     "metadata": {},
     "output_type": "display_data"
    },
    {
     "data": {
      "text/html": [
       "Run data is saved locally in <code>/mnt/alphafold-volume-1/dylan2/repos/tb-pnca-gnn/dd_pnca/wandb/run-20250115_232308-gbmw8ejj</code>"
      ],
      "text/plain": [
       "<IPython.core.display.HTML object>"
      ]
     },
     "metadata": {},
     "output_type": "display_data"
    },
    {
     "data": {
      "text/html": [
       "Syncing run <strong><a href='https://wandb.ai/dylan-home/pnca-sweep-1/runs/gbmw8ejj' target=\"_blank\">genial-sweep-3</a></strong> to <a href='https://wandb.ai/dylan-home/pnca-sweep-1' target=\"_blank\">Weights & Biases</a> (<a href='https://wandb.me/run' target=\"_blank\">docs</a>)<br/>Sweep page: <a href='https://wandb.ai/dylan-home/pnca-sweep-1/sweeps/tr8mwg42' target=\"_blank\">https://wandb.ai/dylan-home/pnca-sweep-1/sweeps/tr8mwg42</a>"
      ],
      "text/plain": [
       "<IPython.core.display.HTML object>"
      ]
     },
     "metadata": {},
     "output_type": "display_data"
    },
    {
     "data": {
      "text/html": [
       " View project at <a href='https://wandb.ai/dylan-home/pnca-sweep-1' target=\"_blank\">https://wandb.ai/dylan-home/pnca-sweep-1</a>"
      ],
      "text/plain": [
       "<IPython.core.display.HTML object>"
      ]
     },
     "metadata": {},
     "output_type": "display_data"
    },
    {
     "data": {
      "text/html": [
       " View sweep at <a href='https://wandb.ai/dylan-home/pnca-sweep-1/sweeps/tr8mwg42' target=\"_blank\">https://wandb.ai/dylan-home/pnca-sweep-1/sweeps/tr8mwg42</a>"
      ],
      "text/plain": [
       "<IPython.core.display.HTML object>"
      ]
     },
     "metadata": {},
     "output_type": "display_data"
    },
    {
     "data": {
      "text/html": [
       " View run at <a href='https://wandb.ai/dylan-home/pnca-sweep-1/runs/gbmw8ejj' target=\"_blank\">https://wandb.ai/dylan-home/pnca-sweep-1/runs/gbmw8ejj</a>"
      ],
      "text/plain": [
       "<IPython.core.display.HTML object>"
      ]
     },
     "metadata": {},
     "output_type": "display_data"
    },
    {
     "name": "stdout",
     "output_type": "stream",
     "text": [
      "Using CUDA\n",
      "Early stopping enabled. Patience: 20. Min Delta: 0.\n",
      "Epoch: 010, Train Acc: 0.5264, Test Acc: 0.5110, Train Loss: 0.6918, Test Loss: 0.6935\n",
      "Epoch: 020, Train Acc: 0.5264, Test Acc: 0.5110, Train Loss: 0.6918, Test Loss: 0.6934\n",
      "20 epochs passed without 0 test loss improvement. \n",
      "Early stopping triggered.\n"
     ]
    },
    {
     "data": {
      "text/html": [
       "<style>\n",
       "    table.wandb td:nth-child(1) { padding: 0 10px; text-align: left ; width: auto;} td:nth-child(2) {text-align: left ; width: 100%}\n",
       "    .wandb-row { display: flex; flex-direction: row; flex-wrap: wrap; justify-content: flex-start; width: 100% }\n",
       "    .wandb-col { display: flex; flex-direction: column; flex-basis: 100%; flex: 1; padding: 10px; }\n",
       "    </style>\n",
       "<div class=\"wandb-row\"><div class=\"wandb-col\"><h3>Run history:</h3><br/><table class=\"wandb\"><tr><td>Test Accuracy</td><td>▁▁▁▁▁▁▁▁▁▁▁▁▁▁▁▁▁▁▁▁▁</td></tr><tr><td>Test F1</td><td>▁▁▁▁▁▁▁▁▁▁▁▁▁▁▁▁▁▁▁▁▁</td></tr><tr><td>Test Loss</td><td>▁▃▁▆▃▅▆▆▂▇▂▂█▂▃▄▅▄▂▆▆</td></tr><tr><td>Test Sensitivity</td><td>▁▁▁▁▁▁▁▁▁▁▁▁▁▁▁▁▁▁▁▁▁</td></tr><tr><td>Test Specificity</td><td>▁▁▁▁▁▁▁▁▁▁▁▁▁▁▁▁▁▁▁▁▁</td></tr><tr><td>Train Accuracy</td><td>▁▁▁▁▁▁▁▁▁▁▁▁▁▁▁▁▁▁▁▁▁</td></tr><tr><td>Train F1</td><td>▁▁▁▁▁▁▁▁▁▁▁▁▁▁▁▁▁▁▁▁▁</td></tr><tr><td>Train Loss</td><td>▅▇▆█▃▅▂▁▄▆▇█▇▄▄▃▂▄▆▅▅</td></tr><tr><td>Train Sensitivity</td><td>▁▁▁▁▁▁▁▁▁▁▁▁▁▁▁▁▁▁▁▁▁</td></tr><tr><td>Train Specificity</td><td>▁▁▁▁▁▁▁▁▁▁▁▁▁▁▁▁▁▁▁▁▁</td></tr></table><br/></div><div class=\"wandb-col\"><h3>Run summary:</h3><br/><table class=\"wandb\"><tr><td>Test Accuracy</td><td>0.511</td></tr><tr><td>Test F1</td><td>0.67637</td></tr><tr><td>Test Loss</td><td>0.6934</td></tr><tr><td>Test Sensitivity</td><td>1.0</td></tr><tr><td>Test Specificity</td><td>0.0</td></tr><tr><td>Train Accuracy</td><td>0.52643</td></tr><tr><td>Train F1</td><td>0.68975</td></tr><tr><td>Train Loss</td><td>0.69174</td></tr><tr><td>Train Sensitivity</td><td>1.0</td></tr><tr><td>Train Specificity</td><td>0.0</td></tr></table><br/></div></div>"
      ],
      "text/plain": [
       "<IPython.core.display.HTML object>"
      ]
     },
     "metadata": {},
     "output_type": "display_data"
    },
    {
     "data": {
      "text/html": [
       " View run <strong style=\"color:#cdcd00\">genial-sweep-3</strong> at: <a href='https://wandb.ai/dylan-home/pnca-sweep-1/runs/gbmw8ejj' target=\"_blank\">https://wandb.ai/dylan-home/pnca-sweep-1/runs/gbmw8ejj</a><br/>Synced 5 W&B file(s), 0 media file(s), 0 artifact file(s) and 0 other file(s)"
      ],
      "text/plain": [
       "<IPython.core.display.HTML object>"
      ]
     },
     "metadata": {},
     "output_type": "display_data"
    },
    {
     "data": {
      "text/html": [
       "Find logs at: <code>./wandb/run-20250115_232308-gbmw8ejj/logs</code>"
      ],
      "text/plain": [
       "<IPython.core.display.HTML object>"
      ]
     },
     "metadata": {},
     "output_type": "display_data"
    },
    {
     "name": "stderr",
     "output_type": "stream",
     "text": [
      "\u001b[34m\u001b[1mwandb\u001b[0m: Sweep Agent: Waiting for job.\n",
      "\u001b[34m\u001b[1mwandb\u001b[0m: Job received.\n",
      "\u001b[34m\u001b[1mwandb\u001b[0m: Agent Starting Run: jlma4ru2 with config:\n",
      "\u001b[34m\u001b[1mwandb\u001b[0m: \tcutoff_distance: 6.764974382366065\n",
      "\u001b[34m\u001b[1mwandb\u001b[0m: \tdropout: 0.2\n",
      "\u001b[34m\u001b[1mwandb\u001b[0m: \thidden_channels: 128\n",
      "\u001b[34m\u001b[1mwandb\u001b[0m: \tlearning_rate: 0.0015316112676150085\n",
      "\u001b[34m\u001b[1mwandb\u001b[0m: \tweight_decay: 1.555140912527476e-05\n",
      "Failed to detect the name of this notebook, you can set it manually with the WANDB_NOTEBOOK_NAME environment variable to enable code saving.\n",
      "/usr/lib/python3/dist-packages/requests/__init__.py:87: RequestsDependencyWarning: urllib3 (2.2.3) or chardet (4.0.0) doesn't match a supported version!\n",
      "  warnings.warn(\"urllib3 ({}) or chardet ({}) doesn't match a supported \"\n"
     ]
    },
    {
     "data": {
      "text/html": [
       "wandb version 0.19.3 is available!  To upgrade, please run:\n",
       " $ pip install wandb --upgrade"
      ],
      "text/plain": [
       "<IPython.core.display.HTML object>"
      ]
     },
     "metadata": {},
     "output_type": "display_data"
    },
    {
     "data": {
      "text/html": [
       "Tracking run with wandb version 0.16.4"
      ],
      "text/plain": [
       "<IPython.core.display.HTML object>"
      ]
     },
     "metadata": {},
     "output_type": "display_data"
    },
    {
     "data": {
      "text/html": [
       "Run data is saved locally in <code>/mnt/alphafold-volume-1/dylan2/repos/tb-pnca-gnn/dd_pnca/wandb/run-20250115_232405-jlma4ru2</code>"
      ],
      "text/plain": [
       "<IPython.core.display.HTML object>"
      ]
     },
     "metadata": {},
     "output_type": "display_data"
    },
    {
     "data": {
      "text/html": [
       "Syncing run <strong><a href='https://wandb.ai/dylan-home/pnca-sweep-1/runs/jlma4ru2' target=\"_blank\">resilient-sweep-4</a></strong> to <a href='https://wandb.ai/dylan-home/pnca-sweep-1' target=\"_blank\">Weights & Biases</a> (<a href='https://wandb.me/run' target=\"_blank\">docs</a>)<br/>Sweep page: <a href='https://wandb.ai/dylan-home/pnca-sweep-1/sweeps/tr8mwg42' target=\"_blank\">https://wandb.ai/dylan-home/pnca-sweep-1/sweeps/tr8mwg42</a>"
      ],
      "text/plain": [
       "<IPython.core.display.HTML object>"
      ]
     },
     "metadata": {},
     "output_type": "display_data"
    },
    {
     "data": {
      "text/html": [
       " View project at <a href='https://wandb.ai/dylan-home/pnca-sweep-1' target=\"_blank\">https://wandb.ai/dylan-home/pnca-sweep-1</a>"
      ],
      "text/plain": [
       "<IPython.core.display.HTML object>"
      ]
     },
     "metadata": {},
     "output_type": "display_data"
    },
    {
     "data": {
      "text/html": [
       " View sweep at <a href='https://wandb.ai/dylan-home/pnca-sweep-1/sweeps/tr8mwg42' target=\"_blank\">https://wandb.ai/dylan-home/pnca-sweep-1/sweeps/tr8mwg42</a>"
      ],
      "text/plain": [
       "<IPython.core.display.HTML object>"
      ]
     },
     "metadata": {},
     "output_type": "display_data"
    },
    {
     "data": {
      "text/html": [
       " View run at <a href='https://wandb.ai/dylan-home/pnca-sweep-1/runs/jlma4ru2' target=\"_blank\">https://wandb.ai/dylan-home/pnca-sweep-1/runs/jlma4ru2</a>"
      ],
      "text/plain": [
       "<IPython.core.display.HTML object>"
      ]
     },
     "metadata": {},
     "output_type": "display_data"
    },
    {
     "name": "stdout",
     "output_type": "stream",
     "text": [
      "Using CUDA\n",
      "Early stopping enabled. Patience: 20. Min Delta: 0.\n",
      "Epoch: 010, Train Acc: 0.5264, Test Acc: 0.5110, Train Loss: 0.6917, Test Loss: 0.6933\n",
      "Epoch: 020, Train Acc: 0.5264, Test Acc: 0.5110, Train Loss: 0.6914, Test Loss: 0.6921\n",
      "Epoch: 030, Train Acc: 0.5264, Test Acc: 0.5110, Train Loss: 0.6911, Test Loss: 0.6917\n",
      "Epoch: 040, Train Acc: 0.5264, Test Acc: 0.5110, Train Loss: 0.6916, Test Loss: 0.6920\n",
      "Epoch: 050, Train Acc: 0.5264, Test Acc: 0.5110, Train Loss: 0.6909, Test Loss: 0.6915\n",
      "Epoch: 060, Train Acc: 0.5264, Test Acc: 0.5110, Train Loss: 0.6895, Test Loss: 0.6909\n",
      "Epoch: 070, Train Acc: 0.5264, Test Acc: 0.5110, Train Loss: 0.6857, Test Loss: 0.6884\n",
      "Epoch: 080, Train Acc: 0.5264, Test Acc: 0.5110, Train Loss: 0.6841, Test Loss: 0.6880\n",
      "Epoch: 090, Train Acc: 0.5247, Test Acc: 0.5063, Train Loss: 0.6751, Test Loss: 0.6795\n",
      "Epoch: 100, Train Acc: 0.5264, Test Acc: 0.5110, Train Loss: 0.7143, Test Loss: 0.7227\n",
      "Epoch: 110, Train Acc: 0.6299, Test Acc: 0.6363, Train Loss: 0.6559, Test Loss: 0.6602\n",
      "Epoch: 120, Train Acc: 0.6107, Test Acc: 0.6000, Train Loss: 0.6573, Test Loss: 0.6643\n",
      "Epoch: 130, Train Acc: 0.5216, Test Acc: 0.5107, Train Loss: 0.6476, Test Loss: 0.6559\n",
      "Epoch: 140, Train Acc: 0.5883, Test Acc: 0.5657, Train Loss: 0.6497, Test Loss: 0.6641\n",
      "Epoch: 150, Train Acc: 0.7151, Test Acc: 0.6787, Train Loss: 0.5998, Test Loss: 0.6093\n",
      "Epoch: 160, Train Acc: 0.5216, Test Acc: 0.5297, Train Loss: 0.6902, Test Loss: 0.6931\n",
      "Epoch: 170, Train Acc: 0.5264, Test Acc: 0.5110, Train Loss: 0.6869, Test Loss: 0.6917\n",
      "20 epochs passed without 0 test loss improvement. \n",
      "Early stopping triggered.\n"
     ]
    },
    {
     "data": {
      "text/html": [
       "<style>\n",
       "    table.wandb td:nth-child(1) { padding: 0 10px; text-align: left ; width: auto;} td:nth-child(2) {text-align: left ; width: 100%}\n",
       "    .wandb-row { display: flex; flex-direction: row; flex-wrap: wrap; justify-content: flex-start; width: 100% }\n",
       "    .wandb-col { display: flex; flex-direction: column; flex-basis: 100%; flex: 1; padding: 10px; }\n",
       "    </style>\n",
       "<div class=\"wandb-row\"><div class=\"wandb-col\"><h3>Run history:</h3><br/><table class=\"wandb\"><tr><td>Test Accuracy</td><td>▂▂▂▂▂▂▂▂▂▂▂▂▂▂▂▇▂▂▂█▂▇▆▆▁▆▂▇▂▇▁▅▄███▂▂▂▂</td></tr><tr><td>Test F1</td><td>███████████████▅███▆█▇▃▄▇▅█▇█▅▇▂▁███████</td></tr><tr><td>Test Loss</td><td>███████████████████▇▇▇▆▅▄▅▅▃▇▃▂▅▆▃▂▁████</td></tr><tr><td>Test Sensitivity</td><td>███████████████▂███▃█▄▂▂▇▃█▄█▃▆▁▁▅▅▅████</td></tr><tr><td>Test Specificity</td><td>▁▁▁▁▁▁▁▁▁▁▁▁▁▁▁█▁▁▁█▁▇██▁▇▁▇▁▇▂██▆▆▆▁▁▁▁</td></tr><tr><td>Train Accuracy</td><td>▂▂▂▂▂▂▂▂▂▂▂▂▂▂▂▅▂▂▂▆▂▆▄▄▁▅▂▆▂▅▁▄▄▇██▂▂▂▂</td></tr><tr><td>Train F1</td><td>▇▇▇▇▇▇▇▇▇▇▇▇▇▇▇▃▇▇▇▅▇▆▁▂▇▄▇▆▇▄▆▂▁█▇█▇▇▇▇</td></tr><tr><td>Train Loss</td><td>██████████████████▇▇▇▇▆▆▅▆▅▄▇▄▃▅▅▃▂▁████</td></tr><tr><td>Train Sensitivity</td><td>███████████████▂███▃█▄▁▂▇▂█▃█▂▆▁▁▅▄▅████</td></tr><tr><td>Train Specificity</td><td>▁▁▁▁▁▁▁▁▁▁▁▁▁▁▁█▁▁▁█▁▇██▁█▁▇▁█▂██▆▇▇▁▁▁▁</td></tr></table><br/></div><div class=\"wandb-col\"><h3>Run summary:</h3><br/><table class=\"wandb\"><tr><td>Test Accuracy</td><td>0.57233</td></tr><tr><td>Test F1</td><td>0.37015</td></tr><tr><td>Test Loss</td><td>0.68802</td></tr><tr><td>Test Sensitivity</td><td>0.24592</td></tr><tr><td>Test Specificity</td><td>0.91343</td></tr><tr><td>Train Accuracy</td><td>0.54343</td></tr><tr><td>Train F1</td><td>0.33389</td></tr><tr><td>Train Loss</td><td>0.68324</td></tr><tr><td>Train Sensitivity</td><td>0.21737</td></tr><tr><td>Train Specificity</td><td>0.90588</td></tr></table><br/></div></div>"
      ],
      "text/plain": [
       "<IPython.core.display.HTML object>"
      ]
     },
     "metadata": {},
     "output_type": "display_data"
    },
    {
     "data": {
      "text/html": [
       " View run <strong style=\"color:#cdcd00\">resilient-sweep-4</strong> at: <a href='https://wandb.ai/dylan-home/pnca-sweep-1/runs/jlma4ru2' target=\"_blank\">https://wandb.ai/dylan-home/pnca-sweep-1/runs/jlma4ru2</a><br/>Synced 5 W&B file(s), 0 media file(s), 0 artifact file(s) and 0 other file(s)"
      ],
      "text/plain": [
       "<IPython.core.display.HTML object>"
      ]
     },
     "metadata": {},
     "output_type": "display_data"
    },
    {
     "data": {
      "text/html": [
       "Find logs at: <code>./wandb/run-20250115_232405-jlma4ru2/logs</code>"
      ],
      "text/plain": [
       "<IPython.core.display.HTML object>"
      ]
     },
     "metadata": {},
     "output_type": "display_data"
    },
    {
     "name": "stderr",
     "output_type": "stream",
     "text": [
      "\u001b[34m\u001b[1mwandb\u001b[0m: Agent Starting Run: u88tf2da with config:\n",
      "\u001b[34m\u001b[1mwandb\u001b[0m: \tcutoff_distance: 4.568892461535341\n",
      "\u001b[34m\u001b[1mwandb\u001b[0m: \tdropout: 0.2\n",
      "\u001b[34m\u001b[1mwandb\u001b[0m: \thidden_channels: 64\n",
      "\u001b[34m\u001b[1mwandb\u001b[0m: \tlearning_rate: 0.0038175059427405567\n",
      "\u001b[34m\u001b[1mwandb\u001b[0m: \tweight_decay: 9.15402511589266e-05\n",
      "Failed to detect the name of this notebook, you can set it manually with the WANDB_NOTEBOOK_NAME environment variable to enable code saving.\n",
      "/usr/lib/python3/dist-packages/requests/__init__.py:87: RequestsDependencyWarning: urllib3 (2.2.3) or chardet (4.0.0) doesn't match a supported version!\n",
      "  warnings.warn(\"urllib3 ({}) or chardet ({}) doesn't match a supported \"\n"
     ]
    },
    {
     "data": {
      "text/html": [
       "wandb version 0.19.3 is available!  To upgrade, please run:\n",
       " $ pip install wandb --upgrade"
      ],
      "text/plain": [
       "<IPython.core.display.HTML object>"
      ]
     },
     "metadata": {},
     "output_type": "display_data"
    },
    {
     "data": {
      "text/html": [
       "Tracking run with wandb version 0.16.4"
      ],
      "text/plain": [
       "<IPython.core.display.HTML object>"
      ]
     },
     "metadata": {},
     "output_type": "display_data"
    },
    {
     "data": {
      "text/html": [
       "Run data is saved locally in <code>/mnt/alphafold-volume-1/dylan2/repos/tb-pnca-gnn/dd_pnca/wandb/run-20250115_232928-u88tf2da</code>"
      ],
      "text/plain": [
       "<IPython.core.display.HTML object>"
      ]
     },
     "metadata": {},
     "output_type": "display_data"
    },
    {
     "data": {
      "text/html": [
       "Syncing run <strong><a href='https://wandb.ai/dylan-home/pnca-sweep-1/runs/u88tf2da' target=\"_blank\">comfy-sweep-5</a></strong> to <a href='https://wandb.ai/dylan-home/pnca-sweep-1' target=\"_blank\">Weights & Biases</a> (<a href='https://wandb.me/run' target=\"_blank\">docs</a>)<br/>Sweep page: <a href='https://wandb.ai/dylan-home/pnca-sweep-1/sweeps/tr8mwg42' target=\"_blank\">https://wandb.ai/dylan-home/pnca-sweep-1/sweeps/tr8mwg42</a>"
      ],
      "text/plain": [
       "<IPython.core.display.HTML object>"
      ]
     },
     "metadata": {},
     "output_type": "display_data"
    },
    {
     "data": {
      "text/html": [
       " View project at <a href='https://wandb.ai/dylan-home/pnca-sweep-1' target=\"_blank\">https://wandb.ai/dylan-home/pnca-sweep-1</a>"
      ],
      "text/plain": [
       "<IPython.core.display.HTML object>"
      ]
     },
     "metadata": {},
     "output_type": "display_data"
    },
    {
     "data": {
      "text/html": [
       " View sweep at <a href='https://wandb.ai/dylan-home/pnca-sweep-1/sweeps/tr8mwg42' target=\"_blank\">https://wandb.ai/dylan-home/pnca-sweep-1/sweeps/tr8mwg42</a>"
      ],
      "text/plain": [
       "<IPython.core.display.HTML object>"
      ]
     },
     "metadata": {},
     "output_type": "display_data"
    },
    {
     "data": {
      "text/html": [
       " View run at <a href='https://wandb.ai/dylan-home/pnca-sweep-1/runs/u88tf2da' target=\"_blank\">https://wandb.ai/dylan-home/pnca-sweep-1/runs/u88tf2da</a>"
      ],
      "text/plain": [
       "<IPython.core.display.HTML object>"
      ]
     },
     "metadata": {},
     "output_type": "display_data"
    },
    {
     "name": "stdout",
     "output_type": "stream",
     "text": [
      "Using CUDA\n",
      "Early stopping enabled. Patience: 20. Min Delta: 0.\n",
      "Epoch: 010, Train Acc: 0.5264, Test Acc: 0.5110, Train Loss: 0.6920, Test Loss: 0.6934\n",
      "Epoch: 020, Train Acc: 0.5264, Test Acc: 0.5110, Train Loss: 0.6917, Test Loss: 0.6932\n",
      "Epoch: 030, Train Acc: 0.5264, Test Acc: 0.5110, Train Loss: 0.6918, Test Loss: 0.6933\n",
      "Epoch: 040, Train Acc: 0.5264, Test Acc: 0.5110, Train Loss: 0.6918, Test Loss: 0.6933\n",
      "Epoch: 050, Train Acc: 0.5264, Test Acc: 0.5110, Train Loss: 0.6917, Test Loss: 0.6932\n",
      "20 epochs passed without 0 test loss improvement. \n",
      "Early stopping triggered.\n"
     ]
    },
    {
     "data": {
      "text/html": [
       "<style>\n",
       "    table.wandb td:nth-child(1) { padding: 0 10px; text-align: left ; width: auto;} td:nth-child(2) {text-align: left ; width: 100%}\n",
       "    .wandb-row { display: flex; flex-direction: row; flex-wrap: wrap; justify-content: flex-start; width: 100% }\n",
       "    .wandb-col { display: flex; flex-direction: column; flex-basis: 100%; flex: 1; padding: 10px; }\n",
       "    </style>\n",
       "<div class=\"wandb-row\"><div class=\"wandb-col\"><h3>Run history:</h3><br/><table class=\"wandb\"><tr><td>Test Accuracy</td><td>▁▁▁▁▁▁▁▁▁▁▁▁▁▁▁▁▁▁▁▁▁▁▁▁▁▁▁▁▁▁▁▁▁▁▁▁▁▁▁▁</td></tr><tr><td>Test F1</td><td>▁▁▁▁▁▁▁▁▁▁▁▁▁▁▁▁▁▁▁▁▁▁▁▁▁▁▁▁▁▁▁▁▁▁▁▁▁▁▁▁</td></tr><tr><td>Test Loss</td><td>█▁▁▁▁▁▁▁▁▁▁▁▁▁▁▁▁▁▁▁▁▁▁▁▁▁▁▁▁▁▁▁▁▁▁▁▁▁▁▁</td></tr><tr><td>Test Sensitivity</td><td>▁▁▁▁▁▁▁▁▁▁▁▁▁▁▁▁▁▁▁▁▁▁▁▁▁▁▁▁▁▁▁▁▁▁▁▁▁▁▁▁</td></tr><tr><td>Test Specificity</td><td>▁▁▁▁▁▁▁▁▁▁▁▁▁▁▁▁▁▁▁▁▁▁▁▁▁▁▁▁▁▁▁▁▁▁▁▁▁▁▁▁</td></tr><tr><td>Train Accuracy</td><td>▁▁▁▁▁▁▁▁▁▁▁▁▁▁▁▁▁▁▁▁▁▁▁▁▁▁▁▁▁▁▁▁▁▁▁▁▁▁▁▁</td></tr><tr><td>Train F1</td><td>▁▁▁▁▁▁▁▁▁▁▁▁▁▁▁▁▁▁▁▁▁▁▁▁▁▁▁▁▁▁▁▁▁▁▁▁▁▁▁▁</td></tr><tr><td>Train Loss</td><td>█▁▁▁▁▁▁▁▁▁▁▁▁▁▁▁▁▁▁▁▁▁▁▁▁▁▁▁▁▁▁▁▁▁▁▁▁▁▂▁</td></tr><tr><td>Train Sensitivity</td><td>▁▁▁▁▁▁▁▁▁▁▁▁▁▁▁▁▁▁▁▁▁▁▁▁▁▁▁▁▁▁▁▁▁▁▁▁▁▁▁▁</td></tr><tr><td>Train Specificity</td><td>▁▁▁▁▁▁▁▁▁▁▁▁▁▁▁▁▁▁▁▁▁▁▁▁▁▁▁▁▁▁▁▁▁▁▁▁▁▁▁▁</td></tr></table><br/></div><div class=\"wandb-col\"><h3>Run summary:</h3><br/><table class=\"wandb\"><tr><td>Test Accuracy</td><td>0.511</td></tr><tr><td>Test F1</td><td>0.67637</td></tr><tr><td>Test Loss</td><td>0.69319</td></tr><tr><td>Test Sensitivity</td><td>1.0</td></tr><tr><td>Test Specificity</td><td>0.0</td></tr><tr><td>Train Accuracy</td><td>0.52643</td></tr><tr><td>Train F1</td><td>0.68975</td></tr><tr><td>Train Loss</td><td>0.69182</td></tr><tr><td>Train Sensitivity</td><td>1.0</td></tr><tr><td>Train Specificity</td><td>0.0</td></tr></table><br/></div></div>"
      ],
      "text/plain": [
       "<IPython.core.display.HTML object>"
      ]
     },
     "metadata": {},
     "output_type": "display_data"
    },
    {
     "data": {
      "text/html": [
       " View run <strong style=\"color:#cdcd00\">comfy-sweep-5</strong> at: <a href='https://wandb.ai/dylan-home/pnca-sweep-1/runs/u88tf2da' target=\"_blank\">https://wandb.ai/dylan-home/pnca-sweep-1/runs/u88tf2da</a><br/>Synced 5 W&B file(s), 0 media file(s), 0 artifact file(s) and 0 other file(s)"
      ],
      "text/plain": [
       "<IPython.core.display.HTML object>"
      ]
     },
     "metadata": {},
     "output_type": "display_data"
    },
    {
     "data": {
      "text/html": [
       "Find logs at: <code>./wandb/run-20250115_232928-u88tf2da/logs</code>"
      ],
      "text/plain": [
       "<IPython.core.display.HTML object>"
      ]
     },
     "metadata": {},
     "output_type": "display_data"
    },
    {
     "name": "stderr",
     "output_type": "stream",
     "text": [
      "\u001b[34m\u001b[1mwandb\u001b[0m: Agent Starting Run: 9ts1yasr with config:\n",
      "\u001b[34m\u001b[1mwandb\u001b[0m: \tcutoff_distance: 5.542915468341595\n",
      "\u001b[34m\u001b[1mwandb\u001b[0m: \tdropout: 0.2\n",
      "\u001b[34m\u001b[1mwandb\u001b[0m: \thidden_channels: 64\n",
      "\u001b[34m\u001b[1mwandb\u001b[0m: \tlearning_rate: 9.704142984887508e-05\n",
      "\u001b[34m\u001b[1mwandb\u001b[0m: \tweight_decay: 5.394503842714599e-05\n",
      "Failed to detect the name of this notebook, you can set it manually with the WANDB_NOTEBOOK_NAME environment variable to enable code saving.\n",
      "/usr/lib/python3/dist-packages/requests/__init__.py:87: RequestsDependencyWarning: urllib3 (2.2.3) or chardet (4.0.0) doesn't match a supported version!\n",
      "  warnings.warn(\"urllib3 ({}) or chardet ({}) doesn't match a supported \"\n"
     ]
    },
    {
     "data": {
      "text/html": [
       "wandb version 0.19.3 is available!  To upgrade, please run:\n",
       " $ pip install wandb --upgrade"
      ],
      "text/plain": [
       "<IPython.core.display.HTML object>"
      ]
     },
     "metadata": {},
     "output_type": "display_data"
    },
    {
     "data": {
      "text/html": [
       "Tracking run with wandb version 0.16.4"
      ],
      "text/plain": [
       "<IPython.core.display.HTML object>"
      ]
     },
     "metadata": {},
     "output_type": "display_data"
    },
    {
     "data": {
      "text/html": [
       "Run data is saved locally in <code>/mnt/alphafold-volume-1/dylan2/repos/tb-pnca-gnn/dd_pnca/wandb/run-20250115_233116-9ts1yasr</code>"
      ],
      "text/plain": [
       "<IPython.core.display.HTML object>"
      ]
     },
     "metadata": {},
     "output_type": "display_data"
    },
    {
     "data": {
      "text/html": [
       "Syncing run <strong><a href='https://wandb.ai/dylan-home/pnca-sweep-1/runs/9ts1yasr' target=\"_blank\">dulcet-sweep-6</a></strong> to <a href='https://wandb.ai/dylan-home/pnca-sweep-1' target=\"_blank\">Weights & Biases</a> (<a href='https://wandb.me/run' target=\"_blank\">docs</a>)<br/>Sweep page: <a href='https://wandb.ai/dylan-home/pnca-sweep-1/sweeps/tr8mwg42' target=\"_blank\">https://wandb.ai/dylan-home/pnca-sweep-1/sweeps/tr8mwg42</a>"
      ],
      "text/plain": [
       "<IPython.core.display.HTML object>"
      ]
     },
     "metadata": {},
     "output_type": "display_data"
    },
    {
     "data": {
      "text/html": [
       " View project at <a href='https://wandb.ai/dylan-home/pnca-sweep-1' target=\"_blank\">https://wandb.ai/dylan-home/pnca-sweep-1</a>"
      ],
      "text/plain": [
       "<IPython.core.display.HTML object>"
      ]
     },
     "metadata": {},
     "output_type": "display_data"
    },
    {
     "data": {
      "text/html": [
       " View sweep at <a href='https://wandb.ai/dylan-home/pnca-sweep-1/sweeps/tr8mwg42' target=\"_blank\">https://wandb.ai/dylan-home/pnca-sweep-1/sweeps/tr8mwg42</a>"
      ],
      "text/plain": [
       "<IPython.core.display.HTML object>"
      ]
     },
     "metadata": {},
     "output_type": "display_data"
    },
    {
     "data": {
      "text/html": [
       " View run at <a href='https://wandb.ai/dylan-home/pnca-sweep-1/runs/9ts1yasr' target=\"_blank\">https://wandb.ai/dylan-home/pnca-sweep-1/runs/9ts1yasr</a>"
      ],
      "text/plain": [
       "<IPython.core.display.HTML object>"
      ]
     },
     "metadata": {},
     "output_type": "display_data"
    },
    {
     "name": "stdout",
     "output_type": "stream",
     "text": [
      "Using CUDA\n",
      "Early stopping enabled. Patience: 20. Min Delta: 0.\n",
      "Epoch: 010, Train Acc: 0.5190, Test Acc: 0.5047, Train Loss: 0.6921, Test Loss: 0.6922\n",
      "Epoch: 020, Train Acc: 0.5223, Test Acc: 0.5103, Train Loss: 0.6906, Test Loss: 0.6910\n",
      "Epoch: 030, Train Acc: 0.4970, Test Acc: 0.4920, Train Loss: 0.6901, Test Loss: 0.6892\n",
      "Epoch: 040, Train Acc: 0.6147, Test Acc: 0.6153, Train Loss: 0.6908, Test Loss: 0.6884\n",
      "Epoch: 050, Train Acc: 0.5904, Test Acc: 0.6160, Train Loss: 0.6898, Test Loss: 0.6869\n",
      "Epoch: 060, Train Acc: 0.5261, Test Acc: 0.5110, Train Loss: 0.6865, Test Loss: 0.6871\n",
      "Epoch: 070, Train Acc: 0.5150, Test Acc: 0.5070, Train Loss: 0.6839, Test Loss: 0.6827\n",
      "Epoch: 080, Train Acc: 0.5923, Test Acc: 0.6320, Train Loss: 0.6856, Test Loss: 0.6810\n",
      "Epoch: 090, Train Acc: 0.5229, Test Acc: 0.5087, Train Loss: 0.6802, Test Loss: 0.6798\n",
      "Epoch: 100, Train Acc: 0.6863, Test Acc: 0.6827, Train Loss: 0.6756, Test Loss: 0.6707\n",
      "Epoch: 110, Train Acc: 0.6076, Test Acc: 0.6507, Train Loss: 0.6758, Test Loss: 0.6688\n",
      "Epoch: 120, Train Acc: 0.4859, Test Acc: 0.4767, Train Loss: 0.6655, Test Loss: 0.6620\n",
      "Epoch: 130, Train Acc: 0.6664, Test Acc: 0.6690, Train Loss: 0.6625, Test Loss: 0.6559\n",
      "Epoch: 140, Train Acc: 0.5044, Test Acc: 0.4770, Train Loss: 0.6571, Test Loss: 0.6552\n",
      "Epoch: 150, Train Acc: 0.5026, Test Acc: 0.4810, Train Loss: 0.6519, Test Loss: 0.6503\n",
      "Epoch: 160, Train Acc: 0.6270, Test Acc: 0.6657, Train Loss: 0.6537, Test Loss: 0.6442\n",
      "Epoch: 170, Train Acc: 0.5224, Test Acc: 0.4917, Train Loss: 0.6483, Test Loss: 0.6502\n",
      "Epoch: 180, Train Acc: 0.7150, Test Acc: 0.6837, Train Loss: 0.6307, Test Loss: 0.6275\n",
      "Epoch: 190, Train Acc: 0.7274, Test Acc: 0.7197, Train Loss: 0.6217, Test Loss: 0.6166\n",
      "Epoch: 200, Train Acc: 0.6810, Test Acc: 0.6740, Train Loss: 0.6217, Test Loss: 0.6129\n",
      "Epoch: 210, Train Acc: 0.7333, Test Acc: 0.6900, Train Loss: 0.6111, Test Loss: 0.6113\n",
      "Epoch: 220, Train Acc: 0.6863, Test Acc: 0.6810, Train Loss: 0.6059, Test Loss: 0.5986\n",
      "Epoch: 230, Train Acc: 0.7516, Test Acc: 0.7210, Train Loss: 0.5935, Test Loss: 0.5936\n",
      "Epoch: 240, Train Acc: 0.7369, Test Acc: 0.7030, Train Loss: 0.5850, Test Loss: 0.5830\n",
      "Epoch: 250, Train Acc: 0.7049, Test Acc: 0.6887, Train Loss: 0.5817, Test Loss: 0.5794\n",
      "Epoch: 260, Train Acc: 0.7549, Test Acc: 0.7253, Train Loss: 0.5743, Test Loss: 0.5787\n",
      "Epoch: 270, Train Acc: 0.5304, Test Acc: 0.4900, Train Loss: 0.6070, Test Loss: 0.6218\n",
      "Epoch: 280, Train Acc: 0.7573, Test Acc: 0.7160, Train Loss: 0.5581, Test Loss: 0.5648\n",
      "Epoch: 290, Train Acc: 0.7253, Test Acc: 0.7123, Train Loss: 0.5550, Test Loss: 0.5595\n",
      "Epoch: 300, Train Acc: 0.7469, Test Acc: 0.7147, Train Loss: 0.5435, Test Loss: 0.5523\n",
      "Epoch: 310, Train Acc: 0.7526, Test Acc: 0.7203, Train Loss: 0.5355, Test Loss: 0.5481\n",
      "Epoch: 320, Train Acc: 0.7626, Test Acc: 0.7170, Train Loss: 0.5642, Test Loss: 0.5854\n",
      "Epoch: 330, Train Acc: 0.5327, Test Acc: 0.4930, Train Loss: 0.6028, Test Loss: 0.6332\n",
      "Epoch: 340, Train Acc: 0.7487, Test Acc: 0.7237, Train Loss: 0.5240, Test Loss: 0.5392\n",
      "Epoch: 350, Train Acc: 0.7287, Test Acc: 0.7120, Train Loss: 0.5268, Test Loss: 0.5407\n",
      "Epoch: 360, Train Acc: 0.7639, Test Acc: 0.7243, Train Loss: 0.5096, Test Loss: 0.5302\n",
      "Epoch: 370, Train Acc: 0.7847, Test Acc: 0.7370, Train Loss: 0.5362, Test Loss: 0.5663\n",
      "Epoch: 380, Train Acc: 0.7843, Test Acc: 0.7383, Train Loss: 0.5074, Test Loss: 0.5360\n",
      "Epoch: 390, Train Acc: 0.7190, Test Acc: 0.7163, Train Loss: 0.5279, Test Loss: 0.5462\n",
      "Epoch: 400, Train Acc: 0.7779, Test Acc: 0.7350, Train Loss: 0.4921, Test Loss: 0.5206\n",
      "Epoch: 410, Train Acc: 0.7460, Test Acc: 0.7273, Train Loss: 0.4990, Test Loss: 0.5257\n",
      "Epoch: 420, Train Acc: 0.7693, Test Acc: 0.7377, Train Loss: 0.4835, Test Loss: 0.5147\n",
      "Epoch: 430, Train Acc: 0.7979, Test Acc: 0.7493, Train Loss: 0.4953, Test Loss: 0.5351\n",
      "Epoch: 440, Train Acc: 0.7361, Test Acc: 0.7287, Train Loss: 0.5066, Test Loss: 0.5332\n",
      "Epoch: 450, Train Acc: 0.7871, Test Acc: 0.7407, Train Loss: 0.4718, Test Loss: 0.5084\n",
      "Epoch: 460, Train Acc: 0.7993, Test Acc: 0.7367, Train Loss: 0.4746, Test Loss: 0.5195\n",
      "Epoch: 470, Train Acc: 0.7993, Test Acc: 0.7383, Train Loss: 0.4701, Test Loss: 0.5164\n",
      "Epoch: 480, Train Acc: 0.7941, Test Acc: 0.7447, Train Loss: 0.4641, Test Loss: 0.5073\n",
      "Epoch: 490, Train Acc: 0.7827, Test Acc: 0.7343, Train Loss: 0.5241, Test Loss: 0.5806\n",
      "Epoch: 500, Train Acc: 0.7671, Test Acc: 0.7403, Train Loss: 0.4723, Test Loss: 0.5146\n"
     ]
    },
    {
     "data": {
      "text/html": [
       "<style>\n",
       "    table.wandb td:nth-child(1) { padding: 0 10px; text-align: left ; width: auto;} td:nth-child(2) {text-align: left ; width: 100%}\n",
       "    .wandb-row { display: flex; flex-direction: row; flex-wrap: wrap; justify-content: flex-start; width: 100% }\n",
       "    .wandb-col { display: flex; flex-direction: column; flex-basis: 100%; flex: 1; padding: 10px; }\n",
       "    </style>\n",
       "<div class=\"wandb-row\"><div class=\"wandb-col\"><h3>Run history:</h3><br/><table class=\"wandb\"><tr><td>Test Accuracy</td><td>▂▄▂▅▂▂▅▂▂▁▆▁▁▁▆▇▁▆▇▆▇▇▇▇▇▇▇▇▇▇▇█████████</td></tr><tr><td>Test F1</td><td>▆▁▆▃▆▆▃▆▆▆▆▆▆▆▇▇▆▅▆▅▇▆▇▆██▆▇▇█▆▇▇▇█▇▇▇█▇</td></tr><tr><td>Test Loss</td><td>███████▇▇▇▇▇▆▆▆▅▅▅▄▅▄▃▃▃▄▄▃▂▂▄▂▂▂▂▃▁▂▁▁▁</td></tr><tr><td>Test Sensitivity</td><td>█▁█▂██▂██▇▄▇▇▇▆▆▇▄▄▃▅▄▅▄▆▇▃▅▅▇▄▆▆▅▇▅▆▅▆▅</td></tr><tr><td>Test Specificity</td><td>▁█▁▇▁▁█▁▁▁▇▁▂▁▅▆▂▇▇█▇▇▇▇▅▅█▇▇▅▇▆▆▇▆▇▆▇▆▇</td></tr><tr><td>Train Accuracy</td><td>▂▂▂▄▂▁▃▂▁▁▅▁▁▁▆▇▁▅▆▅▇▆▇▇▇▇▆▇▇▇▇██▇█▇████</td></tr><tr><td>Train F1</td><td>▆▁▆▃▆▆▃▆▆▆▆▆▆▆▇▇▆▅▆▅▇▆▇▇██▆▇▇█▇██▇█▇███▇</td></tr><tr><td>Train Loss</td><td>████████▇▇▇▇▇▇▆▆▆▅▅▆▅▄▄▄▄▄▄▃▃▄▃▂▂▂▃▂▂▁▁▁</td></tr><tr><td>Train Sensitivity</td><td>█▁█▂██▂██▇▄▇▇█▆▆▇▄▅▃▅▄▅▅▇▇▄▅▅▇▅▆▆▅▇▅▆▆▆▅</td></tr><tr><td>Train Specificity</td><td>▁█▁█▁▁█▁▁▁▇▁▂▁▆▆▂█▇█▇▇▇▇▆▅█▇▇▅█▇▇▇▆▇▇▇▇▇</td></tr></table><br/></div><div class=\"wandb-col\"><h3>Run summary:</h3><br/><table class=\"wandb\"><tr><td>Test Accuracy</td><td>0.74033</td></tr><tr><td>Test F1</td><td>0.69794</td></tr><tr><td>Test Loss</td><td>0.51456</td></tr><tr><td>Test Sensitivity</td><td>0.58708</td></tr><tr><td>Test Specificity</td><td>0.90048</td></tr><tr><td>Train Accuracy</td><td>0.76714</td></tr><tr><td>Train F1</td><td>0.73912</td></tr><tr><td>Train Loss</td><td>0.47228</td></tr><tr><td>Train Sensitivity</td><td>0.62659</td></tr><tr><td>Train Specificity</td><td>0.92338</td></tr></table><br/></div></div>"
      ],
      "text/plain": [
       "<IPython.core.display.HTML object>"
      ]
     },
     "metadata": {},
     "output_type": "display_data"
    },
    {
     "data": {
      "text/html": [
       " View run <strong style=\"color:#cdcd00\">dulcet-sweep-6</strong> at: <a href='https://wandb.ai/dylan-home/pnca-sweep-1/runs/9ts1yasr' target=\"_blank\">https://wandb.ai/dylan-home/pnca-sweep-1/runs/9ts1yasr</a><br/>Synced 5 W&B file(s), 0 media file(s), 0 artifact file(s) and 0 other file(s)"
      ],
      "text/plain": [
       "<IPython.core.display.HTML object>"
      ]
     },
     "metadata": {},
     "output_type": "display_data"
    },
    {
     "data": {
      "text/html": [
       "Find logs at: <code>./wandb/run-20250115_233116-9ts1yasr/logs</code>"
      ],
      "text/plain": [
       "<IPython.core.display.HTML object>"
      ]
     },
     "metadata": {},
     "output_type": "display_data"
    },
    {
     "name": "stderr",
     "output_type": "stream",
     "text": [
      "\u001b[34m\u001b[1mwandb\u001b[0m: Agent Starting Run: ybtkmz8d with config:\n",
      "\u001b[34m\u001b[1mwandb\u001b[0m: \tcutoff_distance: 5.955816986907733\n",
      "\u001b[34m\u001b[1mwandb\u001b[0m: \tdropout: 0.6\n",
      "\u001b[34m\u001b[1mwandb\u001b[0m: \thidden_channels: 384\n",
      "\u001b[34m\u001b[1mwandb\u001b[0m: \tlearning_rate: 0.0003755643099188982\n",
      "\u001b[34m\u001b[1mwandb\u001b[0m: \tweight_decay: 1.4338203370009543e-06\n",
      "Failed to detect the name of this notebook, you can set it manually with the WANDB_NOTEBOOK_NAME environment variable to enable code saving.\n",
      "/usr/lib/python3/dist-packages/requests/__init__.py:87: RequestsDependencyWarning: urllib3 (2.2.3) or chardet (4.0.0) doesn't match a supported version!\n",
      "  warnings.warn(\"urllib3 ({}) or chardet ({}) doesn't match a supported \"\n"
     ]
    },
    {
     "data": {
      "text/html": [
       "wandb version 0.19.3 is available!  To upgrade, please run:\n",
       " $ pip install wandb --upgrade"
      ],
      "text/plain": [
       "<IPython.core.display.HTML object>"
      ]
     },
     "metadata": {},
     "output_type": "display_data"
    },
    {
     "data": {
      "text/html": [
       "Tracking run with wandb version 0.16.4"
      ],
      "text/plain": [
       "<IPython.core.display.HTML object>"
      ]
     },
     "metadata": {},
     "output_type": "display_data"
    },
    {
     "data": {
      "text/html": [
       "Run data is saved locally in <code>/mnt/alphafold-volume-1/dylan2/repos/tb-pnca-gnn/dd_pnca/wandb/run-20250115_234537-ybtkmz8d</code>"
      ],
      "text/plain": [
       "<IPython.core.display.HTML object>"
      ]
     },
     "metadata": {},
     "output_type": "display_data"
    },
    {
     "data": {
      "text/html": [
       "Syncing run <strong><a href='https://wandb.ai/dylan-home/pnca-sweep-1/runs/ybtkmz8d' target=\"_blank\">ethereal-sweep-7</a></strong> to <a href='https://wandb.ai/dylan-home/pnca-sweep-1' target=\"_blank\">Weights & Biases</a> (<a href='https://wandb.me/run' target=\"_blank\">docs</a>)<br/>Sweep page: <a href='https://wandb.ai/dylan-home/pnca-sweep-1/sweeps/tr8mwg42' target=\"_blank\">https://wandb.ai/dylan-home/pnca-sweep-1/sweeps/tr8mwg42</a>"
      ],
      "text/plain": [
       "<IPython.core.display.HTML object>"
      ]
     },
     "metadata": {},
     "output_type": "display_data"
    },
    {
     "data": {
      "text/html": [
       " View project at <a href='https://wandb.ai/dylan-home/pnca-sweep-1' target=\"_blank\">https://wandb.ai/dylan-home/pnca-sweep-1</a>"
      ],
      "text/plain": [
       "<IPython.core.display.HTML object>"
      ]
     },
     "metadata": {},
     "output_type": "display_data"
    },
    {
     "data": {
      "text/html": [
       " View sweep at <a href='https://wandb.ai/dylan-home/pnca-sweep-1/sweeps/tr8mwg42' target=\"_blank\">https://wandb.ai/dylan-home/pnca-sweep-1/sweeps/tr8mwg42</a>"
      ],
      "text/plain": [
       "<IPython.core.display.HTML object>"
      ]
     },
     "metadata": {},
     "output_type": "display_data"
    },
    {
     "data": {
      "text/html": [
       " View run at <a href='https://wandb.ai/dylan-home/pnca-sweep-1/runs/ybtkmz8d' target=\"_blank\">https://wandb.ai/dylan-home/pnca-sweep-1/runs/ybtkmz8d</a>"
      ],
      "text/plain": [
       "<IPython.core.display.HTML object>"
      ]
     },
     "metadata": {},
     "output_type": "display_data"
    },
    {
     "name": "stdout",
     "output_type": "stream",
     "text": [
      "Using CUDA\n",
      "Early stopping enabled. Patience: 20. Min Delta: 0.\n",
      "Epoch: 010, Train Acc: 0.5264, Test Acc: 0.5110, Train Loss: 0.6908, Test Loss: 0.6921\n",
      "Epoch: 020, Train Acc: 0.5264, Test Acc: 0.5110, Train Loss: 0.6906, Test Loss: 0.6917\n",
      "Epoch: 030, Train Acc: 0.5264, Test Acc: 0.5110, Train Loss: 0.6894, Test Loss: 0.6908\n",
      "Epoch: 040, Train Acc: 0.5264, Test Acc: 0.5110, Train Loss: 0.6882, Test Loss: 0.6902\n",
      "Epoch: 050, Train Acc: 0.5217, Test Acc: 0.5027, Train Loss: 0.6865, Test Loss: 0.6873\n",
      "Epoch: 060, Train Acc: 0.4887, Test Acc: 0.4813, Train Loss: 0.6835, Test Loss: 0.6834\n",
      "Epoch: 070, Train Acc: 0.5079, Test Acc: 0.4847, Train Loss: 0.6793, Test Loss: 0.6794\n",
      "Epoch: 080, Train Acc: 0.5264, Test Acc: 0.5107, Train Loss: 0.6740, Test Loss: 0.6777\n",
      "Epoch: 090, Train Acc: 0.7340, Test Acc: 0.7040, Train Loss: 0.6573, Test Loss: 0.6575\n",
      "Epoch: 100, Train Acc: 0.7093, Test Acc: 0.6963, Train Loss: 0.6299, Test Loss: 0.6264\n",
      "Epoch: 110, Train Acc: 0.6810, Test Acc: 0.6843, Train Loss: 0.6132, Test Loss: 0.6103\n",
      "Epoch: 120, Train Acc: 0.7164, Test Acc: 0.7057, Train Loss: 0.6183, Test Loss: 0.6200\n",
      "Epoch: 130, Train Acc: 0.6261, Test Acc: 0.6380, Train Loss: 0.6391, Test Loss: 0.6386\n",
      "Epoch: 140, Train Acc: 0.7386, Test Acc: 0.7127, Train Loss: 0.5641, Test Loss: 0.5812\n",
      "Epoch: 150, Train Acc: 0.7449, Test Acc: 0.7217, Train Loss: 0.5237, Test Loss: 0.5541\n",
      "Epoch: 160, Train Acc: 0.7567, Test Acc: 0.7293, Train Loss: 0.5127, Test Loss: 0.5528\n",
      "Epoch: 170, Train Acc: 0.7903, Test Acc: 0.7360, Train Loss: 0.4811, Test Loss: 0.5475\n",
      "Epoch: 180, Train Acc: 0.7893, Test Acc: 0.7363, Train Loss: 0.4943, Test Loss: 0.5424\n",
      "Epoch: 190, Train Acc: 0.7901, Test Acc: 0.7423, Train Loss: 0.4463, Test Loss: 0.5317\n",
      "Epoch: 200, Train Acc: 0.7599, Test Acc: 0.7137, Train Loss: 0.4788, Test Loss: 0.5579\n",
      "Epoch: 210, Train Acc: 0.7866, Test Acc: 0.7310, Train Loss: 0.4428, Test Loss: 0.5543\n",
      "Epoch: 220, Train Acc: 0.7909, Test Acc: 0.7377, Train Loss: 0.4425, Test Loss: 0.5626\n",
      "Epoch: 230, Train Acc: 0.8343, Test Acc: 0.7613, Train Loss: 0.4009, Test Loss: 0.5704\n",
      "20 epochs passed without 0 test loss improvement. \n",
      "Early stopping triggered.\n"
     ]
    },
    {
     "data": {
      "text/html": [
       "<style>\n",
       "    table.wandb td:nth-child(1) { padding: 0 10px; text-align: left ; width: auto;} td:nth-child(2) {text-align: left ; width: 100%}\n",
       "    .wandb-row { display: flex; flex-direction: row; flex-wrap: wrap; justify-content: flex-start; width: 100% }\n",
       "    .wandb-col { display: flex; flex-direction: column; flex-basis: 100%; flex: 1; padding: 10px; }\n",
       "    </style>\n",
       "<div class=\"wandb-row\"><div class=\"wandb-col\"><h3>Run history:</h3><br/><table class=\"wandb\"><tr><td>Test Accuracy</td><td>▂▁▂▂▂▂▂▁▂▂▁▂▂▂▂▇▂▆▂▁▅▇▅▅▇▆▆▂▇▇█▇▇▇▇▇█▇██</td></tr><tr><td>Test F1</td><td>▇▁▇▇▇▇▇▇▇▇▇▇▇▇▇▇▇▇▇▇▆█▅▅▇▆▆▇███▇▇▇▇▇█▇██</td></tr><tr><td>Test Loss</td><td>▇▇▆▆▆▆▆▆▆▆▆▆▆█▆▅▆▄▆▄▄▃▅▄▂▃▃▅▂▂▁▂▂▂▂▂▁▂▂▂</td></tr><tr><td>Test Sensitivity</td><td>█▁█████▇██▇████▆█▅█▇▄▆▃▃▅▄▄█▆▆▆▅▅▅▅▅▆▅▇▇</td></tr><tr><td>Test Specificity</td><td>▁█▁▁▁▁▁▂▁▁▂▁▁▁▁▆▁▇▁▂█▆██▇██▁▆▆▆▇▇█▇▇▇▇▆▆</td></tr><tr><td>Train Accuracy</td><td>▂▁▂▂▂▂▂▁▂▂▁▂▂▂▂▆▂▆▂▂▄▆▄▄▆▅▆▂▇▇▇▆▆▇▇▇█▇██</td></tr><tr><td>Train F1</td><td>▇▁▇▇▇▇▇▆▇▇▆▇▇▇▇▇▇▆▇▆▅▇▅▅▇▆▆▇███▇▇▇▇▇█▇██</td></tr><tr><td>Train Loss</td><td>▇▇▇▇▇▇▇▇▇▇▇▇▇█▇▆▇▆▇▆▆▅▆▆▄▄▄▅▃▃▂▃▃▃▃▂▁▁▂▁</td></tr><tr><td>Train Sensitivity</td><td>█▁█████▇██▇████▆█▅█▇▃▆▃▃▅▄▄█▆▆▆▅▅▅▅▅▆▆▇▇</td></tr><tr><td>Train Specificity</td><td>▁█▁▁▁▁▁▁▁▁▂▁▁▁▁▆▁▇▁▂█▆██▇██▁▇▇▇█████▇█▆▇</td></tr></table><br/></div><div class=\"wandb-col\"><h3>Run summary:</h3><br/><table class=\"wandb\"><tr><td>Test Accuracy</td><td>0.76133</td></tr><tr><td>Test F1</td><td>0.76291</td></tr><tr><td>Test Loss</td><td>0.54871</td></tr><tr><td>Test Sensitivity</td><td>0.75147</td></tr><tr><td>Test Specificity</td><td>0.77164</td></tr><tr><td>Train Accuracy</td><td>0.84329</td></tr><tr><td>Train F1</td><td>0.84322</td></tr><tr><td>Train Loss</td><td>0.37796</td></tr><tr><td>Train Sensitivity</td><td>0.80054</td></tr><tr><td>Train Specificity</td><td>0.8908</td></tr></table><br/></div></div>"
      ],
      "text/plain": [
       "<IPython.core.display.HTML object>"
      ]
     },
     "metadata": {},
     "output_type": "display_data"
    },
    {
     "data": {
      "text/html": [
       " View run <strong style=\"color:#cdcd00\">ethereal-sweep-7</strong> at: <a href='https://wandb.ai/dylan-home/pnca-sweep-1/runs/ybtkmz8d' target=\"_blank\">https://wandb.ai/dylan-home/pnca-sweep-1/runs/ybtkmz8d</a><br/>Synced 5 W&B file(s), 0 media file(s), 0 artifact file(s) and 0 other file(s)"
      ],
      "text/plain": [
       "<IPython.core.display.HTML object>"
      ]
     },
     "metadata": {},
     "output_type": "display_data"
    },
    {
     "data": {
      "text/html": [
       "Find logs at: <code>./wandb/run-20250115_234537-ybtkmz8d/logs</code>"
      ],
      "text/plain": [
       "<IPython.core.display.HTML object>"
      ]
     },
     "metadata": {},
     "output_type": "display_data"
    },
    {
     "name": "stderr",
     "output_type": "stream",
     "text": [
      "\u001b[34m\u001b[1mwandb\u001b[0m: Agent Starting Run: oewpth3b with config:\n",
      "\u001b[34m\u001b[1mwandb\u001b[0m: \tcutoff_distance: 9.37207754787348\n",
      "\u001b[34m\u001b[1mwandb\u001b[0m: \tdropout: 0.5\n",
      "\u001b[34m\u001b[1mwandb\u001b[0m: \thidden_channels: 256\n",
      "\u001b[34m\u001b[1mwandb\u001b[0m: \tlearning_rate: 0.004168095475713619\n",
      "\u001b[34m\u001b[1mwandb\u001b[0m: \tweight_decay: 9.308657881266846e-05\n",
      "Failed to detect the name of this notebook, you can set it manually with the WANDB_NOTEBOOK_NAME environment variable to enable code saving.\n",
      "/usr/lib/python3/dist-packages/requests/__init__.py:87: RequestsDependencyWarning: urllib3 (2.2.3) or chardet (4.0.0) doesn't match a supported version!\n",
      "  warnings.warn(\"urllib3 ({}) or chardet ({}) doesn't match a supported \"\n"
     ]
    },
    {
     "data": {
      "text/html": [
       "wandb version 0.19.3 is available!  To upgrade, please run:\n",
       " $ pip install wandb --upgrade"
      ],
      "text/plain": [
       "<IPython.core.display.HTML object>"
      ]
     },
     "metadata": {},
     "output_type": "display_data"
    },
    {
     "data": {
      "text/html": [
       "Tracking run with wandb version 0.16.4"
      ],
      "text/plain": [
       "<IPython.core.display.HTML object>"
      ]
     },
     "metadata": {},
     "output_type": "display_data"
    },
    {
     "data": {
      "text/html": [
       "Run data is saved locally in <code>/mnt/alphafold-volume-1/dylan2/repos/tb-pnca-gnn/dd_pnca/wandb/run-20250115_235510-oewpth3b</code>"
      ],
      "text/plain": [
       "<IPython.core.display.HTML object>"
      ]
     },
     "metadata": {},
     "output_type": "display_data"
    },
    {
     "data": {
      "text/html": [
       "Syncing run <strong><a href='https://wandb.ai/dylan-home/pnca-sweep-1/runs/oewpth3b' target=\"_blank\">sunny-sweep-8</a></strong> to <a href='https://wandb.ai/dylan-home/pnca-sweep-1' target=\"_blank\">Weights & Biases</a> (<a href='https://wandb.me/run' target=\"_blank\">docs</a>)<br/>Sweep page: <a href='https://wandb.ai/dylan-home/pnca-sweep-1/sweeps/tr8mwg42' target=\"_blank\">https://wandb.ai/dylan-home/pnca-sweep-1/sweeps/tr8mwg42</a>"
      ],
      "text/plain": [
       "<IPython.core.display.HTML object>"
      ]
     },
     "metadata": {},
     "output_type": "display_data"
    },
    {
     "data": {
      "text/html": [
       " View project at <a href='https://wandb.ai/dylan-home/pnca-sweep-1' target=\"_blank\">https://wandb.ai/dylan-home/pnca-sweep-1</a>"
      ],
      "text/plain": [
       "<IPython.core.display.HTML object>"
      ]
     },
     "metadata": {},
     "output_type": "display_data"
    },
    {
     "data": {
      "text/html": [
       " View sweep at <a href='https://wandb.ai/dylan-home/pnca-sweep-1/sweeps/tr8mwg42' target=\"_blank\">https://wandb.ai/dylan-home/pnca-sweep-1/sweeps/tr8mwg42</a>"
      ],
      "text/plain": [
       "<IPython.core.display.HTML object>"
      ]
     },
     "metadata": {},
     "output_type": "display_data"
    },
    {
     "data": {
      "text/html": [
       " View run at <a href='https://wandb.ai/dylan-home/pnca-sweep-1/runs/oewpth3b' target=\"_blank\">https://wandb.ai/dylan-home/pnca-sweep-1/runs/oewpth3b</a>"
      ],
      "text/plain": [
       "<IPython.core.display.HTML object>"
      ]
     },
     "metadata": {},
     "output_type": "display_data"
    },
    {
     "name": "stdout",
     "output_type": "stream",
     "text": [
      "Using CUDA\n",
      "Early stopping enabled. Patience: 20. Min Delta: 0.\n",
      "Epoch: 010, Train Acc: 0.5264, Test Acc: 0.5110, Train Loss: 0.6919, Test Loss: 0.6937\n",
      "Epoch: 020, Train Acc: 0.5264, Test Acc: 0.5110, Train Loss: 0.6919, Test Loss: 0.6936\n",
      "Epoch: 030, Train Acc: 0.5264, Test Acc: 0.5110, Train Loss: 0.6921, Test Loss: 0.6929\n",
      "Epoch: 040, Train Acc: 0.5264, Test Acc: 0.5110, Train Loss: 0.6918, Test Loss: 0.6932\n",
      "20 epochs passed without 0 test loss improvement. \n",
      "Early stopping triggered.\n"
     ]
    },
    {
     "data": {
      "text/html": [
       "<style>\n",
       "    table.wandb td:nth-child(1) { padding: 0 10px; text-align: left ; width: auto;} td:nth-child(2) {text-align: left ; width: 100%}\n",
       "    .wandb-row { display: flex; flex-direction: row; flex-wrap: wrap; justify-content: flex-start; width: 100% }\n",
       "    .wandb-col { display: flex; flex-direction: column; flex-basis: 100%; flex: 1; padding: 10px; }\n",
       "    </style>\n",
       "<div class=\"wandb-row\"><div class=\"wandb-col\"><h3>Run history:</h3><br/><table class=\"wandb\"><tr><td>Test Accuracy</td><td>▁███████████████████████████████████████</td></tr><tr><td>Test F1</td><td>▁███████████████████████████████████████</td></tr><tr><td>Test Loss</td><td>█▃▂▂▂▁▂▂▂▃▃▂▂▂▄▂▂▁▁▃▁▃▂▂▃▂▂▁▅▁▄▂▃▁▃▁▄▃▂▄</td></tr><tr><td>Test Sensitivity</td><td>▁███████████████████████████████████████</td></tr><tr><td>Test Specificity</td><td>█▁▁▁▁▁▁▁▁▁▁▁▁▁▁▁▁▁▁▁▁▁▁▁▁▁▁▁▁▁▁▁▁▁▁▁▁▁▁▁</td></tr><tr><td>Train Accuracy</td><td>▁███████████████████████████████████████</td></tr><tr><td>Train F1</td><td>▁███████████████████████████████████████</td></tr><tr><td>Train Loss</td><td>█▂▁▁▁▁▂▁▂▂▂▂▁▁▁▂▁▂▁▂▂▁▁▂▂▁▁▁▂▂▂▁▁▁▂▁▂▁▁▂</td></tr><tr><td>Train Sensitivity</td><td>▁███████████████████████████████████████</td></tr><tr><td>Train Specificity</td><td>█▁▁▁▁▁▁▁▁▁▁▁▁▁▁▁▁▁▁▁▁▁▁▁▁▁▁▁▁▁▁▁▁▁▁▁▁▁▁▁</td></tr></table><br/></div><div class=\"wandb-col\"><h3>Run summary:</h3><br/><table class=\"wandb\"><tr><td>Test Accuracy</td><td>0.511</td></tr><tr><td>Test F1</td><td>0.67637</td></tr><tr><td>Test Loss</td><td>0.6942</td></tr><tr><td>Test Sensitivity</td><td>1.0</td></tr><tr><td>Test Specificity</td><td>0.0</td></tr><tr><td>Train Accuracy</td><td>0.52643</td></tr><tr><td>Train F1</td><td>0.68975</td></tr><tr><td>Train Loss</td><td>0.69239</td></tr><tr><td>Train Sensitivity</td><td>1.0</td></tr><tr><td>Train Specificity</td><td>0.0</td></tr></table><br/></div></div>"
      ],
      "text/plain": [
       "<IPython.core.display.HTML object>"
      ]
     },
     "metadata": {},
     "output_type": "display_data"
    },
    {
     "data": {
      "text/html": [
       " View run <strong style=\"color:#cdcd00\">sunny-sweep-8</strong> at: <a href='https://wandb.ai/dylan-home/pnca-sweep-1/runs/oewpth3b' target=\"_blank\">https://wandb.ai/dylan-home/pnca-sweep-1/runs/oewpth3b</a><br/>Synced 5 W&B file(s), 0 media file(s), 0 artifact file(s) and 0 other file(s)"
      ],
      "text/plain": [
       "<IPython.core.display.HTML object>"
      ]
     },
     "metadata": {},
     "output_type": "display_data"
    },
    {
     "data": {
      "text/html": [
       "Find logs at: <code>./wandb/run-20250115_235510-oewpth3b/logs</code>"
      ],
      "text/plain": [
       "<IPython.core.display.HTML object>"
      ]
     },
     "metadata": {},
     "output_type": "display_data"
    },
    {
     "name": "stderr",
     "output_type": "stream",
     "text": [
      "\u001b[34m\u001b[1mwandb\u001b[0m: Agent Starting Run: xpslsfcw with config:\n",
      "\u001b[34m\u001b[1mwandb\u001b[0m: \tcutoff_distance: 3.8076662116330393\n",
      "\u001b[34m\u001b[1mwandb\u001b[0m: \tdropout: 0.4\n",
      "\u001b[34m\u001b[1mwandb\u001b[0m: \thidden_channels: 384\n",
      "\u001b[34m\u001b[1mwandb\u001b[0m: \tlearning_rate: 0.00011106649978709124\n",
      "\u001b[34m\u001b[1mwandb\u001b[0m: \tweight_decay: 2.3138511932782547e-05\n",
      "Failed to detect the name of this notebook, you can set it manually with the WANDB_NOTEBOOK_NAME environment variable to enable code saving.\n",
      "/usr/lib/python3/dist-packages/requests/__init__.py:87: RequestsDependencyWarning: urllib3 (2.2.3) or chardet (4.0.0) doesn't match a supported version!\n",
      "  warnings.warn(\"urllib3 ({}) or chardet ({}) doesn't match a supported \"\n"
     ]
    },
    {
     "data": {
      "text/html": [
       "wandb version 0.19.3 is available!  To upgrade, please run:\n",
       " $ pip install wandb --upgrade"
      ],
      "text/plain": [
       "<IPython.core.display.HTML object>"
      ]
     },
     "metadata": {},
     "output_type": "display_data"
    },
    {
     "data": {
      "text/html": [
       "Tracking run with wandb version 0.16.4"
      ],
      "text/plain": [
       "<IPython.core.display.HTML object>"
      ]
     },
     "metadata": {},
     "output_type": "display_data"
    },
    {
     "data": {
      "text/html": [
       "Run data is saved locally in <code>/mnt/alphafold-volume-1/dylan2/repos/tb-pnca-gnn/dd_pnca/wandb/run-20250115_235648-xpslsfcw</code>"
      ],
      "text/plain": [
       "<IPython.core.display.HTML object>"
      ]
     },
     "metadata": {},
     "output_type": "display_data"
    },
    {
     "data": {
      "text/html": [
       "Syncing run <strong><a href='https://wandb.ai/dylan-home/pnca-sweep-1/runs/xpslsfcw' target=\"_blank\">worldly-sweep-9</a></strong> to <a href='https://wandb.ai/dylan-home/pnca-sweep-1' target=\"_blank\">Weights & Biases</a> (<a href='https://wandb.me/run' target=\"_blank\">docs</a>)<br/>Sweep page: <a href='https://wandb.ai/dylan-home/pnca-sweep-1/sweeps/tr8mwg42' target=\"_blank\">https://wandb.ai/dylan-home/pnca-sweep-1/sweeps/tr8mwg42</a>"
      ],
      "text/plain": [
       "<IPython.core.display.HTML object>"
      ]
     },
     "metadata": {},
     "output_type": "display_data"
    },
    {
     "data": {
      "text/html": [
       " View project at <a href='https://wandb.ai/dylan-home/pnca-sweep-1' target=\"_blank\">https://wandb.ai/dylan-home/pnca-sweep-1</a>"
      ],
      "text/plain": [
       "<IPython.core.display.HTML object>"
      ]
     },
     "metadata": {},
     "output_type": "display_data"
    },
    {
     "data": {
      "text/html": [
       " View sweep at <a href='https://wandb.ai/dylan-home/pnca-sweep-1/sweeps/tr8mwg42' target=\"_blank\">https://wandb.ai/dylan-home/pnca-sweep-1/sweeps/tr8mwg42</a>"
      ],
      "text/plain": [
       "<IPython.core.display.HTML object>"
      ]
     },
     "metadata": {},
     "output_type": "display_data"
    },
    {
     "data": {
      "text/html": [
       " View run at <a href='https://wandb.ai/dylan-home/pnca-sweep-1/runs/xpslsfcw' target=\"_blank\">https://wandb.ai/dylan-home/pnca-sweep-1/runs/xpslsfcw</a>"
      ],
      "text/plain": [
       "<IPython.core.display.HTML object>"
      ]
     },
     "metadata": {},
     "output_type": "display_data"
    },
    {
     "name": "stdout",
     "output_type": "stream",
     "text": [
      "Using CUDA\n",
      "Early stopping enabled. Patience: 20. Min Delta: 0.\n",
      "Epoch: 010, Train Acc: 0.4959, Test Acc: 0.5317, Train Loss: 0.6924, Test Loss: 0.6886\n",
      "Epoch: 020, Train Acc: 0.5256, Test Acc: 0.5110, Train Loss: 0.6837, Test Loss: 0.6831\n",
      "Epoch: 030, Train Acc: 0.5264, Test Acc: 0.5110, Train Loss: 0.7069, Test Loss: 0.7128\n",
      "Epoch: 040, Train Acc: 0.5417, Test Acc: 0.6137, Train Loss: 0.6866, Test Loss: 0.6743\n",
      "Epoch: 050, Train Acc: 0.6900, Test Acc: 0.6717, Train Loss: 0.6727, Test Loss: 0.6633\n",
      "Epoch: 060, Train Acc: 0.5060, Test Acc: 0.4897, Train Loss: 0.6735, Test Loss: 0.6690\n",
      "Epoch: 070, Train Acc: 0.4923, Test Acc: 0.4803, Train Loss: 0.6661, Test Loss: 0.6598\n",
      "Epoch: 080, Train Acc: 0.4919, Test Acc: 0.4710, Train Loss: 0.6608, Test Loss: 0.6535\n",
      "Epoch: 090, Train Acc: 0.5121, Test Acc: 0.4893, Train Loss: 0.6624, Test Loss: 0.6604\n",
      "Epoch: 100, Train Acc: 0.5701, Test Acc: 0.6463, Train Loss: 0.6741, Test Loss: 0.6520\n",
      "Epoch: 110, Train Acc: 0.6574, Test Acc: 0.6690, Train Loss: 0.6434, Test Loss: 0.6270\n",
      "Epoch: 120, Train Acc: 0.6640, Test Acc: 0.6740, Train Loss: 0.6373, Test Loss: 0.6215\n",
      "Epoch: 130, Train Acc: 0.6347, Test Acc: 0.6687, Train Loss: 0.6400, Test Loss: 0.6193\n",
      "Epoch: 140, Train Acc: 0.5299, Test Acc: 0.4983, Train Loss: 0.6117, Test Loss: 0.6159\n",
      "Epoch: 150, Train Acc: 0.7316, Test Acc: 0.7060, Train Loss: 0.5968, Test Loss: 0.5927\n",
      "Epoch: 160, Train Acc: 0.5241, Test Acc: 0.5003, Train Loss: 0.6101, Test Loss: 0.6274\n",
      "Epoch: 170, Train Acc: 0.7636, Test Acc: 0.7240, Train Loss: 0.5620, Test Loss: 0.5720\n",
      "Epoch: 180, Train Acc: 0.7676, Test Acc: 0.7327, Train Loss: 0.5615, Test Loss: 0.5735\n",
      "Epoch: 190, Train Acc: 0.6824, Test Acc: 0.6907, Train Loss: 0.5865, Test Loss: 0.5867\n",
      "Epoch: 200, Train Acc: 0.6997, Test Acc: 0.7077, Train Loss: 0.5634, Test Loss: 0.5710\n",
      "Epoch: 210, Train Acc: 0.5310, Test Acc: 0.5037, Train Loss: 0.6359, Test Loss: 0.6908\n",
      "Epoch: 220, Train Acc: 0.7489, Test Acc: 0.7180, Train Loss: 0.5140, Test Loss: 0.5432\n",
      "Epoch: 230, Train Acc: 0.7957, Test Acc: 0.7480, Train Loss: 0.4943, Test Loss: 0.5527\n",
      "Epoch: 240, Train Acc: 0.7756, Test Acc: 0.7287, Train Loss: 0.4834, Test Loss: 0.5316\n",
      "Epoch: 250, Train Acc: 0.7657, Test Acc: 0.7267, Train Loss: 0.4787, Test Loss: 0.5310\n",
      "Epoch: 260, Train Acc: 0.8080, Test Acc: 0.7430, Train Loss: 0.4685, Test Loss: 0.5478\n",
      "Epoch: 270, Train Acc: 0.7917, Test Acc: 0.7350, Train Loss: 0.4548, Test Loss: 0.5241\n",
      "Epoch: 280, Train Acc: 0.8016, Test Acc: 0.7357, Train Loss: 0.4367, Test Loss: 0.5206\n",
      "Epoch: 290, Train Acc: 0.7780, Test Acc: 0.7323, Train Loss: 0.4550, Test Loss: 0.5326\n",
      "Epoch: 300, Train Acc: 0.8254, Test Acc: 0.7480, Train Loss: 0.4151, Test Loss: 0.5293\n",
      "Epoch: 310, Train Acc: 0.7466, Test Acc: 0.7260, Train Loss: 0.5084, Test Loss: 0.5668\n",
      "20 epochs passed without 0 test loss improvement. \n",
      "Early stopping triggered.\n"
     ]
    },
    {
     "data": {
      "text/html": [
       "<style>\n",
       "    table.wandb td:nth-child(1) { padding: 0 10px; text-align: left ; width: auto;} td:nth-child(2) {text-align: left ; width: 100%}\n",
       "    .wandb-row { display: flex; flex-direction: row; flex-wrap: wrap; justify-content: flex-start; width: 100% }\n",
       "    .wandb-col { display: flex; flex-direction: column; flex-basis: 100%; flex: 1; padding: 10px; }\n",
       "    </style>\n",
       "<div class=\"wandb-row\"><div class=\"wandb-col\"><h3>Run history:</h3><br/><table class=\"wandb\"><tr><td>Test Accuracy</td><td>▂▂▂▅▂▅▆▂▆▁▁▆▆▆▇▆▇▇▆▆▂▇█▇█▇▂▇▇███▇▇██████</td></tr><tr><td>Test F1</td><td>▆▆▆▂▆▁▅▆▅▆▅▆▇▄▇▅▅▆▃▄▆█▇▅█▆▆▆▆▇▇▇█▆▆▇▇▇█▇</td></tr><tr><td>Test Loss</td><td>█▇▇▆▇▆▆▇▆▆▅▅▅▅▄▄▄▄▅▄▅▄▃▃▂▃▄▂▂▁▁▁▄▂▂▁▁▁▁▂</td></tr><tr><td>Test Sensitivity</td><td>███▁█▁▄█▃▇▆▅▅▃▅▃▃▄▂▂▇▆▅▃▆▃▇▃▄▅▄▄▇▄▄▅▅▄▅▄</td></tr><tr><td>Test Specificity</td><td>▁▁▁█▁█▇▁▇▁▂▆▅▇▆▇▇▇██▁▅▇█▆█▂█▇▇▇▇▅▇█▇▇▇▇▇</td></tr><tr><td>Train Accuracy</td><td>▂▂▂▂▂▂▅▂▅▁▁▅▅▅▆▅▅▆▃▄▂▆▇▅▇▅▃▆▆▇▇▇▇▆▆██▇█▇</td></tr><tr><td>Train F1</td><td>▆▆▆▁▆▁▆▆▅▆▆▇▇▅▇▅▅▇▃▄▆█▇▅█▆▆▆▆▇▇▇█▇▇██▇█▇</td></tr><tr><td>Train Loss</td><td>█▇█▇▇▇▇█▇▇▇▇▆▆▆▆▆▅▇▆▅▅▄▅▄▄▄▄▄▂▃▂▄▃▃▁▁▂▁▂</td></tr><tr><td>Train Sensitivity</td><td>███▁█▁▄█▄█▆▅▆▃▅▃▄▅▂▃▇▇▅▃▆▄▇▄▄▅▅▅▇▄▄▆▆▅▆▅</td></tr><tr><td>Train Specificity</td><td>▁▁▁█▁█▇▁▇▁▂▆▆█▇██▇██▂▆▇█▇█▂██▇██▅███▇█▇█</td></tr></table><br/></div><div class=\"wandb-col\"><h3>Run summary:</h3><br/><table class=\"wandb\"><tr><td>Test Accuracy</td><td>0.74133</td></tr><tr><td>Test F1</td><td>0.7281</td></tr><tr><td>Test Loss</td><td>0.5221</td></tr><tr><td>Test Sensitivity</td><td>0.67776</td></tr><tr><td>Test Specificity</td><td>0.80777</td></tr><tr><td>Train Accuracy</td><td>0.81257</td></tr><tr><td>Train F1</td><td>0.80043</td></tr><tr><td>Train Loss</td><td>0.40956</td></tr><tr><td>Train Sensitivity</td><td>0.71398</td></tr><tr><td>Train Specificity</td><td>0.92217</td></tr></table><br/></div></div>"
      ],
      "text/plain": [
       "<IPython.core.display.HTML object>"
      ]
     },
     "metadata": {},
     "output_type": "display_data"
    },
    {
     "data": {
      "text/html": [
       " View run <strong style=\"color:#cdcd00\">worldly-sweep-9</strong> at: <a href='https://wandb.ai/dylan-home/pnca-sweep-1/runs/xpslsfcw' target=\"_blank\">https://wandb.ai/dylan-home/pnca-sweep-1/runs/xpslsfcw</a><br/>Synced 5 W&B file(s), 0 media file(s), 0 artifact file(s) and 0 other file(s)"
      ],
      "text/plain": [
       "<IPython.core.display.HTML object>"
      ]
     },
     "metadata": {},
     "output_type": "display_data"
    },
    {
     "data": {
      "text/html": [
       "Find logs at: <code>./wandb/run-20250115_235648-xpslsfcw/logs</code>"
      ],
      "text/plain": [
       "<IPython.core.display.HTML object>"
      ]
     },
     "metadata": {},
     "output_type": "display_data"
    },
    {
     "name": "stderr",
     "output_type": "stream",
     "text": [
      "\u001b[34m\u001b[1mwandb\u001b[0m: Agent Starting Run: ibyixtb7 with config:\n",
      "\u001b[34m\u001b[1mwandb\u001b[0m: \tcutoff_distance: 3.8532200411235737\n",
      "\u001b[34m\u001b[1mwandb\u001b[0m: \tdropout: 0.5\n",
      "\u001b[34m\u001b[1mwandb\u001b[0m: \thidden_channels: 128\n",
      "\u001b[34m\u001b[1mwandb\u001b[0m: \tlearning_rate: 0.0007749698577799464\n",
      "\u001b[34m\u001b[1mwandb\u001b[0m: \tweight_decay: 1.100775325040594e-06\n",
      "Failed to detect the name of this notebook, you can set it manually with the WANDB_NOTEBOOK_NAME environment variable to enable code saving.\n",
      "/usr/lib/python3/dist-packages/requests/__init__.py:87: RequestsDependencyWarning: urllib3 (2.2.3) or chardet (4.0.0) doesn't match a supported version!\n",
      "  warnings.warn(\"urllib3 ({}) or chardet ({}) doesn't match a supported \"\n"
     ]
    },
    {
     "data": {
      "text/html": [
       "wandb version 0.19.3 is available!  To upgrade, please run:\n",
       " $ pip install wandb --upgrade"
      ],
      "text/plain": [
       "<IPython.core.display.HTML object>"
      ]
     },
     "metadata": {},
     "output_type": "display_data"
    },
    {
     "data": {
      "text/html": [
       "Tracking run with wandb version 0.16.4"
      ],
      "text/plain": [
       "<IPython.core.display.HTML object>"
      ]
     },
     "metadata": {},
     "output_type": "display_data"
    },
    {
     "data": {
      "text/html": [
       "Run data is saved locally in <code>/mnt/alphafold-volume-1/dylan2/repos/tb-pnca-gnn/dd_pnca/wandb/run-20250116_000921-ibyixtb7</code>"
      ],
      "text/plain": [
       "<IPython.core.display.HTML object>"
      ]
     },
     "metadata": {},
     "output_type": "display_data"
    },
    {
     "data": {
      "text/html": [
       "Syncing run <strong><a href='https://wandb.ai/dylan-home/pnca-sweep-1/runs/ibyixtb7' target=\"_blank\">visionary-sweep-10</a></strong> to <a href='https://wandb.ai/dylan-home/pnca-sweep-1' target=\"_blank\">Weights & Biases</a> (<a href='https://wandb.me/run' target=\"_blank\">docs</a>)<br/>Sweep page: <a href='https://wandb.ai/dylan-home/pnca-sweep-1/sweeps/tr8mwg42' target=\"_blank\">https://wandb.ai/dylan-home/pnca-sweep-1/sweeps/tr8mwg42</a>"
      ],
      "text/plain": [
       "<IPython.core.display.HTML object>"
      ]
     },
     "metadata": {},
     "output_type": "display_data"
    },
    {
     "data": {
      "text/html": [
       " View project at <a href='https://wandb.ai/dylan-home/pnca-sweep-1' target=\"_blank\">https://wandb.ai/dylan-home/pnca-sweep-1</a>"
      ],
      "text/plain": [
       "<IPython.core.display.HTML object>"
      ]
     },
     "metadata": {},
     "output_type": "display_data"
    },
    {
     "data": {
      "text/html": [
       " View sweep at <a href='https://wandb.ai/dylan-home/pnca-sweep-1/sweeps/tr8mwg42' target=\"_blank\">https://wandb.ai/dylan-home/pnca-sweep-1/sweeps/tr8mwg42</a>"
      ],
      "text/plain": [
       "<IPython.core.display.HTML object>"
      ]
     },
     "metadata": {},
     "output_type": "display_data"
    },
    {
     "data": {
      "text/html": [
       " View run at <a href='https://wandb.ai/dylan-home/pnca-sweep-1/runs/ibyixtb7' target=\"_blank\">https://wandb.ai/dylan-home/pnca-sweep-1/runs/ibyixtb7</a>"
      ],
      "text/plain": [
       "<IPython.core.display.HTML object>"
      ]
     },
     "metadata": {},
     "output_type": "display_data"
    },
    {
     "name": "stdout",
     "output_type": "stream",
     "text": [
      "Using CUDA\n",
      "Early stopping enabled. Patience: 20. Min Delta: 0.\n",
      "Epoch: 010, Train Acc: 0.5264, Test Acc: 0.5110, Train Loss: 0.6906, Test Loss: 0.6909\n",
      "Epoch: 020, Train Acc: 0.5264, Test Acc: 0.5110, Train Loss: 0.6901, Test Loss: 0.6905\n",
      "Epoch: 030, Train Acc: 0.4940, Test Acc: 0.4910, Train Loss: 0.6886, Test Loss: 0.6882\n",
      "Epoch: 040, Train Acc: 0.5389, Test Acc: 0.5987, Train Loss: 0.6885, Test Loss: 0.6876\n",
      "Epoch: 050, Train Acc: 0.5264, Test Acc: 0.5110, Train Loss: 0.6926, Test Loss: 0.6961\n",
      "Epoch: 060, Train Acc: 0.7421, Test Acc: 0.7163, Train Loss: 0.6612, Test Loss: 0.6596\n",
      "Epoch: 070, Train Acc: 0.6313, Test Acc: 0.6587, Train Loss: 0.6387, Test Loss: 0.6280\n",
      "Epoch: 080, Train Acc: 0.7687, Test Acc: 0.7273, Train Loss: 0.6071, Test Loss: 0.6057\n",
      "Epoch: 090, Train Acc: 0.5959, Test Acc: 0.6073, Train Loss: 0.6633, Test Loss: 0.6587\n",
      "Epoch: 100, Train Acc: 0.7253, Test Acc: 0.7240, Train Loss: 0.5456, Test Loss: 0.5591\n",
      "Epoch: 110, Train Acc: 0.7650, Test Acc: 0.7100, Train Loss: 0.5509, Test Loss: 0.5698\n",
      "Epoch: 120, Train Acc: 0.7967, Test Acc: 0.7390, Train Loss: 0.5153, Test Loss: 0.5493\n",
      "Epoch: 130, Train Acc: 0.7833, Test Acc: 0.7390, Train Loss: 0.5523, Test Loss: 0.5816\n",
      "Epoch: 140, Train Acc: 0.7271, Test Acc: 0.7133, Train Loss: 0.5249, Test Loss: 0.5608\n",
      "Epoch: 150, Train Acc: 0.7987, Test Acc: 0.7360, Train Loss: 0.4458, Test Loss: 0.5132\n",
      "Epoch: 160, Train Acc: 0.8044, Test Acc: 0.7417, Train Loss: 0.4338, Test Loss: 0.5186\n",
      "Epoch: 170, Train Acc: 0.5421, Test Acc: 0.5137, Train Loss: 0.5643, Test Loss: 0.6711\n",
      "20 epochs passed without 0 test loss improvement. \n",
      "Early stopping triggered.\n"
     ]
    },
    {
     "data": {
      "text/html": [
       "<style>\n",
       "    table.wandb td:nth-child(1) { padding: 0 10px; text-align: left ; width: auto;} td:nth-child(2) {text-align: left ; width: 100%}\n",
       "    .wandb-row { display: flex; flex-direction: row; flex-wrap: wrap; justify-content: flex-start; width: 100% }\n",
       "    .wandb-col { display: flex; flex-direction: column; flex-basis: 100%; flex: 1; padding: 10px; }\n",
       "    </style>\n",
       "<div class=\"wandb-row\"><div class=\"wandb-col\"><h3>Run history:</h3><br/><table class=\"wandb\"><tr><td>Test Accuracy</td><td>▁▂▂▂▂▂▂▂▁▄▁▁▁▂▁▇▆▂▁▆▁▇▇▇▁█▇▇█████▇████▇▂</td></tr><tr><td>Test F1</td><td>▁▇▇▇▇▇▇▇▇▄▂▇▇▇▇▇▆▇▇▆▇▇█▇▇█▇▇██████▇███▇▇</td></tr><tr><td>Test Loss</td><td>███████████▇▇█▇▆▅▇▅▅▆▃▄▃▄▄▂▃▂▂▄▃▂▃▁▃▁▁▂▇</td></tr><tr><td>Test Sensitivity</td><td>▁███████▇▃▁█▇██▆▄█▇▄█▅▆▅▇▇▅▄▆▆▆▆▆▇▅▇▆▆▅█</td></tr><tr><td>Test Specificity</td><td>█▁▁▁▁▁▁▁▂██▁▁▁▁▆█▁▂█▁▇▇▇▁▆▇█▆▆▆▆▆▆▇▆▇▇▇▁</td></tr><tr><td>Train Accuracy</td><td>▁▂▂▂▂▂▂▂▁▂▁▂▂▂▂▇▄▂▂▅▂▇▇▆▂█▇▆██▇███▇███▇▂</td></tr><tr><td>Train F1</td><td>▁▇▇▇▇▇▇▇▇▃▂▇▇▇▇▇▅▇▇▆▇▇▇▇▇█▇▆██████████▇▇</td></tr><tr><td>Train Loss</td><td>████████████▇█▇▇▆▇▆▆▆▅▅▄▅▅▄▄▃▃▄▃▂▃▂▂▁▁▂▄</td></tr><tr><td>Train Sensitivity</td><td>▁███████▇▂▁████▆▃█▇▄█▅▆▅█▇▅▄▆▆▆▇▆▇▆▇▆▆▅█</td></tr><tr><td>Train Specificity</td><td>█▁▁▁▁▁▁▁▁██▁▁▁▁▇█▁▂█▁▇▇▇▂▆▇█▇▇▇▇▇▆▇▆▇▇█▁</td></tr></table><br/></div><div class=\"wandb-col\"><h3>Run summary:</h3><br/><table class=\"wandb\"><tr><td>Test Accuracy</td><td>0.51367</td></tr><tr><td>Test F1</td><td>0.67103</td></tr><tr><td>Test Loss</td><td>0.6711</td></tr><tr><td>Test Sensitivity</td><td>0.97065</td></tr><tr><td>Test Specificity</td><td>0.03613</td></tr><tr><td>Train Accuracy</td><td>0.54214</td></tr><tr><td>Train F1</td><td>0.6918</td></tr><tr><td>Train Loss</td><td>0.56434</td></tr><tr><td>Train Sensitivity</td><td>0.97612</td></tr><tr><td>Train Specificity</td><td>0.05973</td></tr></table><br/></div></div>"
      ],
      "text/plain": [
       "<IPython.core.display.HTML object>"
      ]
     },
     "metadata": {},
     "output_type": "display_data"
    },
    {
     "data": {
      "text/html": [
       " View run <strong style=\"color:#cdcd00\">visionary-sweep-10</strong> at: <a href='https://wandb.ai/dylan-home/pnca-sweep-1/runs/ibyixtb7' target=\"_blank\">https://wandb.ai/dylan-home/pnca-sweep-1/runs/ibyixtb7</a><br/>Synced 5 W&B file(s), 0 media file(s), 0 artifact file(s) and 0 other file(s)"
      ],
      "text/plain": [
       "<IPython.core.display.HTML object>"
      ]
     },
     "metadata": {},
     "output_type": "display_data"
    },
    {
     "data": {
      "text/html": [
       "Find logs at: <code>./wandb/run-20250116_000921-ibyixtb7/logs</code>"
      ],
      "text/plain": [
       "<IPython.core.display.HTML object>"
      ]
     },
     "metadata": {},
     "output_type": "display_data"
    },
    {
     "name": "stderr",
     "output_type": "stream",
     "text": [
      "\u001b[34m\u001b[1mwandb\u001b[0m: Sweep Agent: Waiting for job.\n",
      "\u001b[34m\u001b[1mwandb\u001b[0m: Job received.\n",
      "\u001b[34m\u001b[1mwandb\u001b[0m: Agent Starting Run: gjfufc88 with config:\n",
      "\u001b[34m\u001b[1mwandb\u001b[0m: \tcutoff_distance: 3.8963042178665415\n",
      "\u001b[34m\u001b[1mwandb\u001b[0m: \tdropout: 0.6\n",
      "\u001b[34m\u001b[1mwandb\u001b[0m: \thidden_channels: 256\n",
      "\u001b[34m\u001b[1mwandb\u001b[0m: \tlearning_rate: 0.0030136267995545746\n",
      "\u001b[34m\u001b[1mwandb\u001b[0m: \tweight_decay: 0.00018212080783227435\n",
      "Failed to detect the name of this notebook, you can set it manually with the WANDB_NOTEBOOK_NAME environment variable to enable code saving.\n",
      "/usr/lib/python3/dist-packages/requests/__init__.py:87: RequestsDependencyWarning: urllib3 (2.2.3) or chardet (4.0.0) doesn't match a supported version!\n",
      "  warnings.warn(\"urllib3 ({}) or chardet ({}) doesn't match a supported \"\n"
     ]
    },
    {
     "data": {
      "text/html": [
       "wandb version 0.19.3 is available!  To upgrade, please run:\n",
       " $ pip install wandb --upgrade"
      ],
      "text/plain": [
       "<IPython.core.display.HTML object>"
      ]
     },
     "metadata": {},
     "output_type": "display_data"
    },
    {
     "data": {
      "text/html": [
       "Tracking run with wandb version 0.16.4"
      ],
      "text/plain": [
       "<IPython.core.display.HTML object>"
      ]
     },
     "metadata": {},
     "output_type": "display_data"
    },
    {
     "data": {
      "text/html": [
       "Run data is saved locally in <code>/mnt/alphafold-volume-1/dylan2/repos/tb-pnca-gnn/dd_pnca/wandb/run-20250116_001428-gjfufc88</code>"
      ],
      "text/plain": [
       "<IPython.core.display.HTML object>"
      ]
     },
     "metadata": {},
     "output_type": "display_data"
    },
    {
     "data": {
      "text/html": [
       "Syncing run <strong><a href='https://wandb.ai/dylan-home/pnca-sweep-1/runs/gjfufc88' target=\"_blank\">flowing-sweep-11</a></strong> to <a href='https://wandb.ai/dylan-home/pnca-sweep-1' target=\"_blank\">Weights & Biases</a> (<a href='https://wandb.me/run' target=\"_blank\">docs</a>)<br/>Sweep page: <a href='https://wandb.ai/dylan-home/pnca-sweep-1/sweeps/tr8mwg42' target=\"_blank\">https://wandb.ai/dylan-home/pnca-sweep-1/sweeps/tr8mwg42</a>"
      ],
      "text/plain": [
       "<IPython.core.display.HTML object>"
      ]
     },
     "metadata": {},
     "output_type": "display_data"
    },
    {
     "data": {
      "text/html": [
       " View project at <a href='https://wandb.ai/dylan-home/pnca-sweep-1' target=\"_blank\">https://wandb.ai/dylan-home/pnca-sweep-1</a>"
      ],
      "text/plain": [
       "<IPython.core.display.HTML object>"
      ]
     },
     "metadata": {},
     "output_type": "display_data"
    },
    {
     "data": {
      "text/html": [
       " View sweep at <a href='https://wandb.ai/dylan-home/pnca-sweep-1/sweeps/tr8mwg42' target=\"_blank\">https://wandb.ai/dylan-home/pnca-sweep-1/sweeps/tr8mwg42</a>"
      ],
      "text/plain": [
       "<IPython.core.display.HTML object>"
      ]
     },
     "metadata": {},
     "output_type": "display_data"
    },
    {
     "data": {
      "text/html": [
       " View run at <a href='https://wandb.ai/dylan-home/pnca-sweep-1/runs/gjfufc88' target=\"_blank\">https://wandb.ai/dylan-home/pnca-sweep-1/runs/gjfufc88</a>"
      ],
      "text/plain": [
       "<IPython.core.display.HTML object>"
      ]
     },
     "metadata": {},
     "output_type": "display_data"
    },
    {
     "name": "stdout",
     "output_type": "stream",
     "text": [
      "Using CUDA\n",
      "Early stopping enabled. Patience: 20. Min Delta: 0.\n",
      "Epoch: 010, Train Acc: 0.5264, Test Acc: 0.5110, Train Loss: 0.6918, Test Loss: 0.6933\n",
      "Epoch: 020, Train Acc: 0.5264, Test Acc: 0.5110, Train Loss: 0.6919, Test Loss: 0.6935\n",
      "20 epochs passed without 0 test loss improvement. \n",
      "Early stopping triggered.\n"
     ]
    },
    {
     "data": {
      "text/html": [
       "<style>\n",
       "    table.wandb td:nth-child(1) { padding: 0 10px; text-align: left ; width: auto;} td:nth-child(2) {text-align: left ; width: 100%}\n",
       "    .wandb-row { display: flex; flex-direction: row; flex-wrap: wrap; justify-content: flex-start; width: 100% }\n",
       "    .wandb-col { display: flex; flex-direction: column; flex-basis: 100%; flex: 1; padding: 10px; }\n",
       "    </style>\n",
       "<div class=\"wandb-row\"><div class=\"wandb-col\"><h3>Run history:</h3><br/><table class=\"wandb\"><tr><td>Test Accuracy</td><td>▁█████████████████████████</td></tr><tr><td>Test F1</td><td>▁█████████████████████████</td></tr><tr><td>Test Loss</td><td>█▁▂▂▂▁▂▂▂▂▃▁▃▂▃▂▂▂▁▃▁▂▂▂▃▂</td></tr><tr><td>Test Sensitivity</td><td>▁█████████████████████████</td></tr><tr><td>Test Specificity</td><td>█▁▁▁▁▁▁▁▁▁▁▁▁▁▁▁▁▁▁▁▁▁▁▁▁▁</td></tr><tr><td>Train Accuracy</td><td>▁█████████████████████████</td></tr><tr><td>Train F1</td><td>▁█████████████████████████</td></tr><tr><td>Train Loss</td><td>█▂▂▁▁▁▂▁▂▁▂▂▁▁▁▂▁▂▁▂▂▁▁▂▂▁</td></tr><tr><td>Train Sensitivity</td><td>▁█████████████████████████</td></tr><tr><td>Train Specificity</td><td>█▁▁▁▁▁▁▁▁▁▁▁▁▁▁▁▁▁▁▁▁▁▁▁▁▁</td></tr></table><br/></div><div class=\"wandb-col\"><h3>Run summary:</h3><br/><table class=\"wandb\"><tr><td>Test Accuracy</td><td>0.511</td></tr><tr><td>Test F1</td><td>0.67637</td></tr><tr><td>Test Loss</td><td>0.69331</td></tr><tr><td>Test Sensitivity</td><td>1.0</td></tr><tr><td>Test Specificity</td><td>0.0</td></tr><tr><td>Train Accuracy</td><td>0.52643</td></tr><tr><td>Train F1</td><td>0.68975</td></tr><tr><td>Train Loss</td><td>0.6917</td></tr><tr><td>Train Sensitivity</td><td>1.0</td></tr><tr><td>Train Specificity</td><td>0.0</td></tr></table><br/></div></div>"
      ],
      "text/plain": [
       "<IPython.core.display.HTML object>"
      ]
     },
     "metadata": {},
     "output_type": "display_data"
    },
    {
     "data": {
      "text/html": [
       " View run <strong style=\"color:#cdcd00\">flowing-sweep-11</strong> at: <a href='https://wandb.ai/dylan-home/pnca-sweep-1/runs/gjfufc88' target=\"_blank\">https://wandb.ai/dylan-home/pnca-sweep-1/runs/gjfufc88</a><br/>Synced 5 W&B file(s), 0 media file(s), 0 artifact file(s) and 0 other file(s)"
      ],
      "text/plain": [
       "<IPython.core.display.HTML object>"
      ]
     },
     "metadata": {},
     "output_type": "display_data"
    },
    {
     "data": {
      "text/html": [
       "Find logs at: <code>./wandb/run-20250116_001428-gjfufc88/logs</code>"
      ],
      "text/plain": [
       "<IPython.core.display.HTML object>"
      ]
     },
     "metadata": {},
     "output_type": "display_data"
    },
    {
     "name": "stderr",
     "output_type": "stream",
     "text": [
      "\u001b[34m\u001b[1mwandb\u001b[0m: Agent Starting Run: qplk7618 with config:\n",
      "\u001b[34m\u001b[1mwandb\u001b[0m: \tcutoff_distance: 8.820950893653045\n",
      "\u001b[34m\u001b[1mwandb\u001b[0m: \tdropout: 0.6\n",
      "\u001b[34m\u001b[1mwandb\u001b[0m: \thidden_channels: 320\n",
      "\u001b[34m\u001b[1mwandb\u001b[0m: \tlearning_rate: 0.00011075318259941787\n",
      "\u001b[34m\u001b[1mwandb\u001b[0m: \tweight_decay: 0.0030162300825569807\n",
      "Failed to detect the name of this notebook, you can set it manually with the WANDB_NOTEBOOK_NAME environment variable to enable code saving.\n",
      "/usr/lib/python3/dist-packages/requests/__init__.py:87: RequestsDependencyWarning: urllib3 (2.2.3) or chardet (4.0.0) doesn't match a supported version!\n",
      "  warnings.warn(\"urllib3 ({}) or chardet ({}) doesn't match a supported \"\n"
     ]
    },
    {
     "data": {
      "text/html": [
       "wandb version 0.19.3 is available!  To upgrade, please run:\n",
       " $ pip install wandb --upgrade"
      ],
      "text/plain": [
       "<IPython.core.display.HTML object>"
      ]
     },
     "metadata": {},
     "output_type": "display_data"
    },
    {
     "data": {
      "text/html": [
       "Tracking run with wandb version 0.16.4"
      ],
      "text/plain": [
       "<IPython.core.display.HTML object>"
      ]
     },
     "metadata": {},
     "output_type": "display_data"
    },
    {
     "data": {
      "text/html": [
       "Run data is saved locally in <code>/mnt/alphafold-volume-1/dylan2/repos/tb-pnca-gnn/dd_pnca/wandb/run-20250116_001530-qplk7618</code>"
      ],
      "text/plain": [
       "<IPython.core.display.HTML object>"
      ]
     },
     "metadata": {},
     "output_type": "display_data"
    },
    {
     "data": {
      "text/html": [
       "Syncing run <strong><a href='https://wandb.ai/dylan-home/pnca-sweep-1/runs/qplk7618' target=\"_blank\">faithful-sweep-12</a></strong> to <a href='https://wandb.ai/dylan-home/pnca-sweep-1' target=\"_blank\">Weights & Biases</a> (<a href='https://wandb.me/run' target=\"_blank\">docs</a>)<br/>Sweep page: <a href='https://wandb.ai/dylan-home/pnca-sweep-1/sweeps/tr8mwg42' target=\"_blank\">https://wandb.ai/dylan-home/pnca-sweep-1/sweeps/tr8mwg42</a>"
      ],
      "text/plain": [
       "<IPython.core.display.HTML object>"
      ]
     },
     "metadata": {},
     "output_type": "display_data"
    },
    {
     "data": {
      "text/html": [
       " View project at <a href='https://wandb.ai/dylan-home/pnca-sweep-1' target=\"_blank\">https://wandb.ai/dylan-home/pnca-sweep-1</a>"
      ],
      "text/plain": [
       "<IPython.core.display.HTML object>"
      ]
     },
     "metadata": {},
     "output_type": "display_data"
    },
    {
     "data": {
      "text/html": [
       " View sweep at <a href='https://wandb.ai/dylan-home/pnca-sweep-1/sweeps/tr8mwg42' target=\"_blank\">https://wandb.ai/dylan-home/pnca-sweep-1/sweeps/tr8mwg42</a>"
      ],
      "text/plain": [
       "<IPython.core.display.HTML object>"
      ]
     },
     "metadata": {},
     "output_type": "display_data"
    },
    {
     "data": {
      "text/html": [
       " View run at <a href='https://wandb.ai/dylan-home/pnca-sweep-1/runs/qplk7618' target=\"_blank\">https://wandb.ai/dylan-home/pnca-sweep-1/runs/qplk7618</a>"
      ],
      "text/plain": [
       "<IPython.core.display.HTML object>"
      ]
     },
     "metadata": {},
     "output_type": "display_data"
    },
    {
     "name": "stdout",
     "output_type": "stream",
     "text": [
      "Using CUDA\n",
      "Early stopping enabled. Patience: 20. Min Delta: 0.\n",
      "Epoch: 010, Train Acc: 0.4894, Test Acc: 0.5283, Train Loss: 0.6959, Test Loss: 0.6875\n",
      "Epoch: 020, Train Acc: 0.4794, Test Acc: 0.4773, Train Loss: 0.6810, Test Loss: 0.6765\n",
      "Epoch: 030, Train Acc: 0.6477, Test Acc: 0.6713, Train Loss: 0.6795, Test Loss: 0.6715\n",
      "Epoch: 040, Train Acc: 0.5111, Test Acc: 0.4923, Train Loss: 0.6713, Test Loss: 0.6682\n",
      "Epoch: 050, Train Acc: 0.5257, Test Acc: 0.5107, Train Loss: 0.6851, Test Loss: 0.6898\n",
      "Epoch: 060, Train Acc: 0.5146, Test Acc: 0.4963, Train Loss: 0.6627, Test Loss: 0.6620\n",
      "Epoch: 070, Train Acc: 0.6024, Test Acc: 0.6530, Train Loss: 0.6654, Test Loss: 0.6516\n",
      "Epoch: 080, Train Acc: 0.5216, Test Acc: 0.4980, Train Loss: 0.6550, Test Loss: 0.6584\n",
      "Epoch: 090, Train Acc: 0.5939, Test Acc: 0.6463, Train Loss: 0.6609, Test Loss: 0.6443\n",
      "Epoch: 100, Train Acc: 0.6296, Test Acc: 0.6633, Train Loss: 0.6417, Test Loss: 0.6274\n",
      "Epoch: 110, Train Acc: 0.6567, Test Acc: 0.6700, Train Loss: 0.6263, Test Loss: 0.6145\n",
      "Epoch: 120, Train Acc: 0.7537, Test Acc: 0.7050, Train Loss: 0.5975, Test Loss: 0.6026\n",
      "Epoch: 130, Train Acc: 0.7441, Test Acc: 0.7153, Train Loss: 0.5873, Test Loss: 0.5913\n",
      "Epoch: 140, Train Acc: 0.7486, Test Acc: 0.7157, Train Loss: 0.5646, Test Loss: 0.5747\n",
      "Epoch: 150, Train Acc: 0.7674, Test Acc: 0.7293, Train Loss: 0.5667, Test Loss: 0.5802\n",
      "Epoch: 160, Train Acc: 0.7319, Test Acc: 0.7023, Train Loss: 0.5531, Test Loss: 0.5675\n",
      "Epoch: 170, Train Acc: 0.7660, Test Acc: 0.7283, Train Loss: 0.5281, Test Loss: 0.5517\n",
      "Epoch: 180, Train Acc: 0.7756, Test Acc: 0.7317, Train Loss: 0.5214, Test Loss: 0.5562\n",
      "Epoch: 190, Train Acc: 0.7837, Test Acc: 0.7373, Train Loss: 0.5305, Test Loss: 0.5734\n",
      "Epoch: 200, Train Acc: 0.7873, Test Acc: 0.7407, Train Loss: 0.5192, Test Loss: 0.5689\n",
      "Epoch: 210, Train Acc: 0.7731, Test Acc: 0.7160, Train Loss: 0.5305, Test Loss: 0.5952\n",
      "Epoch: 220, Train Acc: 0.7673, Test Acc: 0.7333, Train Loss: 0.4823, Test Loss: 0.5353\n",
      "Epoch: 230, Train Acc: 0.7470, Test Acc: 0.7053, Train Loss: 0.5039, Test Loss: 0.5547\n",
      "Epoch: 240, Train Acc: 0.7553, Test Acc: 0.7153, Train Loss: 0.4916, Test Loss: 0.5548\n",
      "Epoch: 250, Train Acc: 0.8090, Test Acc: 0.7543, Train Loss: 0.4337, Test Loss: 0.5285\n",
      "Epoch: 260, Train Acc: 0.7844, Test Acc: 0.7373, Train Loss: 0.4528, Test Loss: 0.5259\n",
      "Epoch: 270, Train Acc: 0.8060, Test Acc: 0.7463, Train Loss: 0.4145, Test Loss: 0.5198\n",
      "Epoch: 280, Train Acc: 0.7696, Test Acc: 0.7287, Train Loss: 0.4743, Test Loss: 0.5553\n",
      "Epoch: 290, Train Acc: 0.8239, Test Acc: 0.7627, Train Loss: 0.4038, Test Loss: 0.5173\n",
      "Epoch: 300, Train Acc: 0.8224, Test Acc: 0.7570, Train Loss: 0.3913, Test Loss: 0.5123\n",
      "Epoch: 310, Train Acc: 0.8287, Test Acc: 0.7673, Train Loss: 0.3871, Test Loss: 0.5129\n",
      "Epoch: 320, Train Acc: 0.5381, Test Acc: 0.5080, Train Loss: 0.6146, Test Loss: 0.7950\n",
      "20 epochs passed without 0 test loss improvement. \n",
      "Early stopping triggered.\n"
     ]
    },
    {
     "data": {
      "text/html": [
       "<style>\n",
       "    table.wandb td:nth-child(1) { padding: 0 10px; text-align: left ; width: auto;} td:nth-child(2) {text-align: left ; width: 100%}\n",
       "    .wandb-row { display: flex; flex-direction: row; flex-wrap: wrap; justify-content: flex-start; width: 100% }\n",
       "    .wandb-col { display: flex; flex-direction: column; flex-basis: 100%; flex: 1; padding: 10px; }\n",
       "    </style>\n",
       "<div class=\"wandb-row\"><div class=\"wandb-col\"><h3>Run history:</h3><br/><table class=\"wandb\"><tr><td>Test Accuracy</td><td>▂▂▁▂▂▃▁▁▁▄▁▁▅▆▆▇▇▆▇▆▇▆▂▂▇▇▇▇▇██▇▇█▇██▇██</td></tr><tr><td>Test F1</td><td>▇▇▆▇▇▁▆▆▆▃▆▆▅▇▇▇▇▅█▆▇▆▆▆█▇▇▇▇██▇▇███▇▆▇█</td></tr><tr><td>Test Loss</td><td>██▇▇█▇▇▇▆▇▆▆▅▄▄▄▄▅▄▃▃▃▄▆▃▂▂▂▂▂▂▂▁▂▄▃▁▄▁▂</td></tr><tr><td>Test Sensitivity</td><td>██▇██▁██▇▂▇▇▃▅▆▅▅▃▇▄▅▄▇▇▆▅▅▅▅▆▆▅▅▆▇▇▅▄▅▆</td></tr><tr><td>Test Specificity</td><td>▁▁▂▁▁█▁▁▂█▁▁█▆▆▇▆█▅▇▇▇▂▁▆▇▇▇▇▇▆▇▇▆▅▆▇▇▇▆</td></tr><tr><td>Train Accuracy</td><td>▂▂▁▂▂▂▂▂▁▂▂▂▄▆▆▆▆▄▆▆▆▆▃▂▇▆▆▇▇▇▇▇▇█▇█▇▆██</td></tr><tr><td>Train F1</td><td>▆▆▆▆▆▁▆▆▆▂▆▆▄▇▇▇▇▅▇▆▇▆▆▆▇▇▇▇▇██▇▇████▇██</td></tr><tr><td>Train Loss</td><td>██████▇▇▇█▇▇▇▆▆▅▅▆▅▅▄▅▅▅▄▄▃▃▃▃▂▃▂▂▃▂▁▃▁▁</td></tr><tr><td>Train Sensitivity</td><td>██▇██▁██▇▁▇▇▃▆▆▅▆▃▇▅▅▄▇█▇▅▅▅▆▆▇▅▆▇▇▇▆▅▆▇</td></tr><tr><td>Train Specificity</td><td>▁▁▁▁▁█▁▁▁█▁▁█▇▆▇▇█▅▇▇█▂▂▆█▇█▇▇▇█▇▇▆▆▇██▇</td></tr></table><br/></div><div class=\"wandb-col\"><h3>Run summary:</h3><br/><table class=\"wandb\"><tr><td>Test Accuracy</td><td>0.74533</td></tr><tr><td>Test F1</td><td>0.71148</td></tr><tr><td>Test Loss</td><td>0.55393</td></tr><tr><td>Test Sensitivity</td><td>0.61448</td></tr><tr><td>Test Specificity</td><td>0.88207</td></tr><tr><td>Train Accuracy</td><td>0.81</td></tr><tr><td>Train F1</td><td>0.787</td></tr><tr><td>Train Loss</td><td>0.40081</td></tr><tr><td>Train Sensitivity</td><td>0.66676</td></tr><tr><td>Train Specificity</td><td>0.96923</td></tr></table><br/></div></div>"
      ],
      "text/plain": [
       "<IPython.core.display.HTML object>"
      ]
     },
     "metadata": {},
     "output_type": "display_data"
    },
    {
     "data": {
      "text/html": [
       " View run <strong style=\"color:#cdcd00\">faithful-sweep-12</strong> at: <a href='https://wandb.ai/dylan-home/pnca-sweep-1/runs/qplk7618' target=\"_blank\">https://wandb.ai/dylan-home/pnca-sweep-1/runs/qplk7618</a><br/>Synced 5 W&B file(s), 0 media file(s), 0 artifact file(s) and 0 other file(s)"
      ],
      "text/plain": [
       "<IPython.core.display.HTML object>"
      ]
     },
     "metadata": {},
     "output_type": "display_data"
    },
    {
     "data": {
      "text/html": [
       "Find logs at: <code>./wandb/run-20250116_001530-qplk7618/logs</code>"
      ],
      "text/plain": [
       "<IPython.core.display.HTML object>"
      ]
     },
     "metadata": {},
     "output_type": "display_data"
    },
    {
     "name": "stderr",
     "output_type": "stream",
     "text": [
      "\u001b[34m\u001b[1mwandb\u001b[0m: Agent Starting Run: vz7m19cx with config:\n",
      "\u001b[34m\u001b[1mwandb\u001b[0m: \tcutoff_distance: 5.382338025281038\n",
      "\u001b[34m\u001b[1mwandb\u001b[0m: \tdropout: 0.8\n",
      "\u001b[34m\u001b[1mwandb\u001b[0m: \thidden_channels: 320\n",
      "\u001b[34m\u001b[1mwandb\u001b[0m: \tlearning_rate: 0.0011664311151519825\n",
      "\u001b[34m\u001b[1mwandb\u001b[0m: \tweight_decay: 1.9188609332457908e-06\n",
      "Failed to detect the name of this notebook, you can set it manually with the WANDB_NOTEBOOK_NAME environment variable to enable code saving.\n",
      "/usr/lib/python3/dist-packages/requests/__init__.py:87: RequestsDependencyWarning: urllib3 (2.2.3) or chardet (4.0.0) doesn't match a supported version!\n",
      "  warnings.warn(\"urllib3 ({}) or chardet ({}) doesn't match a supported \"\n"
     ]
    },
    {
     "data": {
      "text/html": [
       "wandb version 0.19.3 is available!  To upgrade, please run:\n",
       " $ pip install wandb --upgrade"
      ],
      "text/plain": [
       "<IPython.core.display.HTML object>"
      ]
     },
     "metadata": {},
     "output_type": "display_data"
    },
    {
     "data": {
      "text/html": [
       "Tracking run with wandb version 0.16.4"
      ],
      "text/plain": [
       "<IPython.core.display.HTML object>"
      ]
     },
     "metadata": {},
     "output_type": "display_data"
    },
    {
     "data": {
      "text/html": [
       "Run data is saved locally in <code>/mnt/alphafold-volume-1/dylan2/repos/tb-pnca-gnn/dd_pnca/wandb/run-20250116_002732-vz7m19cx</code>"
      ],
      "text/plain": [
       "<IPython.core.display.HTML object>"
      ]
     },
     "metadata": {},
     "output_type": "display_data"
    },
    {
     "data": {
      "text/html": [
       "Syncing run <strong><a href='https://wandb.ai/dylan-home/pnca-sweep-1/runs/vz7m19cx' target=\"_blank\">breezy-sweep-13</a></strong> to <a href='https://wandb.ai/dylan-home/pnca-sweep-1' target=\"_blank\">Weights & Biases</a> (<a href='https://wandb.me/run' target=\"_blank\">docs</a>)<br/>Sweep page: <a href='https://wandb.ai/dylan-home/pnca-sweep-1/sweeps/tr8mwg42' target=\"_blank\">https://wandb.ai/dylan-home/pnca-sweep-1/sweeps/tr8mwg42</a>"
      ],
      "text/plain": [
       "<IPython.core.display.HTML object>"
      ]
     },
     "metadata": {},
     "output_type": "display_data"
    },
    {
     "data": {
      "text/html": [
       " View project at <a href='https://wandb.ai/dylan-home/pnca-sweep-1' target=\"_blank\">https://wandb.ai/dylan-home/pnca-sweep-1</a>"
      ],
      "text/plain": [
       "<IPython.core.display.HTML object>"
      ]
     },
     "metadata": {},
     "output_type": "display_data"
    },
    {
     "data": {
      "text/html": [
       " View sweep at <a href='https://wandb.ai/dylan-home/pnca-sweep-1/sweeps/tr8mwg42' target=\"_blank\">https://wandb.ai/dylan-home/pnca-sweep-1/sweeps/tr8mwg42</a>"
      ],
      "text/plain": [
       "<IPython.core.display.HTML object>"
      ]
     },
     "metadata": {},
     "output_type": "display_data"
    },
    {
     "data": {
      "text/html": [
       " View run at <a href='https://wandb.ai/dylan-home/pnca-sweep-1/runs/vz7m19cx' target=\"_blank\">https://wandb.ai/dylan-home/pnca-sweep-1/runs/vz7m19cx</a>"
      ],
      "text/plain": [
       "<IPython.core.display.HTML object>"
      ]
     },
     "metadata": {},
     "output_type": "display_data"
    },
    {
     "name": "stdout",
     "output_type": "stream",
     "text": [
      "Using CUDA\n",
      "Early stopping enabled. Patience: 20. Min Delta: 0.\n",
      "Epoch: 010, Train Acc: 0.5264, Test Acc: 0.5110, Train Loss: 0.6918, Test Loss: 0.6932\n",
      "Epoch: 020, Train Acc: 0.5264, Test Acc: 0.5110, Train Loss: 0.6917, Test Loss: 0.6934\n",
      "20 epochs passed without 0 test loss improvement. \n",
      "Early stopping triggered.\n"
     ]
    },
    {
     "data": {
      "text/html": [
       "<style>\n",
       "    table.wandb td:nth-child(1) { padding: 0 10px; text-align: left ; width: auto;} td:nth-child(2) {text-align: left ; width: 100%}\n",
       "    .wandb-row { display: flex; flex-direction: row; flex-wrap: wrap; justify-content: flex-start; width: 100% }\n",
       "    .wandb-col { display: flex; flex-direction: column; flex-basis: 100%; flex: 1; padding: 10px; }\n",
       "    </style>\n",
       "<div class=\"wandb-row\"><div class=\"wandb-col\"><h3>Run history:</h3><br/><table class=\"wandb\"><tr><td>Test Accuracy</td><td>▁██████████████████████</td></tr><tr><td>Test F1</td><td>▁██████████████████████</td></tr><tr><td>Test Loss</td><td>█▂▁▂▄▅▄▄▅▅▄▆▅▅▄▅▄▅▆▇▅▅▆</td></tr><tr><td>Test Sensitivity</td><td>▁██████████████████████</td></tr><tr><td>Test Specificity</td><td>█▁▁▁▁▁▁▁▁▁▁▁▁▁▁▁▁▁▁▁▁▁▁</td></tr><tr><td>Train Accuracy</td><td>▁██████████████████████</td></tr><tr><td>Train F1</td><td>▁██████████████████████</td></tr><tr><td>Train Loss</td><td>█▅▃▃▂▂▃▂▃▂▃▂▂▂▂▂▂▁▂▂▂▁▂</td></tr><tr><td>Train Sensitivity</td><td>▁██████████████████████</td></tr><tr><td>Train Specificity</td><td>█▁▁▁▁▁▁▁▁▁▁▁▁▁▁▁▁▁▁▁▁▁▁</td></tr></table><br/></div><div class=\"wandb-col\"><h3>Run summary:</h3><br/><table class=\"wandb\"><tr><td>Test Accuracy</td><td>0.511</td></tr><tr><td>Test F1</td><td>0.67637</td></tr><tr><td>Test Loss</td><td>0.69335</td></tr><tr><td>Test Sensitivity</td><td>1.0</td></tr><tr><td>Test Specificity</td><td>0.0</td></tr><tr><td>Train Accuracy</td><td>0.52643</td></tr><tr><td>Train F1</td><td>0.68975</td></tr><tr><td>Train Loss</td><td>0.6916</td></tr><tr><td>Train Sensitivity</td><td>1.0</td></tr><tr><td>Train Specificity</td><td>0.0</td></tr></table><br/></div></div>"
      ],
      "text/plain": [
       "<IPython.core.display.HTML object>"
      ]
     },
     "metadata": {},
     "output_type": "display_data"
    },
    {
     "data": {
      "text/html": [
       " View run <strong style=\"color:#cdcd00\">breezy-sweep-13</strong> at: <a href='https://wandb.ai/dylan-home/pnca-sweep-1/runs/vz7m19cx' target=\"_blank\">https://wandb.ai/dylan-home/pnca-sweep-1/runs/vz7m19cx</a><br/>Synced 5 W&B file(s), 0 media file(s), 0 artifact file(s) and 0 other file(s)"
      ],
      "text/plain": [
       "<IPython.core.display.HTML object>"
      ]
     },
     "metadata": {},
     "output_type": "display_data"
    },
    {
     "data": {
      "text/html": [
       "Find logs at: <code>./wandb/run-20250116_002732-vz7m19cx/logs</code>"
      ],
      "text/plain": [
       "<IPython.core.display.HTML object>"
      ]
     },
     "metadata": {},
     "output_type": "display_data"
    },
    {
     "name": "stderr",
     "output_type": "stream",
     "text": [
      "\u001b[34m\u001b[1mwandb\u001b[0m: Agent Starting Run: 4figdfpc with config:\n",
      "\u001b[34m\u001b[1mwandb\u001b[0m: \tcutoff_distance: 4.801966412020911\n",
      "\u001b[34m\u001b[1mwandb\u001b[0m: \tdropout: 0.6\n",
      "\u001b[34m\u001b[1mwandb\u001b[0m: \thidden_channels: 256\n",
      "\u001b[34m\u001b[1mwandb\u001b[0m: \tlearning_rate: 0.0012677700596895414\n",
      "\u001b[34m\u001b[1mwandb\u001b[0m: \tweight_decay: 3.3611754252368145e-06\n",
      "Failed to detect the name of this notebook, you can set it manually with the WANDB_NOTEBOOK_NAME environment variable to enable code saving.\n",
      "/usr/lib/python3/dist-packages/requests/__init__.py:87: RequestsDependencyWarning: urllib3 (2.2.3) or chardet (4.0.0) doesn't match a supported version!\n",
      "  warnings.warn(\"urllib3 ({}) or chardet ({}) doesn't match a supported \"\n"
     ]
    },
    {
     "data": {
      "text/html": [
       "wandb version 0.19.3 is available!  To upgrade, please run:\n",
       " $ pip install wandb --upgrade"
      ],
      "text/plain": [
       "<IPython.core.display.HTML object>"
      ]
     },
     "metadata": {},
     "output_type": "display_data"
    },
    {
     "data": {
      "text/html": [
       "Tracking run with wandb version 0.16.4"
      ],
      "text/plain": [
       "<IPython.core.display.HTML object>"
      ]
     },
     "metadata": {},
     "output_type": "display_data"
    },
    {
     "data": {
      "text/html": [
       "Run data is saved locally in <code>/mnt/alphafold-volume-1/dylan2/repos/tb-pnca-gnn/dd_pnca/wandb/run-20250116_002835-4figdfpc</code>"
      ],
      "text/plain": [
       "<IPython.core.display.HTML object>"
      ]
     },
     "metadata": {},
     "output_type": "display_data"
    },
    {
     "data": {
      "text/html": [
       "Syncing run <strong><a href='https://wandb.ai/dylan-home/pnca-sweep-1/runs/4figdfpc' target=\"_blank\">distinctive-sweep-14</a></strong> to <a href='https://wandb.ai/dylan-home/pnca-sweep-1' target=\"_blank\">Weights & Biases</a> (<a href='https://wandb.me/run' target=\"_blank\">docs</a>)<br/>Sweep page: <a href='https://wandb.ai/dylan-home/pnca-sweep-1/sweeps/tr8mwg42' target=\"_blank\">https://wandb.ai/dylan-home/pnca-sweep-1/sweeps/tr8mwg42</a>"
      ],
      "text/plain": [
       "<IPython.core.display.HTML object>"
      ]
     },
     "metadata": {},
     "output_type": "display_data"
    },
    {
     "data": {
      "text/html": [
       " View project at <a href='https://wandb.ai/dylan-home/pnca-sweep-1' target=\"_blank\">https://wandb.ai/dylan-home/pnca-sweep-1</a>"
      ],
      "text/plain": [
       "<IPython.core.display.HTML object>"
      ]
     },
     "metadata": {},
     "output_type": "display_data"
    },
    {
     "data": {
      "text/html": [
       " View sweep at <a href='https://wandb.ai/dylan-home/pnca-sweep-1/sweeps/tr8mwg42' target=\"_blank\">https://wandb.ai/dylan-home/pnca-sweep-1/sweeps/tr8mwg42</a>"
      ],
      "text/plain": [
       "<IPython.core.display.HTML object>"
      ]
     },
     "metadata": {},
     "output_type": "display_data"
    },
    {
     "data": {
      "text/html": [
       " View run at <a href='https://wandb.ai/dylan-home/pnca-sweep-1/runs/4figdfpc' target=\"_blank\">https://wandb.ai/dylan-home/pnca-sweep-1/runs/4figdfpc</a>"
      ],
      "text/plain": [
       "<IPython.core.display.HTML object>"
      ]
     },
     "metadata": {},
     "output_type": "display_data"
    },
    {
     "name": "stdout",
     "output_type": "stream",
     "text": [
      "Using CUDA\n",
      "Early stopping enabled. Patience: 20. Min Delta: 0.\n",
      "Epoch: 010, Train Acc: 0.5264, Test Acc: 0.5110, Train Loss: 0.6918, Test Loss: 0.6932\n",
      "Epoch: 020, Train Acc: 0.5264, Test Acc: 0.5110, Train Loss: 0.6918, Test Loss: 0.6933\n",
      "20 epochs passed without 0 test loss improvement. \n",
      "Early stopping triggered.\n"
     ]
    },
    {
     "data": {
      "text/html": [
       "<style>\n",
       "    table.wandb td:nth-child(1) { padding: 0 10px; text-align: left ; width: auto;} td:nth-child(2) {text-align: left ; width: 100%}\n",
       "    .wandb-row { display: flex; flex-direction: row; flex-wrap: wrap; justify-content: flex-start; width: 100% }\n",
       "    .wandb-col { display: flex; flex-direction: column; flex-basis: 100%; flex: 1; padding: 10px; }\n",
       "    </style>\n",
       "<div class=\"wandb-row\"><div class=\"wandb-col\"><h3>Run history:</h3><br/><table class=\"wandb\"><tr><td>Test Accuracy</td><td>▁▁█████████████████████</td></tr><tr><td>Test F1</td><td>▁▁█████████████████████</td></tr><tr><td>Test Loss</td><td>██▁▂▄▂▃▅▅▄▆▃▆▄▆▆▄▄▃▅▅▄▅</td></tr><tr><td>Test Sensitivity</td><td>▁▁█████████████████████</td></tr><tr><td>Test Specificity</td><td>██▁▁▁▁▁▁▁▁▁▁▁▁▁▁▁▁▁▁▁▁▁</td></tr><tr><td>Train Accuracy</td><td>▁▁█████████████████████</td></tr><tr><td>Train F1</td><td>▁▁█████████████████████</td></tr><tr><td>Train Loss</td><td>██▄▂▁▁▂▁▂▂▂▂▂▂▁▂▁▂▁▂▂▁▂</td></tr><tr><td>Train Sensitivity</td><td>▁▁█████████████████████</td></tr><tr><td>Train Specificity</td><td>██▁▁▁▁▁▁▁▁▁▁▁▁▁▁▁▁▁▁▁▁▁</td></tr></table><br/></div><div class=\"wandb-col\"><h3>Run summary:</h3><br/><table class=\"wandb\"><tr><td>Test Accuracy</td><td>0.511</td></tr><tr><td>Test F1</td><td>0.67637</td></tr><tr><td>Test Loss</td><td>0.69336</td></tr><tr><td>Test Sensitivity</td><td>1.0</td></tr><tr><td>Test Specificity</td><td>0.0</td></tr><tr><td>Train Accuracy</td><td>0.52643</td></tr><tr><td>Train F1</td><td>0.68975</td></tr><tr><td>Train Loss</td><td>0.69167</td></tr><tr><td>Train Sensitivity</td><td>1.0</td></tr><tr><td>Train Specificity</td><td>0.0</td></tr></table><br/></div></div>"
      ],
      "text/plain": [
       "<IPython.core.display.HTML object>"
      ]
     },
     "metadata": {},
     "output_type": "display_data"
    },
    {
     "data": {
      "text/html": [
       " View run <strong style=\"color:#cdcd00\">distinctive-sweep-14</strong> at: <a href='https://wandb.ai/dylan-home/pnca-sweep-1/runs/4figdfpc' target=\"_blank\">https://wandb.ai/dylan-home/pnca-sweep-1/runs/4figdfpc</a><br/>Synced 5 W&B file(s), 0 media file(s), 0 artifact file(s) and 0 other file(s)"
      ],
      "text/plain": [
       "<IPython.core.display.HTML object>"
      ]
     },
     "metadata": {},
     "output_type": "display_data"
    },
    {
     "data": {
      "text/html": [
       "Find logs at: <code>./wandb/run-20250116_002835-4figdfpc/logs</code>"
      ],
      "text/plain": [
       "<IPython.core.display.HTML object>"
      ]
     },
     "metadata": {},
     "output_type": "display_data"
    },
    {
     "name": "stderr",
     "output_type": "stream",
     "text": [
      "\u001b[34m\u001b[1mwandb\u001b[0m: Agent Starting Run: gtdwe980 with config:\n",
      "\u001b[34m\u001b[1mwandb\u001b[0m: \tcutoff_distance: 7.448958082755152\n",
      "\u001b[34m\u001b[1mwandb\u001b[0m: \tdropout: 0.5\n",
      "\u001b[34m\u001b[1mwandb\u001b[0m: \thidden_channels: 384\n",
      "\u001b[34m\u001b[1mwandb\u001b[0m: \tlearning_rate: 0.0087559503895487\n",
      "\u001b[34m\u001b[1mwandb\u001b[0m: \tweight_decay: 0.00011827554750461128\n",
      "Failed to detect the name of this notebook, you can set it manually with the WANDB_NOTEBOOK_NAME environment variable to enable code saving.\n",
      "/usr/lib/python3/dist-packages/requests/__init__.py:87: RequestsDependencyWarning: urllib3 (2.2.3) or chardet (4.0.0) doesn't match a supported version!\n",
      "  warnings.warn(\"urllib3 ({}) or chardet ({}) doesn't match a supported \"\n"
     ]
    },
    {
     "data": {
      "text/html": [
       "wandb version 0.19.3 is available!  To upgrade, please run:\n",
       " $ pip install wandb --upgrade"
      ],
      "text/plain": [
       "<IPython.core.display.HTML object>"
      ]
     },
     "metadata": {},
     "output_type": "display_data"
    },
    {
     "data": {
      "text/html": [
       "Tracking run with wandb version 0.16.4"
      ],
      "text/plain": [
       "<IPython.core.display.HTML object>"
      ]
     },
     "metadata": {},
     "output_type": "display_data"
    },
    {
     "data": {
      "text/html": [
       "Run data is saved locally in <code>/mnt/alphafold-volume-1/dylan2/repos/tb-pnca-gnn/dd_pnca/wandb/run-20250116_002931-gtdwe980</code>"
      ],
      "text/plain": [
       "<IPython.core.display.HTML object>"
      ]
     },
     "metadata": {},
     "output_type": "display_data"
    },
    {
     "data": {
      "text/html": [
       "Syncing run <strong><a href='https://wandb.ai/dylan-home/pnca-sweep-1/runs/gtdwe980' target=\"_blank\">brisk-sweep-15</a></strong> to <a href='https://wandb.ai/dylan-home/pnca-sweep-1' target=\"_blank\">Weights & Biases</a> (<a href='https://wandb.me/run' target=\"_blank\">docs</a>)<br/>Sweep page: <a href='https://wandb.ai/dylan-home/pnca-sweep-1/sweeps/tr8mwg42' target=\"_blank\">https://wandb.ai/dylan-home/pnca-sweep-1/sweeps/tr8mwg42</a>"
      ],
      "text/plain": [
       "<IPython.core.display.HTML object>"
      ]
     },
     "metadata": {},
     "output_type": "display_data"
    },
    {
     "data": {
      "text/html": [
       " View project at <a href='https://wandb.ai/dylan-home/pnca-sweep-1' target=\"_blank\">https://wandb.ai/dylan-home/pnca-sweep-1</a>"
      ],
      "text/plain": [
       "<IPython.core.display.HTML object>"
      ]
     },
     "metadata": {},
     "output_type": "display_data"
    },
    {
     "data": {
      "text/html": [
       " View sweep at <a href='https://wandb.ai/dylan-home/pnca-sweep-1/sweeps/tr8mwg42' target=\"_blank\">https://wandb.ai/dylan-home/pnca-sweep-1/sweeps/tr8mwg42</a>"
      ],
      "text/plain": [
       "<IPython.core.display.HTML object>"
      ]
     },
     "metadata": {},
     "output_type": "display_data"
    },
    {
     "data": {
      "text/html": [
       " View run at <a href='https://wandb.ai/dylan-home/pnca-sweep-1/runs/gtdwe980' target=\"_blank\">https://wandb.ai/dylan-home/pnca-sweep-1/runs/gtdwe980</a>"
      ],
      "text/plain": [
       "<IPython.core.display.HTML object>"
      ]
     },
     "metadata": {},
     "output_type": "display_data"
    },
    {
     "name": "stdout",
     "output_type": "stream",
     "text": [
      "Using CUDA\n",
      "Early stopping enabled. Patience: 20. Min Delta: 0.\n",
      "Epoch: 010, Train Acc: 0.5264, Test Acc: 0.5110, Train Loss: 0.6930, Test Loss: 0.6961\n",
      "Epoch: 020, Train Acc: 0.5264, Test Acc: 0.5110, Train Loss: 0.6921, Test Loss: 0.6945\n",
      "Epoch: 030, Train Acc: 0.5264, Test Acc: 0.5110, Train Loss: 0.6920, Test Loss: 0.6945\n",
      "20 epochs passed without 0 test loss improvement. \n",
      "Early stopping triggered.\n"
     ]
    },
    {
     "data": {
      "text/html": [
       "<style>\n",
       "    table.wandb td:nth-child(1) { padding: 0 10px; text-align: left ; width: auto;} td:nth-child(2) {text-align: left ; width: 100%}\n",
       "    .wandb-row { display: flex; flex-direction: row; flex-wrap: wrap; justify-content: flex-start; width: 100% }\n",
       "    .wandb-col { display: flex; flex-direction: column; flex-basis: 100%; flex: 1; padding: 10px; }\n",
       "    </style>\n",
       "<div class=\"wandb-row\"><div class=\"wandb-col\"><h3>Run history:</h3><br/><table class=\"wandb\"><tr><td>Test Accuracy</td><td>█████▁▁███████▁█████████████████████▁</td></tr><tr><td>Test F1</td><td>█████▁▁███████▁█████████████████████▁</td></tr><tr><td>Test Loss</td><td>▁▁▁▂▄▁▁▂▂▃▁▁▅▁▃▁▁▁▁▂▂▁▁▂▁▁▃▁▂▂▁█▁▁▂▂▂</td></tr><tr><td>Test Sensitivity</td><td>█████▁▁███████▁█████████████████████▁</td></tr><tr><td>Test Specificity</td><td>▁▁▁▁▁██▁▁▁▁▁▁▁█▁▁▁▁▁▁▁▁▁▁▁▁▁▁▁▁▁▁▁▁▁█</td></tr><tr><td>Train Accuracy</td><td>█████▁▁███████▁█████████████████████▁</td></tr><tr><td>Train F1</td><td>█████▁▁███████▁█████████████████████▁</td></tr><tr><td>Train Loss</td><td>▁▁▁▁▄▃▃▁▁▃▁▁▄▁▇▁▂▁▂▂▂▂▁▁▁▁▃▁▁▁▁█▁▂▂▁▆</td></tr><tr><td>Train Sensitivity</td><td>█████▁▁███████▁█████████████████████▁</td></tr><tr><td>Train Specificity</td><td>▁▁▁▁▁██▁▁▁▁▁▁▁█▁▁▁▁▁▁▁▁▁▁▁▁▁▁▁▁▁▁▁▁▁█</td></tr></table><br/></div><div class=\"wandb-col\"><h3>Run summary:</h3><br/><table class=\"wandb\"><tr><td>Test Accuracy</td><td>0.489</td></tr><tr><td>Test F1</td><td>0.0</td></tr><tr><td>Test Loss</td><td>0.69462</td></tr><tr><td>Test Sensitivity</td><td>0.0</td></tr><tr><td>Test Specificity</td><td>1.0</td></tr><tr><td>Train Accuracy</td><td>0.47357</td></tr><tr><td>Train F1</td><td>0.0</td></tr><tr><td>Train Loss</td><td>0.69549</td></tr><tr><td>Train Sensitivity</td><td>0.0</td></tr><tr><td>Train Specificity</td><td>1.0</td></tr></table><br/></div></div>"
      ],
      "text/plain": [
       "<IPython.core.display.HTML object>"
      ]
     },
     "metadata": {},
     "output_type": "display_data"
    },
    {
     "data": {
      "text/html": [
       " View run <strong style=\"color:#cdcd00\">brisk-sweep-15</strong> at: <a href='https://wandb.ai/dylan-home/pnca-sweep-1/runs/gtdwe980' target=\"_blank\">https://wandb.ai/dylan-home/pnca-sweep-1/runs/gtdwe980</a><br/>Synced 5 W&B file(s), 0 media file(s), 0 artifact file(s) and 0 other file(s)"
      ],
      "text/plain": [
       "<IPython.core.display.HTML object>"
      ]
     },
     "metadata": {},
     "output_type": "display_data"
    },
    {
     "data": {
      "text/html": [
       "Find logs at: <code>./wandb/run-20250116_002931-gtdwe980/logs</code>"
      ],
      "text/plain": [
       "<IPython.core.display.HTML object>"
      ]
     },
     "metadata": {},
     "output_type": "display_data"
    },
    {
     "name": "stderr",
     "output_type": "stream",
     "text": [
      "\u001b[34m\u001b[1mwandb\u001b[0m: Agent Starting Run: 7j538awk with config:\n",
      "\u001b[34m\u001b[1mwandb\u001b[0m: \tcutoff_distance: 4.7020897344281645\n",
      "\u001b[34m\u001b[1mwandb\u001b[0m: \tdropout: 0.5\n",
      "\u001b[34m\u001b[1mwandb\u001b[0m: \thidden_channels: 256\n",
      "\u001b[34m\u001b[1mwandb\u001b[0m: \tlearning_rate: 0.0002292574628002312\n",
      "\u001b[34m\u001b[1mwandb\u001b[0m: \tweight_decay: 0.0015799485925566026\n",
      "Failed to detect the name of this notebook, you can set it manually with the WANDB_NOTEBOOK_NAME environment variable to enable code saving.\n",
      "/usr/lib/python3/dist-packages/requests/__init__.py:87: RequestsDependencyWarning: urllib3 (2.2.3) or chardet (4.0.0) doesn't match a supported version!\n",
      "  warnings.warn(\"urllib3 ({}) or chardet ({}) doesn't match a supported \"\n"
     ]
    },
    {
     "data": {
      "text/html": [
       "wandb version 0.19.3 is available!  To upgrade, please run:\n",
       " $ pip install wandb --upgrade"
      ],
      "text/plain": [
       "<IPython.core.display.HTML object>"
      ]
     },
     "metadata": {},
     "output_type": "display_data"
    },
    {
     "data": {
      "text/html": [
       "Tracking run with wandb version 0.16.4"
      ],
      "text/plain": [
       "<IPython.core.display.HTML object>"
      ]
     },
     "metadata": {},
     "output_type": "display_data"
    },
    {
     "data": {
      "text/html": [
       "Run data is saved locally in <code>/mnt/alphafold-volume-1/dylan2/repos/tb-pnca-gnn/dd_pnca/wandb/run-20250116_003109-7j538awk</code>"
      ],
      "text/plain": [
       "<IPython.core.display.HTML object>"
      ]
     },
     "metadata": {},
     "output_type": "display_data"
    },
    {
     "data": {
      "text/html": [
       "Syncing run <strong><a href='https://wandb.ai/dylan-home/pnca-sweep-1/runs/7j538awk' target=\"_blank\">pretty-sweep-16</a></strong> to <a href='https://wandb.ai/dylan-home/pnca-sweep-1' target=\"_blank\">Weights & Biases</a> (<a href='https://wandb.me/run' target=\"_blank\">docs</a>)<br/>Sweep page: <a href='https://wandb.ai/dylan-home/pnca-sweep-1/sweeps/tr8mwg42' target=\"_blank\">https://wandb.ai/dylan-home/pnca-sweep-1/sweeps/tr8mwg42</a>"
      ],
      "text/plain": [
       "<IPython.core.display.HTML object>"
      ]
     },
     "metadata": {},
     "output_type": "display_data"
    },
    {
     "data": {
      "text/html": [
       " View project at <a href='https://wandb.ai/dylan-home/pnca-sweep-1' target=\"_blank\">https://wandb.ai/dylan-home/pnca-sweep-1</a>"
      ],
      "text/plain": [
       "<IPython.core.display.HTML object>"
      ]
     },
     "metadata": {},
     "output_type": "display_data"
    },
    {
     "data": {
      "text/html": [
       " View sweep at <a href='https://wandb.ai/dylan-home/pnca-sweep-1/sweeps/tr8mwg42' target=\"_blank\">https://wandb.ai/dylan-home/pnca-sweep-1/sweeps/tr8mwg42</a>"
      ],
      "text/plain": [
       "<IPython.core.display.HTML object>"
      ]
     },
     "metadata": {},
     "output_type": "display_data"
    },
    {
     "data": {
      "text/html": [
       " View run at <a href='https://wandb.ai/dylan-home/pnca-sweep-1/runs/7j538awk' target=\"_blank\">https://wandb.ai/dylan-home/pnca-sweep-1/runs/7j538awk</a>"
      ],
      "text/plain": [
       "<IPython.core.display.HTML object>"
      ]
     },
     "metadata": {},
     "output_type": "display_data"
    },
    {
     "name": "stdout",
     "output_type": "stream",
     "text": [
      "Using CUDA\n",
      "Early stopping enabled. Patience: 20. Min Delta: 0.\n",
      "Epoch: 010, Train Acc: 0.4743, Test Acc: 0.4917, Train Loss: 0.7009, Test Loss: 0.6943\n",
      "Epoch: 020, Train Acc: 0.5264, Test Acc: 0.5110, Train Loss: 0.6886, Test Loss: 0.6887\n",
      "Epoch: 030, Train Acc: 0.5264, Test Acc: 0.5110, Train Loss: 0.6879, Test Loss: 0.6876\n",
      "Epoch: 040, Train Acc: 0.5250, Test Acc: 0.5100, Train Loss: 0.6858, Test Loss: 0.6845\n",
      "Epoch: 050, Train Acc: 0.6594, Test Acc: 0.6773, Train Loss: 0.6801, Test Loss: 0.6743\n",
      "Epoch: 060, Train Acc: 0.7106, Test Acc: 0.7073, Train Loss: 0.6698, Test Loss: 0.6645\n",
      "Epoch: 070, Train Acc: 0.7173, Test Acc: 0.7113, Train Loss: 0.6498, Test Loss: 0.6454\n",
      "Epoch: 080, Train Acc: 0.5240, Test Acc: 0.5003, Train Loss: 0.6328, Test Loss: 0.6298\n",
      "Epoch: 090, Train Acc: 0.6491, Test Acc: 0.6727, Train Loss: 0.6259, Test Loss: 0.6140\n",
      "Epoch: 100, Train Acc: 0.7630, Test Acc: 0.7317, Train Loss: 0.5874, Test Loss: 0.5905\n",
      "Epoch: 110, Train Acc: 0.7614, Test Acc: 0.7357, Train Loss: 0.5564, Test Loss: 0.5596\n",
      "Epoch: 120, Train Acc: 0.7050, Test Acc: 0.6907, Train Loss: 0.5629, Test Loss: 0.5677\n",
      "Epoch: 130, Train Acc: 0.7663, Test Acc: 0.7400, Train Loss: 0.5280, Test Loss: 0.5405\n",
      "Epoch: 140, Train Acc: 0.7806, Test Acc: 0.7560, Train Loss: 0.5359, Test Loss: 0.5636\n",
      "Epoch: 150, Train Acc: 0.7073, Test Acc: 0.6843, Train Loss: 0.5505, Test Loss: 0.5724\n",
      "Epoch: 160, Train Acc: 0.7953, Test Acc: 0.7620, Train Loss: 0.4754, Test Loss: 0.5188\n",
      "Epoch: 170, Train Acc: 0.7930, Test Acc: 0.7593, Train Loss: 0.4615, Test Loss: 0.5079\n",
      "Epoch: 180, Train Acc: 0.7936, Test Acc: 0.7610, Train Loss: 0.4541, Test Loss: 0.5012\n",
      "Epoch: 190, Train Acc: 0.7684, Test Acc: 0.7267, Train Loss: 0.4761, Test Loss: 0.5235\n",
      "Epoch: 200, Train Acc: 0.7486, Test Acc: 0.7173, Train Loss: 0.5012, Test Loss: 0.5607\n",
      "Epoch: 210, Train Acc: 0.7929, Test Acc: 0.7527, Train Loss: 0.4348, Test Loss: 0.4980\n",
      "Epoch: 220, Train Acc: 0.8067, Test Acc: 0.7643, Train Loss: 0.4706, Test Loss: 0.5593\n",
      "Epoch: 230, Train Acc: 0.5577, Test Acc: 0.5257, Train Loss: 0.5514, Test Loss: 0.6596\n",
      "Epoch: 240, Train Acc: 0.8263, Test Acc: 0.7730, Train Loss: 0.3798, Test Loss: 0.4845\n",
      "Epoch: 250, Train Acc: 0.8370, Test Acc: 0.7733, Train Loss: 0.3777, Test Loss: 0.4973\n",
      "20 epochs passed without 0 test loss improvement. \n",
      "Early stopping triggered.\n"
     ]
    },
    {
     "data": {
      "text/html": [
       "<style>\n",
       "    table.wandb td:nth-child(1) { padding: 0 10px; text-align: left ; width: auto;} td:nth-child(2) {text-align: left ; width: 100%}\n",
       "    .wandb-row { display: flex; flex-direction: row; flex-wrap: wrap; justify-content: flex-start; width: 100% }\n",
       "    .wandb-col { display: flex; flex-direction: column; flex-basis: 100%; flex: 1; padding: 10px; }\n",
       "    </style>\n",
       "<div class=\"wandb-row\"><div class=\"wandb-col\"><h3>Run history:</h3><br/><table class=\"wandb\"><tr><td>Test Accuracy</td><td>▁▂▂▂▂▁▂▂▄▆▁▆▁▁▆▇▇▆▆▂▇▇▇▇▆▆▇▆▆██▆▇▇██████</td></tr><tr><td>Test F1</td><td>▆▆▆▆▆▆▆▆▁▆▆▅▆▆▆▇▆▅▅▆▇█▇▇▆▆▆▄▅█▇▅▆▆█▇██▇▇</td></tr><tr><td>Test Loss</td><td>█████████▇▇▆▆▆▅▅▄▅▄▅▃▄▂▂▃▃▃▇▇▃▁▄▂▂▄▁▁▁▁▂</td></tr><tr><td>Test Sensitivity</td><td>█████▇██▁▄█▃▇▇▄▆▄▃▃▇▅▆▅▅▄▄▄▃▃▇▅▃▄▄▇▅▅▅▅▅</td></tr><tr><td>Test Specificity</td><td>▁▁▁▁▁▁▁▁█▇▁▇▂▂▇▆▇█▇▂▇▆▇▇▇▇▇██▆▇█▇▇▆▇▇▇▇▇</td></tr><tr><td>Train Accuracy</td><td>▂▂▂▂▂▁▂▂▂▆▁▅▂▂▆▇▆▅▅▂▇▇▇▇▆▆▆▅▅█▇▆▇▇██████</td></tr><tr><td>Train F1</td><td>▆▆▆▆▆▆▆▆▁▆▆▅▆▆▆▇▇▅▆▆▇█▇▇▆▆▇▅▅██▆▇▇██████</td></tr><tr><td>Train Loss</td><td>██████████▇▇▇▇▆▆▅▆▅▅▄▅▄▄▄▄▄▇▆▄▂▄▃▃▃▂▁▁▁▁</td></tr><tr><td>Train Sensitivity</td><td>█████▇██▁▅█▄▇▇▅▆▅▃▄▇▆▇▆▆▄▄▅▃▃▇▆▄▅▅▇▆▆▆▆▆</td></tr><tr><td>Train Specificity</td><td>▁▁▁▁▁▁▁▁█▇▁█▂▂▇▆▇██▂▇▆▇▇█████▆▇███▆██▇██</td></tr></table><br/></div><div class=\"wandb-col\"><h3>Run summary:</h3><br/><table class=\"wandb\"><tr><td>Test Accuracy</td><td>0.76233</td></tr><tr><td>Test F1</td><td>0.73366</td></tr><tr><td>Test Loss</td><td>0.50682</td></tr><tr><td>Test Sensitivity</td><td>0.64057</td></tr><tr><td>Test Specificity</td><td>0.88957</td></tr><tr><td>Train Accuracy</td><td>0.82114</td></tr><tr><td>Train F1</td><td>0.80407</td></tr><tr><td>Train Loss</td><td>0.38889</td></tr><tr><td>Train Sensitivity</td><td>0.69715</td></tr><tr><td>Train Specificity</td><td>0.95897</td></tr></table><br/></div></div>"
      ],
      "text/plain": [
       "<IPython.core.display.HTML object>"
      ]
     },
     "metadata": {},
     "output_type": "display_data"
    },
    {
     "data": {
      "text/html": [
       " View run <strong style=\"color:#cdcd00\">pretty-sweep-16</strong> at: <a href='https://wandb.ai/dylan-home/pnca-sweep-1/runs/7j538awk' target=\"_blank\">https://wandb.ai/dylan-home/pnca-sweep-1/runs/7j538awk</a><br/>Synced 5 W&B file(s), 0 media file(s), 0 artifact file(s) and 0 other file(s)"
      ],
      "text/plain": [
       "<IPython.core.display.HTML object>"
      ]
     },
     "metadata": {},
     "output_type": "display_data"
    },
    {
     "data": {
      "text/html": [
       "Find logs at: <code>./wandb/run-20250116_003109-7j538awk/logs</code>"
      ],
      "text/plain": [
       "<IPython.core.display.HTML object>"
      ]
     },
     "metadata": {},
     "output_type": "display_data"
    },
    {
     "name": "stderr",
     "output_type": "stream",
     "text": [
      "\u001b[34m\u001b[1mwandb\u001b[0m: Agent Starting Run: gbovyotr with config:\n",
      "\u001b[34m\u001b[1mwandb\u001b[0m: \tcutoff_distance: 6.726665863535476\n",
      "\u001b[34m\u001b[1mwandb\u001b[0m: \tdropout: 0.5\n",
      "\u001b[34m\u001b[1mwandb\u001b[0m: \thidden_channels: 64\n",
      "\u001b[34m\u001b[1mwandb\u001b[0m: \tlearning_rate: 0.0003914879920205936\n",
      "\u001b[34m\u001b[1mwandb\u001b[0m: \tweight_decay: 0.005176537597043759\n",
      "Failed to detect the name of this notebook, you can set it manually with the WANDB_NOTEBOOK_NAME environment variable to enable code saving.\n",
      "/usr/lib/python3/dist-packages/requests/__init__.py:87: RequestsDependencyWarning: urllib3 (2.2.3) or chardet (4.0.0) doesn't match a supported version!\n",
      "  warnings.warn(\"urllib3 ({}) or chardet ({}) doesn't match a supported \"\n"
     ]
    },
    {
     "data": {
      "text/html": [
       "wandb version 0.19.3 is available!  To upgrade, please run:\n",
       " $ pip install wandb --upgrade"
      ],
      "text/plain": [
       "<IPython.core.display.HTML object>"
      ]
     },
     "metadata": {},
     "output_type": "display_data"
    },
    {
     "data": {
      "text/html": [
       "Tracking run with wandb version 0.16.4"
      ],
      "text/plain": [
       "<IPython.core.display.HTML object>"
      ]
     },
     "metadata": {},
     "output_type": "display_data"
    },
    {
     "data": {
      "text/html": [
       "Run data is saved locally in <code>/mnt/alphafold-volume-1/dylan2/repos/tb-pnca-gnn/dd_pnca/wandb/run-20250116_003941-gbovyotr</code>"
      ],
      "text/plain": [
       "<IPython.core.display.HTML object>"
      ]
     },
     "metadata": {},
     "output_type": "display_data"
    },
    {
     "data": {
      "text/html": [
       "Syncing run <strong><a href='https://wandb.ai/dylan-home/pnca-sweep-1/runs/gbovyotr' target=\"_blank\">expert-sweep-17</a></strong> to <a href='https://wandb.ai/dylan-home/pnca-sweep-1' target=\"_blank\">Weights & Biases</a> (<a href='https://wandb.me/run' target=\"_blank\">docs</a>)<br/>Sweep page: <a href='https://wandb.ai/dylan-home/pnca-sweep-1/sweeps/tr8mwg42' target=\"_blank\">https://wandb.ai/dylan-home/pnca-sweep-1/sweeps/tr8mwg42</a>"
      ],
      "text/plain": [
       "<IPython.core.display.HTML object>"
      ]
     },
     "metadata": {},
     "output_type": "display_data"
    },
    {
     "data": {
      "text/html": [
       " View project at <a href='https://wandb.ai/dylan-home/pnca-sweep-1' target=\"_blank\">https://wandb.ai/dylan-home/pnca-sweep-1</a>"
      ],
      "text/plain": [
       "<IPython.core.display.HTML object>"
      ]
     },
     "metadata": {},
     "output_type": "display_data"
    },
    {
     "data": {
      "text/html": [
       " View sweep at <a href='https://wandb.ai/dylan-home/pnca-sweep-1/sweeps/tr8mwg42' target=\"_blank\">https://wandb.ai/dylan-home/pnca-sweep-1/sweeps/tr8mwg42</a>"
      ],
      "text/plain": [
       "<IPython.core.display.HTML object>"
      ]
     },
     "metadata": {},
     "output_type": "display_data"
    },
    {
     "data": {
      "text/html": [
       " View run at <a href='https://wandb.ai/dylan-home/pnca-sweep-1/runs/gbovyotr' target=\"_blank\">https://wandb.ai/dylan-home/pnca-sweep-1/runs/gbovyotr</a>"
      ],
      "text/plain": [
       "<IPython.core.display.HTML object>"
      ]
     },
     "metadata": {},
     "output_type": "display_data"
    },
    {
     "name": "stdout",
     "output_type": "stream",
     "text": [
      "Using CUDA\n",
      "Early stopping enabled. Patience: 20. Min Delta: 0.\n",
      "Epoch: 010, Train Acc: 0.5073, Test Acc: 0.5007, Train Loss: 0.6915, Test Loss: 0.6909\n",
      "Epoch: 020, Train Acc: 0.5263, Test Acc: 0.5110, Train Loss: 0.6886, Test Loss: 0.6891\n",
      "Epoch: 030, Train Acc: 0.5264, Test Acc: 0.5110, Train Loss: 0.6866, Test Loss: 0.6875\n",
      "Epoch: 040, Train Acc: 0.5251, Test Acc: 0.5110, Train Loss: 0.6791, Test Loss: 0.6806\n",
      "Epoch: 050, Train Acc: 0.6530, Test Acc: 0.6683, Train Loss: 0.6701, Test Loss: 0.6683\n",
      "Epoch: 060, Train Acc: 0.5263, Test Acc: 0.5107, Train Loss: 0.6679, Test Loss: 0.6707\n",
      "Epoch: 070, Train Acc: 0.6799, Test Acc: 0.6917, Train Loss: 0.6367, Test Loss: 0.6309\n",
      "Epoch: 080, Train Acc: 0.6974, Test Acc: 0.6900, Train Loss: 0.6203, Test Loss: 0.6142\n",
      "Epoch: 090, Train Acc: 0.6344, Test Acc: 0.6747, Train Loss: 0.6214, Test Loss: 0.6083\n",
      "Epoch: 100, Train Acc: 0.6746, Test Acc: 0.6813, Train Loss: 0.6007, Test Loss: 0.5920\n",
      "Epoch: 110, Train Acc: 0.6176, Test Acc: 0.6460, Train Loss: 0.6325, Test Loss: 0.6207\n",
      "Epoch: 120, Train Acc: 0.7277, Test Acc: 0.7063, Train Loss: 0.5614, Test Loss: 0.5654\n",
      "Epoch: 130, Train Acc: 0.7824, Test Acc: 0.7337, Train Loss: 0.5572, Test Loss: 0.5754\n",
      "Epoch: 140, Train Acc: 0.7599, Test Acc: 0.7323, Train Loss: 0.5404, Test Loss: 0.5528\n",
      "Epoch: 150, Train Acc: 0.5327, Test Acc: 0.5063, Train Loss: 0.6293, Test Loss: 0.6705\n",
      "Epoch: 160, Train Acc: 0.7436, Test Acc: 0.7140, Train Loss: 0.5028, Test Loss: 0.5311\n",
      "Epoch: 170, Train Acc: 0.7019, Test Acc: 0.6993, Train Loss: 0.5530, Test Loss: 0.5783\n",
      "Epoch: 180, Train Acc: 0.7543, Test Acc: 0.7243, Train Loss: 0.4803, Test Loss: 0.5244\n",
      "Epoch: 190, Train Acc: 0.8050, Test Acc: 0.7457, Train Loss: 0.4954, Test Loss: 0.5634\n",
      "Epoch: 200, Train Acc: 0.7370, Test Acc: 0.7110, Train Loss: 0.5050, Test Loss: 0.5446\n",
      "Epoch: 210, Train Acc: 0.7579, Test Acc: 0.7233, Train Loss: 0.4665, Test Loss: 0.5253\n",
      "Epoch: 220, Train Acc: 0.7813, Test Acc: 0.7450, Train Loss: 0.4339, Test Loss: 0.5081\n",
      "Epoch: 230, Train Acc: 0.8017, Test Acc: 0.7607, Train Loss: 0.4174, Test Loss: 0.5010\n",
      "Epoch: 240, Train Acc: 0.7450, Test Acc: 0.7180, Train Loss: 0.5007, Test Loss: 0.5729\n",
      "Epoch: 250, Train Acc: 0.8217, Test Acc: 0.7487, Train Loss: 0.4047, Test Loss: 0.5196\n",
      "20 epochs passed without 0 test loss improvement. \n",
      "Early stopping triggered.\n"
     ]
    },
    {
     "data": {
      "text/html": [
       "<style>\n",
       "    table.wandb td:nth-child(1) { padding: 0 10px; text-align: left ; width: auto;} td:nth-child(2) {text-align: left ; width: 100%}\n",
       "    .wandb-row { display: flex; flex-direction: row; flex-wrap: wrap; justify-content: flex-start; width: 100% }\n",
       "    .wandb-col { display: flex; flex-direction: column; flex-basis: 100%; flex: 1; padding: 10px; }\n",
       "    </style>\n",
       "<div class=\"wandb-row\"><div class=\"wandb-col\"><h3>Run history:</h3><br/><table class=\"wandb\"><tr><td>Test Accuracy</td><td>▁▁▁▁▁▄▁▁▇▂▅▆▆▇▆▇▇▅▁█▇▇▇▆█▇█▆▇▇█▇▆▇█▇████</td></tr><tr><td>Test F1</td><td>▇▇▇▇▇▄▇▇▇▁▅▆▆█▅█▇▅▇█▇▇▇▆▇▇█▆▇▇█▇▆▇█▇█▇██</td></tr><tr><td>Test Loss</td><td>██████▇▇▇█▆▆▅▅▅▅▅▅█▃▃▂▃▃▂▂▃▃▂▂▂▂▄▂▁▁▁▁▂▂</td></tr><tr><td>Test Sensitivity</td><td>█████▂██▆▁▃▄▄▆▃▇▅▃█▆▅▅▅▄▆▅▇▄▅▅▆▅▄▅▅▅▆▅▆▇</td></tr><tr><td>Test Specificity</td><td>▁▁▁▁▁█▁▁▆██▇▇▆█▅▇█▁▆▇▇▇▇▇▇▆▇▇▇▆▇▇▇▇▇▇▇▆▆</td></tr><tr><td>Train Accuracy</td><td>▁▁▁▁▁▃▁▁▅▁▄▅▅▆▄▆▅▃▁▇▆▆▆▆▇▆▇▆▆▆▇▇▆▆▇▇▇▇██</td></tr><tr><td>Train F1</td><td>▆▆▆▆▆▃▆▆▇▁▄▆▆▇▄▇▆▄▆▇▇▇▇▆▇▇█▆▇▇█▇▆▇▇▇▇▇██</td></tr><tr><td>Train Loss</td><td>███████▇▇█▇▇▆▆▆▆▆▆▇▄▄▄▄▄▃▃▃▃▃▃▂▂▄▂▂▂▁▁▁▁</td></tr><tr><td>Train Sensitivity</td><td>█████▂██▆▁▃▄▄▆▃▇▅▃█▆▆▅▆▄▆▅▇▄▅▅▇▅▄▅▆▆▆▆▇▇</td></tr><tr><td>Train Specificity</td><td>▁▁▁▁▁█▁▁▆██▇▇▆█▆▇█▁▆▇▇▇█▇▇▆█▇█▇▇██▇▇▇▇▇▇</td></tr></table><br/></div><div class=\"wandb-col\"><h3>Run summary:</h3><br/><table class=\"wandb\"><tr><td>Test Accuracy</td><td>0.74867</td></tr><tr><td>Test F1</td><td>0.7495</td></tr><tr><td>Test Loss</td><td>0.51959</td></tr><tr><td>Test Sensitivity</td><td>0.73581</td></tr><tr><td>Test Specificity</td><td>0.7621</td></tr><tr><td>Train Accuracy</td><td>0.82171</td></tr><tr><td>Train F1</td><td>0.8255</td></tr><tr><td>Train Loss</td><td>0.4047</td></tr><tr><td>Train Sensitivity</td><td>0.80109</td></tr><tr><td>Train Specificity</td><td>0.84465</td></tr></table><br/></div></div>"
      ],
      "text/plain": [
       "<IPython.core.display.HTML object>"
      ]
     },
     "metadata": {},
     "output_type": "display_data"
    },
    {
     "data": {
      "text/html": [
       " View run <strong style=\"color:#cdcd00\">expert-sweep-17</strong> at: <a href='https://wandb.ai/dylan-home/pnca-sweep-1/runs/gbovyotr' target=\"_blank\">https://wandb.ai/dylan-home/pnca-sweep-1/runs/gbovyotr</a><br/>Synced 5 W&B file(s), 0 media file(s), 0 artifact file(s) and 0 other file(s)"
      ],
      "text/plain": [
       "<IPython.core.display.HTML object>"
      ]
     },
     "metadata": {},
     "output_type": "display_data"
    },
    {
     "data": {
      "text/html": [
       "Find logs at: <code>./wandb/run-20250116_003941-gbovyotr/logs</code>"
      ],
      "text/plain": [
       "<IPython.core.display.HTML object>"
      ]
     },
     "metadata": {},
     "output_type": "display_data"
    },
    {
     "name": "stderr",
     "output_type": "stream",
     "text": [
      "\u001b[34m\u001b[1mwandb\u001b[0m: Agent Starting Run: h3aye9ez with config:\n",
      "\u001b[34m\u001b[1mwandb\u001b[0m: \tcutoff_distance: 3.010679626901116\n",
      "\u001b[34m\u001b[1mwandb\u001b[0m: \tdropout: 0.2\n",
      "\u001b[34m\u001b[1mwandb\u001b[0m: \thidden_channels: 64\n",
      "\u001b[34m\u001b[1mwandb\u001b[0m: \tlearning_rate: 0.001527077778227956\n",
      "\u001b[34m\u001b[1mwandb\u001b[0m: \tweight_decay: 5.128300880527216e-07\n",
      "Failed to detect the name of this notebook, you can set it manually with the WANDB_NOTEBOOK_NAME environment variable to enable code saving.\n",
      "/usr/lib/python3/dist-packages/requests/__init__.py:87: RequestsDependencyWarning: urllib3 (2.2.3) or chardet (4.0.0) doesn't match a supported version!\n",
      "  warnings.warn(\"urllib3 ({}) or chardet ({}) doesn't match a supported \"\n"
     ]
    },
    {
     "data": {
      "text/html": [
       "wandb version 0.19.3 is available!  To upgrade, please run:\n",
       " $ pip install wandb --upgrade"
      ],
      "text/plain": [
       "<IPython.core.display.HTML object>"
      ]
     },
     "metadata": {},
     "output_type": "display_data"
    },
    {
     "data": {
      "text/html": [
       "Tracking run with wandb version 0.16.4"
      ],
      "text/plain": [
       "<IPython.core.display.HTML object>"
      ]
     },
     "metadata": {},
     "output_type": "display_data"
    },
    {
     "data": {
      "text/html": [
       "Run data is saved locally in <code>/mnt/alphafold-volume-1/dylan2/repos/tb-pnca-gnn/dd_pnca/wandb/run-20250116_004642-h3aye9ez</code>"
      ],
      "text/plain": [
       "<IPython.core.display.HTML object>"
      ]
     },
     "metadata": {},
     "output_type": "display_data"
    },
    {
     "data": {
      "text/html": [
       "Syncing run <strong><a href='https://wandb.ai/dylan-home/pnca-sweep-1/runs/h3aye9ez' target=\"_blank\">spring-sweep-18</a></strong> to <a href='https://wandb.ai/dylan-home/pnca-sweep-1' target=\"_blank\">Weights & Biases</a> (<a href='https://wandb.me/run' target=\"_blank\">docs</a>)<br/>Sweep page: <a href='https://wandb.ai/dylan-home/pnca-sweep-1/sweeps/tr8mwg42' target=\"_blank\">https://wandb.ai/dylan-home/pnca-sweep-1/sweeps/tr8mwg42</a>"
      ],
      "text/plain": [
       "<IPython.core.display.HTML object>"
      ]
     },
     "metadata": {},
     "output_type": "display_data"
    },
    {
     "data": {
      "text/html": [
       " View project at <a href='https://wandb.ai/dylan-home/pnca-sweep-1' target=\"_blank\">https://wandb.ai/dylan-home/pnca-sweep-1</a>"
      ],
      "text/plain": [
       "<IPython.core.display.HTML object>"
      ]
     },
     "metadata": {},
     "output_type": "display_data"
    },
    {
     "data": {
      "text/html": [
       " View sweep at <a href='https://wandb.ai/dylan-home/pnca-sweep-1/sweeps/tr8mwg42' target=\"_blank\">https://wandb.ai/dylan-home/pnca-sweep-1/sweeps/tr8mwg42</a>"
      ],
      "text/plain": [
       "<IPython.core.display.HTML object>"
      ]
     },
     "metadata": {},
     "output_type": "display_data"
    },
    {
     "data": {
      "text/html": [
       " View run at <a href='https://wandb.ai/dylan-home/pnca-sweep-1/runs/h3aye9ez' target=\"_blank\">https://wandb.ai/dylan-home/pnca-sweep-1/runs/h3aye9ez</a>"
      ],
      "text/plain": [
       "<IPython.core.display.HTML object>"
      ]
     },
     "metadata": {},
     "output_type": "display_data"
    },
    {
     "name": "stdout",
     "output_type": "stream",
     "text": [
      "Using CUDA\n",
      "Early stopping enabled. Patience: 20. Min Delta: 0.\n",
      "Epoch: 010, Train Acc: 0.5264, Test Acc: 0.5110, Train Loss: 0.6919, Test Loss: 0.6933\n",
      "Epoch: 020, Train Acc: 0.5264, Test Acc: 0.5110, Train Loss: 0.6915, Test Loss: 0.6928\n",
      "20 epochs passed without 0 test loss improvement. \n",
      "Early stopping triggered.\n"
     ]
    },
    {
     "data": {
      "text/html": [
       "<style>\n",
       "    table.wandb td:nth-child(1) { padding: 0 10px; text-align: left ; width: auto;} td:nth-child(2) {text-align: left ; width: 100%}\n",
       "    .wandb-row { display: flex; flex-direction: row; flex-wrap: wrap; justify-content: flex-start; width: 100% }\n",
       "    .wandb-col { display: flex; flex-direction: column; flex-basis: 100%; flex: 1; padding: 10px; }\n",
       "    </style>\n",
       "<div class=\"wandb-row\"><div class=\"wandb-col\"><h3>Run history:</h3><br/><table class=\"wandb\"><tr><td>Test Accuracy</td><td>█▁████████████████████</td></tr><tr><td>Test F1</td><td>█▁████████████████████</td></tr><tr><td>Test Loss</td><td>█▁▁▁▁▁▁▁▁▂▁▁▁▁▁▁▁▁▁▁▁▁</td></tr><tr><td>Test Sensitivity</td><td>█▁████████████████████</td></tr><tr><td>Test Specificity</td><td>▁█▁▁▁▁▁▁▁▁▁▁▁▁▁▁▁▁▁▁▁▁</td></tr><tr><td>Train Accuracy</td><td>█▁████████████████████</td></tr><tr><td>Train F1</td><td>█▁████████████████████</td></tr><tr><td>Train Loss</td><td>█▁▁▁▁▂▁▁▁▁▁▁▁▁▁▁▁▁▁▁▁▁</td></tr><tr><td>Train Sensitivity</td><td>█▁████████████████████</td></tr><tr><td>Train Specificity</td><td>▁█▁▁▁▁▁▁▁▁▁▁▁▁▁▁▁▁▁▁▁▁</td></tr></table><br/></div><div class=\"wandb-col\"><h3>Run summary:</h3><br/><table class=\"wandb\"><tr><td>Test Accuracy</td><td>0.511</td></tr><tr><td>Test F1</td><td>0.67637</td></tr><tr><td>Test Loss</td><td>0.69216</td></tr><tr><td>Test Sensitivity</td><td>1.0</td></tr><tr><td>Test Specificity</td><td>0.0</td></tr><tr><td>Train Accuracy</td><td>0.52643</td></tr><tr><td>Train F1</td><td>0.68975</td></tr><tr><td>Train Loss</td><td>0.69131</td></tr><tr><td>Train Sensitivity</td><td>1.0</td></tr><tr><td>Train Specificity</td><td>0.0</td></tr></table><br/></div></div>"
      ],
      "text/plain": [
       "<IPython.core.display.HTML object>"
      ]
     },
     "metadata": {},
     "output_type": "display_data"
    },
    {
     "data": {
      "text/html": [
       " View run <strong style=\"color:#cdcd00\">spring-sweep-18</strong> at: <a href='https://wandb.ai/dylan-home/pnca-sweep-1/runs/h3aye9ez' target=\"_blank\">https://wandb.ai/dylan-home/pnca-sweep-1/runs/h3aye9ez</a><br/>Synced 5 W&B file(s), 0 media file(s), 0 artifact file(s) and 0 other file(s)"
      ],
      "text/plain": [
       "<IPython.core.display.HTML object>"
      ]
     },
     "metadata": {},
     "output_type": "display_data"
    },
    {
     "data": {
      "text/html": [
       "Find logs at: <code>./wandb/run-20250116_004642-h3aye9ez/logs</code>"
      ],
      "text/plain": [
       "<IPython.core.display.HTML object>"
      ]
     },
     "metadata": {},
     "output_type": "display_data"
    },
    {
     "name": "stderr",
     "output_type": "stream",
     "text": [
      "\u001b[34m\u001b[1mwandb\u001b[0m: Agent Starting Run: pcky5bh4 with config:\n",
      "\u001b[34m\u001b[1mwandb\u001b[0m: \tcutoff_distance: 4.087368341486717\n",
      "\u001b[34m\u001b[1mwandb\u001b[0m: \tdropout: 0.8\n",
      "\u001b[34m\u001b[1mwandb\u001b[0m: \thidden_channels: 64\n",
      "\u001b[34m\u001b[1mwandb\u001b[0m: \tlearning_rate: 0.009502824680682788\n",
      "\u001b[34m\u001b[1mwandb\u001b[0m: \tweight_decay: 0.005639247285062576\n",
      "Failed to detect the name of this notebook, you can set it manually with the WANDB_NOTEBOOK_NAME environment variable to enable code saving.\n",
      "/usr/lib/python3/dist-packages/requests/__init__.py:87: RequestsDependencyWarning: urllib3 (2.2.3) or chardet (4.0.0) doesn't match a supported version!\n",
      "  warnings.warn(\"urllib3 ({}) or chardet ({}) doesn't match a supported \"\n"
     ]
    },
    {
     "data": {
      "text/html": [
       "wandb version 0.19.3 is available!  To upgrade, please run:\n",
       " $ pip install wandb --upgrade"
      ],
      "text/plain": [
       "<IPython.core.display.HTML object>"
      ]
     },
     "metadata": {},
     "output_type": "display_data"
    },
    {
     "data": {
      "text/html": [
       "Tracking run with wandb version 0.16.4"
      ],
      "text/plain": [
       "<IPython.core.display.HTML object>"
      ]
     },
     "metadata": {},
     "output_type": "display_data"
    },
    {
     "data": {
      "text/html": [
       "Run data is saved locally in <code>/mnt/alphafold-volume-1/dylan2/repos/tb-pnca-gnn/dd_pnca/wandb/run-20250116_004733-pcky5bh4</code>"
      ],
      "text/plain": [
       "<IPython.core.display.HTML object>"
      ]
     },
     "metadata": {},
     "output_type": "display_data"
    },
    {
     "data": {
      "text/html": [
       "Syncing run <strong><a href='https://wandb.ai/dylan-home/pnca-sweep-1/runs/pcky5bh4' target=\"_blank\">firm-sweep-19</a></strong> to <a href='https://wandb.ai/dylan-home/pnca-sweep-1' target=\"_blank\">Weights & Biases</a> (<a href='https://wandb.me/run' target=\"_blank\">docs</a>)<br/>Sweep page: <a href='https://wandb.ai/dylan-home/pnca-sweep-1/sweeps/tr8mwg42' target=\"_blank\">https://wandb.ai/dylan-home/pnca-sweep-1/sweeps/tr8mwg42</a>"
      ],
      "text/plain": [
       "<IPython.core.display.HTML object>"
      ]
     },
     "metadata": {},
     "output_type": "display_data"
    },
    {
     "data": {
      "text/html": [
       " View project at <a href='https://wandb.ai/dylan-home/pnca-sweep-1' target=\"_blank\">https://wandb.ai/dylan-home/pnca-sweep-1</a>"
      ],
      "text/plain": [
       "<IPython.core.display.HTML object>"
      ]
     },
     "metadata": {},
     "output_type": "display_data"
    },
    {
     "data": {
      "text/html": [
       " View sweep at <a href='https://wandb.ai/dylan-home/pnca-sweep-1/sweeps/tr8mwg42' target=\"_blank\">https://wandb.ai/dylan-home/pnca-sweep-1/sweeps/tr8mwg42</a>"
      ],
      "text/plain": [
       "<IPython.core.display.HTML object>"
      ]
     },
     "metadata": {},
     "output_type": "display_data"
    },
    {
     "data": {
      "text/html": [
       " View run at <a href='https://wandb.ai/dylan-home/pnca-sweep-1/runs/pcky5bh4' target=\"_blank\">https://wandb.ai/dylan-home/pnca-sweep-1/runs/pcky5bh4</a>"
      ],
      "text/plain": [
       "<IPython.core.display.HTML object>"
      ]
     },
     "metadata": {},
     "output_type": "display_data"
    },
    {
     "name": "stdout",
     "output_type": "stream",
     "text": [
      "Using CUDA\n",
      "Early stopping enabled. Patience: 20. Min Delta: 0.\n",
      "Epoch: 010, Train Acc: 0.5264, Test Acc: 0.5110, Train Loss: 0.6925, Test Loss: 0.6944\n",
      "Epoch: 020, Train Acc: 0.5264, Test Acc: 0.5110, Train Loss: 0.6918, Test Loss: 0.6938\n",
      "20 epochs passed without 0 test loss improvement. \n",
      "Early stopping triggered.\n"
     ]
    },
    {
     "data": {
      "text/html": [
       "<style>\n",
       "    table.wandb td:nth-child(1) { padding: 0 10px; text-align: left ; width: auto;} td:nth-child(2) {text-align: left ; width: 100%}\n",
       "    .wandb-row { display: flex; flex-direction: row; flex-wrap: wrap; justify-content: flex-start; width: 100% }\n",
       "    .wandb-col { display: flex; flex-direction: column; flex-basis: 100%; flex: 1; padding: 10px; }\n",
       "    </style>\n",
       "<div class=\"wandb-row\"><div class=\"wandb-col\"><h3>Run history:</h3><br/><table class=\"wandb\"><tr><td>Test Accuracy</td><td>▁▁▁▁▁▁▁▁▁▁▁▁▁▁▁▁▁▁▁▁▁▁▁▁▁▁</td></tr><tr><td>Test F1</td><td>▁▁▁▁▁▁▁▁▁▁▁▁▁▁▁▁▁▁▁▁▁▁▁▁▁▁</td></tr><tr><td>Test Loss</td><td>▃▃▄▂▃▁▂▃▃█▂▃▄▇▂▂▄▂▁▅▂▁▁▂▂▄</td></tr><tr><td>Test Sensitivity</td><td>▁▁▁▁▁▁▁▁▁▁▁▁▁▁▁▁▁▁▁▁▁▁▁▁▁▁</td></tr><tr><td>Test Specificity</td><td>▁▁▁▁▁▁▁▁▁▁▁▁▁▁▁▁▁▁▁▁▁▁▁▁▁▁</td></tr><tr><td>Train Accuracy</td><td>▁▁▁▁▁▁▁▁▁▁▁▁▁▁▁▁▁▁▁▁▁▁▁▁▁▁</td></tr><tr><td>Train F1</td><td>▁▁▁▁▁▁▁▁▁▁▁▁▁▁▁▁▁▁▁▁▁▁▁▁▁▁</td></tr><tr><td>Train Loss</td><td>▃▄▁▄▄▆▃▂▄█▃▄▄▄▃▄▅▄▆▃▃▄▃▅▃▃</td></tr><tr><td>Train Sensitivity</td><td>▁▁▁▁▁▁▁▁▁▁▁▁▁▁▁▁▁▁▁▁▁▁▁▁▁▁</td></tr><tr><td>Train Specificity</td><td>▁▁▁▁▁▁▁▁▁▁▁▁▁▁▁▁▁▁▁▁▁▁▁▁▁▁</td></tr></table><br/></div><div class=\"wandb-col\"><h3>Run summary:</h3><br/><table class=\"wandb\"><tr><td>Test Accuracy</td><td>0.511</td></tr><tr><td>Test F1</td><td>0.67637</td></tr><tr><td>Test Loss</td><td>0.69348</td></tr><tr><td>Test Sensitivity</td><td>1.0</td></tr><tr><td>Test Specificity</td><td>0.0</td></tr><tr><td>Train Accuracy</td><td>0.52643</td></tr><tr><td>Train F1</td><td>0.68975</td></tr><tr><td>Train Loss</td><td>0.69169</td></tr><tr><td>Train Sensitivity</td><td>1.0</td></tr><tr><td>Train Specificity</td><td>0.0</td></tr></table><br/></div></div>"
      ],
      "text/plain": [
       "<IPython.core.display.HTML object>"
      ]
     },
     "metadata": {},
     "output_type": "display_data"
    },
    {
     "data": {
      "text/html": [
       " View run <strong style=\"color:#cdcd00\">firm-sweep-19</strong> at: <a href='https://wandb.ai/dylan-home/pnca-sweep-1/runs/pcky5bh4' target=\"_blank\">https://wandb.ai/dylan-home/pnca-sweep-1/runs/pcky5bh4</a><br/>Synced 5 W&B file(s), 0 media file(s), 0 artifact file(s) and 0 other file(s)"
      ],
      "text/plain": [
       "<IPython.core.display.HTML object>"
      ]
     },
     "metadata": {},
     "output_type": "display_data"
    },
    {
     "data": {
      "text/html": [
       "Find logs at: <code>./wandb/run-20250116_004733-pcky5bh4/logs</code>"
      ],
      "text/plain": [
       "<IPython.core.display.HTML object>"
      ]
     },
     "metadata": {},
     "output_type": "display_data"
    },
    {
     "name": "stderr",
     "output_type": "stream",
     "text": [
      "\u001b[34m\u001b[1mwandb\u001b[0m: Agent Starting Run: u4k226ud with config:\n",
      "\u001b[34m\u001b[1mwandb\u001b[0m: \tcutoff_distance: 9.115868912315898\n",
      "\u001b[34m\u001b[1mwandb\u001b[0m: \tdropout: 0.4\n",
      "\u001b[34m\u001b[1mwandb\u001b[0m: \thidden_channels: 192\n",
      "\u001b[34m\u001b[1mwandb\u001b[0m: \tlearning_rate: 0.004117759542902883\n",
      "\u001b[34m\u001b[1mwandb\u001b[0m: \tweight_decay: 8.524473763679775e-06\n",
      "Failed to detect the name of this notebook, you can set it manually with the WANDB_NOTEBOOK_NAME environment variable to enable code saving.\n",
      "/usr/lib/python3/dist-packages/requests/__init__.py:87: RequestsDependencyWarning: urllib3 (2.2.3) or chardet (4.0.0) doesn't match a supported version!\n",
      "  warnings.warn(\"urllib3 ({}) or chardet ({}) doesn't match a supported \"\n"
     ]
    },
    {
     "data": {
      "text/html": [
       "wandb version 0.19.3 is available!  To upgrade, please run:\n",
       " $ pip install wandb --upgrade"
      ],
      "text/plain": [
       "<IPython.core.display.HTML object>"
      ]
     },
     "metadata": {},
     "output_type": "display_data"
    },
    {
     "data": {
      "text/html": [
       "Tracking run with wandb version 0.16.4"
      ],
      "text/plain": [
       "<IPython.core.display.HTML object>"
      ]
     },
     "metadata": {},
     "output_type": "display_data"
    },
    {
     "data": {
      "text/html": [
       "Run data is saved locally in <code>/mnt/alphafold-volume-1/dylan2/repos/tb-pnca-gnn/dd_pnca/wandb/run-20250116_004829-u4k226ud</code>"
      ],
      "text/plain": [
       "<IPython.core.display.HTML object>"
      ]
     },
     "metadata": {},
     "output_type": "display_data"
    },
    {
     "data": {
      "text/html": [
       "Syncing run <strong><a href='https://wandb.ai/dylan-home/pnca-sweep-1/runs/u4k226ud' target=\"_blank\">elated-sweep-20</a></strong> to <a href='https://wandb.ai/dylan-home/pnca-sweep-1' target=\"_blank\">Weights & Biases</a> (<a href='https://wandb.me/run' target=\"_blank\">docs</a>)<br/>Sweep page: <a href='https://wandb.ai/dylan-home/pnca-sweep-1/sweeps/tr8mwg42' target=\"_blank\">https://wandb.ai/dylan-home/pnca-sweep-1/sweeps/tr8mwg42</a>"
      ],
      "text/plain": [
       "<IPython.core.display.HTML object>"
      ]
     },
     "metadata": {},
     "output_type": "display_data"
    },
    {
     "data": {
      "text/html": [
       " View project at <a href='https://wandb.ai/dylan-home/pnca-sweep-1' target=\"_blank\">https://wandb.ai/dylan-home/pnca-sweep-1</a>"
      ],
      "text/plain": [
       "<IPython.core.display.HTML object>"
      ]
     },
     "metadata": {},
     "output_type": "display_data"
    },
    {
     "data": {
      "text/html": [
       " View sweep at <a href='https://wandb.ai/dylan-home/pnca-sweep-1/sweeps/tr8mwg42' target=\"_blank\">https://wandb.ai/dylan-home/pnca-sweep-1/sweeps/tr8mwg42</a>"
      ],
      "text/plain": [
       "<IPython.core.display.HTML object>"
      ]
     },
     "metadata": {},
     "output_type": "display_data"
    },
    {
     "data": {
      "text/html": [
       " View run at <a href='https://wandb.ai/dylan-home/pnca-sweep-1/runs/u4k226ud' target=\"_blank\">https://wandb.ai/dylan-home/pnca-sweep-1/runs/u4k226ud</a>"
      ],
      "text/plain": [
       "<IPython.core.display.HTML object>"
      ]
     },
     "metadata": {},
     "output_type": "display_data"
    },
    {
     "name": "stdout",
     "output_type": "stream",
     "text": [
      "Using CUDA\n",
      "Early stopping enabled. Patience: 20. Min Delta: 0.\n",
      "Epoch: 010, Train Acc: 0.5264, Test Acc: 0.5110, Train Loss: 0.6921, Test Loss: 0.6933\n",
      "Epoch: 020, Train Acc: 0.5264, Test Acc: 0.5110, Train Loss: 0.6920, Test Loss: 0.6929\n",
      "20 epochs passed without 0 test loss improvement. \n",
      "Early stopping triggered.\n"
     ]
    },
    {
     "data": {
      "text/html": [
       "<style>\n",
       "    table.wandb td:nth-child(1) { padding: 0 10px; text-align: left ; width: auto;} td:nth-child(2) {text-align: left ; width: 100%}\n",
       "    .wandb-row { display: flex; flex-direction: row; flex-wrap: wrap; justify-content: flex-start; width: 100% }\n",
       "    .wandb-col { display: flex; flex-direction: column; flex-basis: 100%; flex: 1; padding: 10px; }\n",
       "    </style>\n",
       "<div class=\"wandb-row\"><div class=\"wandb-col\"><h3>Run history:</h3><br/><table class=\"wandb\"><tr><td>Test Accuracy</td><td>▁▁▁▁▁▁▁▁▁▁▁▁▁▁▁▁▁▁▁▁▁</td></tr><tr><td>Test F1</td><td>▁▁▁▁▁▁▁▁▁▁▁▁▁▁▁▁▁▁▁▁▁</td></tr><tr><td>Test Loss</td><td>▁▆▃▄▅▄█▂▆▆▇▂▂▂▄▄▄▆▂▁▃</td></tr><tr><td>Test Sensitivity</td><td>▁▁▁▁▁▁▁▁▁▁▁▁▁▁▁▁▁▁▁▁▁</td></tr><tr><td>Test Specificity</td><td>▁▁▁▁▁▁▁▁▁▁▁▁▁▁▁▁▁▁▁▁▁</td></tr><tr><td>Train Accuracy</td><td>▁▁▁▁▁▁▁▁▁▁▁▁▁▁▁▁▁▁▁▁▁</td></tr><tr><td>Train F1</td><td>▁▁▁▁▁▁▁▁▁▁▁▁▁▁▁▁▁▁▁▁▁</td></tr><tr><td>Train Loss</td><td>▇▄▄▄▄▂▁▄▅█▄▇▅▄▆▅▄▆▅▇▃</td></tr><tr><td>Train Sensitivity</td><td>▁▁▁▁▁▁▁▁▁▁▁▁▁▁▁▁▁▁▁▁▁</td></tr><tr><td>Train Specificity</td><td>▁▁▁▁▁▁▁▁▁▁▁▁▁▁▁▁▁▁▁▁▁</td></tr></table><br/></div><div class=\"wandb-col\"><h3>Run summary:</h3><br/><table class=\"wandb\"><tr><td>Test Accuracy</td><td>0.511</td></tr><tr><td>Test F1</td><td>0.67637</td></tr><tr><td>Test Loss</td><td>0.69303</td></tr><tr><td>Test Sensitivity</td><td>1.0</td></tr><tr><td>Test Specificity</td><td>0.0</td></tr><tr><td>Train Accuracy</td><td>0.52643</td></tr><tr><td>Train F1</td><td>0.68975</td></tr><tr><td>Train Loss</td><td>0.69161</td></tr><tr><td>Train Sensitivity</td><td>1.0</td></tr><tr><td>Train Specificity</td><td>0.0</td></tr></table><br/></div></div>"
      ],
      "text/plain": [
       "<IPython.core.display.HTML object>"
      ]
     },
     "metadata": {},
     "output_type": "display_data"
    },
    {
     "data": {
      "text/html": [
       " View run <strong style=\"color:#cdcd00\">elated-sweep-20</strong> at: <a href='https://wandb.ai/dylan-home/pnca-sweep-1/runs/u4k226ud' target=\"_blank\">https://wandb.ai/dylan-home/pnca-sweep-1/runs/u4k226ud</a><br/>Synced 5 W&B file(s), 0 media file(s), 0 artifact file(s) and 0 other file(s)"
      ],
      "text/plain": [
       "<IPython.core.display.HTML object>"
      ]
     },
     "metadata": {},
     "output_type": "display_data"
    },
    {
     "data": {
      "text/html": [
       "Find logs at: <code>./wandb/run-20250116_004829-u4k226ud/logs</code>"
      ],
      "text/plain": [
       "<IPython.core.display.HTML object>"
      ]
     },
     "metadata": {},
     "output_type": "display_data"
    },
    {
     "name": "stderr",
     "output_type": "stream",
     "text": [
      "\u001b[34m\u001b[1mwandb\u001b[0m: Agent Starting Run: hjr87qhp with config:\n",
      "\u001b[34m\u001b[1mwandb\u001b[0m: \tcutoff_distance: 7.482822797360107\n",
      "\u001b[34m\u001b[1mwandb\u001b[0m: \tdropout: 0.8\n",
      "\u001b[34m\u001b[1mwandb\u001b[0m: \thidden_channels: 64\n",
      "\u001b[34m\u001b[1mwandb\u001b[0m: \tlearning_rate: 0.0006058030910666045\n",
      "\u001b[34m\u001b[1mwandb\u001b[0m: \tweight_decay: 7.344423865543158e-07\n",
      "Failed to detect the name of this notebook, you can set it manually with the WANDB_NOTEBOOK_NAME environment variable to enable code saving.\n",
      "/usr/lib/python3/dist-packages/requests/__init__.py:87: RequestsDependencyWarning: urllib3 (2.2.3) or chardet (4.0.0) doesn't match a supported version!\n",
      "  warnings.warn(\"urllib3 ({}) or chardet ({}) doesn't match a supported \"\n"
     ]
    },
    {
     "data": {
      "text/html": [
       "wandb version 0.19.3 is available!  To upgrade, please run:\n",
       " $ pip install wandb --upgrade"
      ],
      "text/plain": [
       "<IPython.core.display.HTML object>"
      ]
     },
     "metadata": {},
     "output_type": "display_data"
    },
    {
     "data": {
      "text/html": [
       "Tracking run with wandb version 0.16.4"
      ],
      "text/plain": [
       "<IPython.core.display.HTML object>"
      ]
     },
     "metadata": {},
     "output_type": "display_data"
    },
    {
     "data": {
      "text/html": [
       "Run data is saved locally in <code>/mnt/alphafold-volume-1/dylan2/repos/tb-pnca-gnn/dd_pnca/wandb/run-20250116_004921-hjr87qhp</code>"
      ],
      "text/plain": [
       "<IPython.core.display.HTML object>"
      ]
     },
     "metadata": {},
     "output_type": "display_data"
    },
    {
     "data": {
      "text/html": [
       "Syncing run <strong><a href='https://wandb.ai/dylan-home/pnca-sweep-1/runs/hjr87qhp' target=\"_blank\">visionary-sweep-21</a></strong> to <a href='https://wandb.ai/dylan-home/pnca-sweep-1' target=\"_blank\">Weights & Biases</a> (<a href='https://wandb.me/run' target=\"_blank\">docs</a>)<br/>Sweep page: <a href='https://wandb.ai/dylan-home/pnca-sweep-1/sweeps/tr8mwg42' target=\"_blank\">https://wandb.ai/dylan-home/pnca-sweep-1/sweeps/tr8mwg42</a>"
      ],
      "text/plain": [
       "<IPython.core.display.HTML object>"
      ]
     },
     "metadata": {},
     "output_type": "display_data"
    },
    {
     "data": {
      "text/html": [
       " View project at <a href='https://wandb.ai/dylan-home/pnca-sweep-1' target=\"_blank\">https://wandb.ai/dylan-home/pnca-sweep-1</a>"
      ],
      "text/plain": [
       "<IPython.core.display.HTML object>"
      ]
     },
     "metadata": {},
     "output_type": "display_data"
    },
    {
     "data": {
      "text/html": [
       " View sweep at <a href='https://wandb.ai/dylan-home/pnca-sweep-1/sweeps/tr8mwg42' target=\"_blank\">https://wandb.ai/dylan-home/pnca-sweep-1/sweeps/tr8mwg42</a>"
      ],
      "text/plain": [
       "<IPython.core.display.HTML object>"
      ]
     },
     "metadata": {},
     "output_type": "display_data"
    },
    {
     "data": {
      "text/html": [
       " View run at <a href='https://wandb.ai/dylan-home/pnca-sweep-1/runs/hjr87qhp' target=\"_blank\">https://wandb.ai/dylan-home/pnca-sweep-1/runs/hjr87qhp</a>"
      ],
      "text/plain": [
       "<IPython.core.display.HTML object>"
      ]
     },
     "metadata": {},
     "output_type": "display_data"
    },
    {
     "name": "stdout",
     "output_type": "stream",
     "text": [
      "Using CUDA\n",
      "Early stopping enabled. Patience: 20. Min Delta: 0.\n",
      "Epoch: 010, Train Acc: 0.5264, Test Acc: 0.5110, Train Loss: 0.6913, Test Loss: 0.6915\n",
      "Epoch: 020, Train Acc: 0.5264, Test Acc: 0.5110, Train Loss: 0.6910, Test Loss: 0.6917\n",
      "Epoch: 030, Train Acc: 0.5264, Test Acc: 0.5110, Train Loss: 0.6900, Test Loss: 0.6911\n",
      "Epoch: 040, Train Acc: 0.5516, Test Acc: 0.5897, Train Loss: 0.6908, Test Loss: 0.6900\n",
      "Epoch: 050, Train Acc: 0.5247, Test Acc: 0.5110, Train Loss: 0.6827, Test Loss: 0.6827\n",
      "Epoch: 060, Train Acc: 0.5249, Test Acc: 0.5120, Train Loss: 0.6728, Test Loss: 0.6719\n",
      "Epoch: 070, Train Acc: 0.5241, Test Acc: 0.4920, Train Loss: 0.6520, Test Loss: 0.6474\n",
      "Epoch: 080, Train Acc: 0.6621, Test Acc: 0.6857, Train Loss: 0.6316, Test Loss: 0.6180\n",
      "Epoch: 090, Train Acc: 0.6250, Test Acc: 0.6627, Train Loss: 0.6300, Test Loss: 0.6122\n",
      "Epoch: 100, Train Acc: 0.6440, Test Acc: 0.6777, Train Loss: 0.6131, Test Loss: 0.5970\n",
      "Epoch: 110, Train Acc: 0.6307, Test Acc: 0.6627, Train Loss: 0.6197, Test Loss: 0.6059\n",
      "Epoch: 120, Train Acc: 0.6099, Test Acc: 0.6477, Train Loss: 0.6855, Test Loss: 0.6560\n",
      "Epoch: 130, Train Acc: 0.7779, Test Acc: 0.7513, Train Loss: 0.5290, Test Loss: 0.5423\n",
      "Epoch: 140, Train Acc: 0.7584, Test Acc: 0.7357, Train Loss: 0.5110, Test Loss: 0.5269\n",
      "Epoch: 150, Train Acc: 0.7934, Test Acc: 0.7573, Train Loss: 0.4787, Test Loss: 0.5186\n",
      "Epoch: 160, Train Acc: 0.7541, Test Acc: 0.7230, Train Loss: 0.4891, Test Loss: 0.5168\n",
      "Epoch: 170, Train Acc: 0.7250, Test Acc: 0.7127, Train Loss: 0.5229, Test Loss: 0.5480\n",
      "Epoch: 180, Train Acc: 0.7923, Test Acc: 0.7473, Train Loss: 0.4484, Test Loss: 0.5058\n",
      "Epoch: 190, Train Acc: 0.8169, Test Acc: 0.7667, Train Loss: 0.4289, Test Loss: 0.5026\n",
      "20 epochs passed without 0 test loss improvement. \n",
      "Early stopping triggered.\n"
     ]
    },
    {
     "data": {
      "text/html": [
       "<style>\n",
       "    table.wandb td:nth-child(1) { padding: 0 10px; text-align: left ; width: auto;} td:nth-child(2) {text-align: left ; width: 100%}\n",
       "    .wandb-row { display: flex; flex-direction: row; flex-wrap: wrap; justify-content: flex-start; width: 100% }\n",
       "    .wandb-col { display: flex; flex-direction: column; flex-basis: 100%; flex: 1; padding: 10px; }\n",
       "    </style>\n",
       "<div class=\"wandb-row\"><div class=\"wandb-col\"><h3>Run history:</h3><br/><table class=\"wandb\"><tr><td>Test Accuracy</td><td>▂▅▂▂▂▂▂▂▄▂▂▁▂▄▁▆▆▆▆▆▆▇▆▅▅▇█▆▇▇█▇▂█▇██▇██</td></tr><tr><td>Test F1</td><td>▇▄▇▇▇▇▇▇▁▇▇▆▇▁▆▅▅▆▄▆▅▇▄▃▄▇█▆██▇▇▆█▇██▇▇▇</td></tr><tr><td>Test Loss</td><td>███████████▇▇▇▆▆▅▅▅▅▄▄▅▆▇▂▂▃▂▂▁▂▅▂▁▁▂▂▁▁</td></tr><tr><td>Test Sensitivity</td><td>█▃██████▁██▇█▁▇▃▃▄▃▄▃▅▃▂▂▅▆▃▆▆▅▅▇▆▅▅▆▄▅▅</td></tr><tr><td>Test Specificity</td><td>▁▇▁▁▁▁▁▁█▁▁▁▁█▁█▇▇█▇█▇███▇▆█▆▆▇▇▂▆▇▇▆▇▇▇</td></tr><tr><td>Train Accuracy</td><td>▂▃▂▂▂▂▂▂▂▂▂▁▂▂▁▄▅▅▄▅▄▇▄▃▃▆▇▅▇▇▇▇▂█▇██▇██</td></tr><tr><td>Train F1</td><td>▆▄▆▆▆▆▆▆▂▆▆▆▆▁▆▅▅▆▄▆▅▇▄▃▃▇█▅██▇▇▆█▇██▇▇█</td></tr><tr><td>Train Loss</td><td>████████████▇█▇▇▆▆▆▆▆▅▆▇█▄▄▅▃▃▃▃▄▂▂▂▂▂▂▁</td></tr><tr><td>Train Sensitivity</td><td>█▃██████▁██▇█▁▇▃▃▄▃▄▃▅▃▂▂▅▆▃▆▆▆▅█▇▅▆▆▅▅▆</td></tr><tr><td>Train Specificity</td><td>▁▇▁▁▁▁▁▁█▁▁▂▁█▂██▇█▇█▇███▇▇█▇▇▇█▂▇█▇▇██▇</td></tr></table><br/></div><div class=\"wandb-col\"><h3>Run summary:</h3><br/><table class=\"wandb\"><tr><td>Test Accuracy</td><td>0.73867</td></tr><tr><td>Test F1</td><td>0.70768</td></tr><tr><td>Test Loss</td><td>0.51192</td></tr><tr><td>Test Sensitivity</td><td>0.61905</td></tr><tr><td>Test Specificity</td><td>0.86367</td></tr><tr><td>Train Accuracy</td><td>0.79386</td></tr><tr><td>Train F1</td><td>0.7715</td></tr><tr><td>Train Loss</td><td>0.43573</td></tr><tr><td>Train Sensitivity</td><td>0.66106</td></tr><tr><td>Train Specificity</td><td>0.94148</td></tr></table><br/></div></div>"
      ],
      "text/plain": [
       "<IPython.core.display.HTML object>"
      ]
     },
     "metadata": {},
     "output_type": "display_data"
    },
    {
     "data": {
      "text/html": [
       " View run <strong style=\"color:#cdcd00\">visionary-sweep-21</strong> at: <a href='https://wandb.ai/dylan-home/pnca-sweep-1/runs/hjr87qhp' target=\"_blank\">https://wandb.ai/dylan-home/pnca-sweep-1/runs/hjr87qhp</a><br/>Synced 5 W&B file(s), 0 media file(s), 0 artifact file(s) and 0 other file(s)"
      ],
      "text/plain": [
       "<IPython.core.display.HTML object>"
      ]
     },
     "metadata": {},
     "output_type": "display_data"
    },
    {
     "data": {
      "text/html": [
       "Find logs at: <code>./wandb/run-20250116_004921-hjr87qhp/logs</code>"
      ],
      "text/plain": [
       "<IPython.core.display.HTML object>"
      ]
     },
     "metadata": {},
     "output_type": "display_data"
    },
    {
     "name": "stderr",
     "output_type": "stream",
     "text": [
      "\u001b[34m\u001b[1mwandb\u001b[0m: Agent Starting Run: 1y88sanq with config:\n",
      "\u001b[34m\u001b[1mwandb\u001b[0m: \tcutoff_distance: 8.916439914459218\n",
      "\u001b[34m\u001b[1mwandb\u001b[0m: \tdropout: 0.4\n",
      "\u001b[34m\u001b[1mwandb\u001b[0m: \thidden_channels: 128\n",
      "\u001b[34m\u001b[1mwandb\u001b[0m: \tlearning_rate: 0.004044962619761456\n",
      "\u001b[34m\u001b[1mwandb\u001b[0m: \tweight_decay: 2.0015542293225102e-06\n",
      "Failed to detect the name of this notebook, you can set it manually with the WANDB_NOTEBOOK_NAME environment variable to enable code saving.\n",
      "/usr/lib/python3/dist-packages/requests/__init__.py:87: RequestsDependencyWarning: urllib3 (2.2.3) or chardet (4.0.0) doesn't match a supported version!\n",
      "  warnings.warn(\"urllib3 ({}) or chardet ({}) doesn't match a supported \"\n"
     ]
    },
    {
     "data": {
      "text/html": [
       "wandb version 0.19.3 is available!  To upgrade, please run:\n",
       " $ pip install wandb --upgrade"
      ],
      "text/plain": [
       "<IPython.core.display.HTML object>"
      ]
     },
     "metadata": {},
     "output_type": "display_data"
    },
    {
     "data": {
      "text/html": [
       "Tracking run with wandb version 0.16.4"
      ],
      "text/plain": [
       "<IPython.core.display.HTML object>"
      ]
     },
     "metadata": {},
     "output_type": "display_data"
    },
    {
     "data": {
      "text/html": [
       "Run data is saved locally in <code>/mnt/alphafold-volume-1/dylan2/repos/tb-pnca-gnn/dd_pnca/wandb/run-20250116_005449-1y88sanq</code>"
      ],
      "text/plain": [
       "<IPython.core.display.HTML object>"
      ]
     },
     "metadata": {},
     "output_type": "display_data"
    },
    {
     "data": {
      "text/html": [
       "Syncing run <strong><a href='https://wandb.ai/dylan-home/pnca-sweep-1/runs/1y88sanq' target=\"_blank\">lunar-sweep-22</a></strong> to <a href='https://wandb.ai/dylan-home/pnca-sweep-1' target=\"_blank\">Weights & Biases</a> (<a href='https://wandb.me/run' target=\"_blank\">docs</a>)<br/>Sweep page: <a href='https://wandb.ai/dylan-home/pnca-sweep-1/sweeps/tr8mwg42' target=\"_blank\">https://wandb.ai/dylan-home/pnca-sweep-1/sweeps/tr8mwg42</a>"
      ],
      "text/plain": [
       "<IPython.core.display.HTML object>"
      ]
     },
     "metadata": {},
     "output_type": "display_data"
    },
    {
     "data": {
      "text/html": [
       " View project at <a href='https://wandb.ai/dylan-home/pnca-sweep-1' target=\"_blank\">https://wandb.ai/dylan-home/pnca-sweep-1</a>"
      ],
      "text/plain": [
       "<IPython.core.display.HTML object>"
      ]
     },
     "metadata": {},
     "output_type": "display_data"
    },
    {
     "data": {
      "text/html": [
       " View sweep at <a href='https://wandb.ai/dylan-home/pnca-sweep-1/sweeps/tr8mwg42' target=\"_blank\">https://wandb.ai/dylan-home/pnca-sweep-1/sweeps/tr8mwg42</a>"
      ],
      "text/plain": [
       "<IPython.core.display.HTML object>"
      ]
     },
     "metadata": {},
     "output_type": "display_data"
    },
    {
     "data": {
      "text/html": [
       " View run at <a href='https://wandb.ai/dylan-home/pnca-sweep-1/runs/1y88sanq' target=\"_blank\">https://wandb.ai/dylan-home/pnca-sweep-1/runs/1y88sanq</a>"
      ],
      "text/plain": [
       "<IPython.core.display.HTML object>"
      ]
     },
     "metadata": {},
     "output_type": "display_data"
    },
    {
     "name": "stdout",
     "output_type": "stream",
     "text": [
      "Using CUDA\n",
      "Early stopping enabled. Patience: 20. Min Delta: 0.\n",
      "Epoch: 010, Train Acc: 0.5264, Test Acc: 0.5110, Train Loss: 0.6918, Test Loss: 0.6935\n",
      "Epoch: 020, Train Acc: 0.5264, Test Acc: 0.5110, Train Loss: 0.6918, Test Loss: 0.6933\n",
      "20 epochs passed without 0 test loss improvement. \n",
      "Early stopping triggered.\n"
     ]
    },
    {
     "data": {
      "text/html": [
       "<style>\n",
       "    table.wandb td:nth-child(1) { padding: 0 10px; text-align: left ; width: auto;} td:nth-child(2) {text-align: left ; width: 100%}\n",
       "    .wandb-row { display: flex; flex-direction: row; flex-wrap: wrap; justify-content: flex-start; width: 100% }\n",
       "    .wandb-col { display: flex; flex-direction: column; flex-basis: 100%; flex: 1; padding: 10px; }\n",
       "    </style>\n",
       "<div class=\"wandb-row\"><div class=\"wandb-col\"><h3>Run history:</h3><br/><table class=\"wandb\"><tr><td>Test Accuracy</td><td>▁▁▁▁▁▁▁▁▁▁▁▁▁▁▁▁▁▁▁▁▁▁</td></tr><tr><td>Test F1</td><td>▁▁▁▁▁▁▁▁▁▁▁▁▁▁▁▁▁▁▁▁▁▁</td></tr><tr><td>Test Loss</td><td>▂▁▃█▄▅█▅▄▇▃▄▇▃▅▄▆▄▄▆▆▄</td></tr><tr><td>Test Sensitivity</td><td>▁▁▁▁▁▁▁▁▁▁▁▁▁▁▁▁▁▁▁▁▁▁</td></tr><tr><td>Test Specificity</td><td>▁▁▁▁▁▁▁▁▁▁▁▁▁▁▁▁▁▁▁▁▁▁</td></tr><tr><td>Train Accuracy</td><td>▁▁▁▁▁▁▁▁▁▁▁▁▁▁▁▁▁▁▁▁▁▁</td></tr><tr><td>Train F1</td><td>▁▁▁▁▁▁▁▁▁▁▁▁▁▁▁▁▁▁▁▁▁▁</td></tr><tr><td>Train Loss</td><td>▄█▄▅▂▃▂▁▃▄▄▅▄▃▃▂▁▃▄▃▃▅</td></tr><tr><td>Train Sensitivity</td><td>▁▁▁▁▁▁▁▁▁▁▁▁▁▁▁▁▁▁▁▁▁▁</td></tr><tr><td>Train Specificity</td><td>▁▁▁▁▁▁▁▁▁▁▁▁▁▁▁▁▁▁▁▁▁▁</td></tr></table><br/></div><div class=\"wandb-col\"><h3>Run summary:</h3><br/><table class=\"wandb\"><tr><td>Test Accuracy</td><td>0.511</td></tr><tr><td>Test F1</td><td>0.67637</td></tr><tr><td>Test Loss</td><td>0.69317</td></tr><tr><td>Test Sensitivity</td><td>1.0</td></tr><tr><td>Test Specificity</td><td>0.0</td></tr><tr><td>Train Accuracy</td><td>0.52643</td></tr><tr><td>Train F1</td><td>0.68975</td></tr><tr><td>Train Loss</td><td>0.69187</td></tr><tr><td>Train Sensitivity</td><td>1.0</td></tr><tr><td>Train Specificity</td><td>0.0</td></tr></table><br/></div></div>"
      ],
      "text/plain": [
       "<IPython.core.display.HTML object>"
      ]
     },
     "metadata": {},
     "output_type": "display_data"
    },
    {
     "data": {
      "text/html": [
       " View run <strong style=\"color:#cdcd00\">lunar-sweep-22</strong> at: <a href='https://wandb.ai/dylan-home/pnca-sweep-1/runs/1y88sanq' target=\"_blank\">https://wandb.ai/dylan-home/pnca-sweep-1/runs/1y88sanq</a><br/>Synced 5 W&B file(s), 0 media file(s), 0 artifact file(s) and 0 other file(s)"
      ],
      "text/plain": [
       "<IPython.core.display.HTML object>"
      ]
     },
     "metadata": {},
     "output_type": "display_data"
    },
    {
     "data": {
      "text/html": [
       "Find logs at: <code>./wandb/run-20250116_005449-1y88sanq/logs</code>"
      ],
      "text/plain": [
       "<IPython.core.display.HTML object>"
      ]
     },
     "metadata": {},
     "output_type": "display_data"
    },
    {
     "name": "stderr",
     "output_type": "stream",
     "text": [
      "\u001b[34m\u001b[1mwandb\u001b[0m: Agent Starting Run: jrbf1lkh with config:\n",
      "\u001b[34m\u001b[1mwandb\u001b[0m: \tcutoff_distance: 4.5881481521671565\n",
      "\u001b[34m\u001b[1mwandb\u001b[0m: \tdropout: 0.5\n",
      "\u001b[34m\u001b[1mwandb\u001b[0m: \thidden_channels: 384\n",
      "\u001b[34m\u001b[1mwandb\u001b[0m: \tlearning_rate: 0.00022488513368008515\n",
      "\u001b[34m\u001b[1mwandb\u001b[0m: \tweight_decay: 0.0012548384368694186\n",
      "Failed to detect the name of this notebook, you can set it manually with the WANDB_NOTEBOOK_NAME environment variable to enable code saving.\n",
      "/usr/lib/python3/dist-packages/requests/__init__.py:87: RequestsDependencyWarning: urllib3 (2.2.3) or chardet (4.0.0) doesn't match a supported version!\n",
      "  warnings.warn(\"urllib3 ({}) or chardet ({}) doesn't match a supported \"\n"
     ]
    },
    {
     "data": {
      "text/html": [
       "wandb version 0.19.3 is available!  To upgrade, please run:\n",
       " $ pip install wandb --upgrade"
      ],
      "text/plain": [
       "<IPython.core.display.HTML object>"
      ]
     },
     "metadata": {},
     "output_type": "display_data"
    },
    {
     "data": {
      "text/html": [
       "Tracking run with wandb version 0.16.4"
      ],
      "text/plain": [
       "<IPython.core.display.HTML object>"
      ]
     },
     "metadata": {},
     "output_type": "display_data"
    },
    {
     "data": {
      "text/html": [
       "Run data is saved locally in <code>/mnt/alphafold-volume-1/dylan2/repos/tb-pnca-gnn/dd_pnca/wandb/run-20250116_005540-jrbf1lkh</code>"
      ],
      "text/plain": [
       "<IPython.core.display.HTML object>"
      ]
     },
     "metadata": {},
     "output_type": "display_data"
    },
    {
     "data": {
      "text/html": [
       "Syncing run <strong><a href='https://wandb.ai/dylan-home/pnca-sweep-1/runs/jrbf1lkh' target=\"_blank\">blooming-sweep-23</a></strong> to <a href='https://wandb.ai/dylan-home/pnca-sweep-1' target=\"_blank\">Weights & Biases</a> (<a href='https://wandb.me/run' target=\"_blank\">docs</a>)<br/>Sweep page: <a href='https://wandb.ai/dylan-home/pnca-sweep-1/sweeps/tr8mwg42' target=\"_blank\">https://wandb.ai/dylan-home/pnca-sweep-1/sweeps/tr8mwg42</a>"
      ],
      "text/plain": [
       "<IPython.core.display.HTML object>"
      ]
     },
     "metadata": {},
     "output_type": "display_data"
    },
    {
     "data": {
      "text/html": [
       " View project at <a href='https://wandb.ai/dylan-home/pnca-sweep-1' target=\"_blank\">https://wandb.ai/dylan-home/pnca-sweep-1</a>"
      ],
      "text/plain": [
       "<IPython.core.display.HTML object>"
      ]
     },
     "metadata": {},
     "output_type": "display_data"
    },
    {
     "data": {
      "text/html": [
       " View sweep at <a href='https://wandb.ai/dylan-home/pnca-sweep-1/sweeps/tr8mwg42' target=\"_blank\">https://wandb.ai/dylan-home/pnca-sweep-1/sweeps/tr8mwg42</a>"
      ],
      "text/plain": [
       "<IPython.core.display.HTML object>"
      ]
     },
     "metadata": {},
     "output_type": "display_data"
    },
    {
     "data": {
      "text/html": [
       " View run at <a href='https://wandb.ai/dylan-home/pnca-sweep-1/runs/jrbf1lkh' target=\"_blank\">https://wandb.ai/dylan-home/pnca-sweep-1/runs/jrbf1lkh</a>"
      ],
      "text/plain": [
       "<IPython.core.display.HTML object>"
      ]
     },
     "metadata": {},
     "output_type": "display_data"
    },
    {
     "name": "stdout",
     "output_type": "stream",
     "text": [
      "Using CUDA\n",
      "Early stopping enabled. Patience: 20. Min Delta: 0.\n",
      "Epoch: 010, Train Acc: 0.5264, Test Acc: 0.5110, Train Loss: 0.6957, Test Loss: 0.6998\n",
      "Epoch: 020, Train Acc: 0.5264, Test Acc: 0.5110, Train Loss: 0.6901, Test Loss: 0.6923\n",
      "Epoch: 030, Train Acc: 0.5264, Test Acc: 0.5110, Train Loss: 0.6896, Test Loss: 0.6920\n",
      "Epoch: 040, Train Acc: 0.5246, Test Acc: 0.5813, Train Loss: 0.6885, Test Loss: 0.6831\n",
      "Epoch: 050, Train Acc: 0.5029, Test Acc: 0.5367, Train Loss: 0.6906, Test Loss: 0.6861\n",
      "Epoch: 060, Train Acc: 0.5260, Test Acc: 0.5110, Train Loss: 0.6792, Test Loss: 0.6795\n",
      "Epoch: 070, Train Acc: 0.5253, Test Acc: 0.5097, Train Loss: 0.6741, Test Loss: 0.6740\n",
      "Epoch: 080, Train Acc: 0.7187, Test Acc: 0.6843, Train Loss: 0.6633, Test Loss: 0.6584\n",
      "Epoch: 090, Train Acc: 0.5263, Test Acc: 0.5110, Train Loss: 0.6789, Test Loss: 0.6812\n",
      "Epoch: 100, Train Acc: 0.6466, Test Acc: 0.6687, Train Loss: 0.6405, Test Loss: 0.6258\n",
      "Epoch: 110, Train Acc: 0.6481, Test Acc: 0.6730, Train Loss: 0.6303, Test Loss: 0.6128\n",
      "Epoch: 120, Train Acc: 0.7499, Test Acc: 0.7153, Train Loss: 0.6005, Test Loss: 0.6014\n",
      "Epoch: 130, Train Acc: 0.5817, Test Acc: 0.6387, Train Loss: 0.6941, Test Loss: 0.6667\n",
      "Epoch: 140, Train Acc: 0.7497, Test Acc: 0.7277, Train Loss: 0.5612, Test Loss: 0.5674\n",
      "Epoch: 150, Train Acc: 0.6524, Test Acc: 0.6680, Train Loss: 0.6078, Test Loss: 0.6030\n",
      "Epoch: 160, Train Acc: 0.7697, Test Acc: 0.7353, Train Loss: 0.5430, Test Loss: 0.5621\n",
      "Epoch: 170, Train Acc: 0.7579, Test Acc: 0.7010, Train Loss: 0.5439, Test Loss: 0.6060\n",
      "Epoch: 180, Train Acc: 0.7884, Test Acc: 0.7357, Train Loss: 0.5022, Test Loss: 0.5634\n",
      "Epoch: 190, Train Acc: 0.7634, Test Acc: 0.7350, Train Loss: 0.4889, Test Loss: 0.5386\n",
      "Epoch: 200, Train Acc: 0.7433, Test Acc: 0.7273, Train Loss: 0.5047, Test Loss: 0.5595\n",
      "20 epochs passed without 0 test loss improvement. \n",
      "Early stopping triggered.\n"
     ]
    },
    {
     "data": {
      "text/html": [
       "<style>\n",
       "    table.wandb td:nth-child(1) { padding: 0 10px; text-align: left ; width: auto;} td:nth-child(2) {text-align: left ; width: 100%}\n",
       "    .wandb-row { display: flex; flex-direction: row; flex-wrap: wrap; justify-content: flex-start; width: 100% }\n",
       "    .wandb-col { display: flex; flex-direction: column; flex-basis: 100%; flex: 1; padding: 10px; }\n",
       "    </style>\n",
       "<div class=\"wandb-row\"><div class=\"wandb-col\"><h3>Run history:</h3><br/><table class=\"wandb\"><tr><td>Test Accuracy</td><td>▁▁▁▂▃▂▂▂▂▂▁▁▁▁▁▂▆▇▂▆▁▂▇▆▂▁▆▇▇▇█▁▂▂█▇▇█▇█</td></tr><tr><td>Test F1</td><td>▁▁▇▇▃▇▇▇▂▇▇▇▇▇▇▇▇▇▇▆▇▇▇▆▇▇▆█▇▇█▇▇▇█▇██▇▇</td></tr><tr><td>Test Loss</td><td>▆▄▄▄▄▄▄▄▄▄▄▄▄▄▄▄▃▃▅▃▃▃▂▃▄▃▃▂▂▂▁▄█▃▁▂▂▁▃▁</td></tr><tr><td>Test Sensitivity</td><td>▁▁██▂███▁█▇█▇█▇█▅▅█▄▇█▅▄█▇▄▆▄▅▆██▇▅▄▇▆▄▅</td></tr><tr><td>Test Specificity</td><td>██▁▁█▁▁▁█▁▁▁▁▁▁▁▇▇▁█▁▁▇▇▁▁█▆▇▇▇▁▁▁▇▇▅▇█▇</td></tr><tr><td>Train Accuracy</td><td>▁▁▂▂▂▂▂▂▁▂▂▂▂▂▂▂▅▆▂▄▂▂▇▅▂▂▅█▆▇█▂▂▃█▆██▆▇</td></tr><tr><td>Train F1</td><td>▁▁▇▇▂▇▇▇▂▇▇▇▇▇▇▇▆▇▇▅▇▇▇▅▇▇▅█▆▇█▇▇▇▇▇██▆▇</td></tr><tr><td>Train Loss</td><td>▇▆▆▆▆▆▆▆▆▆▆▆▆▅▅▅▅▅▆▅▅▅▄▅▅▄▅▃▃▃▂▄█▃▂▃▂▁▄▂</td></tr><tr><td>Train Sensitivity</td><td>▁▁██▂███▁█▇█████▄▅█▃██▅▃██▃▇▄▅▆███▅▄▇▆▄▅</td></tr><tr><td>Train Specificity</td><td>██▁▁█▁▁▁█▁▁▁▁▁▁▁▇▇▁█▁▁▇█▁▂█▆█▇▇▁▁▂▇█▆▇██</td></tr></table><br/></div><div class=\"wandb-col\"><h3>Run summary:</h3><br/><table class=\"wandb\"><tr><td>Test Accuracy</td><td>0.733</td></tr><tr><td>Test F1</td><td>0.69671</td></tr><tr><td>Test Loss</td><td>0.54036</td></tr><tr><td>Test Sensitivity</td><td>0.60013</td></tr><tr><td>Test Specificity</td><td>0.87185</td></tr><tr><td>Train Accuracy</td><td>0.77043</td></tr><tr><td>Train F1</td><td>0.7411</td></tr><tr><td>Train Loss</td><td>0.4723</td></tr><tr><td>Train Sensitivity</td><td>0.62415</td></tr><tr><td>Train Specificity</td><td>0.93303</td></tr></table><br/></div></div>"
      ],
      "text/plain": [
       "<IPython.core.display.HTML object>"
      ]
     },
     "metadata": {},
     "output_type": "display_data"
    },
    {
     "data": {
      "text/html": [
       " View run <strong style=\"color:#cdcd00\">blooming-sweep-23</strong> at: <a href='https://wandb.ai/dylan-home/pnca-sweep-1/runs/jrbf1lkh' target=\"_blank\">https://wandb.ai/dylan-home/pnca-sweep-1/runs/jrbf1lkh</a><br/>Synced 5 W&B file(s), 0 media file(s), 0 artifact file(s) and 0 other file(s)"
      ],
      "text/plain": [
       "<IPython.core.display.HTML object>"
      ]
     },
     "metadata": {},
     "output_type": "display_data"
    },
    {
     "data": {
      "text/html": [
       "Find logs at: <code>./wandb/run-20250116_005540-jrbf1lkh/logs</code>"
      ],
      "text/plain": [
       "<IPython.core.display.HTML object>"
      ]
     },
     "metadata": {},
     "output_type": "display_data"
    },
    {
     "name": "stderr",
     "output_type": "stream",
     "text": [
      "\u001b[34m\u001b[1mwandb\u001b[0m: Agent Starting Run: c5ht8hyl with config:\n",
      "\u001b[34m\u001b[1mwandb\u001b[0m: \tcutoff_distance: 5.773423091444483\n",
      "\u001b[34m\u001b[1mwandb\u001b[0m: \tdropout: 0.4\n",
      "\u001b[34m\u001b[1mwandb\u001b[0m: \thidden_channels: 384\n",
      "\u001b[34m\u001b[1mwandb\u001b[0m: \tlearning_rate: 0.0004752571089098619\n",
      "\u001b[34m\u001b[1mwandb\u001b[0m: \tweight_decay: 0.00016841952922217916\n",
      "Failed to detect the name of this notebook, you can set it manually with the WANDB_NOTEBOOK_NAME environment variable to enable code saving.\n",
      "/usr/lib/python3/dist-packages/requests/__init__.py:87: RequestsDependencyWarning: urllib3 (2.2.3) or chardet (4.0.0) doesn't match a supported version!\n",
      "  warnings.warn(\"urllib3 ({}) or chardet ({}) doesn't match a supported \"\n"
     ]
    },
    {
     "data": {
      "text/html": [
       "wandb version 0.19.3 is available!  To upgrade, please run:\n",
       " $ pip install wandb --upgrade"
      ],
      "text/plain": [
       "<IPython.core.display.HTML object>"
      ]
     },
     "metadata": {},
     "output_type": "display_data"
    },
    {
     "data": {
      "text/html": [
       "Tracking run with wandb version 0.16.4"
      ],
      "text/plain": [
       "<IPython.core.display.HTML object>"
      ]
     },
     "metadata": {},
     "output_type": "display_data"
    },
    {
     "data": {
      "text/html": [
       "Run data is saved locally in <code>/mnt/alphafold-volume-1/dylan2/repos/tb-pnca-gnn/dd_pnca/wandb/run-20250116_010347-c5ht8hyl</code>"
      ],
      "text/plain": [
       "<IPython.core.display.HTML object>"
      ]
     },
     "metadata": {},
     "output_type": "display_data"
    },
    {
     "data": {
      "text/html": [
       "Syncing run <strong><a href='https://wandb.ai/dylan-home/pnca-sweep-1/runs/c5ht8hyl' target=\"_blank\">stoic-sweep-24</a></strong> to <a href='https://wandb.ai/dylan-home/pnca-sweep-1' target=\"_blank\">Weights & Biases</a> (<a href='https://wandb.me/run' target=\"_blank\">docs</a>)<br/>Sweep page: <a href='https://wandb.ai/dylan-home/pnca-sweep-1/sweeps/tr8mwg42' target=\"_blank\">https://wandb.ai/dylan-home/pnca-sweep-1/sweeps/tr8mwg42</a>"
      ],
      "text/plain": [
       "<IPython.core.display.HTML object>"
      ]
     },
     "metadata": {},
     "output_type": "display_data"
    },
    {
     "data": {
      "text/html": [
       " View project at <a href='https://wandb.ai/dylan-home/pnca-sweep-1' target=\"_blank\">https://wandb.ai/dylan-home/pnca-sweep-1</a>"
      ],
      "text/plain": [
       "<IPython.core.display.HTML object>"
      ]
     },
     "metadata": {},
     "output_type": "display_data"
    },
    {
     "data": {
      "text/html": [
       " View sweep at <a href='https://wandb.ai/dylan-home/pnca-sweep-1/sweeps/tr8mwg42' target=\"_blank\">https://wandb.ai/dylan-home/pnca-sweep-1/sweeps/tr8mwg42</a>"
      ],
      "text/plain": [
       "<IPython.core.display.HTML object>"
      ]
     },
     "metadata": {},
     "output_type": "display_data"
    },
    {
     "data": {
      "text/html": [
       " View run at <a href='https://wandb.ai/dylan-home/pnca-sweep-1/runs/c5ht8hyl' target=\"_blank\">https://wandb.ai/dylan-home/pnca-sweep-1/runs/c5ht8hyl</a>"
      ],
      "text/plain": [
       "<IPython.core.display.HTML object>"
      ]
     },
     "metadata": {},
     "output_type": "display_data"
    },
    {
     "name": "stdout",
     "output_type": "stream",
     "text": [
      "Using CUDA\n",
      "Early stopping enabled. Patience: 20. Min Delta: 0.\n",
      "Epoch: 010, Train Acc: 0.5264, Test Acc: 0.5110, Train Loss: 0.6911, Test Loss: 0.6919\n",
      "Epoch: 020, Train Acc: 0.5264, Test Acc: 0.5110, Train Loss: 0.6908, Test Loss: 0.6915\n",
      "Epoch: 030, Train Acc: 0.5264, Test Acc: 0.5110, Train Loss: 0.6895, Test Loss: 0.6912\n",
      "Epoch: 040, Train Acc: 0.5264, Test Acc: 0.5110, Train Loss: 0.6877, Test Loss: 0.6892\n",
      "Epoch: 050, Train Acc: 0.5259, Test Acc: 0.5107, Train Loss: 0.6861, Test Loss: 0.6874\n",
      "Epoch: 060, Train Acc: 0.4924, Test Acc: 0.4817, Train Loss: 0.6839, Test Loss: 0.6849\n",
      "Epoch: 070, Train Acc: 0.5067, Test Acc: 0.4633, Train Loss: 0.6833, Test Loss: 0.6859\n",
      "Epoch: 080, Train Acc: 0.5241, Test Acc: 0.5107, Train Loss: 0.6684, Test Loss: 0.6740\n",
      "Epoch: 090, Train Acc: 0.5263, Test Acc: 0.5107, Train Loss: 0.6585, Test Loss: 0.6671\n",
      "Epoch: 100, Train Acc: 0.5231, Test Acc: 0.4933, Train Loss: 0.6421, Test Loss: 0.6518\n",
      "Epoch: 110, Train Acc: 0.6229, Test Acc: 0.6133, Train Loss: 0.6374, Test Loss: 0.6522\n",
      "Epoch: 120, Train Acc: 0.7010, Test Acc: 0.6683, Train Loss: 0.6275, Test Loss: 0.6445\n",
      "Epoch: 130, Train Acc: 0.6849, Test Acc: 0.6577, Train Loss: 0.5876, Test Loss: 0.6129\n",
      "Epoch: 140, Train Acc: 0.4986, Test Acc: 0.4913, Train Loss: 0.7770, Test Loss: 0.7962\n",
      "Epoch: 150, Train Acc: 0.5723, Test Acc: 0.5407, Train Loss: 0.6640, Test Loss: 0.6817\n",
      "20 epochs passed without 0 test loss improvement. \n",
      "Early stopping triggered.\n"
     ]
    },
    {
     "data": {
      "text/html": [
       "<style>\n",
       "    table.wandb td:nth-child(1) { padding: 0 10px; text-align: left ; width: auto;} td:nth-child(2) {text-align: left ; width: 100%}\n",
       "    .wandb-row { display: flex; flex-direction: row; flex-wrap: wrap; justify-content: flex-start; width: 100% }\n",
       "    .wandb-col { display: flex; flex-direction: column; flex-basis: 100%; flex: 1; padding: 10px; }\n",
       "    </style>\n",
       "<div class=\"wandb-row\"><div class=\"wandb-col\"><h3>Run history:</h3><br/><table class=\"wandb\"><tr><td>Test Accuracy</td><td>▂▂▂▂▂▂▂▂▂▂▃▂▂▂█▇▄▁▂▂▇▅▂▂▂▇▂▆▆▂▂▅▇▆██▆▃█▂</td></tr><tr><td>Test F1</td><td>▁█████████▃███▇▇▄▇██▇▅███▇█▆▆▇█▅▇▆██▇▃██</td></tr><tr><td>Test Loss</td><td>▄▃▃▃▃▃▃▃▃▃▃▃▃▃▃▃▃▃▃▃▃▃▃▃▃▂▃▂▂▂▂▃▁▂▁▂▂▃▁█</td></tr><tr><td>Test Sensitivity</td><td>▁█████████▂███▄▄▂▆██▅▃█▇█▄█▃▃▇█▃▄▄▅▆▄▂▆█</td></tr><tr><td>Test Specificity</td><td>█▁▁▁▁▁▁▁▁▁█▁▁▁▇▇█▂▁▁▇█▁▁▁▇▁▇▇▂▁█▇▇▆▆▇█▆▁</td></tr><tr><td>Train Accuracy</td><td>▁▂▂▂▂▂▂▂▂▂▂▂▂▂▆▆▃▂▂▂▆▄▂▂▂▆▂▅▅▂▂▅▇▆██▇▄█▂</td></tr><tr><td>Train F1</td><td>▁█████████▃███▇▇▃▇██▇▅█▇█▇█▆▆▇█▅▇▇██▇▄██</td></tr><tr><td>Train Loss</td><td>▅▄▄▄▄▄▄▄▄▄▄▄▄▄▄▄▄▄▄▄▄▄▄▃▄▃▄▃▃▂▃▃▂▂▁▂▂▄▁█</td></tr><tr><td>Train Sensitivity</td><td>▁█████████▂███▄▄▂▇██▄▃█▇█▄█▃▄▇█▃▄▄▅▆▄▂▆█</td></tr><tr><td>Train Specificity</td><td>█▁▁▁▁▁▁▁▁▁█▁▁▁▇██▂▁▁▇█▁▁▁▇▁██▂▁█▇▇▇▇▇█▇▁</td></tr></table><br/></div><div class=\"wandb-col\"><h3>Run summary:</h3><br/><table class=\"wandb\"><tr><td>Test Accuracy</td><td>0.511</td></tr><tr><td>Test F1</td><td>0.67637</td></tr><tr><td>Test Loss</td><td>0.69038</td></tr><tr><td>Test Sensitivity</td><td>1.0</td></tr><tr><td>Test Specificity</td><td>0.0</td></tr><tr><td>Train Accuracy</td><td>0.52657</td></tr><tr><td>Train F1</td><td>0.68976</td></tr><tr><td>Train Loss</td><td>0.6824</td></tr><tr><td>Train Sensitivity</td><td>0.99973</td></tr><tr><td>Train Specificity</td><td>0.0006</td></tr></table><br/></div></div>"
      ],
      "text/plain": [
       "<IPython.core.display.HTML object>"
      ]
     },
     "metadata": {},
     "output_type": "display_data"
    },
    {
     "data": {
      "text/html": [
       " View run <strong style=\"color:#cdcd00\">stoic-sweep-24</strong> at: <a href='https://wandb.ai/dylan-home/pnca-sweep-1/runs/c5ht8hyl' target=\"_blank\">https://wandb.ai/dylan-home/pnca-sweep-1/runs/c5ht8hyl</a><br/>Synced 5 W&B file(s), 0 media file(s), 0 artifact file(s) and 0 other file(s)"
      ],
      "text/plain": [
       "<IPython.core.display.HTML object>"
      ]
     },
     "metadata": {},
     "output_type": "display_data"
    },
    {
     "data": {
      "text/html": [
       "Find logs at: <code>./wandb/run-20250116_010347-c5ht8hyl/logs</code>"
      ],
      "text/plain": [
       "<IPython.core.display.HTML object>"
      ]
     },
     "metadata": {},
     "output_type": "display_data"
    },
    {
     "name": "stderr",
     "output_type": "stream",
     "text": [
      "\u001b[34m\u001b[1mwandb\u001b[0m: Agent Starting Run: mthnsfj3 with config:\n",
      "\u001b[34m\u001b[1mwandb\u001b[0m: \tcutoff_distance: 9.454248538274124\n",
      "\u001b[34m\u001b[1mwandb\u001b[0m: \tdropout: 0.2\n",
      "\u001b[34m\u001b[1mwandb\u001b[0m: \thidden_channels: 320\n",
      "\u001b[34m\u001b[1mwandb\u001b[0m: \tlearning_rate: 8.273094200151683e-05\n",
      "\u001b[34m\u001b[1mwandb\u001b[0m: \tweight_decay: 0.0012497724042866652\n",
      "Failed to detect the name of this notebook, you can set it manually with the WANDB_NOTEBOOK_NAME environment variable to enable code saving.\n",
      "/usr/lib/python3/dist-packages/requests/__init__.py:87: RequestsDependencyWarning: urllib3 (2.2.3) or chardet (4.0.0) doesn't match a supported version!\n",
      "  warnings.warn(\"urllib3 ({}) or chardet ({}) doesn't match a supported \"\n"
     ]
    },
    {
     "data": {
      "text/html": [
       "wandb version 0.19.3 is available!  To upgrade, please run:\n",
       " $ pip install wandb --upgrade"
      ],
      "text/plain": [
       "<IPython.core.display.HTML object>"
      ]
     },
     "metadata": {},
     "output_type": "display_data"
    },
    {
     "data": {
      "text/html": [
       "Tracking run with wandb version 0.16.4"
      ],
      "text/plain": [
       "<IPython.core.display.HTML object>"
      ]
     },
     "metadata": {},
     "output_type": "display_data"
    },
    {
     "data": {
      "text/html": [
       "Run data is saved locally in <code>/mnt/alphafold-volume-1/dylan2/repos/tb-pnca-gnn/dd_pnca/wandb/run-20250116_011012-mthnsfj3</code>"
      ],
      "text/plain": [
       "<IPython.core.display.HTML object>"
      ]
     },
     "metadata": {},
     "output_type": "display_data"
    },
    {
     "data": {
      "text/html": [
       "Syncing run <strong><a href='https://wandb.ai/dylan-home/pnca-sweep-1/runs/mthnsfj3' target=\"_blank\">gentle-sweep-25</a></strong> to <a href='https://wandb.ai/dylan-home/pnca-sweep-1' target=\"_blank\">Weights & Biases</a> (<a href='https://wandb.me/run' target=\"_blank\">docs</a>)<br/>Sweep page: <a href='https://wandb.ai/dylan-home/pnca-sweep-1/sweeps/tr8mwg42' target=\"_blank\">https://wandb.ai/dylan-home/pnca-sweep-1/sweeps/tr8mwg42</a>"
      ],
      "text/plain": [
       "<IPython.core.display.HTML object>"
      ]
     },
     "metadata": {},
     "output_type": "display_data"
    },
    {
     "data": {
      "text/html": [
       " View project at <a href='https://wandb.ai/dylan-home/pnca-sweep-1' target=\"_blank\">https://wandb.ai/dylan-home/pnca-sweep-1</a>"
      ],
      "text/plain": [
       "<IPython.core.display.HTML object>"
      ]
     },
     "metadata": {},
     "output_type": "display_data"
    },
    {
     "data": {
      "text/html": [
       " View sweep at <a href='https://wandb.ai/dylan-home/pnca-sweep-1/sweeps/tr8mwg42' target=\"_blank\">https://wandb.ai/dylan-home/pnca-sweep-1/sweeps/tr8mwg42</a>"
      ],
      "text/plain": [
       "<IPython.core.display.HTML object>"
      ]
     },
     "metadata": {},
     "output_type": "display_data"
    },
    {
     "data": {
      "text/html": [
       " View run at <a href='https://wandb.ai/dylan-home/pnca-sweep-1/runs/mthnsfj3' target=\"_blank\">https://wandb.ai/dylan-home/pnca-sweep-1/runs/mthnsfj3</a>"
      ],
      "text/plain": [
       "<IPython.core.display.HTML object>"
      ]
     },
     "metadata": {},
     "output_type": "display_data"
    },
    {
     "name": "stdout",
     "output_type": "stream",
     "text": [
      "Using CUDA\n",
      "Early stopping enabled. Patience: 20. Min Delta: 0.\n",
      "Epoch: 010, Train Acc: 0.4997, Test Acc: 0.5523, Train Loss: 0.6938, Test Loss: 0.6860\n",
      "Epoch: 020, Train Acc: 0.5161, Test Acc: 0.5773, Train Loss: 0.6915, Test Loss: 0.6815\n",
      "Epoch: 030, Train Acc: 0.4853, Test Acc: 0.4827, Train Loss: 0.6761, Test Loss: 0.6702\n",
      "Epoch: 040, Train Acc: 0.6174, Test Acc: 0.6593, Train Loss: 0.6750, Test Loss: 0.6655\n",
      "Epoch: 050, Train Acc: 0.5214, Test Acc: 0.5073, Train Loss: 0.6723, Test Loss: 0.6744\n",
      "Epoch: 060, Train Acc: 0.7101, Test Acc: 0.6920, Train Loss: 0.6525, Test Loss: 0.6456\n",
      "Epoch: 070, Train Acc: 0.7169, Test Acc: 0.6830, Train Loss: 0.6457, Test Loss: 0.6413\n",
      "Epoch: 080, Train Acc: 0.5051, Test Acc: 0.4787, Train Loss: 0.6415, Test Loss: 0.6426\n",
      "Epoch: 090, Train Acc: 0.6591, Test Acc: 0.6700, Train Loss: 0.6390, Test Loss: 0.6297\n",
      "Epoch: 100, Train Acc: 0.6809, Test Acc: 0.6830, Train Loss: 0.6280, Test Loss: 0.6206\n",
      "Epoch: 110, Train Acc: 0.7157, Test Acc: 0.6747, Train Loss: 0.6204, Test Loss: 0.6230\n",
      "Epoch: 120, Train Acc: 0.7193, Test Acc: 0.6943, Train Loss: 0.6112, Test Loss: 0.6101\n",
      "Epoch: 130, Train Acc: 0.7520, Test Acc: 0.7023, Train Loss: 0.5982, Test Loss: 0.6050\n",
      "Epoch: 140, Train Acc: 0.7310, Test Acc: 0.6970, Train Loss: 0.5875, Test Loss: 0.5915\n",
      "Epoch: 150, Train Acc: 0.7573, Test Acc: 0.7100, Train Loss: 0.5897, Test Loss: 0.5992\n",
      "Epoch: 160, Train Acc: 0.7216, Test Acc: 0.6983, Train Loss: 0.5752, Test Loss: 0.5813\n",
      "Epoch: 170, Train Acc: 0.7123, Test Acc: 0.6920, Train Loss: 0.5700, Test Loss: 0.5756\n",
      "Epoch: 180, Train Acc: 0.7474, Test Acc: 0.7150, Train Loss: 0.5513, Test Loss: 0.5657\n",
      "Epoch: 190, Train Acc: 0.7731, Test Acc: 0.7160, Train Loss: 0.5516, Test Loss: 0.5783\n",
      "Epoch: 200, Train Acc: 0.7780, Test Acc: 0.7257, Train Loss: 0.5366, Test Loss: 0.5643\n",
      "Epoch: 210, Train Acc: 0.5399, Test Acc: 0.4960, Train Loss: 0.5806, Test Loss: 0.6232\n",
      "Epoch: 220, Train Acc: 0.7344, Test Acc: 0.7050, Train Loss: 0.5258, Test Loss: 0.5511\n",
      "Epoch: 230, Train Acc: 0.7206, Test Acc: 0.6977, Train Loss: 0.5344, Test Loss: 0.5582\n",
      "Epoch: 240, Train Acc: 0.7147, Test Acc: 0.6957, Train Loss: 0.5410, Test Loss: 0.5674\n",
      "Epoch: 250, Train Acc: 0.7584, Test Acc: 0.7237, Train Loss: 0.4944, Test Loss: 0.5343\n",
      "Epoch: 260, Train Acc: 0.7801, Test Acc: 0.7413, Train Loss: 0.4705, Test Loss: 0.5223\n",
      "Epoch: 270, Train Acc: 0.7400, Test Acc: 0.7083, Train Loss: 0.5027, Test Loss: 0.5465\n",
      "Epoch: 280, Train Acc: 0.7447, Test Acc: 0.7070, Train Loss: 0.5013, Test Loss: 0.5460\n",
      "Epoch: 290, Train Acc: 0.8237, Test Acc: 0.7623, Train Loss: 0.4594, Test Loss: 0.5359\n",
      "Epoch: 300, Train Acc: 0.8181, Test Acc: 0.7517, Train Loss: 0.4471, Test Loss: 0.5232\n",
      "Epoch: 310, Train Acc: 0.7730, Test Acc: 0.7300, Train Loss: 0.4602, Test Loss: 0.5222\n",
      "Epoch: 320, Train Acc: 0.5279, Test Acc: 0.5083, Train Loss: 0.7041, Test Loss: 0.8249\n",
      "Epoch: 330, Train Acc: 0.8176, Test Acc: 0.7463, Train Loss: 0.4621, Test Loss: 0.5757\n",
      "Epoch: 340, Train Acc: 0.7950, Test Acc: 0.7477, Train Loss: 0.4202, Test Loss: 0.5079\n",
      "Epoch: 350, Train Acc: 0.8356, Test Acc: 0.7590, Train Loss: 0.4346, Test Loss: 0.5534\n",
      "Epoch: 360, Train Acc: 0.8407, Test Acc: 0.7653, Train Loss: 0.4000, Test Loss: 0.5136\n",
      "20 epochs passed without 0 test loss improvement. \n",
      "Early stopping triggered.\n"
     ]
    },
    {
     "data": {
      "text/html": [
       "<style>\n",
       "    table.wandb td:nth-child(1) { padding: 0 10px; text-align: left ; width: auto;} td:nth-child(2) {text-align: left ; width: 100%}\n",
       "    .wandb-row { display: flex; flex-direction: row; flex-wrap: wrap; justify-content: flex-start; width: 100% }\n",
       "    .wandb-col { display: flex; flex-direction: column; flex-basis: 100%; flex: 1; padding: 10px; }\n",
       "    </style>\n",
       "<div class=\"wandb-row\"><div class=\"wandb-col\"><h3>Run history:</h3><br/><table class=\"wandb\"><tr><td>Test Accuracy</td><td>▁▁▃▁▅▅▆▅▄▁▅▆▆▆▆▆▆▆▇▇▆▇▁▇▆▁▆▇▇▆▆█▇▇█▇▇███</td></tr><tr><td>Test F1</td><td>▆▆▁▆▅▅▅▅▂▆▄▆▆▆▅▆▅▆▆▇▅█▆▇▅▆▆▇▇▆▆██▆▇▇▇███</td></tr><tr><td>Test Loss</td><td>████▇▇▇▆▇▇▆▅▅▅▅▄▅▄▄▄▄▄█▃▄▅▃▂▂▃▃▂▆▃▁▂▂▃▃▁</td></tr><tr><td>Test Sensitivity</td><td>██▁█▃▃▄▃▂█▃▄▄▄▃▄▃▄▅▆▃▇█▅▃▇▄▅▅▄▄▆▇▄▅▅▄▇▇▆</td></tr><tr><td>Test Specificity</td><td>▁▁█▁█▇▇▇█▁█▇▇▇▇▇█▇▇▆▇▅▁▇▇▂▇▇▇▇▇▆▄▇▇▇▇▆▆▆</td></tr><tr><td>Train Accuracy</td><td>▁▁▁▁▃▄▄▄▂▁▃▅▅▅▄▆▄▅▆▇▅▆▁▇▅▂▅▇▇▆▆▇▆▆▇▇▇███</td></tr><tr><td>Train F1</td><td>▆▆▁▆▄▅▅▅▂▆▄▆▆▆▅▆▅▆▇▇▆▇▆▇▆▆▆▇▇▆▆██▆▇▇▇███</td></tr><tr><td>Train Loss</td><td>█████▇▇▇█▇▇▆▆▆▆▅▆▅▅▅▅▅▇▄▅▅▄▃▃▄▃▂▄▄▁▂▂▂▁▁</td></tr><tr><td>Train Sensitivity</td><td>██▁█▃▃▄▃▂█▃▄▄▅▄▅▃▅▅▇▄▇█▆▄▇▄▅▆▄▅▇█▄▆▅▅▇▇▇</td></tr><tr><td>Train Specificity</td><td>▁▁█▁██▇██▁█▇▇▇█▇█▇▇▆█▆▁▇█▂█▇▇██▇▅█▇██▆▆▇</td></tr></table><br/></div><div class=\"wandb-col\"><h3>Run summary:</h3><br/><table class=\"wandb\"><tr><td>Test Accuracy</td><td>0.72667</td></tr><tr><td>Test F1</td><td>0.66503</td></tr><tr><td>Test Loss</td><td>0.5873</td></tr><tr><td>Test Sensitivity</td><td>0.53098</td></tr><tr><td>Test Specificity</td><td>0.93115</td></tr><tr><td>Train Accuracy</td><td>0.75943</td></tr><tr><td>Train F1</td><td>0.71035</td></tr><tr><td>Train Loss</td><td>0.49547</td></tr><tr><td>Train Sensitivity</td><td>0.56038</td></tr><tr><td>Train Specificity</td><td>0.98069</td></tr></table><br/></div></div>"
      ],
      "text/plain": [
       "<IPython.core.display.HTML object>"
      ]
     },
     "metadata": {},
     "output_type": "display_data"
    },
    {
     "data": {
      "text/html": [
       " View run <strong style=\"color:#cdcd00\">gentle-sweep-25</strong> at: <a href='https://wandb.ai/dylan-home/pnca-sweep-1/runs/mthnsfj3' target=\"_blank\">https://wandb.ai/dylan-home/pnca-sweep-1/runs/mthnsfj3</a><br/>Synced 5 W&B file(s), 0 media file(s), 0 artifact file(s) and 0 other file(s)"
      ],
      "text/plain": [
       "<IPython.core.display.HTML object>"
      ]
     },
     "metadata": {},
     "output_type": "display_data"
    },
    {
     "data": {
      "text/html": [
       "Find logs at: <code>./wandb/run-20250116_011012-mthnsfj3/logs</code>"
      ],
      "text/plain": [
       "<IPython.core.display.HTML object>"
      ]
     },
     "metadata": {},
     "output_type": "display_data"
    },
    {
     "name": "stderr",
     "output_type": "stream",
     "text": [
      "\u001b[34m\u001b[1mwandb\u001b[0m: Agent Starting Run: bhrtrnjb with config:\n",
      "\u001b[34m\u001b[1mwandb\u001b[0m: \tcutoff_distance: 4.325123700626566\n",
      "\u001b[34m\u001b[1mwandb\u001b[0m: \tdropout: 0.5\n",
      "\u001b[34m\u001b[1mwandb\u001b[0m: \thidden_channels: 192\n",
      "\u001b[34m\u001b[1mwandb\u001b[0m: \tlearning_rate: 0.0008264580788676355\n",
      "\u001b[34m\u001b[1mwandb\u001b[0m: \tweight_decay: 1.3995538783699676e-06\n",
      "Failed to detect the name of this notebook, you can set it manually with the WANDB_NOTEBOOK_NAME environment variable to enable code saving.\n",
      "/usr/lib/python3/dist-packages/requests/__init__.py:87: RequestsDependencyWarning: urllib3 (2.2.3) or chardet (4.0.0) doesn't match a supported version!\n",
      "  warnings.warn(\"urllib3 ({}) or chardet ({}) doesn't match a supported \"\n"
     ]
    },
    {
     "data": {
      "text/html": [
       "wandb version 0.19.3 is available!  To upgrade, please run:\n",
       " $ pip install wandb --upgrade"
      ],
      "text/plain": [
       "<IPython.core.display.HTML object>"
      ]
     },
     "metadata": {},
     "output_type": "display_data"
    },
    {
     "data": {
      "text/html": [
       "Tracking run with wandb version 0.16.4"
      ],
      "text/plain": [
       "<IPython.core.display.HTML object>"
      ]
     },
     "metadata": {},
     "output_type": "display_data"
    },
    {
     "data": {
      "text/html": [
       "Run data is saved locally in <code>/mnt/alphafold-volume-1/dylan2/repos/tb-pnca-gnn/dd_pnca/wandb/run-20250116_012357-bhrtrnjb</code>"
      ],
      "text/plain": [
       "<IPython.core.display.HTML object>"
      ]
     },
     "metadata": {},
     "output_type": "display_data"
    },
    {
     "data": {
      "text/html": [
       "Syncing run <strong><a href='https://wandb.ai/dylan-home/pnca-sweep-1/runs/bhrtrnjb' target=\"_blank\">toasty-sweep-26</a></strong> to <a href='https://wandb.ai/dylan-home/pnca-sweep-1' target=\"_blank\">Weights & Biases</a> (<a href='https://wandb.me/run' target=\"_blank\">docs</a>)<br/>Sweep page: <a href='https://wandb.ai/dylan-home/pnca-sweep-1/sweeps/tr8mwg42' target=\"_blank\">https://wandb.ai/dylan-home/pnca-sweep-1/sweeps/tr8mwg42</a>"
      ],
      "text/plain": [
       "<IPython.core.display.HTML object>"
      ]
     },
     "metadata": {},
     "output_type": "display_data"
    },
    {
     "data": {
      "text/html": [
       " View project at <a href='https://wandb.ai/dylan-home/pnca-sweep-1' target=\"_blank\">https://wandb.ai/dylan-home/pnca-sweep-1</a>"
      ],
      "text/plain": [
       "<IPython.core.display.HTML object>"
      ]
     },
     "metadata": {},
     "output_type": "display_data"
    },
    {
     "data": {
      "text/html": [
       " View sweep at <a href='https://wandb.ai/dylan-home/pnca-sweep-1/sweeps/tr8mwg42' target=\"_blank\">https://wandb.ai/dylan-home/pnca-sweep-1/sweeps/tr8mwg42</a>"
      ],
      "text/plain": [
       "<IPython.core.display.HTML object>"
      ]
     },
     "metadata": {},
     "output_type": "display_data"
    },
    {
     "data": {
      "text/html": [
       " View run at <a href='https://wandb.ai/dylan-home/pnca-sweep-1/runs/bhrtrnjb' target=\"_blank\">https://wandb.ai/dylan-home/pnca-sweep-1/runs/bhrtrnjb</a>"
      ],
      "text/plain": [
       "<IPython.core.display.HTML object>"
      ]
     },
     "metadata": {},
     "output_type": "display_data"
    },
    {
     "name": "stdout",
     "output_type": "stream",
     "text": [
      "Using CUDA\n",
      "Early stopping enabled. Patience: 20. Min Delta: 0.\n",
      "Epoch: 010, Train Acc: 0.5264, Test Acc: 0.5110, Train Loss: 0.6919, Test Loss: 0.6937\n",
      "Epoch: 020, Train Acc: 0.5264, Test Acc: 0.5110, Train Loss: 0.6916, Test Loss: 0.6922\n",
      "Epoch: 030, Train Acc: 0.5264, Test Acc: 0.5110, Train Loss: 0.6889, Test Loss: 0.6906\n",
      "Epoch: 040, Train Acc: 0.5264, Test Acc: 0.5110, Train Loss: 0.6891, Test Loss: 0.6919\n",
      "Epoch: 050, Train Acc: 0.6493, Test Acc: 0.6353, Train Loss: 0.6885, Test Loss: 0.6888\n",
      "Epoch: 060, Train Acc: 0.5264, Test Acc: 0.5110, Train Loss: 0.6819, Test Loss: 0.6853\n",
      "Epoch: 070, Train Acc: 0.5880, Test Acc: 0.5817, Train Loss: 0.6832, Test Loss: 0.6841\n",
      "Epoch: 080, Train Acc: 0.7021, Test Acc: 0.6787, Train Loss: 0.6758, Test Loss: 0.6790\n",
      "Epoch: 090, Train Acc: 0.5044, Test Acc: 0.5230, Train Loss: 0.7152, Test Loss: 0.7161\n",
      "Epoch: 100, Train Acc: 0.5271, Test Acc: 0.5100, Train Loss: 0.6477, Test Loss: 0.6617\n",
      "Epoch: 110, Train Acc: 0.7191, Test Acc: 0.6833, Train Loss: 0.6146, Test Loss: 0.6312\n",
      "Epoch: 120, Train Acc: 0.4859, Test Acc: 0.4997, Train Loss: 0.7778, Test Loss: 0.7812\n",
      "Epoch: 130, Train Acc: 0.6581, Test Acc: 0.6117, Train Loss: 0.6119, Test Loss: 0.6400\n",
      "Epoch: 140, Train Acc: 0.5223, Test Acc: 0.5023, Train Loss: 0.6572, Test Loss: 0.6871\n",
      "Epoch: 150, Train Acc: 0.6914, Test Acc: 0.6607, Train Loss: 0.5602, Test Loss: 0.6158\n",
      "Epoch: 160, Train Acc: 0.7207, Test Acc: 0.6737, Train Loss: 0.5519, Test Loss: 0.6202\n",
      "Epoch: 170, Train Acc: 0.6980, Test Acc: 0.6657, Train Loss: 0.5460, Test Loss: 0.6204\n",
      "Epoch: 180, Train Acc: 0.7120, Test Acc: 0.6530, Train Loss: 0.5739, Test Loss: 0.6462\n",
      "20 epochs passed without 0 test loss improvement. \n",
      "Early stopping triggered.\n"
     ]
    },
    {
     "data": {
      "text/html": [
       "<style>\n",
       "    table.wandb td:nth-child(1) { padding: 0 10px; text-align: left ; width: auto;} td:nth-child(2) {text-align: left ; width: 100%}\n",
       "    .wandb-row { display: flex; flex-direction: row; flex-wrap: wrap; justify-content: flex-start; width: 100% }\n",
       "    .wandb-col { display: flex; flex-direction: column; flex-basis: 100%; flex: 1; padding: 10px; }\n",
       "    </style>\n",
       "<div class=\"wandb-row\"><div class=\"wandb-col\"><h3>Run history:</h3><br/><table class=\"wandb\"><tr><td>Test Accuracy</td><td>▂▂▂▂▂▂▂▆▂▂▂▂▂▁▂▂█▁▄▃▂▇▅█▄▂▅▅▂▂▇▇▇▆▇▄▇▇▂▄</td></tr><tr><td>Test F1</td><td>███████▆█████▇███▇▄▃█▇▆█▄▁▅▆▂███▇▆▇▄▇▇█▄</td></tr><tr><td>Test Loss</td><td>▄▄▄▄▄▄▄▄▄▄▄▄▄▃▄▄▃▃▃▄▃▂▃▂▃▇▃▂█▄▁▁▃▂▂▄▁▁▅▄</td></tr><tr><td>Test Sensitivity</td><td>███████▃█████▇██▅▇▂▂█▅▃▆▂▁▃▄▁█▅▅▅▃▄▂▅▅█▂</td></tr><tr><td>Test Specificity</td><td>▁▁▁▁▁▁▁█▁▁▁▁▁▂▁▁▇▂██▁▆▇▆███▇█▁▆▆▆▇▇█▆▆▁▇</td></tr><tr><td>Train Accuracy</td><td>▂▂▂▂▂▂▂▅▂▂▂▂▂▁▂▂▇▁▄▂▂▇▆█▅▁▅▆▂▂███▆▇▆██▂▄</td></tr><tr><td>Train F1</td><td>███████▅█████▇██▇▇▄▃█▇▆█▅▁▆▆▂████▆▇▆▇▇█▅</td></tr><tr><td>Train Loss</td><td>▆▆▆▆▆▅▅▅▅▅▅▅▅▅▅▅▅▅▅▅▅▃▄▃▄█▄▃█▅▂▂▃▃▂▄▁▁▆▄</td></tr><tr><td>Train Sensitivity</td><td>███████▃█████▇██▅▇▃▂█▅▄▆▃▁▃▄▁█▅▅▅▄▄▃▅▅█▃</td></tr><tr><td>Train Specificity</td><td>▁▁▁▁▁▁▁█▁▁▁▁▁▂▁▁▇▂██▁▇▇▆███▇█▁▇▇▇█▇█▇▇▁█</td></tr></table><br/></div><div class=\"wandb-col\"><h3>Run summary:</h3><br/><table class=\"wandb\"><tr><td>Test Accuracy</td><td>0.57967</td></tr><tr><td>Test F1</td><td>0.42182</td></tr><tr><td>Test Loss</td><td>0.67911</td></tr><tr><td>Test Sensitivity</td><td>0.30007</td></tr><tr><td>Test Specificity</td><td>0.87185</td></tr><tr><td>Train Accuracy</td><td>0.62457</td></tr><tr><td>Train F1</td><td>0.49809</td></tr><tr><td>Train Loss</td><td>0.63577</td></tr><tr><td>Train Sensitivity</td><td>0.35387</td></tr><tr><td>Train Specificity</td><td>0.92549</td></tr></table><br/></div></div>"
      ],
      "text/plain": [
       "<IPython.core.display.HTML object>"
      ]
     },
     "metadata": {},
     "output_type": "display_data"
    },
    {
     "data": {
      "text/html": [
       " View run <strong style=\"color:#cdcd00\">toasty-sweep-26</strong> at: <a href='https://wandb.ai/dylan-home/pnca-sweep-1/runs/bhrtrnjb' target=\"_blank\">https://wandb.ai/dylan-home/pnca-sweep-1/runs/bhrtrnjb</a><br/>Synced 5 W&B file(s), 0 media file(s), 0 artifact file(s) and 0 other file(s)"
      ],
      "text/plain": [
       "<IPython.core.display.HTML object>"
      ]
     },
     "metadata": {},
     "output_type": "display_data"
    },
    {
     "data": {
      "text/html": [
       "Find logs at: <code>./wandb/run-20250116_012357-bhrtrnjb/logs</code>"
      ],
      "text/plain": [
       "<IPython.core.display.HTML object>"
      ]
     },
     "metadata": {},
     "output_type": "display_data"
    },
    {
     "name": "stderr",
     "output_type": "stream",
     "text": [
      "\u001b[34m\u001b[1mwandb\u001b[0m: Agent Starting Run: j4ise5hj with config:\n",
      "\u001b[34m\u001b[1mwandb\u001b[0m: \tcutoff_distance: 9.953771522796558\n",
      "\u001b[34m\u001b[1mwandb\u001b[0m: \tdropout: 0.2\n",
      "\u001b[34m\u001b[1mwandb\u001b[0m: \thidden_channels: 256\n",
      "\u001b[34m\u001b[1mwandb\u001b[0m: \tlearning_rate: 0.0001817204044322342\n",
      "\u001b[34m\u001b[1mwandb\u001b[0m: \tweight_decay: 9.411403719599408e-06\n",
      "Failed to detect the name of this notebook, you can set it manually with the WANDB_NOTEBOOK_NAME environment variable to enable code saving.\n",
      "/usr/lib/python3/dist-packages/requests/__init__.py:87: RequestsDependencyWarning: urllib3 (2.2.3) or chardet (4.0.0) doesn't match a supported version!\n",
      "  warnings.warn(\"urllib3 ({}) or chardet ({}) doesn't match a supported \"\n"
     ]
    },
    {
     "data": {
      "text/html": [
       "wandb version 0.19.3 is available!  To upgrade, please run:\n",
       " $ pip install wandb --upgrade"
      ],
      "text/plain": [
       "<IPython.core.display.HTML object>"
      ]
     },
     "metadata": {},
     "output_type": "display_data"
    },
    {
     "data": {
      "text/html": [
       "Tracking run with wandb version 0.16.4"
      ],
      "text/plain": [
       "<IPython.core.display.HTML object>"
      ]
     },
     "metadata": {},
     "output_type": "display_data"
    },
    {
     "data": {
      "text/html": [
       "Run data is saved locally in <code>/mnt/alphafold-volume-1/dylan2/repos/tb-pnca-gnn/dd_pnca/wandb/run-20250116_013006-j4ise5hj</code>"
      ],
      "text/plain": [
       "<IPython.core.display.HTML object>"
      ]
     },
     "metadata": {},
     "output_type": "display_data"
    },
    {
     "data": {
      "text/html": [
       "Syncing run <strong><a href='https://wandb.ai/dylan-home/pnca-sweep-1/runs/j4ise5hj' target=\"_blank\">bumbling-sweep-27</a></strong> to <a href='https://wandb.ai/dylan-home/pnca-sweep-1' target=\"_blank\">Weights & Biases</a> (<a href='https://wandb.me/run' target=\"_blank\">docs</a>)<br/>Sweep page: <a href='https://wandb.ai/dylan-home/pnca-sweep-1/sweeps/tr8mwg42' target=\"_blank\">https://wandb.ai/dylan-home/pnca-sweep-1/sweeps/tr8mwg42</a>"
      ],
      "text/plain": [
       "<IPython.core.display.HTML object>"
      ]
     },
     "metadata": {},
     "output_type": "display_data"
    },
    {
     "data": {
      "text/html": [
       " View project at <a href='https://wandb.ai/dylan-home/pnca-sweep-1' target=\"_blank\">https://wandb.ai/dylan-home/pnca-sweep-1</a>"
      ],
      "text/plain": [
       "<IPython.core.display.HTML object>"
      ]
     },
     "metadata": {},
     "output_type": "display_data"
    },
    {
     "data": {
      "text/html": [
       " View sweep at <a href='https://wandb.ai/dylan-home/pnca-sweep-1/sweeps/tr8mwg42' target=\"_blank\">https://wandb.ai/dylan-home/pnca-sweep-1/sweeps/tr8mwg42</a>"
      ],
      "text/plain": [
       "<IPython.core.display.HTML object>"
      ]
     },
     "metadata": {},
     "output_type": "display_data"
    },
    {
     "data": {
      "text/html": [
       " View run at <a href='https://wandb.ai/dylan-home/pnca-sweep-1/runs/j4ise5hj' target=\"_blank\">https://wandb.ai/dylan-home/pnca-sweep-1/runs/j4ise5hj</a>"
      ],
      "text/plain": [
       "<IPython.core.display.HTML object>"
      ]
     },
     "metadata": {},
     "output_type": "display_data"
    },
    {
     "name": "stdout",
     "output_type": "stream",
     "text": [
      "Using CUDA\n",
      "Early stopping enabled. Patience: 20. Min Delta: 0.\n",
      "Epoch: 010, Train Acc: 0.4739, Test Acc: 0.4900, Train Loss: 0.7036, Test Loss: 0.6965\n",
      "Epoch: 020, Train Acc: 0.5264, Test Acc: 0.5110, Train Loss: 0.6919, Test Loss: 0.6930\n",
      "Epoch: 030, Train Acc: 0.4850, Test Acc: 0.4760, Train Loss: 0.6815, Test Loss: 0.6754\n",
      "Epoch: 040, Train Acc: 0.5064, Test Acc: 0.4950, Train Loss: 0.6781, Test Loss: 0.6739\n",
      "Epoch: 050, Train Acc: 0.5406, Test Acc: 0.6080, Train Loss: 0.6831, Test Loss: 0.6706\n",
      "Epoch: 060, Train Acc: 0.7211, Test Acc: 0.7033, Train Loss: 0.6561, Test Loss: 0.6494\n",
      "Epoch: 070, Train Acc: 0.7420, Test Acc: 0.7230, Train Loss: 0.6381, Test Loss: 0.6325\n",
      "Epoch: 080, Train Acc: 0.7394, Test Acc: 0.7040, Train Loss: 0.6184, Test Loss: 0.6170\n",
      "Epoch: 090, Train Acc: 0.6014, Test Acc: 0.6327, Train Loss: 0.6444, Test Loss: 0.6336\n",
      "Epoch: 100, Train Acc: 0.7729, Test Acc: 0.7367, Train Loss: 0.5767, Test Loss: 0.5804\n",
      "Epoch: 110, Train Acc: 0.7534, Test Acc: 0.7310, Train Loss: 0.5568, Test Loss: 0.5595\n",
      "Epoch: 120, Train Acc: 0.7209, Test Acc: 0.7120, Train Loss: 0.5536, Test Loss: 0.5584\n",
      "Epoch: 130, Train Acc: 0.7177, Test Acc: 0.7207, Train Loss: 0.5380, Test Loss: 0.5453\n",
      "Epoch: 140, Train Acc: 0.7417, Test Acc: 0.7270, Train Loss: 0.5219, Test Loss: 0.5352\n",
      "Epoch: 150, Train Acc: 0.6763, Test Acc: 0.6813, Train Loss: 0.5914, Test Loss: 0.6013\n",
      "Epoch: 160, Train Acc: 0.7860, Test Acc: 0.7327, Train Loss: 0.4810, Test Loss: 0.5147\n",
      "Epoch: 170, Train Acc: 0.7964, Test Acc: 0.7550, Train Loss: 0.4686, Test Loss: 0.5060\n",
      "Epoch: 180, Train Acc: 0.7489, Test Acc: 0.7273, Train Loss: 0.4917, Test Loss: 0.5290\n",
      "Epoch: 190, Train Acc: 0.7830, Test Acc: 0.7300, Train Loss: 0.4642, Test Loss: 0.5086\n",
      "20 epochs passed without 0 test loss improvement. \n",
      "Early stopping triggered.\n"
     ]
    },
    {
     "data": {
      "text/html": [
       "<style>\n",
       "    table.wandb td:nth-child(1) { padding: 0 10px; text-align: left ; width: auto;} td:nth-child(2) {text-align: left ; width: 100%}\n",
       "    .wandb-row { display: flex; flex-direction: row; flex-wrap: wrap; justify-content: flex-start; width: 100% }\n",
       "    .wandb-col { display: flex; flex-direction: column; flex-basis: 100%; flex: 1; padding: 10px; }\n",
       "    </style>\n",
       "<div class=\"wandb-row\"><div class=\"wandb-col\"><h3>Run history:</h3><br/><table class=\"wandb\"><tr><td>Test Accuracy</td><td>▂▂▁▅▂▂▁▃▁▁▄▂▂▁▂▂▅▅▂▇▇▇▇▆█▇▆▇▇▇▂▆▇▇▇█▇▇▆▇</td></tr><tr><td>Test F1</td><td>▇▇▁▅▇▇▆▃▇▆▄▇▇▇▇▇▆▅▇▇█▇▇▆█▇▆█▇▇▇▆▇▇▇██▇▆▇</td></tr><tr><td>Test Loss</td><td>███▇█▇▇█▇▇▇▇▇▆▇▆▆▆▆▄▄▄▄▄▃▃▅▄▂▂▆▄▂▁▂▁▄▂▇▁</td></tr><tr><td>Test Sensitivity</td><td>██▁▃██▆▂█▆▃█████▃▃█▅▇▅▄▄▆▅▄▇▅▅█▄▅▅▅▆▇▅▄▅</td></tr><tr><td>Test Specificity</td><td>▁▁██▁▁▃█▁▂█▁▁▁▁▁██▁▇▅▇▇█▆▇█▅▇▇▁█▇▇▇▇▅▇█▇</td></tr><tr><td>Train Accuracy</td><td>▂▂▁▃▂▂▁▁▂▁▂▂▂▂▂▂▄▄▂▇▇▆▆▅█▇▅▇▇▇▂▅▇█▇██▇▅█</td></tr><tr><td>Train F1</td><td>▇▇▁▄▇▇▆▂▇▆▃▇▇▇▇▇▅▄▇▇█▆▆▅█▇▅█▇▇▇▆▇█▇██▇▆█</td></tr><tr><td>Train Loss</td><td>█████▇▇█▇▇▇▇▇▇▇▆▆▆▆▅▅▄▅▅▃▃▆▄▃▃▅▅▂▁▂▁▃▂▇▁</td></tr><tr><td>Train Sensitivity</td><td>██▁▃██▆▁█▆▂█████▃▃█▅▇▄▄▄▆▅▃▇▅▅█▄▅▆▅▆▇▅▄▅</td></tr><tr><td>Train Specificity</td><td>▁▁██▁▁▃█▁▂█▁▁▁▁▁██▁▇▆███▆▇█▅██▁██▇█▇▅███</td></tr></table><br/></div><div class=\"wandb-col\"><h3>Run summary:</h3><br/><table class=\"wandb\"><tr><td>Test Accuracy</td><td>0.506</td></tr><tr><td>Test F1</td><td>0.6641</td></tr><tr><td>Test Loss</td><td>0.65589</td></tr><tr><td>Test Sensitivity</td><td>0.95564</td></tr><tr><td>Test Specificity</td><td>0.03613</td></tr><tr><td>Train Accuracy</td><td>0.53714</td></tr><tr><td>Train F1</td><td>0.69143</td></tr><tr><td>Train Loss</td><td>0.58497</td></tr><tr><td>Train Sensitivity</td><td>0.98507</td></tr><tr><td>Train Specificity</td><td>0.03922</td></tr></table><br/></div></div>"
      ],
      "text/plain": [
       "<IPython.core.display.HTML object>"
      ]
     },
     "metadata": {},
     "output_type": "display_data"
    },
    {
     "data": {
      "text/html": [
       " View run <strong style=\"color:#cdcd00\">bumbling-sweep-27</strong> at: <a href='https://wandb.ai/dylan-home/pnca-sweep-1/runs/j4ise5hj' target=\"_blank\">https://wandb.ai/dylan-home/pnca-sweep-1/runs/j4ise5hj</a><br/>Synced 5 W&B file(s), 0 media file(s), 0 artifact file(s) and 0 other file(s)"
      ],
      "text/plain": [
       "<IPython.core.display.HTML object>"
      ]
     },
     "metadata": {},
     "output_type": "display_data"
    },
    {
     "data": {
      "text/html": [
       "Find logs at: <code>./wandb/run-20250116_013006-j4ise5hj/logs</code>"
      ],
      "text/plain": [
       "<IPython.core.display.HTML object>"
      ]
     },
     "metadata": {},
     "output_type": "display_data"
    },
    {
     "name": "stderr",
     "output_type": "stream",
     "text": [
      "\u001b[34m\u001b[1mwandb\u001b[0m: Agent Starting Run: v9hnzbr7 with config:\n",
      "\u001b[34m\u001b[1mwandb\u001b[0m: \tcutoff_distance: 8.983590088606865\n",
      "\u001b[34m\u001b[1mwandb\u001b[0m: \tdropout: 0.2\n",
      "\u001b[34m\u001b[1mwandb\u001b[0m: \thidden_channels: 256\n",
      "\u001b[34m\u001b[1mwandb\u001b[0m: \tlearning_rate: 0.00041678841853575\n",
      "\u001b[34m\u001b[1mwandb\u001b[0m: \tweight_decay: 0.0016708623532584491\n",
      "Failed to detect the name of this notebook, you can set it manually with the WANDB_NOTEBOOK_NAME environment variable to enable code saving.\n",
      "/usr/lib/python3/dist-packages/requests/__init__.py:87: RequestsDependencyWarning: urllib3 (2.2.3) or chardet (4.0.0) doesn't match a supported version!\n",
      "  warnings.warn(\"urllib3 ({}) or chardet ({}) doesn't match a supported \"\n"
     ]
    },
    {
     "data": {
      "text/html": [
       "wandb version 0.19.3 is available!  To upgrade, please run:\n",
       " $ pip install wandb --upgrade"
      ],
      "text/plain": [
       "<IPython.core.display.HTML object>"
      ]
     },
     "metadata": {},
     "output_type": "display_data"
    },
    {
     "data": {
      "text/html": [
       "Tracking run with wandb version 0.16.4"
      ],
      "text/plain": [
       "<IPython.core.display.HTML object>"
      ]
     },
     "metadata": {},
     "output_type": "display_data"
    },
    {
     "data": {
      "text/html": [
       "Run data is saved locally in <code>/mnt/alphafold-volume-1/dylan2/repos/tb-pnca-gnn/dd_pnca/wandb/run-20250116_013631-v9hnzbr7</code>"
      ],
      "text/plain": [
       "<IPython.core.display.HTML object>"
      ]
     },
     "metadata": {},
     "output_type": "display_data"
    },
    {
     "data": {
      "text/html": [
       "Syncing run <strong><a href='https://wandb.ai/dylan-home/pnca-sweep-1/runs/v9hnzbr7' target=\"_blank\">sage-sweep-28</a></strong> to <a href='https://wandb.ai/dylan-home/pnca-sweep-1' target=\"_blank\">Weights & Biases</a> (<a href='https://wandb.me/run' target=\"_blank\">docs</a>)<br/>Sweep page: <a href='https://wandb.ai/dylan-home/pnca-sweep-1/sweeps/tr8mwg42' target=\"_blank\">https://wandb.ai/dylan-home/pnca-sweep-1/sweeps/tr8mwg42</a>"
      ],
      "text/plain": [
       "<IPython.core.display.HTML object>"
      ]
     },
     "metadata": {},
     "output_type": "display_data"
    },
    {
     "data": {
      "text/html": [
       " View project at <a href='https://wandb.ai/dylan-home/pnca-sweep-1' target=\"_blank\">https://wandb.ai/dylan-home/pnca-sweep-1</a>"
      ],
      "text/plain": [
       "<IPython.core.display.HTML object>"
      ]
     },
     "metadata": {},
     "output_type": "display_data"
    },
    {
     "data": {
      "text/html": [
       " View sweep at <a href='https://wandb.ai/dylan-home/pnca-sweep-1/sweeps/tr8mwg42' target=\"_blank\">https://wandb.ai/dylan-home/pnca-sweep-1/sweeps/tr8mwg42</a>"
      ],
      "text/plain": [
       "<IPython.core.display.HTML object>"
      ]
     },
     "metadata": {},
     "output_type": "display_data"
    },
    {
     "data": {
      "text/html": [
       " View run at <a href='https://wandb.ai/dylan-home/pnca-sweep-1/runs/v9hnzbr7' target=\"_blank\">https://wandb.ai/dylan-home/pnca-sweep-1/runs/v9hnzbr7</a>"
      ],
      "text/plain": [
       "<IPython.core.display.HTML object>"
      ]
     },
     "metadata": {},
     "output_type": "display_data"
    },
    {
     "name": "stdout",
     "output_type": "stream",
     "text": [
      "Using CUDA\n",
      "Early stopping enabled. Patience: 20. Min Delta: 0.\n",
      "Epoch: 010, Train Acc: 0.6269, Test Acc: 0.6627, Train Loss: 0.6910, Test Loss: 0.6888\n",
      "Epoch: 020, Train Acc: 0.5263, Test Acc: 0.5110, Train Loss: 0.6900, Test Loss: 0.6901\n",
      "Epoch: 030, Train Acc: 0.5690, Test Acc: 0.6210, Train Loss: 0.6917, Test Loss: 0.6907\n",
      "20 epochs passed without 0 test loss improvement. \n",
      "Early stopping triggered.\n"
     ]
    },
    {
     "data": {
      "text/html": [
       "<style>\n",
       "    table.wandb td:nth-child(1) { padding: 0 10px; text-align: left ; width: auto;} td:nth-child(2) {text-align: left ; width: 100%}\n",
       "    .wandb-row { display: flex; flex-direction: row; flex-wrap: wrap; justify-content: flex-start; width: 100% }\n",
       "    .wandb-col { display: flex; flex-direction: column; flex-basis: 100%; flex: 1; padding: 10px; }\n",
       "    </style>\n",
       "<div class=\"wandb-row\"><div class=\"wandb-col\"><h3>Run history:</h3><br/><table class=\"wandb\"><tr><td>Test Accuracy</td><td>▂▁▁▂▁▂▂▇▂█▁▂▁▂▂▂▂▅▂▂▂▂▂▂▂▇▂▂▂▆</td></tr><tr><td>Test F1</td><td>█▁██▁██▆█▇▁█▁████▄███████▆███▆</td></tr><tr><td>Test Loss</td><td>▃▃▂▂█▁▃▁▁▁▄▁▂▃▁▁▂▁▁▁▂▁▁▁▁▁▁▁▁▁</td></tr><tr><td>Test Sensitivity</td><td>█▁██▁██▄█▄▁█▁████▂███████▄███▃</td></tr><tr><td>Test Specificity</td><td>▁█▁▁█▁▁█▁▇█▁█▁▁▁▁█▁▁▁▁▁▁▁█▁▁▁█</td></tr><tr><td>Train Accuracy</td><td>▃▁▂▃▁▃▃▆▃█▁▃▁▃▃▃▃▃▃▃▃▃▃▃▃▇▃▃▃▅</td></tr><tr><td>Train F1</td><td>█▁██▁██▅█▆▁█▁████▂███████▅███▄</td></tr><tr><td>Train Loss</td><td>▂▃▂▁█▁▂▁▁▁▄▁▂▂▁▁▁▂▁▁▁▁▁▁▁▁▁▁▁▁</td></tr><tr><td>Train Sensitivity</td><td>█▁██▁██▃█▃▁█▁████▂███████▃███▂</td></tr><tr><td>Train Specificity</td><td>▁█▁▁█▁▁█▁██▁█▁▁▁▁█▁▁▁▁▁▁▁█▁▁▁█</td></tr></table><br/></div><div class=\"wandb-col\"><h3>Run summary:</h3><br/><table class=\"wandb\"><tr><td>Test Accuracy</td><td>0.621</td></tr><tr><td>Test F1</td><td>0.44073</td></tr><tr><td>Test Loss</td><td>0.69067</td></tr><tr><td>Test Sensitivity</td><td>0.29224</td></tr><tr><td>Test Specificity</td><td>0.96455</td></tr><tr><td>Train Accuracy</td><td>0.569</td></tr><tr><td>Train F1</td><td>0.33296</td></tr><tr><td>Train Loss</td><td>0.6917</td></tr><tr><td>Train Sensitivity</td><td>0.20434</td></tr><tr><td>Train Specificity</td><td>0.97436</td></tr></table><br/></div></div>"
      ],
      "text/plain": [
       "<IPython.core.display.HTML object>"
      ]
     },
     "metadata": {},
     "output_type": "display_data"
    },
    {
     "data": {
      "text/html": [
       " View run <strong style=\"color:#cdcd00\">sage-sweep-28</strong> at: <a href='https://wandb.ai/dylan-home/pnca-sweep-1/runs/v9hnzbr7' target=\"_blank\">https://wandb.ai/dylan-home/pnca-sweep-1/runs/v9hnzbr7</a><br/>Synced 5 W&B file(s), 0 media file(s), 0 artifact file(s) and 0 other file(s)"
      ],
      "text/plain": [
       "<IPython.core.display.HTML object>"
      ]
     },
     "metadata": {},
     "output_type": "display_data"
    },
    {
     "data": {
      "text/html": [
       "Find logs at: <code>./wandb/run-20250116_013631-v9hnzbr7/logs</code>"
      ],
      "text/plain": [
       "<IPython.core.display.HTML object>"
      ]
     },
     "metadata": {},
     "output_type": "display_data"
    },
    {
     "name": "stderr",
     "output_type": "stream",
     "text": [
      "\u001b[34m\u001b[1mwandb\u001b[0m: Agent Starting Run: csnpbri5 with config:\n",
      "\u001b[34m\u001b[1mwandb\u001b[0m: \tcutoff_distance: 4.898667157494304\n",
      "\u001b[34m\u001b[1mwandb\u001b[0m: \tdropout: 0.4\n",
      "\u001b[34m\u001b[1mwandb\u001b[0m: \thidden_channels: 64\n",
      "\u001b[34m\u001b[1mwandb\u001b[0m: \tlearning_rate: 0.00829142068767969\n",
      "\u001b[34m\u001b[1mwandb\u001b[0m: \tweight_decay: 9.29836090341409e-06\n",
      "Failed to detect the name of this notebook, you can set it manually with the WANDB_NOTEBOOK_NAME environment variable to enable code saving.\n",
      "/usr/lib/python3/dist-packages/requests/__init__.py:87: RequestsDependencyWarning: urllib3 (2.2.3) or chardet (4.0.0) doesn't match a supported version!\n",
      "  warnings.warn(\"urllib3 ({}) or chardet ({}) doesn't match a supported \"\n"
     ]
    },
    {
     "data": {
      "text/html": [
       "wandb version 0.19.3 is available!  To upgrade, please run:\n",
       " $ pip install wandb --upgrade"
      ],
      "text/plain": [
       "<IPython.core.display.HTML object>"
      ]
     },
     "metadata": {},
     "output_type": "display_data"
    },
    {
     "data": {
      "text/html": [
       "Tracking run with wandb version 0.16.4"
      ],
      "text/plain": [
       "<IPython.core.display.HTML object>"
      ]
     },
     "metadata": {},
     "output_type": "display_data"
    },
    {
     "data": {
      "text/html": [
       "Run data is saved locally in <code>/mnt/alphafold-volume-1/dylan2/repos/tb-pnca-gnn/dd_pnca/wandb/run-20250116_013742-csnpbri5</code>"
      ],
      "text/plain": [
       "<IPython.core.display.HTML object>"
      ]
     },
     "metadata": {},
     "output_type": "display_data"
    },
    {
     "data": {
      "text/html": [
       "Syncing run <strong><a href='https://wandb.ai/dylan-home/pnca-sweep-1/runs/csnpbri5' target=\"_blank\">woven-sweep-29</a></strong> to <a href='https://wandb.ai/dylan-home/pnca-sweep-1' target=\"_blank\">Weights & Biases</a> (<a href='https://wandb.me/run' target=\"_blank\">docs</a>)<br/>Sweep page: <a href='https://wandb.ai/dylan-home/pnca-sweep-1/sweeps/tr8mwg42' target=\"_blank\">https://wandb.ai/dylan-home/pnca-sweep-1/sweeps/tr8mwg42</a>"
      ],
      "text/plain": [
       "<IPython.core.display.HTML object>"
      ]
     },
     "metadata": {},
     "output_type": "display_data"
    },
    {
     "data": {
      "text/html": [
       " View project at <a href='https://wandb.ai/dylan-home/pnca-sweep-1' target=\"_blank\">https://wandb.ai/dylan-home/pnca-sweep-1</a>"
      ],
      "text/plain": [
       "<IPython.core.display.HTML object>"
      ]
     },
     "metadata": {},
     "output_type": "display_data"
    },
    {
     "data": {
      "text/html": [
       " View sweep at <a href='https://wandb.ai/dylan-home/pnca-sweep-1/sweeps/tr8mwg42' target=\"_blank\">https://wandb.ai/dylan-home/pnca-sweep-1/sweeps/tr8mwg42</a>"
      ],
      "text/plain": [
       "<IPython.core.display.HTML object>"
      ]
     },
     "metadata": {},
     "output_type": "display_data"
    },
    {
     "data": {
      "text/html": [
       " View run at <a href='https://wandb.ai/dylan-home/pnca-sweep-1/runs/csnpbri5' target=\"_blank\">https://wandb.ai/dylan-home/pnca-sweep-1/runs/csnpbri5</a>"
      ],
      "text/plain": [
       "<IPython.core.display.HTML object>"
      ]
     },
     "metadata": {},
     "output_type": "display_data"
    },
    {
     "name": "stdout",
     "output_type": "stream",
     "text": [
      "Using CUDA\n",
      "Early stopping enabled. Patience: 20. Min Delta: 0.\n",
      "Epoch: 010, Train Acc: 0.5264, Test Acc: 0.5110, Train Loss: 0.6925, Test Loss: 0.6945\n",
      "Epoch: 020, Train Acc: 0.5264, Test Acc: 0.5110, Train Loss: 0.6917, Test Loss: 0.6937\n",
      "Epoch: 030, Train Acc: 0.5264, Test Acc: 0.5110, Train Loss: 0.6920, Test Loss: 0.6941\n",
      "Epoch: 040, Train Acc: 0.5264, Test Acc: 0.5110, Train Loss: 0.6919, Test Loss: 0.6938\n",
      "20 epochs passed without 0 test loss improvement. \n",
      "Early stopping triggered.\n"
     ]
    },
    {
     "data": {
      "text/html": [
       "<style>\n",
       "    table.wandb td:nth-child(1) { padding: 0 10px; text-align: left ; width: auto;} td:nth-child(2) {text-align: left ; width: 100%}\n",
       "    .wandb-row { display: flex; flex-direction: row; flex-wrap: wrap; justify-content: flex-start; width: 100% }\n",
       "    .wandb-col { display: flex; flex-direction: column; flex-basis: 100%; flex: 1; padding: 10px; }\n",
       "    </style>\n",
       "<div class=\"wandb-row\"><div class=\"wandb-col\"><h3>Run history:</h3><br/><table class=\"wandb\"><tr><td>Test Accuracy</td><td>▁███████████████████████████████████████</td></tr><tr><td>Test F1</td><td>▁███████████████████████████████████████</td></tr><tr><td>Test Loss</td><td>▂▄▄▂▂▁▂▂▃▅▂▃▂▄▂▁▃▂▁▃▁▁▂▂▂▃▂▁▄▁▁▂▂▂▂▃█▂▄▂</td></tr><tr><td>Test Sensitivity</td><td>▁███████████████████████████████████████</td></tr><tr><td>Test Specificity</td><td>█▁▁▁▁▁▁▁▁▁▁▁▁▁▁▁▁▁▁▁▁▁▁▁▁▁▁▁▁▁▁▁▁▁▁▁▁▁▁▁</td></tr><tr><td>Train Accuracy</td><td>▁███████████████████████████████████████</td></tr><tr><td>Train F1</td><td>▁███████████████████████████████████████</td></tr><tr><td>Train Loss</td><td>█▃▁▂▂▄▂▁▂▅▂▃▂▂▂▃▃▂▅▂▃▃▃▂▂▂▂▃▃▃▂▂▃▃▁▂▅▆▃▂</td></tr><tr><td>Train Sensitivity</td><td>▁███████████████████████████████████████</td></tr><tr><td>Train Specificity</td><td>█▁▁▁▁▁▁▁▁▁▁▁▁▁▁▁▁▁▁▁▁▁▁▁▁▁▁▁▁▁▁▁▁▁▁▁▁▁▁▁</td></tr></table><br/></div><div class=\"wandb-col\"><h3>Run summary:</h3><br/><table class=\"wandb\"><tr><td>Test Accuracy</td><td>0.511</td></tr><tr><td>Test F1</td><td>0.67637</td></tr><tr><td>Test Loss</td><td>0.69327</td></tr><tr><td>Test Sensitivity</td><td>1.0</td></tr><tr><td>Test Specificity</td><td>0.0</td></tr><tr><td>Train Accuracy</td><td>0.52643</td></tr><tr><td>Train F1</td><td>0.68975</td></tr><tr><td>Train Loss</td><td>0.69165</td></tr><tr><td>Train Sensitivity</td><td>1.0</td></tr><tr><td>Train Specificity</td><td>0.0</td></tr></table><br/></div></div>"
      ],
      "text/plain": [
       "<IPython.core.display.HTML object>"
      ]
     },
     "metadata": {},
     "output_type": "display_data"
    },
    {
     "data": {
      "text/html": [
       " View run <strong style=\"color:#cdcd00\">woven-sweep-29</strong> at: <a href='https://wandb.ai/dylan-home/pnca-sweep-1/runs/csnpbri5' target=\"_blank\">https://wandb.ai/dylan-home/pnca-sweep-1/runs/csnpbri5</a><br/>Synced 5 W&B file(s), 0 media file(s), 0 artifact file(s) and 0 other file(s)"
      ],
      "text/plain": [
       "<IPython.core.display.HTML object>"
      ]
     },
     "metadata": {},
     "output_type": "display_data"
    },
    {
     "data": {
      "text/html": [
       "Find logs at: <code>./wandb/run-20250116_013742-csnpbri5/logs</code>"
      ],
      "text/plain": [
       "<IPython.core.display.HTML object>"
      ]
     },
     "metadata": {},
     "output_type": "display_data"
    },
    {
     "name": "stderr",
     "output_type": "stream",
     "text": [
      "\u001b[34m\u001b[1mwandb\u001b[0m: Agent Starting Run: 9p2r9ipm with config:\n",
      "\u001b[34m\u001b[1mwandb\u001b[0m: \tcutoff_distance: 4.9341927431646635\n",
      "\u001b[34m\u001b[1mwandb\u001b[0m: \tdropout: 0.5\n",
      "\u001b[34m\u001b[1mwandb\u001b[0m: \thidden_channels: 192\n",
      "\u001b[34m\u001b[1mwandb\u001b[0m: \tlearning_rate: 0.0009900289806845397\n",
      "\u001b[34m\u001b[1mwandb\u001b[0m: \tweight_decay: 0.00018453051986607927\n",
      "Failed to detect the name of this notebook, you can set it manually with the WANDB_NOTEBOOK_NAME environment variable to enable code saving.\n",
      "/usr/lib/python3/dist-packages/requests/__init__.py:87: RequestsDependencyWarning: urllib3 (2.2.3) or chardet (4.0.0) doesn't match a supported version!\n",
      "  warnings.warn(\"urllib3 ({}) or chardet ({}) doesn't match a supported \"\n"
     ]
    },
    {
     "data": {
      "text/html": [
       "wandb version 0.19.3 is available!  To upgrade, please run:\n",
       " $ pip install wandb --upgrade"
      ],
      "text/plain": [
       "<IPython.core.display.HTML object>"
      ]
     },
     "metadata": {},
     "output_type": "display_data"
    },
    {
     "data": {
      "text/html": [
       "Tracking run with wandb version 0.16.4"
      ],
      "text/plain": [
       "<IPython.core.display.HTML object>"
      ]
     },
     "metadata": {},
     "output_type": "display_data"
    },
    {
     "data": {
      "text/html": [
       "Run data is saved locally in <code>/mnt/alphafold-volume-1/dylan2/repos/tb-pnca-gnn/dd_pnca/wandb/run-20250116_013909-9p2r9ipm</code>"
      ],
      "text/plain": [
       "<IPython.core.display.HTML object>"
      ]
     },
     "metadata": {},
     "output_type": "display_data"
    },
    {
     "data": {
      "text/html": [
       "Syncing run <strong><a href='https://wandb.ai/dylan-home/pnca-sweep-1/runs/9p2r9ipm' target=\"_blank\">olive-sweep-30</a></strong> to <a href='https://wandb.ai/dylan-home/pnca-sweep-1' target=\"_blank\">Weights & Biases</a> (<a href='https://wandb.me/run' target=\"_blank\">docs</a>)<br/>Sweep page: <a href='https://wandb.ai/dylan-home/pnca-sweep-1/sweeps/tr8mwg42' target=\"_blank\">https://wandb.ai/dylan-home/pnca-sweep-1/sweeps/tr8mwg42</a>"
      ],
      "text/plain": [
       "<IPython.core.display.HTML object>"
      ]
     },
     "metadata": {},
     "output_type": "display_data"
    },
    {
     "data": {
      "text/html": [
       " View project at <a href='https://wandb.ai/dylan-home/pnca-sweep-1' target=\"_blank\">https://wandb.ai/dylan-home/pnca-sweep-1</a>"
      ],
      "text/plain": [
       "<IPython.core.display.HTML object>"
      ]
     },
     "metadata": {},
     "output_type": "display_data"
    },
    {
     "data": {
      "text/html": [
       " View sweep at <a href='https://wandb.ai/dylan-home/pnca-sweep-1/sweeps/tr8mwg42' target=\"_blank\">https://wandb.ai/dylan-home/pnca-sweep-1/sweeps/tr8mwg42</a>"
      ],
      "text/plain": [
       "<IPython.core.display.HTML object>"
      ]
     },
     "metadata": {},
     "output_type": "display_data"
    },
    {
     "data": {
      "text/html": [
       " View run at <a href='https://wandb.ai/dylan-home/pnca-sweep-1/runs/9p2r9ipm' target=\"_blank\">https://wandb.ai/dylan-home/pnca-sweep-1/runs/9p2r9ipm</a>"
      ],
      "text/plain": [
       "<IPython.core.display.HTML object>"
      ]
     },
     "metadata": {},
     "output_type": "display_data"
    },
    {
     "name": "stdout",
     "output_type": "stream",
     "text": [
      "Using CUDA\n",
      "Early stopping enabled. Patience: 20. Min Delta: 0.\n",
      "Epoch: 010, Train Acc: 0.5264, Test Acc: 0.5110, Train Loss: 0.6915, Test Loss: 0.6932\n",
      "Epoch: 020, Train Acc: 0.5264, Test Acc: 0.5110, Train Loss: 0.6912, Test Loss: 0.6921\n",
      "Epoch: 030, Train Acc: 0.5264, Test Acc: 0.5110, Train Loss: 0.6897, Test Loss: 0.6911\n",
      "Epoch: 040, Train Acc: 0.5264, Test Acc: 0.5110, Train Loss: 0.6886, Test Loss: 0.6911\n",
      "Epoch: 050, Train Acc: 0.5264, Test Acc: 0.5110, Train Loss: 0.6881, Test Loss: 0.6891\n",
      "Epoch: 060, Train Acc: 0.5266, Test Acc: 0.5110, Train Loss: 0.6829, Test Loss: 0.6845\n",
      "Epoch: 070, Train Acc: 0.5263, Test Acc: 0.5097, Train Loss: 0.6861, Test Loss: 0.6877\n",
      "Epoch: 080, Train Acc: 0.5953, Test Acc: 0.6087, Train Loss: 0.6730, Test Loss: 0.6704\n",
      "Epoch: 090, Train Acc: 0.7046, Test Acc: 0.6893, Train Loss: 0.6545, Test Loss: 0.6540\n",
      "Epoch: 100, Train Acc: 0.5264, Test Acc: 0.5110, Train Loss: 0.6905, Test Loss: 0.6931\n",
      "Epoch: 110, Train Acc: 0.5070, Test Acc: 0.4847, Train Loss: 0.6572, Test Loss: 0.6649\n",
      "20 epochs passed without 0 test loss improvement. \n",
      "Early stopping triggered.\n"
     ]
    },
    {
     "data": {
      "text/html": [
       "<style>\n",
       "    table.wandb td:nth-child(1) { padding: 0 10px; text-align: left ; width: auto;} td:nth-child(2) {text-align: left ; width: 100%}\n",
       "    .wandb-row { display: flex; flex-direction: row; flex-wrap: wrap; justify-content: flex-start; width: 100% }\n",
       "    .wandb-col { display: flex; flex-direction: column; flex-basis: 100%; flex: 1; padding: 10px; }\n",
       "    </style>\n",
       "<div class=\"wandb-row\"><div class=\"wandb-col\"><h3>Run history:</h3><br/><table class=\"wandb\"><tr><td>Test Accuracy</td><td>▂▃▃▃▃▃▃▃▃▃▃▃▃▃▃▇▁▃▃▅▃▃▃▃▃▃▂▆▃▃▂█▂▃▃▅▃▂▃▆</td></tr><tr><td>Test F1</td><td>▁██████████████▆▇██▄███████▅███▇███▄█▇█▆</td></tr><tr><td>Test Loss</td><td>█▆▆▆▆▆▆▆▆▆▅▅▆▆▆▅▅▅▅▅▅▄▄▅▅▄▃▃▂▃▂▁▁▆▆▆▄▃▃▁</td></tr><tr><td>Test Sensitivity</td><td>▁██████████████▃▆██▂██████▇▃██▇▄▇██▃█▇█▃</td></tr><tr><td>Test Specificity</td><td>█▁▁▁▁▁▁▁▁▁▁▁▁▁▁█▂▁▁█▁▁▁▁▁▁▁█▁▁▁▇▁▁▁█▁▂▁▇</td></tr><tr><td>Train Accuracy</td><td>▁▃▃▃▃▃▃▃▃▃▃▃▃▃▃▆▁▃▃▃▃▃▃▃▃▃▂▅▃▃▂█▂▃▃▅▃▂▃▇</td></tr><tr><td>Train F1</td><td>▁██████████████▆▇██▃███████▅███▇███▅███▆</td></tr><tr><td>Train Loss</td><td>█▅▅▅▅▅▅▅▅▅▅▅▅▅▅▅▅▅▅▅▅▄▄▅▅▄▃▄▂▄▂▂▂▆▅▅▄▃▂▁</td></tr><tr><td>Train Sensitivity</td><td>▁██████████████▃▆██▂██████▇▃██▇▄▇██▃█▇█▄</td></tr><tr><td>Train Specificity</td><td>█▁▁▁▁▁▁▁▁▁▁▁▁▁▁▇▂▁▁█▁▁▁▁▁▁▁█▁▁▁▇▁▁▁█▁▂▁█</td></tr></table><br/></div><div class=\"wandb-col\"><h3>Run summary:</h3><br/><table class=\"wandb\"><tr><td>Test Accuracy</td><td>0.603</td></tr><tr><td>Test F1</td><td>0.46901</td></tr><tr><td>Test Loss</td><td>0.65186</td></tr><tr><td>Test Sensitivity</td><td>0.34312</td></tr><tr><td>Test Specificity</td><td>0.87457</td></tr><tr><td>Train Accuracy</td><td>0.63586</td></tr><tr><td>Train F1</td><td>0.51568</td></tr><tr><td>Train Loss</td><td>0.64347</td></tr><tr><td>Train Sensitivity</td><td>0.36825</td></tr><tr><td>Train Specificity</td><td>0.93333</td></tr></table><br/></div></div>"
      ],
      "text/plain": [
       "<IPython.core.display.HTML object>"
      ]
     },
     "metadata": {},
     "output_type": "display_data"
    },
    {
     "data": {
      "text/html": [
       " View run <strong style=\"color:#cdcd00\">olive-sweep-30</strong> at: <a href='https://wandb.ai/dylan-home/pnca-sweep-1/runs/9p2r9ipm' target=\"_blank\">https://wandb.ai/dylan-home/pnca-sweep-1/runs/9p2r9ipm</a><br/>Synced 5 W&B file(s), 0 media file(s), 0 artifact file(s) and 0 other file(s)"
      ],
      "text/plain": [
       "<IPython.core.display.HTML object>"
      ]
     },
     "metadata": {},
     "output_type": "display_data"
    },
    {
     "data": {
      "text/html": [
       "Find logs at: <code>./wandb/run-20250116_013909-9p2r9ipm/logs</code>"
      ],
      "text/plain": [
       "<IPython.core.display.HTML object>"
      ]
     },
     "metadata": {},
     "output_type": "display_data"
    },
    {
     "name": "stderr",
     "output_type": "stream",
     "text": [
      "\u001b[34m\u001b[1mwandb\u001b[0m: Agent Starting Run: ry5a5c3m with config:\n",
      "\u001b[34m\u001b[1mwandb\u001b[0m: \tcutoff_distance: 5.868281142399946\n",
      "\u001b[34m\u001b[1mwandb\u001b[0m: \tdropout: 0.6\n",
      "\u001b[34m\u001b[1mwandb\u001b[0m: \thidden_channels: 256\n",
      "\u001b[34m\u001b[1mwandb\u001b[0m: \tlearning_rate: 0.0008697647711835377\n",
      "\u001b[34m\u001b[1mwandb\u001b[0m: \tweight_decay: 0.0018287340686591444\n",
      "Failed to detect the name of this notebook, you can set it manually with the WANDB_NOTEBOOK_NAME environment variable to enable code saving.\n",
      "/usr/lib/python3/dist-packages/requests/__init__.py:87: RequestsDependencyWarning: urllib3 (2.2.3) or chardet (4.0.0) doesn't match a supported version!\n",
      "  warnings.warn(\"urllib3 ({}) or chardet ({}) doesn't match a supported \"\n"
     ]
    },
    {
     "data": {
      "text/html": [
       "wandb version 0.19.3 is available!  To upgrade, please run:\n",
       " $ pip install wandb --upgrade"
      ],
      "text/plain": [
       "<IPython.core.display.HTML object>"
      ]
     },
     "metadata": {},
     "output_type": "display_data"
    },
    {
     "data": {
      "text/html": [
       "Tracking run with wandb version 0.16.4"
      ],
      "text/plain": [
       "<IPython.core.display.HTML object>"
      ]
     },
     "metadata": {},
     "output_type": "display_data"
    },
    {
     "data": {
      "text/html": [
       "Run data is saved locally in <code>/mnt/alphafold-volume-1/dylan2/repos/tb-pnca-gnn/dd_pnca/wandb/run-20250116_014305-ry5a5c3m</code>"
      ],
      "text/plain": [
       "<IPython.core.display.HTML object>"
      ]
     },
     "metadata": {},
     "output_type": "display_data"
    },
    {
     "data": {
      "text/html": [
       "Syncing run <strong><a href='https://wandb.ai/dylan-home/pnca-sweep-1/runs/ry5a5c3m' target=\"_blank\">azure-sweep-31</a></strong> to <a href='https://wandb.ai/dylan-home/pnca-sweep-1' target=\"_blank\">Weights & Biases</a> (<a href='https://wandb.me/run' target=\"_blank\">docs</a>)<br/>Sweep page: <a href='https://wandb.ai/dylan-home/pnca-sweep-1/sweeps/tr8mwg42' target=\"_blank\">https://wandb.ai/dylan-home/pnca-sweep-1/sweeps/tr8mwg42</a>"
      ],
      "text/plain": [
       "<IPython.core.display.HTML object>"
      ]
     },
     "metadata": {},
     "output_type": "display_data"
    },
    {
     "data": {
      "text/html": [
       " View project at <a href='https://wandb.ai/dylan-home/pnca-sweep-1' target=\"_blank\">https://wandb.ai/dylan-home/pnca-sweep-1</a>"
      ],
      "text/plain": [
       "<IPython.core.display.HTML object>"
      ]
     },
     "metadata": {},
     "output_type": "display_data"
    },
    {
     "data": {
      "text/html": [
       " View sweep at <a href='https://wandb.ai/dylan-home/pnca-sweep-1/sweeps/tr8mwg42' target=\"_blank\">https://wandb.ai/dylan-home/pnca-sweep-1/sweeps/tr8mwg42</a>"
      ],
      "text/plain": [
       "<IPython.core.display.HTML object>"
      ]
     },
     "metadata": {},
     "output_type": "display_data"
    },
    {
     "data": {
      "text/html": [
       " View run at <a href='https://wandb.ai/dylan-home/pnca-sweep-1/runs/ry5a5c3m' target=\"_blank\">https://wandb.ai/dylan-home/pnca-sweep-1/runs/ry5a5c3m</a>"
      ],
      "text/plain": [
       "<IPython.core.display.HTML object>"
      ]
     },
     "metadata": {},
     "output_type": "display_data"
    },
    {
     "name": "stdout",
     "output_type": "stream",
     "text": [
      "Using CUDA\n",
      "Early stopping enabled. Patience: 20. Min Delta: 0.\n",
      "Epoch: 010, Train Acc: 0.5264, Test Acc: 0.5110, Train Loss: 0.6918, Test Loss: 0.6931\n",
      "Epoch: 020, Train Acc: 0.5264, Test Acc: 0.5110, Train Loss: 0.6917, Test Loss: 0.6932\n",
      "20 epochs passed without 0 test loss improvement. \n",
      "Early stopping triggered.\n"
     ]
    },
    {
     "data": {
      "text/html": [
       "<style>\n",
       "    table.wandb td:nth-child(1) { padding: 0 10px; text-align: left ; width: auto;} td:nth-child(2) {text-align: left ; width: 100%}\n",
       "    .wandb-row { display: flex; flex-direction: row; flex-wrap: wrap; justify-content: flex-start; width: 100% }\n",
       "    .wandb-col { display: flex; flex-direction: column; flex-basis: 100%; flex: 1; padding: 10px; }\n",
       "    </style>\n",
       "<div class=\"wandb-row\"><div class=\"wandb-col\"><h3>Run history:</h3><br/><table class=\"wandb\"><tr><td>Test Accuracy</td><td>█▁█████████████████████</td></tr><tr><td>Test F1</td><td>█▁█████████████████████</td></tr><tr><td>Test Loss</td><td>█▂▁▁▁▁▁▁▁▁▂▁▁▁▂▁▁▁▁▂▁▁▁</td></tr><tr><td>Test Sensitivity</td><td>█▁█████████████████████</td></tr><tr><td>Test Specificity</td><td>▁█▁▁▁▁▁▁▁▁▁▁▁▁▁▁▁▁▁▁▁▁▁</td></tr><tr><td>Train Accuracy</td><td>█▁█████████████████████</td></tr><tr><td>Train F1</td><td>█▁█████████████████████</td></tr><tr><td>Train Loss</td><td>█▇▃▂▁▂▂▁▂▂▂▂▁▂▁▂▁▂▁▂▂▁▁</td></tr><tr><td>Train Sensitivity</td><td>█▁█████████████████████</td></tr><tr><td>Train Specificity</td><td>▁█▁▁▁▁▁▁▁▁▁▁▁▁▁▁▁▁▁▁▁▁▁</td></tr></table><br/></div><div class=\"wandb-col\"><h3>Run summary:</h3><br/><table class=\"wandb\"><tr><td>Test Accuracy</td><td>0.511</td></tr><tr><td>Test F1</td><td>0.67637</td></tr><tr><td>Test Loss</td><td>0.69314</td></tr><tr><td>Test Sensitivity</td><td>1.0</td></tr><tr><td>Test Specificity</td><td>0.0</td></tr><tr><td>Train Accuracy</td><td>0.52643</td></tr><tr><td>Train F1</td><td>0.68975</td></tr><tr><td>Train Loss</td><td>0.6915</td></tr><tr><td>Train Sensitivity</td><td>1.0</td></tr><tr><td>Train Specificity</td><td>0.0</td></tr></table><br/></div></div>"
      ],
      "text/plain": [
       "<IPython.core.display.HTML object>"
      ]
     },
     "metadata": {},
     "output_type": "display_data"
    },
    {
     "data": {
      "text/html": [
       " View run <strong style=\"color:#cdcd00\">azure-sweep-31</strong> at: <a href='https://wandb.ai/dylan-home/pnca-sweep-1/runs/ry5a5c3m' target=\"_blank\">https://wandb.ai/dylan-home/pnca-sweep-1/runs/ry5a5c3m</a><br/>Synced 5 W&B file(s), 0 media file(s), 0 artifact file(s) and 0 other file(s)"
      ],
      "text/plain": [
       "<IPython.core.display.HTML object>"
      ]
     },
     "metadata": {},
     "output_type": "display_data"
    },
    {
     "data": {
      "text/html": [
       "Find logs at: <code>./wandb/run-20250116_014305-ry5a5c3m/logs</code>"
      ],
      "text/plain": [
       "<IPython.core.display.HTML object>"
      ]
     },
     "metadata": {},
     "output_type": "display_data"
    },
    {
     "name": "stderr",
     "output_type": "stream",
     "text": [
      "\u001b[34m\u001b[1mwandb\u001b[0m: Sweep Agent: Waiting for job.\n",
      "\u001b[34m\u001b[1mwandb\u001b[0m: Job received.\n",
      "\u001b[34m\u001b[1mwandb\u001b[0m: Agent Starting Run: 0wx6bibf with config:\n",
      "\u001b[34m\u001b[1mwandb\u001b[0m: \tcutoff_distance: 3.4718773588364984\n",
      "\u001b[34m\u001b[1mwandb\u001b[0m: \tdropout: 0.6\n",
      "\u001b[34m\u001b[1mwandb\u001b[0m: \thidden_channels: 320\n",
      "\u001b[34m\u001b[1mwandb\u001b[0m: \tlearning_rate: 0.00033035271845233176\n",
      "\u001b[34m\u001b[1mwandb\u001b[0m: \tweight_decay: 0.0001019883065329762\n",
      "Failed to detect the name of this notebook, you can set it manually with the WANDB_NOTEBOOK_NAME environment variable to enable code saving.\n",
      "/usr/lib/python3/dist-packages/requests/__init__.py:87: RequestsDependencyWarning: urllib3 (2.2.3) or chardet (4.0.0) doesn't match a supported version!\n",
      "  warnings.warn(\"urllib3 ({}) or chardet ({}) doesn't match a supported \"\n"
     ]
    },
    {
     "data": {
      "text/html": [
       "wandb version 0.19.3 is available!  To upgrade, please run:\n",
       " $ pip install wandb --upgrade"
      ],
      "text/plain": [
       "<IPython.core.display.HTML object>"
      ]
     },
     "metadata": {},
     "output_type": "display_data"
    },
    {
     "data": {
      "text/html": [
       "Tracking run with wandb version 0.16.4"
      ],
      "text/plain": [
       "<IPython.core.display.HTML object>"
      ]
     },
     "metadata": {},
     "output_type": "display_data"
    },
    {
     "data": {
      "text/html": [
       "Run data is saved locally in <code>/mnt/alphafold-volume-1/dylan2/repos/tb-pnca-gnn/dd_pnca/wandb/run-20250116_014412-0wx6bibf</code>"
      ],
      "text/plain": [
       "<IPython.core.display.HTML object>"
      ]
     },
     "metadata": {},
     "output_type": "display_data"
    },
    {
     "data": {
      "text/html": [
       "Syncing run <strong><a href='https://wandb.ai/dylan-home/pnca-sweep-1/runs/0wx6bibf' target=\"_blank\">rosy-sweep-32</a></strong> to <a href='https://wandb.ai/dylan-home/pnca-sweep-1' target=\"_blank\">Weights & Biases</a> (<a href='https://wandb.me/run' target=\"_blank\">docs</a>)<br/>Sweep page: <a href='https://wandb.ai/dylan-home/pnca-sweep-1/sweeps/tr8mwg42' target=\"_blank\">https://wandb.ai/dylan-home/pnca-sweep-1/sweeps/tr8mwg42</a>"
      ],
      "text/plain": [
       "<IPython.core.display.HTML object>"
      ]
     },
     "metadata": {},
     "output_type": "display_data"
    },
    {
     "data": {
      "text/html": [
       " View project at <a href='https://wandb.ai/dylan-home/pnca-sweep-1' target=\"_blank\">https://wandb.ai/dylan-home/pnca-sweep-1</a>"
      ],
      "text/plain": [
       "<IPython.core.display.HTML object>"
      ]
     },
     "metadata": {},
     "output_type": "display_data"
    },
    {
     "data": {
      "text/html": [
       " View sweep at <a href='https://wandb.ai/dylan-home/pnca-sweep-1/sweeps/tr8mwg42' target=\"_blank\">https://wandb.ai/dylan-home/pnca-sweep-1/sweeps/tr8mwg42</a>"
      ],
      "text/plain": [
       "<IPython.core.display.HTML object>"
      ]
     },
     "metadata": {},
     "output_type": "display_data"
    },
    {
     "data": {
      "text/html": [
       " View run at <a href='https://wandb.ai/dylan-home/pnca-sweep-1/runs/0wx6bibf' target=\"_blank\">https://wandb.ai/dylan-home/pnca-sweep-1/runs/0wx6bibf</a>"
      ],
      "text/plain": [
       "<IPython.core.display.HTML object>"
      ]
     },
     "metadata": {},
     "output_type": "display_data"
    },
    {
     "name": "stdout",
     "output_type": "stream",
     "text": [
      "Using CUDA\n",
      "Early stopping enabled. Patience: 20. Min Delta: 0.\n",
      "Epoch: 010, Train Acc: 0.4843, Test Acc: 0.4760, Train Loss: 0.6872, Test Loss: 0.6846\n",
      "Epoch: 020, Train Acc: 0.5223, Test Acc: 0.5097, Train Loss: 0.6860, Test Loss: 0.6841\n",
      "Epoch: 030, Train Acc: 0.4913, Test Acc: 0.4713, Train Loss: 0.6851, Test Loss: 0.6823\n",
      "Epoch: 040, Train Acc: 0.6743, Test Acc: 0.6900, Train Loss: 0.6873, Test Loss: 0.6850\n",
      "Epoch: 050, Train Acc: 0.5257, Test Acc: 0.5100, Train Loss: 0.6758, Test Loss: 0.6750\n",
      "Epoch: 060, Train Acc: 0.7303, Test Acc: 0.6987, Train Loss: 0.6568, Test Loss: 0.6492\n",
      "Epoch: 070, Train Acc: 0.5257, Test Acc: 0.5797, Train Loss: 0.6937, Test Loss: 0.6766\n",
      "Epoch: 080, Train Acc: 0.5239, Test Acc: 0.5090, Train Loss: 0.6463, Test Loss: 0.6502\n",
      "Epoch: 090, Train Acc: 0.6673, Test Acc: 0.6830, Train Loss: 0.6149, Test Loss: 0.6049\n",
      "Epoch: 100, Train Acc: 0.5261, Test Acc: 0.5100, Train Loss: 0.6423, Test Loss: 0.6543\n",
      "Epoch: 110, Train Acc: 0.6971, Test Acc: 0.6947, Train Loss: 0.5816, Test Loss: 0.5849\n",
      "Epoch: 120, Train Acc: 0.7127, Test Acc: 0.7000, Train Loss: 0.5501, Test Loss: 0.5659\n",
      "Epoch: 130, Train Acc: 0.6774, Test Acc: 0.6740, Train Loss: 0.5922, Test Loss: 0.6041\n",
      "Epoch: 140, Train Acc: 0.7030, Test Acc: 0.6970, Train Loss: 0.5537, Test Loss: 0.5797\n",
      "Epoch: 150, Train Acc: 0.5299, Test Acc: 0.5077, Train Loss: 0.6522, Test Loss: 0.7106\n",
      "Epoch: 160, Train Acc: 0.7760, Test Acc: 0.7320, Train Loss: 0.4767, Test Loss: 0.5386\n",
      "Epoch: 170, Train Acc: 0.5406, Test Acc: 0.5030, Train Loss: 0.5957, Test Loss: 0.6774\n",
      "Epoch: 180, Train Acc: 0.7827, Test Acc: 0.7413, Train Loss: 0.4630, Test Loss: 0.5234\n",
      "Epoch: 190, Train Acc: 0.8026, Test Acc: 0.7350, Train Loss: 0.4929, Test Loss: 0.5819\n",
      "Epoch: 200, Train Acc: 0.7966, Test Acc: 0.7433, Train Loss: 0.4394, Test Loss: 0.5180\n",
      "Epoch: 210, Train Acc: 0.8116, Test Acc: 0.7497, Train Loss: 0.4084, Test Loss: 0.5129\n",
      "Epoch: 220, Train Acc: 0.7446, Test Acc: 0.7187, Train Loss: 0.5005, Test Loss: 0.5634\n",
      "Epoch: 230, Train Acc: 0.7629, Test Acc: 0.7223, Train Loss: 0.4880, Test Loss: 0.5774\n",
      "Epoch: 240, Train Acc: 0.7837, Test Acc: 0.7317, Train Loss: 0.4489, Test Loss: 0.5491\n",
      "Epoch: 250, Train Acc: 0.7474, Test Acc: 0.7137, Train Loss: 0.5847, Test Loss: 0.7239\n",
      "20 epochs passed without 0 test loss improvement. \n",
      "Early stopping triggered.\n"
     ]
    },
    {
     "data": {
      "text/html": [
       "<style>\n",
       "    table.wandb td:nth-child(1) { padding: 0 10px; text-align: left ; width: auto;} td:nth-child(2) {text-align: left ; width: 100%}\n",
       "    .wandb-row { display: flex; flex-direction: row; flex-wrap: wrap; justify-content: flex-start; width: 100% }\n",
       "    .wandb-col { display: flex; flex-direction: column; flex-basis: 100%; flex: 1; padding: 10px; }\n",
       "    </style>\n",
       "<div class=\"wandb-row\"><div class=\"wandb-col\"><h3>Run history:</h3><br/><table class=\"wandb\"><tr><td>Test Accuracy</td><td>▁▂▁▂▂▂▆▅▆▆▅▄▅▇▇▆▆▆▆▆▆▇▅▁▇▇▁▇▇█▇▇▇▇▇██▇██</td></tr><tr><td>Test F1</td><td>▁▇▇▇▇▇▇▅▇▇▅▅▅█▇▇▇▇▇▇▆█▆▇█▇▇▇▇█▇█▇▇▇▇█▇██</td></tr><tr><td>Test Loss</td><td>█▇▇▇▇▇▇▇▇▆▆▆▆▅▅▅▄▄▄▄▅▃▆█▃▃▇▃▃▃▄▂▃▃▃▂▁▃▂▃</td></tr><tr><td>Test Sensitivity</td><td>▁█████▄▃▅▆▃▃▃▆▅▇▅▅▄▅▄▆▄█▆▅█▅▅▆▄▆▅▅▄▅▆▅▅▇</td></tr><tr><td>Test Specificity</td><td>█▁▁▁▁▁▇█▇▆███▆▇▅▇▇█▇█▆█▁▇▇▁▇▇▆█▇▇▇█▇▇▇▇▆</td></tr><tr><td>Train Accuracy</td><td>▁▂▂▂▂▂▅▃▅▆▃▃▃▆▆▆▅▅▅▆▅▇▄▂▇▆▂▆▆▇▆▇▇▇▆▇█▇██</td></tr><tr><td>Train F1</td><td>▁▇▇▇▇▇▆▄▆▇▄▄▄▇▇▇▆▆▆▇▆▇▅▇▇▇▇▇▇█▆▇▇▇▇▇█▇██</td></tr><tr><td>Train Loss</td><td>█▇▇▇▇▇▇▇▇▇▇▇▇▆▆▆▅▅▅▅▅▄▆▇▃▄▅▃▃▃▄▂▃▃▄▂▁▃▁▂</td></tr><tr><td>Train Sensitivity</td><td>▁█████▄▂▅▆▃▃▃▆▅▇▄▅▄▅▄▆▄█▆▅█▅▅▇▅▆▅▅▅▆▆▅▆▇</td></tr><tr><td>Train Specificity</td><td>█▁▁▁▁▁▇█▇▆███▆▇▅▇▇█▇█▇█▁▇█▁▇█▆█▇████▇██▇</td></tr></table><br/></div><div class=\"wandb-col\"><h3>Run summary:</h3><br/><table class=\"wandb\"><tr><td>Test Accuracy</td><td>0.75667</td></tr><tr><td>Test F1</td><td>0.76957</td></tr><tr><td>Test Loss</td><td>0.55757</td></tr><tr><td>Test Sensitivity</td><td>0.79517</td></tr><tr><td>Test Specificity</td><td>0.71643</td></tr><tr><td>Train Accuracy</td><td>0.84943</td></tr><tr><td>Train F1</td><td>0.86006</td></tr><tr><td>Train Loss</td><td>0.39892</td></tr><tr><td>Train Sensitivity</td><td>0.87897</td></tr><tr><td>Train Specificity</td><td>0.81659</td></tr></table><br/></div></div>"
      ],
      "text/plain": [
       "<IPython.core.display.HTML object>"
      ]
     },
     "metadata": {},
     "output_type": "display_data"
    },
    {
     "data": {
      "text/html": [
       " View run <strong style=\"color:#cdcd00\">rosy-sweep-32</strong> at: <a href='https://wandb.ai/dylan-home/pnca-sweep-1/runs/0wx6bibf' target=\"_blank\">https://wandb.ai/dylan-home/pnca-sweep-1/runs/0wx6bibf</a><br/>Synced 5 W&B file(s), 0 media file(s), 0 artifact file(s) and 0 other file(s)"
      ],
      "text/plain": [
       "<IPython.core.display.HTML object>"
      ]
     },
     "metadata": {},
     "output_type": "display_data"
    },
    {
     "data": {
      "text/html": [
       "Find logs at: <code>./wandb/run-20250116_014412-0wx6bibf/logs</code>"
      ],
      "text/plain": [
       "<IPython.core.display.HTML object>"
      ]
     },
     "metadata": {},
     "output_type": "display_data"
    },
    {
     "name": "stderr",
     "output_type": "stream",
     "text": [
      "\u001b[34m\u001b[1mwandb\u001b[0m: Agent Starting Run: iyyqcr5g with config:\n",
      "\u001b[34m\u001b[1mwandb\u001b[0m: \tcutoff_distance: 7.376526807011691\n",
      "\u001b[34m\u001b[1mwandb\u001b[0m: \tdropout: 0.5\n",
      "\u001b[34m\u001b[1mwandb\u001b[0m: \thidden_channels: 128\n",
      "\u001b[34m\u001b[1mwandb\u001b[0m: \tlearning_rate: 0.00019326543694571445\n",
      "\u001b[34m\u001b[1mwandb\u001b[0m: \tweight_decay: 3.878404527755156e-05\n",
      "Failed to detect the name of this notebook, you can set it manually with the WANDB_NOTEBOOK_NAME environment variable to enable code saving.\n",
      "/usr/lib/python3/dist-packages/requests/__init__.py:87: RequestsDependencyWarning: urllib3 (2.2.3) or chardet (4.0.0) doesn't match a supported version!\n",
      "  warnings.warn(\"urllib3 ({}) or chardet ({}) doesn't match a supported \"\n"
     ]
    },
    {
     "data": {
      "text/html": [
       "wandb version 0.19.3 is available!  To upgrade, please run:\n",
       " $ pip install wandb --upgrade"
      ],
      "text/plain": [
       "<IPython.core.display.HTML object>"
      ]
     },
     "metadata": {},
     "output_type": "display_data"
    },
    {
     "data": {
      "text/html": [
       "Tracking run with wandb version 0.16.4"
      ],
      "text/plain": [
       "<IPython.core.display.HTML object>"
      ]
     },
     "metadata": {},
     "output_type": "display_data"
    },
    {
     "data": {
      "text/html": [
       "Run data is saved locally in <code>/mnt/alphafold-volume-1/dylan2/repos/tb-pnca-gnn/dd_pnca/wandb/run-20250116_015351-iyyqcr5g</code>"
      ],
      "text/plain": [
       "<IPython.core.display.HTML object>"
      ]
     },
     "metadata": {},
     "output_type": "display_data"
    },
    {
     "data": {
      "text/html": [
       "Syncing run <strong><a href='https://wandb.ai/dylan-home/pnca-sweep-1/runs/iyyqcr5g' target=\"_blank\">generous-sweep-33</a></strong> to <a href='https://wandb.ai/dylan-home/pnca-sweep-1' target=\"_blank\">Weights & Biases</a> (<a href='https://wandb.me/run' target=\"_blank\">docs</a>)<br/>Sweep page: <a href='https://wandb.ai/dylan-home/pnca-sweep-1/sweeps/tr8mwg42' target=\"_blank\">https://wandb.ai/dylan-home/pnca-sweep-1/sweeps/tr8mwg42</a>"
      ],
      "text/plain": [
       "<IPython.core.display.HTML object>"
      ]
     },
     "metadata": {},
     "output_type": "display_data"
    },
    {
     "data": {
      "text/html": [
       " View project at <a href='https://wandb.ai/dylan-home/pnca-sweep-1' target=\"_blank\">https://wandb.ai/dylan-home/pnca-sweep-1</a>"
      ],
      "text/plain": [
       "<IPython.core.display.HTML object>"
      ]
     },
     "metadata": {},
     "output_type": "display_data"
    },
    {
     "data": {
      "text/html": [
       " View sweep at <a href='https://wandb.ai/dylan-home/pnca-sweep-1/sweeps/tr8mwg42' target=\"_blank\">https://wandb.ai/dylan-home/pnca-sweep-1/sweeps/tr8mwg42</a>"
      ],
      "text/plain": [
       "<IPython.core.display.HTML object>"
      ]
     },
     "metadata": {},
     "output_type": "display_data"
    },
    {
     "data": {
      "text/html": [
       " View run at <a href='https://wandb.ai/dylan-home/pnca-sweep-1/runs/iyyqcr5g' target=\"_blank\">https://wandb.ai/dylan-home/pnca-sweep-1/runs/iyyqcr5g</a>"
      ],
      "text/plain": [
       "<IPython.core.display.HTML object>"
      ]
     },
     "metadata": {},
     "output_type": "display_data"
    },
    {
     "name": "stdout",
     "output_type": "stream",
     "text": [
      "Using CUDA\n",
      "Early stopping enabled. Patience: 20. Min Delta: 0.\n",
      "Epoch: 010, Train Acc: 0.4736, Test Acc: 0.4890, Train Loss: 0.6964, Test Loss: 0.6956\n",
      "Epoch: 020, Train Acc: 0.5256, Test Acc: 0.5103, Train Loss: 0.6873, Test Loss: 0.6878\n",
      "Epoch: 030, Train Acc: 0.5203, Test Acc: 0.5010, Train Loss: 0.6830, Test Loss: 0.6828\n",
      "Epoch: 040, Train Acc: 0.5264, Test Acc: 0.5110, Train Loss: 0.6821, Test Loss: 0.6841\n",
      "Epoch: 050, Train Acc: 0.5247, Test Acc: 0.5097, Train Loss: 0.6776, Test Loss: 0.6786\n",
      "Epoch: 060, Train Acc: 0.6164, Test Acc: 0.6437, Train Loss: 0.6706, Test Loss: 0.6655\n",
      "Epoch: 070, Train Acc: 0.6109, Test Acc: 0.6420, Train Loss: 0.6642, Test Loss: 0.6582\n",
      "Epoch: 080, Train Acc: 0.7141, Test Acc: 0.6890, Train Loss: 0.6497, Test Loss: 0.6485\n",
      "Epoch: 090, Train Acc: 0.5220, Test Acc: 0.5040, Train Loss: 0.6537, Test Loss: 0.6598\n",
      "Epoch: 100, Train Acc: 0.5310, Test Acc: 0.4830, Train Loss: 0.6286, Test Loss: 0.6330\n",
      "Epoch: 110, Train Acc: 0.7249, Test Acc: 0.6927, Train Loss: 0.6117, Test Loss: 0.6130\n",
      "Epoch: 120, Train Acc: 0.6911, Test Acc: 0.6583, Train Loss: 0.6116, Test Loss: 0.6127\n",
      "Epoch: 130, Train Acc: 0.7543, Test Acc: 0.7187, Train Loss: 0.5842, Test Loss: 0.5964\n",
      "Epoch: 140, Train Acc: 0.6614, Test Acc: 0.6640, Train Loss: 0.5998, Test Loss: 0.6049\n",
      "Epoch: 150, Train Acc: 0.7270, Test Acc: 0.6893, Train Loss: 0.5625, Test Loss: 0.5775\n",
      "Epoch: 160, Train Acc: 0.7370, Test Acc: 0.6963, Train Loss: 0.5479, Test Loss: 0.5682\n",
      "Epoch: 170, Train Acc: 0.5301, Test Acc: 0.5027, Train Loss: 0.6186, Test Loss: 0.6674\n",
      "Epoch: 180, Train Acc: 0.7104, Test Acc: 0.6867, Train Loss: 0.5511, Test Loss: 0.5732\n",
      "Epoch: 190, Train Acc: 0.7807, Test Acc: 0.7323, Train Loss: 0.5268, Test Loss: 0.5838\n",
      "Epoch: 200, Train Acc: 0.7579, Test Acc: 0.7080, Train Loss: 0.5029, Test Loss: 0.5471\n",
      "Epoch: 210, Train Acc: 0.7691, Test Acc: 0.7323, Train Loss: 0.4981, Test Loss: 0.5414\n",
      "Epoch: 220, Train Acc: 0.7674, Test Acc: 0.7133, Train Loss: 0.5365, Test Loss: 0.6128\n",
      "Epoch: 230, Train Acc: 0.7571, Test Acc: 0.7100, Train Loss: 0.4805, Test Loss: 0.5402\n",
      "Epoch: 240, Train Acc: 0.8079, Test Acc: 0.7447, Train Loss: 0.4489, Test Loss: 0.5367\n",
      "Epoch: 250, Train Acc: 0.8081, Test Acc: 0.7580, Train Loss: 0.4625, Test Loss: 0.5688\n",
      "Epoch: 260, Train Acc: 0.7651, Test Acc: 0.7097, Train Loss: 0.4763, Test Loss: 0.5433\n",
      "Epoch: 270, Train Acc: 0.7646, Test Acc: 0.7187, Train Loss: 0.4713, Test Loss: 0.5518\n",
      "Epoch: 280, Train Acc: 0.8186, Test Acc: 0.7447, Train Loss: 0.4092, Test Loss: 0.5199\n",
      "Epoch: 290, Train Acc: 0.7943, Test Acc: 0.7350, Train Loss: 0.4262, Test Loss: 0.5283\n",
      "20 epochs passed without 0 test loss improvement. \n",
      "Early stopping triggered.\n"
     ]
    },
    {
     "data": {
      "text/html": [
       "<style>\n",
       "    table.wandb td:nth-child(1) { padding: 0 10px; text-align: left ; width: auto;} td:nth-child(2) {text-align: left ; width: 100%}\n",
       "    .wandb-row { display: flex; flex-direction: row; flex-wrap: wrap; justify-content: flex-start; width: 100% }\n",
       "    .wandb-col { display: flex; flex-direction: column; flex-basis: 100%; flex: 1; padding: 10px; }\n",
       "    </style>\n",
       "<div class=\"wandb-row\"><div class=\"wandb-col\"><h3>Run history:</h3><br/><table class=\"wandb\"><tr><td>Test Accuracy</td><td>▃▁▃▅▄▃▂▆▆▃▆▆▇▃▃▆▆▇▆▇▆▇▇▇▇▇█▇▇▇▇▇█▇▇█████</td></tr><tr><td>Test F1</td><td>▇▆▇▄▁▇▆▆▅▆▇▇▇▆▆▅▆▇▆█▆▇▇█▆▇█▇▇█▇▇██▇████▇</td></tr><tr><td>Test Loss</td><td>▇▇█▇▇▇▇▆▆▆▆▆▅▅▅▅▄▄▄▄▄▃▃▃▃▂▃▂▂▄▁▂▂▄▁▁▁▁▁▁</td></tr><tr><td>Test Sensitivity</td><td>█▆█▂▁█▆▄▄▇▆▆▅▆▇▃▄▅▄▇▄▅▅▆▄▅▇▆▄▇▅▅▆▇▅▆▆▆▆▅</td></tr><tr><td>Test Specificity</td><td>▁▁▁██▁▂▇▇▂▅▅▇▂▂█▇▆▇▅▇▇▇▆▇▇▆▇▇▅▇▇▆▅▇▇▇▇▆▇</td></tr><tr><td>Train Accuracy</td><td>▂▁▂▃▂▂▁▄▄▂▆▆▆▂▂▄▅▇▅▇▅▆▇▇▆▆▇▇▆▇▇▇█▇▇█████</td></tr><tr><td>Train F1</td><td>▇▆▇▃▁▇▆▅▄▆▇▇▇▆▆▄▆▇▆█▆▇▇▇▆▇█▇▇█▇▇██▇█████</td></tr><tr><td>Train Loss</td><td>██████▇▇▇▇▇▇▆▆▆▇▆▅▅▅▅▄▄▄▄▄▄▃▄▄▃▃▂▃▂▁▁▁▁▁</td></tr><tr><td>Train Sensitivity</td><td>█▇█▂▁█▇▃▃▇▆▆▅▇▇▃▄▆▄▇▄▅▅▆▄▅▇▆▅▇▅▅▆▇▆▆▆▆▆▆</td></tr><tr><td>Train Specificity</td><td>▁▁▁██▁▂██▂▆▆▇▂▂██▇█▆█▇▇▇██▆▇█▅██▇▆▇▇▇▇▇█</td></tr></table><br/></div><div class=\"wandb-col\"><h3>Run summary:</h3><br/><table class=\"wandb\"><tr><td>Test Accuracy</td><td>0.73667</td></tr><tr><td>Test F1</td><td>0.71439</td></tr><tr><td>Test Loss</td><td>0.52158</td></tr><tr><td>Test Sensitivity</td><td>0.64449</td></tr><tr><td>Test Specificity</td><td>0.83299</td></tr><tr><td>Train Accuracy</td><td>0.80686</td></tr><tr><td>Train F1</td><td>0.79045</td></tr><tr><td>Train Loss</td><td>0.41995</td></tr><tr><td>Train Sensitivity</td><td>0.69199</td></tr><tr><td>Train Specificity</td><td>0.93454</td></tr></table><br/></div></div>"
      ],
      "text/plain": [
       "<IPython.core.display.HTML object>"
      ]
     },
     "metadata": {},
     "output_type": "display_data"
    },
    {
     "data": {
      "text/html": [
       " View run <strong style=\"color:#cdcd00\">generous-sweep-33</strong> at: <a href='https://wandb.ai/dylan-home/pnca-sweep-1/runs/iyyqcr5g' target=\"_blank\">https://wandb.ai/dylan-home/pnca-sweep-1/runs/iyyqcr5g</a><br/>Synced 5 W&B file(s), 0 media file(s), 0 artifact file(s) and 0 other file(s)"
      ],
      "text/plain": [
       "<IPython.core.display.HTML object>"
      ]
     },
     "metadata": {},
     "output_type": "display_data"
    },
    {
     "data": {
      "text/html": [
       "Find logs at: <code>./wandb/run-20250116_015351-iyyqcr5g/logs</code>"
      ],
      "text/plain": [
       "<IPython.core.display.HTML object>"
      ]
     },
     "metadata": {},
     "output_type": "display_data"
    },
    {
     "name": "stderr",
     "output_type": "stream",
     "text": [
      "\u001b[34m\u001b[1mwandb\u001b[0m: Agent Starting Run: 9jw4ri77 with config:\n",
      "\u001b[34m\u001b[1mwandb\u001b[0m: \tcutoff_distance: 8.790133044514835\n",
      "\u001b[34m\u001b[1mwandb\u001b[0m: \tdropout: 0.5\n",
      "\u001b[34m\u001b[1mwandb\u001b[0m: \thidden_channels: 256\n",
      "\u001b[34m\u001b[1mwandb\u001b[0m: \tlearning_rate: 5.930250609084832e-05\n",
      "\u001b[34m\u001b[1mwandb\u001b[0m: \tweight_decay: 0.0003399499253029981\n",
      "Failed to detect the name of this notebook, you can set it manually with the WANDB_NOTEBOOK_NAME environment variable to enable code saving.\n",
      "/usr/lib/python3/dist-packages/requests/__init__.py:87: RequestsDependencyWarning: urllib3 (2.2.3) or chardet (4.0.0) doesn't match a supported version!\n",
      "  warnings.warn(\"urllib3 ({}) or chardet ({}) doesn't match a supported \"\n"
     ]
    },
    {
     "data": {
      "text/html": [
       "wandb version 0.19.3 is available!  To upgrade, please run:\n",
       " $ pip install wandb --upgrade"
      ],
      "text/plain": [
       "<IPython.core.display.HTML object>"
      ]
     },
     "metadata": {},
     "output_type": "display_data"
    },
    {
     "data": {
      "text/html": [
       "Tracking run with wandb version 0.16.4"
      ],
      "text/plain": [
       "<IPython.core.display.HTML object>"
      ]
     },
     "metadata": {},
     "output_type": "display_data"
    },
    {
     "data": {
      "text/html": [
       "Run data is saved locally in <code>/mnt/alphafold-volume-1/dylan2/repos/tb-pnca-gnn/dd_pnca/wandb/run-20250116_020249-9jw4ri77</code>"
      ],
      "text/plain": [
       "<IPython.core.display.HTML object>"
      ]
     },
     "metadata": {},
     "output_type": "display_data"
    },
    {
     "data": {
      "text/html": [
       "Syncing run <strong><a href='https://wandb.ai/dylan-home/pnca-sweep-1/runs/9jw4ri77' target=\"_blank\">pretty-sweep-34</a></strong> to <a href='https://wandb.ai/dylan-home/pnca-sweep-1' target=\"_blank\">Weights & Biases</a> (<a href='https://wandb.me/run' target=\"_blank\">docs</a>)<br/>Sweep page: <a href='https://wandb.ai/dylan-home/pnca-sweep-1/sweeps/tr8mwg42' target=\"_blank\">https://wandb.ai/dylan-home/pnca-sweep-1/sweeps/tr8mwg42</a>"
      ],
      "text/plain": [
       "<IPython.core.display.HTML object>"
      ]
     },
     "metadata": {},
     "output_type": "display_data"
    },
    {
     "data": {
      "text/html": [
       " View project at <a href='https://wandb.ai/dylan-home/pnca-sweep-1' target=\"_blank\">https://wandb.ai/dylan-home/pnca-sweep-1</a>"
      ],
      "text/plain": [
       "<IPython.core.display.HTML object>"
      ]
     },
     "metadata": {},
     "output_type": "display_data"
    },
    {
     "data": {
      "text/html": [
       " View sweep at <a href='https://wandb.ai/dylan-home/pnca-sweep-1/sweeps/tr8mwg42' target=\"_blank\">https://wandb.ai/dylan-home/pnca-sweep-1/sweeps/tr8mwg42</a>"
      ],
      "text/plain": [
       "<IPython.core.display.HTML object>"
      ]
     },
     "metadata": {},
     "output_type": "display_data"
    },
    {
     "data": {
      "text/html": [
       " View run at <a href='https://wandb.ai/dylan-home/pnca-sweep-1/runs/9jw4ri77' target=\"_blank\">https://wandb.ai/dylan-home/pnca-sweep-1/runs/9jw4ri77</a>"
      ],
      "text/plain": [
       "<IPython.core.display.HTML object>"
      ]
     },
     "metadata": {},
     "output_type": "display_data"
    },
    {
     "name": "stdout",
     "output_type": "stream",
     "text": [
      "Using CUDA\n",
      "Early stopping enabled. Patience: 20. Min Delta: 0.\n",
      "Epoch: 010, Train Acc: 0.5061, Test Acc: 0.5593, Train Loss: 0.6932, Test Loss: 0.6892\n",
      "Epoch: 020, Train Acc: 0.5223, Test Acc: 0.5093, Train Loss: 0.6861, Test Loss: 0.6844\n",
      "Epoch: 030, Train Acc: 0.4804, Test Acc: 0.4723, Train Loss: 0.6835, Test Loss: 0.6782\n",
      "Epoch: 040, Train Acc: 0.5103, Test Acc: 0.4963, Train Loss: 0.6805, Test Loss: 0.6767\n",
      "Epoch: 050, Train Acc: 0.5143, Test Acc: 0.5043, Train Loss: 0.6790, Test Loss: 0.6753\n",
      "Epoch: 060, Train Acc: 0.6577, Test Acc: 0.6717, Train Loss: 0.6752, Test Loss: 0.6657\n",
      "Epoch: 070, Train Acc: 0.5383, Test Acc: 0.6110, Train Loss: 0.6865, Test Loss: 0.6714\n",
      "Epoch: 080, Train Acc: 0.5210, Test Acc: 0.5093, Train Loss: 0.6732, Test Loss: 0.6717\n",
      "Epoch: 090, Train Acc: 0.5177, Test Acc: 0.4853, Train Loss: 0.6563, Test Loss: 0.6477\n",
      "Epoch: 100, Train Acc: 0.5899, Test Acc: 0.6563, Train Loss: 0.6674, Test Loss: 0.6499\n",
      "Epoch: 110, Train Acc: 0.6101, Test Acc: 0.6650, Train Loss: 0.6585, Test Loss: 0.6412\n",
      "Epoch: 120, Train Acc: 0.6593, Test Acc: 0.6703, Train Loss: 0.6452, Test Loss: 0.6300\n",
      "Epoch: 130, Train Acc: 0.7057, Test Acc: 0.6973, Train Loss: 0.6325, Test Loss: 0.6206\n",
      "Epoch: 140, Train Acc: 0.7154, Test Acc: 0.7057, Train Loss: 0.6242, Test Loss: 0.6134\n",
      "Epoch: 150, Train Acc: 0.7400, Test Acc: 0.6883, Train Loss: 0.6162, Test Loss: 0.6125\n",
      "Epoch: 160, Train Acc: 0.7370, Test Acc: 0.7103, Train Loss: 0.6043, Test Loss: 0.5968\n",
      "Epoch: 170, Train Acc: 0.6480, Test Acc: 0.6810, Train Loss: 0.6215, Test Loss: 0.6025\n",
      "Epoch: 180, Train Acc: 0.6601, Test Acc: 0.6863, Train Loss: 0.6121, Test Loss: 0.5958\n",
      "Epoch: 190, Train Acc: 0.5360, Test Acc: 0.5093, Train Loss: 0.5964, Test Loss: 0.6053\n",
      "Epoch: 200, Train Acc: 0.5240, Test Acc: 0.5020, Train Loss: 0.6163, Test Loss: 0.6327\n",
      "Epoch: 210, Train Acc: 0.7483, Test Acc: 0.7237, Train Loss: 0.5589, Test Loss: 0.5609\n",
      "Epoch: 220, Train Acc: 0.7699, Test Acc: 0.7263, Train Loss: 0.5659, Test Loss: 0.5789\n",
      "Epoch: 230, Train Acc: 0.7474, Test Acc: 0.7280, Train Loss: 0.5442, Test Loss: 0.5476\n",
      "Epoch: 240, Train Acc: 0.7644, Test Acc: 0.7440, Train Loss: 0.5367, Test Loss: 0.5459\n",
      "Epoch: 250, Train Acc: 0.7850, Test Acc: 0.7407, Train Loss: 0.5239, Test Loss: 0.5445\n",
      "Epoch: 260, Train Acc: 0.7757, Test Acc: 0.7347, Train Loss: 0.5462, Test Loss: 0.5737\n",
      "Epoch: 270, Train Acc: 0.7913, Test Acc: 0.7420, Train Loss: 0.5127, Test Loss: 0.5369\n",
      "Epoch: 280, Train Acc: 0.7604, Test Acc: 0.7403, Train Loss: 0.5053, Test Loss: 0.5220\n",
      "Epoch: 290, Train Acc: 0.7026, Test Acc: 0.7183, Train Loss: 0.5462, Test Loss: 0.5516\n",
      "Epoch: 300, Train Acc: 0.7994, Test Acc: 0.7537, Train Loss: 0.4845, Test Loss: 0.5227\n",
      "Epoch: 310, Train Acc: 0.7664, Test Acc: 0.7423, Train Loss: 0.4853, Test Loss: 0.5125\n",
      "Epoch: 320, Train Acc: 0.8043, Test Acc: 0.7567, Train Loss: 0.4668, Test Loss: 0.5130\n",
      "Epoch: 330, Train Acc: 0.7500, Test Acc: 0.7373, Train Loss: 0.4903, Test Loss: 0.5180\n",
      "Epoch: 340, Train Acc: 0.7796, Test Acc: 0.7507, Train Loss: 0.4608, Test Loss: 0.5005\n",
      "Epoch: 350, Train Acc: 0.7921, Test Acc: 0.7563, Train Loss: 0.4571, Test Loss: 0.5013\n",
      "Epoch: 360, Train Acc: 0.8096, Test Acc: 0.7620, Train Loss: 0.4438, Test Loss: 0.5082\n",
      "Epoch: 370, Train Acc: 0.8197, Test Acc: 0.7697, Train Loss: 0.4255, Test Loss: 0.4895\n",
      "Epoch: 380, Train Acc: 0.7704, Test Acc: 0.7487, Train Loss: 0.4532, Test Loss: 0.5054\n",
      "Epoch: 390, Train Acc: 0.8253, Test Acc: 0.7713, Train Loss: 0.4210, Test Loss: 0.4890\n",
      "Epoch: 400, Train Acc: 0.8097, Test Acc: 0.7600, Train Loss: 0.4201, Test Loss: 0.4930\n",
      "Epoch: 410, Train Acc: 0.7414, Test Acc: 0.7000, Train Loss: 0.5565, Test Loss: 0.6701\n",
      "Epoch: 420, Train Acc: 0.8306, Test Acc: 0.7750, Train Loss: 0.3942, Test Loss: 0.4806\n",
      "Epoch: 430, Train Acc: 0.8276, Test Acc: 0.7713, Train Loss: 0.3953, Test Loss: 0.4842\n",
      "20 epochs passed without 0 test loss improvement. \n",
      "Early stopping triggered.\n"
     ]
    },
    {
     "data": {
      "text/html": [
       "<style>\n",
       "    table.wandb td:nth-child(1) { padding: 0 10px; text-align: left ; width: auto;} td:nth-child(2) {text-align: left ; width: 100%}\n",
       "    .wandb-row { display: flex; flex-direction: row; flex-wrap: wrap; justify-content: flex-start; width: 100% }\n",
       "    .wandb-col { display: flex; flex-direction: column; flex-basis: 100%; flex: 1; padding: 10px; }\n",
       "    </style>\n",
       "<div class=\"wandb-row\"><div class=\"wandb-col\"><h3>Run history:</h3><br/><table class=\"wandb\"><tr><td>Test Accuracy</td><td>▂▂▂▅▆▆▂▂▁▅▆▆▁▆▆▂▆▂▂▇▇▇▇▇▇▆▇▇▇███▇▇██▇███</td></tr><tr><td>Test F1</td><td>▅▅▅▅▄▃▅▅▄▁▂▃▅▄▄▅▅▅▅▇▇▆▆▇▇▃▇▇▆▇▇▇█▆█▇▆███</td></tr><tr><td>Test Loss</td><td>███▇▇▇█▇▇▇▆▆▆▅▅▇▅▆▆▄▄▃▃▃▃▅▃▂▂▂▂▂▅▂▂▁▂▂▁▂</td></tr><tr><td>Test Sensitivity</td><td>███▄▃▂██▆▁▂▂▇▂▃█▃█▇▅▆▄▃▅▅▂▅▅▄▅▅▅▇▄▆▅▄▆▅▅</td></tr><tr><td>Test Specificity</td><td>▁▁▁▆▇▇▁▁▂██▇▁▇▇▁▇▁▁▆▆▇▇▆▇█▆▇▇▇▇▇▅▇▇▇▇▆▇▇</td></tr><tr><td>Train Accuracy</td><td>▁▂▂▅▅▅▂▁▁▃▄▄▁▅▅▂▅▂▂▇▇▆▆▇▇▄▇▇▇▇▇▇▇▇██▇███</td></tr><tr><td>Train F1</td><td>▅▆▆▅▄▄▆▆▅▁▂▄▅▄▅▆▅▆▆▇▇▆▆▇▇▃▇▇▆▇▇██▆█▇▇███</td></tr><tr><td>Train Loss</td><td>████████▇▇▇▇▇▇▆▇▆▇▆▅▅▄▄▄▄▆▃▃▃▃▃▃▄▂▂▂▂▂▁▁</td></tr><tr><td>Train Sensitivity</td><td>███▄▃▃██▇▁▂▃▇▃▃█▃██▆▇▄▄▆▅▂▆▆▅▆▅▆█▄▆▅▄▇▆▆</td></tr><tr><td>Train Specificity</td><td>▁▁▁▇██▁▁▂███▁██▁█▁▁▆▆▇█▆▇█▇▇█▇▇▇▅█▇██▇▇▇</td></tr></table><br/></div><div class=\"wandb-col\"><h3>Run summary:</h3><br/><table class=\"wandb\"><tr><td>Test Accuracy</td><td>0.77633</td></tr><tr><td>Test F1</td><td>0.77847</td></tr><tr><td>Test Loss</td><td>0.49706</td></tr><tr><td>Test Sensitivity</td><td>0.76908</td></tr><tr><td>Test Specificity</td><td>0.78391</td></tr><tr><td>Train Accuracy</td><td>0.83414</td></tr><tr><td>Train F1</td><td>0.84046</td></tr><tr><td>Train Loss</td><td>0.38909</td></tr><tr><td>Train Sensitivity</td><td>0.82985</td></tr><tr><td>Train Specificity</td><td>0.83891</td></tr></table><br/></div></div>"
      ],
      "text/plain": [
       "<IPython.core.display.HTML object>"
      ]
     },
     "metadata": {},
     "output_type": "display_data"
    },
    {
     "data": {
      "text/html": [
       " View run <strong style=\"color:#cdcd00\">pretty-sweep-34</strong> at: <a href='https://wandb.ai/dylan-home/pnca-sweep-1/runs/9jw4ri77' target=\"_blank\">https://wandb.ai/dylan-home/pnca-sweep-1/runs/9jw4ri77</a><br/>Synced 5 W&B file(s), 0 media file(s), 0 artifact file(s) and 0 other file(s)"
      ],
      "text/plain": [
       "<IPython.core.display.HTML object>"
      ]
     },
     "metadata": {},
     "output_type": "display_data"
    },
    {
     "data": {
      "text/html": [
       "Find logs at: <code>./wandb/run-20250116_020249-9jw4ri77/logs</code>"
      ],
      "text/plain": [
       "<IPython.core.display.HTML object>"
      ]
     },
     "metadata": {},
     "output_type": "display_data"
    },
    {
     "name": "stderr",
     "output_type": "stream",
     "text": [
      "\u001b[34m\u001b[1mwandb\u001b[0m: Agent Starting Run: yatjxr7y with config:\n",
      "\u001b[34m\u001b[1mwandb\u001b[0m: \tcutoff_distance: 6.651527315583274\n",
      "\u001b[34m\u001b[1mwandb\u001b[0m: \tdropout: 0.6\n",
      "\u001b[34m\u001b[1mwandb\u001b[0m: \thidden_channels: 128\n",
      "\u001b[34m\u001b[1mwandb\u001b[0m: \tlearning_rate: 0.005029385173208894\n",
      "\u001b[34m\u001b[1mwandb\u001b[0m: \tweight_decay: 0.0005443674099505591\n",
      "Failed to detect the name of this notebook, you can set it manually with the WANDB_NOTEBOOK_NAME environment variable to enable code saving.\n",
      "/usr/lib/python3/dist-packages/requests/__init__.py:87: RequestsDependencyWarning: urllib3 (2.2.3) or chardet (4.0.0) doesn't match a supported version!\n",
      "  warnings.warn(\"urllib3 ({}) or chardet ({}) doesn't match a supported \"\n"
     ]
    },
    {
     "data": {
      "text/html": [
       "wandb version 0.19.3 is available!  To upgrade, please run:\n",
       " $ pip install wandb --upgrade"
      ],
      "text/plain": [
       "<IPython.core.display.HTML object>"
      ]
     },
     "metadata": {},
     "output_type": "display_data"
    },
    {
     "data": {
      "text/html": [
       "Tracking run with wandb version 0.16.4"
      ],
      "text/plain": [
       "<IPython.core.display.HTML object>"
      ]
     },
     "metadata": {},
     "output_type": "display_data"
    },
    {
     "data": {
      "text/html": [
       "Run data is saved locally in <code>/mnt/alphafold-volume-1/dylan2/repos/tb-pnca-gnn/dd_pnca/wandb/run-20250116_021725-yatjxr7y</code>"
      ],
      "text/plain": [
       "<IPython.core.display.HTML object>"
      ]
     },
     "metadata": {},
     "output_type": "display_data"
    },
    {
     "data": {
      "text/html": [
       "Syncing run <strong><a href='https://wandb.ai/dylan-home/pnca-sweep-1/runs/yatjxr7y' target=\"_blank\">lucky-sweep-35</a></strong> to <a href='https://wandb.ai/dylan-home/pnca-sweep-1' target=\"_blank\">Weights & Biases</a> (<a href='https://wandb.me/run' target=\"_blank\">docs</a>)<br/>Sweep page: <a href='https://wandb.ai/dylan-home/pnca-sweep-1/sweeps/tr8mwg42' target=\"_blank\">https://wandb.ai/dylan-home/pnca-sweep-1/sweeps/tr8mwg42</a>"
      ],
      "text/plain": [
       "<IPython.core.display.HTML object>"
      ]
     },
     "metadata": {},
     "output_type": "display_data"
    },
    {
     "data": {
      "text/html": [
       " View project at <a href='https://wandb.ai/dylan-home/pnca-sweep-1' target=\"_blank\">https://wandb.ai/dylan-home/pnca-sweep-1</a>"
      ],
      "text/plain": [
       "<IPython.core.display.HTML object>"
      ]
     },
     "metadata": {},
     "output_type": "display_data"
    },
    {
     "data": {
      "text/html": [
       " View sweep at <a href='https://wandb.ai/dylan-home/pnca-sweep-1/sweeps/tr8mwg42' target=\"_blank\">https://wandb.ai/dylan-home/pnca-sweep-1/sweeps/tr8mwg42</a>"
      ],
      "text/plain": [
       "<IPython.core.display.HTML object>"
      ]
     },
     "metadata": {},
     "output_type": "display_data"
    },
    {
     "data": {
      "text/html": [
       " View run at <a href='https://wandb.ai/dylan-home/pnca-sweep-1/runs/yatjxr7y' target=\"_blank\">https://wandb.ai/dylan-home/pnca-sweep-1/runs/yatjxr7y</a>"
      ],
      "text/plain": [
       "<IPython.core.display.HTML object>"
      ]
     },
     "metadata": {},
     "output_type": "display_data"
    },
    {
     "name": "stdout",
     "output_type": "stream",
     "text": [
      "Using CUDA\n",
      "Early stopping enabled. Patience: 20. Min Delta: 0.\n",
      "Epoch: 010, Train Acc: 0.5264, Test Acc: 0.5110, Train Loss: 0.6918, Test Loss: 0.6934\n",
      "Epoch: 020, Train Acc: 0.5264, Test Acc: 0.5110, Train Loss: 0.6918, Test Loss: 0.6934\n",
      "Epoch: 030, Train Acc: 0.5264, Test Acc: 0.5110, Train Loss: 0.6920, Test Loss: 0.6931\n",
      "Epoch: 040, Train Acc: 0.5264, Test Acc: 0.5110, Train Loss: 0.6920, Test Loss: 0.6929\n",
      "Epoch: 050, Train Acc: 0.5264, Test Acc: 0.5110, Train Loss: 0.6919, Test Loss: 0.6931\n",
      "Epoch: 060, Train Acc: 0.5264, Test Acc: 0.5110, Train Loss: 0.6916, Test Loss: 0.6935\n",
      "20 epochs passed without 0 test loss improvement. \n",
      "Early stopping triggered.\n"
     ]
    },
    {
     "data": {
      "text/html": [
       "<style>\n",
       "    table.wandb td:nth-child(1) { padding: 0 10px; text-align: left ; width: auto;} td:nth-child(2) {text-align: left ; width: 100%}\n",
       "    .wandb-row { display: flex; flex-direction: row; flex-wrap: wrap; justify-content: flex-start; width: 100% }\n",
       "    .wandb-col { display: flex; flex-direction: column; flex-basis: 100%; flex: 1; padding: 10px; }\n",
       "    </style>\n",
       "<div class=\"wandb-row\"><div class=\"wandb-col\"><h3>Run history:</h3><br/><table class=\"wandb\"><tr><td>Test Accuracy</td><td>▁▁▁▁▁▁▁▁▁▁▁▁▁▁▁▁▁▁▁▁▁▁▁▁▁▁▁▁▁▁▁▁▁▁▁▁▁▁▁▁</td></tr><tr><td>Test F1</td><td>▁▁▁▁▁▁▁▁▁▁▁▁▁▁▁▁▁▁▁▁▁▁▁▁▁▁▁▁▁▁▁▁▁▁▁▁▁▁▁▁</td></tr><tr><td>Test Loss</td><td>▂▂▅▂▆▂▄▂▅▂▂▄▂▄▄█▅▃▅▂▆▆▁▂▃▃▁▄▁▅▄▃▃▂▅▁▂▅▄▅</td></tr><tr><td>Test Sensitivity</td><td>▁▁▁▁▁▁▁▁▁▁▁▁▁▁▁▁▁▁▁▁▁▁▁▁▁▁▁▁▁▁▁▁▁▁▁▁▁▁▁▁</td></tr><tr><td>Test Specificity</td><td>▁▁▁▁▁▁▁▁▁▁▁▁▁▁▁▁▁▁▁▁▁▁▁▁▁▁▁▁▁▁▁▁▁▁▁▁▁▁▁▁</td></tr><tr><td>Train Accuracy</td><td>▁▁▁▁▁▁▁▁▁▁▁▁▁▁▁▁▁▁▁▁▁▁▁▁▁▁▁▁▁▁▁▁▁▁▁▁▁▁▁▁</td></tr><tr><td>Train F1</td><td>▁▁▁▁▁▁▁▁▁▁▁▁▁▁▁▁▁▁▁▁▁▁▁▁▁▁▁▁▁▁▁▁▁▁▁▁▁▁▁▁</td></tr><tr><td>Train Loss</td><td>▅▆▇▄▄▄▅▆▆▅▄▃▆▅▇▆█▅▆▅▁▆▇▅▆▆█▅▇▆▅▄▄▇▆▆▇▆▅▃</td></tr><tr><td>Train Sensitivity</td><td>▁▁▁▁▁▁▁▁▁▁▁▁▁▁▁▁▁▁▁▁▁▁▁▁▁▁▁▁▁▁▁▁▁▁▁▁▁▁▁▁</td></tr><tr><td>Train Specificity</td><td>▁▁▁▁▁▁▁▁▁▁▁▁▁▁▁▁▁▁▁▁▁▁▁▁▁▁▁▁▁▁▁▁▁▁▁▁▁▁▁▁</td></tr></table><br/></div><div class=\"wandb-col\"><h3>Run summary:</h3><br/><table class=\"wandb\"><tr><td>Test Accuracy</td><td>0.511</td></tr><tr><td>Test F1</td><td>0.67637</td></tr><tr><td>Test Loss</td><td>0.69347</td></tr><tr><td>Test Sensitivity</td><td>1.0</td></tr><tr><td>Test Specificity</td><td>0.0</td></tr><tr><td>Train Accuracy</td><td>0.52643</td></tr><tr><td>Train F1</td><td>0.68975</td></tr><tr><td>Train Loss</td><td>0.69156</td></tr><tr><td>Train Sensitivity</td><td>1.0</td></tr><tr><td>Train Specificity</td><td>0.0</td></tr></table><br/></div></div>"
      ],
      "text/plain": [
       "<IPython.core.display.HTML object>"
      ]
     },
     "metadata": {},
     "output_type": "display_data"
    },
    {
     "data": {
      "text/html": [
       " View run <strong style=\"color:#cdcd00\">lucky-sweep-35</strong> at: <a href='https://wandb.ai/dylan-home/pnca-sweep-1/runs/yatjxr7y' target=\"_blank\">https://wandb.ai/dylan-home/pnca-sweep-1/runs/yatjxr7y</a><br/>Synced 5 W&B file(s), 0 media file(s), 0 artifact file(s) and 0 other file(s)"
      ],
      "text/plain": [
       "<IPython.core.display.HTML object>"
      ]
     },
     "metadata": {},
     "output_type": "display_data"
    },
    {
     "data": {
      "text/html": [
       "Find logs at: <code>./wandb/run-20250116_021725-yatjxr7y/logs</code>"
      ],
      "text/plain": [
       "<IPython.core.display.HTML object>"
      ]
     },
     "metadata": {},
     "output_type": "display_data"
    },
    {
     "name": "stderr",
     "output_type": "stream",
     "text": [
      "\u001b[34m\u001b[1mwandb\u001b[0m: Sweep Agent: Waiting for job.\n",
      "\u001b[34m\u001b[1mwandb\u001b[0m: Job received.\n",
      "\u001b[34m\u001b[1mwandb\u001b[0m: Agent Starting Run: fue4lqmw with config:\n",
      "\u001b[34m\u001b[1mwandb\u001b[0m: \tcutoff_distance: 3.781047298520928\n",
      "\u001b[34m\u001b[1mwandb\u001b[0m: \tdropout: 0.6\n",
      "\u001b[34m\u001b[1mwandb\u001b[0m: \thidden_channels: 128\n",
      "\u001b[34m\u001b[1mwandb\u001b[0m: \tlearning_rate: 9.442032672978568e-05\n",
      "\u001b[34m\u001b[1mwandb\u001b[0m: \tweight_decay: 0.001750177381003863\n",
      "Failed to detect the name of this notebook, you can set it manually with the WANDB_NOTEBOOK_NAME environment variable to enable code saving.\n",
      "/usr/lib/python3/dist-packages/requests/__init__.py:87: RequestsDependencyWarning: urllib3 (2.2.3) or chardet (4.0.0) doesn't match a supported version!\n",
      "  warnings.warn(\"urllib3 ({}) or chardet ({}) doesn't match a supported \"\n"
     ]
    },
    {
     "data": {
      "text/html": [
       "wandb version 0.19.3 is available!  To upgrade, please run:\n",
       " $ pip install wandb --upgrade"
      ],
      "text/plain": [
       "<IPython.core.display.HTML object>"
      ]
     },
     "metadata": {},
     "output_type": "display_data"
    },
    {
     "data": {
      "text/html": [
       "Tracking run with wandb version 0.16.4"
      ],
      "text/plain": [
       "<IPython.core.display.HTML object>"
      ]
     },
     "metadata": {},
     "output_type": "display_data"
    },
    {
     "data": {
      "text/html": [
       "Run data is saved locally in <code>/mnt/alphafold-volume-1/dylan2/repos/tb-pnca-gnn/dd_pnca/wandb/run-20250116_021928-fue4lqmw</code>"
      ],
      "text/plain": [
       "<IPython.core.display.HTML object>"
      ]
     },
     "metadata": {},
     "output_type": "display_data"
    },
    {
     "data": {
      "text/html": [
       "Syncing run <strong><a href='https://wandb.ai/dylan-home/pnca-sweep-1/runs/fue4lqmw' target=\"_blank\">volcanic-sweep-36</a></strong> to <a href='https://wandb.ai/dylan-home/pnca-sweep-1' target=\"_blank\">Weights & Biases</a> (<a href='https://wandb.me/run' target=\"_blank\">docs</a>)<br/>Sweep page: <a href='https://wandb.ai/dylan-home/pnca-sweep-1/sweeps/tr8mwg42' target=\"_blank\">https://wandb.ai/dylan-home/pnca-sweep-1/sweeps/tr8mwg42</a>"
      ],
      "text/plain": [
       "<IPython.core.display.HTML object>"
      ]
     },
     "metadata": {},
     "output_type": "display_data"
    },
    {
     "data": {
      "text/html": [
       " View project at <a href='https://wandb.ai/dylan-home/pnca-sweep-1' target=\"_blank\">https://wandb.ai/dylan-home/pnca-sweep-1</a>"
      ],
      "text/plain": [
       "<IPython.core.display.HTML object>"
      ]
     },
     "metadata": {},
     "output_type": "display_data"
    },
    {
     "data": {
      "text/html": [
       " View sweep at <a href='https://wandb.ai/dylan-home/pnca-sweep-1/sweeps/tr8mwg42' target=\"_blank\">https://wandb.ai/dylan-home/pnca-sweep-1/sweeps/tr8mwg42</a>"
      ],
      "text/plain": [
       "<IPython.core.display.HTML object>"
      ]
     },
     "metadata": {},
     "output_type": "display_data"
    },
    {
     "data": {
      "text/html": [
       " View run at <a href='https://wandb.ai/dylan-home/pnca-sweep-1/runs/fue4lqmw' target=\"_blank\">https://wandb.ai/dylan-home/pnca-sweep-1/runs/fue4lqmw</a>"
      ],
      "text/plain": [
       "<IPython.core.display.HTML object>"
      ]
     },
     "metadata": {},
     "output_type": "display_data"
    },
    {
     "name": "stdout",
     "output_type": "stream",
     "text": [
      "Using CUDA\n",
      "Early stopping enabled. Patience: 20. Min Delta: 0.\n",
      "Epoch: 010, Train Acc: 0.4736, Test Acc: 0.4890, Train Loss: 0.6964, Test Loss: 0.6966\n",
      "Epoch: 020, Train Acc: 0.5237, Test Acc: 0.5067, Train Loss: 0.6894, Test Loss: 0.6899\n",
      "Epoch: 030, Train Acc: 0.5266, Test Acc: 0.5110, Train Loss: 0.6872, Test Loss: 0.6885\n",
      "Epoch: 040, Train Acc: 0.5201, Test Acc: 0.4973, Train Loss: 0.6836, Test Loss: 0.6831\n",
      "Epoch: 050, Train Acc: 0.5266, Test Acc: 0.5110, Train Loss: 0.6854, Test Loss: 0.6867\n",
      "Epoch: 060, Train Acc: 0.6474, Test Acc: 0.6543, Train Loss: 0.6806, Test Loss: 0.6760\n",
      "Epoch: 070, Train Acc: 0.5233, Test Acc: 0.5100, Train Loss: 0.6782, Test Loss: 0.6790\n",
      "Epoch: 080, Train Acc: 0.5163, Test Acc: 0.4967, Train Loss: 0.6720, Test Loss: 0.6709\n",
      "Epoch: 090, Train Acc: 0.5000, Test Acc: 0.4717, Train Loss: 0.6671, Test Loss: 0.6643\n",
      "Epoch: 100, Train Acc: 0.6263, Test Acc: 0.6540, Train Loss: 0.6676, Test Loss: 0.6596\n",
      "Epoch: 110, Train Acc: 0.5081, Test Acc: 0.4787, Train Loss: 0.6592, Test Loss: 0.6581\n",
      "Epoch: 120, Train Acc: 0.5017, Test Acc: 0.4747, Train Loss: 0.6527, Test Loss: 0.6502\n",
      "Epoch: 130, Train Acc: 0.7057, Test Acc: 0.6907, Train Loss: 0.6476, Test Loss: 0.6427\n",
      "Epoch: 140, Train Acc: 0.6853, Test Acc: 0.6727, Train Loss: 0.6434, Test Loss: 0.6373\n",
      "Epoch: 150, Train Acc: 0.6487, Test Acc: 0.6590, Train Loss: 0.6452, Test Loss: 0.6364\n",
      "Epoch: 160, Train Acc: 0.5231, Test Acc: 0.5070, Train Loss: 0.6693, Test Loss: 0.6835\n",
      "Epoch: 170, Train Acc: 0.7070, Test Acc: 0.6870, Train Loss: 0.6244, Test Loss: 0.6203\n",
      "Epoch: 180, Train Acc: 0.6574, Test Acc: 0.6617, Train Loss: 0.6279, Test Loss: 0.6212\n",
      "Epoch: 190, Train Acc: 0.7341, Test Acc: 0.7027, Train Loss: 0.6060, Test Loss: 0.6115\n",
      "Epoch: 200, Train Acc: 0.5234, Test Acc: 0.4933, Train Loss: 0.6205, Test Loss: 0.6377\n",
      "Epoch: 210, Train Acc: 0.7443, Test Acc: 0.7110, Train Loss: 0.5940, Test Loss: 0.6063\n",
      "Epoch: 220, Train Acc: 0.5403, Test Acc: 0.4977, Train Loss: 0.5982, Test Loss: 0.6167\n",
      "Epoch: 230, Train Acc: 0.7299, Test Acc: 0.7100, Train Loss: 0.5800, Test Loss: 0.5877\n",
      "Epoch: 240, Train Acc: 0.7571, Test Acc: 0.7307, Train Loss: 0.5704, Test Loss: 0.5879\n",
      "Epoch: 250, Train Acc: 0.7030, Test Acc: 0.6863, Train Loss: 0.5755, Test Loss: 0.5833\n",
      "Epoch: 260, Train Acc: 0.7573, Test Acc: 0.7230, Train Loss: 0.5579, Test Loss: 0.5757\n",
      "Epoch: 270, Train Acc: 0.7569, Test Acc: 0.7267, Train Loss: 0.5431, Test Loss: 0.5654\n",
      "Epoch: 280, Train Acc: 0.7714, Test Acc: 0.7473, Train Loss: 0.5363, Test Loss: 0.5691\n",
      "Epoch: 290, Train Acc: 0.6931, Test Acc: 0.6833, Train Loss: 0.5705, Test Loss: 0.5836\n",
      "Epoch: 300, Train Acc: 0.7473, Test Acc: 0.7230, Train Loss: 0.5323, Test Loss: 0.5577\n",
      "Epoch: 310, Train Acc: 0.7510, Test Acc: 0.7230, Train Loss: 0.5340, Test Loss: 0.5586\n",
      "Epoch: 320, Train Acc: 0.7763, Test Acc: 0.7427, Train Loss: 0.5086, Test Loss: 0.5482\n",
      "Epoch: 330, Train Acc: 0.7113, Test Acc: 0.6967, Train Loss: 0.5467, Test Loss: 0.5685\n",
      "Epoch: 340, Train Acc: 0.7680, Test Acc: 0.7100, Train Loss: 0.5380, Test Loss: 0.6033\n",
      "Epoch: 350, Train Acc: 0.7536, Test Acc: 0.7243, Train Loss: 0.5016, Test Loss: 0.5392\n",
      "Epoch: 360, Train Acc: 0.7533, Test Acc: 0.7187, Train Loss: 0.5036, Test Loss: 0.5429\n",
      "Epoch: 370, Train Acc: 0.7974, Test Acc: 0.7510, Train Loss: 0.4715, Test Loss: 0.5364\n",
      "Epoch: 380, Train Acc: 0.7847, Test Acc: 0.7517, Train Loss: 0.4665, Test Loss: 0.5259\n",
      "Epoch: 390, Train Acc: 0.7829, Test Acc: 0.7507, Train Loss: 0.4578, Test Loss: 0.5201\n",
      "Epoch: 400, Train Acc: 0.7897, Test Acc: 0.7543, Train Loss: 0.4542, Test Loss: 0.5199\n",
      "Epoch: 410, Train Acc: 0.8007, Test Acc: 0.7520, Train Loss: 0.4523, Test Loss: 0.5269\n",
      "Epoch: 420, Train Acc: 0.7764, Test Acc: 0.7277, Train Loss: 0.5209, Test Loss: 0.6224\n",
      "Epoch: 430, Train Acc: 0.7883, Test Acc: 0.7500, Train Loss: 0.4405, Test Loss: 0.5128\n",
      "Epoch: 440, Train Acc: 0.7696, Test Acc: 0.7180, Train Loss: 0.5311, Test Loss: 0.6429\n",
      "Epoch: 450, Train Acc: 0.7960, Test Acc: 0.7280, Train Loss: 0.4858, Test Loss: 0.6035\n",
      "Epoch: 460, Train Acc: 0.7771, Test Acc: 0.7330, Train Loss: 0.4525, Test Loss: 0.5290\n",
      "Epoch: 470, Train Acc: 0.7799, Test Acc: 0.7373, Train Loss: 0.4514, Test Loss: 0.5280\n",
      "20 epochs passed without 0 test loss improvement. \n",
      "Early stopping triggered.\n"
     ]
    },
    {
     "data": {
      "text/html": [
       "<style>\n",
       "    table.wandb td:nth-child(1) { padding: 0 10px; text-align: left ; width: auto;} td:nth-child(2) {text-align: left ; width: 100%}\n",
       "    .wandb-row { display: flex; flex-direction: row; flex-wrap: wrap; justify-content: flex-start; width: 100% }\n",
       "    .wandb-col { display: flex; flex-direction: column; flex-basis: 100%; flex: 1; padding: 10px; }\n",
       "    </style>\n",
       "<div class=\"wandb-row\"><div class=\"wandb-col\"><h3>Run history:</h3><br/><table class=\"wandb\"><tr><td>Test Accuracy</td><td>▂▂▆▂▁▂▂▁▅▆▆▆▁▂▂▇▇▆▂▇█▆███▇▇▇▇▇████▇███▇█</td></tr><tr><td>Test F1</td><td>▅▅▃▅▄▅▅▃▁▂▅▅▃▅▄▆▅▂▄▆▇▂▇▇▇▅▇▅▇▄▆▆▇▇▅▆▆█▆▇</td></tr><tr><td>Test Loss</td><td>██▇▇▇▇▇▇▆▆▆▆▆▇▆▅▄▅▅▄▄▅▃▃▃▃▄▂▄▂▂▂▂▁▂▁▁▂▂▁</td></tr><tr><td>Test Sensitivity</td><td>██▃█▇██▆▁▂▄▄▆█▇▄▄▁▆▄▅▁▄▅▅▃▆▃▆▃▄▄▅▄▃▃▄▆▃▄</td></tr><tr><td>Test Specificity</td><td>▁▁▇▁▁▁▁▂██▆▆▂▁▁▆▇█▂▇▇█▇▇▇▇▆▇▅█▇▇▇▇██▇▆█▇</td></tr><tr><td>Train Accuracy</td><td>▂▂▅▁▁▂▁▁▄▅▆▆▁▂▁▆▆▅▂▇▇▅▇▇▇▆▇▇▇▆▇▇█▇▇▇▇█▇█</td></tr><tr><td>Train F1</td><td>▅▅▄▅▅▅▅▄▁▃▆▆▄▅▅▆▆▃▅▆▆▂▇▇▇▅▇▆▇▅▆▇▇▇▆▆▇█▆▇</td></tr><tr><td>Train Loss</td><td>██████▇▇▇▇▇▇▆▇▆▆▆▆▆▅▅▆▄▄▄▄▄▃▄▃▃▂▂▂▂▂▂▂▂▁</td></tr><tr><td>Train Sensitivity</td><td>██▃█▇██▆▁▂▅▅▆█▇▅▄▂▇▅▅▂▅▅▅▄▆▄▇▃▄▅▅▅▄▄▄▇▄▅</td></tr><tr><td>Train Specificity</td><td>▁▁▇▁▁▁▁▂██▆▆▂▁▁▇▇█▂▇▇█▇▇▇█▆█▅███▇████▇██</td></tr></table><br/></div><div class=\"wandb-col\"><h3>Run summary:</h3><br/><table class=\"wandb\"><tr><td>Test Accuracy</td><td>0.76467</td></tr><tr><td>Test F1</td><td>0.77328</td></tr><tr><td>Test Loss</td><td>0.52385</td></tr><tr><td>Test Sensitivity</td><td>0.78539</td></tr><tr><td>Test Specificity</td><td>0.74301</td></tr><tr><td>Train Accuracy</td><td>0.82214</td></tr><tr><td>Train F1</td><td>0.82849</td></tr><tr><td>Train Loss</td><td>0.40653</td></tr><tr><td>Train Sensitivity</td><td>0.81601</td></tr><tr><td>Train Specificity</td><td>0.82896</td></tr></table><br/></div></div>"
      ],
      "text/plain": [
       "<IPython.core.display.HTML object>"
      ]
     },
     "metadata": {},
     "output_type": "display_data"
    },
    {
     "data": {
      "text/html": [
       " View run <strong style=\"color:#cdcd00\">volcanic-sweep-36</strong> at: <a href='https://wandb.ai/dylan-home/pnca-sweep-1/runs/fue4lqmw' target=\"_blank\">https://wandb.ai/dylan-home/pnca-sweep-1/runs/fue4lqmw</a><br/>Synced 5 W&B file(s), 0 media file(s), 0 artifact file(s) and 0 other file(s)"
      ],
      "text/plain": [
       "<IPython.core.display.HTML object>"
      ]
     },
     "metadata": {},
     "output_type": "display_data"
    },
    {
     "data": {
      "text/html": [
       "Find logs at: <code>./wandb/run-20250116_021928-fue4lqmw/logs</code>"
      ],
      "text/plain": [
       "<IPython.core.display.HTML object>"
      ]
     },
     "metadata": {},
     "output_type": "display_data"
    },
    {
     "name": "stderr",
     "output_type": "stream",
     "text": [
      "\u001b[34m\u001b[1mwandb\u001b[0m: Agent Starting Run: 6szpgsc0 with config:\n",
      "\u001b[34m\u001b[1mwandb\u001b[0m: \tcutoff_distance: 8.701187974455447\n",
      "\u001b[34m\u001b[1mwandb\u001b[0m: \tdropout: 0.5\n",
      "\u001b[34m\u001b[1mwandb\u001b[0m: \thidden_channels: 384\n",
      "\u001b[34m\u001b[1mwandb\u001b[0m: \tlearning_rate: 0.0001883941615735194\n",
      "\u001b[34m\u001b[1mwandb\u001b[0m: \tweight_decay: 0.0004552988229565285\n",
      "Failed to detect the name of this notebook, you can set it manually with the WANDB_NOTEBOOK_NAME environment variable to enable code saving.\n",
      "/usr/lib/python3/dist-packages/requests/__init__.py:87: RequestsDependencyWarning: urllib3 (2.2.3) or chardet (4.0.0) doesn't match a supported version!\n",
      "  warnings.warn(\"urllib3 ({}) or chardet ({}) doesn't match a supported \"\n"
     ]
    },
    {
     "data": {
      "text/html": [
       "wandb version 0.19.3 is available!  To upgrade, please run:\n",
       " $ pip install wandb --upgrade"
      ],
      "text/plain": [
       "<IPython.core.display.HTML object>"
      ]
     },
     "metadata": {},
     "output_type": "display_data"
    },
    {
     "data": {
      "text/html": [
       "Tracking run with wandb version 0.16.4"
      ],
      "text/plain": [
       "<IPython.core.display.HTML object>"
      ]
     },
     "metadata": {},
     "output_type": "display_data"
    },
    {
     "data": {
      "text/html": [
       "Run data is saved locally in <code>/mnt/alphafold-volume-1/dylan2/repos/tb-pnca-gnn/dd_pnca/wandb/run-20250116_023327-6szpgsc0</code>"
      ],
      "text/plain": [
       "<IPython.core.display.HTML object>"
      ]
     },
     "metadata": {},
     "output_type": "display_data"
    },
    {
     "data": {
      "text/html": [
       "Syncing run <strong><a href='https://wandb.ai/dylan-home/pnca-sweep-1/runs/6szpgsc0' target=\"_blank\">warm-sweep-37</a></strong> to <a href='https://wandb.ai/dylan-home/pnca-sweep-1' target=\"_blank\">Weights & Biases</a> (<a href='https://wandb.me/run' target=\"_blank\">docs</a>)<br/>Sweep page: <a href='https://wandb.ai/dylan-home/pnca-sweep-1/sweeps/tr8mwg42' target=\"_blank\">https://wandb.ai/dylan-home/pnca-sweep-1/sweeps/tr8mwg42</a>"
      ],
      "text/plain": [
       "<IPython.core.display.HTML object>"
      ]
     },
     "metadata": {},
     "output_type": "display_data"
    },
    {
     "data": {
      "text/html": [
       " View project at <a href='https://wandb.ai/dylan-home/pnca-sweep-1' target=\"_blank\">https://wandb.ai/dylan-home/pnca-sweep-1</a>"
      ],
      "text/plain": [
       "<IPython.core.display.HTML object>"
      ]
     },
     "metadata": {},
     "output_type": "display_data"
    },
    {
     "data": {
      "text/html": [
       " View sweep at <a href='https://wandb.ai/dylan-home/pnca-sweep-1/sweeps/tr8mwg42' target=\"_blank\">https://wandb.ai/dylan-home/pnca-sweep-1/sweeps/tr8mwg42</a>"
      ],
      "text/plain": [
       "<IPython.core.display.HTML object>"
      ]
     },
     "metadata": {},
     "output_type": "display_data"
    },
    {
     "data": {
      "text/html": [
       " View run at <a href='https://wandb.ai/dylan-home/pnca-sweep-1/runs/6szpgsc0' target=\"_blank\">https://wandb.ai/dylan-home/pnca-sweep-1/runs/6szpgsc0</a>"
      ],
      "text/plain": [
       "<IPython.core.display.HTML object>"
      ]
     },
     "metadata": {},
     "output_type": "display_data"
    },
    {
     "name": "stdout",
     "output_type": "stream",
     "text": [
      "Using CUDA\n",
      "Early stopping enabled. Patience: 20. Min Delta: 0.\n",
      "Epoch: 010, Train Acc: 0.5011, Test Acc: 0.5497, Train Loss: 0.6918, Test Loss: 0.6876\n",
      "Epoch: 020, Train Acc: 0.5214, Test Acc: 0.5090, Train Loss: 0.6849, Test Loss: 0.6834\n",
      "Epoch: 030, Train Acc: 0.5264, Test Acc: 0.5110, Train Loss: 0.6895, Test Loss: 0.6917\n",
      "Epoch: 040, Train Acc: 0.5796, Test Acc: 0.6463, Train Loss: 0.6861, Test Loss: 0.6811\n",
      "Epoch: 050, Train Acc: 0.5021, Test Acc: 0.5453, Train Loss: 0.6915, Test Loss: 0.6848\n",
      "Epoch: 060, Train Acc: 0.5127, Test Acc: 0.4947, Train Loss: 0.6772, Test Loss: 0.6751\n",
      "Epoch: 070, Train Acc: 0.5240, Test Acc: 0.5100, Train Loss: 0.6730, Test Loss: 0.6725\n",
      "Epoch: 080, Train Acc: 0.6993, Test Acc: 0.6640, Train Loss: 0.6636, Test Loss: 0.6589\n",
      "Epoch: 090, Train Acc: 0.5229, Test Acc: 0.5080, Train Loss: 0.6619, Test Loss: 0.6618\n",
      "Epoch: 100, Train Acc: 0.6521, Test Acc: 0.6757, Train Loss: 0.6411, Test Loss: 0.6236\n",
      "Epoch: 110, Train Acc: 0.6816, Test Acc: 0.6923, Train Loss: 0.6197, Test Loss: 0.6042\n",
      "Epoch: 120, Train Acc: 0.7379, Test Acc: 0.7053, Train Loss: 0.5933, Test Loss: 0.5867\n",
      "Epoch: 130, Train Acc: 0.5950, Test Acc: 0.6410, Train Loss: 0.6841, Test Loss: 0.6541\n",
      "Epoch: 140, Train Acc: 0.6674, Test Acc: 0.6807, Train Loss: 0.5984, Test Loss: 0.5895\n",
      "Epoch: 150, Train Acc: 0.7670, Test Acc: 0.7193, Train Loss: 0.5577, Test Loss: 0.5728\n",
      "Epoch: 160, Train Acc: 0.6894, Test Acc: 0.6850, Train Loss: 0.5753, Test Loss: 0.5823\n",
      "Epoch: 170, Train Acc: 0.7771, Test Acc: 0.7230, Train Loss: 0.5069, Test Loss: 0.5494\n",
      "Epoch: 180, Train Acc: 0.7861, Test Acc: 0.7290, Train Loss: 0.4928, Test Loss: 0.5445\n",
      "Epoch: 190, Train Acc: 0.7441, Test Acc: 0.7160, Train Loss: 0.5123, Test Loss: 0.5561\n",
      "Epoch: 200, Train Acc: 0.7606, Test Acc: 0.7297, Train Loss: 0.4885, Test Loss: 0.5396\n",
      "Epoch: 210, Train Acc: 0.5590, Test Acc: 0.5000, Train Loss: 0.5560, Test Loss: 0.6708\n",
      "Epoch: 220, Train Acc: 0.7609, Test Acc: 0.7310, Train Loss: 0.4828, Test Loss: 0.5583\n",
      "Epoch: 230, Train Acc: 0.7561, Test Acc: 0.7030, Train Loss: 0.5220, Test Loss: 0.6449\n",
      "Epoch: 240, Train Acc: 0.7730, Test Acc: 0.7303, Train Loss: 0.4572, Test Loss: 0.5688\n",
      "20 epochs passed without 0 test loss improvement. \n",
      "Early stopping triggered.\n"
     ]
    },
    {
     "data": {
      "text/html": [
       "<style>\n",
       "    table.wandb td:nth-child(1) { padding: 0 10px; text-align: left ; width: auto;} td:nth-child(2) {text-align: left ; width: 100%}\n",
       "    .wandb-row { display: flex; flex-direction: row; flex-wrap: wrap; justify-content: flex-start; width: 100% }\n",
       "    .wandb-col { display: flex; flex-direction: column; flex-basis: 100%; flex: 1; padding: 10px; }\n",
       "    </style>\n",
       "<div class=\"wandb-row\"><div class=\"wandb-col\"><h3>Run history:</h3><br/><table class=\"wandb\"><tr><td>Test Accuracy</td><td>▂▂▂▂▂▁▂▂▃▂▆▂▂▆▅▇▆▂▇▆▆▅▇▇▇▇▂▂▇█▇▂█▇▂▇▇███</td></tr><tr><td>Test F1</td><td>▇▇▁▇▇▇▇▇▃▇▆▇▇▇▅▇▆▇▇▆▆▅███▇▇▇▆██▇▇▇▇▇▇█▇█</td></tr><tr><td>Test Loss</td><td>▇▇▇▆▇▆▆▆▆▆▆▆▆▅▅▅▄▇▃▃▄▅▃▃▃▂█▄▃▁▁▆▁▂▆▃▃▂▁▃</td></tr><tr><td>Test Sensitivity</td><td>██▁██▇██▂█▄██▅▃▆▄█▆▄▄▃▆▇▆▅█▇▄▆▆█▅▅▇▄▅▆▆▇</td></tr><tr><td>Test Specificity</td><td>▁▁█▁▁▂▁▁█▁▇▁▁▇█▆▇▁▆▇▇█▆▅▆▇▁▂█▆▆▁▇▇▁█▇▆▇▆</td></tr><tr><td>Train Accuracy</td><td>▂▂▁▂▂▁▂▂▂▂▅▂▂▅▃▆▅▂▆▄▅▃▇▇▇▇▂▃▅▇▇▂▇▆▃▆▆███</td></tr><tr><td>Train F1</td><td>▇▇▁▇▇▆▇▇▂▇▆▇▇▆▄▇▆▇▇▅▆▄▇██▇▇▇▆██▇▇▇▇▆▇███</td></tr><tr><td>Train Loss</td><td>██████████▇▇▇▇▇▇▇█▆▆▆█▅▅▅▄█▄▅▃▂▅▂▃▄▄▃▁▁▂</td></tr><tr><td>Train Sensitivity</td><td>██▁██▇██▁█▄██▄▃▆▄█▆▄▄▃▆▇▇▆█▇▄▆▆█▅▅█▄▅▇▆▇</td></tr><tr><td>Train Specificity</td><td>▁▁█▁▁▁▁▁█▁▇▁▁▇█▆█▁▆███▆▆▆▇▁▂█▇▇▁██▂██▇▇▆</td></tr></table><br/></div><div class=\"wandb-col\"><h3>Run summary:</h3><br/><table class=\"wandb\"><tr><td>Test Accuracy</td><td>0.736</td></tr><tr><td>Test F1</td><td>0.76706</td></tr><tr><td>Test Loss</td><td>0.59546</td></tr><tr><td>Test Sensitivity</td><td>0.85062</td></tr><tr><td>Test Specificity</td><td>0.61622</td></tr><tr><td>Train Accuracy</td><td>0.80186</td></tr><tr><td>Train F1</td><td>0.82781</td></tr><tr><td>Train Loss</td><td>0.47029</td></tr><tr><td>Train Sensitivity</td><td>0.90475</td></tr><tr><td>Train Specificity</td><td>0.68748</td></tr></table><br/></div></div>"
      ],
      "text/plain": [
       "<IPython.core.display.HTML object>"
      ]
     },
     "metadata": {},
     "output_type": "display_data"
    },
    {
     "data": {
      "text/html": [
       " View run <strong style=\"color:#cdcd00\">warm-sweep-37</strong> at: <a href='https://wandb.ai/dylan-home/pnca-sweep-1/runs/6szpgsc0' target=\"_blank\">https://wandb.ai/dylan-home/pnca-sweep-1/runs/6szpgsc0</a><br/>Synced 5 W&B file(s), 0 media file(s), 0 artifact file(s) and 0 other file(s)"
      ],
      "text/plain": [
       "<IPython.core.display.HTML object>"
      ]
     },
     "metadata": {},
     "output_type": "display_data"
    },
    {
     "data": {
      "text/html": [
       "Find logs at: <code>./wandb/run-20250116_023327-6szpgsc0/logs</code>"
      ],
      "text/plain": [
       "<IPython.core.display.HTML object>"
      ]
     },
     "metadata": {},
     "output_type": "display_data"
    },
    {
     "name": "stderr",
     "output_type": "stream",
     "text": [
      "\u001b[34m\u001b[1mwandb\u001b[0m: Agent Starting Run: 6g48ht9h with config:\n",
      "\u001b[34m\u001b[1mwandb\u001b[0m: \tcutoff_distance: 7.443418455378496\n",
      "\u001b[34m\u001b[1mwandb\u001b[0m: \tdropout: 0.5\n",
      "\u001b[34m\u001b[1mwandb\u001b[0m: \thidden_channels: 256\n",
      "\u001b[34m\u001b[1mwandb\u001b[0m: \tlearning_rate: 0.0017597570704584056\n",
      "\u001b[34m\u001b[1mwandb\u001b[0m: \tweight_decay: 1.5190540943665945e-06\n",
      "Failed to detect the name of this notebook, you can set it manually with the WANDB_NOTEBOOK_NAME environment variable to enable code saving.\n",
      "/usr/lib/python3/dist-packages/requests/__init__.py:87: RequestsDependencyWarning: urllib3 (2.2.3) or chardet (4.0.0) doesn't match a supported version!\n",
      "  warnings.warn(\"urllib3 ({}) or chardet ({}) doesn't match a supported \"\n"
     ]
    },
    {
     "data": {
      "text/html": [
       "wandb version 0.19.3 is available!  To upgrade, please run:\n",
       " $ pip install wandb --upgrade"
      ],
      "text/plain": [
       "<IPython.core.display.HTML object>"
      ]
     },
     "metadata": {},
     "output_type": "display_data"
    },
    {
     "data": {
      "text/html": [
       "Tracking run with wandb version 0.16.4"
      ],
      "text/plain": [
       "<IPython.core.display.HTML object>"
      ]
     },
     "metadata": {},
     "output_type": "display_data"
    },
    {
     "data": {
      "text/html": [
       "Run data is saved locally in <code>/mnt/alphafold-volume-1/dylan2/repos/tb-pnca-gnn/dd_pnca/wandb/run-20250116_024311-6g48ht9h</code>"
      ],
      "text/plain": [
       "<IPython.core.display.HTML object>"
      ]
     },
     "metadata": {},
     "output_type": "display_data"
    },
    {
     "data": {
      "text/html": [
       "Syncing run <strong><a href='https://wandb.ai/dylan-home/pnca-sweep-1/runs/6g48ht9h' target=\"_blank\">dainty-sweep-38</a></strong> to <a href='https://wandb.ai/dylan-home/pnca-sweep-1' target=\"_blank\">Weights & Biases</a> (<a href='https://wandb.me/run' target=\"_blank\">docs</a>)<br/>Sweep page: <a href='https://wandb.ai/dylan-home/pnca-sweep-1/sweeps/tr8mwg42' target=\"_blank\">https://wandb.ai/dylan-home/pnca-sweep-1/sweeps/tr8mwg42</a>"
      ],
      "text/plain": [
       "<IPython.core.display.HTML object>"
      ]
     },
     "metadata": {},
     "output_type": "display_data"
    },
    {
     "data": {
      "text/html": [
       " View project at <a href='https://wandb.ai/dylan-home/pnca-sweep-1' target=\"_blank\">https://wandb.ai/dylan-home/pnca-sweep-1</a>"
      ],
      "text/plain": [
       "<IPython.core.display.HTML object>"
      ]
     },
     "metadata": {},
     "output_type": "display_data"
    },
    {
     "data": {
      "text/html": [
       " View sweep at <a href='https://wandb.ai/dylan-home/pnca-sweep-1/sweeps/tr8mwg42' target=\"_blank\">https://wandb.ai/dylan-home/pnca-sweep-1/sweeps/tr8mwg42</a>"
      ],
      "text/plain": [
       "<IPython.core.display.HTML object>"
      ]
     },
     "metadata": {},
     "output_type": "display_data"
    },
    {
     "data": {
      "text/html": [
       " View run at <a href='https://wandb.ai/dylan-home/pnca-sweep-1/runs/6g48ht9h' target=\"_blank\">https://wandb.ai/dylan-home/pnca-sweep-1/runs/6g48ht9h</a>"
      ],
      "text/plain": [
       "<IPython.core.display.HTML object>"
      ]
     },
     "metadata": {},
     "output_type": "display_data"
    },
    {
     "name": "stdout",
     "output_type": "stream",
     "text": [
      "Using CUDA\n",
      "Early stopping enabled. Patience: 20. Min Delta: 0.\n",
      "Epoch: 010, Train Acc: 0.5264, Test Acc: 0.5110, Train Loss: 0.6918, Test Loss: 0.6932\n",
      "Epoch: 020, Train Acc: 0.5264, Test Acc: 0.5110, Train Loss: 0.6918, Test Loss: 0.6934\n",
      "20 epochs passed without 0 test loss improvement. \n",
      "Early stopping triggered.\n"
     ]
    },
    {
     "data": {
      "text/html": [
       "<style>\n",
       "    table.wandb td:nth-child(1) { padding: 0 10px; text-align: left ; width: auto;} td:nth-child(2) {text-align: left ; width: 100%}\n",
       "    .wandb-row { display: flex; flex-direction: row; flex-wrap: wrap; justify-content: flex-start; width: 100% }\n",
       "    .wandb-col { display: flex; flex-direction: column; flex-basis: 100%; flex: 1; padding: 10px; }\n",
       "    </style>\n",
       "<div class=\"wandb-row\"><div class=\"wandb-col\"><h3>Run history:</h3><br/><table class=\"wandb\"><tr><td>Test Accuracy</td><td>▁██████████████████████</td></tr><tr><td>Test F1</td><td>▁██████████████████████</td></tr><tr><td>Test Loss</td><td>█▂▁▂▃▂▂▃▃▂▃▂▃▂▃▃▂▂▂▃▂▂▃</td></tr><tr><td>Test Sensitivity</td><td>▁██████████████████████</td></tr><tr><td>Test Specificity</td><td>█▁▁▁▁▁▁▁▁▁▁▁▁▁▁▁▁▁▁▁▁▁▁</td></tr><tr><td>Train Accuracy</td><td>▁██████████████████████</td></tr><tr><td>Train F1</td><td>▁██████████████████████</td></tr><tr><td>Train Loss</td><td>█▃▂▂▁▁▂▁▂▂▂▂▁▁▁▂▁▂▁▂▂▁▁</td></tr><tr><td>Train Sensitivity</td><td>▁██████████████████████</td></tr><tr><td>Train Specificity</td><td>█▁▁▁▁▁▁▁▁▁▁▁▁▁▁▁▁▁▁▁▁▁▁</td></tr></table><br/></div><div class=\"wandb-col\"><h3>Run summary:</h3><br/><table class=\"wandb\"><tr><td>Test Accuracy</td><td>0.511</td></tr><tr><td>Test F1</td><td>0.67637</td></tr><tr><td>Test Loss</td><td>0.69341</td></tr><tr><td>Test Sensitivity</td><td>1.0</td></tr><tr><td>Test Specificity</td><td>0.0</td></tr><tr><td>Train Accuracy</td><td>0.52643</td></tr><tr><td>Train F1</td><td>0.68975</td></tr><tr><td>Train Loss</td><td>0.69168</td></tr><tr><td>Train Sensitivity</td><td>1.0</td></tr><tr><td>Train Specificity</td><td>0.0</td></tr></table><br/></div></div>"
      ],
      "text/plain": [
       "<IPython.core.display.HTML object>"
      ]
     },
     "metadata": {},
     "output_type": "display_data"
    },
    {
     "data": {
      "text/html": [
       " View run <strong style=\"color:#cdcd00\">dainty-sweep-38</strong> at: <a href='https://wandb.ai/dylan-home/pnca-sweep-1/runs/6g48ht9h' target=\"_blank\">https://wandb.ai/dylan-home/pnca-sweep-1/runs/6g48ht9h</a><br/>Synced 5 W&B file(s), 0 media file(s), 0 artifact file(s) and 0 other file(s)"
      ],
      "text/plain": [
       "<IPython.core.display.HTML object>"
      ]
     },
     "metadata": {},
     "output_type": "display_data"
    },
    {
     "data": {
      "text/html": [
       "Find logs at: <code>./wandb/run-20250116_024311-6g48ht9h/logs</code>"
      ],
      "text/plain": [
       "<IPython.core.display.HTML object>"
      ]
     },
     "metadata": {},
     "output_type": "display_data"
    },
    {
     "name": "stderr",
     "output_type": "stream",
     "text": [
      "\u001b[34m\u001b[1mwandb\u001b[0m: Agent Starting Run: whavctmm with config:\n",
      "\u001b[34m\u001b[1mwandb\u001b[0m: \tcutoff_distance: 6.794027750663644\n",
      "\u001b[34m\u001b[1mwandb\u001b[0m: \tdropout: 0.8\n",
      "\u001b[34m\u001b[1mwandb\u001b[0m: \thidden_channels: 256\n",
      "\u001b[34m\u001b[1mwandb\u001b[0m: \tlearning_rate: 0.0027054684317511864\n",
      "\u001b[34m\u001b[1mwandb\u001b[0m: \tweight_decay: 1.86563255351601e-06\n",
      "Failed to detect the name of this notebook, you can set it manually with the WANDB_NOTEBOOK_NAME environment variable to enable code saving.\n",
      "/usr/lib/python3/dist-packages/requests/__init__.py:87: RequestsDependencyWarning: urllib3 (2.2.3) or chardet (4.0.0) doesn't match a supported version!\n",
      "  warnings.warn(\"urllib3 ({}) or chardet ({}) doesn't match a supported \"\n"
     ]
    },
    {
     "data": {
      "text/html": [
       "wandb version 0.19.3 is available!  To upgrade, please run:\n",
       " $ pip install wandb --upgrade"
      ],
      "text/plain": [
       "<IPython.core.display.HTML object>"
      ]
     },
     "metadata": {},
     "output_type": "display_data"
    },
    {
     "data": {
      "text/html": [
       "Tracking run with wandb version 0.16.4"
      ],
      "text/plain": [
       "<IPython.core.display.HTML object>"
      ]
     },
     "metadata": {},
     "output_type": "display_data"
    },
    {
     "data": {
      "text/html": [
       "Run data is saved locally in <code>/mnt/alphafold-volume-1/dylan2/repos/tb-pnca-gnn/dd_pnca/wandb/run-20250116_024408-whavctmm</code>"
      ],
      "text/plain": [
       "<IPython.core.display.HTML object>"
      ]
     },
     "metadata": {},
     "output_type": "display_data"
    },
    {
     "data": {
      "text/html": [
       "Syncing run <strong><a href='https://wandb.ai/dylan-home/pnca-sweep-1/runs/whavctmm' target=\"_blank\">cosmic-sweep-39</a></strong> to <a href='https://wandb.ai/dylan-home/pnca-sweep-1' target=\"_blank\">Weights & Biases</a> (<a href='https://wandb.me/run' target=\"_blank\">docs</a>)<br/>Sweep page: <a href='https://wandb.ai/dylan-home/pnca-sweep-1/sweeps/tr8mwg42' target=\"_blank\">https://wandb.ai/dylan-home/pnca-sweep-1/sweeps/tr8mwg42</a>"
      ],
      "text/plain": [
       "<IPython.core.display.HTML object>"
      ]
     },
     "metadata": {},
     "output_type": "display_data"
    },
    {
     "data": {
      "text/html": [
       " View project at <a href='https://wandb.ai/dylan-home/pnca-sweep-1' target=\"_blank\">https://wandb.ai/dylan-home/pnca-sweep-1</a>"
      ],
      "text/plain": [
       "<IPython.core.display.HTML object>"
      ]
     },
     "metadata": {},
     "output_type": "display_data"
    },
    {
     "data": {
      "text/html": [
       " View sweep at <a href='https://wandb.ai/dylan-home/pnca-sweep-1/sweeps/tr8mwg42' target=\"_blank\">https://wandb.ai/dylan-home/pnca-sweep-1/sweeps/tr8mwg42</a>"
      ],
      "text/plain": [
       "<IPython.core.display.HTML object>"
      ]
     },
     "metadata": {},
     "output_type": "display_data"
    },
    {
     "data": {
      "text/html": [
       " View run at <a href='https://wandb.ai/dylan-home/pnca-sweep-1/runs/whavctmm' target=\"_blank\">https://wandb.ai/dylan-home/pnca-sweep-1/runs/whavctmm</a>"
      ],
      "text/plain": [
       "<IPython.core.display.HTML object>"
      ]
     },
     "metadata": {},
     "output_type": "display_data"
    },
    {
     "name": "stdout",
     "output_type": "stream",
     "text": [
      "Using CUDA\n",
      "Early stopping enabled. Patience: 20. Min Delta: 0.\n",
      "Epoch: 010, Train Acc: 0.5264, Test Acc: 0.5110, Train Loss: 0.6918, Test Loss: 0.6932\n",
      "Epoch: 020, Train Acc: 0.5264, Test Acc: 0.5110, Train Loss: 0.6918, Test Loss: 0.6934\n",
      "20 epochs passed without 0 test loss improvement. \n",
      "Early stopping triggered.\n"
     ]
    },
    {
     "data": {
      "text/html": [
       "<style>\n",
       "    table.wandb td:nth-child(1) { padding: 0 10px; text-align: left ; width: auto;} td:nth-child(2) {text-align: left ; width: 100%}\n",
       "    .wandb-row { display: flex; flex-direction: row; flex-wrap: wrap; justify-content: flex-start; width: 100% }\n",
       "    .wandb-col { display: flex; flex-direction: column; flex-basis: 100%; flex: 1; padding: 10px; }\n",
       "    </style>\n",
       "<div class=\"wandb-row\"><div class=\"wandb-col\"><h3>Run history:</h3><br/><table class=\"wandb\"><tr><td>Test Accuracy</td><td>▁█████████████████████████</td></tr><tr><td>Test F1</td><td>▁█████████████████████████</td></tr><tr><td>Test Loss</td><td>█▁▃▄▃▁▂▄▃▂▅▂▄▂▄▃▂▃▂▄▂▃▄▃▃▃</td></tr><tr><td>Test Sensitivity</td><td>▁█████████████████████████</td></tr><tr><td>Test Specificity</td><td>█▁▁▁▁▁▁▁▁▁▁▁▁▁▁▁▁▁▁▁▁▁▁▁▁▁</td></tr><tr><td>Train Accuracy</td><td>▁█████████████████████████</td></tr><tr><td>Train F1</td><td>▁█████████████████████████</td></tr><tr><td>Train Loss</td><td>█▂▂▂▁▂▂▁▂▂▂▂▂▂▁▂▁▂▁▂▂▁▁▂▂▁</td></tr><tr><td>Train Sensitivity</td><td>▁█████████████████████████</td></tr><tr><td>Train Specificity</td><td>█▁▁▁▁▁▁▁▁▁▁▁▁▁▁▁▁▁▁▁▁▁▁▁▁▁</td></tr></table><br/></div><div class=\"wandb-col\"><h3>Run summary:</h3><br/><table class=\"wandb\"><tr><td>Test Accuracy</td><td>0.511</td></tr><tr><td>Test F1</td><td>0.67637</td></tr><tr><td>Test Loss</td><td>0.69334</td></tr><tr><td>Test Sensitivity</td><td>1.0</td></tr><tr><td>Test Specificity</td><td>0.0</td></tr><tr><td>Train Accuracy</td><td>0.52643</td></tr><tr><td>Train F1</td><td>0.68975</td></tr><tr><td>Train Loss</td><td>0.6917</td></tr><tr><td>Train Sensitivity</td><td>1.0</td></tr><tr><td>Train Specificity</td><td>0.0</td></tr></table><br/></div></div>"
      ],
      "text/plain": [
       "<IPython.core.display.HTML object>"
      ]
     },
     "metadata": {},
     "output_type": "display_data"
    },
    {
     "data": {
      "text/html": [
       " View run <strong style=\"color:#cdcd00\">cosmic-sweep-39</strong> at: <a href='https://wandb.ai/dylan-home/pnca-sweep-1/runs/whavctmm' target=\"_blank\">https://wandb.ai/dylan-home/pnca-sweep-1/runs/whavctmm</a><br/>Synced 5 W&B file(s), 0 media file(s), 0 artifact file(s) and 0 other file(s)"
      ],
      "text/plain": [
       "<IPython.core.display.HTML object>"
      ]
     },
     "metadata": {},
     "output_type": "display_data"
    },
    {
     "data": {
      "text/html": [
       "Find logs at: <code>./wandb/run-20250116_024408-whavctmm/logs</code>"
      ],
      "text/plain": [
       "<IPython.core.display.HTML object>"
      ]
     },
     "metadata": {},
     "output_type": "display_data"
    },
    {
     "name": "stderr",
     "output_type": "stream",
     "text": [
      "\u001b[34m\u001b[1mwandb\u001b[0m: Sweep Agent: Waiting for job.\n",
      "\u001b[34m\u001b[1mwandb\u001b[0m: Job received.\n",
      "\u001b[34m\u001b[1mwandb\u001b[0m: Agent Starting Run: p58eccfg with config:\n",
      "\u001b[34m\u001b[1mwandb\u001b[0m: \tcutoff_distance: 8.729898214673163\n",
      "\u001b[34m\u001b[1mwandb\u001b[0m: \tdropout: 0.4\n",
      "\u001b[34m\u001b[1mwandb\u001b[0m: \thidden_channels: 128\n",
      "\u001b[34m\u001b[1mwandb\u001b[0m: \tlearning_rate: 0.00022502358299162877\n",
      "\u001b[34m\u001b[1mwandb\u001b[0m: \tweight_decay: 6.196733919188854e-06\n",
      "Failed to detect the name of this notebook, you can set it manually with the WANDB_NOTEBOOK_NAME environment variable to enable code saving.\n",
      "/usr/lib/python3/dist-packages/requests/__init__.py:87: RequestsDependencyWarning: urllib3 (2.2.3) or chardet (4.0.0) doesn't match a supported version!\n",
      "  warnings.warn(\"urllib3 ({}) or chardet ({}) doesn't match a supported \"\n"
     ]
    },
    {
     "data": {
      "text/html": [
       "wandb version 0.19.3 is available!  To upgrade, please run:\n",
       " $ pip install wandb --upgrade"
      ],
      "text/plain": [
       "<IPython.core.display.HTML object>"
      ]
     },
     "metadata": {},
     "output_type": "display_data"
    },
    {
     "data": {
      "text/html": [
       "Tracking run with wandb version 0.16.4"
      ],
      "text/plain": [
       "<IPython.core.display.HTML object>"
      ]
     },
     "metadata": {},
     "output_type": "display_data"
    },
    {
     "data": {
      "text/html": [
       "Run data is saved locally in <code>/mnt/alphafold-volume-1/dylan2/repos/tb-pnca-gnn/dd_pnca/wandb/run-20250116_024519-p58eccfg</code>"
      ],
      "text/plain": [
       "<IPython.core.display.HTML object>"
      ]
     },
     "metadata": {},
     "output_type": "display_data"
    },
    {
     "data": {
      "text/html": [
       "Syncing run <strong><a href='https://wandb.ai/dylan-home/pnca-sweep-1/runs/p58eccfg' target=\"_blank\">sage-sweep-40</a></strong> to <a href='https://wandb.ai/dylan-home/pnca-sweep-1' target=\"_blank\">Weights & Biases</a> (<a href='https://wandb.me/run' target=\"_blank\">docs</a>)<br/>Sweep page: <a href='https://wandb.ai/dylan-home/pnca-sweep-1/sweeps/tr8mwg42' target=\"_blank\">https://wandb.ai/dylan-home/pnca-sweep-1/sweeps/tr8mwg42</a>"
      ],
      "text/plain": [
       "<IPython.core.display.HTML object>"
      ]
     },
     "metadata": {},
     "output_type": "display_data"
    },
    {
     "data": {
      "text/html": [
       " View project at <a href='https://wandb.ai/dylan-home/pnca-sweep-1' target=\"_blank\">https://wandb.ai/dylan-home/pnca-sweep-1</a>"
      ],
      "text/plain": [
       "<IPython.core.display.HTML object>"
      ]
     },
     "metadata": {},
     "output_type": "display_data"
    },
    {
     "data": {
      "text/html": [
       " View sweep at <a href='https://wandb.ai/dylan-home/pnca-sweep-1/sweeps/tr8mwg42' target=\"_blank\">https://wandb.ai/dylan-home/pnca-sweep-1/sweeps/tr8mwg42</a>"
      ],
      "text/plain": [
       "<IPython.core.display.HTML object>"
      ]
     },
     "metadata": {},
     "output_type": "display_data"
    },
    {
     "data": {
      "text/html": [
       " View run at <a href='https://wandb.ai/dylan-home/pnca-sweep-1/runs/p58eccfg' target=\"_blank\">https://wandb.ai/dylan-home/pnca-sweep-1/runs/p58eccfg</a>"
      ],
      "text/plain": [
       "<IPython.core.display.HTML object>"
      ]
     },
     "metadata": {},
     "output_type": "display_data"
    },
    {
     "name": "stdout",
     "output_type": "stream",
     "text": [
      "Using CUDA\n",
      "Early stopping enabled. Patience: 20. Min Delta: 0.\n",
      "Epoch: 010, Train Acc: 0.4736, Test Acc: 0.4890, Train Loss: 0.7146, Test Loss: 0.7100\n",
      "Epoch: 020, Train Acc: 0.5264, Test Acc: 0.5110, Train Loss: 0.6877, Test Loss: 0.6893\n",
      "Epoch: 030, Train Acc: 0.5230, Test Acc: 0.5097, Train Loss: 0.6839, Test Loss: 0.6833\n",
      "Epoch: 040, Train Acc: 0.5266, Test Acc: 0.5110, Train Loss: 0.6841, Test Loss: 0.6852\n",
      "Epoch: 050, Train Acc: 0.5254, Test Acc: 0.5107, Train Loss: 0.6781, Test Loss: 0.6789\n",
      "Epoch: 060, Train Acc: 0.4956, Test Acc: 0.4733, Train Loss: 0.6650, Test Loss: 0.6630\n",
      "Epoch: 070, Train Acc: 0.6031, Test Acc: 0.6483, Train Loss: 0.6649, Test Loss: 0.6573\n",
      "Epoch: 080, Train Acc: 0.6436, Test Acc: 0.6617, Train Loss: 0.6565, Test Loss: 0.6517\n",
      "Epoch: 090, Train Acc: 0.5250, Test Acc: 0.5093, Train Loss: 0.6660, Test Loss: 0.6741\n",
      "Epoch: 100, Train Acc: 0.7326, Test Acc: 0.7037, Train Loss: 0.6162, Test Loss: 0.6184\n",
      "Epoch: 110, Train Acc: 0.6946, Test Acc: 0.6687, Train Loss: 0.6096, Test Loss: 0.6086\n",
      "Epoch: 120, Train Acc: 0.6190, Test Acc: 0.6520, Train Loss: 0.6426, Test Loss: 0.6346\n",
      "Epoch: 130, Train Acc: 0.7637, Test Acc: 0.7157, Train Loss: 0.5788, Test Loss: 0.5951\n",
      "Epoch: 140, Train Acc: 0.6567, Test Acc: 0.6690, Train Loss: 0.6081, Test Loss: 0.6125\n",
      "Epoch: 150, Train Acc: 0.7490, Test Acc: 0.7117, Train Loss: 0.5424, Test Loss: 0.5649\n",
      "Epoch: 160, Train Acc: 0.7449, Test Acc: 0.7093, Train Loss: 0.5360, Test Loss: 0.5586\n",
      "Epoch: 170, Train Acc: 0.5297, Test Acc: 0.4967, Train Loss: 0.6044, Test Loss: 0.6523\n",
      "Epoch: 180, Train Acc: 0.7223, Test Acc: 0.6933, Train Loss: 0.5372, Test Loss: 0.5614\n",
      "Epoch: 190, Train Acc: 0.7951, Test Acc: 0.7423, Train Loss: 0.5004, Test Loss: 0.5632\n",
      "Epoch: 200, Train Acc: 0.7697, Test Acc: 0.7253, Train Loss: 0.4870, Test Loss: 0.5366\n",
      "Epoch: 210, Train Acc: 0.7776, Test Acc: 0.7270, Train Loss: 0.4786, Test Loss: 0.5342\n",
      "Epoch: 220, Train Acc: 0.5359, Test Acc: 0.5107, Train Loss: 0.6558, Test Loss: 0.7610\n",
      "Epoch: 230, Train Acc: 0.7801, Test Acc: 0.7217, Train Loss: 0.4549, Test Loss: 0.5308\n",
      "Epoch: 240, Train Acc: 0.8149, Test Acc: 0.7527, Train Loss: 0.4503, Test Loss: 0.5639\n",
      "20 epochs passed without 0 test loss improvement. \n",
      "Early stopping triggered.\n"
     ]
    },
    {
     "data": {
      "text/html": [
       "<style>\n",
       "    table.wandb td:nth-child(1) { padding: 0 10px; text-align: left ; width: auto;} td:nth-child(2) {text-align: left ; width: 100%}\n",
       "    .wandb-row { display: flex; flex-direction: row; flex-wrap: wrap; justify-content: flex-start; width: 100% }\n",
       "    .wandb-col { display: flex; flex-direction: column; flex-basis: 100%; flex: 1; padding: 10px; }\n",
       "    </style>\n",
       "<div class=\"wandb-row\"><div class=\"wandb-col\"><h3>Run history:</h3><br/><table class=\"wandb\"><tr><td>Test Accuracy</td><td>▁▂▂▂▂▂▆▄▂▆▁▁▂▁▃▂▇▇▆▆▆▇▆▂▆▇███▇▂▂██▇▇█▇▇█</td></tr><tr><td>Test F1</td><td>▁▇▇▇▇▂▇▄▇▆▇▇▇▇▄▇▇▇▇▆▇█▇▇▇▇███▇▇▇███▇████</td></tr><tr><td>Test Loss</td><td>██▇▇▇▇▇▇▇▇▆▆▇▆▇▆▅▄▄▄▄▄▃▇▃▂▃▂▂▂▅▆▂▁▁▂▁▁▁▁</td></tr><tr><td>Test Sensitivity</td><td>▁████▁▆▂█▄█▇█▇▂█▅▅▄▄▄▆▅█▅▅▆▅▆▅▇█▆▆▅▅▆▅▅▅</td></tr><tr><td>Test Specificity</td><td>█▁▁▁▁█▆█▁▇▁▂▁▂█▁▆▇▇▇▇▆▇▁▇▇▆▇▆▇▁▁▆▇▇▇▇▇▇▇</td></tr><tr><td>Train Accuracy</td><td>▁▂▂▂▂▁▆▂▂▅▂▂▂▂▂▂▇▇▆▆▆▇▆▂▆▇█▇█▆▃▂███▇████</td></tr><tr><td>Train F1</td><td>▁▇▇▇▇▂▇▃▇▆▇▇▇▇▃▇▇▇▇▆▇█▇▇▇▇███▇▇▇███▇████</td></tr><tr><td>Train Loss</td><td>██████▇█▇▇▇▇▇▆█▆▆▅▅▅▅▅▄▆▄▄▃▃▃▄▄▅▂▂▂▂▂▁▁▁</td></tr><tr><td>Train Sensitivity</td><td>▁████▁▆▂█▄█▇█▇▂█▆▅▅▄▅▆▅█▅▅▇▆▆▅██▆▆▆▅▆▆▆▆</td></tr><tr><td>Train Specificity</td><td>█▁▁▁▁█▆█▁▇▁▂▁▂█▁▇▇▇█▇▆▇▁▇▇▆▇▇█▂▁▇▇▇█▇▇▇▇</td></tr></table><br/></div><div class=\"wandb-col\"><h3>Run summary:</h3><br/><table class=\"wandb\"><tr><td>Test Accuracy</td><td>0.72933</td></tr><tr><td>Test F1</td><td>0.70473</td></tr><tr><td>Test Loss</td><td>0.52887</td></tr><tr><td>Test Sensitivity</td><td>0.63209</td></tr><tr><td>Test Specificity</td><td>0.83095</td></tr><tr><td>Train Accuracy</td><td>0.789</td></tr><tr><td>Train F1</td><td>0.77083</td></tr><tr><td>Train Loss</td><td>0.4435</td></tr><tr><td>Train Sensitivity</td><td>0.67408</td></tr><tr><td>Train Specificity</td><td>0.91674</td></tr></table><br/></div></div>"
      ],
      "text/plain": [
       "<IPython.core.display.HTML object>"
      ]
     },
     "metadata": {},
     "output_type": "display_data"
    },
    {
     "data": {
      "text/html": [
       " View run <strong style=\"color:#cdcd00\">sage-sweep-40</strong> at: <a href='https://wandb.ai/dylan-home/pnca-sweep-1/runs/p58eccfg' target=\"_blank\">https://wandb.ai/dylan-home/pnca-sweep-1/runs/p58eccfg</a><br/>Synced 5 W&B file(s), 0 media file(s), 0 artifact file(s) and 0 other file(s)"
      ],
      "text/plain": [
       "<IPython.core.display.HTML object>"
      ]
     },
     "metadata": {},
     "output_type": "display_data"
    },
    {
     "data": {
      "text/html": [
       "Find logs at: <code>./wandb/run-20250116_024519-p58eccfg/logs</code>"
      ],
      "text/plain": [
       "<IPython.core.display.HTML object>"
      ]
     },
     "metadata": {},
     "output_type": "display_data"
    },
    {
     "name": "stderr",
     "output_type": "stream",
     "text": [
      "\u001b[34m\u001b[1mwandb\u001b[0m: Agent Starting Run: 2xp0grss with config:\n",
      "\u001b[34m\u001b[1mwandb\u001b[0m: \tcutoff_distance: 7.991768716055901\n",
      "\u001b[34m\u001b[1mwandb\u001b[0m: \tdropout: 0.5\n",
      "\u001b[34m\u001b[1mwandb\u001b[0m: \thidden_channels: 128\n",
      "\u001b[34m\u001b[1mwandb\u001b[0m: \tlearning_rate: 0.009487542882163356\n",
      "\u001b[34m\u001b[1mwandb\u001b[0m: \tweight_decay: 4.4184094806678474e-05\n",
      "Failed to detect the name of this notebook, you can set it manually with the WANDB_NOTEBOOK_NAME environment variable to enable code saving.\n",
      "/usr/lib/python3/dist-packages/requests/__init__.py:87: RequestsDependencyWarning: urllib3 (2.2.3) or chardet (4.0.0) doesn't match a supported version!\n",
      "  warnings.warn(\"urllib3 ({}) or chardet ({}) doesn't match a supported \"\n"
     ]
    },
    {
     "data": {
      "text/html": [
       "wandb version 0.19.3 is available!  To upgrade, please run:\n",
       " $ pip install wandb --upgrade"
      ],
      "text/plain": [
       "<IPython.core.display.HTML object>"
      ]
     },
     "metadata": {},
     "output_type": "display_data"
    },
    {
     "data": {
      "text/html": [
       "Tracking run with wandb version 0.16.4"
      ],
      "text/plain": [
       "<IPython.core.display.HTML object>"
      ]
     },
     "metadata": {},
     "output_type": "display_data"
    },
    {
     "data": {
      "text/html": [
       "Run data is saved locally in <code>/mnt/alphafold-volume-1/dylan2/repos/tb-pnca-gnn/dd_pnca/wandb/run-20250116_025231-2xp0grss</code>"
      ],
      "text/plain": [
       "<IPython.core.display.HTML object>"
      ]
     },
     "metadata": {},
     "output_type": "display_data"
    },
    {
     "data": {
      "text/html": [
       "Syncing run <strong><a href='https://wandb.ai/dylan-home/pnca-sweep-1/runs/2xp0grss' target=\"_blank\">sunny-sweep-41</a></strong> to <a href='https://wandb.ai/dylan-home/pnca-sweep-1' target=\"_blank\">Weights & Biases</a> (<a href='https://wandb.me/run' target=\"_blank\">docs</a>)<br/>Sweep page: <a href='https://wandb.ai/dylan-home/pnca-sweep-1/sweeps/tr8mwg42' target=\"_blank\">https://wandb.ai/dylan-home/pnca-sweep-1/sweeps/tr8mwg42</a>"
      ],
      "text/plain": [
       "<IPython.core.display.HTML object>"
      ]
     },
     "metadata": {},
     "output_type": "display_data"
    },
    {
     "data": {
      "text/html": [
       " View project at <a href='https://wandb.ai/dylan-home/pnca-sweep-1' target=\"_blank\">https://wandb.ai/dylan-home/pnca-sweep-1</a>"
      ],
      "text/plain": [
       "<IPython.core.display.HTML object>"
      ]
     },
     "metadata": {},
     "output_type": "display_data"
    },
    {
     "data": {
      "text/html": [
       " View sweep at <a href='https://wandb.ai/dylan-home/pnca-sweep-1/sweeps/tr8mwg42' target=\"_blank\">https://wandb.ai/dylan-home/pnca-sweep-1/sweeps/tr8mwg42</a>"
      ],
      "text/plain": [
       "<IPython.core.display.HTML object>"
      ]
     },
     "metadata": {},
     "output_type": "display_data"
    },
    {
     "data": {
      "text/html": [
       " View run at <a href='https://wandb.ai/dylan-home/pnca-sweep-1/runs/2xp0grss' target=\"_blank\">https://wandb.ai/dylan-home/pnca-sweep-1/runs/2xp0grss</a>"
      ],
      "text/plain": [
       "<IPython.core.display.HTML object>"
      ]
     },
     "metadata": {},
     "output_type": "display_data"
    },
    {
     "name": "stdout",
     "output_type": "stream",
     "text": [
      "Using CUDA\n",
      "Early stopping enabled. Patience: 20. Min Delta: 0.\n",
      "Epoch: 010, Train Acc: 0.5264, Test Acc: 0.5110, Train Loss: 0.6919, Test Loss: 0.6929\n",
      "Epoch: 020, Train Acc: 0.5264, Test Acc: 0.5110, Train Loss: 0.6921, Test Loss: 0.6929\n",
      "Epoch: 030, Train Acc: 0.5264, Test Acc: 0.5110, Train Loss: 0.6920, Test Loss: 0.6931\n",
      "Epoch: 040, Train Acc: 0.5264, Test Acc: 0.5110, Train Loss: 0.6924, Test Loss: 0.6929\n",
      "20 epochs passed without 0 test loss improvement. \n",
      "Early stopping triggered.\n"
     ]
    },
    {
     "data": {
      "text/html": [
       "<style>\n",
       "    table.wandb td:nth-child(1) { padding: 0 10px; text-align: left ; width: auto;} td:nth-child(2) {text-align: left ; width: 100%}\n",
       "    .wandb-row { display: flex; flex-direction: row; flex-wrap: wrap; justify-content: flex-start; width: 100% }\n",
       "    .wandb-col { display: flex; flex-direction: column; flex-basis: 100%; flex: 1; padding: 10px; }\n",
       "    </style>\n",
       "<div class=\"wandb-row\"><div class=\"wandb-col\"><h3>Run history:</h3><br/><table class=\"wandb\"><tr><td>Test Accuracy</td><td>▁▁▁▁▁▁▁▁▁▁▁▁▁▁▁▁▁▁▁▁▁▁▁▁▁▁▁▁▁▁▁▁▁▁▁▁▁▁▁▁</td></tr><tr><td>Test F1</td><td>▁▁▁▁▁▁▁▁▁▁▁▁▁▁▁▁▁▁▁▁▁▁▁▁▁▁▁▁▁▁▁▁▁▁▁▁▁▁▁▁</td></tr><tr><td>Test Loss</td><td>▁▁▄▃▂▂▆▂▄▁▁▄▁▁▃▁▁▁▂▁▁▃█▁▃▁▂▁▂▁▂▁▁▁▁▂▂▁▄▁</td></tr><tr><td>Test Sensitivity</td><td>▁▁▁▁▁▁▁▁▁▁▁▁▁▁▁▁▁▁▁▁▁▁▁▁▁▁▁▁▁▁▁▁▁▁▁▁▁▁▁▁</td></tr><tr><td>Test Specificity</td><td>▁▁▁▁▁▁▁▁▁▁▁▁▁▁▁▁▁▁▁▁▁▁▁▁▁▁▁▁▁▁▁▁▁▁▁▁▁▁▁▁</td></tr><tr><td>Train Accuracy</td><td>▁▁▁▁▁▁▁▁▁▁▁▁▁▁▁▁▁▁▁▁▁▁▁▁▁▁▁▁▁▁▁▁▁▁▁▁▁▁▁▁</td></tr><tr><td>Train F1</td><td>▁▁▁▁▁▁▁▁▁▁▁▁▁▁▁▁▁▁▁▁▁▁▁▁▁▁▁▁▁▁▁▁▁▁▁▁▁▁▁▁</td></tr><tr><td>Train Loss</td><td>▂▂▃▃▂▂▅▁▃▂▂▄▂▂▂▂▁▃▂▂▄▃█▂▃▂▂▂▂▂▁▂▂▄▃▂▂▂▃▃</td></tr><tr><td>Train Sensitivity</td><td>▁▁▁▁▁▁▁▁▁▁▁▁▁▁▁▁▁▁▁▁▁▁▁▁▁▁▁▁▁▁▁▁▁▁▁▁▁▁▁▁</td></tr><tr><td>Train Specificity</td><td>▁▁▁▁▁▁▁▁▁▁▁▁▁▁▁▁▁▁▁▁▁▁▁▁▁▁▁▁▁▁▁▁▁▁▁▁▁▁▁▁</td></tr></table><br/></div><div class=\"wandb-col\"><h3>Run summary:</h3><br/><table class=\"wandb\"><tr><td>Test Accuracy</td><td>0.511</td></tr><tr><td>Test F1</td><td>0.67637</td></tr><tr><td>Test Loss</td><td>0.69287</td></tr><tr><td>Test Sensitivity</td><td>1.0</td></tr><tr><td>Test Specificity</td><td>0.0</td></tr><tr><td>Train Accuracy</td><td>0.52643</td></tr><tr><td>Train F1</td><td>0.68975</td></tr><tr><td>Train Loss</td><td>0.69236</td></tr><tr><td>Train Sensitivity</td><td>1.0</td></tr><tr><td>Train Specificity</td><td>0.0</td></tr></table><br/></div></div>"
      ],
      "text/plain": [
       "<IPython.core.display.HTML object>"
      ]
     },
     "metadata": {},
     "output_type": "display_data"
    },
    {
     "data": {
      "text/html": [
       " View run <strong style=\"color:#cdcd00\">sunny-sweep-41</strong> at: <a href='https://wandb.ai/dylan-home/pnca-sweep-1/runs/2xp0grss' target=\"_blank\">https://wandb.ai/dylan-home/pnca-sweep-1/runs/2xp0grss</a><br/>Synced 5 W&B file(s), 0 media file(s), 0 artifact file(s) and 0 other file(s)"
      ],
      "text/plain": [
       "<IPython.core.display.HTML object>"
      ]
     },
     "metadata": {},
     "output_type": "display_data"
    },
    {
     "data": {
      "text/html": [
       "Find logs at: <code>./wandb/run-20250116_025231-2xp0grss/logs</code>"
      ],
      "text/plain": [
       "<IPython.core.display.HTML object>"
      ]
     },
     "metadata": {},
     "output_type": "display_data"
    },
    {
     "name": "stderr",
     "output_type": "stream",
     "text": [
      "\u001b[34m\u001b[1mwandb\u001b[0m: Agent Starting Run: y7krc3n4 with config:\n",
      "\u001b[34m\u001b[1mwandb\u001b[0m: \tcutoff_distance: 4.898620839720383\n",
      "\u001b[34m\u001b[1mwandb\u001b[0m: \tdropout: 0.5\n",
      "\u001b[34m\u001b[1mwandb\u001b[0m: \thidden_channels: 320\n",
      "\u001b[34m\u001b[1mwandb\u001b[0m: \tlearning_rate: 0.0001719518769216742\n",
      "\u001b[34m\u001b[1mwandb\u001b[0m: \tweight_decay: 0.0011426564035935554\n",
      "Failed to detect the name of this notebook, you can set it manually with the WANDB_NOTEBOOK_NAME environment variable to enable code saving.\n",
      "/usr/lib/python3/dist-packages/requests/__init__.py:87: RequestsDependencyWarning: urllib3 (2.2.3) or chardet (4.0.0) doesn't match a supported version!\n",
      "  warnings.warn(\"urllib3 ({}) or chardet ({}) doesn't match a supported \"\n"
     ]
    },
    {
     "data": {
      "text/html": [
       "wandb version 0.19.3 is available!  To upgrade, please run:\n",
       " $ pip install wandb --upgrade"
      ],
      "text/plain": [
       "<IPython.core.display.HTML object>"
      ]
     },
     "metadata": {},
     "output_type": "display_data"
    },
    {
     "data": {
      "text/html": [
       "Tracking run with wandb version 0.16.4"
      ],
      "text/plain": [
       "<IPython.core.display.HTML object>"
      ]
     },
     "metadata": {},
     "output_type": "display_data"
    },
    {
     "data": {
      "text/html": [
       "Run data is saved locally in <code>/mnt/alphafold-volume-1/dylan2/repos/tb-pnca-gnn/dd_pnca/wandb/run-20250116_025352-y7krc3n4</code>"
      ],
      "text/plain": [
       "<IPython.core.display.HTML object>"
      ]
     },
     "metadata": {},
     "output_type": "display_data"
    },
    {
     "data": {
      "text/html": [
       "Syncing run <strong><a href='https://wandb.ai/dylan-home/pnca-sweep-1/runs/y7krc3n4' target=\"_blank\">decent-sweep-42</a></strong> to <a href='https://wandb.ai/dylan-home/pnca-sweep-1' target=\"_blank\">Weights & Biases</a> (<a href='https://wandb.me/run' target=\"_blank\">docs</a>)<br/>Sweep page: <a href='https://wandb.ai/dylan-home/pnca-sweep-1/sweeps/tr8mwg42' target=\"_blank\">https://wandb.ai/dylan-home/pnca-sweep-1/sweeps/tr8mwg42</a>"
      ],
      "text/plain": [
       "<IPython.core.display.HTML object>"
      ]
     },
     "metadata": {},
     "output_type": "display_data"
    },
    {
     "data": {
      "text/html": [
       " View project at <a href='https://wandb.ai/dylan-home/pnca-sweep-1' target=\"_blank\">https://wandb.ai/dylan-home/pnca-sweep-1</a>"
      ],
      "text/plain": [
       "<IPython.core.display.HTML object>"
      ]
     },
     "metadata": {},
     "output_type": "display_data"
    },
    {
     "data": {
      "text/html": [
       " View sweep at <a href='https://wandb.ai/dylan-home/pnca-sweep-1/sweeps/tr8mwg42' target=\"_blank\">https://wandb.ai/dylan-home/pnca-sweep-1/sweeps/tr8mwg42</a>"
      ],
      "text/plain": [
       "<IPython.core.display.HTML object>"
      ]
     },
     "metadata": {},
     "output_type": "display_data"
    },
    {
     "data": {
      "text/html": [
       " View run at <a href='https://wandb.ai/dylan-home/pnca-sweep-1/runs/y7krc3n4' target=\"_blank\">https://wandb.ai/dylan-home/pnca-sweep-1/runs/y7krc3n4</a>"
      ],
      "text/plain": [
       "<IPython.core.display.HTML object>"
      ]
     },
     "metadata": {},
     "output_type": "display_data"
    },
    {
     "name": "stdout",
     "output_type": "stream",
     "text": [
      "Using CUDA\n",
      "Early stopping enabled. Patience: 20. Min Delta: 0.\n",
      "Epoch: 010, Train Acc: 0.5033, Test Acc: 0.5593, Train Loss: 0.6927, Test Loss: 0.6859\n",
      "Epoch: 020, Train Acc: 0.6759, Test Acc: 0.6757, Train Loss: 0.6831, Test Loss: 0.6772\n",
      "Epoch: 030, Train Acc: 0.5329, Test Acc: 0.6050, Train Loss: 0.6876, Test Loss: 0.6783\n",
      "Epoch: 040, Train Acc: 0.5046, Test Acc: 0.4860, Train Loss: 0.6713, Test Loss: 0.6683\n",
      "Epoch: 050, Train Acc: 0.5257, Test Acc: 0.5113, Train Loss: 0.6860, Test Loss: 0.6915\n",
      "Epoch: 060, Train Acc: 0.7083, Test Acc: 0.6990, Train Loss: 0.6518, Test Loss: 0.6458\n",
      "Epoch: 070, Train Acc: 0.5786, Test Acc: 0.6303, Train Loss: 0.6722, Test Loss: 0.6562\n",
      "Epoch: 080, Train Acc: 0.5250, Test Acc: 0.5087, Train Loss: 0.6709, Test Loss: 0.6837\n",
      "Epoch: 090, Train Acc: 0.6290, Test Acc: 0.6503, Train Loss: 0.6395, Test Loss: 0.6304\n",
      "Epoch: 100, Train Acc: 0.6709, Test Acc: 0.6753, Train Loss: 0.6126, Test Loss: 0.6062\n",
      "Epoch: 110, Train Acc: 0.7296, Test Acc: 0.7063, Train Loss: 0.5970, Test Loss: 0.6009\n",
      "Epoch: 120, Train Acc: 0.7153, Test Acc: 0.6950, Train Loss: 0.5792, Test Loss: 0.5855\n",
      "Epoch: 130, Train Acc: 0.7390, Test Acc: 0.7093, Train Loss: 0.5755, Test Loss: 0.5854\n",
      "Epoch: 140, Train Acc: 0.6681, Test Acc: 0.6700, Train Loss: 0.5948, Test Loss: 0.6028\n",
      "Epoch: 150, Train Acc: 0.5283, Test Acc: 0.5073, Train Loss: 0.6434, Test Loss: 0.6940\n",
      "Epoch: 160, Train Acc: 0.7203, Test Acc: 0.6913, Train Loss: 0.5393, Test Loss: 0.5686\n",
      "Epoch: 170, Train Acc: 0.7726, Test Acc: 0.7317, Train Loss: 0.4999, Test Loss: 0.5422\n",
      "Epoch: 180, Train Acc: 0.7936, Test Acc: 0.7490, Train Loss: 0.4956, Test Loss: 0.5420\n",
      "Epoch: 190, Train Acc: 0.7410, Test Acc: 0.7173, Train Loss: 0.5130, Test Loss: 0.5525\n",
      "Epoch: 200, Train Acc: 0.7969, Test Acc: 0.7387, Train Loss: 0.4944, Test Loss: 0.5635\n",
      "Epoch: 210, Train Acc: 0.7951, Test Acc: 0.7307, Train Loss: 0.4928, Test Loss: 0.5681\n",
      "Epoch: 220, Train Acc: 0.7749, Test Acc: 0.7330, Train Loss: 0.4612, Test Loss: 0.5283\n",
      "Epoch: 230, Train Acc: 0.7396, Test Acc: 0.7143, Train Loss: 0.5185, Test Loss: 0.5863\n",
      "Epoch: 240, Train Acc: 0.7543, Test Acc: 0.7253, Train Loss: 0.4953, Test Loss: 0.5707\n",
      "20 epochs passed without 0 test loss improvement. \n",
      "Early stopping triggered.\n"
     ]
    },
    {
     "data": {
      "text/html": [
       "<style>\n",
       "    table.wandb td:nth-child(1) { padding: 0 10px; text-align: left ; width: auto;} td:nth-child(2) {text-align: left ; width: 100%}\n",
       "    .wandb-row { display: flex; flex-direction: row; flex-wrap: wrap; justify-content: flex-start; width: 100% }\n",
       "    .wandb-col { display: flex; flex-direction: column; flex-basis: 100%; flex: 1; padding: 10px; }\n",
       "    </style>\n",
       "<div class=\"wandb-row\"><div class=\"wandb-col\"><h3>Run history:</h3><br/><table class=\"wandb\"><tr><td>Test Accuracy</td><td>▄▂▂▆▆▂▃▆▆▇▁▅▄▇▅▅▆▁▁▆▆▇▆▆▆▆▂▂██▇▇▇▇▇▂██▇█</td></tr><tr><td>Test F1</td><td>▄▇▁▇▇▇▃▆▇▇▇▅▄▇▆▅▆▇▇▇▇█▆▆▆▆▇▇██▇█▇█▇▇██▇█</td></tr><tr><td>Test Loss</td><td>▅▅▅▅▅▅▅▄▄▄▄▄▅▃▄▅▃▄▃▃▃▃▃▃▃▃█▅▂▂▂▂▂▂▁▅▁▂▂▃</td></tr><tr><td>Test Sensitivity</td><td>▃█▁▅▅█▂▄▆▅▇▃▃▆▄▃▄▇▇▅▅▇▄▄▄▄██▆▆▅▇▅▇▅█▆▆▅▇</td></tr><tr><td>Test Specificity</td><td>█▁█▇▆▁█▇▆▇▂██▇██▇▂▂▇▇▅███▇▁▁▇▇▇▆▇▅▇▁▇▆▇▆</td></tr><tr><td>Train Accuracy</td><td>▂▂▁▅▆▂▂▅▆▆▂▃▃▆▄▃▅▂▂▆▆▇▅▅▅▆▂▂▇█▆█▇▇▇▂██▇█</td></tr><tr><td>Train F1</td><td>▃▇▁▆▇▇▂▆▇▇▆▄▃▇▅▄▅▇▇▇▇█▆▆▆▆▇▇██▇█▇█▇▇██▇█</td></tr><tr><td>Train Loss</td><td>▇▇▇▇▆▆▇▆▆▆▆▆▇▅▆▇▅▅▅▄▄▄▅▅▄▄█▅▃▂▃▃▃▂▂▄▁▁▂▂</td></tr><tr><td>Train Sensitivity</td><td>▂█▁▄▅█▁▄▆▅▇▂▂▆▃▂▄▇▇▅▅▇▄▄▄▄██▆▆▅▇▅▇▆█▆▇▅▇</td></tr><tr><td>Train Specificity</td><td>█▁█▇▇▁█▇▆▇▂██▇███▂▂▇▇▆████▁▁▇▇█▆█▆▇▁▇▇█▆</td></tr></table><br/></div><div class=\"wandb-col\"><h3>Run summary:</h3><br/><table class=\"wandb\"><tr><td>Test Accuracy</td><td>0.75</td></tr><tr><td>Test F1</td><td>0.77692</td></tr><tr><td>Test Loss</td><td>0.58203</td></tr><tr><td>Test Sensitivity</td><td>0.85192</td></tr><tr><td>Test Specificity</td><td>0.64349</td></tr><tr><td>Train Accuracy</td><td>0.81029</td></tr><tr><td>Train F1</td><td>0.83429</td></tr><tr><td>Train Loss</td><td>0.45824</td></tr><tr><td>Train Sensitivity</td><td>0.90719</td></tr><tr><td>Train Specificity</td><td>0.70256</td></tr></table><br/></div></div>"
      ],
      "text/plain": [
       "<IPython.core.display.HTML object>"
      ]
     },
     "metadata": {},
     "output_type": "display_data"
    },
    {
     "data": {
      "text/html": [
       " View run <strong style=\"color:#cdcd00\">decent-sweep-42</strong> at: <a href='https://wandb.ai/dylan-home/pnca-sweep-1/runs/y7krc3n4' target=\"_blank\">https://wandb.ai/dylan-home/pnca-sweep-1/runs/y7krc3n4</a><br/>Synced 5 W&B file(s), 0 media file(s), 0 artifact file(s) and 0 other file(s)"
      ],
      "text/plain": [
       "<IPython.core.display.HTML object>"
      ]
     },
     "metadata": {},
     "output_type": "display_data"
    },
    {
     "data": {
      "text/html": [
       "Find logs at: <code>./wandb/run-20250116_025352-y7krc3n4/logs</code>"
      ],
      "text/plain": [
       "<IPython.core.display.HTML object>"
      ]
     },
     "metadata": {},
     "output_type": "display_data"
    },
    {
     "name": "stderr",
     "output_type": "stream",
     "text": [
      "\u001b[34m\u001b[1mwandb\u001b[0m: Agent Starting Run: 5c8vtko7 with config:\n",
      "\u001b[34m\u001b[1mwandb\u001b[0m: \tcutoff_distance: 8.295074744743005\n",
      "\u001b[34m\u001b[1mwandb\u001b[0m: \tdropout: 0.4\n",
      "\u001b[34m\u001b[1mwandb\u001b[0m: \thidden_channels: 384\n",
      "\u001b[34m\u001b[1mwandb\u001b[0m: \tlearning_rate: 0.0006828752595805282\n",
      "\u001b[34m\u001b[1mwandb\u001b[0m: \tweight_decay: 0.000606555868208362\n",
      "Failed to detect the name of this notebook, you can set it manually with the WANDB_NOTEBOOK_NAME environment variable to enable code saving.\n",
      "/usr/lib/python3/dist-packages/requests/__init__.py:87: RequestsDependencyWarning: urllib3 (2.2.3) or chardet (4.0.0) doesn't match a supported version!\n",
      "  warnings.warn(\"urllib3 ({}) or chardet ({}) doesn't match a supported \"\n"
     ]
    },
    {
     "data": {
      "text/html": [
       "wandb version 0.19.3 is available!  To upgrade, please run:\n",
       " $ pip install wandb --upgrade"
      ],
      "text/plain": [
       "<IPython.core.display.HTML object>"
      ]
     },
     "metadata": {},
     "output_type": "display_data"
    },
    {
     "data": {
      "text/html": [
       "Tracking run with wandb version 0.16.4"
      ],
      "text/plain": [
       "<IPython.core.display.HTML object>"
      ]
     },
     "metadata": {},
     "output_type": "display_data"
    },
    {
     "data": {
      "text/html": [
       "Run data is saved locally in <code>/mnt/alphafold-volume-1/dylan2/repos/tb-pnca-gnn/dd_pnca/wandb/run-20250116_030326-5c8vtko7</code>"
      ],
      "text/plain": [
       "<IPython.core.display.HTML object>"
      ]
     },
     "metadata": {},
     "output_type": "display_data"
    },
    {
     "data": {
      "text/html": [
       "Syncing run <strong><a href='https://wandb.ai/dylan-home/pnca-sweep-1/runs/5c8vtko7' target=\"_blank\">drawn-sweep-43</a></strong> to <a href='https://wandb.ai/dylan-home/pnca-sweep-1' target=\"_blank\">Weights & Biases</a> (<a href='https://wandb.me/run' target=\"_blank\">docs</a>)<br/>Sweep page: <a href='https://wandb.ai/dylan-home/pnca-sweep-1/sweeps/tr8mwg42' target=\"_blank\">https://wandb.ai/dylan-home/pnca-sweep-1/sweeps/tr8mwg42</a>"
      ],
      "text/plain": [
       "<IPython.core.display.HTML object>"
      ]
     },
     "metadata": {},
     "output_type": "display_data"
    },
    {
     "data": {
      "text/html": [
       " View project at <a href='https://wandb.ai/dylan-home/pnca-sweep-1' target=\"_blank\">https://wandb.ai/dylan-home/pnca-sweep-1</a>"
      ],
      "text/plain": [
       "<IPython.core.display.HTML object>"
      ]
     },
     "metadata": {},
     "output_type": "display_data"
    },
    {
     "data": {
      "text/html": [
       " View sweep at <a href='https://wandb.ai/dylan-home/pnca-sweep-1/sweeps/tr8mwg42' target=\"_blank\">https://wandb.ai/dylan-home/pnca-sweep-1/sweeps/tr8mwg42</a>"
      ],
      "text/plain": [
       "<IPython.core.display.HTML object>"
      ]
     },
     "metadata": {},
     "output_type": "display_data"
    },
    {
     "data": {
      "text/html": [
       " View run at <a href='https://wandb.ai/dylan-home/pnca-sweep-1/runs/5c8vtko7' target=\"_blank\">https://wandb.ai/dylan-home/pnca-sweep-1/runs/5c8vtko7</a>"
      ],
      "text/plain": [
       "<IPython.core.display.HTML object>"
      ]
     },
     "metadata": {},
     "output_type": "display_data"
    },
    {
     "name": "stdout",
     "output_type": "stream",
     "text": [
      "Using CUDA\n",
      "Early stopping enabled. Patience: 20. Min Delta: 0.\n",
      "Epoch: 010, Train Acc: 0.5264, Test Acc: 0.5110, Train Loss: 0.6915, Test Loss: 0.6927\n",
      "Epoch: 020, Train Acc: 0.5264, Test Acc: 0.5110, Train Loss: 0.6911, Test Loss: 0.6926\n",
      "Epoch: 030, Train Acc: 0.5264, Test Acc: 0.5110, Train Loss: 0.6900, Test Loss: 0.6921\n",
      "Epoch: 040, Train Acc: 0.5264, Test Acc: 0.5110, Train Loss: 0.6911, Test Loss: 0.6921\n",
      "Epoch: 050, Train Acc: 0.5264, Test Acc: 0.5110, Train Loss: 0.6882, Test Loss: 0.6904\n",
      "Epoch: 060, Train Acc: 0.5257, Test Acc: 0.5110, Train Loss: 0.6873, Test Loss: 0.6893\n",
      "Epoch: 070, Train Acc: 0.5261, Test Acc: 0.5110, Train Loss: 0.6763, Test Loss: 0.6797\n",
      "Epoch: 080, Train Acc: 0.5194, Test Acc: 0.5023, Train Loss: 0.6703, Test Loss: 0.6751\n",
      "Epoch: 090, Train Acc: 0.5264, Test Acc: 0.5110, Train Loss: 0.6797, Test Loss: 0.6849\n",
      "Epoch: 100, Train Acc: 0.5277, Test Acc: 0.5277, Train Loss: 0.6868, Test Loss: 0.6920\n",
      "Epoch: 110, Train Acc: 0.5296, Test Acc: 0.5317, Train Loss: 0.6871, Test Loss: 0.6879\n",
      "Epoch: 120, Train Acc: 0.5474, Test Acc: 0.5570, Train Loss: 0.6769, Test Loss: 0.6800\n",
      "20 epochs passed without 0 test loss improvement. \n",
      "Early stopping triggered.\n"
     ]
    },
    {
     "data": {
      "text/html": [
       "<style>\n",
       "    table.wandb td:nth-child(1) { padding: 0 10px; text-align: left ; width: auto;} td:nth-child(2) {text-align: left ; width: 100%}\n",
       "    .wandb-row { display: flex; flex-direction: row; flex-wrap: wrap; justify-content: flex-start; width: 100% }\n",
       "    .wandb-col { display: flex; flex-direction: column; flex-basis: 100%; flex: 1; padding: 10px; }\n",
       "    </style>\n",
       "<div class=\"wandb-row\"><div class=\"wandb-col\"><h3>Run history:</h3><br/><table class=\"wandb\"><tr><td>Test Accuracy</td><td>▁▂▂▂▂▂▂▂▂▂▂▂▂▂▂▂▂▂▂▂▂█▅▇▂▁▂▂▂▂▂▂▂▂▁▂▂▆█▇</td></tr><tr><td>Test F1</td><td>▁█████████████████████▅▆█████████▂███▆█▇</td></tr><tr><td>Test Loss</td><td>█▃▃▃▃▃▃▃▃▃▃▃▃▃▃▃▃▄▃▃▃▃▃▂▅▃▃▂▁▃▂▃▁▄▂▃▂▂▁▁</td></tr><tr><td>Test Sensitivity</td><td>▁████████████████████▅▃▄█████████▁███▄▆▄</td></tr><tr><td>Test Specificity</td><td>█▁▁▁▁▁▁▁▁▁▁▁▁▁▁▁▁▁▁▁▁▆██▁▁▁▁▁▁▁▁▁█▁▁▁▇▆▇</td></tr><tr><td>Train Accuracy</td><td>▁▃▃▃▃▃▃▃▃▃▃▃▃▃▃▃▃▃▃▃▂█▅▆▃▂▃▃▂▃▃▃▃▂▂▃▂▆█▇</td></tr><tr><td>Train F1</td><td>▁█████████████████████▅▆█████████▃███▆█▇</td></tr><tr><td>Train Loss</td><td>█▃▃▃▃▃▃▃▃▃▃▃▃▃▃▃▃▃▃▃▃▃▃▂▄▃▃▂▁▃▂▃▁▄▂▃▂▂▁▁</td></tr><tr><td>Train Sensitivity</td><td>▁████████████████████▅▃▄█████████▂███▃▆▅</td></tr><tr><td>Train Specificity</td><td>█▁▁▁▁▁▁▁▁▁▁▁▁▁▁▁▁▁▁▁▁▇██▁▁▁▁▁▁▁▁▁█▁▁▁▇▆▇</td></tr></table><br/></div><div class=\"wandb-col\"><h3>Run summary:</h3><br/><table class=\"wandb\"><tr><td>Test Accuracy</td><td>0.645</td></tr><tr><td>Test F1</td><td>0.57855</td></tr><tr><td>Test Loss</td><td>0.6562</td></tr><tr><td>Test Sensitivity</td><td>0.47684</td></tr><tr><td>Test Specificity</td><td>0.82072</td></tr><tr><td>Train Accuracy</td><td>0.68971</td></tr><tr><td>Train F1</td><td>0.63606</td></tr><tr><td>Train Loss</td><td>0.65339</td></tr><tr><td>Train Sensitivity</td><td>0.51506</td></tr><tr><td>Train Specificity</td><td>0.88386</td></tr></table><br/></div></div>"
      ],
      "text/plain": [
       "<IPython.core.display.HTML object>"
      ]
     },
     "metadata": {},
     "output_type": "display_data"
    },
    {
     "data": {
      "text/html": [
       " View run <strong style=\"color:#cdcd00\">drawn-sweep-43</strong> at: <a href='https://wandb.ai/dylan-home/pnca-sweep-1/runs/5c8vtko7' target=\"_blank\">https://wandb.ai/dylan-home/pnca-sweep-1/runs/5c8vtko7</a><br/>Synced 5 W&B file(s), 0 media file(s), 0 artifact file(s) and 0 other file(s)"
      ],
      "text/plain": [
       "<IPython.core.display.HTML object>"
      ]
     },
     "metadata": {},
     "output_type": "display_data"
    },
    {
     "data": {
      "text/html": [
       "Find logs at: <code>./wandb/run-20250116_030326-5c8vtko7/logs</code>"
      ],
      "text/plain": [
       "<IPython.core.display.HTML object>"
      ]
     },
     "metadata": {},
     "output_type": "display_data"
    },
    {
     "name": "stderr",
     "output_type": "stream",
     "text": [
      "\u001b[34m\u001b[1mwandb\u001b[0m: Agent Starting Run: 9abmjgu0 with config:\n",
      "\u001b[34m\u001b[1mwandb\u001b[0m: \tcutoff_distance: 7.907418345713108\n",
      "\u001b[34m\u001b[1mwandb\u001b[0m: \tdropout: 0.4\n",
      "\u001b[34m\u001b[1mwandb\u001b[0m: \thidden_channels: 64\n",
      "\u001b[34m\u001b[1mwandb\u001b[0m: \tlearning_rate: 0.00510989382408176\n",
      "\u001b[34m\u001b[1mwandb\u001b[0m: \tweight_decay: 4.45679432696171e-05\n",
      "Failed to detect the name of this notebook, you can set it manually with the WANDB_NOTEBOOK_NAME environment variable to enable code saving.\n",
      "/usr/lib/python3/dist-packages/requests/__init__.py:87: RequestsDependencyWarning: urllib3 (2.2.3) or chardet (4.0.0) doesn't match a supported version!\n",
      "  warnings.warn(\"urllib3 ({}) or chardet ({}) doesn't match a supported \"\n"
     ]
    },
    {
     "data": {
      "text/html": [
       "wandb version 0.19.3 is available!  To upgrade, please run:\n",
       " $ pip install wandb --upgrade"
      ],
      "text/plain": [
       "<IPython.core.display.HTML object>"
      ]
     },
     "metadata": {},
     "output_type": "display_data"
    },
    {
     "data": {
      "text/html": [
       "Tracking run with wandb version 0.16.4"
      ],
      "text/plain": [
       "<IPython.core.display.HTML object>"
      ]
     },
     "metadata": {},
     "output_type": "display_data"
    },
    {
     "data": {
      "text/html": [
       "Run data is saved locally in <code>/mnt/alphafold-volume-1/dylan2/repos/tb-pnca-gnn/dd_pnca/wandb/run-20250116_030828-9abmjgu0</code>"
      ],
      "text/plain": [
       "<IPython.core.display.HTML object>"
      ]
     },
     "metadata": {},
     "output_type": "display_data"
    },
    {
     "data": {
      "text/html": [
       "Syncing run <strong><a href='https://wandb.ai/dylan-home/pnca-sweep-1/runs/9abmjgu0' target=\"_blank\">radiant-sweep-44</a></strong> to <a href='https://wandb.ai/dylan-home/pnca-sweep-1' target=\"_blank\">Weights & Biases</a> (<a href='https://wandb.me/run' target=\"_blank\">docs</a>)<br/>Sweep page: <a href='https://wandb.ai/dylan-home/pnca-sweep-1/sweeps/tr8mwg42' target=\"_blank\">https://wandb.ai/dylan-home/pnca-sweep-1/sweeps/tr8mwg42</a>"
      ],
      "text/plain": [
       "<IPython.core.display.HTML object>"
      ]
     },
     "metadata": {},
     "output_type": "display_data"
    },
    {
     "data": {
      "text/html": [
       " View project at <a href='https://wandb.ai/dylan-home/pnca-sweep-1' target=\"_blank\">https://wandb.ai/dylan-home/pnca-sweep-1</a>"
      ],
      "text/plain": [
       "<IPython.core.display.HTML object>"
      ]
     },
     "metadata": {},
     "output_type": "display_data"
    },
    {
     "data": {
      "text/html": [
       " View sweep at <a href='https://wandb.ai/dylan-home/pnca-sweep-1/sweeps/tr8mwg42' target=\"_blank\">https://wandb.ai/dylan-home/pnca-sweep-1/sweeps/tr8mwg42</a>"
      ],
      "text/plain": [
       "<IPython.core.display.HTML object>"
      ]
     },
     "metadata": {},
     "output_type": "display_data"
    },
    {
     "data": {
      "text/html": [
       " View run at <a href='https://wandb.ai/dylan-home/pnca-sweep-1/runs/9abmjgu0' target=\"_blank\">https://wandb.ai/dylan-home/pnca-sweep-1/runs/9abmjgu0</a>"
      ],
      "text/plain": [
       "<IPython.core.display.HTML object>"
      ]
     },
     "metadata": {},
     "output_type": "display_data"
    },
    {
     "name": "stdout",
     "output_type": "stream",
     "text": [
      "Using CUDA\n",
      "Early stopping enabled. Patience: 20. Min Delta: 0.\n",
      "Epoch: 010, Train Acc: 0.5264, Test Acc: 0.5110, Train Loss: 0.6921, Test Loss: 0.6936\n",
      "Epoch: 020, Train Acc: 0.5264, Test Acc: 0.5110, Train Loss: 0.6917, Test Loss: 0.6934\n",
      "Epoch: 030, Train Acc: 0.5264, Test Acc: 0.5110, Train Loss: 0.6918, Test Loss: 0.6935\n",
      "Epoch: 040, Train Acc: 0.5264, Test Acc: 0.5110, Train Loss: 0.6918, Test Loss: 0.6936\n",
      "20 epochs passed without 0 test loss improvement. \n",
      "Early stopping triggered.\n"
     ]
    },
    {
     "data": {
      "text/html": [
       "<style>\n",
       "    table.wandb td:nth-child(1) { padding: 0 10px; text-align: left ; width: auto;} td:nth-child(2) {text-align: left ; width: 100%}\n",
       "    .wandb-row { display: flex; flex-direction: row; flex-wrap: wrap; justify-content: flex-start; width: 100% }\n",
       "    .wandb-col { display: flex; flex-direction: column; flex-basis: 100%; flex: 1; padding: 10px; }\n",
       "    </style>\n",
       "<div class=\"wandb-row\"><div class=\"wandb-col\"><h3>Run history:</h3><br/><table class=\"wandb\"><tr><td>Test Accuracy</td><td>▁▁▁▁▁▁▁▁▁▁▁▁▁▁▁▁▁▁▁▁▁▁▁▁▁▁▁▁▁▁▁▁▁▁▁▁▁▁▁▁</td></tr><tr><td>Test F1</td><td>▁▁▁▁▁▁▁▁▁▁▁▁▁▁▁▁▁▁▁▁▁▁▁▁▁▁▁▁▁▁▁▁▁▁▁▁▁▁▁▁</td></tr><tr><td>Test Loss</td><td>█▁▂▁▁▁▁▁▁▂▁▁▁▂▁▁▁▁▁▁▁▁▁▁▁▁▁▁▁▁▁▁▁▁▁▂▂▁▂▁</td></tr><tr><td>Test Sensitivity</td><td>▁▁▁▁▁▁▁▁▁▁▁▁▁▁▁▁▁▁▁▁▁▁▁▁▁▁▁▁▁▁▁▁▁▁▁▁▁▁▁▁</td></tr><tr><td>Test Specificity</td><td>▁▁▁▁▁▁▁▁▁▁▁▁▁▁▁▁▁▁▁▁▁▁▁▁▁▁▁▁▁▁▁▁▁▁▁▁▁▁▁▁</td></tr><tr><td>Train Accuracy</td><td>▁▁▁▁▁▁▁▁▁▁▁▁▁▁▁▁▁▁▁▁▁▁▁▁▁▁▁▁▁▁▁▁▁▁▁▁▁▁▁▁</td></tr><tr><td>Train F1</td><td>▁▁▁▁▁▁▁▁▁▁▁▁▁▁▁▁▁▁▁▁▁▁▁▁▁▁▁▁▁▁▁▁▁▁▁▁▁▁▁▁</td></tr><tr><td>Train Loss</td><td>█▂▁▂▂▁▁▁▂▂▁▂▂▁▁▂▂▂▁▁▁▁▂▁▁▁▁▁▂▁▁▁▂▂▁▁▂▂▂▁</td></tr><tr><td>Train Sensitivity</td><td>▁▁▁▁▁▁▁▁▁▁▁▁▁▁▁▁▁▁▁▁▁▁▁▁▁▁▁▁▁▁▁▁▁▁▁▁▁▁▁▁</td></tr><tr><td>Train Specificity</td><td>▁▁▁▁▁▁▁▁▁▁▁▁▁▁▁▁▁▁▁▁▁▁▁▁▁▁▁▁▁▁▁▁▁▁▁▁▁▁▁▁</td></tr></table><br/></div><div class=\"wandb-col\"><h3>Run summary:</h3><br/><table class=\"wandb\"><tr><td>Test Accuracy</td><td>0.511</td></tr><tr><td>Test F1</td><td>0.67637</td></tr><tr><td>Test Loss</td><td>0.6934</td></tr><tr><td>Test Sensitivity</td><td>1.0</td></tr><tr><td>Test Specificity</td><td>0.0</td></tr><tr><td>Train Accuracy</td><td>0.52643</td></tr><tr><td>Train F1</td><td>0.68975</td></tr><tr><td>Train Loss</td><td>0.69165</td></tr><tr><td>Train Sensitivity</td><td>1.0</td></tr><tr><td>Train Specificity</td><td>0.0</td></tr></table><br/></div></div>"
      ],
      "text/plain": [
       "<IPython.core.display.HTML object>"
      ]
     },
     "metadata": {},
     "output_type": "display_data"
    },
    {
     "data": {
      "text/html": [
       " View run <strong style=\"color:#cdcd00\">radiant-sweep-44</strong> at: <a href='https://wandb.ai/dylan-home/pnca-sweep-1/runs/9abmjgu0' target=\"_blank\">https://wandb.ai/dylan-home/pnca-sweep-1/runs/9abmjgu0</a><br/>Synced 5 W&B file(s), 0 media file(s), 0 artifact file(s) and 0 other file(s)"
      ],
      "text/plain": [
       "<IPython.core.display.HTML object>"
      ]
     },
     "metadata": {},
     "output_type": "display_data"
    },
    {
     "data": {
      "text/html": [
       "Find logs at: <code>./wandb/run-20250116_030828-9abmjgu0/logs</code>"
      ],
      "text/plain": [
       "<IPython.core.display.HTML object>"
      ]
     },
     "metadata": {},
     "output_type": "display_data"
    },
    {
     "name": "stderr",
     "output_type": "stream",
     "text": [
      "\u001b[34m\u001b[1mwandb\u001b[0m: Agent Starting Run: qds6n6v8 with config:\n",
      "\u001b[34m\u001b[1mwandb\u001b[0m: \tcutoff_distance: 5.60088399805764\n",
      "\u001b[34m\u001b[1mwandb\u001b[0m: \tdropout: 0.8\n",
      "\u001b[34m\u001b[1mwandb\u001b[0m: \thidden_channels: 384\n",
      "\u001b[34m\u001b[1mwandb\u001b[0m: \tlearning_rate: 6.528886055687826e-05\n",
      "\u001b[34m\u001b[1mwandb\u001b[0m: \tweight_decay: 0.0004166791661250775\n",
      "Failed to detect the name of this notebook, you can set it manually with the WANDB_NOTEBOOK_NAME environment variable to enable code saving.\n",
      "/usr/lib/python3/dist-packages/requests/__init__.py:87: RequestsDependencyWarning: urllib3 (2.2.3) or chardet (4.0.0) doesn't match a supported version!\n",
      "  warnings.warn(\"urllib3 ({}) or chardet ({}) doesn't match a supported \"\n"
     ]
    },
    {
     "data": {
      "text/html": [
       "wandb version 0.19.3 is available!  To upgrade, please run:\n",
       " $ pip install wandb --upgrade"
      ],
      "text/plain": [
       "<IPython.core.display.HTML object>"
      ]
     },
     "metadata": {},
     "output_type": "display_data"
    },
    {
     "data": {
      "text/html": [
       "Tracking run with wandb version 0.16.4"
      ],
      "text/plain": [
       "<IPython.core.display.HTML object>"
      ]
     },
     "metadata": {},
     "output_type": "display_data"
    },
    {
     "data": {
      "text/html": [
       "Run data is saved locally in <code>/mnt/alphafold-volume-1/dylan2/repos/tb-pnca-gnn/dd_pnca/wandb/run-20250116_030950-qds6n6v8</code>"
      ],
      "text/plain": [
       "<IPython.core.display.HTML object>"
      ]
     },
     "metadata": {},
     "output_type": "display_data"
    },
    {
     "data": {
      "text/html": [
       "Syncing run <strong><a href='https://wandb.ai/dylan-home/pnca-sweep-1/runs/qds6n6v8' target=\"_blank\">blooming-sweep-45</a></strong> to <a href='https://wandb.ai/dylan-home/pnca-sweep-1' target=\"_blank\">Weights & Biases</a> (<a href='https://wandb.me/run' target=\"_blank\">docs</a>)<br/>Sweep page: <a href='https://wandb.ai/dylan-home/pnca-sweep-1/sweeps/tr8mwg42' target=\"_blank\">https://wandb.ai/dylan-home/pnca-sweep-1/sweeps/tr8mwg42</a>"
      ],
      "text/plain": [
       "<IPython.core.display.HTML object>"
      ]
     },
     "metadata": {},
     "output_type": "display_data"
    },
    {
     "data": {
      "text/html": [
       " View project at <a href='https://wandb.ai/dylan-home/pnca-sweep-1' target=\"_blank\">https://wandb.ai/dylan-home/pnca-sweep-1</a>"
      ],
      "text/plain": [
       "<IPython.core.display.HTML object>"
      ]
     },
     "metadata": {},
     "output_type": "display_data"
    },
    {
     "data": {
      "text/html": [
       " View sweep at <a href='https://wandb.ai/dylan-home/pnca-sweep-1/sweeps/tr8mwg42' target=\"_blank\">https://wandb.ai/dylan-home/pnca-sweep-1/sweeps/tr8mwg42</a>"
      ],
      "text/plain": [
       "<IPython.core.display.HTML object>"
      ]
     },
     "metadata": {},
     "output_type": "display_data"
    },
    {
     "data": {
      "text/html": [
       " View run at <a href='https://wandb.ai/dylan-home/pnca-sweep-1/runs/qds6n6v8' target=\"_blank\">https://wandb.ai/dylan-home/pnca-sweep-1/runs/qds6n6v8</a>"
      ],
      "text/plain": [
       "<IPython.core.display.HTML object>"
      ]
     },
     "metadata": {},
     "output_type": "display_data"
    },
    {
     "name": "stdout",
     "output_type": "stream",
     "text": [
      "Using CUDA\n",
      "Early stopping enabled. Patience: 20. Min Delta: 0.\n",
      "Epoch: 010, Train Acc: 0.5133, Test Acc: 0.4997, Train Loss: 0.6892, Test Loss: 0.6895\n",
      "Epoch: 020, Train Acc: 0.5264, Test Acc: 0.5110, Train Loss: 0.6980, Test Loss: 0.7028\n",
      "Epoch: 030, Train Acc: 0.4814, Test Acc: 0.4620, Train Loss: 0.6835, Test Loss: 0.6795\n",
      "Epoch: 040, Train Acc: 0.6144, Test Acc: 0.6527, Train Loss: 0.6840, Test Loss: 0.6768\n",
      "Epoch: 050, Train Acc: 0.6259, Test Acc: 0.6630, Train Loss: 0.6821, Test Loss: 0.6741\n",
      "Epoch: 060, Train Acc: 0.4730, Test Acc: 0.4593, Train Loss: 0.6770, Test Loss: 0.6704\n",
      "Epoch: 070, Train Acc: 0.5071, Test Acc: 0.4890, Train Loss: 0.6756, Test Loss: 0.6711\n",
      "Epoch: 080, Train Acc: 0.4867, Test Acc: 0.4753, Train Loss: 0.6714, Test Loss: 0.6653\n",
      "Epoch: 090, Train Acc: 0.4841, Test Acc: 0.4703, Train Loss: 0.6690, Test Loss: 0.6621\n",
      "Epoch: 100, Train Acc: 0.6810, Test Acc: 0.6743, Train Loss: 0.6669, Test Loss: 0.6558\n",
      "Epoch: 110, Train Acc: 0.5821, Test Acc: 0.6443, Train Loss: 0.6762, Test Loss: 0.6590\n",
      "Epoch: 120, Train Acc: 0.5259, Test Acc: 0.5110, Train Loss: 0.6923, Test Loss: 0.6946\n",
      "Epoch: 130, Train Acc: 0.5164, Test Acc: 0.4937, Train Loss: 0.6651, Test Loss: 0.6649\n",
      "Epoch: 140, Train Acc: 0.5040, Test Acc: 0.4853, Train Loss: 0.6580, Test Loss: 0.6546\n",
      "Epoch: 150, Train Acc: 0.6334, Test Acc: 0.6647, Train Loss: 0.6582, Test Loss: 0.6390\n",
      "Epoch: 160, Train Acc: 0.5126, Test Acc: 0.4940, Train Loss: 0.6581, Test Loss: 0.6594\n",
      "Epoch: 170, Train Acc: 0.7173, Test Acc: 0.6890, Train Loss: 0.6343, Test Loss: 0.6238\n",
      "Epoch: 180, Train Acc: 0.7141, Test Acc: 0.6963, Train Loss: 0.6273, Test Loss: 0.6170\n",
      "Epoch: 190, Train Acc: 0.5837, Test Acc: 0.6520, Train Loss: 0.6727, Test Loss: 0.6447\n",
      "Epoch: 200, Train Acc: 0.7416, Test Acc: 0.6977, Train Loss: 0.6100, Test Loss: 0.6054\n",
      "Epoch: 210, Train Acc: 0.5246, Test Acc: 0.5077, Train Loss: 0.6993, Test Loss: 0.7241\n",
      "Epoch: 220, Train Acc: 0.6660, Test Acc: 0.6773, Train Loss: 0.6219, Test Loss: 0.6032\n",
      "Epoch: 230, Train Acc: 0.5276, Test Acc: 0.5063, Train Loss: 0.5988, Test Loss: 0.6169\n",
      "Epoch: 240, Train Acc: 0.7281, Test Acc: 0.7160, Train Loss: 0.5764, Test Loss: 0.5755\n",
      "Epoch: 250, Train Acc: 0.7543, Test Acc: 0.7220, Train Loss: 0.5605, Test Loss: 0.5692\n",
      "Epoch: 260, Train Acc: 0.7687, Test Acc: 0.7223, Train Loss: 0.5482, Test Loss: 0.5659\n",
      "Epoch: 270, Train Acc: 0.7651, Test Acc: 0.7213, Train Loss: 0.5495, Test Loss: 0.5805\n",
      "Epoch: 280, Train Acc: 0.7633, Test Acc: 0.7117, Train Loss: 0.5508, Test Loss: 0.5934\n",
      "Epoch: 290, Train Acc: 0.7574, Test Acc: 0.7293, Train Loss: 0.5245, Test Loss: 0.5484\n",
      "Epoch: 300, Train Acc: 0.7907, Test Acc: 0.7410, Train Loss: 0.5098, Test Loss: 0.5544\n",
      "Epoch: 310, Train Acc: 0.7041, Test Acc: 0.7137, Train Loss: 0.5720, Test Loss: 0.5852\n",
      "Epoch: 320, Train Acc: 0.7914, Test Acc: 0.7300, Train Loss: 0.5015, Test Loss: 0.5671\n",
      "Epoch: 330, Train Acc: 0.7260, Test Acc: 0.7197, Train Loss: 0.5364, Test Loss: 0.5673\n",
      "Epoch: 340, Train Acc: 0.7789, Test Acc: 0.7170, Train Loss: 0.5109, Test Loss: 0.6044\n",
      "Epoch: 350, Train Acc: 0.7714, Test Acc: 0.7320, Train Loss: 0.4779, Test Loss: 0.5398\n",
      "Epoch: 360, Train Acc: 0.8041, Test Acc: 0.7340, Train Loss: 0.4735, Test Loss: 0.5798\n",
      "Epoch: 370, Train Acc: 0.7636, Test Acc: 0.7337, Train Loss: 0.4745, Test Loss: 0.5425\n",
      "Epoch: 380, Train Acc: 0.8189, Test Acc: 0.7317, Train Loss: 0.4399, Test Loss: 0.5520\n",
      "20 epochs passed without 0 test loss improvement. \n",
      "Early stopping triggered.\n"
     ]
    },
    {
     "data": {
      "text/html": [
       "<style>\n",
       "    table.wandb td:nth-child(1) { padding: 0 10px; text-align: left ; width: auto;} td:nth-child(2) {text-align: left ; width: 100%}\n",
       "    .wandb-row { display: flex; flex-direction: row; flex-wrap: wrap; justify-content: flex-start; width: 100% }\n",
       "    .wandb-col { display: flex; flex-direction: column; flex-basis: 100%; flex: 1; padding: 10px; }\n",
       "    </style>\n",
       "<div class=\"wandb-row\"><div class=\"wandb-col\"><h3>Run history:</h3><br/><table class=\"wandb\"><tr><td>Test Accuracy</td><td>▂▆▂▂▆▁▁▁▁▅▆▂▂▂▂▆▂▂▂▆▂▇▇▇▇▂▂▂█▇█▇████▂███</td></tr><tr><td>Test F1</td><td>▁▇▇▇▆▇▆▇▇▆▇▇▇▇▇▇▇▇▇▇▇▇▇▇▇▇▇▇█▇██▇███▇███</td></tr><tr><td>Test Loss</td><td>█▇█▇▇▆▆▆▆▆▆▆▇▇▆▅▅▅▅▄▆▄▄▃▃▄▄▆▂▂▂▄▂▂▁▁▇▁▃▂</td></tr><tr><td>Test Sensitivity</td><td>▁▅██▄▇▆▇▇▃▅███▇▅▇▆▆▄█▅▆▅▅▇▇█▆▅▆▇▅▆▆▆█▆▇▆</td></tr><tr><td>Test Specificity</td><td>█▆▁▁▇▂▂▁▂█▇▁▁▁▁▇▁▂▂▇▁▇▆▇▇▂▂▁▆▇▆▅▇▆▇▆▁▇▆▆</td></tr><tr><td>Train Accuracy</td><td>▁▅▂▂▄▁▁▁▁▃▅▂▂▂▂▅▂▂▂▅▂▆▆▆▆▂▃▂▇▆▇▇▇▇▇█▃███</td></tr><tr><td>Train F1</td><td>▁▆▇▇▅▆▆▆▆▄▆▇▇▇▇▆▇▆▆▆▇▇▇▇▆▇▇▇▇▇██▇█▇█▇███</td></tr><tr><td>Train Loss</td><td>█▇█▇▇▇▇▇▇▇▇▇▇▇▇▆▆▆▆▆▆▅▅▅▅▅▅▆▃▄▃▄▃▃▂▂▄▁▂▁</td></tr><tr><td>Train Sensitivity</td><td>▁▅██▃▇▆▇▇▃▄███▇▄▇▆▇▄█▅▆▅▄▇▇█▆▅▆▇▅▇▆▆█▆▇▇</td></tr><tr><td>Train Specificity</td><td>█▇▁▁█▁▂▁▁█▇▁▁▁▁▇▁▂▂█▁▇▇██▂▂▁▇█▇▅▇▆▇▇▁▇▆▇</td></tr></table><br/></div><div class=\"wandb-col\"><h3>Run summary:</h3><br/><table class=\"wandb\"><tr><td>Test Accuracy</td><td>0.51333</td></tr><tr><td>Test F1</td><td>0.66421</td></tr><tr><td>Test Loss</td><td>0.69724</td></tr><tr><td>Test Sensitivity</td><td>0.94194</td></tr><tr><td>Test Specificity</td><td>0.06544</td></tr><tr><td>Train Accuracy</td><td>0.55714</td></tr><tr><td>Train F1</td><td>0.69973</td></tr><tr><td>Train Loss</td><td>0.55382</td></tr><tr><td>Train Sensitivity</td><td>0.98019</td></tr><tr><td>Train Specificity</td><td>0.08688</td></tr></table><br/></div></div>"
      ],
      "text/plain": [
       "<IPython.core.display.HTML object>"
      ]
     },
     "metadata": {},
     "output_type": "display_data"
    },
    {
     "data": {
      "text/html": [
       " View run <strong style=\"color:#cdcd00\">blooming-sweep-45</strong> at: <a href='https://wandb.ai/dylan-home/pnca-sweep-1/runs/qds6n6v8' target=\"_blank\">https://wandb.ai/dylan-home/pnca-sweep-1/runs/qds6n6v8</a><br/>Synced 5 W&B file(s), 0 media file(s), 0 artifact file(s) and 0 other file(s)"
      ],
      "text/plain": [
       "<IPython.core.display.HTML object>"
      ]
     },
     "metadata": {},
     "output_type": "display_data"
    },
    {
     "data": {
      "text/html": [
       "Find logs at: <code>./wandb/run-20250116_030950-qds6n6v8/logs</code>"
      ],
      "text/plain": [
       "<IPython.core.display.HTML object>"
      ]
     },
     "metadata": {},
     "output_type": "display_data"
    },
    {
     "name": "stderr",
     "output_type": "stream",
     "text": [
      "\u001b[34m\u001b[1mwandb\u001b[0m: Agent Starting Run: bagxmdl4 with config:\n",
      "\u001b[34m\u001b[1mwandb\u001b[0m: \tcutoff_distance: 8.537872630599793\n",
      "\u001b[34m\u001b[1mwandb\u001b[0m: \tdropout: 0.6\n",
      "\u001b[34m\u001b[1mwandb\u001b[0m: \thidden_channels: 192\n",
      "\u001b[34m\u001b[1mwandb\u001b[0m: \tlearning_rate: 8.295680499117773e-05\n",
      "\u001b[34m\u001b[1mwandb\u001b[0m: \tweight_decay: 3.6659902471706534e-06\n",
      "Failed to detect the name of this notebook, you can set it manually with the WANDB_NOTEBOOK_NAME environment variable to enable code saving.\n",
      "/usr/lib/python3/dist-packages/requests/__init__.py:87: RequestsDependencyWarning: urllib3 (2.2.3) or chardet (4.0.0) doesn't match a supported version!\n",
      "  warnings.warn(\"urllib3 ({}) or chardet ({}) doesn't match a supported \"\n"
     ]
    },
    {
     "data": {
      "text/html": [
       "wandb version 0.19.3 is available!  To upgrade, please run:\n",
       " $ pip install wandb --upgrade"
      ],
      "text/plain": [
       "<IPython.core.display.HTML object>"
      ]
     },
     "metadata": {},
     "output_type": "display_data"
    },
    {
     "data": {
      "text/html": [
       "Tracking run with wandb version 0.16.4"
      ],
      "text/plain": [
       "<IPython.core.display.HTML object>"
      ]
     },
     "metadata": {},
     "output_type": "display_data"
    },
    {
     "data": {
      "text/html": [
       "Run data is saved locally in <code>/mnt/alphafold-volume-1/dylan2/repos/tb-pnca-gnn/dd_pnca/wandb/run-20250116_032538-bagxmdl4</code>"
      ],
      "text/plain": [
       "<IPython.core.display.HTML object>"
      ]
     },
     "metadata": {},
     "output_type": "display_data"
    },
    {
     "data": {
      "text/html": [
       "Syncing run <strong><a href='https://wandb.ai/dylan-home/pnca-sweep-1/runs/bagxmdl4' target=\"_blank\">elated-sweep-46</a></strong> to <a href='https://wandb.ai/dylan-home/pnca-sweep-1' target=\"_blank\">Weights & Biases</a> (<a href='https://wandb.me/run' target=\"_blank\">docs</a>)<br/>Sweep page: <a href='https://wandb.ai/dylan-home/pnca-sweep-1/sweeps/tr8mwg42' target=\"_blank\">https://wandb.ai/dylan-home/pnca-sweep-1/sweeps/tr8mwg42</a>"
      ],
      "text/plain": [
       "<IPython.core.display.HTML object>"
      ]
     },
     "metadata": {},
     "output_type": "display_data"
    },
    {
     "data": {
      "text/html": [
       " View project at <a href='https://wandb.ai/dylan-home/pnca-sweep-1' target=\"_blank\">https://wandb.ai/dylan-home/pnca-sweep-1</a>"
      ],
      "text/plain": [
       "<IPython.core.display.HTML object>"
      ]
     },
     "metadata": {},
     "output_type": "display_data"
    },
    {
     "data": {
      "text/html": [
       " View sweep at <a href='https://wandb.ai/dylan-home/pnca-sweep-1/sweeps/tr8mwg42' target=\"_blank\">https://wandb.ai/dylan-home/pnca-sweep-1/sweeps/tr8mwg42</a>"
      ],
      "text/plain": [
       "<IPython.core.display.HTML object>"
      ]
     },
     "metadata": {},
     "output_type": "display_data"
    },
    {
     "data": {
      "text/html": [
       " View run at <a href='https://wandb.ai/dylan-home/pnca-sweep-1/runs/bagxmdl4' target=\"_blank\">https://wandb.ai/dylan-home/pnca-sweep-1/runs/bagxmdl4</a>"
      ],
      "text/plain": [
       "<IPython.core.display.HTML object>"
      ]
     },
     "metadata": {},
     "output_type": "display_data"
    },
    {
     "name": "stdout",
     "output_type": "stream",
     "text": [
      "Using CUDA\n",
      "Early stopping enabled. Patience: 20. Min Delta: 0.\n",
      "Epoch: 010, Train Acc: 0.4759, Test Acc: 0.4920, Train Loss: 0.6958, Test Loss: 0.6935\n",
      "Epoch: 020, Train Acc: 0.6630, Test Acc: 0.6723, Train Loss: 0.6895, Test Loss: 0.6873\n",
      "Epoch: 030, Train Acc: 0.4774, Test Acc: 0.5027, Train Loss: 0.6988, Test Loss: 0.6921\n",
      "Epoch: 040, Train Acc: 0.4720, Test Acc: 0.4680, Train Loss: 0.6843, Test Loss: 0.6810\n",
      "Epoch: 050, Train Acc: 0.4840, Test Acc: 0.4630, Train Loss: 0.6812, Test Loss: 0.6776\n",
      "Epoch: 060, Train Acc: 0.5187, Test Acc: 0.5020, Train Loss: 0.6789, Test Loss: 0.6774\n",
      "Epoch: 070, Train Acc: 0.6551, Test Acc: 0.6793, Train Loss: 0.6779, Test Loss: 0.6710\n",
      "Epoch: 080, Train Acc: 0.5264, Test Acc: 0.5110, Train Loss: 0.7026, Test Loss: 0.7108\n",
      "Epoch: 090, Train Acc: 0.4956, Test Acc: 0.4867, Train Loss: 0.6678, Test Loss: 0.6646\n",
      "Epoch: 100, Train Acc: 0.5041, Test Acc: 0.4893, Train Loss: 0.6639, Test Loss: 0.6613\n",
      "Epoch: 110, Train Acc: 0.5019, Test Acc: 0.4847, Train Loss: 0.6580, Test Loss: 0.6556\n",
      "Epoch: 120, Train Acc: 0.6980, Test Acc: 0.6957, Train Loss: 0.6512, Test Loss: 0.6431\n",
      "Epoch: 130, Train Acc: 0.5093, Test Acc: 0.4850, Train Loss: 0.6474, Test Loss: 0.6478\n",
      "Epoch: 140, Train Acc: 0.6841, Test Acc: 0.6943, Train Loss: 0.6386, Test Loss: 0.6296\n",
      "Epoch: 150, Train Acc: 0.7201, Test Acc: 0.6997, Train Loss: 0.6246, Test Loss: 0.6202\n",
      "Epoch: 160, Train Acc: 0.5213, Test Acc: 0.4893, Train Loss: 0.6324, Test Loss: 0.6417\n",
      "Epoch: 170, Train Acc: 0.6976, Test Acc: 0.6980, Train Loss: 0.6115, Test Loss: 0.6080\n",
      "Epoch: 180, Train Acc: 0.7319, Test Acc: 0.7083, Train Loss: 0.5985, Test Loss: 0.6000\n",
      "Epoch: 190, Train Acc: 0.7024, Test Acc: 0.7007, Train Loss: 0.5956, Test Loss: 0.5952\n",
      "Epoch: 200, Train Acc: 0.7606, Test Acc: 0.7197, Train Loss: 0.5811, Test Loss: 0.5912\n",
      "Epoch: 210, Train Acc: 0.7464, Test Acc: 0.7153, Train Loss: 0.5638, Test Loss: 0.5737\n",
      "Epoch: 220, Train Acc: 0.7660, Test Acc: 0.6983, Train Loss: 0.5698, Test Loss: 0.5931\n",
      "Epoch: 230, Train Acc: 0.7600, Test Acc: 0.7217, Train Loss: 0.5440, Test Loss: 0.5627\n",
      "Epoch: 240, Train Acc: 0.7807, Test Acc: 0.7317, Train Loss: 0.5313, Test Loss: 0.5575\n",
      "Epoch: 250, Train Acc: 0.7736, Test Acc: 0.7340, Train Loss: 0.5158, Test Loss: 0.5413\n",
      "Epoch: 260, Train Acc: 0.7176, Test Acc: 0.7173, Train Loss: 0.5348, Test Loss: 0.5543\n",
      "Epoch: 270, Train Acc: 0.7671, Test Acc: 0.7310, Train Loss: 0.5045, Test Loss: 0.5321\n",
      "Epoch: 280, Train Acc: 0.7977, Test Acc: 0.7383, Train Loss: 0.5195, Test Loss: 0.5626\n",
      "Epoch: 290, Train Acc: 0.7783, Test Acc: 0.7350, Train Loss: 0.4819, Test Loss: 0.5184\n",
      "Epoch: 300, Train Acc: 0.7511, Test Acc: 0.7283, Train Loss: 0.4967, Test Loss: 0.5292\n",
      "Epoch: 310, Train Acc: 0.7583, Test Acc: 0.7370, Train Loss: 0.4792, Test Loss: 0.5183\n",
      "Epoch: 320, Train Acc: 0.8133, Test Acc: 0.7567, Train Loss: 0.4641, Test Loss: 0.5235\n",
      "Epoch: 330, Train Acc: 0.8006, Test Acc: 0.7470, Train Loss: 0.4482, Test Loss: 0.4973\n",
      "Epoch: 340, Train Acc: 0.8071, Test Acc: 0.7523, Train Loss: 0.4365, Test Loss: 0.4972\n",
      "Epoch: 350, Train Acc: 0.7990, Test Acc: 0.7437, Train Loss: 0.4292, Test Loss: 0.4902\n",
      "Epoch: 360, Train Acc: 0.7291, Test Acc: 0.7230, Train Loss: 0.5253, Test Loss: 0.5769\n",
      "Epoch: 370, Train Acc: 0.8267, Test Acc: 0.7573, Train Loss: 0.4493, Test Loss: 0.5368\n",
      "20 epochs passed without 0 test loss improvement. \n",
      "Early stopping triggered.\n"
     ]
    },
    {
     "data": {
      "text/html": [
       "<style>\n",
       "    table.wandb td:nth-child(1) { padding: 0 10px; text-align: left ; width: auto;} td:nth-child(2) {text-align: left ; width: 100%}\n",
       "    .wandb-row { display: flex; flex-direction: row; flex-wrap: wrap; justify-content: flex-start; width: 100% }\n",
       "    .wandb-col { display: flex; flex-direction: column; flex-basis: 100%; flex: 1; padding: 10px; }\n",
       "    </style>\n",
       "<div class=\"wandb-row\"><div class=\"wandb-col\"><h3>Run history:</h3><br/><table class=\"wandb\"><tr><td>Test Accuracy</td><td>▃▃▆▂▁▂▂▁▆▁▂▆▆▆▆▂▂▂▇▇▂▇▇▇▇▇▇▂█▇█▇███▇██▇█</td></tr><tr><td>Test F1</td><td>▁▁▆▇▆▇▇▆▆▆▆▆▇▆▇▆▆▆▆▇▆▇▇▇▇▇▇▇▇▇▇▇▇▇▇▆██▆█</td></tr><tr><td>Test Loss</td><td>██████▇▇▇▇▇▇▆▆▆▇▆▅▅▅▆▄▄▄▃▃▃▅▂▂▂▂▁▁▁▃▁▁▄▂</td></tr><tr><td>Test Sensitivity</td><td>▁▁▄█▆██▇▄▇█▄▅▄▅█▇▇▄▅█▆▆▆▅▅▅█▆▅▆▄▆▅▅▄▆▆▄▇</td></tr><tr><td>Test Specificity</td><td>██▇▁▂▁▁▁▇▂▁▇▆▇▇▁▂▂▇▇▁▆▆▅▇▇▇▁▆▇▇▇▇▇▇█▇▆█▆</td></tr><tr><td>Train Accuracy</td><td>▂▂▅▂▁▂▂▂▅▁▂▅▆▅▆▂▂▂▆▆▂▇▇▇▆▇▇▂▇▆▇▆▇▇▇▆██▆█</td></tr><tr><td>Train F1</td><td>▁▁▅▆▅▆▆▆▅▆▆▅▆▅▆▆▆▆▆▆▆▇▇▇▆▇▇▆▇▇▇▆▇▇▇▆██▆█</td></tr><tr><td>Train Loss</td><td>████████▇▇▇▇▇▇▇▇▆▆▆▅▆▅▅▅▄▄▃▅▃▃▃▃▂▂▂▃▁▁▄▁</td></tr><tr><td>Train Sensitivity</td><td>▁▁▄█▆██▇▄▇█▃▅▄▅█▇▇▄▅█▆▆▇▅▆▅█▆▅▆▅▆▆▆▄▆▇▄▇</td></tr><tr><td>Train Specificity</td><td>██▇▁▂▁▁▁▇▂▁█▇▇▇▁▂▂▇▇▁▇▇▆▇▇▇▂▇▇▇█▇▇▇█▇▇█▆</td></tr></table><br/></div><div class=\"wandb-col\"><h3>Run summary:</h3><br/><table class=\"wandb\"><tr><td>Test Accuracy</td><td>0.759</td></tr><tr><td>Test F1</td><td>0.7772</td></tr><tr><td>Test Loss</td><td>0.52132</td></tr><tr><td>Test Sensitivity</td><td>0.82257</td></tr><tr><td>Test Specificity</td><td>0.69257</td></tr><tr><td>Train Accuracy</td><td>0.83086</td></tr><tr><td>Train F1</td><td>0.84766</td></tr><tr><td>Train Loss</td><td>0.42964</td></tr><tr><td>Train Sensitivity</td><td>0.89389</td></tr><tr><td>Train Specificity</td><td>0.76078</td></tr></table><br/></div></div>"
      ],
      "text/plain": [
       "<IPython.core.display.HTML object>"
      ]
     },
     "metadata": {},
     "output_type": "display_data"
    },
    {
     "data": {
      "text/html": [
       " View run <strong style=\"color:#cdcd00\">elated-sweep-46</strong> at: <a href='https://wandb.ai/dylan-home/pnca-sweep-1/runs/bagxmdl4' target=\"_blank\">https://wandb.ai/dylan-home/pnca-sweep-1/runs/bagxmdl4</a><br/>Synced 5 W&B file(s), 0 media file(s), 0 artifact file(s) and 0 other file(s)"
      ],
      "text/plain": [
       "<IPython.core.display.HTML object>"
      ]
     },
     "metadata": {},
     "output_type": "display_data"
    },
    {
     "data": {
      "text/html": [
       "Find logs at: <code>./wandb/run-20250116_032538-bagxmdl4/logs</code>"
      ],
      "text/plain": [
       "<IPython.core.display.HTML object>"
      ]
     },
     "metadata": {},
     "output_type": "display_data"
    },
    {
     "name": "stderr",
     "output_type": "stream",
     "text": [
      "\u001b[34m\u001b[1mwandb\u001b[0m: Agent Starting Run: zgziazdh with config:\n",
      "\u001b[34m\u001b[1mwandb\u001b[0m: \tcutoff_distance: 9.105158661197418\n",
      "\u001b[34m\u001b[1mwandb\u001b[0m: \tdropout: 0.8\n",
      "\u001b[34m\u001b[1mwandb\u001b[0m: \thidden_channels: 384\n",
      "\u001b[34m\u001b[1mwandb\u001b[0m: \tlearning_rate: 0.00882737161958132\n",
      "\u001b[34m\u001b[1mwandb\u001b[0m: \tweight_decay: 0.005772750719139403\n",
      "Failed to detect the name of this notebook, you can set it manually with the WANDB_NOTEBOOK_NAME environment variable to enable code saving.\n",
      "/usr/lib/python3/dist-packages/requests/__init__.py:87: RequestsDependencyWarning: urllib3 (2.2.3) or chardet (4.0.0) doesn't match a supported version!\n",
      "  warnings.warn(\"urllib3 ({}) or chardet ({}) doesn't match a supported \"\n"
     ]
    },
    {
     "data": {
      "text/html": [
       "wandb version 0.19.3 is available!  To upgrade, please run:\n",
       " $ pip install wandb --upgrade"
      ],
      "text/plain": [
       "<IPython.core.display.HTML object>"
      ]
     },
     "metadata": {},
     "output_type": "display_data"
    },
    {
     "data": {
      "text/html": [
       "Tracking run with wandb version 0.16.4"
      ],
      "text/plain": [
       "<IPython.core.display.HTML object>"
      ]
     },
     "metadata": {},
     "output_type": "display_data"
    },
    {
     "data": {
      "text/html": [
       "Run data is saved locally in <code>/mnt/alphafold-volume-1/dylan2/repos/tb-pnca-gnn/dd_pnca/wandb/run-20250116_033751-zgziazdh</code>"
      ],
      "text/plain": [
       "<IPython.core.display.HTML object>"
      ]
     },
     "metadata": {},
     "output_type": "display_data"
    },
    {
     "data": {
      "text/html": [
       "Syncing run <strong><a href='https://wandb.ai/dylan-home/pnca-sweep-1/runs/zgziazdh' target=\"_blank\">atomic-sweep-47</a></strong> to <a href='https://wandb.ai/dylan-home/pnca-sweep-1' target=\"_blank\">Weights & Biases</a> (<a href='https://wandb.me/run' target=\"_blank\">docs</a>)<br/>Sweep page: <a href='https://wandb.ai/dylan-home/pnca-sweep-1/sweeps/tr8mwg42' target=\"_blank\">https://wandb.ai/dylan-home/pnca-sweep-1/sweeps/tr8mwg42</a>"
      ],
      "text/plain": [
       "<IPython.core.display.HTML object>"
      ]
     },
     "metadata": {},
     "output_type": "display_data"
    },
    {
     "data": {
      "text/html": [
       " View project at <a href='https://wandb.ai/dylan-home/pnca-sweep-1' target=\"_blank\">https://wandb.ai/dylan-home/pnca-sweep-1</a>"
      ],
      "text/plain": [
       "<IPython.core.display.HTML object>"
      ]
     },
     "metadata": {},
     "output_type": "display_data"
    },
    {
     "data": {
      "text/html": [
       " View sweep at <a href='https://wandb.ai/dylan-home/pnca-sweep-1/sweeps/tr8mwg42' target=\"_blank\">https://wandb.ai/dylan-home/pnca-sweep-1/sweeps/tr8mwg42</a>"
      ],
      "text/plain": [
       "<IPython.core.display.HTML object>"
      ]
     },
     "metadata": {},
     "output_type": "display_data"
    },
    {
     "data": {
      "text/html": [
       " View run at <a href='https://wandb.ai/dylan-home/pnca-sweep-1/runs/zgziazdh' target=\"_blank\">https://wandb.ai/dylan-home/pnca-sweep-1/runs/zgziazdh</a>"
      ],
      "text/plain": [
       "<IPython.core.display.HTML object>"
      ]
     },
     "metadata": {},
     "output_type": "display_data"
    },
    {
     "name": "stdout",
     "output_type": "stream",
     "text": [
      "Using CUDA\n",
      "Early stopping enabled. Patience: 20. Min Delta: 0.\n",
      "Epoch: 010, Train Acc: 0.5264, Test Acc: 0.5110, Train Loss: 0.6920, Test Loss: 0.6942\n",
      "Epoch: 020, Train Acc: 0.5264, Test Acc: 0.5110, Train Loss: 0.6921, Test Loss: 0.6929\n",
      "Epoch: 030, Train Acc: 0.5264, Test Acc: 0.5110, Train Loss: 0.6917, Test Loss: 0.6939\n",
      "Epoch: 040, Train Acc: 0.5264, Test Acc: 0.5110, Train Loss: 0.6926, Test Loss: 0.6954\n",
      "20 epochs passed without 0 test loss improvement. \n",
      "Early stopping triggered.\n"
     ]
    },
    {
     "data": {
      "text/html": [
       "<style>\n",
       "    table.wandb td:nth-child(1) { padding: 0 10px; text-align: left ; width: auto;} td:nth-child(2) {text-align: left ; width: 100%}\n",
       "    .wandb-row { display: flex; flex-direction: row; flex-wrap: wrap; justify-content: flex-start; width: 100% }\n",
       "    .wandb-col { display: flex; flex-direction: column; flex-basis: 100%; flex: 1; padding: 10px; }\n",
       "    </style>\n",
       "<div class=\"wandb-row\"><div class=\"wandb-col\"><h3>Run history:</h3><br/><table class=\"wandb\"><tr><td>Test Accuracy</td><td>▁█████▁███████▁██████████▁██████████████</td></tr><tr><td>Test F1</td><td>▁█████▁███████▁██████████▁██████████████</td></tr><tr><td>Test Loss</td><td>▄▁▁▃▅▁▂▃▃▃▁▃▃▄▅▁▁▁▁▁▂▁▁▃▁▂▃▁▃▂▆█▁▁▁▅▁▃▂▄</td></tr><tr><td>Test Sensitivity</td><td>▁█████▁███████▁██████████▁██████████████</td></tr><tr><td>Test Specificity</td><td>█▁▁▁▁▁█▁▁▁▁▁▁▁█▁▁▁▁▁▁▁▁▁▁█▁▁▁▁▁▁▁▁▁▁▁▁▁▁</td></tr><tr><td>Train Accuracy</td><td>▁█████▁███████▁██████████▁██████████████</td></tr><tr><td>Train F1</td><td>▁█████▁███████▁██████████▁██████████████</td></tr><tr><td>Train Loss</td><td>▇▂▁▁▃▂▃▁▂▁▁▁▁▂█▁▁▁▁▁▁▁▂▁▁▃▂▁▁▁▃▄▂▂▁▂▂▂▁▂</td></tr><tr><td>Train Sensitivity</td><td>▁█████▁███████▁██████████▁██████████████</td></tr><tr><td>Train Specificity</td><td>█▁▁▁▁▁█▁▁▁▁▁▁▁█▁▁▁▁▁▁▁▁▁▁█▁▁▁▁▁▁▁▁▁▁▁▁▁▁</td></tr></table><br/></div><div class=\"wandb-col\"><h3>Run summary:</h3><br/><table class=\"wandb\"><tr><td>Test Accuracy</td><td>0.511</td></tr><tr><td>Test F1</td><td>0.67637</td></tr><tr><td>Test Loss</td><td>0.69543</td></tr><tr><td>Test Sensitivity</td><td>1.0</td></tr><tr><td>Test Specificity</td><td>0.0</td></tr><tr><td>Train Accuracy</td><td>0.52643</td></tr><tr><td>Train F1</td><td>0.68975</td></tr><tr><td>Train Loss</td><td>0.69258</td></tr><tr><td>Train Sensitivity</td><td>1.0</td></tr><tr><td>Train Specificity</td><td>0.0</td></tr></table><br/></div></div>"
      ],
      "text/plain": [
       "<IPython.core.display.HTML object>"
      ]
     },
     "metadata": {},
     "output_type": "display_data"
    },
    {
     "data": {
      "text/html": [
       " View run <strong style=\"color:#cdcd00\">atomic-sweep-47</strong> at: <a href='https://wandb.ai/dylan-home/pnca-sweep-1/runs/zgziazdh' target=\"_blank\">https://wandb.ai/dylan-home/pnca-sweep-1/runs/zgziazdh</a><br/>Synced 5 W&B file(s), 0 media file(s), 0 artifact file(s) and 0 other file(s)"
      ],
      "text/plain": [
       "<IPython.core.display.HTML object>"
      ]
     },
     "metadata": {},
     "output_type": "display_data"
    },
    {
     "data": {
      "text/html": [
       "Find logs at: <code>./wandb/run-20250116_033751-zgziazdh/logs</code>"
      ],
      "text/plain": [
       "<IPython.core.display.HTML object>"
      ]
     },
     "metadata": {},
     "output_type": "display_data"
    },
    {
     "name": "stderr",
     "output_type": "stream",
     "text": [
      "\u001b[34m\u001b[1mwandb\u001b[0m: Agent Starting Run: vyehf2yz with config:\n",
      "\u001b[34m\u001b[1mwandb\u001b[0m: \tcutoff_distance: 3.38572609876606\n",
      "\u001b[34m\u001b[1mwandb\u001b[0m: \tdropout: 0.4\n",
      "\u001b[34m\u001b[1mwandb\u001b[0m: \thidden_channels: 64\n",
      "\u001b[34m\u001b[1mwandb\u001b[0m: \tlearning_rate: 0.0029869056338779655\n",
      "\u001b[34m\u001b[1mwandb\u001b[0m: \tweight_decay: 0.0035547777783368237\n",
      "Failed to detect the name of this notebook, you can set it manually with the WANDB_NOTEBOOK_NAME environment variable to enable code saving.\n",
      "/usr/lib/python3/dist-packages/requests/__init__.py:87: RequestsDependencyWarning: urllib3 (2.2.3) or chardet (4.0.0) doesn't match a supported version!\n",
      "  warnings.warn(\"urllib3 ({}) or chardet ({}) doesn't match a supported \"\n"
     ]
    },
    {
     "data": {
      "text/html": [
       "wandb version 0.19.3 is available!  To upgrade, please run:\n",
       " $ pip install wandb --upgrade"
      ],
      "text/plain": [
       "<IPython.core.display.HTML object>"
      ]
     },
     "metadata": {},
     "output_type": "display_data"
    },
    {
     "data": {
      "text/html": [
       "Tracking run with wandb version 0.16.4"
      ],
      "text/plain": [
       "<IPython.core.display.HTML object>"
      ]
     },
     "metadata": {},
     "output_type": "display_data"
    },
    {
     "data": {
      "text/html": [
       "Run data is saved locally in <code>/mnt/alphafold-volume-1/dylan2/repos/tb-pnca-gnn/dd_pnca/wandb/run-20250116_033939-vyehf2yz</code>"
      ],
      "text/plain": [
       "<IPython.core.display.HTML object>"
      ]
     },
     "metadata": {},
     "output_type": "display_data"
    },
    {
     "data": {
      "text/html": [
       "Syncing run <strong><a href='https://wandb.ai/dylan-home/pnca-sweep-1/runs/vyehf2yz' target=\"_blank\">robust-sweep-48</a></strong> to <a href='https://wandb.ai/dylan-home/pnca-sweep-1' target=\"_blank\">Weights & Biases</a> (<a href='https://wandb.me/run' target=\"_blank\">docs</a>)<br/>Sweep page: <a href='https://wandb.ai/dylan-home/pnca-sweep-1/sweeps/tr8mwg42' target=\"_blank\">https://wandb.ai/dylan-home/pnca-sweep-1/sweeps/tr8mwg42</a>"
      ],
      "text/plain": [
       "<IPython.core.display.HTML object>"
      ]
     },
     "metadata": {},
     "output_type": "display_data"
    },
    {
     "data": {
      "text/html": [
       " View project at <a href='https://wandb.ai/dylan-home/pnca-sweep-1' target=\"_blank\">https://wandb.ai/dylan-home/pnca-sweep-1</a>"
      ],
      "text/plain": [
       "<IPython.core.display.HTML object>"
      ]
     },
     "metadata": {},
     "output_type": "display_data"
    },
    {
     "data": {
      "text/html": [
       " View sweep at <a href='https://wandb.ai/dylan-home/pnca-sweep-1/sweeps/tr8mwg42' target=\"_blank\">https://wandb.ai/dylan-home/pnca-sweep-1/sweeps/tr8mwg42</a>"
      ],
      "text/plain": [
       "<IPython.core.display.HTML object>"
      ]
     },
     "metadata": {},
     "output_type": "display_data"
    },
    {
     "data": {
      "text/html": [
       " View run at <a href='https://wandb.ai/dylan-home/pnca-sweep-1/runs/vyehf2yz' target=\"_blank\">https://wandb.ai/dylan-home/pnca-sweep-1/runs/vyehf2yz</a>"
      ],
      "text/plain": [
       "<IPython.core.display.HTML object>"
      ]
     },
     "metadata": {},
     "output_type": "display_data"
    },
    {
     "name": "stdout",
     "output_type": "stream",
     "text": [
      "Using CUDA\n",
      "Early stopping enabled. Patience: 20. Min Delta: 0.\n",
      "Epoch: 010, Train Acc: 0.5264, Test Acc: 0.5110, Train Loss: 0.6920, Test Loss: 0.6933\n",
      "Epoch: 020, Train Acc: 0.5264, Test Acc: 0.5110, Train Loss: 0.6916, Test Loss: 0.6932\n",
      "20 epochs passed without 0 test loss improvement. \n",
      "Early stopping triggered.\n"
     ]
    },
    {
     "data": {
      "text/html": [
       "<style>\n",
       "    table.wandb td:nth-child(1) { padding: 0 10px; text-align: left ; width: auto;} td:nth-child(2) {text-align: left ; width: 100%}\n",
       "    .wandb-row { display: flex; flex-direction: row; flex-wrap: wrap; justify-content: flex-start; width: 100% }\n",
       "    .wandb-col { display: flex; flex-direction: column; flex-basis: 100%; flex: 1; padding: 10px; }\n",
       "    </style>\n",
       "<div class=\"wandb-row\"><div class=\"wandb-col\"><h3>Run history:</h3><br/><table class=\"wandb\"><tr><td>Test Accuracy</td><td>▁▁▁▁▁▁▁▁▁▁▁▁▁▁▁▁▁▁▁▁▁▁</td></tr><tr><td>Test F1</td><td>▁▁▁▁▁▁▁▁▁▁▁▁▁▁▁▁▁▁▁▁▁▁</td></tr><tr><td>Test Loss</td><td>█▁▃▂▁▂▂▂▂▂▂▂▂▃▂▂▂▁▂▂▂▁</td></tr><tr><td>Test Sensitivity</td><td>▁▁▁▁▁▁▁▁▁▁▁▁▁▁▁▁▁▁▁▁▁▁</td></tr><tr><td>Test Specificity</td><td>▁▁▁▁▁▁▁▁▁▁▁▁▁▁▁▁▁▁▁▁▁▁</td></tr><tr><td>Train Accuracy</td><td>▁▁▁▁▁▁▁▁▁▁▁▁▁▁▁▁▁▁▁▁▁▁</td></tr><tr><td>Train F1</td><td>▁▁▁▁▁▁▁▁▁▁▁▁▁▁▁▁▁▁▁▁▁▁</td></tr><tr><td>Train Loss</td><td>█▅▁▃▃▃▃▂▃▄▂▃▃▂▂▃▃▃▃▂▃▂</td></tr><tr><td>Train Sensitivity</td><td>▁▁▁▁▁▁▁▁▁▁▁▁▁▁▁▁▁▁▁▁▁▁</td></tr><tr><td>Train Specificity</td><td>▁▁▁▁▁▁▁▁▁▁▁▁▁▁▁▁▁▁▁▁▁▁</td></tr></table><br/></div><div class=\"wandb-col\"><h3>Run summary:</h3><br/><table class=\"wandb\"><tr><td>Test Accuracy</td><td>0.511</td></tr><tr><td>Test F1</td><td>0.67637</td></tr><tr><td>Test Loss</td><td>0.69292</td></tr><tr><td>Test Sensitivity</td><td>1.0</td></tr><tr><td>Test Specificity</td><td>0.0</td></tr><tr><td>Train Accuracy</td><td>0.52643</td></tr><tr><td>Train F1</td><td>0.68975</td></tr><tr><td>Train Loss</td><td>0.69156</td></tr><tr><td>Train Sensitivity</td><td>1.0</td></tr><tr><td>Train Specificity</td><td>0.0</td></tr></table><br/></div></div>"
      ],
      "text/plain": [
       "<IPython.core.display.HTML object>"
      ]
     },
     "metadata": {},
     "output_type": "display_data"
    },
    {
     "data": {
      "text/html": [
       " View run <strong style=\"color:#cdcd00\">robust-sweep-48</strong> at: <a href='https://wandb.ai/dylan-home/pnca-sweep-1/runs/vyehf2yz' target=\"_blank\">https://wandb.ai/dylan-home/pnca-sweep-1/runs/vyehf2yz</a><br/>Synced 5 W&B file(s), 0 media file(s), 0 artifact file(s) and 0 other file(s)"
      ],
      "text/plain": [
       "<IPython.core.display.HTML object>"
      ]
     },
     "metadata": {},
     "output_type": "display_data"
    },
    {
     "data": {
      "text/html": [
       "Find logs at: <code>./wandb/run-20250116_033939-vyehf2yz/logs</code>"
      ],
      "text/plain": [
       "<IPython.core.display.HTML object>"
      ]
     },
     "metadata": {},
     "output_type": "display_data"
    },
    {
     "name": "stderr",
     "output_type": "stream",
     "text": [
      "\u001b[34m\u001b[1mwandb\u001b[0m: Agent Starting Run: vdbbu1sq with config:\n",
      "\u001b[34m\u001b[1mwandb\u001b[0m: \tcutoff_distance: 8.319681202504217\n",
      "\u001b[34m\u001b[1mwandb\u001b[0m: \tdropout: 0.4\n",
      "\u001b[34m\u001b[1mwandb\u001b[0m: \thidden_channels: 256\n",
      "\u001b[34m\u001b[1mwandb\u001b[0m: \tlearning_rate: 9.771015965484158e-05\n",
      "\u001b[34m\u001b[1mwandb\u001b[0m: \tweight_decay: 0.00012020263960654444\n",
      "Failed to detect the name of this notebook, you can set it manually with the WANDB_NOTEBOOK_NAME environment variable to enable code saving.\n",
      "/usr/lib/python3/dist-packages/requests/__init__.py:87: RequestsDependencyWarning: urllib3 (2.2.3) or chardet (4.0.0) doesn't match a supported version!\n",
      "  warnings.warn(\"urllib3 ({}) or chardet ({}) doesn't match a supported \"\n"
     ]
    },
    {
     "data": {
      "text/html": [
       "wandb version 0.19.3 is available!  To upgrade, please run:\n",
       " $ pip install wandb --upgrade"
      ],
      "text/plain": [
       "<IPython.core.display.HTML object>"
      ]
     },
     "metadata": {},
     "output_type": "display_data"
    },
    {
     "data": {
      "text/html": [
       "Tracking run with wandb version 0.16.4"
      ],
      "text/plain": [
       "<IPython.core.display.HTML object>"
      ]
     },
     "metadata": {},
     "output_type": "display_data"
    },
    {
     "data": {
      "text/html": [
       "Run data is saved locally in <code>/mnt/alphafold-volume-1/dylan2/repos/tb-pnca-gnn/dd_pnca/wandb/run-20250116_034030-vdbbu1sq</code>"
      ],
      "text/plain": [
       "<IPython.core.display.HTML object>"
      ]
     },
     "metadata": {},
     "output_type": "display_data"
    },
    {
     "data": {
      "text/html": [
       "Syncing run <strong><a href='https://wandb.ai/dylan-home/pnca-sweep-1/runs/vdbbu1sq' target=\"_blank\">polar-sweep-49</a></strong> to <a href='https://wandb.ai/dylan-home/pnca-sweep-1' target=\"_blank\">Weights & Biases</a> (<a href='https://wandb.me/run' target=\"_blank\">docs</a>)<br/>Sweep page: <a href='https://wandb.ai/dylan-home/pnca-sweep-1/sweeps/tr8mwg42' target=\"_blank\">https://wandb.ai/dylan-home/pnca-sweep-1/sweeps/tr8mwg42</a>"
      ],
      "text/plain": [
       "<IPython.core.display.HTML object>"
      ]
     },
     "metadata": {},
     "output_type": "display_data"
    },
    {
     "data": {
      "text/html": [
       " View project at <a href='https://wandb.ai/dylan-home/pnca-sweep-1' target=\"_blank\">https://wandb.ai/dylan-home/pnca-sweep-1</a>"
      ],
      "text/plain": [
       "<IPython.core.display.HTML object>"
      ]
     },
     "metadata": {},
     "output_type": "display_data"
    },
    {
     "data": {
      "text/html": [
       " View sweep at <a href='https://wandb.ai/dylan-home/pnca-sweep-1/sweeps/tr8mwg42' target=\"_blank\">https://wandb.ai/dylan-home/pnca-sweep-1/sweeps/tr8mwg42</a>"
      ],
      "text/plain": [
       "<IPython.core.display.HTML object>"
      ]
     },
     "metadata": {},
     "output_type": "display_data"
    },
    {
     "data": {
      "text/html": [
       " View run at <a href='https://wandb.ai/dylan-home/pnca-sweep-1/runs/vdbbu1sq' target=\"_blank\">https://wandb.ai/dylan-home/pnca-sweep-1/runs/vdbbu1sq</a>"
      ],
      "text/plain": [
       "<IPython.core.display.HTML object>"
      ]
     },
     "metadata": {},
     "output_type": "display_data"
    },
    {
     "name": "stdout",
     "output_type": "stream",
     "text": [
      "Using CUDA\n",
      "Early stopping enabled. Patience: 20. Min Delta: 0.\n",
      "Epoch: 010, Train Acc: 0.4737, Test Acc: 0.4890, Train Loss: 0.7061, Test Loss: 0.6989\n",
      "Epoch: 020, Train Acc: 0.5264, Test Acc: 0.5110, Train Loss: 0.6895, Test Loss: 0.6899\n",
      "Epoch: 030, Train Acc: 0.6627, Test Acc: 0.6800, Train Loss: 0.6849, Test Loss: 0.6784\n",
      "Epoch: 040, Train Acc: 0.5113, Test Acc: 0.4990, Train Loss: 0.6804, Test Loss: 0.6766\n",
      "Epoch: 050, Train Acc: 0.5550, Test Acc: 0.6277, Train Loss: 0.6843, Test Loss: 0.6730\n",
      "Epoch: 060, Train Acc: 0.7076, Test Acc: 0.6950, Train Loss: 0.6680, Test Loss: 0.6594\n",
      "Epoch: 070, Train Acc: 0.5547, Test Acc: 0.6317, Train Loss: 0.6797, Test Loss: 0.6637\n",
      "Epoch: 080, Train Acc: 0.5164, Test Acc: 0.4970, Train Loss: 0.6600, Test Loss: 0.6577\n",
      "Epoch: 090, Train Acc: 0.5121, Test Acc: 0.4947, Train Loss: 0.6455, Test Loss: 0.6396\n",
      "Epoch: 100, Train Acc: 0.7383, Test Acc: 0.7143, Train Loss: 0.6250, Test Loss: 0.6160\n",
      "Epoch: 110, Train Acc: 0.6909, Test Acc: 0.6910, Train Loss: 0.6201, Test Loss: 0.6060\n",
      "Epoch: 120, Train Acc: 0.6501, Test Acc: 0.6817, Train Loss: 0.6218, Test Loss: 0.6047\n",
      "Epoch: 130, Train Acc: 0.7081, Test Acc: 0.7113, Train Loss: 0.5923, Test Loss: 0.5832\n",
      "Epoch: 140, Train Acc: 0.6806, Test Acc: 0.6903, Train Loss: 0.5965, Test Loss: 0.5870\n",
      "Epoch: 150, Train Acc: 0.6816, Test Acc: 0.6927, Train Loss: 0.5861, Test Loss: 0.5763\n",
      "Epoch: 160, Train Acc: 0.7499, Test Acc: 0.7347, Train Loss: 0.5502, Test Loss: 0.5519\n",
      "Epoch: 170, Train Acc: 0.7706, Test Acc: 0.7463, Train Loss: 0.5385, Test Loss: 0.5491\n",
      "Epoch: 180, Train Acc: 0.7179, Test Acc: 0.7197, Train Loss: 0.5436, Test Loss: 0.5453\n",
      "Epoch: 190, Train Acc: 0.7313, Test Acc: 0.7243, Train Loss: 0.5347, Test Loss: 0.5407\n",
      "Epoch: 200, Train Acc: 0.7790, Test Acc: 0.7513, Train Loss: 0.5048, Test Loss: 0.5287\n",
      "Epoch: 210, Train Acc: 0.7680, Test Acc: 0.7413, Train Loss: 0.4909, Test Loss: 0.5198\n",
      "Epoch: 220, Train Acc: 0.7860, Test Acc: 0.7560, Train Loss: 0.4745, Test Loss: 0.5109\n",
      "Epoch: 230, Train Acc: 0.7600, Test Acc: 0.7177, Train Loss: 0.5367, Test Loss: 0.6033\n",
      "Epoch: 240, Train Acc: 0.8000, Test Acc: 0.7617, Train Loss: 0.4485, Test Loss: 0.5003\n",
      "Epoch: 250, Train Acc: 0.8087, Test Acc: 0.7750, Train Loss: 0.4489, Test Loss: 0.5157\n",
      "Epoch: 260, Train Acc: 0.8134, Test Acc: 0.7760, Train Loss: 0.4514, Test Loss: 0.5286\n",
      "Epoch: 270, Train Acc: 0.7451, Test Acc: 0.7277, Train Loss: 0.4920, Test Loss: 0.5365\n",
      "Epoch: 280, Train Acc: 0.7931, Test Acc: 0.7303, Train Loss: 0.4899, Test Loss: 0.5827\n",
      "Epoch: 290, Train Acc: 0.7899, Test Acc: 0.7487, Train Loss: 0.4292, Test Loss: 0.4982\n",
      "Epoch: 300, Train Acc: 0.8286, Test Acc: 0.7833, Train Loss: 0.4116, Test Loss: 0.5051\n",
      "Epoch: 310, Train Acc: 0.7610, Test Acc: 0.7450, Train Loss: 0.4679, Test Loss: 0.5348\n",
      "Epoch: 320, Train Acc: 0.8120, Test Acc: 0.7613, Train Loss: 0.4042, Test Loss: 0.4886\n",
      "Epoch: 330, Train Acc: 0.7640, Test Acc: 0.7437, Train Loss: 0.4680, Test Loss: 0.5403\n",
      "20 epochs passed without 0 test loss improvement. \n",
      "Early stopping triggered.\n"
     ]
    },
    {
     "data": {
      "text/html": [
       "<style>\n",
       "    table.wandb td:nth-child(1) { padding: 0 10px; text-align: left ; width: auto;} td:nth-child(2) {text-align: left ; width: 100%}\n",
       "    .wandb-row { display: flex; flex-direction: row; flex-wrap: wrap; justify-content: flex-start; width: 100% }\n",
       "    .wandb-col { display: flex; flex-direction: column; flex-basis: 100%; flex: 1; padding: 10px; }\n",
       "    </style>\n",
       "<div class=\"wandb-row\"><div class=\"wandb-col\"><h3>Run history:</h3><br/><table class=\"wandb\"><tr><td>Test Accuracy</td><td>▁▁▁▁▁▅▃▆▅▁▆▅▆▆▆▁▆▇▇▇▇▆▇▇▇▇▇█▇█▇▆████▇██▇</td></tr><tr><td>Test F1</td><td>▆▆▆▆▆▅▁▆▅▆▇▅▇▆▅▆▅▆▇▇█▆▇█▇▆██▇█▇▅▇▇▇█▇██▇</td></tr><tr><td>Test Loss</td><td>▇█▇█▇▇▇▇▆▆▆▅▅▅▅▅▄▄▃▃▄▃▃▃▂▂▄▂▂▂▂▅▁▁▁▂▂▁▁▁</td></tr><tr><td>Test Sensitivity</td><td>█████▄▁▅▄█▅▃▅▄▃▇▄▄▅▅▇▄▆▆▄▄▇▆▅▆▄▃▅▅▅▆▅▆▆▅</td></tr><tr><td>Test Specificity</td><td>▁▁▁▁▁▇█▆▇▁▆▇▆▇▇▂▇▇▇▇▆▇▇▆▇▇▅▆▇▆▇█▇▇▇▆▇▇▇▇</td></tr><tr><td>Train Accuracy</td><td>▁▁▁▁▁▄▁▅▄▁▆▄▆▅▄▂▅▆▆▆▇▅▇▇▆▆▇▇▇▇▆▅▇▇▇█▇██▇</td></tr><tr><td>Train F1</td><td>▆▆▆▆▆▅▁▆▅▆▇▅▇▆▅▆▅▆▇▇█▆▇█▆▆██▇█▇▅▇███▇██▇</td></tr><tr><td>Train Loss</td><td>███████▇▇▇▇▇▆▆▆▆▆▅▅▅▅▄▄▄▄▄▄▃▂▃▃▅▂▂▁▁▂▁▁▁</td></tr><tr><td>Train Sensitivity</td><td>█████▄▁▅▄█▅▃▅▅▃▇▄▅▅▅▇▄▆▇▅▅▇▇▆▇▅▄▆▆▆▇▅▆▇▅</td></tr><tr><td>Train Specificity</td><td>▁▁▁▁▁██▇█▁▇█▇▇█▂█▇▇▇▆█▇▆██▆▇▇▇████▇▇█▇▇█</td></tr></table><br/></div><div class=\"wandb-col\"><h3>Run summary:</h3><br/><table class=\"wandb\"><tr><td>Test Accuracy</td><td>0.75633</td></tr><tr><td>Test F1</td><td>0.73174</td></tr><tr><td>Test Loss</td><td>0.49276</td></tr><tr><td>Test Sensitivity</td><td>0.65036</td></tr><tr><td>Test Specificity</td><td>0.86708</td></tr><tr><td>Train Accuracy</td><td>0.80414</td></tr><tr><td>Train F1</td><td>0.78283</td></tr><tr><td>Train Loss</td><td>0.41082</td></tr><tr><td>Train Sensitivity</td><td>0.67056</td></tr><tr><td>Train Specificity</td><td>0.95264</td></tr></table><br/></div></div>"
      ],
      "text/plain": [
       "<IPython.core.display.HTML object>"
      ]
     },
     "metadata": {},
     "output_type": "display_data"
    },
    {
     "data": {
      "text/html": [
       " View run <strong style=\"color:#cdcd00\">polar-sweep-49</strong> at: <a href='https://wandb.ai/dylan-home/pnca-sweep-1/runs/vdbbu1sq' target=\"_blank\">https://wandb.ai/dylan-home/pnca-sweep-1/runs/vdbbu1sq</a><br/>Synced 5 W&B file(s), 0 media file(s), 0 artifact file(s) and 0 other file(s)"
      ],
      "text/plain": [
       "<IPython.core.display.HTML object>"
      ]
     },
     "metadata": {},
     "output_type": "display_data"
    },
    {
     "data": {
      "text/html": [
       "Find logs at: <code>./wandb/run-20250116_034030-vdbbu1sq/logs</code>"
      ],
      "text/plain": [
       "<IPython.core.display.HTML object>"
      ]
     },
     "metadata": {},
     "output_type": "display_data"
    },
    {
     "name": "stderr",
     "output_type": "stream",
     "text": [
      "\u001b[34m\u001b[1mwandb\u001b[0m: Agent Starting Run: 8dvlnfsb with config:\n",
      "\u001b[34m\u001b[1mwandb\u001b[0m: \tcutoff_distance: 6.8173489193838686\n",
      "\u001b[34m\u001b[1mwandb\u001b[0m: \tdropout: 0.6\n",
      "\u001b[34m\u001b[1mwandb\u001b[0m: \thidden_channels: 256\n",
      "\u001b[34m\u001b[1mwandb\u001b[0m: \tlearning_rate: 8.466652416978331e-05\n",
      "\u001b[34m\u001b[1mwandb\u001b[0m: \tweight_decay: 1.5955542647677474e-06\n",
      "Failed to detect the name of this notebook, you can set it manually with the WANDB_NOTEBOOK_NAME environment variable to enable code saving.\n",
      "/usr/lib/python3/dist-packages/requests/__init__.py:87: RequestsDependencyWarning: urllib3 (2.2.3) or chardet (4.0.0) doesn't match a supported version!\n",
      "  warnings.warn(\"urllib3 ({}) or chardet ({}) doesn't match a supported \"\n"
     ]
    },
    {
     "data": {
      "text/html": [
       "wandb version 0.19.3 is available!  To upgrade, please run:\n",
       " $ pip install wandb --upgrade"
      ],
      "text/plain": [
       "<IPython.core.display.HTML object>"
      ]
     },
     "metadata": {},
     "output_type": "display_data"
    },
    {
     "data": {
      "text/html": [
       "Tracking run with wandb version 0.16.4"
      ],
      "text/plain": [
       "<IPython.core.display.HTML object>"
      ]
     },
     "metadata": {},
     "output_type": "display_data"
    },
    {
     "data": {
      "text/html": [
       "Run data is saved locally in <code>/mnt/alphafold-volume-1/dylan2/repos/tb-pnca-gnn/dd_pnca/wandb/run-20250116_035202-8dvlnfsb</code>"
      ],
      "text/plain": [
       "<IPython.core.display.HTML object>"
      ]
     },
     "metadata": {},
     "output_type": "display_data"
    },
    {
     "data": {
      "text/html": [
       "Syncing run <strong><a href='https://wandb.ai/dylan-home/pnca-sweep-1/runs/8dvlnfsb' target=\"_blank\">expert-sweep-50</a></strong> to <a href='https://wandb.ai/dylan-home/pnca-sweep-1' target=\"_blank\">Weights & Biases</a> (<a href='https://wandb.me/run' target=\"_blank\">docs</a>)<br/>Sweep page: <a href='https://wandb.ai/dylan-home/pnca-sweep-1/sweeps/tr8mwg42' target=\"_blank\">https://wandb.ai/dylan-home/pnca-sweep-1/sweeps/tr8mwg42</a>"
      ],
      "text/plain": [
       "<IPython.core.display.HTML object>"
      ]
     },
     "metadata": {},
     "output_type": "display_data"
    },
    {
     "data": {
      "text/html": [
       " View project at <a href='https://wandb.ai/dylan-home/pnca-sweep-1' target=\"_blank\">https://wandb.ai/dylan-home/pnca-sweep-1</a>"
      ],
      "text/plain": [
       "<IPython.core.display.HTML object>"
      ]
     },
     "metadata": {},
     "output_type": "display_data"
    },
    {
     "data": {
      "text/html": [
       " View sweep at <a href='https://wandb.ai/dylan-home/pnca-sweep-1/sweeps/tr8mwg42' target=\"_blank\">https://wandb.ai/dylan-home/pnca-sweep-1/sweeps/tr8mwg42</a>"
      ],
      "text/plain": [
       "<IPython.core.display.HTML object>"
      ]
     },
     "metadata": {},
     "output_type": "display_data"
    },
    {
     "data": {
      "text/html": [
       " View run at <a href='https://wandb.ai/dylan-home/pnca-sweep-1/runs/8dvlnfsb' target=\"_blank\">https://wandb.ai/dylan-home/pnca-sweep-1/runs/8dvlnfsb</a>"
      ],
      "text/plain": [
       "<IPython.core.display.HTML object>"
      ]
     },
     "metadata": {},
     "output_type": "display_data"
    },
    {
     "name": "stdout",
     "output_type": "stream",
     "text": [
      "Using CUDA\n",
      "Early stopping enabled. Patience: 20. Min Delta: 0.\n",
      "Epoch: 010, Train Acc: 0.4753, Test Acc: 0.4943, Train Loss: 0.6988, Test Loss: 0.6930\n",
      "Epoch: 020, Train Acc: 0.5261, Test Acc: 0.5110, Train Loss: 0.6876, Test Loss: 0.6872\n",
      "Epoch: 030, Train Acc: 0.6751, Test Acc: 0.6767, Train Loss: 0.6838, Test Loss: 0.6774\n",
      "Epoch: 040, Train Acc: 0.5097, Test Acc: 0.4973, Train Loss: 0.6793, Test Loss: 0.6753\n",
      "Epoch: 050, Train Acc: 0.4996, Test Acc: 0.4890, Train Loss: 0.6766, Test Loss: 0.6713\n",
      "Epoch: 060, Train Acc: 0.6436, Test Acc: 0.6703, Train Loss: 0.6740, Test Loss: 0.6636\n",
      "Epoch: 070, Train Acc: 0.5587, Test Acc: 0.6393, Train Loss: 0.6786, Test Loss: 0.6638\n",
      "Epoch: 080, Train Acc: 0.5213, Test Acc: 0.5083, Train Loss: 0.6692, Test Loss: 0.6667\n",
      "Epoch: 090, Train Acc: 0.7236, Test Acc: 0.6980, Train Loss: 0.6494, Test Loss: 0.6385\n",
      "Epoch: 100, Train Acc: 0.7146, Test Acc: 0.7107, Train Loss: 0.6380, Test Loss: 0.6253\n",
      "Epoch: 110, Train Acc: 0.6101, Test Acc: 0.6663, Train Loss: 0.6503, Test Loss: 0.6295\n",
      "Epoch: 120, Train Acc: 0.6727, Test Acc: 0.6860, Train Loss: 0.6269, Test Loss: 0.6103\n",
      "Epoch: 130, Train Acc: 0.7260, Test Acc: 0.7110, Train Loss: 0.6071, Test Loss: 0.5961\n",
      "Epoch: 140, Train Acc: 0.6883, Test Acc: 0.6930, Train Loss: 0.6053, Test Loss: 0.5909\n",
      "Epoch: 150, Train Acc: 0.7556, Test Acc: 0.7163, Train Loss: 0.5858, Test Loss: 0.5813\n",
      "Epoch: 160, Train Acc: 0.7400, Test Acc: 0.7187, Train Loss: 0.5710, Test Loss: 0.5657\n",
      "Epoch: 170, Train Acc: 0.6587, Test Acc: 0.6857, Train Loss: 0.6037, Test Loss: 0.5886\n",
      "Epoch: 180, Train Acc: 0.6523, Test Acc: 0.6857, Train Loss: 0.6053, Test Loss: 0.5922\n",
      "Epoch: 190, Train Acc: 0.7700, Test Acc: 0.7430, Train Loss: 0.5384, Test Loss: 0.5487\n",
      "Epoch: 200, Train Acc: 0.7649, Test Acc: 0.7417, Train Loss: 0.5297, Test Loss: 0.5413\n",
      "Epoch: 210, Train Acc: 0.7330, Test Acc: 0.7257, Train Loss: 0.5275, Test Loss: 0.5377\n",
      "Epoch: 220, Train Acc: 0.7714, Test Acc: 0.7487, Train Loss: 0.5064, Test Loss: 0.5252\n",
      "Epoch: 230, Train Acc: 0.7827, Test Acc: 0.7537, Train Loss: 0.5214, Test Loss: 0.5636\n",
      "Epoch: 240, Train Acc: 0.7950, Test Acc: 0.7567, Train Loss: 0.4942, Test Loss: 0.5324\n",
      "Epoch: 250, Train Acc: 0.7977, Test Acc: 0.7587, Train Loss: 0.4905, Test Loss: 0.5435\n",
      "Epoch: 260, Train Acc: 0.8013, Test Acc: 0.7573, Train Loss: 0.4857, Test Loss: 0.5406\n",
      "Epoch: 270, Train Acc: 0.7249, Test Acc: 0.7217, Train Loss: 0.5222, Test Loss: 0.5529\n",
      "Epoch: 280, Train Acc: 0.8041, Test Acc: 0.7637, Train Loss: 0.4803, Test Loss: 0.5491\n",
      "Epoch: 290, Train Acc: 0.7867, Test Acc: 0.7483, Train Loss: 0.4414, Test Loss: 0.5041\n",
      "Epoch: 300, Train Acc: 0.8111, Test Acc: 0.7743, Train Loss: 0.4287, Test Loss: 0.4979\n",
      "Epoch: 310, Train Acc: 0.7154, Test Acc: 0.7097, Train Loss: 0.5577, Test Loss: 0.6044\n",
      "Epoch: 320, Train Acc: 0.8147, Test Acc: 0.7690, Train Loss: 0.4229, Test Loss: 0.4984\n",
      "Epoch: 330, Train Acc: 0.7364, Test Acc: 0.7230, Train Loss: 0.5210, Test Loss: 0.5850\n",
      "Epoch: 340, Train Acc: 0.8291, Test Acc: 0.7747, Train Loss: 0.3990, Test Loss: 0.4946\n",
      "Epoch: 350, Train Acc: 0.8357, Test Acc: 0.7687, Train Loss: 0.4219, Test Loss: 0.5331\n",
      "Epoch: 360, Train Acc: 0.8206, Test Acc: 0.7623, Train Loss: 0.3839, Test Loss: 0.4958\n",
      "20 epochs passed without 0 test loss improvement. \n",
      "Early stopping triggered.\n"
     ]
    },
    {
     "data": {
      "text/html": [
       "<style>\n",
       "    table.wandb td:nth-child(1) { padding: 0 10px; text-align: left ; width: auto;} td:nth-child(2) {text-align: left ; width: 100%}\n",
       "    .wandb-row { display: flex; flex-direction: row; flex-wrap: wrap; justify-content: flex-start; width: 100% }\n",
       "    .wandb-col { display: flex; flex-direction: column; flex-basis: 100%; flex: 1; padding: 10px; }\n",
       "    </style>\n",
       "<div class=\"wandb-row\"><div class=\"wandb-col\"><h3>Run history:</h3><br/><table class=\"wandb\"><tr><td>Test Accuracy</td><td>▁▁▁▁▁▁▅▁▅▆▆▆▅▆▁▆▇▆▁▆▇▆▇▆▇▇▇█▇▇███▇▇█▇███</td></tr><tr><td>Test F1</td><td>▅▅▅▅▅▅▁▅▂▄▄▆▁▃▄▄▆▆▅▂▇▇▅▅█▇▇██▇█▇▇▆▇█▇██▇</td></tr><tr><td>Test Loss</td><td>██▇█▇▇▇▇▆▆▆▅▆▅▅▄▄▃▇▄▃▄▃▃▄▂▂▃▃▁▃▁▁▂▁▁▁▁▁▁</td></tr><tr><td>Test Sensitivity</td><td>████▇█▁█▂▃▃▅▁▂▆▂▄▄█▂▅▇▃▃▆▅▅▆▆▄▆▅▅▃▄▅▄▅▅▄</td></tr><tr><td>Test Specificity</td><td>▁▁▁▁▁▁█▁█▇▇▆██▂▇▇▇▁█▆▅▇█▅▆▇▆▆▇▆▇▇▇▇▇▇▇▇▇</td></tr><tr><td>Train Accuracy</td><td>▁▁▁▁▁▁▃▁▄▅▅▆▃▅▂▅▆▆▁▄▇▆▆▅▇▇▇▇▇▇▇█▇▇▇█▇███</td></tr><tr><td>Train F1</td><td>▅▅▅▅▅▅▁▅▃▄▄▆▁▃▅▄▆▆▅▃▇▇▅▅█▇▇██▇█▇▇▆▇█▇███</td></tr><tr><td>Train Loss</td><td>███████▇▇▇▇▇▇▆▆▆▅▅▇▆▄▅▄▄▄▃▃▃▃▂▃▂▂▃▂▂▂▂▁▁</td></tr><tr><td>Train Sensitivity</td><td>██████▁█▂▃▃▆▁▂▇▃▄▄█▂▆▇▄▃▇▆▆▇▆▅▇▅▅▄▅▆▅▆▆▅</td></tr><tr><td>Train Specificity</td><td>▁▁▁▁▁▁█▁███▆██▂█▇▇▁█▇▅██▆▇▇▆▆█▆▇███▇█▇▇█</td></tr></table><br/></div><div class=\"wandb-col\"><h3>Run summary:</h3><br/><table class=\"wandb\"><tr><td>Test Accuracy</td><td>0.76233</td></tr><tr><td>Test F1</td><td>0.74472</td></tr><tr><td>Test Loss</td><td>0.49454</td></tr><tr><td>Test Sensitivity</td><td>0.67841</td></tr><tr><td>Test Specificity</td><td>0.85003</td></tr><tr><td>Train Accuracy</td><td>0.81829</td></tr><tr><td>Train F1</td><td>0.80958</td></tr><tr><td>Train Loss</td><td>0.38691</td></tr><tr><td>Train Sensitivity</td><td>0.73379</td></tr><tr><td>Train Specificity</td><td>0.91222</td></tr></table><br/></div></div>"
      ],
      "text/plain": [
       "<IPython.core.display.HTML object>"
      ]
     },
     "metadata": {},
     "output_type": "display_data"
    },
    {
     "data": {
      "text/html": [
       " View run <strong style=\"color:#cdcd00\">expert-sweep-50</strong> at: <a href='https://wandb.ai/dylan-home/pnca-sweep-1/runs/8dvlnfsb' target=\"_blank\">https://wandb.ai/dylan-home/pnca-sweep-1/runs/8dvlnfsb</a><br/>Synced 5 W&B file(s), 0 media file(s), 0 artifact file(s) and 0 other file(s)"
      ],
      "text/plain": [
       "<IPython.core.display.HTML object>"
      ]
     },
     "metadata": {},
     "output_type": "display_data"
    },
    {
     "data": {
      "text/html": [
       "Find logs at: <code>./wandb/run-20250116_035202-8dvlnfsb/logs</code>"
      ],
      "text/plain": [
       "<IPython.core.display.HTML object>"
      ]
     },
     "metadata": {},
     "output_type": "display_data"
    },
    {
     "name": "stderr",
     "output_type": "stream",
     "text": [
      "\u001b[34m\u001b[1mwandb\u001b[0m: Agent Starting Run: zcwmb2gq with config:\n",
      "\u001b[34m\u001b[1mwandb\u001b[0m: \tcutoff_distance: 5.013125686153985\n",
      "\u001b[34m\u001b[1mwandb\u001b[0m: \tdropout: 0.8\n",
      "\u001b[34m\u001b[1mwandb\u001b[0m: \thidden_channels: 64\n",
      "\u001b[34m\u001b[1mwandb\u001b[0m: \tlearning_rate: 0.00017937387188301815\n",
      "\u001b[34m\u001b[1mwandb\u001b[0m: \tweight_decay: 3.336095516150926e-05\n",
      "Failed to detect the name of this notebook, you can set it manually with the WANDB_NOTEBOOK_NAME environment variable to enable code saving.\n",
      "/usr/lib/python3/dist-packages/requests/__init__.py:87: RequestsDependencyWarning: urllib3 (2.2.3) or chardet (4.0.0) doesn't match a supported version!\n",
      "  warnings.warn(\"urllib3 ({}) or chardet ({}) doesn't match a supported \"\n"
     ]
    },
    {
     "data": {
      "text/html": [
       "wandb version 0.19.3 is available!  To upgrade, please run:\n",
       " $ pip install wandb --upgrade"
      ],
      "text/plain": [
       "<IPython.core.display.HTML object>"
      ]
     },
     "metadata": {},
     "output_type": "display_data"
    },
    {
     "data": {
      "text/html": [
       "Tracking run with wandb version 0.16.4"
      ],
      "text/plain": [
       "<IPython.core.display.HTML object>"
      ]
     },
     "metadata": {},
     "output_type": "display_data"
    },
    {
     "data": {
      "text/html": [
       "Run data is saved locally in <code>/mnt/alphafold-volume-1/dylan2/repos/tb-pnca-gnn/dd_pnca/wandb/run-20250116_040435-zcwmb2gq</code>"
      ],
      "text/plain": [
       "<IPython.core.display.HTML object>"
      ]
     },
     "metadata": {},
     "output_type": "display_data"
    },
    {
     "data": {
      "text/html": [
       "Syncing run <strong><a href='https://wandb.ai/dylan-home/pnca-sweep-1/runs/zcwmb2gq' target=\"_blank\">stoic-sweep-51</a></strong> to <a href='https://wandb.ai/dylan-home/pnca-sweep-1' target=\"_blank\">Weights & Biases</a> (<a href='https://wandb.me/run' target=\"_blank\">docs</a>)<br/>Sweep page: <a href='https://wandb.ai/dylan-home/pnca-sweep-1/sweeps/tr8mwg42' target=\"_blank\">https://wandb.ai/dylan-home/pnca-sweep-1/sweeps/tr8mwg42</a>"
      ],
      "text/plain": [
       "<IPython.core.display.HTML object>"
      ]
     },
     "metadata": {},
     "output_type": "display_data"
    },
    {
     "data": {
      "text/html": [
       " View project at <a href='https://wandb.ai/dylan-home/pnca-sweep-1' target=\"_blank\">https://wandb.ai/dylan-home/pnca-sweep-1</a>"
      ],
      "text/plain": [
       "<IPython.core.display.HTML object>"
      ]
     },
     "metadata": {},
     "output_type": "display_data"
    },
    {
     "data": {
      "text/html": [
       " View sweep at <a href='https://wandb.ai/dylan-home/pnca-sweep-1/sweeps/tr8mwg42' target=\"_blank\">https://wandb.ai/dylan-home/pnca-sweep-1/sweeps/tr8mwg42</a>"
      ],
      "text/plain": [
       "<IPython.core.display.HTML object>"
      ]
     },
     "metadata": {},
     "output_type": "display_data"
    },
    {
     "data": {
      "text/html": [
       " View run at <a href='https://wandb.ai/dylan-home/pnca-sweep-1/runs/zcwmb2gq' target=\"_blank\">https://wandb.ai/dylan-home/pnca-sweep-1/runs/zcwmb2gq</a>"
      ],
      "text/plain": [
       "<IPython.core.display.HTML object>"
      ]
     },
     "metadata": {},
     "output_type": "display_data"
    },
    {
     "name": "stdout",
     "output_type": "stream",
     "text": [
      "Using CUDA\n",
      "Early stopping enabled. Patience: 20. Min Delta: 0.\n",
      "Epoch: 010, Train Acc: 0.4953, Test Acc: 0.4887, Train Loss: 0.6921, Test Loss: 0.6911\n",
      "Epoch: 020, Train Acc: 0.4987, Test Acc: 0.4993, Train Loss: 0.6907, Test Loss: 0.6896\n",
      "Epoch: 030, Train Acc: 0.5183, Test Acc: 0.5103, Train Loss: 0.6895, Test Loss: 0.6887\n",
      "Epoch: 040, Train Acc: 0.4563, Test Acc: 0.4623, Train Loss: 0.6899, Test Loss: 0.6872\n",
      "Epoch: 050, Train Acc: 0.5850, Test Acc: 0.6063, Train Loss: 0.6897, Test Loss: 0.6862\n",
      "Epoch: 060, Train Acc: 0.5229, Test Acc: 0.5110, Train Loss: 0.6858, Test Loss: 0.6853\n",
      "Epoch: 070, Train Acc: 0.5066, Test Acc: 0.5010, Train Loss: 0.6838, Test Loss: 0.6819\n",
      "Epoch: 080, Train Acc: 0.6407, Test Acc: 0.6443, Train Loss: 0.6842, Test Loss: 0.6801\n",
      "Epoch: 090, Train Acc: 0.5201, Test Acc: 0.5083, Train Loss: 0.6802, Test Loss: 0.6797\n",
      "Epoch: 100, Train Acc: 0.4789, Test Acc: 0.4983, Train Loss: 0.6747, Test Loss: 0.6712\n",
      "Epoch: 110, Train Acc: 0.5893, Test Acc: 0.6183, Train Loss: 0.6760, Test Loss: 0.6693\n",
      "Epoch: 120, Train Acc: 0.7039, Test Acc: 0.7013, Train Loss: 0.6625, Test Loss: 0.6582\n",
      "Epoch: 130, Train Acc: 0.6809, Test Acc: 0.6817, Train Loss: 0.6561, Test Loss: 0.6483\n",
      "Epoch: 140, Train Acc: 0.6719, Test Acc: 0.6810, Train Loss: 0.6461, Test Loss: 0.6378\n",
      "Epoch: 150, Train Acc: 0.7194, Test Acc: 0.7207, Train Loss: 0.6336, Test Loss: 0.6249\n",
      "Epoch: 160, Train Acc: 0.6297, Test Acc: 0.6547, Train Loss: 0.6396, Test Loss: 0.6237\n",
      "Epoch: 170, Train Acc: 0.5257, Test Acc: 0.5120, Train Loss: 0.6588, Test Loss: 0.6620\n",
      "Epoch: 180, Train Acc: 0.5226, Test Acc: 0.5050, Train Loss: 0.6120, Test Loss: 0.6077\n",
      "Epoch: 190, Train Acc: 0.7431, Test Acc: 0.7337, Train Loss: 0.5934, Test Loss: 0.5838\n",
      "Epoch: 200, Train Acc: 0.7590, Test Acc: 0.7403, Train Loss: 0.5874, Test Loss: 0.5797\n",
      "Epoch: 210, Train Acc: 0.5313, Test Acc: 0.5043, Train Loss: 0.6102, Test Loss: 0.6165\n",
      "Epoch: 220, Train Acc: 0.7703, Test Acc: 0.7417, Train Loss: 0.5660, Test Loss: 0.5642\n",
      "Epoch: 230, Train Acc: 0.7559, Test Acc: 0.7293, Train Loss: 0.5488, Test Loss: 0.5424\n",
      "Epoch: 240, Train Acc: 0.7729, Test Acc: 0.7557, Train Loss: 0.5442, Test Loss: 0.5436\n",
      "Epoch: 250, Train Acc: 0.7251, Test Acc: 0.7293, Train Loss: 0.5382, Test Loss: 0.5320\n",
      "Epoch: 260, Train Acc: 0.7774, Test Acc: 0.7537, Train Loss: 0.5164, Test Loss: 0.5225\n",
      "Epoch: 270, Train Acc: 0.7459, Test Acc: 0.7417, Train Loss: 0.5161, Test Loss: 0.5159\n",
      "Epoch: 280, Train Acc: 0.7407, Test Acc: 0.7433, Train Loss: 0.5149, Test Loss: 0.5152\n",
      "Epoch: 290, Train Acc: 0.7920, Test Acc: 0.7537, Train Loss: 0.4972, Test Loss: 0.5145\n",
      "Epoch: 300, Train Acc: 0.7590, Test Acc: 0.7587, Train Loss: 0.4909, Test Loss: 0.5004\n",
      "Epoch: 310, Train Acc: 0.7727, Test Acc: 0.7610, Train Loss: 0.4768, Test Loss: 0.4961\n",
      "Epoch: 320, Train Acc: 0.7930, Test Acc: 0.7573, Train Loss: 0.4726, Test Loss: 0.4989\n",
      "Epoch: 330, Train Acc: 0.7480, Test Acc: 0.7107, Train Loss: 0.5510, Test Loss: 0.5992\n",
      "Epoch: 340, Train Acc: 0.7414, Test Acc: 0.7487, Train Loss: 0.4975, Test Loss: 0.5101\n",
      "Epoch: 350, Train Acc: 0.7434, Test Acc: 0.7500, Train Loss: 0.4932, Test Loss: 0.5098\n",
      "Epoch: 360, Train Acc: 0.7650, Test Acc: 0.7587, Train Loss: 0.4665, Test Loss: 0.4914\n",
      "Epoch: 370, Train Acc: 0.7903, Test Acc: 0.7647, Train Loss: 0.4434, Test Loss: 0.4819\n",
      "Epoch: 380, Train Acc: 0.8160, Test Acc: 0.7597, Train Loss: 0.4479, Test Loss: 0.5064\n",
      "Epoch: 390, Train Acc: 0.7554, Test Acc: 0.7587, Train Loss: 0.4725, Test Loss: 0.5023\n",
      "Epoch: 400, Train Acc: 0.7811, Test Acc: 0.7670, Train Loss: 0.4412, Test Loss: 0.4827\n",
      "20 epochs passed without 0 test loss improvement. \n",
      "Early stopping triggered.\n"
     ]
    },
    {
     "data": {
      "text/html": [
       "<style>\n",
       "    table.wandb td:nth-child(1) { padding: 0 10px; text-align: left ; width: auto;} td:nth-child(2) {text-align: left ; width: 100%}\n",
       "    .wandb-row { display: flex; flex-direction: row; flex-wrap: wrap; justify-content: flex-start; width: 100% }\n",
       "    .wandb-col { display: flex; flex-direction: column; flex-basis: 100%; flex: 1; padding: 10px; }\n",
       "    </style>\n",
       "<div class=\"wandb-row\"><div class=\"wandb-col\"><h3>Run history:</h3><br/><table class=\"wandb\"><tr><td>Test Accuracy</td><td>▃▂▂▂▂▁▆▆▁▁▁▁▅▁▂▆▂▂▅▇▇▇▇█▇██▇█▇█▇████████</td></tr><tr><td>Test F1</td><td>▁▇▇▇▇▆▇▇▇▇▆▆▅▆▆▆▆▆▅█▇██████▇█▇█▇▇█████▇▇</td></tr><tr><td>Test Loss</td><td>██▇▇▇▇▇▇▇▇▇▇▆▆▆▅▅▅▅▄▄▄▄▃▄▂▃▂▂▂▃▂▂▂▁▂▁▁▂▂</td></tr><tr><td>Test Sensitivity</td><td>▁████▇▅▅██▇▇▃▇▇▄▇▇▃▆▅▆▇▆▇▆▇▅▆▅▇▅▅▆▅▆▅▆▅▅</td></tr><tr><td>Test Specificity</td><td>█▁▁▁▁▁▆▆▁▁▁▁▇▂▂▇▂▂█▆▇▆▆▆▅▇▆▇▇▇▆▇▇▆▇▆▇▇▇▇</td></tr><tr><td>Train Accuracy</td><td>▁▂▂▁▁▁▅▅▁▁▁▁▄▁▁▅▂▂▄▇▆▇▇▇▇▇▇▆▇▇▇▆▇█▇█▇█▇▇</td></tr><tr><td>Train F1</td><td>▁▇▇▇▇▆▇▇▆▇▆▆▅▆▆▆▆▆▅▇▇██████▇▇▇█▇▇█▇█▇█▇▇</td></tr><tr><td>Train Loss</td><td>████████▇▇▇▇▇▇▆▆▆▆▆▅▅▄▄▄▄▃▃▃▂▂▃▃▂▂▂▂▁▁▂▂</td></tr><tr><td>Train Sensitivity</td><td>▁████▇▅▅██▇▇▃▇▇▄▇▇▃▆▅▆▇▆▇▆▇▅▆▅▇▅▅▇▆▇▅▆▅▅</td></tr><tr><td>Train Specificity</td><td>█▁▁▁▁▁▆▇▁▁▁▂█▂▂▇▂▂█▇▇▆▆▇▆▇▆▇▇▇▆█▇▇▇▇▇▇██</td></tr></table><br/></div><div class=\"wandb-col\"><h3>Run summary:</h3><br/><table class=\"wandb\"><tr><td>Test Accuracy</td><td>0.76067</td></tr><tr><td>Test F1</td><td>0.78567</td></tr><tr><td>Test Loss</td><td>0.53034</td></tr><tr><td>Test Sensitivity</td><td>0.85845</td></tr><tr><td>Test Specificity</td><td>0.65849</td></tr><tr><td>Train Accuracy</td><td>0.811</td></tr><tr><td>Train F1</td><td>0.8317</td></tr><tr><td>Train Loss</td><td>0.46021</td></tr><tr><td>Train Sensitivity</td><td>0.88711</td></tr><tr><td>Train Specificity</td><td>0.7264</td></tr></table><br/></div></div>"
      ],
      "text/plain": [
       "<IPython.core.display.HTML object>"
      ]
     },
     "metadata": {},
     "output_type": "display_data"
    },
    {
     "data": {
      "text/html": [
       " View run <strong style=\"color:#cdcd00\">stoic-sweep-51</strong> at: <a href='https://wandb.ai/dylan-home/pnca-sweep-1/runs/zcwmb2gq' target=\"_blank\">https://wandb.ai/dylan-home/pnca-sweep-1/runs/zcwmb2gq</a><br/>Synced 5 W&B file(s), 0 media file(s), 0 artifact file(s) and 0 other file(s)"
      ],
      "text/plain": [
       "<IPython.core.display.HTML object>"
      ]
     },
     "metadata": {},
     "output_type": "display_data"
    },
    {
     "data": {
      "text/html": [
       "Find logs at: <code>./wandb/run-20250116_040435-zcwmb2gq/logs</code>"
      ],
      "text/plain": [
       "<IPython.core.display.HTML object>"
      ]
     },
     "metadata": {},
     "output_type": "display_data"
    },
    {
     "name": "stderr",
     "output_type": "stream",
     "text": [
      "\u001b[34m\u001b[1mwandb\u001b[0m: Agent Starting Run: 3q2vix2f with config:\n",
      "\u001b[34m\u001b[1mwandb\u001b[0m: \tcutoff_distance: 5.760099066119618\n",
      "\u001b[34m\u001b[1mwandb\u001b[0m: \tdropout: 0.6\n",
      "\u001b[34m\u001b[1mwandb\u001b[0m: \thidden_channels: 192\n",
      "\u001b[34m\u001b[1mwandb\u001b[0m: \tlearning_rate: 0.0005445575556768491\n",
      "\u001b[34m\u001b[1mwandb\u001b[0m: \tweight_decay: 0.0001289234279980852\n",
      "Failed to detect the name of this notebook, you can set it manually with the WANDB_NOTEBOOK_NAME environment variable to enable code saving.\n",
      "/usr/lib/python3/dist-packages/requests/__init__.py:87: RequestsDependencyWarning: urllib3 (2.2.3) or chardet (4.0.0) doesn't match a supported version!\n",
      "  warnings.warn(\"urllib3 ({}) or chardet ({}) doesn't match a supported \"\n"
     ]
    },
    {
     "data": {
      "text/html": [
       "wandb version 0.19.3 is available!  To upgrade, please run:\n",
       " $ pip install wandb --upgrade"
      ],
      "text/plain": [
       "<IPython.core.display.HTML object>"
      ]
     },
     "metadata": {},
     "output_type": "display_data"
    },
    {
     "data": {
      "text/html": [
       "Tracking run with wandb version 0.16.4"
      ],
      "text/plain": [
       "<IPython.core.display.HTML object>"
      ]
     },
     "metadata": {},
     "output_type": "display_data"
    },
    {
     "data": {
      "text/html": [
       "Run data is saved locally in <code>/mnt/alphafold-volume-1/dylan2/repos/tb-pnca-gnn/dd_pnca/wandb/run-20250116_041632-3q2vix2f</code>"
      ],
      "text/plain": [
       "<IPython.core.display.HTML object>"
      ]
     },
     "metadata": {},
     "output_type": "display_data"
    },
    {
     "data": {
      "text/html": [
       "Syncing run <strong><a href='https://wandb.ai/dylan-home/pnca-sweep-1/runs/3q2vix2f' target=\"_blank\">lilac-sweep-52</a></strong> to <a href='https://wandb.ai/dylan-home/pnca-sweep-1' target=\"_blank\">Weights & Biases</a> (<a href='https://wandb.me/run' target=\"_blank\">docs</a>)<br/>Sweep page: <a href='https://wandb.ai/dylan-home/pnca-sweep-1/sweeps/tr8mwg42' target=\"_blank\">https://wandb.ai/dylan-home/pnca-sweep-1/sweeps/tr8mwg42</a>"
      ],
      "text/plain": [
       "<IPython.core.display.HTML object>"
      ]
     },
     "metadata": {},
     "output_type": "display_data"
    },
    {
     "data": {
      "text/html": [
       " View project at <a href='https://wandb.ai/dylan-home/pnca-sweep-1' target=\"_blank\">https://wandb.ai/dylan-home/pnca-sweep-1</a>"
      ],
      "text/plain": [
       "<IPython.core.display.HTML object>"
      ]
     },
     "metadata": {},
     "output_type": "display_data"
    },
    {
     "data": {
      "text/html": [
       " View sweep at <a href='https://wandb.ai/dylan-home/pnca-sweep-1/sweeps/tr8mwg42' target=\"_blank\">https://wandb.ai/dylan-home/pnca-sweep-1/sweeps/tr8mwg42</a>"
      ],
      "text/plain": [
       "<IPython.core.display.HTML object>"
      ]
     },
     "metadata": {},
     "output_type": "display_data"
    },
    {
     "data": {
      "text/html": [
       " View run at <a href='https://wandb.ai/dylan-home/pnca-sweep-1/runs/3q2vix2f' target=\"_blank\">https://wandb.ai/dylan-home/pnca-sweep-1/runs/3q2vix2f</a>"
      ],
      "text/plain": [
       "<IPython.core.display.HTML object>"
      ]
     },
     "metadata": {},
     "output_type": "display_data"
    },
    {
     "name": "stdout",
     "output_type": "stream",
     "text": [
      "Using CUDA\n",
      "Early stopping enabled. Patience: 20. Min Delta: 0.\n",
      "Epoch: 010, Train Acc: 0.5264, Test Acc: 0.5110, Train Loss: 0.6918, Test Loss: 0.6937\n",
      "Epoch: 020, Train Acc: 0.5264, Test Acc: 0.5110, Train Loss: 0.6909, Test Loss: 0.6914\n",
      "Epoch: 030, Train Acc: 0.5264, Test Acc: 0.5110, Train Loss: 0.6902, Test Loss: 0.6907\n",
      "Epoch: 040, Train Acc: 0.5264, Test Acc: 0.5110, Train Loss: 0.6874, Test Loss: 0.6891\n",
      "Epoch: 050, Train Acc: 0.5261, Test Acc: 0.5110, Train Loss: 0.6862, Test Loss: 0.6866\n",
      "Epoch: 060, Train Acc: 0.5024, Test Acc: 0.4840, Train Loss: 0.6760, Test Loss: 0.6752\n",
      "Epoch: 070, Train Acc: 0.5710, Test Acc: 0.6150, Train Loss: 0.6779, Test Loss: 0.6736\n",
      "Epoch: 080, Train Acc: 0.5243, Test Acc: 0.5103, Train Loss: 0.6635, Test Loss: 0.6686\n",
      "Epoch: 090, Train Acc: 0.7550, Test Acc: 0.7257, Train Loss: 0.6302, Test Loss: 0.6331\n",
      "Epoch: 100, Train Acc: 0.6834, Test Acc: 0.6743, Train Loss: 0.6145, Test Loss: 0.6192\n",
      "Epoch: 110, Train Acc: 0.5131, Test Acc: 0.4843, Train Loss: 0.5995, Test Loss: 0.6195\n",
      "Epoch: 120, Train Acc: 0.6843, Test Acc: 0.6290, Train Loss: 0.6011, Test Loss: 0.6249\n",
      "Epoch: 130, Train Acc: 0.6801, Test Acc: 0.6453, Train Loss: 0.5872, Test Loss: 0.6154\n",
      "20 epochs passed without 0 test loss improvement. \n",
      "Early stopping triggered.\n"
     ]
    },
    {
     "data": {
      "text/html": [
       "<style>\n",
       "    table.wandb td:nth-child(1) { padding: 0 10px; text-align: left ; width: auto;} td:nth-child(2) {text-align: left ; width: 100%}\n",
       "    .wandb-row { display: flex; flex-direction: row; flex-wrap: wrap; justify-content: flex-start; width: 100% }\n",
       "    .wandb-col { display: flex; flex-direction: column; flex-basis: 100%; flex: 1; padding: 10px; }\n",
       "    </style>\n",
       "<div class=\"wandb-row\"><div class=\"wandb-col\"><h3>Run history:</h3><br/><table class=\"wandb\"><tr><td>Test Accuracy</td><td>▂▁▁▂▂▂▂▂▇▂▂▂▁▁▂▂▂▂▃▂▂▂▄▇▅██▂▂▇█▆▁▇▇▅▂▇▆▇</td></tr><tr><td>Test F1</td><td>▇▁▁▇▇▇▇▇▇▇▇▇▇▇▇▇▇▇▃▇▂▇▄▇▅██▇▇▇█▆▇▇▆▆▇▇▆▇</td></tr><tr><td>Test Loss</td><td>▇▇▇▇▇▇▇▇▇▇▇▇▇▇▇▇▇▇▇█▇▇▆▅▅▄▄▇▅▃▂▃▃▁▂▃▄▁▂▁</td></tr><tr><td>Test Sensitivity</td><td>█▁▁█████▅███▇▇████▂█▁█▂▄▃▅▆██▄▅▄▇▅▄▄█▅▄▄</td></tr><tr><td>Test Specificity</td><td>▁██▁▁▁▁▁▇▁▁▁▂▂▁▁▁▁█▁█▁█▇█▇▆▁▁▇▇█▂▇█▇▁▇▇▇</td></tr><tr><td>Train Accuracy</td><td>▂▁▁▂▂▂▂▂▇▂▂▂▂▂▂▂▂▂▂▂▂▂▃▆▅██▂▂▆█▆▂█▆▆▂▇▆▇</td></tr><tr><td>Train F1</td><td>▇▁▁▇▇▇▇▇▇▇▇▇▇▇▇▇▇▇▃▇▂▇▃▆▅██▇▇▇█▆▇█▆▇▇▇▇▇</td></tr><tr><td>Train Loss</td><td>███▇▇▇▇▇▇▇▇▇▇▇▇▇▇▇▇██▇▇▆▆▅▅▇▅▄▃▄▃▂▃▃▄▁▂▁</td></tr><tr><td>Train Sensitivity</td><td>█▁▁█████▅███▇▇████▂█▁█▂▄▃▅▆██▄▆▄▇▅▄▄█▅▄▅</td></tr><tr><td>Train Specificity</td><td>▁██▁▁▁▁▁▇▁▁▁▂▂▁▁▁▁█▁█▁█▇█▇▆▁▁▇▇█▂▇█▇▁▇▇▇</td></tr></table><br/></div><div class=\"wandb-col\"><h3>Run summary:</h3><br/><table class=\"wandb\"><tr><td>Test Accuracy</td><td>0.69533</td></tr><tr><td>Test F1</td><td>0.65535</td></tr><tr><td>Test Loss</td><td>0.60129</td></tr><tr><td>Test Sensitivity</td><td>0.56686</td></tr><tr><td>Test Specificity</td><td>0.82958</td></tr><tr><td>Train Accuracy</td><td>0.71914</td></tr><tr><td>Train F1</td><td>0.69377</td></tr><tr><td>Train Loss</td><td>0.56879</td></tr><tr><td>Train Sensitivity</td><td>0.60434</td></tr><tr><td>Train Specificity</td><td>0.84676</td></tr></table><br/></div></div>"
      ],
      "text/plain": [
       "<IPython.core.display.HTML object>"
      ]
     },
     "metadata": {},
     "output_type": "display_data"
    },
    {
     "data": {
      "text/html": [
       " View run <strong style=\"color:#cdcd00\">lilac-sweep-52</strong> at: <a href='https://wandb.ai/dylan-home/pnca-sweep-1/runs/3q2vix2f' target=\"_blank\">https://wandb.ai/dylan-home/pnca-sweep-1/runs/3q2vix2f</a><br/>Synced 5 W&B file(s), 0 media file(s), 0 artifact file(s) and 0 other file(s)"
      ],
      "text/plain": [
       "<IPython.core.display.HTML object>"
      ]
     },
     "metadata": {},
     "output_type": "display_data"
    },
    {
     "data": {
      "text/html": [
       "Find logs at: <code>./wandb/run-20250116_041632-3q2vix2f/logs</code>"
      ],
      "text/plain": [
       "<IPython.core.display.HTML object>"
      ]
     },
     "metadata": {},
     "output_type": "display_data"
    },
    {
     "name": "stderr",
     "output_type": "stream",
     "text": [
      "\u001b[34m\u001b[1mwandb\u001b[0m: Agent Starting Run: b6f52kc4 with config:\n",
      "\u001b[34m\u001b[1mwandb\u001b[0m: \tcutoff_distance: 5.993645997307688\n",
      "\u001b[34m\u001b[1mwandb\u001b[0m: \tdropout: 0.2\n",
      "\u001b[34m\u001b[1mwandb\u001b[0m: \thidden_channels: 128\n",
      "\u001b[34m\u001b[1mwandb\u001b[0m: \tlearning_rate: 6.500190852957447e-05\n",
      "\u001b[34m\u001b[1mwandb\u001b[0m: \tweight_decay: 3.187210013579679e-05\n",
      "Failed to detect the name of this notebook, you can set it manually with the WANDB_NOTEBOOK_NAME environment variable to enable code saving.\n",
      "/usr/lib/python3/dist-packages/requests/__init__.py:87: RequestsDependencyWarning: urllib3 (2.2.3) or chardet (4.0.0) doesn't match a supported version!\n",
      "  warnings.warn(\"urllib3 ({}) or chardet ({}) doesn't match a supported \"\n"
     ]
    },
    {
     "data": {
      "text/html": [
       "wandb version 0.19.3 is available!  To upgrade, please run:\n",
       " $ pip install wandb --upgrade"
      ],
      "text/plain": [
       "<IPython.core.display.HTML object>"
      ]
     },
     "metadata": {},
     "output_type": "display_data"
    },
    {
     "data": {
      "text/html": [
       "Tracking run with wandb version 0.16.4"
      ],
      "text/plain": [
       "<IPython.core.display.HTML object>"
      ]
     },
     "metadata": {},
     "output_type": "display_data"
    },
    {
     "data": {
      "text/html": [
       "Run data is saved locally in <code>/mnt/alphafold-volume-1/dylan2/repos/tb-pnca-gnn/dd_pnca/wandb/run-20250116_042059-b6f52kc4</code>"
      ],
      "text/plain": [
       "<IPython.core.display.HTML object>"
      ]
     },
     "metadata": {},
     "output_type": "display_data"
    },
    {
     "data": {
      "text/html": [
       "Syncing run <strong><a href='https://wandb.ai/dylan-home/pnca-sweep-1/runs/b6f52kc4' target=\"_blank\">ancient-sweep-53</a></strong> to <a href='https://wandb.ai/dylan-home/pnca-sweep-1' target=\"_blank\">Weights & Biases</a> (<a href='https://wandb.me/run' target=\"_blank\">docs</a>)<br/>Sweep page: <a href='https://wandb.ai/dylan-home/pnca-sweep-1/sweeps/tr8mwg42' target=\"_blank\">https://wandb.ai/dylan-home/pnca-sweep-1/sweeps/tr8mwg42</a>"
      ],
      "text/plain": [
       "<IPython.core.display.HTML object>"
      ]
     },
     "metadata": {},
     "output_type": "display_data"
    },
    {
     "data": {
      "text/html": [
       " View project at <a href='https://wandb.ai/dylan-home/pnca-sweep-1' target=\"_blank\">https://wandb.ai/dylan-home/pnca-sweep-1</a>"
      ],
      "text/plain": [
       "<IPython.core.display.HTML object>"
      ]
     },
     "metadata": {},
     "output_type": "display_data"
    },
    {
     "data": {
      "text/html": [
       " View sweep at <a href='https://wandb.ai/dylan-home/pnca-sweep-1/sweeps/tr8mwg42' target=\"_blank\">https://wandb.ai/dylan-home/pnca-sweep-1/sweeps/tr8mwg42</a>"
      ],
      "text/plain": [
       "<IPython.core.display.HTML object>"
      ]
     },
     "metadata": {},
     "output_type": "display_data"
    },
    {
     "data": {
      "text/html": [
       " View run at <a href='https://wandb.ai/dylan-home/pnca-sweep-1/runs/b6f52kc4' target=\"_blank\">https://wandb.ai/dylan-home/pnca-sweep-1/runs/b6f52kc4</a>"
      ],
      "text/plain": [
       "<IPython.core.display.HTML object>"
      ]
     },
     "metadata": {},
     "output_type": "display_data"
    },
    {
     "name": "stdout",
     "output_type": "stream",
     "text": [
      "Using CUDA\n",
      "Early stopping enabled. Patience: 20. Min Delta: 0.\n",
      "Epoch: 010, Train Acc: 0.5263, Test Acc: 0.5107, Train Loss: 0.6925, Test Loss: 0.6955\n",
      "Epoch: 020, Train Acc: 0.5237, Test Acc: 0.5050, Train Loss: 0.6904, Test Loss: 0.6915\n",
      "Epoch: 030, Train Acc: 0.5264, Test Acc: 0.5110, Train Loss: 0.6882, Test Loss: 0.6899\n",
      "Epoch: 040, Train Acc: 0.5211, Test Acc: 0.5013, Train Loss: 0.6845, Test Loss: 0.6845\n",
      "Epoch: 050, Train Acc: 0.5264, Test Acc: 0.5110, Train Loss: 0.6898, Test Loss: 0.6926\n",
      "Epoch: 060, Train Acc: 0.5834, Test Acc: 0.6343, Train Loss: 0.6841, Test Loss: 0.6789\n",
      "Epoch: 070, Train Acc: 0.5251, Test Acc: 0.5103, Train Loss: 0.6804, Test Loss: 0.6816\n",
      "Epoch: 080, Train Acc: 0.5210, Test Acc: 0.5030, Train Loss: 0.6761, Test Loss: 0.6761\n",
      "Epoch: 090, Train Acc: 0.6969, Test Acc: 0.6730, Train Loss: 0.6708, Test Loss: 0.6661\n",
      "Epoch: 100, Train Acc: 0.6599, Test Acc: 0.6570, Train Loss: 0.6686, Test Loss: 0.6620\n",
      "Epoch: 110, Train Acc: 0.4991, Test Acc: 0.4767, Train Loss: 0.6646, Test Loss: 0.6627\n",
      "Epoch: 120, Train Acc: 0.5016, Test Acc: 0.4767, Train Loss: 0.6612, Test Loss: 0.6599\n",
      "Epoch: 130, Train Acc: 0.6344, Test Acc: 0.6540, Train Loss: 0.6628, Test Loss: 0.6532\n",
      "Epoch: 140, Train Acc: 0.6983, Test Acc: 0.6750, Train Loss: 0.6509, Test Loss: 0.6458\n",
      "Epoch: 150, Train Acc: 0.6154, Test Acc: 0.6483, Train Loss: 0.6602, Test Loss: 0.6489\n",
      "Epoch: 160, Train Acc: 0.5073, Test Acc: 0.4723, Train Loss: 0.6452, Test Loss: 0.6473\n",
      "Epoch: 170, Train Acc: 0.7149, Test Acc: 0.6753, Train Loss: 0.6387, Test Loss: 0.6365\n",
      "Epoch: 180, Train Acc: 0.7201, Test Acc: 0.6837, Train Loss: 0.6325, Test Loss: 0.6309\n",
      "Epoch: 190, Train Acc: 0.7203, Test Acc: 0.6673, Train Loss: 0.6286, Test Loss: 0.6309\n",
      "Epoch: 200, Train Acc: 0.5216, Test Acc: 0.4993, Train Loss: 0.6578, Test Loss: 0.6725\n",
      "Epoch: 210, Train Acc: 0.7283, Test Acc: 0.6750, Train Loss: 0.6197, Test Loss: 0.6253\n",
      "Epoch: 220, Train Acc: 0.7041, Test Acc: 0.6797, Train Loss: 0.6172, Test Loss: 0.6150\n",
      "Epoch: 230, Train Acc: 0.7244, Test Acc: 0.6947, Train Loss: 0.6064, Test Loss: 0.6095\n",
      "Epoch: 240, Train Acc: 0.7453, Test Acc: 0.6967, Train Loss: 0.6006, Test Loss: 0.6111\n",
      "Epoch: 250, Train Acc: 0.6869, Test Acc: 0.6733, Train Loss: 0.6076, Test Loss: 0.6071\n",
      "Epoch: 260, Train Acc: 0.5240, Test Acc: 0.4857, Train Loss: 0.6068, Test Loss: 0.6272\n",
      "Epoch: 270, Train Acc: 0.7436, Test Acc: 0.7140, Train Loss: 0.5825, Test Loss: 0.5957\n",
      "Epoch: 280, Train Acc: 0.7551, Test Acc: 0.7060, Train Loss: 0.5792, Test Loss: 0.6008\n",
      "Epoch: 290, Train Acc: 0.6851, Test Acc: 0.6697, Train Loss: 0.5922, Test Loss: 0.5982\n",
      "Epoch: 300, Train Acc: 0.7643, Test Acc: 0.7120, Train Loss: 0.5667, Test Loss: 0.5928\n",
      "Epoch: 310, Train Acc: 0.7651, Test Acc: 0.7273, Train Loss: 0.5605, Test Loss: 0.5861\n",
      "Epoch: 320, Train Acc: 0.7407, Test Acc: 0.7017, Train Loss: 0.5545, Test Loss: 0.5760\n",
      "Epoch: 330, Train Acc: 0.6671, Test Acc: 0.6690, Train Loss: 0.5977, Test Loss: 0.6070\n",
      "Epoch: 340, Train Acc: 0.7434, Test Acc: 0.6947, Train Loss: 0.5644, Test Loss: 0.6108\n",
      "Epoch: 350, Train Acc: 0.7640, Test Acc: 0.7153, Train Loss: 0.5313, Test Loss: 0.5647\n",
      "Epoch: 360, Train Acc: 0.7726, Test Acc: 0.7300, Train Loss: 0.5251, Test Loss: 0.5642\n",
      "Epoch: 370, Train Acc: 0.7686, Test Acc: 0.7230, Train Loss: 0.5163, Test Loss: 0.5596\n",
      "Epoch: 380, Train Acc: 0.7800, Test Acc: 0.7390, Train Loss: 0.5117, Test Loss: 0.5610\n",
      "Epoch: 390, Train Acc: 0.7740, Test Acc: 0.7323, Train Loss: 0.5033, Test Loss: 0.5533\n",
      "Epoch: 400, Train Acc: 0.7844, Test Acc: 0.7400, Train Loss: 0.5140, Test Loss: 0.5744\n",
      "Epoch: 410, Train Acc: 0.7883, Test Acc: 0.7390, Train Loss: 0.5063, Test Loss: 0.5742\n",
      "Epoch: 420, Train Acc: 0.7870, Test Acc: 0.7210, Train Loss: 0.5160, Test Loss: 0.5893\n",
      "Epoch: 430, Train Acc: 0.7881, Test Acc: 0.7403, Train Loss: 0.4837, Test Loss: 0.5467\n",
      "Epoch: 440, Train Acc: 0.5421, Test Acc: 0.5050, Train Loss: 0.5742, Test Loss: 0.6666\n",
      "Epoch: 450, Train Acc: 0.7810, Test Acc: 0.7270, Train Loss: 0.5075, Test Loss: 0.5983\n",
      "Epoch: 460, Train Acc: 0.7906, Test Acc: 0.7450, Train Loss: 0.4675, Test Loss: 0.5412\n",
      "Epoch: 470, Train Acc: 0.7657, Test Acc: 0.7120, Train Loss: 0.4832, Test Loss: 0.5482\n",
      "Epoch: 480, Train Acc: 0.7701, Test Acc: 0.7193, Train Loss: 0.4684, Test Loss: 0.5410\n",
      "Epoch: 490, Train Acc: 0.7507, Test Acc: 0.7100, Train Loss: 0.5310, Test Loss: 0.6400\n",
      "Epoch: 500, Train Acc: 0.8043, Test Acc: 0.7477, Train Loss: 0.4604, Test Loss: 0.5578\n"
     ]
    },
    {
     "data": {
      "text/html": [
       "<style>\n",
       "    table.wandb td:nth-child(1) { padding: 0 10px; text-align: left ; width: auto;} td:nth-child(2) {text-align: left ; width: 100%}\n",
       "    .wandb-row { display: flex; flex-direction: row; flex-wrap: wrap; justify-content: flex-start; width: 100% }\n",
       "    .wandb-col { display: flex; flex-direction: column; flex-basis: 100%; flex: 1; padding: 10px; }\n",
       "    </style>\n",
       "<div class=\"wandb-row\"><div class=\"wandb-col\"><h3>Run history:</h3><br/><table class=\"wandb\"><tr><td>Test Accuracy</td><td>▂▂▅▂▂▂▂▁▂▆▆▆▁▅▆▆▆▆▁▇▆▇▇▆▆▇▇▇▇▇█▇▇▇▇██▇██</td></tr><tr><td>Test F1</td><td>▆▆▃▅▅▆▅▄▆▃▂▅▄▁▆▄▆▄▄▆▂▇▇▄▄▅██▇▅█▄▆█▄▇█▇██</td></tr><tr><td>Test Loss</td><td>██▇▇▇▇▇▆█▆▆▆▆▆▅▅▅▄▅▄▄▄▄▃▃▃▃▃▂▂▂▂▂▃▂▁▁▁▁▁</td></tr><tr><td>Test Sensitivity</td><td>██▂████▇█▂▁▃▆▁▄▃▅▃▆▃▁▅▅▃▃▃▆▅▄▃▅▃▄▆▃▄▅▄▅▅</td></tr><tr><td>Test Specificity</td><td>▁▁▇▁▁▁▁▁▁▇█▇▂█▆▇▆▇▂▇█▆▆▇▇▇▆▆▇▇▇█▇▆█▇▇▇▇▇</td></tr><tr><td>Train Accuracy</td><td>▂▂▅▂▂▂▂▁▂▅▄▆▁▄▆▆▆▆▂▆▄▇▇▆▆▇▇▇▇▇▇▆▇█▆██▇██</td></tr><tr><td>Train F1</td><td>▆▆▅▆▆▆▆▅▆▄▂▅▅▁▆▅▇▅▅▆▃▇▇▅▆▆██▇▆█▅▇█▅▇▇▇██</td></tr><tr><td>Train Loss</td><td>██████▇▇█▇▇▇▇▇▆▆▆▆▆▅▆▅▅▄▄▄▄▄▃▃▃▃▂▃▃▂▁▁▁▁</td></tr><tr><td>Train Sensitivity</td><td>██▃████▇█▃▁▄▇▁▅▃▆▃▆▄▂▆▆▄▄▄▆▆▅▄▆▃▄▇▃▅▅▅▅▅</td></tr><tr><td>Train Specificity</td><td>▁▁▇▁▁▁▁▁▁██▇▂█▇▇▆█▃▇█▆▆███▆▇▇█▇██▆█▇▇█▇▇</td></tr></table><br/></div><div class=\"wandb-col\"><h3>Run summary:</h3><br/><table class=\"wandb\"><tr><td>Test Accuracy</td><td>0.74767</td></tr><tr><td>Test F1</td><td>0.75604</td></tr><tr><td>Test Loss</td><td>0.55775</td></tr><tr><td>Test Sensitivity</td><td>0.76517</td></tr><tr><td>Test Specificity</td><td>0.72938</td></tr><tr><td>Train Accuracy</td><td>0.80429</td></tr><tr><td>Train F1</td><td>0.81279</td></tr><tr><td>Train Loss</td><td>0.46037</td></tr><tr><td>Train Sensitivity</td><td>0.80706</td></tr><tr><td>Train Specificity</td><td>0.80121</td></tr></table><br/></div></div>"
      ],
      "text/plain": [
       "<IPython.core.display.HTML object>"
      ]
     },
     "metadata": {},
     "output_type": "display_data"
    },
    {
     "data": {
      "text/html": [
       " View run <strong style=\"color:#cdcd00\">ancient-sweep-53</strong> at: <a href='https://wandb.ai/dylan-home/pnca-sweep-1/runs/b6f52kc4' target=\"_blank\">https://wandb.ai/dylan-home/pnca-sweep-1/runs/b6f52kc4</a><br/>Synced 5 W&B file(s), 0 media file(s), 0 artifact file(s) and 0 other file(s)"
      ],
      "text/plain": [
       "<IPython.core.display.HTML object>"
      ]
     },
     "metadata": {},
     "output_type": "display_data"
    },
    {
     "data": {
      "text/html": [
       "Find logs at: <code>./wandb/run-20250116_042059-b6f52kc4/logs</code>"
      ],
      "text/plain": [
       "<IPython.core.display.HTML object>"
      ]
     },
     "metadata": {},
     "output_type": "display_data"
    },
    {
     "name": "stderr",
     "output_type": "stream",
     "text": [
      "\u001b[34m\u001b[1mwandb\u001b[0m: Agent Starting Run: 7twk8wl8 with config:\n",
      "\u001b[34m\u001b[1mwandb\u001b[0m: \tcutoff_distance: 8.264321701227972\n",
      "\u001b[34m\u001b[1mwandb\u001b[0m: \tdropout: 0.5\n",
      "\u001b[34m\u001b[1mwandb\u001b[0m: \thidden_channels: 256\n",
      "\u001b[34m\u001b[1mwandb\u001b[0m: \tlearning_rate: 0.00014412863756440905\n",
      "\u001b[34m\u001b[1mwandb\u001b[0m: \tweight_decay: 1.5030002836732357e-06\n",
      "Failed to detect the name of this notebook, you can set it manually with the WANDB_NOTEBOOK_NAME environment variable to enable code saving.\n",
      "/usr/lib/python3/dist-packages/requests/__init__.py:87: RequestsDependencyWarning: urllib3 (2.2.3) or chardet (4.0.0) doesn't match a supported version!\n",
      "  warnings.warn(\"urllib3 ({}) or chardet ({}) doesn't match a supported \"\n"
     ]
    },
    {
     "data": {
      "text/html": [
       "wandb version 0.19.3 is available!  To upgrade, please run:\n",
       " $ pip install wandb --upgrade"
      ],
      "text/plain": [
       "<IPython.core.display.HTML object>"
      ]
     },
     "metadata": {},
     "output_type": "display_data"
    },
    {
     "data": {
      "text/html": [
       "Tracking run with wandb version 0.16.4"
      ],
      "text/plain": [
       "<IPython.core.display.HTML object>"
      ]
     },
     "metadata": {},
     "output_type": "display_data"
    },
    {
     "data": {
      "text/html": [
       "Run data is saved locally in <code>/mnt/alphafold-volume-1/dylan2/repos/tb-pnca-gnn/dd_pnca/wandb/run-20250116_043550-7twk8wl8</code>"
      ],
      "text/plain": [
       "<IPython.core.display.HTML object>"
      ]
     },
     "metadata": {},
     "output_type": "display_data"
    },
    {
     "data": {
      "text/html": [
       "Syncing run <strong><a href='https://wandb.ai/dylan-home/pnca-sweep-1/runs/7twk8wl8' target=\"_blank\">zany-sweep-54</a></strong> to <a href='https://wandb.ai/dylan-home/pnca-sweep-1' target=\"_blank\">Weights & Biases</a> (<a href='https://wandb.me/run' target=\"_blank\">docs</a>)<br/>Sweep page: <a href='https://wandb.ai/dylan-home/pnca-sweep-1/sweeps/tr8mwg42' target=\"_blank\">https://wandb.ai/dylan-home/pnca-sweep-1/sweeps/tr8mwg42</a>"
      ],
      "text/plain": [
       "<IPython.core.display.HTML object>"
      ]
     },
     "metadata": {},
     "output_type": "display_data"
    },
    {
     "data": {
      "text/html": [
       " View project at <a href='https://wandb.ai/dylan-home/pnca-sweep-1' target=\"_blank\">https://wandb.ai/dylan-home/pnca-sweep-1</a>"
      ],
      "text/plain": [
       "<IPython.core.display.HTML object>"
      ]
     },
     "metadata": {},
     "output_type": "display_data"
    },
    {
     "data": {
      "text/html": [
       " View sweep at <a href='https://wandb.ai/dylan-home/pnca-sweep-1/sweeps/tr8mwg42' target=\"_blank\">https://wandb.ai/dylan-home/pnca-sweep-1/sweeps/tr8mwg42</a>"
      ],
      "text/plain": [
       "<IPython.core.display.HTML object>"
      ]
     },
     "metadata": {},
     "output_type": "display_data"
    },
    {
     "data": {
      "text/html": [
       " View run at <a href='https://wandb.ai/dylan-home/pnca-sweep-1/runs/7twk8wl8' target=\"_blank\">https://wandb.ai/dylan-home/pnca-sweep-1/runs/7twk8wl8</a>"
      ],
      "text/plain": [
       "<IPython.core.display.HTML object>"
      ]
     },
     "metadata": {},
     "output_type": "display_data"
    },
    {
     "name": "stdout",
     "output_type": "stream",
     "text": [
      "Using CUDA\n",
      "Early stopping enabled. Patience: 20. Min Delta: 0.\n",
      "Epoch: 010, Train Acc: 0.4736, Test Acc: 0.4890, Train Loss: 0.7078, Test Loss: 0.7003\n",
      "Epoch: 020, Train Acc: 0.5193, Test Acc: 0.5080, Train Loss: 0.6856, Test Loss: 0.6832\n",
      "Epoch: 030, Train Acc: 0.4810, Test Acc: 0.4693, Train Loss: 0.6825, Test Loss: 0.6773\n",
      "Epoch: 040, Train Acc: 0.5007, Test Acc: 0.4957, Train Loss: 0.6786, Test Loss: 0.6738\n",
      "Epoch: 050, Train Acc: 0.7121, Test Acc: 0.7000, Train Loss: 0.6760, Test Loss: 0.6685\n",
      "Epoch: 060, Train Acc: 0.7083, Test Acc: 0.7080, Train Loss: 0.6686, Test Loss: 0.6603\n",
      "Epoch: 070, Train Acc: 0.5573, Test Acc: 0.6250, Train Loss: 0.6763, Test Loss: 0.6622\n",
      "Epoch: 080, Train Acc: 0.5103, Test Acc: 0.5003, Train Loss: 0.6418, Test Loss: 0.6363\n",
      "Epoch: 090, Train Acc: 0.5206, Test Acc: 0.5020, Train Loss: 0.6476, Test Loss: 0.6466\n",
      "Epoch: 100, Train Acc: 0.6713, Test Acc: 0.6970, Train Loss: 0.6133, Test Loss: 0.5982\n",
      "Epoch: 110, Train Acc: 0.7401, Test Acc: 0.7250, Train Loss: 0.5968, Test Loss: 0.5900\n",
      "Epoch: 120, Train Acc: 0.6419, Test Acc: 0.6747, Train Loss: 0.6116, Test Loss: 0.5963\n",
      "Epoch: 130, Train Acc: 0.7677, Test Acc: 0.7430, Train Loss: 0.5533, Test Loss: 0.5585\n",
      "Epoch: 140, Train Acc: 0.7703, Test Acc: 0.7363, Train Loss: 0.5567, Test Loss: 0.5776\n",
      "Epoch: 150, Train Acc: 0.7179, Test Acc: 0.7173, Train Loss: 0.5398, Test Loss: 0.5454\n",
      "Epoch: 160, Train Acc: 0.7700, Test Acc: 0.7410, Train Loss: 0.5010, Test Loss: 0.5210\n",
      "Epoch: 170, Train Acc: 0.7800, Test Acc: 0.7510, Train Loss: 0.4854, Test Loss: 0.5154\n",
      "Epoch: 180, Train Acc: 0.7791, Test Acc: 0.7363, Train Loss: 0.4878, Test Loss: 0.5206\n",
      "Epoch: 190, Train Acc: 0.7969, Test Acc: 0.7567, Train Loss: 0.4599, Test Loss: 0.5124\n",
      "Epoch: 200, Train Acc: 0.7854, Test Acc: 0.7217, Train Loss: 0.5121, Test Loss: 0.5819\n",
      "Epoch: 210, Train Acc: 0.7856, Test Acc: 0.7447, Train Loss: 0.4546, Test Loss: 0.5027\n",
      "Epoch: 220, Train Acc: 0.8120, Test Acc: 0.7577, Train Loss: 0.4190, Test Loss: 0.4989\n",
      "Epoch: 230, Train Acc: 0.7901, Test Acc: 0.7330, Train Loss: 0.4986, Test Loss: 0.6193\n",
      "Epoch: 240, Train Acc: 0.8047, Test Acc: 0.7470, Train Loss: 0.4096, Test Loss: 0.5032\n",
      "20 epochs passed without 0 test loss improvement. \n",
      "Early stopping triggered.\n"
     ]
    },
    {
     "data": {
      "text/html": [
       "<style>\n",
       "    table.wandb td:nth-child(1) { padding: 0 10px; text-align: left ; width: auto;} td:nth-child(2) {text-align: left ; width: 100%}\n",
       "    .wandb-row { display: flex; flex-direction: row; flex-wrap: wrap; justify-content: flex-start; width: 100% }\n",
       "    .wandb-col { display: flex; flex-direction: column; flex-basis: 100%; flex: 1; padding: 10px; }\n",
       "    </style>\n",
       "<div class=\"wandb-row\"><div class=\"wandb-col\"><h3>Run history:</h3><br/><table class=\"wandb\"><tr><td>Test Accuracy</td><td>▂▂▁▂▂▂▆▆▄▂▂▅▆▇▂▆▆▆▂▆▇▆▇▂▇▇▇▇▆▅█▇█▇▆███▇█</td></tr><tr><td>Test F1</td><td>▆▆▅▆▆▆▅▆▁▆▆▂▅▇▆▆▅▅▆▄▇▅█▆▇▇▆▆▆▃▇▇█▇▅███▇█</td></tr><tr><td>Test Loss</td><td>▇▇▆▆▇▇▆▆▆▆▆▆▅▅▅▄▄▄▅▄▃▃▃▇▂▂▂▂▃█▂▁▂▁▃▂▁▂▁▂</td></tr><tr><td>Test Sensitivity</td><td>██▇███▃▅▁█▇▁▃▅█▄▃▃█▃▅▃▇█▆▅▄▄▃▂▅▅▆▅▃▆▅▆▅▆</td></tr><tr><td>Test Specificity</td><td>▁▁▁▁▁▁▇▇█▁▁█▇▆▁▇██▁█▆▇▅▁▆▇▇▇██▇▇▆▇█▆▇▆▇▆</td></tr><tr><td>Train Accuracy</td><td>▂▂▁▂▂▂▄▅▂▂▁▂▄▆▂▅▄▄▂▄▇▅▇▂▇▇▆▆▅▄▇▇▇▇▆███▇█</td></tr><tr><td>Train F1</td><td>▆▆▆▆▆▆▄▆▁▆▆▂▅▇▆▆▄▄▆▄▇▅▇▆▇▇▆▆▆▄▇▇█▇▆███▇█</td></tr><tr><td>Train Loss</td><td>▇▇▇▇▇▇▇▇▇▆▆▇▆▆▆▅▅▅▅▅▄▄▄▆▃▃▃▃▄█▂▂▂▂▃▂▁▁▁▁</td></tr><tr><td>Train Sensitivity</td><td>██▇███▃▅▁██▁▃▅█▄▃▃█▃▆▃▇█▆▆▄▄▄▂▆▆▇▅▄▇▆▇▆▇</td></tr><tr><td>Train Specificity</td><td>▁▁▁▁▁▁█▇█▁▁██▇▁▇██▁█▇█▆▁▇▇████▇▇▇██▆▇▇█▇</td></tr></table><br/></div><div class=\"wandb-col\"><h3>Run summary:</h3><br/><table class=\"wandb\"><tr><td>Test Accuracy</td><td>0.76033</td></tr><tr><td>Test F1</td><td>0.7631</td></tr><tr><td>Test Loss</td><td>0.51297</td></tr><tr><td>Test Sensitivity</td><td>0.75538</td></tr><tr><td>Test Specificity</td><td>0.76551</td></tr><tr><td>Train Accuracy</td><td>0.837</td></tr><tr><td>Train F1</td><td>0.84031</td></tr><tr><td>Train Loss</td><td>0.40783</td></tr><tr><td>Train Sensitivity</td><td>0.81465</td></tr><tr><td>Train Specificity</td><td>0.86184</td></tr></table><br/></div></div>"
      ],
      "text/plain": [
       "<IPython.core.display.HTML object>"
      ]
     },
     "metadata": {},
     "output_type": "display_data"
    },
    {
     "data": {
      "text/html": [
       " View run <strong style=\"color:#cdcd00\">zany-sweep-54</strong> at: <a href='https://wandb.ai/dylan-home/pnca-sweep-1/runs/7twk8wl8' target=\"_blank\">https://wandb.ai/dylan-home/pnca-sweep-1/runs/7twk8wl8</a><br/>Synced 5 W&B file(s), 0 media file(s), 0 artifact file(s) and 0 other file(s)"
      ],
      "text/plain": [
       "<IPython.core.display.HTML object>"
      ]
     },
     "metadata": {},
     "output_type": "display_data"
    },
    {
     "data": {
      "text/html": [
       "Find logs at: <code>./wandb/run-20250116_043550-7twk8wl8/logs</code>"
      ],
      "text/plain": [
       "<IPython.core.display.HTML object>"
      ]
     },
     "metadata": {},
     "output_type": "display_data"
    },
    {
     "name": "stderr",
     "output_type": "stream",
     "text": [
      "\u001b[34m\u001b[1mwandb\u001b[0m: Agent Starting Run: do0g7x2x with config:\n",
      "\u001b[34m\u001b[1mwandb\u001b[0m: \tcutoff_distance: 6.899127557417401\n",
      "\u001b[34m\u001b[1mwandb\u001b[0m: \tdropout: 0.8\n",
      "\u001b[34m\u001b[1mwandb\u001b[0m: \thidden_channels: 64\n",
      "\u001b[34m\u001b[1mwandb\u001b[0m: \tlearning_rate: 9.819195174018682e-05\n",
      "\u001b[34m\u001b[1mwandb\u001b[0m: \tweight_decay: 0.0011237295661928783\n",
      "Failed to detect the name of this notebook, you can set it manually with the WANDB_NOTEBOOK_NAME environment variable to enable code saving.\n",
      "/usr/lib/python3/dist-packages/requests/__init__.py:87: RequestsDependencyWarning: urllib3 (2.2.3) or chardet (4.0.0) doesn't match a supported version!\n",
      "  warnings.warn(\"urllib3 ({}) or chardet ({}) doesn't match a supported \"\n"
     ]
    },
    {
     "data": {
      "text/html": [
       "wandb version 0.19.3 is available!  To upgrade, please run:\n",
       " $ pip install wandb --upgrade"
      ],
      "text/plain": [
       "<IPython.core.display.HTML object>"
      ]
     },
     "metadata": {},
     "output_type": "display_data"
    },
    {
     "data": {
      "text/html": [
       "Tracking run with wandb version 0.16.4"
      ],
      "text/plain": [
       "<IPython.core.display.HTML object>"
      ]
     },
     "metadata": {},
     "output_type": "display_data"
    },
    {
     "data": {
      "text/html": [
       "Run data is saved locally in <code>/mnt/alphafold-volume-1/dylan2/repos/tb-pnca-gnn/dd_pnca/wandb/run-20250116_044407-do0g7x2x</code>"
      ],
      "text/plain": [
       "<IPython.core.display.HTML object>"
      ]
     },
     "metadata": {},
     "output_type": "display_data"
    },
    {
     "data": {
      "text/html": [
       "Syncing run <strong><a href='https://wandb.ai/dylan-home/pnca-sweep-1/runs/do0g7x2x' target=\"_blank\">playful-sweep-55</a></strong> to <a href='https://wandb.ai/dylan-home/pnca-sweep-1' target=\"_blank\">Weights & Biases</a> (<a href='https://wandb.me/run' target=\"_blank\">docs</a>)<br/>Sweep page: <a href='https://wandb.ai/dylan-home/pnca-sweep-1/sweeps/tr8mwg42' target=\"_blank\">https://wandb.ai/dylan-home/pnca-sweep-1/sweeps/tr8mwg42</a>"
      ],
      "text/plain": [
       "<IPython.core.display.HTML object>"
      ]
     },
     "metadata": {},
     "output_type": "display_data"
    },
    {
     "data": {
      "text/html": [
       " View project at <a href='https://wandb.ai/dylan-home/pnca-sweep-1' target=\"_blank\">https://wandb.ai/dylan-home/pnca-sweep-1</a>"
      ],
      "text/plain": [
       "<IPython.core.display.HTML object>"
      ]
     },
     "metadata": {},
     "output_type": "display_data"
    },
    {
     "data": {
      "text/html": [
       " View sweep at <a href='https://wandb.ai/dylan-home/pnca-sweep-1/sweeps/tr8mwg42' target=\"_blank\">https://wandb.ai/dylan-home/pnca-sweep-1/sweeps/tr8mwg42</a>"
      ],
      "text/plain": [
       "<IPython.core.display.HTML object>"
      ]
     },
     "metadata": {},
     "output_type": "display_data"
    },
    {
     "data": {
      "text/html": [
       " View run at <a href='https://wandb.ai/dylan-home/pnca-sweep-1/runs/do0g7x2x' target=\"_blank\">https://wandb.ai/dylan-home/pnca-sweep-1/runs/do0g7x2x</a>"
      ],
      "text/plain": [
       "<IPython.core.display.HTML object>"
      ]
     },
     "metadata": {},
     "output_type": "display_data"
    },
    {
     "name": "stdout",
     "output_type": "stream",
     "text": [
      "Using CUDA\n",
      "Early stopping enabled. Patience: 20. Min Delta: 0.\n",
      "Epoch: 010, Train Acc: 0.5156, Test Acc: 0.5043, Train Loss: 0.6928, Test Loss: 0.6924\n",
      "Epoch: 020, Train Acc: 0.4487, Test Acc: 0.4537, Train Loss: 0.6926, Test Loss: 0.6911\n",
      "Epoch: 030, Train Acc: 0.4901, Test Acc: 0.4773, Train Loss: 0.6911, Test Loss: 0.6899\n",
      "Epoch: 040, Train Acc: 0.5023, Test Acc: 0.4977, Train Loss: 0.6901, Test Loss: 0.6890\n",
      "Epoch: 050, Train Acc: 0.6047, Test Acc: 0.6083, Train Loss: 0.6911, Test Loss: 0.6883\n",
      "Epoch: 060, Train Acc: 0.5261, Test Acc: 0.5110, Train Loss: 0.6891, Test Loss: 0.6897\n",
      "Epoch: 070, Train Acc: 0.5243, Test Acc: 0.5100, Train Loss: 0.6882, Test Loss: 0.6879\n",
      "Epoch: 080, Train Acc: 0.5963, Test Acc: 0.6077, Train Loss: 0.6889, Test Loss: 0.6852\n",
      "Epoch: 090, Train Acc: 0.5170, Test Acc: 0.5053, Train Loss: 0.6854, Test Loss: 0.6845\n",
      "Epoch: 100, Train Acc: 0.4906, Test Acc: 0.4760, Train Loss: 0.6841, Test Loss: 0.6819\n",
      "Epoch: 110, Train Acc: 0.5209, Test Acc: 0.5097, Train Loss: 0.6839, Test Loss: 0.6837\n",
      "Epoch: 120, Train Acc: 0.5843, Test Acc: 0.6177, Train Loss: 0.6855, Test Loss: 0.6803\n",
      "Epoch: 130, Train Acc: 0.6789, Test Acc: 0.6787, Train Loss: 0.6809, Test Loss: 0.6765\n",
      "Epoch: 140, Train Acc: 0.5119, Test Acc: 0.5017, Train Loss: 0.6781, Test Loss: 0.6766\n",
      "Epoch: 150, Train Acc: 0.4781, Test Acc: 0.4850, Train Loss: 0.6749, Test Loss: 0.6715\n",
      "Epoch: 160, Train Acc: 0.4794, Test Acc: 0.4763, Train Loss: 0.6722, Test Loss: 0.6688\n",
      "Epoch: 170, Train Acc: 0.5173, Test Acc: 0.5037, Train Loss: 0.6724, Test Loss: 0.6732\n",
      "Epoch: 180, Train Acc: 0.4880, Test Acc: 0.4747, Train Loss: 0.6627, Test Loss: 0.6606\n",
      "Epoch: 190, Train Acc: 0.6899, Test Acc: 0.6790, Train Loss: 0.6573, Test Loss: 0.6535\n",
      "Epoch: 200, Train Acc: 0.7063, Test Acc: 0.7070, Train Loss: 0.6534, Test Loss: 0.6488\n",
      "Epoch: 210, Train Acc: 0.6976, Test Acc: 0.6850, Train Loss: 0.6483, Test Loss: 0.6453\n",
      "Epoch: 220, Train Acc: 0.5029, Test Acc: 0.4770, Train Loss: 0.6469, Test Loss: 0.6450\n",
      "Epoch: 230, Train Acc: 0.5067, Test Acc: 0.4790, Train Loss: 0.6417, Test Loss: 0.6408\n",
      "Epoch: 240, Train Acc: 0.6879, Test Acc: 0.6797, Train Loss: 0.6352, Test Loss: 0.6274\n",
      "Epoch: 250, Train Acc: 0.7264, Test Acc: 0.7173, Train Loss: 0.6255, Test Loss: 0.6223\n",
      "Epoch: 260, Train Acc: 0.6103, Test Acc: 0.6490, Train Loss: 0.6471, Test Loss: 0.6350\n",
      "Epoch: 270, Train Acc: 0.5247, Test Acc: 0.5043, Train Loss: 0.6197, Test Loss: 0.6215\n",
      "Epoch: 280, Train Acc: 0.7129, Test Acc: 0.6957, Train Loss: 0.6096, Test Loss: 0.6060\n",
      "Epoch: 290, Train Acc: 0.7137, Test Acc: 0.6980, Train Loss: 0.6009, Test Loss: 0.5993\n",
      "Epoch: 300, Train Acc: 0.7490, Test Acc: 0.7283, Train Loss: 0.5946, Test Loss: 0.5972\n",
      "Epoch: 310, Train Acc: 0.7530, Test Acc: 0.7293, Train Loss: 0.5855, Test Loss: 0.5905\n",
      "Epoch: 320, Train Acc: 0.7610, Test Acc: 0.7263, Train Loss: 0.5864, Test Loss: 0.5937\n",
      "Epoch: 330, Train Acc: 0.5381, Test Acc: 0.4817, Train Loss: 0.5994, Test Loss: 0.6152\n",
      "Epoch: 340, Train Acc: 0.7357, Test Acc: 0.7070, Train Loss: 0.5667, Test Loss: 0.5722\n",
      "Epoch: 350, Train Acc: 0.7036, Test Acc: 0.7003, Train Loss: 0.5710, Test Loss: 0.5753\n",
      "Epoch: 360, Train Acc: 0.7239, Test Acc: 0.7077, Train Loss: 0.5583, Test Loss: 0.5648\n",
      "Epoch: 370, Train Acc: 0.6863, Test Acc: 0.7007, Train Loss: 0.5777, Test Loss: 0.5806\n",
      "Epoch: 380, Train Acc: 0.7700, Test Acc: 0.7390, Train Loss: 0.5405, Test Loss: 0.5568\n",
      "Epoch: 390, Train Acc: 0.6749, Test Acc: 0.6873, Train Loss: 0.5874, Test Loss: 0.5931\n",
      "Epoch: 400, Train Acc: 0.7447, Test Acc: 0.7200, Train Loss: 0.5298, Test Loss: 0.5454\n",
      "Epoch: 410, Train Acc: 0.7591, Test Acc: 0.7243, Train Loss: 0.5226, Test Loss: 0.5432\n",
      "Epoch: 420, Train Acc: 0.7806, Test Acc: 0.7390, Train Loss: 0.5301, Test Loss: 0.5591\n",
      "Epoch: 430, Train Acc: 0.7821, Test Acc: 0.7313, Train Loss: 0.5310, Test Loss: 0.5620\n",
      "Epoch: 440, Train Acc: 0.7723, Test Acc: 0.7400, Train Loss: 0.5077, Test Loss: 0.5329\n",
      "Epoch: 450, Train Acc: 0.7636, Test Acc: 0.7440, Train Loss: 0.5029, Test Loss: 0.5284\n",
      "Epoch: 460, Train Acc: 0.7786, Test Acc: 0.7430, Train Loss: 0.4995, Test Loss: 0.5331\n",
      "Epoch: 470, Train Acc: 0.7683, Test Acc: 0.6957, Train Loss: 0.5431, Test Loss: 0.5842\n",
      "Epoch: 480, Train Acc: 0.7684, Test Acc: 0.7473, Train Loss: 0.4887, Test Loss: 0.5205\n",
      "Epoch: 490, Train Acc: 0.7784, Test Acc: 0.7073, Train Loss: 0.5310, Test Loss: 0.5774\n",
      "Epoch: 500, Train Acc: 0.7931, Test Acc: 0.7373, Train Loss: 0.4964, Test Loss: 0.5397\n"
     ]
    },
    {
     "data": {
      "text/html": [
       "<style>\n",
       "    table.wandb td:nth-child(1) { padding: 0 10px; text-align: left ; width: auto;} td:nth-child(2) {text-align: left ; width: 100%}\n",
       "    .wandb-row { display: flex; flex-direction: row; flex-wrap: wrap; justify-content: flex-start; width: 100% }\n",
       "    .wandb-col { display: flex; flex-direction: column; flex-basis: 100%; flex: 1; padding: 10px; }\n",
       "    </style>\n",
       "<div class=\"wandb-row\"><div class=\"wandb-col\"><h3>Run history:</h3><br/><table class=\"wandb\"><tr><td>Test Accuracy</td><td>▂▁▃▃▃▂▅▃▃▃▆▃▃▇▂▃▇▂▆▆▇▇▇▇▇█▇▇▇▇▇▇██▇█████</td></tr><tr><td>Test F1</td><td>▄▂▆▆▆▄▁▆▆▆▆▆▆▇▅▆▇▅▄▃▆▆▆▅██▆▆▆█▅▆▆██▆██▇▇</td></tr><tr><td>Test Loss</td><td>█████████▇▇▇▇▇▇▇▆▆▆▆▅▅▄▄▄▄▃▃▃▄▃▂▂▃▃▂▁▂▁▁</td></tr><tr><td>Test Sensitivity</td><td>▆▃███▅▁███▄██▅▆▇▅▆▃▂▄▄▄▃▆▆▃▄▃▇▃▄▄▆▇▄▅▆▄▄</td></tr><tr><td>Test Specificity</td><td>▂▃▁▁▁▂█▁▁▁▆▁▁▆▂▁▇▂▇█▇▇▇▇▆▆█▇▇▅█▇▇▆▅█▇▆▇▇</td></tr><tr><td>Train Accuracy</td><td>▂▁▃▃▃▂▅▃▃▃▆▃▃▆▃▃▇▃▆▅▇▇▇▆▇█▇▇▇▇▆▇▇██▇████</td></tr><tr><td>Train F1</td><td>▄▂▆▆▆▄▁▆▆▆▆▆▆▆▅▆▆▅▄▂▆▆▆▅██▅▆▆█▅▆▇██▆██▇▇</td></tr><tr><td>Train Loss</td><td>███████████▇▇▇▇▇▇▆▆▆▆▅▅▅▅▄▄▄▃▄▃▃▂▂▃▂▁▁▁▁</td></tr><tr><td>Train Sensitivity</td><td>▆▃███▅▁███▄██▄▆█▄▇▃▁▄▄▄▃▆▆▃▄▄▇▃▄▄▆▇▄▆▆▅▅</td></tr><tr><td>Train Specificity</td><td>▂▃▁▁▁▂█▁▁▁▇▁▁▇▂▁▇▂██▇▇▇█▆▆█▇█▅█▇▇▆▅█▇▆▇▇</td></tr></table><br/></div><div class=\"wandb-col\"><h3>Run summary:</h3><br/><table class=\"wandb\"><tr><td>Test Accuracy</td><td>0.73733</td></tr><tr><td>Test F1</td><td>0.75313</td></tr><tr><td>Test Loss</td><td>0.53973</td></tr><tr><td>Test Sensitivity</td><td>0.78408</td></tr><tr><td>Test Specificity</td><td>0.68848</td></tr><tr><td>Train Accuracy</td><td>0.79314</td></tr><tr><td>Train F1</td><td>0.81032</td></tr><tr><td>Train Loss</td><td>0.4964</td></tr><tr><td>Train Sensitivity</td><td>0.83935</td></tr><tr><td>Train Specificity</td><td>0.74178</td></tr></table><br/></div></div>"
      ],
      "text/plain": [
       "<IPython.core.display.HTML object>"
      ]
     },
     "metadata": {},
     "output_type": "display_data"
    },
    {
     "data": {
      "text/html": [
       " View run <strong style=\"color:#cdcd00\">playful-sweep-55</strong> at: <a href='https://wandb.ai/dylan-home/pnca-sweep-1/runs/do0g7x2x' target=\"_blank\">https://wandb.ai/dylan-home/pnca-sweep-1/runs/do0g7x2x</a><br/>Synced 5 W&B file(s), 0 media file(s), 0 artifact file(s) and 0 other file(s)"
      ],
      "text/plain": [
       "<IPython.core.display.HTML object>"
      ]
     },
     "metadata": {},
     "output_type": "display_data"
    },
    {
     "data": {
      "text/html": [
       "Find logs at: <code>./wandb/run-20250116_044407-do0g7x2x/logs</code>"
      ],
      "text/plain": [
       "<IPython.core.display.HTML object>"
      ]
     },
     "metadata": {},
     "output_type": "display_data"
    },
    {
     "name": "stderr",
     "output_type": "stream",
     "text": [
      "\u001b[34m\u001b[1mwandb\u001b[0m: Agent Starting Run: 6khmuzm4 with config:\n",
      "\u001b[34m\u001b[1mwandb\u001b[0m: \tcutoff_distance: 6.279457895295902\n",
      "\u001b[34m\u001b[1mwandb\u001b[0m: \tdropout: 0.8\n",
      "\u001b[34m\u001b[1mwandb\u001b[0m: \thidden_channels: 128\n",
      "\u001b[34m\u001b[1mwandb\u001b[0m: \tlearning_rate: 0.00025724801514350864\n",
      "\u001b[34m\u001b[1mwandb\u001b[0m: \tweight_decay: 6.2552681383459345e-06\n",
      "Failed to detect the name of this notebook, you can set it manually with the WANDB_NOTEBOOK_NAME environment variable to enable code saving.\n",
      "/usr/lib/python3/dist-packages/requests/__init__.py:87: RequestsDependencyWarning: urllib3 (2.2.3) or chardet (4.0.0) doesn't match a supported version!\n",
      "  warnings.warn(\"urllib3 ({}) or chardet ({}) doesn't match a supported \"\n"
     ]
    },
    {
     "data": {
      "text/html": [
       "wandb version 0.19.3 is available!  To upgrade, please run:\n",
       " $ pip install wandb --upgrade"
      ],
      "text/plain": [
       "<IPython.core.display.HTML object>"
      ]
     },
     "metadata": {},
     "output_type": "display_data"
    },
    {
     "data": {
      "text/html": [
       "Tracking run with wandb version 0.16.4"
      ],
      "text/plain": [
       "<IPython.core.display.HTML object>"
      ]
     },
     "metadata": {},
     "output_type": "display_data"
    },
    {
     "data": {
      "text/html": [
       "Run data is saved locally in <code>/mnt/alphafold-volume-1/dylan2/repos/tb-pnca-gnn/dd_pnca/wandb/run-20250116_045752-6khmuzm4</code>"
      ],
      "text/plain": [
       "<IPython.core.display.HTML object>"
      ]
     },
     "metadata": {},
     "output_type": "display_data"
    },
    {
     "data": {
      "text/html": [
       "Syncing run <strong><a href='https://wandb.ai/dylan-home/pnca-sweep-1/runs/6khmuzm4' target=\"_blank\">flowing-sweep-56</a></strong> to <a href='https://wandb.ai/dylan-home/pnca-sweep-1' target=\"_blank\">Weights & Biases</a> (<a href='https://wandb.me/run' target=\"_blank\">docs</a>)<br/>Sweep page: <a href='https://wandb.ai/dylan-home/pnca-sweep-1/sweeps/tr8mwg42' target=\"_blank\">https://wandb.ai/dylan-home/pnca-sweep-1/sweeps/tr8mwg42</a>"
      ],
      "text/plain": [
       "<IPython.core.display.HTML object>"
      ]
     },
     "metadata": {},
     "output_type": "display_data"
    },
    {
     "data": {
      "text/html": [
       " View project at <a href='https://wandb.ai/dylan-home/pnca-sweep-1' target=\"_blank\">https://wandb.ai/dylan-home/pnca-sweep-1</a>"
      ],
      "text/plain": [
       "<IPython.core.display.HTML object>"
      ]
     },
     "metadata": {},
     "output_type": "display_data"
    },
    {
     "data": {
      "text/html": [
       " View sweep at <a href='https://wandb.ai/dylan-home/pnca-sweep-1/sweeps/tr8mwg42' target=\"_blank\">https://wandb.ai/dylan-home/pnca-sweep-1/sweeps/tr8mwg42</a>"
      ],
      "text/plain": [
       "<IPython.core.display.HTML object>"
      ]
     },
     "metadata": {},
     "output_type": "display_data"
    },
    {
     "data": {
      "text/html": [
       " View run at <a href='https://wandb.ai/dylan-home/pnca-sweep-1/runs/6khmuzm4' target=\"_blank\">https://wandb.ai/dylan-home/pnca-sweep-1/runs/6khmuzm4</a>"
      ],
      "text/plain": [
       "<IPython.core.display.HTML object>"
      ]
     },
     "metadata": {},
     "output_type": "display_data"
    },
    {
     "name": "stdout",
     "output_type": "stream",
     "text": [
      "Using CUDA\n",
      "Early stopping enabled. Patience: 20. Min Delta: 0.\n",
      "Epoch: 010, Train Acc: 0.4739, Test Acc: 0.4890, Train Loss: 0.6946, Test Loss: 0.6945\n",
      "Epoch: 020, Train Acc: 0.5264, Test Acc: 0.5110, Train Loss: 0.6884, Test Loss: 0.6895\n",
      "Epoch: 030, Train Acc: 0.5233, Test Acc: 0.5733, Train Loss: 0.6902, Test Loss: 0.6882\n",
      "Epoch: 040, Train Acc: 0.4947, Test Acc: 0.4923, Train Loss: 0.6842, Test Loss: 0.6832\n",
      "Epoch: 050, Train Acc: 0.5264, Test Acc: 0.5110, Train Loss: 0.6908, Test Loss: 0.6940\n",
      "Epoch: 060, Train Acc: 0.5883, Test Acc: 0.6423, Train Loss: 0.6789, Test Loss: 0.6752\n",
      "Epoch: 070, Train Acc: 0.6870, Test Acc: 0.6777, Train Loss: 0.6643, Test Loss: 0.6611\n",
      "Epoch: 080, Train Acc: 0.6141, Test Acc: 0.6483, Train Loss: 0.6606, Test Loss: 0.6550\n",
      "Epoch: 090, Train Acc: 0.5170, Test Acc: 0.4870, Train Loss: 0.6468, Test Loss: 0.6468\n",
      "Epoch: 100, Train Acc: 0.6849, Test Acc: 0.6700, Train Loss: 0.6287, Test Loss: 0.6236\n",
      "Epoch: 110, Train Acc: 0.7184, Test Acc: 0.6913, Train Loss: 0.6103, Test Loss: 0.6094\n",
      "Epoch: 120, Train Acc: 0.6597, Test Acc: 0.6623, Train Loss: 0.6182, Test Loss: 0.6134\n",
      "Epoch: 130, Train Acc: 0.7580, Test Acc: 0.7163, Train Loss: 0.5772, Test Loss: 0.5927\n",
      "Epoch: 140, Train Acc: 0.7290, Test Acc: 0.7020, Train Loss: 0.5587, Test Loss: 0.5748\n",
      "Epoch: 150, Train Acc: 0.7493, Test Acc: 0.7213, Train Loss: 0.5409, Test Loss: 0.5676\n",
      "Epoch: 160, Train Acc: 0.7646, Test Acc: 0.7333, Train Loss: 0.5225, Test Loss: 0.5599\n",
      "Epoch: 170, Train Acc: 0.5291, Test Acc: 0.5013, Train Loss: 0.6670, Test Loss: 0.7422\n",
      "Epoch: 180, Train Acc: 0.7554, Test Acc: 0.7180, Train Loss: 0.5123, Test Loss: 0.5558\n",
      "Epoch: 190, Train Acc: 0.7704, Test Acc: 0.7207, Train Loss: 0.5290, Test Loss: 0.6069\n",
      "Epoch: 200, Train Acc: 0.7921, Test Acc: 0.7427, Train Loss: 0.4776, Test Loss: 0.5624\n",
      "20 epochs passed without 0 test loss improvement. \n",
      "Early stopping triggered.\n"
     ]
    },
    {
     "data": {
      "text/html": [
       "<style>\n",
       "    table.wandb td:nth-child(1) { padding: 0 10px; text-align: left ; width: auto;} td:nth-child(2) {text-align: left ; width: 100%}\n",
       "    .wandb-row { display: flex; flex-direction: row; flex-wrap: wrap; justify-content: flex-start; width: 100% }\n",
       "    .wandb-col { display: flex; flex-direction: column; flex-basis: 100%; flex: 1; padding: 10px; }\n",
       "    </style>\n",
       "<div class=\"wandb-row\"><div class=\"wandb-col\"><h3>Run history:</h3><br/><table class=\"wandb\"><tr><td>Test Accuracy</td><td>▁▃▃▃▃▃▂▂▆▂▂▃▂▂▃▂▇▂▂▆▂▇▇▆▆▇▇▇▆▇▇▇▂▇▇█▇▂██</td></tr><tr><td>Test F1</td><td>▃▆▆▆▆▆▅▄▁▃▅▅▅▅▆▅▅▄▅▃▃▅▅▂▂▇▅▅▃▆█▇▄▄▆▆▄▅▇█</td></tr><tr><td>Test Loss</td><td>▇▇▇█▇▇▇▇▇▇▇▇▆▆▇▆▅▅▅▄▄▄▃▄▄▃▂▂▂▂▃▄▅▂▁▁▂█▁▂</td></tr><tr><td>Test Sensitivity</td><td>▆█████▇▆▁▆▇████▇▃▆▇▂▆▃▃▁▁▅▃▃▂▄▆▆▇▂▃▄▂▇▅▅</td></tr><tr><td>Test Specificity</td><td>▁▁▁▁▁▁▁▂█▂▁▁▁▁▁▁▇▂▁█▂▇▇██▆▇▇█▇▅▅▂█▇▇█▁▇▇</td></tr><tr><td>Train Accuracy</td><td>▁▂▂▂▂▂▁▁▄▁▂▂▂▂▂▂▆▂▂▆▂▆▇▅▅▇▇▇▆▇▇▇▂▆▇▇▆▂██</td></tr><tr><td>Train F1</td><td>▅▆▆▆▆▆▅▅▁▅▆▆▆▆▆▆▅▅▆▄▅▆▆▃▃▇▆▆▅▆██▆▅▆▇▅▆██</td></tr><tr><td>Train Loss</td><td>█████████▇▇▇▇▇▇▇▆▆▆▆▆▅▅▅▅▄▄▄▄▃▄▄▄▃▂▂▃▆▁▁</td></tr><tr><td>Train Sensitivity</td><td>▇█████▇▆▁▆██████▄▇█▃▆▄▄▂▂▅▄▄▃▄▇▇▇▃▄▄▃█▅▆</td></tr><tr><td>Train Specificity</td><td>▁▁▁▁▁▁▁▂█▂▁▁▁▁▁▁▇▂▁█▂▇▇██▇███▇▆▅▂████▁▇▇</td></tr></table><br/></div><div class=\"wandb-col\"><h3>Run summary:</h3><br/><table class=\"wandb\"><tr><td>Test Accuracy</td><td>0.74367</td></tr><tr><td>Test F1</td><td>0.74943</td></tr><tr><td>Test Loss</td><td>0.56932</td></tr><tr><td>Test Sensitivity</td><td>0.75016</td></tr><tr><td>Test Specificity</td><td>0.73688</td></tr><tr><td>Train Accuracy</td><td>0.79143</td></tr><tr><td>Train F1</td><td>0.79973</td></tr><tr><td>Train Loss</td><td>0.48094</td></tr><tr><td>Train Sensitivity</td><td>0.79104</td></tr><tr><td>Train Specificity</td><td>0.79186</td></tr></table><br/></div></div>"
      ],
      "text/plain": [
       "<IPython.core.display.HTML object>"
      ]
     },
     "metadata": {},
     "output_type": "display_data"
    },
    {
     "data": {
      "text/html": [
       " View run <strong style=\"color:#cdcd00\">flowing-sweep-56</strong> at: <a href='https://wandb.ai/dylan-home/pnca-sweep-1/runs/6khmuzm4' target=\"_blank\">https://wandb.ai/dylan-home/pnca-sweep-1/runs/6khmuzm4</a><br/>Synced 5 W&B file(s), 0 media file(s), 0 artifact file(s) and 0 other file(s)"
      ],
      "text/plain": [
       "<IPython.core.display.HTML object>"
      ]
     },
     "metadata": {},
     "output_type": "display_data"
    },
    {
     "data": {
      "text/html": [
       "Find logs at: <code>./wandb/run-20250116_045752-6khmuzm4/logs</code>"
      ],
      "text/plain": [
       "<IPython.core.display.HTML object>"
      ]
     },
     "metadata": {},
     "output_type": "display_data"
    },
    {
     "name": "stderr",
     "output_type": "stream",
     "text": [
      "\u001b[34m\u001b[1mwandb\u001b[0m: Agent Starting Run: xzyt37d1 with config:\n",
      "\u001b[34m\u001b[1mwandb\u001b[0m: \tcutoff_distance: 6.285868260704005\n",
      "\u001b[34m\u001b[1mwandb\u001b[0m: \tdropout: 0.4\n",
      "\u001b[34m\u001b[1mwandb\u001b[0m: \thidden_channels: 64\n",
      "\u001b[34m\u001b[1mwandb\u001b[0m: \tlearning_rate: 9.805650331610204e-05\n",
      "\u001b[34m\u001b[1mwandb\u001b[0m: \tweight_decay: 0.002770824392461026\n",
      "Failed to detect the name of this notebook, you can set it manually with the WANDB_NOTEBOOK_NAME environment variable to enable code saving.\n",
      "/usr/lib/python3/dist-packages/requests/__init__.py:87: RequestsDependencyWarning: urllib3 (2.2.3) or chardet (4.0.0) doesn't match a supported version!\n",
      "  warnings.warn(\"urllib3 ({}) or chardet ({}) doesn't match a supported \"\n"
     ]
    },
    {
     "data": {
      "text/html": [
       "wandb version 0.19.3 is available!  To upgrade, please run:\n",
       " $ pip install wandb --upgrade"
      ],
      "text/plain": [
       "<IPython.core.display.HTML object>"
      ]
     },
     "metadata": {},
     "output_type": "display_data"
    },
    {
     "data": {
      "text/html": [
       "Tracking run with wandb version 0.16.4"
      ],
      "text/plain": [
       "<IPython.core.display.HTML object>"
      ]
     },
     "metadata": {},
     "output_type": "display_data"
    },
    {
     "data": {
      "text/html": [
       "Run data is saved locally in <code>/mnt/alphafold-volume-1/dylan2/repos/tb-pnca-gnn/dd_pnca/wandb/run-20250116_050352-xzyt37d1</code>"
      ],
      "text/plain": [
       "<IPython.core.display.HTML object>"
      ]
     },
     "metadata": {},
     "output_type": "display_data"
    },
    {
     "data": {
      "text/html": [
       "Syncing run <strong><a href='https://wandb.ai/dylan-home/pnca-sweep-1/runs/xzyt37d1' target=\"_blank\">sparkling-sweep-57</a></strong> to <a href='https://wandb.ai/dylan-home/pnca-sweep-1' target=\"_blank\">Weights & Biases</a> (<a href='https://wandb.me/run' target=\"_blank\">docs</a>)<br/>Sweep page: <a href='https://wandb.ai/dylan-home/pnca-sweep-1/sweeps/tr8mwg42' target=\"_blank\">https://wandb.ai/dylan-home/pnca-sweep-1/sweeps/tr8mwg42</a>"
      ],
      "text/plain": [
       "<IPython.core.display.HTML object>"
      ]
     },
     "metadata": {},
     "output_type": "display_data"
    },
    {
     "data": {
      "text/html": [
       " View project at <a href='https://wandb.ai/dylan-home/pnca-sweep-1' target=\"_blank\">https://wandb.ai/dylan-home/pnca-sweep-1</a>"
      ],
      "text/plain": [
       "<IPython.core.display.HTML object>"
      ]
     },
     "metadata": {},
     "output_type": "display_data"
    },
    {
     "data": {
      "text/html": [
       " View sweep at <a href='https://wandb.ai/dylan-home/pnca-sweep-1/sweeps/tr8mwg42' target=\"_blank\">https://wandb.ai/dylan-home/pnca-sweep-1/sweeps/tr8mwg42</a>"
      ],
      "text/plain": [
       "<IPython.core.display.HTML object>"
      ]
     },
     "metadata": {},
     "output_type": "display_data"
    },
    {
     "data": {
      "text/html": [
       " View run at <a href='https://wandb.ai/dylan-home/pnca-sweep-1/runs/xzyt37d1' target=\"_blank\">https://wandb.ai/dylan-home/pnca-sweep-1/runs/xzyt37d1</a>"
      ],
      "text/plain": [
       "<IPython.core.display.HTML object>"
      ]
     },
     "metadata": {},
     "output_type": "display_data"
    },
    {
     "name": "stdout",
     "output_type": "stream",
     "text": [
      "Using CUDA\n",
      "Early stopping enabled. Patience: 20. Min Delta: 0.\n",
      "Epoch: 010, Train Acc: 0.4527, Test Acc: 0.4580, Train Loss: 0.6926, Test Loss: 0.6914\n",
      "Epoch: 020, Train Acc: 0.5151, Test Acc: 0.5053, Train Loss: 0.6905, Test Loss: 0.6900\n",
      "Epoch: 030, Train Acc: 0.4890, Test Acc: 0.4780, Train Loss: 0.6902, Test Loss: 0.6885\n",
      "Epoch: 040, Train Acc: 0.4463, Test Acc: 0.4640, Train Loss: 0.6899, Test Loss: 0.6873\n",
      "Epoch: 050, Train Acc: 0.5964, Test Acc: 0.6147, Train Loss: 0.6898, Test Loss: 0.6862\n",
      "Epoch: 060, Train Acc: 0.5229, Test Acc: 0.5103, Train Loss: 0.6863, Test Loss: 0.6863\n",
      "Epoch: 070, Train Acc: 0.5221, Test Acc: 0.5103, Train Loss: 0.6851, Test Loss: 0.6847\n",
      "Epoch: 080, Train Acc: 0.5631, Test Acc: 0.6097, Train Loss: 0.6874, Test Loss: 0.6823\n",
      "Epoch: 090, Train Acc: 0.5210, Test Acc: 0.5097, Train Loss: 0.6819, Test Loss: 0.6822\n",
      "Epoch: 100, Train Acc: 0.6856, Test Acc: 0.6807, Train Loss: 0.6782, Test Loss: 0.6746\n",
      "Epoch: 110, Train Acc: 0.6504, Test Acc: 0.6523, Train Loss: 0.6768, Test Loss: 0.6725\n",
      "Epoch: 120, Train Acc: 0.6950, Test Acc: 0.6790, Train Loss: 0.6703, Test Loss: 0.6676\n",
      "Epoch: 130, Train Acc: 0.6609, Test Acc: 0.6660, Train Loss: 0.6679, Test Loss: 0.6629\n",
      "Epoch: 140, Train Acc: 0.5156, Test Acc: 0.5010, Train Loss: 0.6654, Test Loss: 0.6659\n",
      "Epoch: 150, Train Acc: 0.5103, Test Acc: 0.4900, Train Loss: 0.6588, Test Loss: 0.6597\n",
      "Epoch: 160, Train Acc: 0.6444, Test Acc: 0.6647, Train Loss: 0.6536, Test Loss: 0.6471\n",
      "Epoch: 170, Train Acc: 0.5131, Test Acc: 0.4867, Train Loss: 0.6518, Test Loss: 0.6544\n",
      "Epoch: 180, Train Acc: 0.7116, Test Acc: 0.6947, Train Loss: 0.6356, Test Loss: 0.6315\n",
      "Epoch: 190, Train Acc: 0.7301, Test Acc: 0.7233, Train Loss: 0.6262, Test Loss: 0.6233\n",
      "Epoch: 200, Train Acc: 0.6661, Test Acc: 0.6840, Train Loss: 0.6266, Test Loss: 0.6195\n",
      "Epoch: 210, Train Acc: 0.7290, Test Acc: 0.7140, Train Loss: 0.6123, Test Loss: 0.6099\n",
      "Epoch: 220, Train Acc: 0.6847, Test Acc: 0.6950, Train Loss: 0.6103, Test Loss: 0.6047\n",
      "Epoch: 230, Train Acc: 0.7509, Test Acc: 0.7103, Train Loss: 0.6012, Test Loss: 0.6042\n",
      "Epoch: 240, Train Acc: 0.7293, Test Acc: 0.7103, Train Loss: 0.5886, Test Loss: 0.5868\n",
      "Epoch: 250, Train Acc: 0.7113, Test Acc: 0.6993, Train Loss: 0.5831, Test Loss: 0.5818\n",
      "Epoch: 260, Train Acc: 0.7556, Test Acc: 0.7307, Train Loss: 0.5756, Test Loss: 0.5788\n",
      "Epoch: 270, Train Acc: 0.5307, Test Acc: 0.4950, Train Loss: 0.6075, Test Loss: 0.6214\n",
      "Epoch: 280, Train Acc: 0.7537, Test Acc: 0.7293, Train Loss: 0.5579, Test Loss: 0.5624\n",
      "Epoch: 290, Train Acc: 0.7431, Test Acc: 0.7160, Train Loss: 0.5526, Test Loss: 0.5585\n",
      "Epoch: 300, Train Acc: 0.7739, Test Acc: 0.7460, Train Loss: 0.5485, Test Loss: 0.5602\n",
      "Epoch: 310, Train Acc: 0.7609, Test Acc: 0.7330, Train Loss: 0.5335, Test Loss: 0.5451\n",
      "Epoch: 320, Train Acc: 0.7714, Test Acc: 0.7253, Train Loss: 0.5565, Test Loss: 0.5740\n",
      "Epoch: 330, Train Acc: 0.5279, Test Acc: 0.5063, Train Loss: 0.6294, Test Loss: 0.6586\n",
      "Epoch: 340, Train Acc: 0.7583, Test Acc: 0.7343, Train Loss: 0.5202, Test Loss: 0.5331\n",
      "Epoch: 350, Train Acc: 0.7149, Test Acc: 0.7157, Train Loss: 0.5353, Test Loss: 0.5462\n",
      "Epoch: 360, Train Acc: 0.7756, Test Acc: 0.7440, Train Loss: 0.5054, Test Loss: 0.5249\n",
      "Epoch: 370, Train Acc: 0.7863, Test Acc: 0.7537, Train Loss: 0.5224, Test Loss: 0.5468\n",
      "Epoch: 380, Train Acc: 0.7819, Test Acc: 0.7453, Train Loss: 0.4982, Test Loss: 0.5215\n",
      "Epoch: 390, Train Acc: 0.7264, Test Acc: 0.7190, Train Loss: 0.5209, Test Loss: 0.5392\n",
      "Epoch: 400, Train Acc: 0.7787, Test Acc: 0.7500, Train Loss: 0.4890, Test Loss: 0.5142\n",
      "Epoch: 410, Train Acc: 0.7403, Test Acc: 0.7347, Train Loss: 0.5006, Test Loss: 0.5242\n",
      "Epoch: 420, Train Acc: 0.7720, Test Acc: 0.7567, Train Loss: 0.4751, Test Loss: 0.5054\n",
      "Epoch: 430, Train Acc: 0.7959, Test Acc: 0.7437, Train Loss: 0.4860, Test Loss: 0.5220\n",
      "Epoch: 440, Train Acc: 0.7486, Test Acc: 0.7377, Train Loss: 0.4908, Test Loss: 0.5168\n",
      "Epoch: 450, Train Acc: 0.7787, Test Acc: 0.7640, Train Loss: 0.4661, Test Loss: 0.4995\n",
      "Epoch: 460, Train Acc: 0.8017, Test Acc: 0.7447, Train Loss: 0.4722, Test Loss: 0.5137\n",
      "Epoch: 470, Train Acc: 0.8031, Test Acc: 0.7453, Train Loss: 0.4660, Test Loss: 0.5082\n",
      "Epoch: 480, Train Acc: 0.7979, Test Acc: 0.7517, Train Loss: 0.4666, Test Loss: 0.5045\n",
      "Epoch: 490, Train Acc: 0.7750, Test Acc: 0.7200, Train Loss: 0.5354, Test Loss: 0.5891\n",
      "Epoch: 500, Train Acc: 0.7674, Test Acc: 0.7503, Train Loss: 0.4698, Test Loss: 0.5100\n"
     ]
    },
    {
     "data": {
      "text/html": [
       "<style>\n",
       "    table.wandb td:nth-child(1) { padding: 0 10px; text-align: left ; width: auto;} td:nth-child(2) {text-align: left ; width: 100%}\n",
       "    .wandb-row { display: flex; flex-direction: row; flex-wrap: wrap; justify-content: flex-start; width: 100% }\n",
       "    .wandb-col { display: flex; flex-direction: column; flex-basis: 100%; flex: 1; padding: 10px; }\n",
       "    </style>\n",
       "<div class=\"wandb-row\"><div class=\"wandb-col\"><h3>Run history:</h3><br/><table class=\"wandb\"><tr><td>Test Accuracy</td><td>▂▅▂▁▂▂▄▂▂▁▆▂▂▁▆▇▂▆▇▆▇▇▇▇▇▇▇███▇█████████</td></tr><tr><td>Test F1</td><td>▆▃▆▄▆▆▁▆▆▅▆▆▅▆▆▇▅▅▇▄▆▆▇▇██▅▇▇█▆██▇██████</td></tr><tr><td>Test Loss</td><td>████████▇▇▇▇▆▆▆▆▆▅▅▅▄▄▃▃▄▄▄▂▂▃▂▂▂▁▂▂▂▁▁▁</td></tr><tr><td>Test Sensitivity</td><td>█▂█▅██▁██▆▅█▆▇▄▆▆▃▅▂▄▄▅▅▆▇▃▅▅▆▄▆▆▅▆▆▆▆▅▅</td></tr><tr><td>Test Specificity</td><td>▁▇▁▂▁▁█▁▁▂▆▁▂▁▇▅▂▇▇█▇▇▇▇▅▅█▇▇▆▇▆▆▇▆▆▆▇▇▇</td></tr><tr><td>Train Accuracy</td><td>▂▄▃▁▂▂▃▃▂▂▆▂▂▂▆▇▂▆▇▅▆▆▇▇▇▇▆▇▇█▇██▇██████</td></tr><tr><td>Train F1</td><td>▆▃▆▄▆▆▁▆▆▅▆▆▅▆▆▇▆▅▇▄▆▆▇▇██▅▇▇█▇██▇██████</td></tr><tr><td>Train Loss</td><td>█████████▇▇▇▇▇▆▆▆▆▅▆▅▅▄▄▄▄▄▃▃▃▃▂▂▂▂▂▂▁▁▁</td></tr><tr><td>Train Sensitivity</td><td>█▂█▅██▁██▆▅█▆▇▄▆▇▃▅▂▄▄▅▅▇▇▃▅▆▇▅▆▆▅▇▆▇▆▆▆</td></tr><tr><td>Train Specificity</td><td>▁█▁▂▁▁█▁▁▂▆▁▂▁▇▆▂█▇███▇▇▆▆█▇▇▆▇▇▇▇▆▆▆▇▇▇</td></tr></table><br/></div><div class=\"wandb-col\"><h3>Run summary:</h3><br/><table class=\"wandb\"><tr><td>Test Accuracy</td><td>0.75033</td></tr><tr><td>Test F1</td><td>0.71159</td></tr><tr><td>Test Loss</td><td>0.50999</td></tr><tr><td>Test Sensitivity</td><td>0.60274</td></tr><tr><td>Test Specificity</td><td>0.90457</td></tr><tr><td>Train Accuracy</td><td>0.76743</td></tr><tr><td>Train F1</td><td>0.73885</td></tr><tr><td>Train Loss</td><td>0.46976</td></tr><tr><td>Train Sensitivity</td><td>0.62497</td></tr><tr><td>Train Specificity</td><td>0.92579</td></tr></table><br/></div></div>"
      ],
      "text/plain": [
       "<IPython.core.display.HTML object>"
      ]
     },
     "metadata": {},
     "output_type": "display_data"
    },
    {
     "data": {
      "text/html": [
       " View run <strong style=\"color:#cdcd00\">sparkling-sweep-57</strong> at: <a href='https://wandb.ai/dylan-home/pnca-sweep-1/runs/xzyt37d1' target=\"_blank\">https://wandb.ai/dylan-home/pnca-sweep-1/runs/xzyt37d1</a><br/>Synced 5 W&B file(s), 0 media file(s), 0 artifact file(s) and 0 other file(s)"
      ],
      "text/plain": [
       "<IPython.core.display.HTML object>"
      ]
     },
     "metadata": {},
     "output_type": "display_data"
    },
    {
     "data": {
      "text/html": [
       "Find logs at: <code>./wandb/run-20250116_050352-xzyt37d1/logs</code>"
      ],
      "text/plain": [
       "<IPython.core.display.HTML object>"
      ]
     },
     "metadata": {},
     "output_type": "display_data"
    },
    {
     "name": "stderr",
     "output_type": "stream",
     "text": [
      "\u001b[34m\u001b[1mwandb\u001b[0m: Agent Starting Run: 1ossc4ht with config:\n",
      "\u001b[34m\u001b[1mwandb\u001b[0m: \tcutoff_distance: 8.51258742305409\n",
      "\u001b[34m\u001b[1mwandb\u001b[0m: \tdropout: 0.4\n",
      "\u001b[34m\u001b[1mwandb\u001b[0m: \thidden_channels: 192\n",
      "\u001b[34m\u001b[1mwandb\u001b[0m: \tlearning_rate: 0.001063506218650546\n",
      "\u001b[34m\u001b[1mwandb\u001b[0m: \tweight_decay: 1.175438630215595e-06\n",
      "Failed to detect the name of this notebook, you can set it manually with the WANDB_NOTEBOOK_NAME environment variable to enable code saving.\n",
      "/usr/lib/python3/dist-packages/requests/__init__.py:87: RequestsDependencyWarning: urllib3 (2.2.3) or chardet (4.0.0) doesn't match a supported version!\n",
      "  warnings.warn(\"urllib3 ({}) or chardet ({}) doesn't match a supported \"\n"
     ]
    },
    {
     "data": {
      "text/html": [
       "wandb version 0.19.3 is available!  To upgrade, please run:\n",
       " $ pip install wandb --upgrade"
      ],
      "text/plain": [
       "<IPython.core.display.HTML object>"
      ]
     },
     "metadata": {},
     "output_type": "display_data"
    },
    {
     "data": {
      "text/html": [
       "Tracking run with wandb version 0.16.4"
      ],
      "text/plain": [
       "<IPython.core.display.HTML object>"
      ]
     },
     "metadata": {},
     "output_type": "display_data"
    },
    {
     "data": {
      "text/html": [
       "Run data is saved locally in <code>/mnt/alphafold-volume-1/dylan2/repos/tb-pnca-gnn/dd_pnca/wandb/run-20250116_051736-1ossc4ht</code>"
      ],
      "text/plain": [
       "<IPython.core.display.HTML object>"
      ]
     },
     "metadata": {},
     "output_type": "display_data"
    },
    {
     "data": {
      "text/html": [
       "Syncing run <strong><a href='https://wandb.ai/dylan-home/pnca-sweep-1/runs/1ossc4ht' target=\"_blank\">happy-sweep-58</a></strong> to <a href='https://wandb.ai/dylan-home/pnca-sweep-1' target=\"_blank\">Weights & Biases</a> (<a href='https://wandb.me/run' target=\"_blank\">docs</a>)<br/>Sweep page: <a href='https://wandb.ai/dylan-home/pnca-sweep-1/sweeps/tr8mwg42' target=\"_blank\">https://wandb.ai/dylan-home/pnca-sweep-1/sweeps/tr8mwg42</a>"
      ],
      "text/plain": [
       "<IPython.core.display.HTML object>"
      ]
     },
     "metadata": {},
     "output_type": "display_data"
    },
    {
     "data": {
      "text/html": [
       " View project at <a href='https://wandb.ai/dylan-home/pnca-sweep-1' target=\"_blank\">https://wandb.ai/dylan-home/pnca-sweep-1</a>"
      ],
      "text/plain": [
       "<IPython.core.display.HTML object>"
      ]
     },
     "metadata": {},
     "output_type": "display_data"
    },
    {
     "data": {
      "text/html": [
       " View sweep at <a href='https://wandb.ai/dylan-home/pnca-sweep-1/sweeps/tr8mwg42' target=\"_blank\">https://wandb.ai/dylan-home/pnca-sweep-1/sweeps/tr8mwg42</a>"
      ],
      "text/plain": [
       "<IPython.core.display.HTML object>"
      ]
     },
     "metadata": {},
     "output_type": "display_data"
    },
    {
     "data": {
      "text/html": [
       " View run at <a href='https://wandb.ai/dylan-home/pnca-sweep-1/runs/1ossc4ht' target=\"_blank\">https://wandb.ai/dylan-home/pnca-sweep-1/runs/1ossc4ht</a>"
      ],
      "text/plain": [
       "<IPython.core.display.HTML object>"
      ]
     },
     "metadata": {},
     "output_type": "display_data"
    },
    {
     "name": "stdout",
     "output_type": "stream",
     "text": [
      "Using CUDA\n",
      "Early stopping enabled. Patience: 20. Min Delta: 0.\n",
      "Epoch: 010, Train Acc: 0.5264, Test Acc: 0.5110, Train Loss: 0.6917, Test Loss: 0.6933\n",
      "Epoch: 020, Train Acc: 0.5264, Test Acc: 0.5110, Train Loss: 0.6912, Test Loss: 0.6921\n",
      "Epoch: 030, Train Acc: 0.5264, Test Acc: 0.5110, Train Loss: 0.6894, Test Loss: 0.6905\n",
      "Epoch: 040, Train Acc: 0.5264, Test Acc: 0.5110, Train Loss: 0.6872, Test Loss: 0.6901\n",
      "Epoch: 050, Train Acc: 0.5207, Test Acc: 0.5037, Train Loss: 0.6806, Test Loss: 0.6813\n",
      "Epoch: 060, Train Acc: 0.5190, Test Acc: 0.5000, Train Loss: 0.6775, Test Loss: 0.6776\n",
      "Epoch: 070, Train Acc: 0.6226, Test Acc: 0.6253, Train Loss: 0.6706, Test Loss: 0.6695\n",
      "Epoch: 080, Train Acc: 0.5941, Test Acc: 0.5887, Train Loss: 0.6717, Test Loss: 0.6709\n",
      "Epoch: 090, Train Acc: 0.6087, Test Acc: 0.5997, Train Loss: 0.6785, Test Loss: 0.6784\n",
      "20 epochs passed without 0 test loss improvement. \n",
      "Early stopping triggered.\n"
     ]
    },
    {
     "data": {
      "text/html": [
       "<style>\n",
       "    table.wandb td:nth-child(1) { padding: 0 10px; text-align: left ; width: auto;} td:nth-child(2) {text-align: left ; width: 100%}\n",
       "    .wandb-row { display: flex; flex-direction: row; flex-wrap: wrap; justify-content: flex-start; width: 100% }\n",
       "    .wandb-col { display: flex; flex-direction: column; flex-basis: 100%; flex: 1; padding: 10px; }\n",
       "    </style>\n",
       "<div class=\"wandb-row\"><div class=\"wandb-col\"><h3>Run history:</h3><br/><table class=\"wandb\"><tr><td>Test Accuracy</td><td>▂▂▂▂▂▂▂▂▂▂▂▂▂█▂▂▂▂▂▂▂▂▂▂▄▇▂█▂▇▁▃▅▄▂▄▂▂▅▆</td></tr><tr><td>Test F1</td><td>▁███████████████████████▄▇█▇█▇▇▃▅▄█▄██▅▆</td></tr><tr><td>Test Loss</td><td>█▄▄▄▄▄▄▄▄▄▄▄▄▄▄▄▄▄▃▃▄▃▄▃▃▃▂▂▂▂▁▄▃▃▁▃▂▂▃▁</td></tr><tr><td>Test Sensitivity</td><td>▁████████████▅██████████▂▄█▄▇▄▆▂▃▂▇▂▇█▃▃</td></tr><tr><td>Test Specificity</td><td>█▁▁▁▁▁▁▁▁▁▁▁▁▇▁▁▁▁▁▁▁▁▁▁█▇▁▇▁▇▂███▁█▁▁█▇</td></tr><tr><td>Train Accuracy</td><td>▁▃▃▃▃▃▃▃▃▃▃▃▃█▃▃▃▃▃▃▃▃▃▃▃▇▂▇▂▇▁▂▅▄▂▄▂▃▅▇</td></tr><tr><td>Train F1</td><td>▁████████████▇██████████▄▇█▇█▇▇▃▅▄█▄██▆▇</td></tr><tr><td>Train Loss</td><td>█▄▄▄▄▄▄▄▄▄▄▄▄▄▄▄▄▄▃▃▄▃▃▃▃▃▂▃▂▂▂▄▃▃▁▃▂▂▃▁</td></tr><tr><td>Train Sensitivity</td><td>▁████████████▅██████████▂▄▇▄█▄▇▂▃▂▇▂▇█▃▄</td></tr><tr><td>Train Specificity</td><td>█▁▁▁▁▁▁▁▁▁▁▁▁▇▁▁▁▁▁▁▁▁▁▁█▇▁▇▁▇▂███▁█▁▁█▇</td></tr></table><br/></div><div class=\"wandb-col\"><h3>Run summary:</h3><br/><table class=\"wandb\"><tr><td>Test Accuracy</td><td>0.62367</td></tr><tr><td>Test F1</td><td>0.48471</td></tr><tr><td>Test Loss</td><td>0.6626</td></tr><tr><td>Test Sensitivity</td><td>0.34638</td></tr><tr><td>Test Specificity</td><td>0.91343</td></tr><tr><td>Train Accuracy</td><td>0.65057</td></tr><tr><td>Train F1</td><td>0.55608</td></tr><tr><td>Train Loss</td><td>0.6576</td></tr><tr><td>Train Sensitivity</td><td>0.41574</td></tr><tr><td>Train Specificity</td><td>0.91161</td></tr></table><br/></div></div>"
      ],
      "text/plain": [
       "<IPython.core.display.HTML object>"
      ]
     },
     "metadata": {},
     "output_type": "display_data"
    },
    {
     "data": {
      "text/html": [
       " View run <strong style=\"color:#cdcd00\">happy-sweep-58</strong> at: <a href='https://wandb.ai/dylan-home/pnca-sweep-1/runs/1ossc4ht' target=\"_blank\">https://wandb.ai/dylan-home/pnca-sweep-1/runs/1ossc4ht</a><br/>Synced 5 W&B file(s), 0 media file(s), 0 artifact file(s) and 0 other file(s)"
      ],
      "text/plain": [
       "<IPython.core.display.HTML object>"
      ]
     },
     "metadata": {},
     "output_type": "display_data"
    },
    {
     "data": {
      "text/html": [
       "Find logs at: <code>./wandb/run-20250116_051736-1ossc4ht/logs</code>"
      ],
      "text/plain": [
       "<IPython.core.display.HTML object>"
      ]
     },
     "metadata": {},
     "output_type": "display_data"
    },
    {
     "name": "stderr",
     "output_type": "stream",
     "text": [
      "\u001b[34m\u001b[1mwandb\u001b[0m: Agent Starting Run: 15z2a85j with config:\n",
      "\u001b[34m\u001b[1mwandb\u001b[0m: \tcutoff_distance: 7.79036342104187\n",
      "\u001b[34m\u001b[1mwandb\u001b[0m: \tdropout: 0.5\n",
      "\u001b[34m\u001b[1mwandb\u001b[0m: \thidden_channels: 384\n",
      "\u001b[34m\u001b[1mwandb\u001b[0m: \tlearning_rate: 0.00020202965028099775\n",
      "\u001b[34m\u001b[1mwandb\u001b[0m: \tweight_decay: 0.00012178632766471948\n",
      "Failed to detect the name of this notebook, you can set it manually with the WANDB_NOTEBOOK_NAME environment variable to enable code saving.\n",
      "/usr/lib/python3/dist-packages/requests/__init__.py:87: RequestsDependencyWarning: urllib3 (2.2.3) or chardet (4.0.0) doesn't match a supported version!\n",
      "  warnings.warn(\"urllib3 ({}) or chardet ({}) doesn't match a supported \"\n"
     ]
    },
    {
     "data": {
      "text/html": [
       "wandb version 0.19.3 is available!  To upgrade, please run:\n",
       " $ pip install wandb --upgrade"
      ],
      "text/plain": [
       "<IPython.core.display.HTML object>"
      ]
     },
     "metadata": {},
     "output_type": "display_data"
    },
    {
     "data": {
      "text/html": [
       "Tracking run with wandb version 0.16.4"
      ],
      "text/plain": [
       "<IPython.core.display.HTML object>"
      ]
     },
     "metadata": {},
     "output_type": "display_data"
    },
    {
     "data": {
      "text/html": [
       "Run data is saved locally in <code>/mnt/alphafold-volume-1/dylan2/repos/tb-pnca-gnn/dd_pnca/wandb/run-20250116_052035-15z2a85j</code>"
      ],
      "text/plain": [
       "<IPython.core.display.HTML object>"
      ]
     },
     "metadata": {},
     "output_type": "display_data"
    },
    {
     "data": {
      "text/html": [
       "Syncing run <strong><a href='https://wandb.ai/dylan-home/pnca-sweep-1/runs/15z2a85j' target=\"_blank\">resilient-sweep-59</a></strong> to <a href='https://wandb.ai/dylan-home/pnca-sweep-1' target=\"_blank\">Weights & Biases</a> (<a href='https://wandb.me/run' target=\"_blank\">docs</a>)<br/>Sweep page: <a href='https://wandb.ai/dylan-home/pnca-sweep-1/sweeps/tr8mwg42' target=\"_blank\">https://wandb.ai/dylan-home/pnca-sweep-1/sweeps/tr8mwg42</a>"
      ],
      "text/plain": [
       "<IPython.core.display.HTML object>"
      ]
     },
     "metadata": {},
     "output_type": "display_data"
    },
    {
     "data": {
      "text/html": [
       " View project at <a href='https://wandb.ai/dylan-home/pnca-sweep-1' target=\"_blank\">https://wandb.ai/dylan-home/pnca-sweep-1</a>"
      ],
      "text/plain": [
       "<IPython.core.display.HTML object>"
      ]
     },
     "metadata": {},
     "output_type": "display_data"
    },
    {
     "data": {
      "text/html": [
       " View sweep at <a href='https://wandb.ai/dylan-home/pnca-sweep-1/sweeps/tr8mwg42' target=\"_blank\">https://wandb.ai/dylan-home/pnca-sweep-1/sweeps/tr8mwg42</a>"
      ],
      "text/plain": [
       "<IPython.core.display.HTML object>"
      ]
     },
     "metadata": {},
     "output_type": "display_data"
    },
    {
     "data": {
      "text/html": [
       " View run at <a href='https://wandb.ai/dylan-home/pnca-sweep-1/runs/15z2a85j' target=\"_blank\">https://wandb.ai/dylan-home/pnca-sweep-1/runs/15z2a85j</a>"
      ],
      "text/plain": [
       "<IPython.core.display.HTML object>"
      ]
     },
     "metadata": {},
     "output_type": "display_data"
    },
    {
     "name": "stdout",
     "output_type": "stream",
     "text": [
      "Using CUDA\n",
      "Early stopping enabled. Patience: 20. Min Delta: 0.\n",
      "Epoch: 010, Train Acc: 0.5797, Test Acc: 0.6303, Train Loss: 0.6892, Test Loss: 0.6859\n",
      "Epoch: 020, Train Acc: 0.5264, Test Acc: 0.5110, Train Loss: 0.6910, Test Loss: 0.6933\n",
      "Epoch: 030, Train Acc: 0.5264, Test Acc: 0.5110, Train Loss: 0.6905, Test Loss: 0.6928\n",
      "Epoch: 040, Train Acc: 0.4887, Test Acc: 0.5223, Train Loss: 0.6954, Test Loss: 0.6876\n",
      "Epoch: 050, Train Acc: 0.5003, Test Acc: 0.5413, Train Loss: 0.6915, Test Loss: 0.6855\n",
      "Epoch: 060, Train Acc: 0.5237, Test Acc: 0.5093, Train Loss: 0.6782, Test Loss: 0.6773\n",
      "Epoch: 070, Train Acc: 0.5254, Test Acc: 0.5107, Train Loss: 0.6740, Test Loss: 0.6735\n",
      "Epoch: 080, Train Acc: 0.5017, Test Acc: 0.4803, Train Loss: 0.6643, Test Loss: 0.6607\n",
      "Epoch: 090, Train Acc: 0.5266, Test Acc: 0.5110, Train Loss: 0.6830, Test Loss: 0.6862\n",
      "Epoch: 100, Train Acc: 0.6124, Test Acc: 0.6663, Train Loss: 0.6530, Test Loss: 0.6336\n",
      "Epoch: 110, Train Acc: 0.6594, Test Acc: 0.6780, Train Loss: 0.6331, Test Loss: 0.6174\n",
      "Epoch: 120, Train Acc: 0.7316, Test Acc: 0.7137, Train Loss: 0.5963, Test Loss: 0.5894\n",
      "Epoch: 130, Train Acc: 0.6029, Test Acc: 0.6550, Train Loss: 0.6505, Test Loss: 0.6293\n",
      "Epoch: 140, Train Acc: 0.6926, Test Acc: 0.6940, Train Loss: 0.5750, Test Loss: 0.5716\n",
      "Epoch: 150, Train Acc: 0.6926, Test Acc: 0.6840, Train Loss: 0.5768, Test Loss: 0.5748\n",
      "Epoch: 160, Train Acc: 0.7773, Test Acc: 0.7400, Train Loss: 0.5331, Test Loss: 0.5577\n",
      "Epoch: 170, Train Acc: 0.7874, Test Acc: 0.7267, Train Loss: 0.5269, Test Loss: 0.5822\n",
      "Epoch: 180, Train Acc: 0.8026, Test Acc: 0.7377, Train Loss: 0.4786, Test Loss: 0.5468\n",
      "Epoch: 190, Train Acc: 0.7684, Test Acc: 0.7383, Train Loss: 0.4790, Test Loss: 0.5315\n",
      "Epoch: 200, Train Acc: 0.7517, Test Acc: 0.7320, Train Loss: 0.4906, Test Loss: 0.5462\n",
      "Epoch: 210, Train Acc: 0.8206, Test Acc: 0.7530, Train Loss: 0.4441, Test Loss: 0.5573\n",
      "Epoch: 220, Train Acc: 0.7380, Test Acc: 0.7200, Train Loss: 0.5150, Test Loss: 0.5958\n",
      "20 epochs passed without 0 test loss improvement. \n",
      "Early stopping triggered.\n"
     ]
    },
    {
     "data": {
      "text/html": [
       "<style>\n",
       "    table.wandb td:nth-child(1) { padding: 0 10px; text-align: left ; width: auto;} td:nth-child(2) {text-align: left ; width: 100%}\n",
       "    .wandb-row { display: flex; flex-direction: row; flex-wrap: wrap; justify-content: flex-start; width: 100% }\n",
       "    .wandb-col { display: flex; flex-direction: column; flex-basis: 100%; flex: 1; padding: 10px; }\n",
       "    </style>\n",
       "<div class=\"wandb-row\"><div class=\"wandb-col\"><h3>Run history:</h3><br/><table class=\"wandb\"><tr><td>Test Accuracy</td><td>▂▁▂▁▂▂▂▂▂▆▆▁▂▂▁▇▆▆▂▆▆▇▇▆▆▇▁▂▂▇▆██████▇▇█</td></tr><tr><td>Test F1</td><td>▇▁▇▁▇▇▇▂▇▇▇▇▇▇▇▇▇▆▇▇▆█▇▆▇█▇▇▇█▆██████▇▇█</td></tr><tr><td>Test Loss</td><td>▆▆▇▇▆▆▆▆▆▆▆▆▆▆▅▅▅▄▅▄▄▄▃▃▂▂▄▆█▃▄▂▁▁▂▁▂▃▃▁</td></tr><tr><td>Test Sensitivity</td><td>█▁█▁███▁█▅▅▇██▇▅▅▄█▄▄▆▆▄▄▆███▇▄▆▆▆▆▆▇▅▅▆</td></tr><tr><td>Test Specificity</td><td>▁█▁█▁▁▁█▁▇▆▁▁▁▁▇▇█▁▇▇▆▆▇▇▇▁▁▁▅█▆▇▆▆▇▆██▇</td></tr><tr><td>Train Accuracy</td><td>▂▁▂▁▂▂▂▁▂▅▆▂▂▂▂▆▅▄▂▅▅▇▇▅▅▇▂▂▂▇▅█▇██▇█▆▆█</td></tr><tr><td>Train F1</td><td>▇▁▇▁▇▇▇▁▇▆▇▇▇▇▇▇▆▅▇▆▅▇▇▆▆▇▇▇▇█▆██████▇▇█</td></tr><tr><td>Train Loss</td><td>████▇█▇█▇▇▇▇▇▇▇▇▇▇▇▆▆▆▅▅▅▄▅▆▇▄▆▂▂▂▂▂▂▃▃▁</td></tr><tr><td>Train Sensitivity</td><td>█▁█▁███▁█▄▅▇██▇▅▄▃█▄▄▆▆▄▄▆███▇▄▆▆▆▇▆▇▅▅▆</td></tr><tr><td>Train Specificity</td><td>▁█▁█▁▁▁█▁▇▇▁▁▁▁▇▇█▁██▆▇██▇▁▁▁▆█▇▇▇▇▇▇██▇</td></tr></table><br/></div><div class=\"wandb-col\"><h3>Run summary:</h3><br/><table class=\"wandb\"><tr><td>Test Accuracy</td><td>0.73867</td></tr><tr><td>Test F1</td><td>0.719</td></tr><tr><td>Test Loss</td><td>0.534</td></tr><tr><td>Test Sensitivity</td><td>0.65427</td></tr><tr><td>Test Specificity</td><td>0.82686</td></tr><tr><td>Train Accuracy</td><td>0.80786</td></tr><tr><td>Train F1</td><td>0.79538</td></tr><tr><td>Train Loss</td><td>0.41588</td></tr><tr><td>Train Sensitivity</td><td>0.70936</td></tr><tr><td>Train Specificity</td><td>0.91735</td></tr></table><br/></div></div>"
      ],
      "text/plain": [
       "<IPython.core.display.HTML object>"
      ]
     },
     "metadata": {},
     "output_type": "display_data"
    },
    {
     "data": {
      "text/html": [
       " View run <strong style=\"color:#cdcd00\">resilient-sweep-59</strong> at: <a href='https://wandb.ai/dylan-home/pnca-sweep-1/runs/15z2a85j' target=\"_blank\">https://wandb.ai/dylan-home/pnca-sweep-1/runs/15z2a85j</a><br/>Synced 5 W&B file(s), 0 media file(s), 0 artifact file(s) and 0 other file(s)"
      ],
      "text/plain": [
       "<IPython.core.display.HTML object>"
      ]
     },
     "metadata": {},
     "output_type": "display_data"
    },
    {
     "data": {
      "text/html": [
       "Find logs at: <code>./wandb/run-20250116_052035-15z2a85j/logs</code>"
      ],
      "text/plain": [
       "<IPython.core.display.HTML object>"
      ]
     },
     "metadata": {},
     "output_type": "display_data"
    },
    {
     "name": "stderr",
     "output_type": "stream",
     "text": [
      "\u001b[34m\u001b[1mwandb\u001b[0m: Agent Starting Run: g27tlaon with config:\n",
      "\u001b[34m\u001b[1mwandb\u001b[0m: \tcutoff_distance: 6.7202337831959245\n",
      "\u001b[34m\u001b[1mwandb\u001b[0m: \tdropout: 0.6\n",
      "\u001b[34m\u001b[1mwandb\u001b[0m: \thidden_channels: 384\n",
      "\u001b[34m\u001b[1mwandb\u001b[0m: \tlearning_rate: 0.002420583556110806\n",
      "\u001b[34m\u001b[1mwandb\u001b[0m: \tweight_decay: 0.0005080365714608846\n",
      "Failed to detect the name of this notebook, you can set it manually with the WANDB_NOTEBOOK_NAME environment variable to enable code saving.\n",
      "/usr/lib/python3/dist-packages/requests/__init__.py:87: RequestsDependencyWarning: urllib3 (2.2.3) or chardet (4.0.0) doesn't match a supported version!\n",
      "  warnings.warn(\"urllib3 ({}) or chardet ({}) doesn't match a supported \"\n"
     ]
    },
    {
     "data": {
      "text/html": [
       "wandb version 0.19.3 is available!  To upgrade, please run:\n",
       " $ pip install wandb --upgrade"
      ],
      "text/plain": [
       "<IPython.core.display.HTML object>"
      ]
     },
     "metadata": {},
     "output_type": "display_data"
    },
    {
     "data": {
      "text/html": [
       "Tracking run with wandb version 0.16.4"
      ],
      "text/plain": [
       "<IPython.core.display.HTML object>"
      ]
     },
     "metadata": {},
     "output_type": "display_data"
    },
    {
     "data": {
      "text/html": [
       "Run data is saved locally in <code>/mnt/alphafold-volume-1/dylan2/repos/tb-pnca-gnn/dd_pnca/wandb/run-20250116_052945-g27tlaon</code>"
      ],
      "text/plain": [
       "<IPython.core.display.HTML object>"
      ]
     },
     "metadata": {},
     "output_type": "display_data"
    },
    {
     "data": {
      "text/html": [
       "Syncing run <strong><a href='https://wandb.ai/dylan-home/pnca-sweep-1/runs/g27tlaon' target=\"_blank\">sweepy-sweep-60</a></strong> to <a href='https://wandb.ai/dylan-home/pnca-sweep-1' target=\"_blank\">Weights & Biases</a> (<a href='https://wandb.me/run' target=\"_blank\">docs</a>)<br/>Sweep page: <a href='https://wandb.ai/dylan-home/pnca-sweep-1/sweeps/tr8mwg42' target=\"_blank\">https://wandb.ai/dylan-home/pnca-sweep-1/sweeps/tr8mwg42</a>"
      ],
      "text/plain": [
       "<IPython.core.display.HTML object>"
      ]
     },
     "metadata": {},
     "output_type": "display_data"
    },
    {
     "data": {
      "text/html": [
       " View project at <a href='https://wandb.ai/dylan-home/pnca-sweep-1' target=\"_blank\">https://wandb.ai/dylan-home/pnca-sweep-1</a>"
      ],
      "text/plain": [
       "<IPython.core.display.HTML object>"
      ]
     },
     "metadata": {},
     "output_type": "display_data"
    },
    {
     "data": {
      "text/html": [
       " View sweep at <a href='https://wandb.ai/dylan-home/pnca-sweep-1/sweeps/tr8mwg42' target=\"_blank\">https://wandb.ai/dylan-home/pnca-sweep-1/sweeps/tr8mwg42</a>"
      ],
      "text/plain": [
       "<IPython.core.display.HTML object>"
      ]
     },
     "metadata": {},
     "output_type": "display_data"
    },
    {
     "data": {
      "text/html": [
       " View run at <a href='https://wandb.ai/dylan-home/pnca-sweep-1/runs/g27tlaon' target=\"_blank\">https://wandb.ai/dylan-home/pnca-sweep-1/runs/g27tlaon</a>"
      ],
      "text/plain": [
       "<IPython.core.display.HTML object>"
      ]
     },
     "metadata": {},
     "output_type": "display_data"
    },
    {
     "name": "stdout",
     "output_type": "stream",
     "text": [
      "Using CUDA\n",
      "Early stopping enabled. Patience: 20. Min Delta: 0.\n",
      "Epoch: 010, Train Acc: 0.5264, Test Acc: 0.5110, Train Loss: 0.6917, Test Loss: 0.6931\n",
      "Epoch: 020, Train Acc: 0.5264, Test Acc: 0.5110, Train Loss: 0.6917, Test Loss: 0.6933\n",
      "20 epochs passed without 0 test loss improvement. \n",
      "Early stopping triggered.\n"
     ]
    },
    {
     "data": {
      "text/html": [
       "<style>\n",
       "    table.wandb td:nth-child(1) { padding: 0 10px; text-align: left ; width: auto;} td:nth-child(2) {text-align: left ; width: 100%}\n",
       "    .wandb-row { display: flex; flex-direction: row; flex-wrap: wrap; justify-content: flex-start; width: 100% }\n",
       "    .wandb-col { display: flex; flex-direction: column; flex-basis: 100%; flex: 1; padding: 10px; }\n",
       "    </style>\n",
       "<div class=\"wandb-row\"><div class=\"wandb-col\"><h3>Run history:</h3><br/><table class=\"wandb\"><tr><td>Test Accuracy</td><td>▁████████████████████</td></tr><tr><td>Test F1</td><td>▁████████████████████</td></tr><tr><td>Test Loss</td><td>▁▂▆▄▆█▆▃▅▄▅▁▂▅▇▄▅▆▄▅▅</td></tr><tr><td>Test Sensitivity</td><td>▁████████████████████</td></tr><tr><td>Test Specificity</td><td>█▁▁▁▁▁▁▁▁▁▁▁▁▁▁▁▁▁▁▁▁</td></tr><tr><td>Train Accuracy</td><td>▁████████████████████</td></tr><tr><td>Train F1</td><td>▁████████████████████</td></tr><tr><td>Train Loss</td><td>█▄▃▃▃▄▄▃▃▃▃▁▄▄▃▄▃▃▃▃▅</td></tr><tr><td>Train Sensitivity</td><td>▁████████████████████</td></tr><tr><td>Train Specificity</td><td>█▁▁▁▁▁▁▁▁▁▁▁▁▁▁▁▁▁▁▁▁</td></tr></table><br/></div><div class=\"wandb-col\"><h3>Run summary:</h3><br/><table class=\"wandb\"><tr><td>Test Accuracy</td><td>0.511</td></tr><tr><td>Test F1</td><td>0.67637</td></tr><tr><td>Test Loss</td><td>0.69329</td></tr><tr><td>Test Sensitivity</td><td>1.0</td></tr><tr><td>Test Specificity</td><td>0.0</td></tr><tr><td>Train Accuracy</td><td>0.52643</td></tr><tr><td>Train F1</td><td>0.68975</td></tr><tr><td>Train Loss</td><td>0.69204</td></tr><tr><td>Train Sensitivity</td><td>1.0</td></tr><tr><td>Train Specificity</td><td>0.0</td></tr></table><br/></div></div>"
      ],
      "text/plain": [
       "<IPython.core.display.HTML object>"
      ]
     },
     "metadata": {},
     "output_type": "display_data"
    },
    {
     "data": {
      "text/html": [
       " View run <strong style=\"color:#cdcd00\">sweepy-sweep-60</strong> at: <a href='https://wandb.ai/dylan-home/pnca-sweep-1/runs/g27tlaon' target=\"_blank\">https://wandb.ai/dylan-home/pnca-sweep-1/runs/g27tlaon</a><br/>Synced 5 W&B file(s), 0 media file(s), 0 artifact file(s) and 0 other file(s)"
      ],
      "text/plain": [
       "<IPython.core.display.HTML object>"
      ]
     },
     "metadata": {},
     "output_type": "display_data"
    },
    {
     "data": {
      "text/html": [
       "Find logs at: <code>./wandb/run-20250116_052945-g27tlaon/logs</code>"
      ],
      "text/plain": [
       "<IPython.core.display.HTML object>"
      ]
     },
     "metadata": {},
     "output_type": "display_data"
    },
    {
     "name": "stderr",
     "output_type": "stream",
     "text": [
      "\u001b[34m\u001b[1mwandb\u001b[0m: Agent Starting Run: 1h5xlawh with config:\n",
      "\u001b[34m\u001b[1mwandb\u001b[0m: \tcutoff_distance: 7.266492770324903\n",
      "\u001b[34m\u001b[1mwandb\u001b[0m: \tdropout: 0.2\n",
      "\u001b[34m\u001b[1mwandb\u001b[0m: \thidden_channels: 192\n",
      "\u001b[34m\u001b[1mwandb\u001b[0m: \tlearning_rate: 0.00026420232901989033\n",
      "\u001b[34m\u001b[1mwandb\u001b[0m: \tweight_decay: 8.763899177176551e-07\n",
      "Failed to detect the name of this notebook, you can set it manually with the WANDB_NOTEBOOK_NAME environment variable to enable code saving.\n",
      "/usr/lib/python3/dist-packages/requests/__init__.py:87: RequestsDependencyWarning: urllib3 (2.2.3) or chardet (4.0.0) doesn't match a supported version!\n",
      "  warnings.warn(\"urllib3 ({}) or chardet ({}) doesn't match a supported \"\n"
     ]
    },
    {
     "data": {
      "text/html": [
       "wandb version 0.19.3 is available!  To upgrade, please run:\n",
       " $ pip install wandb --upgrade"
      ],
      "text/plain": [
       "<IPython.core.display.HTML object>"
      ]
     },
     "metadata": {},
     "output_type": "display_data"
    },
    {
     "data": {
      "text/html": [
       "Tracking run with wandb version 0.16.4"
      ],
      "text/plain": [
       "<IPython.core.display.HTML object>"
      ]
     },
     "metadata": {},
     "output_type": "display_data"
    },
    {
     "data": {
      "text/html": [
       "Run data is saved locally in <code>/mnt/alphafold-volume-1/dylan2/repos/tb-pnca-gnn/dd_pnca/wandb/run-20250116_053046-1h5xlawh</code>"
      ],
      "text/plain": [
       "<IPython.core.display.HTML object>"
      ]
     },
     "metadata": {},
     "output_type": "display_data"
    },
    {
     "data": {
      "text/html": [
       "Syncing run <strong><a href='https://wandb.ai/dylan-home/pnca-sweep-1/runs/1h5xlawh' target=\"_blank\">eager-sweep-61</a></strong> to <a href='https://wandb.ai/dylan-home/pnca-sweep-1' target=\"_blank\">Weights & Biases</a> (<a href='https://wandb.me/run' target=\"_blank\">docs</a>)<br/>Sweep page: <a href='https://wandb.ai/dylan-home/pnca-sweep-1/sweeps/tr8mwg42' target=\"_blank\">https://wandb.ai/dylan-home/pnca-sweep-1/sweeps/tr8mwg42</a>"
      ],
      "text/plain": [
       "<IPython.core.display.HTML object>"
      ]
     },
     "metadata": {},
     "output_type": "display_data"
    },
    {
     "data": {
      "text/html": [
       " View project at <a href='https://wandb.ai/dylan-home/pnca-sweep-1' target=\"_blank\">https://wandb.ai/dylan-home/pnca-sweep-1</a>"
      ],
      "text/plain": [
       "<IPython.core.display.HTML object>"
      ]
     },
     "metadata": {},
     "output_type": "display_data"
    },
    {
     "data": {
      "text/html": [
       " View sweep at <a href='https://wandb.ai/dylan-home/pnca-sweep-1/sweeps/tr8mwg42' target=\"_blank\">https://wandb.ai/dylan-home/pnca-sweep-1/sweeps/tr8mwg42</a>"
      ],
      "text/plain": [
       "<IPython.core.display.HTML object>"
      ]
     },
     "metadata": {},
     "output_type": "display_data"
    },
    {
     "data": {
      "text/html": [
       " View run at <a href='https://wandb.ai/dylan-home/pnca-sweep-1/runs/1h5xlawh' target=\"_blank\">https://wandb.ai/dylan-home/pnca-sweep-1/runs/1h5xlawh</a>"
      ],
      "text/plain": [
       "<IPython.core.display.HTML object>"
      ]
     },
     "metadata": {},
     "output_type": "display_data"
    },
    {
     "name": "stdout",
     "output_type": "stream",
     "text": [
      "Using CUDA\n",
      "Early stopping enabled. Patience: 20. Min Delta: 0.\n",
      "Epoch: 010, Train Acc: 0.5264, Test Acc: 0.5110, Train Loss: 0.7001, Test Loss: 0.7035\n",
      "Epoch: 020, Train Acc: 0.5426, Test Acc: 0.6150, Train Loss: 0.6898, Test Loss: 0.6860\n",
      "Epoch: 030, Train Acc: 0.6641, Test Acc: 0.6793, Train Loss: 0.6851, Test Loss: 0.6807\n",
      "Epoch: 040, Train Acc: 0.5160, Test Acc: 0.4933, Train Loss: 0.6818, Test Loss: 0.6795\n",
      "Epoch: 050, Train Acc: 0.5456, Test Acc: 0.6093, Train Loss: 0.6836, Test Loss: 0.6734\n",
      "Epoch: 060, Train Acc: 0.5063, Test Acc: 0.4920, Train Loss: 0.6640, Test Loss: 0.6595\n",
      "Epoch: 070, Train Acc: 0.7194, Test Acc: 0.6957, Train Loss: 0.6510, Test Loss: 0.6461\n",
      "Epoch: 080, Train Acc: 0.7429, Test Acc: 0.7113, Train Loss: 0.6416, Test Loss: 0.6364\n",
      "Epoch: 090, Train Acc: 0.5203, Test Acc: 0.4917, Train Loss: 0.6341, Test Loss: 0.6364\n",
      "Epoch: 100, Train Acc: 0.7501, Test Acc: 0.7040, Train Loss: 0.6117, Test Loss: 0.6133\n",
      "Epoch: 110, Train Acc: 0.5264, Test Acc: 0.5100, Train Loss: 0.6624, Test Loss: 0.6792\n",
      "Epoch: 120, Train Acc: 0.6434, Test Acc: 0.6743, Train Loss: 0.6183, Test Loss: 0.6160\n",
      "Epoch: 130, Train Acc: 0.7087, Test Acc: 0.7097, Train Loss: 0.5706, Test Loss: 0.5803\n",
      "Epoch: 140, Train Acc: 0.7303, Test Acc: 0.7187, Train Loss: 0.5459, Test Loss: 0.5661\n",
      "Epoch: 150, Train Acc: 0.7803, Test Acc: 0.7387, Train Loss: 0.5143, Test Loss: 0.5490\n",
      "Epoch: 160, Train Acc: 0.5337, Test Acc: 0.5093, Train Loss: 0.6358, Test Loss: 0.6958\n",
      "Epoch: 170, Train Acc: 0.7364, Test Acc: 0.7197, Train Loss: 0.5199, Test Loss: 0.5638\n",
      "Epoch: 180, Train Acc: 0.7166, Test Acc: 0.7113, Train Loss: 0.5395, Test Loss: 0.5880\n",
      "Epoch: 190, Train Acc: 0.7863, Test Acc: 0.7237, Train Loss: 0.5112, Test Loss: 0.5779\n",
      "Epoch: 200, Train Acc: 0.8107, Test Acc: 0.7543, Train Loss: 0.4483, Test Loss: 0.5314\n",
      "Epoch: 210, Train Acc: 0.8179, Test Acc: 0.7527, Train Loss: 0.4670, Test Loss: 0.5468\n",
      "Epoch: 220, Train Acc: 0.8113, Test Acc: 0.7493, Train Loss: 0.4393, Test Loss: 0.5248\n",
      "Epoch: 230, Train Acc: 0.7791, Test Acc: 0.7433, Train Loss: 0.4534, Test Loss: 0.5488\n",
      "Epoch: 240, Train Acc: 0.8040, Test Acc: 0.7523, Train Loss: 0.4206, Test Loss: 0.5213\n",
      "Epoch: 250, Train Acc: 0.8309, Test Acc: 0.7590, Train Loss: 0.3978, Test Loss: 0.5213\n",
      "Epoch: 260, Train Acc: 0.7287, Test Acc: 0.7090, Train Loss: 0.5761, Test Loss: 0.6910\n",
      "20 epochs passed without 0 test loss improvement. \n",
      "Early stopping triggered.\n"
     ]
    },
    {
     "data": {
      "text/html": [
       "<style>\n",
       "    table.wandb td:nth-child(1) { padding: 0 10px; text-align: left ; width: auto;} td:nth-child(2) {text-align: left ; width: 100%}\n",
       "    .wandb-row { display: flex; flex-direction: row; flex-wrap: wrap; justify-content: flex-start; width: 100% }\n",
       "    .wandb-col { display: flex; flex-direction: column; flex-basis: 100%; flex: 1; padding: 10px; }\n",
       "    </style>\n",
       "<div class=\"wandb-row\"><div class=\"wandb-col\"><h3>Run history:</h3><br/><table class=\"wandb\"><tr><td>Test Accuracy</td><td>▁▂▂▂▁▁▁▂▂▁▆▅▂▁▂▇▇▆▅▂▄▇▇▇▇▇▇▇██▇███▇█▇█▇▂</td></tr><tr><td>Test F1</td><td>▁▇▇▇▇▇▇▇▇▇▆▆▇▇▇█▇▆▆▇▄██▇▇▇▇███▇▇████▇█▇▇</td></tr><tr><td>Test Loss</td><td>▆▆▆▆▆▆▆▆▆▅▅▅▆▄▅▃▃▄▄▄█▂▃▃▃▂▃▃▂▁▃▂▁▂▄▁▅▂▆▇</td></tr><tr><td>Test Sensitivity</td><td>▁█████▇██▇▄▃█▇█▆▅▄▃▇▃▆▇▄▄▅▄▇▆▆▅▅▆▆▇▅▄▆▄█</td></tr><tr><td>Test Specificity</td><td>█▁▁▁▁▁▁▁▁▂▇█▁▂▁▆▇██▂█▆▅██▇█▅▇▇▇▇▇▆▅▇█▆█▂</td></tr><tr><td>Train Accuracy</td><td>▁▂▂▂▂▂▂▂▂▂▄▃▂▂▂▆▆▄▄▂▃▇▇▅▅▆▆▇▇█▆▇██▇▇▆█▆▃</td></tr><tr><td>Train F1</td><td>▁▇▇▇▇▇▇▇▇▆▅▄▇▇▇▇▇▅▅▇▄██▆▆▇▆███▇▇████▆█▆▇</td></tr><tr><td>Train Loss</td><td>▇▇▆▆▆▆▆▆▆▆▆▆▆▅▆▅▄▅▅▄█▃▄▄▄▃▃▃▂▂▃▂▁▂▃▁▄▁▄▄</td></tr><tr><td>Train Sensitivity</td><td>▁████████▇▃▃█▇█▇▅▃▃█▂▇▇▄▄▅▄▇▆▆▅▅▆▇█▆▄▇▄█</td></tr><tr><td>Train Specificity</td><td>█▁▁▁▁▁▁▁▁▂██▁▂▁▆▇██▂█▆▅████▅▇▇██▇▆▅▇█▇█▂</td></tr></table><br/></div><div class=\"wandb-col\"><h3>Run summary:</h3><br/><table class=\"wandb\"><tr><td>Test Accuracy</td><td>0.73133</td></tr><tr><td>Test F1</td><td>0.66967</td></tr><tr><td>Test Loss</td><td>0.60552</td></tr><tr><td>Test Sensitivity</td><td>0.53294</td></tr><tr><td>Test Specificity</td><td>0.93865</td></tr><tr><td>Train Accuracy</td><td>0.75257</td></tr><tr><td>Train F1</td><td>0.70055</td></tr><tr><td>Train Loss</td><td>0.49418</td></tr><tr><td>Train Sensitivity</td><td>0.5498</td></tr><tr><td>Train Specificity</td><td>0.97798</td></tr></table><br/></div></div>"
      ],
      "text/plain": [
       "<IPython.core.display.HTML object>"
      ]
     },
     "metadata": {},
     "output_type": "display_data"
    },
    {
     "data": {
      "text/html": [
       " View run <strong style=\"color:#cdcd00\">eager-sweep-61</strong> at: <a href='https://wandb.ai/dylan-home/pnca-sweep-1/runs/1h5xlawh' target=\"_blank\">https://wandb.ai/dylan-home/pnca-sweep-1/runs/1h5xlawh</a><br/>Synced 5 W&B file(s), 0 media file(s), 0 artifact file(s) and 0 other file(s)"
      ],
      "text/plain": [
       "<IPython.core.display.HTML object>"
      ]
     },
     "metadata": {},
     "output_type": "display_data"
    },
    {
     "data": {
      "text/html": [
       "Find logs at: <code>./wandb/run-20250116_053046-1h5xlawh/logs</code>"
      ],
      "text/plain": [
       "<IPython.core.display.HTML object>"
      ]
     },
     "metadata": {},
     "output_type": "display_data"
    },
    {
     "name": "stderr",
     "output_type": "stream",
     "text": [
      "\u001b[34m\u001b[1mwandb\u001b[0m: Agent Starting Run: b29lqyog with config:\n",
      "\u001b[34m\u001b[1mwandb\u001b[0m: \tcutoff_distance: 5.237042717675852\n",
      "\u001b[34m\u001b[1mwandb\u001b[0m: \tdropout: 0.4\n",
      "\u001b[34m\u001b[1mwandb\u001b[0m: \thidden_channels: 128\n",
      "\u001b[34m\u001b[1mwandb\u001b[0m: \tlearning_rate: 0.007834777288842153\n",
      "\u001b[34m\u001b[1mwandb\u001b[0m: \tweight_decay: 9.583860201948956e-05\n",
      "Failed to detect the name of this notebook, you can set it manually with the WANDB_NOTEBOOK_NAME environment variable to enable code saving.\n",
      "/usr/lib/python3/dist-packages/requests/__init__.py:87: RequestsDependencyWarning: urllib3 (2.2.3) or chardet (4.0.0) doesn't match a supported version!\n",
      "  warnings.warn(\"urllib3 ({}) or chardet ({}) doesn't match a supported \"\n"
     ]
    },
    {
     "data": {
      "text/html": [
       "wandb version 0.19.3 is available!  To upgrade, please run:\n",
       " $ pip install wandb --upgrade"
      ],
      "text/plain": [
       "<IPython.core.display.HTML object>"
      ]
     },
     "metadata": {},
     "output_type": "display_data"
    },
    {
     "data": {
      "text/html": [
       "Tracking run with wandb version 0.16.4"
      ],
      "text/plain": [
       "<IPython.core.display.HTML object>"
      ]
     },
     "metadata": {},
     "output_type": "display_data"
    },
    {
     "data": {
      "text/html": [
       "Run data is saved locally in <code>/mnt/alphafold-volume-1/dylan2/repos/tb-pnca-gnn/dd_pnca/wandb/run-20250116_053908-b29lqyog</code>"
      ],
      "text/plain": [
       "<IPython.core.display.HTML object>"
      ]
     },
     "metadata": {},
     "output_type": "display_data"
    },
    {
     "data": {
      "text/html": [
       "Syncing run <strong><a href='https://wandb.ai/dylan-home/pnca-sweep-1/runs/b29lqyog' target=\"_blank\">effortless-sweep-62</a></strong> to <a href='https://wandb.ai/dylan-home/pnca-sweep-1' target=\"_blank\">Weights & Biases</a> (<a href='https://wandb.me/run' target=\"_blank\">docs</a>)<br/>Sweep page: <a href='https://wandb.ai/dylan-home/pnca-sweep-1/sweeps/tr8mwg42' target=\"_blank\">https://wandb.ai/dylan-home/pnca-sweep-1/sweeps/tr8mwg42</a>"
      ],
      "text/plain": [
       "<IPython.core.display.HTML object>"
      ]
     },
     "metadata": {},
     "output_type": "display_data"
    },
    {
     "data": {
      "text/html": [
       " View project at <a href='https://wandb.ai/dylan-home/pnca-sweep-1' target=\"_blank\">https://wandb.ai/dylan-home/pnca-sweep-1</a>"
      ],
      "text/plain": [
       "<IPython.core.display.HTML object>"
      ]
     },
     "metadata": {},
     "output_type": "display_data"
    },
    {
     "data": {
      "text/html": [
       " View sweep at <a href='https://wandb.ai/dylan-home/pnca-sweep-1/sweeps/tr8mwg42' target=\"_blank\">https://wandb.ai/dylan-home/pnca-sweep-1/sweeps/tr8mwg42</a>"
      ],
      "text/plain": [
       "<IPython.core.display.HTML object>"
      ]
     },
     "metadata": {},
     "output_type": "display_data"
    },
    {
     "data": {
      "text/html": [
       " View run at <a href='https://wandb.ai/dylan-home/pnca-sweep-1/runs/b29lqyog' target=\"_blank\">https://wandb.ai/dylan-home/pnca-sweep-1/runs/b29lqyog</a>"
      ],
      "text/plain": [
       "<IPython.core.display.HTML object>"
      ]
     },
     "metadata": {},
     "output_type": "display_data"
    },
    {
     "name": "stdout",
     "output_type": "stream",
     "text": [
      "Using CUDA\n",
      "Early stopping enabled. Patience: 20. Min Delta: 0.\n",
      "Epoch: 010, Train Acc: 0.5264, Test Acc: 0.5110, Train Loss: 0.6918, Test Loss: 0.6930\n",
      "Epoch: 020, Train Acc: 0.5264, Test Acc: 0.5110, Train Loss: 0.6919, Test Loss: 0.6929\n",
      "Epoch: 030, Train Acc: 0.5264, Test Acc: 0.5110, Train Loss: 0.6921, Test Loss: 0.6929\n",
      "20 epochs passed without 0 test loss improvement. \n",
      "Early stopping triggered.\n"
     ]
    },
    {
     "data": {
      "text/html": [
       "<style>\n",
       "    table.wandb td:nth-child(1) { padding: 0 10px; text-align: left ; width: auto;} td:nth-child(2) {text-align: left ; width: 100%}\n",
       "    .wandb-row { display: flex; flex-direction: row; flex-wrap: wrap; justify-content: flex-start; width: 100% }\n",
       "    .wandb-col { display: flex; flex-direction: column; flex-basis: 100%; flex: 1; padding: 10px; }\n",
       "    </style>\n",
       "<div class=\"wandb-row\"><div class=\"wandb-col\"><h3>Run history:</h3><br/><table class=\"wandb\"><tr><td>Test Accuracy</td><td>▁▁▁▁▁▁▁▁▁▁▁▁▁▁▁▁▁▁▁▁▁▁▁▁▁▁▁▁▁▁▁▁▁▁▁▁▁▁</td></tr><tr><td>Test F1</td><td>▁▁▁▁▁▁▁▁▁▁▁▁▁▁▁▁▁▁▁▁▁▁▁▁▁▁▁▁▁▁▁▁▁▁▁▁▁▁</td></tr><tr><td>Test Loss</td><td>▁▁▄▂▁▂▅▁▃▁▁▃▁▁▂▁▂▁▂▁▁▄█▁▄▂▂▂▂▁▃▂▂▁▁▃▂▁</td></tr><tr><td>Test Sensitivity</td><td>▁▁▁▁▁▁▁▁▁▁▁▁▁▁▁▁▁▁▁▁▁▁▁▁▁▁▁▁▁▁▁▁▁▁▁▁▁▁</td></tr><tr><td>Test Specificity</td><td>▁▁▁▁▁▁▁▁▁▁▁▁▁▁▁▁▁▁▁▁▁▁▁▁▁▁▁▁▁▁▁▁▁▁▁▁▁▁</td></tr><tr><td>Train Accuracy</td><td>▁▁▁▁▁▁▁▁▁▁▁▁▁▁▁▁▁▁▁▁▁▁▁▁▁▁▁▁▁▁▁▁▁▁▁▁▁▁</td></tr><tr><td>Train F1</td><td>▁▁▁▁▁▁▁▁▁▁▁▁▁▁▁▁▁▁▁▁▁▁▁▁▁▁▁▁▁▁▁▁▁▁▁▁▁▁</td></tr><tr><td>Train Loss</td><td>▃▂▃▃▂▂▃▂▂▂▂▃▂▂▂▂▁▃▂▂▂▄█▂▄▂▂▂▂▃▁▂▃▄▃▂▂▃</td></tr><tr><td>Train Sensitivity</td><td>▁▁▁▁▁▁▁▁▁▁▁▁▁▁▁▁▁▁▁▁▁▁▁▁▁▁▁▁▁▁▁▁▁▁▁▁▁▁</td></tr><tr><td>Train Specificity</td><td>▁▁▁▁▁▁▁▁▁▁▁▁▁▁▁▁▁▁▁▁▁▁▁▁▁▁▁▁▁▁▁▁▁▁▁▁▁▁</td></tr></table><br/></div><div class=\"wandb-col\"><h3>Run summary:</h3><br/><table class=\"wandb\"><tr><td>Test Accuracy</td><td>0.511</td></tr><tr><td>Test F1</td><td>0.67637</td></tr><tr><td>Test Loss</td><td>0.69292</td></tr><tr><td>Test Sensitivity</td><td>1.0</td></tr><tr><td>Test Specificity</td><td>0.0</td></tr><tr><td>Train Accuracy</td><td>0.52643</td></tr><tr><td>Train F1</td><td>0.68975</td></tr><tr><td>Train Loss</td><td>0.69196</td></tr><tr><td>Train Sensitivity</td><td>1.0</td></tr><tr><td>Train Specificity</td><td>0.0</td></tr></table><br/></div></div>"
      ],
      "text/plain": [
       "<IPython.core.display.HTML object>"
      ]
     },
     "metadata": {},
     "output_type": "display_data"
    },
    {
     "data": {
      "text/html": [
       " View run <strong style=\"color:#cdcd00\">effortless-sweep-62</strong> at: <a href='https://wandb.ai/dylan-home/pnca-sweep-1/runs/b29lqyog' target=\"_blank\">https://wandb.ai/dylan-home/pnca-sweep-1/runs/b29lqyog</a><br/>Synced 5 W&B file(s), 0 media file(s), 0 artifact file(s) and 0 other file(s)"
      ],
      "text/plain": [
       "<IPython.core.display.HTML object>"
      ]
     },
     "metadata": {},
     "output_type": "display_data"
    },
    {
     "data": {
      "text/html": [
       "Find logs at: <code>./wandb/run-20250116_053908-b29lqyog/logs</code>"
      ],
      "text/plain": [
       "<IPython.core.display.HTML object>"
      ]
     },
     "metadata": {},
     "output_type": "display_data"
    },
    {
     "name": "stderr",
     "output_type": "stream",
     "text": [
      "\u001b[34m\u001b[1mwandb\u001b[0m: Agent Starting Run: phaudxwi with config:\n",
      "\u001b[34m\u001b[1mwandb\u001b[0m: \tcutoff_distance: 3.785020897941836\n",
      "\u001b[34m\u001b[1mwandb\u001b[0m: \tdropout: 0.2\n",
      "\u001b[34m\u001b[1mwandb\u001b[0m: \thidden_channels: 192\n",
      "\u001b[34m\u001b[1mwandb\u001b[0m: \tlearning_rate: 0.00013475467173865654\n",
      "\u001b[34m\u001b[1mwandb\u001b[0m: \tweight_decay: 0.0012833890406434055\n",
      "Failed to detect the name of this notebook, you can set it manually with the WANDB_NOTEBOOK_NAME environment variable to enable code saving.\n",
      "/usr/lib/python3/dist-packages/requests/__init__.py:87: RequestsDependencyWarning: urllib3 (2.2.3) or chardet (4.0.0) doesn't match a supported version!\n",
      "  warnings.warn(\"urllib3 ({}) or chardet ({}) doesn't match a supported \"\n"
     ]
    },
    {
     "data": {
      "text/html": [
       "wandb version 0.19.3 is available!  To upgrade, please run:\n",
       " $ pip install wandb --upgrade"
      ],
      "text/plain": [
       "<IPython.core.display.HTML object>"
      ]
     },
     "metadata": {},
     "output_type": "display_data"
    },
    {
     "data": {
      "text/html": [
       "Tracking run with wandb version 0.16.4"
      ],
      "text/plain": [
       "<IPython.core.display.HTML object>"
      ]
     },
     "metadata": {},
     "output_type": "display_data"
    },
    {
     "data": {
      "text/html": [
       "Run data is saved locally in <code>/mnt/alphafold-volume-1/dylan2/repos/tb-pnca-gnn/dd_pnca/wandb/run-20250116_054025-phaudxwi</code>"
      ],
      "text/plain": [
       "<IPython.core.display.HTML object>"
      ]
     },
     "metadata": {},
     "output_type": "display_data"
    },
    {
     "data": {
      "text/html": [
       "Syncing run <strong><a href='https://wandb.ai/dylan-home/pnca-sweep-1/runs/phaudxwi' target=\"_blank\">easy-sweep-63</a></strong> to <a href='https://wandb.ai/dylan-home/pnca-sweep-1' target=\"_blank\">Weights & Biases</a> (<a href='https://wandb.me/run' target=\"_blank\">docs</a>)<br/>Sweep page: <a href='https://wandb.ai/dylan-home/pnca-sweep-1/sweeps/tr8mwg42' target=\"_blank\">https://wandb.ai/dylan-home/pnca-sweep-1/sweeps/tr8mwg42</a>"
      ],
      "text/plain": [
       "<IPython.core.display.HTML object>"
      ]
     },
     "metadata": {},
     "output_type": "display_data"
    },
    {
     "data": {
      "text/html": [
       " View project at <a href='https://wandb.ai/dylan-home/pnca-sweep-1' target=\"_blank\">https://wandb.ai/dylan-home/pnca-sweep-1</a>"
      ],
      "text/plain": [
       "<IPython.core.display.HTML object>"
      ]
     },
     "metadata": {},
     "output_type": "display_data"
    },
    {
     "data": {
      "text/html": [
       " View sweep at <a href='https://wandb.ai/dylan-home/pnca-sweep-1/sweeps/tr8mwg42' target=\"_blank\">https://wandb.ai/dylan-home/pnca-sweep-1/sweeps/tr8mwg42</a>"
      ],
      "text/plain": [
       "<IPython.core.display.HTML object>"
      ]
     },
     "metadata": {},
     "output_type": "display_data"
    },
    {
     "data": {
      "text/html": [
       " View run at <a href='https://wandb.ai/dylan-home/pnca-sweep-1/runs/phaudxwi' target=\"_blank\">https://wandb.ai/dylan-home/pnca-sweep-1/runs/phaudxwi</a>"
      ],
      "text/plain": [
       "<IPython.core.display.HTML object>"
      ]
     },
     "metadata": {},
     "output_type": "display_data"
    },
    {
     "name": "stdout",
     "output_type": "stream",
     "text": [
      "Using CUDA\n",
      "Early stopping enabled. Patience: 20. Min Delta: 0.\n",
      "Epoch: 010, Train Acc: 0.5264, Test Acc: 0.5110, Train Loss: 0.6973, Test Loss: 0.7003\n",
      "Epoch: 020, Train Acc: 0.5139, Test Acc: 0.5010, Train Loss: 0.6870, Test Loss: 0.6860\n",
      "Epoch: 030, Train Acc: 0.4801, Test Acc: 0.4673, Train Loss: 0.6846, Test Loss: 0.6815\n",
      "Epoch: 040, Train Acc: 0.5260, Test Acc: 0.5110, Train Loss: 0.6846, Test Loss: 0.6850\n",
      "Epoch: 050, Train Acc: 0.5201, Test Acc: 0.5873, Train Loss: 0.6891, Test Loss: 0.6785\n",
      "Epoch: 060, Train Acc: 0.6847, Test Acc: 0.6893, Train Loss: 0.6717, Test Loss: 0.6643\n",
      "Epoch: 070, Train Acc: 0.5807, Test Acc: 0.6380, Train Loss: 0.6769, Test Loss: 0.6655\n",
      "Epoch: 080, Train Acc: 0.5254, Test Acc: 0.5107, Train Loss: 0.6838, Test Loss: 0.6900\n",
      "Epoch: 090, Train Acc: 0.6817, Test Acc: 0.6850, Train Loss: 0.6579, Test Loss: 0.6487\n",
      "Epoch: 100, Train Acc: 0.7263, Test Acc: 0.6867, Train Loss: 0.6468, Test Loss: 0.6410\n",
      "Epoch: 110, Train Acc: 0.5244, Test Acc: 0.5107, Train Loss: 0.6989, Test Loss: 0.7114\n",
      "Epoch: 120, Train Acc: 0.6086, Test Acc: 0.6540, Train Loss: 0.6567, Test Loss: 0.6411\n",
      "Epoch: 130, Train Acc: 0.6074, Test Acc: 0.6543, Train Loss: 0.6542, Test Loss: 0.6394\n",
      "Epoch: 140, Train Acc: 0.7504, Test Acc: 0.7010, Train Loss: 0.6089, Test Loss: 0.6123\n",
      "Epoch: 150, Train Acc: 0.7474, Test Acc: 0.7000, Train Loss: 0.5968, Test Loss: 0.6072\n",
      "Epoch: 160, Train Acc: 0.5269, Test Acc: 0.5020, Train Loss: 0.6437, Test Loss: 0.6674\n",
      "Epoch: 170, Train Acc: 0.6770, Test Acc: 0.6997, Train Loss: 0.5907, Test Loss: 0.5934\n",
      "Epoch: 180, Train Acc: 0.6520, Test Acc: 0.6783, Train Loss: 0.6127, Test Loss: 0.6139\n",
      "Epoch: 190, Train Acc: 0.7409, Test Acc: 0.7140, Train Loss: 0.5478, Test Loss: 0.5622\n",
      "Epoch: 200, Train Acc: 0.7247, Test Acc: 0.7197, Train Loss: 0.5494, Test Loss: 0.5626\n",
      "Epoch: 210, Train Acc: 0.7567, Test Acc: 0.7273, Train Loss: 0.5210, Test Loss: 0.5443\n",
      "Epoch: 220, Train Acc: 0.7570, Test Acc: 0.7297, Train Loss: 0.5145, Test Loss: 0.5379\n",
      "Epoch: 230, Train Acc: 0.7424, Test Acc: 0.7367, Train Loss: 0.5127, Test Loss: 0.5414\n",
      "Epoch: 240, Train Acc: 0.7980, Test Acc: 0.7497, Train Loss: 0.4821, Test Loss: 0.5215\n",
      "Epoch: 250, Train Acc: 0.7659, Test Acc: 0.7160, Train Loss: 0.5409, Test Loss: 0.5974\n",
      "Epoch: 260, Train Acc: 0.7304, Test Acc: 0.7330, Train Loss: 0.5127, Test Loss: 0.5537\n",
      "Epoch: 270, Train Acc: 0.7866, Test Acc: 0.7520, Train Loss: 0.4432, Test Loss: 0.4971\n",
      "Epoch: 280, Train Acc: 0.5484, Test Acc: 0.5163, Train Loss: 0.5614, Test Loss: 0.6265\n",
      "Epoch: 290, Train Acc: 0.7321, Test Acc: 0.7280, Train Loss: 0.5248, Test Loss: 0.5727\n",
      "Epoch: 300, Train Acc: 0.8000, Test Acc: 0.7527, Train Loss: 0.4228, Test Loss: 0.4872\n",
      "Epoch: 310, Train Acc: 0.8020, Test Acc: 0.7540, Train Loss: 0.4138, Test Loss: 0.4854\n",
      "Epoch: 320, Train Acc: 0.7756, Test Acc: 0.7630, Train Loss: 0.4480, Test Loss: 0.5197\n",
      "20 epochs passed without 0 test loss improvement. \n",
      "Early stopping triggered.\n"
     ]
    },
    {
     "data": {
      "text/html": [
       "<style>\n",
       "    table.wandb td:nth-child(1) { padding: 0 10px; text-align: left ; width: auto;} td:nth-child(2) {text-align: left ; width: 100%}\n",
       "    .wandb-row { display: flex; flex-direction: row; flex-wrap: wrap; justify-content: flex-start; width: 100% }\n",
       "    .wandb-col { display: flex; flex-direction: column; flex-basis: 100%; flex: 1; padding: 10px; }\n",
       "    </style>\n",
       "<div class=\"wandb-row\"><div class=\"wandb-col\"><h3>Run history:</h3><br/><table class=\"wandb\"><tr><td>Test Accuracy</td><td>▁▂▂▂▁▁▂▆▆▅▂▂▆▆▆▆▆▆▇▄▂▇▂▆▇▇▇█▇██▇██▂█████</td></tr><tr><td>Test F1</td><td>▁▂▇▇▆▇▇▇▆▅▇▆▇▇▇▇▇▇▇▅▇▇▇▇▇▇█████▇██▇████▇</td></tr><tr><td>Test Loss</td><td>██▇▇▇▇█▇▇▇█▆▆▆▅▅▅▅▄█▆▃▅▄▃▃▃▂▃▂▂▂▁▁▅▁▁▁▁▃</td></tr><tr><td>Test Sensitivity</td><td>▁▁██▇▇█▅▄▃█▆▆▅▅▅▆▆▅▃▇▅▇▄▅▅▇▆▇▆▆▅▆▆█▇▅▅▇▅</td></tr><tr><td>Test Specificity</td><td>██▁▁▂▁▁▇▇█▁▃▆▇▇▇▆▆▇█▁▇▂█▇▇▆▆▅▇▆▇▇▇▁▆▇▇▆█</td></tr><tr><td>Train Accuracy</td><td>▁▁▂▂▁▂▂▅▄▃▂▂▆▅▆▅▆▆▆▃▂▇▃▅▆▆▇▇▇▇▇▆▇▇▂█▇▇█▇</td></tr><tr><td>Train F1</td><td>▁▁▇▇▆▆▇▆▅▄▇▆▇▆▇▆▇▇▇▄▇▇▇▆▇▇█████▇▇█▇█▇▇█▇</td></tr><tr><td>Train Loss</td><td>█▇▇▇▇▇▇▇▇▇▇▆▆▆▆▆▆▅▅█▅▄▄▅▄▃▃▃▃▂▂▂▁▂▄▁▁▁▁▂</td></tr><tr><td>Train Sensitivity</td><td>▁▁██▇██▅▃▂█▆▆▅▅▄▆▆▅▂█▅▇▄▅▅▇▆▇▆▆▅▆▆█▇▅▅▇▅</td></tr><tr><td>Train Specificity</td><td>██▁▁▂▁▁▇██▁▃▇▇▇▇▆▆▇█▂▇▂██▇▆▇▆▇▇█▇▇▂▆██▇█</td></tr></table><br/></div><div class=\"wandb-col\"><h3>Run summary:</h3><br/><table class=\"wandb\"><tr><td>Test Accuracy</td><td>0.73367</td></tr><tr><td>Test F1</td><td>0.77034</td></tr><tr><td>Test Loss</td><td>0.5712</td></tr><tr><td>Test Sensitivity</td><td>0.8741</td></tr><tr><td>Test Specificity</td><td>0.58691</td></tr><tr><td>Train Accuracy</td><td>0.81129</td></tr><tr><td>Train F1</td><td>0.839</td></tr><tr><td>Train Loss</td><td>0.48069</td></tr><tr><td>Train Sensitivity</td><td>0.93406</td></tr><tr><td>Train Specificity</td><td>0.67481</td></tr></table><br/></div></div>"
      ],
      "text/plain": [
       "<IPython.core.display.HTML object>"
      ]
     },
     "metadata": {},
     "output_type": "display_data"
    },
    {
     "data": {
      "text/html": [
       " View run <strong style=\"color:#cdcd00\">easy-sweep-63</strong> at: <a href='https://wandb.ai/dylan-home/pnca-sweep-1/runs/phaudxwi' target=\"_blank\">https://wandb.ai/dylan-home/pnca-sweep-1/runs/phaudxwi</a><br/>Synced 5 W&B file(s), 0 media file(s), 0 artifact file(s) and 0 other file(s)"
      ],
      "text/plain": [
       "<IPython.core.display.HTML object>"
      ]
     },
     "metadata": {},
     "output_type": "display_data"
    },
    {
     "data": {
      "text/html": [
       "Find logs at: <code>./wandb/run-20250116_054025-phaudxwi/logs</code>"
      ],
      "text/plain": [
       "<IPython.core.display.HTML object>"
      ]
     },
     "metadata": {},
     "output_type": "display_data"
    },
    {
     "name": "stderr",
     "output_type": "stream",
     "text": [
      "\u001b[34m\u001b[1mwandb\u001b[0m: Agent Starting Run: dp1xqcsc with config:\n",
      "\u001b[34m\u001b[1mwandb\u001b[0m: \tcutoff_distance: 9.986895487486324\n",
      "\u001b[34m\u001b[1mwandb\u001b[0m: \tdropout: 0.6\n",
      "\u001b[34m\u001b[1mwandb\u001b[0m: \thidden_channels: 384\n",
      "\u001b[34m\u001b[1mwandb\u001b[0m: \tlearning_rate: 0.003916835827622007\n",
      "\u001b[34m\u001b[1mwandb\u001b[0m: \tweight_decay: 0.0044943757054125765\n",
      "Failed to detect the name of this notebook, you can set it manually with the WANDB_NOTEBOOK_NAME environment variable to enable code saving.\n",
      "/usr/lib/python3/dist-packages/requests/__init__.py:87: RequestsDependencyWarning: urllib3 (2.2.3) or chardet (4.0.0) doesn't match a supported version!\n",
      "  warnings.warn(\"urllib3 ({}) or chardet ({}) doesn't match a supported \"\n"
     ]
    },
    {
     "data": {
      "text/html": [
       "wandb version 0.19.3 is available!  To upgrade, please run:\n",
       " $ pip install wandb --upgrade"
      ],
      "text/plain": [
       "<IPython.core.display.HTML object>"
      ]
     },
     "metadata": {},
     "output_type": "display_data"
    },
    {
     "data": {
      "text/html": [
       "Tracking run with wandb version 0.16.4"
      ],
      "text/plain": [
       "<IPython.core.display.HTML object>"
      ]
     },
     "metadata": {},
     "output_type": "display_data"
    },
    {
     "data": {
      "text/html": [
       "Run data is saved locally in <code>/mnt/alphafold-volume-1/dylan2/repos/tb-pnca-gnn/dd_pnca/wandb/run-20250116_055036-dp1xqcsc</code>"
      ],
      "text/plain": [
       "<IPython.core.display.HTML object>"
      ]
     },
     "metadata": {},
     "output_type": "display_data"
    },
    {
     "data": {
      "text/html": [
       "Syncing run <strong><a href='https://wandb.ai/dylan-home/pnca-sweep-1/runs/dp1xqcsc' target=\"_blank\">pleasant-sweep-64</a></strong> to <a href='https://wandb.ai/dylan-home/pnca-sweep-1' target=\"_blank\">Weights & Biases</a> (<a href='https://wandb.me/run' target=\"_blank\">docs</a>)<br/>Sweep page: <a href='https://wandb.ai/dylan-home/pnca-sweep-1/sweeps/tr8mwg42' target=\"_blank\">https://wandb.ai/dylan-home/pnca-sweep-1/sweeps/tr8mwg42</a>"
      ],
      "text/plain": [
       "<IPython.core.display.HTML object>"
      ]
     },
     "metadata": {},
     "output_type": "display_data"
    },
    {
     "data": {
      "text/html": [
       " View project at <a href='https://wandb.ai/dylan-home/pnca-sweep-1' target=\"_blank\">https://wandb.ai/dylan-home/pnca-sweep-1</a>"
      ],
      "text/plain": [
       "<IPython.core.display.HTML object>"
      ]
     },
     "metadata": {},
     "output_type": "display_data"
    },
    {
     "data": {
      "text/html": [
       " View sweep at <a href='https://wandb.ai/dylan-home/pnca-sweep-1/sweeps/tr8mwg42' target=\"_blank\">https://wandb.ai/dylan-home/pnca-sweep-1/sweeps/tr8mwg42</a>"
      ],
      "text/plain": [
       "<IPython.core.display.HTML object>"
      ]
     },
     "metadata": {},
     "output_type": "display_data"
    },
    {
     "data": {
      "text/html": [
       " View run at <a href='https://wandb.ai/dylan-home/pnca-sweep-1/runs/dp1xqcsc' target=\"_blank\">https://wandb.ai/dylan-home/pnca-sweep-1/runs/dp1xqcsc</a>"
      ],
      "text/plain": [
       "<IPython.core.display.HTML object>"
      ]
     },
     "metadata": {},
     "output_type": "display_data"
    },
    {
     "name": "stdout",
     "output_type": "stream",
     "text": [
      "Using CUDA\n",
      "Early stopping enabled. Patience: 20. Min Delta: 0.\n",
      "Epoch: 010, Train Acc: 0.5264, Test Acc: 0.5110, Train Loss: 0.6917, Test Loss: 0.6932\n",
      "Epoch: 020, Train Acc: 0.5264, Test Acc: 0.5110, Train Loss: 0.6917, Test Loss: 0.6933\n",
      "Epoch: 030, Train Acc: 0.5264, Test Acc: 0.5110, Train Loss: 0.6917, Test Loss: 0.6930\n",
      "20 epochs passed without 0 test loss improvement. \n",
      "Early stopping triggered.\n"
     ]
    },
    {
     "data": {
      "text/html": [
       "<style>\n",
       "    table.wandb td:nth-child(1) { padding: 0 10px; text-align: left ; width: auto;} td:nth-child(2) {text-align: left ; width: 100%}\n",
       "    .wandb-row { display: flex; flex-direction: row; flex-wrap: wrap; justify-content: flex-start; width: 100% }\n",
       "    .wandb-col { display: flex; flex-direction: column; flex-basis: 100%; flex: 1; padding: 10px; }\n",
       "    </style>\n",
       "<div class=\"wandb-row\"><div class=\"wandb-col\"><h3>Run history:</h3><br/><table class=\"wandb\"><tr><td>Test Accuracy</td><td>▁▁▁▁▁▁▁▁▁▁▁▁▁▁▁▁▁▁▁▁▁▁▁▁▁▁▁▁▁▁▁▁▁</td></tr><tr><td>Test F1</td><td>▁▁▁▁▁▁▁▁▁▁▁▁▁▁▁▁▁▁▁▁▁▁▁▁▁▁▁▁▁▁▁▁▁</td></tr><tr><td>Test Loss</td><td>▃▃▃▄▅▇▂▆▂▃▁▅▁▆▂▆▂▄▂▃▃▃█▃▄▃▃▂█▁▃▄▅</td></tr><tr><td>Test Sensitivity</td><td>▁▁▁▁▁▁▁▁▁▁▁▁▁▁▁▁▁▁▁▁▁▁▁▁▁▁▁▁▁▁▁▁▁</td></tr><tr><td>Test Specificity</td><td>▁▁▁▁▁▁▁▁▁▁▁▁▁▁▁▁▁▁▁▁▁▁▁▁▁▁▁▁▁▁▁▁▁</td></tr><tr><td>Train Accuracy</td><td>▁▁▁▁▁▁▁▁▁▁▁▁▁▁▁▁▁▁▁▁▁▁▁▁▁▁▁▁▁▁▁▁▁</td></tr><tr><td>Train F1</td><td>▁▁▁▁▁▁▁▁▁▁▁▁▁▁▁▁▁▁▁▁▁▁▁▁▁▁▁▁▁▁▁▁▁</td></tr><tr><td>Train Loss</td><td>▅▁▄▃▄█▅▄▅▃▆▄▅▅▄▅▄▃▃▃█▄▄▃▆▆▆▄▇▄▄▂▂</td></tr><tr><td>Train Sensitivity</td><td>▁▁▁▁▁▁▁▁▁▁▁▁▁▁▁▁▁▁▁▁▁▁▁▁▁▁▁▁▁▁▁▁▁</td></tr><tr><td>Train Specificity</td><td>▁▁▁▁▁▁▁▁▁▁▁▁▁▁▁▁▁▁▁▁▁▁▁▁▁▁▁▁▁▁▁▁▁</td></tr></table><br/></div><div class=\"wandb-col\"><h3>Run summary:</h3><br/><table class=\"wandb\"><tr><td>Test Accuracy</td><td>0.511</td></tr><tr><td>Test F1</td><td>0.67637</td></tr><tr><td>Test Loss</td><td>0.69355</td></tr><tr><td>Test Sensitivity</td><td>1.0</td></tr><tr><td>Test Specificity</td><td>0.0</td></tr><tr><td>Train Accuracy</td><td>0.52643</td></tr><tr><td>Train F1</td><td>0.68975</td></tr><tr><td>Train Loss</td><td>0.69163</td></tr><tr><td>Train Sensitivity</td><td>1.0</td></tr><tr><td>Train Specificity</td><td>0.0</td></tr></table><br/></div></div>"
      ],
      "text/plain": [
       "<IPython.core.display.HTML object>"
      ]
     },
     "metadata": {},
     "output_type": "display_data"
    },
    {
     "data": {
      "text/html": [
       " View run <strong style=\"color:#cdcd00\">pleasant-sweep-64</strong> at: <a href='https://wandb.ai/dylan-home/pnca-sweep-1/runs/dp1xqcsc' target=\"_blank\">https://wandb.ai/dylan-home/pnca-sweep-1/runs/dp1xqcsc</a><br/>Synced 5 W&B file(s), 0 media file(s), 0 artifact file(s) and 0 other file(s)"
      ],
      "text/plain": [
       "<IPython.core.display.HTML object>"
      ]
     },
     "metadata": {},
     "output_type": "display_data"
    },
    {
     "data": {
      "text/html": [
       "Find logs at: <code>./wandb/run-20250116_055036-dp1xqcsc/logs</code>"
      ],
      "text/plain": [
       "<IPython.core.display.HTML object>"
      ]
     },
     "metadata": {},
     "output_type": "display_data"
    },
    {
     "name": "stderr",
     "output_type": "stream",
     "text": [
      "\u001b[34m\u001b[1mwandb\u001b[0m: Agent Starting Run: w2iq35er with config:\n",
      "\u001b[34m\u001b[1mwandb\u001b[0m: \tcutoff_distance: 7.092617664372082\n",
      "\u001b[34m\u001b[1mwandb\u001b[0m: \tdropout: 0.2\n",
      "\u001b[34m\u001b[1mwandb\u001b[0m: \thidden_channels: 256\n",
      "\u001b[34m\u001b[1mwandb\u001b[0m: \tlearning_rate: 0.0004656332350293905\n",
      "\u001b[34m\u001b[1mwandb\u001b[0m: \tweight_decay: 0.00010937369903232368\n",
      "Failed to detect the name of this notebook, you can set it manually with the WANDB_NOTEBOOK_NAME environment variable to enable code saving.\n",
      "/usr/lib/python3/dist-packages/requests/__init__.py:87: RequestsDependencyWarning: urllib3 (2.2.3) or chardet (4.0.0) doesn't match a supported version!\n",
      "  warnings.warn(\"urllib3 ({}) or chardet ({}) doesn't match a supported \"\n"
     ]
    },
    {
     "data": {
      "text/html": [
       "wandb version 0.19.3 is available!  To upgrade, please run:\n",
       " $ pip install wandb --upgrade"
      ],
      "text/plain": [
       "<IPython.core.display.HTML object>"
      ]
     },
     "metadata": {},
     "output_type": "display_data"
    },
    {
     "data": {
      "text/html": [
       "Tracking run with wandb version 0.16.4"
      ],
      "text/plain": [
       "<IPython.core.display.HTML object>"
      ]
     },
     "metadata": {},
     "output_type": "display_data"
    },
    {
     "data": {
      "text/html": [
       "Run data is saved locally in <code>/mnt/alphafold-volume-1/dylan2/repos/tb-pnca-gnn/dd_pnca/wandb/run-20250116_055208-w2iq35er</code>"
      ],
      "text/plain": [
       "<IPython.core.display.HTML object>"
      ]
     },
     "metadata": {},
     "output_type": "display_data"
    },
    {
     "data": {
      "text/html": [
       "Syncing run <strong><a href='https://wandb.ai/dylan-home/pnca-sweep-1/runs/w2iq35er' target=\"_blank\">resilient-sweep-65</a></strong> to <a href='https://wandb.ai/dylan-home/pnca-sweep-1' target=\"_blank\">Weights & Biases</a> (<a href='https://wandb.me/run' target=\"_blank\">docs</a>)<br/>Sweep page: <a href='https://wandb.ai/dylan-home/pnca-sweep-1/sweeps/tr8mwg42' target=\"_blank\">https://wandb.ai/dylan-home/pnca-sweep-1/sweeps/tr8mwg42</a>"
      ],
      "text/plain": [
       "<IPython.core.display.HTML object>"
      ]
     },
     "metadata": {},
     "output_type": "display_data"
    },
    {
     "data": {
      "text/html": [
       " View project at <a href='https://wandb.ai/dylan-home/pnca-sweep-1' target=\"_blank\">https://wandb.ai/dylan-home/pnca-sweep-1</a>"
      ],
      "text/plain": [
       "<IPython.core.display.HTML object>"
      ]
     },
     "metadata": {},
     "output_type": "display_data"
    },
    {
     "data": {
      "text/html": [
       " View sweep at <a href='https://wandb.ai/dylan-home/pnca-sweep-1/sweeps/tr8mwg42' target=\"_blank\">https://wandb.ai/dylan-home/pnca-sweep-1/sweeps/tr8mwg42</a>"
      ],
      "text/plain": [
       "<IPython.core.display.HTML object>"
      ]
     },
     "metadata": {},
     "output_type": "display_data"
    },
    {
     "data": {
      "text/html": [
       " View run at <a href='https://wandb.ai/dylan-home/pnca-sweep-1/runs/w2iq35er' target=\"_blank\">https://wandb.ai/dylan-home/pnca-sweep-1/runs/w2iq35er</a>"
      ],
      "text/plain": [
       "<IPython.core.display.HTML object>"
      ]
     },
     "metadata": {},
     "output_type": "display_data"
    },
    {
     "name": "stdout",
     "output_type": "stream",
     "text": [
      "Using CUDA\n",
      "Early stopping enabled. Patience: 20. Min Delta: 0.\n",
      "Epoch: 010, Train Acc: 0.5264, Test Acc: 0.5110, Train Loss: 0.6911, Test Loss: 0.6924\n",
      "Epoch: 020, Train Acc: 0.5264, Test Acc: 0.5110, Train Loss: 0.6904, Test Loss: 0.6908\n",
      "Epoch: 030, Train Acc: 0.5144, Test Acc: 0.5080, Train Loss: 0.6915, Test Loss: 0.6912\n",
      "Epoch: 040, Train Acc: 0.5263, Test Acc: 0.5110, Train Loss: 0.6891, Test Loss: 0.6891\n",
      "Epoch: 050, Train Acc: 0.5184, Test Acc: 0.5663, Train Loss: 0.6900, Test Loss: 0.6871\n",
      "Epoch: 060, Train Acc: 0.6637, Test Acc: 0.6813, Train Loss: 0.6830, Test Loss: 0.6785\n",
      "Epoch: 070, Train Acc: 0.5257, Test Acc: 0.5110, Train Loss: 0.6794, Test Loss: 0.6778\n",
      "Epoch: 080, Train Acc: 0.5034, Test Acc: 0.4923, Train Loss: 0.6576, Test Loss: 0.6491\n",
      "Epoch: 090, Train Acc: 0.5334, Test Acc: 0.6007, Train Loss: 0.6934, Test Loss: 0.6696\n",
      "Epoch: 100, Train Acc: 0.5259, Test Acc: 0.5103, Train Loss: 0.6721, Test Loss: 0.6740\n",
      "Epoch: 110, Train Acc: 0.7171, Test Acc: 0.7113, Train Loss: 0.5955, Test Loss: 0.5833\n",
      "Epoch: 120, Train Acc: 0.5294, Test Acc: 0.5123, Train Loss: 0.5903, Test Loss: 0.6009\n",
      "Epoch: 130, Train Acc: 0.6893, Test Acc: 0.6917, Train Loss: 0.5702, Test Loss: 0.5704\n",
      "Epoch: 140, Train Acc: 0.7844, Test Acc: 0.7523, Train Loss: 0.5316, Test Loss: 0.5630\n",
      "Epoch: 150, Train Acc: 0.7517, Test Acc: 0.7177, Train Loss: 0.5027, Test Loss: 0.5308\n",
      "Epoch: 160, Train Acc: 0.7996, Test Acc: 0.7617, Train Loss: 0.4943, Test Loss: 0.5336\n",
      "Epoch: 170, Train Acc: 0.7897, Test Acc: 0.7490, Train Loss: 0.4498, Test Loss: 0.5069\n",
      "Epoch: 180, Train Acc: 0.7614, Test Acc: 0.7223, Train Loss: 0.4730, Test Loss: 0.5309\n",
      "Epoch: 190, Train Acc: 0.8230, Test Acc: 0.7933, Train Loss: 0.4567, Test Loss: 0.5256\n",
      "Epoch: 200, Train Acc: 0.8254, Test Acc: 0.7833, Train Loss: 0.4441, Test Loss: 0.5301\n",
      "Epoch: 210, Train Acc: 0.8034, Test Acc: 0.7347, Train Loss: 0.4144, Test Loss: 0.5487\n",
      "20 epochs passed without 0 test loss improvement. \n",
      "Early stopping triggered.\n"
     ]
    },
    {
     "data": {
      "text/html": [
       "<style>\n",
       "    table.wandb td:nth-child(1) { padding: 0 10px; text-align: left ; width: auto;} td:nth-child(2) {text-align: left ; width: 100%}\n",
       "    .wandb-row { display: flex; flex-direction: row; flex-wrap: wrap; justify-content: flex-start; width: 100% }\n",
       "    .wandb-col { display: flex; flex-direction: column; flex-basis: 100%; flex: 1; padding: 10px; }\n",
       "    </style>\n",
       "<div class=\"wandb-row\"><div class=\"wandb-col\"><h3>Run history:</h3><br/><table class=\"wandb\"><tr><td>Test Accuracy</td><td>▁▃▁▃▁▁▁▁▁▃▁▅▁▁▁▄▅▂▁▆▆▁▁▆▆▅▇▁▆▇█▇▇▇▇██▇▆▇</td></tr><tr><td>Test F1</td><td>▇▃▇▃▇▇▇▇▇▁▇▆▆▇▇▃▅▁▆▇▇▆▆▇▆▅█▆▆▇█▇▇▇█▇█▇▆▇</td></tr><tr><td>Test Loss</td><td>█████████▇█▇▇▇▇▇▆█▆▄▄▄▆▄▃▅▃▇▂▁▂▁▁▁▅▁▂▁▄▂</td></tr><tr><td>Test Sensitivity</td><td>█▂█▂█████▁█▄███▂▄▁█▅▅▇█▇▄▃▇█▄▅▆▅▆▅▇▆▆▅▄▅</td></tr><tr><td>Test Specificity</td><td>▁█▁█▁▁▁▁▁█▁▇▁▁▁█▇█▁▇▇▂▁▅██▆▁▇▇▇▇▇▇▅▇▇▇▇▇</td></tr><tr><td>Train Accuracy</td><td>▁▁▁▁▁▁▁▁▁▁▁▄▁▁▁▂▄▁▁▆▆▁▁▆▅▄▇▁▆▇█▆█▇▇▇██▆▇</td></tr><tr><td>Train F1</td><td>▆▁▆▁▆▆▆▆▆▁▆▅▆▆▆▂▅▁▆▇▇▆▆▇▆▅█▆▇▇█▇█▇████▇▇</td></tr><tr><td>Train Loss</td><td>▇▇▇▇▇▇▇▇▇▇▇▇▇▇▇▇▆█▆▅▅▅▆▅▅▅▄▆▃▃▃▃▂▂▃▂▁▁▃▁</td></tr><tr><td>Train Sensitivity</td><td>█▁█▁█████▁█▄███▁▄▁█▅▅▇█▇▄▃▇█▅▆▆▅▆▅█▆▇▆▅▅</td></tr><tr><td>Train Specificity</td><td>▁█▁█▁▁▁▁▁█▁█▁▁▁███▁▇▇▂▁▅██▆▁█▇▇█▇█▅▇▇███</td></tr></table><br/></div><div class=\"wandb-col\"><h3>Run summary:</h3><br/><table class=\"wandb\"><tr><td>Test Accuracy</td><td>0.71233</td></tr><tr><td>Test F1</td><td>0.64646</td></tr><tr><td>Test Loss</td><td>0.66405</td></tr><tr><td>Test Sensitivity</td><td>0.51468</td></tr><tr><td>Test Specificity</td><td>0.91888</td></tr><tr><td>Train Accuracy</td><td>0.743</td></tr><tr><td>Train F1</td><td>0.67995</td></tr><tr><td>Train Loss</td><td>0.54722</td></tr><tr><td>Train Sensitivity</td><td>0.51859</td></tr><tr><td>Train Specificity</td><td>0.99246</td></tr></table><br/></div></div>"
      ],
      "text/plain": [
       "<IPython.core.display.HTML object>"
      ]
     },
     "metadata": {},
     "output_type": "display_data"
    },
    {
     "data": {
      "text/html": [
       " View run <strong style=\"color:#cdcd00\">resilient-sweep-65</strong> at: <a href='https://wandb.ai/dylan-home/pnca-sweep-1/runs/w2iq35er' target=\"_blank\">https://wandb.ai/dylan-home/pnca-sweep-1/runs/w2iq35er</a><br/>Synced 5 W&B file(s), 0 media file(s), 0 artifact file(s) and 0 other file(s)"
      ],
      "text/plain": [
       "<IPython.core.display.HTML object>"
      ]
     },
     "metadata": {},
     "output_type": "display_data"
    },
    {
     "data": {
      "text/html": [
       "Find logs at: <code>./wandb/run-20250116_055208-w2iq35er/logs</code>"
      ],
      "text/plain": [
       "<IPython.core.display.HTML object>"
      ]
     },
     "metadata": {},
     "output_type": "display_data"
    },
    {
     "name": "stderr",
     "output_type": "stream",
     "text": [
      "\u001b[34m\u001b[1mwandb\u001b[0m: Agent Starting Run: so4nihgj with config:\n",
      "\u001b[34m\u001b[1mwandb\u001b[0m: \tcutoff_distance: 5.990413286455792\n",
      "\u001b[34m\u001b[1mwandb\u001b[0m: \tdropout: 0.2\n",
      "\u001b[34m\u001b[1mwandb\u001b[0m: \thidden_channels: 320\n",
      "\u001b[34m\u001b[1mwandb\u001b[0m: \tlearning_rate: 0.00015921176943040083\n",
      "\u001b[34m\u001b[1mwandb\u001b[0m: \tweight_decay: 0.001102713121672668\n",
      "Failed to detect the name of this notebook, you can set it manually with the WANDB_NOTEBOOK_NAME environment variable to enable code saving.\n",
      "/usr/lib/python3/dist-packages/requests/__init__.py:87: RequestsDependencyWarning: urllib3 (2.2.3) or chardet (4.0.0) doesn't match a supported version!\n",
      "  warnings.warn(\"urllib3 ({}) or chardet ({}) doesn't match a supported \"\n"
     ]
    },
    {
     "data": {
      "text/html": [
       "wandb version 0.19.3 is available!  To upgrade, please run:\n",
       " $ pip install wandb --upgrade"
      ],
      "text/plain": [
       "<IPython.core.display.HTML object>"
      ]
     },
     "metadata": {},
     "output_type": "display_data"
    },
    {
     "data": {
      "text/html": [
       "Tracking run with wandb version 0.16.4"
      ],
      "text/plain": [
       "<IPython.core.display.HTML object>"
      ]
     },
     "metadata": {},
     "output_type": "display_data"
    },
    {
     "data": {
      "text/html": [
       "Run data is saved locally in <code>/mnt/alphafold-volume-1/dylan2/repos/tb-pnca-gnn/dd_pnca/wandb/run-20250116_055923-so4nihgj</code>"
      ],
      "text/plain": [
       "<IPython.core.display.HTML object>"
      ]
     },
     "metadata": {},
     "output_type": "display_data"
    },
    {
     "data": {
      "text/html": [
       "Syncing run <strong><a href='https://wandb.ai/dylan-home/pnca-sweep-1/runs/so4nihgj' target=\"_blank\">wild-sweep-66</a></strong> to <a href='https://wandb.ai/dylan-home/pnca-sweep-1' target=\"_blank\">Weights & Biases</a> (<a href='https://wandb.me/run' target=\"_blank\">docs</a>)<br/>Sweep page: <a href='https://wandb.ai/dylan-home/pnca-sweep-1/sweeps/tr8mwg42' target=\"_blank\">https://wandb.ai/dylan-home/pnca-sweep-1/sweeps/tr8mwg42</a>"
      ],
      "text/plain": [
       "<IPython.core.display.HTML object>"
      ]
     },
     "metadata": {},
     "output_type": "display_data"
    },
    {
     "data": {
      "text/html": [
       " View project at <a href='https://wandb.ai/dylan-home/pnca-sweep-1' target=\"_blank\">https://wandb.ai/dylan-home/pnca-sweep-1</a>"
      ],
      "text/plain": [
       "<IPython.core.display.HTML object>"
      ]
     },
     "metadata": {},
     "output_type": "display_data"
    },
    {
     "data": {
      "text/html": [
       " View sweep at <a href='https://wandb.ai/dylan-home/pnca-sweep-1/sweeps/tr8mwg42' target=\"_blank\">https://wandb.ai/dylan-home/pnca-sweep-1/sweeps/tr8mwg42</a>"
      ],
      "text/plain": [
       "<IPython.core.display.HTML object>"
      ]
     },
     "metadata": {},
     "output_type": "display_data"
    },
    {
     "data": {
      "text/html": [
       " View run at <a href='https://wandb.ai/dylan-home/pnca-sweep-1/runs/so4nihgj' target=\"_blank\">https://wandb.ai/dylan-home/pnca-sweep-1/runs/so4nihgj</a>"
      ],
      "text/plain": [
       "<IPython.core.display.HTML object>"
      ]
     },
     "metadata": {},
     "output_type": "display_data"
    },
    {
     "name": "stdout",
     "output_type": "stream",
     "text": [
      "Using CUDA\n",
      "Early stopping enabled. Patience: 20. Min Delta: 0.\n",
      "Epoch: 010, Train Acc: 0.5600, Test Acc: 0.6300, Train Loss: 0.6891, Test Loss: 0.6832\n",
      "Epoch: 020, Train Acc: 0.5264, Test Acc: 0.6020, Train Loss: 0.6894, Test Loss: 0.6805\n",
      "Epoch: 030, Train Acc: 0.6626, Test Acc: 0.6763, Train Loss: 0.6809, Test Loss: 0.6744\n",
      "Epoch: 040, Train Acc: 0.6096, Test Acc: 0.6520, Train Loss: 0.6783, Test Loss: 0.6691\n",
      "Epoch: 050, Train Acc: 0.5264, Test Acc: 0.5110, Train Loss: 0.6943, Test Loss: 0.7005\n",
      "Epoch: 060, Train Acc: 0.5071, Test Acc: 0.4747, Train Loss: 0.6551, Test Loss: 0.6504\n",
      "Epoch: 070, Train Acc: 0.7166, Test Acc: 0.6970, Train Loss: 0.6410, Test Loss: 0.6368\n",
      "Epoch: 080, Train Acc: 0.5249, Test Acc: 0.5073, Train Loss: 0.6656, Test Loss: 0.6765\n",
      "Epoch: 090, Train Acc: 0.6499, Test Acc: 0.6660, Train Loss: 0.6329, Test Loss: 0.6263\n",
      "Epoch: 100, Train Acc: 0.6403, Test Acc: 0.6643, Train Loss: 0.6295, Test Loss: 0.6222\n",
      "Epoch: 110, Train Acc: 0.7559, Test Acc: 0.7087, Train Loss: 0.5997, Test Loss: 0.6093\n",
      "Epoch: 120, Train Acc: 0.5306, Test Acc: 0.4817, Train Loss: 0.6036, Test Loss: 0.6221\n",
      "Epoch: 130, Train Acc: 0.5497, Test Acc: 0.4980, Train Loss: 0.5887, Test Loss: 0.6077\n",
      "Epoch: 140, Train Acc: 0.7170, Test Acc: 0.6953, Train Loss: 0.5587, Test Loss: 0.5736\n",
      "Epoch: 150, Train Acc: 0.5296, Test Acc: 0.5110, Train Loss: 0.6525, Test Loss: 0.6977\n",
      "Epoch: 160, Train Acc: 0.7494, Test Acc: 0.7193, Train Loss: 0.5234, Test Loss: 0.5544\n",
      "Epoch: 170, Train Acc: 0.7829, Test Acc: 0.7317, Train Loss: 0.5171, Test Loss: 0.5644\n",
      "Epoch: 180, Train Acc: 0.7791, Test Acc: 0.7390, Train Loss: 0.4981, Test Loss: 0.5400\n",
      "Epoch: 190, Train Acc: 0.5566, Test Acc: 0.5107, Train Loss: 0.5535, Test Loss: 0.6075\n",
      "Epoch: 200, Train Acc: 0.7653, Test Acc: 0.7233, Train Loss: 0.4974, Test Loss: 0.5406\n",
      "Epoch: 210, Train Acc: 0.8010, Test Acc: 0.7417, Train Loss: 0.4755, Test Loss: 0.5449\n",
      "Epoch: 220, Train Acc: 0.7989, Test Acc: 0.7480, Train Loss: 0.4567, Test Loss: 0.5260\n",
      "Epoch: 230, Train Acc: 0.7240, Test Acc: 0.7017, Train Loss: 0.5356, Test Loss: 0.5928\n",
      "Epoch: 240, Train Acc: 0.7427, Test Acc: 0.7143, Train Loss: 0.5094, Test Loss: 0.5746\n",
      "Epoch: 250, Train Acc: 0.8207, Test Acc: 0.7550, Train Loss: 0.4271, Test Loss: 0.5225\n",
      "Epoch: 260, Train Acc: 0.8271, Test Acc: 0.7510, Train Loss: 0.4292, Test Loss: 0.5409\n",
      "Epoch: 270, Train Acc: 0.8330, Test Acc: 0.7517, Train Loss: 0.4098, Test Loss: 0.5410\n",
      "Epoch: 280, Train Acc: 0.7357, Test Acc: 0.7147, Train Loss: 0.5202, Test Loss: 0.5999\n",
      "Epoch: 290, Train Acc: 0.8357, Test Acc: 0.7610, Train Loss: 0.3839, Test Loss: 0.5137\n",
      "Epoch: 300, Train Acc: 0.8187, Test Acc: 0.7487, Train Loss: 0.4005, Test Loss: 0.5308\n",
      "20 epochs passed without 0 test loss improvement. \n",
      "Early stopping triggered.\n"
     ]
    },
    {
     "data": {
      "text/html": [
       "<style>\n",
       "    table.wandb td:nth-child(1) { padding: 0 10px; text-align: left ; width: auto;} td:nth-child(2) {text-align: left ; width: 100%}\n",
       "    .wandb-row { display: flex; flex-direction: row; flex-wrap: wrap; justify-content: flex-start; width: 100% }\n",
       "    .wandb-col { display: flex; flex-direction: column; flex-basis: 100%; flex: 1; padding: 10px; }\n",
       "    </style>\n",
       "<div class=\"wandb-row\"><div class=\"wandb-col\"><h3>Run history:</h3><br/><table class=\"wandb\"><tr><td>Test Accuracy</td><td>▆▂▂▂▁▅▅▆▁▆▄▇▆▅▇▆▆▅▆▇▆▇▇▇▆▇▇▇▇▆██▇███▇███</td></tr><tr><td>Test F1</td><td>▆▇▁▇▇▅▅▆▆▆▄▇▆▅▇▆█▆▇▇▇▇█▇██▇▇█▆██▇██▇▇██▇</td></tr><tr><td>Test Loss</td><td>▆▇▆█▆▆▆▅▅▅▆▄▄▄▄▃▄▄▃▃▂▂▃▂▄▂▂▁▁▃▁▁▁▁▂▁▂▂▂▁</td></tr><tr><td>Test Sensitivity</td><td>▄█▁█▇▃▃▄▇▄▂▅▄▃▅▄▆▄▄▅▄▅▆▅▇▆▅▅▆▄▆▆▅▆▆▅▅▇▆▅</td></tr><tr><td>Test Specificity</td><td>▇▁█▁▁██▇▁▇█▆▇█▆▇▅▇▇▇▇▇▆▇▅▆▇▇▇▇▇▇▇▇▆▇▇▆▆▇</td></tr><tr><td>Train Accuracy</td><td>▄▂▁▂▁▃▃▄▁▅▃▆▅▄▆▅▆▅▆▆▆▆▇▇▆▇▆▇▇▆▇▇▇███▇███</td></tr><tr><td>Train F1</td><td>▅▇▁▇▆▄▄▅▆▆▃▇▆▅▇▆▇▆▆▇▆▇█▇██▇▇█▆██▇███▇███</td></tr><tr><td>Train Loss</td><td>▇▇▇█▇▇▇▇▆▆▇▆▆▆▅▅▅▅▅▄▄▄▄▄▄▃▃▃▃▄▂▂▂▂▂▁▂▂▁▁</td></tr><tr><td>Train Sensitivity</td><td>▃█▁█▇▃▂▄▇▄▂▆▄▃▆▄▇▄▅▅▅▅▇▆▇▇▅▅▆▄▆▆▅▆▇▆▅▇▇▆</td></tr><tr><td>Train Specificity</td><td>█▁█▁▁███▁▇█▇▇█▇█▆█▇▇█▇▆▇▅▆█▇▇█▇▇█▇▇██▆▇█</td></tr></table><br/></div><div class=\"wandb-col\"><h3>Run summary:</h3><br/><table class=\"wandb\"><tr><td>Test Accuracy</td><td>0.767</td></tr><tr><td>Test F1</td><td>0.7776</td></tr><tr><td>Test Loss</td><td>0.556</td></tr><tr><td>Test Sensitivity</td><td>0.79713</td></tr><tr><td>Test Specificity</td><td>0.73551</td></tr><tr><td>Train Accuracy</td><td>0.842</td></tr><tr><td>Train F1</td><td>0.85253</td></tr><tr><td>Train Loss</td><td>0.39163</td></tr><tr><td>Train Sensitivity</td><td>0.86757</td></tr><tr><td>Train Specificity</td><td>0.81357</td></tr></table><br/></div></div>"
      ],
      "text/plain": [
       "<IPython.core.display.HTML object>"
      ]
     },
     "metadata": {},
     "output_type": "display_data"
    },
    {
     "data": {
      "text/html": [
       " View run <strong style=\"color:#cdcd00\">wild-sweep-66</strong> at: <a href='https://wandb.ai/dylan-home/pnca-sweep-1/runs/so4nihgj' target=\"_blank\">https://wandb.ai/dylan-home/pnca-sweep-1/runs/so4nihgj</a><br/>Synced 5 W&B file(s), 0 media file(s), 0 artifact file(s) and 0 other file(s)"
      ],
      "text/plain": [
       "<IPython.core.display.HTML object>"
      ]
     },
     "metadata": {},
     "output_type": "display_data"
    },
    {
     "data": {
      "text/html": [
       "Find logs at: <code>./wandb/run-20250116_055923-so4nihgj/logs</code>"
      ],
      "text/plain": [
       "<IPython.core.display.HTML object>"
      ]
     },
     "metadata": {},
     "output_type": "display_data"
    },
    {
     "name": "stderr",
     "output_type": "stream",
     "text": [
      "\u001b[34m\u001b[1mwandb\u001b[0m: Agent Starting Run: 3j0sbopf with config:\n",
      "\u001b[34m\u001b[1mwandb\u001b[0m: \tcutoff_distance: 8.207271640759913\n",
      "\u001b[34m\u001b[1mwandb\u001b[0m: \tdropout: 0.2\n",
      "\u001b[34m\u001b[1mwandb\u001b[0m: \thidden_channels: 320\n",
      "\u001b[34m\u001b[1mwandb\u001b[0m: \tlearning_rate: 0.0007677105065046586\n",
      "\u001b[34m\u001b[1mwandb\u001b[0m: \tweight_decay: 0.00011625090352123768\n",
      "Failed to detect the name of this notebook, you can set it manually with the WANDB_NOTEBOOK_NAME environment variable to enable code saving.\n",
      "/usr/lib/python3/dist-packages/requests/__init__.py:87: RequestsDependencyWarning: urllib3 (2.2.3) or chardet (4.0.0) doesn't match a supported version!\n",
      "  warnings.warn(\"urllib3 ({}) or chardet ({}) doesn't match a supported \"\n"
     ]
    },
    {
     "data": {
      "text/html": [
       "wandb version 0.19.3 is available!  To upgrade, please run:\n",
       " $ pip install wandb --upgrade"
      ],
      "text/plain": [
       "<IPython.core.display.HTML object>"
      ]
     },
     "metadata": {},
     "output_type": "display_data"
    },
    {
     "data": {
      "text/html": [
       "Tracking run with wandb version 0.16.4"
      ],
      "text/plain": [
       "<IPython.core.display.HTML object>"
      ]
     },
     "metadata": {},
     "output_type": "display_data"
    },
    {
     "data": {
      "text/html": [
       "Run data is saved locally in <code>/mnt/alphafold-volume-1/dylan2/repos/tb-pnca-gnn/dd_pnca/wandb/run-20250116_061045-3j0sbopf</code>"
      ],
      "text/plain": [
       "<IPython.core.display.HTML object>"
      ]
     },
     "metadata": {},
     "output_type": "display_data"
    },
    {
     "data": {
      "text/html": [
       "Syncing run <strong><a href='https://wandb.ai/dylan-home/pnca-sweep-1/runs/3j0sbopf' target=\"_blank\">cerulean-sweep-67</a></strong> to <a href='https://wandb.ai/dylan-home/pnca-sweep-1' target=\"_blank\">Weights & Biases</a> (<a href='https://wandb.me/run' target=\"_blank\">docs</a>)<br/>Sweep page: <a href='https://wandb.ai/dylan-home/pnca-sweep-1/sweeps/tr8mwg42' target=\"_blank\">https://wandb.ai/dylan-home/pnca-sweep-1/sweeps/tr8mwg42</a>"
      ],
      "text/plain": [
       "<IPython.core.display.HTML object>"
      ]
     },
     "metadata": {},
     "output_type": "display_data"
    },
    {
     "data": {
      "text/html": [
       " View project at <a href='https://wandb.ai/dylan-home/pnca-sweep-1' target=\"_blank\">https://wandb.ai/dylan-home/pnca-sweep-1</a>"
      ],
      "text/plain": [
       "<IPython.core.display.HTML object>"
      ]
     },
     "metadata": {},
     "output_type": "display_data"
    },
    {
     "data": {
      "text/html": [
       " View sweep at <a href='https://wandb.ai/dylan-home/pnca-sweep-1/sweeps/tr8mwg42' target=\"_blank\">https://wandb.ai/dylan-home/pnca-sweep-1/sweeps/tr8mwg42</a>"
      ],
      "text/plain": [
       "<IPython.core.display.HTML object>"
      ]
     },
     "metadata": {},
     "output_type": "display_data"
    },
    {
     "data": {
      "text/html": [
       " View run at <a href='https://wandb.ai/dylan-home/pnca-sweep-1/runs/3j0sbopf' target=\"_blank\">https://wandb.ai/dylan-home/pnca-sweep-1/runs/3j0sbopf</a>"
      ],
      "text/plain": [
       "<IPython.core.display.HTML object>"
      ]
     },
     "metadata": {},
     "output_type": "display_data"
    },
    {
     "name": "stdout",
     "output_type": "stream",
     "text": [
      "Using CUDA\n",
      "Early stopping enabled. Patience: 20. Min Delta: 0.\n",
      "Epoch: 010, Train Acc: 0.5264, Test Acc: 0.5110, Train Loss: 0.6919, Test Loss: 0.6933\n",
      "Epoch: 020, Train Acc: 0.5264, Test Acc: 0.5110, Train Loss: 0.6916, Test Loss: 0.6931\n",
      "20 epochs passed without 0 test loss improvement. \n",
      "Early stopping triggered.\n"
     ]
    },
    {
     "data": {
      "text/html": [
       "<style>\n",
       "    table.wandb td:nth-child(1) { padding: 0 10px; text-align: left ; width: auto;} td:nth-child(2) {text-align: left ; width: 100%}\n",
       "    .wandb-row { display: flex; flex-direction: row; flex-wrap: wrap; justify-content: flex-start; width: 100% }\n",
       "    .wandb-col { display: flex; flex-direction: column; flex-basis: 100%; flex: 1; padding: 10px; }\n",
       "    </style>\n",
       "<div class=\"wandb-row\"><div class=\"wandb-col\"><h3>Run history:</h3><br/><table class=\"wandb\"><tr><td>Test Accuracy</td><td>▁▁▁▁▁▁▁▁▁▁▁▁▁▁▁▁▁▁▁▁▁</td></tr><tr><td>Test F1</td><td>▁▁▁▁▁▁▁▁▁▁▁▁▁▁▁▁▁▁▁▁▁</td></tr><tr><td>Test Loss</td><td>▁▄▄▆██▅▅▇▇▅▇▇▅▃▅▄▄▅▅▄</td></tr><tr><td>Test Sensitivity</td><td>▁▁▁▁▁▁▁▁▁▁▁▁▁▁▁▁▁▁▁▁▁</td></tr><tr><td>Test Specificity</td><td>▁▁▁▁▁▁▁▁▁▁▁▁▁▁▁▁▁▁▁▁▁</td></tr><tr><td>Train Accuracy</td><td>▁▁▁▁▁▁▁▁▁▁▁▁▁▁▁▁▁▁▁▁▁</td></tr><tr><td>Train F1</td><td>▁▁▁▁▁▁▁▁▁▁▁▁▁▁▁▁▁▁▁▁▁</td></tr><tr><td>Train Loss</td><td>▅█▅▄▃▄▅▄▄▃▅▃▃▃▄▃▃▁▂▂▂</td></tr><tr><td>Train Sensitivity</td><td>▁▁▁▁▁▁▁▁▁▁▁▁▁▁▁▁▁▁▁▁▁</td></tr><tr><td>Train Specificity</td><td>▁▁▁▁▁▁▁▁▁▁▁▁▁▁▁▁▁▁▁▁▁</td></tr></table><br/></div><div class=\"wandb-col\"><h3>Run summary:</h3><br/><table class=\"wandb\"><tr><td>Test Accuracy</td><td>0.511</td></tr><tr><td>Test F1</td><td>0.67637</td></tr><tr><td>Test Loss</td><td>0.69298</td></tr><tr><td>Test Sensitivity</td><td>1.0</td></tr><tr><td>Test Specificity</td><td>0.0</td></tr><tr><td>Train Accuracy</td><td>0.52643</td></tr><tr><td>Train F1</td><td>0.68975</td></tr><tr><td>Train Loss</td><td>0.69162</td></tr><tr><td>Train Sensitivity</td><td>1.0</td></tr><tr><td>Train Specificity</td><td>0.0</td></tr></table><br/></div></div>"
      ],
      "text/plain": [
       "<IPython.core.display.HTML object>"
      ]
     },
     "metadata": {},
     "output_type": "display_data"
    },
    {
     "data": {
      "text/html": [
       " View run <strong style=\"color:#cdcd00\">cerulean-sweep-67</strong> at: <a href='https://wandb.ai/dylan-home/pnca-sweep-1/runs/3j0sbopf' target=\"_blank\">https://wandb.ai/dylan-home/pnca-sweep-1/runs/3j0sbopf</a><br/>Synced 5 W&B file(s), 0 media file(s), 0 artifact file(s) and 0 other file(s)"
      ],
      "text/plain": [
       "<IPython.core.display.HTML object>"
      ]
     },
     "metadata": {},
     "output_type": "display_data"
    },
    {
     "data": {
      "text/html": [
       "Find logs at: <code>./wandb/run-20250116_061045-3j0sbopf/logs</code>"
      ],
      "text/plain": [
       "<IPython.core.display.HTML object>"
      ]
     },
     "metadata": {},
     "output_type": "display_data"
    },
    {
     "name": "stderr",
     "output_type": "stream",
     "text": [
      "\u001b[34m\u001b[1mwandb\u001b[0m: Agent Starting Run: 9pah6xg7 with config:\n",
      "\u001b[34m\u001b[1mwandb\u001b[0m: \tcutoff_distance: 9.709517141693098\n",
      "\u001b[34m\u001b[1mwandb\u001b[0m: \tdropout: 0.2\n",
      "\u001b[34m\u001b[1mwandb\u001b[0m: \thidden_channels: 256\n",
      "\u001b[34m\u001b[1mwandb\u001b[0m: \tlearning_rate: 0.0007022358141776715\n",
      "\u001b[34m\u001b[1mwandb\u001b[0m: \tweight_decay: 0.0008433408464616583\n",
      "Failed to detect the name of this notebook, you can set it manually with the WANDB_NOTEBOOK_NAME environment variable to enable code saving.\n",
      "/usr/lib/python3/dist-packages/requests/__init__.py:87: RequestsDependencyWarning: urllib3 (2.2.3) or chardet (4.0.0) doesn't match a supported version!\n",
      "  warnings.warn(\"urllib3 ({}) or chardet ({}) doesn't match a supported \"\n"
     ]
    },
    {
     "data": {
      "text/html": [
       "wandb version 0.19.3 is available!  To upgrade, please run:\n",
       " $ pip install wandb --upgrade"
      ],
      "text/plain": [
       "<IPython.core.display.HTML object>"
      ]
     },
     "metadata": {},
     "output_type": "display_data"
    },
    {
     "data": {
      "text/html": [
       "Tracking run with wandb version 0.16.4"
      ],
      "text/plain": [
       "<IPython.core.display.HTML object>"
      ]
     },
     "metadata": {},
     "output_type": "display_data"
    },
    {
     "data": {
      "text/html": [
       "Run data is saved locally in <code>/mnt/alphafold-volume-1/dylan2/repos/tb-pnca-gnn/dd_pnca/wandb/run-20250116_061147-9pah6xg7</code>"
      ],
      "text/plain": [
       "<IPython.core.display.HTML object>"
      ]
     },
     "metadata": {},
     "output_type": "display_data"
    },
    {
     "data": {
      "text/html": [
       "Syncing run <strong><a href='https://wandb.ai/dylan-home/pnca-sweep-1/runs/9pah6xg7' target=\"_blank\">volcanic-sweep-68</a></strong> to <a href='https://wandb.ai/dylan-home/pnca-sweep-1' target=\"_blank\">Weights & Biases</a> (<a href='https://wandb.me/run' target=\"_blank\">docs</a>)<br/>Sweep page: <a href='https://wandb.ai/dylan-home/pnca-sweep-1/sweeps/tr8mwg42' target=\"_blank\">https://wandb.ai/dylan-home/pnca-sweep-1/sweeps/tr8mwg42</a>"
      ],
      "text/plain": [
       "<IPython.core.display.HTML object>"
      ]
     },
     "metadata": {},
     "output_type": "display_data"
    },
    {
     "data": {
      "text/html": [
       " View project at <a href='https://wandb.ai/dylan-home/pnca-sweep-1' target=\"_blank\">https://wandb.ai/dylan-home/pnca-sweep-1</a>"
      ],
      "text/plain": [
       "<IPython.core.display.HTML object>"
      ]
     },
     "metadata": {},
     "output_type": "display_data"
    },
    {
     "data": {
      "text/html": [
       " View sweep at <a href='https://wandb.ai/dylan-home/pnca-sweep-1/sweeps/tr8mwg42' target=\"_blank\">https://wandb.ai/dylan-home/pnca-sweep-1/sweeps/tr8mwg42</a>"
      ],
      "text/plain": [
       "<IPython.core.display.HTML object>"
      ]
     },
     "metadata": {},
     "output_type": "display_data"
    },
    {
     "data": {
      "text/html": [
       " View run at <a href='https://wandb.ai/dylan-home/pnca-sweep-1/runs/9pah6xg7' target=\"_blank\">https://wandb.ai/dylan-home/pnca-sweep-1/runs/9pah6xg7</a>"
      ],
      "text/plain": [
       "<IPython.core.display.HTML object>"
      ]
     },
     "metadata": {},
     "output_type": "display_data"
    },
    {
     "name": "stdout",
     "output_type": "stream",
     "text": [
      "Using CUDA\n",
      "Early stopping enabled. Patience: 20. Min Delta: 0.\n",
      "Epoch: 010, Train Acc: 0.5264, Test Acc: 0.5110, Train Loss: 0.6918, Test Loss: 0.6936\n",
      "Epoch: 020, Train Acc: 0.5264, Test Acc: 0.5110, Train Loss: 0.6911, Test Loss: 0.6926\n",
      "Epoch: 030, Train Acc: 0.5264, Test Acc: 0.5110, Train Loss: 0.6914, Test Loss: 0.6924\n",
      "Epoch: 040, Train Acc: 0.5264, Test Acc: 0.5110, Train Loss: 0.6899, Test Loss: 0.6915\n",
      "Epoch: 050, Train Acc: 0.4907, Test Acc: 0.4967, Train Loss: 0.6927, Test Loss: 0.6922\n",
      "Epoch: 060, Train Acc: 0.5851, Test Acc: 0.5967, Train Loss: 0.6853, Test Loss: 0.6866\n",
      "Epoch: 070, Train Acc: 0.5049, Test Acc: 0.4963, Train Loss: 0.6560, Test Loss: 0.6553\n",
      "Epoch: 080, Train Acc: 0.5264, Test Acc: 0.5110, Train Loss: 0.6763, Test Loss: 0.6818\n",
      "Epoch: 090, Train Acc: 0.5180, Test Acc: 0.5037, Train Loss: 0.6677, Test Loss: 0.6703\n",
      "20 epochs passed without 0 test loss improvement. \n",
      "Early stopping triggered.\n"
     ]
    },
    {
     "data": {
      "text/html": [
       "<style>\n",
       "    table.wandb td:nth-child(1) { padding: 0 10px; text-align: left ; width: auto;} td:nth-child(2) {text-align: left ; width: 100%}\n",
       "    .wandb-row { display: flex; flex-direction: row; flex-wrap: wrap; justify-content: flex-start; width: 100% }\n",
       "    .wandb-col { display: flex; flex-direction: column; flex-basis: 100%; flex: 1; padding: 10px; }\n",
       "    </style>\n",
       "<div class=\"wandb-row\"><div class=\"wandb-col\"><h3>Run history:</h3><br/><table class=\"wandb\"><tr><td>Test Accuracy</td><td>▂▂▂▂▂▂▂▂▂▂▂▂▂▂▂▂▂▂▂▂▄▁▂▃▂▂▂▅▂▂▂█▄▆▄▂▂▁▂█</td></tr><tr><td>Test F1</td><td>████████████████████▄▁█▃███▅▂███▄▆▅██▇██</td></tr><tr><td>Test Loss</td><td>█▂▂▂▂▂▂▂▂▂▂▂▂▂▂▂▂▂▂▂▂▂▂▂▂▂▂▂▂▁▃▁▂▂▂▂▂▂▁▁</td></tr><tr><td>Test Sensitivity</td><td>████████████████████▂▁█▂███▃▂██▅▂▄▃██▇█▆</td></tr><tr><td>Test Specificity</td><td>▁▁▁▁▁▁▁▁▁▁▁▁▁▁▁▁▁▁▁▁██▁█▁▁▁██▁▁▆█▇▇▁▁▁▁▆</td></tr><tr><td>Train Accuracy</td><td>▂▂▂▂▂▂▂▂▂▂▂▂▂▂▂▂▂▂▂▂▃▁▂▂▂▂▂▅▂▂▂█▄▆▄▂▂▂▂█</td></tr><tr><td>Train F1</td><td>████████████████████▃▁█▂███▅▃███▄▆▄██▇██</td></tr><tr><td>Train Loss</td><td>█▂▂▂▂▂▂▂▂▂▂▂▂▂▂▂▂▂▂▂▂▂▂▂▂▂▂▂▂▁▃▁▂▂▂▂▂▂▁▁</td></tr><tr><td>Train Sensitivity</td><td>████████████████████▂▁█▁███▃▂██▅▂▄▂██▇█▆</td></tr><tr><td>Train Specificity</td><td>▁▁▁▁▁▁▁▁▁▁▁▁▁▁▁▁▁▁▁▁██▁█▁▁▁██▁▁▇█▇█▁▁▁▁▆</td></tr></table><br/></div><div class=\"wandb-col\"><h3>Run summary:</h3><br/><table class=\"wandb\"><tr><td>Test Accuracy</td><td>0.707</td></tr><tr><td>Test F1</td><td>0.70173</td></tr><tr><td>Test Loss</td><td>0.65506</td></tr><tr><td>Test Sensitivity</td><td>0.67449</td></tr><tr><td>Test Specificity</td><td>0.74097</td></tr><tr><td>Train Accuracy</td><td>0.71643</td></tr><tr><td>Train F1</td><td>0.71186</td></tr><tr><td>Train Loss</td><td>0.65222</td></tr><tr><td>Train Sensitivity</td><td>0.6654</td></tr><tr><td>Train Specificity</td><td>0.77315</td></tr></table><br/></div></div>"
      ],
      "text/plain": [
       "<IPython.core.display.HTML object>"
      ]
     },
     "metadata": {},
     "output_type": "display_data"
    },
    {
     "data": {
      "text/html": [
       " View run <strong style=\"color:#cdcd00\">volcanic-sweep-68</strong> at: <a href='https://wandb.ai/dylan-home/pnca-sweep-1/runs/9pah6xg7' target=\"_blank\">https://wandb.ai/dylan-home/pnca-sweep-1/runs/9pah6xg7</a><br/>Synced 5 W&B file(s), 0 media file(s), 0 artifact file(s) and 0 other file(s)"
      ],
      "text/plain": [
       "<IPython.core.display.HTML object>"
      ]
     },
     "metadata": {},
     "output_type": "display_data"
    },
    {
     "data": {
      "text/html": [
       "Find logs at: <code>./wandb/run-20250116_061147-9pah6xg7/logs</code>"
      ],
      "text/plain": [
       "<IPython.core.display.HTML object>"
      ]
     },
     "metadata": {},
     "output_type": "display_data"
    },
    {
     "name": "stderr",
     "output_type": "stream",
     "text": [
      "\u001b[34m\u001b[1mwandb\u001b[0m: Agent Starting Run: 44zonwpn with config:\n",
      "\u001b[34m\u001b[1mwandb\u001b[0m: \tcutoff_distance: 5.63799069168245\n",
      "\u001b[34m\u001b[1mwandb\u001b[0m: \tdropout: 0.4\n",
      "\u001b[34m\u001b[1mwandb\u001b[0m: \thidden_channels: 384\n",
      "\u001b[34m\u001b[1mwandb\u001b[0m: \tlearning_rate: 0.00011297156074661254\n",
      "\u001b[34m\u001b[1mwandb\u001b[0m: \tweight_decay: 6.663931251580381e-06\n",
      "Failed to detect the name of this notebook, you can set it manually with the WANDB_NOTEBOOK_NAME environment variable to enable code saving.\n",
      "/usr/lib/python3/dist-packages/requests/__init__.py:87: RequestsDependencyWarning: urllib3 (2.2.3) or chardet (4.0.0) doesn't match a supported version!\n",
      "  warnings.warn(\"urllib3 ({}) or chardet ({}) doesn't match a supported \"\n"
     ]
    },
    {
     "data": {
      "text/html": [
       "wandb version 0.19.3 is available!  To upgrade, please run:\n",
       " $ pip install wandb --upgrade"
      ],
      "text/plain": [
       "<IPython.core.display.HTML object>"
      ]
     },
     "metadata": {},
     "output_type": "display_data"
    },
    {
     "data": {
      "text/html": [
       "Tracking run with wandb version 0.16.4"
      ],
      "text/plain": [
       "<IPython.core.display.HTML object>"
      ]
     },
     "metadata": {},
     "output_type": "display_data"
    },
    {
     "data": {
      "text/html": [
       "Run data is saved locally in <code>/mnt/alphafold-volume-1/dylan2/repos/tb-pnca-gnn/dd_pnca/wandb/run-20250116_061506-44zonwpn</code>"
      ],
      "text/plain": [
       "<IPython.core.display.HTML object>"
      ]
     },
     "metadata": {},
     "output_type": "display_data"
    },
    {
     "data": {
      "text/html": [
       "Syncing run <strong><a href='https://wandb.ai/dylan-home/pnca-sweep-1/runs/44zonwpn' target=\"_blank\">lunar-sweep-69</a></strong> to <a href='https://wandb.ai/dylan-home/pnca-sweep-1' target=\"_blank\">Weights & Biases</a> (<a href='https://wandb.me/run' target=\"_blank\">docs</a>)<br/>Sweep page: <a href='https://wandb.ai/dylan-home/pnca-sweep-1/sweeps/tr8mwg42' target=\"_blank\">https://wandb.ai/dylan-home/pnca-sweep-1/sweeps/tr8mwg42</a>"
      ],
      "text/plain": [
       "<IPython.core.display.HTML object>"
      ]
     },
     "metadata": {},
     "output_type": "display_data"
    },
    {
     "data": {
      "text/html": [
       " View project at <a href='https://wandb.ai/dylan-home/pnca-sweep-1' target=\"_blank\">https://wandb.ai/dylan-home/pnca-sweep-1</a>"
      ],
      "text/plain": [
       "<IPython.core.display.HTML object>"
      ]
     },
     "metadata": {},
     "output_type": "display_data"
    },
    {
     "data": {
      "text/html": [
       " View sweep at <a href='https://wandb.ai/dylan-home/pnca-sweep-1/sweeps/tr8mwg42' target=\"_blank\">https://wandb.ai/dylan-home/pnca-sweep-1/sweeps/tr8mwg42</a>"
      ],
      "text/plain": [
       "<IPython.core.display.HTML object>"
      ]
     },
     "metadata": {},
     "output_type": "display_data"
    },
    {
     "data": {
      "text/html": [
       " View run at <a href='https://wandb.ai/dylan-home/pnca-sweep-1/runs/44zonwpn' target=\"_blank\">https://wandb.ai/dylan-home/pnca-sweep-1/runs/44zonwpn</a>"
      ],
      "text/plain": [
       "<IPython.core.display.HTML object>"
      ]
     },
     "metadata": {},
     "output_type": "display_data"
    },
    {
     "name": "stdout",
     "output_type": "stream",
     "text": [
      "Using CUDA\n",
      "Early stopping enabled. Patience: 20. Min Delta: 0.\n",
      "Epoch: 010, Train Acc: 0.5684, Test Acc: 0.6270, Train Loss: 0.6894, Test Loss: 0.6866\n",
      "Epoch: 020, Train Acc: 0.5256, Test Acc: 0.5110, Train Loss: 0.6836, Test Loss: 0.6830\n",
      "Epoch: 030, Train Acc: 0.5264, Test Acc: 0.5110, Train Loss: 0.7086, Test Loss: 0.7148\n",
      "Epoch: 040, Train Acc: 0.5394, Test Acc: 0.6127, Train Loss: 0.6870, Test Loss: 0.6747\n",
      "Epoch: 050, Train Acc: 0.4856, Test Acc: 0.4693, Train Loss: 0.6718, Test Loss: 0.6646\n",
      "Epoch: 060, Train Acc: 0.4869, Test Acc: 0.4740, Train Loss: 0.6720, Test Loss: 0.6658\n",
      "Epoch: 070, Train Acc: 0.4900, Test Acc: 0.4790, Train Loss: 0.6664, Test Loss: 0.6600\n",
      "Epoch: 080, Train Acc: 0.4884, Test Acc: 0.4800, Train Loss: 0.6617, Test Loss: 0.6550\n",
      "Epoch: 090, Train Acc: 0.5099, Test Acc: 0.4897, Train Loss: 0.6622, Test Loss: 0.6588\n",
      "Epoch: 100, Train Acc: 0.5710, Test Acc: 0.6447, Train Loss: 0.6756, Test Loss: 0.6540\n",
      "Epoch: 110, Train Acc: 0.6647, Test Acc: 0.6753, Train Loss: 0.6441, Test Loss: 0.6286\n",
      "Epoch: 120, Train Acc: 0.5100, Test Acc: 0.4857, Train Loss: 0.6393, Test Loss: 0.6356\n",
      "Epoch: 130, Train Acc: 0.6603, Test Acc: 0.6703, Train Loss: 0.6344, Test Loss: 0.6188\n",
      "Epoch: 140, Train Acc: 0.5334, Test Acc: 0.5013, Train Loss: 0.6124, Test Loss: 0.6150\n",
      "Epoch: 150, Train Acc: 0.6953, Test Acc: 0.6903, Train Loss: 0.6061, Test Loss: 0.5971\n",
      "Epoch: 160, Train Acc: 0.5306, Test Acc: 0.4950, Train Loss: 0.6041, Test Loss: 0.6173\n",
      "Epoch: 170, Train Acc: 0.7554, Test Acc: 0.7140, Train Loss: 0.5702, Test Loss: 0.5866\n",
      "Epoch: 180, Train Acc: 0.6900, Test Acc: 0.6940, Train Loss: 0.5875, Test Loss: 0.5854\n",
      "Epoch: 190, Train Acc: 0.6526, Test Acc: 0.6737, Train Loss: 0.6121, Test Loss: 0.6068\n",
      "Epoch: 200, Train Acc: 0.6984, Test Acc: 0.7010, Train Loss: 0.5667, Test Loss: 0.5723\n",
      "Epoch: 210, Train Acc: 0.7781, Test Acc: 0.7327, Train Loss: 0.5166, Test Loss: 0.5475\n",
      "Epoch: 220, Train Acc: 0.7280, Test Acc: 0.7150, Train Loss: 0.5316, Test Loss: 0.5526\n",
      "Epoch: 230, Train Acc: 0.7967, Test Acc: 0.7363, Train Loss: 0.4897, Test Loss: 0.5441\n",
      "Epoch: 240, Train Acc: 0.7996, Test Acc: 0.7410, Train Loss: 0.4823, Test Loss: 0.5350\n",
      "Epoch: 250, Train Acc: 0.7630, Test Acc: 0.7257, Train Loss: 0.4801, Test Loss: 0.5251\n",
      "Epoch: 260, Train Acc: 0.7600, Test Acc: 0.7283, Train Loss: 0.4809, Test Loss: 0.5302\n",
      "Epoch: 270, Train Acc: 0.7809, Test Acc: 0.7340, Train Loss: 0.4701, Test Loss: 0.5207\n",
      "Epoch: 280, Train Acc: 0.7936, Test Acc: 0.7357, Train Loss: 0.4412, Test Loss: 0.5145\n",
      "Epoch: 290, Train Acc: 0.8111, Test Acc: 0.7577, Train Loss: 0.4658, Test Loss: 0.5795\n",
      "20 epochs passed without 0 test loss improvement. \n",
      "Early stopping triggered.\n"
     ]
    },
    {
     "data": {
      "text/html": [
       "<style>\n",
       "    table.wandb td:nth-child(1) { padding: 0 10px; text-align: left ; width: auto;} td:nth-child(2) {text-align: left ; width: 100%}\n",
       "    .wandb-row { display: flex; flex-direction: row; flex-wrap: wrap; justify-content: flex-start; width: 100% }\n",
       "    .wandb-col { display: flex; flex-direction: column; flex-basis: 100%; flex: 1; padding: 10px; }\n",
       "    </style>\n",
       "<div class=\"wandb-row\"><div class=\"wandb-col\"><h3>Run history:</h3><br/><table class=\"wandb\"><tr><td>Test Accuracy</td><td>▂▂▂▅▂▅▆▂▁▁▂▆▂▅▂▅▁▆▇▆▆▂▂▇▇▇█▆▇▇██████████</td></tr><tr><td>Test F1</td><td>▆▆▆▂▆▁▆▆▅▆▆▅▆▂▆▂▅▅▆▃▅▆▆▇▅▇▇▄▇▆███▆▇▇▇▇▇▇</td></tr><tr><td>Test Loss</td><td>█▇▇▆▇▆▆▇▆▆▇▅▇▆▆▆▅▄▄▅▄▄▅▃▃▃▃▄▂▂▃▂▂▂▁▁▁▁▁▁</td></tr><tr><td>Test Sensitivity</td><td>███▁█▁▅█▆▇█▃█▂▇▁▆▃▄▂▃▇▇▅▃▅▅▃▄▄▆▅▅▄▅▄▄▅▄▄</td></tr><tr><td>Test Specificity</td><td>▁▁▁█▁█▆▁▂▁▁▇▁█▁█▂▇▇█▇▂▁▆▇▇▆█▇▇▆▆▆▇▇▇▇▇▇▇</td></tr><tr><td>Train Accuracy</td><td>▂▂▂▃▂▂▅▂▁▁▂▅▂▃▂▃▂▅▆▄▅▂▂▇▆▇▇▅▇▆███▇█▇▇███</td></tr><tr><td>Train F1</td><td>▇▇▇▂▇▁▆▇▆▆▇▆▇▂▆▂▆▅▇▄▅▆▆█▆▇█▅▇▆███▇▇▇▇█▇▇</td></tr><tr><td>Train Loss</td><td>█▇▇▇▇▇▇█▇▇▇▇▇▇▆▇▆▆▅▆▅▅▅▄▅▄▃▅▃▃▃▂▂▃▁▂▂▁▁▁</td></tr><tr><td>Train Sensitivity</td><td>███▁█▁▅█▇██▄█▁█▁▇▃▅▂▃▇▇▆▄▅▆▃▅▄▇▆▆▄▅▅▅▅▅▅</td></tr><tr><td>Train Specificity</td><td>▁▁▁█▁█▆▁▂▁▁█▁█▁█▂█▇██▂▂▇█▇▇█▇█▆▇▇█▇█████</td></tr></table><br/></div><div class=\"wandb-col\"><h3>Run summary:</h3><br/><table class=\"wandb\"><tr><td>Test Accuracy</td><td>0.753</td></tr><tr><td>Test F1</td><td>0.75902</td></tr><tr><td>Test Loss</td><td>0.52853</td></tr><tr><td>Test Sensitivity</td><td>0.76125</td></tr><tr><td>Test Specificity</td><td>0.74438</td></tr><tr><td>Train Accuracy</td><td>0.83514</td></tr><tr><td>Train F1</td><td>0.83724</td></tr><tr><td>Train Loss</td><td>0.41974</td></tr><tr><td>Train Sensitivity</td><td>0.80543</td></tr><tr><td>Train Specificity</td><td>0.86817</td></tr></table><br/></div></div>"
      ],
      "text/plain": [
       "<IPython.core.display.HTML object>"
      ]
     },
     "metadata": {},
     "output_type": "display_data"
    },
    {
     "data": {
      "text/html": [
       " View run <strong style=\"color:#cdcd00\">lunar-sweep-69</strong> at: <a href='https://wandb.ai/dylan-home/pnca-sweep-1/runs/44zonwpn' target=\"_blank\">https://wandb.ai/dylan-home/pnca-sweep-1/runs/44zonwpn</a><br/>Synced 5 W&B file(s), 0 media file(s), 0 artifact file(s) and 0 other file(s)"
      ],
      "text/plain": [
       "<IPython.core.display.HTML object>"
      ]
     },
     "metadata": {},
     "output_type": "display_data"
    },
    {
     "data": {
      "text/html": [
       "Find logs at: <code>./wandb/run-20250116_061506-44zonwpn/logs</code>"
      ],
      "text/plain": [
       "<IPython.core.display.HTML object>"
      ]
     },
     "metadata": {},
     "output_type": "display_data"
    },
    {
     "name": "stderr",
     "output_type": "stream",
     "text": [
      "\u001b[34m\u001b[1mwandb\u001b[0m: Agent Starting Run: 31rav9p6 with config:\n",
      "\u001b[34m\u001b[1mwandb\u001b[0m: \tcutoff_distance: 6.745010594346722\n",
      "\u001b[34m\u001b[1mwandb\u001b[0m: \tdropout: 0.2\n",
      "\u001b[34m\u001b[1mwandb\u001b[0m: \thidden_channels: 64\n",
      "\u001b[34m\u001b[1mwandb\u001b[0m: \tlearning_rate: 0.0002283515928701007\n",
      "\u001b[34m\u001b[1mwandb\u001b[0m: \tweight_decay: 1.3535950176945252e-06\n",
      "Failed to detect the name of this notebook, you can set it manually with the WANDB_NOTEBOOK_NAME environment variable to enable code saving.\n",
      "/usr/lib/python3/dist-packages/requests/__init__.py:87: RequestsDependencyWarning: urllib3 (2.2.3) or chardet (4.0.0) doesn't match a supported version!\n",
      "  warnings.warn(\"urllib3 ({}) or chardet ({}) doesn't match a supported \"\n"
     ]
    },
    {
     "data": {
      "text/html": [
       "wandb version 0.19.3 is available!  To upgrade, please run:\n",
       " $ pip install wandb --upgrade"
      ],
      "text/plain": [
       "<IPython.core.display.HTML object>"
      ]
     },
     "metadata": {},
     "output_type": "display_data"
    },
    {
     "data": {
      "text/html": [
       "Tracking run with wandb version 0.16.4"
      ],
      "text/plain": [
       "<IPython.core.display.HTML object>"
      ]
     },
     "metadata": {},
     "output_type": "display_data"
    },
    {
     "data": {
      "text/html": [
       "Run data is saved locally in <code>/mnt/alphafold-volume-1/dylan2/repos/tb-pnca-gnn/dd_pnca/wandb/run-20250116_062719-31rav9p6</code>"
      ],
      "text/plain": [
       "<IPython.core.display.HTML object>"
      ]
     },
     "metadata": {},
     "output_type": "display_data"
    },
    {
     "data": {
      "text/html": [
       "Syncing run <strong><a href='https://wandb.ai/dylan-home/pnca-sweep-1/runs/31rav9p6' target=\"_blank\">graceful-sweep-70</a></strong> to <a href='https://wandb.ai/dylan-home/pnca-sweep-1' target=\"_blank\">Weights & Biases</a> (<a href='https://wandb.me/run' target=\"_blank\">docs</a>)<br/>Sweep page: <a href='https://wandb.ai/dylan-home/pnca-sweep-1/sweeps/tr8mwg42' target=\"_blank\">https://wandb.ai/dylan-home/pnca-sweep-1/sweeps/tr8mwg42</a>"
      ],
      "text/plain": [
       "<IPython.core.display.HTML object>"
      ]
     },
     "metadata": {},
     "output_type": "display_data"
    },
    {
     "data": {
      "text/html": [
       " View project at <a href='https://wandb.ai/dylan-home/pnca-sweep-1' target=\"_blank\">https://wandb.ai/dylan-home/pnca-sweep-1</a>"
      ],
      "text/plain": [
       "<IPython.core.display.HTML object>"
      ]
     },
     "metadata": {},
     "output_type": "display_data"
    },
    {
     "data": {
      "text/html": [
       " View sweep at <a href='https://wandb.ai/dylan-home/pnca-sweep-1/sweeps/tr8mwg42' target=\"_blank\">https://wandb.ai/dylan-home/pnca-sweep-1/sweeps/tr8mwg42</a>"
      ],
      "text/plain": [
       "<IPython.core.display.HTML object>"
      ]
     },
     "metadata": {},
     "output_type": "display_data"
    },
    {
     "data": {
      "text/html": [
       " View run at <a href='https://wandb.ai/dylan-home/pnca-sweep-1/runs/31rav9p6' target=\"_blank\">https://wandb.ai/dylan-home/pnca-sweep-1/runs/31rav9p6</a>"
      ],
      "text/plain": [
       "<IPython.core.display.HTML object>"
      ]
     },
     "metadata": {},
     "output_type": "display_data"
    },
    {
     "name": "stdout",
     "output_type": "stream",
     "text": [
      "Using CUDA\n",
      "Early stopping enabled. Patience: 20. Min Delta: 0.\n",
      "Epoch: 010, Train Acc: 0.4837, Test Acc: 0.4747, Train Loss: 0.6921, Test Loss: 0.6913\n",
      "Epoch: 020, Train Acc: 0.5257, Test Acc: 0.5107, Train Loss: 0.6897, Test Loss: 0.6902\n",
      "Epoch: 030, Train Acc: 0.5234, Test Acc: 0.5107, Train Loss: 0.6885, Test Loss: 0.6885\n",
      "Epoch: 040, Train Acc: 0.4653, Test Acc: 0.4777, Train Loss: 0.6874, Test Loss: 0.6857\n",
      "Epoch: 050, Train Acc: 0.4819, Test Acc: 0.4747, Train Loss: 0.6814, Test Loss: 0.6807\n",
      "Epoch: 060, Train Acc: 0.5263, Test Acc: 0.5110, Train Loss: 0.6807, Test Loss: 0.6835\n",
      "Epoch: 070, Train Acc: 0.5969, Test Acc: 0.6417, Train Loss: 0.6752, Test Loss: 0.6719\n",
      "Epoch: 080, Train Acc: 0.4993, Test Acc: 0.4777, Train Loss: 0.6587, Test Loss: 0.6594\n",
      "Epoch: 090, Train Acc: 0.6573, Test Acc: 0.6733, Train Loss: 0.6551, Test Loss: 0.6530\n",
      "Epoch: 100, Train Acc: 0.6214, Test Acc: 0.6533, Train Loss: 0.6499, Test Loss: 0.6447\n",
      "Epoch: 110, Train Acc: 0.6456, Test Acc: 0.6743, Train Loss: 0.6349, Test Loss: 0.6306\n",
      "Epoch: 120, Train Acc: 0.6547, Test Acc: 0.6807, Train Loss: 0.6243, Test Loss: 0.6193\n",
      "Epoch: 130, Train Acc: 0.7554, Test Acc: 0.7267, Train Loss: 0.5973, Test Loss: 0.5986\n",
      "Epoch: 140, Train Acc: 0.6573, Test Acc: 0.6833, Train Loss: 0.6030, Test Loss: 0.5972\n",
      "Epoch: 150, Train Acc: 0.7313, Test Acc: 0.6840, Train Loss: 0.5847, Test Loss: 0.5957\n",
      "Epoch: 160, Train Acc: 0.7693, Test Acc: 0.7370, Train Loss: 0.5687, Test Loss: 0.5787\n",
      "Epoch: 170, Train Acc: 0.7656, Test Acc: 0.7240, Train Loss: 0.5408, Test Loss: 0.5503\n",
      "Epoch: 180, Train Acc: 0.7500, Test Acc: 0.7233, Train Loss: 0.5287, Test Loss: 0.5383\n",
      "Epoch: 190, Train Acc: 0.7806, Test Acc: 0.7510, Train Loss: 0.5218, Test Loss: 0.5400\n",
      "Epoch: 200, Train Acc: 0.6889, Test Acc: 0.6960, Train Loss: 0.5671, Test Loss: 0.5741\n",
      "Epoch: 210, Train Acc: 0.7404, Test Acc: 0.7313, Train Loss: 0.5145, Test Loss: 0.5298\n",
      "Epoch: 220, Train Acc: 0.7614, Test Acc: 0.7320, Train Loss: 0.4969, Test Loss: 0.5169\n",
      "Epoch: 230, Train Acc: 0.7303, Test Acc: 0.7257, Train Loss: 0.5204, Test Loss: 0.5368\n",
      "Epoch: 240, Train Acc: 0.7720, Test Acc: 0.7363, Train Loss: 0.4756, Test Loss: 0.5048\n",
      "Epoch: 250, Train Acc: 0.7947, Test Acc: 0.7583, Train Loss: 0.4655, Test Loss: 0.5046\n",
      "Epoch: 260, Train Acc: 0.8009, Test Acc: 0.7597, Train Loss: 0.4619, Test Loss: 0.5061\n",
      "Epoch: 270, Train Acc: 0.8016, Test Acc: 0.7610, Train Loss: 0.4497, Test Loss: 0.4986\n",
      "Epoch: 280, Train Acc: 0.7980, Test Acc: 0.7500, Train Loss: 0.4438, Test Loss: 0.4925\n",
      "Epoch: 290, Train Acc: 0.8096, Test Acc: 0.7620, Train Loss: 0.4412, Test Loss: 0.4981\n",
      "Epoch: 300, Train Acc: 0.7947, Test Acc: 0.7567, Train Loss: 0.4321, Test Loss: 0.4864\n",
      "Epoch: 310, Train Acc: 0.7739, Test Acc: 0.7443, Train Loss: 0.4493, Test Loss: 0.5002\n",
      "Epoch: 320, Train Acc: 0.8047, Test Acc: 0.7653, Train Loss: 0.4264, Test Loss: 0.4870\n",
      "Epoch: 330, Train Acc: 0.7999, Test Acc: 0.7440, Train Loss: 0.4873, Test Loss: 0.5759\n",
      "Epoch: 340, Train Acc: 0.7374, Test Acc: 0.7270, Train Loss: 0.5360, Test Loss: 0.5828\n",
      "Epoch: 350, Train Acc: 0.7426, Test Acc: 0.7320, Train Loss: 0.5155, Test Loss: 0.5655\n",
      "20 epochs passed without 0 test loss improvement. \n",
      "Early stopping triggered.\n"
     ]
    },
    {
     "data": {
      "text/html": [
       "<style>\n",
       "    table.wandb td:nth-child(1) { padding: 0 10px; text-align: left ; width: auto;} td:nth-child(2) {text-align: left ; width: 100%}\n",
       "    .wandb-row { display: flex; flex-direction: row; flex-wrap: wrap; justify-content: flex-start; width: 100% }\n",
       "    .wandb-col { display: flex; flex-direction: column; flex-basis: 100%; flex: 1; padding: 10px; }\n",
       "    </style>\n",
       "<div class=\"wandb-row\"><div class=\"wandb-col\"><h3>Run history:</h3><br/><table class=\"wandb\"><tr><td>Test Accuracy</td><td>▃▂▂▂▂▂▁▂▁▁▇▅▁▆▇▇▇▆▇▆▇▇▆▇▇▇▇▇██████▇█▇█▇█</td></tr><tr><td>Test F1</td><td>▁▆▆▆▆▆▅▆▆▆▇▄▆▅▇▇▇▇▆▅▇▆▅▇▇▆▆▇▇██▇██▆█▆▇▆█</td></tr><tr><td>Test Loss</td><td>█████▇▇▇▇▇▆▆▆▅▅▄▄▅▄▅▃▃▄▂▂▃▃▂▂▂▂▁▁▂▄▁▃▁▄▃</td></tr><tr><td>Test Sensitivity</td><td>▁█████▆█▇▇▅▃▇▃▆▆▅▇▄▃▅▄▃▅▅▄▄▅▅▆▆▅▆▆▄▆▄▅▄▇</td></tr><tr><td>Test Specificity</td><td>█▁▁▁▁▁▃▁▁▁▇█▁█▆▆▇▅██▇██▇▇██▇▇▆▇▇▇▆█▆█▇█▆</td></tr><tr><td>Train Accuracy</td><td>▂▂▂▂▂▂▁▂▁▂▆▄▂▅▇▇▆▆▅▅▇▆▅▇▇▆▆▇▇█████▆█▇█▆█</td></tr><tr><td>Train F1</td><td>▁▆▆▆▆▆▅▆▆▆▆▄▆▅▇▇▇▇▆▅▇▆▅▇▇▆▆▇▇██▇██▆█▇█▆█</td></tr><tr><td>Train Loss</td><td>██████▇▇▇▇▇▇▇▆▆▅▅▅▅▆▄▄▅▃▃▄▄▂▂▂▂▁▁▂▄▁▃▁▄▁</td></tr><tr><td>Train Sensitivity</td><td>▁█████▆█▇█▅▃█▃▆▆▅▇▄▃▅▄▄▅▅▄▄▆▆▆▆▆▆▇▄▆▅▆▄▇</td></tr><tr><td>Train Specificity</td><td>█▁▁▁▁▁▃▁▁▁▇█▁█▇▇▇▅██▇██▇▇██▇▇▇▇▇▇▇█▇█▇█▆</td></tr></table><br/></div><div class=\"wandb-col\"><h3>Run summary:</h3><br/><table class=\"wandb\"><tr><td>Test Accuracy</td><td>0.76333</td></tr><tr><td>Test F1</td><td>0.7864</td></tr><tr><td>Test Loss</td><td>0.53268</td></tr><tr><td>Test Sensitivity</td><td>0.85258</td></tr><tr><td>Test Specificity</td><td>0.67007</td></tr><tr><td>Train Accuracy</td><td>0.82071</td></tr><tr><td>Train F1</td><td>0.83888</td></tr><tr><td>Train Loss</td><td>0.44085</td></tr><tr><td>Train Sensitivity</td><td>0.88657</td></tr><tr><td>Train Specificity</td><td>0.74751</td></tr></table><br/></div></div>"
      ],
      "text/plain": [
       "<IPython.core.display.HTML object>"
      ]
     },
     "metadata": {},
     "output_type": "display_data"
    },
    {
     "data": {
      "text/html": [
       " View run <strong style=\"color:#cdcd00\">graceful-sweep-70</strong> at: <a href='https://wandb.ai/dylan-home/pnca-sweep-1/runs/31rav9p6' target=\"_blank\">https://wandb.ai/dylan-home/pnca-sweep-1/runs/31rav9p6</a><br/>Synced 5 W&B file(s), 0 media file(s), 0 artifact file(s) and 0 other file(s)"
      ],
      "text/plain": [
       "<IPython.core.display.HTML object>"
      ]
     },
     "metadata": {},
     "output_type": "display_data"
    },
    {
     "data": {
      "text/html": [
       "Find logs at: <code>./wandb/run-20250116_062719-31rav9p6/logs</code>"
      ],
      "text/plain": [
       "<IPython.core.display.HTML object>"
      ]
     },
     "metadata": {},
     "output_type": "display_data"
    },
    {
     "name": "stderr",
     "output_type": "stream",
     "text": [
      "\u001b[34m\u001b[1mwandb\u001b[0m: Sweep Agent: Waiting for job.\n",
      "\u001b[34m\u001b[1mwandb\u001b[0m: Job received.\n",
      "\u001b[34m\u001b[1mwandb\u001b[0m: Agent Starting Run: kxx2o57f with config:\n",
      "\u001b[34m\u001b[1mwandb\u001b[0m: \tcutoff_distance: 8.222782725546185\n",
      "\u001b[34m\u001b[1mwandb\u001b[0m: \tdropout: 0.5\n",
      "\u001b[34m\u001b[1mwandb\u001b[0m: \thidden_channels: 128\n",
      "\u001b[34m\u001b[1mwandb\u001b[0m: \tlearning_rate: 0.005227742030324119\n",
      "\u001b[34m\u001b[1mwandb\u001b[0m: \tweight_decay: 0.0022862499705044565\n",
      "Failed to detect the name of this notebook, you can set it manually with the WANDB_NOTEBOOK_NAME environment variable to enable code saving.\n",
      "/usr/lib/python3/dist-packages/requests/__init__.py:87: RequestsDependencyWarning: urllib3 (2.2.3) or chardet (4.0.0) doesn't match a supported version!\n",
      "  warnings.warn(\"urllib3 ({}) or chardet ({}) doesn't match a supported \"\n"
     ]
    },
    {
     "data": {
      "text/html": [
       "wandb version 0.19.3 is available!  To upgrade, please run:\n",
       " $ pip install wandb --upgrade"
      ],
      "text/plain": [
       "<IPython.core.display.HTML object>"
      ]
     },
     "metadata": {},
     "output_type": "display_data"
    },
    {
     "data": {
      "text/html": [
       "Tracking run with wandb version 0.16.4"
      ],
      "text/plain": [
       "<IPython.core.display.HTML object>"
      ]
     },
     "metadata": {},
     "output_type": "display_data"
    },
    {
     "data": {
      "text/html": [
       "Run data is saved locally in <code>/mnt/alphafold-volume-1/dylan2/repos/tb-pnca-gnn/dd_pnca/wandb/run-20250116_063734-kxx2o57f</code>"
      ],
      "text/plain": [
       "<IPython.core.display.HTML object>"
      ]
     },
     "metadata": {},
     "output_type": "display_data"
    },
    {
     "data": {
      "text/html": [
       "Syncing run <strong><a href='https://wandb.ai/dylan-home/pnca-sweep-1/runs/kxx2o57f' target=\"_blank\">avid-sweep-71</a></strong> to <a href='https://wandb.ai/dylan-home/pnca-sweep-1' target=\"_blank\">Weights & Biases</a> (<a href='https://wandb.me/run' target=\"_blank\">docs</a>)<br/>Sweep page: <a href='https://wandb.ai/dylan-home/pnca-sweep-1/sweeps/tr8mwg42' target=\"_blank\">https://wandb.ai/dylan-home/pnca-sweep-1/sweeps/tr8mwg42</a>"
      ],
      "text/plain": [
       "<IPython.core.display.HTML object>"
      ]
     },
     "metadata": {},
     "output_type": "display_data"
    },
    {
     "data": {
      "text/html": [
       " View project at <a href='https://wandb.ai/dylan-home/pnca-sweep-1' target=\"_blank\">https://wandb.ai/dylan-home/pnca-sweep-1</a>"
      ],
      "text/plain": [
       "<IPython.core.display.HTML object>"
      ]
     },
     "metadata": {},
     "output_type": "display_data"
    },
    {
     "data": {
      "text/html": [
       " View sweep at <a href='https://wandb.ai/dylan-home/pnca-sweep-1/sweeps/tr8mwg42' target=\"_blank\">https://wandb.ai/dylan-home/pnca-sweep-1/sweeps/tr8mwg42</a>"
      ],
      "text/plain": [
       "<IPython.core.display.HTML object>"
      ]
     },
     "metadata": {},
     "output_type": "display_data"
    },
    {
     "data": {
      "text/html": [
       " View run at <a href='https://wandb.ai/dylan-home/pnca-sweep-1/runs/kxx2o57f' target=\"_blank\">https://wandb.ai/dylan-home/pnca-sweep-1/runs/kxx2o57f</a>"
      ],
      "text/plain": [
       "<IPython.core.display.HTML object>"
      ]
     },
     "metadata": {},
     "output_type": "display_data"
    },
    {
     "name": "stdout",
     "output_type": "stream",
     "text": [
      "Using CUDA\n",
      "Early stopping enabled. Patience: 20. Min Delta: 0.\n",
      "Epoch: 010, Train Acc: 0.5264, Test Acc: 0.5110, Train Loss: 0.6918, Test Loss: 0.6933\n",
      "Epoch: 020, Train Acc: 0.5264, Test Acc: 0.5110, Train Loss: 0.6918, Test Loss: 0.6933\n",
      "Epoch: 030, Train Acc: 0.5264, Test Acc: 0.5110, Train Loss: 0.6920, Test Loss: 0.6931\n",
      "Epoch: 040, Train Acc: 0.5264, Test Acc: 0.5110, Train Loss: 0.6921, Test Loss: 0.6929\n",
      "Epoch: 050, Train Acc: 0.5264, Test Acc: 0.5110, Train Loss: 0.6919, Test Loss: 0.6931\n",
      "Epoch: 060, Train Acc: 0.5264, Test Acc: 0.5110, Train Loss: 0.6916, Test Loss: 0.6934\n",
      "20 epochs passed without 0 test loss improvement. \n",
      "Early stopping triggered.\n"
     ]
    },
    {
     "data": {
      "text/html": [
       "<style>\n",
       "    table.wandb td:nth-child(1) { padding: 0 10px; text-align: left ; width: auto;} td:nth-child(2) {text-align: left ; width: 100%}\n",
       "    .wandb-row { display: flex; flex-direction: row; flex-wrap: wrap; justify-content: flex-start; width: 100% }\n",
       "    .wandb-col { display: flex; flex-direction: column; flex-basis: 100%; flex: 1; padding: 10px; }\n",
       "    </style>\n",
       "<div class=\"wandb-row\"><div class=\"wandb-col\"><h3>Run history:</h3><br/><table class=\"wandb\"><tr><td>Test Accuracy</td><td>▁▁▁▁▁▁▁▁▁▁▁▁▁▁▁▁▁▁▁▁▁▁▁▁▁▁▁▁▁▁▁▁▁▁▁▁▁▁▁▁</td></tr><tr><td>Test F1</td><td>▁▁▁▁▁▁▁▁▁▁▁▁▁▁▁▁▁▁▁▁▁▁▁▁▁▁▁▁▁▁▁▁▁▁▁▁▁▁▁▁</td></tr><tr><td>Test Loss</td><td>▃▂▅▂▆▂▃▃▄▂▂▄▂▃▄█▆▃▅▂▆▅▁▂▃▃▁▄▁▅▄▃▃▂▅▁▂▄▃▄</td></tr><tr><td>Test Sensitivity</td><td>▁▁▁▁▁▁▁▁▁▁▁▁▁▁▁▁▁▁▁▁▁▁▁▁▁▁▁▁▁▁▁▁▁▁▁▁▁▁▁▁</td></tr><tr><td>Test Specificity</td><td>▁▁▁▁▁▁▁▁▁▁▁▁▁▁▁▁▁▁▁▁▁▁▁▁▁▁▁▁▁▁▁▁▁▁▁▁▁▁▁▁</td></tr><tr><td>Train Accuracy</td><td>▁▁▁▁▁▁▁▁▁▁▁▁▁▁▁▁▁▁▁▁▁▁▁▁▁▁▁▁▁▁▁▁▁▁▁▁▁▁▁▁</td></tr><tr><td>Train F1</td><td>▁▁▁▁▁▁▁▁▁▁▁▁▁▁▁▁▁▁▁▁▁▁▁▁▁▁▁▁▁▁▁▁▁▁▁▁▁▁▁▁</td></tr><tr><td>Train Loss</td><td>▄▆▇▄▄▃▅▆▅▅▄▃▅▅▆▆█▄▆▅▁▆▇▅▆▆█▅▇▅▅▄▄▆▆▆▆▅▅▃</td></tr><tr><td>Train Sensitivity</td><td>▁▁▁▁▁▁▁▁▁▁▁▁▁▁▁▁▁▁▁▁▁▁▁▁▁▁▁▁▁▁▁▁▁▁▁▁▁▁▁▁</td></tr><tr><td>Train Specificity</td><td>▁▁▁▁▁▁▁▁▁▁▁▁▁▁▁▁▁▁▁▁▁▁▁▁▁▁▁▁▁▁▁▁▁▁▁▁▁▁▁▁</td></tr></table><br/></div><div class=\"wandb-col\"><h3>Run summary:</h3><br/><table class=\"wandb\"><tr><td>Test Accuracy</td><td>0.511</td></tr><tr><td>Test F1</td><td>0.67637</td></tr><tr><td>Test Loss</td><td>0.69344</td></tr><tr><td>Test Sensitivity</td><td>1.0</td></tr><tr><td>Test Specificity</td><td>0.0</td></tr><tr><td>Train Accuracy</td><td>0.52643</td></tr><tr><td>Train F1</td><td>0.68975</td></tr><tr><td>Train Loss</td><td>0.69156</td></tr><tr><td>Train Sensitivity</td><td>1.0</td></tr><tr><td>Train Specificity</td><td>0.0</td></tr></table><br/></div></div>"
      ],
      "text/plain": [
       "<IPython.core.display.HTML object>"
      ]
     },
     "metadata": {},
     "output_type": "display_data"
    },
    {
     "data": {
      "text/html": [
       " View run <strong style=\"color:#cdcd00\">avid-sweep-71</strong> at: <a href='https://wandb.ai/dylan-home/pnca-sweep-1/runs/kxx2o57f' target=\"_blank\">https://wandb.ai/dylan-home/pnca-sweep-1/runs/kxx2o57f</a><br/>Synced 5 W&B file(s), 0 media file(s), 0 artifact file(s) and 0 other file(s)"
      ],
      "text/plain": [
       "<IPython.core.display.HTML object>"
      ]
     },
     "metadata": {},
     "output_type": "display_data"
    },
    {
     "data": {
      "text/html": [
       "Find logs at: <code>./wandb/run-20250116_063734-kxx2o57f/logs</code>"
      ],
      "text/plain": [
       "<IPython.core.display.HTML object>"
      ]
     },
     "metadata": {},
     "output_type": "display_data"
    },
    {
     "name": "stderr",
     "output_type": "stream",
     "text": [
      "\u001b[34m\u001b[1mwandb\u001b[0m: Agent Starting Run: ri5hftsj with config:\n",
      "\u001b[34m\u001b[1mwandb\u001b[0m: \tcutoff_distance: 5.737960559573077\n",
      "\u001b[34m\u001b[1mwandb\u001b[0m: \tdropout: 0.8\n",
      "\u001b[34m\u001b[1mwandb\u001b[0m: \thidden_channels: 192\n",
      "\u001b[34m\u001b[1mwandb\u001b[0m: \tlearning_rate: 0.0008639883674136798\n",
      "\u001b[34m\u001b[1mwandb\u001b[0m: \tweight_decay: 0.0015306549740588709\n",
      "Failed to detect the name of this notebook, you can set it manually with the WANDB_NOTEBOOK_NAME environment variable to enable code saving.\n",
      "/usr/lib/python3/dist-packages/requests/__init__.py:87: RequestsDependencyWarning: urllib3 (2.2.3) or chardet (4.0.0) doesn't match a supported version!\n",
      "  warnings.warn(\"urllib3 ({}) or chardet ({}) doesn't match a supported \"\n"
     ]
    },
    {
     "data": {
      "text/html": [
       "wandb version 0.19.3 is available!  To upgrade, please run:\n",
       " $ pip install wandb --upgrade"
      ],
      "text/plain": [
       "<IPython.core.display.HTML object>"
      ]
     },
     "metadata": {},
     "output_type": "display_data"
    },
    {
     "data": {
      "text/html": [
       "Tracking run with wandb version 0.16.4"
      ],
      "text/plain": [
       "<IPython.core.display.HTML object>"
      ]
     },
     "metadata": {},
     "output_type": "display_data"
    },
    {
     "data": {
      "text/html": [
       "Run data is saved locally in <code>/mnt/alphafold-volume-1/dylan2/repos/tb-pnca-gnn/dd_pnca/wandb/run-20250116_063932-ri5hftsj</code>"
      ],
      "text/plain": [
       "<IPython.core.display.HTML object>"
      ]
     },
     "metadata": {},
     "output_type": "display_data"
    },
    {
     "data": {
      "text/html": [
       "Syncing run <strong><a href='https://wandb.ai/dylan-home/pnca-sweep-1/runs/ri5hftsj' target=\"_blank\">lemon-sweep-72</a></strong> to <a href='https://wandb.ai/dylan-home/pnca-sweep-1' target=\"_blank\">Weights & Biases</a> (<a href='https://wandb.me/run' target=\"_blank\">docs</a>)<br/>Sweep page: <a href='https://wandb.ai/dylan-home/pnca-sweep-1/sweeps/tr8mwg42' target=\"_blank\">https://wandb.ai/dylan-home/pnca-sweep-1/sweeps/tr8mwg42</a>"
      ],
      "text/plain": [
       "<IPython.core.display.HTML object>"
      ]
     },
     "metadata": {},
     "output_type": "display_data"
    },
    {
     "data": {
      "text/html": [
       " View project at <a href='https://wandb.ai/dylan-home/pnca-sweep-1' target=\"_blank\">https://wandb.ai/dylan-home/pnca-sweep-1</a>"
      ],
      "text/plain": [
       "<IPython.core.display.HTML object>"
      ]
     },
     "metadata": {},
     "output_type": "display_data"
    },
    {
     "data": {
      "text/html": [
       " View sweep at <a href='https://wandb.ai/dylan-home/pnca-sweep-1/sweeps/tr8mwg42' target=\"_blank\">https://wandb.ai/dylan-home/pnca-sweep-1/sweeps/tr8mwg42</a>"
      ],
      "text/plain": [
       "<IPython.core.display.HTML object>"
      ]
     },
     "metadata": {},
     "output_type": "display_data"
    },
    {
     "data": {
      "text/html": [
       " View run at <a href='https://wandb.ai/dylan-home/pnca-sweep-1/runs/ri5hftsj' target=\"_blank\">https://wandb.ai/dylan-home/pnca-sweep-1/runs/ri5hftsj</a>"
      ],
      "text/plain": [
       "<IPython.core.display.HTML object>"
      ]
     },
     "metadata": {},
     "output_type": "display_data"
    },
    {
     "name": "stdout",
     "output_type": "stream",
     "text": [
      "Using CUDA\n",
      "Early stopping enabled. Patience: 20. Min Delta: 0.\n",
      "Epoch: 010, Train Acc: 0.5264, Test Acc: 0.5110, Train Loss: 0.6914, Test Loss: 0.6924\n",
      "Epoch: 020, Train Acc: 0.5264, Test Acc: 0.5110, Train Loss: 0.6914, Test Loss: 0.6924\n",
      "20 epochs passed without 0 test loss improvement. \n",
      "Early stopping triggered.\n"
     ]
    },
    {
     "data": {
      "text/html": [
       "<style>\n",
       "    table.wandb td:nth-child(1) { padding: 0 10px; text-align: left ; width: auto;} td:nth-child(2) {text-align: left ; width: 100%}\n",
       "    .wandb-row { display: flex; flex-direction: row; flex-wrap: wrap; justify-content: flex-start; width: 100% }\n",
       "    .wandb-col { display: flex; flex-direction: column; flex-basis: 100%; flex: 1; padding: 10px; }\n",
       "    </style>\n",
       "<div class=\"wandb-row\"><div class=\"wandb-col\"><h3>Run history:</h3><br/><table class=\"wandb\"><tr><td>Test Accuracy</td><td>█▁████████████████████</td></tr><tr><td>Test F1</td><td>█▁████████████████████</td></tr><tr><td>Test Loss</td><td>█▁▁▁▁▁▁▁▁▁▁▁▁▁▁▁▁▁▁▁▁▁</td></tr><tr><td>Test Sensitivity</td><td>█▁████████████████████</td></tr><tr><td>Test Specificity</td><td>▁▁▁▁▁▁▁▁▁▁▁▁▁▁▁▁▁▁▁▁▁▁</td></tr><tr><td>Train Accuracy</td><td>█▁████████████████████</td></tr><tr><td>Train F1</td><td>█▁████████████████████</td></tr><tr><td>Train Loss</td><td>█▂▁▁▁▁▁▁▁▁▁▁▁▁▁▁▁▁▁▁▁▁</td></tr><tr><td>Train Sensitivity</td><td>█▁████████████████████</td></tr><tr><td>Train Specificity</td><td>▁█▁▁▁▁▁▁▁▁▁▁▁▁▁▁▁▁▁▁▁▁</td></tr></table><br/></div><div class=\"wandb-col\"><h3>Run summary:</h3><br/><table class=\"wandb\"><tr><td>Test Accuracy</td><td>0.511</td></tr><tr><td>Test F1</td><td>0.67637</td></tr><tr><td>Test Loss</td><td>0.69241</td></tr><tr><td>Test Sensitivity</td><td>1.0</td></tr><tr><td>Test Specificity</td><td>0.0</td></tr><tr><td>Train Accuracy</td><td>0.52643</td></tr><tr><td>Train F1</td><td>0.68975</td></tr><tr><td>Train Loss</td><td>0.69082</td></tr><tr><td>Train Sensitivity</td><td>1.0</td></tr><tr><td>Train Specificity</td><td>0.0</td></tr></table><br/></div></div>"
      ],
      "text/plain": [
       "<IPython.core.display.HTML object>"
      ]
     },
     "metadata": {},
     "output_type": "display_data"
    },
    {
     "data": {
      "text/html": [
       " View run <strong style=\"color:#cdcd00\">lemon-sweep-72</strong> at: <a href='https://wandb.ai/dylan-home/pnca-sweep-1/runs/ri5hftsj' target=\"_blank\">https://wandb.ai/dylan-home/pnca-sweep-1/runs/ri5hftsj</a><br/>Synced 5 W&B file(s), 0 media file(s), 0 artifact file(s) and 0 other file(s)"
      ],
      "text/plain": [
       "<IPython.core.display.HTML object>"
      ]
     },
     "metadata": {},
     "output_type": "display_data"
    },
    {
     "data": {
      "text/html": [
       "Find logs at: <code>./wandb/run-20250116_063932-ri5hftsj/logs</code>"
      ],
      "text/plain": [
       "<IPython.core.display.HTML object>"
      ]
     },
     "metadata": {},
     "output_type": "display_data"
    },
    {
     "name": "stderr",
     "output_type": "stream",
     "text": [
      "\u001b[34m\u001b[1mwandb\u001b[0m: Sweep Agent: Waiting for job.\n",
      "\u001b[34m\u001b[1mwandb\u001b[0m: Job received.\n",
      "\u001b[34m\u001b[1mwandb\u001b[0m: Agent Starting Run: nmeggon5 with config:\n",
      "\u001b[34m\u001b[1mwandb\u001b[0m: \tcutoff_distance: 7.624713993080012\n",
      "\u001b[34m\u001b[1mwandb\u001b[0m: \tdropout: 0.4\n",
      "\u001b[34m\u001b[1mwandb\u001b[0m: \thidden_channels: 192\n",
      "\u001b[34m\u001b[1mwandb\u001b[0m: \tlearning_rate: 0.007786146228010791\n",
      "\u001b[34m\u001b[1mwandb\u001b[0m: \tweight_decay: 8.762775320278861e-05\n",
      "Failed to detect the name of this notebook, you can set it manually with the WANDB_NOTEBOOK_NAME environment variable to enable code saving.\n",
      "/usr/lib/python3/dist-packages/requests/__init__.py:87: RequestsDependencyWarning: urllib3 (2.2.3) or chardet (4.0.0) doesn't match a supported version!\n",
      "  warnings.warn(\"urllib3 ({}) or chardet ({}) doesn't match a supported \"\n"
     ]
    },
    {
     "data": {
      "text/html": [
       "wandb version 0.19.3 is available!  To upgrade, please run:\n",
       " $ pip install wandb --upgrade"
      ],
      "text/plain": [
       "<IPython.core.display.HTML object>"
      ]
     },
     "metadata": {},
     "output_type": "display_data"
    },
    {
     "data": {
      "text/html": [
       "Tracking run with wandb version 0.16.4"
      ],
      "text/plain": [
       "<IPython.core.display.HTML object>"
      ]
     },
     "metadata": {},
     "output_type": "display_data"
    },
    {
     "data": {
      "text/html": [
       "Run data is saved locally in <code>/mnt/alphafold-volume-1/dylan2/repos/tb-pnca-gnn/dd_pnca/wandb/run-20250116_064032-nmeggon5</code>"
      ],
      "text/plain": [
       "<IPython.core.display.HTML object>"
      ]
     },
     "metadata": {},
     "output_type": "display_data"
    },
    {
     "data": {
      "text/html": [
       "Syncing run <strong><a href='https://wandb.ai/dylan-home/pnca-sweep-1/runs/nmeggon5' target=\"_blank\">azure-sweep-73</a></strong> to <a href='https://wandb.ai/dylan-home/pnca-sweep-1' target=\"_blank\">Weights & Biases</a> (<a href='https://wandb.me/run' target=\"_blank\">docs</a>)<br/>Sweep page: <a href='https://wandb.ai/dylan-home/pnca-sweep-1/sweeps/tr8mwg42' target=\"_blank\">https://wandb.ai/dylan-home/pnca-sweep-1/sweeps/tr8mwg42</a>"
      ],
      "text/plain": [
       "<IPython.core.display.HTML object>"
      ]
     },
     "metadata": {},
     "output_type": "display_data"
    },
    {
     "data": {
      "text/html": [
       " View project at <a href='https://wandb.ai/dylan-home/pnca-sweep-1' target=\"_blank\">https://wandb.ai/dylan-home/pnca-sweep-1</a>"
      ],
      "text/plain": [
       "<IPython.core.display.HTML object>"
      ]
     },
     "metadata": {},
     "output_type": "display_data"
    },
    {
     "data": {
      "text/html": [
       " View sweep at <a href='https://wandb.ai/dylan-home/pnca-sweep-1/sweeps/tr8mwg42' target=\"_blank\">https://wandb.ai/dylan-home/pnca-sweep-1/sweeps/tr8mwg42</a>"
      ],
      "text/plain": [
       "<IPython.core.display.HTML object>"
      ]
     },
     "metadata": {},
     "output_type": "display_data"
    },
    {
     "data": {
      "text/html": [
       " View run at <a href='https://wandb.ai/dylan-home/pnca-sweep-1/runs/nmeggon5' target=\"_blank\">https://wandb.ai/dylan-home/pnca-sweep-1/runs/nmeggon5</a>"
      ],
      "text/plain": [
       "<IPython.core.display.HTML object>"
      ]
     },
     "metadata": {},
     "output_type": "display_data"
    },
    {
     "name": "stdout",
     "output_type": "stream",
     "text": [
      "Using CUDA\n",
      "Early stopping enabled. Patience: 20. Min Delta: 0.\n",
      "Epoch: 010, Train Acc: 0.5264, Test Acc: 0.5110, Train Loss: 0.6930, Test Loss: 0.6951\n",
      "Epoch: 020, Train Acc: 0.5264, Test Acc: 0.5110, Train Loss: 0.6918, Test Loss: 0.6930\n",
      "20 epochs passed without 0 test loss improvement. \n",
      "Early stopping triggered.\n"
     ]
    },
    {
     "data": {
      "text/html": [
       "<style>\n",
       "    table.wandb td:nth-child(1) { padding: 0 10px; text-align: left ; width: auto;} td:nth-child(2) {text-align: left ; width: 100%}\n",
       "    .wandb-row { display: flex; flex-direction: row; flex-wrap: wrap; justify-content: flex-start; width: 100% }\n",
       "    .wandb-col { display: flex; flex-direction: column; flex-basis: 100%; flex: 1; padding: 10px; }\n",
       "    </style>\n",
       "<div class=\"wandb-row\"><div class=\"wandb-col\"><h3>Run history:</h3><br/><table class=\"wandb\"><tr><td>Test Accuracy</td><td>███████████████▁██▁███▁█▁</td></tr><tr><td>Test F1</td><td>███████████████▁██▁███▁█▁</td></tr><tr><td>Test Loss</td><td>▂▂▂▁▁▁▆▁▁▇▁▁▁▂▂▂▂█▃▁▂▂▂▁▂</td></tr><tr><td>Test Sensitivity</td><td>███████████████▁██▁███▁█▁</td></tr><tr><td>Test Specificity</td><td>▁▁▁▁▁▁▁▁▁▁▁▁▁▁▁█▁▁█▁▁▁█▁█</td></tr><tr><td>Train Accuracy</td><td>███████████████▁██▁███▁█▁</td></tr><tr><td>Train F1</td><td>███████████████▁██▁███▁█▁</td></tr><tr><td>Train Loss</td><td>▁▁▁▂▃▂▂▂▂▅▁▄▁▁▂▆▁▄█▁▁▁▆▃▆</td></tr><tr><td>Train Sensitivity</td><td>███████████████▁██▁███▁█▁</td></tr><tr><td>Train Specificity</td><td>▁▁▁▁▁▁▁▁▁▁▁▁▁▁▁█▁▁█▁▁▁█▁█</td></tr></table><br/></div><div class=\"wandb-col\"><h3>Run summary:</h3><br/><table class=\"wandb\"><tr><td>Test Accuracy</td><td>0.489</td></tr><tr><td>Test F1</td><td>0.0</td></tr><tr><td>Test Loss</td><td>0.69339</td></tr><tr><td>Test Sensitivity</td><td>0.0</td></tr><tr><td>Test Specificity</td><td>1.0</td></tr><tr><td>Train Accuracy</td><td>0.47357</td></tr><tr><td>Train F1</td><td>0.0</td></tr><tr><td>Train Loss</td><td>0.69364</td></tr><tr><td>Train Sensitivity</td><td>0.0</td></tr><tr><td>Train Specificity</td><td>1.0</td></tr></table><br/></div></div>"
      ],
      "text/plain": [
       "<IPython.core.display.HTML object>"
      ]
     },
     "metadata": {},
     "output_type": "display_data"
    },
    {
     "data": {
      "text/html": [
       " View run <strong style=\"color:#cdcd00\">azure-sweep-73</strong> at: <a href='https://wandb.ai/dylan-home/pnca-sweep-1/runs/nmeggon5' target=\"_blank\">https://wandb.ai/dylan-home/pnca-sweep-1/runs/nmeggon5</a><br/>Synced 5 W&B file(s), 0 media file(s), 0 artifact file(s) and 0 other file(s)"
      ],
      "text/plain": [
       "<IPython.core.display.HTML object>"
      ]
     },
     "metadata": {},
     "output_type": "display_data"
    },
    {
     "data": {
      "text/html": [
       "Find logs at: <code>./wandb/run-20250116_064032-nmeggon5/logs</code>"
      ],
      "text/plain": [
       "<IPython.core.display.HTML object>"
      ]
     },
     "metadata": {},
     "output_type": "display_data"
    },
    {
     "name": "stderr",
     "output_type": "stream",
     "text": [
      "\u001b[34m\u001b[1mwandb\u001b[0m: Agent Starting Run: gfosg8kf with config:\n",
      "\u001b[34m\u001b[1mwandb\u001b[0m: \tcutoff_distance: 6.367980007504394\n",
      "\u001b[34m\u001b[1mwandb\u001b[0m: \tdropout: 0.8\n",
      "\u001b[34m\u001b[1mwandb\u001b[0m: \thidden_channels: 384\n",
      "\u001b[34m\u001b[1mwandb\u001b[0m: \tlearning_rate: 0.00077637730767049\n",
      "\u001b[34m\u001b[1mwandb\u001b[0m: \tweight_decay: 2.650199866597049e-06\n",
      "Failed to detect the name of this notebook, you can set it manually with the WANDB_NOTEBOOK_NAME environment variable to enable code saving.\n",
      "/usr/lib/python3/dist-packages/requests/__init__.py:87: RequestsDependencyWarning: urllib3 (2.2.3) or chardet (4.0.0) doesn't match a supported version!\n",
      "  warnings.warn(\"urllib3 ({}) or chardet ({}) doesn't match a supported \"\n"
     ]
    },
    {
     "data": {
      "text/html": [
       "wandb version 0.19.3 is available!  To upgrade, please run:\n",
       " $ pip install wandb --upgrade"
      ],
      "text/plain": [
       "<IPython.core.display.HTML object>"
      ]
     },
     "metadata": {},
     "output_type": "display_data"
    },
    {
     "data": {
      "text/html": [
       "Tracking run with wandb version 0.16.4"
      ],
      "text/plain": [
       "<IPython.core.display.HTML object>"
      ]
     },
     "metadata": {},
     "output_type": "display_data"
    },
    {
     "data": {
      "text/html": [
       "Run data is saved locally in <code>/mnt/alphafold-volume-1/dylan2/repos/tb-pnca-gnn/dd_pnca/wandb/run-20250116_064131-gfosg8kf</code>"
      ],
      "text/plain": [
       "<IPython.core.display.HTML object>"
      ]
     },
     "metadata": {},
     "output_type": "display_data"
    },
    {
     "data": {
      "text/html": [
       "Syncing run <strong><a href='https://wandb.ai/dylan-home/pnca-sweep-1/runs/gfosg8kf' target=\"_blank\">swift-sweep-74</a></strong> to <a href='https://wandb.ai/dylan-home/pnca-sweep-1' target=\"_blank\">Weights & Biases</a> (<a href='https://wandb.me/run' target=\"_blank\">docs</a>)<br/>Sweep page: <a href='https://wandb.ai/dylan-home/pnca-sweep-1/sweeps/tr8mwg42' target=\"_blank\">https://wandb.ai/dylan-home/pnca-sweep-1/sweeps/tr8mwg42</a>"
      ],
      "text/plain": [
       "<IPython.core.display.HTML object>"
      ]
     },
     "metadata": {},
     "output_type": "display_data"
    },
    {
     "data": {
      "text/html": [
       " View project at <a href='https://wandb.ai/dylan-home/pnca-sweep-1' target=\"_blank\">https://wandb.ai/dylan-home/pnca-sweep-1</a>"
      ],
      "text/plain": [
       "<IPython.core.display.HTML object>"
      ]
     },
     "metadata": {},
     "output_type": "display_data"
    },
    {
     "data": {
      "text/html": [
       " View sweep at <a href='https://wandb.ai/dylan-home/pnca-sweep-1/sweeps/tr8mwg42' target=\"_blank\">https://wandb.ai/dylan-home/pnca-sweep-1/sweeps/tr8mwg42</a>"
      ],
      "text/plain": [
       "<IPython.core.display.HTML object>"
      ]
     },
     "metadata": {},
     "output_type": "display_data"
    },
    {
     "data": {
      "text/html": [
       " View run at <a href='https://wandb.ai/dylan-home/pnca-sweep-1/runs/gfosg8kf' target=\"_blank\">https://wandb.ai/dylan-home/pnca-sweep-1/runs/gfosg8kf</a>"
      ],
      "text/plain": [
       "<IPython.core.display.HTML object>"
      ]
     },
     "metadata": {},
     "output_type": "display_data"
    },
    {
     "name": "stdout",
     "output_type": "stream",
     "text": [
      "Using CUDA\n",
      "Early stopping enabled. Patience: 20. Min Delta: 0.\n",
      "Epoch: 010, Train Acc: 0.5264, Test Acc: 0.5110, Train Loss: 0.6917, Test Loss: 0.6931\n",
      "Epoch: 020, Train Acc: 0.5264, Test Acc: 0.5110, Train Loss: 0.6917, Test Loss: 0.6932\n",
      "20 epochs passed without 0 test loss improvement. \n",
      "Early stopping triggered.\n"
     ]
    },
    {
     "data": {
      "text/html": [
       "<style>\n",
       "    table.wandb td:nth-child(1) { padding: 0 10px; text-align: left ; width: auto;} td:nth-child(2) {text-align: left ; width: 100%}\n",
       "    .wandb-row { display: flex; flex-direction: row; flex-wrap: wrap; justify-content: flex-start; width: 100% }\n",
       "    .wandb-col { display: flex; flex-direction: column; flex-basis: 100%; flex: 1; padding: 10px; }\n",
       "    </style>\n",
       "<div class=\"wandb-row\"><div class=\"wandb-col\"><h3>Run history:</h3><br/><table class=\"wandb\"><tr><td>Test Accuracy</td><td>█▁████████████████████████</td></tr><tr><td>Test F1</td><td>█▁████████████████████████</td></tr><tr><td>Test Loss</td><td>▄█▂▁▆▁▃▃▄▄▄▃▃▃▅▄▄▄▄▄▄▅▄▄▄▄</td></tr><tr><td>Test Sensitivity</td><td>█▁████████████████████████</td></tr><tr><td>Test Specificity</td><td>▁█▁▁▁▁▁▁▁▁▁▁▁▁▁▁▁▁▁▁▁▁▁▁▁▁</td></tr><tr><td>Train Accuracy</td><td>█▁████████████████████████</td></tr><tr><td>Train F1</td><td>█▁████████████████████████</td></tr><tr><td>Train Loss</td><td>▄█▄▂▁▂▂▁▁▁▁▁▁▁▁▁▁▁▁▁▂▁▁▁▁▂</td></tr><tr><td>Train Sensitivity</td><td>█▁████████████████████████</td></tr><tr><td>Train Specificity</td><td>▁█▁▁▁▁▁▁▁▁▁▁▁▁▁▁▁▁▁▁▁▁▁▁▁▁</td></tr></table><br/></div><div class=\"wandb-col\"><h3>Run summary:</h3><br/><table class=\"wandb\"><tr><td>Test Accuracy</td><td>0.511</td></tr><tr><td>Test F1</td><td>0.67637</td></tr><tr><td>Test Loss</td><td>0.69318</td></tr><tr><td>Test Sensitivity</td><td>1.0</td></tr><tr><td>Test Specificity</td><td>0.0</td></tr><tr><td>Train Accuracy</td><td>0.52643</td></tr><tr><td>Train F1</td><td>0.68975</td></tr><tr><td>Train Loss</td><td>0.69177</td></tr><tr><td>Train Sensitivity</td><td>1.0</td></tr><tr><td>Train Specificity</td><td>0.0</td></tr></table><br/></div></div>"
      ],
      "text/plain": [
       "<IPython.core.display.HTML object>"
      ]
     },
     "metadata": {},
     "output_type": "display_data"
    },
    {
     "data": {
      "text/html": [
       " View run <strong style=\"color:#cdcd00\">swift-sweep-74</strong> at: <a href='https://wandb.ai/dylan-home/pnca-sweep-1/runs/gfosg8kf' target=\"_blank\">https://wandb.ai/dylan-home/pnca-sweep-1/runs/gfosg8kf</a><br/>Synced 5 W&B file(s), 0 media file(s), 0 artifact file(s) and 0 other file(s)"
      ],
      "text/plain": [
       "<IPython.core.display.HTML object>"
      ]
     },
     "metadata": {},
     "output_type": "display_data"
    },
    {
     "data": {
      "text/html": [
       "Find logs at: <code>./wandb/run-20250116_064131-gfosg8kf/logs</code>"
      ],
      "text/plain": [
       "<IPython.core.display.HTML object>"
      ]
     },
     "metadata": {},
     "output_type": "display_data"
    },
    {
     "name": "stderr",
     "output_type": "stream",
     "text": [
      "\u001b[34m\u001b[1mwandb\u001b[0m: Agent Starting Run: r3bmarr7 with config:\n",
      "\u001b[34m\u001b[1mwandb\u001b[0m: \tcutoff_distance: 5.618652582697719\n",
      "\u001b[34m\u001b[1mwandb\u001b[0m: \tdropout: 0.6\n",
      "\u001b[34m\u001b[1mwandb\u001b[0m: \thidden_channels: 128\n",
      "\u001b[34m\u001b[1mwandb\u001b[0m: \tlearning_rate: 0.0022384815713240407\n",
      "\u001b[34m\u001b[1mwandb\u001b[0m: \tweight_decay: 2.2870447663917924e-06\n",
      "Failed to detect the name of this notebook, you can set it manually with the WANDB_NOTEBOOK_NAME environment variable to enable code saving.\n",
      "/usr/lib/python3/dist-packages/requests/__init__.py:87: RequestsDependencyWarning: urllib3 (2.2.3) or chardet (4.0.0) doesn't match a supported version!\n",
      "  warnings.warn(\"urllib3 ({}) or chardet ({}) doesn't match a supported \"\n"
     ]
    },
    {
     "data": {
      "text/html": [
       "wandb version 0.19.3 is available!  To upgrade, please run:\n",
       " $ pip install wandb --upgrade"
      ],
      "text/plain": [
       "<IPython.core.display.HTML object>"
      ]
     },
     "metadata": {},
     "output_type": "display_data"
    },
    {
     "data": {
      "text/html": [
       "Tracking run with wandb version 0.16.4"
      ],
      "text/plain": [
       "<IPython.core.display.HTML object>"
      ]
     },
     "metadata": {},
     "output_type": "display_data"
    },
    {
     "data": {
      "text/html": [
       "Run data is saved locally in <code>/mnt/alphafold-volume-1/dylan2/repos/tb-pnca-gnn/dd_pnca/wandb/run-20250116_064247-r3bmarr7</code>"
      ],
      "text/plain": [
       "<IPython.core.display.HTML object>"
      ]
     },
     "metadata": {},
     "output_type": "display_data"
    },
    {
     "data": {
      "text/html": [
       "Syncing run <strong><a href='https://wandb.ai/dylan-home/pnca-sweep-1/runs/r3bmarr7' target=\"_blank\">dark-sweep-75</a></strong> to <a href='https://wandb.ai/dylan-home/pnca-sweep-1' target=\"_blank\">Weights & Biases</a> (<a href='https://wandb.me/run' target=\"_blank\">docs</a>)<br/>Sweep page: <a href='https://wandb.ai/dylan-home/pnca-sweep-1/sweeps/tr8mwg42' target=\"_blank\">https://wandb.ai/dylan-home/pnca-sweep-1/sweeps/tr8mwg42</a>"
      ],
      "text/plain": [
       "<IPython.core.display.HTML object>"
      ]
     },
     "metadata": {},
     "output_type": "display_data"
    },
    {
     "data": {
      "text/html": [
       " View project at <a href='https://wandb.ai/dylan-home/pnca-sweep-1' target=\"_blank\">https://wandb.ai/dylan-home/pnca-sweep-1</a>"
      ],
      "text/plain": [
       "<IPython.core.display.HTML object>"
      ]
     },
     "metadata": {},
     "output_type": "display_data"
    },
    {
     "data": {
      "text/html": [
       " View sweep at <a href='https://wandb.ai/dylan-home/pnca-sweep-1/sweeps/tr8mwg42' target=\"_blank\">https://wandb.ai/dylan-home/pnca-sweep-1/sweeps/tr8mwg42</a>"
      ],
      "text/plain": [
       "<IPython.core.display.HTML object>"
      ]
     },
     "metadata": {},
     "output_type": "display_data"
    },
    {
     "data": {
      "text/html": [
       " View run at <a href='https://wandb.ai/dylan-home/pnca-sweep-1/runs/r3bmarr7' target=\"_blank\">https://wandb.ai/dylan-home/pnca-sweep-1/runs/r3bmarr7</a>"
      ],
      "text/plain": [
       "<IPython.core.display.HTML object>"
      ]
     },
     "metadata": {},
     "output_type": "display_data"
    },
    {
     "name": "stdout",
     "output_type": "stream",
     "text": [
      "Using CUDA\n",
      "Early stopping enabled. Patience: 20. Min Delta: 0.\n",
      "Epoch: 010, Train Acc: 0.5264, Test Acc: 0.5110, Train Loss: 0.6917, Test Loss: 0.6933\n",
      "Epoch: 020, Train Acc: 0.5264, Test Acc: 0.5110, Train Loss: 0.6917, Test Loss: 0.6930\n",
      "20 epochs passed without 0 test loss improvement. \n",
      "Early stopping triggered.\n"
     ]
    },
    {
     "data": {
      "text/html": [
       "<style>\n",
       "    table.wandb td:nth-child(1) { padding: 0 10px; text-align: left ; width: auto;} td:nth-child(2) {text-align: left ; width: 100%}\n",
       "    .wandb-row { display: flex; flex-direction: row; flex-wrap: wrap; justify-content: flex-start; width: 100% }\n",
       "    .wandb-col { display: flex; flex-direction: column; flex-basis: 100%; flex: 1; padding: 10px; }\n",
       "    </style>\n",
       "<div class=\"wandb-row\"><div class=\"wandb-col\"><h3>Run history:</h3><br/><table class=\"wandb\"><tr><td>Test Accuracy</td><td>▁▁▁▁▁▁▁▁▁▁▁▁▁▁▁▁▁▁▁▁▁</td></tr><tr><td>Test F1</td><td>▁▁▁▁▁▁▁▁▁▁▁▁▁▁▁▁▁▁▁▁▁</td></tr><tr><td>Test Loss</td><td>▁▄▄▆▆▆▆█▅▇▄▄▇▄▄▅▆▅▄▃▆</td></tr><tr><td>Test Sensitivity</td><td>▁▁▁▁▁▁▁▁▁▁▁▁▁▁▁▁▁▁▁▁▁</td></tr><tr><td>Test Specificity</td><td>▁▁▁▁▁▁▁▁▁▁▁▁▁▁▁▁▁▁▁▁▁</td></tr><tr><td>Train Accuracy</td><td>▁▁▁▁▁▁▁▁▁▁▁▁▁▁▁▁▁▁▁▁▁</td></tr><tr><td>Train F1</td><td>▁▁▁▁▁▁▁▁▁▁▁▁▁▁▁▁▁▁▁▁▁</td></tr><tr><td>Train Loss</td><td>▆▇▇█▃▅▂▁▄▅▇█▆▃▄▂▁▃▅▅▄</td></tr><tr><td>Train Sensitivity</td><td>▁▁▁▁▁▁▁▁▁▁▁▁▁▁▁▁▁▁▁▁▁</td></tr><tr><td>Train Specificity</td><td>▁▁▁▁▁▁▁▁▁▁▁▁▁▁▁▁▁▁▁▁▁</td></tr></table><br/></div><div class=\"wandb-col\"><h3>Run summary:</h3><br/><table class=\"wandb\"><tr><td>Test Accuracy</td><td>0.511</td></tr><tr><td>Test F1</td><td>0.67637</td></tr><tr><td>Test Loss</td><td>0.69326</td></tr><tr><td>Test Sensitivity</td><td>1.0</td></tr><tr><td>Test Specificity</td><td>0.0</td></tr><tr><td>Train Accuracy</td><td>0.52643</td></tr><tr><td>Train F1</td><td>0.68975</td></tr><tr><td>Train Loss</td><td>0.69166</td></tr><tr><td>Train Sensitivity</td><td>1.0</td></tr><tr><td>Train Specificity</td><td>0.0</td></tr></table><br/></div></div>"
      ],
      "text/plain": [
       "<IPython.core.display.HTML object>"
      ]
     },
     "metadata": {},
     "output_type": "display_data"
    },
    {
     "data": {
      "text/html": [
       " View run <strong style=\"color:#cdcd00\">dark-sweep-75</strong> at: <a href='https://wandb.ai/dylan-home/pnca-sweep-1/runs/r3bmarr7' target=\"_blank\">https://wandb.ai/dylan-home/pnca-sweep-1/runs/r3bmarr7</a><br/>Synced 5 W&B file(s), 0 media file(s), 0 artifact file(s) and 0 other file(s)"
      ],
      "text/plain": [
       "<IPython.core.display.HTML object>"
      ]
     },
     "metadata": {},
     "output_type": "display_data"
    },
    {
     "data": {
      "text/html": [
       "Find logs at: <code>./wandb/run-20250116_064247-r3bmarr7/logs</code>"
      ],
      "text/plain": [
       "<IPython.core.display.HTML object>"
      ]
     },
     "metadata": {},
     "output_type": "display_data"
    },
    {
     "name": "stderr",
     "output_type": "stream",
     "text": [
      "\u001b[34m\u001b[1mwandb\u001b[0m: Agent Starting Run: hu59x5dv with config:\n",
      "\u001b[34m\u001b[1mwandb\u001b[0m: \tcutoff_distance: 6.065701715841087\n",
      "\u001b[34m\u001b[1mwandb\u001b[0m: \tdropout: 0.2\n",
      "\u001b[34m\u001b[1mwandb\u001b[0m: \thidden_channels: 320\n",
      "\u001b[34m\u001b[1mwandb\u001b[0m: \tlearning_rate: 0.003596749903853893\n",
      "\u001b[34m\u001b[1mwandb\u001b[0m: \tweight_decay: 5.704110757694902e-07\n",
      "Failed to detect the name of this notebook, you can set it manually with the WANDB_NOTEBOOK_NAME environment variable to enable code saving.\n",
      "/usr/lib/python3/dist-packages/requests/__init__.py:87: RequestsDependencyWarning: urllib3 (2.2.3) or chardet (4.0.0) doesn't match a supported version!\n",
      "  warnings.warn(\"urllib3 ({}) or chardet ({}) doesn't match a supported \"\n"
     ]
    },
    {
     "data": {
      "text/html": [
       "wandb version 0.19.3 is available!  To upgrade, please run:\n",
       " $ pip install wandb --upgrade"
      ],
      "text/plain": [
       "<IPython.core.display.HTML object>"
      ]
     },
     "metadata": {},
     "output_type": "display_data"
    },
    {
     "data": {
      "text/html": [
       "Tracking run with wandb version 0.16.4"
      ],
      "text/plain": [
       "<IPython.core.display.HTML object>"
      ]
     },
     "metadata": {},
     "output_type": "display_data"
    },
    {
     "data": {
      "text/html": [
       "Run data is saved locally in <code>/mnt/alphafold-volume-1/dylan2/repos/tb-pnca-gnn/dd_pnca/wandb/run-20250116_064339-hu59x5dv</code>"
      ],
      "text/plain": [
       "<IPython.core.display.HTML object>"
      ]
     },
     "metadata": {},
     "output_type": "display_data"
    },
    {
     "data": {
      "text/html": [
       "Syncing run <strong><a href='https://wandb.ai/dylan-home/pnca-sweep-1/runs/hu59x5dv' target=\"_blank\">eager-sweep-76</a></strong> to <a href='https://wandb.ai/dylan-home/pnca-sweep-1' target=\"_blank\">Weights & Biases</a> (<a href='https://wandb.me/run' target=\"_blank\">docs</a>)<br/>Sweep page: <a href='https://wandb.ai/dylan-home/pnca-sweep-1/sweeps/tr8mwg42' target=\"_blank\">https://wandb.ai/dylan-home/pnca-sweep-1/sweeps/tr8mwg42</a>"
      ],
      "text/plain": [
       "<IPython.core.display.HTML object>"
      ]
     },
     "metadata": {},
     "output_type": "display_data"
    },
    {
     "data": {
      "text/html": [
       " View project at <a href='https://wandb.ai/dylan-home/pnca-sweep-1' target=\"_blank\">https://wandb.ai/dylan-home/pnca-sweep-1</a>"
      ],
      "text/plain": [
       "<IPython.core.display.HTML object>"
      ]
     },
     "metadata": {},
     "output_type": "display_data"
    },
    {
     "data": {
      "text/html": [
       " View sweep at <a href='https://wandb.ai/dylan-home/pnca-sweep-1/sweeps/tr8mwg42' target=\"_blank\">https://wandb.ai/dylan-home/pnca-sweep-1/sweeps/tr8mwg42</a>"
      ],
      "text/plain": [
       "<IPython.core.display.HTML object>"
      ]
     },
     "metadata": {},
     "output_type": "display_data"
    },
    {
     "data": {
      "text/html": [
       " View run at <a href='https://wandb.ai/dylan-home/pnca-sweep-1/runs/hu59x5dv' target=\"_blank\">https://wandb.ai/dylan-home/pnca-sweep-1/runs/hu59x5dv</a>"
      ],
      "text/plain": [
       "<IPython.core.display.HTML object>"
      ]
     },
     "metadata": {},
     "output_type": "display_data"
    },
    {
     "name": "stdout",
     "output_type": "stream",
     "text": [
      "Using CUDA\n",
      "Early stopping enabled. Patience: 20. Min Delta: 0.\n",
      "Epoch: 010, Train Acc: 0.5264, Test Acc: 0.5110, Train Loss: 0.6920, Test Loss: 0.6938\n",
      "Epoch: 020, Train Acc: 0.5264, Test Acc: 0.5110, Train Loss: 0.6917, Test Loss: 0.6932\n",
      "20 epochs passed without 0 test loss improvement. \n",
      "Early stopping triggered.\n"
     ]
    },
    {
     "data": {
      "text/html": [
       "<style>\n",
       "    table.wandb td:nth-child(1) { padding: 0 10px; text-align: left ; width: auto;} td:nth-child(2) {text-align: left ; width: 100%}\n",
       "    .wandb-row { display: flex; flex-direction: row; flex-wrap: wrap; justify-content: flex-start; width: 100% }\n",
       "    .wandb-col { display: flex; flex-direction: column; flex-basis: 100%; flex: 1; padding: 10px; }\n",
       "    </style>\n",
       "<div class=\"wandb-row\"><div class=\"wandb-col\"><h3>Run history:</h3><br/><table class=\"wandb\"><tr><td>Test Accuracy</td><td>▁█████████████████████</td></tr><tr><td>Test F1</td><td>▁█████████████████████</td></tr><tr><td>Test Loss</td><td>▅▁▆▂▄▇▄▄▂█▃▃▃▃▅▃▁▅▆▃▄▂</td></tr><tr><td>Test Sensitivity</td><td>▁█████████████████████</td></tr><tr><td>Test Specificity</td><td>█▁▁▁▁▁▁▁▁▁▁▁▁▁▁▁▁▁▁▁▁▁</td></tr><tr><td>Train Accuracy</td><td>▁█████████████████████</td></tr><tr><td>Train F1</td><td>▁█████████████████████</td></tr><tr><td>Train Loss</td><td>█▂▂▂▂▃▃▂▃▃▃▂▂▂▃▂▂▁▂▂▂▂</td></tr><tr><td>Train Sensitivity</td><td>▁█████████████████████</td></tr><tr><td>Train Specificity</td><td>█▁▁▁▁▁▁▁▁▁▁▁▁▁▁▁▁▁▁▁▁▁</td></tr></table><br/></div><div class=\"wandb-col\"><h3>Run summary:</h3><br/><table class=\"wandb\"><tr><td>Test Accuracy</td><td>0.511</td></tr><tr><td>Test F1</td><td>0.67637</td></tr><tr><td>Test Loss</td><td>0.69314</td></tr><tr><td>Test Sensitivity</td><td>1.0</td></tr><tr><td>Test Specificity</td><td>0.0</td></tr><tr><td>Train Accuracy</td><td>0.52643</td></tr><tr><td>Train F1</td><td>0.68975</td></tr><tr><td>Train Loss</td><td>0.69159</td></tr><tr><td>Train Sensitivity</td><td>1.0</td></tr><tr><td>Train Specificity</td><td>0.0</td></tr></table><br/></div></div>"
      ],
      "text/plain": [
       "<IPython.core.display.HTML object>"
      ]
     },
     "metadata": {},
     "output_type": "display_data"
    },
    {
     "data": {
      "text/html": [
       " View run <strong style=\"color:#cdcd00\">eager-sweep-76</strong> at: <a href='https://wandb.ai/dylan-home/pnca-sweep-1/runs/hu59x5dv' target=\"_blank\">https://wandb.ai/dylan-home/pnca-sweep-1/runs/hu59x5dv</a><br/>Synced 5 W&B file(s), 0 media file(s), 0 artifact file(s) and 0 other file(s)"
      ],
      "text/plain": [
       "<IPython.core.display.HTML object>"
      ]
     },
     "metadata": {},
     "output_type": "display_data"
    },
    {
     "data": {
      "text/html": [
       "Find logs at: <code>./wandb/run-20250116_064339-hu59x5dv/logs</code>"
      ],
      "text/plain": [
       "<IPython.core.display.HTML object>"
      ]
     },
     "metadata": {},
     "output_type": "display_data"
    },
    {
     "name": "stderr",
     "output_type": "stream",
     "text": [
      "\u001b[34m\u001b[1mwandb\u001b[0m: Agent Starting Run: l6c1un7c with config:\n",
      "\u001b[34m\u001b[1mwandb\u001b[0m: \tcutoff_distance: 7.97095560866681\n",
      "\u001b[34m\u001b[1mwandb\u001b[0m: \tdropout: 0.2\n",
      "\u001b[34m\u001b[1mwandb\u001b[0m: \thidden_channels: 192\n",
      "\u001b[34m\u001b[1mwandb\u001b[0m: \tlearning_rate: 0.009676540801940315\n",
      "\u001b[34m\u001b[1mwandb\u001b[0m: \tweight_decay: 0.0008303985382170219\n",
      "Failed to detect the name of this notebook, you can set it manually with the WANDB_NOTEBOOK_NAME environment variable to enable code saving.\n",
      "/usr/lib/python3/dist-packages/requests/__init__.py:87: RequestsDependencyWarning: urllib3 (2.2.3) or chardet (4.0.0) doesn't match a supported version!\n",
      "  warnings.warn(\"urllib3 ({}) or chardet ({}) doesn't match a supported \"\n"
     ]
    },
    {
     "data": {
      "text/html": [
       "wandb version 0.19.3 is available!  To upgrade, please run:\n",
       " $ pip install wandb --upgrade"
      ],
      "text/plain": [
       "<IPython.core.display.HTML object>"
      ]
     },
     "metadata": {},
     "output_type": "display_data"
    },
    {
     "data": {
      "text/html": [
       "Tracking run with wandb version 0.16.4"
      ],
      "text/plain": [
       "<IPython.core.display.HTML object>"
      ]
     },
     "metadata": {},
     "output_type": "display_data"
    },
    {
     "data": {
      "text/html": [
       "Run data is saved locally in <code>/mnt/alphafold-volume-1/dylan2/repos/tb-pnca-gnn/dd_pnca/wandb/run-20250116_064440-l6c1un7c</code>"
      ],
      "text/plain": [
       "<IPython.core.display.HTML object>"
      ]
     },
     "metadata": {},
     "output_type": "display_data"
    },
    {
     "data": {
      "text/html": [
       "Syncing run <strong><a href='https://wandb.ai/dylan-home/pnca-sweep-1/runs/l6c1un7c' target=\"_blank\">tough-sweep-77</a></strong> to <a href='https://wandb.ai/dylan-home/pnca-sweep-1' target=\"_blank\">Weights & Biases</a> (<a href='https://wandb.me/run' target=\"_blank\">docs</a>)<br/>Sweep page: <a href='https://wandb.ai/dylan-home/pnca-sweep-1/sweeps/tr8mwg42' target=\"_blank\">https://wandb.ai/dylan-home/pnca-sweep-1/sweeps/tr8mwg42</a>"
      ],
      "text/plain": [
       "<IPython.core.display.HTML object>"
      ]
     },
     "metadata": {},
     "output_type": "display_data"
    },
    {
     "data": {
      "text/html": [
       " View project at <a href='https://wandb.ai/dylan-home/pnca-sweep-1' target=\"_blank\">https://wandb.ai/dylan-home/pnca-sweep-1</a>"
      ],
      "text/plain": [
       "<IPython.core.display.HTML object>"
      ]
     },
     "metadata": {},
     "output_type": "display_data"
    },
    {
     "data": {
      "text/html": [
       " View sweep at <a href='https://wandb.ai/dylan-home/pnca-sweep-1/sweeps/tr8mwg42' target=\"_blank\">https://wandb.ai/dylan-home/pnca-sweep-1/sweeps/tr8mwg42</a>"
      ],
      "text/plain": [
       "<IPython.core.display.HTML object>"
      ]
     },
     "metadata": {},
     "output_type": "display_data"
    },
    {
     "data": {
      "text/html": [
       " View run at <a href='https://wandb.ai/dylan-home/pnca-sweep-1/runs/l6c1un7c' target=\"_blank\">https://wandb.ai/dylan-home/pnca-sweep-1/runs/l6c1un7c</a>"
      ],
      "text/plain": [
       "<IPython.core.display.HTML object>"
      ]
     },
     "metadata": {},
     "output_type": "display_data"
    },
    {
     "name": "stdout",
     "output_type": "stream",
     "text": [
      "Using CUDA\n",
      "Early stopping enabled. Patience: 20. Min Delta: 0.\n",
      "Epoch: 010, Train Acc: 0.5264, Test Acc: 0.5110, Train Loss: 0.6949, Test Loss: 0.6977\n",
      "Epoch: 020, Train Acc: 0.5264, Test Acc: 0.5110, Train Loss: 0.6963, Test Loss: 0.7006\n",
      "Epoch: 030, Train Acc: 0.5264, Test Acc: 0.5110, Train Loss: 0.6919, Test Loss: 0.6936\n",
      "Epoch: 040, Train Acc: 0.5264, Test Acc: 0.5110, Train Loss: 0.6917, Test Loss: 0.6934\n",
      "Epoch: 050, Train Acc: 0.5264, Test Acc: 0.5110, Train Loss: 0.6918, Test Loss: 0.6934\n",
      "20 epochs passed without 0 test loss improvement. \n",
      "Early stopping triggered.\n"
     ]
    },
    {
     "data": {
      "text/html": [
       "<style>\n",
       "    table.wandb td:nth-child(1) { padding: 0 10px; text-align: left ; width: auto;} td:nth-child(2) {text-align: left ; width: 100%}\n",
       "    .wandb-row { display: flex; flex-direction: row; flex-wrap: wrap; justify-content: flex-start; width: 100% }\n",
       "    .wandb-col { display: flex; flex-direction: column; flex-basis: 100%; flex: 1; padding: 10px; }\n",
       "    </style>\n",
       "<div class=\"wandb-row\"><div class=\"wandb-col\"><h3>Run history:</h3><br/><table class=\"wandb\"><tr><td>Test Accuracy</td><td>█████▁█▁███████████████████████▁████████</td></tr><tr><td>Test F1</td><td>█████▁█▁███████████████████████▁████████</td></tr><tr><td>Test Loss</td><td>▃▂▃▁▁▁▁▂▁▄▁▅▄█▂▁▂▅▃▁▂▁▁▂▂▃▁█▁▁▁▃▁▁▄▂▂▁▃▁</td></tr><tr><td>Test Sensitivity</td><td>█████▁█▁███████████████████████▁████████</td></tr><tr><td>Test Specificity</td><td>▁▁▁▁▁█▁█▁▁▁▁▁▁▁▁▁▁▁▁▁▁▁▁▁▁▁▁▁▁▁█▁▁▁▁▁▁▁▁</td></tr><tr><td>Train Accuracy</td><td>█████▁█▁███████████████████████▁████████</td></tr><tr><td>Train F1</td><td>█████▁█▁███████████████████████▁████████</td></tr><tr><td>Train Loss</td><td>▂▁▂▁▁▃▂▄▂▃▁▄▄▇▁▂▁▄▂▂▁▂▁▂▂▁▂█▂▁▁█▂▁▃▁▂▁▂▂</td></tr><tr><td>Train Sensitivity</td><td>█████▁█▁███████████████████████▁████████</td></tr><tr><td>Train Specificity</td><td>▁▁▁▁▁█▁█▁▁▁▁▁▁▁▁▁▁▁▁▁▁▁▁▁▁▁▁▁▁▁█▁▁▁▁▁▁▁▁</td></tr></table><br/></div><div class=\"wandb-col\"><h3>Run summary:</h3><br/><table class=\"wandb\"><tr><td>Test Accuracy</td><td>0.511</td></tr><tr><td>Test F1</td><td>0.67637</td></tr><tr><td>Test Loss</td><td>0.69293</td></tr><tr><td>Test Sensitivity</td><td>1.0</td></tr><tr><td>Test Specificity</td><td>0.0</td></tr><tr><td>Train Accuracy</td><td>0.52643</td></tr><tr><td>Train F1</td><td>0.68975</td></tr><tr><td>Train Loss</td><td>0.6926</td></tr><tr><td>Train Sensitivity</td><td>1.0</td></tr><tr><td>Train Specificity</td><td>0.0</td></tr></table><br/></div></div>"
      ],
      "text/plain": [
       "<IPython.core.display.HTML object>"
      ]
     },
     "metadata": {},
     "output_type": "display_data"
    },
    {
     "data": {
      "text/html": [
       " View run <strong style=\"color:#cdcd00\">tough-sweep-77</strong> at: <a href='https://wandb.ai/dylan-home/pnca-sweep-1/runs/l6c1un7c' target=\"_blank\">https://wandb.ai/dylan-home/pnca-sweep-1/runs/l6c1un7c</a><br/>Synced 5 W&B file(s), 0 media file(s), 0 artifact file(s) and 0 other file(s)"
      ],
      "text/plain": [
       "<IPython.core.display.HTML object>"
      ]
     },
     "metadata": {},
     "output_type": "display_data"
    },
    {
     "data": {
      "text/html": [
       "Find logs at: <code>./wandb/run-20250116_064440-l6c1un7c/logs</code>"
      ],
      "text/plain": [
       "<IPython.core.display.HTML object>"
      ]
     },
     "metadata": {},
     "output_type": "display_data"
    },
    {
     "name": "stderr",
     "output_type": "stream",
     "text": [
      "\u001b[34m\u001b[1mwandb\u001b[0m: Agent Starting Run: ybwxf7z4 with config:\n",
      "\u001b[34m\u001b[1mwandb\u001b[0m: \tcutoff_distance: 7.139745440299309\n",
      "\u001b[34m\u001b[1mwandb\u001b[0m: \tdropout: 0.6\n",
      "\u001b[34m\u001b[1mwandb\u001b[0m: \thidden_channels: 64\n",
      "\u001b[34m\u001b[1mwandb\u001b[0m: \tlearning_rate: 5.732460911319209e-05\n",
      "\u001b[34m\u001b[1mwandb\u001b[0m: \tweight_decay: 0.005793576183085622\n",
      "Failed to detect the name of this notebook, you can set it manually with the WANDB_NOTEBOOK_NAME environment variable to enable code saving.\n",
      "/usr/lib/python3/dist-packages/requests/__init__.py:87: RequestsDependencyWarning: urllib3 (2.2.3) or chardet (4.0.0) doesn't match a supported version!\n",
      "  warnings.warn(\"urllib3 ({}) or chardet ({}) doesn't match a supported \"\n"
     ]
    },
    {
     "data": {
      "text/html": [
       "wandb version 0.19.3 is available!  To upgrade, please run:\n",
       " $ pip install wandb --upgrade"
      ],
      "text/plain": [
       "<IPython.core.display.HTML object>"
      ]
     },
     "metadata": {},
     "output_type": "display_data"
    },
    {
     "data": {
      "text/html": [
       "Tracking run with wandb version 0.16.4"
      ],
      "text/plain": [
       "<IPython.core.display.HTML object>"
      ]
     },
     "metadata": {},
     "output_type": "display_data"
    },
    {
     "data": {
      "text/html": [
       "Run data is saved locally in <code>/mnt/alphafold-volume-1/dylan2/repos/tb-pnca-gnn/dd_pnca/wandb/run-20250116_064643-ybwxf7z4</code>"
      ],
      "text/plain": [
       "<IPython.core.display.HTML object>"
      ]
     },
     "metadata": {},
     "output_type": "display_data"
    },
    {
     "data": {
      "text/html": [
       "Syncing run <strong><a href='https://wandb.ai/dylan-home/pnca-sweep-1/runs/ybwxf7z4' target=\"_blank\">fine-sweep-78</a></strong> to <a href='https://wandb.ai/dylan-home/pnca-sweep-1' target=\"_blank\">Weights & Biases</a> (<a href='https://wandb.me/run' target=\"_blank\">docs</a>)<br/>Sweep page: <a href='https://wandb.ai/dylan-home/pnca-sweep-1/sweeps/tr8mwg42' target=\"_blank\">https://wandb.ai/dylan-home/pnca-sweep-1/sweeps/tr8mwg42</a>"
      ],
      "text/plain": [
       "<IPython.core.display.HTML object>"
      ]
     },
     "metadata": {},
     "output_type": "display_data"
    },
    {
     "data": {
      "text/html": [
       " View project at <a href='https://wandb.ai/dylan-home/pnca-sweep-1' target=\"_blank\">https://wandb.ai/dylan-home/pnca-sweep-1</a>"
      ],
      "text/plain": [
       "<IPython.core.display.HTML object>"
      ]
     },
     "metadata": {},
     "output_type": "display_data"
    },
    {
     "data": {
      "text/html": [
       " View sweep at <a href='https://wandb.ai/dylan-home/pnca-sweep-1/sweeps/tr8mwg42' target=\"_blank\">https://wandb.ai/dylan-home/pnca-sweep-1/sweeps/tr8mwg42</a>"
      ],
      "text/plain": [
       "<IPython.core.display.HTML object>"
      ]
     },
     "metadata": {},
     "output_type": "display_data"
    },
    {
     "data": {
      "text/html": [
       " View run at <a href='https://wandb.ai/dylan-home/pnca-sweep-1/runs/ybwxf7z4' target=\"_blank\">https://wandb.ai/dylan-home/pnca-sweep-1/runs/ybwxf7z4</a>"
      ],
      "text/plain": [
       "<IPython.core.display.HTML object>"
      ]
     },
     "metadata": {},
     "output_type": "display_data"
    },
    {
     "name": "stdout",
     "output_type": "stream",
     "text": [
      "Using CUDA\n",
      "Early stopping enabled. Patience: 20. Min Delta: 0.\n",
      "Epoch: 010, Train Acc: 0.5263, Test Acc: 0.5110, Train Loss: 0.6933, Test Loss: 0.6939\n",
      "Epoch: 020, Train Acc: 0.3990, Test Acc: 0.4190, Train Loss: 0.6932, Test Loss: 0.6914\n",
      "Epoch: 030, Train Acc: 0.5153, Test Acc: 0.5063, Train Loss: 0.6914, Test Loss: 0.6907\n",
      "Epoch: 040, Train Acc: 0.5019, Test Acc: 0.4980, Train Loss: 0.6908, Test Loss: 0.6896\n",
      "Epoch: 050, Train Acc: 0.4903, Test Acc: 0.4820, Train Loss: 0.6903, Test Loss: 0.6887\n",
      "Epoch: 060, Train Acc: 0.5263, Test Acc: 0.5110, Train Loss: 0.6903, Test Loss: 0.6909\n",
      "Epoch: 070, Train Acc: 0.5261, Test Acc: 0.5110, Train Loss: 0.6902, Test Loss: 0.6903\n",
      "Epoch: 080, Train Acc: 0.5696, Test Acc: 0.6087, Train Loss: 0.6909, Test Loss: 0.6869\n",
      "Epoch: 090, Train Acc: 0.4741, Test Acc: 0.4697, Train Loss: 0.6878, Test Loss: 0.6850\n",
      "Epoch: 100, Train Acc: 0.4607, Test Acc: 0.4683, Train Loss: 0.6873, Test Loss: 0.6840\n",
      "Epoch: 110, Train Acc: 0.5263, Test Acc: 0.5110, Train Loss: 0.6888, Test Loss: 0.6891\n",
      "Epoch: 120, Train Acc: 0.4623, Test Acc: 0.4833, Train Loss: 0.6858, Test Loss: 0.6819\n",
      "Epoch: 130, Train Acc: 0.5150, Test Acc: 0.5067, Train Loss: 0.6845, Test Loss: 0.6828\n",
      "Epoch: 140, Train Acc: 0.6724, Test Acc: 0.6737, Train Loss: 0.6848, Test Loss: 0.6800\n",
      "Epoch: 150, Train Acc: 0.5159, Test Acc: 0.5063, Train Loss: 0.6828, Test Loss: 0.6810\n",
      "Epoch: 160, Train Acc: 0.4924, Test Acc: 0.4850, Train Loss: 0.6808, Test Loss: 0.6769\n",
      "Epoch: 170, Train Acc: 0.5063, Test Acc: 0.4947, Train Loss: 0.6796, Test Loss: 0.6770\n",
      "Epoch: 180, Train Acc: 0.6714, Test Acc: 0.6763, Train Loss: 0.6779, Test Loss: 0.6726\n",
      "Epoch: 190, Train Acc: 0.6547, Test Acc: 0.6623, Train Loss: 0.6788, Test Loss: 0.6712\n",
      "Epoch: 200, Train Acc: 0.6940, Test Acc: 0.6850, Train Loss: 0.6748, Test Loss: 0.6682\n",
      "Epoch: 210, Train Acc: 0.6986, Test Acc: 0.6847, Train Loss: 0.6722, Test Loss: 0.6653\n",
      "Epoch: 220, Train Acc: 0.5117, Test Acc: 0.4947, Train Loss: 0.6728, Test Loss: 0.6703\n",
      "Epoch: 230, Train Acc: 0.4914, Test Acc: 0.4780, Train Loss: 0.6655, Test Loss: 0.6606\n",
      "Epoch: 240, Train Acc: 0.6996, Test Acc: 0.6883, Train Loss: 0.6635, Test Loss: 0.6563\n",
      "Epoch: 250, Train Acc: 0.6979, Test Acc: 0.6847, Train Loss: 0.6604, Test Loss: 0.6530\n",
      "Epoch: 260, Train Acc: 0.6336, Test Acc: 0.6597, Train Loss: 0.6631, Test Loss: 0.6522\n",
      "Epoch: 270, Train Acc: 0.4979, Test Acc: 0.4890, Train Loss: 0.6517, Test Loss: 0.6476\n",
      "Epoch: 280, Train Acc: 0.6887, Test Acc: 0.6790, Train Loss: 0.6500, Test Loss: 0.6417\n",
      "Epoch: 290, Train Acc: 0.6557, Test Acc: 0.6703, Train Loss: 0.6507, Test Loss: 0.6403\n",
      "Epoch: 300, Train Acc: 0.5094, Test Acc: 0.4913, Train Loss: 0.6407, Test Loss: 0.6374\n",
      "Epoch: 310, Train Acc: 0.7273, Test Acc: 0.7153, Train Loss: 0.6338, Test Loss: 0.6296\n",
      "Epoch: 320, Train Acc: 0.7131, Test Acc: 0.6960, Train Loss: 0.6311, Test Loss: 0.6239\n",
      "Epoch: 330, Train Acc: 0.5140, Test Acc: 0.4867, Train Loss: 0.6371, Test Loss: 0.6430\n",
      "Epoch: 340, Train Acc: 0.7199, Test Acc: 0.7000, Train Loss: 0.6204, Test Loss: 0.6158\n",
      "Epoch: 350, Train Acc: 0.7287, Test Acc: 0.7130, Train Loss: 0.6145, Test Loss: 0.6129\n",
      "Epoch: 360, Train Acc: 0.7460, Test Acc: 0.7200, Train Loss: 0.6112, Test Loss: 0.6116\n",
      "Epoch: 370, Train Acc: 0.7249, Test Acc: 0.7027, Train Loss: 0.6077, Test Loss: 0.6044\n",
      "Epoch: 380, Train Acc: 0.7503, Test Acc: 0.7210, Train Loss: 0.6015, Test Loss: 0.6042\n",
      "Epoch: 390, Train Acc: 0.6736, Test Acc: 0.6930, Train Loss: 0.6118, Test Loss: 0.6045\n",
      "Epoch: 400, Train Acc: 0.7521, Test Acc: 0.7190, Train Loss: 0.5939, Test Loss: 0.5979\n",
      "Epoch: 410, Train Acc: 0.7410, Test Acc: 0.7133, Train Loss: 0.5873, Test Loss: 0.5917\n",
      "Epoch: 420, Train Acc: 0.5304, Test Acc: 0.4887, Train Loss: 0.6015, Test Loss: 0.6181\n",
      "Epoch: 430, Train Acc: 0.5237, Test Acc: 0.4863, Train Loss: 0.6081, Test Loss: 0.6274\n",
      "Epoch: 440, Train Acc: 0.5271, Test Acc: 0.4850, Train Loss: 0.6049, Test Loss: 0.6235\n",
      "Epoch: 450, Train Acc: 0.7487, Test Acc: 0.7177, Train Loss: 0.5725, Test Loss: 0.5778\n",
      "Epoch: 460, Train Acc: 0.7504, Test Acc: 0.7100, Train Loss: 0.5636, Test Loss: 0.5734\n",
      "Epoch: 470, Train Acc: 0.7544, Test Acc: 0.7263, Train Loss: 0.5585, Test Loss: 0.5704\n",
      "Epoch: 480, Train Acc: 0.7401, Test Acc: 0.7047, Train Loss: 0.5589, Test Loss: 0.5678\n",
      "Epoch: 490, Train Acc: 0.7546, Test Acc: 0.7283, Train Loss: 0.5528, Test Loss: 0.5664\n",
      "Epoch: 500, Train Acc: 0.7650, Test Acc: 0.7227, Train Loss: 0.5505, Test Loss: 0.5706\n"
     ]
    },
    {
     "data": {
      "text/html": [
       "<style>\n",
       "    table.wandb td:nth-child(1) { padding: 0 10px; text-align: left ; width: auto;} td:nth-child(2) {text-align: left ; width: 100%}\n",
       "    .wandb-row { display: flex; flex-direction: row; flex-wrap: wrap; justify-content: flex-start; width: 100% }\n",
       "    .wandb-col { display: flex; flex-direction: column; flex-basis: 100%; flex: 1; padding: 10px; }\n",
       "    </style>\n",
       "<div class=\"wandb-row\"><div class=\"wandb-col\"><h3>Run history:</h3><br/><table class=\"wandb\"><tr><td>Test Accuracy</td><td>▂▁▂▂▂▂▅▂▂▂▂▆▂▁▇▂▂▂▂▆▇▇▇▇▂▇▇▇█▇▇▇▇▂█▇▇███</td></tr><tr><td>Test F1</td><td>▇▆▇▇▇▇▁▇▇▇▆▆▆▆▇▆▆▆▆▄▇▆▆▆▆▆▅▆█▇▇▆▇▆█▆▇▇██</td></tr><tr><td>Test Loss</td><td>█████▇▇▇▇▇▇▇▇▇▇▇▇▇▆▆▆▅▅▅▅▄▄▄▃▃▃▃▂▄▂▂▂▁▂▁</td></tr><tr><td>Test Sensitivity</td><td>█▇████▁███▇▃▇▆▅▇▇██▃▅▄▃▄▆▄▃▃▅▄▄▃▄▇▅▄▄▄▅▅</td></tr><tr><td>Test Specificity</td><td>▁▁▁▁▁▁█▁▁▁▁▇▁▂▆▁▁▁▁█▆▇▇▇▂▇▇▇▆▇▇▇▇▁▆▇▇▇▆▇</td></tr><tr><td>Train Accuracy</td><td>▂▁▂▂▂▂▃▂▂▂▂▆▂▁▆▂▂▂▂▅▆▆▆▆▂▇▆▇█▇▇▆▇▂█▇████</td></tr><tr><td>Train F1</td><td>▇▆▇▆▇▆▁▇▇▇▆▅▆▅▆▆▆▆▆▄▇▆▆▆▆▆▅▆▇▇▇▆▇▆█▇▇▇█▇</td></tr><tr><td>Train Loss</td><td>██████████▇▇▇▇▇▇▇▇▇▇▆▆▆▅▅▅▅▄▄▄▃▄▃▄▂▂▂▁▁▁</td></tr><tr><td>Train Sensitivity</td><td>█▇████▁███▇▃▇▆▅▇███▂▅▄▃▄▆▄▃▄▅▅▄▃▄▇▆▄▅▅▆▅</td></tr><tr><td>Train Specificity</td><td>▁▁▁▁▁▁█▁▁▁▁▇▁▂▆▁▁▁▁█▆▇█▇▂▇██▇▇▇█▇▂▇█▇▇▆▇</td></tr></table><br/></div><div class=\"wandb-col\"><h3>Run summary:</h3><br/><table class=\"wandb\"><tr><td>Test Accuracy</td><td>0.72267</td></tr><tr><td>Test F1</td><td>0.72322</td></tr><tr><td>Test Loss</td><td>0.57061</td></tr><tr><td>Test Sensitivity</td><td>0.70907</td></tr><tr><td>Test Specificity</td><td>0.73688</td></tr><tr><td>Train Accuracy</td><td>0.765</td></tr><tr><td>Train F1</td><td>0.76788</td></tr><tr><td>Train Loss</td><td>0.55048</td></tr><tr><td>Train Sensitivity</td><td>0.7384</td></tr><tr><td>Train Specificity</td><td>0.79457</td></tr></table><br/></div></div>"
      ],
      "text/plain": [
       "<IPython.core.display.HTML object>"
      ]
     },
     "metadata": {},
     "output_type": "display_data"
    },
    {
     "data": {
      "text/html": [
       " View run <strong style=\"color:#cdcd00\">fine-sweep-78</strong> at: <a href='https://wandb.ai/dylan-home/pnca-sweep-1/runs/ybwxf7z4' target=\"_blank\">https://wandb.ai/dylan-home/pnca-sweep-1/runs/ybwxf7z4</a><br/>Synced 5 W&B file(s), 0 media file(s), 0 artifact file(s) and 0 other file(s)"
      ],
      "text/plain": [
       "<IPython.core.display.HTML object>"
      ]
     },
     "metadata": {},
     "output_type": "display_data"
    },
    {
     "data": {
      "text/html": [
       "Find logs at: <code>./wandb/run-20250116_064643-ybwxf7z4/logs</code>"
      ],
      "text/plain": [
       "<IPython.core.display.HTML object>"
      ]
     },
     "metadata": {},
     "output_type": "display_data"
    },
    {
     "name": "stderr",
     "output_type": "stream",
     "text": [
      "\u001b[34m\u001b[1mwandb\u001b[0m: Agent Starting Run: ee351a0k with config:\n",
      "\u001b[34m\u001b[1mwandb\u001b[0m: \tcutoff_distance: 7.770524410334607\n",
      "\u001b[34m\u001b[1mwandb\u001b[0m: \tdropout: 0.2\n",
      "\u001b[34m\u001b[1mwandb\u001b[0m: \thidden_channels: 320\n",
      "\u001b[34m\u001b[1mwandb\u001b[0m: \tlearning_rate: 0.000437164573145212\n",
      "\u001b[34m\u001b[1mwandb\u001b[0m: \tweight_decay: 7.464619204358882e-07\n",
      "Failed to detect the name of this notebook, you can set it manually with the WANDB_NOTEBOOK_NAME environment variable to enable code saving.\n",
      "/usr/lib/python3/dist-packages/requests/__init__.py:87: RequestsDependencyWarning: urllib3 (2.2.3) or chardet (4.0.0) doesn't match a supported version!\n",
      "  warnings.warn(\"urllib3 ({}) or chardet ({}) doesn't match a supported \"\n"
     ]
    },
    {
     "data": {
      "text/html": [
       "wandb version 0.19.3 is available!  To upgrade, please run:\n",
       " $ pip install wandb --upgrade"
      ],
      "text/plain": [
       "<IPython.core.display.HTML object>"
      ]
     },
     "metadata": {},
     "output_type": "display_data"
    },
    {
     "data": {
      "text/html": [
       "Tracking run with wandb version 0.16.4"
      ],
      "text/plain": [
       "<IPython.core.display.HTML object>"
      ]
     },
     "metadata": {},
     "output_type": "display_data"
    },
    {
     "data": {
      "text/html": [
       "Run data is saved locally in <code>/mnt/alphafold-volume-1/dylan2/repos/tb-pnca-gnn/dd_pnca/wandb/run-20250116_070059-ee351a0k</code>"
      ],
      "text/plain": [
       "<IPython.core.display.HTML object>"
      ]
     },
     "metadata": {},
     "output_type": "display_data"
    },
    {
     "data": {
      "text/html": [
       "Syncing run <strong><a href='https://wandb.ai/dylan-home/pnca-sweep-1/runs/ee351a0k' target=\"_blank\">fragrant-sweep-79</a></strong> to <a href='https://wandb.ai/dylan-home/pnca-sweep-1' target=\"_blank\">Weights & Biases</a> (<a href='https://wandb.me/run' target=\"_blank\">docs</a>)<br/>Sweep page: <a href='https://wandb.ai/dylan-home/pnca-sweep-1/sweeps/tr8mwg42' target=\"_blank\">https://wandb.ai/dylan-home/pnca-sweep-1/sweeps/tr8mwg42</a>"
      ],
      "text/plain": [
       "<IPython.core.display.HTML object>"
      ]
     },
     "metadata": {},
     "output_type": "display_data"
    },
    {
     "data": {
      "text/html": [
       " View project at <a href='https://wandb.ai/dylan-home/pnca-sweep-1' target=\"_blank\">https://wandb.ai/dylan-home/pnca-sweep-1</a>"
      ],
      "text/plain": [
       "<IPython.core.display.HTML object>"
      ]
     },
     "metadata": {},
     "output_type": "display_data"
    },
    {
     "data": {
      "text/html": [
       " View sweep at <a href='https://wandb.ai/dylan-home/pnca-sweep-1/sweeps/tr8mwg42' target=\"_blank\">https://wandb.ai/dylan-home/pnca-sweep-1/sweeps/tr8mwg42</a>"
      ],
      "text/plain": [
       "<IPython.core.display.HTML object>"
      ]
     },
     "metadata": {},
     "output_type": "display_data"
    },
    {
     "data": {
      "text/html": [
       " View run at <a href='https://wandb.ai/dylan-home/pnca-sweep-1/runs/ee351a0k' target=\"_blank\">https://wandb.ai/dylan-home/pnca-sweep-1/runs/ee351a0k</a>"
      ],
      "text/plain": [
       "<IPython.core.display.HTML object>"
      ]
     },
     "metadata": {},
     "output_type": "display_data"
    },
    {
     "name": "stdout",
     "output_type": "stream",
     "text": [
      "Using CUDA\n",
      "Early stopping enabled. Patience: 20. Min Delta: 0.\n",
      "Epoch: 010, Train Acc: 0.5954, Test Acc: 0.6460, Train Loss: 0.6901, Test Loss: 0.6875\n",
      "Epoch: 020, Train Acc: 0.5264, Test Acc: 0.5110, Train Loss: 0.6862, Test Loss: 0.6859\n",
      "Epoch: 030, Train Acc: 0.5624, Test Acc: 0.6323, Train Loss: 0.6865, Test Loss: 0.6804\n",
      "Epoch: 040, Train Acc: 0.5264, Test Acc: 0.5110, Train Loss: 0.6830, Test Loss: 0.6823\n",
      "Epoch: 050, Train Acc: 0.5266, Test Acc: 0.5110, Train Loss: 0.6919, Test Loss: 0.6956\n",
      "Epoch: 060, Train Acc: 0.7340, Test Acc: 0.7033, Train Loss: 0.6460, Test Loss: 0.6381\n",
      "Epoch: 070, Train Acc: 0.6406, Test Acc: 0.6733, Train Loss: 0.6427, Test Loss: 0.6293\n",
      "Epoch: 080, Train Acc: 0.5229, Test Acc: 0.5027, Train Loss: 0.6332, Test Loss: 0.6355\n",
      "Epoch: 090, Train Acc: 0.7136, Test Acc: 0.7003, Train Loss: 0.5974, Test Loss: 0.5936\n",
      "Epoch: 100, Train Acc: 0.7506, Test Acc: 0.7267, Train Loss: 0.5746, Test Loss: 0.5785\n",
      "Epoch: 110, Train Acc: 0.7664, Test Acc: 0.7307, Train Loss: 0.5609, Test Loss: 0.5741\n",
      "Epoch: 120, Train Acc: 0.7587, Test Acc: 0.7237, Train Loss: 0.5249, Test Loss: 0.5499\n",
      "Epoch: 130, Train Acc: 0.7750, Test Acc: 0.7377, Train Loss: 0.5183, Test Loss: 0.5489\n",
      "Epoch: 140, Train Acc: 0.6804, Test Acc: 0.6830, Train Loss: 0.6021, Test Loss: 0.6289\n",
      "Epoch: 150, Train Acc: 0.7714, Test Acc: 0.7290, Train Loss: 0.5206, Test Loss: 0.5486\n",
      "Epoch: 160, Train Acc: 0.6719, Test Acc: 0.6723, Train Loss: 0.6220, Test Loss: 0.6595\n",
      "Epoch: 170, Train Acc: 0.7930, Test Acc: 0.7267, Train Loss: 0.4431, Test Loss: 0.5280\n",
      "Epoch: 180, Train Acc: 0.7810, Test Acc: 0.7367, Train Loss: 0.4509, Test Loss: 0.5217\n",
      "Epoch: 190, Train Acc: 0.8189, Test Acc: 0.7423, Train Loss: 0.4635, Test Loss: 0.5546\n",
      "20 epochs passed without 0 test loss improvement. \n",
      "Early stopping triggered.\n"
     ]
    },
    {
     "data": {
      "text/html": [
       "<style>\n",
       "    table.wandb td:nth-child(1) { padding: 0 10px; text-align: left ; width: auto;} td:nth-child(2) {text-align: left ; width: 100%}\n",
       "    .wandb-row { display: flex; flex-direction: row; flex-wrap: wrap; justify-content: flex-start; width: 100% }\n",
       "    .wandb-col { display: flex; flex-direction: column; flex-basis: 100%; flex: 1; padding: 10px; }\n",
       "    </style>\n",
       "<div class=\"wandb-row\"><div class=\"wandb-col\"><h3>Run history:</h3><br/><table class=\"wandb\"><tr><td>Test Accuracy</td><td>▂▄▅▂▂▆▅▂▂▂▂▄▂▁▂▇▅▂▆▁▇▆▆▁▆▇▆▆█▆▇██▆█▇████</td></tr><tr><td>Test F1</td><td>▇▃▅▇▇▇▅▇▇▁▇▃▇▇▇▆▄▇▆▇▇▅▅▇▆▇█▆▇▆▇▇█▆█▇█▇██</td></tr><tr><td>Test Loss</td><td>█████▇▇▇▇██▇▇▆▆▅▇█▄▅▃▅▅▄▄▂▄▄▂▅▂▂▂▇▁▁▃▁▂▂</td></tr><tr><td>Test Sensitivity</td><td>█▂▃██▅▃██▁█▂█▇█▄▂█▄▇▅▃▃▇▄▅▇▄▅▄▅▅▆▃▆▅▇▅▆▇</td></tr><tr><td>Test Specificity</td><td>▁██▁▁▇█▁▁█▁█▁▂▁▇█▁█▂▇██▂█▇▅█▇█▇▇▆█▇▇▅▇▆▆</td></tr><tr><td>Train Accuracy</td><td>▂▂▃▂▂▅▃▂▂▁▂▂▂▂▂▅▃▂▅▂▆▄▄▂▅▇▆▅▇▅▆▇█▅█▇▇▇██</td></tr><tr><td>Train F1</td><td>▇▂▄▇▇▆▃▇▇▁▇▂▇▆▇▆▃▇▆▆▇▅▅▆▆▇█▆▇▆▇▇█▅█▇█▇██</td></tr><tr><td>Train Loss</td><td>██▇▇▇▇▇▇▇██▇▇▆▆▆▇▇▆▅▄▆▆▅▅▃▄▄▃▅▃▃▂▆▁▁▄▁▁▂</td></tr><tr><td>Train Sensitivity</td><td>█▁▃██▅▂██▁█▂█▇█▄▂█▄▇▅▃▃▇▄▅▇▄▆▄▅▅▇▄▆▆▇▅▇▇</td></tr><tr><td>Train Specificity</td><td>▁██▁▁▇█▁▁█▁█▁▂▁██▁█▂▇██▂█▇▅█▇██▇▆█▇█▆█▆▆</td></tr></table><br/></div><div class=\"wandb-col\"><h3>Run summary:</h3><br/><table class=\"wandb\"><tr><td>Test Accuracy</td><td>0.525</td></tr><tr><td>Test F1</td><td>0.67128</td></tr><tr><td>Test Loss</td><td>0.61532</td></tr><tr><td>Test Sensitivity</td><td>0.94912</td></tr><tr><td>Test Specificity</td><td>0.0818</td></tr><tr><td>Train Accuracy</td><td>0.54929</td></tr><tr><td>Train F1</td><td>0.69425</td></tr><tr><td>Train Loss</td><td>0.53981</td></tr><tr><td>Train Sensitivity</td><td>0.97205</td></tr><tr><td>Train Specificity</td><td>0.07934</td></tr></table><br/></div></div>"
      ],
      "text/plain": [
       "<IPython.core.display.HTML object>"
      ]
     },
     "metadata": {},
     "output_type": "display_data"
    },
    {
     "data": {
      "text/html": [
       " View run <strong style=\"color:#cdcd00\">fragrant-sweep-79</strong> at: <a href='https://wandb.ai/dylan-home/pnca-sweep-1/runs/ee351a0k' target=\"_blank\">https://wandb.ai/dylan-home/pnca-sweep-1/runs/ee351a0k</a><br/>Synced 5 W&B file(s), 0 media file(s), 0 artifact file(s) and 0 other file(s)"
      ],
      "text/plain": [
       "<IPython.core.display.HTML object>"
      ]
     },
     "metadata": {},
     "output_type": "display_data"
    },
    {
     "data": {
      "text/html": [
       "Find logs at: <code>./wandb/run-20250116_070059-ee351a0k/logs</code>"
      ],
      "text/plain": [
       "<IPython.core.display.HTML object>"
      ]
     },
     "metadata": {},
     "output_type": "display_data"
    },
    {
     "name": "stderr",
     "output_type": "stream",
     "text": [
      "\u001b[34m\u001b[1mwandb\u001b[0m: Agent Starting Run: u8ipthtn with config:\n",
      "\u001b[34m\u001b[1mwandb\u001b[0m: \tcutoff_distance: 7.6724690842569485\n",
      "\u001b[34m\u001b[1mwandb\u001b[0m: \tdropout: 0.4\n",
      "\u001b[34m\u001b[1mwandb\u001b[0m: \thidden_channels: 256\n",
      "\u001b[34m\u001b[1mwandb\u001b[0m: \tlearning_rate: 0.00028638998845687225\n",
      "\u001b[34m\u001b[1mwandb\u001b[0m: \tweight_decay: 3.110742782115452e-06\n",
      "Failed to detect the name of this notebook, you can set it manually with the WANDB_NOTEBOOK_NAME environment variable to enable code saving.\n",
      "/usr/lib/python3/dist-packages/requests/__init__.py:87: RequestsDependencyWarning: urllib3 (2.2.3) or chardet (4.0.0) doesn't match a supported version!\n",
      "  warnings.warn(\"urllib3 ({}) or chardet ({}) doesn't match a supported \"\n"
     ]
    },
    {
     "data": {
      "text/html": [
       "wandb version 0.19.3 is available!  To upgrade, please run:\n",
       " $ pip install wandb --upgrade"
      ],
      "text/plain": [
       "<IPython.core.display.HTML object>"
      ]
     },
     "metadata": {},
     "output_type": "display_data"
    },
    {
     "data": {
      "text/html": [
       "Tracking run with wandb version 0.16.4"
      ],
      "text/plain": [
       "<IPython.core.display.HTML object>"
      ]
     },
     "metadata": {},
     "output_type": "display_data"
    },
    {
     "data": {
      "text/html": [
       "Run data is saved locally in <code>/mnt/alphafold-volume-1/dylan2/repos/tb-pnca-gnn/dd_pnca/wandb/run-20250116_070820-u8ipthtn</code>"
      ],
      "text/plain": [
       "<IPython.core.display.HTML object>"
      ]
     },
     "metadata": {},
     "output_type": "display_data"
    },
    {
     "data": {
      "text/html": [
       "Syncing run <strong><a href='https://wandb.ai/dylan-home/pnca-sweep-1/runs/u8ipthtn' target=\"_blank\">still-sweep-80</a></strong> to <a href='https://wandb.ai/dylan-home/pnca-sweep-1' target=\"_blank\">Weights & Biases</a> (<a href='https://wandb.me/run' target=\"_blank\">docs</a>)<br/>Sweep page: <a href='https://wandb.ai/dylan-home/pnca-sweep-1/sweeps/tr8mwg42' target=\"_blank\">https://wandb.ai/dylan-home/pnca-sweep-1/sweeps/tr8mwg42</a>"
      ],
      "text/plain": [
       "<IPython.core.display.HTML object>"
      ]
     },
     "metadata": {},
     "output_type": "display_data"
    },
    {
     "data": {
      "text/html": [
       " View project at <a href='https://wandb.ai/dylan-home/pnca-sweep-1' target=\"_blank\">https://wandb.ai/dylan-home/pnca-sweep-1</a>"
      ],
      "text/plain": [
       "<IPython.core.display.HTML object>"
      ]
     },
     "metadata": {},
     "output_type": "display_data"
    },
    {
     "data": {
      "text/html": [
       " View sweep at <a href='https://wandb.ai/dylan-home/pnca-sweep-1/sweeps/tr8mwg42' target=\"_blank\">https://wandb.ai/dylan-home/pnca-sweep-1/sweeps/tr8mwg42</a>"
      ],
      "text/plain": [
       "<IPython.core.display.HTML object>"
      ]
     },
     "metadata": {},
     "output_type": "display_data"
    },
    {
     "data": {
      "text/html": [
       " View run at <a href='https://wandb.ai/dylan-home/pnca-sweep-1/runs/u8ipthtn' target=\"_blank\">https://wandb.ai/dylan-home/pnca-sweep-1/runs/u8ipthtn</a>"
      ],
      "text/plain": [
       "<IPython.core.display.HTML object>"
      ]
     },
     "metadata": {},
     "output_type": "display_data"
    },
    {
     "name": "stdout",
     "output_type": "stream",
     "text": [
      "Using CUDA\n",
      "Early stopping enabled. Patience: 20. Min Delta: 0.\n",
      "Epoch: 010, Train Acc: 0.4987, Test Acc: 0.5690, Train Loss: 0.6928, Test Loss: 0.6888\n",
      "Epoch: 020, Train Acc: 0.5166, Test Acc: 0.5053, Train Loss: 0.6883, Test Loss: 0.6867\n",
      "Epoch: 030, Train Acc: 0.5264, Test Acc: 0.5110, Train Loss: 0.6887, Test Loss: 0.6887\n",
      "20 epochs passed without 0 test loss improvement. \n",
      "Early stopping triggered.\n"
     ]
    },
    {
     "data": {
      "text/html": [
       "<style>\n",
       "    table.wandb td:nth-child(1) { padding: 0 10px; text-align: left ; width: auto;} td:nth-child(2) {text-align: left ; width: 100%}\n",
       "    .wandb-row { display: flex; flex-direction: row; flex-wrap: wrap; justify-content: flex-start; width: 100% }\n",
       "    .wandb-col { display: flex; flex-direction: column; flex-basis: 100%; flex: 1; padding: 10px; }\n",
       "    </style>\n",
       "<div class=\"wandb-row\"><div class=\"wandb-col\"><h3>Run history:</h3><br/><table class=\"wandb\"><tr><td>Test Accuracy</td><td>▃▃▃▃▂▃▅▃▃▅▂▃▃▁▃▃▆█▁▃▂▁▃▃▃▃▃▃▂▃▃▃▃▃</td></tr><tr><td>Test F1</td><td>████▁█▄██▄▁██▇██▅▇▇██▇██████▇█████</td></tr><tr><td>Test Loss</td><td>▅▅▃▂█▅▂▂▅▂▆▂▃▁▁▃▁▁▁▁▂▂▂▂▂▂▂▂▁▂▂▁▃▂</td></tr><tr><td>Test Sensitivity</td><td>████▁█▂██▂▁██▇██▂▄▆██▇██████▆█████</td></tr><tr><td>Test Specificity</td><td>▁▁▁▁█▁█▁▁██▁▁▂▁▁█▇▂▁▁▂▁▁▁▁▁▁▂▁▁▁▁▁</td></tr><tr><td>Train Accuracy</td><td>▄▄▄▃▁▄▃▄▄▂▁▄▄▁▃▄▃█▁▃▃▁▄▃▃▃▄▄▁▄▄▃▄▄</td></tr><tr><td>Train F1</td><td>████▁█▃██▂▁██▇██▃▆▇██▇██████▇█████</td></tr><tr><td>Train Loss</td><td>▃▃▂▂█▃▂▁▃▂▆▁▂▁▁▂▂▂▁▁▁▂▁▁▁▁▁▁▁▁▁▁▂▁</td></tr><tr><td>Train Sensitivity</td><td>████▁█▂██▁▁██▇██▂▃▆██▇██████▆█████</td></tr><tr><td>Train Specificity</td><td>▁▁▁▁█▁█▁▁██▁▁▂▁▁██▂▁▁▂▁▁▁▁▁▁▂▁▁▁▁▁</td></tr></table><br/></div><div class=\"wandb-col\"><h3>Run summary:</h3><br/><table class=\"wandb\"><tr><td>Test Accuracy</td><td>0.511</td></tr><tr><td>Test F1</td><td>0.67637</td></tr><tr><td>Test Loss</td><td>0.68753</td></tr><tr><td>Test Sensitivity</td><td>1.0</td></tr><tr><td>Test Specificity</td><td>0.0</td></tr><tr><td>Train Accuracy</td><td>0.52629</td></tr><tr><td>Train F1</td><td>0.68963</td></tr><tr><td>Train Loss</td><td>0.68748</td></tr><tr><td>Train Sensitivity</td><td>0.99973</td></tr><tr><td>Train Specificity</td><td>0.0</td></tr></table><br/></div></div>"
      ],
      "text/plain": [
       "<IPython.core.display.HTML object>"
      ]
     },
     "metadata": {},
     "output_type": "display_data"
    },
    {
     "data": {
      "text/html": [
       " View run <strong style=\"color:#cdcd00\">still-sweep-80</strong> at: <a href='https://wandb.ai/dylan-home/pnca-sweep-1/runs/u8ipthtn' target=\"_blank\">https://wandb.ai/dylan-home/pnca-sweep-1/runs/u8ipthtn</a><br/>Synced 5 W&B file(s), 0 media file(s), 0 artifact file(s) and 0 other file(s)"
      ],
      "text/plain": [
       "<IPython.core.display.HTML object>"
      ]
     },
     "metadata": {},
     "output_type": "display_data"
    },
    {
     "data": {
      "text/html": [
       "Find logs at: <code>./wandb/run-20250116_070820-u8ipthtn/logs</code>"
      ],
      "text/plain": [
       "<IPython.core.display.HTML object>"
      ]
     },
     "metadata": {},
     "output_type": "display_data"
    },
    {
     "name": "stderr",
     "output_type": "stream",
     "text": [
      "\u001b[34m\u001b[1mwandb\u001b[0m: Agent Starting Run: fi27xyx6 with config:\n",
      "\u001b[34m\u001b[1mwandb\u001b[0m: \tcutoff_distance: 3.673963508349571\n",
      "\u001b[34m\u001b[1mwandb\u001b[0m: \tdropout: 0.8\n",
      "\u001b[34m\u001b[1mwandb\u001b[0m: \thidden_channels: 320\n",
      "\u001b[34m\u001b[1mwandb\u001b[0m: \tlearning_rate: 0.0020667443672618985\n",
      "\u001b[34m\u001b[1mwandb\u001b[0m: \tweight_decay: 5.581985707198506e-07\n",
      "Failed to detect the name of this notebook, you can set it manually with the WANDB_NOTEBOOK_NAME environment variable to enable code saving.\n",
      "/usr/lib/python3/dist-packages/requests/__init__.py:87: RequestsDependencyWarning: urllib3 (2.2.3) or chardet (4.0.0) doesn't match a supported version!\n",
      "  warnings.warn(\"urllib3 ({}) or chardet ({}) doesn't match a supported \"\n"
     ]
    },
    {
     "data": {
      "text/html": [
       "wandb version 0.19.3 is available!  To upgrade, please run:\n",
       " $ pip install wandb --upgrade"
      ],
      "text/plain": [
       "<IPython.core.display.HTML object>"
      ]
     },
     "metadata": {},
     "output_type": "display_data"
    },
    {
     "data": {
      "text/html": [
       "Tracking run with wandb version 0.16.4"
      ],
      "text/plain": [
       "<IPython.core.display.HTML object>"
      ]
     },
     "metadata": {},
     "output_type": "display_data"
    },
    {
     "data": {
      "text/html": [
       "Run data is saved locally in <code>/mnt/alphafold-volume-1/dylan2/repos/tb-pnca-gnn/dd_pnca/wandb/run-20250116_070941-fi27xyx6</code>"
      ],
      "text/plain": [
       "<IPython.core.display.HTML object>"
      ]
     },
     "metadata": {},
     "output_type": "display_data"
    },
    {
     "data": {
      "text/html": [
       "Syncing run <strong><a href='https://wandb.ai/dylan-home/pnca-sweep-1/runs/fi27xyx6' target=\"_blank\">astral-sweep-81</a></strong> to <a href='https://wandb.ai/dylan-home/pnca-sweep-1' target=\"_blank\">Weights & Biases</a> (<a href='https://wandb.me/run' target=\"_blank\">docs</a>)<br/>Sweep page: <a href='https://wandb.ai/dylan-home/pnca-sweep-1/sweeps/tr8mwg42' target=\"_blank\">https://wandb.ai/dylan-home/pnca-sweep-1/sweeps/tr8mwg42</a>"
      ],
      "text/plain": [
       "<IPython.core.display.HTML object>"
      ]
     },
     "metadata": {},
     "output_type": "display_data"
    },
    {
     "data": {
      "text/html": [
       " View project at <a href='https://wandb.ai/dylan-home/pnca-sweep-1' target=\"_blank\">https://wandb.ai/dylan-home/pnca-sweep-1</a>"
      ],
      "text/plain": [
       "<IPython.core.display.HTML object>"
      ]
     },
     "metadata": {},
     "output_type": "display_data"
    },
    {
     "data": {
      "text/html": [
       " View sweep at <a href='https://wandb.ai/dylan-home/pnca-sweep-1/sweeps/tr8mwg42' target=\"_blank\">https://wandb.ai/dylan-home/pnca-sweep-1/sweeps/tr8mwg42</a>"
      ],
      "text/plain": [
       "<IPython.core.display.HTML object>"
      ]
     },
     "metadata": {},
     "output_type": "display_data"
    },
    {
     "data": {
      "text/html": [
       " View run at <a href='https://wandb.ai/dylan-home/pnca-sweep-1/runs/fi27xyx6' target=\"_blank\">https://wandb.ai/dylan-home/pnca-sweep-1/runs/fi27xyx6</a>"
      ],
      "text/plain": [
       "<IPython.core.display.HTML object>"
      ]
     },
     "metadata": {},
     "output_type": "display_data"
    },
    {
     "name": "stdout",
     "output_type": "stream",
     "text": [
      "Using CUDA\n",
      "Early stopping enabled. Patience: 20. Min Delta: 0.\n",
      "Epoch: 010, Train Acc: 0.5264, Test Acc: 0.5110, Train Loss: 0.6918, Test Loss: 0.6933\n",
      "Epoch: 020, Train Acc: 0.5264, Test Acc: 0.5110, Train Loss: 0.6917, Test Loss: 0.6934\n",
      "20 epochs passed without 0 test loss improvement. \n",
      "Early stopping triggered.\n"
     ]
    },
    {
     "data": {
      "text/html": [
       "<style>\n",
       "    table.wandb td:nth-child(1) { padding: 0 10px; text-align: left ; width: auto;} td:nth-child(2) {text-align: left ; width: 100%}\n",
       "    .wandb-row { display: flex; flex-direction: row; flex-wrap: wrap; justify-content: flex-start; width: 100% }\n",
       "    .wandb-col { display: flex; flex-direction: column; flex-basis: 100%; flex: 1; padding: 10px; }\n",
       "    </style>\n",
       "<div class=\"wandb-row\"><div class=\"wandb-col\"><h3>Run history:</h3><br/><table class=\"wandb\"><tr><td>Test Accuracy</td><td>▁█████████████████████</td></tr><tr><td>Test F1</td><td>▁█████████████████████</td></tr><tr><td>Test Loss</td><td>▅▁▄▅▇█▄▅▇▇▄▇█▅▄▆▃▅▇█▄▆</td></tr><tr><td>Test Sensitivity</td><td>▁█████████████████████</td></tr><tr><td>Test Specificity</td><td>█▁▁▁▁▁▁▁▁▁▁▁▁▁▁▁▁▁▁▁▁▁</td></tr><tr><td>Train Accuracy</td><td>▁█████████████████████</td></tr><tr><td>Train F1</td><td>▁█████████████████████</td></tr><tr><td>Train Loss</td><td>█▂▂▃▂▃▃▂▃▂▄▂▂▂▃▂▂▁▂▂▂▁</td></tr><tr><td>Train Sensitivity</td><td>▁█████████████████████</td></tr><tr><td>Train Specificity</td><td>█▁▁▁▁▁▁▁▁▁▁▁▁▁▁▁▁▁▁▁▁▁</td></tr></table><br/></div><div class=\"wandb-col\"><h3>Run summary:</h3><br/><table class=\"wandb\"><tr><td>Test Accuracy</td><td>0.511</td></tr><tr><td>Test F1</td><td>0.67637</td></tr><tr><td>Test Loss</td><td>0.69329</td></tr><tr><td>Test Sensitivity</td><td>1.0</td></tr><tr><td>Test Specificity</td><td>0.0</td></tr><tr><td>Train Accuracy</td><td>0.52643</td></tr><tr><td>Train F1</td><td>0.68975</td></tr><tr><td>Train Loss</td><td>0.69156</td></tr><tr><td>Train Sensitivity</td><td>1.0</td></tr><tr><td>Train Specificity</td><td>0.0</td></tr></table><br/></div></div>"
      ],
      "text/plain": [
       "<IPython.core.display.HTML object>"
      ]
     },
     "metadata": {},
     "output_type": "display_data"
    },
    {
     "data": {
      "text/html": [
       " View run <strong style=\"color:#cdcd00\">astral-sweep-81</strong> at: <a href='https://wandb.ai/dylan-home/pnca-sweep-1/runs/fi27xyx6' target=\"_blank\">https://wandb.ai/dylan-home/pnca-sweep-1/runs/fi27xyx6</a><br/>Synced 5 W&B file(s), 0 media file(s), 0 artifact file(s) and 0 other file(s)"
      ],
      "text/plain": [
       "<IPython.core.display.HTML object>"
      ]
     },
     "metadata": {},
     "output_type": "display_data"
    },
    {
     "data": {
      "text/html": [
       "Find logs at: <code>./wandb/run-20250116_070941-fi27xyx6/logs</code>"
      ],
      "text/plain": [
       "<IPython.core.display.HTML object>"
      ]
     },
     "metadata": {},
     "output_type": "display_data"
    },
    {
     "name": "stderr",
     "output_type": "stream",
     "text": [
      "\u001b[34m\u001b[1mwandb\u001b[0m: Agent Starting Run: hrpqtbs8 with config:\n",
      "\u001b[34m\u001b[1mwandb\u001b[0m: \tcutoff_distance: 5.705543791176284\n",
      "\u001b[34m\u001b[1mwandb\u001b[0m: \tdropout: 0.5\n",
      "\u001b[34m\u001b[1mwandb\u001b[0m: \thidden_channels: 192\n",
      "\u001b[34m\u001b[1mwandb\u001b[0m: \tlearning_rate: 9.441823473848844e-05\n",
      "\u001b[34m\u001b[1mwandb\u001b[0m: \tweight_decay: 5.043161523307884e-05\n",
      "Failed to detect the name of this notebook, you can set it manually with the WANDB_NOTEBOOK_NAME environment variable to enable code saving.\n",
      "/usr/lib/python3/dist-packages/requests/__init__.py:87: RequestsDependencyWarning: urllib3 (2.2.3) or chardet (4.0.0) doesn't match a supported version!\n",
      "  warnings.warn(\"urllib3 ({}) or chardet ({}) doesn't match a supported \"\n"
     ]
    },
    {
     "data": {
      "text/html": [
       "wandb version 0.19.3 is available!  To upgrade, please run:\n",
       " $ pip install wandb --upgrade"
      ],
      "text/plain": [
       "<IPython.core.display.HTML object>"
      ]
     },
     "metadata": {},
     "output_type": "display_data"
    },
    {
     "data": {
      "text/html": [
       "Tracking run with wandb version 0.16.4"
      ],
      "text/plain": [
       "<IPython.core.display.HTML object>"
      ]
     },
     "metadata": {},
     "output_type": "display_data"
    },
    {
     "data": {
      "text/html": [
       "Run data is saved locally in <code>/mnt/alphafold-volume-1/dylan2/repos/tb-pnca-gnn/dd_pnca/wandb/run-20250116_071043-hrpqtbs8</code>"
      ],
      "text/plain": [
       "<IPython.core.display.HTML object>"
      ]
     },
     "metadata": {},
     "output_type": "display_data"
    },
    {
     "data": {
      "text/html": [
       "Syncing run <strong><a href='https://wandb.ai/dylan-home/pnca-sweep-1/runs/hrpqtbs8' target=\"_blank\">bright-sweep-82</a></strong> to <a href='https://wandb.ai/dylan-home/pnca-sweep-1' target=\"_blank\">Weights & Biases</a> (<a href='https://wandb.me/run' target=\"_blank\">docs</a>)<br/>Sweep page: <a href='https://wandb.ai/dylan-home/pnca-sweep-1/sweeps/tr8mwg42' target=\"_blank\">https://wandb.ai/dylan-home/pnca-sweep-1/sweeps/tr8mwg42</a>"
      ],
      "text/plain": [
       "<IPython.core.display.HTML object>"
      ]
     },
     "metadata": {},
     "output_type": "display_data"
    },
    {
     "data": {
      "text/html": [
       " View project at <a href='https://wandb.ai/dylan-home/pnca-sweep-1' target=\"_blank\">https://wandb.ai/dylan-home/pnca-sweep-1</a>"
      ],
      "text/plain": [
       "<IPython.core.display.HTML object>"
      ]
     },
     "metadata": {},
     "output_type": "display_data"
    },
    {
     "data": {
      "text/html": [
       " View sweep at <a href='https://wandb.ai/dylan-home/pnca-sweep-1/sweeps/tr8mwg42' target=\"_blank\">https://wandb.ai/dylan-home/pnca-sweep-1/sweeps/tr8mwg42</a>"
      ],
      "text/plain": [
       "<IPython.core.display.HTML object>"
      ]
     },
     "metadata": {},
     "output_type": "display_data"
    },
    {
     "data": {
      "text/html": [
       " View run at <a href='https://wandb.ai/dylan-home/pnca-sweep-1/runs/hrpqtbs8' target=\"_blank\">https://wandb.ai/dylan-home/pnca-sweep-1/runs/hrpqtbs8</a>"
      ],
      "text/plain": [
       "<IPython.core.display.HTML object>"
      ]
     },
     "metadata": {},
     "output_type": "display_data"
    },
    {
     "name": "stdout",
     "output_type": "stream",
     "text": [
      "Using CUDA\n",
      "Early stopping enabled. Patience: 20. Min Delta: 0.\n",
      "Epoch: 010, Train Acc: 0.4929, Test Acc: 0.5073, Train Loss: 0.6941, Test Loss: 0.6922\n",
      "Epoch: 020, Train Acc: 0.5151, Test Acc: 0.5603, Train Loss: 0.6920, Test Loss: 0.6883\n",
      "Epoch: 030, Train Acc: 0.6090, Test Acc: 0.6553, Train Loss: 0.6877, Test Loss: 0.6834\n",
      "Epoch: 040, Train Acc: 0.4801, Test Acc: 0.4790, Train Loss: 0.6828, Test Loss: 0.6790\n",
      "Epoch: 050, Train Acc: 0.4961, Test Acc: 0.4837, Train Loss: 0.6780, Test Loss: 0.6750\n",
      "Epoch: 060, Train Acc: 0.5237, Test Acc: 0.5090, Train Loss: 0.6779, Test Loss: 0.6778\n",
      "Epoch: 070, Train Acc: 0.5651, Test Acc: 0.6310, Train Loss: 0.6805, Test Loss: 0.6706\n",
      "Epoch: 080, Train Acc: 0.5266, Test Acc: 0.5110, Train Loss: 0.6975, Test Loss: 0.7057\n",
      "Epoch: 090, Train Acc: 0.5181, Test Acc: 0.4927, Train Loss: 0.6637, Test Loss: 0.6639\n",
      "Epoch: 100, Train Acc: 0.5153, Test Acc: 0.4913, Train Loss: 0.6518, Test Loss: 0.6479\n",
      "Epoch: 110, Train Acc: 0.5177, Test Acc: 0.4947, Train Loss: 0.6541, Test Loss: 0.6570\n",
      "Epoch: 120, Train Acc: 0.6883, Test Acc: 0.6923, Train Loss: 0.6381, Test Loss: 0.6301\n",
      "Epoch: 130, Train Acc: 0.6417, Test Acc: 0.6703, Train Loss: 0.6381, Test Loss: 0.6265\n",
      "Epoch: 140, Train Acc: 0.6623, Test Acc: 0.6823, Train Loss: 0.6264, Test Loss: 0.6162\n",
      "Epoch: 150, Train Acc: 0.7444, Test Acc: 0.7153, Train Loss: 0.5975, Test Loss: 0.6002\n",
      "Epoch: 160, Train Acc: 0.5249, Test Acc: 0.5057, Train Loss: 0.6374, Test Loss: 0.6559\n",
      "Epoch: 170, Train Acc: 0.6403, Test Acc: 0.6700, Train Loss: 0.6185, Test Loss: 0.6126\n",
      "Epoch: 180, Train Acc: 0.7527, Test Acc: 0.6973, Train Loss: 0.5797, Test Loss: 0.5967\n",
      "Epoch: 190, Train Acc: 0.7389, Test Acc: 0.7187, Train Loss: 0.5572, Test Loss: 0.5635\n",
      "Epoch: 200, Train Acc: 0.7310, Test Acc: 0.7153, Train Loss: 0.5513, Test Loss: 0.5576\n",
      "Epoch: 210, Train Acc: 0.7599, Test Acc: 0.7320, Train Loss: 0.5300, Test Loss: 0.5435\n",
      "Epoch: 220, Train Acc: 0.7809, Test Acc: 0.7490, Train Loss: 0.5251, Test Loss: 0.5487\n",
      "Epoch: 230, Train Acc: 0.7283, Test Acc: 0.7287, Train Loss: 0.5280, Test Loss: 0.5437\n",
      "Epoch: 240, Train Acc: 0.7833, Test Acc: 0.7513, Train Loss: 0.5003, Test Loss: 0.5317\n",
      "Epoch: 250, Train Acc: 0.7839, Test Acc: 0.7470, Train Loss: 0.4875, Test Loss: 0.5182\n",
      "Epoch: 260, Train Acc: 0.7299, Test Acc: 0.7267, Train Loss: 0.5198, Test Loss: 0.5448\n",
      "Epoch: 270, Train Acc: 0.7601, Test Acc: 0.7367, Train Loss: 0.4773, Test Loss: 0.5100\n",
      "Epoch: 280, Train Acc: 0.8074, Test Acc: 0.7567, Train Loss: 0.4561, Test Loss: 0.5035\n",
      "Epoch: 290, Train Acc: 0.7747, Test Acc: 0.7437, Train Loss: 0.4567, Test Loss: 0.5010\n",
      "Epoch: 300, Train Acc: 0.7691, Test Acc: 0.7403, Train Loss: 0.4748, Test Loss: 0.5182\n",
      "Epoch: 310, Train Acc: 0.7809, Test Acc: 0.7543, Train Loss: 0.4493, Test Loss: 0.5004\n",
      "Epoch: 320, Train Acc: 0.8200, Test Acc: 0.7693, Train Loss: 0.4312, Test Loss: 0.5062\n",
      "Epoch: 330, Train Acc: 0.8280, Test Acc: 0.7600, Train Loss: 0.4172, Test Loss: 0.4865\n",
      "Epoch: 340, Train Acc: 0.8161, Test Acc: 0.7617, Train Loss: 0.4069, Test Loss: 0.4768\n",
      "Epoch: 350, Train Acc: 0.8119, Test Acc: 0.7570, Train Loss: 0.3984, Test Loss: 0.4772\n",
      "Epoch: 360, Train Acc: 0.7994, Test Acc: 0.7667, Train Loss: 0.4169, Test Loss: 0.4976\n",
      "Epoch: 370, Train Acc: 0.8370, Test Acc: 0.7573, Train Loss: 0.4224, Test Loss: 0.5271\n",
      "Epoch: 380, Train Acc: 0.8466, Test Acc: 0.7610, Train Loss: 0.3683, Test Loss: 0.4767\n",
      "Epoch: 390, Train Acc: 0.8000, Test Acc: 0.7733, Train Loss: 0.4196, Test Loss: 0.5107\n",
      "Epoch: 400, Train Acc: 0.8123, Test Acc: 0.7683, Train Loss: 0.3988, Test Loss: 0.4939\n",
      "Epoch: 410, Train Acc: 0.8060, Test Acc: 0.7710, Train Loss: 0.4033, Test Loss: 0.5104\n",
      "20 epochs passed without 0 test loss improvement. \n",
      "Early stopping triggered.\n"
     ]
    },
    {
     "data": {
      "text/html": [
       "<style>\n",
       "    table.wandb td:nth-child(1) { padding: 0 10px; text-align: left ; width: auto;} td:nth-child(2) {text-align: left ; width: 100%}\n",
       "    .wandb-row { display: flex; flex-direction: row; flex-wrap: wrap; justify-content: flex-start; width: 100% }\n",
       "    .wandb-col { display: flex; flex-direction: column; flex-basis: 100%; flex: 1; padding: 10px; }\n",
       "    </style>\n",
       "<div class=\"wandb-row\"><div class=\"wandb-col\"><h3>Run history:</h3><br/><table class=\"wandb\"><tr><td>Test Accuracy</td><td>▁▂▂▂▂▁▆▆▂▆▁▆▇▆▇▂▇▆▂▇▇▇▂▇▇▇▇█████▇████▇██</td></tr><tr><td>Test F1</td><td>▁▂▇▇▇▆▇▆▇▇▆▇▇▆▇▇▇▇▇▇██▇▇▇▇▇█▇▇▇▇█████▇██</td></tr><tr><td>Test Loss</td><td>█████▇▇▇█▇▆▆▆▅▅▇▄▅▅▄▅▃▅▄▃▃▂▂▂▂▂▂▄▁▂▂▁▄▂▃</td></tr><tr><td>Test Sensitivity</td><td>▁▂███▇▆▄█▆▆▅▅▄▆█▆▇▇▅▇▆█▅▅▅▆▆▅▅▅▅▇▆▆▅▆▅▆▇</td></tr><tr><td>Test Specificity</td><td>██▁▁▁▂▆▇▁▆▃▇▇▇▇▁▇▅▂▇▅▆▂█▇▇▇▇▇▇▇▇▅▇▆▇▇█▇▆</td></tr><tr><td>Train Accuracy</td><td>▁▁▂▂▂▁▅▄▂▆▂▅▆▅▆▂▆▆▂▆▆▇▃▅▆▆▇▇▇▇▇▇▇▇█▇█▆▇█</td></tr><tr><td>Train F1</td><td>▁▂▇▇▇▆▇▆▇▇▆▆▇▆▇▇▇▇▇▇█▇▇▆▇▇▇█▇▇▇▇███▇█▇▇█</td></tr><tr><td>Train Loss</td><td>██████▇▇█▇▇▇▆▇▆▇▅▆▆▅▅▄▅▅▄▄▃▃▃▃▃▃▃▂▂▂▁▄▂▂</td></tr><tr><td>Train Sensitivity</td><td>▁▁███▇▆▄█▆▆▅▅▄▆█▆▇▇▅▇▆█▄▅▅▆▆▅▆▅▅█▆▇▅▇▅▆█</td></tr><tr><td>Train Specificity</td><td>██▁▁▁▂▆█▁▇▃▇▇█▇▁▇▅▂▇▅▆▂█▇▇▇▇▇▇██▆█▇█▇██▆</td></tr></table><br/></div><div class=\"wandb-col\"><h3>Run summary:</h3><br/><table class=\"wandb\"><tr><td>Test Accuracy</td><td>0.77433</td></tr><tr><td>Test F1</td><td>0.7861</td></tr><tr><td>Test Loss</td><td>0.50512</td></tr><tr><td>Test Sensitivity</td><td>0.81148</td></tr><tr><td>Test Specificity</td><td>0.73551</td></tr><tr><td>Train Accuracy</td><td>0.85886</td></tr><tr><td>Train F1</td><td>0.86938</td></tr><tr><td>Train Loss</td><td>0.36103</td></tr><tr><td>Train Sensitivity</td><td>0.89227</td></tr><tr><td>Train Specificity</td><td>0.82172</td></tr></table><br/></div></div>"
      ],
      "text/plain": [
       "<IPython.core.display.HTML object>"
      ]
     },
     "metadata": {},
     "output_type": "display_data"
    },
    {
     "data": {
      "text/html": [
       " View run <strong style=\"color:#cdcd00\">bright-sweep-82</strong> at: <a href='https://wandb.ai/dylan-home/pnca-sweep-1/runs/hrpqtbs8' target=\"_blank\">https://wandb.ai/dylan-home/pnca-sweep-1/runs/hrpqtbs8</a><br/>Synced 5 W&B file(s), 0 media file(s), 0 artifact file(s) and 0 other file(s)"
      ],
      "text/plain": [
       "<IPython.core.display.HTML object>"
      ]
     },
     "metadata": {},
     "output_type": "display_data"
    },
    {
     "data": {
      "text/html": [
       "Find logs at: <code>./wandb/run-20250116_071043-hrpqtbs8/logs</code>"
      ],
      "text/plain": [
       "<IPython.core.display.HTML object>"
      ]
     },
     "metadata": {},
     "output_type": "display_data"
    },
    {
     "name": "stderr",
     "output_type": "stream",
     "text": [
      "\u001b[34m\u001b[1mwandb\u001b[0m: Agent Starting Run: uxhjnk8l with config:\n",
      "\u001b[34m\u001b[1mwandb\u001b[0m: \tcutoff_distance: 3.2379950076653596\n",
      "\u001b[34m\u001b[1mwandb\u001b[0m: \tdropout: 0.8\n",
      "\u001b[34m\u001b[1mwandb\u001b[0m: \thidden_channels: 64\n",
      "\u001b[34m\u001b[1mwandb\u001b[0m: \tlearning_rate: 9.11856705487452e-05\n",
      "\u001b[34m\u001b[1mwandb\u001b[0m: \tweight_decay: 8.404400147797556e-05\n",
      "Failed to detect the name of this notebook, you can set it manually with the WANDB_NOTEBOOK_NAME environment variable to enable code saving.\n",
      "/usr/lib/python3/dist-packages/requests/__init__.py:87: RequestsDependencyWarning: urllib3 (2.2.3) or chardet (4.0.0) doesn't match a supported version!\n",
      "  warnings.warn(\"urllib3 ({}) or chardet ({}) doesn't match a supported \"\n"
     ]
    },
    {
     "data": {
      "text/html": [
       "wandb version 0.19.3 is available!  To upgrade, please run:\n",
       " $ pip install wandb --upgrade"
      ],
      "text/plain": [
       "<IPython.core.display.HTML object>"
      ]
     },
     "metadata": {},
     "output_type": "display_data"
    },
    {
     "data": {
      "text/html": [
       "Tracking run with wandb version 0.16.4"
      ],
      "text/plain": [
       "<IPython.core.display.HTML object>"
      ]
     },
     "metadata": {},
     "output_type": "display_data"
    },
    {
     "data": {
      "text/html": [
       "Run data is saved locally in <code>/mnt/alphafold-volume-1/dylan2/repos/tb-pnca-gnn/dd_pnca/wandb/run-20250116_072401-uxhjnk8l</code>"
      ],
      "text/plain": [
       "<IPython.core.display.HTML object>"
      ]
     },
     "metadata": {},
     "output_type": "display_data"
    },
    {
     "data": {
      "text/html": [
       "Syncing run <strong><a href='https://wandb.ai/dylan-home/pnca-sweep-1/runs/uxhjnk8l' target=\"_blank\">devout-sweep-83</a></strong> to <a href='https://wandb.ai/dylan-home/pnca-sweep-1' target=\"_blank\">Weights & Biases</a> (<a href='https://wandb.me/run' target=\"_blank\">docs</a>)<br/>Sweep page: <a href='https://wandb.ai/dylan-home/pnca-sweep-1/sweeps/tr8mwg42' target=\"_blank\">https://wandb.ai/dylan-home/pnca-sweep-1/sweeps/tr8mwg42</a>"
      ],
      "text/plain": [
       "<IPython.core.display.HTML object>"
      ]
     },
     "metadata": {},
     "output_type": "display_data"
    },
    {
     "data": {
      "text/html": [
       " View project at <a href='https://wandb.ai/dylan-home/pnca-sweep-1' target=\"_blank\">https://wandb.ai/dylan-home/pnca-sweep-1</a>"
      ],
      "text/plain": [
       "<IPython.core.display.HTML object>"
      ]
     },
     "metadata": {},
     "output_type": "display_data"
    },
    {
     "data": {
      "text/html": [
       " View sweep at <a href='https://wandb.ai/dylan-home/pnca-sweep-1/sweeps/tr8mwg42' target=\"_blank\">https://wandb.ai/dylan-home/pnca-sweep-1/sweeps/tr8mwg42</a>"
      ],
      "text/plain": [
       "<IPython.core.display.HTML object>"
      ]
     },
     "metadata": {},
     "output_type": "display_data"
    },
    {
     "data": {
      "text/html": [
       " View run at <a href='https://wandb.ai/dylan-home/pnca-sweep-1/runs/uxhjnk8l' target=\"_blank\">https://wandb.ai/dylan-home/pnca-sweep-1/runs/uxhjnk8l</a>"
      ],
      "text/plain": [
       "<IPython.core.display.HTML object>"
      ]
     },
     "metadata": {},
     "output_type": "display_data"
    },
    {
     "name": "stdout",
     "output_type": "stream",
     "text": [
      "Using CUDA\n",
      "Early stopping enabled. Patience: 20. Min Delta: 0.\n",
      "Epoch: 010, Train Acc: 0.5171, Test Acc: 0.5073, Train Loss: 0.6928, Test Loss: 0.6924\n",
      "Epoch: 020, Train Acc: 0.4354, Test Acc: 0.4437, Train Loss: 0.6927, Test Loss: 0.6911\n",
      "Epoch: 030, Train Acc: 0.4939, Test Acc: 0.4820, Train Loss: 0.6913, Test Loss: 0.6901\n",
      "Epoch: 040, Train Acc: 0.5029, Test Acc: 0.4987, Train Loss: 0.6905, Test Loss: 0.6894\n",
      "Epoch: 050, Train Acc: 0.6219, Test Acc: 0.6187, Train Loss: 0.6912, Test Loss: 0.6885\n",
      "Epoch: 060, Train Acc: 0.5260, Test Acc: 0.5107, Train Loss: 0.6895, Test Loss: 0.6899\n",
      "Epoch: 070, Train Acc: 0.5243, Test Acc: 0.5103, Train Loss: 0.6887, Test Loss: 0.6882\n",
      "Epoch: 080, Train Acc: 0.6063, Test Acc: 0.6183, Train Loss: 0.6892, Test Loss: 0.6854\n",
      "Epoch: 090, Train Acc: 0.5153, Test Acc: 0.5063, Train Loss: 0.6857, Test Loss: 0.6844\n",
      "Epoch: 100, Train Acc: 0.4924, Test Acc: 0.4847, Train Loss: 0.6846, Test Loss: 0.6820\n",
      "Epoch: 110, Train Acc: 0.5226, Test Acc: 0.5103, Train Loss: 0.6846, Test Loss: 0.6841\n",
      "Epoch: 120, Train Acc: 0.5917, Test Acc: 0.6283, Train Loss: 0.6860, Test Loss: 0.6805\n",
      "Epoch: 130, Train Acc: 0.6793, Test Acc: 0.6787, Train Loss: 0.6815, Test Loss: 0.6770\n",
      "Epoch: 140, Train Acc: 0.5044, Test Acc: 0.4910, Train Loss: 0.6794, Test Loss: 0.6769\n",
      "Epoch: 150, Train Acc: 0.4776, Test Acc: 0.4790, Train Loss: 0.6772, Test Loss: 0.6731\n",
      "Epoch: 160, Train Acc: 0.6906, Test Acc: 0.6813, Train Loss: 0.6757, Test Loss: 0.6705\n",
      "Epoch: 170, Train Acc: 0.5110, Test Acc: 0.4970, Train Loss: 0.6744, Test Loss: 0.6728\n",
      "Epoch: 180, Train Acc: 0.6790, Test Acc: 0.6730, Train Loss: 0.6719, Test Loss: 0.6653\n",
      "Epoch: 190, Train Acc: 0.4994, Test Acc: 0.4880, Train Loss: 0.6673, Test Loss: 0.6640\n",
      "Epoch: 200, Train Acc: 0.6997, Test Acc: 0.6920, Train Loss: 0.6637, Test Loss: 0.6572\n",
      "Epoch: 210, Train Acc: 0.4920, Test Acc: 0.4703, Train Loss: 0.6588, Test Loss: 0.6548\n",
      "Epoch: 220, Train Acc: 0.4989, Test Acc: 0.4760, Train Loss: 0.6557, Test Loss: 0.6506\n",
      "Epoch: 230, Train Acc: 0.5100, Test Acc: 0.4870, Train Loss: 0.6548, Test Loss: 0.6528\n",
      "Epoch: 240, Train Acc: 0.7127, Test Acc: 0.7003, Train Loss: 0.6452, Test Loss: 0.6354\n",
      "Epoch: 250, Train Acc: 0.7203, Test Acc: 0.7113, Train Loss: 0.6387, Test Loss: 0.6308\n",
      "Epoch: 260, Train Acc: 0.6971, Test Acc: 0.6950, Train Loss: 0.6368, Test Loss: 0.6264\n",
      "Epoch: 270, Train Acc: 0.5061, Test Acc: 0.4990, Train Loss: 0.6319, Test Loss: 0.6285\n",
      "Epoch: 280, Train Acc: 0.7330, Test Acc: 0.7147, Train Loss: 0.6232, Test Loss: 0.6158\n",
      "Epoch: 290, Train Acc: 0.7046, Test Acc: 0.6963, Train Loss: 0.6189, Test Loss: 0.6097\n",
      "Epoch: 300, Train Acc: 0.7399, Test Acc: 0.7280, Train Loss: 0.6130, Test Loss: 0.6078\n",
      "Epoch: 310, Train Acc: 0.7430, Test Acc: 0.7310, Train Loss: 0.6068, Test Loss: 0.6046\n",
      "Epoch: 320, Train Acc: 0.7503, Test Acc: 0.7240, Train Loss: 0.6024, Test Loss: 0.5980\n",
      "Epoch: 330, Train Acc: 0.5270, Test Acc: 0.4860, Train Loss: 0.6082, Test Loss: 0.6147\n",
      "Epoch: 340, Train Acc: 0.7543, Test Acc: 0.7260, Train Loss: 0.5904, Test Loss: 0.5901\n",
      "Epoch: 350, Train Acc: 0.7266, Test Acc: 0.7073, Train Loss: 0.5857, Test Loss: 0.5820\n",
      "Epoch: 360, Train Acc: 0.7386, Test Acc: 0.7117, Train Loss: 0.5791, Test Loss: 0.5775\n",
      "Epoch: 370, Train Acc: 0.6454, Test Acc: 0.6897, Train Loss: 0.6163, Test Loss: 0.6016\n",
      "Epoch: 380, Train Acc: 0.7541, Test Acc: 0.7227, Train Loss: 0.5679, Test Loss: 0.5718\n",
      "Epoch: 390, Train Acc: 0.6583, Test Acc: 0.6923, Train Loss: 0.6024, Test Loss: 0.5929\n",
      "Epoch: 400, Train Acc: 0.6931, Test Acc: 0.7017, Train Loss: 0.5828, Test Loss: 0.5782\n",
      "Epoch: 410, Train Acc: 0.7580, Test Acc: 0.7433, Train Loss: 0.5634, Test Loss: 0.5781\n",
      "Epoch: 420, Train Acc: 0.7671, Test Acc: 0.7430, Train Loss: 0.5537, Test Loss: 0.5697\n",
      "Epoch: 430, Train Acc: 0.7571, Test Acc: 0.7427, Train Loss: 0.5589, Test Loss: 0.5776\n",
      "Epoch: 440, Train Acc: 0.7631, Test Acc: 0.7443, Train Loss: 0.5544, Test Loss: 0.5718\n",
      "Epoch: 450, Train Acc: 0.7481, Test Acc: 0.7240, Train Loss: 0.5376, Test Loss: 0.5449\n",
      "Epoch: 460, Train Acc: 0.7509, Test Acc: 0.7353, Train Loss: 0.5234, Test Loss: 0.5395\n",
      "Epoch: 470, Train Acc: 0.7666, Test Acc: 0.7250, Train Loss: 0.5505, Test Loss: 0.5753\n",
      "Epoch: 480, Train Acc: 0.7554, Test Acc: 0.7263, Train Loss: 0.5226, Test Loss: 0.5360\n",
      "Epoch: 490, Train Acc: 0.7739, Test Acc: 0.7363, Train Loss: 0.5386, Test Loss: 0.5665\n",
      "Epoch: 500, Train Acc: 0.7713, Test Acc: 0.7300, Train Loss: 0.5422, Test Loss: 0.5722\n"
     ]
    },
    {
     "data": {
      "text/html": [
       "<style>\n",
       "    table.wandb td:nth-child(1) { padding: 0 10px; text-align: left ; width: auto;} td:nth-child(2) {text-align: left ; width: 100%}\n",
       "    .wandb-row { display: flex; flex-direction: row; flex-wrap: wrap; justify-content: flex-start; width: 100% }\n",
       "    .wandb-col { display: flex; flex-direction: column; flex-basis: 100%; flex: 1; padding: 10px; }\n",
       "    </style>\n",
       "<div class=\"wandb-row\"><div class=\"wandb-col\"><h3>Run history:</h3><br/><table class=\"wandb\"><tr><td>Test Accuracy</td><td>▂▁▃▃▃▂▅▃▃▃▂▃▃▃▆▂▇▂▆▆▇▇▇▇▃█▇▇▇▇▇▇▇██▇████</td></tr><tr><td>Test F1</td><td>▅▁▆▆▆▄▁▆▆▆▄▅▆▄▅▅▆▅▃▄▆▅▆▅▅▇▅▇▆▇▆▅▆██▆▇█▆▇</td></tr><tr><td>Test Loss</td><td>████████▇▇▇▇▇▇▇▇▆▆▆▆▅▅▅▄▅▄▄▃▃▃▃▃▂▃▃▂▁▂▁▁</td></tr><tr><td>Test Sensitivity</td><td>▇▃███▆▁███▆▇█▆▃▇▄▆▂▂▄▃▄▃▆▅▃▅▄▄▃▃▄▆▆▃▄▆▄▅</td></tr><tr><td>Test Specificity</td><td>▁▃▁▁▁▂█▁▁▁▂▁▁▃▇▁▆▂██▇▇▇▇▂▇▇▇▇▇██▇▆▆█▇▆█▇</td></tr><tr><td>Train Accuracy</td><td>▂▁▃▃▃▂▅▃▃▃▂▃▃▂▆▃▇▃▅▆▇▆▇▇▃█▇█▇█▇▇███▇██▇█</td></tr><tr><td>Train F1</td><td>▅▂▆▆▆▄▁▆▆▆▄▆▆▄▄▅▆▅▂▃▆▅▆▅▅▇▅▇▆▇▆▅▇██▆▇█▆▇</td></tr><tr><td>Train Loss</td><td>███████████▇▇▇▇▇▇▇▇▆▆▆▅▅▅▄▄▄▄▃▃▃▃▃▃▂▁▂▁▁</td></tr><tr><td>Train Sensitivity</td><td>▆▃███▆▁███▆▇█▅▃▇▄▇▂▂▄▃▄▃▆▅▃▅▄▅▄▃▄▆▆▄▅▆▄▅</td></tr><tr><td>Train Specificity</td><td>▁▃▁▁▁▂█▁▁▁▂▁▁▂█▁▇▂██▇█▇█▂▇█▇▇▇██▇▆▆█▇▆█▇</td></tr></table><br/></div><div class=\"wandb-col\"><h3>Run summary:</h3><br/><table class=\"wandb\"><tr><td>Test Accuracy</td><td>0.73</td></tr><tr><td>Test F1</td><td>0.76288</td></tr><tr><td>Test Loss</td><td>0.57216</td></tr><tr><td>Test Sensitivity</td><td>0.84997</td></tr><tr><td>Test Specificity</td><td>0.60464</td></tr><tr><td>Train Accuracy</td><td>0.77129</td></tr><tr><td>Train F1</td><td>0.80459</td></tr><tr><td>Train Loss</td><td>0.54223</td></tr><tr><td>Train Sensitivity</td><td>0.89444</td></tr><tr><td>Train Specificity</td><td>0.63439</td></tr></table><br/></div></div>"
      ],
      "text/plain": [
       "<IPython.core.display.HTML object>"
      ]
     },
     "metadata": {},
     "output_type": "display_data"
    },
    {
     "data": {
      "text/html": [
       " View run <strong style=\"color:#cdcd00\">devout-sweep-83</strong> at: <a href='https://wandb.ai/dylan-home/pnca-sweep-1/runs/uxhjnk8l' target=\"_blank\">https://wandb.ai/dylan-home/pnca-sweep-1/runs/uxhjnk8l</a><br/>Synced 5 W&B file(s), 0 media file(s), 0 artifact file(s) and 0 other file(s)"
      ],
      "text/plain": [
       "<IPython.core.display.HTML object>"
      ]
     },
     "metadata": {},
     "output_type": "display_data"
    },
    {
     "data": {
      "text/html": [
       "Find logs at: <code>./wandb/run-20250116_072401-uxhjnk8l/logs</code>"
      ],
      "text/plain": [
       "<IPython.core.display.HTML object>"
      ]
     },
     "metadata": {},
     "output_type": "display_data"
    },
    {
     "name": "stderr",
     "output_type": "stream",
     "text": [
      "\u001b[34m\u001b[1mwandb\u001b[0m: Agent Starting Run: 86rkpnck with config:\n",
      "\u001b[34m\u001b[1mwandb\u001b[0m: \tcutoff_distance: 5.606442000445716\n",
      "\u001b[34m\u001b[1mwandb\u001b[0m: \tdropout: 0.5\n",
      "\u001b[34m\u001b[1mwandb\u001b[0m: \thidden_channels: 64\n",
      "\u001b[34m\u001b[1mwandb\u001b[0m: \tlearning_rate: 7.843964830427241e-05\n",
      "\u001b[34m\u001b[1mwandb\u001b[0m: \tweight_decay: 0.003777671582553796\n",
      "Failed to detect the name of this notebook, you can set it manually with the WANDB_NOTEBOOK_NAME environment variable to enable code saving.\n",
      "/usr/lib/python3/dist-packages/requests/__init__.py:87: RequestsDependencyWarning: urllib3 (2.2.3) or chardet (4.0.0) doesn't match a supported version!\n",
      "  warnings.warn(\"urllib3 ({}) or chardet ({}) doesn't match a supported \"\n"
     ]
    },
    {
     "data": {
      "text/html": [
       "wandb version 0.19.3 is available!  To upgrade, please run:\n",
       " $ pip install wandb --upgrade"
      ],
      "text/plain": [
       "<IPython.core.display.HTML object>"
      ]
     },
     "metadata": {},
     "output_type": "display_data"
    },
    {
     "data": {
      "text/html": [
       "Tracking run with wandb version 0.16.4"
      ],
      "text/plain": [
       "<IPython.core.display.HTML object>"
      ]
     },
     "metadata": {},
     "output_type": "display_data"
    },
    {
     "data": {
      "text/html": [
       "Run data is saved locally in <code>/mnt/alphafold-volume-1/dylan2/repos/tb-pnca-gnn/dd_pnca/wandb/run-20250116_073807-86rkpnck</code>"
      ],
      "text/plain": [
       "<IPython.core.display.HTML object>"
      ]
     },
     "metadata": {},
     "output_type": "display_data"
    },
    {
     "data": {
      "text/html": [
       "Syncing run <strong><a href='https://wandb.ai/dylan-home/pnca-sweep-1/runs/86rkpnck' target=\"_blank\">kind-sweep-84</a></strong> to <a href='https://wandb.ai/dylan-home/pnca-sweep-1' target=\"_blank\">Weights & Biases</a> (<a href='https://wandb.me/run' target=\"_blank\">docs</a>)<br/>Sweep page: <a href='https://wandb.ai/dylan-home/pnca-sweep-1/sweeps/tr8mwg42' target=\"_blank\">https://wandb.ai/dylan-home/pnca-sweep-1/sweeps/tr8mwg42</a>"
      ],
      "text/plain": [
       "<IPython.core.display.HTML object>"
      ]
     },
     "metadata": {},
     "output_type": "display_data"
    },
    {
     "data": {
      "text/html": [
       " View project at <a href='https://wandb.ai/dylan-home/pnca-sweep-1' target=\"_blank\">https://wandb.ai/dylan-home/pnca-sweep-1</a>"
      ],
      "text/plain": [
       "<IPython.core.display.HTML object>"
      ]
     },
     "metadata": {},
     "output_type": "display_data"
    },
    {
     "data": {
      "text/html": [
       " View sweep at <a href='https://wandb.ai/dylan-home/pnca-sweep-1/sweeps/tr8mwg42' target=\"_blank\">https://wandb.ai/dylan-home/pnca-sweep-1/sweeps/tr8mwg42</a>"
      ],
      "text/plain": [
       "<IPython.core.display.HTML object>"
      ]
     },
     "metadata": {},
     "output_type": "display_data"
    },
    {
     "data": {
      "text/html": [
       " View run at <a href='https://wandb.ai/dylan-home/pnca-sweep-1/runs/86rkpnck' target=\"_blank\">https://wandb.ai/dylan-home/pnca-sweep-1/runs/86rkpnck</a>"
      ],
      "text/plain": [
       "<IPython.core.display.HTML object>"
      ]
     },
     "metadata": {},
     "output_type": "display_data"
    },
    {
     "name": "stdout",
     "output_type": "stream",
     "text": [
      "Using CUDA\n",
      "Early stopping enabled. Patience: 20. Min Delta: 0.\n",
      "Epoch: 010, Train Acc: 0.5241, Test Acc: 0.5097, Train Loss: 0.6921, Test Loss: 0.6922\n",
      "Epoch: 020, Train Acc: 0.4859, Test Acc: 0.4743, Train Loss: 0.6913, Test Loss: 0.6903\n",
      "Epoch: 030, Train Acc: 0.4747, Test Acc: 0.4667, Train Loss: 0.6908, Test Loss: 0.6893\n",
      "Epoch: 040, Train Acc: 0.4960, Test Acc: 0.4890, Train Loss: 0.6895, Test Loss: 0.6880\n",
      "Epoch: 050, Train Acc: 0.6390, Test Acc: 0.6440, Train Loss: 0.6899, Test Loss: 0.6870\n",
      "Epoch: 060, Train Acc: 0.5264, Test Acc: 0.5110, Train Loss: 0.6894, Test Loss: 0.6906\n",
      "Epoch: 070, Train Acc: 0.5263, Test Acc: 0.5110, Train Loss: 0.6877, Test Loss: 0.6877\n",
      "Epoch: 080, Train Acc: 0.5337, Test Acc: 0.5867, Train Loss: 0.6904, Test Loss: 0.6847\n",
      "Epoch: 090, Train Acc: 0.5174, Test Acc: 0.5080, Train Loss: 0.6837, Test Loss: 0.6825\n",
      "Epoch: 100, Train Acc: 0.5007, Test Acc: 0.4863, Train Loss: 0.6815, Test Loss: 0.6790\n",
      "Epoch: 110, Train Acc: 0.5236, Test Acc: 0.5100, Train Loss: 0.6819, Test Loss: 0.6813\n",
      "Epoch: 120, Train Acc: 0.5976, Test Acc: 0.6357, Train Loss: 0.6824, Test Loss: 0.6757\n",
      "Epoch: 130, Train Acc: 0.6406, Test Acc: 0.6513, Train Loss: 0.6792, Test Loss: 0.6724\n",
      "Epoch: 140, Train Acc: 0.5010, Test Acc: 0.4840, Train Loss: 0.6736, Test Loss: 0.6705\n",
      "Epoch: 150, Train Acc: 0.4791, Test Acc: 0.4863, Train Loss: 0.6709, Test Loss: 0.6662\n",
      "Epoch: 160, Train Acc: 0.4919, Test Acc: 0.4730, Train Loss: 0.6672, Test Loss: 0.6634\n",
      "Epoch: 170, Train Acc: 0.5246, Test Acc: 0.5100, Train Loss: 0.6789, Test Loss: 0.6815\n",
      "Epoch: 180, Train Acc: 0.5066, Test Acc: 0.4837, Train Loss: 0.6612, Test Loss: 0.6593\n",
      "Epoch: 190, Train Acc: 0.7070, Test Acc: 0.6890, Train Loss: 0.6551, Test Loss: 0.6497\n",
      "Epoch: 200, Train Acc: 0.7060, Test Acc: 0.6890, Train Loss: 0.6519, Test Loss: 0.6442\n",
      "Epoch: 210, Train Acc: 0.7024, Test Acc: 0.6830, Train Loss: 0.6468, Test Loss: 0.6393\n",
      "Epoch: 220, Train Acc: 0.7200, Test Acc: 0.7017, Train Loss: 0.6403, Test Loss: 0.6349\n",
      "Epoch: 230, Train Acc: 0.7210, Test Acc: 0.6943, Train Loss: 0.6344, Test Loss: 0.6300\n",
      "Epoch: 240, Train Acc: 0.6830, Test Acc: 0.6830, Train Loss: 0.6330, Test Loss: 0.6217\n",
      "Epoch: 250, Train Acc: 0.7370, Test Acc: 0.7210, Train Loss: 0.6201, Test Loss: 0.6157\n",
      "Epoch: 260, Train Acc: 0.5880, Test Acc: 0.6480, Train Loss: 0.6637, Test Loss: 0.6426\n",
      "Epoch: 270, Train Acc: 0.7444, Test Acc: 0.7220, Train Loss: 0.6097, Test Loss: 0.6077\n",
      "Epoch: 280, Train Acc: 0.6973, Test Acc: 0.6897, Train Loss: 0.6089, Test Loss: 0.6001\n",
      "Epoch: 290, Train Acc: 0.7126, Test Acc: 0.6927, Train Loss: 0.5990, Test Loss: 0.5930\n",
      "Epoch: 300, Train Acc: 0.7486, Test Acc: 0.7060, Train Loss: 0.5960, Test Loss: 0.5998\n",
      "Epoch: 310, Train Acc: 0.7564, Test Acc: 0.7317, Train Loss: 0.5830, Test Loss: 0.5865\n",
      "Epoch: 320, Train Acc: 0.7441, Test Acc: 0.7070, Train Loss: 0.5883, Test Loss: 0.5963\n",
      "Epoch: 330, Train Acc: 0.5290, Test Acc: 0.4947, Train Loss: 0.6180, Test Loss: 0.6367\n",
      "Epoch: 340, Train Acc: 0.7576, Test Acc: 0.7233, Train Loss: 0.5627, Test Loss: 0.5678\n",
      "Epoch: 350, Train Acc: 0.7367, Test Acc: 0.7003, Train Loss: 0.5615, Test Loss: 0.5647\n",
      "Epoch: 360, Train Acc: 0.7586, Test Acc: 0.7277, Train Loss: 0.5509, Test Loss: 0.5588\n",
      "Epoch: 370, Train Acc: 0.7679, Test Acc: 0.7340, Train Loss: 0.5599, Test Loss: 0.5775\n",
      "Epoch: 380, Train Acc: 0.7666, Test Acc: 0.7333, Train Loss: 0.5394, Test Loss: 0.5525\n",
      "Epoch: 390, Train Acc: 0.6796, Test Acc: 0.6987, Train Loss: 0.5856, Test Loss: 0.5860\n",
      "Epoch: 400, Train Acc: 0.7324, Test Acc: 0.7097, Train Loss: 0.5413, Test Loss: 0.5505\n",
      "Epoch: 410, Train Acc: 0.7714, Test Acc: 0.7390, Train Loss: 0.5258, Test Loss: 0.5457\n",
      "Epoch: 420, Train Acc: 0.7841, Test Acc: 0.7470, Train Loss: 0.5317, Test Loss: 0.5577\n",
      "Epoch: 430, Train Acc: 0.7720, Test Acc: 0.7407, Train Loss: 0.5172, Test Loss: 0.5405\n",
      "Epoch: 440, Train Acc: 0.7681, Test Acc: 0.7273, Train Loss: 0.5156, Test Loss: 0.5334\n",
      "Epoch: 450, Train Acc: 0.7760, Test Acc: 0.7393, Train Loss: 0.5092, Test Loss: 0.5316\n",
      "Epoch: 460, Train Acc: 0.7734, Test Acc: 0.7433, Train Loss: 0.5030, Test Loss: 0.5320\n",
      "Epoch: 470, Train Acc: 0.7914, Test Acc: 0.7430, Train Loss: 0.5189, Test Loss: 0.5516\n",
      "Epoch: 480, Train Acc: 0.7771, Test Acc: 0.7387, Train Loss: 0.4985, Test Loss: 0.5231\n",
      "Epoch: 490, Train Acc: 0.7757, Test Acc: 0.7247, Train Loss: 0.5357, Test Loss: 0.5740\n",
      "Epoch: 500, Train Acc: 0.7937, Test Acc: 0.7357, Train Loss: 0.5169, Test Loss: 0.5540\n"
     ]
    },
    {
     "data": {
      "text/html": [
       "<style>\n",
       "    table.wandb td:nth-child(1) { padding: 0 10px; text-align: left ; width: auto;} td:nth-child(2) {text-align: left ; width: 100%}\n",
       "    .wandb-row { display: flex; flex-direction: row; flex-wrap: wrap; justify-content: flex-start; width: 100% }\n",
       "    .wandb-col { display: flex; flex-direction: column; flex-basis: 100%; flex: 1; padding: 10px; }\n",
       "    </style>\n",
       "<div class=\"wandb-row\"><div class=\"wandb-col\"><h3>Run history:</h3><br/><table class=\"wandb\"><tr><td>Test Accuracy</td><td>▃▁▃▂▂▂▄▃▂▂▆▂▂▇▂▂▇▇▇▆▇▇▇▇▇▇▇▇█▇▇█▇█▇█████</td></tr><tr><td>Test F1</td><td>▇▄▇▆▇▆▁▇▇▆▄▆▆▆▆▇▇▇▆▅▆▇▆▆▇█▆▆▇█▆▇▇██▇██▇▇</td></tr><tr><td>Test Loss</td><td>████████▇▇▇▇▇▇▇▇▆▆▅▅▅▄▄▄▄▄▃▃▂▄▂▂▂▂▃▁▁▂▁▁</td></tr><tr><td>Test Sensitivity</td><td>█▄███▇▁██▇▂▇▇▅▇█▅▅▄▃▄▅▄▄▅▆▄▄▅▇▄▅▅▆▇▅▅▆▅▄</td></tr><tr><td>Test Specificity</td><td>▁▃▁▁▁▁█▁▁▁█▁▁▇▁▁▇▆▇█▇▇▇▇▇▅▇▇▇▅▇▇▇▆▅▇▆▆▇▇</td></tr><tr><td>Train Accuracy</td><td>▃▁▃▂▃▂▃▃▃▂▄▂▂▆▃▃▇▇▆▅▇▇▆▇▇▇▇▇▇▇▇█▇███████</td></tr><tr><td>Train F1</td><td>▇▄▇▆▇▆▁▇▇▆▃▆▆▆▆▇▇▇▆▄▆▇▆▆▇█▇▇▇█▇▇▇█████▇▇</td></tr><tr><td>Train Loss</td><td>█████████▇█▇▇▇▇▇▆▆▆▆▅▅▅▄▄▄▄▃▃▄▃▂▂▂▃▁▁▁▁▁</td></tr><tr><td>Train Sensitivity</td><td>█▄█▇█▇▁██▇▂▇▇▅▇█▅▆▄▃▄▅▄▄▆▇▅▅▅▇▄▅▅▇▇▆▆▇▅▅</td></tr><tr><td>Train Specificity</td><td>▁▃▁▁▁▁█▁▁▁█▁▁▇▁▁▇▆▇█▇▇█▇▇▅▇▇▇▅█▇▇▆▅▇▇▆▇▇</td></tr></table><br/></div><div class=\"wandb-col\"><h3>Run summary:</h3><br/><table class=\"wandb\"><tr><td>Test Accuracy</td><td>0.73567</td></tr><tr><td>Test F1</td><td>0.76179</td></tr><tr><td>Test Loss</td><td>0.554</td></tr><tr><td>Test Sensitivity</td><td>0.82714</td></tr><tr><td>Test Specificity</td><td>0.64008</td></tr><tr><td>Train Accuracy</td><td>0.79371</td></tr><tr><td>Train F1</td><td>0.8161</td></tr><tr><td>Train Loss</td><td>0.51693</td></tr><tr><td>Train Sensitivity</td><td>0.86947</td></tr><tr><td>Train Specificity</td><td>0.7095</td></tr></table><br/></div></div>"
      ],
      "text/plain": [
       "<IPython.core.display.HTML object>"
      ]
     },
     "metadata": {},
     "output_type": "display_data"
    },
    {
     "data": {
      "text/html": [
       " View run <strong style=\"color:#cdcd00\">kind-sweep-84</strong> at: <a href='https://wandb.ai/dylan-home/pnca-sweep-1/runs/86rkpnck' target=\"_blank\">https://wandb.ai/dylan-home/pnca-sweep-1/runs/86rkpnck</a><br/>Synced 5 W&B file(s), 0 media file(s), 0 artifact file(s) and 0 other file(s)"
      ],
      "text/plain": [
       "<IPython.core.display.HTML object>"
      ]
     },
     "metadata": {},
     "output_type": "display_data"
    },
    {
     "data": {
      "text/html": [
       "Find logs at: <code>./wandb/run-20250116_073807-86rkpnck/logs</code>"
      ],
      "text/plain": [
       "<IPython.core.display.HTML object>"
      ]
     },
     "metadata": {},
     "output_type": "display_data"
    },
    {
     "name": "stderr",
     "output_type": "stream",
     "text": [
      "\u001b[34m\u001b[1mwandb\u001b[0m: Sweep Agent: Waiting for job.\n",
      "\u001b[34m\u001b[1mwandb\u001b[0m: Job received.\n",
      "\u001b[34m\u001b[1mwandb\u001b[0m: Agent Starting Run: ap89hjfj with config:\n",
      "\u001b[34m\u001b[1mwandb\u001b[0m: \tcutoff_distance: 8.620068560904055\n",
      "\u001b[34m\u001b[1mwandb\u001b[0m: \tdropout: 0.4\n",
      "\u001b[34m\u001b[1mwandb\u001b[0m: \thidden_channels: 256\n",
      "\u001b[34m\u001b[1mwandb\u001b[0m: \tlearning_rate: 0.0006261127596390542\n",
      "\u001b[34m\u001b[1mwandb\u001b[0m: \tweight_decay: 3.282863758593538e-05\n",
      "Failed to detect the name of this notebook, you can set it manually with the WANDB_NOTEBOOK_NAME environment variable to enable code saving.\n",
      "/usr/lib/python3/dist-packages/requests/__init__.py:87: RequestsDependencyWarning: urllib3 (2.2.3) or chardet (4.0.0) doesn't match a supported version!\n",
      "  warnings.warn(\"urllib3 ({}) or chardet ({}) doesn't match a supported \"\n"
     ]
    },
    {
     "data": {
      "text/html": [
       "wandb version 0.19.3 is available!  To upgrade, please run:\n",
       " $ pip install wandb --upgrade"
      ],
      "text/plain": [
       "<IPython.core.display.HTML object>"
      ]
     },
     "metadata": {},
     "output_type": "display_data"
    },
    {
     "data": {
      "text/html": [
       "Tracking run with wandb version 0.16.4"
      ],
      "text/plain": [
       "<IPython.core.display.HTML object>"
      ]
     },
     "metadata": {},
     "output_type": "display_data"
    },
    {
     "data": {
      "text/html": [
       "Run data is saved locally in <code>/mnt/alphafold-volume-1/dylan2/repos/tb-pnca-gnn/dd_pnca/wandb/run-20250116_075202-ap89hjfj</code>"
      ],
      "text/plain": [
       "<IPython.core.display.HTML object>"
      ]
     },
     "metadata": {},
     "output_type": "display_data"
    },
    {
     "data": {
      "text/html": [
       "Syncing run <strong><a href='https://wandb.ai/dylan-home/pnca-sweep-1/runs/ap89hjfj' target=\"_blank\">dandy-sweep-85</a></strong> to <a href='https://wandb.ai/dylan-home/pnca-sweep-1' target=\"_blank\">Weights & Biases</a> (<a href='https://wandb.me/run' target=\"_blank\">docs</a>)<br/>Sweep page: <a href='https://wandb.ai/dylan-home/pnca-sweep-1/sweeps/tr8mwg42' target=\"_blank\">https://wandb.ai/dylan-home/pnca-sweep-1/sweeps/tr8mwg42</a>"
      ],
      "text/plain": [
       "<IPython.core.display.HTML object>"
      ]
     },
     "metadata": {},
     "output_type": "display_data"
    },
    {
     "data": {
      "text/html": [
       " View project at <a href='https://wandb.ai/dylan-home/pnca-sweep-1' target=\"_blank\">https://wandb.ai/dylan-home/pnca-sweep-1</a>"
      ],
      "text/plain": [
       "<IPython.core.display.HTML object>"
      ]
     },
     "metadata": {},
     "output_type": "display_data"
    },
    {
     "data": {
      "text/html": [
       " View sweep at <a href='https://wandb.ai/dylan-home/pnca-sweep-1/sweeps/tr8mwg42' target=\"_blank\">https://wandb.ai/dylan-home/pnca-sweep-1/sweeps/tr8mwg42</a>"
      ],
      "text/plain": [
       "<IPython.core.display.HTML object>"
      ]
     },
     "metadata": {},
     "output_type": "display_data"
    },
    {
     "data": {
      "text/html": [
       " View run at <a href='https://wandb.ai/dylan-home/pnca-sweep-1/runs/ap89hjfj' target=\"_blank\">https://wandb.ai/dylan-home/pnca-sweep-1/runs/ap89hjfj</a>"
      ],
      "text/plain": [
       "<IPython.core.display.HTML object>"
      ]
     },
     "metadata": {},
     "output_type": "display_data"
    },
    {
     "name": "stdout",
     "output_type": "stream",
     "text": [
      "Using CUDA\n",
      "Early stopping enabled. Patience: 20. Min Delta: 0.\n",
      "Epoch: 010, Train Acc: 0.5264, Test Acc: 0.5110, Train Loss: 0.6918, Test Loss: 0.6937\n",
      "Epoch: 020, Train Acc: 0.5264, Test Acc: 0.5110, Train Loss: 0.6911, Test Loss: 0.6920\n",
      "20 epochs passed without 0 test loss improvement. \n",
      "Early stopping triggered.\n"
     ]
    },
    {
     "data": {
      "text/html": [
       "<style>\n",
       "    table.wandb td:nth-child(1) { padding: 0 10px; text-align: left ; width: auto;} td:nth-child(2) {text-align: left ; width: 100%}\n",
       "    .wandb-row { display: flex; flex-direction: row; flex-wrap: wrap; justify-content: flex-start; width: 100% }\n",
       "    .wandb-col { display: flex; flex-direction: column; flex-basis: 100%; flex: 1; padding: 10px; }\n",
       "    </style>\n",
       "<div class=\"wandb-row\"><div class=\"wandb-col\"><h3>Run history:</h3><br/><table class=\"wandb\"><tr><td>Test Accuracy</td><td>▁█████████████████████</td></tr><tr><td>Test F1</td><td>▁█████████████████████</td></tr><tr><td>Test Loss</td><td>█▁▁▁▁▁▁▁▁▁▁▁▁▁▁▁▁▁▁▁▁▁</td></tr><tr><td>Test Sensitivity</td><td>▁█████████████████████</td></tr><tr><td>Test Specificity</td><td>█▁▁▁▁▁▁▁▁▁▁▁▁▁▁▁▁▁▁▁▁▁</td></tr><tr><td>Train Accuracy</td><td>▁█████████████████████</td></tr><tr><td>Train F1</td><td>▁█████████████████████</td></tr><tr><td>Train Loss</td><td>█▁▁▁▁▁▁▁▁▁▁▁▁▁▁▁▁▁▁▁▁▁</td></tr><tr><td>Train Sensitivity</td><td>▁█████████████████████</td></tr><tr><td>Train Specificity</td><td>█▁▁▁▁▁▁▁▁▁▁▁▁▁▁▁▁▁▁▁▁▁</td></tr></table><br/></div><div class=\"wandb-col\"><h3>Run summary:</h3><br/><table class=\"wandb\"><tr><td>Test Accuracy</td><td>0.511</td></tr><tr><td>Test F1</td><td>0.67637</td></tr><tr><td>Test Loss</td><td>0.69243</td></tr><tr><td>Test Sensitivity</td><td>1.0</td></tr><tr><td>Test Specificity</td><td>0.0</td></tr><tr><td>Train Accuracy</td><td>0.52643</td></tr><tr><td>Train F1</td><td>0.68975</td></tr><tr><td>Train Loss</td><td>0.69101</td></tr><tr><td>Train Sensitivity</td><td>1.0</td></tr><tr><td>Train Specificity</td><td>0.0</td></tr></table><br/></div></div>"
      ],
      "text/plain": [
       "<IPython.core.display.HTML object>"
      ]
     },
     "metadata": {},
     "output_type": "display_data"
    },
    {
     "data": {
      "text/html": [
       " View run <strong style=\"color:#cdcd00\">dandy-sweep-85</strong> at: <a href='https://wandb.ai/dylan-home/pnca-sweep-1/runs/ap89hjfj' target=\"_blank\">https://wandb.ai/dylan-home/pnca-sweep-1/runs/ap89hjfj</a><br/>Synced 5 W&B file(s), 0 media file(s), 0 artifact file(s) and 0 other file(s)"
      ],
      "text/plain": [
       "<IPython.core.display.HTML object>"
      ]
     },
     "metadata": {},
     "output_type": "display_data"
    },
    {
     "data": {
      "text/html": [
       "Find logs at: <code>./wandb/run-20250116_075202-ap89hjfj/logs</code>"
      ],
      "text/plain": [
       "<IPython.core.display.HTML object>"
      ]
     },
     "metadata": {},
     "output_type": "display_data"
    },
    {
     "name": "stderr",
     "output_type": "stream",
     "text": [
      "\u001b[34m\u001b[1mwandb\u001b[0m: Agent Starting Run: 9cf3k2k1 with config:\n",
      "\u001b[34m\u001b[1mwandb\u001b[0m: \tcutoff_distance: 6.606614727149987\n",
      "\u001b[34m\u001b[1mwandb\u001b[0m: \tdropout: 0.5\n",
      "\u001b[34m\u001b[1mwandb\u001b[0m: \thidden_channels: 64\n",
      "\u001b[34m\u001b[1mwandb\u001b[0m: \tlearning_rate: 0.000308563746680901\n",
      "\u001b[34m\u001b[1mwandb\u001b[0m: \tweight_decay: 0.0001860651430612783\n",
      "Failed to detect the name of this notebook, you can set it manually with the WANDB_NOTEBOOK_NAME environment variable to enable code saving.\n",
      "/usr/lib/python3/dist-packages/requests/__init__.py:87: RequestsDependencyWarning: urllib3 (2.2.3) or chardet (4.0.0) doesn't match a supported version!\n",
      "  warnings.warn(\"urllib3 ({}) or chardet ({}) doesn't match a supported \"\n"
     ]
    },
    {
     "data": {
      "text/html": [
       "wandb version 0.19.3 is available!  To upgrade, please run:\n",
       " $ pip install wandb --upgrade"
      ],
      "text/plain": [
       "<IPython.core.display.HTML object>"
      ]
     },
     "metadata": {},
     "output_type": "display_data"
    },
    {
     "data": {
      "text/html": [
       "Tracking run with wandb version 0.16.4"
      ],
      "text/plain": [
       "<IPython.core.display.HTML object>"
      ]
     },
     "metadata": {},
     "output_type": "display_data"
    },
    {
     "data": {
      "text/html": [
       "Run data is saved locally in <code>/mnt/alphafold-volume-1/dylan2/repos/tb-pnca-gnn/dd_pnca/wandb/run-20250116_075259-9cf3k2k1</code>"
      ],
      "text/plain": [
       "<IPython.core.display.HTML object>"
      ]
     },
     "metadata": {},
     "output_type": "display_data"
    },
    {
     "data": {
      "text/html": [
       "Syncing run <strong><a href='https://wandb.ai/dylan-home/pnca-sweep-1/runs/9cf3k2k1' target=\"_blank\">quiet-sweep-86</a></strong> to <a href='https://wandb.ai/dylan-home/pnca-sweep-1' target=\"_blank\">Weights & Biases</a> (<a href='https://wandb.me/run' target=\"_blank\">docs</a>)<br/>Sweep page: <a href='https://wandb.ai/dylan-home/pnca-sweep-1/sweeps/tr8mwg42' target=\"_blank\">https://wandb.ai/dylan-home/pnca-sweep-1/sweeps/tr8mwg42</a>"
      ],
      "text/plain": [
       "<IPython.core.display.HTML object>"
      ]
     },
     "metadata": {},
     "output_type": "display_data"
    },
    {
     "data": {
      "text/html": [
       " View project at <a href='https://wandb.ai/dylan-home/pnca-sweep-1' target=\"_blank\">https://wandb.ai/dylan-home/pnca-sweep-1</a>"
      ],
      "text/plain": [
       "<IPython.core.display.HTML object>"
      ]
     },
     "metadata": {},
     "output_type": "display_data"
    },
    {
     "data": {
      "text/html": [
       " View sweep at <a href='https://wandb.ai/dylan-home/pnca-sweep-1/sweeps/tr8mwg42' target=\"_blank\">https://wandb.ai/dylan-home/pnca-sweep-1/sweeps/tr8mwg42</a>"
      ],
      "text/plain": [
       "<IPython.core.display.HTML object>"
      ]
     },
     "metadata": {},
     "output_type": "display_data"
    },
    {
     "data": {
      "text/html": [
       " View run at <a href='https://wandb.ai/dylan-home/pnca-sweep-1/runs/9cf3k2k1' target=\"_blank\">https://wandb.ai/dylan-home/pnca-sweep-1/runs/9cf3k2k1</a>"
      ],
      "text/plain": [
       "<IPython.core.display.HTML object>"
      ]
     },
     "metadata": {},
     "output_type": "display_data"
    },
    {
     "name": "stdout",
     "output_type": "stream",
     "text": [
      "Using CUDA\n",
      "Early stopping enabled. Patience: 20. Min Delta: 0.\n",
      "Epoch: 010, Train Acc: 0.4916, Test Acc: 0.4763, Train Loss: 0.6918, Test Loss: 0.6909\n",
      "Epoch: 020, Train Acc: 0.5261, Test Acc: 0.5110, Train Loss: 0.6891, Test Loss: 0.6895\n",
      "Epoch: 030, Train Acc: 0.5261, Test Acc: 0.5110, Train Loss: 0.6877, Test Loss: 0.6877\n",
      "Epoch: 040, Train Acc: 0.6613, Test Acc: 0.6650, Train Loss: 0.6863, Test Loss: 0.6838\n",
      "Epoch: 050, Train Acc: 0.5073, Test Acc: 0.4883, Train Loss: 0.6797, Test Loss: 0.6789\n",
      "Epoch: 060, Train Acc: 0.5263, Test Acc: 0.5107, Train Loss: 0.6778, Test Loss: 0.6792\n",
      "Epoch: 070, Train Acc: 0.5594, Test Acc: 0.5977, Train Loss: 0.6779, Test Loss: 0.6707\n",
      "Epoch: 080, Train Acc: 0.5111, Test Acc: 0.4773, Train Loss: 0.6505, Test Loss: 0.6479\n",
      "Epoch: 090, Train Acc: 0.5223, Test Acc: 0.4893, Train Loss: 0.6426, Test Loss: 0.6414\n",
      "Epoch: 100, Train Acc: 0.6317, Test Acc: 0.6657, Train Loss: 0.6392, Test Loss: 0.6265\n",
      "Epoch: 110, Train Acc: 0.6610, Test Acc: 0.6843, Train Loss: 0.6184, Test Loss: 0.6060\n",
      "Epoch: 120, Train Acc: 0.7264, Test Acc: 0.7107, Train Loss: 0.5948, Test Loss: 0.5880\n",
      "Epoch: 130, Train Acc: 0.6996, Test Acc: 0.7090, Train Loss: 0.5807, Test Loss: 0.5740\n",
      "Epoch: 140, Train Acc: 0.6871, Test Acc: 0.6977, Train Loss: 0.5744, Test Loss: 0.5716\n",
      "Epoch: 150, Train Acc: 0.5323, Test Acc: 0.4983, Train Loss: 0.6050, Test Loss: 0.6326\n",
      "Epoch: 160, Train Acc: 0.7397, Test Acc: 0.7210, Train Loss: 0.5298, Test Loss: 0.5417\n",
      "Epoch: 170, Train Acc: 0.6966, Test Acc: 0.6980, Train Loss: 0.5597, Test Loss: 0.5695\n",
      "Epoch: 180, Train Acc: 0.7519, Test Acc: 0.7343, Train Loss: 0.5027, Test Loss: 0.5294\n",
      "Epoch: 190, Train Acc: 0.7761, Test Acc: 0.7467, Train Loss: 0.4896, Test Loss: 0.5227\n",
      "Epoch: 200, Train Acc: 0.7146, Test Acc: 0.7027, Train Loss: 0.5446, Test Loss: 0.5711\n",
      "Epoch: 210, Train Acc: 0.7700, Test Acc: 0.7397, Train Loss: 0.4681, Test Loss: 0.5149\n",
      "Epoch: 220, Train Acc: 0.7796, Test Acc: 0.7530, Train Loss: 0.4544, Test Loss: 0.5096\n",
      "Epoch: 230, Train Acc: 0.7717, Test Acc: 0.7387, Train Loss: 0.4601, Test Loss: 0.5167\n",
      "Epoch: 240, Train Acc: 0.7500, Test Acc: 0.7243, Train Loss: 0.4939, Test Loss: 0.5512\n",
      "Epoch: 250, Train Acc: 0.8024, Test Acc: 0.7550, Train Loss: 0.4325, Test Loss: 0.5065\n",
      "Epoch: 260, Train Acc: 0.8173, Test Acc: 0.7523, Train Loss: 0.4177, Test Loss: 0.5134\n",
      "Epoch: 270, Train Acc: 0.7989, Test Acc: 0.7547, Train Loss: 0.4089, Test Loss: 0.5053\n",
      "Epoch: 280, Train Acc: 0.7876, Test Acc: 0.7447, Train Loss: 0.4316, Test Loss: 0.5176\n",
      "Epoch: 290, Train Acc: 0.8336, Test Acc: 0.7583, Train Loss: 0.3956, Test Loss: 0.5202\n",
      "Epoch: 300, Train Acc: 0.8134, Test Acc: 0.7583, Train Loss: 0.3902, Test Loss: 0.5069\n",
      "20 epochs passed without 0 test loss improvement. \n",
      "Early stopping triggered.\n"
     ]
    },
    {
     "data": {
      "text/html": [
       "<style>\n",
       "    table.wandb td:nth-child(1) { padding: 0 10px; text-align: left ; width: auto;} td:nth-child(2) {text-align: left ; width: 100%}\n",
       "    .wandb-row { display: flex; flex-direction: row; flex-wrap: wrap; justify-content: flex-start; width: 100% }\n",
       "    .wandb-col { display: flex; flex-direction: column; flex-basis: 100%; flex: 1; padding: 10px; }\n",
       "    </style>\n",
       "<div class=\"wandb-row\"><div class=\"wandb-col\"><h3>Run history:</h3><br/><table class=\"wandb\"><tr><td>Test Accuracy</td><td>▄▂▁▆▅▆▂▂▂▂▆▆▇▆▇▂▇▆▇▇▇▇▇███▇██▆█▇████████</td></tr><tr><td>Test F1</td><td>▁▆▄▄▃▄▆▆▆▆▃▅▇▄▆▆▇▅▅▆█▆▇▇▇█▅▇█▄▇▆█▇█▇▇█▇▇</td></tr><tr><td>Test Loss</td><td>███████▇█▇▇▆▅▆▅▇▄▄▄▃▄▂▂▂▂▃▄▂▂▅▁▃▁▁▁▁▂▅▁▁</td></tr><tr><td>Test Sensitivity</td><td>▁█▅▃▂▃█▇█▇▂▃▅▂▄█▆▃▃▄▇▄▅▅▆▆▃▅▆▃▅▄▆▅▆▅▄▇▅▅</td></tr><tr><td>Test Specificity</td><td>█▁▃▇█▇▁▁▁▁█▇▇█▇▁▆██▇▅▇▇▇▆▆█▇▆█▇█▇▇▆▇▇▅▇▇</td></tr><tr><td>Train Accuracy</td><td>▃▃▁▅▄▅▃▂▃▂▄▅▆▄▆▃▇▅▅▆▇▆▇▇▇▇▆▇█▆▇▇█▇██▇███</td></tr><tr><td>Train F1</td><td>▁▆▄▄▃▄▆▆▆▆▂▅▆▃▅▆▇▅▅▆▇▆▇▇▇█▅▇█▅▇▆█▇█▇▇███</td></tr><tr><td>Train Loss</td><td>█████████▇▇▇▇▇▆▇▆▅▅▅▅▄▄▃▃▃▅▃▃▅▂▄▂▂▂▂▂▃▂▁</td></tr><tr><td>Train Sensitivity</td><td>▁█▅▃▂▃█▇█▇▂▃▅▂▄█▆▃▃▄▇▄▅▅▆▇▄▆▆▃▆▄▆▅▆▅▅▇▆▆</td></tr><tr><td>Train Specificity</td><td>█▁▃███▁▁▁▁██▇█▇▁▆██▇▅▇▇▇▇▆█▇▇█▇█▇▇▇▇█▆▇█</td></tr></table><br/></div><div class=\"wandb-col\"><h3>Run summary:</h3><br/><table class=\"wandb\"><tr><td>Test Accuracy</td><td>0.74433</td></tr><tr><td>Test F1</td><td>0.77448</td></tr><tr><td>Test Loss</td><td>0.58647</td></tr><tr><td>Test Sensitivity</td><td>0.8591</td></tr><tr><td>Test Specificity</td><td>0.6244</td></tr><tr><td>Train Accuracy</td><td>0.81757</td></tr><tr><td>Train F1</td><td>0.84166</td></tr><tr><td>Train Loss</td><td>0.44622</td></tr><tr><td>Train Sensitivity</td><td>0.92103</td></tr><tr><td>Train Specificity</td><td>0.70256</td></tr></table><br/></div></div>"
      ],
      "text/plain": [
       "<IPython.core.display.HTML object>"
      ]
     },
     "metadata": {},
     "output_type": "display_data"
    },
    {
     "data": {
      "text/html": [
       " View run <strong style=\"color:#cdcd00\">quiet-sweep-86</strong> at: <a href='https://wandb.ai/dylan-home/pnca-sweep-1/runs/9cf3k2k1' target=\"_blank\">https://wandb.ai/dylan-home/pnca-sweep-1/runs/9cf3k2k1</a><br/>Synced 5 W&B file(s), 0 media file(s), 0 artifact file(s) and 0 other file(s)"
      ],
      "text/plain": [
       "<IPython.core.display.HTML object>"
      ]
     },
     "metadata": {},
     "output_type": "display_data"
    },
    {
     "data": {
      "text/html": [
       "Find logs at: <code>./wandb/run-20250116_075259-9cf3k2k1/logs</code>"
      ],
      "text/plain": [
       "<IPython.core.display.HTML object>"
      ]
     },
     "metadata": {},
     "output_type": "display_data"
    },
    {
     "name": "stderr",
     "output_type": "stream",
     "text": [
      "\u001b[34m\u001b[1mwandb\u001b[0m: Agent Starting Run: g93j9dlw with config:\n",
      "\u001b[34m\u001b[1mwandb\u001b[0m: \tcutoff_distance: 8.698439509615227\n",
      "\u001b[34m\u001b[1mwandb\u001b[0m: \tdropout: 0.4\n",
      "\u001b[34m\u001b[1mwandb\u001b[0m: \thidden_channels: 320\n",
      "\u001b[34m\u001b[1mwandb\u001b[0m: \tlearning_rate: 0.004020010241084227\n",
      "\u001b[34m\u001b[1mwandb\u001b[0m: \tweight_decay: 0.0032647586819754674\n",
      "Failed to detect the name of this notebook, you can set it manually with the WANDB_NOTEBOOK_NAME environment variable to enable code saving.\n",
      "/usr/lib/python3/dist-packages/requests/__init__.py:87: RequestsDependencyWarning: urllib3 (2.2.3) or chardet (4.0.0) doesn't match a supported version!\n",
      "  warnings.warn(\"urllib3 ({}) or chardet ({}) doesn't match a supported \"\n"
     ]
    },
    {
     "data": {
      "text/html": [
       "wandb version 0.19.3 is available!  To upgrade, please run:\n",
       " $ pip install wandb --upgrade"
      ],
      "text/plain": [
       "<IPython.core.display.HTML object>"
      ]
     },
     "metadata": {},
     "output_type": "display_data"
    },
    {
     "data": {
      "text/html": [
       "Tracking run with wandb version 0.16.4"
      ],
      "text/plain": [
       "<IPython.core.display.HTML object>"
      ]
     },
     "metadata": {},
     "output_type": "display_data"
    },
    {
     "data": {
      "text/html": [
       "Run data is saved locally in <code>/mnt/alphafold-volume-1/dylan2/repos/tb-pnca-gnn/dd_pnca/wandb/run-20250116_080141-g93j9dlw</code>"
      ],
      "text/plain": [
       "<IPython.core.display.HTML object>"
      ]
     },
     "metadata": {},
     "output_type": "display_data"
    },
    {
     "data": {
      "text/html": [
       "Syncing run <strong><a href='https://wandb.ai/dylan-home/pnca-sweep-1/runs/g93j9dlw' target=\"_blank\">sage-sweep-87</a></strong> to <a href='https://wandb.ai/dylan-home/pnca-sweep-1' target=\"_blank\">Weights & Biases</a> (<a href='https://wandb.me/run' target=\"_blank\">docs</a>)<br/>Sweep page: <a href='https://wandb.ai/dylan-home/pnca-sweep-1/sweeps/tr8mwg42' target=\"_blank\">https://wandb.ai/dylan-home/pnca-sweep-1/sweeps/tr8mwg42</a>"
      ],
      "text/plain": [
       "<IPython.core.display.HTML object>"
      ]
     },
     "metadata": {},
     "output_type": "display_data"
    },
    {
     "data": {
      "text/html": [
       " View project at <a href='https://wandb.ai/dylan-home/pnca-sweep-1' target=\"_blank\">https://wandb.ai/dylan-home/pnca-sweep-1</a>"
      ],
      "text/plain": [
       "<IPython.core.display.HTML object>"
      ]
     },
     "metadata": {},
     "output_type": "display_data"
    },
    {
     "data": {
      "text/html": [
       " View sweep at <a href='https://wandb.ai/dylan-home/pnca-sweep-1/sweeps/tr8mwg42' target=\"_blank\">https://wandb.ai/dylan-home/pnca-sweep-1/sweeps/tr8mwg42</a>"
      ],
      "text/plain": [
       "<IPython.core.display.HTML object>"
      ]
     },
     "metadata": {},
     "output_type": "display_data"
    },
    {
     "data": {
      "text/html": [
       " View run at <a href='https://wandb.ai/dylan-home/pnca-sweep-1/runs/g93j9dlw' target=\"_blank\">https://wandb.ai/dylan-home/pnca-sweep-1/runs/g93j9dlw</a>"
      ],
      "text/plain": [
       "<IPython.core.display.HTML object>"
      ]
     },
     "metadata": {},
     "output_type": "display_data"
    },
    {
     "name": "stdout",
     "output_type": "stream",
     "text": [
      "Using CUDA\n",
      "Early stopping enabled. Patience: 20. Min Delta: 0.\n",
      "Epoch: 010, Train Acc: 0.5264, Test Acc: 0.5110, Train Loss: 0.6921, Test Loss: 0.6940\n",
      "Epoch: 020, Train Acc: 0.5264, Test Acc: 0.5110, Train Loss: 0.6917, Test Loss: 0.6931\n",
      "Epoch: 030, Train Acc: 0.5264, Test Acc: 0.5110, Train Loss: 0.6918, Test Loss: 0.6937\n",
      "Epoch: 040, Train Acc: 0.5264, Test Acc: 0.5110, Train Loss: 0.6919, Test Loss: 0.6933\n",
      "Epoch: 050, Train Acc: 0.5264, Test Acc: 0.5110, Train Loss: 0.6916, Test Loss: 0.6935\n",
      "Epoch: 060, Train Acc: 0.5264, Test Acc: 0.5110, Train Loss: 0.6921, Test Loss: 0.6929\n",
      "Epoch: 070, Train Acc: 0.5264, Test Acc: 0.5110, Train Loss: 0.6920, Test Loss: 0.6929\n",
      "Epoch: 080, Train Acc: 0.5264, Test Acc: 0.5110, Train Loss: 0.6918, Test Loss: 0.6930\n",
      "20 epochs passed without 0 test loss improvement. \n",
      "Early stopping triggered.\n"
     ]
    },
    {
     "data": {
      "text/html": [
       "<style>\n",
       "    table.wandb td:nth-child(1) { padding: 0 10px; text-align: left ; width: auto;} td:nth-child(2) {text-align: left ; width: 100%}\n",
       "    .wandb-row { display: flex; flex-direction: row; flex-wrap: wrap; justify-content: flex-start; width: 100% }\n",
       "    .wandb-col { display: flex; flex-direction: column; flex-basis: 100%; flex: 1; padding: 10px; }\n",
       "    </style>\n",
       "<div class=\"wandb-row\"><div class=\"wandb-col\"><h3>Run history:</h3><br/><table class=\"wandb\"><tr><td>Test Accuracy</td><td>▁███████████████████████████████████████</td></tr><tr><td>Test F1</td><td>▁███████████████████████████████████████</td></tr><tr><td>Test Loss</td><td>▄▄▄▄▂▃▃▄▂▅▄▅▇▆▁▇▇▂▂▂▄▁▂▁▂███▂▂▃▃▂▁▆▂▅▅▆▂</td></tr><tr><td>Test Sensitivity</td><td>▁███████████████████████████████████████</td></tr><tr><td>Test Specificity</td><td>█▁▁▁▁▁▁▁▁▁▁▁▁▁▁▁▁▁▁▁▁▁▁▁▁▁▁▁▁▁▁▁▁▁▁▁▁▁▁▁</td></tr><tr><td>Train Accuracy</td><td>▁███████████████████████████████████████</td></tr><tr><td>Train F1</td><td>▁███████████████████████████████████████</td></tr><tr><td>Train Loss</td><td>█▂▂▃▃▃▂▃▂▂▂▁▄▃▄▂▂▁▂▂▁▃▁▃▂▃▂▃▂▁▁▂▂▂▂▁▂▂▂▂</td></tr><tr><td>Train Sensitivity</td><td>▁███████████████████████████████████████</td></tr><tr><td>Train Specificity</td><td>█▁▁▁▁▁▁▁▁▁▁▁▁▁▁▁▁▁▁▁▁▁▁▁▁▁▁▁▁▁▁▁▁▁▁▁▁▁▁▁</td></tr></table><br/></div><div class=\"wandb-col\"><h3>Run summary:</h3><br/><table class=\"wandb\"><tr><td>Test Accuracy</td><td>0.511</td></tr><tr><td>Test F1</td><td>0.67637</td></tr><tr><td>Test Loss</td><td>0.69296</td></tr><tr><td>Test Sensitivity</td><td>1.0</td></tr><tr><td>Test Specificity</td><td>0.0</td></tr><tr><td>Train Accuracy</td><td>0.52643</td></tr><tr><td>Train F1</td><td>0.68975</td></tr><tr><td>Train Loss</td><td>0.69178</td></tr><tr><td>Train Sensitivity</td><td>1.0</td></tr><tr><td>Train Specificity</td><td>0.0</td></tr></table><br/></div></div>"
      ],
      "text/plain": [
       "<IPython.core.display.HTML object>"
      ]
     },
     "metadata": {},
     "output_type": "display_data"
    },
    {
     "data": {
      "text/html": [
       " View run <strong style=\"color:#cdcd00\">sage-sweep-87</strong> at: <a href='https://wandb.ai/dylan-home/pnca-sweep-1/runs/g93j9dlw' target=\"_blank\">https://wandb.ai/dylan-home/pnca-sweep-1/runs/g93j9dlw</a><br/>Synced 5 W&B file(s), 0 media file(s), 0 artifact file(s) and 0 other file(s)"
      ],
      "text/plain": [
       "<IPython.core.display.HTML object>"
      ]
     },
     "metadata": {},
     "output_type": "display_data"
    },
    {
     "data": {
      "text/html": [
       "Find logs at: <code>./wandb/run-20250116_080141-g93j9dlw/logs</code>"
      ],
      "text/plain": [
       "<IPython.core.display.HTML object>"
      ]
     },
     "metadata": {},
     "output_type": "display_data"
    },
    {
     "name": "stderr",
     "output_type": "stream",
     "text": [
      "\u001b[34m\u001b[1mwandb\u001b[0m: Agent Starting Run: n6f0g6j3 with config:\n",
      "\u001b[34m\u001b[1mwandb\u001b[0m: \tcutoff_distance: 6.592257744362744\n",
      "\u001b[34m\u001b[1mwandb\u001b[0m: \tdropout: 0.4\n",
      "\u001b[34m\u001b[1mwandb\u001b[0m: \thidden_channels: 192\n",
      "\u001b[34m\u001b[1mwandb\u001b[0m: \tlearning_rate: 0.005773223182540615\n",
      "\u001b[34m\u001b[1mwandb\u001b[0m: \tweight_decay: 1.4575475491455662e-06\n",
      "Failed to detect the name of this notebook, you can set it manually with the WANDB_NOTEBOOK_NAME environment variable to enable code saving.\n",
      "/usr/lib/python3/dist-packages/requests/__init__.py:87: RequestsDependencyWarning: urllib3 (2.2.3) or chardet (4.0.0) doesn't match a supported version!\n",
      "  warnings.warn(\"urllib3 ({}) or chardet ({}) doesn't match a supported \"\n"
     ]
    },
    {
     "data": {
      "text/html": [
       "wandb version 0.19.3 is available!  To upgrade, please run:\n",
       " $ pip install wandb --upgrade"
      ],
      "text/plain": [
       "<IPython.core.display.HTML object>"
      ]
     },
     "metadata": {},
     "output_type": "display_data"
    },
    {
     "data": {
      "text/html": [
       "Tracking run with wandb version 0.16.4"
      ],
      "text/plain": [
       "<IPython.core.display.HTML object>"
      ]
     },
     "metadata": {},
     "output_type": "display_data"
    },
    {
     "data": {
      "text/html": [
       "Run data is saved locally in <code>/mnt/alphafold-volume-1/dylan2/repos/tb-pnca-gnn/dd_pnca/wandb/run-20250116_080451-n6f0g6j3</code>"
      ],
      "text/plain": [
       "<IPython.core.display.HTML object>"
      ]
     },
     "metadata": {},
     "output_type": "display_data"
    },
    {
     "data": {
      "text/html": [
       "Syncing run <strong><a href='https://wandb.ai/dylan-home/pnca-sweep-1/runs/n6f0g6j3' target=\"_blank\">deft-sweep-88</a></strong> to <a href='https://wandb.ai/dylan-home/pnca-sweep-1' target=\"_blank\">Weights & Biases</a> (<a href='https://wandb.me/run' target=\"_blank\">docs</a>)<br/>Sweep page: <a href='https://wandb.ai/dylan-home/pnca-sweep-1/sweeps/tr8mwg42' target=\"_blank\">https://wandb.ai/dylan-home/pnca-sweep-1/sweeps/tr8mwg42</a>"
      ],
      "text/plain": [
       "<IPython.core.display.HTML object>"
      ]
     },
     "metadata": {},
     "output_type": "display_data"
    },
    {
     "data": {
      "text/html": [
       " View project at <a href='https://wandb.ai/dylan-home/pnca-sweep-1' target=\"_blank\">https://wandb.ai/dylan-home/pnca-sweep-1</a>"
      ],
      "text/plain": [
       "<IPython.core.display.HTML object>"
      ]
     },
     "metadata": {},
     "output_type": "display_data"
    },
    {
     "data": {
      "text/html": [
       " View sweep at <a href='https://wandb.ai/dylan-home/pnca-sweep-1/sweeps/tr8mwg42' target=\"_blank\">https://wandb.ai/dylan-home/pnca-sweep-1/sweeps/tr8mwg42</a>"
      ],
      "text/plain": [
       "<IPython.core.display.HTML object>"
      ]
     },
     "metadata": {},
     "output_type": "display_data"
    },
    {
     "data": {
      "text/html": [
       " View run at <a href='https://wandb.ai/dylan-home/pnca-sweep-1/runs/n6f0g6j3' target=\"_blank\">https://wandb.ai/dylan-home/pnca-sweep-1/runs/n6f0g6j3</a>"
      ],
      "text/plain": [
       "<IPython.core.display.HTML object>"
      ]
     },
     "metadata": {},
     "output_type": "display_data"
    },
    {
     "name": "stdout",
     "output_type": "stream",
     "text": [
      "Using CUDA\n",
      "Early stopping enabled. Patience: 20. Min Delta: 0.\n",
      "Epoch: 010, Train Acc: 0.5264, Test Acc: 0.5110, Train Loss: 0.6924, Test Loss: 0.6941\n",
      "Epoch: 020, Train Acc: 0.5264, Test Acc: 0.5110, Train Loss: 0.6922, Test Loss: 0.6929\n",
      "Epoch: 030, Train Acc: 0.5264, Test Acc: 0.5110, Train Loss: 0.6918, Test Loss: 0.6931\n",
      "Epoch: 040, Train Acc: 0.5264, Test Acc: 0.5110, Train Loss: 0.6917, Test Loss: 0.6937\n",
      "20 epochs passed without 0 test loss improvement. \n",
      "Early stopping triggered.\n"
     ]
    },
    {
     "data": {
      "text/html": [
       "<style>\n",
       "    table.wandb td:nth-child(1) { padding: 0 10px; text-align: left ; width: auto;} td:nth-child(2) {text-align: left ; width: 100%}\n",
       "    .wandb-row { display: flex; flex-direction: row; flex-wrap: wrap; justify-content: flex-start; width: 100% }\n",
       "    .wandb-col { display: flex; flex-direction: column; flex-basis: 100%; flex: 1; padding: 10px; }\n",
       "    </style>\n",
       "<div class=\"wandb-row\"><div class=\"wandb-col\"><h3>Run history:</h3><br/><table class=\"wandb\"><tr><td>Test Accuracy</td><td>▁▁▁▁▁▁▁▁▁▁▁▁▁▁▁▁▁▁▁▁▁▁▁▁▁▁▁▁▁▁▁▁▁▁▁▁▁▁▁▁</td></tr><tr><td>Test F1</td><td>▁▁▁▁▁▁▁▁▁▁▁▁▁▁▁▁▁▁▁▁▁▁▁▁▁▁▁▁▁▁▁▁▁▁▁▁▁▁▁▁</td></tr><tr><td>Test Loss</td><td>▂▃▁▂▂▂▅▂▃▅▁▁▁▂▁▂▄▂▁▁▂▁▁▅▁▁▂▂▇▂▁▇▂▃▆▂▄█▁▂</td></tr><tr><td>Test Sensitivity</td><td>▁▁▁▁▁▁▁▁▁▁▁▁▁▁▁▁▁▁▁▁▁▁▁▁▁▁▁▁▁▁▁▁▁▁▁▁▁▁▁▁</td></tr><tr><td>Test Specificity</td><td>▁▁▁▁▁▁▁▁▁▁▁▁▁▁▁▁▁▁▁▁▁▁▁▁▁▁▁▁▁▁▁▁▁▁▁▁▁▁▁▁</td></tr><tr><td>Train Accuracy</td><td>▁▁▁▁▁▁▁▁▁▁▁▁▁▁▁▁▁▁▁▁▁▁▁▁▁▁▁▁▁▁▁▁▁▁▁▁▁▁▁▁</td></tr><tr><td>Train F1</td><td>▁▁▁▁▁▁▁▁▁▁▁▁▁▁▁▁▁▁▁▁▁▁▁▁▁▁▁▁▁▁▁▁▁▁▁▁▁▁▁▁</td></tr><tr><td>Train Loss</td><td>▂▂▂▂▂▁▂▂▂▅▄▃▄▃▄▂▃█▄▃█▃▆▂▂▆▂▂▄▂▂▇▂▁▂▁▂▇▄▂</td></tr><tr><td>Train Sensitivity</td><td>▁▁▁▁▁▁▁▁▁▁▁▁▁▁▁▁▁▁▁▁▁▁▁▁▁▁▁▁▁▁▁▁▁▁▁▁▁▁▁▁</td></tr><tr><td>Train Specificity</td><td>▁▁▁▁▁▁▁▁▁▁▁▁▁▁▁▁▁▁▁▁▁▁▁▁▁▁▁▁▁▁▁▁▁▁▁▁▁▁▁▁</td></tr></table><br/></div><div class=\"wandb-col\"><h3>Run summary:</h3><br/><table class=\"wandb\"><tr><td>Test Accuracy</td><td>0.511</td></tr><tr><td>Test F1</td><td>0.67637</td></tr><tr><td>Test Loss</td><td>0.69306</td></tr><tr><td>Test Sensitivity</td><td>1.0</td></tr><tr><td>Test Specificity</td><td>0.0</td></tr><tr><td>Train Accuracy</td><td>0.52643</td></tr><tr><td>Train F1</td><td>0.68975</td></tr><tr><td>Train Loss</td><td>0.69182</td></tr><tr><td>Train Sensitivity</td><td>1.0</td></tr><tr><td>Train Specificity</td><td>0.0</td></tr></table><br/></div></div>"
      ],
      "text/plain": [
       "<IPython.core.display.HTML object>"
      ]
     },
     "metadata": {},
     "output_type": "display_data"
    },
    {
     "data": {
      "text/html": [
       " View run <strong style=\"color:#cdcd00\">deft-sweep-88</strong> at: <a href='https://wandb.ai/dylan-home/pnca-sweep-1/runs/n6f0g6j3' target=\"_blank\">https://wandb.ai/dylan-home/pnca-sweep-1/runs/n6f0g6j3</a><br/>Synced 5 W&B file(s), 0 media file(s), 0 artifact file(s) and 0 other file(s)"
      ],
      "text/plain": [
       "<IPython.core.display.HTML object>"
      ]
     },
     "metadata": {},
     "output_type": "display_data"
    },
    {
     "data": {
      "text/html": [
       "Find logs at: <code>./wandb/run-20250116_080451-n6f0g6j3/logs</code>"
      ],
      "text/plain": [
       "<IPython.core.display.HTML object>"
      ]
     },
     "metadata": {},
     "output_type": "display_data"
    },
    {
     "name": "stderr",
     "output_type": "stream",
     "text": [
      "\u001b[34m\u001b[1mwandb\u001b[0m: Agent Starting Run: 9gsy126e with config:\n",
      "\u001b[34m\u001b[1mwandb\u001b[0m: \tcutoff_distance: 5.249622466299435\n",
      "\u001b[34m\u001b[1mwandb\u001b[0m: \tdropout: 0.4\n",
      "\u001b[34m\u001b[1mwandb\u001b[0m: \thidden_channels: 192\n",
      "\u001b[34m\u001b[1mwandb\u001b[0m: \tlearning_rate: 0.006237636615287068\n",
      "\u001b[34m\u001b[1mwandb\u001b[0m: \tweight_decay: 0.0003043136296784962\n",
      "Failed to detect the name of this notebook, you can set it manually with the WANDB_NOTEBOOK_NAME environment variable to enable code saving.\n",
      "/usr/lib/python3/dist-packages/requests/__init__.py:87: RequestsDependencyWarning: urllib3 (2.2.3) or chardet (4.0.0) doesn't match a supported version!\n",
      "  warnings.warn(\"urllib3 ({}) or chardet ({}) doesn't match a supported \"\n"
     ]
    },
    {
     "data": {
      "text/html": [
       "wandb version 0.19.3 is available!  To upgrade, please run:\n",
       " $ pip install wandb --upgrade"
      ],
      "text/plain": [
       "<IPython.core.display.HTML object>"
      ]
     },
     "metadata": {},
     "output_type": "display_data"
    },
    {
     "data": {
      "text/html": [
       "Tracking run with wandb version 0.16.4"
      ],
      "text/plain": [
       "<IPython.core.display.HTML object>"
      ]
     },
     "metadata": {},
     "output_type": "display_data"
    },
    {
     "data": {
      "text/html": [
       "Run data is saved locally in <code>/mnt/alphafold-volume-1/dylan2/repos/tb-pnca-gnn/dd_pnca/wandb/run-20250116_080628-9gsy126e</code>"
      ],
      "text/plain": [
       "<IPython.core.display.HTML object>"
      ]
     },
     "metadata": {},
     "output_type": "display_data"
    },
    {
     "data": {
      "text/html": [
       "Syncing run <strong><a href='https://wandb.ai/dylan-home/pnca-sweep-1/runs/9gsy126e' target=\"_blank\">sweet-sweep-89</a></strong> to <a href='https://wandb.ai/dylan-home/pnca-sweep-1' target=\"_blank\">Weights & Biases</a> (<a href='https://wandb.me/run' target=\"_blank\">docs</a>)<br/>Sweep page: <a href='https://wandb.ai/dylan-home/pnca-sweep-1/sweeps/tr8mwg42' target=\"_blank\">https://wandb.ai/dylan-home/pnca-sweep-1/sweeps/tr8mwg42</a>"
      ],
      "text/plain": [
       "<IPython.core.display.HTML object>"
      ]
     },
     "metadata": {},
     "output_type": "display_data"
    },
    {
     "data": {
      "text/html": [
       " View project at <a href='https://wandb.ai/dylan-home/pnca-sweep-1' target=\"_blank\">https://wandb.ai/dylan-home/pnca-sweep-1</a>"
      ],
      "text/plain": [
       "<IPython.core.display.HTML object>"
      ]
     },
     "metadata": {},
     "output_type": "display_data"
    },
    {
     "data": {
      "text/html": [
       " View sweep at <a href='https://wandb.ai/dylan-home/pnca-sweep-1/sweeps/tr8mwg42' target=\"_blank\">https://wandb.ai/dylan-home/pnca-sweep-1/sweeps/tr8mwg42</a>"
      ],
      "text/plain": [
       "<IPython.core.display.HTML object>"
      ]
     },
     "metadata": {},
     "output_type": "display_data"
    },
    {
     "data": {
      "text/html": [
       " View run at <a href='https://wandb.ai/dylan-home/pnca-sweep-1/runs/9gsy126e' target=\"_blank\">https://wandb.ai/dylan-home/pnca-sweep-1/runs/9gsy126e</a>"
      ],
      "text/plain": [
       "<IPython.core.display.HTML object>"
      ]
     },
     "metadata": {},
     "output_type": "display_data"
    },
    {
     "name": "stdout",
     "output_type": "stream",
     "text": [
      "Using CUDA\n",
      "Early stopping enabled. Patience: 20. Min Delta: 0.\n",
      "Epoch: 010, Train Acc: 0.5264, Test Acc: 0.5110, Train Loss: 0.6926, Test Loss: 0.6944\n",
      "Epoch: 020, Train Acc: 0.5264, Test Acc: 0.5110, Train Loss: 0.6923, Test Loss: 0.6929\n",
      "Epoch: 030, Train Acc: 0.5264, Test Acc: 0.5110, Train Loss: 0.6919, Test Loss: 0.6930\n",
      "20 epochs passed without 0 test loss improvement. \n",
      "Early stopping triggered.\n"
     ]
    },
    {
     "data": {
      "text/html": [
       "<style>\n",
       "    table.wandb td:nth-child(1) { padding: 0 10px; text-align: left ; width: auto;} td:nth-child(2) {text-align: left ; width: 100%}\n",
       "    .wandb-row { display: flex; flex-direction: row; flex-wrap: wrap; justify-content: flex-start; width: 100% }\n",
       "    .wandb-col { display: flex; flex-direction: column; flex-basis: 100%; flex: 1; padding: 10px; }\n",
       "    </style>\n",
       "<div class=\"wandb-row\"><div class=\"wandb-col\"><h3>Run history:</h3><br/><table class=\"wandb\"><tr><td>Test Accuracy</td><td>██████████████████▁███▁████▁█████</td></tr><tr><td>Test F1</td><td>██████████████████▁███▁████▁█████</td></tr><tr><td>Test Loss</td><td>▂▃▂▂▁▂▆▂▃▇▂▁▁▁▁▁▂▅▂▁▁▁▂▁▂▅▁▂▁▁█▂▁</td></tr><tr><td>Test Sensitivity</td><td>██████████████████▁███▁████▁█████</td></tr><tr><td>Test Specificity</td><td>▁▁▁▁▁▁▁▁▁▁▁▁▁▁▁▁▁▁█▁▁▁█▁▁▁▁█▁▁▁▁▁</td></tr><tr><td>Train Accuracy</td><td>██████████████████▁███▁████▁█████</td></tr><tr><td>Train F1</td><td>██████████████████▁███▁████▁█████</td></tr><tr><td>Train Loss</td><td>▁▁▂▂▂▁▂▂▂▅▁▄▃▃▂▅▁▃█▄▃▂█▄▆▂▁▇▂▂▄▁▂</td></tr><tr><td>Train Sensitivity</td><td>██████████████████▁███▁████▁█████</td></tr><tr><td>Train Specificity</td><td>▁▁▁▁▁▁▁▁▁▁▁▁▁▁▁▁▁▁█▁▁▁█▁▁▁▁█▁▁▁▁▁</td></tr></table><br/></div><div class=\"wandb-col\"><h3>Run summary:</h3><br/><table class=\"wandb\"><tr><td>Test Accuracy</td><td>0.511</td></tr><tr><td>Test F1</td><td>0.67637</td></tr><tr><td>Test Loss</td><td>0.6929</td></tr><tr><td>Test Sensitivity</td><td>1.0</td></tr><tr><td>Test Specificity</td><td>0.0</td></tr><tr><td>Train Accuracy</td><td>0.52643</td></tr><tr><td>Train F1</td><td>0.68975</td></tr><tr><td>Train Loss</td><td>0.69197</td></tr><tr><td>Train Sensitivity</td><td>1.0</td></tr><tr><td>Train Specificity</td><td>0.0</td></tr></table><br/></div></div>"
      ],
      "text/plain": [
       "<IPython.core.display.HTML object>"
      ]
     },
     "metadata": {},
     "output_type": "display_data"
    },
    {
     "data": {
      "text/html": [
       " View run <strong style=\"color:#cdcd00\">sweet-sweep-89</strong> at: <a href='https://wandb.ai/dylan-home/pnca-sweep-1/runs/9gsy126e' target=\"_blank\">https://wandb.ai/dylan-home/pnca-sweep-1/runs/9gsy126e</a><br/>Synced 5 W&B file(s), 0 media file(s), 0 artifact file(s) and 0 other file(s)"
      ],
      "text/plain": [
       "<IPython.core.display.HTML object>"
      ]
     },
     "metadata": {},
     "output_type": "display_data"
    },
    {
     "data": {
      "text/html": [
       "Find logs at: <code>./wandb/run-20250116_080628-9gsy126e/logs</code>"
      ],
      "text/plain": [
       "<IPython.core.display.HTML object>"
      ]
     },
     "metadata": {},
     "output_type": "display_data"
    },
    {
     "name": "stderr",
     "output_type": "stream",
     "text": [
      "\u001b[34m\u001b[1mwandb\u001b[0m: Agent Starting Run: jf5cs9cu with config:\n",
      "\u001b[34m\u001b[1mwandb\u001b[0m: \tcutoff_distance: 9.809858055828954\n",
      "\u001b[34m\u001b[1mwandb\u001b[0m: \tdropout: 0.6\n",
      "\u001b[34m\u001b[1mwandb\u001b[0m: \thidden_channels: 384\n",
      "\u001b[34m\u001b[1mwandb\u001b[0m: \tlearning_rate: 0.0004091598439413164\n",
      "\u001b[34m\u001b[1mwandb\u001b[0m: \tweight_decay: 1.4353766790674927e-05\n",
      "Failed to detect the name of this notebook, you can set it manually with the WANDB_NOTEBOOK_NAME environment variable to enable code saving.\n",
      "/usr/lib/python3/dist-packages/requests/__init__.py:87: RequestsDependencyWarning: urllib3 (2.2.3) or chardet (4.0.0) doesn't match a supported version!\n",
      "  warnings.warn(\"urllib3 ({}) or chardet ({}) doesn't match a supported \"\n"
     ]
    },
    {
     "data": {
      "text/html": [
       "wandb version 0.19.3 is available!  To upgrade, please run:\n",
       " $ pip install wandb --upgrade"
      ],
      "text/plain": [
       "<IPython.core.display.HTML object>"
      ]
     },
     "metadata": {},
     "output_type": "display_data"
    },
    {
     "data": {
      "text/html": [
       "Tracking run with wandb version 0.16.4"
      ],
      "text/plain": [
       "<IPython.core.display.HTML object>"
      ]
     },
     "metadata": {},
     "output_type": "display_data"
    },
    {
     "data": {
      "text/html": [
       "Run data is saved locally in <code>/mnt/alphafold-volume-1/dylan2/repos/tb-pnca-gnn/dd_pnca/wandb/run-20250116_080746-jf5cs9cu</code>"
      ],
      "text/plain": [
       "<IPython.core.display.HTML object>"
      ]
     },
     "metadata": {},
     "output_type": "display_data"
    },
    {
     "data": {
      "text/html": [
       "Syncing run <strong><a href='https://wandb.ai/dylan-home/pnca-sweep-1/runs/jf5cs9cu' target=\"_blank\">scarlet-sweep-90</a></strong> to <a href='https://wandb.ai/dylan-home/pnca-sweep-1' target=\"_blank\">Weights & Biases</a> (<a href='https://wandb.me/run' target=\"_blank\">docs</a>)<br/>Sweep page: <a href='https://wandb.ai/dylan-home/pnca-sweep-1/sweeps/tr8mwg42' target=\"_blank\">https://wandb.ai/dylan-home/pnca-sweep-1/sweeps/tr8mwg42</a>"
      ],
      "text/plain": [
       "<IPython.core.display.HTML object>"
      ]
     },
     "metadata": {},
     "output_type": "display_data"
    },
    {
     "data": {
      "text/html": [
       " View project at <a href='https://wandb.ai/dylan-home/pnca-sweep-1' target=\"_blank\">https://wandb.ai/dylan-home/pnca-sweep-1</a>"
      ],
      "text/plain": [
       "<IPython.core.display.HTML object>"
      ]
     },
     "metadata": {},
     "output_type": "display_data"
    },
    {
     "data": {
      "text/html": [
       " View sweep at <a href='https://wandb.ai/dylan-home/pnca-sweep-1/sweeps/tr8mwg42' target=\"_blank\">https://wandb.ai/dylan-home/pnca-sweep-1/sweeps/tr8mwg42</a>"
      ],
      "text/plain": [
       "<IPython.core.display.HTML object>"
      ]
     },
     "metadata": {},
     "output_type": "display_data"
    },
    {
     "data": {
      "text/html": [
       " View run at <a href='https://wandb.ai/dylan-home/pnca-sweep-1/runs/jf5cs9cu' target=\"_blank\">https://wandb.ai/dylan-home/pnca-sweep-1/runs/jf5cs9cu</a>"
      ],
      "text/plain": [
       "<IPython.core.display.HTML object>"
      ]
     },
     "metadata": {},
     "output_type": "display_data"
    },
    {
     "name": "stdout",
     "output_type": "stream",
     "text": [
      "Using CUDA\n",
      "Early stopping enabled. Patience: 20. Min Delta: 0.\n",
      "Epoch: 010, Train Acc: 0.5264, Test Acc: 0.5110, Train Loss: 0.6911, Test Loss: 0.6919\n",
      "Epoch: 020, Train Acc: 0.5264, Test Acc: 0.5110, Train Loss: 0.6907, Test Loss: 0.6918\n",
      "Epoch: 030, Train Acc: 0.5264, Test Acc: 0.5110, Train Loss: 0.6899, Test Loss: 0.6912\n",
      "Epoch: 040, Train Acc: 0.5264, Test Acc: 0.5110, Train Loss: 0.6882, Test Loss: 0.6900\n",
      "Epoch: 050, Train Acc: 0.5264, Test Acc: 0.5110, Train Loss: 0.6873, Test Loss: 0.6891\n",
      "Epoch: 060, Train Acc: 0.5259, Test Acc: 0.5107, Train Loss: 0.6827, Test Loss: 0.6846\n",
      "Epoch: 070, Train Acc: 0.5251, Test Acc: 0.5087, Train Loss: 0.6723, Test Loss: 0.6744\n",
      "Epoch: 080, Train Acc: 0.5223, Test Acc: 0.5460, Train Loss: 0.6903, Test Loss: 0.6832\n",
      "Epoch: 090, Train Acc: 0.5263, Test Acc: 0.5110, Train Loss: 0.6698, Test Loss: 0.6753\n",
      "Epoch: 100, Train Acc: 0.6537, Test Acc: 0.6493, Train Loss: 0.6485, Test Loss: 0.6541\n",
      "Epoch: 110, Train Acc: 0.5567, Test Acc: 0.5377, Train Loss: 0.6705, Test Loss: 0.6830\n",
      "Epoch: 120, Train Acc: 0.7300, Test Acc: 0.6883, Train Loss: 0.5953, Test Loss: 0.6135\n",
      "Epoch: 130, Train Acc: 0.5457, Test Acc: 0.5323, Train Loss: 0.7054, Test Loss: 0.7236\n",
      "Epoch: 140, Train Acc: 0.7099, Test Acc: 0.6820, Train Loss: 0.5869, Test Loss: 0.6092\n",
      "Epoch: 150, Train Acc: 0.7227, Test Acc: 0.6767, Train Loss: 0.5536, Test Loss: 0.6049\n",
      "Epoch: 160, Train Acc: 0.7359, Test Acc: 0.7010, Train Loss: 0.5331, Test Loss: 0.5817\n",
      "Epoch: 170, Train Acc: 0.7403, Test Acc: 0.7083, Train Loss: 0.5398, Test Loss: 0.5932\n",
      "Epoch: 180, Train Acc: 0.7349, Test Acc: 0.6987, Train Loss: 0.5300, Test Loss: 0.5813\n",
      "Epoch: 190, Train Acc: 0.4891, Test Acc: 0.4890, Train Loss: 0.9172, Test Loss: 0.9499\n",
      "20 epochs passed without 0 test loss improvement. \n",
      "Early stopping triggered.\n"
     ]
    },
    {
     "data": {
      "text/html": [
       "<style>\n",
       "    table.wandb td:nth-child(1) { padding: 0 10px; text-align: left ; width: auto;} td:nth-child(2) {text-align: left ; width: 100%}\n",
       "    .wandb-row { display: flex; flex-direction: row; flex-wrap: wrap; justify-content: flex-start; width: 100% }\n",
       "    .wandb-col { display: flex; flex-direction: column; flex-basis: 100%; flex: 1; padding: 10px; }\n",
       "    </style>\n",
       "<div class=\"wandb-row\"><div class=\"wandb-col\"><h3>Run history:</h3><br/><table class=\"wandb\"><tr><td>Test Accuracy</td><td>▂▂▂▂▂▂▂▂▂▂▂▂▂▂▂▆▃▄▂▅▆▂▃▇▇▅▂▅▇▅▇▅███▆█▅▁▅</td></tr><tr><td>Test F1</td><td>███████████████▆▃▄█▆▆█▃▇█▆▃▆▇▆█▆███▇█▆▁▅</td></tr><tr><td>Test Loss</td><td>▃▃▃▃▃▃▃▃▃▃▃▃▃▃▃▃▃▃▃▃▂▃▃▂▂▂▄▂▂▂▁▂▁▂▁▁▁▂█▂</td></tr><tr><td>Test Sensitivity</td><td>███████████████▄▂▂█▃▄█▂▄▅▄▂▃▅▃▅▃▅▆▆▄▆▃▁▃</td></tr><tr><td>Test Specificity</td><td>▁▁▁▁▁▁▁▁▁▁▁▁▁▁▁███▁▇▇▁█▇▆▇█▇▇▇▆▇▇▆▆▇▆███</td></tr><tr><td>Train Accuracy</td><td>▂▂▂▂▂▂▂▂▂▂▂▂▂▂▂▅▂▂▂▅▆▂▃▆█▆▃▆▇▆█▆███▇█▆▁▅</td></tr><tr><td>Train F1</td><td>███████████████▅▂▃█▆▆█▃▇█▆▃▆▇▆█▇███▇█▆▁▆</td></tr><tr><td>Train Loss</td><td>▄▄▄▄▄▄▄▄▄▄▄▄▄▄▄▄▄▄▄▃▃▄▄▃▂▂▄▂▂▂▁▂▁▁▁▂▁▂█▂</td></tr><tr><td>Train Sensitivity</td><td>███████████████▃▂▂█▃▄█▂▄▅▄▂▄▅▄▅▄▅▅▆▄▅▃▁▃</td></tr><tr><td>Train Specificity</td><td>▁▁▁▁▁▁▁▁▁▁▁▁▁▁▁███▁██▁█▇▇██▇▇█▇█▇▇▇▇▇███</td></tr></table><br/></div><div class=\"wandb-col\"><h3>Run summary:</h3><br/><table class=\"wandb\"><tr><td>Test Accuracy</td><td>0.489</td></tr><tr><td>Test F1</td><td>0.0</td></tr><tr><td>Test Loss</td><td>0.70557</td></tr><tr><td>Test Sensitivity</td><td>0.0</td></tr><tr><td>Test Specificity</td><td>1.0</td></tr><tr><td>Train Accuracy</td><td>0.489</td></tr><tr><td>Train F1</td><td>0.05794</td></tr><tr><td>Train Loss</td><td>0.70098</td></tr><tr><td>Train Sensitivity</td><td>0.02985</td></tr><tr><td>Train Specificity</td><td>0.9994</td></tr></table><br/></div></div>"
      ],
      "text/plain": [
       "<IPython.core.display.HTML object>"
      ]
     },
     "metadata": {},
     "output_type": "display_data"
    },
    {
     "data": {
      "text/html": [
       " View run <strong style=\"color:#cdcd00\">scarlet-sweep-90</strong> at: <a href='https://wandb.ai/dylan-home/pnca-sweep-1/runs/jf5cs9cu' target=\"_blank\">https://wandb.ai/dylan-home/pnca-sweep-1/runs/jf5cs9cu</a><br/>Synced 5 W&B file(s), 0 media file(s), 0 artifact file(s) and 0 other file(s)"
      ],
      "text/plain": [
       "<IPython.core.display.HTML object>"
      ]
     },
     "metadata": {},
     "output_type": "display_data"
    },
    {
     "data": {
      "text/html": [
       "Find logs at: <code>./wandb/run-20250116_080746-jf5cs9cu/logs</code>"
      ],
      "text/plain": [
       "<IPython.core.display.HTML object>"
      ]
     },
     "metadata": {},
     "output_type": "display_data"
    },
    {
     "name": "stderr",
     "output_type": "stream",
     "text": [
      "\u001b[34m\u001b[1mwandb\u001b[0m: Agent Starting Run: ahs82cgk with config:\n",
      "\u001b[34m\u001b[1mwandb\u001b[0m: \tcutoff_distance: 6.8306082056090895\n",
      "\u001b[34m\u001b[1mwandb\u001b[0m: \tdropout: 0.2\n",
      "\u001b[34m\u001b[1mwandb\u001b[0m: \thidden_channels: 192\n",
      "\u001b[34m\u001b[1mwandb\u001b[0m: \tlearning_rate: 0.0004393170132893734\n",
      "\u001b[34m\u001b[1mwandb\u001b[0m: \tweight_decay: 0.000121907175145026\n",
      "Failed to detect the name of this notebook, you can set it manually with the WANDB_NOTEBOOK_NAME environment variable to enable code saving.\n",
      "/usr/lib/python3/dist-packages/requests/__init__.py:87: RequestsDependencyWarning: urllib3 (2.2.3) or chardet (4.0.0) doesn't match a supported version!\n",
      "  warnings.warn(\"urllib3 ({}) or chardet ({}) doesn't match a supported \"\n"
     ]
    },
    {
     "data": {
      "text/html": [
       "wandb version 0.19.3 is available!  To upgrade, please run:\n",
       " $ pip install wandb --upgrade"
      ],
      "text/plain": [
       "<IPython.core.display.HTML object>"
      ]
     },
     "metadata": {},
     "output_type": "display_data"
    },
    {
     "data": {
      "text/html": [
       "Tracking run with wandb version 0.16.4"
      ],
      "text/plain": [
       "<IPython.core.display.HTML object>"
      ]
     },
     "metadata": {},
     "output_type": "display_data"
    },
    {
     "data": {
      "text/html": [
       "Run data is saved locally in <code>/mnt/alphafold-volume-1/dylan2/repos/tb-pnca-gnn/dd_pnca/wandb/run-20250116_081552-ahs82cgk</code>"
      ],
      "text/plain": [
       "<IPython.core.display.HTML object>"
      ]
     },
     "metadata": {},
     "output_type": "display_data"
    },
    {
     "data": {
      "text/html": [
       "Syncing run <strong><a href='https://wandb.ai/dylan-home/pnca-sweep-1/runs/ahs82cgk' target=\"_blank\">solar-sweep-91</a></strong> to <a href='https://wandb.ai/dylan-home/pnca-sweep-1' target=\"_blank\">Weights & Biases</a> (<a href='https://wandb.me/run' target=\"_blank\">docs</a>)<br/>Sweep page: <a href='https://wandb.ai/dylan-home/pnca-sweep-1/sweeps/tr8mwg42' target=\"_blank\">https://wandb.ai/dylan-home/pnca-sweep-1/sweeps/tr8mwg42</a>"
      ],
      "text/plain": [
       "<IPython.core.display.HTML object>"
      ]
     },
     "metadata": {},
     "output_type": "display_data"
    },
    {
     "data": {
      "text/html": [
       " View project at <a href='https://wandb.ai/dylan-home/pnca-sweep-1' target=\"_blank\">https://wandb.ai/dylan-home/pnca-sweep-1</a>"
      ],
      "text/plain": [
       "<IPython.core.display.HTML object>"
      ]
     },
     "metadata": {},
     "output_type": "display_data"
    },
    {
     "data": {
      "text/html": [
       " View sweep at <a href='https://wandb.ai/dylan-home/pnca-sweep-1/sweeps/tr8mwg42' target=\"_blank\">https://wandb.ai/dylan-home/pnca-sweep-1/sweeps/tr8mwg42</a>"
      ],
      "text/plain": [
       "<IPython.core.display.HTML object>"
      ]
     },
     "metadata": {},
     "output_type": "display_data"
    },
    {
     "data": {
      "text/html": [
       " View run at <a href='https://wandb.ai/dylan-home/pnca-sweep-1/runs/ahs82cgk' target=\"_blank\">https://wandb.ai/dylan-home/pnca-sweep-1/runs/ahs82cgk</a>"
      ],
      "text/plain": [
       "<IPython.core.display.HTML object>"
      ]
     },
     "metadata": {},
     "output_type": "display_data"
    },
    {
     "name": "stdout",
     "output_type": "stream",
     "text": [
      "Using CUDA\n",
      "Early stopping enabled. Patience: 20. Min Delta: 0.\n",
      "Epoch: 010, Train Acc: 0.5264, Test Acc: 0.5110, Train Loss: 0.6972, Test Loss: 0.6998\n",
      "Epoch: 020, Train Acc: 0.5264, Test Acc: 0.5110, Train Loss: 0.6883, Test Loss: 0.6892\n",
      "Epoch: 030, Train Acc: 0.5004, Test Acc: 0.5417, Train Loss: 0.6913, Test Loss: 0.6860\n",
      "Epoch: 040, Train Acc: 0.5251, Test Acc: 0.5103, Train Loss: 0.6823, Test Loss: 0.6820\n",
      "Epoch: 050, Train Acc: 0.4800, Test Acc: 0.4963, Train Loss: 0.7310, Test Loss: 0.7155\n",
      "Epoch: 060, Train Acc: 0.7409, Test Acc: 0.7183, Train Loss: 0.6499, Test Loss: 0.6464\n",
      "Epoch: 070, Train Acc: 0.7184, Test Acc: 0.7107, Train Loss: 0.6439, Test Loss: 0.6426\n",
      "Epoch: 080, Train Acc: 0.6187, Test Acc: 0.6577, Train Loss: 0.6403, Test Loss: 0.6331\n",
      "Epoch: 090, Train Acc: 0.5327, Test Acc: 0.5043, Train Loss: 0.6163, Test Loss: 0.6287\n",
      "Epoch: 100, Train Acc: 0.7304, Test Acc: 0.7133, Train Loss: 0.5750, Test Loss: 0.5829\n",
      "Epoch: 110, Train Acc: 0.7819, Test Acc: 0.7283, Train Loss: 0.5650, Test Loss: 0.5879\n",
      "Epoch: 120, Train Acc: 0.7471, Test Acc: 0.7180, Train Loss: 0.5321, Test Loss: 0.5612\n",
      "Epoch: 130, Train Acc: 0.7471, Test Acc: 0.7200, Train Loss: 0.5100, Test Loss: 0.5549\n",
      "Epoch: 140, Train Acc: 0.7233, Test Acc: 0.7090, Train Loss: 0.5371, Test Loss: 0.5877\n",
      "Epoch: 150, Train Acc: 0.8041, Test Acc: 0.7450, Train Loss: 0.4617, Test Loss: 0.5417\n",
      "Epoch: 160, Train Acc: 0.5313, Test Acc: 0.5120, Train Loss: 0.7386, Test Loss: 0.8308\n",
      "Epoch: 170, Train Acc: 0.7556, Test Acc: 0.7250, Train Loss: 0.4902, Test Loss: 0.5654\n",
      "Epoch: 180, Train Acc: 0.7550, Test Acc: 0.7290, Train Loss: 0.4888, Test Loss: 0.5693\n",
      "Epoch: 190, Train Acc: 0.8136, Test Acc: 0.7260, Train Loss: 0.4741, Test Loss: 0.5760\n",
      "Epoch: 200, Train Acc: 0.8253, Test Acc: 0.7523, Train Loss: 0.3958, Test Loss: 0.5241\n",
      "20 epochs passed without 0 test loss improvement. \n",
      "Early stopping triggered.\n"
     ]
    },
    {
     "data": {
      "text/html": [
       "<style>\n",
       "    table.wandb td:nth-child(1) { padding: 0 10px; text-align: left ; width: auto;} td:nth-child(2) {text-align: left ; width: 100%}\n",
       "    .wandb-row { display: flex; flex-direction: row; flex-wrap: wrap; justify-content: flex-start; width: 100% }\n",
       "    .wandb-col { display: flex; flex-direction: column; flex-basis: 100%; flex: 1; padding: 10px; }\n",
       "    </style>\n",
       "<div class=\"wandb-row\"><div class=\"wandb-col\"><h3>Run history:</h3><br/><table class=\"wandb\"><tr><td>Test Accuracy</td><td>▁▂▃▂▆▂▁▂▇▂▂▆▇▇▆▆▂▂▇▇▇▇▆█▇█▇▇█▇▇▇████▇██▇</td></tr><tr><td>Test F1</td><td>▁▇▄▇▇▂▇▇▇▇▇▆▇▇▆▆▇▇▇▇██▆█▇█▇▇███▇███████▇</td></tr><tr><td>Test Loss</td><td>████▇█▇█▇▇▇▇▆▆▅▅▅▅▄▄▃▄▆▃▂▂▃▂▁▁▁▅▁▁▁▂▃▁▁▅</td></tr><tr><td>Test Sensitivity</td><td>▁█▂█▄▂▇█▅██▄▅▅▄▃▇▇▅▅▆▆▄▆▅▆▅▅▅▅▅▄▆▅▆▆▇▆▆▅</td></tr><tr><td>Test Specificity</td><td>█▁█▁▇█▂▁▇▁▁█▇▇██▂▁▇▇▇▆█▆▇▇▇▇▇▇▇█▇▇▇▆▅▇▇▇</td></tr><tr><td>Train Accuracy</td><td>▁▂▂▂▄▁▁▂▅▂▂▄▆▆▅▄▂▂▆▆▇▇▄▇▇▇▆▇▇▇▇▆█▇█████▇</td></tr><tr><td>Train F1</td><td>▁▇▂▇▅▂▆▇▆▇▇▅▇▇▆▅▇▇▆▇▇█▅█▇█▇▇▇▇▇▆█▇█████▇</td></tr><tr><td>Train Loss</td><td>█████████▇▇▇▇▇▇▇▆▆▆▅▅▅▆▄▄▃▄▃▃▂▂▅▂▂▂▂▃▁▁▃</td></tr><tr><td>Train Sensitivity</td><td>▁█▂█▄▁▇█▄██▃▅▅▄▃▇█▅▅▆▇▃▇▆▆▅▅▆▆▆▄▆▆▆▇▇▆▆▅</td></tr><tr><td>Train Specificity</td><td>█▁█▁██▂▁▇▁▁█▇▇██▂▁▇▇▇▆█▆▇▇█▇▇▇▇█▇▇▇▇▆▇▇█</td></tr></table><br/></div><div class=\"wandb-col\"><h3>Run summary:</h3><br/><table class=\"wandb\"><tr><td>Test Accuracy</td><td>0.51233</td></tr><tr><td>Test F1</td><td>0.6716</td></tr><tr><td>Test Loss</td><td>0.74473</td></tr><tr><td>Test Sensitivity</td><td>0.97586</td></tr><tr><td>Test Specificity</td><td>0.02795</td></tr><tr><td>Train Accuracy</td><td>0.53471</td></tr><tr><td>Train F1</td><td>0.69172</td></tr><tr><td>Train Loss</td><td>0.63559</td></tr><tr><td>Train Sensitivity</td><td>0.99159</td></tr><tr><td>Train Specificity</td><td>0.02685</td></tr></table><br/></div></div>"
      ],
      "text/plain": [
       "<IPython.core.display.HTML object>"
      ]
     },
     "metadata": {},
     "output_type": "display_data"
    },
    {
     "data": {
      "text/html": [
       " View run <strong style=\"color:#cdcd00\">solar-sweep-91</strong> at: <a href='https://wandb.ai/dylan-home/pnca-sweep-1/runs/ahs82cgk' target=\"_blank\">https://wandb.ai/dylan-home/pnca-sweep-1/runs/ahs82cgk</a><br/>Synced 5 W&B file(s), 0 media file(s), 0 artifact file(s) and 0 other file(s)"
      ],
      "text/plain": [
       "<IPython.core.display.HTML object>"
      ]
     },
     "metadata": {},
     "output_type": "display_data"
    },
    {
     "data": {
      "text/html": [
       "Find logs at: <code>./wandb/run-20250116_081552-ahs82cgk/logs</code>"
      ],
      "text/plain": [
       "<IPython.core.display.HTML object>"
      ]
     },
     "metadata": {},
     "output_type": "display_data"
    },
    {
     "name": "stderr",
     "output_type": "stream",
     "text": [
      "\u001b[34m\u001b[1mwandb\u001b[0m: Sweep Agent: Waiting for job.\n",
      "\u001b[34m\u001b[1mwandb\u001b[0m: Job received.\n",
      "\u001b[34m\u001b[1mwandb\u001b[0m: Agent Starting Run: 42i7jkuz with config:\n",
      "\u001b[34m\u001b[1mwandb\u001b[0m: \tcutoff_distance: 3.396254768972093\n",
      "\u001b[34m\u001b[1mwandb\u001b[0m: \tdropout: 0.2\n",
      "\u001b[34m\u001b[1mwandb\u001b[0m: \thidden_channels: 64\n",
      "\u001b[34m\u001b[1mwandb\u001b[0m: \tlearning_rate: 0.00018106905955604357\n",
      "\u001b[34m\u001b[1mwandb\u001b[0m: \tweight_decay: 0.000897759647025013\n",
      "Failed to detect the name of this notebook, you can set it manually with the WANDB_NOTEBOOK_NAME environment variable to enable code saving.\n",
      "/usr/lib/python3/dist-packages/requests/__init__.py:87: RequestsDependencyWarning: urllib3 (2.2.3) or chardet (4.0.0) doesn't match a supported version!\n",
      "  warnings.warn(\"urllib3 ({}) or chardet ({}) doesn't match a supported \"\n"
     ]
    },
    {
     "data": {
      "text/html": [
       "wandb version 0.19.3 is available!  To upgrade, please run:\n",
       " $ pip install wandb --upgrade"
      ],
      "text/plain": [
       "<IPython.core.display.HTML object>"
      ]
     },
     "metadata": {},
     "output_type": "display_data"
    },
    {
     "data": {
      "text/html": [
       "Tracking run with wandb version 0.16.4"
      ],
      "text/plain": [
       "<IPython.core.display.HTML object>"
      ]
     },
     "metadata": {},
     "output_type": "display_data"
    },
    {
     "data": {
      "text/html": [
       "Run data is saved locally in <code>/mnt/alphafold-volume-1/dylan2/repos/tb-pnca-gnn/dd_pnca/wandb/run-20250116_082245-42i7jkuz</code>"
      ],
      "text/plain": [
       "<IPython.core.display.HTML object>"
      ]
     },
     "metadata": {},
     "output_type": "display_data"
    },
    {
     "data": {
      "text/html": [
       "Syncing run <strong><a href='https://wandb.ai/dylan-home/pnca-sweep-1/runs/42i7jkuz' target=\"_blank\">electric-sweep-92</a></strong> to <a href='https://wandb.ai/dylan-home/pnca-sweep-1' target=\"_blank\">Weights & Biases</a> (<a href='https://wandb.me/run' target=\"_blank\">docs</a>)<br/>Sweep page: <a href='https://wandb.ai/dylan-home/pnca-sweep-1/sweeps/tr8mwg42' target=\"_blank\">https://wandb.ai/dylan-home/pnca-sweep-1/sweeps/tr8mwg42</a>"
      ],
      "text/plain": [
       "<IPython.core.display.HTML object>"
      ]
     },
     "metadata": {},
     "output_type": "display_data"
    },
    {
     "data": {
      "text/html": [
       " View project at <a href='https://wandb.ai/dylan-home/pnca-sweep-1' target=\"_blank\">https://wandb.ai/dylan-home/pnca-sweep-1</a>"
      ],
      "text/plain": [
       "<IPython.core.display.HTML object>"
      ]
     },
     "metadata": {},
     "output_type": "display_data"
    },
    {
     "data": {
      "text/html": [
       " View sweep at <a href='https://wandb.ai/dylan-home/pnca-sweep-1/sweeps/tr8mwg42' target=\"_blank\">https://wandb.ai/dylan-home/pnca-sweep-1/sweeps/tr8mwg42</a>"
      ],
      "text/plain": [
       "<IPython.core.display.HTML object>"
      ]
     },
     "metadata": {},
     "output_type": "display_data"
    },
    {
     "data": {
      "text/html": [
       " View run at <a href='https://wandb.ai/dylan-home/pnca-sweep-1/runs/42i7jkuz' target=\"_blank\">https://wandb.ai/dylan-home/pnca-sweep-1/runs/42i7jkuz</a>"
      ],
      "text/plain": [
       "<IPython.core.display.HTML object>"
      ]
     },
     "metadata": {},
     "output_type": "display_data"
    },
    {
     "name": "stdout",
     "output_type": "stream",
     "text": [
      "Using CUDA\n",
      "Early stopping enabled. Patience: 20. Min Delta: 0.\n",
      "Epoch: 010, Train Acc: 0.4316, Test Acc: 0.4343, Train Loss: 0.6926, Test Loss: 0.6916\n",
      "Epoch: 020, Train Acc: 0.5233, Test Acc: 0.5103, Train Loss: 0.6900, Test Loss: 0.6904\n",
      "Epoch: 030, Train Acc: 0.5194, Test Acc: 0.5097, Train Loss: 0.6888, Test Loss: 0.6884\n",
      "Epoch: 040, Train Acc: 0.5464, Test Acc: 0.5980, Train Loss: 0.6908, Test Loss: 0.6874\n",
      "Epoch: 050, Train Acc: 0.5099, Test Acc: 0.5013, Train Loss: 0.6839, Test Loss: 0.6828\n",
      "Epoch: 060, Train Acc: 0.5253, Test Acc: 0.5107, Train Loss: 0.6822, Test Loss: 0.6827\n",
      "Epoch: 070, Train Acc: 0.5051, Test Acc: 0.4807, Train Loss: 0.6757, Test Loss: 0.6737\n",
      "Epoch: 080, Train Acc: 0.5249, Test Acc: 0.5103, Train Loss: 0.6752, Test Loss: 0.6766\n",
      "Epoch: 090, Train Acc: 0.4919, Test Acc: 0.4700, Train Loss: 0.6622, Test Loss: 0.6599\n",
      "Epoch: 100, Train Acc: 0.7170, Test Acc: 0.7100, Train Loss: 0.6525, Test Loss: 0.6479\n",
      "Epoch: 110, Train Acc: 0.5947, Test Acc: 0.6450, Train Loss: 0.6584, Test Loss: 0.6487\n",
      "Epoch: 120, Train Acc: 0.6040, Test Acc: 0.6517, Train Loss: 0.6520, Test Loss: 0.6412\n",
      "Epoch: 130, Train Acc: 0.7340, Test Acc: 0.7157, Train Loss: 0.6189, Test Loss: 0.6130\n",
      "Epoch: 140, Train Acc: 0.7524, Test Acc: 0.7223, Train Loss: 0.6063, Test Loss: 0.6035\n",
      "Epoch: 150, Train Acc: 0.7370, Test Acc: 0.6900, Train Loss: 0.6032, Test Loss: 0.6043\n",
      "Epoch: 160, Train Acc: 0.6571, Test Acc: 0.6787, Train Loss: 0.6105, Test Loss: 0.6018\n",
      "Epoch: 170, Train Acc: 0.7314, Test Acc: 0.7043, Train Loss: 0.5727, Test Loss: 0.5717\n",
      "Epoch: 180, Train Acc: 0.7056, Test Acc: 0.7097, Train Loss: 0.5663, Test Loss: 0.5644\n",
      "Epoch: 190, Train Acc: 0.7327, Test Acc: 0.7160, Train Loss: 0.5494, Test Loss: 0.5520\n",
      "Epoch: 200, Train Acc: 0.6791, Test Acc: 0.6917, Train Loss: 0.5802, Test Loss: 0.5761\n",
      "Epoch: 210, Train Acc: 0.7664, Test Acc: 0.7280, Train Loss: 0.5348, Test Loss: 0.5472\n",
      "Epoch: 220, Train Acc: 0.7790, Test Acc: 0.7383, Train Loss: 0.5253, Test Loss: 0.5401\n",
      "Epoch: 230, Train Acc: 0.7053, Test Acc: 0.7153, Train Loss: 0.5443, Test Loss: 0.5498\n",
      "Epoch: 240, Train Acc: 0.7421, Test Acc: 0.7257, Train Loss: 0.5102, Test Loss: 0.5235\n",
      "Epoch: 250, Train Acc: 0.7593, Test Acc: 0.7287, Train Loss: 0.4964, Test Loss: 0.5168\n",
      "Epoch: 260, Train Acc: 0.7786, Test Acc: 0.7443, Train Loss: 0.4853, Test Loss: 0.5107\n",
      "Epoch: 270, Train Acc: 0.7831, Test Acc: 0.7480, Train Loss: 0.4782, Test Loss: 0.5070\n",
      "Epoch: 280, Train Acc: 0.7977, Test Acc: 0.7480, Train Loss: 0.4886, Test Loss: 0.5242\n",
      "Epoch: 290, Train Acc: 0.7576, Test Acc: 0.7373, Train Loss: 0.4809, Test Loss: 0.5095\n",
      "Epoch: 300, Train Acc: 0.7861, Test Acc: 0.7463, Train Loss: 0.4605, Test Loss: 0.4970\n",
      "Epoch: 310, Train Acc: 0.7761, Test Acc: 0.7420, Train Loss: 0.4565, Test Loss: 0.4959\n",
      "Epoch: 320, Train Acc: 0.7750, Test Acc: 0.7453, Train Loss: 0.4571, Test Loss: 0.4982\n",
      "Epoch: 330, Train Acc: 0.5369, Test Acc: 0.5067, Train Loss: 0.6133, Test Loss: 0.6832\n",
      "20 epochs passed without 0 test loss improvement. \n",
      "Early stopping triggered.\n"
     ]
    },
    {
     "data": {
      "text/html": [
       "<style>\n",
       "    table.wandb td:nth-child(1) { padding: 0 10px; text-align: left ; width: auto;} td:nth-child(2) {text-align: left ; width: 100%}\n",
       "    .wandb-row { display: flex; flex-direction: row; flex-wrap: wrap; justify-content: flex-start; width: 100% }\n",
       "    .wandb-col { display: flex; flex-direction: column; flex-basis: 100%; flex: 1; padding: 10px; }\n",
       "    </style>\n",
       "<div class=\"wandb-row\"><div class=\"wandb-col\"><h3>Run history:</h3><br/><table class=\"wandb\"><tr><td>Test Accuracy</td><td>▄▂▂▂▂▂▂▂▆▂▂▂▁▆▅▆▇▇▇▆▆▇▇▇▇▇▇▇▇████▇██████</td></tr><tr><td>Test F1</td><td>▁▆▆▆▆▆▆▆▅▆▆▆▅▇▃▅▇▇▆▄▄▆▅▇▅█▅▇▆▇▇██▅▇██▇█▇</td></tr><tr><td>Test Loss</td><td>████▇▇▇▇▇▇▇▇▆▆▆▅▅▄▄▄▅▃▃▃▃▄▃▂▂▂▂▂▁▄▁▁▁▁▂▂</td></tr><tr><td>Test Sensitivity</td><td>▁███████▃███▇▆▂▃▅▅▄▂▂▃▃▄▃▇▃▄▄▅▅▆▅▃▄▅▅▅▆▄</td></tr><tr><td>Test Specificity</td><td>█▁▁▁▁▁▁▁▇▁▁▁▁▅█▇▆▆▇██▇█▇█▄█▇▇▇▇▆▇█▇▇▇▇▆▇</td></tr><tr><td>Train Accuracy</td><td>▃▂▂▂▁▁▂▂▅▂▁▂▁▆▃▅▇▇▆▅▄▆▅▆▆▇▅▆▆▇▇██▅▇▇█▇█▇</td></tr><tr><td>Train F1</td><td>▁▆▆▆▆▆▆▆▄▆▆▆▅▇▂▅▇▇▆▄▄▅▅▆▅█▅▆▆▇▇█▇▅▇▇▇▇█▆</td></tr><tr><td>Train Loss</td><td>███████▇▇▇▇▇▇▆▇▆▅▅▅▅▅▄▄▃▄▄▄▃▃▂▂▂▂▄▂▁▁▁▁▂</td></tr><tr><td>Train Sensitivity</td><td>▁███████▃███▇▆▁▃▅▅▄▃▂▃▃▅▃▇▃▄▄▅▅▆▆▃▅▅▆▅▆▄</td></tr><tr><td>Train Specificity</td><td>█▁▁▁▁▁▁▁█▁▁▁▁▆██▇▇▇████▇█▅███▇▇▇▇█▇▇▇▇▇█</td></tr></table><br/></div><div class=\"wandb-col\"><h3>Run summary:</h3><br/><table class=\"wandb\"><tr><td>Test Accuracy</td><td>0.748</td></tr><tr><td>Test F1</td><td>0.70652</td></tr><tr><td>Test Loss</td><td>0.51221</td></tr><tr><td>Test Sensitivity</td><td>0.59361</td></tr><tr><td>Test Specificity</td><td>0.90934</td></tr><tr><td>Train Accuracy</td><td>0.75457</td></tr><tr><td>Train F1</td><td>0.72038</td></tr><tr><td>Train Loss</td><td>0.46928</td></tr><tr><td>Train Sensitivity</td><td>0.60054</td></tr><tr><td>Train Specificity</td><td>0.92579</td></tr></table><br/></div></div>"
      ],
      "text/plain": [
       "<IPython.core.display.HTML object>"
      ]
     },
     "metadata": {},
     "output_type": "display_data"
    },
    {
     "data": {
      "text/html": [
       " View run <strong style=\"color:#cdcd00\">electric-sweep-92</strong> at: <a href='https://wandb.ai/dylan-home/pnca-sweep-1/runs/42i7jkuz' target=\"_blank\">https://wandb.ai/dylan-home/pnca-sweep-1/runs/42i7jkuz</a><br/>Synced 5 W&B file(s), 0 media file(s), 0 artifact file(s) and 0 other file(s)"
      ],
      "text/plain": [
       "<IPython.core.display.HTML object>"
      ]
     },
     "metadata": {},
     "output_type": "display_data"
    },
    {
     "data": {
      "text/html": [
       "Find logs at: <code>./wandb/run-20250116_082245-42i7jkuz/logs</code>"
      ],
      "text/plain": [
       "<IPython.core.display.HTML object>"
      ]
     },
     "metadata": {},
     "output_type": "display_data"
    },
    {
     "name": "stderr",
     "output_type": "stream",
     "text": [
      "\u001b[34m\u001b[1mwandb\u001b[0m: Agent Starting Run: nmp3nea4 with config:\n",
      "\u001b[34m\u001b[1mwandb\u001b[0m: \tcutoff_distance: 3.0459986322050643\n",
      "\u001b[34m\u001b[1mwandb\u001b[0m: \tdropout: 0.4\n",
      "\u001b[34m\u001b[1mwandb\u001b[0m: \thidden_channels: 64\n",
      "\u001b[34m\u001b[1mwandb\u001b[0m: \tlearning_rate: 0.0008691227768196552\n",
      "\u001b[34m\u001b[1mwandb\u001b[0m: \tweight_decay: 8.890981412664134e-05\n",
      "Failed to detect the name of this notebook, you can set it manually with the WANDB_NOTEBOOK_NAME environment variable to enable code saving.\n",
      "/usr/lib/python3/dist-packages/requests/__init__.py:87: RequestsDependencyWarning: urllib3 (2.2.3) or chardet (4.0.0) doesn't match a supported version!\n",
      "  warnings.warn(\"urllib3 ({}) or chardet ({}) doesn't match a supported \"\n"
     ]
    },
    {
     "data": {
      "text/html": [
       "wandb version 0.19.3 is available!  To upgrade, please run:\n",
       " $ pip install wandb --upgrade"
      ],
      "text/plain": [
       "<IPython.core.display.HTML object>"
      ]
     },
     "metadata": {},
     "output_type": "display_data"
    },
    {
     "data": {
      "text/html": [
       "Tracking run with wandb version 0.16.4"
      ],
      "text/plain": [
       "<IPython.core.display.HTML object>"
      ]
     },
     "metadata": {},
     "output_type": "display_data"
    },
    {
     "data": {
      "text/html": [
       "Run data is saved locally in <code>/mnt/alphafold-volume-1/dylan2/repos/tb-pnca-gnn/dd_pnca/wandb/run-20250116_083238-nmp3nea4</code>"
      ],
      "text/plain": [
       "<IPython.core.display.HTML object>"
      ]
     },
     "metadata": {},
     "output_type": "display_data"
    },
    {
     "data": {
      "text/html": [
       "Syncing run <strong><a href='https://wandb.ai/dylan-home/pnca-sweep-1/runs/nmp3nea4' target=\"_blank\">bright-sweep-93</a></strong> to <a href='https://wandb.ai/dylan-home/pnca-sweep-1' target=\"_blank\">Weights & Biases</a> (<a href='https://wandb.me/run' target=\"_blank\">docs</a>)<br/>Sweep page: <a href='https://wandb.ai/dylan-home/pnca-sweep-1/sweeps/tr8mwg42' target=\"_blank\">https://wandb.ai/dylan-home/pnca-sweep-1/sweeps/tr8mwg42</a>"
      ],
      "text/plain": [
       "<IPython.core.display.HTML object>"
      ]
     },
     "metadata": {},
     "output_type": "display_data"
    },
    {
     "data": {
      "text/html": [
       " View project at <a href='https://wandb.ai/dylan-home/pnca-sweep-1' target=\"_blank\">https://wandb.ai/dylan-home/pnca-sweep-1</a>"
      ],
      "text/plain": [
       "<IPython.core.display.HTML object>"
      ]
     },
     "metadata": {},
     "output_type": "display_data"
    },
    {
     "data": {
      "text/html": [
       " View sweep at <a href='https://wandb.ai/dylan-home/pnca-sweep-1/sweeps/tr8mwg42' target=\"_blank\">https://wandb.ai/dylan-home/pnca-sweep-1/sweeps/tr8mwg42</a>"
      ],
      "text/plain": [
       "<IPython.core.display.HTML object>"
      ]
     },
     "metadata": {},
     "output_type": "display_data"
    },
    {
     "data": {
      "text/html": [
       " View run at <a href='https://wandb.ai/dylan-home/pnca-sweep-1/runs/nmp3nea4' target=\"_blank\">https://wandb.ai/dylan-home/pnca-sweep-1/runs/nmp3nea4</a>"
      ],
      "text/plain": [
       "<IPython.core.display.HTML object>"
      ]
     },
     "metadata": {},
     "output_type": "display_data"
    },
    {
     "name": "stdout",
     "output_type": "stream",
     "text": [
      "Using CUDA\n",
      "Early stopping enabled. Patience: 20. Min Delta: 0.\n",
      "Epoch: 010, Train Acc: 0.5264, Test Acc: 0.5110, Train Loss: 0.6914, Test Loss: 0.6924\n",
      "Epoch: 020, Train Acc: 0.5264, Test Acc: 0.5110, Train Loss: 0.6908, Test Loss: 0.6922\n",
      "Epoch: 030, Train Acc: 0.5264, Test Acc: 0.5110, Train Loss: 0.6897, Test Loss: 0.6900\n",
      "Epoch: 040, Train Acc: 0.5261, Test Acc: 0.5107, Train Loss: 0.6869, Test Loss: 0.6868\n",
      "Epoch: 050, Train Acc: 0.7117, Test Acc: 0.7127, Train Loss: 0.6755, Test Loss: 0.6730\n",
      "Epoch: 060, Train Acc: 0.5264, Test Acc: 0.5110, Train Loss: 0.6776, Test Loss: 0.6816\n",
      "Epoch: 070, Train Acc: 0.5989, Test Acc: 0.6243, Train Loss: 0.6515, Test Loss: 0.6424\n",
      "Epoch: 080, Train Acc: 0.6907, Test Acc: 0.6943, Train Loss: 0.5980, Test Loss: 0.5930\n",
      "Epoch: 090, Train Acc: 0.6656, Test Acc: 0.6810, Train Loss: 0.5940, Test Loss: 0.5868\n",
      "Epoch: 100, Train Acc: 0.6207, Test Acc: 0.6433, Train Loss: 0.6701, Test Loss: 0.6509\n",
      "Epoch: 110, Train Acc: 0.7319, Test Acc: 0.7267, Train Loss: 0.5306, Test Loss: 0.5400\n",
      "Epoch: 120, Train Acc: 0.7046, Test Acc: 0.6990, Train Loss: 0.5485, Test Loss: 0.5622\n",
      "Epoch: 130, Train Acc: 0.7653, Test Acc: 0.7313, Train Loss: 0.4863, Test Loss: 0.5305\n",
      "Epoch: 140, Train Acc: 0.7603, Test Acc: 0.7163, Train Loss: 0.4840, Test Loss: 0.5456\n",
      "Epoch: 150, Train Acc: 0.8131, Test Acc: 0.7590, Train Loss: 0.4489, Test Loss: 0.5549\n",
      "Epoch: 160, Train Acc: 0.8181, Test Acc: 0.7510, Train Loss: 0.4241, Test Loss: 0.5415\n",
      "20 epochs passed without 0 test loss improvement. \n",
      "Early stopping triggered.\n"
     ]
    },
    {
     "data": {
      "text/html": [
       "<style>\n",
       "    table.wandb td:nth-child(1) { padding: 0 10px; text-align: left ; width: auto;} td:nth-child(2) {text-align: left ; width: 100%}\n",
       "    .wandb-row { display: flex; flex-direction: row; flex-wrap: wrap; justify-content: flex-start; width: 100% }\n",
       "    .wandb-col { display: flex; flex-direction: column; flex-basis: 100%; flex: 1; padding: 10px; }\n",
       "    </style>\n",
       "<div class=\"wandb-row\"><div class=\"wandb-col\"><h3>Run history:</h3><br/><table class=\"wandb\"><tr><td>Test Accuracy</td><td>▁▁▁▁▁▁▁▁▁▁▁▁▄▄▁▅▆▁▁▆█▆▇▅▅▆▇▆█▇█▇▇▇▆█▇▇██</td></tr><tr><td>Test F1</td><td>▆▆▆▆▆▆▆▆▆▆▆▆▁▁▆▄▅▆▆▅█▅▆▃▃▅▆▅▇██▆▇▆▆▇█▇▇█</td></tr><tr><td>Test Loss</td><td>████████████▇▇▇▆▅█▅▄▃▄▃▆▅▃▂▄▁▃▂▁▁▂▃▁▅▂▂▂</td></tr><tr><td>Test Sensitivity</td><td>████████████▁▁█▂▃██▃▆▃▄▂▂▃▄▃▅▆▆▄▄▄▄▅▇▅▅▅</td></tr><tr><td>Test Specificity</td><td>▁▁▁▁▁▁▁▁▁▁▁▁██▁█▇▁▁▇▆█▇███▇█▇▆▆▇▇▇▇▇▅▇▇▇</td></tr><tr><td>Train Accuracy</td><td>▁▁▁▁▁▁▁▁▁▁▁▁▂▂▁▄▄▁▁▅▇▄▅▃▄▅▆▅▇▇▇▇▇▆▆█▇▇██</td></tr><tr><td>Train F1</td><td>▆▆▆▆▆▆▆▆▆▆▆▆▁▁▆▄▅▆▆▅▇▅▆▃▄▅▆▅▇██▇▇▇▇██▇██</td></tr><tr><td>Train Loss</td><td>███████████████▇▇█▇▆▅▆▅▇▆▅▄▅▄▄▄▃▃▃▃▂▃▂▂▁</td></tr><tr><td>Train Sensitivity</td><td>████████████▁▁█▃▃██▄▆▃▄▂▂▄▄▃▅▇▆▅▅▄▄▆▇▅▆▆</td></tr><tr><td>Train Specificity</td><td>▁▁▁▁▁▁▁▁▁▁▁▁██▁██▁▁█▇█▇█████▇▆▆████▇▆██▇</td></tr></table><br/></div><div class=\"wandb-col\"><h3>Run summary:</h3><br/><table class=\"wandb\"><tr><td>Test Accuracy</td><td>0.767</td></tr><tr><td>Test F1</td><td>0.75274</td></tr><tr><td>Test Loss</td><td>0.53866</td></tr><tr><td>Test Sensitivity</td><td>0.69406</td></tr><tr><td>Test Specificity</td><td>0.84322</td></tr><tr><td>Train Accuracy</td><td>0.82657</td></tr><tr><td>Train F1</td><td>0.82298</td></tr><tr><td>Train Loss</td><td>0.38577</td></tr><tr><td>Train Sensitivity</td><td>0.76581</td></tr><tr><td>Train Specificity</td><td>0.89412</td></tr></table><br/></div></div>"
      ],
      "text/plain": [
       "<IPython.core.display.HTML object>"
      ]
     },
     "metadata": {},
     "output_type": "display_data"
    },
    {
     "data": {
      "text/html": [
       " View run <strong style=\"color:#cdcd00\">bright-sweep-93</strong> at: <a href='https://wandb.ai/dylan-home/pnca-sweep-1/runs/nmp3nea4' target=\"_blank\">https://wandb.ai/dylan-home/pnca-sweep-1/runs/nmp3nea4</a><br/>Synced 5 W&B file(s), 0 media file(s), 0 artifact file(s) and 0 other file(s)"
      ],
      "text/plain": [
       "<IPython.core.display.HTML object>"
      ]
     },
     "metadata": {},
     "output_type": "display_data"
    },
    {
     "data": {
      "text/html": [
       "Find logs at: <code>./wandb/run-20250116_083238-nmp3nea4/logs</code>"
      ],
      "text/plain": [
       "<IPython.core.display.HTML object>"
      ]
     },
     "metadata": {},
     "output_type": "display_data"
    },
    {
     "name": "stderr",
     "output_type": "stream",
     "text": [
      "\u001b[34m\u001b[1mwandb\u001b[0m: Agent Starting Run: ktwj2opd with config:\n",
      "\u001b[34m\u001b[1mwandb\u001b[0m: \tcutoff_distance: 4.940620409645435\n",
      "\u001b[34m\u001b[1mwandb\u001b[0m: \tdropout: 0.4\n",
      "\u001b[34m\u001b[1mwandb\u001b[0m: \thidden_channels: 128\n",
      "\u001b[34m\u001b[1mwandb\u001b[0m: \tlearning_rate: 0.00014993571669086786\n",
      "\u001b[34m\u001b[1mwandb\u001b[0m: \tweight_decay: 6.523537976396814e-06\n",
      "Failed to detect the name of this notebook, you can set it manually with the WANDB_NOTEBOOK_NAME environment variable to enable code saving.\n",
      "/usr/lib/python3/dist-packages/requests/__init__.py:87: RequestsDependencyWarning: urllib3 (2.2.3) or chardet (4.0.0) doesn't match a supported version!\n",
      "  warnings.warn(\"urllib3 ({}) or chardet ({}) doesn't match a supported \"\n"
     ]
    },
    {
     "data": {
      "text/html": [
       "wandb version 0.19.3 is available!  To upgrade, please run:\n",
       " $ pip install wandb --upgrade"
      ],
      "text/plain": [
       "<IPython.core.display.HTML object>"
      ]
     },
     "metadata": {},
     "output_type": "display_data"
    },
    {
     "data": {
      "text/html": [
       "Tracking run with wandb version 0.16.4"
      ],
      "text/plain": [
       "<IPython.core.display.HTML object>"
      ]
     },
     "metadata": {},
     "output_type": "display_data"
    },
    {
     "data": {
      "text/html": [
       "Run data is saved locally in <code>/mnt/alphafold-volume-1/dylan2/repos/tb-pnca-gnn/dd_pnca/wandb/run-20250116_083735-ktwj2opd</code>"
      ],
      "text/plain": [
       "<IPython.core.display.HTML object>"
      ]
     },
     "metadata": {},
     "output_type": "display_data"
    },
    {
     "data": {
      "text/html": [
       "Syncing run <strong><a href='https://wandb.ai/dylan-home/pnca-sweep-1/runs/ktwj2opd' target=\"_blank\">glowing-sweep-94</a></strong> to <a href='https://wandb.ai/dylan-home/pnca-sweep-1' target=\"_blank\">Weights & Biases</a> (<a href='https://wandb.me/run' target=\"_blank\">docs</a>)<br/>Sweep page: <a href='https://wandb.ai/dylan-home/pnca-sweep-1/sweeps/tr8mwg42' target=\"_blank\">https://wandb.ai/dylan-home/pnca-sweep-1/sweeps/tr8mwg42</a>"
      ],
      "text/plain": [
       "<IPython.core.display.HTML object>"
      ]
     },
     "metadata": {},
     "output_type": "display_data"
    },
    {
     "data": {
      "text/html": [
       " View project at <a href='https://wandb.ai/dylan-home/pnca-sweep-1' target=\"_blank\">https://wandb.ai/dylan-home/pnca-sweep-1</a>"
      ],
      "text/plain": [
       "<IPython.core.display.HTML object>"
      ]
     },
     "metadata": {},
     "output_type": "display_data"
    },
    {
     "data": {
      "text/html": [
       " View sweep at <a href='https://wandb.ai/dylan-home/pnca-sweep-1/sweeps/tr8mwg42' target=\"_blank\">https://wandb.ai/dylan-home/pnca-sweep-1/sweeps/tr8mwg42</a>"
      ],
      "text/plain": [
       "<IPython.core.display.HTML object>"
      ]
     },
     "metadata": {},
     "output_type": "display_data"
    },
    {
     "data": {
      "text/html": [
       " View run at <a href='https://wandb.ai/dylan-home/pnca-sweep-1/runs/ktwj2opd' target=\"_blank\">https://wandb.ai/dylan-home/pnca-sweep-1/runs/ktwj2opd</a>"
      ],
      "text/plain": [
       "<IPython.core.display.HTML object>"
      ]
     },
     "metadata": {},
     "output_type": "display_data"
    },
    {
     "name": "stdout",
     "output_type": "stream",
     "text": [
      "Using CUDA\n",
      "Early stopping enabled. Patience: 20. Min Delta: 0.\n",
      "Epoch: 010, Train Acc: 0.4736, Test Acc: 0.4890, Train Loss: 0.6962, Test Loss: 0.6956\n",
      "Epoch: 020, Train Acc: 0.5264, Test Acc: 0.5110, Train Loss: 0.6880, Test Loss: 0.6902\n",
      "Epoch: 030, Train Acc: 0.5179, Test Acc: 0.4950, Train Loss: 0.6837, Test Loss: 0.6831\n",
      "Epoch: 040, Train Acc: 0.5264, Test Acc: 0.5110, Train Loss: 0.6883, Test Loss: 0.6912\n",
      "Epoch: 050, Train Acc: 0.5250, Test Acc: 0.5103, Train Loss: 0.6796, Test Loss: 0.6800\n",
      "Epoch: 060, Train Acc: 0.5794, Test Acc: 0.6360, Train Loss: 0.6780, Test Loss: 0.6705\n",
      "Epoch: 070, Train Acc: 0.4983, Test Acc: 0.4623, Train Loss: 0.6633, Test Loss: 0.6605\n",
      "Epoch: 080, Train Acc: 0.7056, Test Acc: 0.6713, Train Loss: 0.6578, Test Loss: 0.6543\n",
      "Epoch: 090, Train Acc: 0.5247, Test Acc: 0.5090, Train Loss: 0.6743, Test Loss: 0.6806\n",
      "Epoch: 100, Train Acc: 0.5114, Test Acc: 0.4770, Train Loss: 0.6443, Test Loss: 0.6466\n",
      "Epoch: 110, Train Acc: 0.6956, Test Acc: 0.6770, Train Loss: 0.6331, Test Loss: 0.6298\n",
      "Epoch: 120, Train Acc: 0.6901, Test Acc: 0.6700, Train Loss: 0.6289, Test Loss: 0.6262\n"
     ]
    },
    {
     "name": "stderr",
     "output_type": "stream",
     "text": [
      "wandb: ERROR Error while calling W&B API: context deadline exceeded (<Response [500]>)\n",
      "wandb: ERROR Error while calling W&B API: context deadline exceeded (<Response [500]>)\n",
      "wandb: ERROR Error while calling W&B API: context deadline exceeded (<Response [500]>)\n"
     ]
    },
    {
     "name": "stdout",
     "output_type": "stream",
     "text": [
      "Epoch: 130, Train Acc: 0.7349, Test Acc: 0.7020, Train Loss: 0.6080, Test Loss: 0.6141\n"
     ]
    },
    {
     "name": "stderr",
     "output_type": "stream",
     "text": [
      "wandb: ERROR Error while calling W&B API: context deadline exceeded (<Response [500]>)\n"
     ]
    },
    {
     "name": "stdout",
     "output_type": "stream",
     "text": [
      "Epoch: 140, Train Acc: 0.6489, Test Acc: 0.6583, Train Loss: 0.6230, Test Loss: 0.6227\n",
      "Epoch: 150, Train Acc: 0.7411, Test Acc: 0.7097, Train Loss: 0.5868, Test Loss: 0.5978\n",
      "Epoch: 160, Train Acc: 0.7116, Test Acc: 0.6817, Train Loss: 0.5873, Test Loss: 0.5946\n",
      "Epoch: 170, Train Acc: 0.5261, Test Acc: 0.4987, Train Loss: 0.6378, Test Loss: 0.6723\n",
      "Epoch: 180, Train Acc: 0.6760, Test Acc: 0.6687, Train Loss: 0.5939, Test Loss: 0.6052\n",
      "Epoch: 190, Train Acc: 0.7437, Test Acc: 0.6953, Train Loss: 0.5654, Test Loss: 0.6060\n",
      "Epoch: 200, Train Acc: 0.7769, Test Acc: 0.7387, Train Loss: 0.5373, Test Loss: 0.5786\n",
      "Epoch: 210, Train Acc: 0.7739, Test Acc: 0.7310, Train Loss: 0.5253, Test Loss: 0.5639\n",
      "Epoch: 220, Train Acc: 0.7539, Test Acc: 0.7113, Train Loss: 0.5520, Test Loss: 0.6054\n",
      "Epoch: 230, Train Acc: 0.7371, Test Acc: 0.6980, Train Loss: 0.5245, Test Loss: 0.5647\n",
      "Epoch: 240, Train Acc: 0.7829, Test Acc: 0.7453, Train Loss: 0.4967, Test Loss: 0.5600\n",
      "Epoch: 250, Train Acc: 0.7710, Test Acc: 0.7260, Train Loss: 0.4838, Test Loss: 0.5426\n",
      "Epoch: 260, Train Acc: 0.7817, Test Acc: 0.7343, Train Loss: 0.4781, Test Loss: 0.5407\n",
      "Epoch: 270, Train Acc: 0.7616, Test Acc: 0.7193, Train Loss: 0.4846, Test Loss: 0.5479\n",
      "Epoch: 280, Train Acc: 0.8021, Test Acc: 0.7533, Train Loss: 0.4552, Test Loss: 0.5393\n",
      "Epoch: 290, Train Acc: 0.7399, Test Acc: 0.7087, Train Loss: 0.5126, Test Loss: 0.5779\n",
      "Epoch: 300, Train Acc: 0.8106, Test Acc: 0.7567, Train Loss: 0.4398, Test Loss: 0.5337\n",
      "Epoch: 310, Train Acc: 0.7813, Test Acc: 0.7297, Train Loss: 0.4595, Test Loss: 0.5426\n",
      "Epoch: 320, Train Acc: 0.7566, Test Acc: 0.7170, Train Loss: 0.4870, Test Loss: 0.5687\n",
      "Epoch: 330, Train Acc: 0.7539, Test Acc: 0.7173, Train Loss: 0.4944, Test Loss: 0.5786\n",
      "Epoch: 340, Train Acc: 0.8030, Test Acc: 0.7383, Train Loss: 0.4807, Test Loss: 0.6244\n",
      "Epoch: 350, Train Acc: 0.8181, Test Acc: 0.7463, Train Loss: 0.4080, Test Loss: 0.5288\n",
      "20 epochs passed without 0 test loss improvement. \n",
      "Early stopping triggered.\n"
     ]
    },
    {
     "data": {
      "text/html": [
       "<style>\n",
       "    table.wandb td:nth-child(1) { padding: 0 10px; text-align: left ; width: auto;} td:nth-child(2) {text-align: left ; width: 100%}\n",
       "    .wandb-row { display: flex; flex-direction: row; flex-wrap: wrap; justify-content: flex-start; width: 100% }\n",
       "    .wandb-col { display: flex; flex-direction: column; flex-basis: 100%; flex: 1; padding: 10px; }\n",
       "    </style>\n",
       "<div class=\"wandb-row\"><div class=\"wandb-col\"><h3>Run history:</h3><br/><table class=\"wandb\"><tr><td>Test Accuracy</td><td>▂▂▂▁▁▆▅▅▅▆▆▁▁▆▆▅▂▆▆▆▆▆▇▆▆▇▇▇█▇▇███████▇▇</td></tr><tr><td>Test F1</td><td>▅▅▅▅▅▄▁▂▃▅▆▄▄▃▅▂▄▅▂▃▃▅▇▄▃▆▅▇▇▆▅▇█▇█▇▇▇█▅</td></tr><tr><td>Test Loss</td><td>██▇▇▇▇▇▆▆▆▆▆▆▅▄▅▅▄▅▄▄▃▃▃▄▂▂▄▂▂▂▂▂▁▂▁▁▁▅▃</td></tr><tr><td>Test Sensitivity</td><td>███▇▇▃▁▂▂▃▅▆▆▂▃▁▆▃▂▂▂▃▅▂▂▄▃▇▅▄▃▅▆▅▆▅▅▅▇▃</td></tr><tr><td>Test Specificity</td><td>▁▁▁▁▁▇██▇▇▆▂▂▇▇█▂▇███▇▆██▇▇▅▇▇▇▇▇▇▆▇▇▇▅█</td></tr><tr><td>Train Accuracy</td><td>▂▂▂▁▁▅▃▄▄▆▆▁▁▅▆▄▂▆▄▅▅▆▇▆▅▇▆▇▇▇▇████████▇</td></tr><tr><td>Train F1</td><td>▆▆▆▅▅▅▁▃▃▅▆▅▅▅▆▃▅▆▃▄▄▆▇▅▄▇▆▇▇▇▆████▇███▆</td></tr><tr><td>Train Loss</td><td>████▇▇▇▇▇▇▇▇▆▆▆▆▆▅▆▆▅▄▄▅▅▃▄▄▃▃▃▂▂▂▂▁▁▁▃▃</td></tr><tr><td>Train Sensitivity</td><td>███▇█▃▁▂▂▄▆▇▇▃▄▂▇▄▂▃▃▄▆▃▃▅▄▇▆▅▄▆▆▆▆▅▆▆▇▄</td></tr><tr><td>Train Specificity</td><td>▁▁▁▁▁▇███▇▆▂▂█▇█▂▇████▇██▇█▅▇▇█▇▇▇▇▇▇▇▆█</td></tr></table><br/></div><div class=\"wandb-col\"><h3>Run summary:</h3><br/><table class=\"wandb\"><tr><td>Test Accuracy</td><td>0.759</td></tr><tr><td>Test F1</td><td>0.7506</td></tr><tr><td>Test Loss</td><td>0.53053</td></tr><tr><td>Test Sensitivity</td><td>0.70972</td></tr><tr><td>Test Specificity</td><td>0.8105</td></tr><tr><td>Train Accuracy</td><td>0.82443</td></tr><tr><td>Train F1</td><td>0.8215</td></tr><tr><td>Train Loss</td><td>0.40679</td></tr><tr><td>Train Sensitivity</td><td>0.76744</td></tr><tr><td>Train Specificity</td><td>0.88778</td></tr></table><br/></div></div>"
      ],
      "text/plain": [
       "<IPython.core.display.HTML object>"
      ]
     },
     "metadata": {},
     "output_type": "display_data"
    },
    {
     "data": {
      "text/html": [
       " View run <strong style=\"color:#cdcd00\">glowing-sweep-94</strong> at: <a href='https://wandb.ai/dylan-home/pnca-sweep-1/runs/ktwj2opd' target=\"_blank\">https://wandb.ai/dylan-home/pnca-sweep-1/runs/ktwj2opd</a><br/>Synced 5 W&B file(s), 0 media file(s), 0 artifact file(s) and 0 other file(s)"
      ],
      "text/plain": [
       "<IPython.core.display.HTML object>"
      ]
     },
     "metadata": {},
     "output_type": "display_data"
    },
    {
     "data": {
      "text/html": [
       "Find logs at: <code>./wandb/run-20250116_083735-ktwj2opd/logs</code>"
      ],
      "text/plain": [
       "<IPython.core.display.HTML object>"
      ]
     },
     "metadata": {},
     "output_type": "display_data"
    },
    {
     "name": "stderr",
     "output_type": "stream",
     "text": [
      "\u001b[34m\u001b[1mwandb\u001b[0m: Agent Starting Run: hlkg02qi with config:\n",
      "\u001b[34m\u001b[1mwandb\u001b[0m: \tcutoff_distance: 3.296102198958612\n",
      "\u001b[34m\u001b[1mwandb\u001b[0m: \tdropout: 0.5\n",
      "\u001b[34m\u001b[1mwandb\u001b[0m: \thidden_channels: 192\n",
      "\u001b[34m\u001b[1mwandb\u001b[0m: \tlearning_rate: 0.0002434790663961453\n",
      "\u001b[34m\u001b[1mwandb\u001b[0m: \tweight_decay: 9.029430306731008e-07\n",
      "Failed to detect the name of this notebook, you can set it manually with the WANDB_NOTEBOOK_NAME environment variable to enable code saving.\n",
      "/usr/lib/python3/dist-packages/requests/__init__.py:87: RequestsDependencyWarning: urllib3 (2.2.3) or chardet (4.0.0) doesn't match a supported version!\n",
      "  warnings.warn(\"urllib3 ({}) or chardet ({}) doesn't match a supported \"\n"
     ]
    },
    {
     "data": {
      "text/html": [
       "wandb version 0.19.3 is available!  To upgrade, please run:\n",
       " $ pip install wandb --upgrade"
      ],
      "text/plain": [
       "<IPython.core.display.HTML object>"
      ]
     },
     "metadata": {},
     "output_type": "display_data"
    },
    {
     "data": {
      "text/html": [
       "Tracking run with wandb version 0.16.4"
      ],
      "text/plain": [
       "<IPython.core.display.HTML object>"
      ]
     },
     "metadata": {},
     "output_type": "display_data"
    },
    {
     "data": {
      "text/html": [
       "Run data is saved locally in <code>/mnt/alphafold-volume-1/dylan2/repos/tb-pnca-gnn/dd_pnca/wandb/run-20250116_084826-hlkg02qi</code>"
      ],
      "text/plain": [
       "<IPython.core.display.HTML object>"
      ]
     },
     "metadata": {},
     "output_type": "display_data"
    },
    {
     "data": {
      "text/html": [
       "Syncing run <strong><a href='https://wandb.ai/dylan-home/pnca-sweep-1/runs/hlkg02qi' target=\"_blank\">stellar-sweep-95</a></strong> to <a href='https://wandb.ai/dylan-home/pnca-sweep-1' target=\"_blank\">Weights & Biases</a> (<a href='https://wandb.me/run' target=\"_blank\">docs</a>)<br/>Sweep page: <a href='https://wandb.ai/dylan-home/pnca-sweep-1/sweeps/tr8mwg42' target=\"_blank\">https://wandb.ai/dylan-home/pnca-sweep-1/sweeps/tr8mwg42</a>"
      ],
      "text/plain": [
       "<IPython.core.display.HTML object>"
      ]
     },
     "metadata": {},
     "output_type": "display_data"
    },
    {
     "data": {
      "text/html": [
       " View project at <a href='https://wandb.ai/dylan-home/pnca-sweep-1' target=\"_blank\">https://wandb.ai/dylan-home/pnca-sweep-1</a>"
      ],
      "text/plain": [
       "<IPython.core.display.HTML object>"
      ]
     },
     "metadata": {},
     "output_type": "display_data"
    },
    {
     "data": {
      "text/html": [
       " View sweep at <a href='https://wandb.ai/dylan-home/pnca-sweep-1/sweeps/tr8mwg42' target=\"_blank\">https://wandb.ai/dylan-home/pnca-sweep-1/sweeps/tr8mwg42</a>"
      ],
      "text/plain": [
       "<IPython.core.display.HTML object>"
      ]
     },
     "metadata": {},
     "output_type": "display_data"
    },
    {
     "data": {
      "text/html": [
       " View run at <a href='https://wandb.ai/dylan-home/pnca-sweep-1/runs/hlkg02qi' target=\"_blank\">https://wandb.ai/dylan-home/pnca-sweep-1/runs/hlkg02qi</a>"
      ],
      "text/plain": [
       "<IPython.core.display.HTML object>"
      ]
     },
     "metadata": {},
     "output_type": "display_data"
    },
    {
     "name": "stdout",
     "output_type": "stream",
     "text": [
      "Using CUDA\n",
      "Early stopping enabled. Patience: 20. Min Delta: 0.\n",
      "Epoch: 010, Train Acc: 0.4723, Test Acc: 0.4577, Train Loss: 0.6901, Test Loss: 0.6887\n",
      "Epoch: 020, Train Acc: 0.5224, Test Acc: 0.5100, Train Loss: 0.6865, Test Loss: 0.6858\n",
      "Epoch: 030, Train Acc: 0.5929, Test Acc: 0.6417, Train Loss: 0.6872, Test Loss: 0.6829\n",
      "Epoch: 040, Train Acc: 0.5261, Test Acc: 0.5110, Train Loss: 0.6851, Test Loss: 0.6860\n",
      "Epoch: 050, Train Acc: 0.5034, Test Acc: 0.4853, Train Loss: 0.6788, Test Loss: 0.6753\n",
      "Epoch: 060, Train Acc: 0.5174, Test Acc: 0.4907, Train Loss: 0.6727, Test Loss: 0.6717\n",
      "Epoch: 070, Train Acc: 0.5280, Test Acc: 0.5703, Train Loss: 0.6858, Test Loss: 0.6763\n",
      "Epoch: 080, Train Acc: 0.5234, Test Acc: 0.5087, Train Loss: 0.6625, Test Loss: 0.6667\n",
      "Epoch: 090, Train Acc: 0.7177, Test Acc: 0.7120, Train Loss: 0.6404, Test Loss: 0.6352\n",
      "Epoch: 100, Train Acc: 0.7359, Test Acc: 0.6967, Train Loss: 0.6209, Test Loss: 0.6219\n",
      "Epoch: 110, Train Acc: 0.5367, Test Acc: 0.5063, Train Loss: 0.6140, Test Loss: 0.6230\n",
      "Epoch: 120, Train Acc: 0.6531, Test Acc: 0.6783, Train Loss: 0.6166, Test Loss: 0.6117\n",
      "Epoch: 130, Train Acc: 0.6266, Test Acc: 0.6553, Train Loss: 0.6413, Test Loss: 0.6365\n",
      "Epoch: 140, Train Acc: 0.6913, Test Acc: 0.6953, Train Loss: 0.5751, Test Loss: 0.5853\n",
      "Epoch: 150, Train Acc: 0.7857, Test Acc: 0.7433, Train Loss: 0.5212, Test Loss: 0.5539\n",
      "Epoch: 160, Train Acc: 0.5306, Test Acc: 0.5073, Train Loss: 0.6416, Test Loss: 0.6936\n",
      "Epoch: 170, Train Acc: 0.7383, Test Acc: 0.7137, Train Loss: 0.5204, Test Loss: 0.5551\n",
      "Epoch: 180, Train Acc: 0.7157, Test Acc: 0.7050, Train Loss: 0.5536, Test Loss: 0.5912\n",
      "Epoch: 190, Train Acc: 0.8014, Test Acc: 0.7407, Train Loss: 0.5022, Test Loss: 0.5592\n",
      "Epoch: 200, Train Acc: 0.8020, Test Acc: 0.7507, Train Loss: 0.4566, Test Loss: 0.5238\n",
      "Epoch: 210, Train Acc: 0.8121, Test Acc: 0.7633, Train Loss: 0.4566, Test Loss: 0.5407\n",
      "Epoch: 220, Train Acc: 0.8141, Test Acc: 0.7537, Train Loss: 0.4386, Test Loss: 0.5203\n",
      "Epoch: 230, Train Acc: 0.7731, Test Acc: 0.7347, Train Loss: 0.4555, Test Loss: 0.5469\n",
      "Epoch: 240, Train Acc: 0.8014, Test Acc: 0.7460, Train Loss: 0.4254, Test Loss: 0.5156\n",
      "20 epochs passed without 0 test loss improvement. \n",
      "Early stopping triggered.\n"
     ]
    },
    {
     "data": {
      "text/html": [
       "<style>\n",
       "    table.wandb td:nth-child(1) { padding: 0 10px; text-align: left ; width: auto;} td:nth-child(2) {text-align: left ; width: 100%}\n",
       "    .wandb-row { display: flex; flex-direction: row; flex-wrap: wrap; justify-content: flex-start; width: 100% }\n",
       "    .wandb-col { display: flex; flex-direction: column; flex-basis: 100%; flex: 1; padding: 10px; }\n",
       "    </style>\n",
       "<div class=\"wandb-row\"><div class=\"wandb-col\"><h3>Run history:</h3><br/><table class=\"wandb\"><tr><td>Test Accuracy</td><td>▂▁▄▂▂▂▂▂▁▁▃▆▂▂▂▂▇▇▂▅▆▆▅██▇▂█▇▇██▇▇▇███▂█</td></tr><tr><td>Test F1</td><td>▇▆▃▇▇▇▇▇▆▇▁▅▇▇▇▇█▇▇▅▆▅▄▇█▇▇▇▇▇██▇▇▇▇█▇▇█</td></tr><tr><td>Test Loss</td><td>▆▆▆▆▆▆▆▆▆▅▆▅▆▅▅▆▄▄▄▅▄▄▆▂▂▂▆▂▂▂▁▂▂▂▂▁▁▁█▁</td></tr><tr><td>Test Sensitivity</td><td>█▇▂█████▇▇▁▃██▇█▆▄▇▃▄▃▃▅▆▅█▅▅▄▅▆▅▅▄▅▆▅█▅</td></tr><tr><td>Test Specificity</td><td>▁▁█▁▁▁▁▁▂▁█▇▁▁▂▁▆▇▂████▇▇▇▁▇▇▇▇▆▇▇▇▇▇▇▁▇</td></tr><tr><td>Train Accuracy</td><td>▂▁▂▂▂▂▂▂▁▁▁▄▂▂▂▂▇▆▂▄▅▄▃▇▇▇▂▇▇▆██▇▇▇▇█▇▂█</td></tr><tr><td>Train F1</td><td>▇▆▂▇▇▇▇▇▆▆▁▅▇▇▆▇▇▆▇▄▅▄▄▇█▇▇▇▇▇██▇▇▇██▇▇█</td></tr><tr><td>Train Loss</td><td>███████████▇█▇▇▇▆▆▆▇▆▇█▄▄▄▇▃▃▃▂▃▂▂▃▂▁▁▇▁</td></tr><tr><td>Train Sensitivity</td><td>█▇▁█████▇▇▁▃██▇█▆▄▇▃▃▃▃▅▆▅█▆▅▅▆▇▅▅▅▅▆▅█▆</td></tr><tr><td>Train Specificity</td><td>▁▁█▁▁▁▁▁▂▁██▁▁▂▁▇█▂████▇▇▇▁▇▇█▇▆████▇█▁█</td></tr></table><br/></div><div class=\"wandb-col\"><h3>Run summary:</h3><br/><table class=\"wandb\"><tr><td>Test Accuracy</td><td>0.76567</td></tr><tr><td>Test F1</td><td>0.77561</td></tr><tr><td>Test Loss</td><td>0.53832</td></tr><tr><td>Test Sensitivity</td><td>0.79256</td></tr><tr><td>Test Specificity</td><td>0.73756</td></tr><tr><td>Train Accuracy</td><td>0.83029</td></tr><tr><td>Train F1</td><td>0.8434</td></tr><tr><td>Train Loss</td><td>0.43983</td></tr><tr><td>Train Sensitivity</td><td>0.86811</td></tr><tr><td>Train Specificity</td><td>0.78824</td></tr></table><br/></div></div>"
      ],
      "text/plain": [
       "<IPython.core.display.HTML object>"
      ]
     },
     "metadata": {},
     "output_type": "display_data"
    },
    {
     "data": {
      "text/html": [
       " View run <strong style=\"color:#cdcd00\">stellar-sweep-95</strong> at: <a href='https://wandb.ai/dylan-home/pnca-sweep-1/runs/hlkg02qi' target=\"_blank\">https://wandb.ai/dylan-home/pnca-sweep-1/runs/hlkg02qi</a><br/>Synced 5 W&B file(s), 0 media file(s), 0 artifact file(s) and 0 other file(s)"
      ],
      "text/plain": [
       "<IPython.core.display.HTML object>"
      ]
     },
     "metadata": {},
     "output_type": "display_data"
    },
    {
     "data": {
      "text/html": [
       "Find logs at: <code>./wandb/run-20250116_084826-hlkg02qi/logs</code>"
      ],
      "text/plain": [
       "<IPython.core.display.HTML object>"
      ]
     },
     "metadata": {},
     "output_type": "display_data"
    },
    {
     "name": "stderr",
     "output_type": "stream",
     "text": [
      "\u001b[34m\u001b[1mwandb\u001b[0m: Agent Starting Run: xq3qbo35 with config:\n",
      "\u001b[34m\u001b[1mwandb\u001b[0m: \tcutoff_distance: 3.05221392876157\n",
      "\u001b[34m\u001b[1mwandb\u001b[0m: \tdropout: 0.5\n",
      "\u001b[34m\u001b[1mwandb\u001b[0m: \thidden_channels: 64\n",
      "\u001b[34m\u001b[1mwandb\u001b[0m: \tlearning_rate: 0.0009762301722925784\n",
      "\u001b[34m\u001b[1mwandb\u001b[0m: \tweight_decay: 0.0018656750744392517\n",
      "Failed to detect the name of this notebook, you can set it manually with the WANDB_NOTEBOOK_NAME environment variable to enable code saving.\n",
      "/usr/lib/python3/dist-packages/requests/__init__.py:87: RequestsDependencyWarning: urllib3 (2.2.3) or chardet (4.0.0) doesn't match a supported version!\n",
      "  warnings.warn(\"urllib3 ({}) or chardet ({}) doesn't match a supported \"\n"
     ]
    },
    {
     "data": {
      "text/html": [
       "wandb version 0.19.3 is available!  To upgrade, please run:\n",
       " $ pip install wandb --upgrade"
      ],
      "text/plain": [
       "<IPython.core.display.HTML object>"
      ]
     },
     "metadata": {},
     "output_type": "display_data"
    },
    {
     "data": {
      "text/html": [
       "Tracking run with wandb version 0.16.4"
      ],
      "text/plain": [
       "<IPython.core.display.HTML object>"
      ]
     },
     "metadata": {},
     "output_type": "display_data"
    },
    {
     "data": {
      "text/html": [
       "Run data is saved locally in <code>/mnt/alphafold-volume-1/dylan2/repos/tb-pnca-gnn/dd_pnca/wandb/run-20250116_085617-xq3qbo35</code>"
      ],
      "text/plain": [
       "<IPython.core.display.HTML object>"
      ]
     },
     "metadata": {},
     "output_type": "display_data"
    },
    {
     "data": {
      "text/html": [
       "Syncing run <strong><a href='https://wandb.ai/dylan-home/pnca-sweep-1/runs/xq3qbo35' target=\"_blank\">worldly-sweep-96</a></strong> to <a href='https://wandb.ai/dylan-home/pnca-sweep-1' target=\"_blank\">Weights & Biases</a> (<a href='https://wandb.me/run' target=\"_blank\">docs</a>)<br/>Sweep page: <a href='https://wandb.ai/dylan-home/pnca-sweep-1/sweeps/tr8mwg42' target=\"_blank\">https://wandb.ai/dylan-home/pnca-sweep-1/sweeps/tr8mwg42</a>"
      ],
      "text/plain": [
       "<IPython.core.display.HTML object>"
      ]
     },
     "metadata": {},
     "output_type": "display_data"
    },
    {
     "data": {
      "text/html": [
       " View project at <a href='https://wandb.ai/dylan-home/pnca-sweep-1' target=\"_blank\">https://wandb.ai/dylan-home/pnca-sweep-1</a>"
      ],
      "text/plain": [
       "<IPython.core.display.HTML object>"
      ]
     },
     "metadata": {},
     "output_type": "display_data"
    },
    {
     "data": {
      "text/html": [
       " View sweep at <a href='https://wandb.ai/dylan-home/pnca-sweep-1/sweeps/tr8mwg42' target=\"_blank\">https://wandb.ai/dylan-home/pnca-sweep-1/sweeps/tr8mwg42</a>"
      ],
      "text/plain": [
       "<IPython.core.display.HTML object>"
      ]
     },
     "metadata": {},
     "output_type": "display_data"
    },
    {
     "data": {
      "text/html": [
       " View run at <a href='https://wandb.ai/dylan-home/pnca-sweep-1/runs/xq3qbo35' target=\"_blank\">https://wandb.ai/dylan-home/pnca-sweep-1/runs/xq3qbo35</a>"
      ],
      "text/plain": [
       "<IPython.core.display.HTML object>"
      ]
     },
     "metadata": {},
     "output_type": "display_data"
    },
    {
     "name": "stdout",
     "output_type": "stream",
     "text": [
      "Using CUDA\n",
      "Early stopping enabled. Patience: 20. Min Delta: 0.\n",
      "Epoch: 010, Train Acc: 0.5264, Test Acc: 0.5110, Train Loss: 0.6921, Test Loss: 0.6937\n",
      "Epoch: 020, Train Acc: 0.5264, Test Acc: 0.5110, Train Loss: 0.6910, Test Loss: 0.6924\n",
      "Epoch: 030, Train Acc: 0.5264, Test Acc: 0.5110, Train Loss: 0.6901, Test Loss: 0.6910\n",
      "Epoch: 040, Train Acc: 0.5211, Test Acc: 0.4820, Train Loss: 0.6903, Test Loss: 0.6900\n",
      "Epoch: 050, Train Acc: 0.6916, Test Acc: 0.7007, Train Loss: 0.6824, Test Loss: 0.6811\n",
      "Epoch: 060, Train Acc: 0.5267, Test Acc: 0.5113, Train Loss: 0.6767, Test Loss: 0.6805\n",
      "Epoch: 070, Train Acc: 0.5696, Test Acc: 0.5790, Train Loss: 0.6681, Test Loss: 0.6661\n",
      "Epoch: 080, Train Acc: 0.6661, Test Acc: 0.6493, Train Loss: 0.6212, Test Loss: 0.6240\n",
      "Epoch: 090, Train Acc: 0.6939, Test Acc: 0.6790, Train Loss: 0.5983, Test Loss: 0.6099\n",
      "Epoch: 100, Train Acc: 0.6497, Test Acc: 0.6447, Train Loss: 0.6018, Test Loss: 0.6162\n",
      "Epoch: 110, Train Acc: 0.7619, Test Acc: 0.7333, Train Loss: 0.5479, Test Loss: 0.5728\n",
      "Epoch: 120, Train Acc: 0.7016, Test Acc: 0.6807, Train Loss: 0.5546, Test Loss: 0.5794\n",
      "Epoch: 130, Train Acc: 0.7981, Test Acc: 0.7633, Train Loss: 0.5137, Test Loss: 0.5703\n",
      "Epoch: 140, Train Acc: 0.7846, Test Acc: 0.7390, Train Loss: 0.4538, Test Loss: 0.5343\n",
      "Epoch: 150, Train Acc: 0.8151, Test Acc: 0.7660, Train Loss: 0.4452, Test Loss: 0.5481\n",
      "Epoch: 160, Train Acc: 0.8131, Test Acc: 0.7630, Train Loss: 0.4050, Test Loss: 0.5279\n",
      "Epoch: 170, Train Acc: 0.8257, Test Acc: 0.7717, Train Loss: 0.3734, Test Loss: 0.5314\n",
      "Epoch: 180, Train Acc: 0.7823, Test Acc: 0.7313, Train Loss: 0.4661, Test Loss: 0.6145\n",
      "20 epochs passed without 0 test loss improvement. \n",
      "Early stopping triggered.\n"
     ]
    },
    {
     "data": {
      "text/html": [
       "<style>\n",
       "    table.wandb td:nth-child(1) { padding: 0 10px; text-align: left ; width: auto;} td:nth-child(2) {text-align: left ; width: 100%}\n",
       "    .wandb-row { display: flex; flex-direction: row; flex-wrap: wrap; justify-content: flex-start; width: 100% }\n",
       "    .wandb-col { display: flex; flex-direction: column; flex-basis: 100%; flex: 1; padding: 10px; }\n",
       "    </style>\n",
       "<div class=\"wandb-row\"><div class=\"wandb-col\"><h3>Run history:</h3><br/><table class=\"wandb\"><tr><td>Test Accuracy</td><td>▁▁▁▁▁▁▁▁▁▁▁▁▄▁▃▃▃▅▁▁▆▇▅▆▇▁▅▆▆▇▇█▇▇▇███▇▇</td></tr><tr><td>Test F1</td><td>▆▆▆▆▆▆▆▆▆▆▆▆▃▆▂▁▁▅▆▆▆▇▄▆▇▆▅▅▅▇██▇█▇▇█▇▇▆</td></tr><tr><td>Test Loss</td><td>▇▇▇▇▇▇▇▇▇▇▇▇▇▇▇▆▆▅▅▄▄▃▄▃▃█▃▄▃▁▃▂▂▅▁▁▃▁▁▄</td></tr><tr><td>Test Sensitivity</td><td>████████████▂█▁▁▁▃▇▇▄▅▃▄▅█▃▃▃▅▇▆▄▇▅▅▇▆▅▄</td></tr><tr><td>Test Specificity</td><td>▁▁▁▁▁▁▁▁▁▁▁▁█▁███▇▂▂▇▇█▇▇▁███▇▆▆▇▅▇▇▆▇▇█</td></tr><tr><td>Train Accuracy</td><td>▁▁▁▁▁▁▁▁▁▁▁▁▄▁▂▂▂▅▁▁▅▆▄▅▇▁▅▅▅▇▇█▇▇█████▇</td></tr><tr><td>Train F1</td><td>▆▆▆▆▆▆▆▆▆▆▆▆▃▆▁▁▁▅▅▆▆▇▄▅▇▆▅▅▅▇██▇█▇▇██▇▇</td></tr><tr><td>Train Loss</td><td>███████████████▇▇▆▆▆▆▅▆▅▅█▅▅▅▃▄▃▃▄▂▂▂▁▂▃</td></tr><tr><td>Train Sensitivity</td><td>████████████▂█▁▁▁▃▇▇▄▅▃▄▅█▃▃▄▅▇▆▅█▅▆▇▆▅▄</td></tr><tr><td>Train Specificity</td><td>▁▁▁▁▁▁▁▁▁▁▁▁█▁████▂▂▇▇██▇▁███▇▆▇█▅▇▇▆▇██</td></tr></table><br/></div><div class=\"wandb-col\"><h3>Run summary:</h3><br/><table class=\"wandb\"><tr><td>Test Accuracy</td><td>0.74833</td></tr><tr><td>Test F1</td><td>0.70793</td></tr><tr><td>Test Loss</td><td>0.55506</td></tr><tr><td>Test Sensitivity</td><td>0.59687</td></tr><tr><td>Test Specificity</td><td>0.90661</td></tr><tr><td>Train Accuracy</td><td>0.81114</td></tr><tr><td>Train F1</td><td>0.78753</td></tr><tr><td>Train Loss</td><td>0.40348</td></tr><tr><td>Train Sensitivity</td><td>0.66486</td></tr><tr><td>Train Specificity</td><td>0.97376</td></tr></table><br/></div></div>"
      ],
      "text/plain": [
       "<IPython.core.display.HTML object>"
      ]
     },
     "metadata": {},
     "output_type": "display_data"
    },
    {
     "data": {
      "text/html": [
       " View run <strong style=\"color:#cdcd00\">worldly-sweep-96</strong> at: <a href='https://wandb.ai/dylan-home/pnca-sweep-1/runs/xq3qbo35' target=\"_blank\">https://wandb.ai/dylan-home/pnca-sweep-1/runs/xq3qbo35</a><br/>Synced 5 W&B file(s), 0 media file(s), 0 artifact file(s) and 0 other file(s)"
      ],
      "text/plain": [
       "<IPython.core.display.HTML object>"
      ]
     },
     "metadata": {},
     "output_type": "display_data"
    },
    {
     "data": {
      "text/html": [
       "Find logs at: <code>./wandb/run-20250116_085617-xq3qbo35/logs</code>"
      ],
      "text/plain": [
       "<IPython.core.display.HTML object>"
      ]
     },
     "metadata": {},
     "output_type": "display_data"
    },
    {
     "name": "stderr",
     "output_type": "stream",
     "text": [
      "\u001b[34m\u001b[1mwandb\u001b[0m: Agent Starting Run: nvy04ey7 with config:\n",
      "\u001b[34m\u001b[1mwandb\u001b[0m: \tcutoff_distance: 6.36152281095306\n",
      "\u001b[34m\u001b[1mwandb\u001b[0m: \tdropout: 0.2\n",
      "\u001b[34m\u001b[1mwandb\u001b[0m: \thidden_channels: 320\n",
      "\u001b[34m\u001b[1mwandb\u001b[0m: \tlearning_rate: 0.0018139037267519396\n",
      "\u001b[34m\u001b[1mwandb\u001b[0m: \tweight_decay: 3.779926895388324e-05\n",
      "Failed to detect the name of this notebook, you can set it manually with the WANDB_NOTEBOOK_NAME environment variable to enable code saving.\n",
      "/usr/lib/python3/dist-packages/requests/__init__.py:87: RequestsDependencyWarning: urllib3 (2.2.3) or chardet (4.0.0) doesn't match a supported version!\n",
      "  warnings.warn(\"urllib3 ({}) or chardet ({}) doesn't match a supported \"\n"
     ]
    },
    {
     "data": {
      "text/html": [
       "wandb version 0.19.3 is available!  To upgrade, please run:\n",
       " $ pip install wandb --upgrade"
      ],
      "text/plain": [
       "<IPython.core.display.HTML object>"
      ]
     },
     "metadata": {},
     "output_type": "display_data"
    },
    {
     "data": {
      "text/html": [
       "Tracking run with wandb version 0.16.4"
      ],
      "text/plain": [
       "<IPython.core.display.HTML object>"
      ]
     },
     "metadata": {},
     "output_type": "display_data"
    },
    {
     "data": {
      "text/html": [
       "Run data is saved locally in <code>/mnt/alphafold-volume-1/dylan2/repos/tb-pnca-gnn/dd_pnca/wandb/run-20250116_090135-nvy04ey7</code>"
      ],
      "text/plain": [
       "<IPython.core.display.HTML object>"
      ]
     },
     "metadata": {},
     "output_type": "display_data"
    },
    {
     "data": {
      "text/html": [
       "Syncing run <strong><a href='https://wandb.ai/dylan-home/pnca-sweep-1/runs/nvy04ey7' target=\"_blank\">swift-sweep-97</a></strong> to <a href='https://wandb.ai/dylan-home/pnca-sweep-1' target=\"_blank\">Weights & Biases</a> (<a href='https://wandb.me/run' target=\"_blank\">docs</a>)<br/>Sweep page: <a href='https://wandb.ai/dylan-home/pnca-sweep-1/sweeps/tr8mwg42' target=\"_blank\">https://wandb.ai/dylan-home/pnca-sweep-1/sweeps/tr8mwg42</a>"
      ],
      "text/plain": [
       "<IPython.core.display.HTML object>"
      ]
     },
     "metadata": {},
     "output_type": "display_data"
    },
    {
     "data": {
      "text/html": [
       " View project at <a href='https://wandb.ai/dylan-home/pnca-sweep-1' target=\"_blank\">https://wandb.ai/dylan-home/pnca-sweep-1</a>"
      ],
      "text/plain": [
       "<IPython.core.display.HTML object>"
      ]
     },
     "metadata": {},
     "output_type": "display_data"
    },
    {
     "data": {
      "text/html": [
       " View sweep at <a href='https://wandb.ai/dylan-home/pnca-sweep-1/sweeps/tr8mwg42' target=\"_blank\">https://wandb.ai/dylan-home/pnca-sweep-1/sweeps/tr8mwg42</a>"
      ],
      "text/plain": [
       "<IPython.core.display.HTML object>"
      ]
     },
     "metadata": {},
     "output_type": "display_data"
    },
    {
     "data": {
      "text/html": [
       " View run at <a href='https://wandb.ai/dylan-home/pnca-sweep-1/runs/nvy04ey7' target=\"_blank\">https://wandb.ai/dylan-home/pnca-sweep-1/runs/nvy04ey7</a>"
      ],
      "text/plain": [
       "<IPython.core.display.HTML object>"
      ]
     },
     "metadata": {},
     "output_type": "display_data"
    },
    {
     "name": "stdout",
     "output_type": "stream",
     "text": [
      "Using CUDA\n",
      "Early stopping enabled. Patience: 20. Min Delta: 0.\n",
      "Epoch: 010, Train Acc: 0.5264, Test Acc: 0.5110, Train Loss: 0.6918, Test Loss: 0.6933\n",
      "Epoch: 020, Train Acc: 0.5264, Test Acc: 0.5110, Train Loss: 0.6917, Test Loss: 0.6934\n",
      "20 epochs passed without 0 test loss improvement. \n",
      "Early stopping triggered.\n"
     ]
    },
    {
     "data": {
      "text/html": [
       "<style>\n",
       "    table.wandb td:nth-child(1) { padding: 0 10px; text-align: left ; width: auto;} td:nth-child(2) {text-align: left ; width: 100%}\n",
       "    .wandb-row { display: flex; flex-direction: row; flex-wrap: wrap; justify-content: flex-start; width: 100% }\n",
       "    .wandb-col { display: flex; flex-direction: column; flex-basis: 100%; flex: 1; padding: 10px; }\n",
       "    </style>\n",
       "<div class=\"wandb-row\"><div class=\"wandb-col\"><h3>Run history:</h3><br/><table class=\"wandb\"><tr><td>Test Accuracy</td><td>▁▁█████████████████████</td></tr><tr><td>Test F1</td><td>▁▁█████████████████████</td></tr><tr><td>Test Loss</td><td>▄█▁▃▄▄▃▃▄▃▂▄▄▃▃▄▂▃▄▄▃▃▃</td></tr><tr><td>Test Sensitivity</td><td>▁▁█████████████████████</td></tr><tr><td>Test Specificity</td><td>██▁▁▁▁▁▁▁▁▁▁▁▁▁▁▁▁▁▁▁▁▁</td></tr><tr><td>Train Accuracy</td><td>▁▁█████████████████████</td></tr><tr><td>Train F1</td><td>▁▁█████████████████████</td></tr><tr><td>Train Loss</td><td>▅█▂▂▂▂▂▂▂▂▂▂▂▂▂▂▂▁▂▁▂▁▁</td></tr><tr><td>Train Sensitivity</td><td>▁▁█████████████████████</td></tr><tr><td>Train Specificity</td><td>██▁▁▁▁▁▁▁▁▁▁▁▁▁▁▁▁▁▁▁▁▁</td></tr></table><br/></div><div class=\"wandb-col\"><h3>Run summary:</h3><br/><table class=\"wandb\"><tr><td>Test Accuracy</td><td>0.511</td></tr><tr><td>Test F1</td><td>0.67637</td></tr><tr><td>Test Loss</td><td>0.69321</td></tr><tr><td>Test Sensitivity</td><td>1.0</td></tr><tr><td>Test Specificity</td><td>0.0</td></tr><tr><td>Train Accuracy</td><td>0.52643</td></tr><tr><td>Train F1</td><td>0.68975</td></tr><tr><td>Train Loss</td><td>0.69168</td></tr><tr><td>Train Sensitivity</td><td>1.0</td></tr><tr><td>Train Specificity</td><td>0.0</td></tr></table><br/></div></div>"
      ],
      "text/plain": [
       "<IPython.core.display.HTML object>"
      ]
     },
     "metadata": {},
     "output_type": "display_data"
    },
    {
     "data": {
      "text/html": [
       " View run <strong style=\"color:#cdcd00\">swift-sweep-97</strong> at: <a href='https://wandb.ai/dylan-home/pnca-sweep-1/runs/nvy04ey7' target=\"_blank\">https://wandb.ai/dylan-home/pnca-sweep-1/runs/nvy04ey7</a><br/>Synced 5 W&B file(s), 0 media file(s), 0 artifact file(s) and 0 other file(s)"
      ],
      "text/plain": [
       "<IPython.core.display.HTML object>"
      ]
     },
     "metadata": {},
     "output_type": "display_data"
    },
    {
     "data": {
      "text/html": [
       "Find logs at: <code>./wandb/run-20250116_090135-nvy04ey7/logs</code>"
      ],
      "text/plain": [
       "<IPython.core.display.HTML object>"
      ]
     },
     "metadata": {},
     "output_type": "display_data"
    },
    {
     "name": "stderr",
     "output_type": "stream",
     "text": [
      "\u001b[34m\u001b[1mwandb\u001b[0m: Agent Starting Run: cgtrrl8u with config:\n",
      "\u001b[34m\u001b[1mwandb\u001b[0m: \tcutoff_distance: 6.397746983371742\n",
      "\u001b[34m\u001b[1mwandb\u001b[0m: \tdropout: 0.5\n",
      "\u001b[34m\u001b[1mwandb\u001b[0m: \thidden_channels: 256\n",
      "\u001b[34m\u001b[1mwandb\u001b[0m: \tlearning_rate: 0.00021332297717825872\n",
      "\u001b[34m\u001b[1mwandb\u001b[0m: \tweight_decay: 6.467376284387568e-07\n",
      "Failed to detect the name of this notebook, you can set it manually with the WANDB_NOTEBOOK_NAME environment variable to enable code saving.\n",
      "/usr/lib/python3/dist-packages/requests/__init__.py:87: RequestsDependencyWarning: urllib3 (2.2.3) or chardet (4.0.0) doesn't match a supported version!\n",
      "  warnings.warn(\"urllib3 ({}) or chardet ({}) doesn't match a supported \"\n"
     ]
    },
    {
     "data": {
      "text/html": [
       "wandb version 0.19.3 is available!  To upgrade, please run:\n",
       " $ pip install wandb --upgrade"
      ],
      "text/plain": [
       "<IPython.core.display.HTML object>"
      ]
     },
     "metadata": {},
     "output_type": "display_data"
    },
    {
     "data": {
      "text/html": [
       "Tracking run with wandb version 0.16.4"
      ],
      "text/plain": [
       "<IPython.core.display.HTML object>"
      ]
     },
     "metadata": {},
     "output_type": "display_data"
    },
    {
     "data": {
      "text/html": [
       "Run data is saved locally in <code>/mnt/alphafold-volume-1/dylan2/repos/tb-pnca-gnn/dd_pnca/wandb/run-20250116_090237-cgtrrl8u</code>"
      ],
      "text/plain": [
       "<IPython.core.display.HTML object>"
      ]
     },
     "metadata": {},
     "output_type": "display_data"
    },
    {
     "data": {
      "text/html": [
       "Syncing run <strong><a href='https://wandb.ai/dylan-home/pnca-sweep-1/runs/cgtrrl8u' target=\"_blank\">youthful-sweep-98</a></strong> to <a href='https://wandb.ai/dylan-home/pnca-sweep-1' target=\"_blank\">Weights & Biases</a> (<a href='https://wandb.me/run' target=\"_blank\">docs</a>)<br/>Sweep page: <a href='https://wandb.ai/dylan-home/pnca-sweep-1/sweeps/tr8mwg42' target=\"_blank\">https://wandb.ai/dylan-home/pnca-sweep-1/sweeps/tr8mwg42</a>"
      ],
      "text/plain": [
       "<IPython.core.display.HTML object>"
      ]
     },
     "metadata": {},
     "output_type": "display_data"
    },
    {
     "data": {
      "text/html": [
       " View project at <a href='https://wandb.ai/dylan-home/pnca-sweep-1' target=\"_blank\">https://wandb.ai/dylan-home/pnca-sweep-1</a>"
      ],
      "text/plain": [
       "<IPython.core.display.HTML object>"
      ]
     },
     "metadata": {},
     "output_type": "display_data"
    },
    {
     "data": {
      "text/html": [
       " View sweep at <a href='https://wandb.ai/dylan-home/pnca-sweep-1/sweeps/tr8mwg42' target=\"_blank\">https://wandb.ai/dylan-home/pnca-sweep-1/sweeps/tr8mwg42</a>"
      ],
      "text/plain": [
       "<IPython.core.display.HTML object>"
      ]
     },
     "metadata": {},
     "output_type": "display_data"
    },
    {
     "data": {
      "text/html": [
       " View run at <a href='https://wandb.ai/dylan-home/pnca-sweep-1/runs/cgtrrl8u' target=\"_blank\">https://wandb.ai/dylan-home/pnca-sweep-1/runs/cgtrrl8u</a>"
      ],
      "text/plain": [
       "<IPython.core.display.HTML object>"
      ]
     },
     "metadata": {},
     "output_type": "display_data"
    },
    {
     "name": "stdout",
     "output_type": "stream",
     "text": [
      "Using CUDA\n",
      "Early stopping enabled. Patience: 20. Min Delta: 0.\n",
      "Epoch: 010, Train Acc: 0.4736, Test Acc: 0.4890, Train Loss: 0.7095, Test Loss: 0.7013\n",
      "Epoch: 020, Train Acc: 0.5174, Test Acc: 0.5063, Train Loss: 0.6860, Test Loss: 0.6836\n",
      "Epoch: 030, Train Acc: 0.5247, Test Acc: 0.5110, Train Loss: 0.6835, Test Loss: 0.6813\n",
      "Epoch: 040, Train Acc: 0.6120, Test Acc: 0.6520, Train Loss: 0.6852, Test Loss: 0.6798\n",
      "Epoch: 050, Train Acc: 0.5151, Test Acc: 0.5647, Train Loss: 0.6904, Test Loss: 0.6786\n",
      "Epoch: 060, Train Acc: 0.6980, Test Acc: 0.6987, Train Loss: 0.6627, Test Loss: 0.6558\n",
      "Epoch: 070, Train Acc: 0.7153, Test Acc: 0.7103, Train Loss: 0.6377, Test Loss: 0.6287\n",
      "Epoch: 080, Train Acc: 0.7160, Test Acc: 0.7153, Train Loss: 0.6114, Test Loss: 0.6004\n",
      "Epoch: 090, Train Acc: 0.5389, Test Acc: 0.5233, Train Loss: 0.6177, Test Loss: 0.6165\n",
      "Epoch: 100, Train Acc: 0.7559, Test Acc: 0.7320, Train Loss: 0.5856, Test Loss: 0.5871\n",
      "Epoch: 110, Train Acc: 0.7416, Test Acc: 0.7307, Train Loss: 0.5591, Test Loss: 0.5549\n",
      "Epoch: 120, Train Acc: 0.6626, Test Acc: 0.6817, Train Loss: 0.5977, Test Loss: 0.5888\n",
      "Epoch: 130, Train Acc: 0.7610, Test Acc: 0.7413, Train Loss: 0.5230, Test Loss: 0.5321\n",
      "Epoch: 140, Train Acc: 0.7623, Test Acc: 0.7207, Train Loss: 0.5516, Test Loss: 0.5816\n",
      "Epoch: 150, Train Acc: 0.6807, Test Acc: 0.6863, Train Loss: 0.5811, Test Loss: 0.5842\n",
      "Epoch: 160, Train Acc: 0.7884, Test Acc: 0.7610, Train Loss: 0.4653, Test Loss: 0.5053\n",
      "Epoch: 170, Train Acc: 0.7973, Test Acc: 0.7567, Train Loss: 0.4499, Test Loss: 0.4968\n",
      "Epoch: 180, Train Acc: 0.8056, Test Acc: 0.7670, Train Loss: 0.4481, Test Loss: 0.4967\n",
      "Epoch: 190, Train Acc: 0.8116, Test Acc: 0.7777, Train Loss: 0.4197, Test Loss: 0.4823\n",
      "Epoch: 200, Train Acc: 0.5749, Test Acc: 0.5313, Train Loss: 0.5247, Test Loss: 0.5965\n",
      "Epoch: 210, Train Acc: 0.8280, Test Acc: 0.7767, Train Loss: 0.4328, Test Loss: 0.5124\n",
      "Epoch: 220, Train Acc: 0.8257, Test Acc: 0.7787, Train Loss: 0.4439, Test Loss: 0.5518\n",
      "Epoch: 230, Train Acc: 0.8424, Test Acc: 0.7773, Train Loss: 0.4217, Test Loss: 0.5310\n",
      "Epoch: 240, Train Acc: 0.8207, Test Acc: 0.7597, Train Loss: 0.3777, Test Loss: 0.4897\n",
      "20 epochs passed without 0 test loss improvement. \n",
      "Early stopping triggered.\n"
     ]
    },
    {
     "data": {
      "text/html": [
       "<style>\n",
       "    table.wandb td:nth-child(1) { padding: 0 10px; text-align: left ; width: auto;} td:nth-child(2) {text-align: left ; width: 100%}\n",
       "    .wandb-row { display: flex; flex-direction: row; flex-wrap: wrap; justify-content: flex-start; width: 100% }\n",
       "    .wandb-col { display: flex; flex-direction: column; flex-basis: 100%; flex: 1; padding: 10px; }\n",
       "    </style>\n",
       "<div class=\"wandb-row\"><div class=\"wandb-col\"><h3>Run history:</h3><br/><table class=\"wandb\"><tr><td>Test Accuracy</td><td>▁▁▄▁▁▁▄▁▂▆▁▆▁▁▆▁▆▇▁▅▇▁▇▇▇▇█▇▆██▇█▆████▇▇</td></tr><tr><td>Test F1</td><td>▇▇▄▆▇▇▃▇▁▆▆▇▆▆▆▆▆▇▇▅▇▆▇▇▇▇█▇▆███▇▆████▇▇</td></tr><tr><td>Test Loss</td><td>█▇▇▇▇▇▇▇▇▆▇▆▆▆▆▆▄▄█▄▃▅▃▃▂▂▃▂▆▃▂▄▁▃▂▃▁▃▁▂</td></tr><tr><td>Test Sensitivity</td><td>██▃███▂█▁▅█▅██▅█▄▅█▃▅█▅▆▅▅▆▅▄▆▆▇▅▄▆▇▆▇▅▅</td></tr><tr><td>Test Specificity</td><td>▁▁█▁▁▁█▁█▇▁▇▁▁▇▁▇▇▁█▇▁▇▇▇▇▆▇█▆▇▅▇▇▆▆▇▆▇▇</td></tr><tr><td>Train Accuracy</td><td>▁▁▂▁▁▁▂▁▁▅▁▅▁▁▅▁▅▆▁▄▆▂▇▇▆▆▇▇▅▇▇▇▇▆██▇██▇</td></tr><tr><td>Train F1</td><td>▆▆▃▆▆▆▂▆▁▆▆▆▆▆▆▆▅▆▆▅▇▆▇▇▇▇█▇▅███▇▆█████▇</td></tr><tr><td>Train Loss</td><td>█████████▇▇▇▇▇▇▆▆▅█▆▅▆▄▄▄▄▃▃▆▃▂▄▂▄▂▃▂▂▁▁</td></tr><tr><td>Train Sensitivity</td><td>██▂███▂█▁▄█▅██▄█▄▅█▃▅█▆▆▅▅▇▆▄▇▆█▆▄▇▇▆▇▆▆</td></tr><tr><td>Train Specificity</td><td>▁▁█▁▁▁█▁█▇▁▇▁▁▇▁█▇▁█▇▁▇▇██▇▇█▆▇▅▇█▇▆▇▇██</td></tr></table><br/></div><div class=\"wandb-col\"><h3>Run summary:</h3><br/><table class=\"wandb\"><tr><td>Test Accuracy</td><td>0.75933</td></tr><tr><td>Test F1</td><td>0.73456</td></tr><tr><td>Test Loss</td><td>0.48839</td></tr><tr><td>Test Sensitivity</td><td>0.65166</td></tr><tr><td>Test Specificity</td><td>0.87185</td></tr><tr><td>Train Accuracy</td><td>0.81514</td></tr><tr><td>Train F1</td><td>0.79692</td></tr><tr><td>Train Loss</td><td>0.38321</td></tr><tr><td>Train Sensitivity</td><td>0.68901</td></tr><tr><td>Train Specificity</td><td>0.95535</td></tr></table><br/></div></div>"
      ],
      "text/plain": [
       "<IPython.core.display.HTML object>"
      ]
     },
     "metadata": {},
     "output_type": "display_data"
    },
    {
     "data": {
      "text/html": [
       " View run <strong style=\"color:#cdcd00\">youthful-sweep-98</strong> at: <a href='https://wandb.ai/dylan-home/pnca-sweep-1/runs/cgtrrl8u' target=\"_blank\">https://wandb.ai/dylan-home/pnca-sweep-1/runs/cgtrrl8u</a><br/>Synced 5 W&B file(s), 0 media file(s), 0 artifact file(s) and 0 other file(s)"
      ],
      "text/plain": [
       "<IPython.core.display.HTML object>"
      ]
     },
     "metadata": {},
     "output_type": "display_data"
    },
    {
     "data": {
      "text/html": [
       "Find logs at: <code>./wandb/run-20250116_090237-cgtrrl8u/logs</code>"
      ],
      "text/plain": [
       "<IPython.core.display.HTML object>"
      ]
     },
     "metadata": {},
     "output_type": "display_data"
    },
    {
     "name": "stderr",
     "output_type": "stream",
     "text": [
      "\u001b[34m\u001b[1mwandb\u001b[0m: Agent Starting Run: uni0d6pe with config:\n",
      "\u001b[34m\u001b[1mwandb\u001b[0m: \tcutoff_distance: 4.473648117375499\n",
      "\u001b[34m\u001b[1mwandb\u001b[0m: \tdropout: 0.2\n",
      "\u001b[34m\u001b[1mwandb\u001b[0m: \thidden_channels: 256\n",
      "\u001b[34m\u001b[1mwandb\u001b[0m: \tlearning_rate: 0.0004358770777557327\n",
      "\u001b[34m\u001b[1mwandb\u001b[0m: \tweight_decay: 1.3540982288440836e-05\n",
      "Failed to detect the name of this notebook, you can set it manually with the WANDB_NOTEBOOK_NAME environment variable to enable code saving.\n",
      "/usr/lib/python3/dist-packages/requests/__init__.py:87: RequestsDependencyWarning: urllib3 (2.2.3) or chardet (4.0.0) doesn't match a supported version!\n",
      "  warnings.warn(\"urllib3 ({}) or chardet ({}) doesn't match a supported \"\n"
     ]
    },
    {
     "data": {
      "text/html": [
       "wandb version 0.19.3 is available!  To upgrade, please run:\n",
       " $ pip install wandb --upgrade"
      ],
      "text/plain": [
       "<IPython.core.display.HTML object>"
      ]
     },
     "metadata": {},
     "output_type": "display_data"
    },
    {
     "data": {
      "text/html": [
       "Tracking run with wandb version 0.16.4"
      ],
      "text/plain": [
       "<IPython.core.display.HTML object>"
      ]
     },
     "metadata": {},
     "output_type": "display_data"
    },
    {
     "data": {
      "text/html": [
       "Run data is saved locally in <code>/mnt/alphafold-volume-1/dylan2/repos/tb-pnca-gnn/dd_pnca/wandb/run-20250116_091110-uni0d6pe</code>"
      ],
      "text/plain": [
       "<IPython.core.display.HTML object>"
      ]
     },
     "metadata": {},
     "output_type": "display_data"
    },
    {
     "data": {
      "text/html": [
       "Syncing run <strong><a href='https://wandb.ai/dylan-home/pnca-sweep-1/runs/uni0d6pe' target=\"_blank\">unique-sweep-99</a></strong> to <a href='https://wandb.ai/dylan-home/pnca-sweep-1' target=\"_blank\">Weights & Biases</a> (<a href='https://wandb.me/run' target=\"_blank\">docs</a>)<br/>Sweep page: <a href='https://wandb.ai/dylan-home/pnca-sweep-1/sweeps/tr8mwg42' target=\"_blank\">https://wandb.ai/dylan-home/pnca-sweep-1/sweeps/tr8mwg42</a>"
      ],
      "text/plain": [
       "<IPython.core.display.HTML object>"
      ]
     },
     "metadata": {},
     "output_type": "display_data"
    },
    {
     "data": {
      "text/html": [
       " View project at <a href='https://wandb.ai/dylan-home/pnca-sweep-1' target=\"_blank\">https://wandb.ai/dylan-home/pnca-sweep-1</a>"
      ],
      "text/plain": [
       "<IPython.core.display.HTML object>"
      ]
     },
     "metadata": {},
     "output_type": "display_data"
    },
    {
     "data": {
      "text/html": [
       " View sweep at <a href='https://wandb.ai/dylan-home/pnca-sweep-1/sweeps/tr8mwg42' target=\"_blank\">https://wandb.ai/dylan-home/pnca-sweep-1/sweeps/tr8mwg42</a>"
      ],
      "text/plain": [
       "<IPython.core.display.HTML object>"
      ]
     },
     "metadata": {},
     "output_type": "display_data"
    },
    {
     "data": {
      "text/html": [
       " View run at <a href='https://wandb.ai/dylan-home/pnca-sweep-1/runs/uni0d6pe' target=\"_blank\">https://wandb.ai/dylan-home/pnca-sweep-1/runs/uni0d6pe</a>"
      ],
      "text/plain": [
       "<IPython.core.display.HTML object>"
      ]
     },
     "metadata": {},
     "output_type": "display_data"
    },
    {
     "name": "stdout",
     "output_type": "stream",
     "text": [
      "Using CUDA\n",
      "Early stopping enabled. Patience: 20. Min Delta: 0.\n",
      "Epoch: 010, Train Acc: 0.5954, Test Acc: 0.6403, Train Loss: 0.6914, Test Loss: 0.6894\n",
      "Epoch: 020, Train Acc: 0.5263, Test Acc: 0.5110, Train Loss: 0.6902, Test Loss: 0.6903\n",
      "Epoch: 030, Train Acc: 0.6829, Test Acc: 0.6860, Train Loss: 0.6918, Test Loss: 0.6910\n",
      "20 epochs passed without 0 test loss improvement. \n",
      "Early stopping triggered.\n"
     ]
    },
    {
     "data": {
      "text/html": [
       "<style>\n",
       "    table.wandb td:nth-child(1) { padding: 0 10px; text-align: left ; width: auto;} td:nth-child(2) {text-align: left ; width: 100%}\n",
       "    .wandb-row { display: flex; flex-direction: row; flex-wrap: wrap; justify-content: flex-start; width: 100% }\n",
       "    .wandb-col { display: flex; flex-direction: column; flex-basis: 100%; flex: 1; padding: 10px; }\n",
       "    </style>\n",
       "<div class=\"wandb-row\"><div class=\"wandb-col\"><h3>Run history:</h3><br/><table class=\"wandb\"><tr><td>Test Accuracy</td><td>▁▂▂▄▁▂▂▂▂▆▁▂▁▂▂▂▂▅▂▂▂▂▂▂▂▇▂▂▂█</td></tr><tr><td>Test F1</td><td>▁██▄▁████▆▁█▁████▅███████▇████</td></tr><tr><td>Test Loss</td><td>▂▂▂▂█▁▅▁▁▁▄▁▂▃▁▁▂▁▁▁▂▁▁▁▁▁▁▁▁▁</td></tr><tr><td>Test Sensitivity</td><td>▁██▂▁████▃▁█▁████▃███████▄███▅</td></tr><tr><td>Test Specificity</td><td>█▁▁██▁▁▁▁██▁█▁▁▁▁█▁▁▁▁▁▁▁▇▁▁▁▇</td></tr><tr><td>Train Accuracy</td><td>▁▃▃▃▁▃▃▃▃▅▁▃▁▃▃▃▃▃▃▃▃▃▃▃▃▇▃▃▃█</td></tr><tr><td>Train F1</td><td>▁██▃▁████▅▁█▁████▃███████▇███▇</td></tr><tr><td>Train Loss</td><td>▂▂▁▂█▁▄▁▁▁▄▁▂▂▁▁▁▁▁▁▁▁▁▁▁▁▁▁▁▁</td></tr><tr><td>Train Sensitivity</td><td>▁██▂▁████▃▁█▁████▂███████▄███▅</td></tr><tr><td>Train Specificity</td><td>█▁▁██▁▁▁▁██▁█▁▁▁▁█▁▁▁▁▁▁▁▇▁▁▁▇</td></tr></table><br/></div><div class=\"wandb-col\"><h3>Run summary:</h3><br/><table class=\"wandb\"><tr><td>Test Accuracy</td><td>0.686</td></tr><tr><td>Test F1</td><td>0.64666</td></tr><tr><td>Test Loss</td><td>0.691</td></tr><tr><td>Test Sensitivity</td><td>0.5623</td></tr><tr><td>Test Specificity</td><td>0.81527</td></tr><tr><td>Train Accuracy</td><td>0.68286</td></tr><tr><td>Train F1</td><td>0.62901</td></tr><tr><td>Train Loss</td><td>0.69176</td></tr><tr><td>Train Sensitivity</td><td>0.51072</td></tr><tr><td>Train Specificity</td><td>0.87421</td></tr></table><br/></div></div>"
      ],
      "text/plain": [
       "<IPython.core.display.HTML object>"
      ]
     },
     "metadata": {},
     "output_type": "display_data"
    },
    {
     "data": {
      "text/html": [
       " View run <strong style=\"color:#cdcd00\">unique-sweep-99</strong> at: <a href='https://wandb.ai/dylan-home/pnca-sweep-1/runs/uni0d6pe' target=\"_blank\">https://wandb.ai/dylan-home/pnca-sweep-1/runs/uni0d6pe</a><br/>Synced 5 W&B file(s), 0 media file(s), 0 artifact file(s) and 0 other file(s)"
      ],
      "text/plain": [
       "<IPython.core.display.HTML object>"
      ]
     },
     "metadata": {},
     "output_type": "display_data"
    },
    {
     "data": {
      "text/html": [
       "Find logs at: <code>./wandb/run-20250116_091110-uni0d6pe/logs</code>"
      ],
      "text/plain": [
       "<IPython.core.display.HTML object>"
      ]
     },
     "metadata": {},
     "output_type": "display_data"
    },
    {
     "name": "stderr",
     "output_type": "stream",
     "text": [
      "\u001b[34m\u001b[1mwandb\u001b[0m: Sweep Agent: Waiting for job.\n",
      "\u001b[34m\u001b[1mwandb\u001b[0m: Job received.\n",
      "\u001b[34m\u001b[1mwandb\u001b[0m: Agent Starting Run: mda6yqvs with config:\n",
      "\u001b[34m\u001b[1mwandb\u001b[0m: \tcutoff_distance: 8.79821630855962\n",
      "\u001b[34m\u001b[1mwandb\u001b[0m: \tdropout: 0.6\n",
      "\u001b[34m\u001b[1mwandb\u001b[0m: \thidden_channels: 384\n",
      "\u001b[34m\u001b[1mwandb\u001b[0m: \tlearning_rate: 9.57823541577228e-05\n",
      "\u001b[34m\u001b[1mwandb\u001b[0m: \tweight_decay: 6.773844998689431e-06\n",
      "Failed to detect the name of this notebook, you can set it manually with the WANDB_NOTEBOOK_NAME environment variable to enable code saving.\n",
      "/usr/lib/python3/dist-packages/requests/__init__.py:87: RequestsDependencyWarning: urllib3 (2.2.3) or chardet (4.0.0) doesn't match a supported version!\n",
      "  warnings.warn(\"urllib3 ({}) or chardet ({}) doesn't match a supported \"\n"
     ]
    },
    {
     "data": {
      "text/html": [
       "wandb version 0.19.3 is available!  To upgrade, please run:\n",
       " $ pip install wandb --upgrade"
      ],
      "text/plain": [
       "<IPython.core.display.HTML object>"
      ]
     },
     "metadata": {},
     "output_type": "display_data"
    },
    {
     "data": {
      "text/html": [
       "Tracking run with wandb version 0.16.4"
      ],
      "text/plain": [
       "<IPython.core.display.HTML object>"
      ]
     },
     "metadata": {},
     "output_type": "display_data"
    },
    {
     "data": {
      "text/html": [
       "Run data is saved locally in <code>/mnt/alphafold-volume-1/dylan2/repos/tb-pnca-gnn/dd_pnca/wandb/run-20250116_091231-mda6yqvs</code>"
      ],
      "text/plain": [
       "<IPython.core.display.HTML object>"
      ]
     },
     "metadata": {},
     "output_type": "display_data"
    },
    {
     "data": {
      "text/html": [
       "Syncing run <strong><a href='https://wandb.ai/dylan-home/pnca-sweep-1/runs/mda6yqvs' target=\"_blank\">distinctive-sweep-100</a></strong> to <a href='https://wandb.ai/dylan-home/pnca-sweep-1' target=\"_blank\">Weights & Biases</a> (<a href='https://wandb.me/run' target=\"_blank\">docs</a>)<br/>Sweep page: <a href='https://wandb.ai/dylan-home/pnca-sweep-1/sweeps/tr8mwg42' target=\"_blank\">https://wandb.ai/dylan-home/pnca-sweep-1/sweeps/tr8mwg42</a>"
      ],
      "text/plain": [
       "<IPython.core.display.HTML object>"
      ]
     },
     "metadata": {},
     "output_type": "display_data"
    },
    {
     "data": {
      "text/html": [
       " View project at <a href='https://wandb.ai/dylan-home/pnca-sweep-1' target=\"_blank\">https://wandb.ai/dylan-home/pnca-sweep-1</a>"
      ],
      "text/plain": [
       "<IPython.core.display.HTML object>"
      ]
     },
     "metadata": {},
     "output_type": "display_data"
    },
    {
     "data": {
      "text/html": [
       " View sweep at <a href='https://wandb.ai/dylan-home/pnca-sweep-1/sweeps/tr8mwg42' target=\"_blank\">https://wandb.ai/dylan-home/pnca-sweep-1/sweeps/tr8mwg42</a>"
      ],
      "text/plain": [
       "<IPython.core.display.HTML object>"
      ]
     },
     "metadata": {},
     "output_type": "display_data"
    },
    {
     "data": {
      "text/html": [
       " View run at <a href='https://wandb.ai/dylan-home/pnca-sweep-1/runs/mda6yqvs' target=\"_blank\">https://wandb.ai/dylan-home/pnca-sweep-1/runs/mda6yqvs</a>"
      ],
      "text/plain": [
       "<IPython.core.display.HTML object>"
      ]
     },
     "metadata": {},
     "output_type": "display_data"
    },
    {
     "name": "stdout",
     "output_type": "stream",
     "text": [
      "Using CUDA\n",
      "Early stopping enabled. Patience: 20. Min Delta: 0.\n",
      "Epoch: 010, Train Acc: 0.5239, Test Acc: 0.5090, Train Loss: 0.6873, Test Loss: 0.6872\n",
      "Epoch: 020, Train Acc: 0.5264, Test Acc: 0.5110, Train Loss: 0.7009, Test Loss: 0.7058\n",
      "Epoch: 030, Train Acc: 0.5263, Test Acc: 0.5110, Train Loss: 0.6939, Test Loss: 0.6970\n",
      "Epoch: 040, Train Acc: 0.4829, Test Acc: 0.5203, Train Loss: 0.7085, Test Loss: 0.6925\n",
      "Epoch: 050, Train Acc: 0.5261, Test Acc: 0.5110, Train Loss: 0.6869, Test Loss: 0.6875\n",
      "Epoch: 060, Train Acc: 0.4854, Test Acc: 0.4703, Train Loss: 0.6733, Test Loss: 0.6672\n",
      "Epoch: 070, Train Acc: 0.5137, Test Acc: 0.4933, Train Loss: 0.6720, Test Loss: 0.6679\n",
      "Epoch: 080, Train Acc: 0.4934, Test Acc: 0.4840, Train Loss: 0.6669, Test Loss: 0.6623\n",
      "Epoch: 090, Train Acc: 0.5057, Test Acc: 0.4863, Train Loss: 0.6630, Test Loss: 0.6594\n",
      "Epoch: 100, Train Acc: 0.5964, Test Acc: 0.6520, Train Loss: 0.6685, Test Loss: 0.6506\n",
      "Epoch: 110, Train Acc: 0.5711, Test Acc: 0.6440, Train Loss: 0.6740, Test Loss: 0.6517\n",
      "Epoch: 120, Train Acc: 0.7223, Test Acc: 0.6893, Train Loss: 0.6376, Test Loss: 0.6302\n",
      "Epoch: 130, Train Acc: 0.7031, Test Acc: 0.6910, Train Loss: 0.6256, Test Loss: 0.6166\n",
      "Epoch: 140, Train Acc: 0.6879, Test Acc: 0.6843, Train Loss: 0.6195, Test Loss: 0.6090\n",
      "Epoch: 150, Train Acc: 0.6990, Test Acc: 0.6880, Train Loss: 0.6063, Test Loss: 0.5992\n",
      "Epoch: 160, Train Acc: 0.5247, Test Acc: 0.4997, Train Loss: 0.6168, Test Loss: 0.6335\n",
      "Epoch: 170, Train Acc: 0.7581, Test Acc: 0.7027, Train Loss: 0.5711, Test Loss: 0.5800\n",
      "Epoch: 180, Train Acc: 0.7633, Test Acc: 0.7123, Train Loss: 0.5694, Test Loss: 0.5817\n",
      "Epoch: 190, Train Acc: 0.6494, Test Acc: 0.6737, Train Loss: 0.6136, Test Loss: 0.6095\n",
      "Epoch: 200, Train Acc: 0.7023, Test Acc: 0.7020, Train Loss: 0.5671, Test Loss: 0.5752\n",
      "Epoch: 210, Train Acc: 0.5303, Test Acc: 0.5047, Train Loss: 0.6499, Test Loss: 0.7018\n",
      "Epoch: 220, Train Acc: 0.7583, Test Acc: 0.7160, Train Loss: 0.5192, Test Loss: 0.5472\n",
      "Epoch: 230, Train Acc: 0.7867, Test Acc: 0.7340, Train Loss: 0.5111, Test Loss: 0.5632\n",
      "Epoch: 240, Train Acc: 0.7737, Test Acc: 0.7277, Train Loss: 0.4899, Test Loss: 0.5364\n",
      "Epoch: 250, Train Acc: 0.7631, Test Acc: 0.7243, Train Loss: 0.4852, Test Loss: 0.5346\n",
      "Epoch: 260, Train Acc: 0.7941, Test Acc: 0.7347, Train Loss: 0.4680, Test Loss: 0.5322\n",
      "Epoch: 270, Train Acc: 0.8009, Test Acc: 0.7303, Train Loss: 0.4510, Test Loss: 0.5351\n",
      "Epoch: 280, Train Acc: 0.7966, Test Acc: 0.7367, Train Loss: 0.4445, Test Loss: 0.5245\n",
      "Epoch: 290, Train Acc: 0.7934, Test Acc: 0.7360, Train Loss: 0.4404, Test Loss: 0.5232\n",
      "20 epochs passed without 0 test loss improvement. \n",
      "Early stopping triggered.\n"
     ]
    },
    {
     "data": {
      "text/html": [
       "<style>\n",
       "    table.wandb td:nth-child(1) { padding: 0 10px; text-align: left ; width: auto;} td:nth-child(2) {text-align: left ; width: 100%}\n",
       "    .wandb-row { display: flex; flex-direction: row; flex-wrap: wrap; justify-content: flex-start; width: 100% }\n",
       "    .wandb-col { display: flex; flex-direction: column; flex-basis: 100%; flex: 1; padding: 10px; }\n",
       "    </style>\n",
       "<div class=\"wandb-row\"><div class=\"wandb-col\"><h3>Run history:</h3><br/><table class=\"wandb\"><tr><td>Test Accuracy</td><td>▂▂▂▄▂▂▁▂▁▁▂▁▂▆▁▇▇▆▆▆▇▇▇▂▇▇▇▇▇▇▇█████████</td></tr><tr><td>Test F1</td><td>▇▇▇▄▇▁▆▇▆▆▇▆▇▅▆▇▇▅▆▆▇▆▇▇▇▇▇▇█▇▇▇▇███▇█▇▇</td></tr><tr><td>Test Loss</td><td>█▇█▇▇▇▆▆▆▆▆▆▇▆▅▅▅▅▄▄▄▄▃▆▃▃▃▃▄▃▂▂▁▁▂▁▁▅▂▂</td></tr><tr><td>Test Sensitivity</td><td>███▂█▁▆█▇▆▇▆█▃▇▅▆▃▄▄▅▄▆█▆▅▄▄▇▄▄▆▅▆▆▆▅▇▅▅</td></tr><tr><td>Test Specificity</td><td>▁▁▁█▁█▂▁▂▂▁▂▁█▂▆▆█▇█▇▇▆▁▆▇▇▇▅▇▇▆▇▇▆▆▇▅▇▇</td></tr><tr><td>Train Accuracy</td><td>▂▂▂▂▂▁▁▂▁▁▁▁▂▄▁▆▆▃▅▄▆▅▇▂▇▇▆▆▇▆▆██████▇▇▇</td></tr><tr><td>Train F1</td><td>▇▇▇▂▇▁▆▇▆▆▇▆▇▄▆▇▇▄▆▅▇▆█▇▇▇▇▆█▆▇███████▇▇</td></tr><tr><td>Train Loss</td><td>█▇█▇▇█▇▇▇▇▇▇▇▇▆▆▆▇▆▆▅▅▄▆▄▄▄▄▄▄▃▂▂▂▂▁▁▃▂▂</td></tr><tr><td>Train Sensitivity</td><td>███▂█▁▆█▇▆█▆█▃▇▅▆▃▄▃▅▄▆█▆▅▅▄▇▄▅▆▆▆▆▆▆█▅▅</td></tr><tr><td>Train Specificity</td><td>▁▁▁█▁█▂▁▂▂▁▂▁█▂▇▆███▇█▇▁▇▇██▅██▇▇▇▇▇▇▅██</td></tr></table><br/></div><div class=\"wandb-col\"><h3>Run summary:</h3><br/><table class=\"wandb\"><tr><td>Test Accuracy</td><td>0.73767</td></tr><tr><td>Test F1</td><td>0.69719</td></tr><tr><td>Test Loss</td><td>0.54161</td></tr><tr><td>Test Sensitivity</td><td>0.591</td></tr><tr><td>Test Specificity</td><td>0.89093</td></tr><tr><td>Train Accuracy</td><td>0.76371</td></tr><tr><td>Train F1</td><td>0.72625</td></tr><tr><td>Train Loss</td><td>0.4702</td></tr><tr><td>Train Sensitivity</td><td>0.59539</td></tr><tr><td>Train Specificity</td><td>0.95083</td></tr></table><br/></div></div>"
      ],
      "text/plain": [
       "<IPython.core.display.HTML object>"
      ]
     },
     "metadata": {},
     "output_type": "display_data"
    },
    {
     "data": {
      "text/html": [
       " View run <strong style=\"color:#cdcd00\">distinctive-sweep-100</strong> at: <a href='https://wandb.ai/dylan-home/pnca-sweep-1/runs/mda6yqvs' target=\"_blank\">https://wandb.ai/dylan-home/pnca-sweep-1/runs/mda6yqvs</a><br/>Synced 5 W&B file(s), 0 media file(s), 0 artifact file(s) and 0 other file(s)"
      ],
      "text/plain": [
       "<IPython.core.display.HTML object>"
      ]
     },
     "metadata": {},
     "output_type": "display_data"
    },
    {
     "data": {
      "text/html": [
       "Find logs at: <code>./wandb/run-20250116_091231-mda6yqvs/logs</code>"
      ],
      "text/plain": [
       "<IPython.core.display.HTML object>"
      ]
     },
     "metadata": {},
     "output_type": "display_data"
    },
    {
     "name": "stderr",
     "output_type": "stream",
     "text": [
      "\u001b[34m\u001b[1mwandb\u001b[0m: Agent Starting Run: u4m3ia4e with config:\n",
      "\u001b[34m\u001b[1mwandb\u001b[0m: \tcutoff_distance: 8.407989663308605\n",
      "\u001b[34m\u001b[1mwandb\u001b[0m: \tdropout: 0.8\n",
      "\u001b[34m\u001b[1mwandb\u001b[0m: \thidden_channels: 320\n",
      "\u001b[34m\u001b[1mwandb\u001b[0m: \tlearning_rate: 0.0011624042411375018\n",
      "\u001b[34m\u001b[1mwandb\u001b[0m: \tweight_decay: 0.008276617912021125\n",
      "Failed to detect the name of this notebook, you can set it manually with the WANDB_NOTEBOOK_NAME environment variable to enable code saving.\n",
      "/usr/lib/python3/dist-packages/requests/__init__.py:87: RequestsDependencyWarning: urllib3 (2.2.3) or chardet (4.0.0) doesn't match a supported version!\n",
      "  warnings.warn(\"urllib3 ({}) or chardet ({}) doesn't match a supported \"\n"
     ]
    },
    {
     "data": {
      "text/html": [
       "wandb version 0.19.3 is available!  To upgrade, please run:\n",
       " $ pip install wandb --upgrade"
      ],
      "text/plain": [
       "<IPython.core.display.HTML object>"
      ]
     },
     "metadata": {},
     "output_type": "display_data"
    },
    {
     "data": {
      "text/html": [
       "Tracking run with wandb version 0.16.4"
      ],
      "text/plain": [
       "<IPython.core.display.HTML object>"
      ]
     },
     "metadata": {},
     "output_type": "display_data"
    },
    {
     "data": {
      "text/html": [
       "Run data is saved locally in <code>/mnt/alphafold-volume-1/dylan2/repos/tb-pnca-gnn/dd_pnca/wandb/run-20250116_092438-u4m3ia4e</code>"
      ],
      "text/plain": [
       "<IPython.core.display.HTML object>"
      ]
     },
     "metadata": {},
     "output_type": "display_data"
    },
    {
     "data": {
      "text/html": [
       "Syncing run <strong><a href='https://wandb.ai/dylan-home/pnca-sweep-1/runs/u4m3ia4e' target=\"_blank\">clean-sweep-101</a></strong> to <a href='https://wandb.ai/dylan-home/pnca-sweep-1' target=\"_blank\">Weights & Biases</a> (<a href='https://wandb.me/run' target=\"_blank\">docs</a>)<br/>Sweep page: <a href='https://wandb.ai/dylan-home/pnca-sweep-1/sweeps/tr8mwg42' target=\"_blank\">https://wandb.ai/dylan-home/pnca-sweep-1/sweeps/tr8mwg42</a>"
      ],
      "text/plain": [
       "<IPython.core.display.HTML object>"
      ]
     },
     "metadata": {},
     "output_type": "display_data"
    },
    {
     "data": {
      "text/html": [
       " View project at <a href='https://wandb.ai/dylan-home/pnca-sweep-1' target=\"_blank\">https://wandb.ai/dylan-home/pnca-sweep-1</a>"
      ],
      "text/plain": [
       "<IPython.core.display.HTML object>"
      ]
     },
     "metadata": {},
     "output_type": "display_data"
    },
    {
     "data": {
      "text/html": [
       " View sweep at <a href='https://wandb.ai/dylan-home/pnca-sweep-1/sweeps/tr8mwg42' target=\"_blank\">https://wandb.ai/dylan-home/pnca-sweep-1/sweeps/tr8mwg42</a>"
      ],
      "text/plain": [
       "<IPython.core.display.HTML object>"
      ]
     },
     "metadata": {},
     "output_type": "display_data"
    },
    {
     "data": {
      "text/html": [
       " View run at <a href='https://wandb.ai/dylan-home/pnca-sweep-1/runs/u4m3ia4e' target=\"_blank\">https://wandb.ai/dylan-home/pnca-sweep-1/runs/u4m3ia4e</a>"
      ],
      "text/plain": [
       "<IPython.core.display.HTML object>"
      ]
     },
     "metadata": {},
     "output_type": "display_data"
    },
    {
     "name": "stdout",
     "output_type": "stream",
     "text": [
      "Using CUDA\n",
      "Early stopping enabled. Patience: 20. Min Delta: 0.\n",
      "Epoch: 010, Train Acc: 0.5264, Test Acc: 0.5110, Train Loss: 0.6918, Test Loss: 0.6932\n",
      "Epoch: 020, Train Acc: 0.5264, Test Acc: 0.5110, Train Loss: 0.6917, Test Loss: 0.6934\n",
      "20 epochs passed without 0 test loss improvement. \n",
      "Early stopping triggered.\n"
     ]
    },
    {
     "data": {
      "text/html": [
       "<style>\n",
       "    table.wandb td:nth-child(1) { padding: 0 10px; text-align: left ; width: auto;} td:nth-child(2) {text-align: left ; width: 100%}\n",
       "    .wandb-row { display: flex; flex-direction: row; flex-wrap: wrap; justify-content: flex-start; width: 100% }\n",
       "    .wandb-col { display: flex; flex-direction: column; flex-basis: 100%; flex: 1; padding: 10px; }\n",
       "    </style>\n",
       "<div class=\"wandb-row\"><div class=\"wandb-col\"><h3>Run history:</h3><br/><table class=\"wandb\"><tr><td>Test Accuracy</td><td>▁██████████████████████</td></tr><tr><td>Test F1</td><td>▁██████████████████████</td></tr><tr><td>Test Loss</td><td>█▂▁▂▃▄▄▄▅▄▃▅▆▄▄▄▄▄▅▆▄▄▅</td></tr><tr><td>Test Sensitivity</td><td>▁██████████████████████</td></tr><tr><td>Test Specificity</td><td>█▁▁▁▁▁▁▁▁▁▁▁▁▁▁▁▁▁▁▁▁▁▁</td></tr><tr><td>Train Accuracy</td><td>▁██████████████████████</td></tr><tr><td>Train F1</td><td>▁██████████████████████</td></tr><tr><td>Train Loss</td><td>█▅▃▃▂▂▃▂▃▂▃▂▂▂▂▂▂▁▂▂▂▁▂</td></tr><tr><td>Train Sensitivity</td><td>▁██████████████████████</td></tr><tr><td>Train Specificity</td><td>█▁▁▁▁▁▁▁▁▁▁▁▁▁▁▁▁▁▁▁▁▁▁</td></tr></table><br/></div><div class=\"wandb-col\"><h3>Run summary:</h3><br/><table class=\"wandb\"><tr><td>Test Accuracy</td><td>0.511</td></tr><tr><td>Test F1</td><td>0.67637</td></tr><tr><td>Test Loss</td><td>0.69326</td></tr><tr><td>Test Sensitivity</td><td>1.0</td></tr><tr><td>Test Specificity</td><td>0.0</td></tr><tr><td>Train Accuracy</td><td>0.52643</td></tr><tr><td>Train F1</td><td>0.68975</td></tr><tr><td>Train Loss</td><td>0.69165</td></tr><tr><td>Train Sensitivity</td><td>1.0</td></tr><tr><td>Train Specificity</td><td>0.0</td></tr></table><br/></div></div>"
      ],
      "text/plain": [
       "<IPython.core.display.HTML object>"
      ]
     },
     "metadata": {},
     "output_type": "display_data"
    },
    {
     "data": {
      "text/html": [
       " View run <strong style=\"color:#cdcd00\">clean-sweep-101</strong> at: <a href='https://wandb.ai/dylan-home/pnca-sweep-1/runs/u4m3ia4e' target=\"_blank\">https://wandb.ai/dylan-home/pnca-sweep-1/runs/u4m3ia4e</a><br/>Synced 5 W&B file(s), 0 media file(s), 0 artifact file(s) and 0 other file(s)"
      ],
      "text/plain": [
       "<IPython.core.display.HTML object>"
      ]
     },
     "metadata": {},
     "output_type": "display_data"
    },
    {
     "data": {
      "text/html": [
       "Find logs at: <code>./wandb/run-20250116_092438-u4m3ia4e/logs</code>"
      ],
      "text/plain": [
       "<IPython.core.display.HTML object>"
      ]
     },
     "metadata": {},
     "output_type": "display_data"
    },
    {
     "name": "stderr",
     "output_type": "stream",
     "text": [
      "\u001b[34m\u001b[1mwandb\u001b[0m: Sweep Agent: Waiting for job.\n",
      "\u001b[34m\u001b[1mwandb\u001b[0m: Job received.\n",
      "\u001b[34m\u001b[1mwandb\u001b[0m: Agent Starting Run: 30xb2lk4 with config:\n",
      "\u001b[34m\u001b[1mwandb\u001b[0m: \tcutoff_distance: 9.673842417362462\n",
      "\u001b[34m\u001b[1mwandb\u001b[0m: \tdropout: 0.8\n",
      "\u001b[34m\u001b[1mwandb\u001b[0m: \thidden_channels: 256\n",
      "\u001b[34m\u001b[1mwandb\u001b[0m: \tlearning_rate: 0.0003092542456900275\n",
      "\u001b[34m\u001b[1mwandb\u001b[0m: \tweight_decay: 1.6890681284970998e-06\n",
      "Failed to detect the name of this notebook, you can set it manually with the WANDB_NOTEBOOK_NAME environment variable to enable code saving.\n",
      "/usr/lib/python3/dist-packages/requests/__init__.py:87: RequestsDependencyWarning: urllib3 (2.2.3) or chardet (4.0.0) doesn't match a supported version!\n",
      "  warnings.warn(\"urllib3 ({}) or chardet ({}) doesn't match a supported \"\n"
     ]
    },
    {
     "data": {
      "text/html": [
       "wandb version 0.19.3 is available!  To upgrade, please run:\n",
       " $ pip install wandb --upgrade"
      ],
      "text/plain": [
       "<IPython.core.display.HTML object>"
      ]
     },
     "metadata": {},
     "output_type": "display_data"
    },
    {
     "data": {
      "text/html": [
       "Tracking run with wandb version 0.16.4"
      ],
      "text/plain": [
       "<IPython.core.display.HTML object>"
      ]
     },
     "metadata": {},
     "output_type": "display_data"
    },
    {
     "data": {
      "text/html": [
       "Run data is saved locally in <code>/mnt/alphafold-volume-1/dylan2/repos/tb-pnca-gnn/dd_pnca/wandb/run-20250116_092621-30xb2lk4</code>"
      ],
      "text/plain": [
       "<IPython.core.display.HTML object>"
      ]
     },
     "metadata": {},
     "output_type": "display_data"
    },
    {
     "data": {
      "text/html": [
       "Syncing run <strong><a href='https://wandb.ai/dylan-home/pnca-sweep-1/runs/30xb2lk4' target=\"_blank\">quiet-sweep-102</a></strong> to <a href='https://wandb.ai/dylan-home/pnca-sweep-1' target=\"_blank\">Weights & Biases</a> (<a href='https://wandb.me/run' target=\"_blank\">docs</a>)<br/>Sweep page: <a href='https://wandb.ai/dylan-home/pnca-sweep-1/sweeps/tr8mwg42' target=\"_blank\">https://wandb.ai/dylan-home/pnca-sweep-1/sweeps/tr8mwg42</a>"
      ],
      "text/plain": [
       "<IPython.core.display.HTML object>"
      ]
     },
     "metadata": {},
     "output_type": "display_data"
    },
    {
     "data": {
      "text/html": [
       " View project at <a href='https://wandb.ai/dylan-home/pnca-sweep-1' target=\"_blank\">https://wandb.ai/dylan-home/pnca-sweep-1</a>"
      ],
      "text/plain": [
       "<IPython.core.display.HTML object>"
      ]
     },
     "metadata": {},
     "output_type": "display_data"
    },
    {
     "data": {
      "text/html": [
       " View sweep at <a href='https://wandb.ai/dylan-home/pnca-sweep-1/sweeps/tr8mwg42' target=\"_blank\">https://wandb.ai/dylan-home/pnca-sweep-1/sweeps/tr8mwg42</a>"
      ],
      "text/plain": [
       "<IPython.core.display.HTML object>"
      ]
     },
     "metadata": {},
     "output_type": "display_data"
    },
    {
     "data": {
      "text/html": [
       " View run at <a href='https://wandb.ai/dylan-home/pnca-sweep-1/runs/30xb2lk4' target=\"_blank\">https://wandb.ai/dylan-home/pnca-sweep-1/runs/30xb2lk4</a>"
      ],
      "text/plain": [
       "<IPython.core.display.HTML object>"
      ]
     },
     "metadata": {},
     "output_type": "display_data"
    },
    {
     "name": "stdout",
     "output_type": "stream",
     "text": [
      "Using CUDA\n",
      "Early stopping enabled. Patience: 20. Min Delta: 0.\n",
      "Epoch: 010, Train Acc: 0.5264, Test Acc: 0.5110, Train Loss: 0.6907, Test Loss: 0.6919\n",
      "Epoch: 020, Train Acc: 0.5264, Test Acc: 0.5110, Train Loss: 0.6905, Test Loss: 0.6916\n",
      "20 epochs passed without 0 test loss improvement. \n",
      "Early stopping triggered.\n"
     ]
    },
    {
     "data": {
      "text/html": [
       "<style>\n",
       "    table.wandb td:nth-child(1) { padding: 0 10px; text-align: left ; width: auto;} td:nth-child(2) {text-align: left ; width: 100%}\n",
       "    .wandb-row { display: flex; flex-direction: row; flex-wrap: wrap; justify-content: flex-start; width: 100% }\n",
       "    .wandb-col { display: flex; flex-direction: column; flex-basis: 100%; flex: 1; padding: 10px; }\n",
       "    </style>\n",
       "<div class=\"wandb-row\"><div class=\"wandb-col\"><h3>Run history:</h3><br/><table class=\"wandb\"><tr><td>Test Accuracy</td><td>▃▃▁▂▁▃▃▃█▃▃▃▃▃▃▃▃▃▃▃▃▃▃▃▃▃</td></tr><tr><td>Test F1</td><td>██▁▂▁███▄█████████████████</td></tr><tr><td>Test Loss</td><td>▅▂▄▂█▁█▃▂▂▂▃▂▂▂▂▂▂▂▂▂▂▂▂▃▂</td></tr><tr><td>Test Sensitivity</td><td>██▁▁▁███▂█████████████████</td></tr><tr><td>Test Specificity</td><td>▁▁███▁▁▁█▁▁▁▁▁▁▁▁▁▁▁▁▁▁▁▁▁</td></tr><tr><td>Train Accuracy</td><td>██▁▂▁███▅█████████████████</td></tr><tr><td>Train F1</td><td>██▁▁▁███▂█████████████████</td></tr><tr><td>Train Loss</td><td>▂▂▄▃█▁▅▁▂▁▁▁▁▁▁▁▁▁▁▁▂▁▁▂▁▁</td></tr><tr><td>Train Sensitivity</td><td>██▁▁▁███▁█████████████████</td></tr><tr><td>Train Specificity</td><td>▁▁███▁▁▁█▁▁▁▁▁▁▁▁▁▁▁▁▁▁▁▁▁</td></tr></table><br/></div><div class=\"wandb-col\"><h3>Run summary:</h3><br/><table class=\"wandb\"><tr><td>Test Accuracy</td><td>0.511</td></tr><tr><td>Test F1</td><td>0.67637</td></tr><tr><td>Test Loss</td><td>0.6919</td></tr><tr><td>Test Sensitivity</td><td>1.0</td></tr><tr><td>Test Specificity</td><td>0.0</td></tr><tr><td>Train Accuracy</td><td>0.52643</td></tr><tr><td>Train F1</td><td>0.68975</td></tr><tr><td>Train Loss</td><td>0.69062</td></tr><tr><td>Train Sensitivity</td><td>1.0</td></tr><tr><td>Train Specificity</td><td>0.0</td></tr></table><br/></div></div>"
      ],
      "text/plain": [
       "<IPython.core.display.HTML object>"
      ]
     },
     "metadata": {},
     "output_type": "display_data"
    },
    {
     "data": {
      "text/html": [
       " View run <strong style=\"color:#cdcd00\">quiet-sweep-102</strong> at: <a href='https://wandb.ai/dylan-home/pnca-sweep-1/runs/30xb2lk4' target=\"_blank\">https://wandb.ai/dylan-home/pnca-sweep-1/runs/30xb2lk4</a><br/>Synced 5 W&B file(s), 0 media file(s), 0 artifact file(s) and 0 other file(s)"
      ],
      "text/plain": [
       "<IPython.core.display.HTML object>"
      ]
     },
     "metadata": {},
     "output_type": "display_data"
    },
    {
     "data": {
      "text/html": [
       "Find logs at: <code>./wandb/run-20250116_092621-30xb2lk4/logs</code>"
      ],
      "text/plain": [
       "<IPython.core.display.HTML object>"
      ]
     },
     "metadata": {},
     "output_type": "display_data"
    },
    {
     "name": "stderr",
     "output_type": "stream",
     "text": [
      "\u001b[34m\u001b[1mwandb\u001b[0m: Agent Starting Run: 5iiwuupy with config:\n",
      "\u001b[34m\u001b[1mwandb\u001b[0m: \tcutoff_distance: 7.441653117186592\n",
      "\u001b[34m\u001b[1mwandb\u001b[0m: \tdropout: 0.4\n",
      "\u001b[34m\u001b[1mwandb\u001b[0m: \thidden_channels: 256\n",
      "\u001b[34m\u001b[1mwandb\u001b[0m: \tlearning_rate: 0.00030559703375672437\n",
      "\u001b[34m\u001b[1mwandb\u001b[0m: \tweight_decay: 0.006378826306436868\n",
      "Failed to detect the name of this notebook, you can set it manually with the WANDB_NOTEBOOK_NAME environment variable to enable code saving.\n",
      "/usr/lib/python3/dist-packages/requests/__init__.py:87: RequestsDependencyWarning: urllib3 (2.2.3) or chardet (4.0.0) doesn't match a supported version!\n",
      "  warnings.warn(\"urllib3 ({}) or chardet ({}) doesn't match a supported \"\n"
     ]
    },
    {
     "data": {
      "text/html": [
       "wandb version 0.19.3 is available!  To upgrade, please run:\n",
       " $ pip install wandb --upgrade"
      ],
      "text/plain": [
       "<IPython.core.display.HTML object>"
      ]
     },
     "metadata": {},
     "output_type": "display_data"
    },
    {
     "data": {
      "text/html": [
       "Tracking run with wandb version 0.16.4"
      ],
      "text/plain": [
       "<IPython.core.display.HTML object>"
      ]
     },
     "metadata": {},
     "output_type": "display_data"
    },
    {
     "data": {
      "text/html": [
       "Run data is saved locally in <code>/mnt/alphafold-volume-1/dylan2/repos/tb-pnca-gnn/dd_pnca/wandb/run-20250116_092727-5iiwuupy</code>"
      ],
      "text/plain": [
       "<IPython.core.display.HTML object>"
      ]
     },
     "metadata": {},
     "output_type": "display_data"
    },
    {
     "data": {
      "text/html": [
       "Syncing run <strong><a href='https://wandb.ai/dylan-home/pnca-sweep-1/runs/5iiwuupy' target=\"_blank\">dainty-sweep-103</a></strong> to <a href='https://wandb.ai/dylan-home/pnca-sweep-1' target=\"_blank\">Weights & Biases</a> (<a href='https://wandb.me/run' target=\"_blank\">docs</a>)<br/>Sweep page: <a href='https://wandb.ai/dylan-home/pnca-sweep-1/sweeps/tr8mwg42' target=\"_blank\">https://wandb.ai/dylan-home/pnca-sweep-1/sweeps/tr8mwg42</a>"
      ],
      "text/plain": [
       "<IPython.core.display.HTML object>"
      ]
     },
     "metadata": {},
     "output_type": "display_data"
    },
    {
     "data": {
      "text/html": [
       " View project at <a href='https://wandb.ai/dylan-home/pnca-sweep-1' target=\"_blank\">https://wandb.ai/dylan-home/pnca-sweep-1</a>"
      ],
      "text/plain": [
       "<IPython.core.display.HTML object>"
      ]
     },
     "metadata": {},
     "output_type": "display_data"
    },
    {
     "data": {
      "text/html": [
       " View sweep at <a href='https://wandb.ai/dylan-home/pnca-sweep-1/sweeps/tr8mwg42' target=\"_blank\">https://wandb.ai/dylan-home/pnca-sweep-1/sweeps/tr8mwg42</a>"
      ],
      "text/plain": [
       "<IPython.core.display.HTML object>"
      ]
     },
     "metadata": {},
     "output_type": "display_data"
    },
    {
     "data": {
      "text/html": [
       " View run at <a href='https://wandb.ai/dylan-home/pnca-sweep-1/runs/5iiwuupy' target=\"_blank\">https://wandb.ai/dylan-home/pnca-sweep-1/runs/5iiwuupy</a>"
      ],
      "text/plain": [
       "<IPython.core.display.HTML object>"
      ]
     },
     "metadata": {},
     "output_type": "display_data"
    },
    {
     "name": "stdout",
     "output_type": "stream",
     "text": [
      "Using CUDA\n",
      "Early stopping enabled. Patience: 20. Min Delta: 0.\n",
      "Epoch: 010, Train Acc: 0.5030, Test Acc: 0.5740, Train Loss: 0.6925, Test Loss: 0.6887\n",
      "Epoch: 020, Train Acc: 0.4967, Test Acc: 0.4830, Train Loss: 0.6889, Test Loss: 0.6870\n",
      "Epoch: 030, Train Acc: 0.5263, Test Acc: 0.5110, Train Loss: 0.6887, Test Loss: 0.6881\n",
      "20 epochs passed without 0 test loss improvement. \n",
      "Early stopping triggered.\n"
     ]
    },
    {
     "data": {
      "text/html": [
       "<style>\n",
       "    table.wandb td:nth-child(1) { padding: 0 10px; text-align: left ; width: auto;} td:nth-child(2) {text-align: left ; width: 100%}\n",
       "    .wandb-row { display: flex; flex-direction: row; flex-wrap: wrap; justify-content: flex-start; width: 100% }\n",
       "    .wandb-col { display: flex; flex-direction: column; flex-basis: 100%; flex: 1; padding: 10px; }\n",
       "    </style>\n",
       "<div class=\"wandb-row\"><div class=\"wandb-col\"><h3>Run history:</h3><br/><table class=\"wandb\"><tr><td>Test Accuracy</td><td>▂▂▂▂▁▂▁▅▁▄▁▂▂▂▂▂▁█▁▁▂█▂▂█▂▂▂█▂▂▂▂▂▇▂▂</td></tr><tr><td>Test F1</td><td>████▁█▁▅█▄▁██████▇██████████▇█████▆██</td></tr><tr><td>Test Loss</td><td>█▄▂▂█▆▃▂▂▂▃▁▂▂▁▄▁▁▁▁▂▂▂▂▁▂▃▂▁▂▂▁▃▂▁▁▃</td></tr><tr><td>Test Sensitivity</td><td>████▁█▁▂█▂▁█████▇▅▇▇█▅██▅███▅█████▃██</td></tr><tr><td>Test Specificity</td><td>▁▁▁▁█▁██▁██▁▁▁▁▁▁▇▁▁▁▆▁▁▆▁▁▁▇▁▁▁▁▁█▁▁</td></tr><tr><td>Train Accuracy</td><td>▃▃▃▃▁▃▁▂▂▂▁▂▃▃▃▃▂▇▂▂▃█▃▃█▃▃▃█▃▃▃▃▃▅▂▃</td></tr><tr><td>Train F1</td><td>████▁█▁▃█▂▁██████▇██████████▇█████▅██</td></tr><tr><td>Train Loss</td><td>▅▃▂▂█▄▃▂▂▂▃▁▂▁▁▃▁▁▁▁▁▂▁▁▂▁▂▁▂▁▁▁▁▁▂▁▂</td></tr><tr><td>Train Sensitivity</td><td>████▁█▁▂█▁▁█████▇▄▇▇█▅██▅███▄█████▃██</td></tr><tr><td>Train Specificity</td><td>▁▁▁▁█▁██▁██▁▁▁▁▁▁▇▁▁▁▇▁▁▇▁▁▁▇▁▁▁▁▁█▁▁</td></tr></table><br/></div><div class=\"wandb-col\"><h3>Run summary:</h3><br/><table class=\"wandb\"><tr><td>Test Accuracy</td><td>0.511</td></tr><tr><td>Test F1</td><td>0.67637</td></tr><tr><td>Test Loss</td><td>0.69335</td></tr><tr><td>Test Sensitivity</td><td>1.0</td></tr><tr><td>Test Specificity</td><td>0.0</td></tr><tr><td>Train Accuracy</td><td>0.52643</td></tr><tr><td>Train F1</td><td>0.68975</td></tr><tr><td>Train Loss</td><td>0.69091</td></tr><tr><td>Train Sensitivity</td><td>1.0</td></tr><tr><td>Train Specificity</td><td>0.0</td></tr></table><br/></div></div>"
      ],
      "text/plain": [
       "<IPython.core.display.HTML object>"
      ]
     },
     "metadata": {},
     "output_type": "display_data"
    },
    {
     "data": {
      "text/html": [
       " View run <strong style=\"color:#cdcd00\">dainty-sweep-103</strong> at: <a href='https://wandb.ai/dylan-home/pnca-sweep-1/runs/5iiwuupy' target=\"_blank\">https://wandb.ai/dylan-home/pnca-sweep-1/runs/5iiwuupy</a><br/>Synced 5 W&B file(s), 0 media file(s), 0 artifact file(s) and 0 other file(s)"
      ],
      "text/plain": [
       "<IPython.core.display.HTML object>"
      ]
     },
     "metadata": {},
     "output_type": "display_data"
    },
    {
     "data": {
      "text/html": [
       "Find logs at: <code>./wandb/run-20250116_092727-5iiwuupy/logs</code>"
      ],
      "text/plain": [
       "<IPython.core.display.HTML object>"
      ]
     },
     "metadata": {},
     "output_type": "display_data"
    },
    {
     "name": "stderr",
     "output_type": "stream",
     "text": [
      "\u001b[34m\u001b[1mwandb\u001b[0m: Agent Starting Run: kldaxclo with config:\n",
      "\u001b[34m\u001b[1mwandb\u001b[0m: \tcutoff_distance: 8.17353862477162\n",
      "\u001b[34m\u001b[1mwandb\u001b[0m: \tdropout: 0.8\n",
      "\u001b[34m\u001b[1mwandb\u001b[0m: \thidden_channels: 128\n",
      "\u001b[34m\u001b[1mwandb\u001b[0m: \tlearning_rate: 0.003788490081429023\n",
      "\u001b[34m\u001b[1mwandb\u001b[0m: \tweight_decay: 0.005862324306497937\n",
      "Failed to detect the name of this notebook, you can set it manually with the WANDB_NOTEBOOK_NAME environment variable to enable code saving.\n",
      "/usr/lib/python3/dist-packages/requests/__init__.py:87: RequestsDependencyWarning: urllib3 (2.2.3) or chardet (4.0.0) doesn't match a supported version!\n",
      "  warnings.warn(\"urllib3 ({}) or chardet ({}) doesn't match a supported \"\n"
     ]
    },
    {
     "data": {
      "text/html": [
       "wandb version 0.19.3 is available!  To upgrade, please run:\n",
       " $ pip install wandb --upgrade"
      ],
      "text/plain": [
       "<IPython.core.display.HTML object>"
      ]
     },
     "metadata": {},
     "output_type": "display_data"
    },
    {
     "data": {
      "text/html": [
       "Tracking run with wandb version 0.16.4"
      ],
      "text/plain": [
       "<IPython.core.display.HTML object>"
      ]
     },
     "metadata": {},
     "output_type": "display_data"
    },
    {
     "data": {
      "text/html": [
       "Run data is saved locally in <code>/mnt/alphafold-volume-1/dylan2/repos/tb-pnca-gnn/dd_pnca/wandb/run-20250116_092854-kldaxclo</code>"
      ],
      "text/plain": [
       "<IPython.core.display.HTML object>"
      ]
     },
     "metadata": {},
     "output_type": "display_data"
    },
    {
     "data": {
      "text/html": [
       "Syncing run <strong><a href='https://wandb.ai/dylan-home/pnca-sweep-1/runs/kldaxclo' target=\"_blank\">peach-sweep-104</a></strong> to <a href='https://wandb.ai/dylan-home/pnca-sweep-1' target=\"_blank\">Weights & Biases</a> (<a href='https://wandb.me/run' target=\"_blank\">docs</a>)<br/>Sweep page: <a href='https://wandb.ai/dylan-home/pnca-sweep-1/sweeps/tr8mwg42' target=\"_blank\">https://wandb.ai/dylan-home/pnca-sweep-1/sweeps/tr8mwg42</a>"
      ],
      "text/plain": [
       "<IPython.core.display.HTML object>"
      ]
     },
     "metadata": {},
     "output_type": "display_data"
    },
    {
     "data": {
      "text/html": [
       " View project at <a href='https://wandb.ai/dylan-home/pnca-sweep-1' target=\"_blank\">https://wandb.ai/dylan-home/pnca-sweep-1</a>"
      ],
      "text/plain": [
       "<IPython.core.display.HTML object>"
      ]
     },
     "metadata": {},
     "output_type": "display_data"
    },
    {
     "data": {
      "text/html": [
       " View sweep at <a href='https://wandb.ai/dylan-home/pnca-sweep-1/sweeps/tr8mwg42' target=\"_blank\">https://wandb.ai/dylan-home/pnca-sweep-1/sweeps/tr8mwg42</a>"
      ],
      "text/plain": [
       "<IPython.core.display.HTML object>"
      ]
     },
     "metadata": {},
     "output_type": "display_data"
    },
    {
     "data": {
      "text/html": [
       " View run at <a href='https://wandb.ai/dylan-home/pnca-sweep-1/runs/kldaxclo' target=\"_blank\">https://wandb.ai/dylan-home/pnca-sweep-1/runs/kldaxclo</a>"
      ],
      "text/plain": [
       "<IPython.core.display.HTML object>"
      ]
     },
     "metadata": {},
     "output_type": "display_data"
    },
    {
     "name": "stdout",
     "output_type": "stream",
     "text": [
      "Using CUDA\n",
      "Early stopping enabled. Patience: 20. Min Delta: 0.\n",
      "Epoch: 010, Train Acc: 0.5264, Test Acc: 0.5110, Train Loss: 0.6918, Test Loss: 0.6935\n",
      "Epoch: 020, Train Acc: 0.5264, Test Acc: 0.5110, Train Loss: 0.6918, Test Loss: 0.6934\n",
      "20 epochs passed without 0 test loss improvement. \n",
      "Early stopping triggered.\n"
     ]
    },
    {
     "data": {
      "text/html": [
       "<style>\n",
       "    table.wandb td:nth-child(1) { padding: 0 10px; text-align: left ; width: auto;} td:nth-child(2) {text-align: left ; width: 100%}\n",
       "    .wandb-row { display: flex; flex-direction: row; flex-wrap: wrap; justify-content: flex-start; width: 100% }\n",
       "    .wandb-col { display: flex; flex-direction: column; flex-basis: 100%; flex: 1; padding: 10px; }\n",
       "    </style>\n",
       "<div class=\"wandb-row\"><div class=\"wandb-col\"><h3>Run history:</h3><br/><table class=\"wandb\"><tr><td>Test Accuracy</td><td>▁▁▁▁▁▁▁▁▁▁▁▁▁▁▁▁▁▁▁▁▁</td></tr><tr><td>Test F1</td><td>▁▁▁▁▁▁▁▁▁▁▁▁▁▁▁▁▁▁▁▁▁</td></tr><tr><td>Test Loss</td><td>▁▃▁▇▃▅▇▅▂▇▂▂█▂▃▄▅▄▂▆▆</td></tr><tr><td>Test Sensitivity</td><td>▁▁▁▁▁▁▁▁▁▁▁▁▁▁▁▁▁▁▁▁▁</td></tr><tr><td>Test Specificity</td><td>▁▁▁▁▁▁▁▁▁▁▁▁▁▁▁▁▁▁▁▁▁</td></tr><tr><td>Train Accuracy</td><td>▁▁▁▁▁▁▁▁▁▁▁▁▁▁▁▁▁▁▁▁▁</td></tr><tr><td>Train F1</td><td>▁▁▁▁▁▁▁▁▁▁▁▁▁▁▁▁▁▁▁▁▁</td></tr><tr><td>Train Loss</td><td>▅▇▆█▃▅▂▁▄▆▇█▆▄▄▃▂▄▆▅▅</td></tr><tr><td>Train Sensitivity</td><td>▁▁▁▁▁▁▁▁▁▁▁▁▁▁▁▁▁▁▁▁▁</td></tr><tr><td>Train Specificity</td><td>▁▁▁▁▁▁▁▁▁▁▁▁▁▁▁▁▁▁▁▁▁</td></tr></table><br/></div><div class=\"wandb-col\"><h3>Run summary:</h3><br/><table class=\"wandb\"><tr><td>Test Accuracy</td><td>0.511</td></tr><tr><td>Test F1</td><td>0.67637</td></tr><tr><td>Test Loss</td><td>0.6934</td></tr><tr><td>Test Sensitivity</td><td>1.0</td></tr><tr><td>Test Specificity</td><td>0.0</td></tr><tr><td>Train Accuracy</td><td>0.52643</td></tr><tr><td>Train F1</td><td>0.68975</td></tr><tr><td>Train Loss</td><td>0.69174</td></tr><tr><td>Train Sensitivity</td><td>1.0</td></tr><tr><td>Train Specificity</td><td>0.0</td></tr></table><br/></div></div>"
      ],
      "text/plain": [
       "<IPython.core.display.HTML object>"
      ]
     },
     "metadata": {},
     "output_type": "display_data"
    },
    {
     "data": {
      "text/html": [
       " View run <strong style=\"color:#cdcd00\">peach-sweep-104</strong> at: <a href='https://wandb.ai/dylan-home/pnca-sweep-1/runs/kldaxclo' target=\"_blank\">https://wandb.ai/dylan-home/pnca-sweep-1/runs/kldaxclo</a><br/>Synced 5 W&B file(s), 0 media file(s), 0 artifact file(s) and 0 other file(s)"
      ],
      "text/plain": [
       "<IPython.core.display.HTML object>"
      ]
     },
     "metadata": {},
     "output_type": "display_data"
    },
    {
     "data": {
      "text/html": [
       "Find logs at: <code>./wandb/run-20250116_092854-kldaxclo/logs</code>"
      ],
      "text/plain": [
       "<IPython.core.display.HTML object>"
      ]
     },
     "metadata": {},
     "output_type": "display_data"
    },
    {
     "name": "stderr",
     "output_type": "stream",
     "text": [
      "\u001b[34m\u001b[1mwandb\u001b[0m: Agent Starting Run: h8vsoj5i with config:\n",
      "\u001b[34m\u001b[1mwandb\u001b[0m: \tcutoff_distance: 6.1503078251376655\n",
      "\u001b[34m\u001b[1mwandb\u001b[0m: \tdropout: 0.4\n",
      "\u001b[34m\u001b[1mwandb\u001b[0m: \thidden_channels: 256\n",
      "\u001b[34m\u001b[1mwandb\u001b[0m: \tlearning_rate: 0.0009620088943634712\n",
      "\u001b[34m\u001b[1mwandb\u001b[0m: \tweight_decay: 0.0003385172562416507\n",
      "Failed to detect the name of this notebook, you can set it manually with the WANDB_NOTEBOOK_NAME environment variable to enable code saving.\n",
      "/usr/lib/python3/dist-packages/requests/__init__.py:87: RequestsDependencyWarning: urllib3 (2.2.3) or chardet (4.0.0) doesn't match a supported version!\n",
      "  warnings.warn(\"urllib3 ({}) or chardet ({}) doesn't match a supported \"\n"
     ]
    },
    {
     "data": {
      "text/html": [
       "wandb version 0.19.3 is available!  To upgrade, please run:\n",
       " $ pip install wandb --upgrade"
      ],
      "text/plain": [
       "<IPython.core.display.HTML object>"
      ]
     },
     "metadata": {},
     "output_type": "display_data"
    },
    {
     "data": {
      "text/html": [
       "Tracking run with wandb version 0.16.4"
      ],
      "text/plain": [
       "<IPython.core.display.HTML object>"
      ]
     },
     "metadata": {},
     "output_type": "display_data"
    },
    {
     "data": {
      "text/html": [
       "Run data is saved locally in <code>/mnt/alphafold-volume-1/dylan2/repos/tb-pnca-gnn/dd_pnca/wandb/run-20250116_092946-h8vsoj5i</code>"
      ],
      "text/plain": [
       "<IPython.core.display.HTML object>"
      ]
     },
     "metadata": {},
     "output_type": "display_data"
    },
    {
     "data": {
      "text/html": [
       "Syncing run <strong><a href='https://wandb.ai/dylan-home/pnca-sweep-1/runs/h8vsoj5i' target=\"_blank\">legendary-sweep-105</a></strong> to <a href='https://wandb.ai/dylan-home/pnca-sweep-1' target=\"_blank\">Weights & Biases</a> (<a href='https://wandb.me/run' target=\"_blank\">docs</a>)<br/>Sweep page: <a href='https://wandb.ai/dylan-home/pnca-sweep-1/sweeps/tr8mwg42' target=\"_blank\">https://wandb.ai/dylan-home/pnca-sweep-1/sweeps/tr8mwg42</a>"
      ],
      "text/plain": [
       "<IPython.core.display.HTML object>"
      ]
     },
     "metadata": {},
     "output_type": "display_data"
    },
    {
     "data": {
      "text/html": [
       " View project at <a href='https://wandb.ai/dylan-home/pnca-sweep-1' target=\"_blank\">https://wandb.ai/dylan-home/pnca-sweep-1</a>"
      ],
      "text/plain": [
       "<IPython.core.display.HTML object>"
      ]
     },
     "metadata": {},
     "output_type": "display_data"
    },
    {
     "data": {
      "text/html": [
       " View sweep at <a href='https://wandb.ai/dylan-home/pnca-sweep-1/sweeps/tr8mwg42' target=\"_blank\">https://wandb.ai/dylan-home/pnca-sweep-1/sweeps/tr8mwg42</a>"
      ],
      "text/plain": [
       "<IPython.core.display.HTML object>"
      ]
     },
     "metadata": {},
     "output_type": "display_data"
    },
    {
     "data": {
      "text/html": [
       " View run at <a href='https://wandb.ai/dylan-home/pnca-sweep-1/runs/h8vsoj5i' target=\"_blank\">https://wandb.ai/dylan-home/pnca-sweep-1/runs/h8vsoj5i</a>"
      ],
      "text/plain": [
       "<IPython.core.display.HTML object>"
      ]
     },
     "metadata": {},
     "output_type": "display_data"
    },
    {
     "name": "stdout",
     "output_type": "stream",
     "text": [
      "Using CUDA\n",
      "Early stopping enabled. Patience: 20. Min Delta: 0.\n",
      "Epoch: 010, Train Acc: 0.5264, Test Acc: 0.5110, Train Loss: 0.6917, Test Loss: 0.6933\n",
      "Epoch: 020, Train Acc: 0.5264, Test Acc: 0.5110, Train Loss: 0.6918, Test Loss: 0.6933\n",
      "20 epochs passed without 0 test loss improvement. \n",
      "Early stopping triggered.\n"
     ]
    },
    {
     "data": {
      "text/html": [
       "<style>\n",
       "    table.wandb td:nth-child(1) { padding: 0 10px; text-align: left ; width: auto;} td:nth-child(2) {text-align: left ; width: 100%}\n",
       "    .wandb-row { display: flex; flex-direction: row; flex-wrap: wrap; justify-content: flex-start; width: 100% }\n",
       "    .wandb-col { display: flex; flex-direction: column; flex-basis: 100%; flex: 1; padding: 10px; }\n",
       "    </style>\n",
       "<div class=\"wandb-row\"><div class=\"wandb-col\"><h3>Run history:</h3><br/><table class=\"wandb\"><tr><td>Test Accuracy</td><td>▁███████████████████████████</td></tr><tr><td>Test F1</td><td>▁███████████████████████████</td></tr><tr><td>Test Loss</td><td>█▅▆▅▄▁▅▁▂▃▃▂▃▃▄▄▃▃▂▃▂▂▃▄▃▃▃▃</td></tr><tr><td>Test Sensitivity</td><td>▁███████████████████████████</td></tr><tr><td>Test Specificity</td><td>█▁▁▁▁▁▁▁▁▁▁▁▁▁▁▁▁▁▁▁▁▁▁▁▁▁▁▁</td></tr><tr><td>Train Accuracy</td><td>▁███████████████████████████</td></tr><tr><td>Train F1</td><td>▁███████████████████████████</td></tr><tr><td>Train Loss</td><td>█▃▃▃▅▄▂▂▂▂▂▂▁▂▁▂▁▂▁▂▂▁▁▂▂▁▁▁</td></tr><tr><td>Train Sensitivity</td><td>▁███████████████████████████</td></tr><tr><td>Train Specificity</td><td>█▁▁▁▁▁▁▁▁▁▁▁▁▁▁▁▁▁▁▁▁▁▁▁▁▁▁▁</td></tr></table><br/></div><div class=\"wandb-col\"><h3>Run summary:</h3><br/><table class=\"wandb\"><tr><td>Test Accuracy</td><td>0.511</td></tr><tr><td>Test F1</td><td>0.67637</td></tr><tr><td>Test Loss</td><td>0.69318</td></tr><tr><td>Test Sensitivity</td><td>1.0</td></tr><tr><td>Test Specificity</td><td>0.0</td></tr><tr><td>Train Accuracy</td><td>0.52643</td></tr><tr><td>Train F1</td><td>0.68975</td></tr><tr><td>Train Loss</td><td>0.69156</td></tr><tr><td>Train Sensitivity</td><td>1.0</td></tr><tr><td>Train Specificity</td><td>0.0</td></tr></table><br/></div></div>"
      ],
      "text/plain": [
       "<IPython.core.display.HTML object>"
      ]
     },
     "metadata": {},
     "output_type": "display_data"
    },
    {
     "data": {
      "text/html": [
       " View run <strong style=\"color:#cdcd00\">legendary-sweep-105</strong> at: <a href='https://wandb.ai/dylan-home/pnca-sweep-1/runs/h8vsoj5i' target=\"_blank\">https://wandb.ai/dylan-home/pnca-sweep-1/runs/h8vsoj5i</a><br/>Synced 5 W&B file(s), 0 media file(s), 0 artifact file(s) and 0 other file(s)"
      ],
      "text/plain": [
       "<IPython.core.display.HTML object>"
      ]
     },
     "metadata": {},
     "output_type": "display_data"
    },
    {
     "data": {
      "text/html": [
       "Find logs at: <code>./wandb/run-20250116_092946-h8vsoj5i/logs</code>"
      ],
      "text/plain": [
       "<IPython.core.display.HTML object>"
      ]
     },
     "metadata": {},
     "output_type": "display_data"
    },
    {
     "name": "stderr",
     "output_type": "stream",
     "text": [
      "\u001b[34m\u001b[1mwandb\u001b[0m: Sweep Agent: Waiting for job.\n",
      "\u001b[34m\u001b[1mwandb\u001b[0m: Job received.\n",
      "\u001b[34m\u001b[1mwandb\u001b[0m: Agent Starting Run: 3pewhnto with config:\n",
      "\u001b[34m\u001b[1mwandb\u001b[0m: \tcutoff_distance: 4.034484677167942\n",
      "\u001b[34m\u001b[1mwandb\u001b[0m: \tdropout: 0.4\n",
      "\u001b[34m\u001b[1mwandb\u001b[0m: \thidden_channels: 64\n",
      "\u001b[34m\u001b[1mwandb\u001b[0m: \tlearning_rate: 0.007426435423513256\n",
      "\u001b[34m\u001b[1mwandb\u001b[0m: \tweight_decay: 0.0032719548959133093\n",
      "Failed to detect the name of this notebook, you can set it manually with the WANDB_NOTEBOOK_NAME environment variable to enable code saving.\n",
      "/usr/lib/python3/dist-packages/requests/__init__.py:87: RequestsDependencyWarning: urllib3 (2.2.3) or chardet (4.0.0) doesn't match a supported version!\n",
      "  warnings.warn(\"urllib3 ({}) or chardet ({}) doesn't match a supported \"\n"
     ]
    },
    {
     "data": {
      "text/html": [
       "wandb version 0.19.3 is available!  To upgrade, please run:\n",
       " $ pip install wandb --upgrade"
      ],
      "text/plain": [
       "<IPython.core.display.HTML object>"
      ]
     },
     "metadata": {},
     "output_type": "display_data"
    },
    {
     "data": {
      "text/html": [
       "Tracking run with wandb version 0.16.4"
      ],
      "text/plain": [
       "<IPython.core.display.HTML object>"
      ]
     },
     "metadata": {},
     "output_type": "display_data"
    },
    {
     "data": {
      "text/html": [
       "Run data is saved locally in <code>/mnt/alphafold-volume-1/dylan2/repos/tb-pnca-gnn/dd_pnca/wandb/run-20250116_093103-3pewhnto</code>"
      ],
      "text/plain": [
       "<IPython.core.display.HTML object>"
      ]
     },
     "metadata": {},
     "output_type": "display_data"
    },
    {
     "data": {
      "text/html": [
       "Syncing run <strong><a href='https://wandb.ai/dylan-home/pnca-sweep-1/runs/3pewhnto' target=\"_blank\">toasty-sweep-106</a></strong> to <a href='https://wandb.ai/dylan-home/pnca-sweep-1' target=\"_blank\">Weights & Biases</a> (<a href='https://wandb.me/run' target=\"_blank\">docs</a>)<br/>Sweep page: <a href='https://wandb.ai/dylan-home/pnca-sweep-1/sweeps/tr8mwg42' target=\"_blank\">https://wandb.ai/dylan-home/pnca-sweep-1/sweeps/tr8mwg42</a>"
      ],
      "text/plain": [
       "<IPython.core.display.HTML object>"
      ]
     },
     "metadata": {},
     "output_type": "display_data"
    },
    {
     "data": {
      "text/html": [
       " View project at <a href='https://wandb.ai/dylan-home/pnca-sweep-1' target=\"_blank\">https://wandb.ai/dylan-home/pnca-sweep-1</a>"
      ],
      "text/plain": [
       "<IPython.core.display.HTML object>"
      ]
     },
     "metadata": {},
     "output_type": "display_data"
    },
    {
     "data": {
      "text/html": [
       " View sweep at <a href='https://wandb.ai/dylan-home/pnca-sweep-1/sweeps/tr8mwg42' target=\"_blank\">https://wandb.ai/dylan-home/pnca-sweep-1/sweeps/tr8mwg42</a>"
      ],
      "text/plain": [
       "<IPython.core.display.HTML object>"
      ]
     },
     "metadata": {},
     "output_type": "display_data"
    },
    {
     "data": {
      "text/html": [
       " View run at <a href='https://wandb.ai/dylan-home/pnca-sweep-1/runs/3pewhnto' target=\"_blank\">https://wandb.ai/dylan-home/pnca-sweep-1/runs/3pewhnto</a>"
      ],
      "text/plain": [
       "<IPython.core.display.HTML object>"
      ]
     },
     "metadata": {},
     "output_type": "display_data"
    },
    {
     "name": "stdout",
     "output_type": "stream",
     "text": [
      "Using CUDA\n",
      "Early stopping enabled. Patience: 20. Min Delta: 0.\n",
      "Epoch: 010, Train Acc: 0.5264, Test Acc: 0.5110, Train Loss: 0.6924, Test Loss: 0.6942\n",
      "Epoch: 020, Train Acc: 0.5264, Test Acc: 0.5110, Train Loss: 0.6918, Test Loss: 0.6938\n",
      "Epoch: 030, Train Acc: 0.5264, Test Acc: 0.5110, Train Loss: 0.6920, Test Loss: 0.6940\n",
      "20 epochs passed without 0 test loss improvement. \n",
      "Early stopping triggered.\n"
     ]
    },
    {
     "data": {
      "text/html": [
       "<style>\n",
       "    table.wandb td:nth-child(1) { padding: 0 10px; text-align: left ; width: auto;} td:nth-child(2) {text-align: left ; width: 100%}\n",
       "    .wandb-row { display: flex; flex-direction: row; flex-wrap: wrap; justify-content: flex-start; width: 100% }\n",
       "    .wandb-col { display: flex; flex-direction: column; flex-basis: 100%; flex: 1; padding: 10px; }\n",
       "    </style>\n",
       "<div class=\"wandb-row\"><div class=\"wandb-col\"><h3>Run history:</h3><br/><table class=\"wandb\"><tr><td>Test Accuracy</td><td>▁▁▁▁▁▁▁▁▁▁▁▁▁▁▁▁▁▁▁▁▁▁▁▁▁▁▁▁▁▁▁▁▁▁▁▁▁▁▁</td></tr><tr><td>Test F1</td><td>▁▁▁▁▁▁▁▁▁▁▁▁▁▁▁▁▁▁▁▁▁▁▁▁▁▁▁▁▁▁▁▁▁▁▁▁▁▁▁</td></tr><tr><td>Test Loss</td><td>▁▅▄▂▂▁▃▃▃▆▂▃▃▅▂▂▄▂▁▄▃▁▁▂▂▃▃▂▁▅▁▂▃▂▂▂▃█▁</td></tr><tr><td>Test Sensitivity</td><td>▁▁▁▁▁▁▁▁▁▁▁▁▁▁▁▁▁▁▁▁▁▁▁▁▁▁▁▁▁▁▁▁▁▁▁▁▁▁▁</td></tr><tr><td>Test Specificity</td><td>▁▁▁▁▁▁▁▁▁▁▁▁▁▁▁▁▁▁▁▁▁▁▁▁▁▁▁▁▁▁▁▁▁▁▁▁▁▁▁</td></tr><tr><td>Train Accuracy</td><td>▁▁▁▁▁▁▁▁▁▁▁▁▁▁▁▁▁▁▁▁▁▁▁▁▁▁▁▁▁▁▁▁▁▁▁▁▁▁▁</td></tr><tr><td>Train F1</td><td>▁▁▁▁▁▁▁▁▁▁▁▁▁▁▁▁▁▁▁▁▁▁▁▁▁▁▁▁▁▁▁▁▁▁▁▁▁▁▁</td></tr><tr><td>Train Loss</td><td>▆▅▁▃▃▅▃▁▄▇▃▄▃▃▃▄▄▄▆▃▃▄▄▄▃▃▃▃▄▅▄▃▃▄▄▂▃▇█</td></tr><tr><td>Train Sensitivity</td><td>▁▁▁▁▁▁▁▁▁▁▁▁▁▁▁▁▁▁▁▁▁▁▁▁▁▁▁▁▁▁▁▁▁▁▁▁▁▁▁</td></tr><tr><td>Train Specificity</td><td>▁▁▁▁▁▁▁▁▁▁▁▁▁▁▁▁▁▁▁▁▁▁▁▁▁▁▁▁▁▁▁▁▁▁▁▁▁▁▁</td></tr></table><br/></div><div class=\"wandb-col\"><h3>Run summary:</h3><br/><table class=\"wandb\"><tr><td>Test Accuracy</td><td>0.511</td></tr><tr><td>Test F1</td><td>0.67637</td></tr><tr><td>Test Loss</td><td>0.69295</td></tr><tr><td>Test Sensitivity</td><td>1.0</td></tr><tr><td>Test Specificity</td><td>0.0</td></tr><tr><td>Train Accuracy</td><td>0.52643</td></tr><tr><td>Train F1</td><td>0.68975</td></tr><tr><td>Train Loss</td><td>0.69261</td></tr><tr><td>Train Sensitivity</td><td>1.0</td></tr><tr><td>Train Specificity</td><td>0.0</td></tr></table><br/></div></div>"
      ],
      "text/plain": [
       "<IPython.core.display.HTML object>"
      ]
     },
     "metadata": {},
     "output_type": "display_data"
    },
    {
     "data": {
      "text/html": [
       " View run <strong style=\"color:#cdcd00\">toasty-sweep-106</strong> at: <a href='https://wandb.ai/dylan-home/pnca-sweep-1/runs/3pewhnto' target=\"_blank\">https://wandb.ai/dylan-home/pnca-sweep-1/runs/3pewhnto</a><br/>Synced 5 W&B file(s), 0 media file(s), 0 artifact file(s) and 0 other file(s)"
      ],
      "text/plain": [
       "<IPython.core.display.HTML object>"
      ]
     },
     "metadata": {},
     "output_type": "display_data"
    },
    {
     "data": {
      "text/html": [
       "Find logs at: <code>./wandb/run-20250116_093103-3pewhnto/logs</code>"
      ],
      "text/plain": [
       "<IPython.core.display.HTML object>"
      ]
     },
     "metadata": {},
     "output_type": "display_data"
    },
    {
     "name": "stderr",
     "output_type": "stream",
     "text": [
      "\u001b[34m\u001b[1mwandb\u001b[0m: Agent Starting Run: c7yu73zo with config:\n",
      "\u001b[34m\u001b[1mwandb\u001b[0m: \tcutoff_distance: 3.481191583337\n",
      "\u001b[34m\u001b[1mwandb\u001b[0m: \tdropout: 0.6\n",
      "\u001b[34m\u001b[1mwandb\u001b[0m: \thidden_channels: 256\n",
      "\u001b[34m\u001b[1mwandb\u001b[0m: \tlearning_rate: 0.00019570445206783932\n",
      "\u001b[34m\u001b[1mwandb\u001b[0m: \tweight_decay: 0.007658008905573135\n",
      "Failed to detect the name of this notebook, you can set it manually with the WANDB_NOTEBOOK_NAME environment variable to enable code saving.\n",
      "/usr/lib/python3/dist-packages/requests/__init__.py:87: RequestsDependencyWarning: urllib3 (2.2.3) or chardet (4.0.0) doesn't match a supported version!\n",
      "  warnings.warn(\"urllib3 ({}) or chardet ({}) doesn't match a supported \"\n"
     ]
    },
    {
     "data": {
      "text/html": [
       "wandb version 0.19.3 is available!  To upgrade, please run:\n",
       " $ pip install wandb --upgrade"
      ],
      "text/plain": [
       "<IPython.core.display.HTML object>"
      ]
     },
     "metadata": {},
     "output_type": "display_data"
    },
    {
     "data": {
      "text/html": [
       "Tracking run with wandb version 0.16.4"
      ],
      "text/plain": [
       "<IPython.core.display.HTML object>"
      ]
     },
     "metadata": {},
     "output_type": "display_data"
    },
    {
     "data": {
      "text/html": [
       "Run data is saved locally in <code>/mnt/alphafold-volume-1/dylan2/repos/tb-pnca-gnn/dd_pnca/wandb/run-20250116_093225-c7yu73zo</code>"
      ],
      "text/plain": [
       "<IPython.core.display.HTML object>"
      ]
     },
     "metadata": {},
     "output_type": "display_data"
    },
    {
     "data": {
      "text/html": [
       "Syncing run <strong><a href='https://wandb.ai/dylan-home/pnca-sweep-1/runs/c7yu73zo' target=\"_blank\">good-sweep-107</a></strong> to <a href='https://wandb.ai/dylan-home/pnca-sweep-1' target=\"_blank\">Weights & Biases</a> (<a href='https://wandb.me/run' target=\"_blank\">docs</a>)<br/>Sweep page: <a href='https://wandb.ai/dylan-home/pnca-sweep-1/sweeps/tr8mwg42' target=\"_blank\">https://wandb.ai/dylan-home/pnca-sweep-1/sweeps/tr8mwg42</a>"
      ],
      "text/plain": [
       "<IPython.core.display.HTML object>"
      ]
     },
     "metadata": {},
     "output_type": "display_data"
    },
    {
     "data": {
      "text/html": [
       " View project at <a href='https://wandb.ai/dylan-home/pnca-sweep-1' target=\"_blank\">https://wandb.ai/dylan-home/pnca-sweep-1</a>"
      ],
      "text/plain": [
       "<IPython.core.display.HTML object>"
      ]
     },
     "metadata": {},
     "output_type": "display_data"
    },
    {
     "data": {
      "text/html": [
       " View sweep at <a href='https://wandb.ai/dylan-home/pnca-sweep-1/sweeps/tr8mwg42' target=\"_blank\">https://wandb.ai/dylan-home/pnca-sweep-1/sweeps/tr8mwg42</a>"
      ],
      "text/plain": [
       "<IPython.core.display.HTML object>"
      ]
     },
     "metadata": {},
     "output_type": "display_data"
    },
    {
     "data": {
      "text/html": [
       " View run at <a href='https://wandb.ai/dylan-home/pnca-sweep-1/runs/c7yu73zo' target=\"_blank\">https://wandb.ai/dylan-home/pnca-sweep-1/runs/c7yu73zo</a>"
      ],
      "text/plain": [
       "<IPython.core.display.HTML object>"
      ]
     },
     "metadata": {},
     "output_type": "display_data"
    },
    {
     "name": "stdout",
     "output_type": "stream",
     "text": [
      "Using CUDA\n",
      "Early stopping enabled. Patience: 20. Min Delta: 0.\n",
      "Epoch: 010, Train Acc: 0.6569, Test Acc: 0.6670, Train Loss: 0.6900, Test Loss: 0.6872\n",
      "Epoch: 020, Train Acc: 0.5260, Test Acc: 0.5110, Train Loss: 0.6865, Test Loss: 0.6853\n",
      "Epoch: 030, Train Acc: 0.5261, Test Acc: 0.5110, Train Loss: 0.6870, Test Loss: 0.6862\n",
      "Epoch: 040, Train Acc: 0.6859, Test Acc: 0.6723, Train Loss: 0.6848, Test Loss: 0.6820\n",
      "Epoch: 050, Train Acc: 0.6664, Test Acc: 0.6837, Train Loss: 0.6772, Test Loss: 0.6722\n",
      "Epoch: 060, Train Acc: 0.5809, Test Acc: 0.6337, Train Loss: 0.6757, Test Loss: 0.6679\n",
      "Epoch: 070, Train Acc: 0.7216, Test Acc: 0.7057, Train Loss: 0.6478, Test Loss: 0.6421\n",
      "Epoch: 080, Train Acc: 0.7364, Test Acc: 0.7247, Train Loss: 0.6239, Test Loss: 0.6166\n",
      "Epoch: 090, Train Acc: 0.5271, Test Acc: 0.5073, Train Loss: 0.6245, Test Loss: 0.6219\n",
      "Epoch: 100, Train Acc: 0.7534, Test Acc: 0.7310, Train Loss: 0.5877, Test Loss: 0.5851\n",
      "Epoch: 110, Train Acc: 0.7163, Test Acc: 0.7117, Train Loss: 0.5694, Test Loss: 0.5669\n",
      "Epoch: 120, Train Acc: 0.6839, Test Acc: 0.6973, Train Loss: 0.5773, Test Loss: 0.5736\n",
      "Epoch: 130, Train Acc: 0.7321, Test Acc: 0.7190, Train Loss: 0.5469, Test Loss: 0.5534\n",
      "Epoch: 140, Train Acc: 0.7210, Test Acc: 0.7103, Train Loss: 0.5446, Test Loss: 0.5542\n",
      "Epoch: 150, Train Acc: 0.6836, Test Acc: 0.6933, Train Loss: 0.5756, Test Loss: 0.5833\n",
      "Epoch: 160, Train Acc: 0.7910, Test Acc: 0.7627, Train Loss: 0.4967, Test Loss: 0.5237\n",
      "Epoch: 170, Train Acc: 0.7944, Test Acc: 0.7690, Train Loss: 0.4970, Test Loss: 0.5341\n",
      "Epoch: 180, Train Acc: 0.7700, Test Acc: 0.7393, Train Loss: 0.4946, Test Loss: 0.5199\n",
      "Epoch: 190, Train Acc: 0.7291, Test Acc: 0.7077, Train Loss: 0.5227, Test Loss: 0.5531\n",
      "Epoch: 200, Train Acc: 0.7963, Test Acc: 0.7753, Train Loss: 0.4848, Test Loss: 0.5421\n",
      "Epoch: 210, Train Acc: 0.7926, Test Acc: 0.7500, Train Loss: 0.4465, Test Loss: 0.5003\n",
      "Epoch: 220, Train Acc: 0.7919, Test Acc: 0.7410, Train Loss: 0.5007, Test Loss: 0.5781\n",
      "Epoch: 230, Train Acc: 0.7999, Test Acc: 0.7520, Train Loss: 0.4795, Test Loss: 0.5734\n",
      "Epoch: 240, Train Acc: 0.8080, Test Acc: 0.7617, Train Loss: 0.4083, Test Loss: 0.4904\n",
      "Epoch: 250, Train Acc: 0.8364, Test Acc: 0.7827, Train Loss: 0.4102, Test Loss: 0.5075\n",
      "Epoch: 260, Train Acc: 0.8423, Test Acc: 0.7827, Train Loss: 0.3950, Test Loss: 0.5051\n",
      "Epoch: 270, Train Acc: 0.8264, Test Acc: 0.7713, Train Loss: 0.3688, Test Loss: 0.4883\n",
      "Epoch: 280, Train Acc: 0.8366, Test Acc: 0.7733, Train Loss: 0.4215, Test Loss: 0.5484\n",
      "Epoch: 290, Train Acc: 0.8431, Test Acc: 0.7817, Train Loss: 0.3511, Test Loss: 0.4781\n",
      "20 epochs passed without 0 test loss improvement. \n",
      "Early stopping triggered.\n"
     ]
    },
    {
     "data": {
      "text/html": [
       "<style>\n",
       "    table.wandb td:nth-child(1) { padding: 0 10px; text-align: left ; width: auto;} td:nth-child(2) {text-align: left ; width: 100%}\n",
       "    .wandb-row { display: flex; flex-direction: row; flex-wrap: wrap; justify-content: flex-start; width: 100% }\n",
       "    .wandb-col { display: flex; flex-direction: column; flex-basis: 100%; flex: 1; padding: 10px; }\n",
       "    </style>\n",
       "<div class=\"wandb-row\"><div class=\"wandb-col\"><h3>Run history:</h3><br/><table class=\"wandb\"><tr><td>Test Accuracy</td><td>▁▂▂▄▆▆▂▆▅▂▇▆▆▇▆▇▆▇▆█▇█▇▆▇██▇▇▇█████▇██▂█</td></tr><tr><td>Test F1</td><td>▅▆▆▁▅▆▆▆▂▆▇▆▆▇▅▇▅▇▅▇▆▇▆▄▆▇▇▅▆█▇▇▇▇▇▆██▆█</td></tr><tr><td>Test Loss</td><td>██████▇▇▇█▆▅▅▄▄▄▄▄▃▃▃▂▂▇▂▂▂▃▃▄▁▁▁▁▁▃▁▃█▃</td></tr><tr><td>Test Sensitivity</td><td>▇██▁▃▅█▅▁█▅▄▄▅▃▆▃▆▃▆▄▅▄▂▄▅▅▃▄▇▅▅▅▅▅▄▅▇█▆</td></tr><tr><td>Test Specificity</td><td>▁▁▁█▇▆▁▆█▁▆▇▇▇█▆█▆▇▆▇▇▇█▇▇▇██▅▇▇▇▇▇█▇▆▂▆</td></tr><tr><td>Train Accuracy</td><td>▁▂▂▂▅▅▁▅▃▂▆▅▅▆▅▆▅▇▅▆▆▇▆▄▆▇▇▆▆▇▇▇▇█▇▇██▂█</td></tr><tr><td>Train F1</td><td>▆▆▆▁▅▆▆▆▂▆▇▆▆▇▅▇▅▇▆▇▆▇▆▄▇▇▇▆▆█▇▇▇█▇▇██▆█</td></tr><tr><td>Train Loss</td><td>██████████▇▇▆▆▆▅▆▅▅▅▄▄▄▇▄▃▃▄▄▄▂▂▂▂▂▃▁▂▅▂</td></tr><tr><td>Train Sensitivity</td><td>▇██▁▄▅█▆▂█▆▄▄▅▄▇▃▆▄▆▄▆▅▃▅▆▆▄▅▇▆▅▆▆▅▅▆▇█▇</td></tr><tr><td>Train Specificity</td><td>▁▁▁█▇▆▁▆█▁▆▇▇▇█▆█▆█▆█▇███▇▇██▆███▇██▇▆▂▇</td></tr></table><br/></div><div class=\"wandb-col\"><h3>Run summary:</h3><br/><table class=\"wandb\"><tr><td>Test Accuracy</td><td>0.52433</td></tr><tr><td>Test F1</td><td>0.66852</td></tr><tr><td>Test Loss</td><td>0.66763</td></tr><tr><td>Test Sensitivity</td><td>0.93868</td></tr><tr><td>Test Specificity</td><td>0.09134</td></tr><tr><td>Train Accuracy</td><td>0.575</td></tr><tr><td>Train F1</td><td>0.70922</td></tr><tr><td>Train Loss</td><td>0.5219</td></tr><tr><td>Train Sensitivity</td><td>0.98453</td></tr><tr><td>Train Specificity</td><td>0.11976</td></tr></table><br/></div></div>"
      ],
      "text/plain": [
       "<IPython.core.display.HTML object>"
      ]
     },
     "metadata": {},
     "output_type": "display_data"
    },
    {
     "data": {
      "text/html": [
       " View run <strong style=\"color:#cdcd00\">good-sweep-107</strong> at: <a href='https://wandb.ai/dylan-home/pnca-sweep-1/runs/c7yu73zo' target=\"_blank\">https://wandb.ai/dylan-home/pnca-sweep-1/runs/c7yu73zo</a><br/>Synced 5 W&B file(s), 0 media file(s), 0 artifact file(s) and 0 other file(s)"
      ],
      "text/plain": [
       "<IPython.core.display.HTML object>"
      ]
     },
     "metadata": {},
     "output_type": "display_data"
    },
    {
     "data": {
      "text/html": [
       "Find logs at: <code>./wandb/run-20250116_093225-c7yu73zo/logs</code>"
      ],
      "text/plain": [
       "<IPython.core.display.HTML object>"
      ]
     },
     "metadata": {},
     "output_type": "display_data"
    },
    {
     "name": "stderr",
     "output_type": "stream",
     "text": [
      "\u001b[34m\u001b[1mwandb\u001b[0m: Agent Starting Run: r5gz530w with config:\n",
      "\u001b[34m\u001b[1mwandb\u001b[0m: \tcutoff_distance: 3.969781636368859\n",
      "\u001b[34m\u001b[1mwandb\u001b[0m: \tdropout: 0.5\n",
      "\u001b[34m\u001b[1mwandb\u001b[0m: \thidden_channels: 64\n",
      "\u001b[34m\u001b[1mwandb\u001b[0m: \tlearning_rate: 0.00010594207509688257\n",
      "\u001b[34m\u001b[1mwandb\u001b[0m: \tweight_decay: 1.9059646712702553e-05\n",
      "Failed to detect the name of this notebook, you can set it manually with the WANDB_NOTEBOOK_NAME environment variable to enable code saving.\n",
      "/usr/lib/python3/dist-packages/requests/__init__.py:87: RequestsDependencyWarning: urllib3 (2.2.3) or chardet (4.0.0) doesn't match a supported version!\n",
      "  warnings.warn(\"urllib3 ({}) or chardet ({}) doesn't match a supported \"\n"
     ]
    },
    {
     "data": {
      "text/html": [
       "wandb version 0.19.3 is available!  To upgrade, please run:\n",
       " $ pip install wandb --upgrade"
      ],
      "text/plain": [
       "<IPython.core.display.HTML object>"
      ]
     },
     "metadata": {},
     "output_type": "display_data"
    },
    {
     "data": {
      "text/html": [
       "Tracking run with wandb version 0.16.4"
      ],
      "text/plain": [
       "<IPython.core.display.HTML object>"
      ]
     },
     "metadata": {},
     "output_type": "display_data"
    },
    {
     "data": {
      "text/html": [
       "Run data is saved locally in <code>/mnt/alphafold-volume-1/dylan2/repos/tb-pnca-gnn/dd_pnca/wandb/run-20250116_094241-r5gz530w</code>"
      ],
      "text/plain": [
       "<IPython.core.display.HTML object>"
      ]
     },
     "metadata": {},
     "output_type": "display_data"
    },
    {
     "data": {
      "text/html": [
       "Syncing run <strong><a href='https://wandb.ai/dylan-home/pnca-sweep-1/runs/r5gz530w' target=\"_blank\">usual-sweep-108</a></strong> to <a href='https://wandb.ai/dylan-home/pnca-sweep-1' target=\"_blank\">Weights & Biases</a> (<a href='https://wandb.me/run' target=\"_blank\">docs</a>)<br/>Sweep page: <a href='https://wandb.ai/dylan-home/pnca-sweep-1/sweeps/tr8mwg42' target=\"_blank\">https://wandb.ai/dylan-home/pnca-sweep-1/sweeps/tr8mwg42</a>"
      ],
      "text/plain": [
       "<IPython.core.display.HTML object>"
      ]
     },
     "metadata": {},
     "output_type": "display_data"
    },
    {
     "data": {
      "text/html": [
       " View project at <a href='https://wandb.ai/dylan-home/pnca-sweep-1' target=\"_blank\">https://wandb.ai/dylan-home/pnca-sweep-1</a>"
      ],
      "text/plain": [
       "<IPython.core.display.HTML object>"
      ]
     },
     "metadata": {},
     "output_type": "display_data"
    },
    {
     "data": {
      "text/html": [
       " View sweep at <a href='https://wandb.ai/dylan-home/pnca-sweep-1/sweeps/tr8mwg42' target=\"_blank\">https://wandb.ai/dylan-home/pnca-sweep-1/sweeps/tr8mwg42</a>"
      ],
      "text/plain": [
       "<IPython.core.display.HTML object>"
      ]
     },
     "metadata": {},
     "output_type": "display_data"
    },
    {
     "data": {
      "text/html": [
       " View run at <a href='https://wandb.ai/dylan-home/pnca-sweep-1/runs/r5gz530w' target=\"_blank\">https://wandb.ai/dylan-home/pnca-sweep-1/runs/r5gz530w</a>"
      ],
      "text/plain": [
       "<IPython.core.display.HTML object>"
      ]
     },
     "metadata": {},
     "output_type": "display_data"
    },
    {
     "name": "stdout",
     "output_type": "stream",
     "text": [
      "Using CUDA\n",
      "Early stopping enabled. Patience: 20. Min Delta: 0.\n",
      "Epoch: 010, Train Acc: 0.4209, Test Acc: 0.4307, Train Loss: 0.6928, Test Loss: 0.6913\n",
      "Epoch: 020, Train Acc: 0.5110, Test Acc: 0.5027, Train Loss: 0.6906, Test Loss: 0.6900\n",
      "Epoch: 030, Train Acc: 0.4803, Test Acc: 0.4697, Train Loss: 0.6904, Test Loss: 0.6887\n",
      "Epoch: 040, Train Acc: 0.4716, Test Acc: 0.4710, Train Loss: 0.6895, Test Loss: 0.6873\n",
      "Epoch: 050, Train Acc: 0.6037, Test Acc: 0.6157, Train Loss: 0.6897, Test Loss: 0.6864\n",
      "Epoch: 060, Train Acc: 0.5250, Test Acc: 0.5103, Train Loss: 0.6869, Test Loss: 0.6870\n",
      "Epoch: 070, Train Acc: 0.5187, Test Acc: 0.5083, Train Loss: 0.6851, Test Loss: 0.6843\n",
      "Epoch: 080, Train Acc: 0.5447, Test Acc: 0.5960, Train Loss: 0.6890, Test Loss: 0.6833\n",
      "Epoch: 090, Train Acc: 0.5236, Test Acc: 0.5103, Train Loss: 0.6830, Test Loss: 0.6829\n",
      "Epoch: 100, Train Acc: 0.6894, Test Acc: 0.6827, Train Loss: 0.6791, Test Loss: 0.6749\n",
      "Epoch: 110, Train Acc: 0.6010, Test Acc: 0.6360, Train Loss: 0.6770, Test Loss: 0.6722\n",
      "Epoch: 120, Train Acc: 0.4784, Test Acc: 0.4833, Train Loss: 0.6664, Test Loss: 0.6653\n",
      "Epoch: 130, Train Acc: 0.6793, Test Acc: 0.6763, Train Loss: 0.6627, Test Loss: 0.6596\n",
      "Epoch: 140, Train Acc: 0.4937, Test Acc: 0.4840, Train Loss: 0.6574, Test Loss: 0.6582\n",
      "Epoch: 150, Train Acc: 0.4913, Test Acc: 0.4737, Train Loss: 0.6512, Test Loss: 0.6525\n",
      "Epoch: 160, Train Acc: 0.6280, Test Acc: 0.6543, Train Loss: 0.6527, Test Loss: 0.6483\n",
      "Epoch: 170, Train Acc: 0.5161, Test Acc: 0.4940, Train Loss: 0.6531, Test Loss: 0.6590\n",
      "Epoch: 180, Train Acc: 0.7300, Test Acc: 0.7073, Train Loss: 0.6291, Test Loss: 0.6301\n",
      "Epoch: 190, Train Acc: 0.7356, Test Acc: 0.7133, Train Loss: 0.6188, Test Loss: 0.6184\n",
      "Epoch: 200, Train Acc: 0.6817, Test Acc: 0.6893, Train Loss: 0.6170, Test Loss: 0.6134\n",
      "Epoch: 210, Train Acc: 0.7443, Test Acc: 0.7133, Train Loss: 0.6067, Test Loss: 0.6114\n",
      "Epoch: 220, Train Acc: 0.6869, Test Acc: 0.6893, Train Loss: 0.6029, Test Loss: 0.6002\n",
      "Epoch: 230, Train Acc: 0.7477, Test Acc: 0.7123, Train Loss: 0.5855, Test Loss: 0.5882\n",
      "Epoch: 240, Train Acc: 0.7601, Test Acc: 0.7207, Train Loss: 0.5775, Test Loss: 0.5818\n",
      "Epoch: 250, Train Acc: 0.7314, Test Acc: 0.7027, Train Loss: 0.5671, Test Loss: 0.5726\n",
      "Epoch: 260, Train Acc: 0.7627, Test Acc: 0.7223, Train Loss: 0.5740, Test Loss: 0.5871\n",
      "Epoch: 270, Train Acc: 0.5324, Test Acc: 0.4907, Train Loss: 0.5990, Test Loss: 0.6182\n",
      "Epoch: 280, Train Acc: 0.7449, Test Acc: 0.7113, Train Loss: 0.5444, Test Loss: 0.5541\n",
      "Epoch: 290, Train Acc: 0.7407, Test Acc: 0.7217, Train Loss: 0.5394, Test Loss: 0.5500\n",
      "Epoch: 300, Train Acc: 0.7837, Test Acc: 0.7433, Train Loss: 0.5406, Test Loss: 0.5577\n",
      "Epoch: 310, Train Acc: 0.7571, Test Acc: 0.7233, Train Loss: 0.5229, Test Loss: 0.5387\n",
      "Epoch: 320, Train Acc: 0.7807, Test Acc: 0.7470, Train Loss: 0.5391, Test Loss: 0.5609\n",
      "Epoch: 330, Train Acc: 0.5319, Test Acc: 0.5053, Train Loss: 0.6249, Test Loss: 0.6599\n",
      "Epoch: 340, Train Acc: 0.7774, Test Acc: 0.7290, Train Loss: 0.5105, Test Loss: 0.5314\n",
      "Epoch: 350, Train Acc: 0.7283, Test Acc: 0.7203, Train Loss: 0.5224, Test Loss: 0.5384\n",
      "Epoch: 360, Train Acc: 0.7601, Test Acc: 0.7430, Train Loss: 0.4976, Test Loss: 0.5187\n",
      "Epoch: 370, Train Acc: 0.7914, Test Acc: 0.7433, Train Loss: 0.5223, Test Loss: 0.5530\n",
      "Epoch: 380, Train Acc: 0.7986, Test Acc: 0.7487, Train Loss: 0.5050, Test Loss: 0.5385\n",
      "Epoch: 390, Train Acc: 0.7319, Test Acc: 0.7233, Train Loss: 0.5129, Test Loss: 0.5349\n",
      "Epoch: 400, Train Acc: 0.7921, Test Acc: 0.7460, Train Loss: 0.4868, Test Loss: 0.5224\n",
      "Epoch: 410, Train Acc: 0.7573, Test Acc: 0.7393, Train Loss: 0.4849, Test Loss: 0.5145\n",
      "Epoch: 420, Train Acc: 0.7851, Test Acc: 0.7450, Train Loss: 0.4673, Test Loss: 0.5031\n",
      "Epoch: 430, Train Acc: 0.7976, Test Acc: 0.7470, Train Loss: 0.4759, Test Loss: 0.5195\n",
      "Epoch: 440, Train Acc: 0.7459, Test Acc: 0.7357, Train Loss: 0.4905, Test Loss: 0.5190\n",
      "Epoch: 450, Train Acc: 0.7969, Test Acc: 0.7490, Train Loss: 0.4594, Test Loss: 0.4984\n",
      "Epoch: 460, Train Acc: 0.8013, Test Acc: 0.7483, Train Loss: 0.4591, Test Loss: 0.5083\n",
      "Epoch: 470, Train Acc: 0.8046, Test Acc: 0.7467, Train Loss: 0.4558, Test Loss: 0.5056\n",
      "Epoch: 480, Train Acc: 0.8037, Test Acc: 0.7507, Train Loss: 0.4574, Test Loss: 0.5068\n",
      "Epoch: 490, Train Acc: 0.7620, Test Acc: 0.7087, Train Loss: 0.5407, Test Loss: 0.6027\n",
      "Epoch: 500, Train Acc: 0.7779, Test Acc: 0.7520, Train Loss: 0.4495, Test Loss: 0.4970\n"
     ]
    },
    {
     "data": {
      "text/html": [
       "<style>\n",
       "    table.wandb td:nth-child(1) { padding: 0 10px; text-align: left ; width: auto;} td:nth-child(2) {text-align: left ; width: 100%}\n",
       "    .wandb-row { display: flex; flex-direction: row; flex-wrap: wrap; justify-content: flex-start; width: 100% }\n",
       "    .wandb-col { display: flex; flex-direction: column; flex-basis: 100%; flex: 1; padding: 10px; }\n",
       "    </style>\n",
       "<div class=\"wandb-row\"><div class=\"wandb-col\"><h3>Run history:</h3><br/><table class=\"wandb\"><tr><td>Test Accuracy</td><td>▁▅▂▁▂▂▄▂▂▁▆▁▁▁▇▇▁▆▇▆▇▇▇▇██▇▇████████████</td></tr><tr><td>Test F1</td><td>▆▅▆▅▆▆▁▆▆▆▆▆▅▆▇▇▆▅▆▄▇▆▇▇██▅▇▇█▇█▇▇█▇███▇</td></tr><tr><td>Test Loss</td><td>████████▇▇▇▇▆▇▆▅▆▅▄▅▄▄▃▃▃▃▄▂▂▃▂▂▂▁▂▂▂▁▁▁</td></tr><tr><td>Test Sensitivity</td><td>▇▃█▇██▁██▇▅▇▆▇▆▅▇▃▅▃▆▄▄▆▆▆▃▄▅▆▅▆▅▅▆▄▆▆▆▅</td></tr><tr><td>Test Specificity</td><td>▁▇▁▂▁▁█▁▁▁▇▁▂▁▆▆▁▇▇█▆▇▇▆▆▆█▇▇▆▇▆▇▇▆▇▆▆▇▇</td></tr><tr><td>Train Accuracy</td><td>▁▄▂▁▂▂▃▂▂▁▆▁▂▂▆▇▂▆▇▅▇▆▇▇█▇▆▇▇█▇████▇████</td></tr><tr><td>Train F1</td><td>▆▄▆▆▆▆▁▆▆▆▆▆▆▆▇▇▆▅▇▄▇▆▇▇██▅▇▇█▇████▇████</td></tr><tr><td>Train Loss</td><td>█████████▇▇▇▇▇▆▆▆▅▅▆▅▄▄▄▄▄▄▃▃▃▂▂▂▂▂▂▁▁▁▁</td></tr><tr><td>Train Sensitivity</td><td>▇▃█▇██▁██▇▅▇▆▇▆▅█▄▅▃▆▄▅▆▆▇▄▅▅▇▅▆▆▆▇▅▆▆▆▆</td></tr><tr><td>Train Specificity</td><td>▁▇▁▂▁▁█▁▁▁▇▂▂▁▆▇▁█▇█▇█▇▇▆▆█▇▇▆▇▇▇▇▆█▇▇▇▇</td></tr></table><br/></div><div class=\"wandb-col\"><h3>Run summary:</h3><br/><table class=\"wandb\"><tr><td>Test Accuracy</td><td>0.752</td></tr><tr><td>Test F1</td><td>0.72424</td></tr><tr><td>Test Loss</td><td>0.49704</td></tr><tr><td>Test Sensitivity</td><td>0.63731</td></tr><tr><td>Test Specificity</td><td>0.87185</td></tr><tr><td>Train Accuracy</td><td>0.77786</td></tr><tr><td>Train F1</td><td>0.75684</td></tr><tr><td>Train Loss</td><td>0.44952</td></tr><tr><td>Train Sensitivity</td><td>0.65672</td></tr><tr><td>Train Specificity</td><td>0.91252</td></tr></table><br/></div></div>"
      ],
      "text/plain": [
       "<IPython.core.display.HTML object>"
      ]
     },
     "metadata": {},
     "output_type": "display_data"
    },
    {
     "data": {
      "text/html": [
       " View run <strong style=\"color:#cdcd00\">usual-sweep-108</strong> at: <a href='https://wandb.ai/dylan-home/pnca-sweep-1/runs/r5gz530w' target=\"_blank\">https://wandb.ai/dylan-home/pnca-sweep-1/runs/r5gz530w</a><br/>Synced 5 W&B file(s), 0 media file(s), 0 artifact file(s) and 0 other file(s)"
      ],
      "text/plain": [
       "<IPython.core.display.HTML object>"
      ]
     },
     "metadata": {},
     "output_type": "display_data"
    },
    {
     "data": {
      "text/html": [
       "Find logs at: <code>./wandb/run-20250116_094241-r5gz530w/logs</code>"
      ],
      "text/plain": [
       "<IPython.core.display.HTML object>"
      ]
     },
     "metadata": {},
     "output_type": "display_data"
    },
    {
     "name": "stderr",
     "output_type": "stream",
     "text": [
      "\u001b[34m\u001b[1mwandb\u001b[0m: Agent Starting Run: 7qh0yst2 with config:\n",
      "\u001b[34m\u001b[1mwandb\u001b[0m: \tcutoff_distance: 5.293345292908896\n",
      "\u001b[34m\u001b[1mwandb\u001b[0m: \tdropout: 0.2\n",
      "\u001b[34m\u001b[1mwandb\u001b[0m: \thidden_channels: 192\n",
      "\u001b[34m\u001b[1mwandb\u001b[0m: \tlearning_rate: 0.0023132220795701\n",
      "\u001b[34m\u001b[1mwandb\u001b[0m: \tweight_decay: 1.3111523885543936e-05\n",
      "Failed to detect the name of this notebook, you can set it manually with the WANDB_NOTEBOOK_NAME environment variable to enable code saving.\n",
      "/usr/lib/python3/dist-packages/requests/__init__.py:87: RequestsDependencyWarning: urllib3 (2.2.3) or chardet (4.0.0) doesn't match a supported version!\n",
      "  warnings.warn(\"urllib3 ({}) or chardet ({}) doesn't match a supported \"\n"
     ]
    },
    {
     "data": {
      "text/html": [
       "wandb version 0.19.3 is available!  To upgrade, please run:\n",
       " $ pip install wandb --upgrade"
      ],
      "text/plain": [
       "<IPython.core.display.HTML object>"
      ]
     },
     "metadata": {},
     "output_type": "display_data"
    },
    {
     "data": {
      "text/html": [
       "Tracking run with wandb version 0.16.4"
      ],
      "text/plain": [
       "<IPython.core.display.HTML object>"
      ]
     },
     "metadata": {},
     "output_type": "display_data"
    },
    {
     "data": {
      "text/html": [
       "Run data is saved locally in <code>/mnt/alphafold-volume-1/dylan2/repos/tb-pnca-gnn/dd_pnca/wandb/run-20250116_095711-7qh0yst2</code>"
      ],
      "text/plain": [
       "<IPython.core.display.HTML object>"
      ]
     },
     "metadata": {},
     "output_type": "display_data"
    },
    {
     "data": {
      "text/html": [
       "Syncing run <strong><a href='https://wandb.ai/dylan-home/pnca-sweep-1/runs/7qh0yst2' target=\"_blank\">driven-sweep-109</a></strong> to <a href='https://wandb.ai/dylan-home/pnca-sweep-1' target=\"_blank\">Weights & Biases</a> (<a href='https://wandb.me/run' target=\"_blank\">docs</a>)<br/>Sweep page: <a href='https://wandb.ai/dylan-home/pnca-sweep-1/sweeps/tr8mwg42' target=\"_blank\">https://wandb.ai/dylan-home/pnca-sweep-1/sweeps/tr8mwg42</a>"
      ],
      "text/plain": [
       "<IPython.core.display.HTML object>"
      ]
     },
     "metadata": {},
     "output_type": "display_data"
    },
    {
     "data": {
      "text/html": [
       " View project at <a href='https://wandb.ai/dylan-home/pnca-sweep-1' target=\"_blank\">https://wandb.ai/dylan-home/pnca-sweep-1</a>"
      ],
      "text/plain": [
       "<IPython.core.display.HTML object>"
      ]
     },
     "metadata": {},
     "output_type": "display_data"
    },
    {
     "data": {
      "text/html": [
       " View sweep at <a href='https://wandb.ai/dylan-home/pnca-sweep-1/sweeps/tr8mwg42' target=\"_blank\">https://wandb.ai/dylan-home/pnca-sweep-1/sweeps/tr8mwg42</a>"
      ],
      "text/plain": [
       "<IPython.core.display.HTML object>"
      ]
     },
     "metadata": {},
     "output_type": "display_data"
    },
    {
     "data": {
      "text/html": [
       " View run at <a href='https://wandb.ai/dylan-home/pnca-sweep-1/runs/7qh0yst2' target=\"_blank\">https://wandb.ai/dylan-home/pnca-sweep-1/runs/7qh0yst2</a>"
      ],
      "text/plain": [
       "<IPython.core.display.HTML object>"
      ]
     },
     "metadata": {},
     "output_type": "display_data"
    },
    {
     "name": "stdout",
     "output_type": "stream",
     "text": [
      "Using CUDA\n",
      "Early stopping enabled. Patience: 20. Min Delta: 0.\n",
      "Epoch: 010, Train Acc: 0.5264, Test Acc: 0.5110, Train Loss: 0.6921, Test Loss: 0.6932\n",
      "Epoch: 020, Train Acc: 0.5264, Test Acc: 0.5110, Train Loss: 0.6918, Test Loss: 0.6930\n",
      "20 epochs passed without 0 test loss improvement. \n",
      "Early stopping triggered.\n"
     ]
    },
    {
     "data": {
      "text/html": [
       "<style>\n",
       "    table.wandb td:nth-child(1) { padding: 0 10px; text-align: left ; width: auto;} td:nth-child(2) {text-align: left ; width: 100%}\n",
       "    .wandb-row { display: flex; flex-direction: row; flex-wrap: wrap; justify-content: flex-start; width: 100% }\n",
       "    .wandb-col { display: flex; flex-direction: column; flex-basis: 100%; flex: 1; padding: 10px; }\n",
       "    </style>\n",
       "<div class=\"wandb-row\"><div class=\"wandb-col\"><h3>Run history:</h3><br/><table class=\"wandb\"><tr><td>Test Accuracy</td><td>▁█████████████████████</td></tr><tr><td>Test F1</td><td>▁█████████████████████</td></tr><tr><td>Test Loss</td><td>█▁▃▃▃▃▄▄▃▃▄▃▂▃▂▄▂▃▃▂▃▃</td></tr><tr><td>Test Sensitivity</td><td>▁█████████████████████</td></tr><tr><td>Test Specificity</td><td>█▁▁▁▁▁▁▁▁▁▁▁▁▁▁▁▁▁▁▁▁▁</td></tr><tr><td>Train Accuracy</td><td>▁█████████████████████</td></tr><tr><td>Train F1</td><td>▁█████████████████████</td></tr><tr><td>Train Loss</td><td>█▂▁▁▁▁▁▁▁▂▁▂▁▁▂▁▁▂▁▁▁▁</td></tr><tr><td>Train Sensitivity</td><td>▁█████████████████████</td></tr><tr><td>Train Specificity</td><td>█▁▁▁▁▁▁▁▁▁▁▁▁▁▁▁▁▁▁▁▁▁</td></tr></table><br/></div><div class=\"wandb-col\"><h3>Run summary:</h3><br/><table class=\"wandb\"><tr><td>Test Accuracy</td><td>0.511</td></tr><tr><td>Test F1</td><td>0.67637</td></tr><tr><td>Test Loss</td><td>0.69324</td></tr><tr><td>Test Sensitivity</td><td>1.0</td></tr><tr><td>Test Specificity</td><td>0.0</td></tr><tr><td>Train Accuracy</td><td>0.52643</td></tr><tr><td>Train F1</td><td>0.68975</td></tr><tr><td>Train Loss</td><td>0.69173</td></tr><tr><td>Train Sensitivity</td><td>1.0</td></tr><tr><td>Train Specificity</td><td>0.0</td></tr></table><br/></div></div>"
      ],
      "text/plain": [
       "<IPython.core.display.HTML object>"
      ]
     },
     "metadata": {},
     "output_type": "display_data"
    },
    {
     "data": {
      "text/html": [
       " View run <strong style=\"color:#cdcd00\">driven-sweep-109</strong> at: <a href='https://wandb.ai/dylan-home/pnca-sweep-1/runs/7qh0yst2' target=\"_blank\">https://wandb.ai/dylan-home/pnca-sweep-1/runs/7qh0yst2</a><br/>Synced 5 W&B file(s), 0 media file(s), 0 artifact file(s) and 0 other file(s)"
      ],
      "text/plain": [
       "<IPython.core.display.HTML object>"
      ]
     },
     "metadata": {},
     "output_type": "display_data"
    },
    {
     "data": {
      "text/html": [
       "Find logs at: <code>./wandb/run-20250116_095711-7qh0yst2/logs</code>"
      ],
      "text/plain": [
       "<IPython.core.display.HTML object>"
      ]
     },
     "metadata": {},
     "output_type": "display_data"
    },
    {
     "name": "stderr",
     "output_type": "stream",
     "text": [
      "\u001b[34m\u001b[1mwandb\u001b[0m: Agent Starting Run: 8ucanvo8 with config:\n",
      "\u001b[34m\u001b[1mwandb\u001b[0m: \tcutoff_distance: 8.182464654815643\n",
      "\u001b[34m\u001b[1mwandb\u001b[0m: \tdropout: 0.5\n",
      "\u001b[34m\u001b[1mwandb\u001b[0m: \thidden_channels: 256\n",
      "\u001b[34m\u001b[1mwandb\u001b[0m: \tlearning_rate: 0.0004653683597676076\n",
      "\u001b[34m\u001b[1mwandb\u001b[0m: \tweight_decay: 0.00034717414502426257\n",
      "Failed to detect the name of this notebook, you can set it manually with the WANDB_NOTEBOOK_NAME environment variable to enable code saving.\n",
      "/usr/lib/python3/dist-packages/requests/__init__.py:87: RequestsDependencyWarning: urllib3 (2.2.3) or chardet (4.0.0) doesn't match a supported version!\n",
      "  warnings.warn(\"urllib3 ({}) or chardet ({}) doesn't match a supported \"\n"
     ]
    },
    {
     "data": {
      "text/html": [
       "wandb version 0.19.3 is available!  To upgrade, please run:\n",
       " $ pip install wandb --upgrade"
      ],
      "text/plain": [
       "<IPython.core.display.HTML object>"
      ]
     },
     "metadata": {},
     "output_type": "display_data"
    },
    {
     "data": {
      "text/html": [
       "Tracking run with wandb version 0.16.4"
      ],
      "text/plain": [
       "<IPython.core.display.HTML object>"
      ]
     },
     "metadata": {},
     "output_type": "display_data"
    },
    {
     "data": {
      "text/html": [
       "Run data is saved locally in <code>/mnt/alphafold-volume-1/dylan2/repos/tb-pnca-gnn/dd_pnca/wandb/run-20250116_095802-8ucanvo8</code>"
      ],
      "text/plain": [
       "<IPython.core.display.HTML object>"
      ]
     },
     "metadata": {},
     "output_type": "display_data"
    },
    {
     "data": {
      "text/html": [
       "Syncing run <strong><a href='https://wandb.ai/dylan-home/pnca-sweep-1/runs/8ucanvo8' target=\"_blank\">proud-sweep-110</a></strong> to <a href='https://wandb.ai/dylan-home/pnca-sweep-1' target=\"_blank\">Weights & Biases</a> (<a href='https://wandb.me/run' target=\"_blank\">docs</a>)<br/>Sweep page: <a href='https://wandb.ai/dylan-home/pnca-sweep-1/sweeps/tr8mwg42' target=\"_blank\">https://wandb.ai/dylan-home/pnca-sweep-1/sweeps/tr8mwg42</a>"
      ],
      "text/plain": [
       "<IPython.core.display.HTML object>"
      ]
     },
     "metadata": {},
     "output_type": "display_data"
    },
    {
     "data": {
      "text/html": [
       " View project at <a href='https://wandb.ai/dylan-home/pnca-sweep-1' target=\"_blank\">https://wandb.ai/dylan-home/pnca-sweep-1</a>"
      ],
      "text/plain": [
       "<IPython.core.display.HTML object>"
      ]
     },
     "metadata": {},
     "output_type": "display_data"
    },
    {
     "data": {
      "text/html": [
       " View sweep at <a href='https://wandb.ai/dylan-home/pnca-sweep-1/sweeps/tr8mwg42' target=\"_blank\">https://wandb.ai/dylan-home/pnca-sweep-1/sweeps/tr8mwg42</a>"
      ],
      "text/plain": [
       "<IPython.core.display.HTML object>"
      ]
     },
     "metadata": {},
     "output_type": "display_data"
    },
    {
     "data": {
      "text/html": [
       " View run at <a href='https://wandb.ai/dylan-home/pnca-sweep-1/runs/8ucanvo8' target=\"_blank\">https://wandb.ai/dylan-home/pnca-sweep-1/runs/8ucanvo8</a>"
      ],
      "text/plain": [
       "<IPython.core.display.HTML object>"
      ]
     },
     "metadata": {},
     "output_type": "display_data"
    },
    {
     "name": "stdout",
     "output_type": "stream",
     "text": [
      "Using CUDA\n",
      "Early stopping enabled. Patience: 20. Min Delta: 0.\n",
      "Epoch: 010, Train Acc: 0.5264, Test Acc: 0.5110, Train Loss: 0.6914, Test Loss: 0.6930\n",
      "Epoch: 020, Train Acc: 0.5264, Test Acc: 0.5110, Train Loss: 0.6910, Test Loss: 0.6913\n",
      "20 epochs passed without 0 test loss improvement. \n",
      "Early stopping triggered.\n"
     ]
    },
    {
     "data": {
      "text/html": [
       "<style>\n",
       "    table.wandb td:nth-child(1) { padding: 0 10px; text-align: left ; width: auto;} td:nth-child(2) {text-align: left ; width: 100%}\n",
       "    .wandb-row { display: flex; flex-direction: row; flex-wrap: wrap; justify-content: flex-start; width: 100% }\n",
       "    .wandb-col { display: flex; flex-direction: column; flex-basis: 100%; flex: 1; padding: 10px; }\n",
       "    </style>\n",
       "<div class=\"wandb-row\"><div class=\"wandb-col\"><h3>Run history:</h3><br/><table class=\"wandb\"><tr><td>Test Accuracy</td><td>▁▂▂▂▁▂▂▂▂▂█▂▂▂▂▂▂▂▂▂▂▂▂▂▂</td></tr><tr><td>Test F1</td><td>▁█████████▅██████████████</td></tr><tr><td>Test Loss</td><td>▃▄█▁▁▂▂▂▁▂▁▂▁▂▂▁▂▁▁▁▁▁▁▁▁</td></tr><tr><td>Test Sensitivity</td><td>▁█████████▃██████████████</td></tr><tr><td>Test Specificity</td><td>█▁▁▁▁▁▁▁▁▁█▁▁▁▁▁▁▁▁▁▁▁▁▁▁</td></tr><tr><td>Train Accuracy</td><td>▁▅▅▄▄▅▅▅▅▅█▅▅▅▅▅▅▅▄▅▅▅▅▅▅</td></tr><tr><td>Train F1</td><td>▁█████████▄██████████████</td></tr><tr><td>Train Loss</td><td>▆▄█▂▂▁▂▁▂▂▂▂▁▁▁▁▁▁▂▁▁▁▁▁▁</td></tr><tr><td>Train Sensitivity</td><td>▁█████████▂██████████████</td></tr><tr><td>Train Specificity</td><td>█▁▁▁▁▁▁▁▁▁█▁▁▁▁▁▁▁▁▁▁▁▁▁▁</td></tr></table><br/></div><div class=\"wandb-col\"><h3>Run summary:</h3><br/><table class=\"wandb\"><tr><td>Test Accuracy</td><td>0.511</td></tr><tr><td>Test F1</td><td>0.67637</td></tr><tr><td>Test Loss</td><td>0.6918</td></tr><tr><td>Test Sensitivity</td><td>1.0</td></tr><tr><td>Test Specificity</td><td>0.0</td></tr><tr><td>Train Accuracy</td><td>0.52643</td></tr><tr><td>Train F1</td><td>0.68975</td></tr><tr><td>Train Loss</td><td>0.69058</td></tr><tr><td>Train Sensitivity</td><td>1.0</td></tr><tr><td>Train Specificity</td><td>0.0</td></tr></table><br/></div></div>"
      ],
      "text/plain": [
       "<IPython.core.display.HTML object>"
      ]
     },
     "metadata": {},
     "output_type": "display_data"
    },
    {
     "data": {
      "text/html": [
       " View run <strong style=\"color:#cdcd00\">proud-sweep-110</strong> at: <a href='https://wandb.ai/dylan-home/pnca-sweep-1/runs/8ucanvo8' target=\"_blank\">https://wandb.ai/dylan-home/pnca-sweep-1/runs/8ucanvo8</a><br/>Synced 5 W&B file(s), 0 media file(s), 0 artifact file(s) and 0 other file(s)"
      ],
      "text/plain": [
       "<IPython.core.display.HTML object>"
      ]
     },
     "metadata": {},
     "output_type": "display_data"
    },
    {
     "data": {
      "text/html": [
       "Find logs at: <code>./wandb/run-20250116_095802-8ucanvo8/logs</code>"
      ],
      "text/plain": [
       "<IPython.core.display.HTML object>"
      ]
     },
     "metadata": {},
     "output_type": "display_data"
    },
    {
     "name": "stderr",
     "output_type": "stream",
     "text": [
      "\u001b[34m\u001b[1mwandb\u001b[0m: Agent Starting Run: s0uwutjt with config:\n",
      "\u001b[34m\u001b[1mwandb\u001b[0m: \tcutoff_distance: 4.907781220367518\n",
      "\u001b[34m\u001b[1mwandb\u001b[0m: \tdropout: 0.2\n",
      "\u001b[34m\u001b[1mwandb\u001b[0m: \thidden_channels: 128\n",
      "\u001b[34m\u001b[1mwandb\u001b[0m: \tlearning_rate: 0.005154436174204434\n",
      "\u001b[34m\u001b[1mwandb\u001b[0m: \tweight_decay: 1.681425870548816e-05\n",
      "Failed to detect the name of this notebook, you can set it manually with the WANDB_NOTEBOOK_NAME environment variable to enable code saving.\n",
      "/usr/lib/python3/dist-packages/requests/__init__.py:87: RequestsDependencyWarning: urllib3 (2.2.3) or chardet (4.0.0) doesn't match a supported version!\n",
      "  warnings.warn(\"urllib3 ({}) or chardet ({}) doesn't match a supported \"\n"
     ]
    },
    {
     "data": {
      "text/html": [
       "wandb version 0.19.3 is available!  To upgrade, please run:\n",
       " $ pip install wandb --upgrade"
      ],
      "text/plain": [
       "<IPython.core.display.HTML object>"
      ]
     },
     "metadata": {},
     "output_type": "display_data"
    },
    {
     "data": {
      "text/html": [
       "Tracking run with wandb version 0.16.4"
      ],
      "text/plain": [
       "<IPython.core.display.HTML object>"
      ]
     },
     "metadata": {},
     "output_type": "display_data"
    },
    {
     "data": {
      "text/html": [
       "Run data is saved locally in <code>/mnt/alphafold-volume-1/dylan2/repos/tb-pnca-gnn/dd_pnca/wandb/run-20250116_095904-s0uwutjt</code>"
      ],
      "text/plain": [
       "<IPython.core.display.HTML object>"
      ]
     },
     "metadata": {},
     "output_type": "display_data"
    },
    {
     "data": {
      "text/html": [
       "Syncing run <strong><a href='https://wandb.ai/dylan-home/pnca-sweep-1/runs/s0uwutjt' target=\"_blank\">easy-sweep-111</a></strong> to <a href='https://wandb.ai/dylan-home/pnca-sweep-1' target=\"_blank\">Weights & Biases</a> (<a href='https://wandb.me/run' target=\"_blank\">docs</a>)<br/>Sweep page: <a href='https://wandb.ai/dylan-home/pnca-sweep-1/sweeps/tr8mwg42' target=\"_blank\">https://wandb.ai/dylan-home/pnca-sweep-1/sweeps/tr8mwg42</a>"
      ],
      "text/plain": [
       "<IPython.core.display.HTML object>"
      ]
     },
     "metadata": {},
     "output_type": "display_data"
    },
    {
     "data": {
      "text/html": [
       " View project at <a href='https://wandb.ai/dylan-home/pnca-sweep-1' target=\"_blank\">https://wandb.ai/dylan-home/pnca-sweep-1</a>"
      ],
      "text/plain": [
       "<IPython.core.display.HTML object>"
      ]
     },
     "metadata": {},
     "output_type": "display_data"
    },
    {
     "data": {
      "text/html": [
       " View sweep at <a href='https://wandb.ai/dylan-home/pnca-sweep-1/sweeps/tr8mwg42' target=\"_blank\">https://wandb.ai/dylan-home/pnca-sweep-1/sweeps/tr8mwg42</a>"
      ],
      "text/plain": [
       "<IPython.core.display.HTML object>"
      ]
     },
     "metadata": {},
     "output_type": "display_data"
    },
    {
     "data": {
      "text/html": [
       " View run at <a href='https://wandb.ai/dylan-home/pnca-sweep-1/runs/s0uwutjt' target=\"_blank\">https://wandb.ai/dylan-home/pnca-sweep-1/runs/s0uwutjt</a>"
      ],
      "text/plain": [
       "<IPython.core.display.HTML object>"
      ]
     },
     "metadata": {},
     "output_type": "display_data"
    },
    {
     "name": "stdout",
     "output_type": "stream",
     "text": [
      "Using CUDA\n",
      "Early stopping enabled. Patience: 20. Min Delta: 0.\n",
      "Epoch: 010, Train Acc: 0.5264, Test Acc: 0.5110, Train Loss: 0.6918, Test Loss: 0.6933\n",
      "Epoch: 020, Train Acc: 0.5264, Test Acc: 0.5110, Train Loss: 0.6918, Test Loss: 0.6933\n",
      "Epoch: 030, Train Acc: 0.5264, Test Acc: 0.5110, Train Loss: 0.6920, Test Loss: 0.6930\n",
      "Epoch: 040, Train Acc: 0.5264, Test Acc: 0.5110, Train Loss: 0.6923, Test Loss: 0.6929\n",
      "Epoch: 050, Train Acc: 0.5264, Test Acc: 0.5110, Train Loss: 0.6920, Test Loss: 0.6930\n",
      "Epoch: 060, Train Acc: 0.5264, Test Acc: 0.5110, Train Loss: 0.6916, Test Loss: 0.6935\n",
      "20 epochs passed without 0 test loss improvement. \n",
      "Early stopping triggered.\n"
     ]
    },
    {
     "data": {
      "text/html": [
       "<style>\n",
       "    table.wandb td:nth-child(1) { padding: 0 10px; text-align: left ; width: auto;} td:nth-child(2) {text-align: left ; width: 100%}\n",
       "    .wandb-row { display: flex; flex-direction: row; flex-wrap: wrap; justify-content: flex-start; width: 100% }\n",
       "    .wandb-col { display: flex; flex-direction: column; flex-basis: 100%; flex: 1; padding: 10px; }\n",
       "    </style>\n",
       "<div class=\"wandb-row\"><div class=\"wandb-col\"><h3>Run history:</h3><br/><table class=\"wandb\"><tr><td>Test Accuracy</td><td>▁▁▁▁▁▁▁▁▁▁▁▁▁▁▁▁▁▁▁▁▁▁▁▁▁▁▁▁▁▁▁▁▁▁▁▁▁▁▁▁</td></tr><tr><td>Test F1</td><td>▁▁▁▁▁▁▁▁▁▁▁▁▁▁▁▁▁▁▁▁▁▁▁▁▁▁▁▁▁▁▁▁▁▁▁▁▁▁▁▁</td></tr><tr><td>Test Loss</td><td>▂▃▅▂▆▂▄▃▄▂▂▄▃▃▅█▇▃▅▂▇▆▁▂▃▂▁▄▁▆▄▃▃▂▅▁▂▃▄▅</td></tr><tr><td>Test Sensitivity</td><td>▁▁▁▁▁▁▁▁▁▁▁▁▁▁▁▁▁▁▁▁▁▁▁▁▁▁▁▁▁▁▁▁▁▁▁▁▁▁▁▁</td></tr><tr><td>Test Specificity</td><td>▁▁▁▁▁▁▁▁▁▁▁▁▁▁▁▁▁▁▁▁▁▁▁▁▁▁▁▁▁▁▁▁▁▁▁▁▁▁▁▁</td></tr><tr><td>Train Accuracy</td><td>▁▁▁▁▁▁▁▁▁▁▁▁▁▁▁▁▁▁▁▁▁▁▁▁▁▁▁▁▁▁▁▁▁▁▁▁▁▁▁▁</td></tr><tr><td>Train F1</td><td>▁▁▁▁▁▁▁▁▁▁▁▁▁▁▁▁▁▁▁▁▁▁▁▁▁▁▁▁▁▁▁▁▁▁▁▁▁▁▁▁</td></tr><tr><td>Train Loss</td><td>▄▅▅▃▃▃▄▅▄▃▃▂▄▄▅▅▇▃▅▄▁▅▆▄▅▅█▄▇▄▄▃▃▅▅▅▅▄▄▂</td></tr><tr><td>Train Sensitivity</td><td>▁▁▁▁▁▁▁▁▁▁▁▁▁▁▁▁▁▁▁▁▁▁▁▁▁▁▁▁▁▁▁▁▁▁▁▁▁▁▁▁</td></tr><tr><td>Train Specificity</td><td>▁▁▁▁▁▁▁▁▁▁▁▁▁▁▁▁▁▁▁▁▁▁▁▁▁▁▁▁▁▁▁▁▁▁▁▁▁▁▁▁</td></tr></table><br/></div><div class=\"wandb-col\"><h3>Run summary:</h3><br/><table class=\"wandb\"><tr><td>Test Accuracy</td><td>0.511</td></tr><tr><td>Test F1</td><td>0.67637</td></tr><tr><td>Test Loss</td><td>0.69353</td></tr><tr><td>Test Sensitivity</td><td>1.0</td></tr><tr><td>Test Specificity</td><td>0.0</td></tr><tr><td>Train Accuracy</td><td>0.52643</td></tr><tr><td>Train F1</td><td>0.68975</td></tr><tr><td>Train Loss</td><td>0.69156</td></tr><tr><td>Train Sensitivity</td><td>1.0</td></tr><tr><td>Train Specificity</td><td>0.0</td></tr></table><br/></div></div>"
      ],
      "text/plain": [
       "<IPython.core.display.HTML object>"
      ]
     },
     "metadata": {},
     "output_type": "display_data"
    },
    {
     "data": {
      "text/html": [
       " View run <strong style=\"color:#cdcd00\">easy-sweep-111</strong> at: <a href='https://wandb.ai/dylan-home/pnca-sweep-1/runs/s0uwutjt' target=\"_blank\">https://wandb.ai/dylan-home/pnca-sweep-1/runs/s0uwutjt</a><br/>Synced 5 W&B file(s), 0 media file(s), 0 artifact file(s) and 0 other file(s)"
      ],
      "text/plain": [
       "<IPython.core.display.HTML object>"
      ]
     },
     "metadata": {},
     "output_type": "display_data"
    },
    {
     "data": {
      "text/html": [
       "Find logs at: <code>./wandb/run-20250116_095904-s0uwutjt/logs</code>"
      ],
      "text/plain": [
       "<IPython.core.display.HTML object>"
      ]
     },
     "metadata": {},
     "output_type": "display_data"
    },
    {
     "name": "stderr",
     "output_type": "stream",
     "text": [
      "\u001b[34m\u001b[1mwandb\u001b[0m: Agent Starting Run: sv5fpykc with config:\n",
      "\u001b[34m\u001b[1mwandb\u001b[0m: \tcutoff_distance: 6.884253817876914\n",
      "\u001b[34m\u001b[1mwandb\u001b[0m: \tdropout: 0.6\n",
      "\u001b[34m\u001b[1mwandb\u001b[0m: \thidden_channels: 192\n",
      "\u001b[34m\u001b[1mwandb\u001b[0m: \tlearning_rate: 0.0003282163786724674\n",
      "\u001b[34m\u001b[1mwandb\u001b[0m: \tweight_decay: 1.215187019975012e-06\n",
      "Failed to detect the name of this notebook, you can set it manually with the WANDB_NOTEBOOK_NAME environment variable to enable code saving.\n",
      "/usr/lib/python3/dist-packages/requests/__init__.py:87: RequestsDependencyWarning: urllib3 (2.2.3) or chardet (4.0.0) doesn't match a supported version!\n",
      "  warnings.warn(\"urllib3 ({}) or chardet ({}) doesn't match a supported \"\n"
     ]
    },
    {
     "data": {
      "text/html": [
       "wandb version 0.19.3 is available!  To upgrade, please run:\n",
       " $ pip install wandb --upgrade"
      ],
      "text/plain": [
       "<IPython.core.display.HTML object>"
      ]
     },
     "metadata": {},
     "output_type": "display_data"
    },
    {
     "data": {
      "text/html": [
       "Tracking run with wandb version 0.16.4"
      ],
      "text/plain": [
       "<IPython.core.display.HTML object>"
      ]
     },
     "metadata": {},
     "output_type": "display_data"
    },
    {
     "data": {
      "text/html": [
       "Run data is saved locally in <code>/mnt/alphafold-volume-1/dylan2/repos/tb-pnca-gnn/dd_pnca/wandb/run-20250116_100102-sv5fpykc</code>"
      ],
      "text/plain": [
       "<IPython.core.display.HTML object>"
      ]
     },
     "metadata": {},
     "output_type": "display_data"
    },
    {
     "data": {
      "text/html": [
       "Syncing run <strong><a href='https://wandb.ai/dylan-home/pnca-sweep-1/runs/sv5fpykc' target=\"_blank\">hopeful-sweep-112</a></strong> to <a href='https://wandb.ai/dylan-home/pnca-sweep-1' target=\"_blank\">Weights & Biases</a> (<a href='https://wandb.me/run' target=\"_blank\">docs</a>)<br/>Sweep page: <a href='https://wandb.ai/dylan-home/pnca-sweep-1/sweeps/tr8mwg42' target=\"_blank\">https://wandb.ai/dylan-home/pnca-sweep-1/sweeps/tr8mwg42</a>"
      ],
      "text/plain": [
       "<IPython.core.display.HTML object>"
      ]
     },
     "metadata": {},
     "output_type": "display_data"
    },
    {
     "data": {
      "text/html": [
       " View project at <a href='https://wandb.ai/dylan-home/pnca-sweep-1' target=\"_blank\">https://wandb.ai/dylan-home/pnca-sweep-1</a>"
      ],
      "text/plain": [
       "<IPython.core.display.HTML object>"
      ]
     },
     "metadata": {},
     "output_type": "display_data"
    },
    {
     "data": {
      "text/html": [
       " View sweep at <a href='https://wandb.ai/dylan-home/pnca-sweep-1/sweeps/tr8mwg42' target=\"_blank\">https://wandb.ai/dylan-home/pnca-sweep-1/sweeps/tr8mwg42</a>"
      ],
      "text/plain": [
       "<IPython.core.display.HTML object>"
      ]
     },
     "metadata": {},
     "output_type": "display_data"
    },
    {
     "data": {
      "text/html": [
       " View run at <a href='https://wandb.ai/dylan-home/pnca-sweep-1/runs/sv5fpykc' target=\"_blank\">https://wandb.ai/dylan-home/pnca-sweep-1/runs/sv5fpykc</a>"
      ],
      "text/plain": [
       "<IPython.core.display.HTML object>"
      ]
     },
     "metadata": {},
     "output_type": "display_data"
    },
    {
     "name": "stdout",
     "output_type": "stream",
     "text": [
      "Using CUDA\n",
      "Early stopping enabled. Patience: 20. Min Delta: 0.\n",
      "Epoch: 010, Train Acc: 0.5040, Test Acc: 0.5520, Train Loss: 0.6921, Test Loss: 0.6894\n",
      "Epoch: 020, Train Acc: 0.5264, Test Acc: 0.5110, Train Loss: 0.6887, Test Loss: 0.6894\n",
      "Epoch: 030, Train Acc: 0.5134, Test Acc: 0.4890, Train Loss: 0.6860, Test Loss: 0.6847\n",
      "Epoch: 040, Train Acc: 0.5263, Test Acc: 0.5110, Train Loss: 0.6840, Test Loss: 0.6844\n",
      "Epoch: 050, Train Acc: 0.5044, Test Acc: 0.5373, Train Loss: 0.6934, Test Loss: 0.6832\n",
      "Epoch: 060, Train Acc: 0.5179, Test Acc: 0.5003, Train Loss: 0.6701, Test Loss: 0.6695\n",
      "Epoch: 070, Train Acc: 0.5560, Test Acc: 0.6197, Train Loss: 0.6770, Test Loss: 0.6682\n",
      "Epoch: 080, Train Acc: 0.5224, Test Acc: 0.5067, Train Loss: 0.6602, Test Loss: 0.6637\n",
      "Epoch: 090, Train Acc: 0.5341, Test Acc: 0.5040, Train Loss: 0.6248, Test Loss: 0.6237\n",
      "Epoch: 100, Train Acc: 0.7533, Test Acc: 0.7253, Train Loss: 0.6045, Test Loss: 0.6044\n",
      "Epoch: 110, Train Acc: 0.7646, Test Acc: 0.7383, Train Loss: 0.5831, Test Loss: 0.5878\n",
      "Epoch: 120, Train Acc: 0.7357, Test Acc: 0.7153, Train Loss: 0.5722, Test Loss: 0.5757\n",
      "Epoch: 130, Train Acc: 0.6459, Test Acc: 0.6757, Train Loss: 0.6237, Test Loss: 0.6230\n",
      "Epoch: 140, Train Acc: 0.7166, Test Acc: 0.7137, Train Loss: 0.5475, Test Loss: 0.5619\n",
      "Epoch: 150, Train Acc: 0.7683, Test Acc: 0.7363, Train Loss: 0.5031, Test Loss: 0.5351\n",
      "Epoch: 160, Train Acc: 0.5300, Test Acc: 0.5083, Train Loss: 0.7103, Test Loss: 0.7807\n",
      "Epoch: 170, Train Acc: 0.7574, Test Acc: 0.7347, Train Loss: 0.4965, Test Loss: 0.5351\n",
      "Epoch: 180, Train Acc: 0.6973, Test Acc: 0.7053, Train Loss: 0.5705, Test Loss: 0.6022\n",
      "Epoch: 190, Train Acc: 0.5714, Test Acc: 0.5213, Train Loss: 0.5369, Test Loss: 0.6139\n",
      "Epoch: 200, Train Acc: 0.7859, Test Acc: 0.7397, Train Loss: 0.4516, Test Loss: 0.5206\n",
      "Epoch: 210, Train Acc: 0.8366, Test Acc: 0.7707, Train Loss: 0.4290, Test Loss: 0.5258\n",
      "Epoch: 220, Train Acc: 0.8189, Test Acc: 0.7570, Train Loss: 0.4169, Test Loss: 0.5008\n"
     ]
    }
   ],
   "source": [
    "wandb.agent(sweep_id, sweep_run, project = project, count=200)"
   ]
  },
  {
   "cell_type": "code",
   "execution_count": null,
   "metadata": {},
   "outputs": [],
   "source": []
  }
 ],
 "metadata": {
  "kernelspec": {
   "display_name": "Python 3",
   "language": "python",
   "name": "python3"
  },
  "language_info": {
   "codemirror_mode": {
    "name": "ipython",
    "version": 3
   },
   "file_extension": ".py",
   "mimetype": "text/x-python",
   "name": "python",
   "nbconvert_exporter": "python",
   "pygments_lexer": "ipython3",
   "version": "3.10.12"
  }
 },
 "nbformat": 4,
 "nbformat_minor": 2
}
