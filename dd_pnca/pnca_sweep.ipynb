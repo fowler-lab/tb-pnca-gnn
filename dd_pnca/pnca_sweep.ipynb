{
 "cells": [
  {
   "cell_type": "markdown",
   "metadata": {},
   "source": [
    "# Run PncA WandB Sweep"
   ]
  },
  {
   "cell_type": "code",
   "execution_count": 1,
   "metadata": {},
   "outputs": [
    {
     "data": {
      "text/plain": [
       "'Running via SSH'"
      ]
     },
     "metadata": {},
     "output_type": "display_data"
    },
    {
     "name": "stderr",
     "output_type": "stream",
     "text": [
      "/usr/lib/python3/dist-packages/requests/__init__.py:87: RequestsDependencyWarning: urllib3 (2.2.3) or chardet (4.0.0) doesn't match a supported version!\n",
      "  warnings.warn(\"urllib3 ({}) or chardet ({}) doesn't match a supported \"\n",
      "/home/ubuntu/.local/lib/python3.10/site-packages/tqdm/auto.py:21: TqdmWarning: IProgress not found. Please update jupyter and ipywidgets. See https://ipywidgets.readthedocs.io/en/stable/user_install.html\n",
      "  from .autonotebook import tqdm as notebook_tqdm\n"
     ]
    },
    {
     "data": {
      "text/plain": [
       "True"
      ]
     },
     "execution_count": 1,
     "metadata": {},
     "output_type": "execute_result"
    }
   ],
   "source": [
    "from IPython.display import display\n",
    "import os\n",
    "\n",
    "if \"SSH_CONNECTION\" in os.environ:\n",
    "    display(\"Running via SSH\")\n",
    "else:\n",
    "    display(\"Running locally\")\n",
    "    \n",
    "import sys\n",
    "import os\n",
    "\n",
    "path = os.path.join('..', '/Users/dylandissanayake/Desktop/DPhil/Comp Disc/Repositories/TB-PNCA-GNN') if \"SSH_CONNECTION\" not in os.environ else os.path.join('..', '/mnt/alphafold-volume-1/dylan2/repos/tb-pnca-gnn')\n",
    "if path not in sys.path:\n",
    "    sys.path.append(os.path.abspath(path))\n",
    "\n",
    "import datetime\n",
    "import random\n",
    "\n",
    "import numpy as np\n",
    "import pandas as pd\n",
    "import copy\n",
    "import pickle\n",
    "\n",
    "import torch\n",
    "from torch_geometric.data import Data\n",
    "\n",
    "import wandb\n",
    "\n",
    "import sbmlcore\n",
    "import sbmlsim\n",
    "import gumpy\n",
    "\n",
    "import warnings\n",
    "warnings.filterwarnings('ignore')\n",
    "\n",
    "from src import run_model, protein_graph, gcn_model, evaluation\n",
    "\n",
    "%load_ext autoreload\n",
    "%autoreload 2\n",
    "\n",
    "%aimport src\n",
    "\n",
    "torch.cuda.is_available()"
   ]
  },
  {
   "cell_type": "code",
   "execution_count": 2,
   "metadata": {},
   "outputs": [],
   "source": [
    "full_dataset = torch.load('full_orig_dataset.pth')"
   ]
  },
  {
   "cell_type": "markdown",
   "metadata": {},
   "source": [
    "### Set Up Params and Sweep Config"
   ]
  },
  {
   "cell_type": "code",
   "execution_count": 3,
   "metadata": {},
   "outputs": [],
   "source": [
    "seed = 42\n",
    "np.random.seed(seed)\n",
    "random.seed(seed)\n",
    "\n",
    "# logging params (only used for wandb metrics)\n",
    "n_samples = 10000\n",
    "cutoff_distance = 6.3  \n",
    "\n",
    "# gcn params\n",
    "ews = 'none'\n",
    "num_node_features = 12\n",
    "batch_size = 256\n",
    "hidden_channels = 64\n",
    "learning_rate = 0.001\n",
    "wd = 5e-5\n",
    "epochs = 500\n",
    "\n",
    "wt_seq = 'MRALIIVDVQNDFCEGGSLAVTGGAALARAISDYLAEAADYHHVVATKDFHIDPGDHFSGTPDYSSSWPPHCVSGTPGADFHPSLDTSAIEAVFYKGAYTGAYSGFEGVDENGTPLLNWLRQRGVDEVDVVGIATDHCVRQTAEDAVRNGLATRVLVDLTAGVSADTTVAALEEMRTASVELVCS'"
   ]
  },
  {
   "cell_type": "code",
   "execution_count": 4,
   "metadata": {},
   "outputs": [],
   "source": [
    "sweep_config = {\n",
    "    'method': 'random'\n",
    "    }\n",
    "\n",
    "metric = {\n",
    "    'name': 'Test Accuracy',\n",
    "    'goal': 'maximize'   \n",
    "    }\n",
    "\n",
    "sweep_config['metric'] = metric\n",
    "\n",
    "parameters_dict = {\n",
    "    # 'optimizer': {\n",
    "    #     'values': ['adam', 'sgd']\n",
    "    #     },\n",
    "    'hidden_channels': {\n",
    "        'values': [32, 64, 128, 256]\n",
    "        },\n",
    "    'weight_decay': {\n",
    "        'distribution': 'log_uniform_values',\n",
    "        'min': 1e-8,\n",
    "        'max': 1e-2\n",
    "        },\n",
    "    'dropout': {\n",
    "          'values': [0.2, 0.4, 0.5, 0.6, 0.8]\n",
    "        },\n",
    "    'cutoff_distance': {\n",
    "        'distribution': 'uniform',\n",
    "        'min': 3,\n",
    "        'max': 10\n",
    "        },\n",
    "    }\n",
    "\n",
    "sweep_config['parameters'] = parameters_dict\n",
    "\n",
    "# parameters_dict.update({\n",
    "#     'epochs': {\n",
    "#         'value': 400}\n",
    "#     })\n",
    "\n",
    "parameters_dict.update({\n",
    "    'learning_rate': {\n",
    "        'distribution': 'log_uniform_values',\n",
    "        'min': 1e-8,\n",
    "        'max': 1e-1\n",
    "      },\n",
    "    # 'batch_size': {\n",
    "    #     # integers between 32 and 256\n",
    "    #     # with evenly-distributed logarithms \n",
    "    #     'distribution': 'q_log_uniform_values',\n",
    "    #     'q': 8,\n",
    "    #     'min': 32,\n",
    "    #     'max': 256,\n",
    "    #   }\n",
    "    })\n",
    "\n"
   ]
  },
  {
   "cell_type": "code",
   "execution_count": 5,
   "metadata": {},
   "outputs": [
    {
     "name": "stdout",
     "output_type": "stream",
     "text": [
      "{'method': 'random',\n",
      " 'metric': {'goal': 'maximize', 'name': 'Test Accuracy'},\n",
      " 'parameters': {'cutoff_distance': {'distribution': 'uniform',\n",
      "                                    'max': 10,\n",
      "                                    'min': 3},\n",
      "                'dropout': {'values': [0.2, 0.4, 0.5, 0.6, 0.8]},\n",
      "                'hidden_channels': {'values': [32, 64, 128, 256]},\n",
      "                'learning_rate': {'distribution': 'log_uniform_values',\n",
      "                                  'max': 0.1,\n",
      "                                  'min': 1e-08},\n",
      "                'weight_decay': {'distribution': 'log_uniform_values',\n",
      "                                 'max': 0.01,\n",
      "                                 'min': 1e-08}}}\n"
     ]
    }
   ],
   "source": [
    "import pprint\n",
    "pprint.pprint(sweep_config)"
   ]
  },
  {
   "cell_type": "markdown",
   "metadata": {},
   "source": [
    "### Define Training Loop"
   ]
  },
  {
   "cell_type": "code",
   "execution_count": 6,
   "metadata": {},
   "outputs": [],
   "source": [
    "project = \"pnca-sweep-1\""
   ]
  },
  {
   "cell_type": "code",
   "execution_count": 7,
   "metadata": {},
   "outputs": [],
   "source": [
    "# sweep_id = wandb.sweep(sweep_config, project=project)\n",
    "sweep_id = '18ili8gf'"
   ]
  },
  {
   "cell_type": "code",
   "execution_count": 8,
   "metadata": {},
   "outputs": [],
   "source": [
    "def sweep_run():\n",
    "\n",
    "    with wandb.init() as run:\n",
    "        config = run.config\n",
    "        \n",
    "        model = run_model.pnca_simpleGCN(\n",
    "            # sequences=sequences_dict,\n",
    "            sequences=None,\n",
    "            self_loops = False,\n",
    "            cutoff_distance = config.cutoff_distance,\n",
    "            edge_weight_func = '1-(dist/cutoff)',\n",
    "            # edge_weight_func = 'none',\n",
    "            batch_size = batch_size,\n",
    "            num_node_features = num_node_features,\n",
    "            hidden_channels = config.hidden_channels,\n",
    "            learning_rate = config.learning_rate,\n",
    "            wd = config.weight_decay,\n",
    "            dropout = config.dropout,\n",
    "            epochs = epochs,\n",
    "            dataset = full_dataset,\n",
    "            normalise_ews=True,\n",
    "            wandb_params={\n",
    "                'use_wandb': False,\n",
    "                'sweep': True\n",
    "            }\n",
    "        )\n",
    "\n",
    "        torch.save(model, f'saved_models/carter_ds_aug/{project}/{datetime.datetime.now().strftime(\"%Y_%m_%d_%H%M%S\")}')"
   ]
  },
  {
   "cell_type": "code",
   "execution_count": 10,
   "metadata": {},
   "outputs": [
    {
     "name": "stderr",
     "output_type": "stream",
     "text": [
      "\u001b[34m\u001b[1mwandb\u001b[0m: Agent Starting Run: 8adjzh0b with config:\n",
      "\u001b[34m\u001b[1mwandb\u001b[0m: \tcutoff_distance: 6.763066638346833\n",
      "\u001b[34m\u001b[1mwandb\u001b[0m: \tdropout: 0.5\n",
      "\u001b[34m\u001b[1mwandb\u001b[0m: \thidden_channels: 128\n",
      "\u001b[34m\u001b[1mwandb\u001b[0m: \tlearning_rate: 0.07635180251825581\n",
      "\u001b[34m\u001b[1mwandb\u001b[0m: \tweight_decay: 3.18605477242148e-05\n",
      "Failed to detect the name of this notebook, you can set it manually with the WANDB_NOTEBOOK_NAME environment variable to enable code saving.\n",
      "/usr/lib/python3/dist-packages/requests/__init__.py:87: RequestsDependencyWarning: urllib3 (2.2.3) or chardet (4.0.0) doesn't match a supported version!\n",
      "  warnings.warn(\"urllib3 ({}) or chardet ({}) doesn't match a supported \"\n",
      "\u001b[34m\u001b[1mwandb\u001b[0m: Currently logged in as: \u001b[33mdylan-home\u001b[0m. Use \u001b[1m`wandb login --relogin`\u001b[0m to force relogin\n"
     ]
    },
    {
     "data": {
      "text/html": [
       "wandb version 0.19.2 is available!  To upgrade, please run:\n",
       " $ pip install wandb --upgrade"
      ],
      "text/plain": [
       "<IPython.core.display.HTML object>"
      ]
     },
     "metadata": {},
     "output_type": "display_data"
    },
    {
     "data": {
      "text/html": [
       "Tracking run with wandb version 0.16.4"
      ],
      "text/plain": [
       "<IPython.core.display.HTML object>"
      ]
     },
     "metadata": {},
     "output_type": "display_data"
    },
    {
     "data": {
      "text/html": [
       "Run data is saved locally in <code>/mnt/alphafold-volume-1/dylan2/repos/tb-pnca-gnn/dd_pnca/wandb/run-20250108_142039-8adjzh0b</code>"
      ],
      "text/plain": [
       "<IPython.core.display.HTML object>"
      ]
     },
     "metadata": {},
     "output_type": "display_data"
    },
    {
     "data": {
      "text/html": [
       "Syncing run <strong><a href='https://wandb.ai/dylan-home/pnca-sweep-1/runs/8adjzh0b' target=\"_blank\">glamorous-sweep-10</a></strong> to <a href='https://wandb.ai/dylan-home/pnca-sweep-1' target=\"_blank\">Weights & Biases</a> (<a href='https://wandb.me/run' target=\"_blank\">docs</a>)<br/>Sweep page: <a href='https://wandb.ai/dylan-home/pnca-sweep-1/sweeps/18ili8gf' target=\"_blank\">https://wandb.ai/dylan-home/pnca-sweep-1/sweeps/18ili8gf</a>"
      ],
      "text/plain": [
       "<IPython.core.display.HTML object>"
      ]
     },
     "metadata": {},
     "output_type": "display_data"
    },
    {
     "data": {
      "text/html": [
       " View project at <a href='https://wandb.ai/dylan-home/pnca-sweep-1' target=\"_blank\">https://wandb.ai/dylan-home/pnca-sweep-1</a>"
      ],
      "text/plain": [
       "<IPython.core.display.HTML object>"
      ]
     },
     "metadata": {},
     "output_type": "display_data"
    },
    {
     "data": {
      "text/html": [
       " View sweep at <a href='https://wandb.ai/dylan-home/pnca-sweep-1/sweeps/18ili8gf' target=\"_blank\">https://wandb.ai/dylan-home/pnca-sweep-1/sweeps/18ili8gf</a>"
      ],
      "text/plain": [
       "<IPython.core.display.HTML object>"
      ]
     },
     "metadata": {},
     "output_type": "display_data"
    },
    {
     "data": {
      "text/html": [
       " View run at <a href='https://wandb.ai/dylan-home/pnca-sweep-1/runs/8adjzh0b' target=\"_blank\">https://wandb.ai/dylan-home/pnca-sweep-1/runs/8adjzh0b</a>"
      ],
      "text/plain": [
       "<IPython.core.display.HTML object>"
      ]
     },
     "metadata": {},
     "output_type": "display_data"
    },
    {
     "name": "stdout",
     "output_type": "stream",
     "text": [
      "Using CUDA\n",
      "Early stopping enabled. Patience: 20. Min Delta: 0.\n",
      "Epoch: 010, Train Acc: 0.5264, Test Acc: 0.5110, Train Loss: 0.6973, Test Loss: 0.7018\n",
      "Epoch: 020, Train Acc: 0.4736, Test Acc: 0.4890, Train Loss: 0.7405, Test Loss: 0.7330\n",
      "20 epochs passed without 0 test loss improvement. \n",
      "Early stopping triggered.\n"
     ]
    },
    {
     "data": {
      "text/html": [
       "<style>\n",
       "    table.wandb td:nth-child(1) { padding: 0 10px; text-align: left ; width: auto;} td:nth-child(2) {text-align: left ; width: 100%}\n",
       "    .wandb-row { display: flex; flex-direction: row; flex-wrap: wrap; justify-content: flex-start; width: 100% }\n",
       "    .wandb-col { display: flex; flex-direction: column; flex-basis: 100%; flex: 1; padding: 10px; }\n",
       "    </style>\n",
       "<div class=\"wandb-row\"><div class=\"wandb-col\"><h3>Run history:</h3><br/><table class=\"wandb\"><tr><td>Test Accuracy</td><td>█▁█▁████▁█▁█▁█████▁▁█</td></tr><tr><td>Test F1</td><td>█▁█▁████▁█▁█▁█████▁▁█</td></tr><tr><td>Test Loss</td><td>▁▁█▃▁▁▂▄█▂▂▁▃▃▂▁▂▁▁▃▁</td></tr><tr><td>Test Sensitivity</td><td>█▁█▁████▁█▁█▁█████▁▁█</td></tr><tr><td>Test Specificity</td><td>▁█▁█▁▁▁▁█▁█▁█▁▁▁▁▁██▁</td></tr><tr><td>Train Accuracy</td><td>█▁█▁████▁█▁█▁█████▁▁█</td></tr><tr><td>Train F1</td><td>█▁█▁████▁█▁█▁█████▁▁█</td></tr><tr><td>Train Loss</td><td>▁▁▆▃▁▁▂▃█▁▂▁▃▂▂▁▂▁▁▄▁</td></tr><tr><td>Train Sensitivity</td><td>█▁█▁████▁█▁█▁█████▁▁█</td></tr><tr><td>Train Specificity</td><td>▁█▁█▁▁▁▁█▁█▁█▁▁▁▁▁██▁</td></tr></table><br/></div><div class=\"wandb-col\"><h3>Run summary:</h3><br/><table class=\"wandb\"><tr><td>Test Accuracy</td><td>0.511</td></tr><tr><td>Test F1</td><td>0.67637</td></tr><tr><td>Test Loss</td><td>0.69304</td></tr><tr><td>Test Sensitivity</td><td>1.0</td></tr><tr><td>Test Specificity</td><td>0.0</td></tr><tr><td>Train Accuracy</td><td>0.52643</td></tr><tr><td>Train F1</td><td>0.68975</td></tr><tr><td>Train Loss</td><td>0.69178</td></tr><tr><td>Train Sensitivity</td><td>1.0</td></tr><tr><td>Train Specificity</td><td>0.0</td></tr></table><br/></div></div>"
      ],
      "text/plain": [
       "<IPython.core.display.HTML object>"
      ]
     },
     "metadata": {},
     "output_type": "display_data"
    },
    {
     "data": {
      "text/html": [
       " View run <strong style=\"color:#cdcd00\">glamorous-sweep-10</strong> at: <a href='https://wandb.ai/dylan-home/pnca-sweep-1/runs/8adjzh0b' target=\"_blank\">https://wandb.ai/dylan-home/pnca-sweep-1/runs/8adjzh0b</a><br/>Synced 5 W&B file(s), 0 media file(s), 0 artifact file(s) and 0 other file(s)"
      ],
      "text/plain": [
       "<IPython.core.display.HTML object>"
      ]
     },
     "metadata": {},
     "output_type": "display_data"
    },
    {
     "data": {
      "text/html": [
       "Find logs at: <code>./wandb/run-20250108_142039-8adjzh0b/logs</code>"
      ],
      "text/plain": [
       "<IPython.core.display.HTML object>"
      ]
     },
     "metadata": {},
     "output_type": "display_data"
    }
   ],
   "source": [
    "wandb.agent(sweep_id, sweep_run, project = project, count=200)"
   ]
  },
  {
   "cell_type": "code",
   "execution_count": null,
   "metadata": {},
   "outputs": [],
   "source": []
  }
 ],
 "metadata": {
  "kernelspec": {
   "display_name": "Python 3",
   "language": "python",
   "name": "python3"
  },
  "language_info": {
   "codemirror_mode": {
    "name": "ipython",
    "version": 3
   },
   "file_extension": ".py",
   "mimetype": "text/x-python",
   "name": "python",
   "nbconvert_exporter": "python",
   "pygments_lexer": "ipython3",
   "version": "3.10.12"
  }
 },
 "nbformat": 4,
 "nbformat_minor": 2
}
