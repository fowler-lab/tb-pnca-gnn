{
 "cells": [
  {
   "cell_type": "markdown",
   "metadata": {},
   "source": [
    "# Run PncA WandB Sweep"
   ]
  },
  {
   "cell_type": "code",
   "execution_count": 1,
   "metadata": {},
   "outputs": [
    {
     "data": {
      "text/plain": [
       "'Running via SSH'"
      ]
     },
     "metadata": {},
     "output_type": "display_data"
    },
    {
     "name": "stderr",
     "output_type": "stream",
     "text": [
      "/usr/lib/python3/dist-packages/requests/__init__.py:87: RequestsDependencyWarning: urllib3 (2.2.3) or chardet (4.0.0) doesn't match a supported version!\n",
      "  warnings.warn(\"urllib3 ({}) or chardet ({}) doesn't match a supported \"\n",
      "/home/ubuntu/.local/lib/python3.10/site-packages/tqdm/auto.py:21: TqdmWarning: IProgress not found. Please update jupyter and ipywidgets. See https://ipywidgets.readthedocs.io/en/stable/user_install.html\n",
      "  from .autonotebook import tqdm as notebook_tqdm\n"
     ]
    },
    {
     "data": {
      "text/plain": [
       "True"
      ]
     },
     "execution_count": 1,
     "metadata": {},
     "output_type": "execute_result"
    }
   ],
   "source": [
    "from IPython.display import display\n",
    "import os\n",
    "\n",
    "if \"SSH_CONNECTION\" in os.environ:\n",
    "    display(\"Running via SSH\")\n",
    "else:\n",
    "    display(\"Running locally\")\n",
    "    \n",
    "import sys\n",
    "import os\n",
    "\n",
    "path = os.path.join('..', '/Users/dylandissanayake/Desktop/DPhil/Comp Disc/Repositories/TB-PNCA-GNN') if \"SSH_CONNECTION\" not in os.environ else os.path.join('..', '/mnt/alphafold-volume-1/dylan2/repos/tb-pnca-gnn')\n",
    "if path not in sys.path:\n",
    "    sys.path.append(os.path.abspath(path))\n",
    "\n",
    "import datetime\n",
    "import random\n",
    "\n",
    "import numpy as np\n",
    "import pandas as pd\n",
    "import copy\n",
    "import pickle\n",
    "\n",
    "import torch\n",
    "from torch_geometric.data import Data\n",
    "\n",
    "import wandb\n",
    "\n",
    "import sbmlcore\n",
    "import sbmlsim\n",
    "import gumpy\n",
    "\n",
    "import warnings\n",
    "warnings.filterwarnings('ignore')\n",
    "\n",
    "from src import run_model, protein_graph, gcn_model, evaluation\n",
    "\n",
    "%load_ext autoreload\n",
    "%autoreload 2\n",
    "\n",
    "%aimport src\n",
    "\n",
    "torch.cuda.is_available()"
   ]
  },
  {
   "cell_type": "code",
   "execution_count": 2,
   "metadata": {},
   "outputs": [],
   "source": [
    "full_dataset = torch.load('full_orig_dataset.pth')"
   ]
  },
  {
   "cell_type": "markdown",
   "metadata": {},
   "source": [
    "### Set Up Params and Sweep Config"
   ]
  },
  {
   "cell_type": "code",
   "execution_count": 3,
   "metadata": {},
   "outputs": [],
   "source": [
    "seed = 42\n",
    "np.random.seed(seed)\n",
    "random.seed(seed)\n",
    "\n",
    "# logging params (only used for wandb metrics)\n",
    "n_samples = 10000\n",
    "cutoff_distance = 6.3  \n",
    "\n",
    "# gcn params\n",
    "ews = 'none'\n",
    "num_node_features = 12\n",
    "batch_size = 256\n",
    "hidden_channels = 64\n",
    "learning_rate = 0.001\n",
    "wd = 5e-5\n",
    "epochs = 400\n",
    "\n",
    "wt_seq = 'MRALIIVDVQNDFCEGGSLAVTGGAALARAISDYLAEAADYHHVVATKDFHIDPGDHFSGTPDYSSSWPPHCVSGTPGADFHPSLDTSAIEAVFYKGAYTGAYSGFEGVDENGTPLLNWLRQRGVDEVDVVGIATDHCVRQTAEDAVRNGLATRVLVDLTAGVSADTTVAALEEMRTASVELVCS'"
   ]
  },
  {
   "cell_type": "code",
   "execution_count": 4,
   "metadata": {},
   "outputs": [],
   "source": [
    "sweep_config = {\n",
    "    'method': 'random'\n",
    "    }\n",
    "\n",
    "metric = {\n",
    "    'name': 'Test Accuracy',\n",
    "    'goal': 'maximize'   \n",
    "    }\n",
    "\n",
    "sweep_config['metric'] = metric\n",
    "\n",
    "parameters_dict = {\n",
    "    # 'optimizer': {\n",
    "    #     'values': ['adam', 'sgd']\n",
    "    #     },\n",
    "    'hidden_channels': {\n",
    "        'values': [32, 64, 128, 256]\n",
    "        },\n",
    "    # 'dropout': {\n",
    "    #       'values': [0.3, 0.4, 0.5]\n",
    "    #     },\n",
    "    }\n",
    "\n",
    "sweep_config['parameters'] = parameters_dict\n",
    "\n",
    "# parameters_dict.update({\n",
    "#     'epochs': {\n",
    "#         'value': 400}\n",
    "#     })\n",
    "\n",
    "parameters_dict.update({\n",
    "    'learning_rate': {\n",
    "        'distribution': 'log_uniform_values',\n",
    "        'min': 1e-6,\n",
    "        'max': 1e-1\n",
    "      },\n",
    "    # 'batch_size': {\n",
    "    #     # integers between 32 and 256\n",
    "    #     # with evenly-distributed logarithms \n",
    "    #     'distribution': 'q_log_uniform_values',\n",
    "    #     'q': 8,\n",
    "    #     'min': 32,\n",
    "    #     'max': 256,\n",
    "    #   }\n",
    "    })\n",
    "\n"
   ]
  },
  {
   "cell_type": "code",
   "execution_count": 5,
   "metadata": {},
   "outputs": [
    {
     "name": "stdout",
     "output_type": "stream",
     "text": [
      "{'method': 'random',\n",
      " 'metric': {'goal': 'maximize', 'name': 'Test Accuracy'},\n",
      " 'parameters': {'hidden_channels': {'values': [32, 64, 128, 256]},\n",
      "                'learning_rate': {'distribution': 'log_uniform_values',\n",
      "                                  'max': 0.1,\n",
      "                                  'min': 1e-06}}}\n"
     ]
    }
   ],
   "source": [
    "import pprint\n",
    "pprint.pprint(sweep_config)"
   ]
  },
  {
   "cell_type": "markdown",
   "metadata": {},
   "source": [
    "### Define Training Loop"
   ]
  },
  {
   "cell_type": "code",
   "execution_count": 6,
   "metadata": {},
   "outputs": [
    {
     "name": "stderr",
     "output_type": "stream",
     "text": [
      "Failed to detect the name of this notebook, you can set it manually with the WANDB_NOTEBOOK_NAME environment variable to enable code saving.\n"
     ]
    },
    {
     "name": "stderr",
     "output_type": "stream",
     "text": [
      "/usr/lib/python3/dist-packages/requests/__init__.py:87: RequestsDependencyWarning: urllib3 (2.2.3) or chardet (4.0.0) doesn't match a supported version!\n",
      "  warnings.warn(\"urllib3 ({}) or chardet ({}) doesn't match a supported \"\n"
     ]
    },
    {
     "name": "stdout",
     "output_type": "stream",
     "text": [
      "Create sweep with ID: 93peolwf\n",
      "Sweep URL: https://wandb.ai/dylan-home/pytorch-sweeps-demo/sweeps/93peolwf\n"
     ]
    }
   ],
   "source": [
    "sweep_id = wandb.sweep(sweep_config, project=\"pnca-sweep-1\")"
   ]
  },
  {
   "cell_type": "code",
   "execution_count": 10,
   "metadata": {},
   "outputs": [],
   "source": [
    "def sweep_run():\n",
    "\n",
    "    with wandb.init() as run:\n",
    "        config = run.config\n",
    "        \n",
    "        model = run_model.pnca_simpleGCN(\n",
    "            # sequences=sequences_dict,\n",
    "            sequences=None,\n",
    "            self_loops = False,\n",
    "            cutoff_distance = cutoff_distance,\n",
    "            # edge_weight_func = '1-(dist/cutoff)',\n",
    "            edge_weight_func= 'none',\n",
    "            batch_size = batch_size,\n",
    "            num_node_features = num_node_features,\n",
    "            hidden_channels = config.hidden_channels,\n",
    "            learning_rate = config.learning_rate,\n",
    "            wd = wd,\n",
    "            epochs = epochs,\n",
    "            dataset = full_dataset,\n",
    "            normalise_ews=True,\n",
    "            wandb_params={\n",
    "                'use_wandb': False,\n",
    "                'sweep': True\n",
    "            }\n",
    "        )\n",
    "\n",
    "        torch.save(model, f'saved_models/carter_ds_aug/sweep/{datetime.datetime.now().strftime(\"%Y_%m_%d_%H%M%S\")}')"
   ]
  },
  {
   "cell_type": "code",
   "execution_count": 12,
   "metadata": {},
   "outputs": [
    {
     "name": "stderr",
     "output_type": "stream",
     "text": [
      "\u001b[34m\u001b[1mwandb\u001b[0m: Agent Starting Run: sdll7idk with config:\n",
      "\u001b[34m\u001b[1mwandb\u001b[0m: \thidden_channels: 32\n",
      "\u001b[34m\u001b[1mwandb\u001b[0m: \tlearning_rate: 0.010070681388818925\n",
      "Failed to detect the name of this notebook, you can set it manually with the WANDB_NOTEBOOK_NAME environment variable to enable code saving.\n",
      "/usr/lib/python3/dist-packages/requests/__init__.py:87: RequestsDependencyWarning: urllib3 (2.2.3) or chardet (4.0.0) doesn't match a supported version!\n",
      "  warnings.warn(\"urllib3 ({}) or chardet ({}) doesn't match a supported \"\n"
     ]
    },
    {
     "data": {
      "text/html": [
       "wandb version 0.19.1 is available!  To upgrade, please run:\n",
       " $ pip install wandb --upgrade"
      ],
      "text/plain": [
       "<IPython.core.display.HTML object>"
      ]
     },
     "metadata": {},
     "output_type": "display_data"
    },
    {
     "data": {
      "text/html": [
       "Tracking run with wandb version 0.16.4"
      ],
      "text/plain": [
       "<IPython.core.display.HTML object>"
      ]
     },
     "metadata": {},
     "output_type": "display_data"
    },
    {
     "data": {
      "text/html": [
       "Run data is saved locally in <code>/mnt/alphafold-volume-1/dylan2/repos/tb-pnca-gnn/dd_pnca/wandb/run-20250105_142452-sdll7idk</code>"
      ],
      "text/plain": [
       "<IPython.core.display.HTML object>"
      ]
     },
     "metadata": {},
     "output_type": "display_data"
    },
    {
     "data": {
      "text/html": [
       "Syncing run <strong><a href='https://wandb.ai/dylan-home/pytorch-sweeps-demo/runs/sdll7idk' target=\"_blank\">frosty-sweep-4</a></strong> to <a href='https://wandb.ai/dylan-home/pytorch-sweeps-demo' target=\"_blank\">Weights & Biases</a> (<a href='https://wandb.me/run' target=\"_blank\">docs</a>)<br/>Sweep page: <a href='https://wandb.ai/dylan-home/pytorch-sweeps-demo/sweeps/93peolwf' target=\"_blank\">https://wandb.ai/dylan-home/pytorch-sweeps-demo/sweeps/93peolwf</a>"
      ],
      "text/plain": [
       "<IPython.core.display.HTML object>"
      ]
     },
     "metadata": {},
     "output_type": "display_data"
    },
    {
     "data": {
      "text/html": [
       " View project at <a href='https://wandb.ai/dylan-home/pytorch-sweeps-demo' target=\"_blank\">https://wandb.ai/dylan-home/pytorch-sweeps-demo</a>"
      ],
      "text/plain": [
       "<IPython.core.display.HTML object>"
      ]
     },
     "metadata": {},
     "output_type": "display_data"
    },
    {
     "data": {
      "text/html": [
       " View sweep at <a href='https://wandb.ai/dylan-home/pytorch-sweeps-demo/sweeps/93peolwf' target=\"_blank\">https://wandb.ai/dylan-home/pytorch-sweeps-demo/sweeps/93peolwf</a>"
      ],
      "text/plain": [
       "<IPython.core.display.HTML object>"
      ]
     },
     "metadata": {},
     "output_type": "display_data"
    },
    {
     "data": {
      "text/html": [
       " View run at <a href='https://wandb.ai/dylan-home/pytorch-sweeps-demo/runs/sdll7idk' target=\"_blank\">https://wandb.ai/dylan-home/pytorch-sweeps-demo/runs/sdll7idk</a>"
      ],
      "text/plain": [
       "<IPython.core.display.HTML object>"
      ]
     },
     "metadata": {},
     "output_type": "display_data"
    },
    {
     "name": "stdout",
     "output_type": "stream",
     "text": [
      "Using CUDA\n",
      "Early stopping enabled. Patience: 20. Min Delta: 0.\n",
      "Epoch: 010, Train Acc: 0.5264, Test Acc: 0.5110, Train Loss: 0.6916, Test Loss: 0.6931\n",
      "Epoch: 020, Train Acc: 0.5264, Test Acc: 0.5110, Train Loss: 0.6918, Test Loss: 0.6933\n",
      "Epoch: 030, Train Acc: 0.5264, Test Acc: 0.5110, Train Loss: 0.6921, Test Loss: 0.6937\n",
      "Epoch: 040, Train Acc: 0.5264, Test Acc: 0.5110, Train Loss: 0.6919, Test Loss: 0.6931\n",
      "Epoch: 050, Train Acc: 0.5264, Test Acc: 0.5110, Train Loss: 0.6919, Test Loss: 0.6938\n",
      "20 epochs passed without 0 test loss improvement. \n",
      "Early stopping triggered.\n"
     ]
    },
    {
     "data": {
      "text/html": [
       "<style>\n",
       "    table.wandb td:nth-child(1) { padding: 0 10px; text-align: left ; width: auto;} td:nth-child(2) {text-align: left ; width: 100%}\n",
       "    .wandb-row { display: flex; flex-direction: row; flex-wrap: wrap; justify-content: flex-start; width: 100% }\n",
       "    .wandb-col { display: flex; flex-direction: column; flex-basis: 100%; flex: 1; padding: 10px; }\n",
       "    </style>\n",
       "<div class=\"wandb-row\"><div class=\"wandb-col\"><h3>Run history:</h3><br/><table class=\"wandb\"><tr><td>Test Accuracy</td><td>▁▁▁▁▁▁▁▁▁▁▁▁▁▁▁▁▁▁▁▁▁▁▁▁▁▁▁▁▁▁▁▁▁▁▁▁▁▁▁▁</td></tr><tr><td>Test F1</td><td>▁▁▁▁▁▁▁▁▁▁▁▁▁▁▁▁▁▁▁▁▁▁▁▁▁▁▁▁▁▁▁▁▁▁▁▁▁▁▁▁</td></tr><tr><td>Test Loss</td><td>▃▃▂▃▁▅▃▆▃▇▂▃▂▂▂▃▃▄▅▂▂▃▄▄▁█▂▂▆▃▂▂▂▃▁▆▁▄▂▁</td></tr><tr><td>Test Sensitivity</td><td>▁▁▁▁▁▁▁▁▁▁▁▁▁▁▁▁▁▁▁▁▁▁▁▁▁▁▁▁▁▁▁▁▁▁▁▁▁▁▁▁</td></tr><tr><td>Test Specificity</td><td>▁▁▁▁▁▁▁▁▁▁▁▁▁▁▁▁▁▁▁▁▁▁▁▁▁▁▁▁▁▁▁▁▁▁▁▁▁▁▁▁</td></tr><tr><td>Train Accuracy</td><td>▁▁▁▁▁▁▁▁▁▁▁▁▁▁▁▁▁▁▁▁▁▁▁▁▁▁▁▁▁▁▁▁▁▁▁▁▁▁▁▁</td></tr><tr><td>Train F1</td><td>▁▁▁▁▁▁▁▁▁▁▁▁▁▁▁▁▁▁▁▁▁▁▁▁▁▁▁▁▁▁▁▁▁▁▁▁▁▁▁▁</td></tr><tr><td>Train Loss</td><td>▅▂▂▁▄▃▂▃▃▄▂▁▄▅▂▃▂▂▂▂▂▅▄▅▆█▃▄▂▂▃▃▃▁▄▃▄▄▂▃</td></tr><tr><td>Train Sensitivity</td><td>▁▁▁▁▁▁▁▁▁▁▁▁▁▁▁▁▁▁▁▁▁▁▁▁▁▁▁▁▁▁▁▁▁▁▁▁▁▁▁▁</td></tr><tr><td>Train Specificity</td><td>▁▁▁▁▁▁▁▁▁▁▁▁▁▁▁▁▁▁▁▁▁▁▁▁▁▁▁▁▁▁▁▁▁▁▁▁▁▁▁▁</td></tr></table><br/></div><div class=\"wandb-col\"><h3>Run summary:</h3><br/><table class=\"wandb\"><tr><td>Test Accuracy</td><td>0.511</td></tr><tr><td>Test F1</td><td>0.67637</td></tr><tr><td>Test Loss</td><td>0.69293</td></tr><tr><td>Test Sensitivity</td><td>1.0</td></tr><tr><td>Test Specificity</td><td>0.0</td></tr><tr><td>Train Accuracy</td><td>0.52643</td></tr><tr><td>Train F1</td><td>0.68975</td></tr><tr><td>Train Loss</td><td>0.69181</td></tr><tr><td>Train Sensitivity</td><td>1.0</td></tr><tr><td>Train Specificity</td><td>0.0</td></tr></table><br/></div></div>"
      ],
      "text/plain": [
       "<IPython.core.display.HTML object>"
      ]
     },
     "metadata": {},
     "output_type": "display_data"
    },
    {
     "data": {
      "text/html": [
       " View run <strong style=\"color:#cdcd00\">frosty-sweep-4</strong> at: <a href='https://wandb.ai/dylan-home/pytorch-sweeps-demo/runs/sdll7idk' target=\"_blank\">https://wandb.ai/dylan-home/pytorch-sweeps-demo/runs/sdll7idk</a><br/>Synced 5 W&B file(s), 0 media file(s), 0 artifact file(s) and 0 other file(s)"
      ],
      "text/plain": [
       "<IPython.core.display.HTML object>"
      ]
     },
     "metadata": {},
     "output_type": "display_data"
    },
    {
     "data": {
      "text/html": [
       "Find logs at: <code>./wandb/run-20250105_142452-sdll7idk/logs</code>"
      ],
      "text/plain": [
       "<IPython.core.display.HTML object>"
      ]
     },
     "metadata": {},
     "output_type": "display_data"
    },
    {
     "name": "stderr",
     "output_type": "stream",
     "text": [
      "\u001b[34m\u001b[1mwandb\u001b[0m: Agent Starting Run: arft566f with config:\n",
      "\u001b[34m\u001b[1mwandb\u001b[0m: \thidden_channels: 128\n",
      "\u001b[34m\u001b[1mwandb\u001b[0m: \tlearning_rate: 6.063489646943198e-06\n",
      "Failed to detect the name of this notebook, you can set it manually with the WANDB_NOTEBOOK_NAME environment variable to enable code saving.\n",
      "/usr/lib/python3/dist-packages/requests/__init__.py:87: RequestsDependencyWarning: urllib3 (2.2.3) or chardet (4.0.0) doesn't match a supported version!\n",
      "  warnings.warn(\"urllib3 ({}) or chardet ({}) doesn't match a supported \"\n"
     ]
    },
    {
     "data": {
      "text/html": [
       "wandb version 0.19.1 is available!  To upgrade, please run:\n",
       " $ pip install wandb --upgrade"
      ],
      "text/plain": [
       "<IPython.core.display.HTML object>"
      ]
     },
     "metadata": {},
     "output_type": "display_data"
    },
    {
     "data": {
      "text/html": [
       "Tracking run with wandb version 0.16.4"
      ],
      "text/plain": [
       "<IPython.core.display.HTML object>"
      ]
     },
     "metadata": {},
     "output_type": "display_data"
    },
    {
     "data": {
      "text/html": [
       "Run data is saved locally in <code>/mnt/alphafold-volume-1/dylan2/repos/tb-pnca-gnn/dd_pnca/wandb/run-20250105_142624-arft566f</code>"
      ],
      "text/plain": [
       "<IPython.core.display.HTML object>"
      ]
     },
     "metadata": {},
     "output_type": "display_data"
    },
    {
     "data": {
      "text/html": [
       "Syncing run <strong><a href='https://wandb.ai/dylan-home/pytorch-sweeps-demo/runs/arft566f' target=\"_blank\">vocal-sweep-5</a></strong> to <a href='https://wandb.ai/dylan-home/pytorch-sweeps-demo' target=\"_blank\">Weights & Biases</a> (<a href='https://wandb.me/run' target=\"_blank\">docs</a>)<br/>Sweep page: <a href='https://wandb.ai/dylan-home/pytorch-sweeps-demo/sweeps/93peolwf' target=\"_blank\">https://wandb.ai/dylan-home/pytorch-sweeps-demo/sweeps/93peolwf</a>"
      ],
      "text/plain": [
       "<IPython.core.display.HTML object>"
      ]
     },
     "metadata": {},
     "output_type": "display_data"
    },
    {
     "data": {
      "text/html": [
       " View project at <a href='https://wandb.ai/dylan-home/pytorch-sweeps-demo' target=\"_blank\">https://wandb.ai/dylan-home/pytorch-sweeps-demo</a>"
      ],
      "text/plain": [
       "<IPython.core.display.HTML object>"
      ]
     },
     "metadata": {},
     "output_type": "display_data"
    },
    {
     "data": {
      "text/html": [
       " View sweep at <a href='https://wandb.ai/dylan-home/pytorch-sweeps-demo/sweeps/93peolwf' target=\"_blank\">https://wandb.ai/dylan-home/pytorch-sweeps-demo/sweeps/93peolwf</a>"
      ],
      "text/plain": [
       "<IPython.core.display.HTML object>"
      ]
     },
     "metadata": {},
     "output_type": "display_data"
    },
    {
     "data": {
      "text/html": [
       " View run at <a href='https://wandb.ai/dylan-home/pytorch-sweeps-demo/runs/arft566f' target=\"_blank\">https://wandb.ai/dylan-home/pytorch-sweeps-demo/runs/arft566f</a>"
      ],
      "text/plain": [
       "<IPython.core.display.HTML object>"
      ]
     },
     "metadata": {},
     "output_type": "display_data"
    },
    {
     "name": "stdout",
     "output_type": "stream",
     "text": [
      "Using CUDA\n",
      "Early stopping enabled. Patience: 20. Min Delta: 0.\n",
      "Epoch: 010, Train Acc: 0.5264, Test Acc: 0.5110, Train Loss: 0.7027, Test Loss: 0.7102\n",
      "Epoch: 020, Train Acc: 0.5264, Test Acc: 0.5110, Train Loss: 0.6961, Test Loss: 0.7015\n",
      "Epoch: 030, Train Acc: 0.5256, Test Acc: 0.5077, Train Loss: 0.6940, Test Loss: 0.6976\n",
      "Epoch: 040, Train Acc: 0.4766, Test Acc: 0.4070, Train Loss: 0.6943, Test Loss: 0.6971\n",
      "Epoch: 050, Train Acc: 0.5064, Test Acc: 0.4600, Train Loss: 0.6939, Test Loss: 0.6970\n",
      "Epoch: 060, Train Acc: 0.5260, Test Acc: 0.5090, Train Loss: 0.6932, Test Loss: 0.6974\n",
      "Epoch: 070, Train Acc: 0.5171, Test Acc: 0.4840, Train Loss: 0.6932, Test Loss: 0.6963\n",
      "Epoch: 080, Train Acc: 0.5264, Test Acc: 0.5103, Train Loss: 0.6930, Test Loss: 0.6967\n",
      "Epoch: 090, Train Acc: 0.5264, Test Acc: 0.5110, Train Loss: 0.6927, Test Loss: 0.6968\n",
      "Epoch: 100, Train Acc: 0.5264, Test Acc: 0.5110, Train Loss: 0.6930, Test Loss: 0.6967\n",
      "Epoch: 110, Train Acc: 0.5264, Test Acc: 0.5110, Train Loss: 0.6923, Test Loss: 0.6958\n",
      "Epoch: 120, Train Acc: 0.5264, Test Acc: 0.5107, Train Loss: 0.6917, Test Loss: 0.6943\n",
      "Epoch: 130, Train Acc: 0.5187, Test Acc: 0.4967, Train Loss: 0.6919, Test Loss: 0.6936\n",
      "Epoch: 140, Train Acc: 0.5264, Test Acc: 0.5110, Train Loss: 0.6918, Test Loss: 0.6947\n",
      "Epoch: 150, Train Acc: 0.5264, Test Acc: 0.5110, Train Loss: 0.6906, Test Loss: 0.6929\n",
      "Epoch: 160, Train Acc: 0.5264, Test Acc: 0.5110, Train Loss: 0.6899, Test Loss: 0.6922\n",
      "Epoch: 170, Train Acc: 0.5264, Test Acc: 0.5103, Train Loss: 0.6900, Test Loss: 0.6913\n",
      "Epoch: 180, Train Acc: 0.5264, Test Acc: 0.5110, Train Loss: 0.6895, Test Loss: 0.6910\n",
      "Epoch: 190, Train Acc: 0.5266, Test Acc: 0.5107, Train Loss: 0.6891, Test Loss: 0.6902\n",
      "Epoch: 200, Train Acc: 0.5269, Test Acc: 0.5103, Train Loss: 0.6886, Test Loss: 0.6896\n",
      "Epoch: 210, Train Acc: 0.4966, Test Acc: 0.4647, Train Loss: 0.6889, Test Loss: 0.6888\n",
      "Epoch: 220, Train Acc: 0.5266, Test Acc: 0.5107, Train Loss: 0.6876, Test Loss: 0.6888\n",
      "Epoch: 230, Train Acc: 0.5269, Test Acc: 0.5103, Train Loss: 0.6867, Test Loss: 0.6878\n",
      "Epoch: 240, Train Acc: 0.5264, Test Acc: 0.5110, Train Loss: 0.6872, Test Loss: 0.6897\n",
      "Epoch: 250, Train Acc: 0.5214, Test Acc: 0.4983, Train Loss: 0.6855, Test Loss: 0.6857\n",
      "Epoch: 260, Train Acc: 0.5267, Test Acc: 0.5107, Train Loss: 0.6855, Test Loss: 0.6866\n",
      "Epoch: 270, Train Acc: 0.6804, Test Acc: 0.6583, Train Loss: 0.6856, Test Loss: 0.6841\n",
      "Epoch: 280, Train Acc: 0.4944, Test Acc: 0.4683, Train Loss: 0.6842, Test Loss: 0.6832\n",
      "Epoch: 290, Train Acc: 0.5219, Test Acc: 0.5027, Train Loss: 0.6836, Test Loss: 0.6831\n",
      "Epoch: 300, Train Acc: 0.5056, Test Acc: 0.4847, Train Loss: 0.6828, Test Loss: 0.6818\n",
      "Epoch: 310, Train Acc: 0.5224, Test Acc: 0.5083, Train Loss: 0.6825, Test Loss: 0.6823\n",
      "Epoch: 320, Train Acc: 0.4931, Test Acc: 0.4670, Train Loss: 0.6819, Test Loss: 0.6799\n",
      "Epoch: 330, Train Acc: 0.6577, Test Acc: 0.6557, Train Loss: 0.6828, Test Loss: 0.6793\n",
      "Epoch: 340, Train Acc: 0.5266, Test Acc: 0.5107, Train Loss: 0.6834, Test Loss: 0.6847\n",
      "Epoch: 350, Train Acc: 0.4953, Test Acc: 0.4670, Train Loss: 0.6796, Test Loss: 0.6774\n",
      "Epoch: 360, Train Acc: 0.4936, Test Acc: 0.4657, Train Loss: 0.6788, Test Loss: 0.6765\n",
      "Epoch: 370, Train Acc: 0.4946, Test Acc: 0.4663, Train Loss: 0.6779, Test Loss: 0.6757\n",
      "Epoch: 380, Train Acc: 0.5117, Test Acc: 0.4947, Train Loss: 0.6781, Test Loss: 0.6762\n",
      "Epoch: 390, Train Acc: 0.4947, Test Acc: 0.4650, Train Loss: 0.6767, Test Loss: 0.6739\n",
      "Epoch: 400, Train Acc: 0.4936, Test Acc: 0.4777, Train Loss: 0.6760, Test Loss: 0.6736\n"
     ]
    },
    {
     "data": {
      "text/html": [
       "<style>\n",
       "    table.wandb td:nth-child(1) { padding: 0 10px; text-align: left ; width: auto;} td:nth-child(2) {text-align: left ; width: 100%}\n",
       "    .wandb-row { display: flex; flex-direction: row; flex-wrap: wrap; justify-content: flex-start; width: 100% }\n",
       "    .wandb-col { display: flex; flex-direction: column; flex-basis: 100%; flex: 1; padding: 10px; }\n",
       "    </style>\n",
       "<div class=\"wandb-row\"><div class=\"wandb-col\"><h3>Run history:</h3><br/><table class=\"wandb\"><tr><td>Test Accuracy</td><td>▃▃▃▃▃▃▂▃▃▃▃▃▃▃▃▃▃▂▂▃▃▂▃▃▃█▃▃▂▃▃▂▁▁▂▃▃▂▂▂</td></tr><tr><td>Test F1</td><td>████▇█▇██████████▇▆██▇███▅██▆██▆▁▃▇██▅▆▄</td></tr><tr><td>Test Loss</td><td>█▅▅▄▄▄▄▄▄▄▄▄▄▄▄▄▄▃▃▃▃▃▃▃▃▃▃▃▂▂▂▂▂▂▂▂▂▁▁▁</td></tr><tr><td>Test Sensitivity</td><td>██████████████████▇██▇███▁██▇██▇▄▅███▆▇▆</td></tr><tr><td>Test Specificity</td><td>▁▁▁▁▁▁▁▁▁▁▁▁▁▁▁▁▁▁▁▁▁▁▁▁▁█▁▁▁▁▁▁▂▂▁▁▁▁▁▂</td></tr><tr><td>Train Accuracy</td><td>▂▂▂▂▂▂▂▂▂▂▂▂▂▂▂▂▂▂▂▂▂▂▂▂▂█▂▂▂▂▂▂▁▁▂▂▂▁▂▁</td></tr><tr><td>Train F1</td><td>█████████████████▇▆██▇███▇▇█▆█▇▇▁▃▇█▇▄▆▃</td></tr><tr><td>Train Loss</td><td>█▅▄▄▄▄▄▄▄▄▄▄▄▄▄▄▄▄▃▃▃▃▃▃▃▃▃▃▂▂▂▂▂▂▂▂▂▁▁▁</td></tr><tr><td>Train Sensitivity</td><td>██████████████████▇██████▁██▇██▇▅▆███▆▇▆</td></tr><tr><td>Train Specificity</td><td>▁▁▁▁▁▁▁▁▁▁▁▁▁▁▁▁▁▁▁▁▁▁▁▁▁█▁▁▁▁▁▁▂▂▁▁▁▁▁▁</td></tr></table><br/></div><div class=\"wandb-col\"><h3>Run summary:</h3><br/><table class=\"wandb\"><tr><td>Test Accuracy</td><td>0.47767</td></tr><tr><td>Test F1</td><td>0.6319</td></tr><tr><td>Test Loss</td><td>0.67365</td></tr><tr><td>Test Sensitivity</td><td>0.87736</td></tr><tr><td>Test Specificity</td><td>0.05999</td></tr><tr><td>Train Accuracy</td><td>0.49357</td></tr><tr><td>Train F1</td><td>0.65029</td></tr><tr><td>Train Loss</td><td>0.67604</td></tr><tr><td>Train Sensitivity</td><td>0.89444</td></tr><tr><td>Train Specificity</td><td>0.04796</td></tr></table><br/></div></div>"
      ],
      "text/plain": [
       "<IPython.core.display.HTML object>"
      ]
     },
     "metadata": {},
     "output_type": "display_data"
    },
    {
     "data": {
      "text/html": [
       " View run <strong style=\"color:#cdcd00\">vocal-sweep-5</strong> at: <a href='https://wandb.ai/dylan-home/pytorch-sweeps-demo/runs/arft566f' target=\"_blank\">https://wandb.ai/dylan-home/pytorch-sweeps-demo/runs/arft566f</a><br/>Synced 5 W&B file(s), 0 media file(s), 0 artifact file(s) and 0 other file(s)"
      ],
      "text/plain": [
       "<IPython.core.display.HTML object>"
      ]
     },
     "metadata": {},
     "output_type": "display_data"
    },
    {
     "data": {
      "text/html": [
       "Find logs at: <code>./wandb/run-20250105_142624-arft566f/logs</code>"
      ],
      "text/plain": [
       "<IPython.core.display.HTML object>"
      ]
     },
     "metadata": {},
     "output_type": "display_data"
    },
    {
     "name": "stderr",
     "output_type": "stream",
     "text": [
      "\u001b[34m\u001b[1mwandb\u001b[0m: Agent Starting Run: g02c2b4i with config:\n",
      "\u001b[34m\u001b[1mwandb\u001b[0m: \thidden_channels: 32\n",
      "\u001b[34m\u001b[1mwandb\u001b[0m: \tlearning_rate: 3.683345119238253e-05\n",
      "Failed to detect the name of this notebook, you can set it manually with the WANDB_NOTEBOOK_NAME environment variable to enable code saving.\n",
      "/usr/lib/python3/dist-packages/requests/__init__.py:87: RequestsDependencyWarning: urllib3 (2.2.3) or chardet (4.0.0) doesn't match a supported version!\n",
      "  warnings.warn(\"urllib3 ({}) or chardet ({}) doesn't match a supported \"\n"
     ]
    },
    {
     "data": {
      "text/html": [
       "wandb version 0.19.1 is available!  To upgrade, please run:\n",
       " $ pip install wandb --upgrade"
      ],
      "text/plain": [
       "<IPython.core.display.HTML object>"
      ]
     },
     "metadata": {},
     "output_type": "display_data"
    },
    {
     "data": {
      "text/html": [
       "Tracking run with wandb version 0.16.4"
      ],
      "text/plain": [
       "<IPython.core.display.HTML object>"
      ]
     },
     "metadata": {},
     "output_type": "display_data"
    },
    {
     "data": {
      "text/html": [
       "Run data is saved locally in <code>/mnt/alphafold-volume-1/dylan2/repos/tb-pnca-gnn/dd_pnca/wandb/run-20250105_143811-g02c2b4i</code>"
      ],
      "text/plain": [
       "<IPython.core.display.HTML object>"
      ]
     },
     "metadata": {},
     "output_type": "display_data"
    },
    {
     "data": {
      "text/html": [
       "Syncing run <strong><a href='https://wandb.ai/dylan-home/pytorch-sweeps-demo/runs/g02c2b4i' target=\"_blank\">warm-sweep-6</a></strong> to <a href='https://wandb.ai/dylan-home/pytorch-sweeps-demo' target=\"_blank\">Weights & Biases</a> (<a href='https://wandb.me/run' target=\"_blank\">docs</a>)<br/>Sweep page: <a href='https://wandb.ai/dylan-home/pytorch-sweeps-demo/sweeps/93peolwf' target=\"_blank\">https://wandb.ai/dylan-home/pytorch-sweeps-demo/sweeps/93peolwf</a>"
      ],
      "text/plain": [
       "<IPython.core.display.HTML object>"
      ]
     },
     "metadata": {},
     "output_type": "display_data"
    },
    {
     "data": {
      "text/html": [
       " View project at <a href='https://wandb.ai/dylan-home/pytorch-sweeps-demo' target=\"_blank\">https://wandb.ai/dylan-home/pytorch-sweeps-demo</a>"
      ],
      "text/plain": [
       "<IPython.core.display.HTML object>"
      ]
     },
     "metadata": {},
     "output_type": "display_data"
    },
    {
     "data": {
      "text/html": [
       " View sweep at <a href='https://wandb.ai/dylan-home/pytorch-sweeps-demo/sweeps/93peolwf' target=\"_blank\">https://wandb.ai/dylan-home/pytorch-sweeps-demo/sweeps/93peolwf</a>"
      ],
      "text/plain": [
       "<IPython.core.display.HTML object>"
      ]
     },
     "metadata": {},
     "output_type": "display_data"
    },
    {
     "data": {
      "text/html": [
       " View run at <a href='https://wandb.ai/dylan-home/pytorch-sweeps-demo/runs/g02c2b4i' target=\"_blank\">https://wandb.ai/dylan-home/pytorch-sweeps-demo/runs/g02c2b4i</a>"
      ],
      "text/plain": [
       "<IPython.core.display.HTML object>"
      ]
     },
     "metadata": {},
     "output_type": "display_data"
    },
    {
     "name": "stdout",
     "output_type": "stream",
     "text": [
      "Using CUDA\n",
      "Early stopping enabled. Patience: 20. Min Delta: 0.\n",
      "Epoch: 010, Train Acc: 0.5263, Test Acc: 0.5110, Train Loss: 0.6949, Test Loss: 0.6999\n",
      "Epoch: 020, Train Acc: 0.5260, Test Acc: 0.5090, Train Loss: 0.6931, Test Loss: 0.6955\n",
      "Epoch: 030, Train Acc: 0.5263, Test Acc: 0.5107, Train Loss: 0.6931, Test Loss: 0.6955\n",
      "Epoch: 040, Train Acc: 0.5260, Test Acc: 0.5087, Train Loss: 0.6927, Test Loss: 0.6947\n",
      "Epoch: 050, Train Acc: 0.5261, Test Acc: 0.5087, Train Loss: 0.6924, Test Loss: 0.6945\n",
      "Epoch: 060, Train Acc: 0.5259, Test Acc: 0.5073, Train Loss: 0.6921, Test Loss: 0.6939\n",
      "Epoch: 070, Train Acc: 0.5261, Test Acc: 0.5073, Train Loss: 0.6920, Test Loss: 0.6936\n",
      "Epoch: 080, Train Acc: 0.5263, Test Acc: 0.5097, Train Loss: 0.6919, Test Loss: 0.6935\n",
      "Epoch: 090, Train Acc: 0.5263, Test Acc: 0.5110, Train Loss: 0.6917, Test Loss: 0.6934\n",
      "Epoch: 100, Train Acc: 0.5263, Test Acc: 0.5110, Train Loss: 0.6912, Test Loss: 0.6929\n",
      "Epoch: 110, Train Acc: 0.5260, Test Acc: 0.5043, Train Loss: 0.6912, Test Loss: 0.6919\n",
      "Epoch: 120, Train Acc: 0.5264, Test Acc: 0.5110, Train Loss: 0.6904, Test Loss: 0.6923\n",
      "Epoch: 130, Train Acc: 0.5264, Test Acc: 0.5110, Train Loss: 0.6897, Test Loss: 0.6911\n",
      "Epoch: 140, Train Acc: 0.5263, Test Acc: 0.5110, Train Loss: 0.6896, Test Loss: 0.6904\n",
      "Epoch: 150, Train Acc: 0.5261, Test Acc: 0.5110, Train Loss: 0.6890, Test Loss: 0.6891\n",
      "Epoch: 160, Train Acc: 0.5263, Test Acc: 0.5110, Train Loss: 0.6886, Test Loss: 0.6894\n",
      "Epoch: 170, Train Acc: 0.5086, Test Acc: 0.4983, Train Loss: 0.6885, Test Loss: 0.6877\n",
      "Epoch: 180, Train Acc: 0.5259, Test Acc: 0.5110, Train Loss: 0.6875, Test Loss: 0.6875\n",
      "Epoch: 190, Train Acc: 0.5201, Test Acc: 0.5080, Train Loss: 0.6866, Test Loss: 0.6862\n",
      "Epoch: 200, Train Acc: 0.5247, Test Acc: 0.5107, Train Loss: 0.6861, Test Loss: 0.6861\n",
      "Epoch: 210, Train Acc: 0.5181, Test Acc: 0.5067, Train Loss: 0.6856, Test Loss: 0.6845\n",
      "Epoch: 220, Train Acc: 0.5237, Test Acc: 0.5103, Train Loss: 0.6848, Test Loss: 0.6843\n",
      "Epoch: 230, Train Acc: 0.5214, Test Acc: 0.5077, Train Loss: 0.6844, Test Loss: 0.6834\n",
      "Epoch: 240, Train Acc: 0.5227, Test Acc: 0.5103, Train Loss: 0.6839, Test Loss: 0.6830\n",
      "Epoch: 250, Train Acc: 0.5244, Test Acc: 0.5110, Train Loss: 0.6841, Test Loss: 0.6833\n",
      "Epoch: 260, Train Acc: 0.5244, Test Acc: 0.5110, Train Loss: 0.6836, Test Loss: 0.6829\n",
      "Epoch: 270, Train Acc: 0.4871, Test Acc: 0.4687, Train Loss: 0.6816, Test Loss: 0.6787\n",
      "Epoch: 280, Train Acc: 0.5167, Test Acc: 0.5073, Train Loss: 0.6813, Test Loss: 0.6792\n",
      "Epoch: 290, Train Acc: 0.5179, Test Acc: 0.5063, Train Loss: 0.6804, Test Loss: 0.6789\n",
      "Epoch: 300, Train Acc: 0.4837, Test Acc: 0.4657, Train Loss: 0.6796, Test Loss: 0.6752\n",
      "Epoch: 310, Train Acc: 0.6851, Test Acc: 0.6423, Train Loss: 0.6785, Test Loss: 0.6740\n",
      "Epoch: 320, Train Acc: 0.5011, Test Acc: 0.4863, Train Loss: 0.6773, Test Loss: 0.6738\n",
      "Epoch: 330, Train Acc: 0.5131, Test Acc: 0.5053, Train Loss: 0.6774, Test Loss: 0.6751\n",
      "Epoch: 340, Train Acc: 0.6576, Test Acc: 0.6657, Train Loss: 0.6776, Test Loss: 0.6706\n",
      "Epoch: 350, Train Acc: 0.6924, Test Acc: 0.6737, Train Loss: 0.6751, Test Loss: 0.6685\n",
      "Epoch: 360, Train Acc: 0.4846, Test Acc: 0.4727, Train Loss: 0.6725, Test Loss: 0.6676\n",
      "Epoch: 370, Train Acc: 0.4831, Test Acc: 0.4720, Train Loss: 0.6715, Test Loss: 0.6661\n",
      "Epoch: 380, Train Acc: 0.4844, Test Acc: 0.4693, Train Loss: 0.6703, Test Loss: 0.6645\n",
      "Epoch: 390, Train Acc: 0.4830, Test Acc: 0.4760, Train Loss: 0.6687, Test Loss: 0.6631\n",
      "Epoch: 400, Train Acc: 0.6917, Test Acc: 0.6600, Train Loss: 0.6673, Test Loss: 0.6610\n"
     ]
    },
    {
     "data": {
      "text/html": [
       "<style>\n",
       "    table.wandb td:nth-child(1) { padding: 0 10px; text-align: left ; width: auto;} td:nth-child(2) {text-align: left ; width: 100%}\n",
       "    .wandb-row { display: flex; flex-direction: row; flex-wrap: wrap; justify-content: flex-start; width: 100% }\n",
       "    .wandb-col { display: flex; flex-direction: column; flex-basis: 100%; flex: 1; padding: 10px; }\n",
       "    </style>\n",
       "<div class=\"wandb-row\"><div class=\"wandb-col\"><h3>Run history:</h3><br/><table class=\"wandb\"><tr><td>Test Accuracy</td><td>▃▃▃▃▃▃▂▃▃▃▃▃▃▃▃▃▃▃▂▁▁▃▂▃▂▇█▇▃▂▇▁▁▁▂█▁█▁█</td></tr><tr><td>Test F1</td><td>██████▇▇██████████▆▁▃▇▆█▇▇▅▇▇▆▇▄▄▂▆▅▃▃▃█</td></tr><tr><td>Test Loss</td><td>█▂▂▂▂▂▂▂▂▂▂▂▂▂▂▂▂▂▂▂▂▂▂▂▂▂▁▁▁▁▁▁▁▁▁▁▁▁▁▁</td></tr><tr><td>Test Sensitivity</td><td>██████████████████▇▄▆█▇██▄▂▄█▇▄▆▆▄▇▂▅▁▆▄</td></tr><tr><td>Test Specificity</td><td>▁▁▁▁▁▁▁▁▁▁▁▁▁▁▁▁▁▁▁▃▂▁▁▁▁▆▇▆▁▁▆▁▂▂▁█▂█▂▆</td></tr><tr><td>Train Accuracy</td><td>▂▂▂▂▂▂▂▂▂▂▂▂▂▂▂▂▂▂▂▁▁▂▂▂▂███▂▂█▁▁▂▂█▁▇▁█</td></tr><tr><td>Train F1</td><td>▇▇▇▇▇▇▇▇▇▇▇▇▇▇▇▇▇▇▆▂▄▇▆▇▆▇▄▇▇▆▇▅▅▃▆▄▃▁▄█</td></tr><tr><td>Train Loss</td><td>█▂▂▂▂▂▂▂▂▂▂▂▂▂▂▂▂▂▂▂▂▂▂▂▂▂▁▁▁▁▁▁▁▁▁▁▁▁▁▁</td></tr><tr><td>Train Sensitivity</td><td>██████████████████▇▄▆█▇██▄▂▄█▇▄▇▇▅▇▂▆▁▆▅</td></tr><tr><td>Train Specificity</td><td>▁▁▁▁▁▁▁▁▁▁▁▁▁▁▁▁▁▁▁▃▂▁▁▁▁▆█▆▁▁▆▁▁▃▁█▂█▂▆</td></tr></table><br/></div><div class=\"wandb-col\"><h3>Run summary:</h3><br/><table class=\"wandb\"><tr><td>Test Accuracy</td><td>0.66</td></tr><tr><td>Test F1</td><td>0.68185</td></tr><tr><td>Test Loss</td><td>0.661</td></tr><tr><td>Test Sensitivity</td><td>0.71298</td></tr><tr><td>Test Specificity</td><td>0.60464</td></tr><tr><td>Train Accuracy</td><td>0.69171</td></tr><tr><td>Train F1</td><td>0.70956</td></tr><tr><td>Train Loss</td><td>0.66734</td></tr><tr><td>Train Sensitivity</td><td>0.71533</td></tr><tr><td>Train Specificity</td><td>0.66546</td></tr></table><br/></div></div>"
      ],
      "text/plain": [
       "<IPython.core.display.HTML object>"
      ]
     },
     "metadata": {},
     "output_type": "display_data"
    },
    {
     "data": {
      "text/html": [
       " View run <strong style=\"color:#cdcd00\">warm-sweep-6</strong> at: <a href='https://wandb.ai/dylan-home/pytorch-sweeps-demo/runs/g02c2b4i' target=\"_blank\">https://wandb.ai/dylan-home/pytorch-sweeps-demo/runs/g02c2b4i</a><br/>Synced 5 W&B file(s), 0 media file(s), 0 artifact file(s) and 0 other file(s)"
      ],
      "text/plain": [
       "<IPython.core.display.HTML object>"
      ]
     },
     "metadata": {},
     "output_type": "display_data"
    },
    {
     "data": {
      "text/html": [
       "Find logs at: <code>./wandb/run-20250105_143811-g02c2b4i/logs</code>"
      ],
      "text/plain": [
       "<IPython.core.display.HTML object>"
      ]
     },
     "metadata": {},
     "output_type": "display_data"
    },
    {
     "name": "stderr",
     "output_type": "stream",
     "text": [
      "\u001b[34m\u001b[1mwandb\u001b[0m: Agent Starting Run: wrajyu0f with config:\n",
      "\u001b[34m\u001b[1mwandb\u001b[0m: \thidden_channels: 32\n",
      "\u001b[34m\u001b[1mwandb\u001b[0m: \tlearning_rate: 0.00016788890920911123\n",
      "Failed to detect the name of this notebook, you can set it manually with the WANDB_NOTEBOOK_NAME environment variable to enable code saving.\n",
      "/usr/lib/python3/dist-packages/requests/__init__.py:87: RequestsDependencyWarning: urllib3 (2.2.3) or chardet (4.0.0) doesn't match a supported version!\n",
      "  warnings.warn(\"urllib3 ({}) or chardet ({}) doesn't match a supported \"\n"
     ]
    },
    {
     "data": {
      "text/html": [
       "wandb version 0.19.1 is available!  To upgrade, please run:\n",
       " $ pip install wandb --upgrade"
      ],
      "text/plain": [
       "<IPython.core.display.HTML object>"
      ]
     },
     "metadata": {},
     "output_type": "display_data"
    },
    {
     "data": {
      "text/html": [
       "Tracking run with wandb version 0.16.4"
      ],
      "text/plain": [
       "<IPython.core.display.HTML object>"
      ]
     },
     "metadata": {},
     "output_type": "display_data"
    },
    {
     "data": {
      "text/html": [
       "Run data is saved locally in <code>/mnt/alphafold-volume-1/dylan2/repos/tb-pnca-gnn/dd_pnca/wandb/run-20250105_144857-wrajyu0f</code>"
      ],
      "text/plain": [
       "<IPython.core.display.HTML object>"
      ]
     },
     "metadata": {},
     "output_type": "display_data"
    },
    {
     "data": {
      "text/html": [
       "Syncing run <strong><a href='https://wandb.ai/dylan-home/pytorch-sweeps-demo/runs/wrajyu0f' target=\"_blank\">icy-sweep-7</a></strong> to <a href='https://wandb.ai/dylan-home/pytorch-sweeps-demo' target=\"_blank\">Weights & Biases</a> (<a href='https://wandb.me/run' target=\"_blank\">docs</a>)<br/>Sweep page: <a href='https://wandb.ai/dylan-home/pytorch-sweeps-demo/sweeps/93peolwf' target=\"_blank\">https://wandb.ai/dylan-home/pytorch-sweeps-demo/sweeps/93peolwf</a>"
      ],
      "text/plain": [
       "<IPython.core.display.HTML object>"
      ]
     },
     "metadata": {},
     "output_type": "display_data"
    },
    {
     "data": {
      "text/html": [
       " View project at <a href='https://wandb.ai/dylan-home/pytorch-sweeps-demo' target=\"_blank\">https://wandb.ai/dylan-home/pytorch-sweeps-demo</a>"
      ],
      "text/plain": [
       "<IPython.core.display.HTML object>"
      ]
     },
     "metadata": {},
     "output_type": "display_data"
    },
    {
     "data": {
      "text/html": [
       " View sweep at <a href='https://wandb.ai/dylan-home/pytorch-sweeps-demo/sweeps/93peolwf' target=\"_blank\">https://wandb.ai/dylan-home/pytorch-sweeps-demo/sweeps/93peolwf</a>"
      ],
      "text/plain": [
       "<IPython.core.display.HTML object>"
      ]
     },
     "metadata": {},
     "output_type": "display_data"
    },
    {
     "data": {
      "text/html": [
       " View run at <a href='https://wandb.ai/dylan-home/pytorch-sweeps-demo/runs/wrajyu0f' target=\"_blank\">https://wandb.ai/dylan-home/pytorch-sweeps-demo/runs/wrajyu0f</a>"
      ],
      "text/plain": [
       "<IPython.core.display.HTML object>"
      ]
     },
     "metadata": {},
     "output_type": "display_data"
    },
    {
     "name": "stdout",
     "output_type": "stream",
     "text": [
      "Using CUDA\n",
      "Early stopping enabled. Patience: 20. Min Delta: 0.\n",
      "Epoch: 010, Train Acc: 0.5263, Test Acc: 0.5110, Train Loss: 0.6926, Test Loss: 0.6956\n",
      "Epoch: 020, Train Acc: 0.5264, Test Acc: 0.5110, Train Loss: 0.6927, Test Loss: 0.6953\n",
      "Epoch: 030, Train Acc: 0.5264, Test Acc: 0.5110, Train Loss: 0.6949, Test Loss: 0.6980\n",
      "Epoch: 040, Train Acc: 0.5263, Test Acc: 0.5110, Train Loss: 0.6895, Test Loss: 0.6905\n",
      "Epoch: 050, Train Acc: 0.4731, Test Acc: 0.4543, Train Loss: 0.6892, Test Loss: 0.6884\n",
      "Epoch: 060, Train Acc: 0.4939, Test Acc: 0.4680, Train Loss: 0.6873, Test Loss: 0.6863\n",
      "Epoch: 070, Train Acc: 0.5217, Test Acc: 0.5747, Train Loss: 0.6898, Test Loss: 0.6863\n",
      "Epoch: 080, Train Acc: 0.5110, Test Acc: 0.5567, Train Loss: 0.6899, Test Loss: 0.6858\n",
      "Epoch: 090, Train Acc: 0.5236, Test Acc: 0.5093, Train Loss: 0.6822, Test Loss: 0.6817\n",
      "Epoch: 100, Train Acc: 0.5240, Test Acc: 0.5093, Train Loss: 0.6804, Test Loss: 0.6803\n",
      "Epoch: 110, Train Acc: 0.5000, Test Acc: 0.4840, Train Loss: 0.6774, Test Loss: 0.6755\n",
      "Epoch: 120, Train Acc: 0.4926, Test Acc: 0.4773, Train Loss: 0.6749, Test Loss: 0.6726\n",
      "Epoch: 130, Train Acc: 0.4893, Test Acc: 0.4747, Train Loss: 0.6718, Test Loss: 0.6693\n",
      "Epoch: 140, Train Acc: 0.5427, Test Acc: 0.6127, Train Loss: 0.6832, Test Loss: 0.6735\n",
      "Epoch: 150, Train Acc: 0.7037, Test Acc: 0.6793, Train Loss: 0.6672, Test Loss: 0.6615\n",
      "Epoch: 160, Train Acc: 0.7121, Test Acc: 0.6830, Train Loss: 0.6617, Test Loss: 0.6556\n",
      "Epoch: 170, Train Acc: 0.5186, Test Acc: 0.5063, Train Loss: 0.6714, Test Loss: 0.6716\n",
      "Epoch: 180, Train Acc: 0.7021, Test Acc: 0.6743, Train Loss: 0.6547, Test Loss: 0.6457\n",
      "Epoch: 190, Train Acc: 0.5041, Test Acc: 0.4880, Train Loss: 0.6574, Test Loss: 0.6568\n",
      "Epoch: 200, Train Acc: 0.4957, Test Acc: 0.4770, Train Loss: 0.6511, Test Loss: 0.6473\n",
      "Epoch: 210, Train Acc: 0.7106, Test Acc: 0.6710, Train Loss: 0.6423, Test Loss: 0.6345\n",
      "Epoch: 220, Train Acc: 0.4987, Test Acc: 0.4830, Train Loss: 0.6400, Test Loss: 0.6352\n",
      "Epoch: 230, Train Acc: 0.6720, Test Acc: 0.6837, Train Loss: 0.6406, Test Loss: 0.6264\n",
      "Epoch: 240, Train Acc: 0.5037, Test Acc: 0.4820, Train Loss: 0.6349, Test Loss: 0.6305\n",
      "Epoch: 250, Train Acc: 0.6840, Test Acc: 0.6893, Train Loss: 0.6318, Test Loss: 0.6184\n",
      "Epoch: 260, Train Acc: 0.7237, Test Acc: 0.6927, Train Loss: 0.6236, Test Loss: 0.6167\n",
      "Epoch: 270, Train Acc: 0.6846, Test Acc: 0.6873, Train Loss: 0.6251, Test Loss: 0.6115\n",
      "Epoch: 280, Train Acc: 0.7227, Test Acc: 0.6883, Train Loss: 0.6155, Test Loss: 0.6083\n",
      "Epoch: 290, Train Acc: 0.5084, Test Acc: 0.4883, Train Loss: 0.6232, Test Loss: 0.6269\n",
      "Epoch: 300, Train Acc: 0.6909, Test Acc: 0.6900, Train Loss: 0.6175, Test Loss: 0.6047\n",
      "Epoch: 310, Train Acc: 0.7353, Test Acc: 0.6970, Train Loss: 0.6051, Test Loss: 0.5996\n",
      "Epoch: 320, Train Acc: 0.7179, Test Acc: 0.6900, Train Loss: 0.6042, Test Loss: 0.5958\n",
      "Epoch: 330, Train Acc: 0.7113, Test Acc: 0.6913, Train Loss: 0.6025, Test Loss: 0.5950\n",
      "Epoch: 340, Train Acc: 0.7119, Test Acc: 0.6987, Train Loss: 0.5961, Test Loss: 0.5904\n",
      "Epoch: 350, Train Acc: 0.7439, Test Acc: 0.7063, Train Loss: 0.5927, Test Loss: 0.5967\n",
      "Epoch: 360, Train Acc: 0.6904, Test Acc: 0.6920, Train Loss: 0.6019, Test Loss: 0.5921\n",
      "Epoch: 370, Train Acc: 0.7233, Test Acc: 0.7000, Train Loss: 0.5865, Test Loss: 0.5837\n",
      "Epoch: 380, Train Acc: 0.7509, Test Acc: 0.6967, Train Loss: 0.5873, Test Loss: 0.5960\n",
      "Epoch: 390, Train Acc: 0.7273, Test Acc: 0.6943, Train Loss: 0.5773, Test Loss: 0.5788\n",
      "Epoch: 400, Train Acc: 0.7061, Test Acc: 0.7000, Train Loss: 0.5839, Test Loss: 0.5797\n"
     ]
    },
    {
     "data": {
      "text/html": [
       "<style>\n",
       "    table.wandb td:nth-child(1) { padding: 0 10px; text-align: left ; width: auto;} td:nth-child(2) {text-align: left ; width: 100%}\n",
       "    .wandb-row { display: flex; flex-direction: row; flex-wrap: wrap; justify-content: flex-start; width: 100% }\n",
       "    .wandb-col { display: flex; flex-direction: column; flex-basis: 100%; flex: 1; padding: 10px; }\n",
       "    </style>\n",
       "<div class=\"wandb-row\"><div class=\"wandb-col\"><h3>Run history:</h3><br/><table class=\"wandb\"><tr><td>Test Accuracy</td><td>▃▃▃▁▂▃▃▂▂▂▆▇▂▂▂▇▇▂▇▂█▂▂██▂██▂███████████</td></tr><tr><td>Test F1</td><td>▇▇▇▄▆▇▇▅▄▆▁▂▆▆▅▆▆▆▇▅▇▆▅▇▇▅█▇▆█▆▆▆▇▇▇▇▇▆▆</td></tr><tr><td>Test Loss</td><td>████▇█▇▇▇▇▇▇▆▆▆▆▅▅▅▅▄▆▄▃▃▄▃▃▅▃▂▂▂▂▂▂▁▁▁▁</td></tr><tr><td>Test Sensitivity</td><td>███▅▇██▆▅▇▁▂▇▆▆▃▃▇▅▆▅▇▆▄▄▆▅▄▇▅▃▃▃▄▄▄▄▄▃▃</td></tr><tr><td>Test Specificity</td><td>▁▁▁▂▁▁▁▂▂▁██▁▂▂▇▇▁▅▂▆▁▂▇▇▂▆▇▁▆▇▇▇▇▇▇▇▇▇▇</td></tr><tr><td>Train Accuracy</td><td>▃▃▃▁▂▃▃▂▂▂▄▅▂▂▂▇▇▂▇▂▇▂▂▇▇▂██▂█▇▇▇██▇██▇▇</td></tr><tr><td>Train F1</td><td>▇▇▇▅▆▇▇▆▅▆▁▂▆▆▆▆▆▆▇▆▇▆▆▇▇▆█▇▆█▆▆▅█▇▇▇▇▅▆</td></tr><tr><td>Train Loss</td><td>███████▇▇▇▇▇▇▆▆▆▆▆▅▅▅▆▅▄▄▄▄▃▄▃▃▃▃▂▂▂▁▁▂▁</td></tr><tr><td>Train Sensitivity</td><td>███▆▇██▇▆▇▁▂▇▇▇▄▄▇▆▆▅▇▇▄▄▇▆▄▇▅▃▄▃▅▄▄▄▄▃▃</td></tr><tr><td>Train Specificity</td><td>▁▁▁▂▁▁▁▁▃▁██▁▂▂██▁▆▂▇▁▂▇▇▂▆▇▁▆███▇▇█▇▇██</td></tr></table><br/></div><div class=\"wandb-col\"><h3>Run summary:</h3><br/><table class=\"wandb\"><tr><td>Test Accuracy</td><td>0.7</td></tr><tr><td>Test F1</td><td>0.65062</td></tr><tr><td>Test Loss</td><td>0.57973</td></tr><tr><td>Test Sensitivity</td><td>0.54664</td></tr><tr><td>Test Specificity</td><td>0.86026</td></tr><tr><td>Train Accuracy</td><td>0.70614</td></tr><tr><td>Train F1</td><td>0.64939</td></tr><tr><td>Train Loss</td><td>0.58394</td></tr><tr><td>Train Sensitivity</td><td>0.51696</td></tr><tr><td>Train Specificity</td><td>0.91644</td></tr></table><br/></div></div>"
      ],
      "text/plain": [
       "<IPython.core.display.HTML object>"
      ]
     },
     "metadata": {},
     "output_type": "display_data"
    },
    {
     "data": {
      "text/html": [
       " View run <strong style=\"color:#cdcd00\">icy-sweep-7</strong> at: <a href='https://wandb.ai/dylan-home/pytorch-sweeps-demo/runs/wrajyu0f' target=\"_blank\">https://wandb.ai/dylan-home/pytorch-sweeps-demo/runs/wrajyu0f</a><br/>Synced 5 W&B file(s), 0 media file(s), 0 artifact file(s) and 0 other file(s)"
      ],
      "text/plain": [
       "<IPython.core.display.HTML object>"
      ]
     },
     "metadata": {},
     "output_type": "display_data"
    },
    {
     "data": {
      "text/html": [
       "Find logs at: <code>./wandb/run-20250105_144857-wrajyu0f/logs</code>"
      ],
      "text/plain": [
       "<IPython.core.display.HTML object>"
      ]
     },
     "metadata": {},
     "output_type": "display_data"
    },
    {
     "name": "stderr",
     "output_type": "stream",
     "text": [
      "\u001b[34m\u001b[1mwandb\u001b[0m: Agent Starting Run: gdge2p8c with config:\n",
      "\u001b[34m\u001b[1mwandb\u001b[0m: \thidden_channels: 256\n",
      "\u001b[34m\u001b[1mwandb\u001b[0m: \tlearning_rate: 0.0028251571054056903\n",
      "Failed to detect the name of this notebook, you can set it manually with the WANDB_NOTEBOOK_NAME environment variable to enable code saving.\n",
      "/usr/lib/python3/dist-packages/requests/__init__.py:87: RequestsDependencyWarning: urllib3 (2.2.3) or chardet (4.0.0) doesn't match a supported version!\n",
      "  warnings.warn(\"urllib3 ({}) or chardet ({}) doesn't match a supported \"\n"
     ]
    },
    {
     "data": {
      "text/html": [
       "wandb version 0.19.1 is available!  To upgrade, please run:\n",
       " $ pip install wandb --upgrade"
      ],
      "text/plain": [
       "<IPython.core.display.HTML object>"
      ]
     },
     "metadata": {},
     "output_type": "display_data"
    },
    {
     "data": {
      "text/html": [
       "Tracking run with wandb version 0.16.4"
      ],
      "text/plain": [
       "<IPython.core.display.HTML object>"
      ]
     },
     "metadata": {},
     "output_type": "display_data"
    },
    {
     "data": {
      "text/html": [
       "Run data is saved locally in <code>/mnt/alphafold-volume-1/dylan2/repos/tb-pnca-gnn/dd_pnca/wandb/run-20250105_145942-gdge2p8c</code>"
      ],
      "text/plain": [
       "<IPython.core.display.HTML object>"
      ]
     },
     "metadata": {},
     "output_type": "display_data"
    },
    {
     "data": {
      "text/html": [
       "Syncing run <strong><a href='https://wandb.ai/dylan-home/pytorch-sweeps-demo/runs/gdge2p8c' target=\"_blank\">different-sweep-8</a></strong> to <a href='https://wandb.ai/dylan-home/pytorch-sweeps-demo' target=\"_blank\">Weights & Biases</a> (<a href='https://wandb.me/run' target=\"_blank\">docs</a>)<br/>Sweep page: <a href='https://wandb.ai/dylan-home/pytorch-sweeps-demo/sweeps/93peolwf' target=\"_blank\">https://wandb.ai/dylan-home/pytorch-sweeps-demo/sweeps/93peolwf</a>"
      ],
      "text/plain": [
       "<IPython.core.display.HTML object>"
      ]
     },
     "metadata": {},
     "output_type": "display_data"
    },
    {
     "data": {
      "text/html": [
       " View project at <a href='https://wandb.ai/dylan-home/pytorch-sweeps-demo' target=\"_blank\">https://wandb.ai/dylan-home/pytorch-sweeps-demo</a>"
      ],
      "text/plain": [
       "<IPython.core.display.HTML object>"
      ]
     },
     "metadata": {},
     "output_type": "display_data"
    },
    {
     "data": {
      "text/html": [
       " View sweep at <a href='https://wandb.ai/dylan-home/pytorch-sweeps-demo/sweeps/93peolwf' target=\"_blank\">https://wandb.ai/dylan-home/pytorch-sweeps-demo/sweeps/93peolwf</a>"
      ],
      "text/plain": [
       "<IPython.core.display.HTML object>"
      ]
     },
     "metadata": {},
     "output_type": "display_data"
    },
    {
     "data": {
      "text/html": [
       " View run at <a href='https://wandb.ai/dylan-home/pytorch-sweeps-demo/runs/gdge2p8c' target=\"_blank\">https://wandb.ai/dylan-home/pytorch-sweeps-demo/runs/gdge2p8c</a>"
      ],
      "text/plain": [
       "<IPython.core.display.HTML object>"
      ]
     },
     "metadata": {},
     "output_type": "display_data"
    },
    {
     "name": "stdout",
     "output_type": "stream",
     "text": [
      "Using CUDA\n",
      "Early stopping enabled. Patience: 20. Min Delta: 0.\n",
      "Epoch: 010, Train Acc: 0.5264, Test Acc: 0.5110, Train Loss: 0.6918, Test Loss: 0.6933\n",
      "Epoch: 020, Train Acc: 0.5264, Test Acc: 0.5110, Train Loss: 0.6918, Test Loss: 0.6935\n",
      "20 epochs passed without 0 test loss improvement. \n",
      "Early stopping triggered.\n"
     ]
    },
    {
     "data": {
      "text/html": [
       "<style>\n",
       "    table.wandb td:nth-child(1) { padding: 0 10px; text-align: left ; width: auto;} td:nth-child(2) {text-align: left ; width: 100%}\n",
       "    .wandb-row { display: flex; flex-direction: row; flex-wrap: wrap; justify-content: flex-start; width: 100% }\n",
       "    .wandb-col { display: flex; flex-direction: column; flex-basis: 100%; flex: 1; padding: 10px; }\n",
       "    </style>\n",
       "<div class=\"wandb-row\"><div class=\"wandb-col\"><h3>Run history:</h3><br/><table class=\"wandb\"><tr><td>Test Accuracy</td><td>▁█████████████████████</td></tr><tr><td>Test F1</td><td>▁█████████████████████</td></tr><tr><td>Test Loss</td><td>█▁▂▃▂▁▂▃▂▂▃▂▃▂▄▂▂▂▂▃▂▂</td></tr><tr><td>Test Sensitivity</td><td>▁█████████████████████</td></tr><tr><td>Test Specificity</td><td>█▁▁▁▁▁▁▁▁▁▁▁▁▁▁▁▁▁▁▁▁▁</td></tr><tr><td>Train Accuracy</td><td>▁█████████████████████</td></tr><tr><td>Train F1</td><td>▁█████████████████████</td></tr><tr><td>Train Loss</td><td>█▂▂▁▁▁▂▁▂▁▂▂▁▁▁▂▁▂▁▂▂▁</td></tr><tr><td>Train Sensitivity</td><td>▁█████████████████████</td></tr><tr><td>Train Specificity</td><td>█▁▁▁▁▁▁▁▁▁▁▁▁▁▁▁▁▁▁▁▁▁</td></tr></table><br/></div><div class=\"wandb-col\"><h3>Run summary:</h3><br/><table class=\"wandb\"><tr><td>Test Accuracy</td><td>0.511</td></tr><tr><td>Test F1</td><td>0.67637</td></tr><tr><td>Test Loss</td><td>0.69335</td></tr><tr><td>Test Sensitivity</td><td>1.0</td></tr><tr><td>Test Specificity</td><td>0.0</td></tr><tr><td>Train Accuracy</td><td>0.52643</td></tr><tr><td>Train F1</td><td>0.68975</td></tr><tr><td>Train Loss</td><td>0.69161</td></tr><tr><td>Train Sensitivity</td><td>1.0</td></tr><tr><td>Train Specificity</td><td>0.0</td></tr></table><br/></div></div>"
      ],
      "text/plain": [
       "<IPython.core.display.HTML object>"
      ]
     },
     "metadata": {},
     "output_type": "display_data"
    },
    {
     "data": {
      "text/html": [
       " View run <strong style=\"color:#cdcd00\">different-sweep-8</strong> at: <a href='https://wandb.ai/dylan-home/pytorch-sweeps-demo/runs/gdge2p8c' target=\"_blank\">https://wandb.ai/dylan-home/pytorch-sweeps-demo/runs/gdge2p8c</a><br/>Synced 5 W&B file(s), 0 media file(s), 0 artifact file(s) and 0 other file(s)"
      ],
      "text/plain": [
       "<IPython.core.display.HTML object>"
      ]
     },
     "metadata": {},
     "output_type": "display_data"
    },
    {
     "data": {
      "text/html": [
       "Find logs at: <code>./wandb/run-20250105_145942-gdge2p8c/logs</code>"
      ],
      "text/plain": [
       "<IPython.core.display.HTML object>"
      ]
     },
     "metadata": {},
     "output_type": "display_data"
    },
    {
     "name": "stderr",
     "output_type": "stream",
     "text": [
      "\u001b[34m\u001b[1mwandb\u001b[0m: Agent Starting Run: 8ixjfr4v with config:\n",
      "\u001b[34m\u001b[1mwandb\u001b[0m: \thidden_channels: 32\n",
      "\u001b[34m\u001b[1mwandb\u001b[0m: \tlearning_rate: 2.266363758222795e-06\n",
      "Failed to detect the name of this notebook, you can set it manually with the WANDB_NOTEBOOK_NAME environment variable to enable code saving.\n",
      "/usr/lib/python3/dist-packages/requests/__init__.py:87: RequestsDependencyWarning: urllib3 (2.2.3) or chardet (4.0.0) doesn't match a supported version!\n",
      "  warnings.warn(\"urllib3 ({}) or chardet ({}) doesn't match a supported \"\n"
     ]
    },
    {
     "data": {
      "text/html": [
       "wandb version 0.19.1 is available!  To upgrade, please run:\n",
       " $ pip install wandb --upgrade"
      ],
      "text/plain": [
       "<IPython.core.display.HTML object>"
      ]
     },
     "metadata": {},
     "output_type": "display_data"
    },
    {
     "data": {
      "text/html": [
       "Tracking run with wandb version 0.16.4"
      ],
      "text/plain": [
       "<IPython.core.display.HTML object>"
      ]
     },
     "metadata": {},
     "output_type": "display_data"
    },
    {
     "data": {
      "text/html": [
       "Run data is saved locally in <code>/mnt/alphafold-volume-1/dylan2/repos/tb-pnca-gnn/dd_pnca/wandb/run-20250105_150039-8ixjfr4v</code>"
      ],
      "text/plain": [
       "<IPython.core.display.HTML object>"
      ]
     },
     "metadata": {},
     "output_type": "display_data"
    },
    {
     "data": {
      "text/html": [
       "Syncing run <strong><a href='https://wandb.ai/dylan-home/pytorch-sweeps-demo/runs/8ixjfr4v' target=\"_blank\">valiant-sweep-9</a></strong> to <a href='https://wandb.ai/dylan-home/pytorch-sweeps-demo' target=\"_blank\">Weights & Biases</a> (<a href='https://wandb.me/run' target=\"_blank\">docs</a>)<br/>Sweep page: <a href='https://wandb.ai/dylan-home/pytorch-sweeps-demo/sweeps/93peolwf' target=\"_blank\">https://wandb.ai/dylan-home/pytorch-sweeps-demo/sweeps/93peolwf</a>"
      ],
      "text/plain": [
       "<IPython.core.display.HTML object>"
      ]
     },
     "metadata": {},
     "output_type": "display_data"
    },
    {
     "data": {
      "text/html": [
       " View project at <a href='https://wandb.ai/dylan-home/pytorch-sweeps-demo' target=\"_blank\">https://wandb.ai/dylan-home/pytorch-sweeps-demo</a>"
      ],
      "text/plain": [
       "<IPython.core.display.HTML object>"
      ]
     },
     "metadata": {},
     "output_type": "display_data"
    },
    {
     "data": {
      "text/html": [
       " View sweep at <a href='https://wandb.ai/dylan-home/pytorch-sweeps-demo/sweeps/93peolwf' target=\"_blank\">https://wandb.ai/dylan-home/pytorch-sweeps-demo/sweeps/93peolwf</a>"
      ],
      "text/plain": [
       "<IPython.core.display.HTML object>"
      ]
     },
     "metadata": {},
     "output_type": "display_data"
    },
    {
     "data": {
      "text/html": [
       " View run at <a href='https://wandb.ai/dylan-home/pytorch-sweeps-demo/runs/8ixjfr4v' target=\"_blank\">https://wandb.ai/dylan-home/pytorch-sweeps-demo/runs/8ixjfr4v</a>"
      ],
      "text/plain": [
       "<IPython.core.display.HTML object>"
      ]
     },
     "metadata": {},
     "output_type": "display_data"
    },
    {
     "name": "stdout",
     "output_type": "stream",
     "text": [
      "Using CUDA\n",
      "Early stopping enabled. Patience: 20. Min Delta: 0.\n",
      "Epoch: 010, Train Acc: 0.5264, Test Acc: 0.5110, Train Loss: 3.1043, Test Loss: 3.2055\n",
      "Epoch: 020, Train Acc: 0.5264, Test Acc: 0.5110, Train Loss: 2.5774, Test Loss: 2.6506\n",
      "Epoch: 030, Train Acc: 0.5264, Test Acc: 0.5110, Train Loss: 2.0878, Test Loss: 2.1395\n",
      "Epoch: 040, Train Acc: 0.5264, Test Acc: 0.5110, Train Loss: 1.6432, Test Loss: 1.6859\n",
      "Epoch: 050, Train Acc: 0.5264, Test Acc: 0.5110, Train Loss: 1.2835, Test Loss: 1.3184\n",
      "Epoch: 060, Train Acc: 0.5264, Test Acc: 0.5110, Train Loss: 1.0219, Test Loss: 1.0508\n",
      "Epoch: 070, Train Acc: 0.5264, Test Acc: 0.5110, Train Loss: 0.8632, Test Loss: 0.8835\n",
      "Epoch: 080, Train Acc: 0.5264, Test Acc: 0.5110, Train Loss: 0.7776, Test Loss: 0.7906\n",
      "Epoch: 090, Train Acc: 0.5264, Test Acc: 0.5110, Train Loss: 0.7361, Test Loss: 0.7462\n",
      "Epoch: 100, Train Acc: 0.5264, Test Acc: 0.5110, Train Loss: 0.7146, Test Loss: 0.7236\n",
      "Epoch: 110, Train Acc: 0.5264, Test Acc: 0.5110, Train Loss: 0.7051, Test Loss: 0.7121\n",
      "Epoch: 120, Train Acc: 0.5264, Test Acc: 0.5110, Train Loss: 0.7000, Test Loss: 0.7068\n",
      "Epoch: 130, Train Acc: 0.5264, Test Acc: 0.5110, Train Loss: 0.6983, Test Loss: 0.7043\n",
      "Epoch: 140, Train Acc: 0.5264, Test Acc: 0.5110, Train Loss: 0.6976, Test Loss: 0.7025\n",
      "Epoch: 150, Train Acc: 0.5263, Test Acc: 0.5110, Train Loss: 0.6962, Test Loss: 0.7009\n",
      "Epoch: 160, Train Acc: 0.5263, Test Acc: 0.5110, Train Loss: 0.6954, Test Loss: 0.7000\n",
      "Epoch: 170, Train Acc: 0.5263, Test Acc: 0.5110, Train Loss: 0.6949, Test Loss: 0.6989\n",
      "Epoch: 180, Train Acc: 0.5263, Test Acc: 0.5110, Train Loss: 0.6943, Test Loss: 0.6981\n",
      "Epoch: 190, Train Acc: 0.5263, Test Acc: 0.5110, Train Loss: 0.6934, Test Loss: 0.6978\n",
      "Epoch: 200, Train Acc: 0.5263, Test Acc: 0.5110, Train Loss: 0.6934, Test Loss: 0.6972\n",
      "Epoch: 210, Train Acc: 0.5263, Test Acc: 0.5110, Train Loss: 0.6937, Test Loss: 0.6969\n",
      "Epoch: 220, Train Acc: 0.5261, Test Acc: 0.5100, Train Loss: 0.6933, Test Loss: 0.6964\n",
      "Epoch: 230, Train Acc: 0.5260, Test Acc: 0.5090, Train Loss: 0.6932, Test Loss: 0.6961\n",
      "Epoch: 240, Train Acc: 0.5260, Test Acc: 0.5090, Train Loss: 0.6931, Test Loss: 0.6960\n",
      "Epoch: 250, Train Acc: 0.5259, Test Acc: 0.5087, Train Loss: 0.6932, Test Loss: 0.6957\n",
      "Epoch: 260, Train Acc: 0.5259, Test Acc: 0.5087, Train Loss: 0.6930, Test Loss: 0.6955\n",
      "Epoch: 270, Train Acc: 0.5257, Test Acc: 0.5083, Train Loss: 0.6927, Test Loss: 0.6954\n",
      "Epoch: 280, Train Acc: 0.5254, Test Acc: 0.5077, Train Loss: 0.6931, Test Loss: 0.6952\n",
      "Epoch: 290, Train Acc: 0.5260, Test Acc: 0.5087, Train Loss: 0.6928, Test Loss: 0.6952\n",
      "Epoch: 300, Train Acc: 0.5260, Test Acc: 0.5090, Train Loss: 0.6930, Test Loss: 0.6952\n",
      "Epoch: 310, Train Acc: 0.5257, Test Acc: 0.5073, Train Loss: 0.6926, Test Loss: 0.6950\n",
      "Epoch: 320, Train Acc: 0.5260, Test Acc: 0.5090, Train Loss: 0.6927, Test Loss: 0.6950\n",
      "Epoch: 330, Train Acc: 0.5260, Test Acc: 0.5077, Train Loss: 0.6925, Test Loss: 0.6948\n",
      "Epoch: 340, Train Acc: 0.5260, Test Acc: 0.5093, Train Loss: 0.6926, Test Loss: 0.6948\n",
      "Epoch: 350, Train Acc: 0.5261, Test Acc: 0.5093, Train Loss: 0.6928, Test Loss: 0.6947\n",
      "Epoch: 360, Train Acc: 0.5260, Test Acc: 0.5077, Train Loss: 0.6926, Test Loss: 0.6945\n",
      "Epoch: 370, Train Acc: 0.5246, Test Acc: 0.5050, Train Loss: 0.6925, Test Loss: 0.6943\n",
      "Epoch: 380, Train Acc: 0.5260, Test Acc: 0.5070, Train Loss: 0.6925, Test Loss: 0.6944\n",
      "Epoch: 390, Train Acc: 0.5260, Test Acc: 0.5073, Train Loss: 0.6925, Test Loss: 0.6943\n",
      "Epoch: 400, Train Acc: 0.5261, Test Acc: 0.5087, Train Loss: 0.6923, Test Loss: 0.6943\n"
     ]
    },
    {
     "data": {
      "text/html": [
       "<style>\n",
       "    table.wandb td:nth-child(1) { padding: 0 10px; text-align: left ; width: auto;} td:nth-child(2) {text-align: left ; width: 100%}\n",
       "    .wandb-row { display: flex; flex-direction: row; flex-wrap: wrap; justify-content: flex-start; width: 100% }\n",
       "    .wandb-col { display: flex; flex-direction: column; flex-basis: 100%; flex: 1; padding: 10px; }\n",
       "    </style>\n",
       "<div class=\"wandb-row\"><div class=\"wandb-col\"><h3>Run history:</h3><br/><table class=\"wandb\"><tr><td>Test Accuracy</td><td>█████████████████████▇▅▅▅▅▅▅▅▄▃▅▃▃▃▄▂▁▂▅</td></tr><tr><td>Test F1</td><td>█████████████████████▇▅▅▅▅▅▅▅▄▃▅▃▃▃▄▂▁▂▅</td></tr><tr><td>Test Loss</td><td>█▇▅▄▃▂▂▁▁▁▁▁▁▁▁▁▁▁▁▁▁▁▁▁▁▁▁▁▁▁▁▁▁▁▁▁▁▁▁▁</td></tr><tr><td>Test Sensitivity</td><td>█████████████████████▇▅▅▅▅▅▅▅▄▃▅▃▃▃▄▂▁▂▅</td></tr><tr><td>Test Specificity</td><td>▁▁▁▁▁▁▁▁▁▁▁▁▁▁▁▁▁▁▁▁▁▁▁▁▁▁▁▁▁▁▁▁▁▁▁▁▁▁▁▁</td></tr><tr><td>Train Accuracy</td><td>███████████████▇▇▇▇▇▇▆▄▅▄▅▅▅▅▄▂▅▃▂▅▅▃▁▃▆</td></tr><tr><td>Train F1</td><td>███████████████▇▇▇▇▇▇▆▄▅▄▅▅▅▅▄▂▅▃▂▅▅▃▁▃▆</td></tr><tr><td>Train Loss</td><td>█▇▅▄▃▂▂▁▁▁▁▁▁▁▁▁▁▁▁▁▁▁▁▁▁▁▁▁▁▁▁▁▁▁▁▁▁▁▁▁</td></tr><tr><td>Train Sensitivity</td><td>███████████████▇▇▇▇▇▇▆▄▅▄▅▅▅▅▄▂▅▃▂▅▅▃▁▃▆</td></tr><tr><td>Train Specificity</td><td>▁▁▁▁▁▁▁▁▁▁▁▁▁▁▁▁▁▁▁▁▁▁▁▁▁▁▁▁▁▁▁▁▁▁▁▁▁▁▁▁</td></tr></table><br/></div><div class=\"wandb-col\"><h3>Run summary:</h3><br/><table class=\"wandb\"><tr><td>Test Accuracy</td><td>0.50867</td></tr><tr><td>Test F1</td><td>0.67433</td></tr><tr><td>Test Loss</td><td>0.69429</td></tr><tr><td>Test Sensitivity</td><td>0.99543</td></tr><tr><td>Test Specificity</td><td>0.0</td></tr><tr><td>Train Accuracy</td><td>0.52614</td></tr><tr><td>Train F1</td><td>0.68951</td></tr><tr><td>Train Loss</td><td>0.6923</td></tr><tr><td>Train Sensitivity</td><td>0.99946</td></tr><tr><td>Train Specificity</td><td>0.0</td></tr></table><br/></div></div>"
      ],
      "text/plain": [
       "<IPython.core.display.HTML object>"
      ]
     },
     "metadata": {},
     "output_type": "display_data"
    },
    {
     "data": {
      "text/html": [
       " View run <strong style=\"color:#cdcd00\">valiant-sweep-9</strong> at: <a href='https://wandb.ai/dylan-home/pytorch-sweeps-demo/runs/8ixjfr4v' target=\"_blank\">https://wandb.ai/dylan-home/pytorch-sweeps-demo/runs/8ixjfr4v</a><br/>Synced 5 W&B file(s), 0 media file(s), 0 artifact file(s) and 0 other file(s)"
      ],
      "text/plain": [
       "<IPython.core.display.HTML object>"
      ]
     },
     "metadata": {},
     "output_type": "display_data"
    },
    {
     "data": {
      "text/html": [
       "Find logs at: <code>./wandb/run-20250105_150039-8ixjfr4v/logs</code>"
      ],
      "text/plain": [
       "<IPython.core.display.HTML object>"
      ]
     },
     "metadata": {},
     "output_type": "display_data"
    },
    {
     "name": "stderr",
     "output_type": "stream",
     "text": [
      "\u001b[34m\u001b[1mwandb\u001b[0m: Agent Starting Run: ecqea3eq with config:\n",
      "\u001b[34m\u001b[1mwandb\u001b[0m: \thidden_channels: 32\n",
      "\u001b[34m\u001b[1mwandb\u001b[0m: \tlearning_rate: 0.008509008061989126\n",
      "Failed to detect the name of this notebook, you can set it manually with the WANDB_NOTEBOOK_NAME environment variable to enable code saving.\n",
      "/usr/lib/python3/dist-packages/requests/__init__.py:87: RequestsDependencyWarning: urllib3 (2.2.3) or chardet (4.0.0) doesn't match a supported version!\n",
      "  warnings.warn(\"urllib3 ({}) or chardet ({}) doesn't match a supported \"\n"
     ]
    },
    {
     "data": {
      "text/html": [
       "wandb version 0.19.1 is available!  To upgrade, please run:\n",
       " $ pip install wandb --upgrade"
      ],
      "text/plain": [
       "<IPython.core.display.HTML object>"
      ]
     },
     "metadata": {},
     "output_type": "display_data"
    },
    {
     "data": {
      "text/html": [
       "Tracking run with wandb version 0.16.4"
      ],
      "text/plain": [
       "<IPython.core.display.HTML object>"
      ]
     },
     "metadata": {},
     "output_type": "display_data"
    },
    {
     "data": {
      "text/html": [
       "Run data is saved locally in <code>/mnt/alphafold-volume-1/dylan2/repos/tb-pnca-gnn/dd_pnca/wandb/run-20250105_151125-ecqea3eq</code>"
      ],
      "text/plain": [
       "<IPython.core.display.HTML object>"
      ]
     },
     "metadata": {},
     "output_type": "display_data"
    },
    {
     "data": {
      "text/html": [
       "Syncing run <strong><a href='https://wandb.ai/dylan-home/pytorch-sweeps-demo/runs/ecqea3eq' target=\"_blank\">dark-sweep-10</a></strong> to <a href='https://wandb.ai/dylan-home/pytorch-sweeps-demo' target=\"_blank\">Weights & Biases</a> (<a href='https://wandb.me/run' target=\"_blank\">docs</a>)<br/>Sweep page: <a href='https://wandb.ai/dylan-home/pytorch-sweeps-demo/sweeps/93peolwf' target=\"_blank\">https://wandb.ai/dylan-home/pytorch-sweeps-demo/sweeps/93peolwf</a>"
      ],
      "text/plain": [
       "<IPython.core.display.HTML object>"
      ]
     },
     "metadata": {},
     "output_type": "display_data"
    },
    {
     "data": {
      "text/html": [
       " View project at <a href='https://wandb.ai/dylan-home/pytorch-sweeps-demo' target=\"_blank\">https://wandb.ai/dylan-home/pytorch-sweeps-demo</a>"
      ],
      "text/plain": [
       "<IPython.core.display.HTML object>"
      ]
     },
     "metadata": {},
     "output_type": "display_data"
    },
    {
     "data": {
      "text/html": [
       " View sweep at <a href='https://wandb.ai/dylan-home/pytorch-sweeps-demo/sweeps/93peolwf' target=\"_blank\">https://wandb.ai/dylan-home/pytorch-sweeps-demo/sweeps/93peolwf</a>"
      ],
      "text/plain": [
       "<IPython.core.display.HTML object>"
      ]
     },
     "metadata": {},
     "output_type": "display_data"
    },
    {
     "data": {
      "text/html": [
       " View run at <a href='https://wandb.ai/dylan-home/pytorch-sweeps-demo/runs/ecqea3eq' target=\"_blank\">https://wandb.ai/dylan-home/pytorch-sweeps-demo/runs/ecqea3eq</a>"
      ],
      "text/plain": [
       "<IPython.core.display.HTML object>"
      ]
     },
     "metadata": {},
     "output_type": "display_data"
    },
    {
     "name": "stdout",
     "output_type": "stream",
     "text": [
      "Using CUDA\n",
      "Early stopping enabled. Patience: 20. Min Delta: 0.\n",
      "Epoch: 010, Train Acc: 0.5264, Test Acc: 0.5110, Train Loss: 0.6917, Test Loss: 0.6931\n",
      "Epoch: 020, Train Acc: 0.5264, Test Acc: 0.5110, Train Loss: 0.6918, Test Loss: 0.6933\n",
      "Epoch: 030, Train Acc: 0.5264, Test Acc: 0.5110, Train Loss: 0.6920, Test Loss: 0.6935\n",
      "Epoch: 040, Train Acc: 0.5264, Test Acc: 0.5110, Train Loss: 0.6919, Test Loss: 0.6931\n",
      "20 epochs passed without 0 test loss improvement. \n",
      "Early stopping triggered.\n"
     ]
    },
    {
     "data": {
      "text/html": [
       "<style>\n",
       "    table.wandb td:nth-child(1) { padding: 0 10px; text-align: left ; width: auto;} td:nth-child(2) {text-align: left ; width: 100%}\n",
       "    .wandb-row { display: flex; flex-direction: row; flex-wrap: wrap; justify-content: flex-start; width: 100% }\n",
       "    .wandb-col { display: flex; flex-direction: column; flex-basis: 100%; flex: 1; padding: 10px; }\n",
       "    </style>\n",
       "<div class=\"wandb-row\"><div class=\"wandb-col\"><h3>Run history:</h3><br/><table class=\"wandb\"><tr><td>Test Accuracy</td><td>▁▁▁▁▁▁▁▁▁▁▁▁▁▁▁▁▁▁▁▁▁▁▁▁▁▁▁▁▁▁▁▁▁▁▁▁▁▁▁▁</td></tr><tr><td>Test F1</td><td>▁▁▁▁▁▁▁▁▁▁▁▁▁▁▁▁▁▁▁▁▁▁▁▁▁▁▁▁▁▁▁▁▁▁▁▁▁▁▁▁</td></tr><tr><td>Test Loss</td><td>▃▄▃▃▃▁▆▄▇▂▄▇▃▃▂▂▂▂▄▃▂▁▅▃▂▄▅▅▂█▆▃▄▅▄▄▃▃▃▃</td></tr><tr><td>Test Sensitivity</td><td>▁▁▁▁▁▁▁▁▁▁▁▁▁▁▁▁▁▁▁▁▁▁▁▁▁▁▁▁▁▁▁▁▁▁▁▁▁▁▁▁</td></tr><tr><td>Test Specificity</td><td>▁▁▁▁▁▁▁▁▁▁▁▁▁▁▁▁▁▁▁▁▁▁▁▁▁▁▁▁▁▁▁▁▁▁▁▁▁▁▁▁</td></tr><tr><td>Train Accuracy</td><td>▁▁▁▁▁▁▁▁▁▁▁▁▁▁▁▁▁▁▁▁▁▁▁▁▁▁▁▁▁▁▁▁▁▁▁▁▁▁▁▁</td></tr><tr><td>Train F1</td><td>▁▁▁▁▁▁▁▁▁▁▁▁▁▁▁▁▁▁▁▁▁▁▁▁▁▁▁▁▁▁▁▁▁▁▁▁▁▁▁▁</td></tr><tr><td>Train Loss</td><td>▇▆▆▅▆▆▆▅▆▅▆▆▅▅▆▇▅▅▆▆▁█▅▅▅▇▇▇▆▆▇▆▇▅▇▆▆▆▅▅</td></tr><tr><td>Train Sensitivity</td><td>▁▁▁▁▁▁▁▁▁▁▁▁▁▁▁▁▁▁▁▁▁▁▁▁▁▁▁▁▁▁▁▁▁▁▁▁▁▁▁▁</td></tr><tr><td>Train Specificity</td><td>▁▁▁▁▁▁▁▁▁▁▁▁▁▁▁▁▁▁▁▁▁▁▁▁▁▁▁▁▁▁▁▁▁▁▁▁▁▁▁▁</td></tr></table><br/></div><div class=\"wandb-col\"><h3>Run summary:</h3><br/><table class=\"wandb\"><tr><td>Test Accuracy</td><td>0.511</td></tr><tr><td>Test F1</td><td>0.67637</td></tr><tr><td>Test Loss</td><td>0.6932</td></tr><tr><td>Test Sensitivity</td><td>1.0</td></tr><tr><td>Test Specificity</td><td>0.0</td></tr><tr><td>Train Accuracy</td><td>0.52643</td></tr><tr><td>Train F1</td><td>0.68975</td></tr><tr><td>Train Loss</td><td>0.69163</td></tr><tr><td>Train Sensitivity</td><td>1.0</td></tr><tr><td>Train Specificity</td><td>0.0</td></tr></table><br/></div></div>"
      ],
      "text/plain": [
       "<IPython.core.display.HTML object>"
      ]
     },
     "metadata": {},
     "output_type": "display_data"
    },
    {
     "data": {
      "text/html": [
       " View run <strong style=\"color:#cdcd00\">dark-sweep-10</strong> at: <a href='https://wandb.ai/dylan-home/pytorch-sweeps-demo/runs/ecqea3eq' target=\"_blank\">https://wandb.ai/dylan-home/pytorch-sweeps-demo/runs/ecqea3eq</a><br/>Synced 5 W&B file(s), 0 media file(s), 0 artifact file(s) and 0 other file(s)"
      ],
      "text/plain": [
       "<IPython.core.display.HTML object>"
      ]
     },
     "metadata": {},
     "output_type": "display_data"
    },
    {
     "data": {
      "text/html": [
       "Find logs at: <code>./wandb/run-20250105_151125-ecqea3eq/logs</code>"
      ],
      "text/plain": [
       "<IPython.core.display.HTML object>"
      ]
     },
     "metadata": {},
     "output_type": "display_data"
    },
    {
     "name": "stderr",
     "output_type": "stream",
     "text": [
      "\u001b[34m\u001b[1mwandb\u001b[0m: Agent Starting Run: 8vnc6be8 with config:\n",
      "\u001b[34m\u001b[1mwandb\u001b[0m: \thidden_channels: 256\n",
      "\u001b[34m\u001b[1mwandb\u001b[0m: \tlearning_rate: 0.015519665993440842\n",
      "Failed to detect the name of this notebook, you can set it manually with the WANDB_NOTEBOOK_NAME environment variable to enable code saving.\n",
      "/usr/lib/python3/dist-packages/requests/__init__.py:87: RequestsDependencyWarning: urllib3 (2.2.3) or chardet (4.0.0) doesn't match a supported version!\n",
      "  warnings.warn(\"urllib3 ({}) or chardet ({}) doesn't match a supported \"\n"
     ]
    },
    {
     "data": {
      "text/html": [
       "wandb version 0.19.1 is available!  To upgrade, please run:\n",
       " $ pip install wandb --upgrade"
      ],
      "text/plain": [
       "<IPython.core.display.HTML object>"
      ]
     },
     "metadata": {},
     "output_type": "display_data"
    },
    {
     "data": {
      "text/html": [
       "Tracking run with wandb version 0.16.4"
      ],
      "text/plain": [
       "<IPython.core.display.HTML object>"
      ]
     },
     "metadata": {},
     "output_type": "display_data"
    },
    {
     "data": {
      "text/html": [
       "Run data is saved locally in <code>/mnt/alphafold-volume-1/dylan2/repos/tb-pnca-gnn/dd_pnca/wandb/run-20250105_151247-8vnc6be8</code>"
      ],
      "text/plain": [
       "<IPython.core.display.HTML object>"
      ]
     },
     "metadata": {},
     "output_type": "display_data"
    },
    {
     "data": {
      "text/html": [
       "Syncing run <strong><a href='https://wandb.ai/dylan-home/pytorch-sweeps-demo/runs/8vnc6be8' target=\"_blank\">denim-sweep-11</a></strong> to <a href='https://wandb.ai/dylan-home/pytorch-sweeps-demo' target=\"_blank\">Weights & Biases</a> (<a href='https://wandb.me/run' target=\"_blank\">docs</a>)<br/>Sweep page: <a href='https://wandb.ai/dylan-home/pytorch-sweeps-demo/sweeps/93peolwf' target=\"_blank\">https://wandb.ai/dylan-home/pytorch-sweeps-demo/sweeps/93peolwf</a>"
      ],
      "text/plain": [
       "<IPython.core.display.HTML object>"
      ]
     },
     "metadata": {},
     "output_type": "display_data"
    },
    {
     "data": {
      "text/html": [
       " View project at <a href='https://wandb.ai/dylan-home/pytorch-sweeps-demo' target=\"_blank\">https://wandb.ai/dylan-home/pytorch-sweeps-demo</a>"
      ],
      "text/plain": [
       "<IPython.core.display.HTML object>"
      ]
     },
     "metadata": {},
     "output_type": "display_data"
    },
    {
     "data": {
      "text/html": [
       " View sweep at <a href='https://wandb.ai/dylan-home/pytorch-sweeps-demo/sweeps/93peolwf' target=\"_blank\">https://wandb.ai/dylan-home/pytorch-sweeps-demo/sweeps/93peolwf</a>"
      ],
      "text/plain": [
       "<IPython.core.display.HTML object>"
      ]
     },
     "metadata": {},
     "output_type": "display_data"
    },
    {
     "data": {
      "text/html": [
       " View run at <a href='https://wandb.ai/dylan-home/pytorch-sweeps-demo/runs/8vnc6be8' target=\"_blank\">https://wandb.ai/dylan-home/pytorch-sweeps-demo/runs/8vnc6be8</a>"
      ],
      "text/plain": [
       "<IPython.core.display.HTML object>"
      ]
     },
     "metadata": {},
     "output_type": "display_data"
    },
    {
     "name": "stdout",
     "output_type": "stream",
     "text": [
      "Using CUDA\n",
      "Early stopping enabled. Patience: 20. Min Delta: 0.\n",
      "Epoch: 010, Train Acc: 0.5264, Test Acc: 0.5110, Train Loss: 0.6918, Test Loss: 0.6935\n",
      "Epoch: 020, Train Acc: 0.5264, Test Acc: 0.5110, Train Loss: 0.6921, Test Loss: 0.6941\n",
      "20 epochs passed without 0 test loss improvement. \n",
      "Early stopping triggered.\n"
     ]
    },
    {
     "data": {
      "text/html": [
       "<style>\n",
       "    table.wandb td:nth-child(1) { padding: 0 10px; text-align: left ; width: auto;} td:nth-child(2) {text-align: left ; width: 100%}\n",
       "    .wandb-row { display: flex; flex-direction: row; flex-wrap: wrap; justify-content: flex-start; width: 100% }\n",
       "    .wandb-col { display: flex; flex-direction: column; flex-basis: 100%; flex: 1; padding: 10px; }\n",
       "    </style>\n",
       "<div class=\"wandb-row\"><div class=\"wandb-col\"><h3>Run history:</h3><br/><table class=\"wandb\"><tr><td>Test Accuracy</td><td>████▁█████▁▁▁███████▁███▁█</td></tr><tr><td>Test F1</td><td>████▁█████▁▁▁███████▁███▁█</td></tr><tr><td>Test Loss</td><td>▂▂▅▁█▁▇▁▂▁█▁▃▁▂▄▁▁▁▂▃▂▃▂▂▂</td></tr><tr><td>Test Sensitivity</td><td>████▁█████▁▁▁███████▁███▁█</td></tr><tr><td>Test Specificity</td><td>▁▁▁▁█▁▁▁▁▁███▁▁▁▁▁▁▁█▁▁▁█▁</td></tr><tr><td>Train Accuracy</td><td>████▁█████▁▁▁███████▁███▁█</td></tr><tr><td>Train F1</td><td>████▁█████▁▁▁███████▁███▁█</td></tr><tr><td>Train Loss</td><td>▁▁▃▁█▁▄▁▁▁█▂▄▁▁▂▁▁▁▁▃▁▂▁▃▁</td></tr><tr><td>Train Sensitivity</td><td>████▁█████▁▁▁███████▁███▁█</td></tr><tr><td>Train Specificity</td><td>▁▁▁▁█▁▁▁▁▁███▁▁▁▁▁▁▁█▁▁▁█▁</td></tr></table><br/></div><div class=\"wandb-col\"><h3>Run summary:</h3><br/><table class=\"wandb\"><tr><td>Test Accuracy</td><td>0.511</td></tr><tr><td>Test F1</td><td>0.67637</td></tr><tr><td>Test Loss</td><td>0.69432</td></tr><tr><td>Test Sensitivity</td><td>1.0</td></tr><tr><td>Test Specificity</td><td>0.0</td></tr><tr><td>Train Accuracy</td><td>0.52643</td></tr><tr><td>Train F1</td><td>0.68975</td></tr><tr><td>Train Loss</td><td>0.692</td></tr><tr><td>Train Sensitivity</td><td>1.0</td></tr><tr><td>Train Specificity</td><td>0.0</td></tr></table><br/></div></div>"
      ],
      "text/plain": [
       "<IPython.core.display.HTML object>"
      ]
     },
     "metadata": {},
     "output_type": "display_data"
    },
    {
     "data": {
      "text/html": [
       " View run <strong style=\"color:#cdcd00\">denim-sweep-11</strong> at: <a href='https://wandb.ai/dylan-home/pytorch-sweeps-demo/runs/8vnc6be8' target=\"_blank\">https://wandb.ai/dylan-home/pytorch-sweeps-demo/runs/8vnc6be8</a><br/>Synced 5 W&B file(s), 0 media file(s), 0 artifact file(s) and 0 other file(s)"
      ],
      "text/plain": [
       "<IPython.core.display.HTML object>"
      ]
     },
     "metadata": {},
     "output_type": "display_data"
    },
    {
     "data": {
      "text/html": [
       "Find logs at: <code>./wandb/run-20250105_151247-8vnc6be8/logs</code>"
      ],
      "text/plain": [
       "<IPython.core.display.HTML object>"
      ]
     },
     "metadata": {},
     "output_type": "display_data"
    },
    {
     "name": "stderr",
     "output_type": "stream",
     "text": [
      "\u001b[34m\u001b[1mwandb\u001b[0m: Agent Starting Run: 54bemhxt with config:\n",
      "\u001b[34m\u001b[1mwandb\u001b[0m: \thidden_channels: 32\n",
      "\u001b[34m\u001b[1mwandb\u001b[0m: \tlearning_rate: 0.03160363294872776\n",
      "Failed to detect the name of this notebook, you can set it manually with the WANDB_NOTEBOOK_NAME environment variable to enable code saving.\n",
      "/usr/lib/python3/dist-packages/requests/__init__.py:87: RequestsDependencyWarning: urllib3 (2.2.3) or chardet (4.0.0) doesn't match a supported version!\n",
      "  warnings.warn(\"urllib3 ({}) or chardet ({}) doesn't match a supported \"\n"
     ]
    },
    {
     "data": {
      "text/html": [
       "wandb version 0.19.1 is available!  To upgrade, please run:\n",
       " $ pip install wandb --upgrade"
      ],
      "text/plain": [
       "<IPython.core.display.HTML object>"
      ]
     },
     "metadata": {},
     "output_type": "display_data"
    },
    {
     "data": {
      "text/html": [
       "Tracking run with wandb version 0.16.4"
      ],
      "text/plain": [
       "<IPython.core.display.HTML object>"
      ]
     },
     "metadata": {},
     "output_type": "display_data"
    },
    {
     "data": {
      "text/html": [
       "Run data is saved locally in <code>/mnt/alphafold-volume-1/dylan2/repos/tb-pnca-gnn/dd_pnca/wandb/run-20250105_151348-54bemhxt</code>"
      ],
      "text/plain": [
       "<IPython.core.display.HTML object>"
      ]
     },
     "metadata": {},
     "output_type": "display_data"
    },
    {
     "data": {
      "text/html": [
       "Syncing run <strong><a href='https://wandb.ai/dylan-home/pytorch-sweeps-demo/runs/54bemhxt' target=\"_blank\">crisp-sweep-12</a></strong> to <a href='https://wandb.ai/dylan-home/pytorch-sweeps-demo' target=\"_blank\">Weights & Biases</a> (<a href='https://wandb.me/run' target=\"_blank\">docs</a>)<br/>Sweep page: <a href='https://wandb.ai/dylan-home/pytorch-sweeps-demo/sweeps/93peolwf' target=\"_blank\">https://wandb.ai/dylan-home/pytorch-sweeps-demo/sweeps/93peolwf</a>"
      ],
      "text/plain": [
       "<IPython.core.display.HTML object>"
      ]
     },
     "metadata": {},
     "output_type": "display_data"
    },
    {
     "data": {
      "text/html": [
       " View project at <a href='https://wandb.ai/dylan-home/pytorch-sweeps-demo' target=\"_blank\">https://wandb.ai/dylan-home/pytorch-sweeps-demo</a>"
      ],
      "text/plain": [
       "<IPython.core.display.HTML object>"
      ]
     },
     "metadata": {},
     "output_type": "display_data"
    },
    {
     "data": {
      "text/html": [
       " View sweep at <a href='https://wandb.ai/dylan-home/pytorch-sweeps-demo/sweeps/93peolwf' target=\"_blank\">https://wandb.ai/dylan-home/pytorch-sweeps-demo/sweeps/93peolwf</a>"
      ],
      "text/plain": [
       "<IPython.core.display.HTML object>"
      ]
     },
     "metadata": {},
     "output_type": "display_data"
    },
    {
     "data": {
      "text/html": [
       " View run at <a href='https://wandb.ai/dylan-home/pytorch-sweeps-demo/runs/54bemhxt' target=\"_blank\">https://wandb.ai/dylan-home/pytorch-sweeps-demo/runs/54bemhxt</a>"
      ],
      "text/plain": [
       "<IPython.core.display.HTML object>"
      ]
     },
     "metadata": {},
     "output_type": "display_data"
    },
    {
     "name": "stdout",
     "output_type": "stream",
     "text": [
      "Using CUDA\n",
      "Early stopping enabled. Patience: 20. Min Delta: 0.\n",
      "Epoch: 010, Train Acc: 0.5264, Test Acc: 0.5110, Train Loss: 0.6962, Test Loss: 0.7009\n",
      "Epoch: 020, Train Acc: 0.5264, Test Acc: 0.5110, Train Loss: 0.6921, Test Loss: 0.6942\n",
      "Epoch: 030, Train Acc: 0.5264, Test Acc: 0.5110, Train Loss: 0.6959, Test Loss: 0.6993\n",
      "Epoch: 040, Train Acc: 0.5264, Test Acc: 0.5110, Train Loss: 0.6919, Test Loss: 0.6931\n",
      "Epoch: 050, Train Acc: 0.5264, Test Acc: 0.5110, Train Loss: 0.6918, Test Loss: 0.6936\n",
      "20 epochs passed without 0 test loss improvement. \n",
      "Early stopping triggered.\n"
     ]
    },
    {
     "data": {
      "text/html": [
       "<style>\n",
       "    table.wandb td:nth-child(1) { padding: 0 10px; text-align: left ; width: auto;} td:nth-child(2) {text-align: left ; width: 100%}\n",
       "    .wandb-row { display: flex; flex-direction: row; flex-wrap: wrap; justify-content: flex-start; width: 100% }\n",
       "    .wandb-col { display: flex; flex-direction: column; flex-basis: 100%; flex: 1; padding: 10px; }\n",
       "    </style>\n",
       "<div class=\"wandb-row\"><div class=\"wandb-col\"><h3>Run history:</h3><br/><table class=\"wandb\"><tr><td>Test Accuracy</td><td>█▁█████▁█▁██████████████████████████████</td></tr><tr><td>Test F1</td><td>█▁█████▁█▁██████████████████████████████</td></tr><tr><td>Test Loss</td><td>▃▁▂▂▂▁▁▁▂▁▃▁█▂▂▁▃▁▁▁▆▂▃▂▁▁▁▁▂▂▁▂▁▃▂▂▂▁▁▁</td></tr><tr><td>Test Sensitivity</td><td>█▁█████▁█▁██████████████████████████████</td></tr><tr><td>Test Specificity</td><td>▁█▁▁▁▁▁█▁█▁▁▁▁▁▁▁▁▁▁▁▁▁▁▁▁▁▁▁▁▁▁▁▁▁▁▁▁▁▁</td></tr><tr><td>Train Accuracy</td><td>█▁█████▁█▁██████████████████████████████</td></tr><tr><td>Train F1</td><td>█▁█████▁█▁██████████████████████████████</td></tr><tr><td>Train Loss</td><td>▃▄▁▂▂▁▁▄▁▄▂▂█▂▁▂▂▁▂▁▆▂▃▂▁▁▂▁▁▁▂▁▂▂▁▁▁▁▂▁</td></tr><tr><td>Train Sensitivity</td><td>█▁█████▁█▁██████████████████████████████</td></tr><tr><td>Train Specificity</td><td>▁█▁▁▁▁▁█▁█▁▁▁▁▁▁▁▁▁▁▁▁▁▁▁▁▁▁▁▁▁▁▁▁▁▁▁▁▁▁</td></tr></table><br/></div><div class=\"wandb-col\"><h3>Run summary:</h3><br/><table class=\"wandb\"><tr><td>Test Accuracy</td><td>0.511</td></tr><tr><td>Test F1</td><td>0.67637</td></tr><tr><td>Test Loss</td><td>0.69292</td></tr><tr><td>Test Sensitivity</td><td>1.0</td></tr><tr><td>Test Specificity</td><td>0.0</td></tr><tr><td>Train Accuracy</td><td>0.52643</td></tr><tr><td>Train F1</td><td>0.68975</td></tr><tr><td>Train Loss</td><td>0.69199</td></tr><tr><td>Train Sensitivity</td><td>1.0</td></tr><tr><td>Train Specificity</td><td>0.0</td></tr></table><br/></div></div>"
      ],
      "text/plain": [
       "<IPython.core.display.HTML object>"
      ]
     },
     "metadata": {},
     "output_type": "display_data"
    },
    {
     "data": {
      "text/html": [
       " View run <strong style=\"color:#cdcd00\">crisp-sweep-12</strong> at: <a href='https://wandb.ai/dylan-home/pytorch-sweeps-demo/runs/54bemhxt' target=\"_blank\">https://wandb.ai/dylan-home/pytorch-sweeps-demo/runs/54bemhxt</a><br/>Synced 5 W&B file(s), 0 media file(s), 0 artifact file(s) and 0 other file(s)"
      ],
      "text/plain": [
       "<IPython.core.display.HTML object>"
      ]
     },
     "metadata": {},
     "output_type": "display_data"
    },
    {
     "data": {
      "text/html": [
       "Find logs at: <code>./wandb/run-20250105_151348-54bemhxt/logs</code>"
      ],
      "text/plain": [
       "<IPython.core.display.HTML object>"
      ]
     },
     "metadata": {},
     "output_type": "display_data"
    },
    {
     "name": "stderr",
     "output_type": "stream",
     "text": [
      "\u001b[34m\u001b[1mwandb\u001b[0m: Agent Starting Run: x50w0qgq with config:\n",
      "\u001b[34m\u001b[1mwandb\u001b[0m: \thidden_channels: 256\n",
      "\u001b[34m\u001b[1mwandb\u001b[0m: \tlearning_rate: 0.01573802115287553\n",
      "Failed to detect the name of this notebook, you can set it manually with the WANDB_NOTEBOOK_NAME environment variable to enable code saving.\n",
      "/usr/lib/python3/dist-packages/requests/__init__.py:87: RequestsDependencyWarning: urllib3 (2.2.3) or chardet (4.0.0) doesn't match a supported version!\n",
      "  warnings.warn(\"urllib3 ({}) or chardet ({}) doesn't match a supported \"\n"
     ]
    },
    {
     "data": {
      "text/html": [
       "wandb version 0.19.1 is available!  To upgrade, please run:\n",
       " $ pip install wandb --upgrade"
      ],
      "text/plain": [
       "<IPython.core.display.HTML object>"
      ]
     },
     "metadata": {},
     "output_type": "display_data"
    },
    {
     "data": {
      "text/html": [
       "Tracking run with wandb version 0.16.4"
      ],
      "text/plain": [
       "<IPython.core.display.HTML object>"
      ]
     },
     "metadata": {},
     "output_type": "display_data"
    },
    {
     "data": {
      "text/html": [
       "Run data is saved locally in <code>/mnt/alphafold-volume-1/dylan2/repos/tb-pnca-gnn/dd_pnca/wandb/run-20250105_151531-x50w0qgq</code>"
      ],
      "text/plain": [
       "<IPython.core.display.HTML object>"
      ]
     },
     "metadata": {},
     "output_type": "display_data"
    },
    {
     "data": {
      "text/html": [
       "Syncing run <strong><a href='https://wandb.ai/dylan-home/pytorch-sweeps-demo/runs/x50w0qgq' target=\"_blank\">lucky-sweep-13</a></strong> to <a href='https://wandb.ai/dylan-home/pytorch-sweeps-demo' target=\"_blank\">Weights & Biases</a> (<a href='https://wandb.me/run' target=\"_blank\">docs</a>)<br/>Sweep page: <a href='https://wandb.ai/dylan-home/pytorch-sweeps-demo/sweeps/93peolwf' target=\"_blank\">https://wandb.ai/dylan-home/pytorch-sweeps-demo/sweeps/93peolwf</a>"
      ],
      "text/plain": [
       "<IPython.core.display.HTML object>"
      ]
     },
     "metadata": {},
     "output_type": "display_data"
    },
    {
     "data": {
      "text/html": [
       " View project at <a href='https://wandb.ai/dylan-home/pytorch-sweeps-demo' target=\"_blank\">https://wandb.ai/dylan-home/pytorch-sweeps-demo</a>"
      ],
      "text/plain": [
       "<IPython.core.display.HTML object>"
      ]
     },
     "metadata": {},
     "output_type": "display_data"
    },
    {
     "data": {
      "text/html": [
       " View sweep at <a href='https://wandb.ai/dylan-home/pytorch-sweeps-demo/sweeps/93peolwf' target=\"_blank\">https://wandb.ai/dylan-home/pytorch-sweeps-demo/sweeps/93peolwf</a>"
      ],
      "text/plain": [
       "<IPython.core.display.HTML object>"
      ]
     },
     "metadata": {},
     "output_type": "display_data"
    },
    {
     "data": {
      "text/html": [
       " View run at <a href='https://wandb.ai/dylan-home/pytorch-sweeps-demo/runs/x50w0qgq' target=\"_blank\">https://wandb.ai/dylan-home/pytorch-sweeps-demo/runs/x50w0qgq</a>"
      ],
      "text/plain": [
       "<IPython.core.display.HTML object>"
      ]
     },
     "metadata": {},
     "output_type": "display_data"
    },
    {
     "name": "stdout",
     "output_type": "stream",
     "text": [
      "Using CUDA\n",
      "Early stopping enabled. Patience: 20. Min Delta: 0.\n",
      "Epoch: 010, Train Acc: 0.5264, Test Acc: 0.5110, Train Loss: 0.6919, Test Loss: 0.6935\n",
      "Epoch: 020, Train Acc: 0.5264, Test Acc: 0.5110, Train Loss: 0.6921, Test Loss: 0.6941\n",
      "Epoch: 030, Train Acc: 0.5264, Test Acc: 0.5110, Train Loss: 0.6931, Test Loss: 0.6955\n",
      "20 epochs passed without 0 test loss improvement. \n",
      "Early stopping triggered.\n"
     ]
    },
    {
     "data": {
      "text/html": [
       "<style>\n",
       "    table.wandb td:nth-child(1) { padding: 0 10px; text-align: left ; width: auto;} td:nth-child(2) {text-align: left ; width: 100%}\n",
       "    .wandb-row { display: flex; flex-direction: row; flex-wrap: wrap; justify-content: flex-start; width: 100% }\n",
       "    .wandb-col { display: flex; flex-direction: column; flex-basis: 100%; flex: 1; padding: 10px; }\n",
       "    </style>\n",
       "<div class=\"wandb-row\"><div class=\"wandb-col\"><h3>Run history:</h3><br/><table class=\"wandb\"><tr><td>Test Accuracy</td><td>███▁▁█████▁▁▁███████▁███▁███▁███████▁▁█</td></tr><tr><td>Test F1</td><td>███▁▁█████▁▁▁███████▁███▁███▁███████▁▁█</td></tr><tr><td>Test Loss</td><td>▂▂▄▁▆▁▆▁▂▁▇▁▃▁▂▄▁▁▁▂▃▂▃▂▂▂▁▁▁▂▂▁▆█▂▁▁▃▁</td></tr><tr><td>Test Sensitivity</td><td>███▁▁█████▁▁▁███████▁███▁███▁███████▁▁█</td></tr><tr><td>Test Specificity</td><td>▁▁▁██▁▁▁▁▁███▁▁▁▁▁▁▁█▁▁▁█▁▁▁█▁▁▁▁▁▁▁██▁</td></tr><tr><td>Train Accuracy</td><td>███▁▁█████▁▁▁███████▁███▁███▁███████▁▁█</td></tr><tr><td>Train F1</td><td>███▁▁█████▁▁▁███████▁███▁███▁███████▁▁█</td></tr><tr><td>Train Loss</td><td>▁▂▃▂█▁▄▁▁▁█▂▄▁▁▂▁▁▁▁▄▁▂▁▃▁▁▁▂▂▁▂▄▅▁▁▂▄▁</td></tr><tr><td>Train Sensitivity</td><td>███▁▁█████▁▁▁███████▁███▁███▁███████▁▁█</td></tr><tr><td>Train Specificity</td><td>▁▁▁██▁▁▁▁▁███▁▁▁▁▁▁▁█▁▁▁█▁▁▁█▁▁▁▁▁▁▁██▁</td></tr></table><br/></div><div class=\"wandb-col\"><h3>Run summary:</h3><br/><table class=\"wandb\"><tr><td>Test Accuracy</td><td>0.511</td></tr><tr><td>Test F1</td><td>0.67637</td></tr><tr><td>Test Loss</td><td>0.69286</td></tr><tr><td>Test Sensitivity</td><td>1.0</td></tr><tr><td>Test Specificity</td><td>0.0</td></tr><tr><td>Train Accuracy</td><td>0.52643</td></tr><tr><td>Train F1</td><td>0.68975</td></tr><tr><td>Train Loss</td><td>0.69196</td></tr><tr><td>Train Sensitivity</td><td>1.0</td></tr><tr><td>Train Specificity</td><td>0.0</td></tr></table><br/></div></div>"
      ],
      "text/plain": [
       "<IPython.core.display.HTML object>"
      ]
     },
     "metadata": {},
     "output_type": "display_data"
    },
    {
     "data": {
      "text/html": [
       " View run <strong style=\"color:#cdcd00\">lucky-sweep-13</strong> at: <a href='https://wandb.ai/dylan-home/pytorch-sweeps-demo/runs/x50w0qgq' target=\"_blank\">https://wandb.ai/dylan-home/pytorch-sweeps-demo/runs/x50w0qgq</a><br/>Synced 5 W&B file(s), 0 media file(s), 0 artifact file(s) and 0 other file(s)"
      ],
      "text/plain": [
       "<IPython.core.display.HTML object>"
      ]
     },
     "metadata": {},
     "output_type": "display_data"
    },
    {
     "data": {
      "text/html": [
       "Find logs at: <code>./wandb/run-20250105_151531-x50w0qgq/logs</code>"
      ],
      "text/plain": [
       "<IPython.core.display.HTML object>"
      ]
     },
     "metadata": {},
     "output_type": "display_data"
    },
    {
     "name": "stderr",
     "output_type": "stream",
     "text": [
      "\u001b[34m\u001b[1mwandb\u001b[0m: Agent Starting Run: 8ftxwzlb with config:\n",
      "\u001b[34m\u001b[1mwandb\u001b[0m: \thidden_channels: 256\n",
      "\u001b[34m\u001b[1mwandb\u001b[0m: \tlearning_rate: 0.00015130819969689995\n",
      "Failed to detect the name of this notebook, you can set it manually with the WANDB_NOTEBOOK_NAME environment variable to enable code saving.\n",
      "/usr/lib/python3/dist-packages/requests/__init__.py:87: RequestsDependencyWarning: urllib3 (2.2.3) or chardet (4.0.0) doesn't match a supported version!\n",
      "  warnings.warn(\"urllib3 ({}) or chardet ({}) doesn't match a supported \"\n"
     ]
    },
    {
     "data": {
      "text/html": [
       "wandb version 0.19.1 is available!  To upgrade, please run:\n",
       " $ pip install wandb --upgrade"
      ],
      "text/plain": [
       "<IPython.core.display.HTML object>"
      ]
     },
     "metadata": {},
     "output_type": "display_data"
    },
    {
     "data": {
      "text/html": [
       "Tracking run with wandb version 0.16.4"
      ],
      "text/plain": [
       "<IPython.core.display.HTML object>"
      ]
     },
     "metadata": {},
     "output_type": "display_data"
    },
    {
     "data": {
      "text/html": [
       "Run data is saved locally in <code>/mnt/alphafold-volume-1/dylan2/repos/tb-pnca-gnn/dd_pnca/wandb/run-20250105_151658-8ftxwzlb</code>"
      ],
      "text/plain": [
       "<IPython.core.display.HTML object>"
      ]
     },
     "metadata": {},
     "output_type": "display_data"
    },
    {
     "data": {
      "text/html": [
       "Syncing run <strong><a href='https://wandb.ai/dylan-home/pytorch-sweeps-demo/runs/8ftxwzlb' target=\"_blank\">stoic-sweep-14</a></strong> to <a href='https://wandb.ai/dylan-home/pytorch-sweeps-demo' target=\"_blank\">Weights & Biases</a> (<a href='https://wandb.me/run' target=\"_blank\">docs</a>)<br/>Sweep page: <a href='https://wandb.ai/dylan-home/pytorch-sweeps-demo/sweeps/93peolwf' target=\"_blank\">https://wandb.ai/dylan-home/pytorch-sweeps-demo/sweeps/93peolwf</a>"
      ],
      "text/plain": [
       "<IPython.core.display.HTML object>"
      ]
     },
     "metadata": {},
     "output_type": "display_data"
    },
    {
     "data": {
      "text/html": [
       " View project at <a href='https://wandb.ai/dylan-home/pytorch-sweeps-demo' target=\"_blank\">https://wandb.ai/dylan-home/pytorch-sweeps-demo</a>"
      ],
      "text/plain": [
       "<IPython.core.display.HTML object>"
      ]
     },
     "metadata": {},
     "output_type": "display_data"
    },
    {
     "data": {
      "text/html": [
       " View sweep at <a href='https://wandb.ai/dylan-home/pytorch-sweeps-demo/sweeps/93peolwf' target=\"_blank\">https://wandb.ai/dylan-home/pytorch-sweeps-demo/sweeps/93peolwf</a>"
      ],
      "text/plain": [
       "<IPython.core.display.HTML object>"
      ]
     },
     "metadata": {},
     "output_type": "display_data"
    },
    {
     "data": {
      "text/html": [
       " View run at <a href='https://wandb.ai/dylan-home/pytorch-sweeps-demo/runs/8ftxwzlb' target=\"_blank\">https://wandb.ai/dylan-home/pytorch-sweeps-demo/runs/8ftxwzlb</a>"
      ],
      "text/plain": [
       "<IPython.core.display.HTML object>"
      ]
     },
     "metadata": {},
     "output_type": "display_data"
    },
    {
     "name": "stdout",
     "output_type": "stream",
     "text": [
      "Using CUDA\n",
      "Early stopping enabled. Patience: 20. Min Delta: 0.\n",
      "Epoch: 010, Train Acc: 0.4736, Test Acc: 0.4890, Train Loss: 0.7077, Test Loss: 0.7002\n",
      "Epoch: 020, Train Acc: 0.5191, Test Acc: 0.5080, Train Loss: 0.6855, Test Loss: 0.6830\n",
      "Epoch: 030, Train Acc: 0.5016, Test Acc: 0.4923, Train Loss: 0.6824, Test Loss: 0.6777\n",
      "Epoch: 040, Train Acc: 0.6994, Test Acc: 0.6843, Train Loss: 0.6814, Test Loss: 0.6745\n",
      "Epoch: 050, Train Acc: 0.7051, Test Acc: 0.6910, Train Loss: 0.6767, Test Loss: 0.6695\n",
      "Epoch: 060, Train Acc: 0.6621, Test Acc: 0.6770, Train Loss: 0.6705, Test Loss: 0.6620\n",
      "Epoch: 070, Train Acc: 0.5460, Test Acc: 0.6033, Train Loss: 0.6802, Test Loss: 0.6650\n",
      "Epoch: 080, Train Acc: 0.5214, Test Acc: 0.5037, Train Loss: 0.6486, Test Loss: 0.6460\n",
      "Epoch: 090, Train Acc: 0.7239, Test Acc: 0.7097, Train Loss: 0.6355, Test Loss: 0.6273\n",
      "Epoch: 100, Train Acc: 0.7559, Test Acc: 0.7197, Train Loss: 0.5988, Test Loss: 0.5932\n",
      "Epoch: 110, Train Acc: 0.7357, Test Acc: 0.7253, Train Loss: 0.5899, Test Loss: 0.5828\n",
      "Epoch: 120, Train Acc: 0.7150, Test Acc: 0.7063, Train Loss: 0.5700, Test Loss: 0.5657\n",
      "Epoch: 130, Train Acc: 0.7241, Test Acc: 0.7127, Train Loss: 0.5532, Test Loss: 0.5548\n",
      "Epoch: 140, Train Acc: 0.7891, Test Acc: 0.7440, Train Loss: 0.5387, Test Loss: 0.5591\n",
      "Epoch: 150, Train Acc: 0.7499, Test Acc: 0.7260, Train Loss: 0.5249, Test Loss: 0.5377\n",
      "Epoch: 160, Train Acc: 0.7737, Test Acc: 0.7420, Train Loss: 0.4942, Test Loss: 0.5212\n",
      "Epoch: 170, Train Acc: 0.7913, Test Acc: 0.7530, Train Loss: 0.4856, Test Loss: 0.5198\n",
      "Epoch: 180, Train Acc: 0.7813, Test Acc: 0.7480, Train Loss: 0.4866, Test Loss: 0.5111\n",
      "Epoch: 190, Train Acc: 0.7347, Test Acc: 0.7137, Train Loss: 0.5077, Test Loss: 0.5396\n",
      "Epoch: 200, Train Acc: 0.8019, Test Acc: 0.7520, Train Loss: 0.4930, Test Loss: 0.5622\n",
      "Epoch: 210, Train Acc: 0.7941, Test Acc: 0.7510, Train Loss: 0.4471, Test Loss: 0.5008\n",
      "Epoch: 220, Train Acc: 0.8100, Test Acc: 0.7483, Train Loss: 0.4755, Test Loss: 0.5749\n",
      "Epoch: 230, Train Acc: 0.8149, Test Acc: 0.7473, Train Loss: 0.4734, Test Loss: 0.5831\n",
      "20 epochs passed without 0 test loss improvement. \n",
      "Early stopping triggered.\n"
     ]
    },
    {
     "data": {
      "text/html": [
       "<style>\n",
       "    table.wandb td:nth-child(1) { padding: 0 10px; text-align: left ; width: auto;} td:nth-child(2) {text-align: left ; width: 100%}\n",
       "    .wandb-row { display: flex; flex-direction: row; flex-wrap: wrap; justify-content: flex-start; width: 100% }\n",
       "    .wandb-col { display: flex; flex-direction: column; flex-basis: 100%; flex: 1; padding: 10px; }\n",
       "    </style>\n",
       "<div class=\"wandb-row\"><div class=\"wandb-col\"><h3>Run history:</h3><br/><table class=\"wandb\"><tr><td>Test Accuracy</td><td>▂▂▁▂▂▂▅▁▆▄▅▂▆▂▆▆▇▂▇▂▆▇▆▇▂▇▇▇█▆███▇▇▇▇█▇█</td></tr><tr><td>Test F1</td><td>▆▆▅▆▆▆▄▅▆▁▄▆▅▆▆▆▇▆▇▆▆█▄█▆▇▇▆▇▅█▇██▇▆▇███</td></tr><tr><td>Test Loss</td><td>▇▆▆▆▆▆▆▆▆▆▅▆▅▅▄▄▄▅▃▅▃▃▄▃█▂▂▂▁▅▂▂▁▃▁▂▁▂▃▁</td></tr><tr><td>Test Sensitivity</td><td>██▆███▂▆▅▁▂█▄█▅▄▆█▅█▄▇▃▆█▅▅▄▅▃▆▅▆▇▅▄▅▆▇▆</td></tr><tr><td>Test Specificity</td><td>▁▁▂▁▁▁█▂▆██▁▇▁▇▇▆▁▇▁▇▅█▆▁▇▇▇▇█▆▇▇▅▇▇▇▆▅▇</td></tr><tr><td>Train Accuracy</td><td>▂▂▁▂▂▂▃▁▆▂▄▂▅▂▆▅▆▂▆▂▅▇▅▇▂▇▇▆▇▅█▇██▇▇▇███</td></tr><tr><td>Train F1</td><td>▆▆▅▆▆▆▃▆▆▁▃▆▅▆▆▆▇▆▇▆▅█▅█▆▇▇▆▇▅████▇▇▇███</td></tr><tr><td>Train Loss</td><td>███▇▇█▇▇▇█▇▇▇▇▆▆▆▆▅▆▅▅▆▄█▄▃▄▃▆▃▃▂▃▂▃▂▂▃▁</td></tr><tr><td>Train Sensitivity</td><td>██▆███▂▇▅▁▂█▄█▅▄▇█▅█▄▇▃▇█▆▆▄▆▃▇▆▆▇▅▅▅▇▇▆</td></tr><tr><td>Train Specificity</td><td>▁▁▂▁▁▁█▂▇██▁█▁▇▇▆▁▇▁█▅█▆▁▇▇█▇█▇▇▇▆███▆▆▇</td></tr></table><br/></div><div class=\"wandb-col\"><h3>Run summary:</h3><br/><table class=\"wandb\"><tr><td>Test Accuracy</td><td>0.78067</td></tr><tr><td>Test F1</td><td>0.78125</td></tr><tr><td>Test Loss</td><td>0.50343</td></tr><tr><td>Test Sensitivity</td><td>0.76647</td></tr><tr><td>Test Specificity</td><td>0.7955</td></tr><tr><td>Train Accuracy</td><td>0.82314</td></tr><tr><td>Train F1</td><td>0.82714</td></tr><tr><td>Train Loss</td><td>0.40759</td></tr><tr><td>Train Sensitivity</td><td>0.8038</td></tr><tr><td>Train Specificity</td><td>0.84465</td></tr></table><br/></div></div>"
      ],
      "text/plain": [
       "<IPython.core.display.HTML object>"
      ]
     },
     "metadata": {},
     "output_type": "display_data"
    },
    {
     "data": {
      "text/html": [
       " View run <strong style=\"color:#cdcd00\">stoic-sweep-14</strong> at: <a href='https://wandb.ai/dylan-home/pytorch-sweeps-demo/runs/8ftxwzlb' target=\"_blank\">https://wandb.ai/dylan-home/pytorch-sweeps-demo/runs/8ftxwzlb</a><br/>Synced 5 W&B file(s), 0 media file(s), 0 artifact file(s) and 0 other file(s)"
      ],
      "text/plain": [
       "<IPython.core.display.HTML object>"
      ]
     },
     "metadata": {},
     "output_type": "display_data"
    },
    {
     "data": {
      "text/html": [
       "Find logs at: <code>./wandb/run-20250105_151658-8ftxwzlb/logs</code>"
      ],
      "text/plain": [
       "<IPython.core.display.HTML object>"
      ]
     },
     "metadata": {},
     "output_type": "display_data"
    },
    {
     "name": "stderr",
     "output_type": "stream",
     "text": [
      "\u001b[34m\u001b[1mwandb\u001b[0m: Agent Starting Run: b3ra3z8k with config:\n",
      "\u001b[34m\u001b[1mwandb\u001b[0m: \thidden_channels: 32\n",
      "\u001b[34m\u001b[1mwandb\u001b[0m: \tlearning_rate: 0.007982990127893625\n",
      "Failed to detect the name of this notebook, you can set it manually with the WANDB_NOTEBOOK_NAME environment variable to enable code saving.\n",
      "/usr/lib/python3/dist-packages/requests/__init__.py:87: RequestsDependencyWarning: urllib3 (2.2.3) or chardet (4.0.0) doesn't match a supported version!\n",
      "  warnings.warn(\"urllib3 ({}) or chardet ({}) doesn't match a supported \"\n"
     ]
    },
    {
     "data": {
      "text/html": [
       "wandb version 0.19.1 is available!  To upgrade, please run:\n",
       " $ pip install wandb --upgrade"
      ],
      "text/plain": [
       "<IPython.core.display.HTML object>"
      ]
     },
     "metadata": {},
     "output_type": "display_data"
    },
    {
     "data": {
      "text/html": [
       "Tracking run with wandb version 0.16.4"
      ],
      "text/plain": [
       "<IPython.core.display.HTML object>"
      ]
     },
     "metadata": {},
     "output_type": "display_data"
    },
    {
     "data": {
      "text/html": [
       "Run data is saved locally in <code>/mnt/alphafold-volume-1/dylan2/repos/tb-pnca-gnn/dd_pnca/wandb/run-20250105_152500-b3ra3z8k</code>"
      ],
      "text/plain": [
       "<IPython.core.display.HTML object>"
      ]
     },
     "metadata": {},
     "output_type": "display_data"
    },
    {
     "data": {
      "text/html": [
       "Syncing run <strong><a href='https://wandb.ai/dylan-home/pytorch-sweeps-demo/runs/b3ra3z8k' target=\"_blank\">misunderstood-sweep-15</a></strong> to <a href='https://wandb.ai/dylan-home/pytorch-sweeps-demo' target=\"_blank\">Weights & Biases</a> (<a href='https://wandb.me/run' target=\"_blank\">docs</a>)<br/>Sweep page: <a href='https://wandb.ai/dylan-home/pytorch-sweeps-demo/sweeps/93peolwf' target=\"_blank\">https://wandb.ai/dylan-home/pytorch-sweeps-demo/sweeps/93peolwf</a>"
      ],
      "text/plain": [
       "<IPython.core.display.HTML object>"
      ]
     },
     "metadata": {},
     "output_type": "display_data"
    },
    {
     "data": {
      "text/html": [
       " View project at <a href='https://wandb.ai/dylan-home/pytorch-sweeps-demo' target=\"_blank\">https://wandb.ai/dylan-home/pytorch-sweeps-demo</a>"
      ],
      "text/plain": [
       "<IPython.core.display.HTML object>"
      ]
     },
     "metadata": {},
     "output_type": "display_data"
    },
    {
     "data": {
      "text/html": [
       " View sweep at <a href='https://wandb.ai/dylan-home/pytorch-sweeps-demo/sweeps/93peolwf' target=\"_blank\">https://wandb.ai/dylan-home/pytorch-sweeps-demo/sweeps/93peolwf</a>"
      ],
      "text/plain": [
       "<IPython.core.display.HTML object>"
      ]
     },
     "metadata": {},
     "output_type": "display_data"
    },
    {
     "data": {
      "text/html": [
       " View run at <a href='https://wandb.ai/dylan-home/pytorch-sweeps-demo/runs/b3ra3z8k' target=\"_blank\">https://wandb.ai/dylan-home/pytorch-sweeps-demo/runs/b3ra3z8k</a>"
      ],
      "text/plain": [
       "<IPython.core.display.HTML object>"
      ]
     },
     "metadata": {},
     "output_type": "display_data"
    },
    {
     "name": "stdout",
     "output_type": "stream",
     "text": [
      "Using CUDA\n",
      "Early stopping enabled. Patience: 20. Min Delta: 0.\n",
      "Epoch: 010, Train Acc: 0.5264, Test Acc: 0.5110, Train Loss: 0.6918, Test Loss: 0.6945\n",
      "Epoch: 020, Train Acc: 0.5264, Test Acc: 0.5110, Train Loss: 0.6918, Test Loss: 0.6933\n",
      "20 epochs passed without 0 test loss improvement. \n",
      "Early stopping triggered.\n"
     ]
    },
    {
     "data": {
      "text/html": [
       "<style>\n",
       "    table.wandb td:nth-child(1) { padding: 0 10px; text-align: left ; width: auto;} td:nth-child(2) {text-align: left ; width: 100%}\n",
       "    .wandb-row { display: flex; flex-direction: row; flex-wrap: wrap; justify-content: flex-start; width: 100% }\n",
       "    .wandb-col { display: flex; flex-direction: column; flex-basis: 100%; flex: 1; padding: 10px; }\n",
       "    </style>\n",
       "<div class=\"wandb-row\"><div class=\"wandb-col\"><h3>Run history:</h3><br/><table class=\"wandb\"><tr><td>Test Accuracy</td><td>▁▁▁▁▁▁▁▁▁▁▁▁▁▁▁▁▁▁▁▁▁</td></tr><tr><td>Test F1</td><td>▁▁▁▁▁▁▁▁▁▁▁▁▁▁▁▁▁▁▁▁▁</td></tr><tr><td>Test Loss</td><td>▁▃▂▂▂▁▄▃▅█▃▅▂▄▂▁▂▂▁▃▃</td></tr><tr><td>Test Sensitivity</td><td>▁▁▁▁▁▁▁▁▁▁▁▁▁▁▁▁▁▁▁▁▁</td></tr><tr><td>Test Specificity</td><td>▁▁▁▁▁▁▁▁▁▁▁▁▁▁▁▁▁▁▁▁▁</td></tr><tr><td>Train Accuracy</td><td>▁▁▁▁▁▁▁▁▁▁▁▁▁▁▁▁▁▁▁▁▁</td></tr><tr><td>Train F1</td><td>▁▁▁▁▁▁▁▁▁▁▁▁▁▁▁▁▁▁▁▁▁</td></tr><tr><td>Train Loss</td><td>█▄▄▂▆▅▄▃▃▄▆▅▃█▁▆▇▃▂▄▄</td></tr><tr><td>Train Sensitivity</td><td>▁▁▁▁▁▁▁▁▁▁▁▁▁▁▁▁▁▁▁▁▁</td></tr><tr><td>Train Specificity</td><td>▁▁▁▁▁▁▁▁▁▁▁▁▁▁▁▁▁▁▁▁▁</td></tr></table><br/></div><div class=\"wandb-col\"><h3>Run summary:</h3><br/><table class=\"wandb\"><tr><td>Test Accuracy</td><td>0.511</td></tr><tr><td>Test F1</td><td>0.67637</td></tr><tr><td>Test Loss</td><td>0.6933</td></tr><tr><td>Test Sensitivity</td><td>1.0</td></tr><tr><td>Test Specificity</td><td>0.0</td></tr><tr><td>Train Accuracy</td><td>0.52643</td></tr><tr><td>Train F1</td><td>0.68975</td></tr><tr><td>Train Loss</td><td>0.69174</td></tr><tr><td>Train Sensitivity</td><td>1.0</td></tr><tr><td>Train Specificity</td><td>0.0</td></tr></table><br/></div></div>"
      ],
      "text/plain": [
       "<IPython.core.display.HTML object>"
      ]
     },
     "metadata": {},
     "output_type": "display_data"
    },
    {
     "data": {
      "text/html": [
       " View run <strong style=\"color:#cdcd00\">misunderstood-sweep-15</strong> at: <a href='https://wandb.ai/dylan-home/pytorch-sweeps-demo/runs/b3ra3z8k' target=\"_blank\">https://wandb.ai/dylan-home/pytorch-sweeps-demo/runs/b3ra3z8k</a><br/>Synced 5 W&B file(s), 0 media file(s), 0 artifact file(s) and 0 other file(s)"
      ],
      "text/plain": [
       "<IPython.core.display.HTML object>"
      ]
     },
     "metadata": {},
     "output_type": "display_data"
    },
    {
     "data": {
      "text/html": [
       "Find logs at: <code>./wandb/run-20250105_152500-b3ra3z8k/logs</code>"
      ],
      "text/plain": [
       "<IPython.core.display.HTML object>"
      ]
     },
     "metadata": {},
     "output_type": "display_data"
    },
    {
     "name": "stderr",
     "output_type": "stream",
     "text": [
      "\u001b[34m\u001b[1mwandb\u001b[0m: Agent Starting Run: dt2m97fg with config:\n",
      "\u001b[34m\u001b[1mwandb\u001b[0m: \thidden_channels: 64\n",
      "\u001b[34m\u001b[1mwandb\u001b[0m: \tlearning_rate: 0.0001348154989454281\n",
      "Failed to detect the name of this notebook, you can set it manually with the WANDB_NOTEBOOK_NAME environment variable to enable code saving.\n",
      "/usr/lib/python3/dist-packages/requests/__init__.py:87: RequestsDependencyWarning: urllib3 (2.2.3) or chardet (4.0.0) doesn't match a supported version!\n",
      "  warnings.warn(\"urllib3 ({}) or chardet ({}) doesn't match a supported \"\n"
     ]
    },
    {
     "data": {
      "text/html": [
       "wandb version 0.19.1 is available!  To upgrade, please run:\n",
       " $ pip install wandb --upgrade"
      ],
      "text/plain": [
       "<IPython.core.display.HTML object>"
      ]
     },
     "metadata": {},
     "output_type": "display_data"
    },
    {
     "data": {
      "text/html": [
       "Tracking run with wandb version 0.16.4"
      ],
      "text/plain": [
       "<IPython.core.display.HTML object>"
      ]
     },
     "metadata": {},
     "output_type": "display_data"
    },
    {
     "data": {
      "text/html": [
       "Run data is saved locally in <code>/mnt/alphafold-volume-1/dylan2/repos/tb-pnca-gnn/dd_pnca/wandb/run-20250105_152546-dt2m97fg</code>"
      ],
      "text/plain": [
       "<IPython.core.display.HTML object>"
      ]
     },
     "metadata": {},
     "output_type": "display_data"
    },
    {
     "data": {
      "text/html": [
       "Syncing run <strong><a href='https://wandb.ai/dylan-home/pytorch-sweeps-demo/runs/dt2m97fg' target=\"_blank\">dry-sweep-16</a></strong> to <a href='https://wandb.ai/dylan-home/pytorch-sweeps-demo' target=\"_blank\">Weights & Biases</a> (<a href='https://wandb.me/run' target=\"_blank\">docs</a>)<br/>Sweep page: <a href='https://wandb.ai/dylan-home/pytorch-sweeps-demo/sweeps/93peolwf' target=\"_blank\">https://wandb.ai/dylan-home/pytorch-sweeps-demo/sweeps/93peolwf</a>"
      ],
      "text/plain": [
       "<IPython.core.display.HTML object>"
      ]
     },
     "metadata": {},
     "output_type": "display_data"
    },
    {
     "data": {
      "text/html": [
       " View project at <a href='https://wandb.ai/dylan-home/pytorch-sweeps-demo' target=\"_blank\">https://wandb.ai/dylan-home/pytorch-sweeps-demo</a>"
      ],
      "text/plain": [
       "<IPython.core.display.HTML object>"
      ]
     },
     "metadata": {},
     "output_type": "display_data"
    },
    {
     "data": {
      "text/html": [
       " View sweep at <a href='https://wandb.ai/dylan-home/pytorch-sweeps-demo/sweeps/93peolwf' target=\"_blank\">https://wandb.ai/dylan-home/pytorch-sweeps-demo/sweeps/93peolwf</a>"
      ],
      "text/plain": [
       "<IPython.core.display.HTML object>"
      ]
     },
     "metadata": {},
     "output_type": "display_data"
    },
    {
     "data": {
      "text/html": [
       " View run at <a href='https://wandb.ai/dylan-home/pytorch-sweeps-demo/runs/dt2m97fg' target=\"_blank\">https://wandb.ai/dylan-home/pytorch-sweeps-demo/runs/dt2m97fg</a>"
      ],
      "text/plain": [
       "<IPython.core.display.HTML object>"
      ]
     },
     "metadata": {},
     "output_type": "display_data"
    },
    {
     "name": "stdout",
     "output_type": "stream",
     "text": [
      "Using CUDA\n",
      "Early stopping enabled. Patience: 20. Min Delta: 0.\n",
      "Epoch: 010, Train Acc: 0.6064, Test Acc: 0.6277, Train Loss: 0.6931, Test Loss: 0.6914\n",
      "Epoch: 020, Train Acc: 0.5159, Test Acc: 0.5073, Train Loss: 0.6902, Test Loss: 0.6897\n",
      "Epoch: 030, Train Acc: 0.5081, Test Acc: 0.5017, Train Loss: 0.6893, Test Loss: 0.6881\n",
      "Epoch: 040, Train Acc: 0.6236, Test Acc: 0.6330, Train Loss: 0.6901, Test Loss: 0.6868\n",
      "Epoch: 050, Train Acc: 0.5557, Test Acc: 0.6060, Train Loss: 0.6898, Test Loss: 0.6856\n",
      "Epoch: 060, Train Acc: 0.5251, Test Acc: 0.5103, Train Loss: 0.6855, Test Loss: 0.6854\n",
      "Epoch: 070, Train Acc: 0.5020, Test Acc: 0.4860, Train Loss: 0.6820, Test Loss: 0.6796\n",
      "Epoch: 080, Train Acc: 0.4977, Test Acc: 0.4847, Train Loss: 0.6787, Test Loss: 0.6761\n",
      "Epoch: 090, Train Acc: 0.4824, Test Acc: 0.4757, Train Loss: 0.6752, Test Loss: 0.6711\n",
      "Epoch: 100, Train Acc: 0.6934, Test Acc: 0.6853, Train Loss: 0.6722, Test Loss: 0.6659\n",
      "Epoch: 110, Train Acc: 0.5973, Test Acc: 0.6547, Train Loss: 0.6744, Test Loss: 0.6655\n",
      "Epoch: 120, Train Acc: 0.4840, Test Acc: 0.4843, Train Loss: 0.6605, Test Loss: 0.6557\n",
      "Epoch: 130, Train Acc: 0.6943, Test Acc: 0.6850, Train Loss: 0.6537, Test Loss: 0.6457\n",
      "Epoch: 140, Train Acc: 0.6100, Test Acc: 0.6670, Train Loss: 0.6568, Test Loss: 0.6461\n",
      "Epoch: 150, Train Acc: 0.7129, Test Acc: 0.6880, Train Loss: 0.6328, Test Loss: 0.6298\n",
      "Epoch: 160, Train Acc: 0.6517, Test Acc: 0.6783, Train Loss: 0.6321, Test Loss: 0.6207\n",
      "Epoch: 170, Train Acc: 0.5247, Test Acc: 0.5090, Train Loss: 0.6570, Test Loss: 0.6673\n",
      "Epoch: 180, Train Acc: 0.5263, Test Acc: 0.5000, Train Loss: 0.6089, Test Loss: 0.6122\n",
      "Epoch: 190, Train Acc: 0.7449, Test Acc: 0.7257, Train Loss: 0.5915, Test Loss: 0.5915\n",
      "Epoch: 200, Train Acc: 0.7046, Test Acc: 0.6897, Train Loss: 0.5914, Test Loss: 0.5855\n",
      "Epoch: 210, Train Acc: 0.5313, Test Acc: 0.4900, Train Loss: 0.5999, Test Loss: 0.6129\n",
      "Epoch: 220, Train Acc: 0.7593, Test Acc: 0.7337, Train Loss: 0.5661, Test Loss: 0.5730\n",
      "Epoch: 230, Train Acc: 0.7347, Test Acc: 0.7007, Train Loss: 0.5565, Test Loss: 0.5585\n",
      "Epoch: 240, Train Acc: 0.7684, Test Acc: 0.7410, Train Loss: 0.5518, Test Loss: 0.5634\n",
      "Epoch: 250, Train Acc: 0.7386, Test Acc: 0.7033, Train Loss: 0.5388, Test Loss: 0.5459\n",
      "Epoch: 260, Train Acc: 0.7564, Test Acc: 0.7220, Train Loss: 0.5261, Test Loss: 0.5379\n",
      "Epoch: 270, Train Acc: 0.7666, Test Acc: 0.7327, Train Loss: 0.5175, Test Loss: 0.5322\n",
      "Epoch: 280, Train Acc: 0.7320, Test Acc: 0.7237, Train Loss: 0.5268, Test Loss: 0.5357\n",
      "Epoch: 290, Train Acc: 0.7739, Test Acc: 0.7457, Train Loss: 0.5063, Test Loss: 0.5275\n",
      "Epoch: 300, Train Acc: 0.7704, Test Acc: 0.7397, Train Loss: 0.4989, Test Loss: 0.5183\n",
      "Epoch: 310, Train Acc: 0.7731, Test Acc: 0.7420, Train Loss: 0.4926, Test Loss: 0.5174\n",
      "Epoch: 320, Train Acc: 0.7827, Test Acc: 0.7473, Train Loss: 0.4864, Test Loss: 0.5151\n",
      "Epoch: 330, Train Acc: 0.5510, Test Acc: 0.5217, Train Loss: 0.5685, Test Loss: 0.6140\n",
      "Epoch: 340, Train Acc: 0.7516, Test Acc: 0.7313, Train Loss: 0.4937, Test Loss: 0.5168\n",
      "Epoch: 350, Train Acc: 0.7686, Test Acc: 0.7457, Train Loss: 0.4774, Test Loss: 0.5055\n",
      "Epoch: 360, Train Acc: 0.7821, Test Acc: 0.7520, Train Loss: 0.4627, Test Loss: 0.4976\n",
      "Epoch: 370, Train Acc: 0.7890, Test Acc: 0.7497, Train Loss: 0.4606, Test Loss: 0.4987\n",
      "Epoch: 380, Train Acc: 0.8039, Test Acc: 0.7483, Train Loss: 0.4953, Test Loss: 0.5465\n",
      "Epoch: 390, Train Acc: 0.7264, Test Acc: 0.7217, Train Loss: 0.5282, Test Loss: 0.5567\n",
      "Epoch: 400, Train Acc: 0.7919, Test Acc: 0.7527, Train Loss: 0.4430, Test Loss: 0.4903\n"
     ]
    },
    {
     "data": {
      "text/html": [
       "<style>\n",
       "    table.wandb td:nth-child(1) { padding: 0 10px; text-align: left ; width: auto;} td:nth-child(2) {text-align: left ; width: 100%}\n",
       "    .wandb-row { display: flex; flex-direction: row; flex-wrap: wrap; justify-content: flex-start; width: 100% }\n",
       "    .wandb-col { display: flex; flex-direction: column; flex-basis: 100%; flex: 1; padding: 10px; }\n",
       "    </style>\n",
       "<div class=\"wandb-row\"><div class=\"wandb-col\"><h3>Run history:</h3><br/><table class=\"wandb\"><tr><td>Test Accuracy</td><td>▁▂▂▂▂▂▁▁▁▂▁▁▇▇▇▁▆▇▇▇▂▇▇▇▇█▇▇▇█▇█████████</td></tr><tr><td>Test F1</td><td>▂▄▄▄▄▄▂▂▂▄▃▁▅▅▅▂▂▃▆▅▃▃▅▃▃▇▅▃▆▇▃▆▇▄▆▅█▅▇▇</td></tr><tr><td>Test Loss</td><td>███▇▇▇▇▇▇▇▇▇▆▆▆▆▅▅▅▄▆▄▃▃▃▃▂▃▂▂▃▂▂▂▁▂▃▁▁▁</td></tr><tr><td>Test Sensitivity</td><td>▇█████▇▆▆█▇▅▄▃▄▆▂▂▄▃▇▂▃▁▂▄▃▂▃▄▁▄▅▂▃▂▆▃▄▄</td></tr><tr><td>Test Specificity</td><td>▁▁▁▁▁▁▁▂▁▁▁▂▆▇▆▁▇▇▇▇▁▇▇█▇▇▇█▇▇█▇▇█▇█▆█▇▇</td></tr><tr><td>Train Accuracy</td><td>▁▂▂▂▂▂▁▁▁▂▂▁▆▆▆▂▆▆▇▇▂▆▇▆▆▇▇▆▇▇▆▇█▇▇▇█▇██</td></tr><tr><td>Train F1</td><td>▂▄▃▃▃▃▂▁▂▃▃▁▄▄▅▃▂▃▅▅▃▃▅▂▃▆▅▃▆▇▂▆▇▄▆▅█▅▇▇</td></tr><tr><td>Train Loss</td><td>███████▇▇▇▇▇▇▇▆▆▆▅▅▅▆▅▄▄▄▃▃▃▃▃▄▂▂▂▂▂▂▂▁▁</td></tr><tr><td>Train Sensitivity</td><td>▆█████▇▅▆█▇▅▄▃▄▇▁▂▄▃▇▁▃▁▂▅▃▂▄▅▁▄▅▂▃▂▆▃▄▄</td></tr><tr><td>Train Specificity</td><td>▁▁▁▁▁▁▁▂▁▁▁▂▆▇▆▂██▇▇▁█▇██▇▇█▇▇█▇▇█▇█▆█▇▇</td></tr></table><br/></div><div class=\"wandb-col\"><h3>Run summary:</h3><br/><table class=\"wandb\"><tr><td>Test Accuracy</td><td>0.75267</td></tr><tr><td>Test F1</td><td>0.742</td></tr><tr><td>Test Loss</td><td>0.49034</td></tr><tr><td>Test Sensitivity</td><td>0.69602</td></tr><tr><td>Test Specificity</td><td>0.81186</td></tr><tr><td>Train Accuracy</td><td>0.79186</td></tr><tr><td>Train F1</td><td>0.78621</td></tr><tr><td>Train Loss</td><td>0.44304</td></tr><tr><td>Train Sensitivity</td><td>0.727</td></tr><tr><td>Train Specificity</td><td>0.86395</td></tr></table><br/></div></div>"
      ],
      "text/plain": [
       "<IPython.core.display.HTML object>"
      ]
     },
     "metadata": {},
     "output_type": "display_data"
    },
    {
     "data": {
      "text/html": [
       " View run <strong style=\"color:#cdcd00\">dry-sweep-16</strong> at: <a href='https://wandb.ai/dylan-home/pytorch-sweeps-demo/runs/dt2m97fg' target=\"_blank\">https://wandb.ai/dylan-home/pytorch-sweeps-demo/runs/dt2m97fg</a><br/>Synced 5 W&B file(s), 0 media file(s), 0 artifact file(s) and 0 other file(s)"
      ],
      "text/plain": [
       "<IPython.core.display.HTML object>"
      ]
     },
     "metadata": {},
     "output_type": "display_data"
    },
    {
     "data": {
      "text/html": [
       "Find logs at: <code>./wandb/run-20250105_152546-dt2m97fg/logs</code>"
      ],
      "text/plain": [
       "<IPython.core.display.HTML object>"
      ]
     },
     "metadata": {},
     "output_type": "display_data"
    },
    {
     "name": "stderr",
     "output_type": "stream",
     "text": [
      "\u001b[34m\u001b[1mwandb\u001b[0m: Agent Starting Run: suhf6co2 with config:\n",
      "\u001b[34m\u001b[1mwandb\u001b[0m: \thidden_channels: 32\n",
      "\u001b[34m\u001b[1mwandb\u001b[0m: \tlearning_rate: 0.0004046010482563827\n",
      "Failed to detect the name of this notebook, you can set it manually with the WANDB_NOTEBOOK_NAME environment variable to enable code saving.\n",
      "/usr/lib/python3/dist-packages/requests/__init__.py:87: RequestsDependencyWarning: urllib3 (2.2.3) or chardet (4.0.0) doesn't match a supported version!\n",
      "  warnings.warn(\"urllib3 ({}) or chardet ({}) doesn't match a supported \"\n"
     ]
    },
    {
     "data": {
      "text/html": [
       "wandb version 0.19.1 is available!  To upgrade, please run:\n",
       " $ pip install wandb --upgrade"
      ],
      "text/plain": [
       "<IPython.core.display.HTML object>"
      ]
     },
     "metadata": {},
     "output_type": "display_data"
    },
    {
     "data": {
      "text/html": [
       "Tracking run with wandb version 0.16.4"
      ],
      "text/plain": [
       "<IPython.core.display.HTML object>"
      ]
     },
     "metadata": {},
     "output_type": "display_data"
    },
    {
     "data": {
      "text/html": [
       "Run data is saved locally in <code>/mnt/alphafold-volume-1/dylan2/repos/tb-pnca-gnn/dd_pnca/wandb/run-20250105_153703-suhf6co2</code>"
      ],
      "text/plain": [
       "<IPython.core.display.HTML object>"
      ]
     },
     "metadata": {},
     "output_type": "display_data"
    },
    {
     "data": {
      "text/html": [
       "Syncing run <strong><a href='https://wandb.ai/dylan-home/pytorch-sweeps-demo/runs/suhf6co2' target=\"_blank\">visionary-sweep-17</a></strong> to <a href='https://wandb.ai/dylan-home/pytorch-sweeps-demo' target=\"_blank\">Weights & Biases</a> (<a href='https://wandb.me/run' target=\"_blank\">docs</a>)<br/>Sweep page: <a href='https://wandb.ai/dylan-home/pytorch-sweeps-demo/sweeps/93peolwf' target=\"_blank\">https://wandb.ai/dylan-home/pytorch-sweeps-demo/sweeps/93peolwf</a>"
      ],
      "text/plain": [
       "<IPython.core.display.HTML object>"
      ]
     },
     "metadata": {},
     "output_type": "display_data"
    },
    {
     "data": {
      "text/html": [
       " View project at <a href='https://wandb.ai/dylan-home/pytorch-sweeps-demo' target=\"_blank\">https://wandb.ai/dylan-home/pytorch-sweeps-demo</a>"
      ],
      "text/plain": [
       "<IPython.core.display.HTML object>"
      ]
     },
     "metadata": {},
     "output_type": "display_data"
    },
    {
     "data": {
      "text/html": [
       " View sweep at <a href='https://wandb.ai/dylan-home/pytorch-sweeps-demo/sweeps/93peolwf' target=\"_blank\">https://wandb.ai/dylan-home/pytorch-sweeps-demo/sweeps/93peolwf</a>"
      ],
      "text/plain": [
       "<IPython.core.display.HTML object>"
      ]
     },
     "metadata": {},
     "output_type": "display_data"
    },
    {
     "data": {
      "text/html": [
       " View run at <a href='https://wandb.ai/dylan-home/pytorch-sweeps-demo/runs/suhf6co2' target=\"_blank\">https://wandb.ai/dylan-home/pytorch-sweeps-demo/runs/suhf6co2</a>"
      ],
      "text/plain": [
       "<IPython.core.display.HTML object>"
      ]
     },
     "metadata": {},
     "output_type": "display_data"
    },
    {
     "name": "stdout",
     "output_type": "stream",
     "text": [
      "Using CUDA\n",
      "Early stopping enabled. Patience: 20. Min Delta: 0.\n",
      "Epoch: 010, Train Acc: 0.5264, Test Acc: 0.5110, Train Loss: 0.6921, Test Loss: 0.6946\n",
      "Epoch: 020, Train Acc: 0.5264, Test Acc: 0.5110, Train Loss: 0.6914, Test Loss: 0.6932\n",
      "Epoch: 030, Train Acc: 0.5264, Test Acc: 0.5110, Train Loss: 0.6899, Test Loss: 0.6911\n",
      "Epoch: 040, Train Acc: 0.5261, Test Acc: 0.5110, Train Loss: 0.6865, Test Loss: 0.6859\n",
      "Epoch: 050, Train Acc: 0.5346, Test Acc: 0.5840, Train Loss: 0.6884, Test Loss: 0.6856\n",
      "Epoch: 060, Train Acc: 0.4814, Test Acc: 0.4730, Train Loss: 0.6786, Test Loss: 0.6785\n",
      "Epoch: 070, Train Acc: 0.7066, Test Acc: 0.6863, Train Loss: 0.6766, Test Loss: 0.6746\n",
      "Epoch: 080, Train Acc: 0.6146, Test Acc: 0.6463, Train Loss: 0.6725, Test Loss: 0.6698\n",
      "Epoch: 090, Train Acc: 0.5213, Test Acc: 0.5047, Train Loss: 0.6665, Test Loss: 0.6727\n",
      "Epoch: 100, Train Acc: 0.5033, Test Acc: 0.4850, Train Loss: 0.6482, Test Loss: 0.6571\n",
      "Epoch: 110, Train Acc: 0.7359, Test Acc: 0.6903, Train Loss: 0.6252, Test Loss: 0.6323\n",
      "Epoch: 120, Train Acc: 0.6853, Test Acc: 0.6887, Train Loss: 0.6203, Test Loss: 0.6226\n",
      "Epoch: 130, Train Acc: 0.5161, Test Acc: 0.4893, Train Loss: 0.6088, Test Loss: 0.6267\n",
      "Epoch: 140, Train Acc: 0.6977, Test Acc: 0.6950, Train Loss: 0.5998, Test Loss: 0.6094\n",
      "Epoch: 150, Train Acc: 0.6039, Test Acc: 0.6360, Train Loss: 0.6639, Test Loss: 0.6615\n",
      "Epoch: 160, Train Acc: 0.7526, Test Acc: 0.7023, Train Loss: 0.5705, Test Loss: 0.6067\n",
      "Epoch: 170, Train Acc: 0.7590, Test Acc: 0.7087, Train Loss: 0.5647, Test Loss: 0.6036\n",
      "Epoch: 180, Train Acc: 0.7490, Test Acc: 0.7120, Train Loss: 0.5534, Test Loss: 0.6007\n",
      "Epoch: 190, Train Acc: 0.5201, Test Acc: 0.4880, Train Loss: 0.5819, Test Loss: 0.6492\n",
      "20 epochs passed without 0 test loss improvement. \n",
      "Early stopping triggered.\n"
     ]
    },
    {
     "data": {
      "text/html": [
       "<style>\n",
       "    table.wandb td:nth-child(1) { padding: 0 10px; text-align: left ; width: auto;} td:nth-child(2) {text-align: left ; width: 100%}\n",
       "    .wandb-row { display: flex; flex-direction: row; flex-wrap: wrap; justify-content: flex-start; width: 100% }\n",
       "    .wandb-col { display: flex; flex-direction: column; flex-basis: 100%; flex: 1; padding: 10px; }\n",
       "    </style>\n",
       "<div class=\"wandb-row\"><div class=\"wandb-col\"><h3>Run history:</h3><br/><table class=\"wandb\"><tr><td>Test Accuracy</td><td>▁▂▂▂▂▂▂▂▂▂▄▁▁▂▇▇▆▇▂▇▁▁▇▇▇▇▁▇█▁▆▇███▂██▁▇</td></tr><tr><td>Test F1</td><td>▁▇████████▄▇▇█▇▇▆▇██▇▇█▇▇█▇▇▇▇▆▇███▇██▇▇</td></tr><tr><td>Test Loss</td><td>█████▇▇▇▇▇▇▇▇▆▆▆▆▅▆▅▅▅▃▄▃▃▃▂▂▅▅▁▂▂▁▄▁▂▅▃</td></tr><tr><td>Test Sensitivity</td><td>▁█████████▂▇▇█▅▄▃▅█▆▇▇▆▄▄▆▇▅▅▇▃▅▆▆▆▇▅▆▇▄</td></tr><tr><td>Test Specificity</td><td>█▁▁▁▁▁▁▁▁▁█▁▁▁▇▇█▇▁▆▁▁▆█▇▆▂▇▇▁█▇▆▆▆▂▇▆▂█</td></tr><tr><td>Train Accuracy</td><td>▁▂▂▂▂▂▂▂▂▂▂▂▁▂▇▆▄▇▂▇▂▂▇▅▆█▂▇▆▂▄▇███▂██▂▆</td></tr><tr><td>Train F1</td><td>▁▇▇▇▇▇▇▇▇▇▃▇▇▇▇▆▅▇▇█▇▇█▆▆█▇▇▇▇▅▇███▇██▇▆</td></tr><tr><td>Train Loss</td><td>████████▇▇█▇▇▇▇▇▇▆▆▅▆▅▄▅▄▄▄▃▃▄▆▂▂▂▂▃▁▁▂▃</td></tr><tr><td>Train Sensitivity</td><td>▁█████████▂▇▇█▅▄▃▅█▆█▇▆▄▄▆▇▅▄█▃▅▆▆▆▇▅▆▇▄</td></tr><tr><td>Train Specificity</td><td>█▁▁▁▁▁▁▁▁▁█▁▁▁▇██▇▁▆▁▁▆██▆▂▇█▁█▇▇▇▇▂▇▆▂█</td></tr></table><br/></div><div class=\"wandb-col\"><h3>Run summary:</h3><br/><table class=\"wandb\"><tr><td>Test Accuracy</td><td>0.49233</td></tr><tr><td>Test F1</td><td>0.64491</td></tr><tr><td>Test Loss</td><td>0.67963</td></tr><tr><td>Test Sensitivity</td><td>0.90215</td></tr><tr><td>Test Specificity</td><td>0.06408</td></tr><tr><td>Train Accuracy</td><td>0.51571</td></tr><tr><td>Train F1</td><td>0.66817</td></tr><tr><td>Train Loss</td><td>0.60015</td></tr><tr><td>Train Sensitivity</td><td>0.92619</td></tr><tr><td>Train Specificity</td><td>0.05943</td></tr></table><br/></div></div>"
      ],
      "text/plain": [
       "<IPython.core.display.HTML object>"
      ]
     },
     "metadata": {},
     "output_type": "display_data"
    },
    {
     "data": {
      "text/html": [
       " View run <strong style=\"color:#cdcd00\">visionary-sweep-17</strong> at: <a href='https://wandb.ai/dylan-home/pytorch-sweeps-demo/runs/suhf6co2' target=\"_blank\">https://wandb.ai/dylan-home/pytorch-sweeps-demo/runs/suhf6co2</a><br/>Synced 5 W&B file(s), 0 media file(s), 0 artifact file(s) and 0 other file(s)"
      ],
      "text/plain": [
       "<IPython.core.display.HTML object>"
      ]
     },
     "metadata": {},
     "output_type": "display_data"
    },
    {
     "data": {
      "text/html": [
       "Find logs at: <code>./wandb/run-20250105_153703-suhf6co2/logs</code>"
      ],
      "text/plain": [
       "<IPython.core.display.HTML object>"
      ]
     },
     "metadata": {},
     "output_type": "display_data"
    },
    {
     "name": "stderr",
     "output_type": "stream",
     "text": [
      "\u001b[34m\u001b[1mwandb\u001b[0m: Agent Starting Run: xeuaqi0x with config:\n",
      "\u001b[34m\u001b[1mwandb\u001b[0m: \thidden_channels: 128\n",
      "\u001b[34m\u001b[1mwandb\u001b[0m: \tlearning_rate: 3.649035854920123e-06\n",
      "Failed to detect the name of this notebook, you can set it manually with the WANDB_NOTEBOOK_NAME environment variable to enable code saving.\n",
      "/usr/lib/python3/dist-packages/requests/__init__.py:87: RequestsDependencyWarning: urllib3 (2.2.3) or chardet (4.0.0) doesn't match a supported version!\n",
      "  warnings.warn(\"urllib3 ({}) or chardet ({}) doesn't match a supported \"\n"
     ]
    },
    {
     "data": {
      "text/html": [
       "wandb version 0.19.1 is available!  To upgrade, please run:\n",
       " $ pip install wandb --upgrade"
      ],
      "text/plain": [
       "<IPython.core.display.HTML object>"
      ]
     },
     "metadata": {},
     "output_type": "display_data"
    },
    {
     "data": {
      "text/html": [
       "Tracking run with wandb version 0.16.4"
      ],
      "text/plain": [
       "<IPython.core.display.HTML object>"
      ]
     },
     "metadata": {},
     "output_type": "display_data"
    },
    {
     "data": {
      "text/html": [
       "Run data is saved locally in <code>/mnt/alphafold-volume-1/dylan2/repos/tb-pnca-gnn/dd_pnca/wandb/run-20250105_154231-xeuaqi0x</code>"
      ],
      "text/plain": [
       "<IPython.core.display.HTML object>"
      ]
     },
     "metadata": {},
     "output_type": "display_data"
    },
    {
     "data": {
      "text/html": [
       "Syncing run <strong><a href='https://wandb.ai/dylan-home/pytorch-sweeps-demo/runs/xeuaqi0x' target=\"_blank\">eager-sweep-18</a></strong> to <a href='https://wandb.ai/dylan-home/pytorch-sweeps-demo' target=\"_blank\">Weights & Biases</a> (<a href='https://wandb.me/run' target=\"_blank\">docs</a>)<br/>Sweep page: <a href='https://wandb.ai/dylan-home/pytorch-sweeps-demo/sweeps/93peolwf' target=\"_blank\">https://wandb.ai/dylan-home/pytorch-sweeps-demo/sweeps/93peolwf</a>"
      ],
      "text/plain": [
       "<IPython.core.display.HTML object>"
      ]
     },
     "metadata": {},
     "output_type": "display_data"
    },
    {
     "data": {
      "text/html": [
       " View project at <a href='https://wandb.ai/dylan-home/pytorch-sweeps-demo' target=\"_blank\">https://wandb.ai/dylan-home/pytorch-sweeps-demo</a>"
      ],
      "text/plain": [
       "<IPython.core.display.HTML object>"
      ]
     },
     "metadata": {},
     "output_type": "display_data"
    },
    {
     "data": {
      "text/html": [
       " View sweep at <a href='https://wandb.ai/dylan-home/pytorch-sweeps-demo/sweeps/93peolwf' target=\"_blank\">https://wandb.ai/dylan-home/pytorch-sweeps-demo/sweeps/93peolwf</a>"
      ],
      "text/plain": [
       "<IPython.core.display.HTML object>"
      ]
     },
     "metadata": {},
     "output_type": "display_data"
    },
    {
     "data": {
      "text/html": [
       " View run at <a href='https://wandb.ai/dylan-home/pytorch-sweeps-demo/runs/xeuaqi0x' target=\"_blank\">https://wandb.ai/dylan-home/pytorch-sweeps-demo/runs/xeuaqi0x</a>"
      ],
      "text/plain": [
       "<IPython.core.display.HTML object>"
      ]
     },
     "metadata": {},
     "output_type": "display_data"
    },
    {
     "name": "stdout",
     "output_type": "stream",
     "text": [
      "Using CUDA\n",
      "Early stopping enabled. Patience: 20. Min Delta: 0.\n",
      "Epoch: 010, Train Acc: 0.5264, Test Acc: 0.5110, Train Loss: 0.7077, Test Loss: 0.7161\n",
      "Epoch: 020, Train Acc: 0.5264, Test Acc: 0.5110, Train Loss: 0.7004, Test Loss: 0.7073\n",
      "Epoch: 030, Train Acc: 0.5264, Test Acc: 0.5110, Train Loss: 0.6958, Test Loss: 0.7005\n",
      "Epoch: 040, Train Acc: 0.5264, Test Acc: 0.5110, Train Loss: 0.6953, Test Loss: 0.6999\n",
      "Epoch: 050, Train Acc: 0.5259, Test Acc: 0.5093, Train Loss: 0.6941, Test Loss: 0.6980\n",
      "20 epochs passed without 0 test loss improvement. \n",
      "Early stopping triggered.\n"
     ]
    },
    {
     "data": {
      "text/html": [
       "<style>\n",
       "    table.wandb td:nth-child(1) { padding: 0 10px; text-align: left ; width: auto;} td:nth-child(2) {text-align: left ; width: 100%}\n",
       "    .wandb-row { display: flex; flex-direction: row; flex-wrap: wrap; justify-content: flex-start; width: 100% }\n",
       "    .wandb-col { display: flex; flex-direction: column; flex-basis: 100%; flex: 1; padding: 10px; }\n",
       "    </style>\n",
       "<div class=\"wandb-row\"><div class=\"wandb-col\"><h3>Run history:</h3><br/><table class=\"wandb\"><tr><td>Test Accuracy</td><td>██████████████████████▇███▁▆▅▃▇▆▃▅▆▆▅▅▅▅</td></tr><tr><td>Test F1</td><td>██████████████████████▇███▁▆▆▃▇▆▃▆▆▆▆▅▆▅</td></tr><tr><td>Test Loss</td><td>█▅▃▁▁▁▁▁▁▁▁▁▁▁▁▁▁▁▁▁▁▁▁▁▁▁▁▁▁▁▁▁▁▁▁▁▁▁▁▁</td></tr><tr><td>Test Sensitivity</td><td>██████████████████████▇███▁▆▆▃▇▆▃▆▆▆▆▅▆▅</td></tr><tr><td>Test Specificity</td><td>▁▁▁▁▁▁▁▁▁▁▁▁▁▁▁▁▁▁▁▁▁▁▁▁▁▁▁▁▁▁▁▁▁▁▁▁▁▁▁▁</td></tr><tr><td>Train Accuracy</td><td>█████████████████████▇▇█▇█▁▆▆▄▇▆▄▆▆▆▆▅▅▅</td></tr><tr><td>Train F1</td><td>█████████████████████▇▇█▇█▁▆▆▄▇▆▄▆▆▆▆▅▅▅</td></tr><tr><td>Train Loss</td><td>█▅▃▁▁▁▁▁▁▁▁▁▁▁▁▁▁▁▁▁▁▁▁▁▁▁▁▁▁▁▁▁▁▁▁▁▁▁▁▁</td></tr><tr><td>Train Sensitivity</td><td>█████████████████████▇▇█▇█▁▆▆▄▇▆▄▆▆▆▆▅▅▅</td></tr><tr><td>Train Specificity</td><td>▁▁▁▁▁▁▁▁▁▁▁▁▁▁▁▁▁▁▁▁▁▁▁▁▁▁█▁▁█▁▁█▁▁▁▁▁▁▁</td></tr></table><br/></div><div class=\"wandb-col\"><h3>Run summary:</h3><br/><table class=\"wandb\"><tr><td>Test Accuracy</td><td>0.509</td></tr><tr><td>Test F1</td><td>0.67462</td></tr><tr><td>Test Loss</td><td>0.6979</td></tr><tr><td>Test Sensitivity</td><td>0.99609</td></tr><tr><td>Test Specificity</td><td>0.0</td></tr><tr><td>Train Accuracy</td><td>0.52571</td></tr><tr><td>Train F1</td><td>0.68914</td></tr><tr><td>Train Loss</td><td>0.69384</td></tr><tr><td>Train Sensitivity</td><td>0.99864</td></tr><tr><td>Train Specificity</td><td>0.0</td></tr></table><br/></div></div>"
      ],
      "text/plain": [
       "<IPython.core.display.HTML object>"
      ]
     },
     "metadata": {},
     "output_type": "display_data"
    },
    {
     "data": {
      "text/html": [
       " View run <strong style=\"color:#cdcd00\">eager-sweep-18</strong> at: <a href='https://wandb.ai/dylan-home/pytorch-sweeps-demo/runs/xeuaqi0x' target=\"_blank\">https://wandb.ai/dylan-home/pytorch-sweeps-demo/runs/xeuaqi0x</a><br/>Synced 5 W&B file(s), 0 media file(s), 0 artifact file(s) and 0 other file(s)"
      ],
      "text/plain": [
       "<IPython.core.display.HTML object>"
      ]
     },
     "metadata": {},
     "output_type": "display_data"
    },
    {
     "data": {
      "text/html": [
       "Find logs at: <code>./wandb/run-20250105_154231-xeuaqi0x/logs</code>"
      ],
      "text/plain": [
       "<IPython.core.display.HTML object>"
      ]
     },
     "metadata": {},
     "output_type": "display_data"
    },
    {
     "name": "stderr",
     "output_type": "stream",
     "text": [
      "\u001b[34m\u001b[1mwandb\u001b[0m: Agent Starting Run: 42ysozb7 with config:\n",
      "\u001b[34m\u001b[1mwandb\u001b[0m: \thidden_channels: 32\n",
      "\u001b[34m\u001b[1mwandb\u001b[0m: \tlearning_rate: 4.7803489067704394e-05\n",
      "Failed to detect the name of this notebook, you can set it manually with the WANDB_NOTEBOOK_NAME environment variable to enable code saving.\n",
      "/usr/lib/python3/dist-packages/requests/__init__.py:87: RequestsDependencyWarning: urllib3 (2.2.3) or chardet (4.0.0) doesn't match a supported version!\n",
      "  warnings.warn(\"urllib3 ({}) or chardet ({}) doesn't match a supported \"\n"
     ]
    },
    {
     "data": {
      "text/html": [
       "wandb version 0.19.1 is available!  To upgrade, please run:\n",
       " $ pip install wandb --upgrade"
      ],
      "text/plain": [
       "<IPython.core.display.HTML object>"
      ]
     },
     "metadata": {},
     "output_type": "display_data"
    },
    {
     "data": {
      "text/html": [
       "Tracking run with wandb version 0.16.4"
      ],
      "text/plain": [
       "<IPython.core.display.HTML object>"
      ]
     },
     "metadata": {},
     "output_type": "display_data"
    },
    {
     "data": {
      "text/html": [
       "Run data is saved locally in <code>/mnt/alphafold-volume-1/dylan2/repos/tb-pnca-gnn/dd_pnca/wandb/run-20250105_154429-42ysozb7</code>"
      ],
      "text/plain": [
       "<IPython.core.display.HTML object>"
      ]
     },
     "metadata": {},
     "output_type": "display_data"
    },
    {
     "data": {
      "text/html": [
       "Syncing run <strong><a href='https://wandb.ai/dylan-home/pytorch-sweeps-demo/runs/42ysozb7' target=\"_blank\">dazzling-sweep-19</a></strong> to <a href='https://wandb.ai/dylan-home/pytorch-sweeps-demo' target=\"_blank\">Weights & Biases</a> (<a href='https://wandb.me/run' target=\"_blank\">docs</a>)<br/>Sweep page: <a href='https://wandb.ai/dylan-home/pytorch-sweeps-demo/sweeps/93peolwf' target=\"_blank\">https://wandb.ai/dylan-home/pytorch-sweeps-demo/sweeps/93peolwf</a>"
      ],
      "text/plain": [
       "<IPython.core.display.HTML object>"
      ]
     },
     "metadata": {},
     "output_type": "display_data"
    },
    {
     "data": {
      "text/html": [
       " View project at <a href='https://wandb.ai/dylan-home/pytorch-sweeps-demo' target=\"_blank\">https://wandb.ai/dylan-home/pytorch-sweeps-demo</a>"
      ],
      "text/plain": [
       "<IPython.core.display.HTML object>"
      ]
     },
     "metadata": {},
     "output_type": "display_data"
    },
    {
     "data": {
      "text/html": [
       " View sweep at <a href='https://wandb.ai/dylan-home/pytorch-sweeps-demo/sweeps/93peolwf' target=\"_blank\">https://wandb.ai/dylan-home/pytorch-sweeps-demo/sweeps/93peolwf</a>"
      ],
      "text/plain": [
       "<IPython.core.display.HTML object>"
      ]
     },
     "metadata": {},
     "output_type": "display_data"
    },
    {
     "data": {
      "text/html": [
       " View run at <a href='https://wandb.ai/dylan-home/pytorch-sweeps-demo/runs/42ysozb7' target=\"_blank\">https://wandb.ai/dylan-home/pytorch-sweeps-demo/runs/42ysozb7</a>"
      ],
      "text/plain": [
       "<IPython.core.display.HTML object>"
      ]
     },
     "metadata": {},
     "output_type": "display_data"
    },
    {
     "name": "stdout",
     "output_type": "stream",
     "text": [
      "Using CUDA\n",
      "Early stopping enabled. Patience: 20. Min Delta: 0.\n",
      "Epoch: 010, Train Acc: 0.5263, Test Acc: 0.5107, Train Loss: 0.6933, Test Loss: 0.6970\n",
      "Epoch: 020, Train Acc: 0.5259, Test Acc: 0.5090, Train Loss: 0.6928, Test Loss: 0.6951\n",
      "Epoch: 030, Train Acc: 0.5263, Test Acc: 0.5097, Train Loss: 0.6929, Test Loss: 0.6951\n",
      "Epoch: 040, Train Acc: 0.5261, Test Acc: 0.5083, Train Loss: 0.6924, Test Loss: 0.6941\n",
      "Epoch: 050, Train Acc: 0.5263, Test Acc: 0.5110, Train Loss: 0.6921, Test Loss: 0.6942\n",
      "Epoch: 060, Train Acc: 0.5263, Test Acc: 0.5083, Train Loss: 0.6916, Test Loss: 0.6931\n",
      "Epoch: 070, Train Acc: 0.5263, Test Acc: 0.5067, Train Loss: 0.6915, Test Loss: 0.6925\n",
      "Epoch: 080, Train Acc: 0.5263, Test Acc: 0.5097, Train Loss: 0.6912, Test Loss: 0.6922\n",
      "Epoch: 090, Train Acc: 0.5264, Test Acc: 0.5110, Train Loss: 0.6911, Test Loss: 0.6926\n",
      "Epoch: 100, Train Acc: 0.5264, Test Acc: 0.5110, Train Loss: 0.6902, Test Loss: 0.6918\n",
      "Epoch: 110, Train Acc: 0.5129, Test Acc: 0.4907, Train Loss: 0.6899, Test Loss: 0.6897\n",
      "Epoch: 120, Train Acc: 0.5264, Test Acc: 0.5110, Train Loss: 0.6890, Test Loss: 0.6906\n",
      "Epoch: 130, Train Acc: 0.5263, Test Acc: 0.5110, Train Loss: 0.6883, Test Loss: 0.6892\n",
      "Epoch: 140, Train Acc: 0.5254, Test Acc: 0.5107, Train Loss: 0.6879, Test Loss: 0.6877\n",
      "Epoch: 150, Train Acc: 0.5103, Test Acc: 0.5023, Train Loss: 0.6873, Test Loss: 0.6863\n",
      "Epoch: 160, Train Acc: 0.5263, Test Acc: 0.5110, Train Loss: 0.6870, Test Loss: 0.6877\n",
      "Epoch: 170, Train Acc: 0.4853, Test Acc: 0.4543, Train Loss: 0.6864, Test Loss: 0.6844\n",
      "Epoch: 180, Train Acc: 0.5227, Test Acc: 0.5100, Train Loss: 0.6851, Test Loss: 0.6842\n",
      "Epoch: 190, Train Acc: 0.5240, Test Acc: 0.5107, Train Loss: 0.6839, Test Loss: 0.6837\n",
      "Epoch: 200, Train Acc: 0.5041, Test Acc: 0.4950, Train Loss: 0.6834, Test Loss: 0.6813\n",
      "Epoch: 210, Train Acc: 0.5126, Test Acc: 0.5013, Train Loss: 0.6826, Test Loss: 0.6807\n",
      "Epoch: 220, Train Acc: 0.5050, Test Acc: 0.4943, Train Loss: 0.6814, Test Loss: 0.6792\n",
      "Epoch: 230, Train Acc: 0.4856, Test Acc: 0.4603, Train Loss: 0.6813, Test Loss: 0.6778\n",
      "Epoch: 240, Train Acc: 0.5207, Test Acc: 0.5077, Train Loss: 0.6807, Test Loss: 0.6796\n",
      "Epoch: 250, Train Acc: 0.5033, Test Acc: 0.4903, Train Loss: 0.6789, Test Loss: 0.6760\n",
      "Epoch: 260, Train Acc: 0.5114, Test Acc: 0.4993, Train Loss: 0.6781, Test Loss: 0.6760\n",
      "Epoch: 270, Train Acc: 0.4964, Test Acc: 0.4780, Train Loss: 0.6758, Test Loss: 0.6730\n",
      "Epoch: 280, Train Acc: 0.4900, Test Acc: 0.4783, Train Loss: 0.6748, Test Loss: 0.6713\n",
      "Epoch: 290, Train Acc: 0.5064, Test Acc: 0.4920, Train Loss: 0.6737, Test Loss: 0.6715\n",
      "Epoch: 300, Train Acc: 0.4944, Test Acc: 0.4800, Train Loss: 0.6723, Test Loss: 0.6685\n",
      "Epoch: 310, Train Acc: 0.6727, Test Acc: 0.6700, Train Loss: 0.6723, Test Loss: 0.6657\n",
      "Epoch: 320, Train Acc: 0.6926, Test Acc: 0.6587, Train Loss: 0.6689, Test Loss: 0.6635\n",
      "Epoch: 330, Train Acc: 0.5149, Test Acc: 0.5023, Train Loss: 0.6715, Test Loss: 0.6704\n",
      "Epoch: 340, Train Acc: 0.7056, Test Acc: 0.6690, Train Loss: 0.6649, Test Loss: 0.6588\n",
      "Epoch: 350, Train Acc: 0.7057, Test Acc: 0.6717, Train Loss: 0.6619, Test Loss: 0.6561\n",
      "Epoch: 360, Train Acc: 0.7101, Test Acc: 0.6810, Train Loss: 0.6600, Test Loss: 0.6537\n",
      "Epoch: 370, Train Acc: 0.6860, Test Acc: 0.6733, Train Loss: 0.6597, Test Loss: 0.6515\n",
      "Epoch: 380, Train Acc: 0.4991, Test Acc: 0.4787, Train Loss: 0.6575, Test Loss: 0.6549\n",
      "Epoch: 390, Train Acc: 0.4930, Test Acc: 0.4790, Train Loss: 0.6534, Test Loss: 0.6506\n",
      "Epoch: 400, Train Acc: 0.4979, Test Acc: 0.4747, Train Loss: 0.6517, Test Loss: 0.6495\n"
     ]
    },
    {
     "data": {
      "text/html": [
       "<style>\n",
       "    table.wandb td:nth-child(1) { padding: 0 10px; text-align: left ; width: auto;} td:nth-child(2) {text-align: left ; width: 100%}\n",
       "    .wandb-row { display: flex; flex-direction: row; flex-wrap: wrap; justify-content: flex-start; width: 100% }\n",
       "    .wandb-col { display: flex; flex-direction: column; flex-basis: 100%; flex: 1; padding: 10px; }\n",
       "    </style>\n",
       "<div class=\"wandb-row\"><div class=\"wandb-col\"><h3>Run history:</h3><br/><table class=\"wandb\"><tr><td>Test Accuracy</td><td>▂▂▂▂▂▂▂▂▂▂▂▂▂▂▂▂▂▂▂▁█▂▂▂▁▁██▁▂▁██▁▁██▇▁▁</td></tr><tr><td>Test F1</td><td>██████▇▇███████████▅▆█▇█▆▄▇▅▆█▃▇▇▆▆▅▆▁▅▅</td></tr><tr><td>Test Loss</td><td>█▅▄▄▄▄▄▄▄▄▄▄▄▄▄▄▄▄▄▃▃▃▃▃▃▃▃▃▃▃▂▂▂▂▂▁▁▁▁▁</td></tr><tr><td>Test Sensitivity</td><td>███████████████████▇▃█▇█▇▆▃▂▇█▅▃▃▇▇▂▃▁▆▆</td></tr><tr><td>Test Specificity</td><td>▁▁▁▁▁▁▁▁▁▁▁▁▁▁▁▁▁▁▁▁▇▁▁▁▁▂▇▇▁▁▂▇▇▁▁▇▇█▂▂</td></tr><tr><td>Train Accuracy</td><td>▂▂▂▂▂▂▂▂▂▂▂▂▂▂▂▂▂▂▂▁▇▂▂▂▂▁█▇▂▂▁██▂▂██▆▁▁</td></tr><tr><td>Train F1</td><td>███████████████████▆▆█▇█▇▅▇▅▇█▅▇▇▇▇▆▇▁▆▆</td></tr><tr><td>Train Loss</td><td>█▅▅▅▅▄▄▄▄▄▄▄▄▄▄▄▄▄▄▄▄▄▄▄▃▃▃▃▃▃▃▃▂▂▂▂▂▂▁▁</td></tr><tr><td>Train Sensitivity</td><td>███████████████████▇▃█▇█▇▆▃▂▇█▆▃▃▇▇▃▃▁▆▇</td></tr><tr><td>Train Specificity</td><td>▁▁▁▁▁▁▁▁▁▁▁▁▁▁▁▁▁▁▁▁▇▁▁▁▁▂▇█▁▁▂▇▇▁▁█▇█▂▂</td></tr></table><br/></div><div class=\"wandb-col\"><h3>Run summary:</h3><br/><table class=\"wandb\"><tr><td>Test Accuracy</td><td>0.47467</td></tr><tr><td>Test F1</td><td>0.62206</td></tr><tr><td>Test Loss</td><td>0.64954</td></tr><tr><td>Test Sensitivity</td><td>0.84605</td></tr><tr><td>Test Specificity</td><td>0.08657</td></tr><tr><td>Train Accuracy</td><td>0.49786</td></tr><tr><td>Train F1</td><td>0.64641</td></tr><tr><td>Train Loss</td><td>0.65166</td></tr><tr><td>Train Sensitivity</td><td>0.87191</td></tr><tr><td>Train Specificity</td><td>0.08205</td></tr></table><br/></div></div>"
      ],
      "text/plain": [
       "<IPython.core.display.HTML object>"
      ]
     },
     "metadata": {},
     "output_type": "display_data"
    },
    {
     "data": {
      "text/html": [
       " View run <strong style=\"color:#cdcd00\">dazzling-sweep-19</strong> at: <a href='https://wandb.ai/dylan-home/pytorch-sweeps-demo/runs/42ysozb7' target=\"_blank\">https://wandb.ai/dylan-home/pytorch-sweeps-demo/runs/42ysozb7</a><br/>Synced 5 W&B file(s), 0 media file(s), 0 artifact file(s) and 0 other file(s)"
      ],
      "text/plain": [
       "<IPython.core.display.HTML object>"
      ]
     },
     "metadata": {},
     "output_type": "display_data"
    },
    {
     "data": {
      "text/html": [
       "Find logs at: <code>./wandb/run-20250105_154429-42ysozb7/logs</code>"
      ],
      "text/plain": [
       "<IPython.core.display.HTML object>"
      ]
     },
     "metadata": {},
     "output_type": "display_data"
    },
    {
     "name": "stderr",
     "output_type": "stream",
     "text": [
      "\u001b[34m\u001b[1mwandb\u001b[0m: Agent Starting Run: 5x8x35hl with config:\n",
      "\u001b[34m\u001b[1mwandb\u001b[0m: \thidden_channels: 128\n",
      "\u001b[34m\u001b[1mwandb\u001b[0m: \tlearning_rate: 0.005338041697240963\n",
      "Failed to detect the name of this notebook, you can set it manually with the WANDB_NOTEBOOK_NAME environment variable to enable code saving.\n",
      "/usr/lib/python3/dist-packages/requests/__init__.py:87: RequestsDependencyWarning: urllib3 (2.2.3) or chardet (4.0.0) doesn't match a supported version!\n",
      "  warnings.warn(\"urllib3 ({}) or chardet ({}) doesn't match a supported \"\n"
     ]
    },
    {
     "data": {
      "text/html": [
       "wandb version 0.19.1 is available!  To upgrade, please run:\n",
       " $ pip install wandb --upgrade"
      ],
      "text/plain": [
       "<IPython.core.display.HTML object>"
      ]
     },
     "metadata": {},
     "output_type": "display_data"
    },
    {
     "data": {
      "text/html": [
       "Tracking run with wandb version 0.16.4"
      ],
      "text/plain": [
       "<IPython.core.display.HTML object>"
      ]
     },
     "metadata": {},
     "output_type": "display_data"
    },
    {
     "data": {
      "text/html": [
       "Run data is saved locally in <code>/mnt/alphafold-volume-1/dylan2/repos/tb-pnca-gnn/dd_pnca/wandb/run-20250105_155515-5x8x35hl</code>"
      ],
      "text/plain": [
       "<IPython.core.display.HTML object>"
      ]
     },
     "metadata": {},
     "output_type": "display_data"
    },
    {
     "data": {
      "text/html": [
       "Syncing run <strong><a href='https://wandb.ai/dylan-home/pytorch-sweeps-demo/runs/5x8x35hl' target=\"_blank\">resilient-sweep-20</a></strong> to <a href='https://wandb.ai/dylan-home/pytorch-sweeps-demo' target=\"_blank\">Weights & Biases</a> (<a href='https://wandb.me/run' target=\"_blank\">docs</a>)<br/>Sweep page: <a href='https://wandb.ai/dylan-home/pytorch-sweeps-demo/sweeps/93peolwf' target=\"_blank\">https://wandb.ai/dylan-home/pytorch-sweeps-demo/sweeps/93peolwf</a>"
      ],
      "text/plain": [
       "<IPython.core.display.HTML object>"
      ]
     },
     "metadata": {},
     "output_type": "display_data"
    },
    {
     "data": {
      "text/html": [
       " View project at <a href='https://wandb.ai/dylan-home/pytorch-sweeps-demo' target=\"_blank\">https://wandb.ai/dylan-home/pytorch-sweeps-demo</a>"
      ],
      "text/plain": [
       "<IPython.core.display.HTML object>"
      ]
     },
     "metadata": {},
     "output_type": "display_data"
    },
    {
     "data": {
      "text/html": [
       " View sweep at <a href='https://wandb.ai/dylan-home/pytorch-sweeps-demo/sweeps/93peolwf' target=\"_blank\">https://wandb.ai/dylan-home/pytorch-sweeps-demo/sweeps/93peolwf</a>"
      ],
      "text/plain": [
       "<IPython.core.display.HTML object>"
      ]
     },
     "metadata": {},
     "output_type": "display_data"
    },
    {
     "data": {
      "text/html": [
       " View run at <a href='https://wandb.ai/dylan-home/pytorch-sweeps-demo/runs/5x8x35hl' target=\"_blank\">https://wandb.ai/dylan-home/pytorch-sweeps-demo/runs/5x8x35hl</a>"
      ],
      "text/plain": [
       "<IPython.core.display.HTML object>"
      ]
     },
     "metadata": {},
     "output_type": "display_data"
    },
    {
     "name": "stdout",
     "output_type": "stream",
     "text": [
      "Using CUDA\n",
      "Early stopping enabled. Patience: 20. Min Delta: 0.\n",
      "Epoch: 010, Train Acc: 0.5264, Test Acc: 0.5110, Train Loss: 0.6918, Test Loss: 0.6933\n",
      "Epoch: 020, Train Acc: 0.5264, Test Acc: 0.5110, Train Loss: 0.6918, Test Loss: 0.6933\n",
      "Epoch: 030, Train Acc: 0.5264, Test Acc: 0.5110, Train Loss: 0.6920, Test Loss: 0.6931\n",
      "Epoch: 040, Train Acc: 0.5264, Test Acc: 0.5110, Train Loss: 0.6921, Test Loss: 0.6929\n",
      "Epoch: 050, Train Acc: 0.5264, Test Acc: 0.5110, Train Loss: 0.6919, Test Loss: 0.6931\n",
      "Epoch: 060, Train Acc: 0.5264, Test Acc: 0.5110, Train Loss: 0.6916, Test Loss: 0.6935\n",
      "20 epochs passed without 0 test loss improvement. \n",
      "Early stopping triggered.\n"
     ]
    },
    {
     "data": {
      "text/html": [
       "<style>\n",
       "    table.wandb td:nth-child(1) { padding: 0 10px; text-align: left ; width: auto;} td:nth-child(2) {text-align: left ; width: 100%}\n",
       "    .wandb-row { display: flex; flex-direction: row; flex-wrap: wrap; justify-content: flex-start; width: 100% }\n",
       "    .wandb-col { display: flex; flex-direction: column; flex-basis: 100%; flex: 1; padding: 10px; }\n",
       "    </style>\n",
       "<div class=\"wandb-row\"><div class=\"wandb-col\"><h3>Run history:</h3><br/><table class=\"wandb\"><tr><td>Test Accuracy</td><td>▁▁▁▁▁▁▁▁▁▁▁▁▁▁▁▁▁▁▁▁▁▁▁▁▁▁▁▁▁▁▁▁▁▁▁▁▁▁▁▁</td></tr><tr><td>Test F1</td><td>▁▁▁▁▁▁▁▁▁▁▁▁▁▁▁▁▁▁▁▁▁▁▁▁▁▁▁▁▁▁▁▁▁▁▁▁▁▁▁▁</td></tr><tr><td>Test Loss</td><td>▄▂▅▂▆▂▃▃▄▂▂▄▂▃▄█▆▃▅▂▆▅▁▂▃▃▁▃▁▅▄▃▃▂▅▁▂▃▃▄</td></tr><tr><td>Test Sensitivity</td><td>▁▁▁▁▁▁▁▁▁▁▁▁▁▁▁▁▁▁▁▁▁▁▁▁▁▁▁▁▁▁▁▁▁▁▁▁▁▁▁▁</td></tr><tr><td>Test Specificity</td><td>▁▁▁▁▁▁▁▁▁▁▁▁▁▁▁▁▁▁▁▁▁▁▁▁▁▁▁▁▁▁▁▁▁▁▁▁▁▁▁▁</td></tr><tr><td>Train Accuracy</td><td>▁▁▁▁▁▁▁▁▁▁▁▁▁▁▁▁▁▁▁▁▁▁▁▁▁▁▁▁▁▁▁▁▁▁▁▁▁▁▁▁</td></tr><tr><td>Train F1</td><td>▁▁▁▁▁▁▁▁▁▁▁▁▁▁▁▁▁▁▁▁▁▁▁▁▁▁▁▁▁▁▁▁▁▁▁▁▁▁▁▁</td></tr><tr><td>Train Loss</td><td>▄▅▆▄▄▃▅▅▅▄▄▃▅▅▆▆▇▄▆▅▁▆▇▄▆▅█▅▇▅▅▃▄▆▆▆▆▅▅▃</td></tr><tr><td>Train Sensitivity</td><td>▁▁▁▁▁▁▁▁▁▁▁▁▁▁▁▁▁▁▁▁▁▁▁▁▁▁▁▁▁▁▁▁▁▁▁▁▁▁▁▁</td></tr><tr><td>Train Specificity</td><td>▁▁▁▁▁▁▁▁▁▁▁▁▁▁▁▁▁▁▁▁▁▁▁▁▁▁▁▁▁▁▁▁▁▁▁▁▁▁▁▁</td></tr></table><br/></div><div class=\"wandb-col\"><h3>Run summary:</h3><br/><table class=\"wandb\"><tr><td>Test Accuracy</td><td>0.511</td></tr><tr><td>Test F1</td><td>0.67637</td></tr><tr><td>Test Loss</td><td>0.69346</td></tr><tr><td>Test Sensitivity</td><td>1.0</td></tr><tr><td>Test Specificity</td><td>0.0</td></tr><tr><td>Train Accuracy</td><td>0.52643</td></tr><tr><td>Train F1</td><td>0.68975</td></tr><tr><td>Train Loss</td><td>0.69156</td></tr><tr><td>Train Sensitivity</td><td>1.0</td></tr><tr><td>Train Specificity</td><td>0.0</td></tr></table><br/></div></div>"
      ],
      "text/plain": [
       "<IPython.core.display.HTML object>"
      ]
     },
     "metadata": {},
     "output_type": "display_data"
    },
    {
     "data": {
      "text/html": [
       " View run <strong style=\"color:#cdcd00\">resilient-sweep-20</strong> at: <a href='https://wandb.ai/dylan-home/pytorch-sweeps-demo/runs/5x8x35hl' target=\"_blank\">https://wandb.ai/dylan-home/pytorch-sweeps-demo/runs/5x8x35hl</a><br/>Synced 5 W&B file(s), 0 media file(s), 0 artifact file(s) and 0 other file(s)"
      ],
      "text/plain": [
       "<IPython.core.display.HTML object>"
      ]
     },
     "metadata": {},
     "output_type": "display_data"
    },
    {
     "data": {
      "text/html": [
       "Find logs at: <code>./wandb/run-20250105_155515-5x8x35hl/logs</code>"
      ],
      "text/plain": [
       "<IPython.core.display.HTML object>"
      ]
     },
     "metadata": {},
     "output_type": "display_data"
    },
    {
     "name": "stderr",
     "output_type": "stream",
     "text": [
      "\u001b[34m\u001b[1mwandb\u001b[0m: Agent Starting Run: al6tqomb with config:\n",
      "\u001b[34m\u001b[1mwandb\u001b[0m: \thidden_channels: 128\n",
      "\u001b[34m\u001b[1mwandb\u001b[0m: \tlearning_rate: 1.0654589922121245e-06\n",
      "Failed to detect the name of this notebook, you can set it manually with the WANDB_NOTEBOOK_NAME environment variable to enable code saving.\n",
      "/usr/lib/python3/dist-packages/requests/__init__.py:87: RequestsDependencyWarning: urllib3 (2.2.3) or chardet (4.0.0) doesn't match a supported version!\n",
      "  warnings.warn(\"urllib3 ({}) or chardet ({}) doesn't match a supported \"\n"
     ]
    },
    {
     "data": {
      "text/html": [
       "wandb version 0.19.1 is available!  To upgrade, please run:\n",
       " $ pip install wandb --upgrade"
      ],
      "text/plain": [
       "<IPython.core.display.HTML object>"
      ]
     },
     "metadata": {},
     "output_type": "display_data"
    },
    {
     "data": {
      "text/html": [
       "Tracking run with wandb version 0.16.4"
      ],
      "text/plain": [
       "<IPython.core.display.HTML object>"
      ]
     },
     "metadata": {},
     "output_type": "display_data"
    },
    {
     "data": {
      "text/html": [
       "Run data is saved locally in <code>/mnt/alphafold-volume-1/dylan2/repos/tb-pnca-gnn/dd_pnca/wandb/run-20250105_155708-al6tqomb</code>"
      ],
      "text/plain": [
       "<IPython.core.display.HTML object>"
      ]
     },
     "metadata": {},
     "output_type": "display_data"
    },
    {
     "data": {
      "text/html": [
       "Syncing run <strong><a href='https://wandb.ai/dylan-home/pytorch-sweeps-demo/runs/al6tqomb' target=\"_blank\">tough-sweep-21</a></strong> to <a href='https://wandb.ai/dylan-home/pytorch-sweeps-demo' target=\"_blank\">Weights & Biases</a> (<a href='https://wandb.me/run' target=\"_blank\">docs</a>)<br/>Sweep page: <a href='https://wandb.ai/dylan-home/pytorch-sweeps-demo/sweeps/93peolwf' target=\"_blank\">https://wandb.ai/dylan-home/pytorch-sweeps-demo/sweeps/93peolwf</a>"
      ],
      "text/plain": [
       "<IPython.core.display.HTML object>"
      ]
     },
     "metadata": {},
     "output_type": "display_data"
    },
    {
     "data": {
      "text/html": [
       " View project at <a href='https://wandb.ai/dylan-home/pytorch-sweeps-demo' target=\"_blank\">https://wandb.ai/dylan-home/pytorch-sweeps-demo</a>"
      ],
      "text/plain": [
       "<IPython.core.display.HTML object>"
      ]
     },
     "metadata": {},
     "output_type": "display_data"
    },
    {
     "data": {
      "text/html": [
       " View sweep at <a href='https://wandb.ai/dylan-home/pytorch-sweeps-demo/sweeps/93peolwf' target=\"_blank\">https://wandb.ai/dylan-home/pytorch-sweeps-demo/sweeps/93peolwf</a>"
      ],
      "text/plain": [
       "<IPython.core.display.HTML object>"
      ]
     },
     "metadata": {},
     "output_type": "display_data"
    },
    {
     "data": {
      "text/html": [
       " View run at <a href='https://wandb.ai/dylan-home/pytorch-sweeps-demo/runs/al6tqomb' target=\"_blank\">https://wandb.ai/dylan-home/pytorch-sweeps-demo/runs/al6tqomb</a>"
      ],
      "text/plain": [
       "<IPython.core.display.HTML object>"
      ]
     },
     "metadata": {},
     "output_type": "display_data"
    },
    {
     "name": "stdout",
     "output_type": "stream",
     "text": [
      "Using CUDA\n",
      "Early stopping enabled. Patience: 20. Min Delta: 0.\n",
      "Epoch: 010, Train Acc: 0.5264, Test Acc: 0.5110, Train Loss: 1.0109, Test Loss: 1.0374\n",
      "Epoch: 020, Train Acc: 0.5264, Test Acc: 0.5110, Train Loss: 0.7386, Test Loss: 0.7505\n",
      "Epoch: 030, Train Acc: 0.5264, Test Acc: 0.5110, Train Loss: 0.7135, Test Loss: 0.7215\n",
      "Epoch: 040, Train Acc: 0.5264, Test Acc: 0.5110, Train Loss: 0.7049, Test Loss: 0.7122\n",
      "Epoch: 050, Train Acc: 0.5264, Test Acc: 0.5110, Train Loss: 0.7024, Test Loss: 0.7091\n",
      "Epoch: 060, Train Acc: 0.5264, Test Acc: 0.5110, Train Loss: 0.6989, Test Loss: 0.7061\n",
      "Epoch: 070, Train Acc: 0.5264, Test Acc: 0.5110, Train Loss: 0.6983, Test Loss: 0.7050\n",
      "Epoch: 080, Train Acc: 0.5264, Test Acc: 0.5110, Train Loss: 0.6962, Test Loss: 0.7017\n",
      "Epoch: 090, Train Acc: 0.5264, Test Acc: 0.5110, Train Loss: 0.6959, Test Loss: 0.7018\n",
      "Epoch: 100, Train Acc: 0.5264, Test Acc: 0.5110, Train Loss: 0.6959, Test Loss: 0.7008\n",
      "Epoch: 110, Train Acc: 0.5264, Test Acc: 0.5107, Train Loss: 0.6949, Test Loss: 0.6997\n",
      "Epoch: 120, Train Acc: 0.5264, Test Acc: 0.5107, Train Loss: 0.6945, Test Loss: 0.6993\n",
      "20 epochs passed without 0 test loss improvement. \n",
      "Early stopping triggered.\n"
     ]
    },
    {
     "data": {
      "text/html": [
       "<style>\n",
       "    table.wandb td:nth-child(1) { padding: 0 10px; text-align: left ; width: auto;} td:nth-child(2) {text-align: left ; width: 100%}\n",
       "    .wandb-row { display: flex; flex-direction: row; flex-wrap: wrap; justify-content: flex-start; width: 100% }\n",
       "    .wandb-col { display: flex; flex-direction: column; flex-basis: 100%; flex: 1; padding: 10px; }\n",
       "    </style>\n",
       "<div class=\"wandb-row\"><div class=\"wandb-col\"><h3>Run history:</h3><br/><table class=\"wandb\"><tr><td>Test Accuracy</td><td>████████████████████████████████▇▁▇▇▄▇▇▇</td></tr><tr><td>Test F1</td><td>████████████████████████████████▇▁▇▇▄▇▇▇</td></tr><tr><td>Test Loss</td><td>█▆▄▃▂▁▁▁▁▁▁▁▁▁▁▁▁▁▁▁▁▁▁▁▁▁▁▁▁▁▁▁▁▁▁▁▁▁▁▁</td></tr><tr><td>Test Sensitivity</td><td>████████████████████████████████▇▁▇▇▄▇▇▇</td></tr><tr><td>Test Specificity</td><td>▁▁▁▁▁▁▁▁▁▁▁▁▁▁▁▁▁▁▁▁▁▁▁▁▁▁▁▁▁▁▁▁▁▁▁▁▁▁▁▁</td></tr><tr><td>Train Accuracy</td><td>█████████████████████████████████▁██▇███</td></tr><tr><td>Train F1</td><td>█████████████████████████████████▁██▇███</td></tr><tr><td>Train Loss</td><td>█▆▄▃▂▁▁▁▁▁▁▁▁▁▁▁▁▁▁▁▁▁▁▁▁▁▁▁▁▁▁▁▁▁▁▁▁▁▁▁</td></tr><tr><td>Train Sensitivity</td><td>█████████████████████████████████▁██▇███</td></tr><tr><td>Train Specificity</td><td>▁▁▁▁▁▁▁▁▁▁▁▁▁▁▁▁▁▁▁▁▁▁▁▁▁▁▁▁▁▁▁▁▁▁▁▁▁▁▁▁</td></tr></table><br/></div><div class=\"wandb-col\"><h3>Run summary:</h3><br/><table class=\"wandb\"><tr><td>Test Accuracy</td><td>0.51067</td></tr><tr><td>Test F1</td><td>0.67608</td></tr><tr><td>Test Loss</td><td>0.69932</td></tr><tr><td>Test Sensitivity</td><td>0.99935</td></tr><tr><td>Test Specificity</td><td>0.0</td></tr><tr><td>Train Accuracy</td><td>0.52643</td></tr><tr><td>Train F1</td><td>0.68975</td></tr><tr><td>Train Loss</td><td>0.69462</td></tr><tr><td>Train Sensitivity</td><td>1.0</td></tr><tr><td>Train Specificity</td><td>0.0</td></tr></table><br/></div></div>"
      ],
      "text/plain": [
       "<IPython.core.display.HTML object>"
      ]
     },
     "metadata": {},
     "output_type": "display_data"
    },
    {
     "data": {
      "text/html": [
       " View run <strong style=\"color:#cdcd00\">tough-sweep-21</strong> at: <a href='https://wandb.ai/dylan-home/pytorch-sweeps-demo/runs/al6tqomb' target=\"_blank\">https://wandb.ai/dylan-home/pytorch-sweeps-demo/runs/al6tqomb</a><br/>Synced 5 W&B file(s), 0 media file(s), 0 artifact file(s) and 0 other file(s)"
      ],
      "text/plain": [
       "<IPython.core.display.HTML object>"
      ]
     },
     "metadata": {},
     "output_type": "display_data"
    },
    {
     "data": {
      "text/html": [
       "Find logs at: <code>./wandb/run-20250105_155708-al6tqomb/logs</code>"
      ],
      "text/plain": [
       "<IPython.core.display.HTML object>"
      ]
     },
     "metadata": {},
     "output_type": "display_data"
    },
    {
     "name": "stderr",
     "output_type": "stream",
     "text": [
      "\u001b[34m\u001b[1mwandb\u001b[0m: Sweep Agent: Waiting for job.\n",
      "\u001b[34m\u001b[1mwandb\u001b[0m: Job received.\n",
      "\u001b[34m\u001b[1mwandb\u001b[0m: Agent Starting Run: n06r4m39 with config:\n",
      "\u001b[34m\u001b[1mwandb\u001b[0m: \thidden_channels: 32\n",
      "\u001b[34m\u001b[1mwandb\u001b[0m: \tlearning_rate: 0.03298223460809329\n",
      "Failed to detect the name of this notebook, you can set it manually with the WANDB_NOTEBOOK_NAME environment variable to enable code saving.\n",
      "/usr/lib/python3/dist-packages/requests/__init__.py:87: RequestsDependencyWarning: urllib3 (2.2.3) or chardet (4.0.0) doesn't match a supported version!\n",
      "  warnings.warn(\"urllib3 ({}) or chardet ({}) doesn't match a supported \"\n"
     ]
    },
    {
     "data": {
      "text/html": [
       "wandb version 0.19.1 is available!  To upgrade, please run:\n",
       " $ pip install wandb --upgrade"
      ],
      "text/plain": [
       "<IPython.core.display.HTML object>"
      ]
     },
     "metadata": {},
     "output_type": "display_data"
    },
    {
     "data": {
      "text/html": [
       "Tracking run with wandb version 0.16.4"
      ],
      "text/plain": [
       "<IPython.core.display.HTML object>"
      ]
     },
     "metadata": {},
     "output_type": "display_data"
    },
    {
     "data": {
      "text/html": [
       "Run data is saved locally in <code>/mnt/alphafold-volume-1/dylan2/repos/tb-pnca-gnn/dd_pnca/wandb/run-20250105_160109-n06r4m39</code>"
      ],
      "text/plain": [
       "<IPython.core.display.HTML object>"
      ]
     },
     "metadata": {},
     "output_type": "display_data"
    },
    {
     "data": {
      "text/html": [
       "Syncing run <strong><a href='https://wandb.ai/dylan-home/pytorch-sweeps-demo/runs/n06r4m39' target=\"_blank\">faithful-sweep-22</a></strong> to <a href='https://wandb.ai/dylan-home/pytorch-sweeps-demo' target=\"_blank\">Weights & Biases</a> (<a href='https://wandb.me/run' target=\"_blank\">docs</a>)<br/>Sweep page: <a href='https://wandb.ai/dylan-home/pytorch-sweeps-demo/sweeps/93peolwf' target=\"_blank\">https://wandb.ai/dylan-home/pytorch-sweeps-demo/sweeps/93peolwf</a>"
      ],
      "text/plain": [
       "<IPython.core.display.HTML object>"
      ]
     },
     "metadata": {},
     "output_type": "display_data"
    },
    {
     "data": {
      "text/html": [
       " View project at <a href='https://wandb.ai/dylan-home/pytorch-sweeps-demo' target=\"_blank\">https://wandb.ai/dylan-home/pytorch-sweeps-demo</a>"
      ],
      "text/plain": [
       "<IPython.core.display.HTML object>"
      ]
     },
     "metadata": {},
     "output_type": "display_data"
    },
    {
     "data": {
      "text/html": [
       " View sweep at <a href='https://wandb.ai/dylan-home/pytorch-sweeps-demo/sweeps/93peolwf' target=\"_blank\">https://wandb.ai/dylan-home/pytorch-sweeps-demo/sweeps/93peolwf</a>"
      ],
      "text/plain": [
       "<IPython.core.display.HTML object>"
      ]
     },
     "metadata": {},
     "output_type": "display_data"
    },
    {
     "data": {
      "text/html": [
       " View run at <a href='https://wandb.ai/dylan-home/pytorch-sweeps-demo/runs/n06r4m39' target=\"_blank\">https://wandb.ai/dylan-home/pytorch-sweeps-demo/runs/n06r4m39</a>"
      ],
      "text/plain": [
       "<IPython.core.display.HTML object>"
      ]
     },
     "metadata": {},
     "output_type": "display_data"
    },
    {
     "name": "stdout",
     "output_type": "stream",
     "text": [
      "Using CUDA\n",
      "Early stopping enabled. Patience: 20. Min Delta: 0.\n",
      "Epoch: 010, Train Acc: 0.5264, Test Acc: 0.5110, Train Loss: 0.6964, Test Loss: 0.7012\n",
      "Epoch: 020, Train Acc: 0.5264, Test Acc: 0.5110, Train Loss: 0.6921, Test Loss: 0.6941\n",
      "Epoch: 030, Train Acc: 0.5264, Test Acc: 0.5110, Train Loss: 0.6958, Test Loss: 0.6992\n",
      "Epoch: 040, Train Acc: 0.5264, Test Acc: 0.5110, Train Loss: 0.6919, Test Loss: 0.6931\n",
      "Epoch: 050, Train Acc: 0.5264, Test Acc: 0.5110, Train Loss: 0.6918, Test Loss: 0.6936\n",
      "20 epochs passed without 0 test loss improvement. \n",
      "Early stopping triggered.\n"
     ]
    },
    {
     "data": {
      "text/html": [
       "<style>\n",
       "    table.wandb td:nth-child(1) { padding: 0 10px; text-align: left ; width: auto;} td:nth-child(2) {text-align: left ; width: 100%}\n",
       "    .wandb-row { display: flex; flex-direction: row; flex-wrap: wrap; justify-content: flex-start; width: 100% }\n",
       "    .wandb-col { display: flex; flex-direction: column; flex-basis: 100%; flex: 1; padding: 10px; }\n",
       "    </style>\n",
       "<div class=\"wandb-row\"><div class=\"wandb-col\"><h3>Run history:</h3><br/><table class=\"wandb\"><tr><td>Test Accuracy</td><td>█▁█████▁█▁██████████████████████████████</td></tr><tr><td>Test F1</td><td>█▁█████▁█▁██████████████████████████████</td></tr><tr><td>Test Loss</td><td>▂▁▂▂▂▁▁▁▁▂▃▁█▂▂▁▃▁▁▁▆▂▃▂▁▁▁▁▂▂▁▂▁▃▂▂▁▁▁▁</td></tr><tr><td>Test Sensitivity</td><td>█▁█████▁█▁██████████████████████████████</td></tr><tr><td>Test Specificity</td><td>▁█▁▁▁▁▁█▁█▁▁▁▁▁▁▁▁▁▁▁▁▁▁▁▁▁▁▁▁▁▁▁▁▁▁▁▁▁▁</td></tr><tr><td>Train Accuracy</td><td>█▁█████▁█▁██████████████████████████████</td></tr><tr><td>Train F1</td><td>█▁█████▁█▁██████████████████████████████</td></tr><tr><td>Train Loss</td><td>▂▃▁▂▂▁▁▄▁▄▂▂█▂▁▂▂▁▂▁▆▂▃▂▁▁▂▁▁▁▂▁▂▂▁▁▁▁▂▁</td></tr><tr><td>Train Sensitivity</td><td>█▁█████▁█▁██████████████████████████████</td></tr><tr><td>Train Specificity</td><td>▁█▁▁▁▁▁█▁█▁▁▁▁▁▁▁▁▁▁▁▁▁▁▁▁▁▁▁▁▁▁▁▁▁▁▁▁▁▁</td></tr></table><br/></div><div class=\"wandb-col\"><h3>Run summary:</h3><br/><table class=\"wandb\"><tr><td>Test Accuracy</td><td>0.511</td></tr><tr><td>Test F1</td><td>0.67637</td></tr><tr><td>Test Loss</td><td>0.69292</td></tr><tr><td>Test Sensitivity</td><td>1.0</td></tr><tr><td>Test Specificity</td><td>0.0</td></tr><tr><td>Train Accuracy</td><td>0.52643</td></tr><tr><td>Train F1</td><td>0.68975</td></tr><tr><td>Train Loss</td><td>0.69199</td></tr><tr><td>Train Sensitivity</td><td>1.0</td></tr><tr><td>Train Specificity</td><td>0.0</td></tr></table><br/></div></div>"
      ],
      "text/plain": [
       "<IPython.core.display.HTML object>"
      ]
     },
     "metadata": {},
     "output_type": "display_data"
    },
    {
     "data": {
      "text/html": [
       " View run <strong style=\"color:#cdcd00\">faithful-sweep-22</strong> at: <a href='https://wandb.ai/dylan-home/pytorch-sweeps-demo/runs/n06r4m39' target=\"_blank\">https://wandb.ai/dylan-home/pytorch-sweeps-demo/runs/n06r4m39</a><br/>Synced 5 W&B file(s), 0 media file(s), 0 artifact file(s) and 0 other file(s)"
      ],
      "text/plain": [
       "<IPython.core.display.HTML object>"
      ]
     },
     "metadata": {},
     "output_type": "display_data"
    },
    {
     "data": {
      "text/html": [
       "Find logs at: <code>./wandb/run-20250105_160109-n06r4m39/logs</code>"
      ],
      "text/plain": [
       "<IPython.core.display.HTML object>"
      ]
     },
     "metadata": {},
     "output_type": "display_data"
    },
    {
     "name": "stderr",
     "output_type": "stream",
     "text": [
      "\u001b[34m\u001b[1mwandb\u001b[0m: Agent Starting Run: bckmw4dx with config:\n",
      "\u001b[34m\u001b[1mwandb\u001b[0m: \thidden_channels: 64\n",
      "\u001b[34m\u001b[1mwandb\u001b[0m: \tlearning_rate: 1.048315788122084e-05\n",
      "Failed to detect the name of this notebook, you can set it manually with the WANDB_NOTEBOOK_NAME environment variable to enable code saving.\n",
      "/usr/lib/python3/dist-packages/requests/__init__.py:87: RequestsDependencyWarning: urllib3 (2.2.3) or chardet (4.0.0) doesn't match a supported version!\n",
      "  warnings.warn(\"urllib3 ({}) or chardet ({}) doesn't match a supported \"\n"
     ]
    },
    {
     "data": {
      "text/html": [
       "wandb version 0.19.1 is available!  To upgrade, please run:\n",
       " $ pip install wandb --upgrade"
      ],
      "text/plain": [
       "<IPython.core.display.HTML object>"
      ]
     },
     "metadata": {},
     "output_type": "display_data"
    },
    {
     "data": {
      "text/html": [
       "Tracking run with wandb version 0.16.4"
      ],
      "text/plain": [
       "<IPython.core.display.HTML object>"
      ]
     },
     "metadata": {},
     "output_type": "display_data"
    },
    {
     "data": {
      "text/html": [
       "Run data is saved locally in <code>/mnt/alphafold-volume-1/dylan2/repos/tb-pnca-gnn/dd_pnca/wandb/run-20250105_160257-bckmw4dx</code>"
      ],
      "text/plain": [
       "<IPython.core.display.HTML object>"
      ]
     },
     "metadata": {},
     "output_type": "display_data"
    },
    {
     "data": {
      "text/html": [
       "Syncing run <strong><a href='https://wandb.ai/dylan-home/pytorch-sweeps-demo/runs/bckmw4dx' target=\"_blank\">eternal-sweep-23</a></strong> to <a href='https://wandb.ai/dylan-home/pytorch-sweeps-demo' target=\"_blank\">Weights & Biases</a> (<a href='https://wandb.me/run' target=\"_blank\">docs</a>)<br/>Sweep page: <a href='https://wandb.ai/dylan-home/pytorch-sweeps-demo/sweeps/93peolwf' target=\"_blank\">https://wandb.ai/dylan-home/pytorch-sweeps-demo/sweeps/93peolwf</a>"
      ],
      "text/plain": [
       "<IPython.core.display.HTML object>"
      ]
     },
     "metadata": {},
     "output_type": "display_data"
    },
    {
     "data": {
      "text/html": [
       " View project at <a href='https://wandb.ai/dylan-home/pytorch-sweeps-demo' target=\"_blank\">https://wandb.ai/dylan-home/pytorch-sweeps-demo</a>"
      ],
      "text/plain": [
       "<IPython.core.display.HTML object>"
      ]
     },
     "metadata": {},
     "output_type": "display_data"
    },
    {
     "data": {
      "text/html": [
       " View sweep at <a href='https://wandb.ai/dylan-home/pytorch-sweeps-demo/sweeps/93peolwf' target=\"_blank\">https://wandb.ai/dylan-home/pytorch-sweeps-demo/sweeps/93peolwf</a>"
      ],
      "text/plain": [
       "<IPython.core.display.HTML object>"
      ]
     },
     "metadata": {},
     "output_type": "display_data"
    },
    {
     "data": {
      "text/html": [
       " View run at <a href='https://wandb.ai/dylan-home/pytorch-sweeps-demo/runs/bckmw4dx' target=\"_blank\">https://wandb.ai/dylan-home/pytorch-sweeps-demo/runs/bckmw4dx</a>"
      ],
      "text/plain": [
       "<IPython.core.display.HTML object>"
      ]
     },
     "metadata": {},
     "output_type": "display_data"
    },
    {
     "name": "stdout",
     "output_type": "stream",
     "text": [
      "Using CUDA\n",
      "Early stopping enabled. Patience: 20. Min Delta: 0.\n",
      "Epoch: 010, Train Acc: 0.5263, Test Acc: 0.5110, Train Loss: 0.6937, Test Loss: 0.6951\n",
      "Epoch: 020, Train Acc: 0.5264, Test Acc: 0.5110, Train Loss: 0.6943, Test Loss: 0.6969\n",
      "20 epochs passed without 0 test loss improvement. \n",
      "Early stopping triggered.\n"
     ]
    },
    {
     "data": {
      "text/html": [
       "<style>\n",
       "    table.wandb td:nth-child(1) { padding: 0 10px; text-align: left ; width: auto;} td:nth-child(2) {text-align: left ; width: 100%}\n",
       "    .wandb-row { display: flex; flex-direction: row; flex-wrap: wrap; justify-content: flex-start; width: 100% }\n",
       "    .wandb-col { display: flex; flex-direction: column; flex-basis: 100%; flex: 1; padding: 10px; }\n",
       "    </style>\n",
       "<div class=\"wandb-row\"><div class=\"wandb-col\"><h3>Run history:</h3><br/><table class=\"wandb\"><tr><td>Test Accuracy</td><td>▁▁▁▁▁▁▁█▄▄▄▄▄▄▄▄▄▄▄▄▄▄▄▄▄▄▄▄▄</td></tr><tr><td>Test F1</td><td>▁▁▁▁▁▁▁▃█████████████████████</td></tr><tr><td>Test Loss</td><td>█▆▄▂▂▁▁▁▁▁▁▁▁▁▁▁▁▁▁▁▁▁▁▁▁▁▁▁▁</td></tr><tr><td>Test Sensitivity</td><td>▁▁▁▁▁▁▁▂█████████████████████</td></tr><tr><td>Test Specificity</td><td>████████▁▁▁▁▁▁▁▁▁▁▁▁▁▁▁▁▁▁▁▁▁</td></tr><tr><td>Train Accuracy</td><td>▁▁▁▁▁▁▁▄█████████████████████</td></tr><tr><td>Train F1</td><td>▁▁▁▁▁▁▁▂█████████████████████</td></tr><tr><td>Train Loss</td><td>█▆▄▂▂▁▁▁▁▁▁▁▁▁▁▁▁▁▁▁▁▁▁▁▁▁▁▁▁</td></tr><tr><td>Train Sensitivity</td><td>▁▁▁▁▁▁▁▁█████████████████████</td></tr><tr><td>Train Specificity</td><td>████████▁▁▁▁▁▁▁▁▁▁▁▁▁▁▁▁▁▁▁▁▁</td></tr></table><br/></div><div class=\"wandb-col\"><h3>Run summary:</h3><br/><table class=\"wandb\"><tr><td>Test Accuracy</td><td>0.511</td></tr><tr><td>Test F1</td><td>0.67637</td></tr><tr><td>Test Loss</td><td>0.69476</td></tr><tr><td>Test Sensitivity</td><td>1.0</td></tr><tr><td>Test Specificity</td><td>0.0</td></tr><tr><td>Train Accuracy</td><td>0.52629</td></tr><tr><td>Train F1</td><td>0.68963</td></tr><tr><td>Train Loss</td><td>0.69309</td></tr><tr><td>Train Sensitivity</td><td>0.99973</td></tr><tr><td>Train Specificity</td><td>0.0</td></tr></table><br/></div></div>"
      ],
      "text/plain": [
       "<IPython.core.display.HTML object>"
      ]
     },
     "metadata": {},
     "output_type": "display_data"
    },
    {
     "data": {
      "text/html": [
       " View run <strong style=\"color:#cdcd00\">eternal-sweep-23</strong> at: <a href='https://wandb.ai/dylan-home/pytorch-sweeps-demo/runs/bckmw4dx' target=\"_blank\">https://wandb.ai/dylan-home/pytorch-sweeps-demo/runs/bckmw4dx</a><br/>Synced 5 W&B file(s), 0 media file(s), 0 artifact file(s) and 0 other file(s)"
      ],
      "text/plain": [
       "<IPython.core.display.HTML object>"
      ]
     },
     "metadata": {},
     "output_type": "display_data"
    },
    {
     "data": {
      "text/html": [
       "Find logs at: <code>./wandb/run-20250105_160257-bckmw4dx/logs</code>"
      ],
      "text/plain": [
       "<IPython.core.display.HTML object>"
      ]
     },
     "metadata": {},
     "output_type": "display_data"
    },
    {
     "name": "stderr",
     "output_type": "stream",
     "text": [
      "\u001b[34m\u001b[1mwandb\u001b[0m: Agent Starting Run: y1v2bsdl with config:\n",
      "\u001b[34m\u001b[1mwandb\u001b[0m: \thidden_channels: 32\n",
      "\u001b[34m\u001b[1mwandb\u001b[0m: \tlearning_rate: 3.373807289912603e-05\n",
      "Failed to detect the name of this notebook, you can set it manually with the WANDB_NOTEBOOK_NAME environment variable to enable code saving.\n",
      "/usr/lib/python3/dist-packages/requests/__init__.py:87: RequestsDependencyWarning: urllib3 (2.2.3) or chardet (4.0.0) doesn't match a supported version!\n",
      "  warnings.warn(\"urllib3 ({}) or chardet ({}) doesn't match a supported \"\n"
     ]
    },
    {
     "data": {
      "text/html": [
       "wandb version 0.19.1 is available!  To upgrade, please run:\n",
       " $ pip install wandb --upgrade"
      ],
      "text/plain": [
       "<IPython.core.display.HTML object>"
      ]
     },
     "metadata": {},
     "output_type": "display_data"
    },
    {
     "data": {
      "text/html": [
       "Tracking run with wandb version 0.16.4"
      ],
      "text/plain": [
       "<IPython.core.display.HTML object>"
      ]
     },
     "metadata": {},
     "output_type": "display_data"
    },
    {
     "data": {
      "text/html": [
       "Run data is saved locally in <code>/mnt/alphafold-volume-1/dylan2/repos/tb-pnca-gnn/dd_pnca/wandb/run-20250105_160359-y1v2bsdl</code>"
      ],
      "text/plain": [
       "<IPython.core.display.HTML object>"
      ]
     },
     "metadata": {},
     "output_type": "display_data"
    },
    {
     "data": {
      "text/html": [
       "Syncing run <strong><a href='https://wandb.ai/dylan-home/pytorch-sweeps-demo/runs/y1v2bsdl' target=\"_blank\">still-sweep-24</a></strong> to <a href='https://wandb.ai/dylan-home/pytorch-sweeps-demo' target=\"_blank\">Weights & Biases</a> (<a href='https://wandb.me/run' target=\"_blank\">docs</a>)<br/>Sweep page: <a href='https://wandb.ai/dylan-home/pytorch-sweeps-demo/sweeps/93peolwf' target=\"_blank\">https://wandb.ai/dylan-home/pytorch-sweeps-demo/sweeps/93peolwf</a>"
      ],
      "text/plain": [
       "<IPython.core.display.HTML object>"
      ]
     },
     "metadata": {},
     "output_type": "display_data"
    },
    {
     "data": {
      "text/html": [
       " View project at <a href='https://wandb.ai/dylan-home/pytorch-sweeps-demo' target=\"_blank\">https://wandb.ai/dylan-home/pytorch-sweeps-demo</a>"
      ],
      "text/plain": [
       "<IPython.core.display.HTML object>"
      ]
     },
     "metadata": {},
     "output_type": "display_data"
    },
    {
     "data": {
      "text/html": [
       " View sweep at <a href='https://wandb.ai/dylan-home/pytorch-sweeps-demo/sweeps/93peolwf' target=\"_blank\">https://wandb.ai/dylan-home/pytorch-sweeps-demo/sweeps/93peolwf</a>"
      ],
      "text/plain": [
       "<IPython.core.display.HTML object>"
      ]
     },
     "metadata": {},
     "output_type": "display_data"
    },
    {
     "data": {
      "text/html": [
       " View run at <a href='https://wandb.ai/dylan-home/pytorch-sweeps-demo/runs/y1v2bsdl' target=\"_blank\">https://wandb.ai/dylan-home/pytorch-sweeps-demo/runs/y1v2bsdl</a>"
      ],
      "text/plain": [
       "<IPython.core.display.HTML object>"
      ]
     },
     "metadata": {},
     "output_type": "display_data"
    },
    {
     "name": "stdout",
     "output_type": "stream",
     "text": [
      "Using CUDA\n",
      "Early stopping enabled. Patience: 20. Min Delta: 0.\n",
      "Epoch: 010, Train Acc: 0.5263, Test Acc: 0.5110, Train Loss: 0.6960, Test Loss: 0.7015\n",
      "Epoch: 020, Train Acc: 0.5260, Test Acc: 0.5090, Train Loss: 0.6932, Test Loss: 0.6957\n",
      "Epoch: 030, Train Acc: 0.5263, Test Acc: 0.5110, Train Loss: 0.6932, Test Loss: 0.6956\n",
      "Epoch: 040, Train Acc: 0.5260, Test Acc: 0.5087, Train Loss: 0.6927, Test Loss: 0.6948\n",
      "Epoch: 050, Train Acc: 0.5260, Test Acc: 0.5087, Train Loss: 0.6924, Test Loss: 0.6945\n",
      "Epoch: 060, Train Acc: 0.5259, Test Acc: 0.5070, Train Loss: 0.6922, Test Loss: 0.6940\n",
      "Epoch: 070, Train Acc: 0.5261, Test Acc: 0.5083, Train Loss: 0.6920, Test Loss: 0.6937\n",
      "Epoch: 080, Train Acc: 0.5263, Test Acc: 0.5097, Train Loss: 0.6920, Test Loss: 0.6937\n",
      "Epoch: 090, Train Acc: 0.5263, Test Acc: 0.5110, Train Loss: 0.6918, Test Loss: 0.6936\n",
      "Epoch: 100, Train Acc: 0.5263, Test Acc: 0.5110, Train Loss: 0.6914, Test Loss: 0.6930\n",
      "Epoch: 110, Train Acc: 0.5260, Test Acc: 0.5060, Train Loss: 0.6913, Test Loss: 0.6921\n",
      "Epoch: 120, Train Acc: 0.5264, Test Acc: 0.5110, Train Loss: 0.6909, Test Loss: 0.6927\n",
      "Epoch: 130, Train Acc: 0.5264, Test Acc: 0.5110, Train Loss: 0.6905, Test Loss: 0.6921\n",
      "Epoch: 140, Train Acc: 0.5264, Test Acc: 0.5110, Train Loss: 0.6901, Test Loss: 0.6912\n",
      "Epoch: 150, Train Acc: 0.5263, Test Acc: 0.5110, Train Loss: 0.6894, Test Loss: 0.6899\n",
      "Epoch: 160, Train Acc: 0.5263, Test Acc: 0.5110, Train Loss: 0.6889, Test Loss: 0.6899\n",
      "Epoch: 170, Train Acc: 0.5127, Test Acc: 0.5037, Train Loss: 0.6888, Test Loss: 0.6883\n",
      "Epoch: 180, Train Acc: 0.5263, Test Acc: 0.5110, Train Loss: 0.6879, Test Loss: 0.6881\n",
      "Epoch: 190, Train Acc: 0.5180, Test Acc: 0.5043, Train Loss: 0.6871, Test Loss: 0.6867\n",
      "Epoch: 200, Train Acc: 0.5263, Test Acc: 0.5110, Train Loss: 0.6867, Test Loss: 0.6870\n",
      "Epoch: 210, Train Acc: 0.5206, Test Acc: 0.5067, Train Loss: 0.6864, Test Loss: 0.6855\n",
      "Epoch: 220, Train Acc: 0.5244, Test Acc: 0.5110, Train Loss: 0.6857, Test Loss: 0.6855\n",
      "Epoch: 230, Train Acc: 0.5241, Test Acc: 0.5107, Train Loss: 0.6853, Test Loss: 0.6848\n",
      "Epoch: 240, Train Acc: 0.5239, Test Acc: 0.5103, Train Loss: 0.6846, Test Loss: 0.6839\n",
      "Epoch: 250, Train Acc: 0.5247, Test Acc: 0.5110, Train Loss: 0.6849, Test Loss: 0.6842\n",
      "Epoch: 260, Train Acc: 0.5254, Test Acc: 0.5110, Train Loss: 0.6845, Test Loss: 0.6842\n",
      "Epoch: 270, Train Acc: 0.4871, Test Acc: 0.4723, Train Loss: 0.6828, Test Loss: 0.6802\n",
      "Epoch: 280, Train Acc: 0.5201, Test Acc: 0.5057, Train Loss: 0.6825, Test Loss: 0.6809\n",
      "Epoch: 290, Train Acc: 0.5190, Test Acc: 0.5070, Train Loss: 0.6816, Test Loss: 0.6803\n",
      "Epoch: 300, Train Acc: 0.4939, Test Acc: 0.4633, Train Loss: 0.6813, Test Loss: 0.6772\n",
      "Epoch: 310, Train Acc: 0.4789, Test Acc: 0.4723, Train Loss: 0.6799, Test Loss: 0.6763\n",
      "Epoch: 320, Train Acc: 0.5053, Test Acc: 0.4927, Train Loss: 0.6791, Test Loss: 0.6761\n",
      "Epoch: 330, Train Acc: 0.5081, Test Acc: 0.4957, Train Loss: 0.6786, Test Loss: 0.6759\n",
      "Epoch: 340, Train Acc: 0.6446, Test Acc: 0.6707, Train Loss: 0.6802, Test Loss: 0.6737\n",
      "Epoch: 350, Train Acc: 0.6940, Test Acc: 0.6680, Train Loss: 0.6771, Test Loss: 0.6715\n",
      "Epoch: 360, Train Acc: 0.4870, Test Acc: 0.4740, Train Loss: 0.6753, Test Loss: 0.6709\n",
      "Epoch: 370, Train Acc: 0.4854, Test Acc: 0.4713, Train Loss: 0.6745, Test Loss: 0.6696\n",
      "Epoch: 380, Train Acc: 0.6891, Test Acc: 0.6517, Train Loss: 0.6737, Test Loss: 0.6677\n",
      "Epoch: 390, Train Acc: 0.6890, Test Acc: 0.6530, Train Loss: 0.6723, Test Loss: 0.6663\n",
      "Epoch: 400, Train Acc: 0.4826, Test Acc: 0.4763, Train Loss: 0.6704, Test Loss: 0.6653\n"
     ]
    },
    {
     "data": {
      "text/html": [
       "<style>\n",
       "    table.wandb td:nth-child(1) { padding: 0 10px; text-align: left ; width: auto;} td:nth-child(2) {text-align: left ; width: 100%}\n",
       "    .wandb-row { display: flex; flex-direction: row; flex-wrap: wrap; justify-content: flex-start; width: 100% }\n",
       "    .wandb-col { display: flex; flex-direction: column; flex-basis: 100%; flex: 1; padding: 10px; }\n",
       "    </style>\n",
       "<div class=\"wandb-row\"><div class=\"wandb-col\"><h3>Run history:</h3><br/><table class=\"wandb\"><tr><td>Test Accuracy</td><td>▃▃▃▃▃▃▃▃▃▃▃▃▃▃▃▃▃▃▃▁▂▃▃▃▃█▇▂▃▃▂▂▂▂▂▂▂█▂▂</td></tr><tr><td>Test F1</td><td>██████▇███████████▇▁▅█▇██▇▇▁█▇▁▅▄▄▆▄▅▁▅▃</td></tr><tr><td>Test Loss</td><td>█▂▂▂▂▂▂▂▂▂▂▂▂▂▂▁▂▁▁▁▁▁▁▁▁▁▁▁▁▁▁▁▁▁▁▁▁▁▁▁</td></tr><tr><td>Test Sensitivity</td><td>██████████████████▇▅▇█▇██▃▄▄█▇▅▇▆▆▇▆▇▁▆▆</td></tr><tr><td>Test Specificity</td><td>▁▁▁▁▁▁▁▁▁▁▁▁▁▁▁▁▁▁▁▂▁▁▁▁▁▆▆▃▁▁▃▁▁▂▁▂▁█▂▂</td></tr><tr><td>Train Accuracy</td><td>▃▃▃▃▃▃▃▃▃▃▃▃▃▃▃▃▃▃▂▁▂▃▂▃▂██▂▂▂▂▂▁▁▂▁▂▇▂▁</td></tr><tr><td>Train F1</td><td>██████████████████▇▃▆█▇██▇█▄█▇▄▆▆▅▇▅▆▁▆▅</td></tr><tr><td>Train Loss</td><td>█▂▁▁▁▁▁▁▁▁▁▁▁▁▁▁▁▁▁▁▁▁▁▁▁▁▁▁▁▁▁▁▁▁▁▁▁▁▁▁</td></tr><tr><td>Train Sensitivity</td><td>██████████████████▇▅▇█▇██▄▄▅█▇▅▇▇▆▇▆▇▁▇▆</td></tr><tr><td>Train Specificity</td><td>▁▁▁▁▁▁▁▁▁▁▁▁▁▁▁▁▁▁▁▂▁▁▁▁▁▇▆▃▁▁▃▁▁▁▁▂▁█▁▂</td></tr></table><br/></div><div class=\"wandb-col\"><h3>Run summary:</h3><br/><table class=\"wandb\"><tr><td>Test Accuracy</td><td>0.47633</td></tr><tr><td>Test F1</td><td>0.61066</td></tr><tr><td>Test Loss</td><td>0.66529</td></tr><tr><td>Test Sensitivity</td><td>0.80365</td></tr><tr><td>Test Specificity</td><td>0.13429</td></tr><tr><td>Train Accuracy</td><td>0.48257</td></tr><tr><td>Train F1</td><td>0.62302</td></tr><tr><td>Train Loss</td><td>0.67043</td></tr><tr><td>Train Sensitivity</td><td>0.81221</td></tr><tr><td>Train Specificity</td><td>0.11614</td></tr></table><br/></div></div>"
      ],
      "text/plain": [
       "<IPython.core.display.HTML object>"
      ]
     },
     "metadata": {},
     "output_type": "display_data"
    },
    {
     "data": {
      "text/html": [
       " View run <strong style=\"color:#cdcd00\">still-sweep-24</strong> at: <a href='https://wandb.ai/dylan-home/pytorch-sweeps-demo/runs/y1v2bsdl' target=\"_blank\">https://wandb.ai/dylan-home/pytorch-sweeps-demo/runs/y1v2bsdl</a><br/>Synced 5 W&B file(s), 0 media file(s), 0 artifact file(s) and 0 other file(s)"
      ],
      "text/plain": [
       "<IPython.core.display.HTML object>"
      ]
     },
     "metadata": {},
     "output_type": "display_data"
    },
    {
     "data": {
      "text/html": [
       "Find logs at: <code>./wandb/run-20250105_160359-y1v2bsdl/logs</code>"
      ],
      "text/plain": [
       "<IPython.core.display.HTML object>"
      ]
     },
     "metadata": {},
     "output_type": "display_data"
    },
    {
     "name": "stderr",
     "output_type": "stream",
     "text": [
      "\u001b[34m\u001b[1mwandb\u001b[0m: Agent Starting Run: x4e7wwxd with config:\n",
      "\u001b[34m\u001b[1mwandb\u001b[0m: \thidden_channels: 128\n",
      "\u001b[34m\u001b[1mwandb\u001b[0m: \tlearning_rate: 3.362440778469612e-05\n",
      "Failed to detect the name of this notebook, you can set it manually with the WANDB_NOTEBOOK_NAME environment variable to enable code saving.\n",
      "/usr/lib/python3/dist-packages/requests/__init__.py:87: RequestsDependencyWarning: urllib3 (2.2.3) or chardet (4.0.0) doesn't match a supported version!\n",
      "  warnings.warn(\"urllib3 ({}) or chardet ({}) doesn't match a supported \"\n"
     ]
    },
    {
     "data": {
      "text/html": [
       "wandb version 0.19.1 is available!  To upgrade, please run:\n",
       " $ pip install wandb --upgrade"
      ],
      "text/plain": [
       "<IPython.core.display.HTML object>"
      ]
     },
     "metadata": {},
     "output_type": "display_data"
    },
    {
     "data": {
      "text/html": [
       "Tracking run with wandb version 0.16.4"
      ],
      "text/plain": [
       "<IPython.core.display.HTML object>"
      ]
     },
     "metadata": {},
     "output_type": "display_data"
    },
    {
     "data": {
      "text/html": [
       "Run data is saved locally in <code>/mnt/alphafold-volume-1/dylan2/repos/tb-pnca-gnn/dd_pnca/wandb/run-20250105_161510-x4e7wwxd</code>"
      ],
      "text/plain": [
       "<IPython.core.display.HTML object>"
      ]
     },
     "metadata": {},
     "output_type": "display_data"
    },
    {
     "data": {
      "text/html": [
       "Syncing run <strong><a href='https://wandb.ai/dylan-home/pytorch-sweeps-demo/runs/x4e7wwxd' target=\"_blank\">ancient-sweep-25</a></strong> to <a href='https://wandb.ai/dylan-home/pytorch-sweeps-demo' target=\"_blank\">Weights & Biases</a> (<a href='https://wandb.me/run' target=\"_blank\">docs</a>)<br/>Sweep page: <a href='https://wandb.ai/dylan-home/pytorch-sweeps-demo/sweeps/93peolwf' target=\"_blank\">https://wandb.ai/dylan-home/pytorch-sweeps-demo/sweeps/93peolwf</a>"
      ],
      "text/plain": [
       "<IPython.core.display.HTML object>"
      ]
     },
     "metadata": {},
     "output_type": "display_data"
    },
    {
     "data": {
      "text/html": [
       " View project at <a href='https://wandb.ai/dylan-home/pytorch-sweeps-demo' target=\"_blank\">https://wandb.ai/dylan-home/pytorch-sweeps-demo</a>"
      ],
      "text/plain": [
       "<IPython.core.display.HTML object>"
      ]
     },
     "metadata": {},
     "output_type": "display_data"
    },
    {
     "data": {
      "text/html": [
       " View sweep at <a href='https://wandb.ai/dylan-home/pytorch-sweeps-demo/sweeps/93peolwf' target=\"_blank\">https://wandb.ai/dylan-home/pytorch-sweeps-demo/sweeps/93peolwf</a>"
      ],
      "text/plain": [
       "<IPython.core.display.HTML object>"
      ]
     },
     "metadata": {},
     "output_type": "display_data"
    },
    {
     "data": {
      "text/html": [
       " View run at <a href='https://wandb.ai/dylan-home/pytorch-sweeps-demo/runs/x4e7wwxd' target=\"_blank\">https://wandb.ai/dylan-home/pytorch-sweeps-demo/runs/x4e7wwxd</a>"
      ],
      "text/plain": [
       "<IPython.core.display.HTML object>"
      ]
     },
     "metadata": {},
     "output_type": "display_data"
    },
    {
     "name": "stdout",
     "output_type": "stream",
     "text": [
      "Using CUDA\n",
      "Early stopping enabled. Patience: 20. Min Delta: 0.\n",
      "Epoch: 010, Train Acc: 0.4607, Test Acc: 0.3943, Train Loss: 0.6943, Test Loss: 0.6969\n",
      "Epoch: 020, Train Acc: 0.5251, Test Acc: 0.5060, Train Loss: 0.6927, Test Loss: 0.6951\n",
      "Epoch: 030, Train Acc: 0.5826, Test Acc: 0.5677, Train Loss: 0.6924, Test Loss: 0.6932\n",
      "Epoch: 040, Train Acc: 0.4880, Test Acc: 0.5107, Train Loss: 0.6930, Test Loss: 0.6922\n",
      "Epoch: 050, Train Acc: 0.5264, Test Acc: 0.5110, Train Loss: 0.6931, Test Loss: 0.6966\n",
      "Epoch: 060, Train Acc: 0.5234, Test Acc: 0.5077, Train Loss: 0.6857, Test Loss: 0.6862\n",
      "Epoch: 070, Train Acc: 0.5264, Test Acc: 0.5103, Train Loss: 0.6845, Test Loss: 0.6855\n",
      "Epoch: 080, Train Acc: 0.5124, Test Acc: 0.4893, Train Loss: 0.6826, Test Loss: 0.6818\n",
      "Epoch: 090, Train Acc: 0.5199, Test Acc: 0.4983, Train Loss: 0.6808, Test Loss: 0.6803\n",
      "Epoch: 100, Train Acc: 0.5169, Test Acc: 0.4967, Train Loss: 0.6793, Test Loss: 0.6782\n",
      "Epoch: 110, Train Acc: 0.4984, Test Acc: 0.4743, Train Loss: 0.6770, Test Loss: 0.6744\n",
      "Epoch: 120, Train Acc: 0.4934, Test Acc: 0.4667, Train Loss: 0.6750, Test Loss: 0.6718\n",
      "Epoch: 130, Train Acc: 0.5231, Test Acc: 0.5100, Train Loss: 0.6780, Test Loss: 0.6786\n",
      "Epoch: 140, Train Acc: 0.6876, Test Acc: 0.6660, Train Loss: 0.6720, Test Loss: 0.6661\n",
      "Epoch: 150, Train Acc: 0.5179, Test Acc: 0.4983, Train Loss: 0.6718, Test Loss: 0.6711\n",
      "Epoch: 160, Train Acc: 0.5050, Test Acc: 0.4853, Train Loss: 0.6678, Test Loss: 0.6664\n",
      "Epoch: 170, Train Acc: 0.6660, Test Acc: 0.6637, Train Loss: 0.6668, Test Loss: 0.6585\n",
      "Epoch: 180, Train Acc: 0.6946, Test Acc: 0.6510, Train Loss: 0.6619, Test Loss: 0.6563\n",
      "Epoch: 190, Train Acc: 0.5069, Test Acc: 0.4857, Train Loss: 0.6640, Test Loss: 0.6630\n",
      "Epoch: 200, Train Acc: 0.5073, Test Acc: 0.4610, Train Loss: 0.6567, Test Loss: 0.6520\n",
      "Epoch: 210, Train Acc: 0.6994, Test Acc: 0.6723, Train Loss: 0.6545, Test Loss: 0.6481\n",
      "Epoch: 220, Train Acc: 0.5029, Test Acc: 0.4693, Train Loss: 0.6532, Test Loss: 0.6511\n",
      "Epoch: 230, Train Acc: 0.6900, Test Acc: 0.6723, Train Loss: 0.6509, Test Loss: 0.6428\n",
      "Epoch: 240, Train Acc: 0.6983, Test Acc: 0.6740, Train Loss: 0.6475, Test Loss: 0.6409\n",
      "Epoch: 250, Train Acc: 0.6777, Test Acc: 0.6767, Train Loss: 0.6475, Test Loss: 0.6385\n",
      "Epoch: 260, Train Acc: 0.5101, Test Acc: 0.4880, Train Loss: 0.6534, Test Loss: 0.6576\n",
      "Epoch: 270, Train Acc: 0.7006, Test Acc: 0.6810, Train Loss: 0.6391, Test Loss: 0.6332\n",
      "Epoch: 280, Train Acc: 0.6870, Test Acc: 0.6797, Train Loss: 0.6377, Test Loss: 0.6311\n",
      "Epoch: 290, Train Acc: 0.6423, Test Acc: 0.6600, Train Loss: 0.6477, Test Loss: 0.6358\n",
      "Epoch: 300, Train Acc: 0.7106, Test Acc: 0.6750, Train Loss: 0.6288, Test Loss: 0.6266\n",
      "Epoch: 310, Train Acc: 0.5067, Test Acc: 0.4777, Train Loss: 0.6329, Test Loss: 0.6383\n",
      "Epoch: 320, Train Acc: 0.7199, Test Acc: 0.6710, Train Loss: 0.6246, Test Loss: 0.6281\n",
      "Epoch: 330, Train Acc: 0.7011, Test Acc: 0.6837, Train Loss: 0.6234, Test Loss: 0.6190\n",
      "Epoch: 340, Train Acc: 0.7213, Test Acc: 0.6593, Train Loss: 0.6202, Test Loss: 0.6268\n",
      "Epoch: 350, Train Acc: 0.7181, Test Acc: 0.6993, Train Loss: 0.6146, Test Loss: 0.6141\n",
      "Epoch: 360, Train Acc: 0.6929, Test Acc: 0.6800, Train Loss: 0.6186, Test Loss: 0.6144\n",
      "Epoch: 370, Train Acc: 0.6820, Test Acc: 0.6720, Train Loss: 0.6184, Test Loss: 0.6144\n",
      "Epoch: 380, Train Acc: 0.7341, Test Acc: 0.6917, Train Loss: 0.6042, Test Loss: 0.6117\n",
      "Epoch: 390, Train Acc: 0.7207, Test Acc: 0.6930, Train Loss: 0.6016, Test Loss: 0.6052\n",
      "Epoch: 400, Train Acc: 0.7354, Test Acc: 0.7043, Train Loss: 0.5963, Test Loss: 0.6038\n"
     ]
    },
    {
     "data": {
      "text/html": [
       "<style>\n",
       "    table.wandb td:nth-child(1) { padding: 0 10px; text-align: left ; width: auto;} td:nth-child(2) {text-align: left ; width: 100%}\n",
       "    .wandb-row { display: flex; flex-direction: row; flex-wrap: wrap; justify-content: flex-start; width: 100% }\n",
       "    .wandb-col { display: flex; flex-direction: column; flex-basis: 100%; flex: 1; padding: 10px; }\n",
       "    </style>\n",
       "<div class=\"wandb-row\"><div class=\"wandb-col\"><h3>Run history:</h3><br/><table class=\"wandb\"><tr><td>Test Accuracy</td><td>▂▂▂▂▄▂▆▂▃▂▂▂▆▂▂▇▂▇▇▂▁▇▇▇▇▇▇▇▇▇▇▁▇▇▇█▇███</td></tr><tr><td>Test F1</td><td>████▃█▄█▁███▅▇██▇▇▇▇▇▇▆▇▆▇▆▇▇▆▇▇█▆▆█████</td></tr><tr><td>Test Loss</td><td>█▇▇▇▇▇▆▇▆▆▆▆▆▅▆▅▅▄▄▅▄▄▄▃▃▃▃▃▃▃▂▃▂▂▂▂▂▁▁▁</td></tr><tr><td>Test Sensitivity</td><td>████▂█▂█▁███▃▇█▅▇▄▅▇▆▄▃▄▄▅▄▄▅▄▄▇▅▄▄▅▆▅▅▅</td></tr><tr><td>Test Specificity</td><td>▁▁▁▁█▁█▁█▁▁▁▇▁▁▆▁▇▆▁▂▇▇▇▇▆▇▇▆▇▇▂▆▇▇▇▅▆▆▇</td></tr><tr><td>Train Accuracy</td><td>▂▂▂▂▃▂▃▂▁▂▂▂▄▁▂▇▁▇▇▁▁▇▅▆▆▇▆▇▇▆▇▁█▆▅█████</td></tr><tr><td>Train F1</td><td>▇▇▇▇▃▇▃▇▁▇▇▇▄▇▇▇▇▇▇▇▇▇▅▆▆▇▆▇▇▆▇▇█▆▅▇████</td></tr><tr><td>Train Loss</td><td>██▇▇▇▇▇▇▇▇▇▇▇▆▆▆▆▅▅▅▅▅▅▅▅▄▄▄▃▄▃▃▃▃▄▂▂▁▁▁</td></tr><tr><td>Train Sensitivity</td><td>████▂█▂█▁███▂██▅█▄▅█▇▄▃▄▄▅▄▅▅▄▄▇▆▄▃▅▆▅▅▅</td></tr><tr><td>Train Specificity</td><td>▁▁▁▁█▁█▁█▁▁▁█▁▁▆▁▇▇▁▂▇█▇▇▇█▇▇█▇▂▇██▇▆▇▇▇</td></tr></table><br/></div><div class=\"wandb-col\"><h3>Run summary:</h3><br/><table class=\"wandb\"><tr><td>Test Accuracy</td><td>0.70433</td></tr><tr><td>Test F1</td><td>0.67851</td></tr><tr><td>Test Loss</td><td>0.60381</td></tr><tr><td>Test Sensitivity</td><td>0.61057</td></tr><tr><td>Test Specificity</td><td>0.80232</td></tr><tr><td>Train Accuracy</td><td>0.73543</td></tr><tr><td>Train F1</td><td>0.71455</td></tr><tr><td>Train Loss</td><td>0.59632</td></tr><tr><td>Train Sensitivity</td><td>0.62904</td></tr><tr><td>Train Specificity</td><td>0.8537</td></tr></table><br/></div></div>"
      ],
      "text/plain": [
       "<IPython.core.display.HTML object>"
      ]
     },
     "metadata": {},
     "output_type": "display_data"
    },
    {
     "data": {
      "text/html": [
       " View run <strong style=\"color:#cdcd00\">ancient-sweep-25</strong> at: <a href='https://wandb.ai/dylan-home/pytorch-sweeps-demo/runs/x4e7wwxd' target=\"_blank\">https://wandb.ai/dylan-home/pytorch-sweeps-demo/runs/x4e7wwxd</a><br/>Synced 5 W&B file(s), 0 media file(s), 0 artifact file(s) and 0 other file(s)"
      ],
      "text/plain": [
       "<IPython.core.display.HTML object>"
      ]
     },
     "metadata": {},
     "output_type": "display_data"
    },
    {
     "data": {
      "text/html": [
       "Find logs at: <code>./wandb/run-20250105_161510-x4e7wwxd/logs</code>"
      ],
      "text/plain": [
       "<IPython.core.display.HTML object>"
      ]
     },
     "metadata": {},
     "output_type": "display_data"
    },
    {
     "name": "stderr",
     "output_type": "stream",
     "text": [
      "\u001b[34m\u001b[1mwandb\u001b[0m: Agent Starting Run: 93omqw53 with config:\n",
      "\u001b[34m\u001b[1mwandb\u001b[0m: \thidden_channels: 64\n",
      "\u001b[34m\u001b[1mwandb\u001b[0m: \tlearning_rate: 0.0019301429362413693\n",
      "Failed to detect the name of this notebook, you can set it manually with the WANDB_NOTEBOOK_NAME environment variable to enable code saving.\n",
      "/usr/lib/python3/dist-packages/requests/__init__.py:87: RequestsDependencyWarning: urllib3 (2.2.3) or chardet (4.0.0) doesn't match a supported version!\n",
      "  warnings.warn(\"urllib3 ({}) or chardet ({}) doesn't match a supported \"\n"
     ]
    },
    {
     "data": {
      "text/html": [
       "wandb version 0.19.1 is available!  To upgrade, please run:\n",
       " $ pip install wandb --upgrade"
      ],
      "text/plain": [
       "<IPython.core.display.HTML object>"
      ]
     },
     "metadata": {},
     "output_type": "display_data"
    },
    {
     "data": {
      "text/html": [
       "Tracking run with wandb version 0.16.4"
      ],
      "text/plain": [
       "<IPython.core.display.HTML object>"
      ]
     },
     "metadata": {},
     "output_type": "display_data"
    },
    {
     "data": {
      "text/html": [
       "Run data is saved locally in <code>/mnt/alphafold-volume-1/dylan2/repos/tb-pnca-gnn/dd_pnca/wandb/run-20250105_162733-93omqw53</code>"
      ],
      "text/plain": [
       "<IPython.core.display.HTML object>"
      ]
     },
     "metadata": {},
     "output_type": "display_data"
    },
    {
     "data": {
      "text/html": [
       "Syncing run <strong><a href='https://wandb.ai/dylan-home/pytorch-sweeps-demo/runs/93omqw53' target=\"_blank\">deft-sweep-26</a></strong> to <a href='https://wandb.ai/dylan-home/pytorch-sweeps-demo' target=\"_blank\">Weights & Biases</a> (<a href='https://wandb.me/run' target=\"_blank\">docs</a>)<br/>Sweep page: <a href='https://wandb.ai/dylan-home/pytorch-sweeps-demo/sweeps/93peolwf' target=\"_blank\">https://wandb.ai/dylan-home/pytorch-sweeps-demo/sweeps/93peolwf</a>"
      ],
      "text/plain": [
       "<IPython.core.display.HTML object>"
      ]
     },
     "metadata": {},
     "output_type": "display_data"
    },
    {
     "data": {
      "text/html": [
       " View project at <a href='https://wandb.ai/dylan-home/pytorch-sweeps-demo' target=\"_blank\">https://wandb.ai/dylan-home/pytorch-sweeps-demo</a>"
      ],
      "text/plain": [
       "<IPython.core.display.HTML object>"
      ]
     },
     "metadata": {},
     "output_type": "display_data"
    },
    {
     "data": {
      "text/html": [
       " View sweep at <a href='https://wandb.ai/dylan-home/pytorch-sweeps-demo/sweeps/93peolwf' target=\"_blank\">https://wandb.ai/dylan-home/pytorch-sweeps-demo/sweeps/93peolwf</a>"
      ],
      "text/plain": [
       "<IPython.core.display.HTML object>"
      ]
     },
     "metadata": {},
     "output_type": "display_data"
    },
    {
     "data": {
      "text/html": [
       " View run at <a href='https://wandb.ai/dylan-home/pytorch-sweeps-demo/runs/93omqw53' target=\"_blank\">https://wandb.ai/dylan-home/pytorch-sweeps-demo/runs/93omqw53</a>"
      ],
      "text/plain": [
       "<IPython.core.display.HTML object>"
      ]
     },
     "metadata": {},
     "output_type": "display_data"
    },
    {
     "name": "stdout",
     "output_type": "stream",
     "text": [
      "Using CUDA\n",
      "Early stopping enabled. Patience: 20. Min Delta: 0.\n",
      "Epoch: 010, Train Acc: 0.5264, Test Acc: 0.5110, Train Loss: 0.6918, Test Loss: 0.6929\n",
      "Epoch: 020, Train Acc: 0.5264, Test Acc: 0.5110, Train Loss: 0.6914, Test Loss: 0.6929\n",
      "Epoch: 030, Train Acc: 0.5264, Test Acc: 0.5110, Train Loss: 0.6915, Test Loss: 0.6932\n",
      "Epoch: 040, Train Acc: 0.5264, Test Acc: 0.5110, Train Loss: 0.6901, Test Loss: 0.6913\n",
      "Epoch: 050, Train Acc: 0.5261, Test Acc: 0.5110, Train Loss: 0.6852, Test Loss: 0.6879\n",
      "Epoch: 060, Train Acc: 0.5264, Test Acc: 0.5110, Train Loss: 0.6895, Test Loss: 0.6936\n",
      "Epoch: 070, Train Acc: 0.5263, Test Acc: 0.5110, Train Loss: 0.6860, Test Loss: 0.6850\n",
      "Epoch: 080, Train Acc: 0.6024, Test Acc: 0.5990, Train Loss: 0.6648, Test Loss: 0.6661\n",
      "Epoch: 090, Train Acc: 0.5209, Test Acc: 0.5000, Train Loss: 0.6390, Test Loss: 0.6490\n",
      "Epoch: 100, Train Acc: 0.6304, Test Acc: 0.5943, Train Loss: 0.6286, Test Loss: 0.6532\n",
      "Epoch: 110, Train Acc: 0.6661, Test Acc: 0.6433, Train Loss: 0.5984, Test Loss: 0.6335\n",
      "Epoch: 120, Train Acc: 0.6520, Test Acc: 0.6367, Train Loss: 0.5968, Test Loss: 0.6177\n",
      "Epoch: 130, Train Acc: 0.7161, Test Acc: 0.6510, Train Loss: 0.5406, Test Loss: 0.6479\n",
      "Epoch: 140, Train Acc: 0.7161, Test Acc: 0.6473, Train Loss: 0.5565, Test Loss: 0.6126\n",
      "20 epochs passed without 0 test loss improvement. \n",
      "Early stopping triggered.\n"
     ]
    },
    {
     "data": {
      "text/html": [
       "<style>\n",
       "    table.wandb td:nth-child(1) { padding: 0 10px; text-align: left ; width: auto;} td:nth-child(2) {text-align: left ; width: 100%}\n",
       "    .wandb-row { display: flex; flex-direction: row; flex-wrap: wrap; justify-content: flex-start; width: 100% }\n",
       "    .wandb-col { display: flex; flex-direction: column; flex-basis: 100%; flex: 1; padding: 10px; }\n",
       "    </style>\n",
       "<div class=\"wandb-row\"><div class=\"wandb-col\"><h3>Run history:</h3><br/><table class=\"wandb\"><tr><td>Test Accuracy</td><td>▂▂▂▂▂▂▂▂▂▂▂▂▂▂▂▂▂▆▂▁▂▇▂▅▁▁▅▅▇▁▆▇▆▇█▇▇▆▆█</td></tr><tr><td>Test F1</td><td>█████████████████▆███▇▁▅██▅▅▇█▆▇▆▆█▇▇▆▆█</td></tr><tr><td>Test Loss</td><td>▆▅▅▅▅▅▅▅▅▅▅▅▅▅▅▅▅▄█▄▄▃▆▃▃▃▃▃▂▄▂▂▁▃▁▃▃▁▄▄</td></tr><tr><td>Test Sensitivity</td><td>█████████████████▃███▄▁▃██▃▃▄▇▃▄▃▄▅▄▄▄▄▅</td></tr><tr><td>Test Specificity</td><td>▁▁▁▁▁▁▁▁▁▁▁▁▁▁▁▁▁▇▁▁▁▇█▇▁▁█▇▇▁▇▇█▇▇▇▇▇▇▇</td></tr><tr><td>Train Accuracy</td><td>▁▁▁▁▁▁▁▁▁▁▁▁▁▁▁▁▁▄▁▁▁▆▁▄▁▁▄▄▆▁▅▆▅▆▇▇▇▇▇█</td></tr><tr><td>Train F1</td><td>█████████████████▅█▇█▇▁▅▇▇▅▅▇▇▆▇▆▇█▇▇▇▇█</td></tr><tr><td>Train Loss</td><td>▇▇▇▇▇▇▇▇▇▇▇▇▇▇▇▇▇▆█▆▆▅▇▅▅▆▅▅▄▅▄▃▄▃▄▃▂▃▂▁</td></tr><tr><td>Train Sensitivity</td><td>█████████████████▃███▄▁▃██▃▃▄▇▄▄▃▄▅▅▄▄▄▅</td></tr><tr><td>Train Specificity</td><td>▁▁▁▁▁▁▁▁▁▁▁▁▁▁▁▁▁▇▁▁▁▇██▁▁██▇▂▇▇█▇▇▇▇██▇</td></tr></table><br/></div><div class=\"wandb-col\"><h3>Run summary:</h3><br/><table class=\"wandb\"><tr><td>Test Accuracy</td><td>0.68833</td></tr><tr><td>Test F1</td><td>0.64217</td></tr><tr><td>Test Loss</td><td>0.67488</td></tr><tr><td>Test Sensitivity</td><td>0.54729</td></tr><tr><td>Test Specificity</td><td>0.83572</td></tr><tr><td>Train Accuracy</td><td>0.75329</td></tr><tr><td>Train F1</td><td>0.72337</td></tr><tr><td>Train Loss</td><td>0.48781</td></tr><tr><td>Train Sensitivity</td><td>0.61275</td></tr><tr><td>Train Specificity</td><td>0.9095</td></tr></table><br/></div></div>"
      ],
      "text/plain": [
       "<IPython.core.display.HTML object>"
      ]
     },
     "metadata": {},
     "output_type": "display_data"
    },
    {
     "data": {
      "text/html": [
       " View run <strong style=\"color:#cdcd00\">deft-sweep-26</strong> at: <a href='https://wandb.ai/dylan-home/pytorch-sweeps-demo/runs/93omqw53' target=\"_blank\">https://wandb.ai/dylan-home/pytorch-sweeps-demo/runs/93omqw53</a><br/>Synced 5 W&B file(s), 0 media file(s), 0 artifact file(s) and 0 other file(s)"
      ],
      "text/plain": [
       "<IPython.core.display.HTML object>"
      ]
     },
     "metadata": {},
     "output_type": "display_data"
    },
    {
     "data": {
      "text/html": [
       "Find logs at: <code>./wandb/run-20250105_162733-93omqw53/logs</code>"
      ],
      "text/plain": [
       "<IPython.core.display.HTML object>"
      ]
     },
     "metadata": {},
     "output_type": "display_data"
    },
    {
     "name": "stderr",
     "output_type": "stream",
     "text": [
      "\u001b[34m\u001b[1mwandb\u001b[0m: Agent Starting Run: 6n6yjbyb with config:\n",
      "\u001b[34m\u001b[1mwandb\u001b[0m: \thidden_channels: 64\n",
      "\u001b[34m\u001b[1mwandb\u001b[0m: \tlearning_rate: 1.3426780129146558e-06\n",
      "Failed to detect the name of this notebook, you can set it manually with the WANDB_NOTEBOOK_NAME environment variable to enable code saving.\n",
      "/usr/lib/python3/dist-packages/requests/__init__.py:87: RequestsDependencyWarning: urllib3 (2.2.3) or chardet (4.0.0) doesn't match a supported version!\n",
      "  warnings.warn(\"urllib3 ({}) or chardet ({}) doesn't match a supported \"\n"
     ]
    },
    {
     "data": {
      "text/html": [
       "wandb version 0.19.1 is available!  To upgrade, please run:\n",
       " $ pip install wandb --upgrade"
      ],
      "text/plain": [
       "<IPython.core.display.HTML object>"
      ]
     },
     "metadata": {},
     "output_type": "display_data"
    },
    {
     "data": {
      "text/html": [
       "Tracking run with wandb version 0.16.4"
      ],
      "text/plain": [
       "<IPython.core.display.HTML object>"
      ]
     },
     "metadata": {},
     "output_type": "display_data"
    },
    {
     "data": {
      "text/html": [
       "Run data is saved locally in <code>/mnt/alphafold-volume-1/dylan2/repos/tb-pnca-gnn/dd_pnca/wandb/run-20250105_163154-6n6yjbyb</code>"
      ],
      "text/plain": [
       "<IPython.core.display.HTML object>"
      ]
     },
     "metadata": {},
     "output_type": "display_data"
    },
    {
     "data": {
      "text/html": [
       "Syncing run <strong><a href='https://wandb.ai/dylan-home/pytorch-sweeps-demo/runs/6n6yjbyb' target=\"_blank\">ethereal-sweep-27</a></strong> to <a href='https://wandb.ai/dylan-home/pytorch-sweeps-demo' target=\"_blank\">Weights & Biases</a> (<a href='https://wandb.me/run' target=\"_blank\">docs</a>)<br/>Sweep page: <a href='https://wandb.ai/dylan-home/pytorch-sweeps-demo/sweeps/93peolwf' target=\"_blank\">https://wandb.ai/dylan-home/pytorch-sweeps-demo/sweeps/93peolwf</a>"
      ],
      "text/plain": [
       "<IPython.core.display.HTML object>"
      ]
     },
     "metadata": {},
     "output_type": "display_data"
    },
    {
     "data": {
      "text/html": [
       " View project at <a href='https://wandb.ai/dylan-home/pytorch-sweeps-demo' target=\"_blank\">https://wandb.ai/dylan-home/pytorch-sweeps-demo</a>"
      ],
      "text/plain": [
       "<IPython.core.display.HTML object>"
      ]
     },
     "metadata": {},
     "output_type": "display_data"
    },
    {
     "data": {
      "text/html": [
       " View sweep at <a href='https://wandb.ai/dylan-home/pytorch-sweeps-demo/sweeps/93peolwf' target=\"_blank\">https://wandb.ai/dylan-home/pytorch-sweeps-demo/sweeps/93peolwf</a>"
      ],
      "text/plain": [
       "<IPython.core.display.HTML object>"
      ]
     },
     "metadata": {},
     "output_type": "display_data"
    },
    {
     "data": {
      "text/html": [
       " View run at <a href='https://wandb.ai/dylan-home/pytorch-sweeps-demo/runs/6n6yjbyb' target=\"_blank\">https://wandb.ai/dylan-home/pytorch-sweeps-demo/runs/6n6yjbyb</a>"
      ],
      "text/plain": [
       "<IPython.core.display.HTML object>"
      ]
     },
     "metadata": {},
     "output_type": "display_data"
    },
    {
     "name": "stdout",
     "output_type": "stream",
     "text": [
      "Using CUDA\n",
      "Early stopping enabled. Patience: 20. Min Delta: 0.\n",
      "Epoch: 010, Train Acc: 0.4736, Test Acc: 0.4890, Train Loss: 2.0037, Test Loss: 1.9571\n",
      "Epoch: 020, Train Acc: 0.4736, Test Acc: 0.4890, Train Loss: 1.4502, Test Loss: 1.4100\n",
      "Epoch: 030, Train Acc: 0.4736, Test Acc: 0.4890, Train Loss: 1.0460, Test Loss: 1.0225\n",
      "Epoch: 040, Train Acc: 0.4736, Test Acc: 0.4890, Train Loss: 0.8216, Test Loss: 0.8081\n",
      "Epoch: 050, Train Acc: 0.4736, Test Acc: 0.4890, Train Loss: 0.7273, Test Loss: 0.7208\n",
      "Epoch: 060, Train Acc: 0.4739, Test Acc: 0.4897, Train Loss: 0.6987, Test Loss: 0.6965\n",
      "Epoch: 070, Train Acc: 0.5093, Test Acc: 0.4880, Train Loss: 0.6934, Test Loss: 0.6937\n",
      "Epoch: 080, Train Acc: 0.5263, Test Acc: 0.5110, Train Loss: 0.6933, Test Loss: 0.6949\n",
      "20 epochs passed without 0 test loss improvement. \n",
      "Early stopping triggered.\n"
     ]
    },
    {
     "data": {
      "text/html": [
       "<style>\n",
       "    table.wandb td:nth-child(1) { padding: 0 10px; text-align: left ; width: auto;} td:nth-child(2) {text-align: left ; width: 100%}\n",
       "    .wandb-row { display: flex; flex-direction: row; flex-wrap: wrap; justify-content: flex-start; width: 100% }\n",
       "    .wandb-col { display: flex; flex-direction: column; flex-basis: 100%; flex: 1; padding: 10px; }\n",
       "    </style>\n",
       "<div class=\"wandb-row\"><div class=\"wandb-col\"><h3>Run history:</h3><br/><table class=\"wandb\"><tr><td>Test Accuracy</td><td>▄▄▄▄▄▄▄▄▄▄▄▄▄▄▄▄▄▄▄▄▄▄▄▄▄▄▄▄█▁▃▄▅▅▅▅▅▅▅▅</td></tr><tr><td>Test F1</td><td>▁▁▁▁▁▁▁▁▁▁▁▁▁▁▁▁▁▁▁▁▁▁▁▁▁▁▁▁▅▇██████████</td></tr><tr><td>Test Loss</td><td>█▇▇▆▆▅▅▄▄▄▃▃▂▂▂▂▂▁▁▁▁▁▁▁▁▁▁▁▁▁▁▁▁▁▁▁▁▁▁▁</td></tr><tr><td>Test Sensitivity</td><td>▁▁▁▁▁▁▁▁▁▁▁▁▁▁▁▁▁▁▁▁▁▁▁▁▁▁▁▁▃▆▇█████████</td></tr><tr><td>Test Specificity</td><td>█████████████████████████████▂▁▁▁▁▁▁▁▁▁▁</td></tr><tr><td>Train Accuracy</td><td>▄▄▄▄▄▄▄▄▄▄▄▄▄▄▄▄▄▄▄▄▄▄▄▄▄▄▄▄█▁▄▆▇▇▇▇▇▇▇▇</td></tr><tr><td>Train F1</td><td>▁▁▁▁▁▁▁▁▁▁▁▁▁▁▁▁▁▁▁▁▁▁▁▁▁▁▁▁▄▇▇█████████</td></tr><tr><td>Train Loss</td><td>██▇▇▆▅▅▄▄▄▃▃▃▂▂▂▂▂▁▁▁▁▁▁▁▁▁▁▁▁▁▁▁▁▁▁▁▁▁▁</td></tr><tr><td>Train Sensitivity</td><td>▁▁▁▁▁▁▁▁▁▁▁▁▁▁▁▁▁▁▁▁▁▁▁▁▁▁▁▁▂▆▇█████████</td></tr><tr><td>Train Specificity</td><td>█████████████████████████████▂▁▁▁▁▁▁▁▁▁▁</td></tr></table><br/></div><div class=\"wandb-col\"><h3>Run summary:</h3><br/><table class=\"wandb\"><tr><td>Test Accuracy</td><td>0.511</td></tr><tr><td>Test F1</td><td>0.67637</td></tr><tr><td>Test Loss</td><td>0.69634</td></tr><tr><td>Test Sensitivity</td><td>1.0</td></tr><tr><td>Test Specificity</td><td>0.0</td></tr><tr><td>Train Accuracy</td><td>0.52643</td></tr><tr><td>Train F1</td><td>0.68975</td></tr><tr><td>Train Loss</td><td>0.69389</td></tr><tr><td>Train Sensitivity</td><td>1.0</td></tr><tr><td>Train Specificity</td><td>0.0</td></tr></table><br/></div></div>"
      ],
      "text/plain": [
       "<IPython.core.display.HTML object>"
      ]
     },
     "metadata": {},
     "output_type": "display_data"
    },
    {
     "data": {
      "text/html": [
       " View run <strong style=\"color:#cdcd00\">ethereal-sweep-27</strong> at: <a href='https://wandb.ai/dylan-home/pytorch-sweeps-demo/runs/6n6yjbyb' target=\"_blank\">https://wandb.ai/dylan-home/pytorch-sweeps-demo/runs/6n6yjbyb</a><br/>Synced 5 W&B file(s), 0 media file(s), 0 artifact file(s) and 0 other file(s)"
      ],
      "text/plain": [
       "<IPython.core.display.HTML object>"
      ]
     },
     "metadata": {},
     "output_type": "display_data"
    },
    {
     "data": {
      "text/html": [
       "Find logs at: <code>./wandb/run-20250105_163154-6n6yjbyb/logs</code>"
      ],
      "text/plain": [
       "<IPython.core.display.HTML object>"
      ]
     },
     "metadata": {},
     "output_type": "display_data"
    },
    {
     "name": "stderr",
     "output_type": "stream",
     "text": [
      "\u001b[34m\u001b[1mwandb\u001b[0m: Agent Starting Run: zy63m1yd with config:\n",
      "\u001b[34m\u001b[1mwandb\u001b[0m: \thidden_channels: 64\n",
      "\u001b[34m\u001b[1mwandb\u001b[0m: \tlearning_rate: 1.9280154658889324e-06\n",
      "Failed to detect the name of this notebook, you can set it manually with the WANDB_NOTEBOOK_NAME environment variable to enable code saving.\n",
      "/usr/lib/python3/dist-packages/requests/__init__.py:87: RequestsDependencyWarning: urllib3 (2.2.3) or chardet (4.0.0) doesn't match a supported version!\n",
      "  warnings.warn(\"urllib3 ({}) or chardet ({}) doesn't match a supported \"\n"
     ]
    },
    {
     "data": {
      "text/html": [
       "wandb version 0.19.1 is available!  To upgrade, please run:\n",
       " $ pip install wandb --upgrade"
      ],
      "text/plain": [
       "<IPython.core.display.HTML object>"
      ]
     },
     "metadata": {},
     "output_type": "display_data"
    },
    {
     "data": {
      "text/html": [
       "Tracking run with wandb version 0.16.4"
      ],
      "text/plain": [
       "<IPython.core.display.HTML object>"
      ]
     },
     "metadata": {},
     "output_type": "display_data"
    },
    {
     "data": {
      "text/html": [
       "Run data is saved locally in <code>/mnt/alphafold-volume-1/dylan2/repos/tb-pnca-gnn/dd_pnca/wandb/run-20250105_163439-zy63m1yd</code>"
      ],
      "text/plain": [
       "<IPython.core.display.HTML object>"
      ]
     },
     "metadata": {},
     "output_type": "display_data"
    },
    {
     "data": {
      "text/html": [
       "Syncing run <strong><a href='https://wandb.ai/dylan-home/pytorch-sweeps-demo/runs/zy63m1yd' target=\"_blank\">lyric-sweep-28</a></strong> to <a href='https://wandb.ai/dylan-home/pytorch-sweeps-demo' target=\"_blank\">Weights & Biases</a> (<a href='https://wandb.me/run' target=\"_blank\">docs</a>)<br/>Sweep page: <a href='https://wandb.ai/dylan-home/pytorch-sweeps-demo/sweeps/93peolwf' target=\"_blank\">https://wandb.ai/dylan-home/pytorch-sweeps-demo/sweeps/93peolwf</a>"
      ],
      "text/plain": [
       "<IPython.core.display.HTML object>"
      ]
     },
     "metadata": {},
     "output_type": "display_data"
    },
    {
     "data": {
      "text/html": [
       " View project at <a href='https://wandb.ai/dylan-home/pytorch-sweeps-demo' target=\"_blank\">https://wandb.ai/dylan-home/pytorch-sweeps-demo</a>"
      ],
      "text/plain": [
       "<IPython.core.display.HTML object>"
      ]
     },
     "metadata": {},
     "output_type": "display_data"
    },
    {
     "data": {
      "text/html": [
       " View sweep at <a href='https://wandb.ai/dylan-home/pytorch-sweeps-demo/sweeps/93peolwf' target=\"_blank\">https://wandb.ai/dylan-home/pytorch-sweeps-demo/sweeps/93peolwf</a>"
      ],
      "text/plain": [
       "<IPython.core.display.HTML object>"
      ]
     },
     "metadata": {},
     "output_type": "display_data"
    },
    {
     "data": {
      "text/html": [
       " View run at <a href='https://wandb.ai/dylan-home/pytorch-sweeps-demo/runs/zy63m1yd' target=\"_blank\">https://wandb.ai/dylan-home/pytorch-sweeps-demo/runs/zy63m1yd</a>"
      ],
      "text/plain": [
       "<IPython.core.display.HTML object>"
      ]
     },
     "metadata": {},
     "output_type": "display_data"
    },
    {
     "name": "stdout",
     "output_type": "stream",
     "text": [
      "Using CUDA\n",
      "Early stopping enabled. Patience: 20. Min Delta: 0.\n",
      "Epoch: 010, Train Acc: 0.4736, Test Acc: 0.4890, Train Loss: 1.7414, Test Loss: 1.7012\n",
      "Epoch: 020, Train Acc: 0.4736, Test Acc: 0.4890, Train Loss: 1.0899, Test Loss: 1.0625\n",
      "Epoch: 030, Train Acc: 0.4736, Test Acc: 0.4890, Train Loss: 0.7827, Test Loss: 0.7718\n",
      "Epoch: 040, Train Acc: 0.4736, Test Acc: 0.4890, Train Loss: 0.7033, Test Loss: 0.7002\n",
      "Epoch: 050, Train Acc: 0.5210, Test Acc: 0.5010, Train Loss: 0.6931, Test Loss: 0.6938\n",
      "Epoch: 060, Train Acc: 0.5263, Test Acc: 0.5110, Train Loss: 0.6936, Test Loss: 0.6958\n",
      "20 epochs passed without 0 test loss improvement. \n",
      "Early stopping triggered.\n"
     ]
    },
    {
     "data": {
      "text/html": [
       "<style>\n",
       "    table.wandb td:nth-child(1) { padding: 0 10px; text-align: left ; width: auto;} td:nth-child(2) {text-align: left ; width: 100%}\n",
       "    .wandb-row { display: flex; flex-direction: row; flex-wrap: wrap; justify-content: flex-start; width: 100% }\n",
       "    .wandb-col { display: flex; flex-direction: column; flex-basis: 100%; flex: 1; padding: 10px; }\n",
       "    </style>\n",
       "<div class=\"wandb-row\"><div class=\"wandb-col\"><h3>Run history:</h3><br/><table class=\"wandb\"><tr><td>Test Accuracy</td><td>▃▃▃▃▃▃▃▃▃▃▃▃▃▃▃▃▃▃▃▃▃▃▃▃▃▃█▁▃▄▄▄▄▄▄▄▄▄▄▄</td></tr><tr><td>Test F1</td><td>▁▁▁▁▁▁▁▁▁▁▁▁▁▁▁▁▁▁▁▁▁▁▁▁▁▁▄▇████████████</td></tr><tr><td>Test Loss</td><td>██▇▆▆▅▅▄▄▃▃▃▂▂▂▂▁▁▁▁▁▁▁▁▁▁▁▁▁▁▁▁▁▁▁▁▁▁▁▁</td></tr><tr><td>Test Sensitivity</td><td>▁▁▁▁▁▁▁▁▁▁▁▁▁▁▁▁▁▁▁▁▁▁▁▁▁▁▂▇████████████</td></tr><tr><td>Test Specificity</td><td>███████████████████████████▁▁▁▁▁▁▁▁▁▁▁▁▁</td></tr><tr><td>Train Accuracy</td><td>▂▂▂▂▂▂▂▂▂▂▂▂▂▂▂▂▂▂▂▂▂▂▂▂▂▂█▁▆▇▇▇▇▇▇▇▇▇▇▇</td></tr><tr><td>Train F1</td><td>▁▁▁▁▁▁▁▁▁▁▁▁▁▁▁▁▁▁▁▁▁▁▁▁▁▁▃▇████████████</td></tr><tr><td>Train Loss</td><td>██▇▆▆▅▅▄▄▃▃▃▂▂▂▂▁▁▁▁▁▁▁▁▁▁▁▁▁▁▁▁▁▁▁▁▁▁▁▁</td></tr><tr><td>Train Sensitivity</td><td>▁▁▁▁▁▁▁▁▁▁▁▁▁▁▁▁▁▁▁▁▁▁▁▁▁▁▂▇████████████</td></tr><tr><td>Train Specificity</td><td>███████████████████████████▁▁▁▁▁▁▁▁▁▁▁▁▁</td></tr></table><br/></div><div class=\"wandb-col\"><h3>Run summary:</h3><br/><table class=\"wandb\"><tr><td>Test Accuracy</td><td>0.511</td></tr><tr><td>Test F1</td><td>0.67637</td></tr><tr><td>Test Loss</td><td>0.6962</td></tr><tr><td>Test Sensitivity</td><td>1.0</td></tr><tr><td>Test Specificity</td><td>0.0</td></tr><tr><td>Train Accuracy</td><td>0.52643</td></tr><tr><td>Train F1</td><td>0.68975</td></tr><tr><td>Train Loss</td><td>0.69385</td></tr><tr><td>Train Sensitivity</td><td>1.0</td></tr><tr><td>Train Specificity</td><td>0.0</td></tr></table><br/></div></div>"
      ],
      "text/plain": [
       "<IPython.core.display.HTML object>"
      ]
     },
     "metadata": {},
     "output_type": "display_data"
    },
    {
     "data": {
      "text/html": [
       " View run <strong style=\"color:#cdcd00\">lyric-sweep-28</strong> at: <a href='https://wandb.ai/dylan-home/pytorch-sweeps-demo/runs/zy63m1yd' target=\"_blank\">https://wandb.ai/dylan-home/pytorch-sweeps-demo/runs/zy63m1yd</a><br/>Synced 5 W&B file(s), 0 media file(s), 0 artifact file(s) and 0 other file(s)"
      ],
      "text/plain": [
       "<IPython.core.display.HTML object>"
      ]
     },
     "metadata": {},
     "output_type": "display_data"
    },
    {
     "data": {
      "text/html": [
       "Find logs at: <code>./wandb/run-20250105_163439-zy63m1yd/logs</code>"
      ],
      "text/plain": [
       "<IPython.core.display.HTML object>"
      ]
     },
     "metadata": {},
     "output_type": "display_data"
    },
    {
     "name": "stderr",
     "output_type": "stream",
     "text": [
      "\u001b[34m\u001b[1mwandb\u001b[0m: Agent Starting Run: 7vqy2kaw with config:\n",
      "\u001b[34m\u001b[1mwandb\u001b[0m: \thidden_channels: 256\n",
      "\u001b[34m\u001b[1mwandb\u001b[0m: \tlearning_rate: 2.2152626766356535e-05\n",
      "Failed to detect the name of this notebook, you can set it manually with the WANDB_NOTEBOOK_NAME environment variable to enable code saving.\n",
      "/usr/lib/python3/dist-packages/requests/__init__.py:87: RequestsDependencyWarning: urllib3 (2.2.3) or chardet (4.0.0) doesn't match a supported version!\n",
      "  warnings.warn(\"urllib3 ({}) or chardet ({}) doesn't match a supported \"\n"
     ]
    },
    {
     "data": {
      "text/html": [
       "wandb version 0.19.1 is available!  To upgrade, please run:\n",
       " $ pip install wandb --upgrade"
      ],
      "text/plain": [
       "<IPython.core.display.HTML object>"
      ]
     },
     "metadata": {},
     "output_type": "display_data"
    },
    {
     "data": {
      "text/html": [
       "Tracking run with wandb version 0.16.4"
      ],
      "text/plain": [
       "<IPython.core.display.HTML object>"
      ]
     },
     "metadata": {},
     "output_type": "display_data"
    },
    {
     "data": {
      "text/html": [
       "Run data is saved locally in <code>/mnt/alphafold-volume-1/dylan2/repos/tb-pnca-gnn/dd_pnca/wandb/run-20250105_163647-7vqy2kaw</code>"
      ],
      "text/plain": [
       "<IPython.core.display.HTML object>"
      ]
     },
     "metadata": {},
     "output_type": "display_data"
    },
    {
     "data": {
      "text/html": [
       "Syncing run <strong><a href='https://wandb.ai/dylan-home/pytorch-sweeps-demo/runs/7vqy2kaw' target=\"_blank\">major-sweep-29</a></strong> to <a href='https://wandb.ai/dylan-home/pytorch-sweeps-demo' target=\"_blank\">Weights & Biases</a> (<a href='https://wandb.me/run' target=\"_blank\">docs</a>)<br/>Sweep page: <a href='https://wandb.ai/dylan-home/pytorch-sweeps-demo/sweeps/93peolwf' target=\"_blank\">https://wandb.ai/dylan-home/pytorch-sweeps-demo/sweeps/93peolwf</a>"
      ],
      "text/plain": [
       "<IPython.core.display.HTML object>"
      ]
     },
     "metadata": {},
     "output_type": "display_data"
    },
    {
     "data": {
      "text/html": [
       " View project at <a href='https://wandb.ai/dylan-home/pytorch-sweeps-demo' target=\"_blank\">https://wandb.ai/dylan-home/pytorch-sweeps-demo</a>"
      ],
      "text/plain": [
       "<IPython.core.display.HTML object>"
      ]
     },
     "metadata": {},
     "output_type": "display_data"
    },
    {
     "data": {
      "text/html": [
       " View sweep at <a href='https://wandb.ai/dylan-home/pytorch-sweeps-demo/sweeps/93peolwf' target=\"_blank\">https://wandb.ai/dylan-home/pytorch-sweeps-demo/sweeps/93peolwf</a>"
      ],
      "text/plain": [
       "<IPython.core.display.HTML object>"
      ]
     },
     "metadata": {},
     "output_type": "display_data"
    },
    {
     "data": {
      "text/html": [
       " View run at <a href='https://wandb.ai/dylan-home/pytorch-sweeps-demo/runs/7vqy2kaw' target=\"_blank\">https://wandb.ai/dylan-home/pytorch-sweeps-demo/runs/7vqy2kaw</a>"
      ],
      "text/plain": [
       "<IPython.core.display.HTML object>"
      ]
     },
     "metadata": {},
     "output_type": "display_data"
    },
    {
     "name": "stdout",
     "output_type": "stream",
     "text": [
      "Using CUDA\n",
      "Early stopping enabled. Patience: 20. Min Delta: 0.\n",
      "Epoch: 010, Train Acc: 0.5230, Test Acc: 0.5100, Train Loss: 0.6908, Test Loss: 0.6909\n",
      "Epoch: 020, Train Acc: 0.5264, Test Acc: 0.5110, Train Loss: 0.6905, Test Loss: 0.6913\n",
      "Epoch: 030, Train Acc: 0.5260, Test Acc: 0.5110, Train Loss: 0.6874, Test Loss: 0.6862\n",
      "Epoch: 040, Train Acc: 0.6879, Test Acc: 0.6743, Train Loss: 0.6857, Test Loss: 0.6809\n",
      "Epoch: 050, Train Acc: 0.6527, Test Acc: 0.6793, Train Loss: 0.6847, Test Loss: 0.6784\n",
      "Epoch: 060, Train Acc: 0.6911, Test Acc: 0.6800, Train Loss: 0.6813, Test Loss: 0.6751\n",
      "Epoch: 070, Train Acc: 0.6893, Test Acc: 0.6813, Train Loss: 0.6789, Test Loss: 0.6719\n",
      "Epoch: 080, Train Acc: 0.5213, Test Acc: 0.5083, Train Loss: 0.6780, Test Loss: 0.6749\n",
      "Epoch: 090, Train Acc: 0.4893, Test Acc: 0.4770, Train Loss: 0.6742, Test Loss: 0.6671\n",
      "Epoch: 100, Train Acc: 0.5264, Test Acc: 0.5110, Train Loss: 0.6834, Test Loss: 0.6830\n",
      "Epoch: 110, Train Acc: 0.6527, Test Acc: 0.6783, Train Loss: 0.6733, Test Loss: 0.6624\n",
      "Epoch: 120, Train Acc: 0.6830, Test Acc: 0.6830, Train Loss: 0.6676, Test Loss: 0.6573\n",
      "Epoch: 130, Train Acc: 0.6099, Test Acc: 0.6570, Train Loss: 0.6710, Test Loss: 0.6575\n",
      "Epoch: 140, Train Acc: 0.5099, Test Acc: 0.4910, Train Loss: 0.6645, Test Loss: 0.6591\n",
      "Epoch: 150, Train Acc: 0.4963, Test Acc: 0.4777, Train Loss: 0.6582, Test Loss: 0.6508\n",
      "Epoch: 160, Train Acc: 0.6639, Test Acc: 0.6803, Train Loss: 0.6610, Test Loss: 0.6469\n",
      "Epoch: 170, Train Acc: 0.4980, Test Acc: 0.4913, Train Loss: 0.6573, Test Loss: 0.6515\n",
      "Epoch: 180, Train Acc: 0.7104, Test Acc: 0.6953, Train Loss: 0.6514, Test Loss: 0.6399\n",
      "Epoch: 190, Train Acc: 0.7191, Test Acc: 0.6923, Train Loss: 0.6476, Test Loss: 0.6376\n",
      "Epoch: 200, Train Acc: 0.5140, Test Acc: 0.4943, Train Loss: 0.6555, Test Loss: 0.6532\n",
      "Epoch: 210, Train Acc: 0.6916, Test Acc: 0.6937, Train Loss: 0.6446, Test Loss: 0.6306\n",
      "Epoch: 220, Train Acc: 0.7310, Test Acc: 0.6923, Train Loss: 0.6388, Test Loss: 0.6291\n",
      "Epoch: 230, Train Acc: 0.6943, Test Acc: 0.6943, Train Loss: 0.6384, Test Loss: 0.6240\n",
      "Epoch: 240, Train Acc: 0.5207, Test Acc: 0.5007, Train Loss: 0.6607, Test Loss: 0.6655\n",
      "Epoch: 250, Train Acc: 0.5084, Test Acc: 0.4893, Train Loss: 0.6318, Test Loss: 0.6275\n",
      "Epoch: 260, Train Acc: 0.6071, Test Acc: 0.6607, Train Loss: 0.6555, Test Loss: 0.6313\n",
      "Epoch: 270, Train Acc: 0.6839, Test Acc: 0.6910, Train Loss: 0.6275, Test Loss: 0.6116\n",
      "Epoch: 280, Train Acc: 0.5214, Test Acc: 0.4923, Train Loss: 0.6235, Test Loss: 0.6198\n",
      "Epoch: 290, Train Acc: 0.7291, Test Acc: 0.7117, Train Loss: 0.6155, Test Loss: 0.6057\n",
      "Epoch: 300, Train Acc: 0.6697, Test Acc: 0.6860, Train Loss: 0.6229, Test Loss: 0.6051\n",
      "Epoch: 310, Train Acc: 0.6494, Test Acc: 0.6833, Train Loss: 0.6257, Test Loss: 0.6060\n",
      "Epoch: 320, Train Acc: 0.6986, Test Acc: 0.6990, Train Loss: 0.6097, Test Loss: 0.5967\n",
      "Epoch: 330, Train Acc: 0.6776, Test Acc: 0.6910, Train Loss: 0.6117, Test Loss: 0.5961\n",
      "Epoch: 340, Train Acc: 0.7471, Test Acc: 0.7017, Train Loss: 0.5968, Test Loss: 0.5936\n",
      "Epoch: 350, Train Acc: 0.7376, Test Acc: 0.6953, Train Loss: 0.6009, Test Loss: 0.6048\n",
      "Epoch: 360, Train Acc: 0.5321, Test Acc: 0.5070, Train Loss: 0.6024, Test Loss: 0.6097\n",
      "Epoch: 370, Train Acc: 0.7193, Test Acc: 0.7150, Train Loss: 0.5879, Test Loss: 0.5797\n",
      "Epoch: 380, Train Acc: 0.6807, Test Acc: 0.6993, Train Loss: 0.5967, Test Loss: 0.5829\n",
      "Epoch: 390, Train Acc: 0.7524, Test Acc: 0.7243, Train Loss: 0.5754, Test Loss: 0.5735\n",
      "Epoch: 400, Train Acc: 0.7216, Test Acc: 0.7153, Train Loss: 0.5764, Test Loss: 0.5714\n"
     ]
    },
    {
     "data": {
      "text/html": [
       "<style>\n",
       "    table.wandb td:nth-child(1) { padding: 0 10px; text-align: left ; width: auto;} td:nth-child(2) {text-align: left ; width: 100%}\n",
       "    .wandb-row { display: flex; flex-direction: row; flex-wrap: wrap; justify-content: flex-start; width: 100% }\n",
       "    .wandb-col { display: flex; flex-direction: column; flex-basis: 100%; flex: 1; padding: 10px; }\n",
       "    </style>\n",
       "<div class=\"wandb-row\"><div class=\"wandb-col\"><h3>Run history:</h3><br/><table class=\"wandb\"><tr><td>Test Accuracy</td><td>▂▃▁▁▂▂▁▄▂▁▁▂▁▇▁▂▂▇▁▁▆▇▁▆▇▂▇▇▇▇█▇▇██▇▇▇██</td></tr><tr><td>Test F1</td><td>▇▁▆▆▇▇▇▂▇▇▆▇▆▇▇▇▇▇▆▇▆▇▇▆▆▇█▇█▇▇█▇███▆▇█▇</td></tr><tr><td>Test Loss</td><td>███▇█▇▇▇█▇▆▇▆▆▆▆▆▅▅▅▅▄▅▄▄▅▄▃▃▃▃▃▂▂▂▃▃▂▁▁</td></tr><tr><td>Test Sensitivity</td><td>█▁▅▆██▇▁█▇▆█▆▄▇▇▇▅▆▇▃▄▇▃▄▇▆▄▆▅▅▆▅▆▅▆▄▄▅▅</td></tr><tr><td>Test Specificity</td><td>▁█▃▂▁▁▂█▁▁▂▁▃▇▁▁▁▆▂▂▇▇▂▇▇▁▆▇▅▇▇▅▆▆▇▅▇▇▇▇</td></tr><tr><td>Train Accuracy</td><td>▃▂▁▁▃▂▂▂▃▂▂▂▂▆▂▂▂▇▂▂▅▆▂▅▅▂█▆▇▇██████▅▆█▇</td></tr><tr><td>Train F1</td><td>▇▁▆▆▇▇▇▁▇▇▆▇▆▆▇▇▇▇▆▇▅▆▇▅▅▇█▆█▇▇███▇█▅▆▇▇</td></tr><tr><td>Train Loss</td><td>█████▇▇█▇▇▇▇▆▆▆▆▆▆▅▅▆▅▅▅▅▅▄▄▃▃▃▃▂▂▂▂▄▂▁▁</td></tr><tr><td>Train Sensitivity</td><td>█▁▅▆██▇▁█▇▆█▆▄▇██▅▆▇▃▄▇▃▃█▆▄▆▅▅▇▅▆▅▇▃▄▅▅</td></tr><tr><td>Train Specificity</td><td>▁█▃▂▁▁▁█▁▁▂▁▃▇▁▁▁▇▂▂█▇▂██▁▇█▆▇▇▅▇▆▇▅██▇▇</td></tr></table><br/></div><div class=\"wandb-col\"><h3>Run summary:</h3><br/><table class=\"wandb\"><tr><td>Test Accuracy</td><td>0.71533</td></tr><tr><td>Test F1</td><td>0.6728</td></tr><tr><td>Test Loss</td><td>0.5714</td></tr><tr><td>Test Sensitivity</td><td>0.57273</td></tr><tr><td>Test Specificity</td><td>0.86435</td></tr><tr><td>Train Accuracy</td><td>0.72157</td></tr><tr><td>Train F1</td><td>0.67326</td></tr><tr><td>Train Loss</td><td>0.57642</td></tr><tr><td>Train Sensitivity</td><td>0.54491</td></tr><tr><td>Train Specificity</td><td>0.91795</td></tr></table><br/></div></div>"
      ],
      "text/plain": [
       "<IPython.core.display.HTML object>"
      ]
     },
     "metadata": {},
     "output_type": "display_data"
    },
    {
     "data": {
      "text/html": [
       " View run <strong style=\"color:#cdcd00\">major-sweep-29</strong> at: <a href='https://wandb.ai/dylan-home/pytorch-sweeps-demo/runs/7vqy2kaw' target=\"_blank\">https://wandb.ai/dylan-home/pytorch-sweeps-demo/runs/7vqy2kaw</a><br/>Synced 5 W&B file(s), 0 media file(s), 0 artifact file(s) and 0 other file(s)"
      ],
      "text/plain": [
       "<IPython.core.display.HTML object>"
      ]
     },
     "metadata": {},
     "output_type": "display_data"
    },
    {
     "data": {
      "text/html": [
       "Find logs at: <code>./wandb/run-20250105_163647-7vqy2kaw/logs</code>"
      ],
      "text/plain": [
       "<IPython.core.display.HTML object>"
      ]
     },
     "metadata": {},
     "output_type": "display_data"
    },
    {
     "name": "stderr",
     "output_type": "stream",
     "text": [
      "\u001b[34m\u001b[1mwandb\u001b[0m: Sweep Agent: Waiting for job.\n",
      "500 response executing GraphQL.\n",
      "{\"errors\":[{\"message\":\"Post \\\"http://anaconda2.default.svc.cluster.local/search\\\": read tcp 10.52.110.4:41234-\\u003e10.55.247.53:80: read: connection reset by peer\",\"path\":[\"agentHeartbeat\"]}],\"data\":{\"agentHeartbeat\":null}}\n",
      "\u001b[34m\u001b[1mwandb\u001b[0m: \u001b[32m\u001b[41mERROR\u001b[0m Error while calling W&B API: Post \"http://anaconda2.default.svc.cluster.local/search\": read tcp 10.52.110.4:41234->10.55.247.53:80: read: connection reset by peer (<Response [500]>)\n",
      "\u001b[34m\u001b[1mwandb\u001b[0m: Job received.\n",
      "\u001b[34m\u001b[1mwandb\u001b[0m: Agent Starting Run: mbtjo08c with config:\n",
      "\u001b[34m\u001b[1mwandb\u001b[0m: \thidden_channels: 64\n",
      "\u001b[34m\u001b[1mwandb\u001b[0m: \tlearning_rate: 0.0003563139782809319\n",
      "Failed to detect the name of this notebook, you can set it manually with the WANDB_NOTEBOOK_NAME environment variable to enable code saving.\n",
      "/usr/lib/python3/dist-packages/requests/__init__.py:87: RequestsDependencyWarning: urllib3 (2.2.3) or chardet (4.0.0) doesn't match a supported version!\n",
      "  warnings.warn(\"urllib3 ({}) or chardet ({}) doesn't match a supported \"\n"
     ]
    },
    {
     "data": {
      "text/html": [
       "wandb version 0.19.1 is available!  To upgrade, please run:\n",
       " $ pip install wandb --upgrade"
      ],
      "text/plain": [
       "<IPython.core.display.HTML object>"
      ]
     },
     "metadata": {},
     "output_type": "display_data"
    },
    {
     "data": {
      "text/html": [
       "Tracking run with wandb version 0.16.4"
      ],
      "text/plain": [
       "<IPython.core.display.HTML object>"
      ]
     },
     "metadata": {},
     "output_type": "display_data"
    },
    {
     "data": {
      "text/html": [
       "Run data is saved locally in <code>/mnt/alphafold-volume-1/dylan2/repos/tb-pnca-gnn/dd_pnca/wandb/run-20250105_165057-mbtjo08c</code>"
      ],
      "text/plain": [
       "<IPython.core.display.HTML object>"
      ]
     },
     "metadata": {},
     "output_type": "display_data"
    },
    {
     "data": {
      "text/html": [
       "Syncing run <strong><a href='https://wandb.ai/dylan-home/pytorch-sweeps-demo/runs/mbtjo08c' target=\"_blank\">glorious-sweep-30</a></strong> to <a href='https://wandb.ai/dylan-home/pytorch-sweeps-demo' target=\"_blank\">Weights & Biases</a> (<a href='https://wandb.me/run' target=\"_blank\">docs</a>)<br/>Sweep page: <a href='https://wandb.ai/dylan-home/pytorch-sweeps-demo/sweeps/93peolwf' target=\"_blank\">https://wandb.ai/dylan-home/pytorch-sweeps-demo/sweeps/93peolwf</a>"
      ],
      "text/plain": [
       "<IPython.core.display.HTML object>"
      ]
     },
     "metadata": {},
     "output_type": "display_data"
    },
    {
     "data": {
      "text/html": [
       " View project at <a href='https://wandb.ai/dylan-home/pytorch-sweeps-demo' target=\"_blank\">https://wandb.ai/dylan-home/pytorch-sweeps-demo</a>"
      ],
      "text/plain": [
       "<IPython.core.display.HTML object>"
      ]
     },
     "metadata": {},
     "output_type": "display_data"
    },
    {
     "data": {
      "text/html": [
       " View sweep at <a href='https://wandb.ai/dylan-home/pytorch-sweeps-demo/sweeps/93peolwf' target=\"_blank\">https://wandb.ai/dylan-home/pytorch-sweeps-demo/sweeps/93peolwf</a>"
      ],
      "text/plain": [
       "<IPython.core.display.HTML object>"
      ]
     },
     "metadata": {},
     "output_type": "display_data"
    },
    {
     "data": {
      "text/html": [
       " View run at <a href='https://wandb.ai/dylan-home/pytorch-sweeps-demo/runs/mbtjo08c' target=\"_blank\">https://wandb.ai/dylan-home/pytorch-sweeps-demo/runs/mbtjo08c</a>"
      ],
      "text/plain": [
       "<IPython.core.display.HTML object>"
      ]
     },
     "metadata": {},
     "output_type": "display_data"
    },
    {
     "name": "stdout",
     "output_type": "stream",
     "text": [
      "Using CUDA\n",
      "Early stopping enabled. Patience: 20. Min Delta: 0.\n",
      "Epoch: 010, Train Acc: 0.5020, Test Acc: 0.4950, Train Loss: 0.6915, Test Loss: 0.6909\n",
      "Epoch: 020, Train Acc: 0.5263, Test Acc: 0.5110, Train Loss: 0.6885, Test Loss: 0.6889\n",
      "Epoch: 030, Train Acc: 0.5261, Test Acc: 0.5110, Train Loss: 0.6864, Test Loss: 0.6871\n",
      "Epoch: 040, Train Acc: 0.5257, Test Acc: 0.5110, Train Loss: 0.6822, Test Loss: 0.6846\n",
      "Epoch: 050, Train Acc: 0.6894, Test Acc: 0.6910, Train Loss: 0.6719, Test Loss: 0.6712\n",
      "Epoch: 060, Train Acc: 0.5261, Test Acc: 0.5123, Train Loss: 0.6672, Test Loss: 0.6694\n",
      "Epoch: 070, Train Acc: 0.6783, Test Acc: 0.6880, Train Loss: 0.6473, Test Loss: 0.6434\n",
      "Epoch: 080, Train Acc: 0.5357, Test Acc: 0.5187, Train Loss: 0.6304, Test Loss: 0.6292\n",
      "Epoch: 090, Train Acc: 0.6246, Test Acc: 0.6590, Train Loss: 0.6314, Test Loss: 0.6222\n",
      "Epoch: 100, Train Acc: 0.6216, Test Acc: 0.6530, Train Loss: 0.6309, Test Loss: 0.6182\n",
      "Epoch: 110, Train Acc: 0.7566, Test Acc: 0.7247, Train Loss: 0.5845, Test Loss: 0.5875\n",
      "Epoch: 120, Train Acc: 0.6500, Test Acc: 0.6733, Train Loss: 0.6042, Test Loss: 0.5991\n",
      "Epoch: 130, Train Acc: 0.7274, Test Acc: 0.7130, Train Loss: 0.5534, Test Loss: 0.5595\n",
      "Epoch: 140, Train Acc: 0.7271, Test Acc: 0.7090, Train Loss: 0.5495, Test Loss: 0.5594\n",
      "Epoch: 150, Train Acc: 0.5440, Test Acc: 0.5107, Train Loss: 0.5853, Test Loss: 0.6178\n",
      "Epoch: 160, Train Acc: 0.7750, Test Acc: 0.7367, Train Loss: 0.5120, Test Loss: 0.5354\n",
      "Epoch: 170, Train Acc: 0.6847, Test Acc: 0.6833, Train Loss: 0.5797, Test Loss: 0.6000\n",
      "Epoch: 180, Train Acc: 0.7383, Test Acc: 0.7140, Train Loss: 0.4997, Test Loss: 0.5348\n",
      "Epoch: 190, Train Acc: 0.7956, Test Acc: 0.7447, Train Loss: 0.4701, Test Loss: 0.5208\n",
      "Epoch: 200, Train Acc: 0.7540, Test Acc: 0.7193, Train Loss: 0.4823, Test Loss: 0.5278\n",
      "Epoch: 210, Train Acc: 0.7777, Test Acc: 0.7393, Train Loss: 0.4517, Test Loss: 0.5106\n",
      "Epoch: 220, Train Acc: 0.8026, Test Acc: 0.7497, Train Loss: 0.4388, Test Loss: 0.5095\n",
      "Epoch: 230, Train Acc: 0.8146, Test Acc: 0.7580, Train Loss: 0.4384, Test Loss: 0.5213\n",
      "Epoch: 240, Train Acc: 0.7427, Test Acc: 0.7193, Train Loss: 0.4943, Test Loss: 0.5621\n",
      "20 epochs passed without 0 test loss improvement. \n",
      "Early stopping triggered.\n"
     ]
    },
    {
     "data": {
      "text/html": [
       "<style>\n",
       "    table.wandb td:nth-child(1) { padding: 0 10px; text-align: left ; width: auto;} td:nth-child(2) {text-align: left ; width: 100%}\n",
       "    .wandb-row { display: flex; flex-direction: row; flex-wrap: wrap; justify-content: flex-start; width: 100% }\n",
       "    .wandb-col { display: flex; flex-direction: column; flex-basis: 100%; flex: 1; padding: 10px; }\n",
       "    </style>\n",
       "<div class=\"wandb-row\"><div class=\"wandb-col\"><h3>Run history:</h3><br/><table class=\"wandb\"><tr><td>Test Accuracy</td><td>▂▂▂▂▁▅▂▂▁▃▂▆▆▇▅▇▅▆▆▆▆▇▇▇█▂▇▇██▇█▇▇▇▇█▇▇█</td></tr><tr><td>Test F1</td><td>▇▇▇▇▇▅▇▇▆▁▇▆▇▇▅▇▄▇▇▅▆▇▇██▇█▇████▇▇█▇█▇▇█</td></tr><tr><td>Test Loss</td><td>███████▇▇█▇▆▆▅▅▅▆▄▄▄▃▃▃▃▃▅▄▂▂▂▂▂▁▁▄▁▂▂▃▁</td></tr><tr><td>Test Sensitivity</td><td>█████▃██▇▁█▄▆▆▃▆▃▅▄▃▄▅▅▆▆█▇▅▆▆▆▆▅▅▇▅▆▅▄▆</td></tr><tr><td>Test Specificity</td><td>▁▁▁▁▁▇▁▁▁█▁▇▅▆█▆█▇▇█▇▇▇▆▆▁▅▇▆▆▇▆▇▇▅▇▆▇▇▆</td></tr><tr><td>Train Accuracy</td><td>▁▁▁▁▁▄▁▁▁▂▁▅▆▆▄▆▃▆▆▄▆▆▆▇▇▂▇▆▇▇▇█▇▇▇▇█▆▆█</td></tr><tr><td>Train F1</td><td>▆▆▆▆▆▄▆▆▆▁▆▆▇▇▄▇▄▆▆▅▆▇▆██▆█▆████▇▇█▇█▇▆█</td></tr><tr><td>Train Loss</td><td>████████▇█▇▇▇▆▆▆▇▅▅▆▅▄▄▄▄▅▄▃▃▂▂▂▂▂▃▁▁▂▃▁</td></tr><tr><td>Train Sensitivity</td><td>█████▃██▇▁█▄▆▆▃▆▂▅▅▃▄▅▅▆▇█▇▅▆▆▆▇▆▅▇▆▇▅▄▇</td></tr><tr><td>Train Specificity</td><td>▁▁▁▁▁█▁▁▁█▁▇▆▇█▇█▇▇█▇▇▇▇▆▂▅█▇▇▇▆▇▇▅▇▇██▇</td></tr></table><br/></div><div class=\"wandb-col\"><h3>Run summary:</h3><br/><table class=\"wandb\"><tr><td>Test Accuracy</td><td>0.51033</td></tr><tr><td>Test F1</td><td>0.67579</td></tr><tr><td>Test Loss</td><td>1.00703</td></tr><tr><td>Test Sensitivity</td><td>0.9987</td></tr><tr><td>Test Specificity</td><td>0.0</td></tr><tr><td>Train Accuracy</td><td>0.52614</td></tr><tr><td>Train F1</td><td>0.68951</td></tr><tr><td>Train Loss</td><td>0.88144</td></tr><tr><td>Train Sensitivity</td><td>0.99946</td></tr><tr><td>Train Specificity</td><td>0.0</td></tr></table><br/></div></div>"
      ],
      "text/plain": [
       "<IPython.core.display.HTML object>"
      ]
     },
     "metadata": {},
     "output_type": "display_data"
    },
    {
     "data": {
      "text/html": [
       " View run <strong style=\"color:#cdcd00\">glorious-sweep-30</strong> at: <a href='https://wandb.ai/dylan-home/pytorch-sweeps-demo/runs/mbtjo08c' target=\"_blank\">https://wandb.ai/dylan-home/pytorch-sweeps-demo/runs/mbtjo08c</a><br/>Synced 5 W&B file(s), 0 media file(s), 0 artifact file(s) and 0 other file(s)"
      ],
      "text/plain": [
       "<IPython.core.display.HTML object>"
      ]
     },
     "metadata": {},
     "output_type": "display_data"
    },
    {
     "data": {
      "text/html": [
       "Find logs at: <code>./wandb/run-20250105_165057-mbtjo08c/logs</code>"
      ],
      "text/plain": [
       "<IPython.core.display.HTML object>"
      ]
     },
     "metadata": {},
     "output_type": "display_data"
    },
    {
     "name": "stderr",
     "output_type": "stream",
     "text": [
      "\u001b[34m\u001b[1mwandb\u001b[0m: Agent Starting Run: zsf1w0se with config:\n",
      "\u001b[34m\u001b[1mwandb\u001b[0m: \thidden_channels: 256\n",
      "\u001b[34m\u001b[1mwandb\u001b[0m: \tlearning_rate: 2.079838605580457e-05\n",
      "Failed to detect the name of this notebook, you can set it manually with the WANDB_NOTEBOOK_NAME environment variable to enable code saving.\n",
      "/usr/lib/python3/dist-packages/requests/__init__.py:87: RequestsDependencyWarning: urllib3 (2.2.3) or chardet (4.0.0) doesn't match a supported version!\n",
      "  warnings.warn(\"urllib3 ({}) or chardet ({}) doesn't match a supported \"\n"
     ]
    },
    {
     "data": {
      "text/html": [
       "wandb version 0.19.1 is available!  To upgrade, please run:\n",
       " $ pip install wandb --upgrade"
      ],
      "text/plain": [
       "<IPython.core.display.HTML object>"
      ]
     },
     "metadata": {},
     "output_type": "display_data"
    },
    {
     "data": {
      "text/html": [
       "Tracking run with wandb version 0.16.4"
      ],
      "text/plain": [
       "<IPython.core.display.HTML object>"
      ]
     },
     "metadata": {},
     "output_type": "display_data"
    },
    {
     "data": {
      "text/html": [
       "Run data is saved locally in <code>/mnt/alphafold-volume-1/dylan2/repos/tb-pnca-gnn/dd_pnca/wandb/run-20250105_165817-zsf1w0se</code>"
      ],
      "text/plain": [
       "<IPython.core.display.HTML object>"
      ]
     },
     "metadata": {},
     "output_type": "display_data"
    },
    {
     "data": {
      "text/html": [
       "Syncing run <strong><a href='https://wandb.ai/dylan-home/pytorch-sweeps-demo/runs/zsf1w0se' target=\"_blank\">confused-sweep-31</a></strong> to <a href='https://wandb.ai/dylan-home/pytorch-sweeps-demo' target=\"_blank\">Weights & Biases</a> (<a href='https://wandb.me/run' target=\"_blank\">docs</a>)<br/>Sweep page: <a href='https://wandb.ai/dylan-home/pytorch-sweeps-demo/sweeps/93peolwf' target=\"_blank\">https://wandb.ai/dylan-home/pytorch-sweeps-demo/sweeps/93peolwf</a>"
      ],
      "text/plain": [
       "<IPython.core.display.HTML object>"
      ]
     },
     "metadata": {},
     "output_type": "display_data"
    },
    {
     "data": {
      "text/html": [
       " View project at <a href='https://wandb.ai/dylan-home/pytorch-sweeps-demo' target=\"_blank\">https://wandb.ai/dylan-home/pytorch-sweeps-demo</a>"
      ],
      "text/plain": [
       "<IPython.core.display.HTML object>"
      ]
     },
     "metadata": {},
     "output_type": "display_data"
    },
    {
     "data": {
      "text/html": [
       " View sweep at <a href='https://wandb.ai/dylan-home/pytorch-sweeps-demo/sweeps/93peolwf' target=\"_blank\">https://wandb.ai/dylan-home/pytorch-sweeps-demo/sweeps/93peolwf</a>"
      ],
      "text/plain": [
       "<IPython.core.display.HTML object>"
      ]
     },
     "metadata": {},
     "output_type": "display_data"
    },
    {
     "data": {
      "text/html": [
       " View run at <a href='https://wandb.ai/dylan-home/pytorch-sweeps-demo/runs/zsf1w0se' target=\"_blank\">https://wandb.ai/dylan-home/pytorch-sweeps-demo/runs/zsf1w0se</a>"
      ],
      "text/plain": [
       "<IPython.core.display.HTML object>"
      ]
     },
     "metadata": {},
     "output_type": "display_data"
    },
    {
     "name": "stdout",
     "output_type": "stream",
     "text": [
      "Using CUDA\n",
      "Early stopping enabled. Patience: 20. Min Delta: 0.\n",
      "Epoch: 010, Train Acc: 0.5234, Test Acc: 0.5100, Train Loss: 0.6908, Test Loss: 0.6910\n",
      "Epoch: 020, Train Acc: 0.5263, Test Acc: 0.5110, Train Loss: 0.6901, Test Loss: 0.6907\n",
      "Epoch: 030, Train Acc: 0.5263, Test Acc: 0.5110, Train Loss: 0.6887, Test Loss: 0.6879\n",
      "Epoch: 040, Train Acc: 0.4776, Test Acc: 0.4790, Train Loss: 0.6858, Test Loss: 0.6820\n",
      "Epoch: 050, Train Acc: 0.6246, Test Acc: 0.6660, Train Loss: 0.6861, Test Loss: 0.6798\n",
      "Epoch: 060, Train Acc: 0.6119, Test Acc: 0.6597, Train Loss: 0.6847, Test Loss: 0.6773\n",
      "Epoch: 070, Train Acc: 0.6866, Test Acc: 0.6807, Train Loss: 0.6799, Test Loss: 0.6730\n",
      "Epoch: 080, Train Acc: 0.5209, Test Acc: 0.5060, Train Loss: 0.6785, Test Loss: 0.6754\n",
      "Epoch: 090, Train Acc: 0.5021, Test Acc: 0.4847, Train Loss: 0.6752, Test Loss: 0.6694\n",
      "Epoch: 100, Train Acc: 0.5254, Test Acc: 0.5107, Train Loss: 0.6815, Test Loss: 0.6807\n",
      "Epoch: 110, Train Acc: 0.6641, Test Acc: 0.6867, Train Loss: 0.6732, Test Loss: 0.6632\n",
      "Epoch: 120, Train Acc: 0.7037, Test Acc: 0.6747, Train Loss: 0.6674, Test Loss: 0.6592\n",
      "Epoch: 130, Train Acc: 0.6321, Test Acc: 0.6687, Train Loss: 0.6695, Test Loss: 0.6579\n",
      "Epoch: 140, Train Acc: 0.5096, Test Acc: 0.4920, Train Loss: 0.6641, Test Loss: 0.6599\n",
      "Epoch: 150, Train Acc: 0.4971, Test Acc: 0.4757, Train Loss: 0.6574, Test Loss: 0.6509\n",
      "Epoch: 160, Train Acc: 0.6414, Test Acc: 0.6680, Train Loss: 0.6631, Test Loss: 0.6486\n",
      "Epoch: 170, Train Acc: 0.5013, Test Acc: 0.4747, Train Loss: 0.6544, Test Loss: 0.6479\n",
      "Epoch: 180, Train Acc: 0.6946, Test Acc: 0.6890, Train Loss: 0.6524, Test Loss: 0.6405\n",
      "Epoch: 190, Train Acc: 0.7181, Test Acc: 0.6900, Train Loss: 0.6470, Test Loss: 0.6382\n",
      "Epoch: 200, Train Acc: 0.5081, Test Acc: 0.4943, Train Loss: 0.6515, Test Loss: 0.6495\n",
      "Epoch: 210, Train Acc: 0.6690, Test Acc: 0.6827, Train Loss: 0.6467, Test Loss: 0.6326\n",
      "Epoch: 220, Train Acc: 0.5083, Test Acc: 0.4837, Train Loss: 0.6405, Test Loss: 0.6353\n",
      "Epoch: 230, Train Acc: 0.7083, Test Acc: 0.6933, Train Loss: 0.6382, Test Loss: 0.6262\n",
      "Epoch: 240, Train Acc: 0.5183, Test Acc: 0.4970, Train Loss: 0.6546, Test Loss: 0.6590\n",
      "Epoch: 250, Train Acc: 0.5106, Test Acc: 0.4847, Train Loss: 0.6344, Test Loss: 0.6326\n",
      "Epoch: 260, Train Acc: 0.6216, Test Acc: 0.6627, Train Loss: 0.6494, Test Loss: 0.6288\n",
      "Epoch: 270, Train Acc: 0.6979, Test Acc: 0.6933, Train Loss: 0.6269, Test Loss: 0.6140\n",
      "Epoch: 280, Train Acc: 0.5144, Test Acc: 0.4977, Train Loss: 0.6338, Test Loss: 0.6352\n",
      "Epoch: 290, Train Acc: 0.7170, Test Acc: 0.7013, Train Loss: 0.6184, Test Loss: 0.6079\n",
      "Epoch: 300, Train Acc: 0.6647, Test Acc: 0.6807, Train Loss: 0.6260, Test Loss: 0.6089\n",
      "Epoch: 310, Train Acc: 0.6716, Test Acc: 0.6847, Train Loss: 0.6209, Test Loss: 0.6052\n",
      "Epoch: 320, Train Acc: 0.7077, Test Acc: 0.7027, Train Loss: 0.6100, Test Loss: 0.5997\n",
      "Epoch: 330, Train Acc: 0.6941, Test Acc: 0.6927, Train Loss: 0.6097, Test Loss: 0.5972\n",
      "Epoch: 340, Train Acc: 0.7423, Test Acc: 0.6987, Train Loss: 0.5988, Test Loss: 0.5952\n",
      "Epoch: 350, Train Acc: 0.5446, Test Acc: 0.5067, Train Loss: 0.6043, Test Loss: 0.6099\n",
      "Epoch: 360, Train Acc: 0.5514, Test Acc: 0.5127, Train Loss: 0.6000, Test Loss: 0.6070\n",
      "Epoch: 370, Train Acc: 0.7336, Test Acc: 0.7177, Train Loss: 0.5879, Test Loss: 0.5838\n",
      "Epoch: 380, Train Acc: 0.6883, Test Acc: 0.6940, Train Loss: 0.5979, Test Loss: 0.5860\n",
      "Epoch: 390, Train Acc: 0.7289, Test Acc: 0.7110, Train Loss: 0.5821, Test Loss: 0.5779\n",
      "Epoch: 400, Train Acc: 0.7216, Test Acc: 0.7077, Train Loss: 0.5798, Test Loss: 0.5764\n"
     ]
    },
    {
     "data": {
      "text/html": [
       "<style>\n",
       "    table.wandb td:nth-child(1) { padding: 0 10px; text-align: left ; width: auto;} td:nth-child(2) {text-align: left ; width: 100%}\n",
       "    .wandb-row { display: flex; flex-direction: row; flex-wrap: wrap; justify-content: flex-start; width: 100% }\n",
       "    .wandb-col { display: flex; flex-direction: column; flex-basis: 100%; flex: 1; padding: 10px; }\n",
       "    </style>\n",
       "<div class=\"wandb-row\"><div class=\"wandb-col\"><h3>Run history:</h3><br/><table class=\"wandb\"><tr><td>Test Accuracy</td><td>▂▄▂▇▂▂▁▄▂▂▁▂▁▇▁▁▁▇▁▁▇▇▁▆▇▂▇▇▂██▂████▇▇██</td></tr><tr><td>Test F1</td><td>▇▂▇▆▇▇▇▁▇▇▆▇▆▇▇▇▇▇▆▇▅▇▇▅▆▇▇▆▆▇▇▆████▆▆█▇</td></tr><tr><td>Test Loss</td><td>█████▇▇▇▇▇▆▆▆▆▆▆▅▅▅▅▅▄▅▅▄▅▃▃▄▃▃▃▂▂▂▂▂▂▁▁</td></tr><tr><td>Test Sensitivity</td><td>█▁█▄██▇▁██▆█▆▄▇▇▇▅▇▇▃▄▇▃▃▇▄▄▇▄▄▆▅▆▅▅▄▄▅▄</td></tr><tr><td>Test Specificity</td><td>▁█▁▇▁▁▁█▁▁▂▁▂▇▂▁▂▆▂▂▇▇▂█▇▁▇▇▂▇▇▂▇▆▆▆▇▇▆▇</td></tr><tr><td>Train Accuracy</td><td>▂▂▁▅▂▂▁▁▂▂▁▂▁▆▁▁▁▇▁▁▅▆▁▄▅▁▆▆▂▇▇▂▇███▅▆█▇</td></tr><tr><td>Train F1</td><td>▇▂▇▆▇▇▇▁▇▇▆▇▇▆▇▇▇▇▇▇▅▆▇▄▆▇▇▆▇▇▇▇▇███▆▆█▇</td></tr><tr><td>Train Loss</td><td>█████▇▇█▇▇▇▇▆▆▆▆▆▅▅▅▆▅▅▆▅▅▄▄▄▃▃▃▂▂▂▂▃▃▁▁</td></tr><tr><td>Train Sensitivity</td><td>█▂█▄███▁██▆█▇▄▇▇▇▅▇▇▃▄▇▂▃▇▄▄▇▅▄▇▅▆▆▅▃▄▆▅</td></tr><tr><td>Train Specificity</td><td>▁█▁▇▁▁▁█▁▁▂▁▂▇▁▁▂▇▂▂█▇▂██▁▇█▂▇▇▂▇▆▇▇██▇▇</td></tr></table><br/></div><div class=\"wandb-col\"><h3>Run summary:</h3><br/><table class=\"wandb\"><tr><td>Test Accuracy</td><td>0.70767</td></tr><tr><td>Test F1</td><td>0.66793</td></tr><tr><td>Test Loss</td><td>0.57642</td></tr><tr><td>Test Sensitivity</td><td>0.57534</td></tr><tr><td>Test Specificity</td><td>0.84594</td></tr><tr><td>Train Accuracy</td><td>0.72157</td></tr><tr><td>Train F1</td><td>0.6749</td></tr><tr><td>Train Loss</td><td>0.57979</td></tr><tr><td>Train Sensitivity</td><td>0.54898</td></tr><tr><td>Train Specificity</td><td>0.91342</td></tr></table><br/></div></div>"
      ],
      "text/plain": [
       "<IPython.core.display.HTML object>"
      ]
     },
     "metadata": {},
     "output_type": "display_data"
    },
    {
     "data": {
      "text/html": [
       " View run <strong style=\"color:#cdcd00\">confused-sweep-31</strong> at: <a href='https://wandb.ai/dylan-home/pytorch-sweeps-demo/runs/zsf1w0se' target=\"_blank\">https://wandb.ai/dylan-home/pytorch-sweeps-demo/runs/zsf1w0se</a><br/>Synced 5 W&B file(s), 0 media file(s), 0 artifact file(s) and 0 other file(s)"
      ],
      "text/plain": [
       "<IPython.core.display.HTML object>"
      ]
     },
     "metadata": {},
     "output_type": "display_data"
    },
    {
     "data": {
      "text/html": [
       "Find logs at: <code>./wandb/run-20250105_165817-zsf1w0se/logs</code>"
      ],
      "text/plain": [
       "<IPython.core.display.HTML object>"
      ]
     },
     "metadata": {},
     "output_type": "display_data"
    },
    {
     "name": "stderr",
     "output_type": "stream",
     "text": [
      "\u001b[34m\u001b[1mwandb\u001b[0m: Agent Starting Run: p1y8jqqm with config:\n",
      "\u001b[34m\u001b[1mwandb\u001b[0m: \thidden_channels: 64\n",
      "\u001b[34m\u001b[1mwandb\u001b[0m: \tlearning_rate: 0.01927158059664234\n",
      "Failed to detect the name of this notebook, you can set it manually with the WANDB_NOTEBOOK_NAME environment variable to enable code saving.\n",
      "/usr/lib/python3/dist-packages/requests/__init__.py:87: RequestsDependencyWarning: urllib3 (2.2.3) or chardet (4.0.0) doesn't match a supported version!\n",
      "  warnings.warn(\"urllib3 ({}) or chardet ({}) doesn't match a supported \"\n"
     ]
    },
    {
     "data": {
      "text/html": [
       "wandb version 0.19.1 is available!  To upgrade, please run:\n",
       " $ pip install wandb --upgrade"
      ],
      "text/plain": [
       "<IPython.core.display.HTML object>"
      ]
     },
     "metadata": {},
     "output_type": "display_data"
    },
    {
     "data": {
      "text/html": [
       "Tracking run with wandb version 0.16.4"
      ],
      "text/plain": [
       "<IPython.core.display.HTML object>"
      ]
     },
     "metadata": {},
     "output_type": "display_data"
    },
    {
     "data": {
      "text/html": [
       "Run data is saved locally in <code>/mnt/alphafold-volume-1/dylan2/repos/tb-pnca-gnn/dd_pnca/wandb/run-20250105_171202-p1y8jqqm</code>"
      ],
      "text/plain": [
       "<IPython.core.display.HTML object>"
      ]
     },
     "metadata": {},
     "output_type": "display_data"
    },
    {
     "data": {
      "text/html": [
       "Syncing run <strong><a href='https://wandb.ai/dylan-home/pytorch-sweeps-demo/runs/p1y8jqqm' target=\"_blank\">dashing-sweep-32</a></strong> to <a href='https://wandb.ai/dylan-home/pytorch-sweeps-demo' target=\"_blank\">Weights & Biases</a> (<a href='https://wandb.me/run' target=\"_blank\">docs</a>)<br/>Sweep page: <a href='https://wandb.ai/dylan-home/pytorch-sweeps-demo/sweeps/93peolwf' target=\"_blank\">https://wandb.ai/dylan-home/pytorch-sweeps-demo/sweeps/93peolwf</a>"
      ],
      "text/plain": [
       "<IPython.core.display.HTML object>"
      ]
     },
     "metadata": {},
     "output_type": "display_data"
    },
    {
     "data": {
      "text/html": [
       " View project at <a href='https://wandb.ai/dylan-home/pytorch-sweeps-demo' target=\"_blank\">https://wandb.ai/dylan-home/pytorch-sweeps-demo</a>"
      ],
      "text/plain": [
       "<IPython.core.display.HTML object>"
      ]
     },
     "metadata": {},
     "output_type": "display_data"
    },
    {
     "data": {
      "text/html": [
       " View sweep at <a href='https://wandb.ai/dylan-home/pytorch-sweeps-demo/sweeps/93peolwf' target=\"_blank\">https://wandb.ai/dylan-home/pytorch-sweeps-demo/sweeps/93peolwf</a>"
      ],
      "text/plain": [
       "<IPython.core.display.HTML object>"
      ]
     },
     "metadata": {},
     "output_type": "display_data"
    },
    {
     "data": {
      "text/html": [
       " View run at <a href='https://wandb.ai/dylan-home/pytorch-sweeps-demo/runs/p1y8jqqm' target=\"_blank\">https://wandb.ai/dylan-home/pytorch-sweeps-demo/runs/p1y8jqqm</a>"
      ],
      "text/plain": [
       "<IPython.core.display.HTML object>"
      ]
     },
     "metadata": {},
     "output_type": "display_data"
    },
    {
     "name": "stdout",
     "output_type": "stream",
     "text": [
      "Using CUDA\n",
      "Early stopping enabled. Patience: 20. Min Delta: 0.\n",
      "Epoch: 010, Train Acc: 0.4736, Test Acc: 0.4890, Train Loss: 0.6934, Test Loss: 0.6933\n",
      "Epoch: 020, Train Acc: 0.5264, Test Acc: 0.5110, Train Loss: 0.6917, Test Loss: 0.6935\n",
      "Epoch: 030, Train Acc: 0.5264, Test Acc: 0.5110, Train Loss: 0.6921, Test Loss: 0.6929\n",
      "20 epochs passed without 0 test loss improvement. \n",
      "Early stopping triggered.\n"
     ]
    },
    {
     "data": {
      "text/html": [
       "<style>\n",
       "    table.wandb td:nth-child(1) { padding: 0 10px; text-align: left ; width: auto;} td:nth-child(2) {text-align: left ; width: 100%}\n",
       "    .wandb-row { display: flex; flex-direction: row; flex-wrap: wrap; justify-content: flex-start; width: 100% }\n",
       "    .wandb-col { display: flex; flex-direction: column; flex-basis: 100%; flex: 1; padding: 10px; }\n",
       "    </style>\n",
       "<div class=\"wandb-row\"><div class=\"wandb-col\"><h3>Run history:</h3><br/><table class=\"wandb\"><tr><td>Test Accuracy</td><td>█████████▁█████▁█████████████████████</td></tr><tr><td>Test F1</td><td>█████████▁█████▁█████████████████████</td></tr><tr><td>Test Loss</td><td>▂▁▁▁▃▂▂▁▂▁▁█▃▁▁▁▁▁▁▁▁▁▁▂▂▂▁▃▁▁▂▁▁▁▁▂▁</td></tr><tr><td>Test Sensitivity</td><td>█████████▁█████▁█████████████████████</td></tr><tr><td>Test Specificity</td><td>▁▁▁▁▁▁▁▁▁█▁▁▁▁▁█▁▁▁▁▁▁▁▁▁▁▁▁▁▁▁▁▁▁▁▁▁</td></tr><tr><td>Train Accuracy</td><td>█████████▁█████▁█████████████████████</td></tr><tr><td>Train F1</td><td>█████████▁█████▁█████████████████████</td></tr><tr><td>Train Loss</td><td>▂▁▂▂▃▁▁▁▂▂▁█▃▂▂▂▂▁▂▁▁▂▁▁▁▁▂▂▁▁▁▁▂▂▁▁▁</td></tr><tr><td>Train Sensitivity</td><td>█████████▁█████▁█████████████████████</td></tr><tr><td>Train Specificity</td><td>▁▁▁▁▁▁▁▁▁█▁▁▁▁▁█▁▁▁▁▁▁▁▁▁▁▁▁▁▁▁▁▁▁▁▁▁</td></tr></table><br/></div><div class=\"wandb-col\"><h3>Run summary:</h3><br/><table class=\"wandb\"><tr><td>Test Accuracy</td><td>0.511</td></tr><tr><td>Test F1</td><td>0.67637</td></tr><tr><td>Test Loss</td><td>0.69324</td></tr><tr><td>Test Sensitivity</td><td>1.0</td></tr><tr><td>Test Specificity</td><td>0.0</td></tr><tr><td>Train Accuracy</td><td>0.52643</td></tr><tr><td>Train F1</td><td>0.68975</td></tr><tr><td>Train Loss</td><td>0.69165</td></tr><tr><td>Train Sensitivity</td><td>1.0</td></tr><tr><td>Train Specificity</td><td>0.0</td></tr></table><br/></div></div>"
      ],
      "text/plain": [
       "<IPython.core.display.HTML object>"
      ]
     },
     "metadata": {},
     "output_type": "display_data"
    },
    {
     "data": {
      "text/html": [
       " View run <strong style=\"color:#cdcd00\">dashing-sweep-32</strong> at: <a href='https://wandb.ai/dylan-home/pytorch-sweeps-demo/runs/p1y8jqqm' target=\"_blank\">https://wandb.ai/dylan-home/pytorch-sweeps-demo/runs/p1y8jqqm</a><br/>Synced 5 W&B file(s), 0 media file(s), 0 artifact file(s) and 0 other file(s)"
      ],
      "text/plain": [
       "<IPython.core.display.HTML object>"
      ]
     },
     "metadata": {},
     "output_type": "display_data"
    },
    {
     "data": {
      "text/html": [
       "Find logs at: <code>./wandb/run-20250105_171202-p1y8jqqm/logs</code>"
      ],
      "text/plain": [
       "<IPython.core.display.HTML object>"
      ]
     },
     "metadata": {},
     "output_type": "display_data"
    },
    {
     "name": "stderr",
     "output_type": "stream",
     "text": [
      "\u001b[34m\u001b[1mwandb\u001b[0m: Agent Starting Run: fkyiu579 with config:\n",
      "\u001b[34m\u001b[1mwandb\u001b[0m: \thidden_channels: 128\n",
      "\u001b[34m\u001b[1mwandb\u001b[0m: \tlearning_rate: 4.168738429022371e-05\n",
      "Failed to detect the name of this notebook, you can set it manually with the WANDB_NOTEBOOK_NAME environment variable to enable code saving.\n",
      "/usr/lib/python3/dist-packages/requests/__init__.py:87: RequestsDependencyWarning: urllib3 (2.2.3) or chardet (4.0.0) doesn't match a supported version!\n",
      "  warnings.warn(\"urllib3 ({}) or chardet ({}) doesn't match a supported \"\n"
     ]
    },
    {
     "data": {
      "text/html": [
       "wandb version 0.19.1 is available!  To upgrade, please run:\n",
       " $ pip install wandb --upgrade"
      ],
      "text/plain": [
       "<IPython.core.display.HTML object>"
      ]
     },
     "metadata": {},
     "output_type": "display_data"
    },
    {
     "data": {
      "text/html": [
       "Tracking run with wandb version 0.16.4"
      ],
      "text/plain": [
       "<IPython.core.display.HTML object>"
      ]
     },
     "metadata": {},
     "output_type": "display_data"
    },
    {
     "data": {
      "text/html": [
       "Run data is saved locally in <code>/mnt/alphafold-volume-1/dylan2/repos/tb-pnca-gnn/dd_pnca/wandb/run-20250105_171318-fkyiu579</code>"
      ],
      "text/plain": [
       "<IPython.core.display.HTML object>"
      ]
     },
     "metadata": {},
     "output_type": "display_data"
    },
    {
     "data": {
      "text/html": [
       "Syncing run <strong><a href='https://wandb.ai/dylan-home/pytorch-sweeps-demo/runs/fkyiu579' target=\"_blank\">electric-sweep-33</a></strong> to <a href='https://wandb.ai/dylan-home/pytorch-sweeps-demo' target=\"_blank\">Weights & Biases</a> (<a href='https://wandb.me/run' target=\"_blank\">docs</a>)<br/>Sweep page: <a href='https://wandb.ai/dylan-home/pytorch-sweeps-demo/sweeps/93peolwf' target=\"_blank\">https://wandb.ai/dylan-home/pytorch-sweeps-demo/sweeps/93peolwf</a>"
      ],
      "text/plain": [
       "<IPython.core.display.HTML object>"
      ]
     },
     "metadata": {},
     "output_type": "display_data"
    },
    {
     "data": {
      "text/html": [
       " View project at <a href='https://wandb.ai/dylan-home/pytorch-sweeps-demo' target=\"_blank\">https://wandb.ai/dylan-home/pytorch-sweeps-demo</a>"
      ],
      "text/plain": [
       "<IPython.core.display.HTML object>"
      ]
     },
     "metadata": {},
     "output_type": "display_data"
    },
    {
     "data": {
      "text/html": [
       " View sweep at <a href='https://wandb.ai/dylan-home/pytorch-sweeps-demo/sweeps/93peolwf' target=\"_blank\">https://wandb.ai/dylan-home/pytorch-sweeps-demo/sweeps/93peolwf</a>"
      ],
      "text/plain": [
       "<IPython.core.display.HTML object>"
      ]
     },
     "metadata": {},
     "output_type": "display_data"
    },
    {
     "data": {
      "text/html": [
       " View run at <a href='https://wandb.ai/dylan-home/pytorch-sweeps-demo/runs/fkyiu579' target=\"_blank\">https://wandb.ai/dylan-home/pytorch-sweeps-demo/runs/fkyiu579</a>"
      ],
      "text/plain": [
       "<IPython.core.display.HTML object>"
      ]
     },
     "metadata": {},
     "output_type": "display_data"
    },
    {
     "name": "stdout",
     "output_type": "stream",
     "text": [
      "Using CUDA\n",
      "Early stopping enabled. Patience: 20. Min Delta: 0.\n",
      "Epoch: 010, Train Acc: 0.5026, Test Acc: 0.4503, Train Loss: 0.6937, Test Loss: 0.6964\n",
      "Epoch: 020, Train Acc: 0.5223, Test Acc: 0.5030, Train Loss: 0.6921, Test Loss: 0.6941\n",
      "Epoch: 030, Train Acc: 0.4773, Test Acc: 0.4933, Train Loss: 0.6942, Test Loss: 0.6934\n",
      "Epoch: 040, Train Acc: 0.6253, Test Acc: 0.6330, Train Loss: 0.6897, Test Loss: 0.6890\n",
      "Epoch: 050, Train Acc: 0.5264, Test Acc: 0.5110, Train Loss: 0.7028, Test Loss: 0.7081\n",
      "Epoch: 060, Train Acc: 0.5253, Test Acc: 0.5103, Train Loss: 0.6841, Test Loss: 0.6846\n",
      "Epoch: 070, Train Acc: 0.5264, Test Acc: 0.5103, Train Loss: 0.6840, Test Loss: 0.6852\n",
      "Epoch: 080, Train Acc: 0.5266, Test Acc: 0.5110, Train Loss: 0.6841, Test Loss: 0.6855\n",
      "Epoch: 090, Train Acc: 0.5146, Test Acc: 0.4950, Train Loss: 0.6784, Test Loss: 0.6772\n",
      "Epoch: 100, Train Acc: 0.6640, Test Acc: 0.6590, Train Loss: 0.6778, Test Loss: 0.6726\n",
      "Epoch: 110, Train Acc: 0.4983, Test Acc: 0.4730, Train Loss: 0.6741, Test Loss: 0.6707\n",
      "Epoch: 120, Train Acc: 0.5141, Test Acc: 0.4950, Train Loss: 0.6734, Test Loss: 0.6720\n",
      "Epoch: 130, Train Acc: 0.5183, Test Acc: 0.4980, Train Loss: 0.6727, Test Loss: 0.6720\n",
      "Epoch: 140, Train Acc: 0.5893, Test Acc: 0.6430, Train Loss: 0.6757, Test Loss: 0.6653\n",
      "Epoch: 150, Train Acc: 0.5159, Test Acc: 0.4973, Train Loss: 0.6686, Test Loss: 0.6683\n",
      "Epoch: 160, Train Acc: 0.6900, Test Acc: 0.6640, Train Loss: 0.6621, Test Loss: 0.6549\n",
      "Epoch: 170, Train Acc: 0.6993, Test Acc: 0.6733, Train Loss: 0.6592, Test Loss: 0.6525\n",
      "Epoch: 180, Train Acc: 0.6976, Test Acc: 0.6740, Train Loss: 0.6561, Test Loss: 0.6492\n",
      "Epoch: 190, Train Acc: 0.5157, Test Acc: 0.4957, Train Loss: 0.6645, Test Loss: 0.6661\n",
      "Epoch: 200, Train Acc: 0.4963, Test Acc: 0.4643, Train Loss: 0.6504, Test Loss: 0.6471\n",
      "Epoch: 210, Train Acc: 0.5061, Test Acc: 0.4823, Train Loss: 0.6550, Test Loss: 0.6557\n",
      "Epoch: 220, Train Acc: 0.6659, Test Acc: 0.6673, Train Loss: 0.6491, Test Loss: 0.6385\n",
      "Epoch: 230, Train Acc: 0.7131, Test Acc: 0.6820, Train Loss: 0.6405, Test Loss: 0.6362\n",
      "Epoch: 240, Train Acc: 0.7030, Test Acc: 0.6857, Train Loss: 0.6376, Test Loss: 0.6320\n",
      "Epoch: 250, Train Acc: 0.7077, Test Acc: 0.6637, Train Loss: 0.6348, Test Loss: 0.6348\n",
      "Epoch: 260, Train Acc: 0.7167, Test Acc: 0.6840, Train Loss: 0.6314, Test Loss: 0.6296\n",
      "Epoch: 270, Train Acc: 0.7191, Test Acc: 0.6790, Train Loss: 0.6258, Test Loss: 0.6249\n",
      "Epoch: 280, Train Acc: 0.7140, Test Acc: 0.6923, Train Loss: 0.6220, Test Loss: 0.6208\n",
      "Epoch: 290, Train Acc: 0.7163, Test Acc: 0.6950, Train Loss: 0.6207, Test Loss: 0.6189\n",
      "Epoch: 300, Train Acc: 0.6877, Test Acc: 0.6767, Train Loss: 0.6210, Test Loss: 0.6170\n",
      "Epoch: 310, Train Acc: 0.7221, Test Acc: 0.7043, Train Loss: 0.6132, Test Loss: 0.6141\n",
      "Epoch: 320, Train Acc: 0.7343, Test Acc: 0.6913, Train Loss: 0.6088, Test Loss: 0.6166\n",
      "Epoch: 330, Train Acc: 0.6654, Test Acc: 0.6697, Train Loss: 0.6238, Test Loss: 0.6174\n",
      "Epoch: 340, Train Acc: 0.7307, Test Acc: 0.6660, Train Loss: 0.6067, Test Loss: 0.6208\n",
      "Epoch: 350, Train Acc: 0.7264, Test Acc: 0.6913, Train Loss: 0.5995, Test Loss: 0.6031\n",
      "Epoch: 360, Train Acc: 0.7479, Test Acc: 0.7003, Train Loss: 0.5953, Test Loss: 0.6097\n",
      "Epoch: 370, Train Acc: 0.7451, Test Acc: 0.7140, Train Loss: 0.5870, Test Loss: 0.6004\n",
      "Epoch: 380, Train Acc: 0.7413, Test Acc: 0.7110, Train Loss: 0.5838, Test Loss: 0.5961\n",
      "Epoch: 390, Train Acc: 0.7424, Test Acc: 0.7123, Train Loss: 0.5783, Test Loss: 0.5938\n",
      "Epoch: 400, Train Acc: 0.7491, Test Acc: 0.7233, Train Loss: 0.5754, Test Loss: 0.5928\n"
     ]
    },
    {
     "data": {
      "text/html": [
       "<style>\n",
       "    table.wandb td:nth-child(1) { padding: 0 10px; text-align: left ; width: auto;} td:nth-child(2) {text-align: left ; width: 100%}\n",
       "    .wandb-row { display: flex; flex-direction: row; flex-wrap: wrap; justify-content: flex-start; width: 100% }\n",
       "    .wandb-col { display: flex; flex-direction: column; flex-basis: 100%; flex: 1; padding: 10px; }\n",
       "    </style>\n",
       "<div class=\"wandb-row\"><div class=\"wandb-col\"><h3>Run history:</h3><br/><table class=\"wandb\"><tr><td>Test Accuracy</td><td>▂▂▂▂▄▂▂▂▅▂▂▂▆▆▁▁▁▆▁▁▁▇▁▇▇▇▇▇▆▇▆▂▇▆▇▇▇███</td></tr><tr><td>Test F1</td><td>▇▇▇▇▁▇▇▇▃▇▇▇▅▆▆▇▆▅▇▆▇▇▆▆▇▆▆▇▆▆▅▇▇▅▆██▇██</td></tr><tr><td>Test Loss</td><td>███▇▇▇▇▇▆▆▆▆▆▅▅▅▅▅▅▅▅▄▄▄▄▃▃▃▃▃▄▄▂▄▂▂▃▁▁▁</td></tr><tr><td>Test Sensitivity</td><td>████▁███▂███▃▄▆▇▇▃▇▇▇▄▆▄▅▄▄▅▃▄▃▇▄▃▃▅▆▅▅▅</td></tr><tr><td>Test Specificity</td><td>▁▁▁▁█▁▁▁█▁▁▁█▇▂▁▂▇▁▂▁▇▂▇▆▇▇▇▇▇▇▂▇█▇▆▅▇▇▇</td></tr><tr><td>Train Accuracy</td><td>▂▂▂▂▂▂▂▂▂▁▂▁▃▅▁▁▁▄▁▁▁▆▁▆▇▆▆▇▆▆▅▂▇▄▆█████</td></tr><tr><td>Train F1</td><td>▇▇▇▇▁▇▇▇▂▇▇▇▃▆▆▇▇▄▇▇▇▆▆▆▇▆▆▇▆▆▅▇▇▄▅██▇██</td></tr><tr><td>Train Loss</td><td>███▇█▇▇▇▇▇▇▇▇▆▆▆▆▆▆▅▆▅▅▅▄▄▄▄▄▄▅▄▃▅▄▂▂▂▁▁</td></tr><tr><td>Train Sensitivity</td><td>████▁███▁███▂▄▇▇▇▃▇▇▇▄▆▄▅▄▄▅▃▄▃▇▄▃▃▆▇▅▅▅</td></tr><tr><td>Train Specificity</td><td>▁▁▁▁█▁▁▁█▁▁▁█▇▂▁▂█▂▂▁▇▂▇▆▇▇▇███▂▇██▇▆▇▇▇</td></tr></table><br/></div><div class=\"wandb-col\"><h3>Run summary:</h3><br/><table class=\"wandb\"><tr><td>Test Accuracy</td><td>0.72333</td></tr><tr><td>Test F1</td><td>0.70754</td></tr><tr><td>Test Loss</td><td>0.5928</td></tr><tr><td>Test Sensitivity</td><td>0.65492</td></tr><tr><td>Test Specificity</td><td>0.79482</td></tr><tr><td>Train Accuracy</td><td>0.74914</td></tr><tr><td>Train F1</td><td>0.7353</td></tr><tr><td>Train Loss</td><td>0.57538</td></tr><tr><td>Train Sensitivity</td><td>0.66187</td></tr><tr><td>Train Specificity</td><td>0.84615</td></tr></table><br/></div></div>"
      ],
      "text/plain": [
       "<IPython.core.display.HTML object>"
      ]
     },
     "metadata": {},
     "output_type": "display_data"
    },
    {
     "data": {
      "text/html": [
       " View run <strong style=\"color:#cdcd00\">electric-sweep-33</strong> at: <a href='https://wandb.ai/dylan-home/pytorch-sweeps-demo/runs/fkyiu579' target=\"_blank\">https://wandb.ai/dylan-home/pytorch-sweeps-demo/runs/fkyiu579</a><br/>Synced 5 W&B file(s), 0 media file(s), 0 artifact file(s) and 0 other file(s)"
      ],
      "text/plain": [
       "<IPython.core.display.HTML object>"
      ]
     },
     "metadata": {},
     "output_type": "display_data"
    },
    {
     "data": {
      "text/html": [
       "Find logs at: <code>./wandb/run-20250105_171318-fkyiu579/logs</code>"
      ],
      "text/plain": [
       "<IPython.core.display.HTML object>"
      ]
     },
     "metadata": {},
     "output_type": "display_data"
    }
   ],
   "source": [
    "wandb.agent(sweep_id, sweep_run, count=30)"
   ]
  },
  {
   "cell_type": "code",
   "execution_count": null,
   "metadata": {},
   "outputs": [],
   "source": []
  }
 ],
 "metadata": {
  "kernelspec": {
   "display_name": "Python 3",
   "language": "python",
   "name": "python3"
  },
  "language_info": {
   "codemirror_mode": {
    "name": "ipython",
    "version": 3
   },
   "file_extension": ".py",
   "mimetype": "text/x-python",
   "name": "python",
   "nbconvert_exporter": "python",
   "pygments_lexer": "ipython3",
   "version": "3.10.12"
  }
 },
 "nbformat": 4,
 "nbformat_minor": 2
}
