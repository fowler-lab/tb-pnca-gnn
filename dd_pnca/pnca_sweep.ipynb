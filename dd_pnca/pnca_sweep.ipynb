{
 "cells": [
  {
   "cell_type": "markdown",
   "metadata": {},
   "source": [
    "# Run PncA WandB Sweep"
   ]
  },
  {
   "cell_type": "code",
   "execution_count": 1,
   "metadata": {},
   "outputs": [
    {
     "data": {
      "text/plain": [
       "'Running via SSH'"
      ]
     },
     "metadata": {},
     "output_type": "display_data"
    },
    {
     "name": "stderr",
     "output_type": "stream",
     "text": [
      "/usr/lib/python3/dist-packages/requests/__init__.py:87: RequestsDependencyWarning: urllib3 (2.2.3) or chardet (4.0.0) doesn't match a supported version!\n",
      "  warnings.warn(\"urllib3 ({}) or chardet ({}) doesn't match a supported \"\n"
     ]
    },
    {
     "data": {
      "text/plain": [
       "True"
      ]
     },
     "execution_count": 1,
     "metadata": {},
     "output_type": "execute_result"
    }
   ],
   "source": [
    "from IPython.display import display\n",
    "import os\n",
    "\n",
    "if \"SSH_CONNECTION\" in os.environ:\n",
    "    display(\"Running via SSH\")\n",
    "else:\n",
    "    display(\"Running locally\")\n",
    "    \n",
    "import sys\n",
    "import os\n",
    "\n",
    "path = os.path.join('..', '/Users/dylandissanayake/Desktop/DPhil/Comp Disc/Repositories/TB-PNCA-GNN') if \"SSH_CONNECTION\" not in os.environ else os.path.join('..', '/mnt/alphafold-volume-1/dylan2/repos/tb-pnca-gnn')\n",
    "if path not in sys.path:\n",
    "    sys.path.append(os.path.abspath(path))\n",
    "\n",
    "import datetime\n",
    "import random\n",
    "\n",
    "import numpy as np\n",
    "import pandas as pd\n",
    "\n",
    "import torch\n",
    "from torch_geometric.data import Data\n",
    "\n",
    "import wandb\n",
    "\n",
    "import warnings\n",
    "warnings.filterwarnings('ignore')\n",
    "\n",
    "from src import run_model, protein_graph, gcn_model, evaluation\n",
    "\n",
    "%load_ext autoreload\n",
    "%autoreload 2\n",
    "\n",
    "%aimport src\n",
    "\n",
    "torch.cuda.is_available()"
   ]
  },
  {
   "cell_type": "code",
   "execution_count": 3,
   "metadata": {},
   "outputs": [],
   "source": [
    "full_dataset = torch.load('full_orig_dataset.pth')"
   ]
  },
  {
   "cell_type": "markdown",
   "metadata": {},
   "source": [
    "### Set Up Params and Sweep Config"
   ]
  },
  {
   "cell_type": "code",
   "execution_count": 4,
   "metadata": {},
   "outputs": [],
   "source": [
    "seed = 42\n",
    "np.random.seed(seed)\n",
    "random.seed(seed)\n",
    "\n",
    "# logging params (only used for wandb metrics)\n",
    "n_samples = 10000\n",
    "# cutoff_distance = 6.3  \n",
    "\n",
    "# gcn params\n",
    "num_node_features = 12\n",
    "batch_size = 256\n",
    "# hidden_channels = 64\n",
    "# learning_rate = 0.001\n",
    "# wd = 5e-5\n",
    "epochs = 3000\n",
    "\n",
    "wt_seq = 'MRALIIVDVQNDFCEGGSLAVTGGAALARAISDYLAEAADYHHVVATKDFHIDPGDHFSGTPDYSSSWPPHCVSGTPGADFHPSLDTSAIEAVFYKGAYTGAYSGFEGVDENGTPLLNWLRQRGVDEVDVVGIATDHCVRQTAEDAVRNGLATRVLVDLTAGVSADTTVAALEEMRTASVELVCS'"
   ]
  },
  {
   "cell_type": "code",
   "execution_count": 5,
   "metadata": {},
   "outputs": [],
   "source": [
    "# First sweep:\n",
    "\n",
    "sweep_config = {\n",
    "    'method': 'random'\n",
    "    }\n",
    "\n",
    "metric = {\n",
    "    'name': 'Test Accuracy',\n",
    "    'goal': 'maximize'   \n",
    "    }\n",
    "\n",
    "sweep_config['metric'] = metric\n",
    "\n",
    "parameters_dict = {\n",
    "    'hidden_channels': {\n",
    "        'values': [32, 64, 128, 256]\n",
    "        },\n",
    "    'weight_decay': {\n",
    "        'distribution': 'log_uniform_values',\n",
    "        'min': 1e-8,\n",
    "        'max': 1e-2\n",
    "        },\n",
    "    'dropout': {\n",
    "          'values': [0.2, 0.4, 0.5, 0.6, 0.8]\n",
    "        },\n",
    "    'cutoff_distance': {\n",
    "        'distribution': 'uniform',\n",
    "        'min': 3.5,\n",
    "        'max': 10 \n",
    "        },\n",
    "    'learning_rate': {\n",
    "        'distribution': 'log_uniform_values',\n",
    "        'min': 1e-8,\n",
    "        'max': 1e-1\n",
    "      },\n",
    "    }\n",
    "\n",
    "sweep_config['parameters'] = parameters_dict\n",
    "\n",
    "# Second / third sweep:\n",
    "\n",
    "parameters_dict.update({\n",
    "    'hidden_channels': {\n",
    "        'values': [64, 128, 192, 256, 320, 384]\n",
    "        },\n",
    "    'weight_decay': {\n",
    "        'distribution': 'log_uniform_values',\n",
    "        'min': 5e-7, \n",
    "        'max': 1e-2\n",
    "        },\n",
    "    'dropout': {\n",
    "          'values': [0.4, 0.5, 0.6, 0.8]\n",
    "        },\n",
    "    'learning_rate': {\n",
    "        'distribution': 'log_uniform_values',\n",
    "        'min': 1e-5,\n",
    "        'max': 1e-2 \n",
    "        },\n",
    "    })\n",
    "\n",
    "# Fourth / Fifth sweep:\n",
    "\n",
    "parameters_dict.update({\n",
    "    'hidden_channels': {\n",
    "        'values': [128, 192, 256, 320]\n",
    "        },\n",
    "    'weight_decay': {\n",
    "        'distribution': 'log_uniform_values',\n",
    "        'min': 1e-5,\n",
    "        'max': 1e-3\n",
    "        },\n",
    "    'dropout': {\n",
    "          'values': [0.4, 0.5, 0.6, 0.8]\n",
    "        },\n",
    "    'learning_rate': {\n",
    "        'distribution': 'log_uniform_values',\n",
    "        'min': 5e-5,\n",
    "        'max': 5e-2\n",
    "        },\n",
    "    })\n",
    "\n",
    "# Sixth sweep:\n",
    "\n",
    "parameters_dict.update({\n",
    "    'learning_rate': {\n",
    "        'distribution': 'log_uniform_values',\n",
    "        'min': 1e-6,\n",
    "        'max': 5e-3 \n",
    "        }\n",
    "    })\n",
    "\n",
    "# Seventh sweep:\n",
    "\n",
    "parameters_dict.update({\n",
    "    'learning_rate': {\n",
    "        'distribution': 'log_uniform_values',\n",
    "        'min': 5e-6,\n",
    "        'max': 5e-4 \n",
    "        }\n",
    "    })\n",
    "\n",
    "# Eight sweep w cutoff varying:\n",
    "\n",
    "parameters_dict.update({\n",
    "    'learning_rate': {\n",
    "        'distribution': 'log_uniform_values',\n",
    "        'min': 5e-6,\n",
    "        'max': 1e-3 \n",
    "        }\n",
    "    })\n",
    "\n"
   ]
  },
  {
   "cell_type": "code",
   "execution_count": 6,
   "metadata": {},
   "outputs": [
    {
     "name": "stdout",
     "output_type": "stream",
     "text": [
      "{'method': 'random',\n",
      " 'metric': {'goal': 'maximize', 'name': 'Test Accuracy'},\n",
      " 'parameters': {'cutoff_distance': {'distribution': 'uniform',\n",
      "                                    'max': 10,\n",
      "                                    'min': 3.5},\n",
      "                'dropout': {'values': [0.4, 0.5, 0.6, 0.8]},\n",
      "                'hidden_channels': {'values': [128, 192, 256, 320]},\n",
      "                'learning_rate': {'distribution': 'log_uniform_values',\n",
      "                                  'max': 0.001,\n",
      "                                  'min': 5e-06},\n",
      "                'weight_decay': {'distribution': 'log_uniform_values',\n",
      "                                 'max': 0.001,\n",
      "                                 'min': 1e-05}}}\n"
     ]
    }
   ],
   "source": [
    "import pprint\n",
    "pprint.pprint(sweep_config)"
   ]
  },
  {
   "cell_type": "markdown",
   "metadata": {},
   "source": [
    "### Define Training Loop"
   ]
  },
  {
   "cell_type": "code",
   "execution_count": 7,
   "metadata": {},
   "outputs": [],
   "source": [
    "project = \"pnca-sweep-1\""
   ]
  },
  {
   "cell_type": "code",
   "execution_count": 8,
   "metadata": {},
   "outputs": [],
   "source": [
    "# sweep_id = wandb.sweep(sweep_config, project=project)\n",
    "# sweep_id = '18ili8gf'\n",
    "# sweep_id = 'z95xpbwd'\n",
    "# sweep_id = 'tr8mwg42'\n",
    "# sweep_id = '2hsfpqs6'\n",
    "# sweep_id = 'gt2h3xwl'\n",
    "# sweep_id = 'y0a18l3k'\n",
    "# sweep_id = 'rl3tm5la'\n",
    "sweep_id = 'f2b4l8u4'\n"
   ]
  },
  {
   "cell_type": "code",
   "execution_count": 9,
   "metadata": {},
   "outputs": [],
   "source": [
    "def sweep_run():\n",
    "\n",
    "    with wandb.init() as run:\n",
    "        config = run.config\n",
    "\n",
    "        model = run_model.pnca_simpleGCN(\n",
    "            # sequences=sequences_dict,\n",
    "            sequences=None,\n",
    "            self_loops = False,\n",
    "            cutoff_distance = config.cutoff_distance,\n",
    "            edge_weight_func = '1-(dist/cutoff)',\n",
    "            # edge_weight_func = 'none',\n",
    "            batch_size = batch_size,\n",
    "            num_node_features = num_node_features,\n",
    "            hidden_channels = config.hidden_channels,\n",
    "            learning_rate = config.learning_rate,\n",
    "            wd = config.weight_decay,\n",
    "            dropout = config.dropout,\n",
    "            lr_scheduling=False,\n",
    "            epochs = epochs,\n",
    "            dataset = full_dataset,\n",
    "            normalise_ews=True,\n",
    "            wandb_params={\n",
    "                'use_wandb': False,\n",
    "                'sweep': True\n",
    "            }\n",
    "        )\n",
    "\n",
    "        os.makedirs(f'saved_models/carter_ds_aug/{project}/{sweep_id}', exist_ok=True)\n",
    "        \n",
    "        torch.save(model, f'saved_models/carter_ds_aug/{project}/{sweep_id}/{run.name}')"
   ]
  },
  {
   "cell_type": "code",
   "execution_count": 10,
   "metadata": {},
   "outputs": [
    {
     "name": "stderr",
     "output_type": "stream",
     "text": [
      "Failed to detect the name of this notebook, you can set it manually with the WANDB_NOTEBOOK_NAME environment variable to enable code saving.\n",
      "/usr/lib/python3/dist-packages/requests/__init__.py:87: RequestsDependencyWarning: urllib3 (2.2.3) or chardet (4.0.0) doesn't match a supported version!\n",
      "  warnings.warn(\"urllib3 ({}) or chardet ({}) doesn't match a supported \"\n",
      "\u001b[34m\u001b[1mwandb\u001b[0m: Agent Starting Run: r73o0smh with config:\n",
      "\u001b[34m\u001b[1mwandb\u001b[0m: \tcutoff_distance: 8.342651517566143\n",
      "\u001b[34m\u001b[1mwandb\u001b[0m: \tdropout: 0.8\n",
      "\u001b[34m\u001b[1mwandb\u001b[0m: \thidden_channels: 128\n",
      "\u001b[34m\u001b[1mwandb\u001b[0m: \tlearning_rate: 3.190713200531528e-05\n",
      "\u001b[34m\u001b[1mwandb\u001b[0m: \tweight_decay: 2.144764626793304e-05\n",
      "Failed to detect the name of this notebook, you can set it manually with the WANDB_NOTEBOOK_NAME environment variable to enable code saving.\n",
      "/usr/lib/python3/dist-packages/requests/__init__.py:87: RequestsDependencyWarning: urllib3 (2.2.3) or chardet (4.0.0) doesn't match a supported version!\n",
      "  warnings.warn(\"urllib3 ({}) or chardet ({}) doesn't match a supported \"\n",
      "\u001b[34m\u001b[1mwandb\u001b[0m: Currently logged in as: \u001b[33mdylan-home\u001b[0m. Use \u001b[1m`wandb login --relogin`\u001b[0m to force relogin\n"
     ]
    },
    {
     "data": {
      "text/html": [
       "wandb version 0.19.5 is available!  To upgrade, please run:\n",
       " $ pip install wandb --upgrade"
      ],
      "text/plain": [
       "<IPython.core.display.HTML object>"
      ]
     },
     "metadata": {},
     "output_type": "display_data"
    },
    {
     "data": {
      "text/html": [
       "Tracking run with wandb version 0.16.4"
      ],
      "text/plain": [
       "<IPython.core.display.HTML object>"
      ]
     },
     "metadata": {},
     "output_type": "display_data"
    },
    {
     "data": {
      "text/html": [
       "Run data is saved locally in <code>/mnt/alphafold-volume-1/dylan2/repos/tb-pnca-gnn/dd_pnca/wandb/run-20250203_131905-r73o0smh</code>"
      ],
      "text/plain": [
       "<IPython.core.display.HTML object>"
      ]
     },
     "metadata": {},
     "output_type": "display_data"
    },
    {
     "data": {
      "text/html": [
       "Syncing run <strong><a href='https://wandb.ai/dylan-home/pnca-sweep-1/runs/r73o0smh' target=\"_blank\">wandering-sweep-14</a></strong> to <a href='https://wandb.ai/dylan-home/pnca-sweep-1' target=\"_blank\">Weights & Biases</a> (<a href='https://wandb.me/run' target=\"_blank\">docs</a>)<br/>Sweep page: <a href='https://wandb.ai/dylan-home/pnca-sweep-1/sweeps/f2b4l8u4' target=\"_blank\">https://wandb.ai/dylan-home/pnca-sweep-1/sweeps/f2b4l8u4</a>"
      ],
      "text/plain": [
       "<IPython.core.display.HTML object>"
      ]
     },
     "metadata": {},
     "output_type": "display_data"
    },
    {
     "data": {
      "text/html": [
       " View project at <a href='https://wandb.ai/dylan-home/pnca-sweep-1' target=\"_blank\">https://wandb.ai/dylan-home/pnca-sweep-1</a>"
      ],
      "text/plain": [
       "<IPython.core.display.HTML object>"
      ]
     },
     "metadata": {},
     "output_type": "display_data"
    },
    {
     "data": {
      "text/html": [
       " View sweep at <a href='https://wandb.ai/dylan-home/pnca-sweep-1/sweeps/f2b4l8u4' target=\"_blank\">https://wandb.ai/dylan-home/pnca-sweep-1/sweeps/f2b4l8u4</a>"
      ],
      "text/plain": [
       "<IPython.core.display.HTML object>"
      ]
     },
     "metadata": {},
     "output_type": "display_data"
    },
    {
     "data": {
      "text/html": [
       " View run at <a href='https://wandb.ai/dylan-home/pnca-sweep-1/runs/r73o0smh' target=\"_blank\">https://wandb.ai/dylan-home/pnca-sweep-1/runs/r73o0smh</a>"
      ],
      "text/plain": [
       "<IPython.core.display.HTML object>"
      ]
     },
     "metadata": {},
     "output_type": "display_data"
    },
    {
     "name": "stdout",
     "output_type": "stream",
     "text": [
      "Using CUDA\n",
      "Early stopping enabled. Patience: 20. Min Delta: 0.\n",
      "Epoch: 010, Train Acc: 0.5264, Test Acc: 0.5103, Train Loss: 0.6870, Test Loss: 0.6875\n",
      "Epoch: 020, Train Acc: 0.5189, Test Acc: 0.4923, Train Loss: 0.6804, Test Loss: 0.6797\n",
      "Epoch: 030, Train Acc: 0.5199, Test Acc: 0.4733, Train Loss: 0.6722, Test Loss: 0.6696\n",
      "Epoch: 040, Train Acc: 0.6847, Test Acc: 0.6707, Train Loss: 0.6625, Test Loss: 0.6572\n",
      "Epoch: 050, Train Acc: 0.7136, Test Acc: 0.6797, Train Loss: 0.6454, Test Loss: 0.6402\n",
      "Epoch: 060, Train Acc: 0.7116, Test Acc: 0.6837, Train Loss: 0.6271, Test Loss: 0.6213\n",
      "Epoch: 070, Train Acc: 0.7109, Test Acc: 0.6847, Train Loss: 0.6067, Test Loss: 0.6001\n",
      "Epoch: 080, Train Acc: 0.7534, Test Acc: 0.7217, Train Loss: 0.5756, Test Loss: 0.5804\n",
      "Epoch: 090, Train Acc: 0.7621, Test Acc: 0.7240, Train Loss: 0.5504, Test Loss: 0.5586\n",
      "Epoch: 100, Train Acc: 0.7483, Test Acc: 0.7253, Train Loss: 0.5296, Test Loss: 0.5405\n",
      "Epoch: 110, Train Acc: 0.7226, Test Acc: 0.7183, Train Loss: 0.5361, Test Loss: 0.5429\n",
      "Epoch: 120, Train Acc: 0.7944, Test Acc: 0.7537, Train Loss: 0.4813, Test Loss: 0.5145\n",
      "Epoch: 130, Train Acc: 0.8017, Test Acc: 0.7563, Train Loss: 0.4658, Test Loss: 0.5112\n",
      "Epoch: 140, Train Acc: 0.7753, Test Acc: 0.7613, Train Loss: 0.4595, Test Loss: 0.4968\n",
      "Epoch: 150, Train Acc: 0.7634, Test Acc: 0.7517, Train Loss: 0.4725, Test Loss: 0.5102\n",
      "Epoch: 160, Train Acc: 0.7936, Test Acc: 0.7503, Train Loss: 0.4777, Test Loss: 0.5611\n",
      "Epoch: 170, Train Acc: 0.8216, Test Acc: 0.7587, Train Loss: 0.4272, Test Loss: 0.5085\n",
      "Epoch: 180, Train Acc: 0.8177, Test Acc: 0.7697, Train Loss: 0.4036, Test Loss: 0.4851\n",
      "Epoch: 190, Train Acc: 0.7949, Test Acc: 0.7530, Train Loss: 0.4793, Test Loss: 0.5938\n",
      "Epoch: 200, Train Acc: 0.8314, Test Acc: 0.7710, Train Loss: 0.4099, Test Loss: 0.5243\n",
      "Epoch: 210, Train Acc: 0.8307, Test Acc: 0.7670, Train Loss: 0.3839, Test Loss: 0.4975\n",
      "Epoch: 220, Train Acc: 0.8331, Test Acc: 0.7897, Train Loss: 0.3732, Test Loss: 0.4748\n",
      "20 epochs passed without 0 test loss improvement. \n",
      "Early stopping triggered.\n"
     ]
    },
    {
     "data": {
      "text/html": [
       "<style>\n",
       "    table.wandb td:nth-child(1) { padding: 0 10px; text-align: left ; width: auto;} td:nth-child(2) {text-align: left ; width: 100%}\n",
       "    .wandb-row { display: flex; flex-direction: row; flex-wrap: wrap; justify-content: flex-start; width: 100% }\n",
       "    .wandb-col { display: flex; flex-direction: column; flex-basis: 100%; flex: 1; padding: 10px; }\n",
       "    </style>\n",
       "<div class=\"wandb-row\"><div class=\"wandb-col\"><h3>Run history:</h3><br/><table class=\"wandb\"><tr><td>Test Accuracy</td><td>▂▂▂▁▁▁▁▅▆▆▂▆▆▇▇▆▇▇▇▇▇▇▇▇▇▂▇█▇▇████████▇█</td></tr><tr><td>Test F1</td><td>▄▄▄▃▂▁▃▂▄▅▂▃▂▅▅▂▆▅▆▃▇▆▄▇▅▄▅▆█▄▇▇▇▆██▇█▇▆</td></tr><tr><td>Test Loss</td><td>████▇▇▇▇▇▆▆▅▅▅▄▄▄▃▃▃▄▂▃▂▂▆▂▁▄▃▂▂▁▂▄▃▁▂▆▃</td></tr><tr><td>Test Sensitivity</td><td>███▇▆▄▇▁▃▄▅▂▂▄▄▁▅▃▃▂▆▄▂▅▃▇▃▃▆▂▅▅▄▃▆▆▄▅▇▃</td></tr><tr><td>Test Specificity</td><td>▁▁▁▁▂▂▁▇▆▆▂▇▇▇▇█▆▇▇█▅▇█▆█▂██▆█▇▆██▆▆▇▆▅█</td></tr><tr><td>Train Accuracy</td><td>▁▁▁▁▁▁▁▅▆▆▂▅▅▆▆▅▇▇▇▆▆▇▆▇▇▂▆▇▇▆██▇▇▇███▇▇</td></tr><tr><td>Train F1</td><td>▃▃▃▃▂▁▃▁▄▅▂▃▂▅▅▁▆▅▅▃▇▆▃▇▅▄▄▆▇▃██▆▆██▇█▇▅</td></tr><tr><td>Train Loss</td><td>██████▇▇▇▇▇▆▆▆▅▆▅▄▄▅▅▃▄▃▃▅▃▂▃▄▂▂▂▂▃▂▁▁▄▂</td></tr><tr><td>Train Sensitivity</td><td>███▇▆▅▇▁▄▅▆▂▂▄▄▁▅▄▄▂▇▅▂▆▃█▃▄▇▂▆▆▄▄▇▆▅▆▇▃</td></tr><tr><td>Train Specificity</td><td>▁▁▁▁▂▃▁█▇▆▂▇█▇▇█▇▇▇█▅▇█▇█▂██▆█▇▇██▆▇▇▇▅█</td></tr></table><br/></div><div class=\"wandb-col\"><h3>Run summary:</h3><br/><table class=\"wandb\"><tr><td>Test Accuracy</td><td>0.786</td></tr><tr><td>Test F1</td><td>0.78628</td></tr><tr><td>Test Loss</td><td>0.48047</td></tr><tr><td>Test Sensitivity</td><td>0.77038</td></tr><tr><td>Test Specificity</td><td>0.80232</td></tr><tr><td>Train Accuracy</td><td>0.83929</td></tr><tr><td>Train F1</td><td>0.8388</td></tr><tr><td>Train Loss</td><td>0.36358</td></tr><tr><td>Train Sensitivity</td><td>0.7943</td></tr><tr><td>Train Specificity</td><td>0.88929</td></tr></table><br/></div></div>"
      ],
      "text/plain": [
       "<IPython.core.display.HTML object>"
      ]
     },
     "metadata": {},
     "output_type": "display_data"
    },
    {
     "data": {
      "text/html": [
       " View run <strong style=\"color:#cdcd00\">wandering-sweep-14</strong> at: <a href='https://wandb.ai/dylan-home/pnca-sweep-1/runs/r73o0smh' target=\"_blank\">https://wandb.ai/dylan-home/pnca-sweep-1/runs/r73o0smh</a><br/>Synced 5 W&B file(s), 0 media file(s), 0 artifact file(s) and 0 other file(s)"
      ],
      "text/plain": [
       "<IPython.core.display.HTML object>"
      ]
     },
     "metadata": {},
     "output_type": "display_data"
    },
    {
     "data": {
      "text/html": [
       "Find logs at: <code>./wandb/run-20250203_131905-r73o0smh/logs</code>"
      ],
      "text/plain": [
       "<IPython.core.display.HTML object>"
      ]
     },
     "metadata": {},
     "output_type": "display_data"
    },
    {
     "name": "stderr",
     "output_type": "stream",
     "text": [
      "\u001b[34m\u001b[1mwandb\u001b[0m: Agent Starting Run: xu0e5mai with config:\n",
      "\u001b[34m\u001b[1mwandb\u001b[0m: \tcutoff_distance: 6.17645982460267\n",
      "\u001b[34m\u001b[1mwandb\u001b[0m: \tdropout: 0.8\n",
      "\u001b[34m\u001b[1mwandb\u001b[0m: \thidden_channels: 128\n",
      "\u001b[34m\u001b[1mwandb\u001b[0m: \tlearning_rate: 1.5128666548448246e-05\n",
      "\u001b[34m\u001b[1mwandb\u001b[0m: \tweight_decay: 4.624525582178961e-05\n",
      "Failed to detect the name of this notebook, you can set it manually with the WANDB_NOTEBOOK_NAME environment variable to enable code saving.\n",
      "/usr/lib/python3/dist-packages/requests/__init__.py:87: RequestsDependencyWarning: urllib3 (2.2.3) or chardet (4.0.0) doesn't match a supported version!\n",
      "  warnings.warn(\"urllib3 ({}) or chardet ({}) doesn't match a supported \"\n"
     ]
    },
    {
     "data": {
      "text/html": [
       "wandb version 0.19.5 is available!  To upgrade, please run:\n",
       " $ pip install wandb --upgrade"
      ],
      "text/plain": [
       "<IPython.core.display.HTML object>"
      ]
     },
     "metadata": {},
     "output_type": "display_data"
    },
    {
     "data": {
      "text/html": [
       "Tracking run with wandb version 0.16.4"
      ],
      "text/plain": [
       "<IPython.core.display.HTML object>"
      ]
     },
     "metadata": {},
     "output_type": "display_data"
    },
    {
     "data": {
      "text/html": [
       "Run data is saved locally in <code>/mnt/alphafold-volume-1/dylan2/repos/tb-pnca-gnn/dd_pnca/wandb/run-20250203_132708-xu0e5mai</code>"
      ],
      "text/plain": [
       "<IPython.core.display.HTML object>"
      ]
     },
     "metadata": {},
     "output_type": "display_data"
    },
    {
     "data": {
      "text/html": [
       "Syncing run <strong><a href='https://wandb.ai/dylan-home/pnca-sweep-1/runs/xu0e5mai' target=\"_blank\">faithful-sweep-15</a></strong> to <a href='https://wandb.ai/dylan-home/pnca-sweep-1' target=\"_blank\">Weights & Biases</a> (<a href='https://wandb.me/run' target=\"_blank\">docs</a>)<br/>Sweep page: <a href='https://wandb.ai/dylan-home/pnca-sweep-1/sweeps/f2b4l8u4' target=\"_blank\">https://wandb.ai/dylan-home/pnca-sweep-1/sweeps/f2b4l8u4</a>"
      ],
      "text/plain": [
       "<IPython.core.display.HTML object>"
      ]
     },
     "metadata": {},
     "output_type": "display_data"
    },
    {
     "data": {
      "text/html": [
       " View project at <a href='https://wandb.ai/dylan-home/pnca-sweep-1' target=\"_blank\">https://wandb.ai/dylan-home/pnca-sweep-1</a>"
      ],
      "text/plain": [
       "<IPython.core.display.HTML object>"
      ]
     },
     "metadata": {},
     "output_type": "display_data"
    },
    {
     "data": {
      "text/html": [
       " View sweep at <a href='https://wandb.ai/dylan-home/pnca-sweep-1/sweeps/f2b4l8u4' target=\"_blank\">https://wandb.ai/dylan-home/pnca-sweep-1/sweeps/f2b4l8u4</a>"
      ],
      "text/plain": [
       "<IPython.core.display.HTML object>"
      ]
     },
     "metadata": {},
     "output_type": "display_data"
    },
    {
     "data": {
      "text/html": [
       " View run at <a href='https://wandb.ai/dylan-home/pnca-sweep-1/runs/xu0e5mai' target=\"_blank\">https://wandb.ai/dylan-home/pnca-sweep-1/runs/xu0e5mai</a>"
      ],
      "text/plain": [
       "<IPython.core.display.HTML object>"
      ]
     },
     "metadata": {},
     "output_type": "display_data"
    },
    {
     "name": "stdout",
     "output_type": "stream",
     "text": [
      "Using CUDA\n",
      "Early stopping enabled. Patience: 20. Min Delta: 0.\n",
      "Epoch: 010, Train Acc: 0.5264, Test Acc: 0.5110, Train Loss: 0.6913, Test Loss: 0.6927\n",
      "Epoch: 020, Train Acc: 0.5264, Test Acc: 0.5110, Train Loss: 0.6908, Test Loss: 0.6922\n",
      "Epoch: 030, Train Acc: 0.5264, Test Acc: 0.5110, Train Loss: 0.6906, Test Loss: 0.6918\n",
      "Epoch: 040, Train Acc: 0.5264, Test Acc: 0.5110, Train Loss: 0.6901, Test Loss: 0.6917\n",
      "Epoch: 050, Train Acc: 0.5264, Test Acc: 0.5110, Train Loss: 0.6897, Test Loss: 0.6912\n",
      "Epoch: 060, Train Acc: 0.5264, Test Acc: 0.5110, Train Loss: 0.6888, Test Loss: 0.6908\n",
      "Epoch: 070, Train Acc: 0.5264, Test Acc: 0.5110, Train Loss: 0.6884, Test Loss: 0.6901\n",
      "Epoch: 080, Train Acc: 0.5264, Test Acc: 0.5110, Train Loss: 0.6880, Test Loss: 0.6898\n",
      "Epoch: 090, Train Acc: 0.5264, Test Acc: 0.5110, Train Loss: 0.6872, Test Loss: 0.6888\n",
      "Epoch: 100, Train Acc: 0.5264, Test Acc: 0.5110, Train Loss: 0.6865, Test Loss: 0.6883\n",
      "Epoch: 110, Train Acc: 0.5266, Test Acc: 0.5110, Train Loss: 0.6857, Test Loss: 0.6875\n",
      "Epoch: 120, Train Acc: 0.5261, Test Acc: 0.5110, Train Loss: 0.6846, Test Loss: 0.6865\n",
      "Epoch: 130, Train Acc: 0.5261, Test Acc: 0.5110, Train Loss: 0.6835, Test Loss: 0.6857\n",
      "Epoch: 140, Train Acc: 0.5257, Test Acc: 0.5103, Train Loss: 0.6824, Test Loss: 0.6846\n",
      "Epoch: 150, Train Acc: 0.5239, Test Acc: 0.5093, Train Loss: 0.6807, Test Loss: 0.6832\n",
      "Epoch: 160, Train Acc: 0.5197, Test Acc: 0.5083, Train Loss: 0.6787, Test Loss: 0.6815\n",
      "Epoch: 170, Train Acc: 0.5209, Test Acc: 0.5070, Train Loss: 0.6774, Test Loss: 0.6799\n",
      "Epoch: 180, Train Acc: 0.5216, Test Acc: 0.5023, Train Loss: 0.6748, Test Loss: 0.6777\n",
      "Epoch: 190, Train Acc: 0.5184, Test Acc: 0.4957, Train Loss: 0.6723, Test Loss: 0.6754\n",
      "Epoch: 200, Train Acc: 0.5311, Test Acc: 0.4823, Train Loss: 0.6695, Test Loss: 0.6726\n",
      "Epoch: 210, Train Acc: 0.7251, Test Acc: 0.6750, Train Loss: 0.6665, Test Loss: 0.6696\n",
      "Epoch: 220, Train Acc: 0.7266, Test Acc: 0.6760, Train Loss: 0.6627, Test Loss: 0.6665\n",
      "Epoch: 230, Train Acc: 0.5474, Test Acc: 0.4930, Train Loss: 0.6592, Test Loss: 0.6633\n",
      "Epoch: 240, Train Acc: 0.5464, Test Acc: 0.4920, Train Loss: 0.6548, Test Loss: 0.6599\n",
      "Epoch: 250, Train Acc: 0.7374, Test Acc: 0.6980, Train Loss: 0.6500, Test Loss: 0.6549\n",
      "Epoch: 260, Train Acc: 0.7370, Test Acc: 0.6967, Train Loss: 0.6456, Test Loss: 0.6505\n",
      "Epoch: 270, Train Acc: 0.7091, Test Acc: 0.6943, Train Loss: 0.6401, Test Loss: 0.6455\n",
      "Epoch: 280, Train Acc: 0.7216, Test Acc: 0.7020, Train Loss: 0.6345, Test Loss: 0.6403\n",
      "Epoch: 290, Train Acc: 0.7224, Test Acc: 0.7050, Train Loss: 0.6292, Test Loss: 0.6352\n",
      "Epoch: 300, Train Acc: 0.7196, Test Acc: 0.7047, Train Loss: 0.6233, Test Loss: 0.6297\n",
      "Epoch: 310, Train Acc: 0.7300, Test Acc: 0.7080, Train Loss: 0.6180, Test Loss: 0.6241\n",
      "Epoch: 320, Train Acc: 0.7029, Test Acc: 0.7083, Train Loss: 0.6124, Test Loss: 0.6185\n",
      "Epoch: 330, Train Acc: 0.6854, Test Acc: 0.7073, Train Loss: 0.6083, Test Loss: 0.6142\n",
      "Epoch: 340, Train Acc: 0.7681, Test Acc: 0.7147, Train Loss: 0.6022, Test Loss: 0.6129\n",
      "Epoch: 350, Train Acc: 0.7236, Test Acc: 0.7153, Train Loss: 0.5925, Test Loss: 0.6009\n",
      "Epoch: 360, Train Acc: 0.7204, Test Acc: 0.7247, Train Loss: 0.5869, Test Loss: 0.5955\n",
      "Epoch: 370, Train Acc: 0.7291, Test Acc: 0.7267, Train Loss: 0.5784, Test Loss: 0.5898\n",
      "Epoch: 380, Train Acc: 0.7331, Test Acc: 0.7293, Train Loss: 0.5730, Test Loss: 0.5842\n",
      "Epoch: 390, Train Acc: 0.7444, Test Acc: 0.7263, Train Loss: 0.5641, Test Loss: 0.5789\n",
      "Epoch: 400, Train Acc: 0.7487, Test Acc: 0.7297, Train Loss: 0.5576, Test Loss: 0.5736\n",
      "Epoch: 410, Train Acc: 0.7550, Test Acc: 0.7347, Train Loss: 0.5512, Test Loss: 0.5691\n",
      "Epoch: 420, Train Acc: 0.7434, Test Acc: 0.7367, Train Loss: 0.5459, Test Loss: 0.5638\n",
      "Epoch: 430, Train Acc: 0.7259, Test Acc: 0.7277, Train Loss: 0.5442, Test Loss: 0.5623\n",
      "Epoch: 440, Train Acc: 0.7717, Test Acc: 0.7437, Train Loss: 0.5302, Test Loss: 0.5561\n",
      "Epoch: 450, Train Acc: 0.7693, Test Acc: 0.7497, Train Loss: 0.5205, Test Loss: 0.5509\n",
      "Epoch: 460, Train Acc: 0.7614, Test Acc: 0.7450, Train Loss: 0.5167, Test Loss: 0.5456\n",
      "Epoch: 470, Train Acc: 0.7399, Test Acc: 0.7333, Train Loss: 0.5184, Test Loss: 0.5481\n",
      "Epoch: 480, Train Acc: 0.7911, Test Acc: 0.7563, Train Loss: 0.5060, Test Loss: 0.5477\n",
      "Epoch: 490, Train Acc: 0.7727, Test Acc: 0.7550, Train Loss: 0.4940, Test Loss: 0.5348\n",
      "Epoch: 500, Train Acc: 0.7669, Test Acc: 0.7533, Train Loss: 0.4903, Test Loss: 0.5328\n",
      "Epoch: 510, Train Acc: 0.7710, Test Acc: 0.7553, Train Loss: 0.4822, Test Loss: 0.5298\n",
      "Epoch: 520, Train Acc: 0.7901, Test Acc: 0.7687, Train Loss: 0.4741, Test Loss: 0.5293\n",
      "Epoch: 530, Train Acc: 0.7923, Test Acc: 0.7637, Train Loss: 0.4671, Test Loss: 0.5260\n",
      "Epoch: 540, Train Acc: 0.7817, Test Acc: 0.7623, Train Loss: 0.4661, Test Loss: 0.5237\n",
      "Epoch: 550, Train Acc: 0.7969, Test Acc: 0.7640, Train Loss: 0.4566, Test Loss: 0.5228\n",
      "Epoch: 560, Train Acc: 0.8101, Test Acc: 0.7697, Train Loss: 0.4543, Test Loss: 0.5298\n",
      "Epoch: 570, Train Acc: 0.7917, Test Acc: 0.7683, Train Loss: 0.4491, Test Loss: 0.5201\n",
      "Epoch: 580, Train Acc: 0.7933, Test Acc: 0.7607, Train Loss: 0.4483, Test Loss: 0.5226\n",
      "Epoch: 590, Train Acc: 0.8030, Test Acc: 0.7653, Train Loss: 0.4331, Test Loss: 0.5169\n",
      "Epoch: 600, Train Acc: 0.8079, Test Acc: 0.7700, Train Loss: 0.4283, Test Loss: 0.5184\n",
      "Epoch: 610, Train Acc: 0.8083, Test Acc: 0.7670, Train Loss: 0.4237, Test Loss: 0.5173\n",
      "Epoch: 620, Train Acc: 0.8093, Test Acc: 0.7717, Train Loss: 0.4170, Test Loss: 0.5167\n",
      "Epoch: 630, Train Acc: 0.8231, Test Acc: 0.7720, Train Loss: 0.4191, Test Loss: 0.5289\n",
      "20 epochs passed without 0 test loss improvement. \n",
      "Early stopping triggered.\n"
     ]
    },
    {
     "data": {
      "text/html": [
       "<style>\n",
       "    table.wandb td:nth-child(1) { padding: 0 10px; text-align: left ; width: auto;} td:nth-child(2) {text-align: left ; width: 100%}\n",
       "    .wandb-row { display: flex; flex-direction: row; flex-wrap: wrap; justify-content: flex-start; width: 100% }\n",
       "    .wandb-col { display: flex; flex-direction: column; flex-basis: 100%; flex: 1; padding: 10px; }\n",
       "    </style>\n",
       "<div class=\"wandb-row\"><div class=\"wandb-col\"><h3>Run history:</h3><br/><table class=\"wandb\"><tr><td>Test Accuracy</td><td>▂▂▂▂▂▂▂▂▂▂▂▁▁▁▆▆▆▆▆▇▆▁▇▇▇▇▇▇▇▇██████████</td></tr><tr><td>Test F1</td><td>▄▄▄▄▄▄▄▄▄▄▃▂▁▁▅▅▅▄▅▅▃▂▄▅▅▅▅▆▆▆▆▇██▇▇▇██▇</td></tr><tr><td>Test Loss</td><td>███████████▇▇▇▇▇▆▆▆▅▅▅▄▄▃▃▃▃▂▂▂▂▁▂▁▁▁▁▁▁</td></tr><tr><td>Test Sensitivity</td><td>███████████▇▅▅▄▄▃▂▂▂▁▇▁▁▂▁▁▃▂▂▂▃▃▄▂▃▃▃▃▂</td></tr><tr><td>Test Specificity</td><td>▁▁▁▁▁▁▁▁▁▁▁▁▂▂▆▆▆▇▇▇█▂█████▇████▇▇██████</td></tr><tr><td>Train Accuracy</td><td>▁▁▁▁▁▁▁▁▁▁▁▁▁▂▆▆▆▆▆▆▆▂▆▆▆▆▆▇▇▇▇▇████████</td></tr><tr><td>Train F1</td><td>▂▂▂▂▂▂▂▂▂▂▂▁▁▁▅▆▅▃▅▄▂▂▃▃▄▄▄▆▅▅▆▇▇█▇▇▇██▇</td></tr><tr><td>Train Loss</td><td>████████████▇▇▇▇▇▇▆▆▆▆▅▅▅▄▄▄▄▃▃▃▂▂▂▂▁▁▁▁</td></tr><tr><td>Train Sensitivity</td><td>███████████▇▆▅▄▄▃▂▃▂▁▇▁▁▂▂▂▃▂▂▃▃▄▄▃▃▃▄▄▃</td></tr><tr><td>Train Specificity</td><td>▁▁▁▁▁▁▁▁▁▁▁▁▂▃▆▆▇▇▇▇▇▂▇▇▇▇█▇▇██▇▇▇█▇█▇██</td></tr></table><br/></div><div class=\"wandb-col\"><h3>Run summary:</h3><br/><table class=\"wandb\"><tr><td>Test Accuracy</td><td>0.765</td></tr><tr><td>Test F1</td><td>0.74613</td></tr><tr><td>Test Loss</td><td>0.51768</td></tr><tr><td>Test Sensitivity</td><td>0.6758</td></tr><tr><td>Test Specificity</td><td>0.85821</td></tr><tr><td>Train Accuracy</td><td>0.81429</td></tr><tr><td>Train F1</td><td>0.80122</td></tr><tr><td>Train Loss</td><td>0.41343</td></tr><tr><td>Train Sensitivity</td><td>0.71099</td></tr><tr><td>Train Specificity</td><td>0.92911</td></tr></table><br/></div></div>"
      ],
      "text/plain": [
       "<IPython.core.display.HTML object>"
      ]
     },
     "metadata": {},
     "output_type": "display_data"
    },
    {
     "data": {
      "text/html": [
       " View run <strong style=\"color:#cdcd00\">faithful-sweep-15</strong> at: <a href='https://wandb.ai/dylan-home/pnca-sweep-1/runs/xu0e5mai' target=\"_blank\">https://wandb.ai/dylan-home/pnca-sweep-1/runs/xu0e5mai</a><br/>Synced 5 W&B file(s), 0 media file(s), 0 artifact file(s) and 0 other file(s)"
      ],
      "text/plain": [
       "<IPython.core.display.HTML object>"
      ]
     },
     "metadata": {},
     "output_type": "display_data"
    },
    {
     "data": {
      "text/html": [
       "Find logs at: <code>./wandb/run-20250203_132708-xu0e5mai/logs</code>"
      ],
      "text/plain": [
       "<IPython.core.display.HTML object>"
      ]
     },
     "metadata": {},
     "output_type": "display_data"
    },
    {
     "name": "stderr",
     "output_type": "stream",
     "text": [
      "\u001b[34m\u001b[1mwandb\u001b[0m: Agent Starting Run: upz7nx1n with config:\n",
      "\u001b[34m\u001b[1mwandb\u001b[0m: \tcutoff_distance: 7.878700247570846\n",
      "\u001b[34m\u001b[1mwandb\u001b[0m: \tdropout: 0.6\n",
      "\u001b[34m\u001b[1mwandb\u001b[0m: \thidden_channels: 320\n",
      "\u001b[34m\u001b[1mwandb\u001b[0m: \tlearning_rate: 5.122166055847904e-06\n",
      "\u001b[34m\u001b[1mwandb\u001b[0m: \tweight_decay: 8.80197180083352e-05\n",
      "Failed to detect the name of this notebook, you can set it manually with the WANDB_NOTEBOOK_NAME environment variable to enable code saving.\n",
      "/usr/lib/python3/dist-packages/requests/__init__.py:87: RequestsDependencyWarning: urllib3 (2.2.3) or chardet (4.0.0) doesn't match a supported version!\n",
      "  warnings.warn(\"urllib3 ({}) or chardet ({}) doesn't match a supported \"\n"
     ]
    },
    {
     "data": {
      "text/html": [
       "wandb version 0.19.5 is available!  To upgrade, please run:\n",
       " $ pip install wandb --upgrade"
      ],
      "text/plain": [
       "<IPython.core.display.HTML object>"
      ]
     },
     "metadata": {},
     "output_type": "display_data"
    },
    {
     "data": {
      "text/html": [
       "Tracking run with wandb version 0.16.4"
      ],
      "text/plain": [
       "<IPython.core.display.HTML object>"
      ]
     },
     "metadata": {},
     "output_type": "display_data"
    },
    {
     "data": {
      "text/html": [
       "Run data is saved locally in <code>/mnt/alphafold-volume-1/dylan2/repos/tb-pnca-gnn/dd_pnca/wandb/run-20250203_134508-upz7nx1n</code>"
      ],
      "text/plain": [
       "<IPython.core.display.HTML object>"
      ]
     },
     "metadata": {},
     "output_type": "display_data"
    },
    {
     "data": {
      "text/html": [
       "Syncing run <strong><a href='https://wandb.ai/dylan-home/pnca-sweep-1/runs/upz7nx1n' target=\"_blank\">ethereal-sweep-16</a></strong> to <a href='https://wandb.ai/dylan-home/pnca-sweep-1' target=\"_blank\">Weights & Biases</a> (<a href='https://wandb.me/run' target=\"_blank\">docs</a>)<br/>Sweep page: <a href='https://wandb.ai/dylan-home/pnca-sweep-1/sweeps/f2b4l8u4' target=\"_blank\">https://wandb.ai/dylan-home/pnca-sweep-1/sweeps/f2b4l8u4</a>"
      ],
      "text/plain": [
       "<IPython.core.display.HTML object>"
      ]
     },
     "metadata": {},
     "output_type": "display_data"
    },
    {
     "data": {
      "text/html": [
       " View project at <a href='https://wandb.ai/dylan-home/pnca-sweep-1' target=\"_blank\">https://wandb.ai/dylan-home/pnca-sweep-1</a>"
      ],
      "text/plain": [
       "<IPython.core.display.HTML object>"
      ]
     },
     "metadata": {},
     "output_type": "display_data"
    },
    {
     "data": {
      "text/html": [
       " View sweep at <a href='https://wandb.ai/dylan-home/pnca-sweep-1/sweeps/f2b4l8u4' target=\"_blank\">https://wandb.ai/dylan-home/pnca-sweep-1/sweeps/f2b4l8u4</a>"
      ],
      "text/plain": [
       "<IPython.core.display.HTML object>"
      ]
     },
     "metadata": {},
     "output_type": "display_data"
    },
    {
     "data": {
      "text/html": [
       " View run at <a href='https://wandb.ai/dylan-home/pnca-sweep-1/runs/upz7nx1n' target=\"_blank\">https://wandb.ai/dylan-home/pnca-sweep-1/runs/upz7nx1n</a>"
      ],
      "text/plain": [
       "<IPython.core.display.HTML object>"
      ]
     },
     "metadata": {},
     "output_type": "display_data"
    },
    {
     "name": "stdout",
     "output_type": "stream",
     "text": [
      "Using CUDA\n",
      "Early stopping enabled. Patience: 20. Min Delta: 0.\n",
      "Epoch: 010, Train Acc: 0.5263, Test Acc: 0.5107, Train Loss: 0.6864, Test Loss: 0.6873\n",
      "Epoch: 020, Train Acc: 0.5219, Test Acc: 0.5030, Train Loss: 0.6823, Test Loss: 0.6823\n",
      "Epoch: 030, Train Acc: 0.5204, Test Acc: 0.4990, Train Loss: 0.6786, Test Loss: 0.6783\n",
      "Epoch: 040, Train Acc: 0.5121, Test Acc: 0.4867, Train Loss: 0.6745, Test Loss: 0.6733\n",
      "Epoch: 050, Train Acc: 0.5123, Test Acc: 0.4873, Train Loss: 0.6701, Test Loss: 0.6692\n",
      "Epoch: 060, Train Acc: 0.7217, Test Acc: 0.6767, Train Loss: 0.6664, Test Loss: 0.6633\n",
      "Epoch: 070, Train Acc: 0.7224, Test Acc: 0.6900, Train Loss: 0.6612, Test Loss: 0.6579\n",
      "Epoch: 080, Train Acc: 0.7264, Test Acc: 0.6903, Train Loss: 0.6555, Test Loss: 0.6519\n",
      "Epoch: 090, Train Acc: 0.5183, Test Acc: 0.4943, Train Loss: 0.6494, Test Loss: 0.6475\n",
      "Epoch: 100, Train Acc: 0.7276, Test Acc: 0.6977, Train Loss: 0.6431, Test Loss: 0.6397\n",
      "Epoch: 110, Train Acc: 0.7337, Test Acc: 0.7027, Train Loss: 0.6363, Test Loss: 0.6338\n",
      "Epoch: 120, Train Acc: 0.7316, Test Acc: 0.7140, Train Loss: 0.6286, Test Loss: 0.6251\n",
      "Epoch: 130, Train Acc: 0.7409, Test Acc: 0.7127, Train Loss: 0.6201, Test Loss: 0.6191\n",
      "Epoch: 140, Train Acc: 0.7446, Test Acc: 0.7127, Train Loss: 0.6121, Test Loss: 0.6122\n",
      "Epoch: 150, Train Acc: 0.7443, Test Acc: 0.7203, Train Loss: 0.6067, Test Loss: 0.6094\n",
      "Epoch: 160, Train Acc: 0.7456, Test Acc: 0.7280, Train Loss: 0.5959, Test Loss: 0.5972\n",
      "Epoch: 170, Train Acc: 0.7436, Test Acc: 0.7297, Train Loss: 0.5890, Test Loss: 0.5901\n",
      "Epoch: 180, Train Acc: 0.7570, Test Acc: 0.7313, Train Loss: 0.5792, Test Loss: 0.5854\n",
      "Epoch: 190, Train Acc: 0.7599, Test Acc: 0.7293, Train Loss: 0.5722, Test Loss: 0.5828\n",
      "Epoch: 200, Train Acc: 0.7593, Test Acc: 0.7383, Train Loss: 0.5630, Test Loss: 0.5738\n",
      "Epoch: 210, Train Acc: 0.7666, Test Acc: 0.7357, Train Loss: 0.5571, Test Loss: 0.5706\n",
      "Epoch: 220, Train Acc: 0.7599, Test Acc: 0.7420, Train Loss: 0.5477, Test Loss: 0.5635\n",
      "Epoch: 230, Train Acc: 0.7566, Test Acc: 0.7383, Train Loss: 0.5414, Test Loss: 0.5577\n",
      "Epoch: 240, Train Acc: 0.7569, Test Acc: 0.7387, Train Loss: 0.5349, Test Loss: 0.5531\n",
      "Epoch: 250, Train Acc: 0.7684, Test Acc: 0.7473, Train Loss: 0.5270, Test Loss: 0.5514\n",
      "Epoch: 260, Train Acc: 0.7647, Test Acc: 0.7390, Train Loss: 0.5223, Test Loss: 0.5447\n",
      "Epoch: 270, Train Acc: 0.7713, Test Acc: 0.7447, Train Loss: 0.5124, Test Loss: 0.5419\n",
      "Epoch: 280, Train Acc: 0.7707, Test Acc: 0.7450, Train Loss: 0.5089, Test Loss: 0.5373\n",
      "Epoch: 290, Train Acc: 0.7737, Test Acc: 0.7523, Train Loss: 0.5127, Test Loss: 0.5541\n",
      "Epoch: 300, Train Acc: 0.7576, Test Acc: 0.7327, Train Loss: 0.5072, Test Loss: 0.5356\n",
      "Epoch: 310, Train Acc: 0.7807, Test Acc: 0.7557, Train Loss: 0.4898, Test Loss: 0.5310\n",
      "Epoch: 320, Train Acc: 0.7823, Test Acc: 0.7557, Train Loss: 0.4823, Test Loss: 0.5286\n",
      "Epoch: 330, Train Acc: 0.7780, Test Acc: 0.7463, Train Loss: 0.4800, Test Loss: 0.5230\n",
      "Epoch: 340, Train Acc: 0.7886, Test Acc: 0.7573, Train Loss: 0.4719, Test Loss: 0.5220\n",
      "Epoch: 350, Train Acc: 0.7889, Test Acc: 0.7597, Train Loss: 0.4655, Test Loss: 0.5191\n",
      "Epoch: 360, Train Acc: 0.7924, Test Acc: 0.7663, Train Loss: 0.4618, Test Loss: 0.5198\n",
      "Epoch: 370, Train Acc: 0.7933, Test Acc: 0.7800, Train Loss: 0.4677, Test Loss: 0.5332\n",
      "Epoch: 380, Train Acc: 0.7903, Test Acc: 0.7540, Train Loss: 0.4547, Test Loss: 0.5111\n",
      "Epoch: 390, Train Acc: 0.7993, Test Acc: 0.7663, Train Loss: 0.4481, Test Loss: 0.5120\n",
      "Epoch: 400, Train Acc: 0.8013, Test Acc: 0.7717, Train Loss: 0.4447, Test Loss: 0.5134\n",
      "Epoch: 410, Train Acc: 0.7939, Test Acc: 0.7607, Train Loss: 0.4407, Test Loss: 0.5058\n",
      "Epoch: 420, Train Acc: 0.8043, Test Acc: 0.7673, Train Loss: 0.4334, Test Loss: 0.5068\n",
      "Epoch: 430, Train Acc: 0.8049, Test Acc: 0.7687, Train Loss: 0.4294, Test Loss: 0.5066\n",
      "Epoch: 440, Train Acc: 0.7997, Test Acc: 0.7630, Train Loss: 0.4274, Test Loss: 0.5031\n",
      "Epoch: 450, Train Acc: 0.8080, Test Acc: 0.7683, Train Loss: 0.4215, Test Loss: 0.5020\n",
      "Epoch: 460, Train Acc: 0.7831, Test Acc: 0.7397, Train Loss: 0.4444, Test Loss: 0.5167\n",
      "Epoch: 470, Train Acc: 0.8087, Test Acc: 0.7690, Train Loss: 0.4167, Test Loss: 0.5001\n",
      "Epoch: 480, Train Acc: 0.8117, Test Acc: 0.7697, Train Loss: 0.4110, Test Loss: 0.4996\n",
      "Epoch: 490, Train Acc: 0.8139, Test Acc: 0.7727, Train Loss: 0.4061, Test Loss: 0.5010\n",
      "Epoch: 500, Train Acc: 0.8223, Test Acc: 0.7847, Train Loss: 0.4166, Test Loss: 0.5222\n",
      "Epoch: 510, Train Acc: 0.8233, Test Acc: 0.7800, Train Loss: 0.4005, Test Loss: 0.5028\n",
      "Epoch: 520, Train Acc: 0.8257, Test Acc: 0.7840, Train Loss: 0.3958, Test Loss: 0.5030\n",
      "Epoch: 530, Train Acc: 0.8249, Test Acc: 0.7730, Train Loss: 0.3911, Test Loss: 0.4988\n",
      "Epoch: 540, Train Acc: 0.8223, Test Acc: 0.7673, Train Loss: 0.3900, Test Loss: 0.4985\n",
      "Epoch: 550, Train Acc: 0.8330, Test Acc: 0.7930, Train Loss: 0.3967, Test Loss: 0.5160\n",
      "20 epochs passed without 0 test loss improvement. \n",
      "Early stopping triggered.\n"
     ]
    },
    {
     "data": {
      "text/html": [
       "<style>\n",
       "    table.wandb td:nth-child(1) { padding: 0 10px; text-align: left ; width: auto;} td:nth-child(2) {text-align: left ; width: 100%}\n",
       "    .wandb-row { display: flex; flex-direction: row; flex-wrap: wrap; justify-content: flex-start; width: 100% }\n",
       "    .wandb-col { display: flex; flex-direction: column; flex-basis: 100%; flex: 1; padding: 10px; }\n",
       "    </style>\n",
       "<div class=\"wandb-row\"><div class=\"wandb-col\"><h3>Run history:</h3><br/><table class=\"wandb\"><tr><td>Test Accuracy</td><td>▂▂▁▅▁▁▆▆▆▆▆▇▇▇▇▇▇▇▇▇▇▇▇▇▇▇▇▇▇▇▆▇▇▇▇█████</td></tr><tr><td>Test F1</td><td>▄▄▂▄▁▂▅▅▄▄▅▅▅▅▅▅▅▅▅▆▆▆▆▇▇▇▆▆▇▅▃▆▅▇▇▇█▇▇█</td></tr><tr><td>Test Loss</td><td>███▇▇▇▇▆▆▅▅▅▄▄▄▃▃▃▃▃▂▂▂▂▃▂▂▁▂▁▄▁▂▂▁▁▂▁▁▂</td></tr><tr><td>Test Sensitivity</td><td>██▇▃▅▆▄▄▃▃▄▃▃▃▃▃▃▃▃▄▃▄▄▄▅▄▄▄▄▃▁▃▃▅▄▄▅▄▄▅</td></tr><tr><td>Test Specificity</td><td>▁▁▁▆▂▂▆▆▇▇▆▇▇▇▇▇▇▇▇▇▇▇▇▇▇▇▇▇▇▇█▇▇▆▇▇▇▇▇▇</td></tr><tr><td>Train Accuracy</td><td>▁▁▁▅▁▁▆▆▆▆▆▆▆▆▆▆▆▆▆▇▇▇▇▇▇▇▇▇▇▇▆▇▇▇██████</td></tr><tr><td>Train F1</td><td>▃▃▂▃▁▂▅▅▄▄▅▄▄▅▅▄▄▅▅▆▅▆▆▆▇▆▆▆▆▆▃▆▅▇▇▇██▇█</td></tr><tr><td>Train Loss</td><td>█████▇▇▇▇▆▆▆▆▅▅▅▅▄▄▄▄▄▃▃▃▃▃▂▂▂▄▂▂▂▁▁▂▁▁▁</td></tr><tr><td>Train Sensitivity</td><td>██▇▃▅▆▄▄▃▃▄▃▃▃▃▃▃▃▃▄▃▄▄▄▅▄▄▄▄▃▁▄▃▆▄▄▆▅▄▆</td></tr><tr><td>Train Specificity</td><td>▁▁▁▇▃▂▆▆▇▇▇▇▇▇▇▇▇▇▇▇▇▇▇▇▇▇▇▇▇████▇▇▇▇▇█▇</td></tr></table><br/></div><div class=\"wandb-col\"><h3>Run summary:</h3><br/><table class=\"wandb\"><tr><td>Test Accuracy</td><td>0.79</td></tr><tr><td>Test F1</td><td>0.79</td></tr><tr><td>Test Loss</td><td>0.50817</td></tr><tr><td>Test Sensitivity</td><td>0.77299</td></tr><tr><td>Test Specificity</td><td>0.80777</td></tr><tr><td>Train Accuracy</td><td>0.83</td></tr><tr><td>Train F1</td><td>0.83426</td></tr><tr><td>Train Loss</td><td>0.3869</td></tr><tr><td>Train Sensitivity</td><td>0.81275</td></tr><tr><td>Train Specificity</td><td>0.84917</td></tr></table><br/></div></div>"
      ],
      "text/plain": [
       "<IPython.core.display.HTML object>"
      ]
     },
     "metadata": {},
     "output_type": "display_data"
    },
    {
     "data": {
      "text/html": [
       " View run <strong style=\"color:#cdcd00\">ethereal-sweep-16</strong> at: <a href='https://wandb.ai/dylan-home/pnca-sweep-1/runs/upz7nx1n' target=\"_blank\">https://wandb.ai/dylan-home/pnca-sweep-1/runs/upz7nx1n</a><br/>Synced 5 W&B file(s), 0 media file(s), 0 artifact file(s) and 0 other file(s)"
      ],
      "text/plain": [
       "<IPython.core.display.HTML object>"
      ]
     },
     "metadata": {},
     "output_type": "display_data"
    },
    {
     "data": {
      "text/html": [
       "Find logs at: <code>./wandb/run-20250203_134508-upz7nx1n/logs</code>"
      ],
      "text/plain": [
       "<IPython.core.display.HTML object>"
      ]
     },
     "metadata": {},
     "output_type": "display_data"
    },
    {
     "name": "stderr",
     "output_type": "stream",
     "text": [
      "\u001b[34m\u001b[1mwandb\u001b[0m: Agent Starting Run: epinu8tq with config:\n",
      "\u001b[34m\u001b[1mwandb\u001b[0m: \tcutoff_distance: 4.0453896199381525\n",
      "\u001b[34m\u001b[1mwandb\u001b[0m: \tdropout: 0.8\n",
      "\u001b[34m\u001b[1mwandb\u001b[0m: \thidden_channels: 256\n",
      "\u001b[34m\u001b[1mwandb\u001b[0m: \tlearning_rate: 0.000468051498036284\n",
      "\u001b[34m\u001b[1mwandb\u001b[0m: \tweight_decay: 0.0001094998265805939\n",
      "Failed to detect the name of this notebook, you can set it manually with the WANDB_NOTEBOOK_NAME environment variable to enable code saving.\n",
      "/usr/lib/python3/dist-packages/requests/__init__.py:87: RequestsDependencyWarning: urllib3 (2.2.3) or chardet (4.0.0) doesn't match a supported version!\n",
      "  warnings.warn(\"urllib3 ({}) or chardet ({}) doesn't match a supported \"\n"
     ]
    },
    {
     "data": {
      "text/html": [
       "wandb version 0.19.5 is available!  To upgrade, please run:\n",
       " $ pip install wandb --upgrade"
      ],
      "text/plain": [
       "<IPython.core.display.HTML object>"
      ]
     },
     "metadata": {},
     "output_type": "display_data"
    },
    {
     "data": {
      "text/html": [
       "Tracking run with wandb version 0.16.4"
      ],
      "text/plain": [
       "<IPython.core.display.HTML object>"
      ]
     },
     "metadata": {},
     "output_type": "display_data"
    },
    {
     "data": {
      "text/html": [
       "Run data is saved locally in <code>/mnt/alphafold-volume-1/dylan2/repos/tb-pnca-gnn/dd_pnca/wandb/run-20250203_140908-epinu8tq</code>"
      ],
      "text/plain": [
       "<IPython.core.display.HTML object>"
      ]
     },
     "metadata": {},
     "output_type": "display_data"
    },
    {
     "data": {
      "text/html": [
       "Syncing run <strong><a href='https://wandb.ai/dylan-home/pnca-sweep-1/runs/epinu8tq' target=\"_blank\">major-sweep-17</a></strong> to <a href='https://wandb.ai/dylan-home/pnca-sweep-1' target=\"_blank\">Weights & Biases</a> (<a href='https://wandb.me/run' target=\"_blank\">docs</a>)<br/>Sweep page: <a href='https://wandb.ai/dylan-home/pnca-sweep-1/sweeps/f2b4l8u4' target=\"_blank\">https://wandb.ai/dylan-home/pnca-sweep-1/sweeps/f2b4l8u4</a>"
      ],
      "text/plain": [
       "<IPython.core.display.HTML object>"
      ]
     },
     "metadata": {},
     "output_type": "display_data"
    },
    {
     "data": {
      "text/html": [
       " View project at <a href='https://wandb.ai/dylan-home/pnca-sweep-1' target=\"_blank\">https://wandb.ai/dylan-home/pnca-sweep-1</a>"
      ],
      "text/plain": [
       "<IPython.core.display.HTML object>"
      ]
     },
     "metadata": {},
     "output_type": "display_data"
    },
    {
     "data": {
      "text/html": [
       " View sweep at <a href='https://wandb.ai/dylan-home/pnca-sweep-1/sweeps/f2b4l8u4' target=\"_blank\">https://wandb.ai/dylan-home/pnca-sweep-1/sweeps/f2b4l8u4</a>"
      ],
      "text/plain": [
       "<IPython.core.display.HTML object>"
      ]
     },
     "metadata": {},
     "output_type": "display_data"
    },
    {
     "data": {
      "text/html": [
       " View run at <a href='https://wandb.ai/dylan-home/pnca-sweep-1/runs/epinu8tq' target=\"_blank\">https://wandb.ai/dylan-home/pnca-sweep-1/runs/epinu8tq</a>"
      ],
      "text/plain": [
       "<IPython.core.display.HTML object>"
      ]
     },
     "metadata": {},
     "output_type": "display_data"
    },
    {
     "name": "stdout",
     "output_type": "stream",
     "text": [
      "Using CUDA\n",
      "Early stopping enabled. Patience: 20. Min Delta: 0.\n",
      "Epoch: 010, Train Acc: 0.5264, Test Acc: 0.5110, Train Loss: 0.6873, Test Loss: 0.6905\n",
      "Epoch: 020, Train Acc: 0.5264, Test Acc: 0.5050, Train Loss: 0.6555, Test Loss: 0.6645\n",
      "Epoch: 030, Train Acc: 0.5264, Test Acc: 0.5110, Train Loss: 2.2959, Test Loss: 2.3840\n",
      "Epoch: 040, Train Acc: 0.5264, Test Acc: 0.5110, Train Loss: 1.7831, Test Loss: 1.8885\n",
      "Epoch: 050, Train Acc: 0.5019, Test Acc: 0.5037, Train Loss: 2.4577, Test Loss: 2.6360\n",
      "20 epochs passed without 0 test loss improvement. \n",
      "Early stopping triggered.\n"
     ]
    },
    {
     "data": {
      "text/html": [
       "<style>\n",
       "    table.wandb td:nth-child(1) { padding: 0 10px; text-align: left ; width: auto;} td:nth-child(2) {text-align: left ; width: 100%}\n",
       "    .wandb-row { display: flex; flex-direction: row; flex-wrap: wrap; justify-content: flex-start; width: 100% }\n",
       "    .wandb-col { display: flex; flex-direction: column; flex-basis: 100%; flex: 1; padding: 10px; }\n",
       "    </style>\n",
       "<div class=\"wandb-row\"><div class=\"wandb-col\"><h3>Run history:</h3><br/><table class=\"wandb\"><tr><td>Test Accuracy</td><td>▂▂▂▁▂▂▅▂▂▂▂▇▂▂▂▂▇▂█▃█▇▂▂▂▇▂▂▂▂▂▃▂▂▂▇▂▂▂▃</td></tr><tr><td>Test F1</td><td>▁▇▇▇▇▇▅▇▁▁▇▇▇▇▇▇█▇█▃█▇▇▇▇▇▇▇▇▇▁▂▂▁▇▇▁▂▇▃</td></tr><tr><td>Test Loss</td><td>▁▁▁▁▁▁▁▁▁▁▁▁▁▁▁▁▁▁▁▁▁▁▄▂▄▁▂▄▄▃▅▃▄▅▁▁█▄▂▃</td></tr><tr><td>Test Sensitivity</td><td>▁██▇██▃█▁▁█▅████▇█▇▂▆▅███▅████▁▂▁▁█▄▁▁█▂</td></tr><tr><td>Test Specificity</td><td>█▁▁▂▁▁█▁██▁▇▁▁▁▁▅▁▅█▆▇▁▁▁▇▁▁▁▁████▁███▁█</td></tr><tr><td>Train Accuracy</td><td>▁▂▂▂▂▂▄▂▁▁▂▇▂▂▂▂▇▂▇▂█▇▂▂▂█▂▂▂▂▁▂▂▁▂▇▁▂▂▃</td></tr><tr><td>Train F1</td><td>▁▇▇▇▇▇▅▇▁▁▇▇▇▇▇▇█▇█▃█▇▇▇▇▇▇▇▇▇▂▃▂▁▇▇▁▂▇▃</td></tr><tr><td>Train Loss</td><td>▁▁▁▁▁▁▁▁▁▁▁▁▁▁▁▁▁▁▁▁▁▁▄▂▄▁▂▄▄▃▅▃▄▅▁▁█▄▂▃</td></tr><tr><td>Train Sensitivity</td><td>▁██▇██▃█▁▁█▅████▇█▇▂▇▅███▅████▁▂▁▁█▅▁▂█▂</td></tr><tr><td>Train Specificity</td><td>█▁▁▂▁▁█▁██▁▇▁▁▁▁▅▁▅█▆█▁▁▁█▁▁▁▁████▁███▁█</td></tr></table><br/></div><div class=\"wandb-col\"><h3>Run summary:</h3><br/><table class=\"wandb\"><tr><td>Test Accuracy</td><td>0.539</td></tr><tr><td>Test F1</td><td>0.1802</td></tr><tr><td>Test Loss</td><td>1.63605</td></tr><tr><td>Test Sensitivity</td><td>0.09915</td></tr><tr><td>Test Specificity</td><td>0.99864</td></tr><tr><td>Train Accuracy</td><td>0.54429</td></tr><tr><td>Train F1</td><td>0.23684</td></tr><tr><td>Train Loss</td><td>1.47035</td></tr><tr><td>Train Sensitivity</td><td>0.13433</td></tr><tr><td>Train Specificity</td><td>1.0</td></tr></table><br/></div></div>"
      ],
      "text/plain": [
       "<IPython.core.display.HTML object>"
      ]
     },
     "metadata": {},
     "output_type": "display_data"
    },
    {
     "data": {
      "text/html": [
       " View run <strong style=\"color:#cdcd00\">major-sweep-17</strong> at: <a href='https://wandb.ai/dylan-home/pnca-sweep-1/runs/epinu8tq' target=\"_blank\">https://wandb.ai/dylan-home/pnca-sweep-1/runs/epinu8tq</a><br/>Synced 5 W&B file(s), 0 media file(s), 0 artifact file(s) and 0 other file(s)"
      ],
      "text/plain": [
       "<IPython.core.display.HTML object>"
      ]
     },
     "metadata": {},
     "output_type": "display_data"
    },
    {
     "data": {
      "text/html": [
       "Find logs at: <code>./wandb/run-20250203_140908-epinu8tq/logs</code>"
      ],
      "text/plain": [
       "<IPython.core.display.HTML object>"
      ]
     },
     "metadata": {},
     "output_type": "display_data"
    },
    {
     "name": "stderr",
     "output_type": "stream",
     "text": [
      "\u001b[34m\u001b[1mwandb\u001b[0m: Agent Starting Run: 5bxa0fq3 with config:\n",
      "\u001b[34m\u001b[1mwandb\u001b[0m: \tcutoff_distance: 9.742305254077896\n",
      "\u001b[34m\u001b[1mwandb\u001b[0m: \tdropout: 0.6\n",
      "\u001b[34m\u001b[1mwandb\u001b[0m: \thidden_channels: 320\n",
      "\u001b[34m\u001b[1mwandb\u001b[0m: \tlearning_rate: 0.0008978607166591544\n",
      "\u001b[34m\u001b[1mwandb\u001b[0m: \tweight_decay: 0.0008371357843385865\n",
      "Failed to detect the name of this notebook, you can set it manually with the WANDB_NOTEBOOK_NAME environment variable to enable code saving.\n",
      "/usr/lib/python3/dist-packages/requests/__init__.py:87: RequestsDependencyWarning: urllib3 (2.2.3) or chardet (4.0.0) doesn't match a supported version!\n",
      "  warnings.warn(\"urllib3 ({}) or chardet ({}) doesn't match a supported \"\n"
     ]
    },
    {
     "data": {
      "text/html": [
       "wandb version 0.19.5 is available!  To upgrade, please run:\n",
       " $ pip install wandb --upgrade"
      ],
      "text/plain": [
       "<IPython.core.display.HTML object>"
      ]
     },
     "metadata": {},
     "output_type": "display_data"
    },
    {
     "data": {
      "text/html": [
       "Tracking run with wandb version 0.16.4"
      ],
      "text/plain": [
       "<IPython.core.display.HTML object>"
      ]
     },
     "metadata": {},
     "output_type": "display_data"
    },
    {
     "data": {
      "text/html": [
       "Run data is saved locally in <code>/mnt/alphafold-volume-1/dylan2/repos/tb-pnca-gnn/dd_pnca/wandb/run-20250203_141040-5bxa0fq3</code>"
      ],
      "text/plain": [
       "<IPython.core.display.HTML object>"
      ]
     },
     "metadata": {},
     "output_type": "display_data"
    },
    {
     "data": {
      "text/html": [
       "Syncing run <strong><a href='https://wandb.ai/dylan-home/pnca-sweep-1/runs/5bxa0fq3' target=\"_blank\">revived-sweep-18</a></strong> to <a href='https://wandb.ai/dylan-home/pnca-sweep-1' target=\"_blank\">Weights & Biases</a> (<a href='https://wandb.me/run' target=\"_blank\">docs</a>)<br/>Sweep page: <a href='https://wandb.ai/dylan-home/pnca-sweep-1/sweeps/f2b4l8u4' target=\"_blank\">https://wandb.ai/dylan-home/pnca-sweep-1/sweeps/f2b4l8u4</a>"
      ],
      "text/plain": [
       "<IPython.core.display.HTML object>"
      ]
     },
     "metadata": {},
     "output_type": "display_data"
    },
    {
     "data": {
      "text/html": [
       " View project at <a href='https://wandb.ai/dylan-home/pnca-sweep-1' target=\"_blank\">https://wandb.ai/dylan-home/pnca-sweep-1</a>"
      ],
      "text/plain": [
       "<IPython.core.display.HTML object>"
      ]
     },
     "metadata": {},
     "output_type": "display_data"
    },
    {
     "data": {
      "text/html": [
       " View sweep at <a href='https://wandb.ai/dylan-home/pnca-sweep-1/sweeps/f2b4l8u4' target=\"_blank\">https://wandb.ai/dylan-home/pnca-sweep-1/sweeps/f2b4l8u4</a>"
      ],
      "text/plain": [
       "<IPython.core.display.HTML object>"
      ]
     },
     "metadata": {},
     "output_type": "display_data"
    },
    {
     "data": {
      "text/html": [
       " View run at <a href='https://wandb.ai/dylan-home/pnca-sweep-1/runs/5bxa0fq3' target=\"_blank\">https://wandb.ai/dylan-home/pnca-sweep-1/runs/5bxa0fq3</a>"
      ],
      "text/plain": [
       "<IPython.core.display.HTML object>"
      ]
     },
     "metadata": {},
     "output_type": "display_data"
    },
    {
     "name": "stdout",
     "output_type": "stream",
     "text": [
      "Using CUDA\n",
      "Early stopping enabled. Patience: 20. Min Delta: 0.\n",
      "Epoch: 010, Train Acc: 0.5303, Test Acc: 0.5097, Train Loss: 0.6333, Test Loss: 0.7083\n",
      "Epoch: 020, Train Acc: 0.5264, Test Acc: 0.5110, Train Loss: 2.0311, Test Loss: 2.2406\n",
      "Epoch: 030, Train Acc: 0.5264, Test Acc: 0.5110, Train Loss: 3.7616, Test Loss: 4.2146\n",
      "20 epochs passed without 0 test loss improvement. \n",
      "Early stopping triggered.\n"
     ]
    },
    {
     "data": {
      "text/html": [
       "<style>\n",
       "    table.wandb td:nth-child(1) { padding: 0 10px; text-align: left ; width: auto;} td:nth-child(2) {text-align: left ; width: 100%}\n",
       "    .wandb-row { display: flex; flex-direction: row; flex-wrap: wrap; justify-content: flex-start; width: 100% }\n",
       "    .wandb-col { display: flex; flex-direction: column; flex-basis: 100%; flex: 1; padding: 10px; }\n",
       "    </style>\n",
       "<div class=\"wandb-row\"><div class=\"wandb-col\"><h3>Run history:</h3><br/><table class=\"wandb\"><tr><td>Test Accuracy</td><td>▁▁▂▃▁▄▇▇▂▁▁█▁█▁▁▄▂▁▁▅▁▄▇▂█▄▂▁▁█▄█▁</td></tr><tr><td>Test F1</td><td>▇▇▂▄▂▄▇▇▂▇▇█▁█▇▁▅▃▇▇▆▇▅█▇█▅▂▇▇█▄█▇</td></tr><tr><td>Test Loss</td><td>▁▁▁▁▂▁▁▁▃▁▄▁▇▁▄█▂▄▇▄▂▃▂▁▁▁▃▇█▇▁▄▁▅</td></tr><tr><td>Test Sensitivity</td><td>██▂▂▁▃▅▅▁██▆▁▇█▁▃▂██▄█▃▇█▇▃▁██▆▃▆█</td></tr><tr><td>Test Specificity</td><td>▁▁████▇▇█▁▁▇█▆▁███▁▁█▁█▅▁▆██▁▁▇█▇▁</td></tr><tr><td>Train Accuracy</td><td>▂▂▁▂▁▃▆▆▁▂▂▇▁▇▂▁▃▂▂▂▄▂▃▆▂█▃▁▂▂█▃▇▂</td></tr><tr><td>Train F1</td><td>▆▆▁▃▁▃▇▇▂▆▆█▁█▆▁▄▂▆▆▅▆▄█▇█▄▁▆▆█▄█▆</td></tr><tr><td>Train Loss</td><td>▂▂▂▂▂▂▁▁▄▁▄▁▇▁▃█▂▄▇▃▂▃▃▁▁▁▃▇▇▆▁▄▁▄</td></tr><tr><td>Train Sensitivity</td><td>██▁▂▁▂▅▅▁██▆▁▇█▁▃▂██▄█▃██▇▃▁██▇▂▆█</td></tr><tr><td>Train Specificity</td><td>▁▁████▇██▁▁▇█▇▁███▁▁█▁█▅▁▇██▁▁███▁</td></tr></table><br/></div><div class=\"wandb-col\"><h3>Run summary:</h3><br/><table class=\"wandb\"><tr><td>Test Accuracy</td><td>0.511</td></tr><tr><td>Test F1</td><td>0.67637</td></tr><tr><td>Test Loss</td><td>3.10665</td></tr><tr><td>Test Sensitivity</td><td>1.0</td></tr><tr><td>Test Specificity</td><td>0.0</td></tr><tr><td>Train Accuracy</td><td>0.52643</td></tr><tr><td>Train F1</td><td>0.68975</td></tr><tr><td>Train Loss</td><td>2.71416</td></tr><tr><td>Train Sensitivity</td><td>1.0</td></tr><tr><td>Train Specificity</td><td>0.0</td></tr></table><br/></div></div>"
      ],
      "text/plain": [
       "<IPython.core.display.HTML object>"
      ]
     },
     "metadata": {},
     "output_type": "display_data"
    },
    {
     "data": {
      "text/html": [
       " View run <strong style=\"color:#cdcd00\">revived-sweep-18</strong> at: <a href='https://wandb.ai/dylan-home/pnca-sweep-1/runs/5bxa0fq3' target=\"_blank\">https://wandb.ai/dylan-home/pnca-sweep-1/runs/5bxa0fq3</a><br/>Synced 5 W&B file(s), 0 media file(s), 0 artifact file(s) and 0 other file(s)"
      ],
      "text/plain": [
       "<IPython.core.display.HTML object>"
      ]
     },
     "metadata": {},
     "output_type": "display_data"
    },
    {
     "data": {
      "text/html": [
       "Find logs at: <code>./wandb/run-20250203_141040-5bxa0fq3/logs</code>"
      ],
      "text/plain": [
       "<IPython.core.display.HTML object>"
      ]
     },
     "metadata": {},
     "output_type": "display_data"
    },
    {
     "name": "stderr",
     "output_type": "stream",
     "text": [
      "\u001b[34m\u001b[1mwandb\u001b[0m: Agent Starting Run: wjp70sai with config:\n",
      "\u001b[34m\u001b[1mwandb\u001b[0m: \tcutoff_distance: 4.09006949634052\n",
      "\u001b[34m\u001b[1mwandb\u001b[0m: \tdropout: 0.8\n",
      "\u001b[34m\u001b[1mwandb\u001b[0m: \thidden_channels: 256\n",
      "\u001b[34m\u001b[1mwandb\u001b[0m: \tlearning_rate: 5.0750445282993475e-05\n",
      "\u001b[34m\u001b[1mwandb\u001b[0m: \tweight_decay: 0.0008237578417326946\n",
      "Failed to detect the name of this notebook, you can set it manually with the WANDB_NOTEBOOK_NAME environment variable to enable code saving.\n",
      "/usr/lib/python3/dist-packages/requests/__init__.py:87: RequestsDependencyWarning: urllib3 (2.2.3) or chardet (4.0.0) doesn't match a supported version!\n",
      "  warnings.warn(\"urllib3 ({}) or chardet ({}) doesn't match a supported \"\n"
     ]
    },
    {
     "data": {
      "text/html": [
       "wandb version 0.19.5 is available!  To upgrade, please run:\n",
       " $ pip install wandb --upgrade"
      ],
      "text/plain": [
       "<IPython.core.display.HTML object>"
      ]
     },
     "metadata": {},
     "output_type": "display_data"
    },
    {
     "data": {
      "text/html": [
       "Tracking run with wandb version 0.16.4"
      ],
      "text/plain": [
       "<IPython.core.display.HTML object>"
      ]
     },
     "metadata": {},
     "output_type": "display_data"
    },
    {
     "data": {
      "text/html": [
       "Run data is saved locally in <code>/mnt/alphafold-volume-1/dylan2/repos/tb-pnca-gnn/dd_pnca/wandb/run-20250203_141304-wjp70sai</code>"
      ],
      "text/plain": [
       "<IPython.core.display.HTML object>"
      ]
     },
     "metadata": {},
     "output_type": "display_data"
    },
    {
     "data": {
      "text/html": [
       "Syncing run <strong><a href='https://wandb.ai/dylan-home/pnca-sweep-1/runs/wjp70sai' target=\"_blank\">noble-sweep-19</a></strong> to <a href='https://wandb.ai/dylan-home/pnca-sweep-1' target=\"_blank\">Weights & Biases</a> (<a href='https://wandb.me/run' target=\"_blank\">docs</a>)<br/>Sweep page: <a href='https://wandb.ai/dylan-home/pnca-sweep-1/sweeps/f2b4l8u4' target=\"_blank\">https://wandb.ai/dylan-home/pnca-sweep-1/sweeps/f2b4l8u4</a>"
      ],
      "text/plain": [
       "<IPython.core.display.HTML object>"
      ]
     },
     "metadata": {},
     "output_type": "display_data"
    },
    {
     "data": {
      "text/html": [
       " View project at <a href='https://wandb.ai/dylan-home/pnca-sweep-1' target=\"_blank\">https://wandb.ai/dylan-home/pnca-sweep-1</a>"
      ],
      "text/plain": [
       "<IPython.core.display.HTML object>"
      ]
     },
     "metadata": {},
     "output_type": "display_data"
    },
    {
     "data": {
      "text/html": [
       " View sweep at <a href='https://wandb.ai/dylan-home/pnca-sweep-1/sweeps/f2b4l8u4' target=\"_blank\">https://wandb.ai/dylan-home/pnca-sweep-1/sweeps/f2b4l8u4</a>"
      ],
      "text/plain": [
       "<IPython.core.display.HTML object>"
      ]
     },
     "metadata": {},
     "output_type": "display_data"
    },
    {
     "data": {
      "text/html": [
       " View run at <a href='https://wandb.ai/dylan-home/pnca-sweep-1/runs/wjp70sai' target=\"_blank\">https://wandb.ai/dylan-home/pnca-sweep-1/runs/wjp70sai</a>"
      ],
      "text/plain": [
       "<IPython.core.display.HTML object>"
      ]
     },
     "metadata": {},
     "output_type": "display_data"
    },
    {
     "name": "stdout",
     "output_type": "stream",
     "text": [
      "Using CUDA\n",
      "Early stopping enabled. Patience: 20. Min Delta: 0.\n",
      "Epoch: 010, Train Acc: 0.5264, Test Acc: 0.5110, Train Loss: 0.6910, Test Loss: 0.6931\n",
      "Epoch: 020, Train Acc: 0.5264, Test Acc: 0.5110, Train Loss: 0.6898, Test Loss: 0.6919\n",
      "Epoch: 030, Train Acc: 0.5263, Test Acc: 0.5110, Train Loss: 0.6889, Test Loss: 0.6901\n",
      "Epoch: 040, Train Acc: 0.5266, Test Acc: 0.5110, Train Loss: 0.6868, Test Loss: 0.6889\n",
      "Epoch: 050, Train Acc: 0.5257, Test Acc: 0.5110, Train Loss: 0.6844, Test Loss: 0.6871\n",
      "Epoch: 060, Train Acc: 0.5249, Test Acc: 0.5060, Train Loss: 0.6806, Test Loss: 0.6836\n",
      "Epoch: 070, Train Acc: 0.5256, Test Acc: 0.5073, Train Loss: 0.6742, Test Loss: 0.6797\n",
      "Epoch: 080, Train Acc: 0.5341, Test Acc: 0.5003, Train Loss: 0.6632, Test Loss: 0.6701\n",
      "Epoch: 090, Train Acc: 0.5360, Test Acc: 0.5063, Train Loss: 0.6474, Test Loss: 0.6576\n",
      "Epoch: 100, Train Acc: 0.7704, Test Acc: 0.7390, Train Loss: 0.6216, Test Loss: 0.6349\n",
      "Epoch: 110, Train Acc: 0.7336, Test Acc: 0.7100, Train Loss: 0.5941, Test Loss: 0.6131\n",
      "Epoch: 120, Train Acc: 0.7906, Test Acc: 0.7347, Train Loss: 0.5662, Test Loss: 0.5935\n",
      "Epoch: 130, Train Acc: 0.7909, Test Acc: 0.7373, Train Loss: 0.5448, Test Loss: 0.5792\n",
      "Epoch: 140, Train Acc: 0.7854, Test Acc: 0.7547, Train Loss: 0.5176, Test Loss: 0.5596\n",
      "Epoch: 150, Train Acc: 0.7353, Test Acc: 0.7067, Train Loss: 0.5244, Test Loss: 0.5778\n",
      "Epoch: 160, Train Acc: 0.6726, Test Acc: 0.6447, Train Loss: 0.6016, Test Loss: 0.6655\n",
      "Epoch: 170, Train Acc: 0.7901, Test Acc: 0.7470, Train Loss: 0.4667, Test Loss: 0.5369\n",
      "Epoch: 180, Train Acc: 0.7573, Test Acc: 0.7110, Train Loss: 0.4994, Test Loss: 0.5813\n",
      "Epoch: 190, Train Acc: 0.7633, Test Acc: 0.7137, Train Loss: 0.4926, Test Loss: 0.5840\n",
      "20 epochs passed without 0 test loss improvement. \n",
      "Early stopping triggered.\n"
     ]
    },
    {
     "data": {
      "text/html": [
       "<style>\n",
       "    table.wandb td:nth-child(1) { padding: 0 10px; text-align: left ; width: auto;} td:nth-child(2) {text-align: left ; width: 100%}\n",
       "    .wandb-row { display: flex; flex-direction: row; flex-wrap: wrap; justify-content: flex-start; width: 100% }\n",
       "    .wandb-col { display: flex; flex-direction: column; flex-basis: 100%; flex: 1; padding: 10px; }\n",
       "    </style>\n",
       "<div class=\"wandb-row\"><div class=\"wandb-col\"><h3>Run history:</h3><br/><table class=\"wandb\"><tr><td>Test Accuracy</td><td>▁▁▁▁▁▁▁▁▁▁▁▁▁▆▁▆▁▇▁▆▇▅▇▇▇▇▆▇██▆▇█▅▇█▇▇█▇</td></tr><tr><td>Test F1</td><td>▆▆▆▆▆▆▆▆▆▆▆▆▆▄▆▇▆▆▆▄█▁▅▆▅▆▃█▇█▄▅█▁▆▇▅▅▇▅</td></tr><tr><td>Test Loss</td><td>██████████████▇▇▇▇▇▆▆▆▅▄▄▃▄▃▂▂▃▃▁▇▁▁▂▃▁▃</td></tr><tr><td>Test Sensitivity</td><td>█████████████▃█▅█▃█▂▆▁▃▃▃▄▂▆▄▅▂▃▅▁▄▄▃▃▄▃</td></tr><tr><td>Test Specificity</td><td>▁▁▁▁▁▁▁▁▁▁▁▁▁▇▁▅▁▇▁█▅██▇█▇█▆▇▇██▇██▇████</td></tr><tr><td>Train Accuracy</td><td>▁▁▁▁▁▁▁▁▁▁▁▁▁▆▁▇▁▆▁▆█▄▆▇▆▇▅█▇█▆▆█▅██▇▇█▇</td></tr><tr><td>Train F1</td><td>▅▅▅▅▅▅▅▅▅▅▅▅▅▄▅▇▅▅▅▄█▁▅▆▅▆▃█▇▇▄▅█▂▇▇▆▅▇▆</td></tr><tr><td>Train Loss</td><td>███████████████▇▇▇▇▇▆▆▅▅▅▄▄▄▃▃▃▃▂▅▂▁▂▂▁▂</td></tr><tr><td>Train Sensitivity</td><td>█████████████▃█▆█▃█▃▆▁▃▄▃▄▂▆▅▅▃▃▅▁▄▅▄▃▄▃</td></tr><tr><td>Train Specificity</td><td>▁▁▁▁▁▁▁▁▁▁▁▁▁█▁▆▁▇▁█▆██▇█▇█▆▇▇██▇██▇████</td></tr></table><br/></div><div class=\"wandb-col\"><h3>Run summary:</h3><br/><table class=\"wandb\"><tr><td>Test Accuracy</td><td>0.50967</td></tr><tr><td>Test F1</td><td>0.66966</td></tr><tr><td>Test Loss</td><td>0.70426</td></tr><tr><td>Test Sensitivity</td><td>0.9726</td></tr><tr><td>Test Specificity</td><td>0.0259</td></tr><tr><td>Train Accuracy</td><td>0.53171</td></tr><tr><td>Train F1</td><td>0.69105</td></tr><tr><td>Train Loss</td><td>0.62046</td></tr><tr><td>Train Sensitivity</td><td>0.99484</td></tr><tr><td>Train Specificity</td><td>0.01689</td></tr></table><br/></div></div>"
      ],
      "text/plain": [
       "<IPython.core.display.HTML object>"
      ]
     },
     "metadata": {},
     "output_type": "display_data"
    },
    {
     "data": {
      "text/html": [
       " View run <strong style=\"color:#cdcd00\">noble-sweep-19</strong> at: <a href='https://wandb.ai/dylan-home/pnca-sweep-1/runs/wjp70sai' target=\"_blank\">https://wandb.ai/dylan-home/pnca-sweep-1/runs/wjp70sai</a><br/>Synced 5 W&B file(s), 0 media file(s), 0 artifact file(s) and 0 other file(s)"
      ],
      "text/plain": [
       "<IPython.core.display.HTML object>"
      ]
     },
     "metadata": {},
     "output_type": "display_data"
    },
    {
     "data": {
      "text/html": [
       "Find logs at: <code>./wandb/run-20250203_141304-wjp70sai/logs</code>"
      ],
      "text/plain": [
       "<IPython.core.display.HTML object>"
      ]
     },
     "metadata": {},
     "output_type": "display_data"
    },
    {
     "name": "stderr",
     "output_type": "stream",
     "text": [
      "\u001b[34m\u001b[1mwandb\u001b[0m: Agent Starting Run: rjte8b1k with config:\n",
      "\u001b[34m\u001b[1mwandb\u001b[0m: \tcutoff_distance: 9.55555816885368\n",
      "\u001b[34m\u001b[1mwandb\u001b[0m: \tdropout: 0.4\n",
      "\u001b[34m\u001b[1mwandb\u001b[0m: \thidden_channels: 256\n",
      "\u001b[34m\u001b[1mwandb\u001b[0m: \tlearning_rate: 6.252080679820233e-06\n",
      "\u001b[34m\u001b[1mwandb\u001b[0m: \tweight_decay: 2.585370492373123e-05\n",
      "Failed to detect the name of this notebook, you can set it manually with the WANDB_NOTEBOOK_NAME environment variable to enable code saving.\n",
      "/usr/lib/python3/dist-packages/requests/__init__.py:87: RequestsDependencyWarning: urllib3 (2.2.3) or chardet (4.0.0) doesn't match a supported version!\n",
      "  warnings.warn(\"urllib3 ({}) or chardet ({}) doesn't match a supported \"\n"
     ]
    },
    {
     "data": {
      "text/html": [
       "wandb version 0.19.5 is available!  To upgrade, please run:\n",
       " $ pip install wandb --upgrade"
      ],
      "text/plain": [
       "<IPython.core.display.HTML object>"
      ]
     },
     "metadata": {},
     "output_type": "display_data"
    },
    {
     "data": {
      "text/html": [
       "Tracking run with wandb version 0.16.4"
      ],
      "text/plain": [
       "<IPython.core.display.HTML object>"
      ]
     },
     "metadata": {},
     "output_type": "display_data"
    },
    {
     "data": {
      "text/html": [
       "Run data is saved locally in <code>/mnt/alphafold-volume-1/dylan2/repos/tb-pnca-gnn/dd_pnca/wandb/run-20250203_141807-rjte8b1k</code>"
      ],
      "text/plain": [
       "<IPython.core.display.HTML object>"
      ]
     },
     "metadata": {},
     "output_type": "display_data"
    },
    {
     "data": {
      "text/html": [
       "Syncing run <strong><a href='https://wandb.ai/dylan-home/pnca-sweep-1/runs/rjte8b1k' target=\"_blank\">devout-sweep-20</a></strong> to <a href='https://wandb.ai/dylan-home/pnca-sweep-1' target=\"_blank\">Weights & Biases</a> (<a href='https://wandb.me/run' target=\"_blank\">docs</a>)<br/>Sweep page: <a href='https://wandb.ai/dylan-home/pnca-sweep-1/sweeps/f2b4l8u4' target=\"_blank\">https://wandb.ai/dylan-home/pnca-sweep-1/sweeps/f2b4l8u4</a>"
      ],
      "text/plain": [
       "<IPython.core.display.HTML object>"
      ]
     },
     "metadata": {},
     "output_type": "display_data"
    },
    {
     "data": {
      "text/html": [
       " View project at <a href='https://wandb.ai/dylan-home/pnca-sweep-1' target=\"_blank\">https://wandb.ai/dylan-home/pnca-sweep-1</a>"
      ],
      "text/plain": [
       "<IPython.core.display.HTML object>"
      ]
     },
     "metadata": {},
     "output_type": "display_data"
    },
    {
     "data": {
      "text/html": [
       " View sweep at <a href='https://wandb.ai/dylan-home/pnca-sweep-1/sweeps/f2b4l8u4' target=\"_blank\">https://wandb.ai/dylan-home/pnca-sweep-1/sweeps/f2b4l8u4</a>"
      ],
      "text/plain": [
       "<IPython.core.display.HTML object>"
      ]
     },
     "metadata": {},
     "output_type": "display_data"
    },
    {
     "data": {
      "text/html": [
       " View run at <a href='https://wandb.ai/dylan-home/pnca-sweep-1/runs/rjte8b1k' target=\"_blank\">https://wandb.ai/dylan-home/pnca-sweep-1/runs/rjte8b1k</a>"
      ],
      "text/plain": [
       "<IPython.core.display.HTML object>"
      ]
     },
     "metadata": {},
     "output_type": "display_data"
    },
    {
     "name": "stdout",
     "output_type": "stream",
     "text": [
      "Using CUDA\n",
      "Early stopping enabled. Patience: 20. Min Delta: 0.\n",
      "Epoch: 010, Train Acc: 0.5250, Test Acc: 0.5103, Train Loss: 0.6846, Test Loss: 0.6862\n",
      "Epoch: 020, Train Acc: 0.5136, Test Acc: 0.4843, Train Loss: 0.6752, Test Loss: 0.6737\n",
      "Epoch: 030, Train Acc: 0.7101, Test Acc: 0.6887, Train Loss: 0.6688, Test Loss: 0.6636\n",
      "Epoch: 040, Train Acc: 0.7240, Test Acc: 0.6807, Train Loss: 0.6598, Test Loss: 0.6544\n",
      "Epoch: 050, Train Acc: 0.7231, Test Acc: 0.6873, Train Loss: 0.6505, Test Loss: 0.6443\n",
      "Epoch: 060, Train Acc: 0.7271, Test Acc: 0.6957, Train Loss: 0.6406, Test Loss: 0.6346\n",
      "Epoch: 070, Train Acc: 0.7311, Test Acc: 0.7057, Train Loss: 0.6295, Test Loss: 0.6253\n",
      "Epoch: 080, Train Acc: 0.7389, Test Acc: 0.7110, Train Loss: 0.6185, Test Loss: 0.6136\n",
      "Epoch: 090, Train Acc: 0.7416, Test Acc: 0.7230, Train Loss: 0.6071, Test Loss: 0.6041\n",
      "Epoch: 100, Train Acc: 0.7473, Test Acc: 0.7213, Train Loss: 0.5944, Test Loss: 0.5932\n",
      "Epoch: 110, Train Acc: 0.7526, Test Acc: 0.7273, Train Loss: 0.5833, Test Loss: 0.5843\n",
      "Epoch: 120, Train Acc: 0.7587, Test Acc: 0.7240, Train Loss: 0.5741, Test Loss: 0.5808\n",
      "Epoch: 130, Train Acc: 0.7611, Test Acc: 0.7330, Train Loss: 0.5609, Test Loss: 0.5689\n",
      "Epoch: 140, Train Acc: 0.7647, Test Acc: 0.7260, Train Loss: 0.5548, Test Loss: 0.5683\n",
      "Epoch: 150, Train Acc: 0.7461, Test Acc: 0.7317, Train Loss: 0.5392, Test Loss: 0.5401\n",
      "Epoch: 160, Train Acc: 0.7686, Test Acc: 0.7387, Train Loss: 0.5237, Test Loss: 0.5293\n",
      "Epoch: 170, Train Acc: 0.7819, Test Acc: 0.7510, Train Loss: 0.5127, Test Loss: 0.5253\n",
      "Epoch: 180, Train Acc: 0.7859, Test Acc: 0.7470, Train Loss: 0.5008, Test Loss: 0.5151\n",
      "Epoch: 190, Train Acc: 0.7930, Test Acc: 0.7560, Train Loss: 0.4935, Test Loss: 0.5128\n",
      "Epoch: 200, Train Acc: 0.7876, Test Acc: 0.7467, Train Loss: 0.4996, Test Loss: 0.5291\n",
      "Epoch: 210, Train Acc: 0.7901, Test Acc: 0.7570, Train Loss: 0.4740, Test Loss: 0.4924\n",
      "Epoch: 220, Train Acc: 0.7947, Test Acc: 0.7520, Train Loss: 0.4795, Test Loss: 0.5119\n",
      "Epoch: 230, Train Acc: 0.8051, Test Acc: 0.7600, Train Loss: 0.4580, Test Loss: 0.4867\n",
      "Epoch: 240, Train Acc: 0.8041, Test Acc: 0.7653, Train Loss: 0.4627, Test Loss: 0.4995\n",
      "Epoch: 250, Train Acc: 0.8079, Test Acc: 0.7643, Train Loss: 0.4532, Test Loss: 0.4933\n",
      "Epoch: 260, Train Acc: 0.8113, Test Acc: 0.7667, Train Loss: 0.4362, Test Loss: 0.4683\n",
      "Epoch: 270, Train Acc: 0.8080, Test Acc: 0.7833, Train Loss: 0.4299, Test Loss: 0.4627\n",
      "Epoch: 280, Train Acc: 0.8197, Test Acc: 0.7703, Train Loss: 0.4278, Test Loss: 0.4706\n",
      "Epoch: 290, Train Acc: 0.8144, Test Acc: 0.7827, Train Loss: 0.4184, Test Loss: 0.4564\n",
      "Epoch: 300, Train Acc: 0.8109, Test Acc: 0.7847, Train Loss: 0.4168, Test Loss: 0.4546\n",
      "Epoch: 310, Train Acc: 0.8126, Test Acc: 0.7837, Train Loss: 0.4134, Test Loss: 0.4529\n",
      "Epoch: 320, Train Acc: 0.7843, Test Acc: 0.7413, Train Loss: 0.4969, Test Loss: 0.5740\n",
      "Epoch: 330, Train Acc: 0.8316, Test Acc: 0.7783, Train Loss: 0.3987, Test Loss: 0.4578\n",
      "Epoch: 340, Train Acc: 0.8243, Test Acc: 0.7920, Train Loss: 0.3968, Test Loss: 0.4479\n",
      "Epoch: 350, Train Acc: 0.8297, Test Acc: 0.7737, Train Loss: 0.3989, Test Loss: 0.4700\n",
      "Epoch: 360, Train Acc: 0.8274, Test Acc: 0.7900, Train Loss: 0.3884, Test Loss: 0.4475\n",
      "Epoch: 370, Train Acc: 0.8100, Test Acc: 0.7817, Train Loss: 0.4013, Test Loss: 0.4553\n",
      "Epoch: 380, Train Acc: 0.8324, Test Acc: 0.7773, Train Loss: 0.3891, Test Loss: 0.4728\n",
      "Epoch: 390, Train Acc: 0.8436, Test Acc: 0.7810, Train Loss: 0.3734, Test Loss: 0.4510\n",
      "20 epochs passed without 0 test loss improvement. \n",
      "Early stopping triggered.\n"
     ]
    },
    {
     "data": {
      "text/html": [
       "<style>\n",
       "    table.wandb td:nth-child(1) { padding: 0 10px; text-align: left ; width: auto;} td:nth-child(2) {text-align: left ; width: 100%}\n",
       "    .wandb-row { display: flex; flex-direction: row; flex-wrap: wrap; justify-content: flex-start; width: 100% }\n",
       "    .wandb-col { display: flex; flex-direction: column; flex-basis: 100%; flex: 1; padding: 10px; }\n",
       "    </style>\n",
       "<div class=\"wandb-row\"><div class=\"wandb-col\"><h3>Run history:</h3><br/><table class=\"wandb\"><tr><td>Test Accuracy</td><td>▁▂▁▁▅▅▆▆▆▆▆▆▆▇▆▇▇▇▇▇▇▇▇▇▇█▇█████▇███████</td></tr><tr><td>Test F1</td><td>▃▃▂▁▄▄▄▅▄▄▅▄▆▆▆▆▅▇▆▇▇▆▇▆▇▆▇▇▇▇▇████▇███▇</td></tr><tr><td>Test Loss</td><td>███▇▇▇▆▆▆▅▅▅▅▄▅▄▃▄▃▃▃▂▃▂▃▂▂▁▂▁▁▁▅▁▁▁▁▁▂▁</td></tr><tr><td>Test Sensitivity</td><td>▇█▆▄▂▃▂▃▂▁▃▁▄▃▄▃▂▄▃▄▅▂▅▂▄▂▃▃▄▃▃▃▇▃▃▂▃▄▅▃</td></tr><tr><td>Test Specificity</td><td>▁▁▁▂▆▆▇▇▇▇▇▇▆▇▆▇▇▆▇▇▆█▆█▇█▇▇▇███▅████▇▇█</td></tr><tr><td>Train Accuracy</td><td>▁▂▁▁▆▆▆▆▆▆▆▆▆▇▇▇▇▇▇▇▇▇▇▇▇▇██████▇██▇████</td></tr><tr><td>Train F1</td><td>▃▃▂▁▄▄▄▄▄▄▅▄▆▆▆▆▅▆▆▆▇▅▇▆▇▆▇▇▇▇▇▇▇▇▇▆▇██▇</td></tr><tr><td>Train Loss</td><td>███▇▇▇▇▇▆▆▆▆▅▅▅▄▄▄▄▄▄▃▃▃▃▃▂▂▂▂▂▂▄▁▁▂▁▁▁▁</td></tr><tr><td>Train Sensitivity</td><td>▇█▇▄▂▃▂▂▂▁▃▁▄▃▅▃▂▅▃▄▅▂▅▂▅▂▄▄▅▄▃▄▇▃▄▃▄▄▅▃</td></tr><tr><td>Train Specificity</td><td>▁▁▁▂▇▆▇▇▇█▇█▆▇▆▇█▇▇▇▇█▇█▇███▇███▆█████▇█</td></tr></table><br/></div><div class=\"wandb-col\"><h3>Run summary:</h3><br/><table class=\"wandb\"><tr><td>Test Accuracy</td><td>0.78967</td></tr><tr><td>Test F1</td><td>0.77758</td></tr><tr><td>Test Loss</td><td>0.44849</td></tr><tr><td>Test Sensitivity</td><td>0.7195</td></tr><tr><td>Test Specificity</td><td>0.86299</td></tr><tr><td>Train Accuracy</td><td>0.82657</td></tr><tr><td>Train F1</td><td>0.81706</td></tr><tr><td>Train Loss</td><td>0.38173</td></tr><tr><td>Train Sensitivity</td><td>0.73569</td></tr><tr><td>Train Specificity</td><td>0.9276</td></tr></table><br/></div></div>"
      ],
      "text/plain": [
       "<IPython.core.display.HTML object>"
      ]
     },
     "metadata": {},
     "output_type": "display_data"
    },
    {
     "data": {
      "text/html": [
       " View run <strong style=\"color:#cdcd00\">devout-sweep-20</strong> at: <a href='https://wandb.ai/dylan-home/pnca-sweep-1/runs/rjte8b1k' target=\"_blank\">https://wandb.ai/dylan-home/pnca-sweep-1/runs/rjte8b1k</a><br/>Synced 5 W&B file(s), 0 media file(s), 0 artifact file(s) and 0 other file(s)"
      ],
      "text/plain": [
       "<IPython.core.display.HTML object>"
      ]
     },
     "metadata": {},
     "output_type": "display_data"
    },
    {
     "data": {
      "text/html": [
       "Find logs at: <code>./wandb/run-20250203_141807-rjte8b1k/logs</code>"
      ],
      "text/plain": [
       "<IPython.core.display.HTML object>"
      ]
     },
     "metadata": {},
     "output_type": "display_data"
    },
    {
     "name": "stderr",
     "output_type": "stream",
     "text": [
      "\u001b[34m\u001b[1mwandb\u001b[0m: Agent Starting Run: iijp5s8m with config:\n",
      "\u001b[34m\u001b[1mwandb\u001b[0m: \tcutoff_distance: 5.479348097972299\n",
      "\u001b[34m\u001b[1mwandb\u001b[0m: \tdropout: 0.6\n",
      "\u001b[34m\u001b[1mwandb\u001b[0m: \thidden_channels: 192\n",
      "\u001b[34m\u001b[1mwandb\u001b[0m: \tlearning_rate: 0.0009614821557459788\n",
      "\u001b[34m\u001b[1mwandb\u001b[0m: \tweight_decay: 2.194185529585873e-05\n",
      "Failed to detect the name of this notebook, you can set it manually with the WANDB_NOTEBOOK_NAME environment variable to enable code saving.\n",
      "/usr/lib/python3/dist-packages/requests/__init__.py:87: RequestsDependencyWarning: urllib3 (2.2.3) or chardet (4.0.0) doesn't match a supported version!\n",
      "  warnings.warn(\"urllib3 ({}) or chardet ({}) doesn't match a supported \"\n"
     ]
    },
    {
     "data": {
      "text/html": [
       "wandb version 0.19.5 is available!  To upgrade, please run:\n",
       " $ pip install wandb --upgrade"
      ],
      "text/plain": [
       "<IPython.core.display.HTML object>"
      ]
     },
     "metadata": {},
     "output_type": "display_data"
    },
    {
     "data": {
      "text/html": [
       "Tracking run with wandb version 0.16.4"
      ],
      "text/plain": [
       "<IPython.core.display.HTML object>"
      ]
     },
     "metadata": {},
     "output_type": "display_data"
    },
    {
     "data": {
      "text/html": [
       "Run data is saved locally in <code>/mnt/alphafold-volume-1/dylan2/repos/tb-pnca-gnn/dd_pnca/wandb/run-20250203_143805-iijp5s8m</code>"
      ],
      "text/plain": [
       "<IPython.core.display.HTML object>"
      ]
     },
     "metadata": {},
     "output_type": "display_data"
    },
    {
     "data": {
      "text/html": [
       "Syncing run <strong><a href='https://wandb.ai/dylan-home/pnca-sweep-1/runs/iijp5s8m' target=\"_blank\">lilac-sweep-21</a></strong> to <a href='https://wandb.ai/dylan-home/pnca-sweep-1' target=\"_blank\">Weights & Biases</a> (<a href='https://wandb.me/run' target=\"_blank\">docs</a>)<br/>Sweep page: <a href='https://wandb.ai/dylan-home/pnca-sweep-1/sweeps/f2b4l8u4' target=\"_blank\">https://wandb.ai/dylan-home/pnca-sweep-1/sweeps/f2b4l8u4</a>"
      ],
      "text/plain": [
       "<IPython.core.display.HTML object>"
      ]
     },
     "metadata": {},
     "output_type": "display_data"
    },
    {
     "data": {
      "text/html": [
       " View project at <a href='https://wandb.ai/dylan-home/pnca-sweep-1' target=\"_blank\">https://wandb.ai/dylan-home/pnca-sweep-1</a>"
      ],
      "text/plain": [
       "<IPython.core.display.HTML object>"
      ]
     },
     "metadata": {},
     "output_type": "display_data"
    },
    {
     "data": {
      "text/html": [
       " View sweep at <a href='https://wandb.ai/dylan-home/pnca-sweep-1/sweeps/f2b4l8u4' target=\"_blank\">https://wandb.ai/dylan-home/pnca-sweep-1/sweeps/f2b4l8u4</a>"
      ],
      "text/plain": [
       "<IPython.core.display.HTML object>"
      ]
     },
     "metadata": {},
     "output_type": "display_data"
    },
    {
     "data": {
      "text/html": [
       " View run at <a href='https://wandb.ai/dylan-home/pnca-sweep-1/runs/iijp5s8m' target=\"_blank\">https://wandb.ai/dylan-home/pnca-sweep-1/runs/iijp5s8m</a>"
      ],
      "text/plain": [
       "<IPython.core.display.HTML object>"
      ]
     },
     "metadata": {},
     "output_type": "display_data"
    },
    {
     "name": "stdout",
     "output_type": "stream",
     "text": [
      "Using CUDA\n",
      "Early stopping enabled. Patience: 20. Min Delta: 0.\n",
      "Epoch: 010, Train Acc: 0.5573, Test Acc: 0.5427, Train Loss: 0.8248, Test Loss: 0.8819\n",
      "Epoch: 020, Train Acc: 0.5339, Test Acc: 0.5107, Train Loss: 0.6436, Test Loss: 0.8281\n",
      "Epoch: 030, Train Acc: 0.6660, Test Acc: 0.6180, Train Loss: 1.0099, Test Loss: 1.3399\n",
      "20 epochs passed without 0 test loss improvement. \n",
      "Early stopping triggered.\n"
     ]
    },
    {
     "data": {
      "text/html": [
       "<style>\n",
       "    table.wandb td:nth-child(1) { padding: 0 10px; text-align: left ; width: auto;} td:nth-child(2) {text-align: left ; width: 100%}\n",
       "    .wandb-row { display: flex; flex-direction: row; flex-wrap: wrap; justify-content: flex-start; width: 100% }\n",
       "    .wandb-col { display: flex; flex-direction: column; flex-basis: 100%; flex: 1; padding: 10px; }\n",
       "    </style>\n",
       "<div class=\"wandb-row\"><div class=\"wandb-col\"><h3>Run history:</h3><br/><table class=\"wandb\"><tr><td>Test Accuracy</td><td>▁▂▂▁▅▂▆▃▄▂▂▆▂█▃▂▂▂▂▂▂▂█▂▂▂▂▆▆▄▂▂▂█</td></tr><tr><td>Test F1</td><td>▁▇▇▇▆▇▇▄▅▃▇▆▇█▃▇▇▂▇▇▇▇█▇▇▇▇▇█▅▇▇▇█</td></tr><tr><td>Test Loss</td><td>▁▁▁▁▁▁▁▁▁▁▂▁▂▁▁▂▁▂▂▁▁▄▁▃█▁▂▁▁▁▆▄▇▁</td></tr><tr><td>Test Sensitivity</td><td>▁███▄█▅▂▃▂█▄█▆▂██▂████▇████▄▇▃███▆</td></tr><tr><td>Test Specificity</td><td>█▁▁▁▇▁▇███▁█▁▆█▁▁█▁▁▁▁▆▁▁▁▁█▅█▁▁▁▇</td></tr><tr><td>Train Accuracy</td><td>▁▂▂▂▄▂▆▄▄▂▂▆▂▇▃▂▂▂▂▂▂▂█▂▂▂▂▆▆▄▂▂▂█</td></tr><tr><td>Train F1</td><td>▁▆▆▆▆▆▇▅▅▃▆▆▆█▄▆▆▂▆▇▆▆█▆▆▇▆▇█▅▆▆▆█</td></tr><tr><td>Train Loss</td><td>▁▁▁▁▁▁▁▁▁▁▂▁▃▁▁▂▂▂▃▁▂▄▁▃█▁▂▁▁▁▆▄▇▁</td></tr><tr><td>Train Sensitivity</td><td>▁███▄█▆▃▄▂█▅█▇▂██▂████▇████▅█▄███▇</td></tr><tr><td>Train Specificity</td><td>█▁▁▁▇▁▇███▁█▁▇█▁▁█▁▁▁▁▇▁▁▁▁█▅█▁▁▁█</td></tr></table><br/></div><div class=\"wandb-col\"><h3>Run summary:</h3><br/><table class=\"wandb\"><tr><td>Test Accuracy</td><td>0.77</td></tr><tr><td>Test F1</td><td>0.74799</td></tr><tr><td>Test Loss</td><td>0.59364</td></tr><tr><td>Test Sensitivity</td><td>0.66797</td></tr><tr><td>Test Specificity</td><td>0.87662</td></tr><tr><td>Train Accuracy</td><td>0.88357</td></tr><tr><td>Train F1</td><td>0.87856</td></tr><tr><td>Train Loss</td><td>0.2838</td></tr><tr><td>Train Sensitivity</td><td>0.8</td></tr><tr><td>Train Specificity</td><td>0.97647</td></tr></table><br/></div></div>"
      ],
      "text/plain": [
       "<IPython.core.display.HTML object>"
      ]
     },
     "metadata": {},
     "output_type": "display_data"
    },
    {
     "data": {
      "text/html": [
       " View run <strong style=\"color:#cdcd00\">lilac-sweep-21</strong> at: <a href='https://wandb.ai/dylan-home/pnca-sweep-1/runs/iijp5s8m' target=\"_blank\">https://wandb.ai/dylan-home/pnca-sweep-1/runs/iijp5s8m</a><br/>Synced 5 W&B file(s), 0 media file(s), 0 artifact file(s) and 0 other file(s)"
      ],
      "text/plain": [
       "<IPython.core.display.HTML object>"
      ]
     },
     "metadata": {},
     "output_type": "display_data"
    },
    {
     "data": {
      "text/html": [
       "Find logs at: <code>./wandb/run-20250203_143805-iijp5s8m/logs</code>"
      ],
      "text/plain": [
       "<IPython.core.display.HTML object>"
      ]
     },
     "metadata": {},
     "output_type": "display_data"
    },
    {
     "name": "stderr",
     "output_type": "stream",
     "text": [
      "\u001b[34m\u001b[1mwandb\u001b[0m: Agent Starting Run: el3gmmh2 with config:\n",
      "\u001b[34m\u001b[1mwandb\u001b[0m: \tcutoff_distance: 8.742570900371984\n",
      "\u001b[34m\u001b[1mwandb\u001b[0m: \tdropout: 0.4\n",
      "\u001b[34m\u001b[1mwandb\u001b[0m: \thidden_channels: 192\n",
      "\u001b[34m\u001b[1mwandb\u001b[0m: \tlearning_rate: 8.708952622785612e-06\n",
      "\u001b[34m\u001b[1mwandb\u001b[0m: \tweight_decay: 0.0008052892723994274\n",
      "Failed to detect the name of this notebook, you can set it manually with the WANDB_NOTEBOOK_NAME environment variable to enable code saving.\n",
      "/usr/lib/python3/dist-packages/requests/__init__.py:87: RequestsDependencyWarning: urllib3 (2.2.3) or chardet (4.0.0) doesn't match a supported version!\n",
      "  warnings.warn(\"urllib3 ({}) or chardet ({}) doesn't match a supported \"\n"
     ]
    },
    {
     "data": {
      "text/html": [
       "wandb version 0.19.5 is available!  To upgrade, please run:\n",
       " $ pip install wandb --upgrade"
      ],
      "text/plain": [
       "<IPython.core.display.HTML object>"
      ]
     },
     "metadata": {},
     "output_type": "display_data"
    },
    {
     "data": {
      "text/html": [
       "Tracking run with wandb version 0.16.4"
      ],
      "text/plain": [
       "<IPython.core.display.HTML object>"
      ]
     },
     "metadata": {},
     "output_type": "display_data"
    },
    {
     "data": {
      "text/html": [
       "Run data is saved locally in <code>/mnt/alphafold-volume-1/dylan2/repos/tb-pnca-gnn/dd_pnca/wandb/run-20250203_143917-el3gmmh2</code>"
      ],
      "text/plain": [
       "<IPython.core.display.HTML object>"
      ]
     },
     "metadata": {},
     "output_type": "display_data"
    },
    {
     "data": {
      "text/html": [
       "Syncing run <strong><a href='https://wandb.ai/dylan-home/pnca-sweep-1/runs/el3gmmh2' target=\"_blank\">vibrant-sweep-22</a></strong> to <a href='https://wandb.ai/dylan-home/pnca-sweep-1' target=\"_blank\">Weights & Biases</a> (<a href='https://wandb.me/run' target=\"_blank\">docs</a>)<br/>Sweep page: <a href='https://wandb.ai/dylan-home/pnca-sweep-1/sweeps/f2b4l8u4' target=\"_blank\">https://wandb.ai/dylan-home/pnca-sweep-1/sweeps/f2b4l8u4</a>"
      ],
      "text/plain": [
       "<IPython.core.display.HTML object>"
      ]
     },
     "metadata": {},
     "output_type": "display_data"
    },
    {
     "data": {
      "text/html": [
       " View project at <a href='https://wandb.ai/dylan-home/pnca-sweep-1' target=\"_blank\">https://wandb.ai/dylan-home/pnca-sweep-1</a>"
      ],
      "text/plain": [
       "<IPython.core.display.HTML object>"
      ]
     },
     "metadata": {},
     "output_type": "display_data"
    },
    {
     "data": {
      "text/html": [
       " View sweep at <a href='https://wandb.ai/dylan-home/pnca-sweep-1/sweeps/f2b4l8u4' target=\"_blank\">https://wandb.ai/dylan-home/pnca-sweep-1/sweeps/f2b4l8u4</a>"
      ],
      "text/plain": [
       "<IPython.core.display.HTML object>"
      ]
     },
     "metadata": {},
     "output_type": "display_data"
    },
    {
     "data": {
      "text/html": [
       " View run at <a href='https://wandb.ai/dylan-home/pnca-sweep-1/runs/el3gmmh2' target=\"_blank\">https://wandb.ai/dylan-home/pnca-sweep-1/runs/el3gmmh2</a>"
      ],
      "text/plain": [
       "<IPython.core.display.HTML object>"
      ]
     },
     "metadata": {},
     "output_type": "display_data"
    },
    {
     "name": "stdout",
     "output_type": "stream",
     "text": [
      "Using CUDA\n",
      "Early stopping enabled. Patience: 20. Min Delta: 0.\n",
      "Epoch: 010, Train Acc: 0.5259, Test Acc: 0.5110, Train Loss: 0.6870, Test Loss: 0.6872\n",
      "Epoch: 020, Train Acc: 0.4924, Test Acc: 0.4830, Train Loss: 0.6815, Test Loss: 0.6801\n",
      "Epoch: 030, Train Acc: 0.4973, Test Acc: 0.4843, Train Loss: 0.6762, Test Loss: 0.6744\n",
      "Epoch: 040, Train Acc: 0.5036, Test Acc: 0.4850, Train Loss: 0.6700, Test Loss: 0.6682\n",
      "Epoch: 050, Train Acc: 0.5033, Test Acc: 0.4807, Train Loss: 0.6625, Test Loss: 0.6602\n",
      "Epoch: 060, Train Acc: 0.5129, Test Acc: 0.4877, Train Loss: 0.6544, Test Loss: 0.6515\n",
      "Epoch: 070, Train Acc: 0.7247, Test Acc: 0.6913, Train Loss: 0.6449, Test Loss: 0.6419\n",
      "Epoch: 080, Train Acc: 0.7199, Test Acc: 0.6860, Train Loss: 0.6350, Test Loss: 0.6335\n",
      "Epoch: 090, Train Acc: 0.7331, Test Acc: 0.7173, Train Loss: 0.6242, Test Loss: 0.6214\n",
      "Epoch: 100, Train Acc: 0.5389, Test Acc: 0.5047, Train Loss: 0.6158, Test Loss: 0.6186\n",
      "Epoch: 110, Train Acc: 0.7437, Test Acc: 0.6947, Train Loss: 0.6026, Test Loss: 0.6068\n",
      "Epoch: 120, Train Acc: 0.7237, Test Acc: 0.7180, Train Loss: 0.5916, Test Loss: 0.5885\n",
      "Epoch: 130, Train Acc: 0.7509, Test Acc: 0.7303, Train Loss: 0.5757, Test Loss: 0.5790\n",
      "Epoch: 140, Train Acc: 0.7539, Test Acc: 0.7370, Train Loss: 0.5644, Test Loss: 0.5695\n",
      "Epoch: 150, Train Acc: 0.7621, Test Acc: 0.7357, Train Loss: 0.5517, Test Loss: 0.5629\n",
      "Epoch: 160, Train Acc: 0.7556, Test Acc: 0.7393, Train Loss: 0.5411, Test Loss: 0.5511\n",
      "Epoch: 170, Train Acc: 0.7617, Test Acc: 0.7443, Train Loss: 0.5297, Test Loss: 0.5438\n",
      "Epoch: 180, Train Acc: 0.7666, Test Acc: 0.7417, Train Loss: 0.5197, Test Loss: 0.5381\n",
      "Epoch: 190, Train Acc: 0.7734, Test Acc: 0.7467, Train Loss: 0.5104, Test Loss: 0.5324\n",
      "Epoch: 200, Train Acc: 0.7640, Test Acc: 0.7473, Train Loss: 0.5050, Test Loss: 0.5221\n",
      "Epoch: 210, Train Acc: 0.7774, Test Acc: 0.7537, Train Loss: 0.4935, Test Loss: 0.5215\n",
      "Epoch: 220, Train Acc: 0.7781, Test Acc: 0.7587, Train Loss: 0.4848, Test Loss: 0.5131\n",
      "Epoch: 230, Train Acc: 0.7850, Test Acc: 0.7607, Train Loss: 0.4761, Test Loss: 0.5091\n",
      "Epoch: 240, Train Acc: 0.7764, Test Acc: 0.7570, Train Loss: 0.4699, Test Loss: 0.5019\n",
      "Epoch: 250, Train Acc: 0.7771, Test Acc: 0.7560, Train Loss: 0.4646, Test Loss: 0.4982\n",
      "Epoch: 260, Train Acc: 0.8000, Test Acc: 0.7557, Train Loss: 0.4568, Test Loss: 0.5024\n",
      "Epoch: 270, Train Acc: 0.7861, Test Acc: 0.7553, Train Loss: 0.4501, Test Loss: 0.4908\n",
      "Epoch: 280, Train Acc: 0.7977, Test Acc: 0.7423, Train Loss: 0.4925, Test Loss: 0.5600\n",
      "Epoch: 290, Train Acc: 0.7926, Test Acc: 0.7630, Train Loss: 0.4370, Test Loss: 0.4850\n",
      "Epoch: 300, Train Acc: 0.7909, Test Acc: 0.7623, Train Loss: 0.4359, Test Loss: 0.4836\n",
      "Epoch: 310, Train Acc: 0.8129, Test Acc: 0.7620, Train Loss: 0.4358, Test Loss: 0.5054\n",
      "Epoch: 320, Train Acc: 0.8089, Test Acc: 0.7613, Train Loss: 0.4182, Test Loss: 0.4794\n",
      "Epoch: 330, Train Acc: 0.8116, Test Acc: 0.7647, Train Loss: 0.4129, Test Loss: 0.4802\n",
      "Epoch: 340, Train Acc: 0.8200, Test Acc: 0.7747, Train Loss: 0.4104, Test Loss: 0.4876\n",
      "Epoch: 350, Train Acc: 0.8217, Test Acc: 0.7660, Train Loss: 0.4031, Test Loss: 0.4802\n",
      "Epoch: 360, Train Acc: 0.8241, Test Acc: 0.7697, Train Loss: 0.3980, Test Loss: 0.4814\n",
      "Epoch: 370, Train Acc: 0.8253, Test Acc: 0.7727, Train Loss: 0.4022, Test Loss: 0.4931\n",
      "Epoch: 380, Train Acc: 0.8263, Test Acc: 0.7703, Train Loss: 0.3880, Test Loss: 0.4760\n",
      "20 epochs passed without 0 test loss improvement. \n",
      "Early stopping triggered.\n"
     ]
    },
    {
     "data": {
      "text/html": [
       "<style>\n",
       "    table.wandb td:nth-child(1) { padding: 0 10px; text-align: left ; width: auto;} td:nth-child(2) {text-align: left ; width: 100%}\n",
       "    .wandb-row { display: flex; flex-direction: row; flex-wrap: wrap; justify-content: flex-start; width: 100% }\n",
       "    .wandb-col { display: flex; flex-direction: column; flex-basis: 100%; flex: 1; padding: 10px; }\n",
       "    </style>\n",
       "<div class=\"wandb-row\"><div class=\"wandb-col\"><h3>Run history:</h3><br/><table class=\"wandb\"><tr><td>Test Accuracy</td><td>▂▁▁▁▁▆▁▆▆▇▂▂▆▇▇▇▆▇▇▇▇█▇▇▇█▇██▇██████████</td></tr><tr><td>Test F1</td><td>▄▃▂▂▂▅▁▅▅▅▂▂▆▅▆▅▃▆▅▇▆▆▇▆▇▇▇▇▇█▇▆█▇▇█▇██▇</td></tr><tr><td>Test Loss</td><td>███▇▇▇▇▆▆▆▆▆▅▄▄▄▄▃▃▃▃▂▄▂▂▂▄▂▂▄▁▁▂▁▁▁▁▁▂▁</td></tr><tr><td>Test Sensitivity</td><td>█▇▆▆▆▄▅▄▅▃▅▆▅▃▄▃▁▃▃▄▃▃▆▃▄▄▆▄▄▆▄▃▅▄▄▅▃▄▅▄</td></tr><tr><td>Test Specificity</td><td>▁▁▂▂▂▆▂▆▆▇▃▂▆▇▇▇█▇█▇▇▇▆█▇▇▆▇▇▆▇█▇▇▇▇█▇▇▇</td></tr><tr><td>Train Accuracy</td><td>▂▁▁▁▁▆▁▆▆▆▂▂▆▆▇▆▆▆▆▇▇▇▇▇▇▇▇▇▇▇▇▇████████</td></tr><tr><td>Train F1</td><td>▃▃▁▁▂▅▁▅▅▄▂▂▆▅▆▄▁▅▄▆▅▅▇▅▇▆▇▆▇█▇▆▇▇▇█▇███</td></tr><tr><td>Train Loss</td><td>█████▇▇▇▇▇▆▆▆▅▅▅▅▄▄▄▄▄▄▃▃▃▄▂▂▃▂▂▂▂▂▂▂▁▁▁</td></tr><tr><td>Train Sensitivity</td><td>█▇▆▆▇▄▅▄▅▃▆▆▅▃▄▃▁▃▃▄▃▄▆▃▅▄▆▄▄▇▄▄▅▄▄▅▄▅▆▅</td></tr><tr><td>Train Specificity</td><td>▁▁▂▂▁▆▃▆▆▇▃▂▆▇▇▇█▇█▇▇▇▆█▇▇▆▇▇▆▇█▇██▇█▇▇▇</td></tr></table><br/></div><div class=\"wandb-col\"><h3>Run summary:</h3><br/><table class=\"wandb\"><tr><td>Test Accuracy</td><td>0.76867</td></tr><tr><td>Test F1</td><td>0.74873</td></tr><tr><td>Test Loss</td><td>0.47891</td></tr><tr><td>Test Sensitivity</td><td>0.67449</td></tr><tr><td>Test Specificity</td><td>0.86708</td></tr><tr><td>Train Accuracy</td><td>0.80514</td></tr><tr><td>Train F1</td><td>0.78912</td></tr><tr><td>Train Loss</td><td>0.4019</td></tr><tr><td>Train Sensitivity</td><td>0.69254</td></tr><tr><td>Train Specificity</td><td>0.93032</td></tr></table><br/></div></div>"
      ],
      "text/plain": [
       "<IPython.core.display.HTML object>"
      ]
     },
     "metadata": {},
     "output_type": "display_data"
    },
    {
     "data": {
      "text/html": [
       " View run <strong style=\"color:#cdcd00\">vibrant-sweep-22</strong> at: <a href='https://wandb.ai/dylan-home/pnca-sweep-1/runs/el3gmmh2' target=\"_blank\">https://wandb.ai/dylan-home/pnca-sweep-1/runs/el3gmmh2</a><br/>Synced 5 W&B file(s), 0 media file(s), 0 artifact file(s) and 0 other file(s)"
      ],
      "text/plain": [
       "<IPython.core.display.HTML object>"
      ]
     },
     "metadata": {},
     "output_type": "display_data"
    },
    {
     "data": {
      "text/html": [
       "Find logs at: <code>./wandb/run-20250203_143917-el3gmmh2/logs</code>"
      ],
      "text/plain": [
       "<IPython.core.display.HTML object>"
      ]
     },
     "metadata": {},
     "output_type": "display_data"
    },
    {
     "name": "stderr",
     "output_type": "stream",
     "text": [
      "\u001b[34m\u001b[1mwandb\u001b[0m: Agent Starting Run: l5077ebj with config:\n",
      "\u001b[34m\u001b[1mwandb\u001b[0m: \tcutoff_distance: 4.277764651748239\n",
      "\u001b[34m\u001b[1mwandb\u001b[0m: \tdropout: 0.4\n",
      "\u001b[34m\u001b[1mwandb\u001b[0m: \thidden_channels: 256\n",
      "\u001b[34m\u001b[1mwandb\u001b[0m: \tlearning_rate: 0.0002690761037610498\n",
      "\u001b[34m\u001b[1mwandb\u001b[0m: \tweight_decay: 0.0005057440568823921\n",
      "Failed to detect the name of this notebook, you can set it manually with the WANDB_NOTEBOOK_NAME environment variable to enable code saving.\n",
      "/usr/lib/python3/dist-packages/requests/__init__.py:87: RequestsDependencyWarning: urllib3 (2.2.3) or chardet (4.0.0) doesn't match a supported version!\n",
      "  warnings.warn(\"urllib3 ({}) or chardet ({}) doesn't match a supported \"\n"
     ]
    },
    {
     "data": {
      "text/html": [
       "wandb version 0.19.5 is available!  To upgrade, please run:\n",
       " $ pip install wandb --upgrade"
      ],
      "text/plain": [
       "<IPython.core.display.HTML object>"
      ]
     },
     "metadata": {},
     "output_type": "display_data"
    },
    {
     "data": {
      "text/html": [
       "Tracking run with wandb version 0.16.4"
      ],
      "text/plain": [
       "<IPython.core.display.HTML object>"
      ]
     },
     "metadata": {},
     "output_type": "display_data"
    },
    {
     "data": {
      "text/html": [
       "Run data is saved locally in <code>/mnt/alphafold-volume-1/dylan2/repos/tb-pnca-gnn/dd_pnca/wandb/run-20250203_145505-l5077ebj</code>"
      ],
      "text/plain": [
       "<IPython.core.display.HTML object>"
      ]
     },
     "metadata": {},
     "output_type": "display_data"
    },
    {
     "data": {
      "text/html": [
       "Syncing run <strong><a href='https://wandb.ai/dylan-home/pnca-sweep-1/runs/l5077ebj' target=\"_blank\">logical-sweep-23</a></strong> to <a href='https://wandb.ai/dylan-home/pnca-sweep-1' target=\"_blank\">Weights & Biases</a> (<a href='https://wandb.me/run' target=\"_blank\">docs</a>)<br/>Sweep page: <a href='https://wandb.ai/dylan-home/pnca-sweep-1/sweeps/f2b4l8u4' target=\"_blank\">https://wandb.ai/dylan-home/pnca-sweep-1/sweeps/f2b4l8u4</a>"
      ],
      "text/plain": [
       "<IPython.core.display.HTML object>"
      ]
     },
     "metadata": {},
     "output_type": "display_data"
    },
    {
     "data": {
      "text/html": [
       " View project at <a href='https://wandb.ai/dylan-home/pnca-sweep-1' target=\"_blank\">https://wandb.ai/dylan-home/pnca-sweep-1</a>"
      ],
      "text/plain": [
       "<IPython.core.display.HTML object>"
      ]
     },
     "metadata": {},
     "output_type": "display_data"
    },
    {
     "data": {
      "text/html": [
       " View sweep at <a href='https://wandb.ai/dylan-home/pnca-sweep-1/sweeps/f2b4l8u4' target=\"_blank\">https://wandb.ai/dylan-home/pnca-sweep-1/sweeps/f2b4l8u4</a>"
      ],
      "text/plain": [
       "<IPython.core.display.HTML object>"
      ]
     },
     "metadata": {},
     "output_type": "display_data"
    },
    {
     "data": {
      "text/html": [
       " View run at <a href='https://wandb.ai/dylan-home/pnca-sweep-1/runs/l5077ebj' target=\"_blank\">https://wandb.ai/dylan-home/pnca-sweep-1/runs/l5077ebj</a>"
      ],
      "text/plain": [
       "<IPython.core.display.HTML object>"
      ]
     },
     "metadata": {},
     "output_type": "display_data"
    },
    {
     "name": "stdout",
     "output_type": "stream",
     "text": [
      "Using CUDA\n",
      "Early stopping enabled. Patience: 20. Min Delta: 0.\n",
      "Epoch: 010, Train Acc: 0.5264, Test Acc: 0.5110, Train Loss: 0.6811, Test Loss: 0.6857\n",
      "Epoch: 020, Train Acc: 0.6571, Test Acc: 0.6430, Train Loss: 0.6061, Test Loss: 0.6236\n",
      "Epoch: 030, Train Acc: 0.7651, Test Acc: 0.7077, Train Loss: 0.4960, Test Loss: 0.5647\n",
      "Epoch: 040, Train Acc: 0.5289, Test Acc: 0.5080, Train Loss: 0.7395, Test Loss: 0.8528\n",
      "Epoch: 050, Train Acc: 0.8307, Test Acc: 0.7677, Train Loss: 0.4165, Test Loss: 0.5548\n",
      "20 epochs passed without 0 test loss improvement. \n",
      "Early stopping triggered.\n"
     ]
    },
    {
     "data": {
      "text/html": [
       "<style>\n",
       "    table.wandb td:nth-child(1) { padding: 0 10px; text-align: left ; width: auto;} td:nth-child(2) {text-align: left ; width: 100%}\n",
       "    .wandb-row { display: flex; flex-direction: row; flex-wrap: wrap; justify-content: flex-start; width: 100% }\n",
       "    .wandb-col { display: flex; flex-direction: column; flex-basis: 100%; flex: 1; padding: 10px; }\n",
       "    </style>\n",
       "<div class=\"wandb-row\"><div class=\"wandb-col\"><h3>Run history:</h3><br/><table class=\"wandb\"><tr><td>Test Accuracy</td><td>▁▂▂▁▂▂▂▂▁▄▁▂▄▁▅▂▅▇▄█▂▂▆▂▇█▁▂▆▁▇▅█▂█▂▃▆█▃</td></tr><tr><td>Test F1</td><td>▁▇▇▁▇▇▇▇▁▄▇▇▅▇▆▇▆█▅█▇▇▇▇██▇▇▇▇▇▆█▂█▇▄▇█▃</td></tr><tr><td>Test Loss</td><td>▂▂▂▂▂▂▂▂▂▂▂▂▂▁▁▃▁▁▂▁▁▂▁▂▁▁▂▃▁▃▁▂▁█▁▆▄▁▁▆</td></tr><tr><td>Test Sensitivity</td><td>▁██▁████▁▃██▃█▄█▄▇▃▆██▅█▇▆██▄█▅▄▆▁▅█▂▄▇▂</td></tr><tr><td>Test Specificity</td><td>█▁▁█▁▁▁▁██▁▁█▁█▁▇▅█▆▁▁▇▁▅▇▁▁▇▁▇█▆█▇▁█▇▆█</td></tr><tr><td>Train Accuracy</td><td>▁▂▂▁▂▂▂▂▁▄▂▂▄▂▅▂▅▇▄▇▂▂▇▂▇█▂▂▆▂▇▅█▂█▂▃▇█▃</td></tr><tr><td>Train F1</td><td>▁▇▇▁▇▇▇▇▁▄▇▇▅▇▆▇▆█▅█▇▇▇▇██▇▇▇▇▇▆█▂█▇▄▇█▃</td></tr><tr><td>Train Loss</td><td>▂▂▂▂▂▂▂▂▂▂▂▂▂▂▂▄▂▂▂▁▂▃▁▃▁▁▂▃▁▃▁▂▁█▁▅▄▁▁▆</td></tr><tr><td>Train Sensitivity</td><td>▁██▁████▁▃██▃█▄█▄▇▃▆██▅█▇▆██▅█▅▄▇▂▆█▃▅▇▂</td></tr><tr><td>Train Specificity</td><td>█▁▁█▁▁▁▁██▁▁█▁█▁█▅█▇▂▁█▁▆▇▁▁█▁██▇█▇▁██▆█</td></tr></table><br/></div><div class=\"wandb-col\"><h3>Run summary:</h3><br/><table class=\"wandb\"><tr><td>Test Accuracy</td><td>0.557</td></tr><tr><td>Test F1</td><td>0.24187</td></tr><tr><td>Test Loss</td><td>1.52028</td></tr><tr><td>Test Sensitivity</td><td>0.13829</td></tr><tr><td>Test Specificity</td><td>0.99455</td></tr><tr><td>Train Accuracy</td><td>0.56414</td></tr><tr><td>Train F1</td><td>0.29359</td></tr><tr><td>Train Loss</td><td>1.39087</td></tr><tr><td>Train Sensitivity</td><td>0.17205</td></tr><tr><td>Train Specificity</td><td>1.0</td></tr></table><br/></div></div>"
      ],
      "text/plain": [
       "<IPython.core.display.HTML object>"
      ]
     },
     "metadata": {},
     "output_type": "display_data"
    },
    {
     "data": {
      "text/html": [
       " View run <strong style=\"color:#cdcd00\">logical-sweep-23</strong> at: <a href='https://wandb.ai/dylan-home/pnca-sweep-1/runs/l5077ebj' target=\"_blank\">https://wandb.ai/dylan-home/pnca-sweep-1/runs/l5077ebj</a><br/>Synced 5 W&B file(s), 0 media file(s), 0 artifact file(s) and 0 other file(s)"
      ],
      "text/plain": [
       "<IPython.core.display.HTML object>"
      ]
     },
     "metadata": {},
     "output_type": "display_data"
    },
    {
     "data": {
      "text/html": [
       "Find logs at: <code>./wandb/run-20250203_145505-l5077ebj/logs</code>"
      ],
      "text/plain": [
       "<IPython.core.display.HTML object>"
      ]
     },
     "metadata": {},
     "output_type": "display_data"
    },
    {
     "name": "stderr",
     "output_type": "stream",
     "text": [
      "\u001b[34m\u001b[1mwandb\u001b[0m: Agent Starting Run: od39heog with config:\n",
      "\u001b[34m\u001b[1mwandb\u001b[0m: \tcutoff_distance: 3.6728484302537887\n",
      "\u001b[34m\u001b[1mwandb\u001b[0m: \tdropout: 0.8\n",
      "\u001b[34m\u001b[1mwandb\u001b[0m: \thidden_channels: 192\n",
      "\u001b[34m\u001b[1mwandb\u001b[0m: \tlearning_rate: 3.126465304611545e-05\n",
      "\u001b[34m\u001b[1mwandb\u001b[0m: \tweight_decay: 6.174174174997087e-05\n",
      "Failed to detect the name of this notebook, you can set it manually with the WANDB_NOTEBOOK_NAME environment variable to enable code saving.\n",
      "/usr/lib/python3/dist-packages/requests/__init__.py:87: RequestsDependencyWarning: urllib3 (2.2.3) or chardet (4.0.0) doesn't match a supported version!\n",
      "  warnings.warn(\"urllib3 ({}) or chardet ({}) doesn't match a supported \"\n"
     ]
    },
    {
     "data": {
      "text/html": [
       "wandb version 0.19.5 is available!  To upgrade, please run:\n",
       " $ pip install wandb --upgrade"
      ],
      "text/plain": [
       "<IPython.core.display.HTML object>"
      ]
     },
     "metadata": {},
     "output_type": "display_data"
    },
    {
     "data": {
      "text/html": [
       "Tracking run with wandb version 0.16.4"
      ],
      "text/plain": [
       "<IPython.core.display.HTML object>"
      ]
     },
     "metadata": {},
     "output_type": "display_data"
    },
    {
     "data": {
      "text/html": [
       "Run data is saved locally in <code>/mnt/alphafold-volume-1/dylan2/repos/tb-pnca-gnn/dd_pnca/wandb/run-20250203_145643-od39heog</code>"
      ],
      "text/plain": [
       "<IPython.core.display.HTML object>"
      ]
     },
     "metadata": {},
     "output_type": "display_data"
    },
    {
     "data": {
      "text/html": [
       "Syncing run <strong><a href='https://wandb.ai/dylan-home/pnca-sweep-1/runs/od39heog' target=\"_blank\">solar-sweep-24</a></strong> to <a href='https://wandb.ai/dylan-home/pnca-sweep-1' target=\"_blank\">Weights & Biases</a> (<a href='https://wandb.me/run' target=\"_blank\">docs</a>)<br/>Sweep page: <a href='https://wandb.ai/dylan-home/pnca-sweep-1/sweeps/f2b4l8u4' target=\"_blank\">https://wandb.ai/dylan-home/pnca-sweep-1/sweeps/f2b4l8u4</a>"
      ],
      "text/plain": [
       "<IPython.core.display.HTML object>"
      ]
     },
     "metadata": {},
     "output_type": "display_data"
    },
    {
     "data": {
      "text/html": [
       " View project at <a href='https://wandb.ai/dylan-home/pnca-sweep-1' target=\"_blank\">https://wandb.ai/dylan-home/pnca-sweep-1</a>"
      ],
      "text/plain": [
       "<IPython.core.display.HTML object>"
      ]
     },
     "metadata": {},
     "output_type": "display_data"
    },
    {
     "data": {
      "text/html": [
       " View sweep at <a href='https://wandb.ai/dylan-home/pnca-sweep-1/sweeps/f2b4l8u4' target=\"_blank\">https://wandb.ai/dylan-home/pnca-sweep-1/sweeps/f2b4l8u4</a>"
      ],
      "text/plain": [
       "<IPython.core.display.HTML object>"
      ]
     },
     "metadata": {},
     "output_type": "display_data"
    },
    {
     "data": {
      "text/html": [
       " View run at <a href='https://wandb.ai/dylan-home/pnca-sweep-1/runs/od39heog' target=\"_blank\">https://wandb.ai/dylan-home/pnca-sweep-1/runs/od39heog</a>"
      ],
      "text/plain": [
       "<IPython.core.display.HTML object>"
      ]
     },
     "metadata": {},
     "output_type": "display_data"
    },
    {
     "name": "stdout",
     "output_type": "stream",
     "text": [
      "Using CUDA\n",
      "Early stopping enabled. Patience: 20. Min Delta: 0.\n",
      "Epoch: 010, Train Acc: 0.5264, Test Acc: 0.5110, Train Loss: 0.6916, Test Loss: 0.6927\n",
      "Epoch: 020, Train Acc: 0.5264, Test Acc: 0.5110, Train Loss: 0.6909, Test Loss: 0.6923\n",
      "Epoch: 030, Train Acc: 0.5264, Test Acc: 0.5110, Train Loss: 0.6906, Test Loss: 0.6921\n",
      "Epoch: 040, Train Acc: 0.5264, Test Acc: 0.5110, Train Loss: 0.6900, Test Loss: 0.6916\n",
      "Epoch: 050, Train Acc: 0.5264, Test Acc: 0.5110, Train Loss: 0.6896, Test Loss: 0.6913\n",
      "Epoch: 060, Train Acc: 0.5264, Test Acc: 0.5110, Train Loss: 0.6890, Test Loss: 0.6907\n",
      "Epoch: 070, Train Acc: 0.5264, Test Acc: 0.5110, Train Loss: 0.6882, Test Loss: 0.6905\n",
      "Epoch: 080, Train Acc: 0.5266, Test Acc: 0.5110, Train Loss: 0.6872, Test Loss: 0.6895\n",
      "Epoch: 090, Train Acc: 0.5266, Test Acc: 0.5110, Train Loss: 0.6863, Test Loss: 0.6889\n",
      "Epoch: 100, Train Acc: 0.5266, Test Acc: 0.5110, Train Loss: 0.6853, Test Loss: 0.6880\n",
      "Epoch: 110, Train Acc: 0.5264, Test Acc: 0.5110, Train Loss: 0.6841, Test Loss: 0.6870\n",
      "Epoch: 120, Train Acc: 0.5193, Test Acc: 0.5040, Train Loss: 0.6825, Test Loss: 0.6849\n",
      "Epoch: 130, Train Acc: 0.5240, Test Acc: 0.5080, Train Loss: 0.6802, Test Loss: 0.6835\n",
      "Epoch: 140, Train Acc: 0.5264, Test Acc: 0.5113, Train Loss: 0.6782, Test Loss: 0.6828\n",
      "Epoch: 150, Train Acc: 0.5240, Test Acc: 0.5083, Train Loss: 0.6746, Test Loss: 0.6792\n",
      "Epoch: 160, Train Acc: 0.5244, Test Acc: 0.5013, Train Loss: 0.6705, Test Loss: 0.6756\n",
      "Epoch: 170, Train Acc: 0.5287, Test Acc: 0.4937, Train Loss: 0.6656, Test Loss: 0.6714\n",
      "Epoch: 180, Train Acc: 0.5369, Test Acc: 0.4950, Train Loss: 0.6591, Test Loss: 0.6661\n",
      "Epoch: 190, Train Acc: 0.5294, Test Acc: 0.4933, Train Loss: 0.6530, Test Loss: 0.6617\n",
      "Epoch: 200, Train Acc: 0.7487, Test Acc: 0.7183, Train Loss: 0.6453, Test Loss: 0.6528\n",
      "Epoch: 210, Train Acc: 0.7670, Test Acc: 0.7300, Train Loss: 0.6333, Test Loss: 0.6450\n",
      "Epoch: 220, Train Acc: 0.7456, Test Acc: 0.7257, Train Loss: 0.6241, Test Loss: 0.6365\n",
      "Epoch: 230, Train Acc: 0.7664, Test Acc: 0.7433, Train Loss: 0.6116, Test Loss: 0.6279\n",
      "Epoch: 240, Train Acc: 0.7660, Test Acc: 0.7397, Train Loss: 0.5982, Test Loss: 0.6190\n",
      "Epoch: 250, Train Acc: 0.7577, Test Acc: 0.7320, Train Loss: 0.5871, Test Loss: 0.6107\n",
      "Epoch: 260, Train Acc: 0.7789, Test Acc: 0.7413, Train Loss: 0.5759, Test Loss: 0.6061\n",
      "Epoch: 270, Train Acc: 0.7723, Test Acc: 0.7370, Train Loss: 0.5620, Test Loss: 0.5953\n",
      "Epoch: 280, Train Acc: 0.5597, Test Acc: 0.5143, Train Loss: 0.5750, Test Loss: 0.6149\n",
      "Epoch: 290, Train Acc: 0.7841, Test Acc: 0.7447, Train Loss: 0.5400, Test Loss: 0.5842\n",
      "Epoch: 300, Train Acc: 0.7720, Test Acc: 0.7327, Train Loss: 0.5314, Test Loss: 0.5786\n",
      "Epoch: 310, Train Acc: 0.7861, Test Acc: 0.7423, Train Loss: 0.5203, Test Loss: 0.5748\n",
      "Epoch: 320, Train Acc: 0.7926, Test Acc: 0.7423, Train Loss: 0.5113, Test Loss: 0.5716\n",
      "Epoch: 330, Train Acc: 0.7900, Test Acc: 0.7430, Train Loss: 0.5062, Test Loss: 0.5718\n",
      "Epoch: 340, Train Acc: 0.7699, Test Acc: 0.7227, Train Loss: 0.4984, Test Loss: 0.5721\n",
      "Epoch: 350, Train Acc: 0.7936, Test Acc: 0.7463, Train Loss: 0.4940, Test Loss: 0.5709\n",
      "Epoch: 360, Train Acc: 0.7956, Test Acc: 0.7473, Train Loss: 0.4819, Test Loss: 0.5666\n",
      "Epoch: 370, Train Acc: 0.7899, Test Acc: 0.7263, Train Loss: 0.5136, Test Loss: 0.6003\n",
      "Epoch: 380, Train Acc: 0.7947, Test Acc: 0.7457, Train Loss: 0.4865, Test Loss: 0.5784\n",
      "Epoch: 390, Train Acc: 0.8001, Test Acc: 0.7347, Train Loss: 0.4598, Test Loss: 0.5641\n",
      "20 epochs passed without 0 test loss improvement. \n",
      "Early stopping triggered.\n"
     ]
    },
    {
     "data": {
      "text/html": [
       "<style>\n",
       "    table.wandb td:nth-child(1) { padding: 0 10px; text-align: left ; width: auto;} td:nth-child(2) {text-align: left ; width: 100%}\n",
       "    .wandb-row { display: flex; flex-direction: row; flex-wrap: wrap; justify-content: flex-start; width: 100% }\n",
       "    .wandb-col { display: flex; flex-direction: column; flex-basis: 100%; flex: 1; padding: 10px; }\n",
       "    </style>\n",
       "<div class=\"wandb-row\"><div class=\"wandb-col\"><h3>Run history:</h3><br/><table class=\"wandb\"><tr><td>Test Accuracy</td><td>▁▁▁▁▁▁▁▁▁▁▁▁▁▁▁▁▁▁▁▇▇█▇█████▂▆████▇█████</td></tr><tr><td>Test F1</td><td>▄▄▄▄▄▄▄▄▄▄▄▄▄▄▄▃▃▃▂▄▄▆▄▆▆██▆▃▁▅▇▇▇▄▆▇▇██</td></tr><tr><td>Test Loss</td><td>█████████████▇▇▇▇▇▇▆▆▅▅▄▄▄▃▃▄▃▂▂▁▁▁▁▁▁▂▂</td></tr><tr><td>Test Sensitivity</td><td>███████████████▇▇▇▆▂▂▃▂▃▃▅▅▃▇▁▃▄▄▄▂▃▄▄▅▅</td></tr><tr><td>Test Specificity</td><td>▁▁▁▁▁▁▁▁▁▁▁▁▁▁▁▁▁▁▂████▇▇▆▇█▂██▇▇▇█▇▇▇▇▇</td></tr><tr><td>Train Accuracy</td><td>▁▁▁▁▁▁▁▁▁▁▁▁▁▁▁▁▁▁▁▇▇▇▇▇▇██▇▂▇▇███▇█████</td></tr><tr><td>Train F1</td><td>▂▂▂▂▂▂▂▂▂▂▂▂▁▂▂▁▁▁▁▃▃▄▃▅▅▇▇▆▂▂▅▇▇▇▅▇▇███</td></tr><tr><td>Train Loss</td><td>███████████████▇▇▇▇▇▆▆▆▅▅▅▄▄▄▃▃▂▂▂▂▁▁▁▁▁</td></tr><tr><td>Train Sensitivity</td><td>███████████████▇▇▇▆▂▂▃▂▃▃▅▅▃▇▁▃▅▄▅▂▄▅▅▅▆</td></tr><tr><td>Train Specificity</td><td>▁▁▁▁▁▁▁▁▁▁▁▁▁▁▁▁▁▂▂██▇█▇▇▇▇▇▂██▇▇▇█▇▇▇▇▆</td></tr></table><br/></div><div class=\"wandb-col\"><h3>Run summary:</h3><br/><table class=\"wandb\"><tr><td>Test Accuracy</td><td>0.73</td></tr><tr><td>Test F1</td><td>0.69526</td></tr><tr><td>Test Loss</td><td>0.56624</td></tr><tr><td>Test Sensitivity</td><td>0.60274</td></tr><tr><td>Test Specificity</td><td>0.86299</td></tr><tr><td>Train Accuracy</td><td>0.79471</td></tr><tr><td>Train F1</td><td>0.78237</td></tr><tr><td>Train Loss</td><td>0.45814</td></tr><tr><td>Train Sensitivity</td><td>0.70095</td></tr><tr><td>Train Specificity</td><td>0.89894</td></tr></table><br/></div></div>"
      ],
      "text/plain": [
       "<IPython.core.display.HTML object>"
      ]
     },
     "metadata": {},
     "output_type": "display_data"
    },
    {
     "data": {
      "text/html": [
       " View run <strong style=\"color:#cdcd00\">solar-sweep-24</strong> at: <a href='https://wandb.ai/dylan-home/pnca-sweep-1/runs/od39heog' target=\"_blank\">https://wandb.ai/dylan-home/pnca-sweep-1/runs/od39heog</a><br/>Synced 5 W&B file(s), 0 media file(s), 0 artifact file(s) and 0 other file(s)"
      ],
      "text/plain": [
       "<IPython.core.display.HTML object>"
      ]
     },
     "metadata": {},
     "output_type": "display_data"
    },
    {
     "data": {
      "text/html": [
       "Find logs at: <code>./wandb/run-20250203_145643-od39heog/logs</code>"
      ],
      "text/plain": [
       "<IPython.core.display.HTML object>"
      ]
     },
     "metadata": {},
     "output_type": "display_data"
    },
    {
     "name": "stderr",
     "output_type": "stream",
     "text": [
      "\u001b[34m\u001b[1mwandb\u001b[0m: Agent Starting Run: ix91mbjg with config:\n",
      "\u001b[34m\u001b[1mwandb\u001b[0m: \tcutoff_distance: 6.149233969804053\n",
      "\u001b[34m\u001b[1mwandb\u001b[0m: \tdropout: 0.8\n",
      "\u001b[34m\u001b[1mwandb\u001b[0m: \thidden_channels: 128\n",
      "\u001b[34m\u001b[1mwandb\u001b[0m: \tlearning_rate: 0.0004947302196328465\n",
      "\u001b[34m\u001b[1mwandb\u001b[0m: \tweight_decay: 2.6325777158687094e-05\n",
      "Failed to detect the name of this notebook, you can set it manually with the WANDB_NOTEBOOK_NAME environment variable to enable code saving.\n",
      "/usr/lib/python3/dist-packages/requests/__init__.py:87: RequestsDependencyWarning: urllib3 (2.2.3) or chardet (4.0.0) doesn't match a supported version!\n",
      "  warnings.warn(\"urllib3 ({}) or chardet ({}) doesn't match a supported \"\n"
     ]
    },
    {
     "data": {
      "text/html": [
       "wandb version 0.19.5 is available!  To upgrade, please run:\n",
       " $ pip install wandb --upgrade"
      ],
      "text/plain": [
       "<IPython.core.display.HTML object>"
      ]
     },
     "metadata": {},
     "output_type": "display_data"
    },
    {
     "data": {
      "text/html": [
       "Tracking run with wandb version 0.16.4"
      ],
      "text/plain": [
       "<IPython.core.display.HTML object>"
      ]
     },
     "metadata": {},
     "output_type": "display_data"
    },
    {
     "data": {
      "text/html": [
       "Run data is saved locally in <code>/mnt/alphafold-volume-1/dylan2/repos/tb-pnca-gnn/dd_pnca/wandb/run-20250203_150626-ix91mbjg</code>"
      ],
      "text/plain": [
       "<IPython.core.display.HTML object>"
      ]
     },
     "metadata": {},
     "output_type": "display_data"
    },
    {
     "data": {
      "text/html": [
       "Syncing run <strong><a href='https://wandb.ai/dylan-home/pnca-sweep-1/runs/ix91mbjg' target=\"_blank\">charmed-sweep-25</a></strong> to <a href='https://wandb.ai/dylan-home/pnca-sweep-1' target=\"_blank\">Weights & Biases</a> (<a href='https://wandb.me/run' target=\"_blank\">docs</a>)<br/>Sweep page: <a href='https://wandb.ai/dylan-home/pnca-sweep-1/sweeps/f2b4l8u4' target=\"_blank\">https://wandb.ai/dylan-home/pnca-sweep-1/sweeps/f2b4l8u4</a>"
      ],
      "text/plain": [
       "<IPython.core.display.HTML object>"
      ]
     },
     "metadata": {},
     "output_type": "display_data"
    },
    {
     "data": {
      "text/html": [
       " View project at <a href='https://wandb.ai/dylan-home/pnca-sweep-1' target=\"_blank\">https://wandb.ai/dylan-home/pnca-sweep-1</a>"
      ],
      "text/plain": [
       "<IPython.core.display.HTML object>"
      ]
     },
     "metadata": {},
     "output_type": "display_data"
    },
    {
     "data": {
      "text/html": [
       " View sweep at <a href='https://wandb.ai/dylan-home/pnca-sweep-1/sweeps/f2b4l8u4' target=\"_blank\">https://wandb.ai/dylan-home/pnca-sweep-1/sweeps/f2b4l8u4</a>"
      ],
      "text/plain": [
       "<IPython.core.display.HTML object>"
      ]
     },
     "metadata": {},
     "output_type": "display_data"
    },
    {
     "data": {
      "text/html": [
       " View run at <a href='https://wandb.ai/dylan-home/pnca-sweep-1/runs/ix91mbjg' target=\"_blank\">https://wandb.ai/dylan-home/pnca-sweep-1/runs/ix91mbjg</a>"
      ],
      "text/plain": [
       "<IPython.core.display.HTML object>"
      ]
     },
     "metadata": {},
     "output_type": "display_data"
    },
    {
     "name": "stdout",
     "output_type": "stream",
     "text": [
      "Using CUDA\n",
      "Early stopping enabled. Patience: 20. Min Delta: 0.\n",
      "Epoch: 010, Train Acc: 0.5844, Test Acc: 0.5923, Train Loss: 0.6779, Test Loss: 0.6784\n",
      "Epoch: 020, Train Acc: 0.5699, Test Acc: 0.5867, Train Loss: 1.0993, Test Loss: 1.0956\n",
      "Epoch: 030, Train Acc: 0.5354, Test Acc: 0.5117, Train Loss: 0.6606, Test Loss: 0.9203\n",
      "Epoch: 040, Train Acc: 0.8879, Test Acc: 0.7753, Train Loss: 0.2992, Test Loss: 0.5795\n",
      "Epoch: 050, Train Acc: 0.5264, Test Acc: 0.5110, Train Loss: 2.5057, Test Loss: 2.9618\n",
      "20 epochs passed without 0 test loss improvement. \n",
      "Early stopping triggered.\n"
     ]
    },
    {
     "data": {
      "text/html": [
       "<style>\n",
       "    table.wandb td:nth-child(1) { padding: 0 10px; text-align: left ; width: auto;} td:nth-child(2) {text-align: left ; width: 100%}\n",
       "    .wandb-row { display: flex; flex-direction: row; flex-wrap: wrap; justify-content: flex-start; width: 100% }\n",
       "    .wandb-col { display: flex; flex-direction: column; flex-basis: 100%; flex: 1; padding: 10px; }\n",
       "    </style>\n",
       "<div class=\"wandb-row\"><div class=\"wandb-col\"><h3>Run history:</h3><br/><table class=\"wandb\"><tr><td>Test Accuracy</td><td>▁▁▁▁▁▁▁▃▄▄▁▄▂▃▂▂▁▆▁▆▁▅▁▆█▆▁▁▂▁▃█▁▄▁▁▁▁▇▃</td></tr><tr><td>Test F1</td><td>▇▇▇▇▇▇▇▄▅▄▁▄▂▃▂▂▇▆▇▆▇▅▇▆█▆▇▇▂▇▃█▇▅▇▇▇▇█▃</td></tr><tr><td>Test Loss</td><td>▁▁▁▁▁▁▁▁▁▁▂▁▃▂▃▅▃▁▃▁▃▂▂▂▁▂▄██▂▆▁▆▄▇▅▆▇▁▇</td></tr><tr><td>Test Sensitivity</td><td>███████▂▃▃▁▃▁▂▁▁█▄█▄█▃█▄▆▄██▁█▂▆█▃████▇▂</td></tr><tr><td>Test Specificity</td><td>▁▁▁▁▁▁▁█████████▁█▁█▁█▁█▇█▁▁█▁█▇▁█▁▁▁▁▆█</td></tr><tr><td>Train Accuracy</td><td>▁▁▁▁▁▁▁▂▃▃▁▃▁▂▁▁▁▄▁▅▁▃▂▄▇▄▁▁▁▂▂▇▁▃▁▁▁▁█▂</td></tr><tr><td>Train F1</td><td>▆▆▆▆▆▆▆▃▄▄▁▄▂▂▁▁▆▅▆▅▆▄▆▅█▅▆▆▂▆▂█▆▄▆▆▆▆█▃</td></tr><tr><td>Train Loss</td><td>▂▂▂▂▂▂▂▂▂▂▂▂▃▂▄▅▃▂▃▂▂▃▂▂▁▂▃▇█▂▆▁▅▄▆▄▅▆▁▆</td></tr><tr><td>Train Sensitivity</td><td>███████▂▃▃▁▃▁▂▁▁█▄█▄█▃█▄▇▄██▁█▂▆█▃████▇▂</td></tr><tr><td>Train Specificity</td><td>▁▁▁▁▁▁▁█▇███████▁█▁█▁█▁███▁▁█▂██▁█▁▁▁▁▇█</td></tr></table><br/></div><div class=\"wandb-col\"><h3>Run summary:</h3><br/><table class=\"wandb\"><tr><td>Test Accuracy</td><td>0.583</td></tr><tr><td>Test F1</td><td>0.33066</td></tr><tr><td>Test Loss</td><td>2.69077</td></tr><tr><td>Test Sensitivity</td><td>0.20157</td></tr><tr><td>Test Specificity</td><td>0.9816</td></tr><tr><td>Train Accuracy</td><td>0.57557</td></tr><tr><td>Train F1</td><td>0.32462</td></tr><tr><td>Train Loss</td><td>2.50598</td></tr><tr><td>Train Sensitivity</td><td>0.19376</td></tr><tr><td>Train Specificity</td><td>1.0</td></tr></table><br/></div></div>"
      ],
      "text/plain": [
       "<IPython.core.display.HTML object>"
      ]
     },
     "metadata": {},
     "output_type": "display_data"
    },
    {
     "data": {
      "text/html": [
       " View run <strong style=\"color:#cdcd00\">charmed-sweep-25</strong> at: <a href='https://wandb.ai/dylan-home/pnca-sweep-1/runs/ix91mbjg' target=\"_blank\">https://wandb.ai/dylan-home/pnca-sweep-1/runs/ix91mbjg</a><br/>Synced 5 W&B file(s), 0 media file(s), 0 artifact file(s) and 0 other file(s)"
      ],
      "text/plain": [
       "<IPython.core.display.HTML object>"
      ]
     },
     "metadata": {},
     "output_type": "display_data"
    },
    {
     "data": {
      "text/html": [
       "Find logs at: <code>./wandb/run-20250203_150626-ix91mbjg/logs</code>"
      ],
      "text/plain": [
       "<IPython.core.display.HTML object>"
      ]
     },
     "metadata": {},
     "output_type": "display_data"
    },
    {
     "name": "stderr",
     "output_type": "stream",
     "text": [
      "\u001b[34m\u001b[1mwandb\u001b[0m: Agent Starting Run: whe99tzh with config:\n",
      "\u001b[34m\u001b[1mwandb\u001b[0m: \tcutoff_distance: 6.142736916720214\n",
      "\u001b[34m\u001b[1mwandb\u001b[0m: \tdropout: 0.6\n",
      "\u001b[34m\u001b[1mwandb\u001b[0m: \thidden_channels: 192\n",
      "\u001b[34m\u001b[1mwandb\u001b[0m: \tlearning_rate: 6.312155003734085e-06\n",
      "\u001b[34m\u001b[1mwandb\u001b[0m: \tweight_decay: 2.140719344734302e-05\n",
      "Failed to detect the name of this notebook, you can set it manually with the WANDB_NOTEBOOK_NAME environment variable to enable code saving.\n",
      "/usr/lib/python3/dist-packages/requests/__init__.py:87: RequestsDependencyWarning: urllib3 (2.2.3) or chardet (4.0.0) doesn't match a supported version!\n",
      "  warnings.warn(\"urllib3 ({}) or chardet ({}) doesn't match a supported \"\n"
     ]
    },
    {
     "data": {
      "text/html": [
       "wandb version 0.19.5 is available!  To upgrade, please run:\n",
       " $ pip install wandb --upgrade"
      ],
      "text/plain": [
       "<IPython.core.display.HTML object>"
      ]
     },
     "metadata": {},
     "output_type": "display_data"
    },
    {
     "data": {
      "text/html": [
       "Tracking run with wandb version 0.16.4"
      ],
      "text/plain": [
       "<IPython.core.display.HTML object>"
      ]
     },
     "metadata": {},
     "output_type": "display_data"
    },
    {
     "data": {
      "text/html": [
       "Run data is saved locally in <code>/mnt/alphafold-volume-1/dylan2/repos/tb-pnca-gnn/dd_pnca/wandb/run-20250203_150810-whe99tzh</code>"
      ],
      "text/plain": [
       "<IPython.core.display.HTML object>"
      ]
     },
     "metadata": {},
     "output_type": "display_data"
    },
    {
     "data": {
      "text/html": [
       "Syncing run <strong><a href='https://wandb.ai/dylan-home/pnca-sweep-1/runs/whe99tzh' target=\"_blank\">grateful-sweep-26</a></strong> to <a href='https://wandb.ai/dylan-home/pnca-sweep-1' target=\"_blank\">Weights & Biases</a> (<a href='https://wandb.me/run' target=\"_blank\">docs</a>)<br/>Sweep page: <a href='https://wandb.ai/dylan-home/pnca-sweep-1/sweeps/f2b4l8u4' target=\"_blank\">https://wandb.ai/dylan-home/pnca-sweep-1/sweeps/f2b4l8u4</a>"
      ],
      "text/plain": [
       "<IPython.core.display.HTML object>"
      ]
     },
     "metadata": {},
     "output_type": "display_data"
    },
    {
     "data": {
      "text/html": [
       " View project at <a href='https://wandb.ai/dylan-home/pnca-sweep-1' target=\"_blank\">https://wandb.ai/dylan-home/pnca-sweep-1</a>"
      ],
      "text/plain": [
       "<IPython.core.display.HTML object>"
      ]
     },
     "metadata": {},
     "output_type": "display_data"
    },
    {
     "data": {
      "text/html": [
       " View sweep at <a href='https://wandb.ai/dylan-home/pnca-sweep-1/sweeps/f2b4l8u4' target=\"_blank\">https://wandb.ai/dylan-home/pnca-sweep-1/sweeps/f2b4l8u4</a>"
      ],
      "text/plain": [
       "<IPython.core.display.HTML object>"
      ]
     },
     "metadata": {},
     "output_type": "display_data"
    },
    {
     "data": {
      "text/html": [
       " View run at <a href='https://wandb.ai/dylan-home/pnca-sweep-1/runs/whe99tzh' target=\"_blank\">https://wandb.ai/dylan-home/pnca-sweep-1/runs/whe99tzh</a>"
      ],
      "text/plain": [
       "<IPython.core.display.HTML object>"
      ]
     },
     "metadata": {},
     "output_type": "display_data"
    },
    {
     "name": "stdout",
     "output_type": "stream",
     "text": [
      "Using CUDA\n",
      "Early stopping enabled. Patience: 20. Min Delta: 0.\n",
      "Epoch: 010, Train Acc: 0.5264, Test Acc: 0.5110, Train Loss: 0.6917, Test Loss: 0.6926\n",
      "Epoch: 020, Train Acc: 0.5264, Test Acc: 0.5110, Train Loss: 0.6909, Test Loss: 0.6923\n",
      "Epoch: 030, Train Acc: 0.5264, Test Acc: 0.5110, Train Loss: 0.6906, Test Loss: 0.6920\n",
      "Epoch: 040, Train Acc: 0.5264, Test Acc: 0.5110, Train Loss: 0.6901, Test Loss: 0.6917\n",
      "Epoch: 050, Train Acc: 0.5264, Test Acc: 0.5110, Train Loss: 0.6898, Test Loss: 0.6914\n",
      "Epoch: 060, Train Acc: 0.5264, Test Acc: 0.5110, Train Loss: 0.6894, Test Loss: 0.6909\n",
      "Epoch: 070, Train Acc: 0.5264, Test Acc: 0.5110, Train Loss: 0.6888, Test Loss: 0.6905\n",
      "Epoch: 080, Train Acc: 0.5264, Test Acc: 0.5110, Train Loss: 0.6882, Test Loss: 0.6900\n",
      "Epoch: 090, Train Acc: 0.5264, Test Acc: 0.5110, Train Loss: 0.6877, Test Loss: 0.6897\n",
      "Epoch: 100, Train Acc: 0.5264, Test Acc: 0.5110, Train Loss: 0.6873, Test Loss: 0.6893\n",
      "Epoch: 110, Train Acc: 0.5264, Test Acc: 0.5110, Train Loss: 0.6868, Test Loss: 0.6887\n",
      "Epoch: 120, Train Acc: 0.5264, Test Acc: 0.5110, Train Loss: 0.6861, Test Loss: 0.6881\n",
      "Epoch: 130, Train Acc: 0.5264, Test Acc: 0.5110, Train Loss: 0.6854, Test Loss: 0.6876\n",
      "Epoch: 140, Train Acc: 0.5264, Test Acc: 0.5110, Train Loss: 0.6846, Test Loss: 0.6869\n",
      "Epoch: 150, Train Acc: 0.5266, Test Acc: 0.5110, Train Loss: 0.6837, Test Loss: 0.6861\n",
      "Epoch: 160, Train Acc: 0.5264, Test Acc: 0.5110, Train Loss: 0.6828, Test Loss: 0.6854\n",
      "Epoch: 170, Train Acc: 0.5257, Test Acc: 0.5103, Train Loss: 0.6819, Test Loss: 0.6844\n",
      "Epoch: 180, Train Acc: 0.5254, Test Acc: 0.5100, Train Loss: 0.6803, Test Loss: 0.6835\n",
      "Epoch: 190, Train Acc: 0.5239, Test Acc: 0.5077, Train Loss: 0.6794, Test Loss: 0.6822\n",
      "Epoch: 200, Train Acc: 0.5244, Test Acc: 0.5083, Train Loss: 0.6778, Test Loss: 0.6810\n",
      "Epoch: 210, Train Acc: 0.5230, Test Acc: 0.5083, Train Loss: 0.6759, Test Loss: 0.6797\n",
      "Epoch: 220, Train Acc: 0.5213, Test Acc: 0.5020, Train Loss: 0.6742, Test Loss: 0.6780\n",
      "Epoch: 230, Train Acc: 0.5163, Test Acc: 0.4923, Train Loss: 0.6721, Test Loss: 0.6762\n",
      "Epoch: 240, Train Acc: 0.5231, Test Acc: 0.5020, Train Loss: 0.6701, Test Loss: 0.6747\n",
      "Epoch: 250, Train Acc: 0.5216, Test Acc: 0.4997, Train Loss: 0.6678, Test Loss: 0.6727\n",
      "Epoch: 260, Train Acc: 0.5223, Test Acc: 0.4920, Train Loss: 0.6651, Test Loss: 0.6702\n",
      "Epoch: 270, Train Acc: 0.7351, Test Acc: 0.6693, Train Loss: 0.6626, Test Loss: 0.6676\n",
      "Epoch: 280, Train Acc: 0.5214, Test Acc: 0.4893, Train Loss: 0.6596, Test Loss: 0.6657\n",
      "Epoch: 290, Train Acc: 0.7480, Test Acc: 0.6817, Train Loss: 0.6560, Test Loss: 0.6622\n",
      "Epoch: 300, Train Acc: 0.7514, Test Acc: 0.6867, Train Loss: 0.6529, Test Loss: 0.6591\n",
      "Epoch: 310, Train Acc: 0.7487, Test Acc: 0.6833, Train Loss: 0.6494, Test Loss: 0.6563\n",
      "Epoch: 320, Train Acc: 0.7341, Test Acc: 0.6997, Train Loss: 0.6451, Test Loss: 0.6524\n",
      "Epoch: 330, Train Acc: 0.7463, Test Acc: 0.6910, Train Loss: 0.6422, Test Loss: 0.6491\n",
      "Epoch: 340, Train Acc: 0.7593, Test Acc: 0.6940, Train Loss: 0.6383, Test Loss: 0.6461\n",
      "Epoch: 350, Train Acc: 0.7356, Test Acc: 0.7087, Train Loss: 0.6336, Test Loss: 0.6416\n",
      "Epoch: 360, Train Acc: 0.7266, Test Acc: 0.7080, Train Loss: 0.6288, Test Loss: 0.6376\n",
      "Epoch: 370, Train Acc: 0.7450, Test Acc: 0.7100, Train Loss: 0.6245, Test Loss: 0.6337\n",
      "Epoch: 380, Train Acc: 0.7386, Test Acc: 0.7140, Train Loss: 0.6200, Test Loss: 0.6293\n",
      "Epoch: 390, Train Acc: 0.7407, Test Acc: 0.7157, Train Loss: 0.6154, Test Loss: 0.6250\n",
      "Epoch: 400, Train Acc: 0.7467, Test Acc: 0.7197, Train Loss: 0.6107, Test Loss: 0.6210\n",
      "Epoch: 410, Train Acc: 0.7373, Test Acc: 0.7180, Train Loss: 0.6058, Test Loss: 0.6166\n",
      "Epoch: 420, Train Acc: 0.7341, Test Acc: 0.7190, Train Loss: 0.6014, Test Loss: 0.6123\n",
      "Epoch: 430, Train Acc: 0.7594, Test Acc: 0.7220, Train Loss: 0.5964, Test Loss: 0.6093\n",
      "Epoch: 440, Train Acc: 0.7494, Test Acc: 0.7230, Train Loss: 0.5912, Test Loss: 0.6041\n",
      "Epoch: 450, Train Acc: 0.7369, Test Acc: 0.7270, Train Loss: 0.5870, Test Loss: 0.5995\n",
      "Epoch: 460, Train Acc: 0.7390, Test Acc: 0.7283, Train Loss: 0.5815, Test Loss: 0.5951\n",
      "Epoch: 470, Train Acc: 0.7540, Test Acc: 0.7317, Train Loss: 0.5772, Test Loss: 0.5913\n",
      "Epoch: 480, Train Acc: 0.7654, Test Acc: 0.7297, Train Loss: 0.5741, Test Loss: 0.5888\n",
      "Epoch: 490, Train Acc: 0.7459, Test Acc: 0.7337, Train Loss: 0.5677, Test Loss: 0.5831\n",
      "Epoch: 500, Train Acc: 0.7416, Test Acc: 0.7317, Train Loss: 0.5644, Test Loss: 0.5798\n",
      "Epoch: 510, Train Acc: 0.7529, Test Acc: 0.7373, Train Loss: 0.5588, Test Loss: 0.5751\n",
      "Epoch: 520, Train Acc: 0.7549, Test Acc: 0.7390, Train Loss: 0.5545, Test Loss: 0.5717\n",
      "Epoch: 530, Train Acc: 0.7421, Test Acc: 0.7370, Train Loss: 0.5516, Test Loss: 0.5689\n",
      "Epoch: 540, Train Acc: 0.7696, Test Acc: 0.7363, Train Loss: 0.5459, Test Loss: 0.5651\n",
      "Epoch: 550, Train Acc: 0.7570, Test Acc: 0.7410, Train Loss: 0.5413, Test Loss: 0.5611\n",
      "Epoch: 560, Train Acc: 0.7607, Test Acc: 0.7417, Train Loss: 0.5359, Test Loss: 0.5576\n",
      "Epoch: 570, Train Acc: 0.7607, Test Acc: 0.7423, Train Loss: 0.5312, Test Loss: 0.5543\n",
      "Epoch: 580, Train Acc: 0.7636, Test Acc: 0.7430, Train Loss: 0.5277, Test Loss: 0.5514\n",
      "Epoch: 590, Train Acc: 0.7719, Test Acc: 0.7467, Train Loss: 0.5233, Test Loss: 0.5482\n",
      "Epoch: 600, Train Acc: 0.7630, Test Acc: 0.7457, Train Loss: 0.5189, Test Loss: 0.5459\n",
      "Epoch: 610, Train Acc: 0.7761, Test Acc: 0.7520, Train Loss: 0.5150, Test Loss: 0.5425\n",
      "Epoch: 620, Train Acc: 0.7796, Test Acc: 0.7513, Train Loss: 0.5103, Test Loss: 0.5399\n",
      "Epoch: 630, Train Acc: 0.7613, Test Acc: 0.7497, Train Loss: 0.5070, Test Loss: 0.5393\n",
      "Epoch: 640, Train Acc: 0.7717, Test Acc: 0.7510, Train Loss: 0.5030, Test Loss: 0.5356\n",
      "Epoch: 650, Train Acc: 0.7737, Test Acc: 0.7537, Train Loss: 0.5017, Test Loss: 0.5336\n",
      "Epoch: 660, Train Acc: 0.7753, Test Acc: 0.7547, Train Loss: 0.4961, Test Loss: 0.5314\n",
      "Epoch: 670, Train Acc: 0.7761, Test Acc: 0.7557, Train Loss: 0.4909, Test Loss: 0.5287\n",
      "Epoch: 680, Train Acc: 0.7794, Test Acc: 0.7577, Train Loss: 0.4891, Test Loss: 0.5268\n",
      "Epoch: 690, Train Acc: 0.7836, Test Acc: 0.7577, Train Loss: 0.4828, Test Loss: 0.5241\n",
      "Epoch: 700, Train Acc: 0.7926, Test Acc: 0.7537, Train Loss: 0.4807, Test Loss: 0.5230\n",
      "Epoch: 710, Train Acc: 0.7829, Test Acc: 0.7590, Train Loss: 0.4765, Test Loss: 0.5208\n",
      "Epoch: 720, Train Acc: 0.7830, Test Acc: 0.7580, Train Loss: 0.4735, Test Loss: 0.5198\n",
      "Epoch: 730, Train Acc: 0.7879, Test Acc: 0.7593, Train Loss: 0.4692, Test Loss: 0.5176\n",
      "Epoch: 740, Train Acc: 0.7880, Test Acc: 0.7590, Train Loss: 0.4654, Test Loss: 0.5166\n",
      "Epoch: 750, Train Acc: 0.7944, Test Acc: 0.7523, Train Loss: 0.4619, Test Loss: 0.5149\n",
      "Epoch: 760, Train Acc: 0.7953, Test Acc: 0.7550, Train Loss: 0.4586, Test Loss: 0.5138\n",
      "Epoch: 770, Train Acc: 0.7976, Test Acc: 0.7580, Train Loss: 0.4546, Test Loss: 0.5123\n",
      "Epoch: 780, Train Acc: 0.7946, Test Acc: 0.7567, Train Loss: 0.4515, Test Loss: 0.5110\n",
      "Epoch: 790, Train Acc: 0.7981, Test Acc: 0.7570, Train Loss: 0.4469, Test Loss: 0.5098\n",
      "Epoch: 800, Train Acc: 0.8004, Test Acc: 0.7597, Train Loss: 0.4446, Test Loss: 0.5089\n",
      "Epoch: 810, Train Acc: 0.8083, Test Acc: 0.7650, Train Loss: 0.4452, Test Loss: 0.5102\n",
      "Epoch: 820, Train Acc: 0.8007, Test Acc: 0.7583, Train Loss: 0.4385, Test Loss: 0.5071\n",
      "Epoch: 830, Train Acc: 0.8029, Test Acc: 0.7617, Train Loss: 0.4360, Test Loss: 0.5064\n",
      "Epoch: 840, Train Acc: 0.8033, Test Acc: 0.7623, Train Loss: 0.4329, Test Loss: 0.5057\n",
      "Epoch: 850, Train Acc: 0.8169, Test Acc: 0.7633, Train Loss: 0.4342, Test Loss: 0.5090\n",
      "Epoch: 860, Train Acc: 0.8123, Test Acc: 0.7670, Train Loss: 0.4295, Test Loss: 0.5056\n",
      "Epoch: 870, Train Acc: 0.8086, Test Acc: 0.7653, Train Loss: 0.4274, Test Loss: 0.5043\n",
      "Epoch: 880, Train Acc: 0.8101, Test Acc: 0.7657, Train Loss: 0.4208, Test Loss: 0.5036\n",
      "Epoch: 890, Train Acc: 0.8201, Test Acc: 0.7637, Train Loss: 0.4199, Test Loss: 0.5052\n",
      "Epoch: 900, Train Acc: 0.8130, Test Acc: 0.7697, Train Loss: 0.4159, Test Loss: 0.5023\n",
      "Epoch: 910, Train Acc: 0.8116, Test Acc: 0.7637, Train Loss: 0.4163, Test Loss: 0.5031\n",
      "Epoch: 920, Train Acc: 0.8137, Test Acc: 0.7710, Train Loss: 0.4114, Test Loss: 0.5020\n",
      "Epoch: 930, Train Acc: 0.8164, Test Acc: 0.7723, Train Loss: 0.4076, Test Loss: 0.5013\n",
      "Epoch: 940, Train Acc: 0.8159, Test Acc: 0.7713, Train Loss: 0.4073, Test Loss: 0.5013\n",
      "Epoch: 950, Train Acc: 0.8236, Test Acc: 0.7660, Train Loss: 0.4048, Test Loss: 0.5010\n",
      "Epoch: 960, Train Acc: 0.8196, Test Acc: 0.7710, Train Loss: 0.4050, Test Loss: 0.5028\n",
      "Epoch: 970, Train Acc: 0.8320, Test Acc: 0.7647, Train Loss: 0.3994, Test Loss: 0.5019\n",
      "Epoch: 980, Train Acc: 0.8216, Test Acc: 0.7690, Train Loss: 0.3978, Test Loss: 0.5016\n",
      "Epoch: 990, Train Acc: 0.8296, Test Acc: 0.7707, Train Loss: 0.3953, Test Loss: 0.5000\n",
      "Epoch: 1000, Train Acc: 0.8349, Test Acc: 0.7683, Train Loss: 0.3950, Test Loss: 0.5021\n",
      "Epoch: 1010, Train Acc: 0.8311, Test Acc: 0.7717, Train Loss: 0.3894, Test Loss: 0.5003\n",
      "Epoch: 1020, Train Acc: 0.8394, Test Acc: 0.7687, Train Loss: 0.3907, Test Loss: 0.5054\n",
      "20 epochs passed without 0 test loss improvement. \n",
      "Early stopping triggered.\n"
     ]
    },
    {
     "data": {
      "text/html": [
       "<style>\n",
       "    table.wandb td:nth-child(1) { padding: 0 10px; text-align: left ; width: auto;} td:nth-child(2) {text-align: left ; width: 100%}\n",
       "    .wandb-row { display: flex; flex-direction: row; flex-wrap: wrap; justify-content: flex-start; width: 100% }\n",
       "    .wandb-col { display: flex; flex-direction: column; flex-basis: 100%; flex: 1; padding: 10px; }\n",
       "    </style>\n",
       "<div class=\"wandb-row\"><div class=\"wandb-col\"><h3>Run history:</h3><br/><table class=\"wandb\"><tr><td>Test Accuracy</td><td>▂▂▂▂▂▂▂▂▂▂▁▆▆▆▇▇▇▇▇▇▇▇▇██▇██████████████</td></tr><tr><td>Test F1</td><td>▄▄▄▄▄▄▄▄▄▃▁▅▄▅▅▅▄▅▆▅▆▅▅▆▆▆▇▇▇▇▇█▇▇▇█████</td></tr><tr><td>Test Loss</td><td>█████████▇▇▇▇▆▆▅▅▅▄▄▃▃▃▃▂▂▂▂▂▂▁▁▁▁▁▁▁▁▁▁</td></tr><tr><td>Test Sensitivity</td><td>██████████▅▃▂▂▂▂▁▁▂▁▂▁▁▂▂▁▂▂▂▂▂▃▂▂▂▃▃▂▂▃</td></tr><tr><td>Test Specificity</td><td>▁▁▁▁▁▁▁▁▁▁▂▆▇▇▇▇██▇████████████▇███▇▇██▇</td></tr><tr><td>Train Accuracy</td><td>▁▁▁▁▁▁▁▁▁▁▁▆▆▆▆▆▆▆▆▆▆▆▆▇▇▆▇▇▇▇▇▇▇▇▇█████</td></tr><tr><td>Train F1</td><td>▂▂▂▂▂▂▂▂▂▁▁▄▃▃▃▄▃▃▅▄▄▄▄▅▅▅▆▅▅▅▆▇▆▆▇▇▇▇▇█</td></tr><tr><td>Train Loss</td><td>██████████▇▇▇▇▆▆▆▆▅▅▅▅▄▄▄▄▃▃▃▃▂▂▂▂▂▂▁▁▁▁</td></tr><tr><td>Train Sensitivity</td><td>█████████▇▆▃▂▂▂▂▁▁▃▂▂▂▂▂▂▂▃▃▂▃▃▄▃▃▃▄▄▃▃▄</td></tr><tr><td>Train Specificity</td><td>▁▁▁▁▁▁▁▁▁▁▂▇▇▇▇▇▇▇▇▇▇███████████████████</td></tr></table><br/></div><div class=\"wandb-col\"><h3>Run summary:</h3><br/><table class=\"wandb\"><tr><td>Test Accuracy</td><td>0.77133</td></tr><tr><td>Test F1</td><td>0.75691</td></tr><tr><td>Test Loss</td><td>0.50101</td></tr><tr><td>Test Sensitivity</td><td>0.69667</td></tr><tr><td>Test Specificity</td><td>0.84935</td></tr><tr><td>Train Accuracy</td><td>0.83371</td></tr><tr><td>Train F1</td><td>0.83012</td></tr><tr><td>Train Loss</td><td>0.38425</td></tr><tr><td>Train Sensitivity</td><td>0.77178</td></tr><tr><td>Train Specificity</td><td>0.90256</td></tr></table><br/></div></div>"
      ],
      "text/plain": [
       "<IPython.core.display.HTML object>"
      ]
     },
     "metadata": {},
     "output_type": "display_data"
    },
    {
     "data": {
      "text/html": [
       " View run <strong style=\"color:#cdcd00\">grateful-sweep-26</strong> at: <a href='https://wandb.ai/dylan-home/pnca-sweep-1/runs/whe99tzh' target=\"_blank\">https://wandb.ai/dylan-home/pnca-sweep-1/runs/whe99tzh</a><br/>Synced 5 W&B file(s), 0 media file(s), 0 artifact file(s) and 0 other file(s)"
      ],
      "text/plain": [
       "<IPython.core.display.HTML object>"
      ]
     },
     "metadata": {},
     "output_type": "display_data"
    },
    {
     "data": {
      "text/html": [
       "Find logs at: <code>./wandb/run-20250203_150810-whe99tzh/logs</code>"
      ],
      "text/plain": [
       "<IPython.core.display.HTML object>"
      ]
     },
     "metadata": {},
     "output_type": "display_data"
    },
    {
     "name": "stderr",
     "output_type": "stream",
     "text": [
      "\u001b[34m\u001b[1mwandb\u001b[0m: Agent Starting Run: b4a8b5ux with config:\n",
      "\u001b[34m\u001b[1mwandb\u001b[0m: \tcutoff_distance: 6.56821464533794\n",
      "\u001b[34m\u001b[1mwandb\u001b[0m: \tdropout: 0.5\n",
      "\u001b[34m\u001b[1mwandb\u001b[0m: \thidden_channels: 320\n",
      "\u001b[34m\u001b[1mwandb\u001b[0m: \tlearning_rate: 3.2748703196807016e-05\n",
      "\u001b[34m\u001b[1mwandb\u001b[0m: \tweight_decay: 1.5375783935815962e-05\n",
      "Failed to detect the name of this notebook, you can set it manually with the WANDB_NOTEBOOK_NAME environment variable to enable code saving.\n",
      "/usr/lib/python3/dist-packages/requests/__init__.py:87: RequestsDependencyWarning: urllib3 (2.2.3) or chardet (4.0.0) doesn't match a supported version!\n",
      "  warnings.warn(\"urllib3 ({}) or chardet ({}) doesn't match a supported \"\n"
     ]
    },
    {
     "data": {
      "text/html": [
       "wandb version 0.19.5 is available!  To upgrade, please run:\n",
       " $ pip install wandb --upgrade"
      ],
      "text/plain": [
       "<IPython.core.display.HTML object>"
      ]
     },
     "metadata": {},
     "output_type": "display_data"
    },
    {
     "data": {
      "text/html": [
       "Tracking run with wandb version 0.16.4"
      ],
      "text/plain": [
       "<IPython.core.display.HTML object>"
      ]
     },
     "metadata": {},
     "output_type": "display_data"
    },
    {
     "data": {
      "text/html": [
       "Run data is saved locally in <code>/mnt/alphafold-volume-1/dylan2/repos/tb-pnca-gnn/dd_pnca/wandb/run-20250203_153844-b4a8b5ux</code>"
      ],
      "text/plain": [
       "<IPython.core.display.HTML object>"
      ]
     },
     "metadata": {},
     "output_type": "display_data"
    },
    {
     "data": {
      "text/html": [
       "Syncing run <strong><a href='https://wandb.ai/dylan-home/pnca-sweep-1/runs/b4a8b5ux' target=\"_blank\">misty-sweep-27</a></strong> to <a href='https://wandb.ai/dylan-home/pnca-sweep-1' target=\"_blank\">Weights & Biases</a> (<a href='https://wandb.me/run' target=\"_blank\">docs</a>)<br/>Sweep page: <a href='https://wandb.ai/dylan-home/pnca-sweep-1/sweeps/f2b4l8u4' target=\"_blank\">https://wandb.ai/dylan-home/pnca-sweep-1/sweeps/f2b4l8u4</a>"
      ],
      "text/plain": [
       "<IPython.core.display.HTML object>"
      ]
     },
     "metadata": {},
     "output_type": "display_data"
    },
    {
     "data": {
      "text/html": [
       " View project at <a href='https://wandb.ai/dylan-home/pnca-sweep-1' target=\"_blank\">https://wandb.ai/dylan-home/pnca-sweep-1</a>"
      ],
      "text/plain": [
       "<IPython.core.display.HTML object>"
      ]
     },
     "metadata": {},
     "output_type": "display_data"
    },
    {
     "data": {
      "text/html": [
       " View sweep at <a href='https://wandb.ai/dylan-home/pnca-sweep-1/sweeps/f2b4l8u4' target=\"_blank\">https://wandb.ai/dylan-home/pnca-sweep-1/sweeps/f2b4l8u4</a>"
      ],
      "text/plain": [
       "<IPython.core.display.HTML object>"
      ]
     },
     "metadata": {},
     "output_type": "display_data"
    },
    {
     "data": {
      "text/html": [
       " View run at <a href='https://wandb.ai/dylan-home/pnca-sweep-1/runs/b4a8b5ux' target=\"_blank\">https://wandb.ai/dylan-home/pnca-sweep-1/runs/b4a8b5ux</a>"
      ],
      "text/plain": [
       "<IPython.core.display.HTML object>"
      ]
     },
     "metadata": {},
     "output_type": "display_data"
    },
    {
     "name": "stdout",
     "output_type": "stream",
     "text": [
      "Using CUDA\n",
      "Early stopping enabled. Patience: 20. Min Delta: 0.\n"
     ]
    },
    {
     "name": "stderr",
     "output_type": "stream",
     "text": [
      "\u001b[34m\u001b[1mwandb\u001b[0m: Ctrl + C detected. Stopping sweep.\n"
     ]
    },
    {
     "name": "stderr",
     "output_type": "stream",
     "text": [
      "wandb: ERROR Dropped streaming file chunk (see wandb/debug-internal.log)\n",
      "wandb: ERROR Dropped streaming file chunk (see wandb/debug-internal.log)\n",
      "wandb: ERROR Dropped streaming file chunk (see wandb/debug-internal.log)\n",
      "wandb: ERROR Dropped streaming file chunk (see wandb/debug-internal.log)\n",
      "wandb: ERROR Dropped streaming file chunk (see wandb/debug-internal.log)\n"
     ]
    }
   ],
   "source": [
    "wandb.agent(sweep_id, sweep_run, project = project, count=80)"
   ]
  },
  {
   "cell_type": "code",
   "execution_count": null,
   "metadata": {},
   "outputs": [],
   "source": []
  }
 ],
 "metadata": {
  "kernelspec": {
   "display_name": "Python 3",
   "language": "python",
   "name": "python3"
  },
  "language_info": {
   "codemirror_mode": {
    "name": "ipython",
    "version": 3
   },
   "file_extension": ".py",
   "mimetype": "text/x-python",
   "name": "python",
   "nbconvert_exporter": "python",
   "pygments_lexer": "ipython3",
   "version": "3.10.12"
  }
 },
 "nbformat": 4,
 "nbformat_minor": 2
}
