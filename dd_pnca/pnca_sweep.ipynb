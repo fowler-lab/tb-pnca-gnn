{
 "cells": [
  {
   "cell_type": "markdown",
   "metadata": {},
   "source": [
    "# Run PncA WandB Sweep"
   ]
  },
  {
   "cell_type": "code",
   "execution_count": 1,
   "metadata": {},
   "outputs": [
    {
     "data": {
      "text/plain": [
       "'Running via SSH'"
      ]
     },
     "metadata": {},
     "output_type": "display_data"
    },
    {
     "name": "stderr",
     "output_type": "stream",
     "text": [
      "/usr/lib/python3/dist-packages/requests/__init__.py:87: RequestsDependencyWarning: urllib3 (2.2.3) or chardet (4.0.0) doesn't match a supported version!\n",
      "  warnings.warn(\"urllib3 ({}) or chardet ({}) doesn't match a supported \"\n"
     ]
    },
    {
     "data": {
      "text/plain": [
       "True"
      ]
     },
     "execution_count": 1,
     "metadata": {},
     "output_type": "execute_result"
    }
   ],
   "source": [
    "from IPython.display import display\n",
    "import os\n",
    "\n",
    "if \"SSH_CONNECTION\" in os.environ:\n",
    "    display(\"Running via SSH\")\n",
    "else:\n",
    "    display(\"Running locally\")\n",
    "    \n",
    "import sys\n",
    "import os\n",
    "\n",
    "path = os.path.join('..', '/Users/dylandissanayake/Desktop/DPhil/Comp Disc/Repositories/TB-PNCA-GNN') if \"SSH_CONNECTION\" not in os.environ else os.path.join('..', '/mnt/alphafold-volume-1/dylan2/repos/tb-pnca-gnn')\n",
    "if path not in sys.path:\n",
    "    sys.path.append(os.path.abspath(path))\n",
    "\n",
    "import datetime\n",
    "import random\n",
    "\n",
    "import numpy as np\n",
    "import pandas as pd\n",
    "\n",
    "import torch\n",
    "from torch_geometric.data import Data\n",
    "\n",
    "import wandb\n",
    "\n",
    "import warnings\n",
    "warnings.filterwarnings('ignore')\n",
    "\n",
    "from src import run_model, protein_graph, gcn_model, evaluation\n",
    "\n",
    "%load_ext autoreload\n",
    "%autoreload 2\n",
    "\n",
    "%aimport src\n",
    "\n",
    "torch.cuda.is_available()"
   ]
  },
  {
   "cell_type": "code",
   "execution_count": 2,
   "metadata": {},
   "outputs": [],
   "source": [
    "full_dataset = torch.load('datasets/full_dataset_v2.pth')"
   ]
  },
  {
   "cell_type": "markdown",
   "metadata": {},
   "source": [
    "### Set Up Params and Sweep Config"
   ]
  },
  {
   "cell_type": "code",
   "execution_count": 3,
   "metadata": {},
   "outputs": [],
   "source": [
    "seed = 42\n",
    "np.random.seed(seed)\n",
    "random.seed(seed)\n",
    "\n",
    "# logging params (only used for wandb metrics)\n",
    "n_samples = 10000\n",
    "# cutoff_distance = 6.3  \n",
    "\n",
    "# gcn params\n",
    "num_node_features = 12\n",
    "batch_size = 256\n",
    "# hidden_channels = 64\n",
    "# learning_rate = 0.001\n",
    "# wd = 5e-5\n",
    "epochs = 1500\n",
    "\n",
    "wt_seq = 'MRALIIVDVQNDFCEGGSLAVTGGAALARAISDYLAEAADYHHVVATKDFHIDPGDHFSGTPDYSSSWPPHCVSGTPGADFHPSLDTSAIEAVFYKGAYTGAYSGFEGVDENGTPLLNWLRQRGVDEVDVVGIATDHCVRQTAEDAVRNGLATRVLVDLTAGVSADTTVAALEEMRTASVELVCS'"
   ]
  },
  {
   "cell_type": "code",
   "execution_count": 4,
   "metadata": {},
   "outputs": [],
   "source": [
    "# First sweep:\n",
    "\n",
    "sweep_config = {\n",
    "    'method': 'random'\n",
    "    }\n",
    "\n",
    "metric = {\n",
    "    'name': 'Test Accuracy',\n",
    "    'goal': 'maximize'   \n",
    "    }\n",
    "\n",
    "sweep_config['metric'] = metric\n",
    "\n",
    "parameters_dict = {\n",
    "    'hidden_channels': {\n",
    "        'values': [32, 64, 128, 256]\n",
    "        },\n",
    "    'weight_decay': {\n",
    "        'distribution': 'log_uniform_values',\n",
    "        'min': 1e-8,\n",
    "        'max': 1e-2\n",
    "        },\n",
    "    'dropout': {\n",
    "          'values': [0.2, 0.4, 0.5, 0.6, 0.8]\n",
    "        },\n",
    "    'cutoff_distance': {\n",
    "        'distribution': 'uniform',\n",
    "        'min': 3.5,\n",
    "        'max': 10 \n",
    "        },\n",
    "    'learning_rate': {\n",
    "        'distribution': 'log_uniform_values',\n",
    "        'min': 1e-8,\n",
    "        'max': 1e-1\n",
    "      },\n",
    "    }\n",
    "\n",
    "sweep_config['parameters'] = parameters_dict\n",
    "\n",
    "# Second / third sweep:\n",
    "\n",
    "parameters_dict.update({\n",
    "    'hidden_channels': {\n",
    "        'values': [64, 128, 192, 256, 320, 384]\n",
    "        },\n",
    "    'weight_decay': {\n",
    "        'distribution': 'log_uniform_values',\n",
    "        'min': 5e-7, \n",
    "        'max': 1e-2\n",
    "        },\n",
    "    'dropout': {\n",
    "          'values': [0.4, 0.5, 0.6, 0.8]\n",
    "        },\n",
    "    'learning_rate': {\n",
    "        'distribution': 'log_uniform_values',\n",
    "        'min': 1e-5,\n",
    "        'max': 1e-2 \n",
    "        },\n",
    "    })\n",
    "\n",
    "# Fourth / Fifth sweep:\n",
    "\n",
    "parameters_dict.update({\n",
    "    'hidden_channels': {\n",
    "        'values': [128, 192, 256, 320]\n",
    "        },\n",
    "    'weight_decay': {\n",
    "        'distribution': 'log_uniform_values',\n",
    "        'min': 1e-5,\n",
    "        'max': 1e-3\n",
    "        },\n",
    "    'dropout': {\n",
    "          'values': [0.4, 0.5, 0.6, 0.8]\n",
    "        },\n",
    "    'learning_rate': {\n",
    "        'distribution': 'log_uniform_values',\n",
    "        'min': 5e-5,\n",
    "        'max': 5e-2\n",
    "        },\n",
    "    })\n",
    "\n",
    "# Sixth sweep:\n",
    "\n",
    "parameters_dict.update({\n",
    "    'learning_rate': {\n",
    "        'distribution': 'log_uniform_values',\n",
    "        'min': 1e-6,\n",
    "        'max': 5e-3 \n",
    "        }\n",
    "    })\n",
    "\n",
    "# Seventh sweep:\n",
    "\n",
    "parameters_dict.update({\n",
    "    'learning_rate': {\n",
    "        'distribution': 'log_uniform_values',\n",
    "        'min': 5e-6,\n",
    "        'max': 5e-4 \n",
    "        }\n",
    "    })\n",
    "\n",
    "# Eight sweep w cutoff varying:\n",
    "\n",
    "parameters_dict.update({\n",
    "    'learning_rate': {\n",
    "        'distribution': 'log_uniform_values',\n",
    "        'min': 5e-6,\n",
    "        'max': 1e-3 \n",
    "        },\n",
    "        'cutoff_distance': {\n",
    "        'distribution': 'uniform',\n",
    "        'min': 5.5,\n",
    "        'max': 14\n",
    "        },\n",
    "    })\n",
    "\n"
   ]
  },
  {
   "cell_type": "code",
   "execution_count": 5,
   "metadata": {},
   "outputs": [
    {
     "name": "stdout",
     "output_type": "stream",
     "text": [
      "{'method': 'random',\n",
      " 'metric': {'goal': 'maximize', 'name': 'Test Accuracy'},\n",
      " 'parameters': {'cutoff_distance': {'distribution': 'uniform',\n",
      "                                    'max': 14,\n",
      "                                    'min': 5.5},\n",
      "                'dropout': {'values': [0.4, 0.5, 0.6, 0.8]},\n",
      "                'hidden_channels': {'values': [128, 192, 256, 320]},\n",
      "                'learning_rate': {'distribution': 'log_uniform_values',\n",
      "                                  'max': 0.001,\n",
      "                                  'min': 5e-06},\n",
      "                'weight_decay': {'distribution': 'log_uniform_values',\n",
      "                                 'max': 0.001,\n",
      "                                 'min': 1e-05}}}\n"
     ]
    }
   ],
   "source": [
    "import pprint\n",
    "pprint.pprint(sweep_config)"
   ]
  },
  {
   "cell_type": "markdown",
   "metadata": {},
   "source": [
    "### Define Training Loop"
   ]
  },
  {
   "cell_type": "code",
   "execution_count": 6,
   "metadata": {},
   "outputs": [],
   "source": [
    "project = \"pnca-sweep-2\""
   ]
  },
  {
   "cell_type": "code",
   "execution_count": 8,
   "metadata": {},
   "outputs": [],
   "source": [
    "# sweep_id = wandb.sweep(sweep_config, project=project)\n",
    "\n",
    "# project = pnca-sweep-1\n",
    "# sweep_id = '18ili8gf'\n",
    "# sweep_id = 'z95xpbwd'\n",
    "# sweep_id = 'tr8mwg42'\n",
    "# sweep_id = '2hsfpqs6'\n",
    "# sweep_id = 'gt2h3xwl'\n",
    "# sweep_id = 'y0a18l3k'\n",
    "# sweep_id = 'rl3tm5la'\n",
    "# sweep_id = 'f2b4l8u4'\n",
    "\n",
    "# ---\n",
    "# project = pnca-sweep-2\n",
    "sweep_id = 'u3q627wd'\n"
   ]
  },
  {
   "cell_type": "code",
   "execution_count": 9,
   "metadata": {},
   "outputs": [],
   "source": [
    "def sweep_run():\n",
    "\n",
    "    with wandb.init() as run:\n",
    "        config = run.config\n",
    "\n",
    "        model = run_model.pnca_simpleGCN(\n",
    "            # sequences=sequences_dict,\n",
    "            sequences=None,\n",
    "            self_loops = False,\n",
    "            cutoff_distance = config.cutoff_distance,\n",
    "            edge_weight_func = '1-(dist/cutoff)',\n",
    "            # edge_weight_func = 'none',\n",
    "            batch_size = batch_size,\n",
    "            num_node_features = num_node_features,\n",
    "            hidden_channels = config.hidden_channels,\n",
    "            learning_rate = config.learning_rate,\n",
    "            wd = config.weight_decay,\n",
    "            dropout = config.dropout,\n",
    "            lr_scheduling=False,\n",
    "            epochs = epochs,\n",
    "            dataset = full_dataset,\n",
    "            normalise_ews=True,\n",
    "            wandb_params={\n",
    "                'use_wandb': False,\n",
    "                'sweep': True\n",
    "            }\n",
    "        )\n",
    "\n",
    "        os.makedirs(f'saved_models/carter_ds_aug/{project}/{sweep_id}', exist_ok=True)\n",
    "        \n",
    "        torch.save(model, f'saved_models/carter_ds_aug/{project}/{sweep_id}/{run.name}')"
   ]
  },
  {
   "cell_type": "code",
   "execution_count": 10,
   "metadata": {},
   "outputs": [
    {
     "name": "stderr",
     "output_type": "stream",
     "text": [
      "Failed to detect the name of this notebook, you can set it manually with the WANDB_NOTEBOOK_NAME environment variable to enable code saving.\n",
      "/usr/lib/python3/dist-packages/requests/__init__.py:87: RequestsDependencyWarning: urllib3 (2.2.3) or chardet (4.0.0) doesn't match a supported version!\n",
      "  warnings.warn(\"urllib3 ({}) or chardet ({}) doesn't match a supported \"\n",
      "\u001b[34m\u001b[1mwandb\u001b[0m: Agent Starting Run: 4hviwzah with config:\n",
      "\u001b[34m\u001b[1mwandb\u001b[0m: \tcutoff_distance: 10.9601678879428\n",
      "\u001b[34m\u001b[1mwandb\u001b[0m: \tdropout: 0.6\n",
      "\u001b[34m\u001b[1mwandb\u001b[0m: \thidden_channels: 320\n",
      "\u001b[34m\u001b[1mwandb\u001b[0m: \tlearning_rate: 0.000248185169779706\n",
      "\u001b[34m\u001b[1mwandb\u001b[0m: \tweight_decay: 0.00016897574433757828\n",
      "Failed to detect the name of this notebook, you can set it manually with the WANDB_NOTEBOOK_NAME environment variable to enable code saving.\n",
      "/usr/lib/python3/dist-packages/requests/__init__.py:87: RequestsDependencyWarning: urllib3 (2.2.3) or chardet (4.0.0) doesn't match a supported version!\n",
      "  warnings.warn(\"urllib3 ({}) or chardet ({}) doesn't match a supported \"\n",
      "\u001b[34m\u001b[1mwandb\u001b[0m: Currently logged in as: \u001b[33mdylan-home\u001b[0m. Use \u001b[1m`wandb login --relogin`\u001b[0m to force relogin\n"
     ]
    },
    {
     "data": {
      "text/html": [
       "wandb version 0.19.6 is available!  To upgrade, please run:\n",
       " $ pip install wandb --upgrade"
      ],
      "text/plain": [
       "<IPython.core.display.HTML object>"
      ]
     },
     "metadata": {},
     "output_type": "display_data"
    },
    {
     "data": {
      "text/html": [
       "Tracking run with wandb version 0.16.4"
      ],
      "text/plain": [
       "<IPython.core.display.HTML object>"
      ]
     },
     "metadata": {},
     "output_type": "display_data"
    },
    {
     "data": {
      "text/html": [
       "Run data is saved locally in <code>/mnt/alphafold-volume-1/dylan2/repos/tb-pnca-gnn/dd_pnca/wandb/run-20250206_141652-4hviwzah</code>"
      ],
      "text/plain": [
       "<IPython.core.display.HTML object>"
      ]
     },
     "metadata": {},
     "output_type": "display_data"
    },
    {
     "data": {
      "text/html": [
       "Syncing run <strong><a href='https://wandb.ai/dylan-home/pnca-sweep-2/runs/4hviwzah' target=\"_blank\">brisk-sweep-1</a></strong> to <a href='https://wandb.ai/dylan-home/pnca-sweep-2' target=\"_blank\">Weights & Biases</a> (<a href='https://wandb.me/run' target=\"_blank\">docs</a>)<br/>Sweep page: <a href='https://wandb.ai/dylan-home/pnca-sweep-2/sweeps/u3q627wd' target=\"_blank\">https://wandb.ai/dylan-home/pnca-sweep-2/sweeps/u3q627wd</a>"
      ],
      "text/plain": [
       "<IPython.core.display.HTML object>"
      ]
     },
     "metadata": {},
     "output_type": "display_data"
    },
    {
     "data": {
      "text/html": [
       " View project at <a href='https://wandb.ai/dylan-home/pnca-sweep-2' target=\"_blank\">https://wandb.ai/dylan-home/pnca-sweep-2</a>"
      ],
      "text/plain": [
       "<IPython.core.display.HTML object>"
      ]
     },
     "metadata": {},
     "output_type": "display_data"
    },
    {
     "data": {
      "text/html": [
       " View sweep at <a href='https://wandb.ai/dylan-home/pnca-sweep-2/sweeps/u3q627wd' target=\"_blank\">https://wandb.ai/dylan-home/pnca-sweep-2/sweeps/u3q627wd</a>"
      ],
      "text/plain": [
       "<IPython.core.display.HTML object>"
      ]
     },
     "metadata": {},
     "output_type": "display_data"
    },
    {
     "data": {
      "text/html": [
       " View run at <a href='https://wandb.ai/dylan-home/pnca-sweep-2/runs/4hviwzah' target=\"_blank\">https://wandb.ai/dylan-home/pnca-sweep-2/runs/4hviwzah</a>"
      ],
      "text/plain": [
       "<IPython.core.display.HTML object>"
      ]
     },
     "metadata": {},
     "output_type": "display_data"
    },
    {
     "name": "stdout",
     "output_type": "stream",
     "text": [
      "Adjusting edge index and attaching edge weights for cutoff distance 10.9601678879428\n",
      "Using CUDA\n",
      "Early stopping enabled. Patience: 20. Min Delta: 0.\n",
      "Epoch: 010, Train Acc: 0.4950, Test Acc: 0.5553, Train Loss: 1.7187, Test Loss: 1.5172\n",
      "Epoch: 020, Train Acc: 0.7511, Test Acc: 0.6977, Train Loss: 0.4961, Test Loss: 0.5937\n",
      "Epoch: 030, Train Acc: 0.5346, Test Acc: 0.5130, Train Loss: 0.8438, Test Loss: 1.0467\n",
      "Epoch: 040, Train Acc: 0.8273, Test Acc: 0.7437, Train Loss: 0.3828, Test Loss: 0.5536\n",
      "20 epochs passed without 0 test loss improvement. \n",
      "Early stopping triggered.\n"
     ]
    },
    {
     "data": {
      "text/html": [
       "<style>\n",
       "    table.wandb td:nth-child(1) { padding: 0 10px; text-align: left ; width: auto;} td:nth-child(2) {text-align: left ; width: 100%}\n",
       "    .wandb-row { display: flex; flex-direction: row; flex-wrap: wrap; justify-content: flex-start; width: 100% }\n",
       "    .wandb-col { display: flex; flex-direction: column; flex-basis: 100%; flex: 1; padding: 10px; }\n",
       "    </style>\n",
       "<div class=\"wandb-row\"><div class=\"wandb-col\"><h3>Run history:</h3><br/><table class=\"wandb\"><tr><td>Test Accuracy</td><td>▃▁▅▆▅▇▆▇▁▂▄▁▁▁▆▇▁▄▇▆█▇▁▇▁▁▇▇█▁▁▆▂▁▁▁▇▇█▁</td></tr><tr><td>Test F1</td><td>▃▇▅▇▅▇▆█▇▁▄▇▇▇▆▇▇▄▇██▇▇█▇▇███▇▇▆▇▇▇▇█▆█▇</td></tr><tr><td>Test Loss</td><td>▁▂▁▁▁▁▁▁▂▃▂▄▄▂▁▁▆▂▁▁▁▁▃▁▃▄▁▁▁▂▂▂▂█▇▆▁▁▁▃</td></tr><tr><td>Test Sensitivity</td><td>▂█▄▅▃▅▄▆█▁▂███▄▅█▂▄▇▆▅█▇██▇▇▇██▃████▇▄▆█</td></tr><tr><td>Test Specificity</td><td>█▁▇▆█▇▇▆▁██▁▁▁█▇▁██▄▇▇▁▅▁▁▅▅▆▁▁█▁▁▁▁▆█▇▁</td></tr><tr><td>Train Accuracy</td><td>▂▂▄▆▄▆▅▆▂▁▃▂▂▂▅▇▂▃▆▆█▇▂▇▂▂▇▇█▂▂▅▂▂▂▂█▆█▂</td></tr><tr><td>Train F1</td><td>▂▇▅▇▅▇▆▇▇▁▃▇▇▇▅▇▇▃▆██▇▇█▇▇███▇▇▆▇▇▇▇█▆█▇</td></tr><tr><td>Train Loss</td><td>▂▂▂▁▂▁▁▁▂▄▂▄▄▂▂▁▆▃▁▁▁▁▃▁▃▄▁▁▁▂▂▂▂█▇▆▁▁▁▃</td></tr><tr><td>Train Sensitivity</td><td>▁█▃▅▃▅▄▆█▁▂███▄▅█▂▄█▆▅█▇██▇▇▇██▄████▇▄▆█</td></tr><tr><td>Train Specificity</td><td>█▁█▇█▇█▆▁██▁▁▁██▁██▅▇█▁▆▁▁▆▆▇▁▁█▁▁▁▁▇██▁</td></tr></table><br/></div><div class=\"wandb-col\"><h3>Run summary:</h3><br/><table class=\"wandb\"><tr><td>Test Accuracy</td><td>0.51267</td></tr><tr><td>Test F1</td><td>0.67783</td></tr><tr><td>Test Loss</td><td>1.55351</td></tr><tr><td>Test Sensitivity</td><td>1.0</td></tr><tr><td>Test Specificity</td><td>0.0</td></tr><tr><td>Train Accuracy</td><td>0.53457</td></tr><tr><td>Train F1</td><td>0.6967</td></tr><tr><td>Train Loss</td><td>1.26823</td></tr><tr><td>Train Sensitivity</td><td>1.0</td></tr><tr><td>Train Specificity</td><td>0.0</td></tr></table><br/></div></div>"
      ],
      "text/plain": [
       "<IPython.core.display.HTML object>"
      ]
     },
     "metadata": {},
     "output_type": "display_data"
    },
    {
     "data": {
      "text/html": [
       " View run <strong style=\"color:#cdcd00\">brisk-sweep-1</strong> at: <a href='https://wandb.ai/dylan-home/pnca-sweep-2/runs/4hviwzah' target=\"_blank\">https://wandb.ai/dylan-home/pnca-sweep-2/runs/4hviwzah</a><br/>Synced 5 W&B file(s), 0 media file(s), 0 artifact file(s) and 0 other file(s)"
      ],
      "text/plain": [
       "<IPython.core.display.HTML object>"
      ]
     },
     "metadata": {},
     "output_type": "display_data"
    },
    {
     "data": {
      "text/html": [
       "Find logs at: <code>./wandb/run-20250206_141652-4hviwzah/logs</code>"
      ],
      "text/plain": [
       "<IPython.core.display.HTML object>"
      ]
     },
     "metadata": {},
     "output_type": "display_data"
    },
    {
     "name": "stderr",
     "output_type": "stream",
     "text": [
      "\u001b[34m\u001b[1mwandb\u001b[0m: Sweep Agent: Waiting for job.\n",
      "\u001b[34m\u001b[1mwandb\u001b[0m: Job received.\n",
      "\u001b[34m\u001b[1mwandb\u001b[0m: Agent Starting Run: m5jqbzjr with config:\n",
      "\u001b[34m\u001b[1mwandb\u001b[0m: \tcutoff_distance: 10.558035357826068\n",
      "\u001b[34m\u001b[1mwandb\u001b[0m: \tdropout: 0.5\n",
      "\u001b[34m\u001b[1mwandb\u001b[0m: \thidden_channels: 192\n",
      "\u001b[34m\u001b[1mwandb\u001b[0m: \tlearning_rate: 0.0007457918765369257\n",
      "\u001b[34m\u001b[1mwandb\u001b[0m: \tweight_decay: 1.4151947202350656e-05\n",
      "Failed to detect the name of this notebook, you can set it manually with the WANDB_NOTEBOOK_NAME environment variable to enable code saving.\n",
      "/usr/lib/python3/dist-packages/requests/__init__.py:87: RequestsDependencyWarning: urllib3 (2.2.3) or chardet (4.0.0) doesn't match a supported version!\n",
      "  warnings.warn(\"urllib3 ({}) or chardet ({}) doesn't match a supported \"\n"
     ]
    },
    {
     "data": {
      "text/html": [
       "wandb version 0.19.6 is available!  To upgrade, please run:\n",
       " $ pip install wandb --upgrade"
      ],
      "text/plain": [
       "<IPython.core.display.HTML object>"
      ]
     },
     "metadata": {},
     "output_type": "display_data"
    },
    {
     "data": {
      "text/html": [
       "Tracking run with wandb version 0.16.4"
      ],
      "text/plain": [
       "<IPython.core.display.HTML object>"
      ]
     },
     "metadata": {},
     "output_type": "display_data"
    },
    {
     "data": {
      "text/html": [
       "Run data is saved locally in <code>/mnt/alphafold-volume-1/dylan2/repos/tb-pnca-gnn/dd_pnca/wandb/run-20250206_142023-m5jqbzjr</code>"
      ],
      "text/plain": [
       "<IPython.core.display.HTML object>"
      ]
     },
     "metadata": {},
     "output_type": "display_data"
    },
    {
     "data": {
      "text/html": [
       "Syncing run <strong><a href='https://wandb.ai/dylan-home/pnca-sweep-2/runs/m5jqbzjr' target=\"_blank\">zesty-sweep-2</a></strong> to <a href='https://wandb.ai/dylan-home/pnca-sweep-2' target=\"_blank\">Weights & Biases</a> (<a href='https://wandb.me/run' target=\"_blank\">docs</a>)<br/>Sweep page: <a href='https://wandb.ai/dylan-home/pnca-sweep-2/sweeps/u3q627wd' target=\"_blank\">https://wandb.ai/dylan-home/pnca-sweep-2/sweeps/u3q627wd</a>"
      ],
      "text/plain": [
       "<IPython.core.display.HTML object>"
      ]
     },
     "metadata": {},
     "output_type": "display_data"
    },
    {
     "data": {
      "text/html": [
       " View project at <a href='https://wandb.ai/dylan-home/pnca-sweep-2' target=\"_blank\">https://wandb.ai/dylan-home/pnca-sweep-2</a>"
      ],
      "text/plain": [
       "<IPython.core.display.HTML object>"
      ]
     },
     "metadata": {},
     "output_type": "display_data"
    },
    {
     "data": {
      "text/html": [
       " View sweep at <a href='https://wandb.ai/dylan-home/pnca-sweep-2/sweeps/u3q627wd' target=\"_blank\">https://wandb.ai/dylan-home/pnca-sweep-2/sweeps/u3q627wd</a>"
      ],
      "text/plain": [
       "<IPython.core.display.HTML object>"
      ]
     },
     "metadata": {},
     "output_type": "display_data"
    },
    {
     "data": {
      "text/html": [
       " View run at <a href='https://wandb.ai/dylan-home/pnca-sweep-2/runs/m5jqbzjr' target=\"_blank\">https://wandb.ai/dylan-home/pnca-sweep-2/runs/m5jqbzjr</a>"
      ],
      "text/plain": [
       "<IPython.core.display.HTML object>"
      ]
     },
     "metadata": {},
     "output_type": "display_data"
    },
    {
     "name": "stdout",
     "output_type": "stream",
     "text": [
      "Adjusting edge index and attaching edge weights for cutoff distance 10.558035357826068\n",
      "Using CUDA\n",
      "Early stopping enabled. Patience: 20. Min Delta: 0.\n",
      "Epoch: 010, Train Acc: 0.4699, Test Acc: 0.4973, Train Loss: 3.2531, Test Loss: 2.9842\n",
      "Epoch: 020, Train Acc: 0.5346, Test Acc: 0.5127, Train Loss: 6.8117, Test Loss: 7.2829\n",
      "Epoch: 030, Train Acc: 0.7760, Test Acc: 0.7600, Train Loss: 0.4939, Test Loss: 0.5459\n",
      "20 epochs passed without 0 test loss improvement. \n",
      "Early stopping triggered.\n"
     ]
    },
    {
     "data": {
      "text/html": [
       "<style>\n",
       "    table.wandb td:nth-child(1) { padding: 0 10px; text-align: left ; width: auto;} td:nth-child(2) {text-align: left ; width: 100%}\n",
       "    .wandb-row { display: flex; flex-direction: row; flex-wrap: wrap; justify-content: flex-start; width: 100% }\n",
       "    .wandb-col { display: flex; flex-direction: column; flex-basis: 100%; flex: 1; padding: 10px; }\n",
       "    </style>\n",
       "<div class=\"wandb-row\"><div class=\"wandb-col\"><h3>Run history:</h3><br/><table class=\"wandb\"><tr><td>Test Accuracy</td><td>▄▃▁▆▁▃▃▂▂▁▅▇█▂██▂▂▇▂▆▂▁▃▆▂▇▇▂▇▂▂▂▄▂</td></tr><tr><td>Test F1</td><td>▅▃▁▆▇▄▃▇▇▁▅██▇██▇▇▇▇▆▇▁▇▆▃██▇█▇▇▇▅▇</td></tr><tr><td>Test Loss</td><td>▁▁▁▁▁▁▁▁▃▂▁▁▁▂▁▁▃▃▁▄▁▂█▁▁▂▁▁▃▁▁▂▂▂▁</td></tr><tr><td>Test Sensitivity</td><td>▃▂▁▄█▂▂██▁▃▆▆█▆▅██▅█▄█▁█▄▂▇▅█▅███▃█</td></tr><tr><td>Test Specificity</td><td>███▇▁██▁▁██▆▆▁▇▇▁▁█▁█▁█▂██▅▇▁▇▁▁▁█▁</td></tr><tr><td>Train Accuracy</td><td>▃▂▁▅▂▂▂▂▂▁▄██▂█▇▂▂▇▂▅▂▁▃▅▂█▇▂▇▂▂▂▃▂</td></tr><tr><td>Train F1</td><td>▃▂▁▆▇▃▂▇▇▁▄██▇█▇▇▇▇▇▆▇▁▇▅▂█▇▇▇▇▇▇▄▇</td></tr><tr><td>Train Loss</td><td>▁▁▁▁▁▁▁▁▃▂▁▁▁▂▁▁▃▃▁▄▁▂█▁▁▂▁▁▃▁▁▂▂▂▁</td></tr><tr><td>Train Sensitivity</td><td>▂▁▁▄█▂▂██▁▃▆▆█▆▅██▅█▄█▁█▄▁▇▅█▅███▃█</td></tr><tr><td>Train Specificity</td><td>████▁██▁▁██▇▇▁██▁▁█▁█▁█▂██▆█▁█▁▁▁█▁</td></tr></table><br/></div><div class=\"wandb-col\"><h3>Run summary:</h3><br/><table class=\"wandb\"><tr><td>Test Accuracy</td><td>0.51267</td></tr><tr><td>Test F1</td><td>0.67783</td></tr><tr><td>Test Loss</td><td>1.59111</td></tr><tr><td>Test Sensitivity</td><td>1.0</td></tr><tr><td>Test Specificity</td><td>0.0</td></tr><tr><td>Train Accuracy</td><td>0.53471</td></tr><tr><td>Train F1</td><td>0.69677</td></tr><tr><td>Train Loss</td><td>1.23435</td></tr><tr><td>Train Sensitivity</td><td>1.0</td></tr><tr><td>Train Specificity</td><td>0.00031</td></tr></table><br/></div></div>"
      ],
      "text/plain": [
       "<IPython.core.display.HTML object>"
      ]
     },
     "metadata": {},
     "output_type": "display_data"
    },
    {
     "data": {
      "text/html": [
       " View run <strong style=\"color:#cdcd00\">zesty-sweep-2</strong> at: <a href='https://wandb.ai/dylan-home/pnca-sweep-2/runs/m5jqbzjr' target=\"_blank\">https://wandb.ai/dylan-home/pnca-sweep-2/runs/m5jqbzjr</a><br/>Synced 5 W&B file(s), 0 media file(s), 0 artifact file(s) and 0 other file(s)"
      ],
      "text/plain": [
       "<IPython.core.display.HTML object>"
      ]
     },
     "metadata": {},
     "output_type": "display_data"
    },
    {
     "data": {
      "text/html": [
       "Find logs at: <code>./wandb/run-20250206_142023-m5jqbzjr/logs</code>"
      ],
      "text/plain": [
       "<IPython.core.display.HTML object>"
      ]
     },
     "metadata": {},
     "output_type": "display_data"
    },
    {
     "name": "stderr",
     "output_type": "stream",
     "text": [
      "\u001b[34m\u001b[1mwandb\u001b[0m: Agent Starting Run: lzk44r8n with config:\n",
      "\u001b[34m\u001b[1mwandb\u001b[0m: \tcutoff_distance: 8.243325306461895\n",
      "\u001b[34m\u001b[1mwandb\u001b[0m: \tdropout: 0.4\n",
      "\u001b[34m\u001b[1mwandb\u001b[0m: \thidden_channels: 192\n",
      "\u001b[34m\u001b[1mwandb\u001b[0m: \tlearning_rate: 1.182462073730952e-05\n",
      "\u001b[34m\u001b[1mwandb\u001b[0m: \tweight_decay: 1.508436395358384e-05\n",
      "Failed to detect the name of this notebook, you can set it manually with the WANDB_NOTEBOOK_NAME environment variable to enable code saving.\n",
      "/usr/lib/python3/dist-packages/requests/__init__.py:87: RequestsDependencyWarning: urllib3 (2.2.3) or chardet (4.0.0) doesn't match a supported version!\n",
      "  warnings.warn(\"urllib3 ({}) or chardet ({}) doesn't match a supported \"\n"
     ]
    },
    {
     "data": {
      "text/html": [
       "wandb version 0.19.6 is available!  To upgrade, please run:\n",
       " $ pip install wandb --upgrade"
      ],
      "text/plain": [
       "<IPython.core.display.HTML object>"
      ]
     },
     "metadata": {},
     "output_type": "display_data"
    },
    {
     "data": {
      "text/html": [
       "Tracking run with wandb version 0.16.4"
      ],
      "text/plain": [
       "<IPython.core.display.HTML object>"
      ]
     },
     "metadata": {},
     "output_type": "display_data"
    },
    {
     "data": {
      "text/html": [
       "Run data is saved locally in <code>/mnt/alphafold-volume-1/dylan2/repos/tb-pnca-gnn/dd_pnca/wandb/run-20250206_142226-lzk44r8n</code>"
      ],
      "text/plain": [
       "<IPython.core.display.HTML object>"
      ]
     },
     "metadata": {},
     "output_type": "display_data"
    },
    {
     "data": {
      "text/html": [
       "Syncing run <strong><a href='https://wandb.ai/dylan-home/pnca-sweep-2/runs/lzk44r8n' target=\"_blank\">jolly-sweep-3</a></strong> to <a href='https://wandb.ai/dylan-home/pnca-sweep-2' target=\"_blank\">Weights & Biases</a> (<a href='https://wandb.me/run' target=\"_blank\">docs</a>)<br/>Sweep page: <a href='https://wandb.ai/dylan-home/pnca-sweep-2/sweeps/u3q627wd' target=\"_blank\">https://wandb.ai/dylan-home/pnca-sweep-2/sweeps/u3q627wd</a>"
      ],
      "text/plain": [
       "<IPython.core.display.HTML object>"
      ]
     },
     "metadata": {},
     "output_type": "display_data"
    },
    {
     "data": {
      "text/html": [
       " View project at <a href='https://wandb.ai/dylan-home/pnca-sweep-2' target=\"_blank\">https://wandb.ai/dylan-home/pnca-sweep-2</a>"
      ],
      "text/plain": [
       "<IPython.core.display.HTML object>"
      ]
     },
     "metadata": {},
     "output_type": "display_data"
    },
    {
     "data": {
      "text/html": [
       " View sweep at <a href='https://wandb.ai/dylan-home/pnca-sweep-2/sweeps/u3q627wd' target=\"_blank\">https://wandb.ai/dylan-home/pnca-sweep-2/sweeps/u3q627wd</a>"
      ],
      "text/plain": [
       "<IPython.core.display.HTML object>"
      ]
     },
     "metadata": {},
     "output_type": "display_data"
    },
    {
     "data": {
      "text/html": [
       " View run at <a href='https://wandb.ai/dylan-home/pnca-sweep-2/runs/lzk44r8n' target=\"_blank\">https://wandb.ai/dylan-home/pnca-sweep-2/runs/lzk44r8n</a>"
      ],
      "text/plain": [
       "<IPython.core.display.HTML object>"
      ]
     },
     "metadata": {},
     "output_type": "display_data"
    },
    {
     "name": "stdout",
     "output_type": "stream",
     "text": [
      "Adjusting edge index and attaching edge weights for cutoff distance 8.243325306461895\n",
      "Using CUDA\n",
      "Early stopping enabled. Patience: 20. Min Delta: 0.\n",
      "Epoch: 010, Train Acc: 0.5306, Test Acc: 0.5100, Train Loss: 0.6820, Test Loss: 0.6836\n",
      "Epoch: 020, Train Acc: 0.6401, Test Acc: 0.5997, Train Loss: 0.6740, Test Loss: 0.6712\n",
      "Epoch: 030, Train Acc: 0.5724, Test Acc: 0.5497, Train Loss: 0.6636, Test Loss: 0.6611\n",
      "Epoch: 040, Train Acc: 0.5331, Test Acc: 0.4970, Train Loss: 0.6579, Test Loss: 0.6614\n",
      "Epoch: 050, Train Acc: 0.6790, Test Acc: 0.6423, Train Loss: 0.6417, Test Loss: 0.6383\n",
      "Epoch: 060, Train Acc: 0.6963, Test Acc: 0.6537, Train Loss: 0.6296, Test Loss: 0.6268\n",
      "Epoch: 070, Train Acc: 0.6837, Test Acc: 0.6490, Train Loss: 0.6160, Test Loss: 0.6170\n",
      "Epoch: 080, Train Acc: 0.5751, Test Acc: 0.5497, Train Loss: 0.6137, Test Loss: 0.6272\n",
      "Epoch: 090, Train Acc: 0.7154, Test Acc: 0.6967, Train Loss: 0.5912, Test Loss: 0.5895\n",
      "Epoch: 100, Train Acc: 0.7293, Test Acc: 0.6977, Train Loss: 0.5737, Test Loss: 0.5818\n",
      "Epoch: 110, Train Acc: 0.7317, Test Acc: 0.7033, Train Loss: 0.5631, Test Loss: 0.5670\n",
      "Epoch: 120, Train Acc: 0.7401, Test Acc: 0.7130, Train Loss: 0.5482, Test Loss: 0.5574\n",
      "Epoch: 130, Train Acc: 0.7550, Test Acc: 0.7080, Train Loss: 0.5353, Test Loss: 0.5540\n",
      "Epoch: 140, Train Acc: 0.7303, Test Acc: 0.6873, Train Loss: 0.5355, Test Loss: 0.5681\n",
      "Epoch: 150, Train Acc: 0.7399, Test Acc: 0.6990, Train Loss: 0.5230, Test Loss: 0.5572\n",
      "Epoch: 160, Train Acc: 0.7106, Test Acc: 0.7243, Train Loss: 0.5562, Test Loss: 0.5519\n",
      "Epoch: 170, Train Acc: 0.7733, Test Acc: 0.7347, Train Loss: 0.4890, Test Loss: 0.5210\n",
      "Epoch: 180, Train Acc: 0.7781, Test Acc: 0.7307, Train Loss: 0.4832, Test Loss: 0.5238\n",
      "Epoch: 190, Train Acc: 0.7381, Test Acc: 0.7400, Train Loss: 0.5104, Test Loss: 0.5208\n",
      "Epoch: 200, Train Acc: 0.7621, Test Acc: 0.7533, Train Loss: 0.4843, Test Loss: 0.5026\n",
      "Epoch: 210, Train Acc: 0.7873, Test Acc: 0.7527, Train Loss: 0.4539, Test Loss: 0.4947\n",
      "Epoch: 220, Train Acc: 0.7926, Test Acc: 0.7587, Train Loss: 0.4468, Test Loss: 0.4943\n",
      "Epoch: 230, Train Acc: 0.7846, Test Acc: 0.7193, Train Loss: 0.4635, Test Loss: 0.5286\n",
      "Epoch: 240, Train Acc: 0.8044, Test Acc: 0.7633, Train Loss: 0.4304, Test Loss: 0.4797\n",
      "Epoch: 250, Train Acc: 0.7943, Test Acc: 0.7270, Train Loss: 0.4463, Test Loss: 0.5198\n",
      "Epoch: 260, Train Acc: 0.7869, Test Acc: 0.7687, Train Loss: 0.4389, Test Loss: 0.4785\n",
      "Epoch: 270, Train Acc: 0.8127, Test Acc: 0.7640, Train Loss: 0.4154, Test Loss: 0.4890\n",
      "Epoch: 280, Train Acc: 0.7821, Test Acc: 0.7710, Train Loss: 0.4378, Test Loss: 0.4798\n",
      "Epoch: 290, Train Acc: 0.7757, Test Acc: 0.7673, Train Loss: 0.4498, Test Loss: 0.4881\n",
      "Epoch: 300, Train Acc: 0.8307, Test Acc: 0.7663, Train Loss: 0.3953, Test Loss: 0.4685\n",
      "Epoch: 310, Train Acc: 0.8311, Test Acc: 0.7703, Train Loss: 0.3885, Test Loss: 0.4672\n",
      "Epoch: 320, Train Acc: 0.8379, Test Acc: 0.7633, Train Loss: 0.3830, Test Loss: 0.4759\n",
      "Epoch: 330, Train Acc: 0.8089, Test Acc: 0.7290, Train Loss: 0.4203, Test Loss: 0.5499\n",
      "Epoch: 340, Train Acc: 0.8104, Test Acc: 0.7297, Train Loss: 0.4145, Test Loss: 0.5512\n",
      "Epoch: 350, Train Acc: 0.8236, Test Acc: 0.7787, Train Loss: 0.3837, Test Loss: 0.4654\n",
      "Epoch: 360, Train Acc: 0.8493, Test Acc: 0.7630, Train Loss: 0.3611, Test Loss: 0.4764\n",
      "20 epochs passed without 0 test loss improvement. \n",
      "Early stopping triggered.\n"
     ]
    },
    {
     "data": {
      "text/html": [
       "<style>\n",
       "    table.wandb td:nth-child(1) { padding: 0 10px; text-align: left ; width: auto;} td:nth-child(2) {text-align: left ; width: 100%}\n",
       "    .wandb-row { display: flex; flex-direction: row; flex-wrap: wrap; justify-content: flex-start; width: 100% }\n",
       "    .wandb-col { display: flex; flex-direction: column; flex-basis: 100%; flex: 1; padding: 10px; }\n",
       "    </style>\n",
       "<div class=\"wandb-row\"><div class=\"wandb-col\"><h3>Run history:</h3><br/><table class=\"wandb\"><tr><td>Test Accuracy</td><td>▁▁▄▁▁▅▄▅▆▆▄▆▆▆▄▆▇▇▇▇▇▇▇▇█████▇█▇█████▇▇█</td></tr><tr><td>Test F1</td><td>▂▃▁▁▂▂▂▃▃▂▃▄▄▄▄▅▅▂▄▅▆▄▄▇▆▇▇▇▆▇▆█▇███████</td></tr><tr><td>Test Loss</td><td>██▇▇▇▆▆▆▅▅▅▅▄▄▅▄▃▄▃▂▂▃▂▃▂▂▁▁▁▂▁▂▁▁▁▁▁▃▃▁</td></tr><tr><td>Test Sensitivity</td><td>██▄▇▇▃▄▄▃▃▅▄▃▃▆▅▄▁▂▃▃▂▂▆▃▅▄▄▃▆▃▅▄▄▄▄▅▆▆▅</td></tr><tr><td>Test Specificity</td><td>▁▁▅▁▁▆▅▅▆▇▄▆▆▇▄▅▇██▇▇██▅▇▇▇▇█▆█▆▇▇▇▇▇▆▆▆</td></tr><tr><td>Train Accuracy</td><td>▁▁▃▁▁▅▄▅▅▅▄▅▅▆▄▅▆▅▆▆▆▆▆▆▇▇▇▇▇▇▇▇▇████▇██</td></tr><tr><td>Train F1</td><td>▃▃▂▂▃▂▃▃▃▃▄▄▄▄▅▅▅▁▄▅▅▃▄▆▅▆▆▆▅▇▅▇▆▇▇▇████</td></tr><tr><td>Train Loss</td><td>████▇▇▇▇▆▆▆▅▅▅▅▅▄▅▄▄▃▄▄▃▃▃▂▂▃▂▃▂▂▂▁▁▁▂▂▁</td></tr><tr><td>Train Sensitivity</td><td>██▄▇█▃▄▄▃▃▅▄▄▃▆▆▄▁▃▃▄▂▂▆▃▅▄▄▃▆▃▆▄▅▅▅▅▆▆▅</td></tr><tr><td>Train Specificity</td><td>▁▁▅▁▁▇▅▆▇▇▅▇▇▇▄▆▇███▇██▆█▇▇██▆█▇████▇▆▇▇</td></tr></table><br/></div><div class=\"wandb-col\"><h3>Run summary:</h3><br/><table class=\"wandb\"><tr><td>Test Accuracy</td><td>0.76433</td></tr><tr><td>Test F1</td><td>0.77448</td></tr><tr><td>Test Loss</td><td>0.47392</td></tr><tr><td>Test Sensitivity</td><td>0.78934</td></tr><tr><td>Test Specificity</td><td>0.73803</td></tr><tr><td>Train Accuracy</td><td>0.84943</td></tr><tr><td>Train F1</td><td>0.85088</td></tr><tr><td>Train Loss</td><td>0.36056</td></tr><tr><td>Train Sensitivity</td><td>0.80358</td></tr><tr><td>Train Specificity</td><td>0.90209</td></tr></table><br/></div></div>"
      ],
      "text/plain": [
       "<IPython.core.display.HTML object>"
      ]
     },
     "metadata": {},
     "output_type": "display_data"
    },
    {
     "data": {
      "text/html": [
       " View run <strong style=\"color:#cdcd00\">jolly-sweep-3</strong> at: <a href='https://wandb.ai/dylan-home/pnca-sweep-2/runs/lzk44r8n' target=\"_blank\">https://wandb.ai/dylan-home/pnca-sweep-2/runs/lzk44r8n</a><br/>Synced 5 W&B file(s), 0 media file(s), 0 artifact file(s) and 0 other file(s)"
      ],
      "text/plain": [
       "<IPython.core.display.HTML object>"
      ]
     },
     "metadata": {},
     "output_type": "display_data"
    },
    {
     "data": {
      "text/html": [
       "Find logs at: <code>./wandb/run-20250206_142226-lzk44r8n/logs</code>"
      ],
      "text/plain": [
       "<IPython.core.display.HTML object>"
      ]
     },
     "metadata": {},
     "output_type": "display_data"
    },
    {
     "name": "stderr",
     "output_type": "stream",
     "text": [
      "\u001b[34m\u001b[1mwandb\u001b[0m: Agent Starting Run: 4o2scfi4 with config:\n",
      "\u001b[34m\u001b[1mwandb\u001b[0m: \tcutoff_distance: 13.83453154962563\n",
      "\u001b[34m\u001b[1mwandb\u001b[0m: \tdropout: 0.4\n",
      "\u001b[34m\u001b[1mwandb\u001b[0m: \thidden_channels: 256\n",
      "\u001b[34m\u001b[1mwandb\u001b[0m: \tlearning_rate: 9.512638436644785e-06\n",
      "\u001b[34m\u001b[1mwandb\u001b[0m: \tweight_decay: 2.9916536478952607e-05\n",
      "Failed to detect the name of this notebook, you can set it manually with the WANDB_NOTEBOOK_NAME environment variable to enable code saving.\n",
      "/usr/lib/python3/dist-packages/requests/__init__.py:87: RequestsDependencyWarning: urllib3 (2.2.3) or chardet (4.0.0) doesn't match a supported version!\n",
      "  warnings.warn(\"urllib3 ({}) or chardet ({}) doesn't match a supported \"\n"
     ]
    },
    {
     "data": {
      "text/html": [
       "wandb version 0.19.6 is available!  To upgrade, please run:\n",
       " $ pip install wandb --upgrade"
      ],
      "text/plain": [
       "<IPython.core.display.HTML object>"
      ]
     },
     "metadata": {},
     "output_type": "display_data"
    },
    {
     "data": {
      "text/html": [
       "Tracking run with wandb version 0.16.4"
      ],
      "text/plain": [
       "<IPython.core.display.HTML object>"
      ]
     },
     "metadata": {},
     "output_type": "display_data"
    },
    {
     "data": {
      "text/html": [
       "Run data is saved locally in <code>/mnt/alphafold-volume-1/dylan2/repos/tb-pnca-gnn/dd_pnca/wandb/run-20250206_143641-4o2scfi4</code>"
      ],
      "text/plain": [
       "<IPython.core.display.HTML object>"
      ]
     },
     "metadata": {},
     "output_type": "display_data"
    },
    {
     "data": {
      "text/html": [
       "Syncing run <strong><a href='https://wandb.ai/dylan-home/pnca-sweep-2/runs/4o2scfi4' target=\"_blank\">iconic-sweep-4</a></strong> to <a href='https://wandb.ai/dylan-home/pnca-sweep-2' target=\"_blank\">Weights & Biases</a> (<a href='https://wandb.me/run' target=\"_blank\">docs</a>)<br/>Sweep page: <a href='https://wandb.ai/dylan-home/pnca-sweep-2/sweeps/u3q627wd' target=\"_blank\">https://wandb.ai/dylan-home/pnca-sweep-2/sweeps/u3q627wd</a>"
      ],
      "text/plain": [
       "<IPython.core.display.HTML object>"
      ]
     },
     "metadata": {},
     "output_type": "display_data"
    },
    {
     "data": {
      "text/html": [
       " View project at <a href='https://wandb.ai/dylan-home/pnca-sweep-2' target=\"_blank\">https://wandb.ai/dylan-home/pnca-sweep-2</a>"
      ],
      "text/plain": [
       "<IPython.core.display.HTML object>"
      ]
     },
     "metadata": {},
     "output_type": "display_data"
    },
    {
     "data": {
      "text/html": [
       " View sweep at <a href='https://wandb.ai/dylan-home/pnca-sweep-2/sweeps/u3q627wd' target=\"_blank\">https://wandb.ai/dylan-home/pnca-sweep-2/sweeps/u3q627wd</a>"
      ],
      "text/plain": [
       "<IPython.core.display.HTML object>"
      ]
     },
     "metadata": {},
     "output_type": "display_data"
    },
    {
     "data": {
      "text/html": [
       " View run at <a href='https://wandb.ai/dylan-home/pnca-sweep-2/runs/4o2scfi4' target=\"_blank\">https://wandb.ai/dylan-home/pnca-sweep-2/runs/4o2scfi4</a>"
      ],
      "text/plain": [
       "<IPython.core.display.HTML object>"
      ]
     },
     "metadata": {},
     "output_type": "display_data"
    },
    {
     "name": "stdout",
     "output_type": "stream",
     "text": [
      "Adjusting edge index and attaching edge weights for cutoff distance 13.83453154962563\n",
      "Using CUDA\n",
      "Early stopping enabled. Patience: 20. Min Delta: 0.\n",
      "Epoch: 010, Train Acc: 0.5406, Test Acc: 0.5410, Train Loss: 0.6423, Test Loss: 0.6397\n",
      "Epoch: 020, Train Acc: 0.7020, Test Acc: 0.7080, Train Loss: 0.6025, Test Loss: 0.5762\n",
      "Epoch: 030, Train Acc: 0.7239, Test Acc: 0.6790, Train Loss: 0.5497, Test Loss: 0.5670\n",
      "Epoch: 040, Train Acc: 0.7507, Test Acc: 0.7140, Train Loss: 0.5160, Test Loss: 0.5418\n",
      "Epoch: 050, Train Acc: 0.7653, Test Acc: 0.7633, Train Loss: 0.4861, Test Loss: 0.4844\n"
     ]
    }
   ],
   "source": [
    "wandb.agent(sweep_id, sweep_run, project = project, count=10)"
   ]
  },
  {
   "cell_type": "code",
   "execution_count": null,
   "metadata": {},
   "outputs": [],
   "source": []
  }
 ],
 "metadata": {
  "kernelspec": {
   "display_name": "Python 3",
   "language": "python",
   "name": "python3"
  },
  "language_info": {
   "codemirror_mode": {
    "name": "ipython",
    "version": 3
   },
   "file_extension": ".py",
   "mimetype": "text/x-python",
   "name": "python",
   "nbconvert_exporter": "python",
   "pygments_lexer": "ipython3",
   "version": "3.10.12"
  }
 },
 "nbformat": 4,
 "nbformat_minor": 2
}
