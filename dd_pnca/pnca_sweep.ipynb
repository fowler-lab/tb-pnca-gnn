{
 "cells": [
  {
   "cell_type": "markdown",
   "metadata": {},
   "source": [
    "# Run PncA WandB Sweep"
   ]
  },
  {
   "cell_type": "code",
   "execution_count": 1,
   "metadata": {},
   "outputs": [
    {
     "data": {
      "text/plain": [
       "'Running via SSH'"
      ]
     },
     "metadata": {},
     "output_type": "display_data"
    },
    {
     "name": "stderr",
     "output_type": "stream",
     "text": [
      "/usr/lib/python3/dist-packages/requests/__init__.py:87: RequestsDependencyWarning: urllib3 (2.2.3) or chardet (4.0.0) doesn't match a supported version!\n",
      "  warnings.warn(\"urllib3 ({}) or chardet ({}) doesn't match a supported \"\n",
      "/home/ubuntu/.local/lib/python3.10/site-packages/tqdm/auto.py:21: TqdmWarning: IProgress not found. Please update jupyter and ipywidgets. See https://ipywidgets.readthedocs.io/en/stable/user_install.html\n",
      "  from .autonotebook import tqdm as notebook_tqdm\n"
     ]
    },
    {
     "data": {
      "text/plain": [
       "True"
      ]
     },
     "execution_count": 1,
     "metadata": {},
     "output_type": "execute_result"
    }
   ],
   "source": [
    "from IPython.display import display\n",
    "import os\n",
    "\n",
    "if \"SSH_CONNECTION\" in os.environ:\n",
    "    display(\"Running via SSH\")\n",
    "else:\n",
    "    display(\"Running locally\")\n",
    "    \n",
    "import sys\n",
    "import os\n",
    "\n",
    "path = os.path.join('..', '/Users/dylandissanayake/Desktop/DPhil/Comp Disc/Repositories/TB-PNCA-GNN') if \"SSH_CONNECTION\" not in os.environ else os.path.join('..', '/mnt/alphafold-volume-1/dylan2/repos/tb-pnca-gnn')\n",
    "if path not in sys.path:\n",
    "    sys.path.append(os.path.abspath(path))\n",
    "\n",
    "import datetime\n",
    "import random\n",
    "\n",
    "import numpy as np\n",
    "import pandas as pd\n",
    "import copy\n",
    "import pickle\n",
    "\n",
    "import torch\n",
    "from torch_geometric.data import Data\n",
    "\n",
    "import wandb\n",
    "\n",
    "import sbmlcore\n",
    "import sbmlsim\n",
    "import gumpy\n",
    "\n",
    "import warnings\n",
    "warnings.filterwarnings('ignore')\n",
    "\n",
    "from src import run_model, protein_graph, gcn_model, evaluation\n",
    "\n",
    "%load_ext autoreload\n",
    "%autoreload 2\n",
    "\n",
    "%aimport src\n",
    "\n",
    "torch.cuda.is_available()"
   ]
  },
  {
   "cell_type": "code",
   "execution_count": 2,
   "metadata": {},
   "outputs": [],
   "source": [
    "full_dataset = torch.load('full_orig_dataset.pth')"
   ]
  },
  {
   "cell_type": "markdown",
   "metadata": {},
   "source": [
    "### Set Up Params and Sweep Config"
   ]
  },
  {
   "cell_type": "code",
   "execution_count": 12,
   "metadata": {},
   "outputs": [],
   "source": [
    "seed = 42\n",
    "np.random.seed(seed)\n",
    "random.seed(seed)\n",
    "\n",
    "n_samples = 10000\n",
    "\n",
    "cutoff_distance = 6.3  \n",
    "# gcn params\n",
    "num_node_features = 12\n",
    "batch_size = 256\n",
    "hidden_channels = 64\n",
    "learning_rate = 0.001\n",
    "wd = 5e-5\n",
    "epochs = 400\n",
    "\n",
    "ews = 'none'\n",
    "\n",
    "wt_seq = 'MRALIIVDVQNDFCEGGSLAVTGGAALARAISDYLAEAADYHHVVATKDFHIDPGDHFSGTPDYSSSWPPHCVSGTPGADFHPSLDTSAIEAVFYKGAYTGAYSGFEGVDENGTPLLNWLRQRGVDEVDVVGIATDHCVRQTAEDAVRNGLATRVLVDLTAGVSADTTVAALEEMRTASVELVCS'"
   ]
  },
  {
   "cell_type": "code",
   "execution_count": 13,
   "metadata": {},
   "outputs": [],
   "source": [
    "sweep_config = {\n",
    "    'method': 'random'\n",
    "    }\n",
    "\n",
    "metric = {\n",
    "    'name': 'Test Accuracy',\n",
    "    'goal': 'maximize'   \n",
    "    }\n",
    "\n",
    "sweep_config['metric'] = metric\n",
    "\n",
    "parameters_dict = {\n",
    "    # 'optimizer': {\n",
    "    #     'values': ['adam', 'sgd']\n",
    "    #     },\n",
    "    'hidden_channels': {\n",
    "        'values': [32, 64, 128, 256]\n",
    "        },\n",
    "    # 'dropout': {\n",
    "    #       'values': [0.3, 0.4, 0.5]\n",
    "    #     },\n",
    "    }\n",
    "\n",
    "sweep_config['parameters'] = parameters_dict\n",
    "\n",
    "# parameters_dict.update({\n",
    "#     'epochs': {\n",
    "#         'value': 400}\n",
    "#     })\n",
    "\n",
    "parameters_dict.update({\n",
    "    'learning_rate': {\n",
    "        # a flat distribution between 0 and 0.1\n",
    "        'distribution': 'log_uniform_values',\n",
    "        'min': 1e-6,\n",
    "        'max': 1e-1\n",
    "      },\n",
    "    # 'batch_size': {\n",
    "    #     # integers between 32 and 256\n",
    "    #     # with evenly-distributed logarithms \n",
    "    #     'distribution': 'q_log_uniform_values',\n",
    "    #     'q': 8,\n",
    "    #     'min': 32,\n",
    "    #     'max': 256,\n",
    "    #   }\n",
    "    })\n",
    "\n"
   ]
  },
  {
   "cell_type": "code",
   "execution_count": 14,
   "metadata": {},
   "outputs": [
    {
     "name": "stdout",
     "output_type": "stream",
     "text": [
      "{'method': 'random',\n",
      " 'metric': {'goal': 'maximize', 'name': 'Test Accuracy'},\n",
      " 'parameters': {'hidden_channels': {'values': [32, 64, 128, 256]},\n",
      "                'learning_rate': {'distribution': 'log_uniform_values',\n",
      "                                  'max': 0.1,\n",
      "                                  'min': 1e-06}}}\n"
     ]
    }
   ],
   "source": [
    "import pprint\n",
    "pprint.pprint(sweep_config)"
   ]
  },
  {
   "cell_type": "markdown",
   "metadata": {},
   "source": [
    "### Define Training Loop"
   ]
  },
  {
   "cell_type": "code",
   "execution_count": null,
   "metadata": {},
   "outputs": [],
   "source": [
    "model, train_acc, test_acc, train_loss, test_loss= run_model.pnca_simpleGCN(\n",
    "    # sequences=sequences_dict,\n",
    "    sequences=None,\n",
    "    self_loops = False,\n",
    "    cutoff_distance = cutoff_distance,\n",
    "    # edge_weight_func = '1-(dist/cutoff)',\n",
    "    edge_weight_func= 'none',\n",
    "    batch_size = batch_size,\n",
    "    num_node_features = num_node_features,\n",
    "    hidden_channels = hidden_channels,\n",
    "    learning_rate = learning_rate,\n",
    "    wd = wd,\n",
    "    epochs = epochs,\n",
    "    dataset = full_dataset,\n",
    "    normalise_ews=True,\n",
    "    # wandb_params={\n",
    "    #     'use_wandb' : False,\n",
    "    #     'wandb_project' : 'PncA Carter Dataset',\n",
    "    #     'wandb_name' : f'Initial run',\n",
    "    #     'n_samples' : n_samples\n",
    "    # }\n",
    ")\n",
    "\n",
    "torch.save(model, f'saved_models/carter_ds_aug/es_adamw_n{n_samples}_seed{seed}_{datetime.datetime.now().strftime(\"%Y_%m_%d_%H%M%S\")}')"
   ]
  },
  {
   "cell_type": "code",
   "execution_count": 15,
   "metadata": {},
   "outputs": [
    {
     "name": "stderr",
     "output_type": "stream",
     "text": [
      "Failed to detect the name of this notebook, you can set it manually with the WANDB_NOTEBOOK_NAME environment variable to enable code saving.\n",
      "/usr/lib/python3/dist-packages/requests/__init__.py:87: RequestsDependencyWarning: urllib3 (2.2.3) or chardet (4.0.0) doesn't match a supported version!\n",
      "  warnings.warn(\"urllib3 ({}) or chardet ({}) doesn't match a supported \"\n"
     ]
    },
    {
     "name": "stdout",
     "output_type": "stream",
     "text": [
      "Create sweep with ID: oewyn196\n",
      "Sweep URL: https://wandb.ai/dylan-home/pytorch-sweeps-demo/sweeps/oewyn196\n"
     ]
    }
   ],
   "source": [
    "# sweep_id = wandb.sweep(sweep_config, project=\"pytorch-sweeps-demo\")"
   ]
  },
  {
   "cell_type": "code",
   "execution_count": null,
   "metadata": {},
   "outputs": [],
   "source": [
    "model, train_acc, test_acc, train_loss, test_loss= run_model.pnca_simpleGCN(\n",
    "    # sequences=sequences_dict,\n",
    "    sequences=None,\n",
    "    self_loops = False,\n",
    "    cutoff_distance = cutoff_distance,\n",
    "    # edge_weight_func = '1-(dist/cutoff)',\n",
    "    edge_weight_func= 'none',\n",
    "    batch_size = batch_size,\n",
    "    num_node_features = num_node_features,\n",
    "    hidden_channels = hidden_channels,\n",
    "    learning_rate = learning_rate,\n",
    "    wd = wd,\n",
    "    epochs = epochs,\n",
    "    dataset = full_dataset,\n",
    "    normalise_ews=True,\n",
    "    # wandb_params={\n",
    "    #     'use_wandb' : False,\n",
    "    #     'wandb_project' : 'PncA Carter Dataset',\n",
    "    #     'wandb_name' : f'Initial run',\n",
    "    #     'n_samples' : n_samples\n",
    "    # }\n",
    ")\n",
    "\n",
    "torch.save(model, f'saved_models/carter_ds_aug/es_adamw_n{n_samples}_seed{seed}_{datetime.datetime.now().strftime(\"%Y_%m_%d_%H%M%S\")}')"
   ]
  }
 ],
 "metadata": {
  "kernelspec": {
   "display_name": "Python 3",
   "language": "python",
   "name": "python3"
  },
  "language_info": {
   "codemirror_mode": {
    "name": "ipython",
    "version": 3
   },
   "file_extension": ".py",
   "mimetype": "text/x-python",
   "name": "python",
   "nbconvert_exporter": "python",
   "pygments_lexer": "ipython3",
   "version": "3.10.12"
  }
 },
 "nbformat": 4,
 "nbformat_minor": 2
}
