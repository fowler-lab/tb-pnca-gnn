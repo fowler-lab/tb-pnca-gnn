{
 "cells": [
  {
   "cell_type": "markdown",
   "metadata": {},
   "source": [
    "# Run PncA WandB Sweep"
   ]
  },
  {
   "cell_type": "code",
   "execution_count": 1,
   "metadata": {},
   "outputs": [
    {
     "data": {
      "text/plain": [
       "'Running via SSH'"
      ]
     },
     "metadata": {},
     "output_type": "display_data"
    },
    {
     "name": "stderr",
     "output_type": "stream",
     "text": [
      "/usr/lib/python3/dist-packages/requests/__init__.py:87: RequestsDependencyWarning: urllib3 (2.2.3) or chardet (4.0.0) doesn't match a supported version!\n",
      "  warnings.warn(\"urllib3 ({}) or chardet ({}) doesn't match a supported \"\n",
      "/home/ubuntu/.local/lib/python3.10/site-packages/tqdm/auto.py:21: TqdmWarning: IProgress not found. Please update jupyter and ipywidgets. See https://ipywidgets.readthedocs.io/en/stable/user_install.html\n",
      "  from .autonotebook import tqdm as notebook_tqdm\n"
     ]
    },
    {
     "data": {
      "text/plain": [
       "True"
      ]
     },
     "execution_count": 1,
     "metadata": {},
     "output_type": "execute_result"
    }
   ],
   "source": [
    "from IPython.display import display\n",
    "import os\n",
    "\n",
    "if \"SSH_CONNECTION\" in os.environ:\n",
    "    display(\"Running via SSH\")\n",
    "else:\n",
    "    display(\"Running locally\")\n",
    "    \n",
    "import sys\n",
    "import os\n",
    "\n",
    "path = os.path.join('..', '/Users/dylandissanayake/Desktop/DPhil/Comp Disc/Repositories/TB-PNCA-GNN') if \"SSH_CONNECTION\" not in os.environ else os.path.join('..', '/mnt/alphafold-volume-1/dylan2/repos/tb-pnca-gnn')\n",
    "if path not in sys.path:\n",
    "    sys.path.append(os.path.abspath(path))\n",
    "\n",
    "import datetime\n",
    "import random\n",
    "\n",
    "import numpy as np\n",
    "import pandas as pd\n",
    "import copy\n",
    "import pickle\n",
    "\n",
    "import torch\n",
    "from torch_geometric.data import Data\n",
    "\n",
    "import wandb\n",
    "\n",
    "import sbmlcore\n",
    "import sbmlsim\n",
    "import gumpy\n",
    "\n",
    "import warnings\n",
    "warnings.filterwarnings('ignore')\n",
    "\n",
    "from src import run_model, protein_graph, gcn_model, evaluation\n",
    "\n",
    "%load_ext autoreload\n",
    "%autoreload 2\n",
    "\n",
    "%aimport src\n",
    "\n",
    "torch.cuda.is_available()"
   ]
  },
  {
   "cell_type": "code",
   "execution_count": 2,
   "metadata": {},
   "outputs": [],
   "source": [
    "full_dataset = torch.load('full_orig_dataset.pth')"
   ]
  },
  {
   "cell_type": "markdown",
   "metadata": {},
   "source": [
    "### Set Up Params and Sweep Config"
   ]
  },
  {
   "cell_type": "code",
   "execution_count": 3,
   "metadata": {},
   "outputs": [],
   "source": [
    "seed = 42\n",
    "np.random.seed(seed)\n",
    "random.seed(seed)\n",
    "\n",
    "# logging params (only used for wandb metrics)\n",
    "n_samples = 10000\n",
    "cutoff_distance = 6.3  \n",
    "\n",
    "# gcn params\n",
    "num_node_features = 12\n",
    "batch_size = 256\n",
    "hidden_channels = 64\n",
    "learning_rate = 0.001\n",
    "wd = 5e-5\n",
    "epochs = 1000\n",
    "\n",
    "wt_seq = 'MRALIIVDVQNDFCEGGSLAVTGGAALARAISDYLAEAADYHHVVATKDFHIDPGDHFSGTPDYSSSWPPHCVSGTPGADFHPSLDTSAIEAVFYKGAYTGAYSGFEGVDENGTPLLNWLRQRGVDEVDVVGIATDHCVRQTAEDAVRNGLATRVLVDLTAGVSADTTVAALEEMRTASVELVCS'"
   ]
  },
  {
   "cell_type": "code",
   "execution_count": 4,
   "metadata": {},
   "outputs": [],
   "source": [
    "# First sweep:\n",
    "\n",
    "sweep_config = {\n",
    "    'method': 'random'\n",
    "    }\n",
    "\n",
    "metric = {\n",
    "    'name': 'Test Accuracy',\n",
    "    'goal': 'maximize'   \n",
    "    }\n",
    "\n",
    "sweep_config['metric'] = metric\n",
    "\n",
    "parameters_dict = {\n",
    "    'hidden_channels': {\n",
    "        'values': [32, 64, 128, 256]\n",
    "        },\n",
    "    'weight_decay': {\n",
    "        'distribution': 'log_uniform_values',\n",
    "        'min': 1e-8,\n",
    "        'max': 1e-2\n",
    "        },\n",
    "    'dropout': {\n",
    "          'values': [0.2, 0.4, 0.5, 0.6, 0.8]\n",
    "        },\n",
    "    'cutoff_distance': {\n",
    "        'distribution': 'uniform',\n",
    "        'min': 3,\n",
    "        'max': 10 \n",
    "        },\n",
    "    'learning_rate': {\n",
    "        'distribution': 'log_uniform_values',\n",
    "        'min': 1e-8,\n",
    "        'max': 1e-1\n",
    "      },\n",
    "    }\n",
    "\n",
    "sweep_config['parameters'] = parameters_dict\n",
    "\n",
    "# Second / third sweep:\n",
    "\n",
    "parameters_dict.update({\n",
    "    'hidden_channels': {\n",
    "        'values': [64, 128, 192, 256, 320, 384]\n",
    "        },\n",
    "    'weight_decay': {\n",
    "        'distribution': 'log_uniform_values',\n",
    "        'min': 5e-7, \n",
    "        'max': 1e-2\n",
    "        },\n",
    "    'dropout': {\n",
    "          'values': [0.4, 0.5, 0.6, 0.8]\n",
    "        },\n",
    "    'learning_rate': {\n",
    "        'distribution': 'log_uniform_values',\n",
    "        'min': 1e-5,\n",
    "        'max': 1e-2 \n",
    "        },\n",
    "    })\n",
    "\n",
    "# Fourth / Fifth sweep:\n",
    "\n",
    "parameters_dict.update({\n",
    "    'hidden_channels': {\n",
    "        'values': [128, 192, 256, 320]\n",
    "        },\n",
    "    'weight_decay': {\n",
    "        'distribution': 'log_uniform_values',\n",
    "        'min': 1e-5,\n",
    "        'max': 1e-3\n",
    "        },\n",
    "    'dropout': {\n",
    "          'values': [0.4, 0.5, 0.6, 0.8]\n",
    "        },\n",
    "    'learning_rate': {\n",
    "        'distribution': 'log_uniform_values',\n",
    "        'min': 5e-5,\n",
    "        'max': 5e-2\n",
    "        },\n",
    "    'cutoff_distance': {\n",
    "        'distribution': 'uniform',\n",
    "        'min': 3,\n",
    "        'max': 9\n",
    "        },\n",
    "    })\n",
    "\n",
    "# Sixth sweep:\n",
    "\n",
    "parameters_dict.update({\n",
    "    'learning_rate': {\n",
    "        'distribution': 'log_uniform_values',\n",
    "        'min': 5e-7,\n",
    "        'max': 5e-3\n",
    "        }\n",
    "    })\n",
    "\n"
   ]
  },
  {
   "cell_type": "code",
   "execution_count": 5,
   "metadata": {},
   "outputs": [
    {
     "name": "stdout",
     "output_type": "stream",
     "text": [
      "{'method': 'random',\n",
      " 'metric': {'goal': 'maximize', 'name': 'Test Accuracy'},\n",
      " 'parameters': {'cutoff_distance': {'distribution': 'uniform',\n",
      "                                    'max': 9,\n",
      "                                    'min': 3},\n",
      "                'dropout': {'values': [0.4, 0.5, 0.6, 0.8]},\n",
      "                'hidden_channels': {'values': [128, 192, 256, 320]},\n",
      "                'learning_rate': {'distribution': 'log_uniform_values',\n",
      "                                  'max': 0.005,\n",
      "                                  'min': 5e-07},\n",
      "                'weight_decay': {'distribution': 'log_uniform_values',\n",
      "                                 'max': 0.001,\n",
      "                                 'min': 1e-05}}}\n"
     ]
    }
   ],
   "source": [
    "import pprint\n",
    "pprint.pprint(sweep_config)"
   ]
  },
  {
   "cell_type": "markdown",
   "metadata": {},
   "source": [
    "### Define Training Loop"
   ]
  },
  {
   "cell_type": "code",
   "execution_count": 6,
   "metadata": {},
   "outputs": [],
   "source": [
    "project = \"pnca-sweep-1\""
   ]
  },
  {
   "cell_type": "code",
   "execution_count": 7,
   "metadata": {},
   "outputs": [],
   "source": [
    "# sweep_id = wandb.sweep(sweep_config, project=project)\n",
    "# sweep_id = '18ili8gf'\n",
    "# sweep_id = 'z95xpbwd'\n",
    "# sweep_id = 'tr8mwg42'\n",
    "# sweep_id = '2hsfpqs6'\n",
    "sweep_id = 'gt2h3xwl'"
   ]
  },
  {
   "cell_type": "code",
   "execution_count": 8,
   "metadata": {},
   "outputs": [],
   "source": [
    "def sweep_run():\n",
    "\n",
    "    with wandb.init() as run:\n",
    "        config = run.config\n",
    "        \n",
    "        model = run_model.pnca_simpleGCN(\n",
    "            # sequences=sequences_dict,\n",
    "            sequences=None,\n",
    "            self_loops = False,\n",
    "            cutoff_distance = config.cutoff_distance,\n",
    "            edge_weight_func = '1-(dist/cutoff)',\n",
    "            # edge_weight_func = 'none',\n",
    "            batch_size = batch_size,\n",
    "            num_node_features = num_node_features,\n",
    "            hidden_channels = config.hidden_channels,\n",
    "            learning_rate = config.learning_rate,\n",
    "            wd = config.weight_decay,\n",
    "            dropout = config.dropout,\n",
    "            epochs = epochs,\n",
    "            dataset = full_dataset,\n",
    "            normalise_ews=True,\n",
    "            wandb_params={\n",
    "                'use_wandb': False,\n",
    "                'sweep': True\n",
    "            }\n",
    "        )\n",
    "\n",
    "        torch.save(model, f'saved_models/carter_ds_aug/{project}/{sweep_id}/{run.name}')"
   ]
  },
  {
   "cell_type": "code",
   "execution_count": 9,
   "metadata": {},
   "outputs": [
    {
     "name": "stderr",
     "output_type": "stream",
     "text": [
      "Failed to detect the name of this notebook, you can set it manually with the WANDB_NOTEBOOK_NAME environment variable to enable code saving.\n",
      "/usr/lib/python3/dist-packages/requests/__init__.py:87: RequestsDependencyWarning: urllib3 (2.2.3) or chardet (4.0.0) doesn't match a supported version!\n",
      "  warnings.warn(\"urllib3 ({}) or chardet ({}) doesn't match a supported \"\n",
      "\u001b[34m\u001b[1mwandb\u001b[0m: Agent Starting Run: o78hjtpy with config:\n",
      "\u001b[34m\u001b[1mwandb\u001b[0m: \tcutoff_distance: 6.625111673194254\n",
      "\u001b[34m\u001b[1mwandb\u001b[0m: \tdropout: 0.8\n",
      "\u001b[34m\u001b[1mwandb\u001b[0m: \thidden_channels: 128\n",
      "\u001b[34m\u001b[1mwandb\u001b[0m: \tlearning_rate: 0.003948819837768729\n",
      "\u001b[34m\u001b[1mwandb\u001b[0m: \tweight_decay: 0.0002500171724956479\n",
      "Failed to detect the name of this notebook, you can set it manually with the WANDB_NOTEBOOK_NAME environment variable to enable code saving.\n",
      "/usr/lib/python3/dist-packages/requests/__init__.py:87: RequestsDependencyWarning: urllib3 (2.2.3) or chardet (4.0.0) doesn't match a supported version!\n",
      "  warnings.warn(\"urllib3 ({}) or chardet ({}) doesn't match a supported \"\n",
      "\u001b[34m\u001b[1mwandb\u001b[0m: Currently logged in as: \u001b[33mdylan-home\u001b[0m. Use \u001b[1m`wandb login --relogin`\u001b[0m to force relogin\n"
     ]
    },
    {
     "data": {
      "text/html": [
       "wandb version 0.19.4 is available!  To upgrade, please run:\n",
       " $ pip install wandb --upgrade"
      ],
      "text/plain": [
       "<IPython.core.display.HTML object>"
      ]
     },
     "metadata": {},
     "output_type": "display_data"
    },
    {
     "data": {
      "text/html": [
       "Tracking run with wandb version 0.16.4"
      ],
      "text/plain": [
       "<IPython.core.display.HTML object>"
      ]
     },
     "metadata": {},
     "output_type": "display_data"
    },
    {
     "data": {
      "text/html": [
       "Run data is saved locally in <code>/mnt/alphafold-volume-1/dylan2/repos/tb-pnca-gnn/dd_pnca/wandb/run-20250127_103439-o78hjtpy</code>"
      ],
      "text/plain": [
       "<IPython.core.display.HTML object>"
      ]
     },
     "metadata": {},
     "output_type": "display_data"
    },
    {
     "data": {
      "text/html": [
       "Syncing run <strong><a href='https://wandb.ai/dylan-home/pnca-sweep-1/runs/o78hjtpy' target=\"_blank\">woven-sweep-1</a></strong> to <a href='https://wandb.ai/dylan-home/pnca-sweep-1' target=\"_blank\">Weights & Biases</a> (<a href='https://wandb.me/run' target=\"_blank\">docs</a>)<br/>Sweep page: <a href='https://wandb.ai/dylan-home/pnca-sweep-1/sweeps/gt2h3xwl' target=\"_blank\">https://wandb.ai/dylan-home/pnca-sweep-1/sweeps/gt2h3xwl</a>"
      ],
      "text/plain": [
       "<IPython.core.display.HTML object>"
      ]
     },
     "metadata": {},
     "output_type": "display_data"
    },
    {
     "data": {
      "text/html": [
       " View project at <a href='https://wandb.ai/dylan-home/pnca-sweep-1' target=\"_blank\">https://wandb.ai/dylan-home/pnca-sweep-1</a>"
      ],
      "text/plain": [
       "<IPython.core.display.HTML object>"
      ]
     },
     "metadata": {},
     "output_type": "display_data"
    },
    {
     "data": {
      "text/html": [
       " View sweep at <a href='https://wandb.ai/dylan-home/pnca-sweep-1/sweeps/gt2h3xwl' target=\"_blank\">https://wandb.ai/dylan-home/pnca-sweep-1/sweeps/gt2h3xwl</a>"
      ],
      "text/plain": [
       "<IPython.core.display.HTML object>"
      ]
     },
     "metadata": {},
     "output_type": "display_data"
    },
    {
     "data": {
      "text/html": [
       " View run at <a href='https://wandb.ai/dylan-home/pnca-sweep-1/runs/o78hjtpy' target=\"_blank\">https://wandb.ai/dylan-home/pnca-sweep-1/runs/o78hjtpy</a>"
      ],
      "text/plain": [
       "<IPython.core.display.HTML object>"
      ]
     },
     "metadata": {},
     "output_type": "display_data"
    },
    {
     "name": "stdout",
     "output_type": "stream",
     "text": [
      "Using CUDA\n",
      "Early stopping enabled. Patience: 20. Min Delta: 0.\n",
      "Epoch: 010, Train Acc: 0.7386, Test Acc: 0.7283, Train Loss: 0.5218, Test Loss: 0.5426\n",
      "Epoch: 020, Train Acc: 0.4863, Test Acc: 0.5187, Train Loss: 4.6305, Test Loss: 4.3345\n",
      "Epoch: 030, Train Acc: 0.5264, Test Acc: 0.5110, Train Loss: 32.0698, Test Loss: 33.3199\n",
      "20 epochs passed without 0 test loss improvement. \n",
      "Early stopping triggered.\n"
     ]
    },
    {
     "data": {
      "text/html": [
       "<style>\n",
       "    table.wandb td:nth-child(1) { padding: 0 10px; text-align: left ; width: auto;} td:nth-child(2) {text-align: left ; width: 100%}\n",
       "    .wandb-row { display: flex; flex-direction: row; flex-wrap: wrap; justify-content: flex-start; width: 100% }\n",
       "    .wandb-col { display: flex; flex-direction: column; flex-basis: 100%; flex: 1; padding: 10px; }\n",
       "    </style>\n",
       "<div class=\"wandb-row\"><div class=\"wandb-col\"><h3>Run history:</h3><br/><table class=\"wandb\"><tr><td>Test Accuracy</td><td>▁▂▂▂▂▂▁▁▁▇▂▁▂▂▂▁▂▂▂▂▂█▂▂▂▂▂▂▁▂</td></tr><tr><td>Test F1</td><td>▁▇▇▇▇▂▁▇▁▇▇▁▇▇▇▂▇▇▇▂▇█▇▇▂▇▇▇▁▇</td></tr><tr><td>Test Loss</td><td>▁▁▁▁▁▁▁▁▂▁▁▂▂▃▃▂▂▄▂▂▂▁▅▆▂▂▃▁▃█</td></tr><tr><td>Test Sensitivity</td><td>▁████▁▁█▁▅█▁███▁███▁█▆██▂███▁█</td></tr><tr><td>Test Specificity</td><td>█▁▁▁▁██▁█▇▁█▁▁▁█▁▁▁█▁▇▁▁█▁▁▁█▁</td></tr><tr><td>Train Accuracy</td><td>▁▂▂▂▂▁▁▂▁▆▂▁▂▂▂▁▂▂▂▁▂█▂▂▁▂▂▂▁▂</td></tr><tr><td>Train F1</td><td>▁▇▇▇▇▁▁▇▁▇▇▁▇▇▇▁▇▇▇▁▇█▇▇▂▇▇▇▁▇</td></tr><tr><td>Train Loss</td><td>▁▁▁▁▁▁▁▁▂▁▁▂▂▃▃▂▂▄▂▂▂▁▅▆▂▂▂▁▃█</td></tr><tr><td>Train Sensitivity</td><td>▁████▁▁█▁▅█▁███▁███▁█▆██▁███▁█</td></tr><tr><td>Train Specificity</td><td>█▁▁▁▁██▁█▇▁█▁▁▁█▁▁▁█▁█▁▁█▁▁▁█▁</td></tr></table><br/></div><div class=\"wandb-col\"><h3>Run summary:</h3><br/><table class=\"wandb\"><tr><td>Test Accuracy</td><td>0.511</td></tr><tr><td>Test F1</td><td>0.67637</td></tr><tr><td>Test Loss</td><td>33.31992</td></tr><tr><td>Test Sensitivity</td><td>1.0</td></tr><tr><td>Test Specificity</td><td>0.0</td></tr><tr><td>Train Accuracy</td><td>0.52643</td></tr><tr><td>Train F1</td><td>0.68975</td></tr><tr><td>Train Loss</td><td>32.06984</td></tr><tr><td>Train Sensitivity</td><td>1.0</td></tr><tr><td>Train Specificity</td><td>0.0</td></tr></table><br/></div></div>"
      ],
      "text/plain": [
       "<IPython.core.display.HTML object>"
      ]
     },
     "metadata": {},
     "output_type": "display_data"
    },
    {
     "data": {
      "text/html": [
       " View run <strong style=\"color:#cdcd00\">woven-sweep-1</strong> at: <a href='https://wandb.ai/dylan-home/pnca-sweep-1/runs/o78hjtpy' target=\"_blank\">https://wandb.ai/dylan-home/pnca-sweep-1/runs/o78hjtpy</a><br/>Synced 5 W&B file(s), 0 media file(s), 0 artifact file(s) and 0 other file(s)"
      ],
      "text/plain": [
       "<IPython.core.display.HTML object>"
      ]
     },
     "metadata": {},
     "output_type": "display_data"
    },
    {
     "data": {
      "text/html": [
       "Find logs at: <code>./wandb/run-20250127_103439-o78hjtpy/logs</code>"
      ],
      "text/plain": [
       "<IPython.core.display.HTML object>"
      ]
     },
     "metadata": {},
     "output_type": "display_data"
    },
    {
     "name": "stderr",
     "output_type": "stream",
     "text": [
      "Traceback (most recent call last):\n",
      "  File \"/tmp/ipykernel_628937/44313289.py\", line 28, in sweep_run\n",
      "    torch.save(model, f'saved_models/carter_ds_aug/{project}/{sweep_id}/{run.name}')\n",
      "  File \"/home/ubuntu/.local/lib/python3.10/site-packages/torch/serialization.py\", line 651, in save\n",
      "    with _open_zipfile_writer(f) as opened_zipfile:\n",
      "  File \"/home/ubuntu/.local/lib/python3.10/site-packages/torch/serialization.py\", line 525, in _open_zipfile_writer\n",
      "    return container(name_or_buffer)\n",
      "  File \"/home/ubuntu/.local/lib/python3.10/site-packages/torch/serialization.py\", line 496, in __init__\n",
      "    super().__init__(torch._C.PyTorchFileWriter(self.name))\n",
      "RuntimeError: Parent directory saved_models/carter_ds_aug/pnca-sweep-1/gt2h3xwl does not exist.\n",
      "Run o78hjtpy errored:\n",
      "Traceback (most recent call last):\n",
      "  File \"/home/ubuntu/.local/lib/python3.10/site-packages/wandb/agents/pyagent.py\", line 308, in _run_job\n",
      "    self._function()\n",
      "  File \"/tmp/ipykernel_628937/44313289.py\", line 28, in sweep_run\n",
      "    torch.save(model, f'saved_models/carter_ds_aug/{project}/{sweep_id}/{run.name}')\n",
      "  File \"/home/ubuntu/.local/lib/python3.10/site-packages/torch/serialization.py\", line 651, in save\n",
      "    with _open_zipfile_writer(f) as opened_zipfile:\n",
      "  File \"/home/ubuntu/.local/lib/python3.10/site-packages/torch/serialization.py\", line 525, in _open_zipfile_writer\n",
      "    return container(name_or_buffer)\n",
      "  File \"/home/ubuntu/.local/lib/python3.10/site-packages/torch/serialization.py\", line 496, in __init__\n",
      "    super().__init__(torch._C.PyTorchFileWriter(self.name))\n",
      "RuntimeError: Parent directory saved_models/carter_ds_aug/pnca-sweep-1/gt2h3xwl does not exist.\n",
      "\n",
      "\u001b[34m\u001b[1mwandb\u001b[0m: \u001b[32m\u001b[41mERROR\u001b[0m Run o78hjtpy errored:\n",
      "\u001b[34m\u001b[1mwandb\u001b[0m: \u001b[32m\u001b[41mERROR\u001b[0m Traceback (most recent call last):\n",
      "\u001b[34m\u001b[1mwandb\u001b[0m: \u001b[32m\u001b[41mERROR\u001b[0m   File \"/home/ubuntu/.local/lib/python3.10/site-packages/wandb/agents/pyagent.py\", line 308, in _run_job\n",
      "\u001b[34m\u001b[1mwandb\u001b[0m: \u001b[32m\u001b[41mERROR\u001b[0m     self._function()\n",
      "\u001b[34m\u001b[1mwandb\u001b[0m: \u001b[32m\u001b[41mERROR\u001b[0m   File \"/tmp/ipykernel_628937/44313289.py\", line 28, in sweep_run\n",
      "\u001b[34m\u001b[1mwandb\u001b[0m: \u001b[32m\u001b[41mERROR\u001b[0m     torch.save(model, f'saved_models/carter_ds_aug/{project}/{sweep_id}/{run.name}')\n",
      "\u001b[34m\u001b[1mwandb\u001b[0m: \u001b[32m\u001b[41mERROR\u001b[0m   File \"/home/ubuntu/.local/lib/python3.10/site-packages/torch/serialization.py\", line 651, in save\n",
      "\u001b[34m\u001b[1mwandb\u001b[0m: \u001b[32m\u001b[41mERROR\u001b[0m     with _open_zipfile_writer(f) as opened_zipfile:\n",
      "\u001b[34m\u001b[1mwandb\u001b[0m: \u001b[32m\u001b[41mERROR\u001b[0m   File \"/home/ubuntu/.local/lib/python3.10/site-packages/torch/serialization.py\", line 525, in _open_zipfile_writer\n",
      "\u001b[34m\u001b[1mwandb\u001b[0m: \u001b[32m\u001b[41mERROR\u001b[0m     return container(name_or_buffer)\n",
      "\u001b[34m\u001b[1mwandb\u001b[0m: \u001b[32m\u001b[41mERROR\u001b[0m   File \"/home/ubuntu/.local/lib/python3.10/site-packages/torch/serialization.py\", line 496, in __init__\n",
      "\u001b[34m\u001b[1mwandb\u001b[0m: \u001b[32m\u001b[41mERROR\u001b[0m     super().__init__(torch._C.PyTorchFileWriter(self.name))\n",
      "\u001b[34m\u001b[1mwandb\u001b[0m: \u001b[32m\u001b[41mERROR\u001b[0m RuntimeError: Parent directory saved_models/carter_ds_aug/pnca-sweep-1/gt2h3xwl does not exist.\n",
      "\u001b[34m\u001b[1mwandb\u001b[0m: \u001b[32m\u001b[41mERROR\u001b[0m \n",
      "\u001b[34m\u001b[1mwandb\u001b[0m: Agent Starting Run: sw1ieb0u with config:\n",
      "\u001b[34m\u001b[1mwandb\u001b[0m: \tcutoff_distance: 4.0578009232166625\n",
      "\u001b[34m\u001b[1mwandb\u001b[0m: \tdropout: 0.6\n",
      "\u001b[34m\u001b[1mwandb\u001b[0m: \thidden_channels: 320\n",
      "\u001b[34m\u001b[1mwandb\u001b[0m: \tlearning_rate: 1.9326634105747783e-05\n",
      "\u001b[34m\u001b[1mwandb\u001b[0m: \tweight_decay: 3.402560438512446e-05\n",
      "Failed to detect the name of this notebook, you can set it manually with the WANDB_NOTEBOOK_NAME environment variable to enable code saving.\n",
      "/usr/lib/python3/dist-packages/requests/__init__.py:87: RequestsDependencyWarning: urllib3 (2.2.3) or chardet (4.0.0) doesn't match a supported version!\n",
      "  warnings.warn(\"urllib3 ({}) or chardet ({}) doesn't match a supported \"\n"
     ]
    },
    {
     "data": {
      "text/html": [
       "wandb version 0.19.4 is available!  To upgrade, please run:\n",
       " $ pip install wandb --upgrade"
      ],
      "text/plain": [
       "<IPython.core.display.HTML object>"
      ]
     },
     "metadata": {},
     "output_type": "display_data"
    },
    {
     "data": {
      "text/html": [
       "Tracking run with wandb version 0.16.4"
      ],
      "text/plain": [
       "<IPython.core.display.HTML object>"
      ]
     },
     "metadata": {},
     "output_type": "display_data"
    },
    {
     "data": {
      "text/html": [
       "Run data is saved locally in <code>/mnt/alphafold-volume-1/dylan2/repos/tb-pnca-gnn/dd_pnca/wandb/run-20250127_103541-sw1ieb0u</code>"
      ],
      "text/plain": [
       "<IPython.core.display.HTML object>"
      ]
     },
     "metadata": {},
     "output_type": "display_data"
    },
    {
     "data": {
      "text/html": [
       "Syncing run <strong><a href='https://wandb.ai/dylan-home/pnca-sweep-1/runs/sw1ieb0u' target=\"_blank\">tough-sweep-2</a></strong> to <a href='https://wandb.ai/dylan-home/pnca-sweep-1' target=\"_blank\">Weights & Biases</a> (<a href='https://wandb.me/run' target=\"_blank\">docs</a>)<br/>Sweep page: <a href='https://wandb.ai/dylan-home/pnca-sweep-1/sweeps/gt2h3xwl' target=\"_blank\">https://wandb.ai/dylan-home/pnca-sweep-1/sweeps/gt2h3xwl</a>"
      ],
      "text/plain": [
       "<IPython.core.display.HTML object>"
      ]
     },
     "metadata": {},
     "output_type": "display_data"
    },
    {
     "data": {
      "text/html": [
       " View project at <a href='https://wandb.ai/dylan-home/pnca-sweep-1' target=\"_blank\">https://wandb.ai/dylan-home/pnca-sweep-1</a>"
      ],
      "text/plain": [
       "<IPython.core.display.HTML object>"
      ]
     },
     "metadata": {},
     "output_type": "display_data"
    },
    {
     "data": {
      "text/html": [
       " View sweep at <a href='https://wandb.ai/dylan-home/pnca-sweep-1/sweeps/gt2h3xwl' target=\"_blank\">https://wandb.ai/dylan-home/pnca-sweep-1/sweeps/gt2h3xwl</a>"
      ],
      "text/plain": [
       "<IPython.core.display.HTML object>"
      ]
     },
     "metadata": {},
     "output_type": "display_data"
    },
    {
     "data": {
      "text/html": [
       " View run at <a href='https://wandb.ai/dylan-home/pnca-sweep-1/runs/sw1ieb0u' target=\"_blank\">https://wandb.ai/dylan-home/pnca-sweep-1/runs/sw1ieb0u</a>"
      ],
      "text/plain": [
       "<IPython.core.display.HTML object>"
      ]
     },
     "metadata": {},
     "output_type": "display_data"
    },
    {
     "name": "stdout",
     "output_type": "stream",
     "text": [
      "Using CUDA\n",
      "Early stopping enabled. Patience: 20. Min Delta: 0.\n",
      "Epoch: 010, Train Acc: 0.5897, Test Acc: 0.6370, Train Loss: 0.6731, Test Loss: 0.6627\n",
      "Epoch: 020, Train Acc: 0.6719, Test Acc: 0.6793, Train Loss: 0.6467, Test Loss: 0.6367\n",
      "Epoch: 030, Train Acc: 0.7156, Test Acc: 0.7073, Train Loss: 0.6178, Test Loss: 0.6119\n",
      "Epoch: 040, Train Acc: 0.6737, Test Acc: 0.6863, Train Loss: 0.6097, Test Loss: 0.6021\n",
      "Epoch: 050, Train Acc: 0.7706, Test Acc: 0.7263, Train Loss: 0.5622, Test Loss: 0.5806\n",
      "Epoch: 060, Train Acc: 0.5290, Test Acc: 0.5020, Train Loss: 0.6553, Test Loss: 0.7017\n",
      "Epoch: 070, Train Acc: 0.7530, Test Acc: 0.7343, Train Loss: 0.5106, Test Loss: 0.5356\n",
      "Epoch: 080, Train Acc: 0.7819, Test Acc: 0.7553, Train Loss: 0.4830, Test Loss: 0.5258\n",
      "Epoch: 090, Train Acc: 0.7137, Test Acc: 0.7093, Train Loss: 0.5550, Test Loss: 0.5844\n",
      "Epoch: 100, Train Acc: 0.7963, Test Acc: 0.7620, Train Loss: 0.4425, Test Loss: 0.5065\n",
      "Epoch: 110, Train Acc: 0.7777, Test Acc: 0.7503, Train Loss: 0.4544, Test Loss: 0.5177\n",
      "Epoch: 120, Train Acc: 0.5337, Test Acc: 0.5113, Train Loss: 0.6367, Test Loss: 0.7492\n",
      "Epoch: 130, Train Acc: 0.7889, Test Acc: 0.7543, Train Loss: 0.4309, Test Loss: 0.5178\n",
      "Epoch: 140, Train Acc: 0.7707, Test Acc: 0.7457, Train Loss: 0.4584, Test Loss: 0.5477\n",
      "Epoch: 150, Train Acc: 0.8340, Test Acc: 0.7827, Train Loss: 0.3888, Test Loss: 0.5124\n",
      "20 epochs passed without 0 test loss improvement. \n",
      "Early stopping triggered.\n"
     ]
    },
    {
     "data": {
      "text/html": [
       "<style>\n",
       "    table.wandb td:nth-child(1) { padding: 0 10px; text-align: left ; width: auto;} td:nth-child(2) {text-align: left ; width: 100%}\n",
       "    .wandb-row { display: flex; flex-direction: row; flex-wrap: wrap; justify-content: flex-start; width: 100% }\n",
       "    .wandb-col { display: flex; flex-direction: column; flex-basis: 100%; flex: 1; padding: 10px; }\n",
       "    </style>\n",
       "<div class=\"wandb-row\"><div class=\"wandb-col\"><h3>Run history:</h3><br/><table class=\"wandb\"><tr><td>Test Accuracy</td><td>▂▂▁▆▆▆▆▁▇▁▆▅▂▆▇▇▇▇▇▆▅██▆█████▇█▂▇█▂█▇▇▇█</td></tr><tr><td>Test F1</td><td>▆▆▅▅▆▃▅▅▆▅▃▁▅▅▅▇▇▇▆▃▂██▄█▇▇▇▇▆▇▅▆▇▅▇▆▆▆█</td></tr><tr><td>Test Loss</td><td>▆▇▆▅▅▅▅▅▄▅▄▅▄▃▃▃▂▂▂▄▆▂▂▃▁▁▁▁▁▂▁█▃▁▆▁▂▃▄▁</td></tr><tr><td>Test Sensitivity</td><td>██▇▃▅▂▃▇▄▇▂▁▇▃▃▅▄▄▃▂▁▅▅▂▄▄▄▄▄▄▄█▃▄█▄▃▃▃▅</td></tr><tr><td>Test Specificity</td><td>▁▁▁▇▆▇▇▁▇▁██▂██▇▇▇▇██▇▇█▇▇▇▇▇██▁█▇▁▇███▇</td></tr><tr><td>Train Accuracy</td><td>▁▁▁▅▆▅▅▁▆▁▅▃▂▅▆▇▇▇▆▅▄▇▇▅▇▇▇▇▇▇▇▁▆█▂█▇▆▆█</td></tr><tr><td>Train F1</td><td>▅▅▅▅▆▃▅▅▆▅▃▁▅▅▅▇▇▆▆▄▂▇▇▄▇▇▇▇▇▆▇▅▆█▆█▆▆▆█</td></tr><tr><td>Train Loss</td><td>██▇▇▇▇▇▇▆▆▆▇▆▅▅▅▄▄▄▆▇▃▃▅▃▃▂▂▂▃▂▇▃▂▅▁▃▃▄▁</td></tr><tr><td>Train Sensitivity</td><td>███▄▅▂▃▇▄▇▂▁▇▃▃▅▅▅▄▂▂▅▅▃▅▅▅▅▅▄▅█▄▅█▅▄▄▃▆</td></tr><tr><td>Train Specificity</td><td>▁▁▁▇▆█▇▂▇▁██▂██▇▇▇▇██▇▇█▇▇▇▇▇██▁█▇▁▇███▇</td></tr></table><br/></div><div class=\"wandb-col\"><h3>Run summary:</h3><br/><table class=\"wandb\"><tr><td>Test Accuracy</td><td>0.75067</td></tr><tr><td>Test F1</td><td>0.77712</td></tr><tr><td>Test Loss</td><td>0.55781</td></tr><tr><td>Test Sensitivity</td><td>0.85062</td></tr><tr><td>Test Specificity</td><td>0.64622</td></tr><tr><td>Train Accuracy</td><td>0.82971</td></tr><tr><td>Train F1</td><td>0.84734</td></tr><tr><td>Train Loss</td><td>0.4241</td></tr><tr><td>Train Sensitivity</td><td>0.89769</td></tr><tr><td>Train Specificity</td><td>0.75415</td></tr></table><br/></div></div>"
      ],
      "text/plain": [
       "<IPython.core.display.HTML object>"
      ]
     },
     "metadata": {},
     "output_type": "display_data"
    },
    {
     "data": {
      "text/html": [
       " View run <strong style=\"color:#cdcd00\">tough-sweep-2</strong> at: <a href='https://wandb.ai/dylan-home/pnca-sweep-1/runs/sw1ieb0u' target=\"_blank\">https://wandb.ai/dylan-home/pnca-sweep-1/runs/sw1ieb0u</a><br/>Synced 5 W&B file(s), 0 media file(s), 0 artifact file(s) and 0 other file(s)"
      ],
      "text/plain": [
       "<IPython.core.display.HTML object>"
      ]
     },
     "metadata": {},
     "output_type": "display_data"
    },
    {
     "data": {
      "text/html": [
       "Find logs at: <code>./wandb/run-20250127_103541-sw1ieb0u/logs</code>"
      ],
      "text/plain": [
       "<IPython.core.display.HTML object>"
      ]
     },
     "metadata": {},
     "output_type": "display_data"
    },
    {
     "name": "stderr",
     "output_type": "stream",
     "text": [
      "\u001b[34m\u001b[1mwandb\u001b[0m: Agent Starting Run: 3jhl909k with config:\n",
      "\u001b[34m\u001b[1mwandb\u001b[0m: \tcutoff_distance: 8.85464242454719\n",
      "\u001b[34m\u001b[1mwandb\u001b[0m: \tdropout: 0.5\n",
      "\u001b[34m\u001b[1mwandb\u001b[0m: \thidden_channels: 256\n",
      "\u001b[34m\u001b[1mwandb\u001b[0m: \tlearning_rate: 0.0015192081647245224\n",
      "\u001b[34m\u001b[1mwandb\u001b[0m: \tweight_decay: 7.034298912416406e-05\n",
      "Failed to detect the name of this notebook, you can set it manually with the WANDB_NOTEBOOK_NAME environment variable to enable code saving.\n",
      "/usr/lib/python3/dist-packages/requests/__init__.py:87: RequestsDependencyWarning: urllib3 (2.2.3) or chardet (4.0.0) doesn't match a supported version!\n",
      "  warnings.warn(\"urllib3 ({}) or chardet ({}) doesn't match a supported \"\n"
     ]
    },
    {
     "data": {
      "text/html": [
       "wandb version 0.19.4 is available!  To upgrade, please run:\n",
       " $ pip install wandb --upgrade"
      ],
      "text/plain": [
       "<IPython.core.display.HTML object>"
      ]
     },
     "metadata": {},
     "output_type": "display_data"
    },
    {
     "data": {
      "text/html": [
       "Tracking run with wandb version 0.16.4"
      ],
      "text/plain": [
       "<IPython.core.display.HTML object>"
      ]
     },
     "metadata": {},
     "output_type": "display_data"
    },
    {
     "data": {
      "text/html": [
       "Run data is saved locally in <code>/mnt/alphafold-volume-1/dylan2/repos/tb-pnca-gnn/dd_pnca/wandb/run-20250127_104135-3jhl909k</code>"
      ],
      "text/plain": [
       "<IPython.core.display.HTML object>"
      ]
     },
     "metadata": {},
     "output_type": "display_data"
    },
    {
     "data": {
      "text/html": [
       "Syncing run <strong><a href='https://wandb.ai/dylan-home/pnca-sweep-1/runs/3jhl909k' target=\"_blank\">polar-sweep-3</a></strong> to <a href='https://wandb.ai/dylan-home/pnca-sweep-1' target=\"_blank\">Weights & Biases</a> (<a href='https://wandb.me/run' target=\"_blank\">docs</a>)<br/>Sweep page: <a href='https://wandb.ai/dylan-home/pnca-sweep-1/sweeps/gt2h3xwl' target=\"_blank\">https://wandb.ai/dylan-home/pnca-sweep-1/sweeps/gt2h3xwl</a>"
      ],
      "text/plain": [
       "<IPython.core.display.HTML object>"
      ]
     },
     "metadata": {},
     "output_type": "display_data"
    },
    {
     "data": {
      "text/html": [
       " View project at <a href='https://wandb.ai/dylan-home/pnca-sweep-1' target=\"_blank\">https://wandb.ai/dylan-home/pnca-sweep-1</a>"
      ],
      "text/plain": [
       "<IPython.core.display.HTML object>"
      ]
     },
     "metadata": {},
     "output_type": "display_data"
    },
    {
     "data": {
      "text/html": [
       " View sweep at <a href='https://wandb.ai/dylan-home/pnca-sweep-1/sweeps/gt2h3xwl' target=\"_blank\">https://wandb.ai/dylan-home/pnca-sweep-1/sweeps/gt2h3xwl</a>"
      ],
      "text/plain": [
       "<IPython.core.display.HTML object>"
      ]
     },
     "metadata": {},
     "output_type": "display_data"
    },
    {
     "data": {
      "text/html": [
       " View run at <a href='https://wandb.ai/dylan-home/pnca-sweep-1/runs/3jhl909k' target=\"_blank\">https://wandb.ai/dylan-home/pnca-sweep-1/runs/3jhl909k</a>"
      ],
      "text/plain": [
       "<IPython.core.display.HTML object>"
      ]
     },
     "metadata": {},
     "output_type": "display_data"
    },
    {
     "name": "stdout",
     "output_type": "stream",
     "text": [
      "Using CUDA\n",
      "Early stopping enabled. Patience: 20. Min Delta: 0.\n",
      "Epoch: 010, Train Acc: 0.5264, Test Acc: 0.5110, Train Loss: 0.9644, Test Loss: 1.0479\n",
      "Epoch: 020, Train Acc: 0.5264, Test Acc: 0.5110, Train Loss: 5.4560, Test Loss: 5.8154\n",
      "Epoch: 030, Train Acc: 0.5264, Test Acc: 0.5110, Train Loss: 18.5602, Test Loss: 19.3841\n",
      "20 epochs passed without 0 test loss improvement. \n",
      "Early stopping triggered.\n"
     ]
    },
    {
     "data": {
      "text/html": [
       "<style>\n",
       "    table.wandb td:nth-child(1) { padding: 0 10px; text-align: left ; width: auto;} td:nth-child(2) {text-align: left ; width: 100%}\n",
       "    .wandb-row { display: flex; flex-direction: row; flex-wrap: wrap; justify-content: flex-start; width: 100% }\n",
       "    .wandb-col { display: flex; flex-direction: column; flex-basis: 100%; flex: 1; padding: 10px; }\n",
       "    </style>\n",
       "<div class=\"wandb-row\"><div class=\"wandb-col\"><h3>Run history:</h3><br/><table class=\"wandb\"><tr><td>Test Accuracy</td><td>▁▁▂▅▂▁▂▄▁▂▂▁▇▂▂▂▂▁▂▂▂▂▂▁▅▂▂█▄▂▂▁▂</td></tr><tr><td>Test F1</td><td>▁▇▇▆▂▇▇▄▁▇▃▇▇▇▇▇▇▁▇▇▇▇▇▂▆▇▇█▅▇▇▁▇</td></tr><tr><td>Test Loss</td><td>▁▁▁▁▁▁▁▁▂▁▁▁▁▁▄▄▂▃▁▃▃▃▂▂▁▅▄▁▂█▂▄▃</td></tr><tr><td>Test Sensitivity</td><td>▁██▄▂▇█▃▁█▂█▅████▁█████▁▄██▇▃██▁█</td></tr><tr><td>Test Specificity</td><td>█▁▁▇█▂▁██▁█▁▇▁▁▁▁█▁▁▁▁▁██▁▁▆█▁▁█▁</td></tr><tr><td>Train Accuracy</td><td>▁▂▂▄▁▂▂▂▁▂▂▂▆▂▂▂▂▁▂▂▂▂▂▁▅▂▂█▃▂▂▁▂</td></tr><tr><td>Train F1</td><td>▁▆▆▅▂▆▆▃▁▆▂▆▆▆▆▆▆▁▆▆▆▆▆▁▆▆▆█▄▆▆▁▆</td></tr><tr><td>Train Loss</td><td>▁▁▁▁▁▁▁▁▂▁▁▁▁▁▄▄▂▃▁▃▃▃▃▂▁▅▄▁▂█▂▄▃</td></tr><tr><td>Train Sensitivity</td><td>▁██▄▁▇█▂▁█▂█▅████▁█████▁▄██▇▃██▁█</td></tr><tr><td>Train Specificity</td><td>█▁▁██▂▁██▁█▁█▁▁▁▁█▁▁▁▁▁██▁▁▇█▁▁█▁</td></tr></table><br/></div><div class=\"wandb-col\"><h3>Run summary:</h3><br/><table class=\"wandb\"><tr><td>Test Accuracy</td><td>0.511</td></tr><tr><td>Test F1</td><td>0.67637</td></tr><tr><td>Test Loss</td><td>6.51198</td></tr><tr><td>Test Sensitivity</td><td>1.0</td></tr><tr><td>Test Specificity</td><td>0.0</td></tr><tr><td>Train Accuracy</td><td>0.52643</td></tr><tr><td>Train F1</td><td>0.68975</td></tr><tr><td>Train Loss</td><td>5.95146</td></tr><tr><td>Train Sensitivity</td><td>1.0</td></tr><tr><td>Train Specificity</td><td>0.0</td></tr></table><br/></div></div>"
      ],
      "text/plain": [
       "<IPython.core.display.HTML object>"
      ]
     },
     "metadata": {},
     "output_type": "display_data"
    },
    {
     "data": {
      "text/html": [
       " View run <strong style=\"color:#cdcd00\">polar-sweep-3</strong> at: <a href='https://wandb.ai/dylan-home/pnca-sweep-1/runs/3jhl909k' target=\"_blank\">https://wandb.ai/dylan-home/pnca-sweep-1/runs/3jhl909k</a><br/>Synced 5 W&B file(s), 0 media file(s), 0 artifact file(s) and 0 other file(s)"
      ],
      "text/plain": [
       "<IPython.core.display.HTML object>"
      ]
     },
     "metadata": {},
     "output_type": "display_data"
    },
    {
     "data": {
      "text/html": [
       "Find logs at: <code>./wandb/run-20250127_104135-3jhl909k/logs</code>"
      ],
      "text/plain": [
       "<IPython.core.display.HTML object>"
      ]
     },
     "metadata": {},
     "output_type": "display_data"
    },
    {
     "name": "stderr",
     "output_type": "stream",
     "text": [
      "\u001b[34m\u001b[1mwandb\u001b[0m: Agent Starting Run: cn9l849c with config:\n",
      "\u001b[34m\u001b[1mwandb\u001b[0m: \tcutoff_distance: 4.63044487154524\n",
      "\u001b[34m\u001b[1mwandb\u001b[0m: \tdropout: 0.6\n",
      "\u001b[34m\u001b[1mwandb\u001b[0m: \thidden_channels: 320\n",
      "\u001b[34m\u001b[1mwandb\u001b[0m: \tlearning_rate: 0.0005756087657559524\n",
      "\u001b[34m\u001b[1mwandb\u001b[0m: \tweight_decay: 0.0003671011296089639\n",
      "Failed to detect the name of this notebook, you can set it manually with the WANDB_NOTEBOOK_NAME environment variable to enable code saving.\n",
      "/usr/lib/python3/dist-packages/requests/__init__.py:87: RequestsDependencyWarning: urllib3 (2.2.3) or chardet (4.0.0) doesn't match a supported version!\n",
      "  warnings.warn(\"urllib3 ({}) or chardet ({}) doesn't match a supported \"\n"
     ]
    },
    {
     "data": {
      "text/html": [
       "wandb version 0.19.4 is available!  To upgrade, please run:\n",
       " $ pip install wandb --upgrade"
      ],
      "text/plain": [
       "<IPython.core.display.HTML object>"
      ]
     },
     "metadata": {},
     "output_type": "display_data"
    },
    {
     "data": {
      "text/html": [
       "Tracking run with wandb version 0.16.4"
      ],
      "text/plain": [
       "<IPython.core.display.HTML object>"
      ]
     },
     "metadata": {},
     "output_type": "display_data"
    },
    {
     "data": {
      "text/html": [
       "Run data is saved locally in <code>/mnt/alphafold-volume-1/dylan2/repos/tb-pnca-gnn/dd_pnca/wandb/run-20250127_104257-cn9l849c</code>"
      ],
      "text/plain": [
       "<IPython.core.display.HTML object>"
      ]
     },
     "metadata": {},
     "output_type": "display_data"
    },
    {
     "data": {
      "text/html": [
       "Syncing run <strong><a href='https://wandb.ai/dylan-home/pnca-sweep-1/runs/cn9l849c' target=\"_blank\">glowing-sweep-4</a></strong> to <a href='https://wandb.ai/dylan-home/pnca-sweep-1' target=\"_blank\">Weights & Biases</a> (<a href='https://wandb.me/run' target=\"_blank\">docs</a>)<br/>Sweep page: <a href='https://wandb.ai/dylan-home/pnca-sweep-1/sweeps/gt2h3xwl' target=\"_blank\">https://wandb.ai/dylan-home/pnca-sweep-1/sweeps/gt2h3xwl</a>"
      ],
      "text/plain": [
       "<IPython.core.display.HTML object>"
      ]
     },
     "metadata": {},
     "output_type": "display_data"
    },
    {
     "data": {
      "text/html": [
       " View project at <a href='https://wandb.ai/dylan-home/pnca-sweep-1' target=\"_blank\">https://wandb.ai/dylan-home/pnca-sweep-1</a>"
      ],
      "text/plain": [
       "<IPython.core.display.HTML object>"
      ]
     },
     "metadata": {},
     "output_type": "display_data"
    },
    {
     "data": {
      "text/html": [
       " View sweep at <a href='https://wandb.ai/dylan-home/pnca-sweep-1/sweeps/gt2h3xwl' target=\"_blank\">https://wandb.ai/dylan-home/pnca-sweep-1/sweeps/gt2h3xwl</a>"
      ],
      "text/plain": [
       "<IPython.core.display.HTML object>"
      ]
     },
     "metadata": {},
     "output_type": "display_data"
    },
    {
     "data": {
      "text/html": [
       " View run at <a href='https://wandb.ai/dylan-home/pnca-sweep-1/runs/cn9l849c' target=\"_blank\">https://wandb.ai/dylan-home/pnca-sweep-1/runs/cn9l849c</a>"
      ],
      "text/plain": [
       "<IPython.core.display.HTML object>"
      ]
     },
     "metadata": {},
     "output_type": "display_data"
    },
    {
     "name": "stdout",
     "output_type": "stream",
     "text": [
      "Using CUDA\n",
      "Early stopping enabled. Patience: 20. Min Delta: 0.\n",
      "Epoch: 010, Train Acc: 0.5267, Test Acc: 0.5093, Train Loss: 0.7512, Test Loss: 0.8150\n",
      "Epoch: 020, Train Acc: 0.7943, Test Acc: 0.7570, Train Loss: 0.4315, Test Loss: 0.5476\n",
      "Epoch: 030, Train Acc: 0.8174, Test Acc: 0.7587, Train Loss: 0.3944, Test Loss: 0.5933\n",
      "20 epochs passed without 0 test loss improvement. \n",
      "Early stopping triggered.\n"
     ]
    },
    {
     "data": {
      "text/html": [
       "<style>\n",
       "    table.wandb td:nth-child(1) { padding: 0 10px; text-align: left ; width: auto;} td:nth-child(2) {text-align: left ; width: 100%}\n",
       "    .wandb-row { display: flex; flex-direction: row; flex-wrap: wrap; justify-content: flex-start; width: 100% }\n",
       "    .wandb-col { display: flex; flex-direction: column; flex-basis: 100%; flex: 1; padding: 10px; }\n",
       "    </style>\n",
       "<div class=\"wandb-row\"><div class=\"wandb-col\"><h3>Run history:</h3><br/><table class=\"wandb\"><tr><td>Test Accuracy</td><td>▂▂▅▆▄▁▃▅▁▁▃▂█▅▂█▄▇▂█████▄▂▂▁▃█▂▂█▂▂▂</td></tr><tr><td>Test F1</td><td>▇▇▆▇▅▁▄▅▂▇▄▇█▅▇█▄▇▇▇████▄▇▃▁▃█▇▃▇▇▇▇</td></tr><tr><td>Test Loss</td><td>▁▁▁▁▁▁▁▁▂▁▁▂▁▁▁▁▁▁▂▁▁▁▁▁▂▂▂█▂▁▃▂▁▁▂▄</td></tr><tr><td>Test Sensitivity</td><td>██▄▅▃▁▂▃▁█▂█▆▃█▆▃▅█▅▆▆▅▆▃█▂▁▂▅█▂▅███</td></tr><tr><td>Test Specificity</td><td>▁▁▇▇█████▁█▁▇█▁▇██▁▇▆▇▇▇█▁███▇▁█▇▁▁▁</td></tr><tr><td>Train Accuracy</td><td>▂▂▄▅▂▁▂▄▁▂▂▂▇▄▂▇▃▆▂▇████▃▂▂▁▂█▂▂█▂▂▂</td></tr><tr><td>Train F1</td><td>▇▇▅▆▃▁▃▅▁▇▃▇▇▅▇█▄▇▇▇████▄▇▂▁▃█▇▃█▇▇▇</td></tr><tr><td>Train Loss</td><td>▁▁▁▁▁▂▁▁▂▁▁▂▁▁▁▁▂▁▂▁▁▁▁▁▂▂▂█▂▁▂▂▁▁▂▄</td></tr><tr><td>Train Sensitivity</td><td>██▃▄▂▁▂▃▁█▂█▆▃█▆▂▅█▅▇▆▆▆▂█▂▁▂▆█▂▆███</td></tr><tr><td>Train Specificity</td><td>▁▁█▇█████▁█▁▇█▁▇██▁█▇▇█▇█▁████▁██▁▁▁</td></tr></table><br/></div><div class=\"wandb-col\"><h3>Run summary:</h3><br/><table class=\"wandb\"><tr><td>Test Accuracy</td><td>0.511</td></tr><tr><td>Test F1</td><td>0.67637</td></tr><tr><td>Test Loss</td><td>5.707</td></tr><tr><td>Test Sensitivity</td><td>1.0</td></tr><tr><td>Test Specificity</td><td>0.0</td></tr><tr><td>Train Accuracy</td><td>0.52643</td></tr><tr><td>Train F1</td><td>0.68975</td></tr><tr><td>Train Loss</td><td>5.23801</td></tr><tr><td>Train Sensitivity</td><td>1.0</td></tr><tr><td>Train Specificity</td><td>0.0</td></tr></table><br/></div></div>"
      ],
      "text/plain": [
       "<IPython.core.display.HTML object>"
      ]
     },
     "metadata": {},
     "output_type": "display_data"
    },
    {
     "data": {
      "text/html": [
       " View run <strong style=\"color:#cdcd00\">glowing-sweep-4</strong> at: <a href='https://wandb.ai/dylan-home/pnca-sweep-1/runs/cn9l849c' target=\"_blank\">https://wandb.ai/dylan-home/pnca-sweep-1/runs/cn9l849c</a><br/>Synced 5 W&B file(s), 0 media file(s), 0 artifact file(s) and 0 other file(s)"
      ],
      "text/plain": [
       "<IPython.core.display.HTML object>"
      ]
     },
     "metadata": {},
     "output_type": "display_data"
    },
    {
     "data": {
      "text/html": [
       "Find logs at: <code>./wandb/run-20250127_104257-cn9l849c/logs</code>"
      ],
      "text/plain": [
       "<IPython.core.display.HTML object>"
      ]
     },
     "metadata": {},
     "output_type": "display_data"
    },
    {
     "name": "stderr",
     "output_type": "stream",
     "text": [
      "\u001b[34m\u001b[1mwandb\u001b[0m: Agent Starting Run: y9vyfn1z with config:\n",
      "\u001b[34m\u001b[1mwandb\u001b[0m: \tcutoff_distance: 6.8695116492614385\n",
      "\u001b[34m\u001b[1mwandb\u001b[0m: \tdropout: 0.5\n",
      "\u001b[34m\u001b[1mwandb\u001b[0m: \thidden_channels: 128\n",
      "\u001b[34m\u001b[1mwandb\u001b[0m: \tlearning_rate: 5.644588312003228e-07\n",
      "\u001b[34m\u001b[1mwandb\u001b[0m: \tweight_decay: 1.2314849091141369e-05\n",
      "Failed to detect the name of this notebook, you can set it manually with the WANDB_NOTEBOOK_NAME environment variable to enable code saving.\n",
      "/usr/lib/python3/dist-packages/requests/__init__.py:87: RequestsDependencyWarning: urllib3 (2.2.3) or chardet (4.0.0) doesn't match a supported version!\n",
      "  warnings.warn(\"urllib3 ({}) or chardet ({}) doesn't match a supported \"\n"
     ]
    },
    {
     "data": {
      "text/html": [
       "wandb version 0.19.4 is available!  To upgrade, please run:\n",
       " $ pip install wandb --upgrade"
      ],
      "text/plain": [
       "<IPython.core.display.HTML object>"
      ]
     },
     "metadata": {},
     "output_type": "display_data"
    },
    {
     "data": {
      "text/html": [
       "Tracking run with wandb version 0.16.4"
      ],
      "text/plain": [
       "<IPython.core.display.HTML object>"
      ]
     },
     "metadata": {},
     "output_type": "display_data"
    },
    {
     "data": {
      "text/html": [
       "Run data is saved locally in <code>/mnt/alphafold-volume-1/dylan2/repos/tb-pnca-gnn/dd_pnca/wandb/run-20250127_104436-y9vyfn1z</code>"
      ],
      "text/plain": [
       "<IPython.core.display.HTML object>"
      ]
     },
     "metadata": {},
     "output_type": "display_data"
    },
    {
     "data": {
      "text/html": [
       "Syncing run <strong><a href='https://wandb.ai/dylan-home/pnca-sweep-1/runs/y9vyfn1z' target=\"_blank\">warm-sweep-5</a></strong> to <a href='https://wandb.ai/dylan-home/pnca-sweep-1' target=\"_blank\">Weights & Biases</a> (<a href='https://wandb.me/run' target=\"_blank\">docs</a>)<br/>Sweep page: <a href='https://wandb.ai/dylan-home/pnca-sweep-1/sweeps/gt2h3xwl' target=\"_blank\">https://wandb.ai/dylan-home/pnca-sweep-1/sweeps/gt2h3xwl</a>"
      ],
      "text/plain": [
       "<IPython.core.display.HTML object>"
      ]
     },
     "metadata": {},
     "output_type": "display_data"
    },
    {
     "data": {
      "text/html": [
       " View project at <a href='https://wandb.ai/dylan-home/pnca-sweep-1' target=\"_blank\">https://wandb.ai/dylan-home/pnca-sweep-1</a>"
      ],
      "text/plain": [
       "<IPython.core.display.HTML object>"
      ]
     },
     "metadata": {},
     "output_type": "display_data"
    },
    {
     "data": {
      "text/html": [
       " View sweep at <a href='https://wandb.ai/dylan-home/pnca-sweep-1/sweeps/gt2h3xwl' target=\"_blank\">https://wandb.ai/dylan-home/pnca-sweep-1/sweeps/gt2h3xwl</a>"
      ],
      "text/plain": [
       "<IPython.core.display.HTML object>"
      ]
     },
     "metadata": {},
     "output_type": "display_data"
    },
    {
     "data": {
      "text/html": [
       " View run at <a href='https://wandb.ai/dylan-home/pnca-sweep-1/runs/y9vyfn1z' target=\"_blank\">https://wandb.ai/dylan-home/pnca-sweep-1/runs/y9vyfn1z</a>"
      ],
      "text/plain": [
       "<IPython.core.display.HTML object>"
      ]
     },
     "metadata": {},
     "output_type": "display_data"
    },
    {
     "name": "stdout",
     "output_type": "stream",
     "text": [
      "Using CUDA\n",
      "Early stopping enabled. Patience: 20. Min Delta: 0.\n",
      "Epoch: 010, Train Acc: 0.5264, Test Acc: 0.5110, Train Loss: 0.6957, Test Loss: 0.6998\n",
      "Epoch: 020, Train Acc: 0.5259, Test Acc: 0.5103, Train Loss: 0.6941, Test Loss: 0.6971\n",
      "Epoch: 030, Train Acc: 0.5256, Test Acc: 0.5103, Train Loss: 0.6940, Test Loss: 0.6965\n",
      "Epoch: 040, Train Acc: 0.5256, Test Acc: 0.5103, Train Loss: 0.6936, Test Loss: 0.6959\n",
      "Epoch: 050, Train Acc: 0.5260, Test Acc: 0.5103, Train Loss: 0.6933, Test Loss: 0.6956\n",
      "Epoch: 060, Train Acc: 0.5260, Test Acc: 0.5103, Train Loss: 0.6927, Test Loss: 0.6952\n",
      "Epoch: 070, Train Acc: 0.5263, Test Acc: 0.5110, Train Loss: 0.6925, Test Loss: 0.6950\n",
      "Epoch: 080, Train Acc: 0.5263, Test Acc: 0.5110, Train Loss: 0.6924, Test Loss: 0.6946\n",
      "Epoch: 090, Train Acc: 0.5263, Test Acc: 0.5110, Train Loss: 0.6920, Test Loss: 0.6942\n",
      "Epoch: 100, Train Acc: 0.5264, Test Acc: 0.5110, Train Loss: 0.6920, Test Loss: 0.6937\n",
      "Epoch: 110, Train Acc: 0.5263, Test Acc: 0.5110, Train Loss: 0.6916, Test Loss: 0.6933\n",
      "Epoch: 120, Train Acc: 0.5263, Test Acc: 0.5110, Train Loss: 0.6912, Test Loss: 0.6930\n",
      "Epoch: 130, Train Acc: 0.5264, Test Acc: 0.5110, Train Loss: 0.6911, Test Loss: 0.6927\n",
      "Epoch: 140, Train Acc: 0.5264, Test Acc: 0.5110, Train Loss: 0.6910, Test Loss: 0.6923\n",
      "Epoch: 150, Train Acc: 0.5263, Test Acc: 0.5107, Train Loss: 0.6904, Test Loss: 0.6919\n",
      "Epoch: 160, Train Acc: 0.5264, Test Acc: 0.5110, Train Loss: 0.6900, Test Loss: 0.6917\n",
      "Epoch: 170, Train Acc: 0.5264, Test Acc: 0.5107, Train Loss: 0.6901, Test Loss: 0.6912\n",
      "Epoch: 180, Train Acc: 0.5264, Test Acc: 0.5107, Train Loss: 0.6899, Test Loss: 0.6908\n",
      "Epoch: 190, Train Acc: 0.5263, Test Acc: 0.5107, Train Loss: 0.6896, Test Loss: 0.6904\n",
      "Epoch: 200, Train Acc: 0.5264, Test Acc: 0.5107, Train Loss: 0.6891, Test Loss: 0.6902\n",
      "Epoch: 210, Train Acc: 0.5264, Test Acc: 0.5107, Train Loss: 0.6892, Test Loss: 0.6898\n",
      "Epoch: 220, Train Acc: 0.5264, Test Acc: 0.5107, Train Loss: 0.6886, Test Loss: 0.6896\n",
      "Epoch: 230, Train Acc: 0.5264, Test Acc: 0.5103, Train Loss: 0.6885, Test Loss: 0.6893\n",
      "Epoch: 240, Train Acc: 0.5264, Test Acc: 0.5103, Train Loss: 0.6881, Test Loss: 0.6889\n",
      "Epoch: 250, Train Acc: 0.5264, Test Acc: 0.5103, Train Loss: 0.6878, Test Loss: 0.6887\n",
      "Epoch: 260, Train Acc: 0.5266, Test Acc: 0.5100, Train Loss: 0.6878, Test Loss: 0.6882\n",
      "Epoch: 270, Train Acc: 0.5266, Test Acc: 0.5100, Train Loss: 0.6874, Test Loss: 0.6880\n",
      "Epoch: 280, Train Acc: 0.5264, Test Acc: 0.5100, Train Loss: 0.6873, Test Loss: 0.6876\n",
      "Epoch: 290, Train Acc: 0.5266, Test Acc: 0.5100, Train Loss: 0.6873, Test Loss: 0.6874\n",
      "Epoch: 300, Train Acc: 0.5266, Test Acc: 0.5100, Train Loss: 0.6868, Test Loss: 0.6871\n",
      "Epoch: 310, Train Acc: 0.5260, Test Acc: 0.5100, Train Loss: 0.6866, Test Loss: 0.6867\n",
      "Epoch: 320, Train Acc: 0.5263, Test Acc: 0.5100, Train Loss: 0.6865, Test Loss: 0.6865\n",
      "Epoch: 330, Train Acc: 0.5260, Test Acc: 0.5100, Train Loss: 0.6863, Test Loss: 0.6862\n",
      "Epoch: 340, Train Acc: 0.5259, Test Acc: 0.5093, Train Loss: 0.6859, Test Loss: 0.6859\n",
      "Epoch: 350, Train Acc: 0.5260, Test Acc: 0.5093, Train Loss: 0.6856, Test Loss: 0.6856\n",
      "Epoch: 360, Train Acc: 0.5259, Test Acc: 0.5093, Train Loss: 0.6852, Test Loss: 0.6853\n",
      "Epoch: 370, Train Acc: 0.5260, Test Acc: 0.5097, Train Loss: 0.6850, Test Loss: 0.6851\n",
      "Epoch: 380, Train Acc: 0.5251, Test Acc: 0.5080, Train Loss: 0.6851, Test Loss: 0.6847\n",
      "Epoch: 390, Train Acc: 0.5253, Test Acc: 0.5077, Train Loss: 0.6847, Test Loss: 0.6844\n",
      "Epoch: 400, Train Acc: 0.5257, Test Acc: 0.5077, Train Loss: 0.6844, Test Loss: 0.6841\n",
      "Epoch: 410, Train Acc: 0.5257, Test Acc: 0.5080, Train Loss: 0.6842, Test Loss: 0.6838\n",
      "Epoch: 420, Train Acc: 0.5249, Test Acc: 0.5067, Train Loss: 0.6839, Test Loss: 0.6834\n",
      "Epoch: 430, Train Acc: 0.5240, Test Acc: 0.5060, Train Loss: 0.6838, Test Loss: 0.6831\n",
      "Epoch: 440, Train Acc: 0.5243, Test Acc: 0.5067, Train Loss: 0.6835, Test Loss: 0.6829\n",
      "Epoch: 450, Train Acc: 0.5237, Test Acc: 0.5083, Train Loss: 0.6829, Test Loss: 0.6825\n",
      "Epoch: 460, Train Acc: 0.5237, Test Acc: 0.5087, Train Loss: 0.6830, Test Loss: 0.6821\n",
      "Epoch: 470, Train Acc: 0.5227, Test Acc: 0.5093, Train Loss: 0.6830, Test Loss: 0.6818\n",
      "Epoch: 480, Train Acc: 0.5236, Test Acc: 0.5087, Train Loss: 0.6826, Test Loss: 0.6816\n",
      "Epoch: 490, Train Acc: 0.5230, Test Acc: 0.5093, Train Loss: 0.6821, Test Loss: 0.6813\n",
      "Epoch: 500, Train Acc: 0.5229, Test Acc: 0.5093, Train Loss: 0.6822, Test Loss: 0.6810\n",
      "Epoch: 510, Train Acc: 0.5226, Test Acc: 0.5090, Train Loss: 0.6818, Test Loss: 0.6807\n",
      "Epoch: 520, Train Acc: 0.5220, Test Acc: 0.5093, Train Loss: 0.6815, Test Loss: 0.6804\n",
      "Epoch: 530, Train Acc: 0.5206, Test Acc: 0.5087, Train Loss: 0.6813, Test Loss: 0.6801\n",
      "Epoch: 540, Train Acc: 0.5217, Test Acc: 0.5087, Train Loss: 0.6812, Test Loss: 0.6799\n",
      "Epoch: 550, Train Acc: 0.5209, Test Acc: 0.5083, Train Loss: 0.6811, Test Loss: 0.6795\n",
      "Epoch: 560, Train Acc: 0.5189, Test Acc: 0.5067, Train Loss: 0.6805, Test Loss: 0.6792\n",
      "Epoch: 570, Train Acc: 0.5197, Test Acc: 0.5080, Train Loss: 0.6802, Test Loss: 0.6789\n",
      "Epoch: 580, Train Acc: 0.5181, Test Acc: 0.5050, Train Loss: 0.6799, Test Loss: 0.6786\n",
      "Epoch: 590, Train Acc: 0.5184, Test Acc: 0.5053, Train Loss: 0.6798, Test Loss: 0.6783\n",
      "Epoch: 600, Train Acc: 0.5171, Test Acc: 0.5057, Train Loss: 0.6794, Test Loss: 0.6780\n",
      "Epoch: 610, Train Acc: 0.5156, Test Acc: 0.5050, Train Loss: 0.6794, Test Loss: 0.6777\n",
      "Epoch: 620, Train Acc: 0.5141, Test Acc: 0.5037, Train Loss: 0.6792, Test Loss: 0.6773\n",
      "Epoch: 630, Train Acc: 0.5106, Test Acc: 0.4950, Train Loss: 0.6789, Test Loss: 0.6769\n",
      "Epoch: 640, Train Acc: 0.5140, Test Acc: 0.5007, Train Loss: 0.6786, Test Loss: 0.6767\n",
      "Epoch: 650, Train Acc: 0.5121, Test Acc: 0.5000, Train Loss: 0.6782, Test Loss: 0.6763\n",
      "Epoch: 660, Train Acc: 0.5136, Test Acc: 0.5003, Train Loss: 0.6781, Test Loss: 0.6761\n",
      "Epoch: 670, Train Acc: 0.5123, Test Acc: 0.5003, Train Loss: 0.6779, Test Loss: 0.6758\n",
      "Epoch: 680, Train Acc: 0.5097, Test Acc: 0.4923, Train Loss: 0.6774, Test Loss: 0.6754\n",
      "Epoch: 690, Train Acc: 0.5103, Test Acc: 0.4910, Train Loss: 0.6771, Test Loss: 0.6750\n",
      "Epoch: 700, Train Acc: 0.5100, Test Acc: 0.4920, Train Loss: 0.6772, Test Loss: 0.6748\n",
      "Epoch: 710, Train Acc: 0.5099, Test Acc: 0.4943, Train Loss: 0.6767, Test Loss: 0.6743\n",
      "Epoch: 720, Train Acc: 0.5096, Test Acc: 0.4973, Train Loss: 0.6762, Test Loss: 0.6740\n",
      "Epoch: 730, Train Acc: 0.5094, Test Acc: 0.4970, Train Loss: 0.6763, Test Loss: 0.6737\n",
      "Epoch: 740, Train Acc: 0.5103, Test Acc: 0.4973, Train Loss: 0.6757, Test Loss: 0.6735\n",
      "Epoch: 750, Train Acc: 0.5099, Test Acc: 0.4967, Train Loss: 0.6754, Test Loss: 0.6731\n",
      "Epoch: 760, Train Acc: 0.5080, Test Acc: 0.4903, Train Loss: 0.6752, Test Loss: 0.6727\n",
      "Epoch: 770, Train Acc: 0.5086, Test Acc: 0.4880, Train Loss: 0.6747, Test Loss: 0.6723\n",
      "Epoch: 780, Train Acc: 0.5094, Test Acc: 0.4960, Train Loss: 0.6743, Test Loss: 0.6722\n",
      "Epoch: 790, Train Acc: 0.5086, Test Acc: 0.4867, Train Loss: 0.6744, Test Loss: 0.6717\n",
      "Epoch: 800, Train Acc: 0.5086, Test Acc: 0.4873, Train Loss: 0.6742, Test Loss: 0.6714\n",
      "Epoch: 810, Train Acc: 0.5094, Test Acc: 0.4947, Train Loss: 0.6737, Test Loss: 0.6712\n",
      "Epoch: 820, Train Acc: 0.5081, Test Acc: 0.4880, Train Loss: 0.6735, Test Loss: 0.6708\n",
      "Epoch: 830, Train Acc: 0.5099, Test Acc: 0.4883, Train Loss: 0.6732, Test Loss: 0.6705\n",
      "Epoch: 840, Train Acc: 0.5080, Test Acc: 0.4883, Train Loss: 0.6729, Test Loss: 0.6702\n",
      "Epoch: 850, Train Acc: 0.5134, Test Acc: 0.4860, Train Loss: 0.6727, Test Loss: 0.6698\n",
      "Epoch: 860, Train Acc: 0.5094, Test Acc: 0.4863, Train Loss: 0.6727, Test Loss: 0.6696\n",
      "Epoch: 870, Train Acc: 0.5147, Test Acc: 0.4897, Train Loss: 0.6720, Test Loss: 0.6692\n",
      "Epoch: 880, Train Acc: 0.5130, Test Acc: 0.4863, Train Loss: 0.6718, Test Loss: 0.6690\n",
      "Epoch: 890, Train Acc: 0.5144, Test Acc: 0.4890, Train Loss: 0.6716, Test Loss: 0.6687\n",
      "Epoch: 900, Train Acc: 0.5144, Test Acc: 0.4903, Train Loss: 0.6715, Test Loss: 0.6684\n",
      "Epoch: 910, Train Acc: 0.5144, Test Acc: 0.4873, Train Loss: 0.6709, Test Loss: 0.6681\n",
      "Epoch: 920, Train Acc: 0.5164, Test Acc: 0.4903, Train Loss: 0.6710, Test Loss: 0.6676\n",
      "Epoch: 930, Train Acc: 0.5173, Test Acc: 0.4890, Train Loss: 0.6709, Test Loss: 0.6674\n",
      "Epoch: 940, Train Acc: 0.5180, Test Acc: 0.4893, Train Loss: 0.6701, Test Loss: 0.6671\n",
      "Epoch: 950, Train Acc: 0.5159, Test Acc: 0.4920, Train Loss: 0.6702, Test Loss: 0.6667\n",
      "Epoch: 960, Train Acc: 0.5159, Test Acc: 0.4910, Train Loss: 0.6697, Test Loss: 0.6663\n",
      "Epoch: 970, Train Acc: 0.5147, Test Acc: 0.4900, Train Loss: 0.6694, Test Loss: 0.6660\n",
      "Epoch: 980, Train Acc: 0.5160, Test Acc: 0.4910, Train Loss: 0.6689, Test Loss: 0.6657\n",
      "Epoch: 990, Train Acc: 0.5173, Test Acc: 0.4923, Train Loss: 0.6691, Test Loss: 0.6656\n",
      "Epoch: 1000, Train Acc: 0.5153, Test Acc: 0.4937, Train Loss: 0.6687, Test Loss: 0.6650\n"
     ]
    },
    {
     "data": {
      "text/html": [
       "<style>\n",
       "    table.wandb td:nth-child(1) { padding: 0 10px; text-align: left ; width: auto;} td:nth-child(2) {text-align: left ; width: 100%}\n",
       "    .wandb-row { display: flex; flex-direction: row; flex-wrap: wrap; justify-content: flex-start; width: 100% }\n",
       "    .wandb-col { display: flex; flex-direction: column; flex-basis: 100%; flex: 1; padding: 10px; }\n",
       "    </style>\n",
       "<div class=\"wandb-row\"><div class=\"wandb-col\"><h3>Run history:</h3><br/><table class=\"wandb\"><tr><td>Test Accuracy</td><td>███████████████▇▇▇▇▇█▇▇▆▆▅▅▂▄▁▄▁▁▁▂▂▂▂▂▂</td></tr><tr><td>Test F1</td><td>███████████████▇▇▇▇▇▇▇▇▇▆▆▆▅▅▃▄▃▃▃▂▂▂▂▁▂</td></tr><tr><td>Test Loss</td><td>█▇▇▇▇▆▆▆▆▆▆▅▅▅▅▅▅▄▄▄▄▄▄▃▃▃▃▃▃▃▂▂▂▂▂▂▁▁▁▁</td></tr><tr><td>Test Sensitivity</td><td>██████████████████▇▇▇▇▇▇▆▆▆▅▅▄▄▃▃▃▃▃▂▂▁▂</td></tr><tr><td>Test Specificity</td><td>▁▁▁▁▁▁▁▁▁▁▁▁▁▁▁▁▁▁▂▂▂▂▂▂▂▂▂▃▄▄▄▅▅▅▆▆▇▆█▇</td></tr><tr><td>Train Accuracy</td><td>█████████████████▇▇▇▆▆▅▄▅▃▃▂▂▁▁▁▂▁▃▄▄▄▃▅</td></tr><tr><td>Train F1</td><td>██████████████████▇▇▇▇▆▆▆▅▅▄▄▃▃▃▃▃▂▃▂▃▁▂</td></tr><tr><td>Train Loss</td><td>█▇▇▇▇▇▆▆▆▆▆▆▅▅▅▅▅▅▅▄▄▄▄▄▄▃▃▃▃▃▃▂▂▂▂▂▂▁▁▁</td></tr><tr><td>Train Sensitivity</td><td>██████████████████▇▇▇▇▇▆▆▆▆▅▄▄▄▃▄▃▃▃▂▃▁▂</td></tr><tr><td>Train Specificity</td><td>▁▁▁▁▁▁▁▁▁▁▁▁▁▁▁▁▁▁▁▁▁▂▂▂▂▂▂▃▃▄▄▅▄▅▆▆▇▆█▇</td></tr></table><br/></div><div class=\"wandb-col\"><h3>Run summary:</h3><br/><table class=\"wandb\"><tr><td>Test Accuracy</td><td>0.49367</td></tr><tr><td>Test F1</td><td>0.6254</td></tr><tr><td>Test Loss</td><td>0.66502</td></tr><tr><td>Test Sensitivity</td><td>0.82714</td></tr><tr><td>Test Specificity</td><td>0.14519</td></tr><tr><td>Train Accuracy</td><td>0.51529</td></tr><tr><td>Train F1</td><td>0.64916</td></tr><tr><td>Train Loss</td><td>0.6687</td></tr><tr><td>Train Sensitivity</td><td>0.85183</td></tr><tr><td>Train Specificity</td><td>0.14118</td></tr></table><br/></div></div>"
      ],
      "text/plain": [
       "<IPython.core.display.HTML object>"
      ]
     },
     "metadata": {},
     "output_type": "display_data"
    },
    {
     "data": {
      "text/html": [
       " View run <strong style=\"color:#cdcd00\">warm-sweep-5</strong> at: <a href='https://wandb.ai/dylan-home/pnca-sweep-1/runs/y9vyfn1z' target=\"_blank\">https://wandb.ai/dylan-home/pnca-sweep-1/runs/y9vyfn1z</a><br/>Synced 5 W&B file(s), 0 media file(s), 0 artifact file(s) and 0 other file(s)"
      ],
      "text/plain": [
       "<IPython.core.display.HTML object>"
      ]
     },
     "metadata": {},
     "output_type": "display_data"
    },
    {
     "data": {
      "text/html": [
       "Find logs at: <code>./wandb/run-20250127_104436-y9vyfn1z/logs</code>"
      ],
      "text/plain": [
       "<IPython.core.display.HTML object>"
      ]
     },
     "metadata": {},
     "output_type": "display_data"
    },
    {
     "name": "stderr",
     "output_type": "stream",
     "text": [
      "\u001b[34m\u001b[1mwandb\u001b[0m: Agent Starting Run: jjhv41xn with config:\n",
      "\u001b[34m\u001b[1mwandb\u001b[0m: \tcutoff_distance: 7.622768889457911\n",
      "\u001b[34m\u001b[1mwandb\u001b[0m: \tdropout: 0.8\n",
      "\u001b[34m\u001b[1mwandb\u001b[0m: \thidden_channels: 192\n",
      "\u001b[34m\u001b[1mwandb\u001b[0m: \tlearning_rate: 0.0001055910055383134\n",
      "\u001b[34m\u001b[1mwandb\u001b[0m: \tweight_decay: 0.0008679476540538321\n",
      "Failed to detect the name of this notebook, you can set it manually with the WANDB_NOTEBOOK_NAME environment variable to enable code saving.\n",
      "/usr/lib/python3/dist-packages/requests/__init__.py:87: RequestsDependencyWarning: urllib3 (2.2.3) or chardet (4.0.0) doesn't match a supported version!\n",
      "  warnings.warn(\"urllib3 ({}) or chardet ({}) doesn't match a supported \"\n"
     ]
    },
    {
     "data": {
      "text/html": [
       "wandb version 0.19.4 is available!  To upgrade, please run:\n",
       " $ pip install wandb --upgrade"
      ],
      "text/plain": [
       "<IPython.core.display.HTML object>"
      ]
     },
     "metadata": {},
     "output_type": "display_data"
    },
    {
     "data": {
      "text/html": [
       "Tracking run with wandb version 0.16.4"
      ],
      "text/plain": [
       "<IPython.core.display.HTML object>"
      ]
     },
     "metadata": {},
     "output_type": "display_data"
    },
    {
     "data": {
      "text/html": [
       "Run data is saved locally in <code>/mnt/alphafold-volume-1/dylan2/repos/tb-pnca-gnn/dd_pnca/wandb/run-20250127_111400-jjhv41xn</code>"
      ],
      "text/plain": [
       "<IPython.core.display.HTML object>"
      ]
     },
     "metadata": {},
     "output_type": "display_data"
    },
    {
     "data": {
      "text/html": [
       "Syncing run <strong><a href='https://wandb.ai/dylan-home/pnca-sweep-1/runs/jjhv41xn' target=\"_blank\">soft-sweep-6</a></strong> to <a href='https://wandb.ai/dylan-home/pnca-sweep-1' target=\"_blank\">Weights & Biases</a> (<a href='https://wandb.me/run' target=\"_blank\">docs</a>)<br/>Sweep page: <a href='https://wandb.ai/dylan-home/pnca-sweep-1/sweeps/gt2h3xwl' target=\"_blank\">https://wandb.ai/dylan-home/pnca-sweep-1/sweeps/gt2h3xwl</a>"
      ],
      "text/plain": [
       "<IPython.core.display.HTML object>"
      ]
     },
     "metadata": {},
     "output_type": "display_data"
    },
    {
     "data": {
      "text/html": [
       " View project at <a href='https://wandb.ai/dylan-home/pnca-sweep-1' target=\"_blank\">https://wandb.ai/dylan-home/pnca-sweep-1</a>"
      ],
      "text/plain": [
       "<IPython.core.display.HTML object>"
      ]
     },
     "metadata": {},
     "output_type": "display_data"
    },
    {
     "data": {
      "text/html": [
       " View sweep at <a href='https://wandb.ai/dylan-home/pnca-sweep-1/sweeps/gt2h3xwl' target=\"_blank\">https://wandb.ai/dylan-home/pnca-sweep-1/sweeps/gt2h3xwl</a>"
      ],
      "text/plain": [
       "<IPython.core.display.HTML object>"
      ]
     },
     "metadata": {},
     "output_type": "display_data"
    },
    {
     "data": {
      "text/html": [
       " View run at <a href='https://wandb.ai/dylan-home/pnca-sweep-1/runs/jjhv41xn' target=\"_blank\">https://wandb.ai/dylan-home/pnca-sweep-1/runs/jjhv41xn</a>"
      ],
      "text/plain": [
       "<IPython.core.display.HTML object>"
      ]
     },
     "metadata": {},
     "output_type": "display_data"
    },
    {
     "name": "stdout",
     "output_type": "stream",
     "text": [
      "Using CUDA\n",
      "Early stopping enabled. Patience: 20. Min Delta: 0.\n",
      "Epoch: 010, Train Acc: 0.7257, Test Acc: 0.6913, Train Loss: 0.6570, Test Loss: 0.6523\n",
      "Epoch: 020, Train Acc: 0.7431, Test Acc: 0.7130, Train Loss: 0.5949, Test Loss: 0.5983\n",
      "Epoch: 030, Train Acc: 0.7529, Test Acc: 0.7377, Train Loss: 0.5130, Test Loss: 0.5362\n",
      "Epoch: 040, Train Acc: 0.5329, Test Acc: 0.5160, Train Loss: 0.6502, Test Loss: 0.7458\n",
      "Epoch: 050, Train Acc: 0.6873, Test Acc: 0.6847, Train Loss: 0.6865, Test Loss: 0.7372\n",
      "Epoch: 060, Train Acc: 0.8277, Test Acc: 0.7827, Train Loss: 0.3693, Test Loss: 0.4934\n",
      "20 epochs passed without 0 test loss improvement. \n",
      "Early stopping triggered.\n"
     ]
    },
    {
     "data": {
      "text/html": [
       "<style>\n",
       "    table.wandb td:nth-child(1) { padding: 0 10px; text-align: left ; width: auto;} td:nth-child(2) {text-align: left ; width: 100%}\n",
       "    .wandb-row { display: flex; flex-direction: row; flex-wrap: wrap; justify-content: flex-start; width: 100% }\n",
       "    .wandb-col { display: flex; flex-direction: column; flex-basis: 100%; flex: 1; padding: 10px; }\n",
       "    </style>\n",
       "<div class=\"wandb-row\"><div class=\"wandb-col\"><h3>Run history:</h3><br/><table class=\"wandb\"><tr><td>Test Accuracy</td><td>▁▁▁▁▅▆▆▁▅▆▅▆▅▇▁▇▁▇▇▇▆▄▇▆▇▇▅▇█▁▇█▇▆█▅▁▄██</td></tr><tr><td>Test F1</td><td>▆▆▆▆▅▅▇▆▃▆▅▆▃▆▆▆▆▇▇█▅▁▇▅▇▇▂██▆█▇█▆█▃▆▂█▇</td></tr><tr><td>Test Loss</td><td>▂▂▂▃▂▂▂▂▂▂▂▂▂▂▂▁▂▁▁▂▂▄▁▂▁▁▄▂▁█▁▁▂▂▁▄█▅▁▁</td></tr><tr><td>Test Sensitivity</td><td>████▃▃▅█▂▄▃▅▂▄▇▄█▄▄▇▃▁▅▃▄▄▂▇▅█▆▄▇▃▅▂█▂▆▅</td></tr><tr><td>Test Specificity</td><td>▁▁▁▁▇▇▆▁█▇█▇█▇▂▇▁▇▇▅██▇█▇▇█▅▇▁▆▇▅█▇█▁█▇▇</td></tr><tr><td>Train Accuracy</td><td>▁▁▁▁▄▄▆▁▃▅▄▆▃▆▂▆▂▆▆▆▅▃▇▅▆▇▄▇▇▁█▇▇▆█▄▁▄█▇</td></tr><tr><td>Train F1</td><td>▆▅▆▆▄▄▆▆▂▆▄▆▂▆▆▆▆▆▆▇▅▁▇▅▆▇▃█▇▆█▇█▅█▃▆▃█▇</td></tr><tr><td>Train Loss</td><td>▄▃▃▄▃▃▃▃▃▃▃▃▃▃▃▂▃▂▂▂▃▅▂▃▂▂▅▂▁█▁▂▂▃▁▅█▆▁▁</td></tr><tr><td>Train Sensitivity</td><td>████▃▃▅█▂▄▃▅▂▄▇▄█▄▄▇▃▁▅▃▄▅▂█▅█▇▅█▄▆▂█▂▆▅</td></tr><tr><td>Train Specificity</td><td>▁▁▁▁█▇▆▁█▇█▇█▇▂▇▁▇▇▅██▇████▅▇▁▇█▅█▇█▁█▇█</td></tr></table><br/></div><div class=\"wandb-col\"><h3>Run summary:</h3><br/><table class=\"wandb\"><tr><td>Test Accuracy</td><td>0.769</td></tr><tr><td>Test F1</td><td>0.73918</td></tr><tr><td>Test Loss</td><td>0.53546</td></tr><tr><td>Test Sensitivity</td><td>0.64057</td></tr><tr><td>Test Specificity</td><td>0.9032</td></tr><tr><td>Train Accuracy</td><td>0.80671</td></tr><tr><td>Train F1</td><td>0.78139</td></tr><tr><td>Train Loss</td><td>0.40045</td></tr><tr><td>Train Sensitivity</td><td>0.65617</td></tr><tr><td>Train Specificity</td><td>0.97406</td></tr></table><br/></div></div>"
      ],
      "text/plain": [
       "<IPython.core.display.HTML object>"
      ]
     },
     "metadata": {},
     "output_type": "display_data"
    },
    {
     "data": {
      "text/html": [
       " View run <strong style=\"color:#cdcd00\">soft-sweep-6</strong> at: <a href='https://wandb.ai/dylan-home/pnca-sweep-1/runs/jjhv41xn' target=\"_blank\">https://wandb.ai/dylan-home/pnca-sweep-1/runs/jjhv41xn</a><br/>Synced 5 W&B file(s), 0 media file(s), 0 artifact file(s) and 0 other file(s)"
      ],
      "text/plain": [
       "<IPython.core.display.HTML object>"
      ]
     },
     "metadata": {},
     "output_type": "display_data"
    },
    {
     "data": {
      "text/html": [
       "Find logs at: <code>./wandb/run-20250127_111400-jjhv41xn/logs</code>"
      ],
      "text/plain": [
       "<IPython.core.display.HTML object>"
      ]
     },
     "metadata": {},
     "output_type": "display_data"
    },
    {
     "name": "stderr",
     "output_type": "stream",
     "text": [
      "\u001b[34m\u001b[1mwandb\u001b[0m: Agent Starting Run: fo5der74 with config:\n",
      "\u001b[34m\u001b[1mwandb\u001b[0m: \tcutoff_distance: 8.585962176373366\n",
      "\u001b[34m\u001b[1mwandb\u001b[0m: \tdropout: 0.4\n",
      "\u001b[34m\u001b[1mwandb\u001b[0m: \thidden_channels: 320\n",
      "\u001b[34m\u001b[1mwandb\u001b[0m: \tlearning_rate: 0.0008890374326597925\n",
      "\u001b[34m\u001b[1mwandb\u001b[0m: \tweight_decay: 0.00018173926844206425\n",
      "Failed to detect the name of this notebook, you can set it manually with the WANDB_NOTEBOOK_NAME environment variable to enable code saving.\n",
      "/usr/lib/python3/dist-packages/requests/__init__.py:87: RequestsDependencyWarning: urllib3 (2.2.3) or chardet (4.0.0) doesn't match a supported version!\n",
      "  warnings.warn(\"urllib3 ({}) or chardet ({}) doesn't match a supported \"\n"
     ]
    },
    {
     "data": {
      "text/html": [
       "wandb version 0.19.4 is available!  To upgrade, please run:\n",
       " $ pip install wandb --upgrade"
      ],
      "text/plain": [
       "<IPython.core.display.HTML object>"
      ]
     },
     "metadata": {},
     "output_type": "display_data"
    },
    {
     "data": {
      "text/html": [
       "Tracking run with wandb version 0.16.4"
      ],
      "text/plain": [
       "<IPython.core.display.HTML object>"
      ]
     },
     "metadata": {},
     "output_type": "display_data"
    },
    {
     "data": {
      "text/html": [
       "Run data is saved locally in <code>/mnt/alphafold-volume-1/dylan2/repos/tb-pnca-gnn/dd_pnca/wandb/run-20250127_111624-fo5der74</code>"
      ],
      "text/plain": [
       "<IPython.core.display.HTML object>"
      ]
     },
     "metadata": {},
     "output_type": "display_data"
    },
    {
     "data": {
      "text/html": [
       "Syncing run <strong><a href='https://wandb.ai/dylan-home/pnca-sweep-1/runs/fo5der74' target=\"_blank\">good-sweep-7</a></strong> to <a href='https://wandb.ai/dylan-home/pnca-sweep-1' target=\"_blank\">Weights & Biases</a> (<a href='https://wandb.me/run' target=\"_blank\">docs</a>)<br/>Sweep page: <a href='https://wandb.ai/dylan-home/pnca-sweep-1/sweeps/gt2h3xwl' target=\"_blank\">https://wandb.ai/dylan-home/pnca-sweep-1/sweeps/gt2h3xwl</a>"
      ],
      "text/plain": [
       "<IPython.core.display.HTML object>"
      ]
     },
     "metadata": {},
     "output_type": "display_data"
    },
    {
     "data": {
      "text/html": [
       " View project at <a href='https://wandb.ai/dylan-home/pnca-sweep-1' target=\"_blank\">https://wandb.ai/dylan-home/pnca-sweep-1</a>"
      ],
      "text/plain": [
       "<IPython.core.display.HTML object>"
      ]
     },
     "metadata": {},
     "output_type": "display_data"
    },
    {
     "data": {
      "text/html": [
       " View sweep at <a href='https://wandb.ai/dylan-home/pnca-sweep-1/sweeps/gt2h3xwl' target=\"_blank\">https://wandb.ai/dylan-home/pnca-sweep-1/sweeps/gt2h3xwl</a>"
      ],
      "text/plain": [
       "<IPython.core.display.HTML object>"
      ]
     },
     "metadata": {},
     "output_type": "display_data"
    },
    {
     "data": {
      "text/html": [
       " View run at <a href='https://wandb.ai/dylan-home/pnca-sweep-1/runs/fo5der74' target=\"_blank\">https://wandb.ai/dylan-home/pnca-sweep-1/runs/fo5der74</a>"
      ],
      "text/plain": [
       "<IPython.core.display.HTML object>"
      ]
     },
     "metadata": {},
     "output_type": "display_data"
    },
    {
     "name": "stdout",
     "output_type": "stream",
     "text": [
      "Using CUDA\n",
      "Early stopping enabled. Patience: 20. Min Delta: 0.\n",
      "Epoch: 010, Train Acc: 0.6397, Test Acc: 0.6517, Train Loss: 0.6450, Test Loss: 0.6426\n",
      "Epoch: 020, Train Acc: 0.4897, Test Acc: 0.5093, Train Loss: 4.0313, Test Loss: 3.9153\n",
      "Epoch: 030, Train Acc: 0.5264, Test Acc: 0.5110, Train Loss: 4.1148, Test Loss: 4.5595\n",
      "20 epochs passed without 0 test loss improvement. \n",
      "Early stopping triggered.\n"
     ]
    },
    {
     "data": {
      "text/html": [
       "<style>\n",
       "    table.wandb td:nth-child(1) { padding: 0 10px; text-align: left ; width: auto;} td:nth-child(2) {text-align: left ; width: 100%}\n",
       "    .wandb-row { display: flex; flex-direction: row; flex-wrap: wrap; justify-content: flex-start; width: 100% }\n",
       "    .wandb-col { display: flex; flex-direction: column; flex-basis: 100%; flex: 1; padding: 10px; }\n",
       "    </style>\n",
       "<div class=\"wandb-row\"><div class=\"wandb-col\"><h3>Run history:</h3><br/><table class=\"wandb\"><tr><td>Test Accuracy</td><td>▁▁▃▄▂▁▁▁▁▅▇▆▁▃█▄▆▆▁▁▄▁▄▁▁█▅▂▃▁█▂▁▁▁</td></tr><tr><td>Test F1</td><td>▇▇▄▅▂▁▁▇▁▆▇▆▁▃█▄▇▆▇▂▅▇▅▁▇█▆▂▄▇█▂▁▇▇</td></tr><tr><td>Test Loss</td><td>▁▁▁▁▁▁▁▁▂▁▁▁▃▂▁▁▁▁▂▃▁▃▂▄▂▁▁▃▂▃▁▃▅█▁</td></tr><tr><td>Test Sensitivity</td><td>██▂▃▁▁▁█▁▄▅▄▁▂▆▃▄▄█▁▃█▃▁█▆▄▂▂█▇▁▁██</td></tr><tr><td>Test Specificity</td><td>▁▁█████▁██▇███▇███▁██▁██▁▇███▁▆██▁▁</td></tr><tr><td>Train Accuracy</td><td>▂▂▂▃▁▁▁▂▁▄▆▅▁▂▇▃▅▅▂▁▃▂▃▁▂▇▄▂▃▂█▂▁▂▂</td></tr><tr><td>Train F1</td><td>▆▆▂▄▁▁▁▆▁▅▇▆▁▂▇▄▆▆▆▁▄▆▄▁▆█▅▂▃▆█▂▁▆▆</td></tr><tr><td>Train Loss</td><td>▁▁▁▁▁▂▂▁▂▁▁▁▃▂▁▂▁▁▂▃▂▃▂▄▂▁▁▃▂▃▁▃▆█▁</td></tr><tr><td>Train Sensitivity</td><td>██▂▃▁▁▁█▁▃▅▄▁▂▆▂▄▄█▁▃█▃▁█▆▄▂▂█▇▁▁██</td></tr><tr><td>Train Specificity</td><td>▁▁█████▁██████▇███▁██▁██▁████▁▇██▁▁</td></tr></table><br/></div><div class=\"wandb-col\"><h3>Run summary:</h3><br/><table class=\"wandb\"><tr><td>Test Accuracy</td><td>0.50933</td></tr><tr><td>Test F1</td><td>0.6739</td></tr><tr><td>Test Loss</td><td>1.20828</td></tr><tr><td>Test Sensitivity</td><td>0.99217</td></tr><tr><td>Test Specificity</td><td>0.00477</td></tr><tr><td>Train Accuracy</td><td>0.52914</td></tr><tr><td>Train F1</td><td>0.69092</td></tr><tr><td>Train Loss</td><td>0.86592</td></tr><tr><td>Train Sensitivity</td><td>0.99973</td></tr><tr><td>Train Specificity</td><td>0.00603</td></tr></table><br/></div></div>"
      ],
      "text/plain": [
       "<IPython.core.display.HTML object>"
      ]
     },
     "metadata": {},
     "output_type": "display_data"
    },
    {
     "data": {
      "text/html": [
       " View run <strong style=\"color:#cdcd00\">good-sweep-7</strong> at: <a href='https://wandb.ai/dylan-home/pnca-sweep-1/runs/fo5der74' target=\"_blank\">https://wandb.ai/dylan-home/pnca-sweep-1/runs/fo5der74</a><br/>Synced 5 W&B file(s), 0 media file(s), 0 artifact file(s) and 0 other file(s)"
      ],
      "text/plain": [
       "<IPython.core.display.HTML object>"
      ]
     },
     "metadata": {},
     "output_type": "display_data"
    },
    {
     "data": {
      "text/html": [
       "Find logs at: <code>./wandb/run-20250127_111624-fo5der74/logs</code>"
      ],
      "text/plain": [
       "<IPython.core.display.HTML object>"
      ]
     },
     "metadata": {},
     "output_type": "display_data"
    },
    {
     "name": "stderr",
     "output_type": "stream",
     "text": [
      "\u001b[34m\u001b[1mwandb\u001b[0m: Sweep Agent: Waiting for job.\n",
      "\u001b[34m\u001b[1mwandb\u001b[0m: Job received.\n",
      "\u001b[34m\u001b[1mwandb\u001b[0m: Agent Starting Run: njbaahx8 with config:\n",
      "\u001b[34m\u001b[1mwandb\u001b[0m: \tcutoff_distance: 3.127491368447245\n",
      "\u001b[34m\u001b[1mwandb\u001b[0m: \tdropout: 0.6\n",
      "\u001b[34m\u001b[1mwandb\u001b[0m: \thidden_channels: 320\n",
      "\u001b[34m\u001b[1mwandb\u001b[0m: \tlearning_rate: 2.6809473870571567e-05\n",
      "\u001b[34m\u001b[1mwandb\u001b[0m: \tweight_decay: 0.00022499144241690635\n",
      "Failed to detect the name of this notebook, you can set it manually with the WANDB_NOTEBOOK_NAME environment variable to enable code saving.\n",
      "/usr/lib/python3/dist-packages/requests/__init__.py:87: RequestsDependencyWarning: urllib3 (2.2.3) or chardet (4.0.0) doesn't match a supported version!\n",
      "  warnings.warn(\"urllib3 ({}) or chardet ({}) doesn't match a supported \"\n"
     ]
    },
    {
     "data": {
      "text/html": [
       "wandb version 0.19.4 is available!  To upgrade, please run:\n",
       " $ pip install wandb --upgrade"
      ],
      "text/plain": [
       "<IPython.core.display.HTML object>"
      ]
     },
     "metadata": {},
     "output_type": "display_data"
    },
    {
     "data": {
      "text/html": [
       "Tracking run with wandb version 0.16.4"
      ],
      "text/plain": [
       "<IPython.core.display.HTML object>"
      ]
     },
     "metadata": {},
     "output_type": "display_data"
    },
    {
     "data": {
      "text/html": [
       "Run data is saved locally in <code>/mnt/alphafold-volume-1/dylan2/repos/tb-pnca-gnn/dd_pnca/wandb/run-20250127_111813-njbaahx8</code>"
      ],
      "text/plain": [
       "<IPython.core.display.HTML object>"
      ]
     },
     "metadata": {},
     "output_type": "display_data"
    },
    {
     "data": {
      "text/html": [
       "Syncing run <strong><a href='https://wandb.ai/dylan-home/pnca-sweep-1/runs/njbaahx8' target=\"_blank\">stellar-sweep-8</a></strong> to <a href='https://wandb.ai/dylan-home/pnca-sweep-1' target=\"_blank\">Weights & Biases</a> (<a href='https://wandb.me/run' target=\"_blank\">docs</a>)<br/>Sweep page: <a href='https://wandb.ai/dylan-home/pnca-sweep-1/sweeps/gt2h3xwl' target=\"_blank\">https://wandb.ai/dylan-home/pnca-sweep-1/sweeps/gt2h3xwl</a>"
      ],
      "text/plain": [
       "<IPython.core.display.HTML object>"
      ]
     },
     "metadata": {},
     "output_type": "display_data"
    },
    {
     "data": {
      "text/html": [
       " View project at <a href='https://wandb.ai/dylan-home/pnca-sweep-1' target=\"_blank\">https://wandb.ai/dylan-home/pnca-sweep-1</a>"
      ],
      "text/plain": [
       "<IPython.core.display.HTML object>"
      ]
     },
     "metadata": {},
     "output_type": "display_data"
    },
    {
     "data": {
      "text/html": [
       " View sweep at <a href='https://wandb.ai/dylan-home/pnca-sweep-1/sweeps/gt2h3xwl' target=\"_blank\">https://wandb.ai/dylan-home/pnca-sweep-1/sweeps/gt2h3xwl</a>"
      ],
      "text/plain": [
       "<IPython.core.display.HTML object>"
      ]
     },
     "metadata": {},
     "output_type": "display_data"
    },
    {
     "data": {
      "text/html": [
       " View run at <a href='https://wandb.ai/dylan-home/pnca-sweep-1/runs/njbaahx8' target=\"_blank\">https://wandb.ai/dylan-home/pnca-sweep-1/runs/njbaahx8</a>"
      ],
      "text/plain": [
       "<IPython.core.display.HTML object>"
      ]
     },
     "metadata": {},
     "output_type": "display_data"
    },
    {
     "name": "stdout",
     "output_type": "stream",
     "text": [
      "Using CUDA\n",
      "Early stopping enabled. Patience: 20. Min Delta: 0.\n",
      "Epoch: 010, Train Acc: 0.5786, Test Acc: 0.6297, Train Loss: 0.6713, Test Loss: 0.6579\n",
      "Epoch: 020, Train Acc: 0.7476, Test Acc: 0.7023, Train Loss: 0.6236, Test Loss: 0.6218\n",
      "Epoch: 030, Train Acc: 0.6859, Test Acc: 0.6893, Train Loss: 0.6040, Test Loss: 0.5966\n",
      "Epoch: 040, Train Acc: 0.7736, Test Acc: 0.7310, Train Loss: 0.5526, Test Loss: 0.5746\n",
      "Epoch: 050, Train Acc: 0.7830, Test Acc: 0.7507, Train Loss: 0.5090, Test Loss: 0.5435\n",
      "Epoch: 060, Train Acc: 0.7756, Test Acc: 0.7097, Train Loss: 0.5325, Test Loss: 0.5916\n",
      "Epoch: 070, Train Acc: 0.6849, Test Acc: 0.6977, Train Loss: 0.6287, Test Loss: 0.6506\n",
      "Epoch: 080, Train Acc: 0.8153, Test Acc: 0.7567, Train Loss: 0.4566, Test Loss: 0.5400\n",
      "Epoch: 090, Train Acc: 0.7450, Test Acc: 0.7337, Train Loss: 0.5021, Test Loss: 0.5671\n",
      "Epoch: 100, Train Acc: 0.8323, Test Acc: 0.7733, Train Loss: 0.4057, Test Loss: 0.5143\n",
      "20 epochs passed without 0 test loss improvement. \n",
      "Early stopping triggered.\n"
     ]
    },
    {
     "data": {
      "text/html": [
       "<style>\n",
       "    table.wandb td:nth-child(1) { padding: 0 10px; text-align: left ; width: auto;} td:nth-child(2) {text-align: left ; width: 100%}\n",
       "    .wandb-row { display: flex; flex-direction: row; flex-wrap: wrap; justify-content: flex-start; width: 100% }\n",
       "    .wandb-col { display: flex; flex-direction: column; flex-basis: 100%; flex: 1; padding: 10px; }\n",
       "    </style>\n",
       "<div class=\"wandb-row\"><div class=\"wandb-col\"><h3>Run history:</h3><br/><table class=\"wandb\"><tr><td>Test Accuracy</td><td>▅▁▅▁▁▅▆▁▆▆▆▇▇▇▇▇▇▇▇▇▇█▇▇█▆█▆█▇▆█▂██▇▇█▇▇</td></tr><tr><td>Test F1</td><td>▂▆▂▅▅▁▅▅▆▄▅▇▇▇▇▆▇▆▇▇▆▇█▅█▃▇▄█▆▃█▅██▆██▆▆</td></tr><tr><td>Test Loss</td><td>▇▇▇▇▇▆▅▆▅▅▄▄▄▄▄▃▃▃▃▃▂▂▃▃▂▆▂▆▁▂█▂▆▂▂▃▄▁▃▃</td></tr><tr><td>Test Sensitivity</td><td>▂█▂██▁▃█▅▃▃▅▆▅▆▄▄▄▅▅▄▅▆▃▅▂▅▂▅▄▂▆▇▆▆▃▇▅▄▄</td></tr><tr><td>Test Specificity</td><td>▇▁█▁▁█▇▁▆▇▇▆▆▇▆▇▇▇▇▇▇▇▆█▇█▇█▇██▆▂▆▆█▅▇██</td></tr><tr><td>Train Accuracy</td><td>▃▁▃▁▁▂▅▁▆▅▅▇▆▇▇▆▇▆▇▇▇▇▇▆▇▅█▅█▇▅█▂██▆██▇▇</td></tr><tr><td>Train F1</td><td>▃▆▂▆▆▁▅▆▇▄▅▇▇▇▇▆▇▆▇▇▇▇█▅█▄█▄█▇▄█▆██▆██▆▆</td></tr><tr><td>Train Loss</td><td>█████▇▇▇▆▆▆▆▆▅▅▅▄▄▄▄▃▃▄▄▃▇▂▇▂▂█▂▄▂▂▃▃▁▃▂</td></tr><tr><td>Train Sensitivity</td><td>▂█▂██▁▃█▅▃▃▆▆▅▆▄▅▄▅▆▅▆▇▄▆▂▆▃▆▅▂▇█▇▇▄█▆▄▄</td></tr><tr><td>Train Specificity</td><td>█▁█▁▁█▇▁▇██▆▆▇▆▇▇▇▇▇▇▇▆█▇█▇█▇██▆▂▇▇█▆▇██</td></tr></table><br/></div><div class=\"wandb-col\"><h3>Run summary:</h3><br/><table class=\"wandb\"><tr><td>Test Accuracy</td><td>0.747</td></tr><tr><td>Test F1</td><td>0.70177</td></tr><tr><td>Test Loss</td><td>0.54791</td></tr><tr><td>Test Sensitivity</td><td>0.58252</td></tr><tr><td>Test Specificity</td><td>0.91888</td></tr><tr><td>Train Accuracy</td><td>0.76971</td></tr><tr><td>Train F1</td><td>0.72853</td></tr><tr><td>Train Loss</td><td>0.46259</td></tr><tr><td>Train Sensitivity</td><td>0.58697</td></tr><tr><td>Train Specificity</td><td>0.97285</td></tr></table><br/></div></div>"
      ],
      "text/plain": [
       "<IPython.core.display.HTML object>"
      ]
     },
     "metadata": {},
     "output_type": "display_data"
    },
    {
     "data": {
      "text/html": [
       " View run <strong style=\"color:#cdcd00\">stellar-sweep-8</strong> at: <a href='https://wandb.ai/dylan-home/pnca-sweep-1/runs/njbaahx8' target=\"_blank\">https://wandb.ai/dylan-home/pnca-sweep-1/runs/njbaahx8</a><br/>Synced 5 W&B file(s), 0 media file(s), 0 artifact file(s) and 0 other file(s)"
      ],
      "text/plain": [
       "<IPython.core.display.HTML object>"
      ]
     },
     "metadata": {},
     "output_type": "display_data"
    },
    {
     "data": {
      "text/html": [
       "Find logs at: <code>./wandb/run-20250127_111813-njbaahx8/logs</code>"
      ],
      "text/plain": [
       "<IPython.core.display.HTML object>"
      ]
     },
     "metadata": {},
     "output_type": "display_data"
    },
    {
     "name": "stderr",
     "output_type": "stream",
     "text": [
      "\u001b[34m\u001b[1mwandb\u001b[0m: Agent Starting Run: tk4qa0fp with config:\n",
      "\u001b[34m\u001b[1mwandb\u001b[0m: \tcutoff_distance: 8.409136334527915\n",
      "\u001b[34m\u001b[1mwandb\u001b[0m: \tdropout: 0.8\n",
      "\u001b[34m\u001b[1mwandb\u001b[0m: \thidden_channels: 256\n",
      "\u001b[34m\u001b[1mwandb\u001b[0m: \tlearning_rate: 1.4178472383398084e-05\n",
      "\u001b[34m\u001b[1mwandb\u001b[0m: \tweight_decay: 1.0787525586017818e-05\n",
      "Failed to detect the name of this notebook, you can set it manually with the WANDB_NOTEBOOK_NAME environment variable to enable code saving.\n",
      "/usr/lib/python3/dist-packages/requests/__init__.py:87: RequestsDependencyWarning: urllib3 (2.2.3) or chardet (4.0.0) doesn't match a supported version!\n",
      "  warnings.warn(\"urllib3 ({}) or chardet ({}) doesn't match a supported \"\n"
     ]
    },
    {
     "data": {
      "text/html": [
       "wandb version 0.19.4 is available!  To upgrade, please run:\n",
       " $ pip install wandb --upgrade"
      ],
      "text/plain": [
       "<IPython.core.display.HTML object>"
      ]
     },
     "metadata": {},
     "output_type": "display_data"
    },
    {
     "data": {
      "text/html": [
       "Tracking run with wandb version 0.16.4"
      ],
      "text/plain": [
       "<IPython.core.display.HTML object>"
      ]
     },
     "metadata": {},
     "output_type": "display_data"
    },
    {
     "data": {
      "text/html": [
       "Run data is saved locally in <code>/mnt/alphafold-volume-1/dylan2/repos/tb-pnca-gnn/dd_pnca/wandb/run-20250127_112211-tk4qa0fp</code>"
      ],
      "text/plain": [
       "<IPython.core.display.HTML object>"
      ]
     },
     "metadata": {},
     "output_type": "display_data"
    },
    {
     "data": {
      "text/html": [
       "Syncing run <strong><a href='https://wandb.ai/dylan-home/pnca-sweep-1/runs/tk4qa0fp' target=\"_blank\">clean-sweep-9</a></strong> to <a href='https://wandb.ai/dylan-home/pnca-sweep-1' target=\"_blank\">Weights & Biases</a> (<a href='https://wandb.me/run' target=\"_blank\">docs</a>)<br/>Sweep page: <a href='https://wandb.ai/dylan-home/pnca-sweep-1/sweeps/gt2h3xwl' target=\"_blank\">https://wandb.ai/dylan-home/pnca-sweep-1/sweeps/gt2h3xwl</a>"
      ],
      "text/plain": [
       "<IPython.core.display.HTML object>"
      ]
     },
     "metadata": {},
     "output_type": "display_data"
    },
    {
     "data": {
      "text/html": [
       " View project at <a href='https://wandb.ai/dylan-home/pnca-sweep-1' target=\"_blank\">https://wandb.ai/dylan-home/pnca-sweep-1</a>"
      ],
      "text/plain": [
       "<IPython.core.display.HTML object>"
      ]
     },
     "metadata": {},
     "output_type": "display_data"
    },
    {
     "data": {
      "text/html": [
       " View sweep at <a href='https://wandb.ai/dylan-home/pnca-sweep-1/sweeps/gt2h3xwl' target=\"_blank\">https://wandb.ai/dylan-home/pnca-sweep-1/sweeps/gt2h3xwl</a>"
      ],
      "text/plain": [
       "<IPython.core.display.HTML object>"
      ]
     },
     "metadata": {},
     "output_type": "display_data"
    },
    {
     "data": {
      "text/html": [
       " View run at <a href='https://wandb.ai/dylan-home/pnca-sweep-1/runs/tk4qa0fp' target=\"_blank\">https://wandb.ai/dylan-home/pnca-sweep-1/runs/tk4qa0fp</a>"
      ],
      "text/plain": [
       "<IPython.core.display.HTML object>"
      ]
     },
     "metadata": {},
     "output_type": "display_data"
    },
    {
     "name": "stdout",
     "output_type": "stream",
     "text": [
      "Using CUDA\n",
      "Early stopping enabled. Patience: 20. Min Delta: 0.\n",
      "Epoch: 010, Train Acc: 0.5264, Test Acc: 0.5110, Train Loss: 0.6866, Test Loss: 0.6883\n",
      "Epoch: 020, Train Acc: 0.5016, Test Acc: 0.4903, Train Loss: 0.6761, Test Loss: 0.6727\n",
      "Epoch: 030, Train Acc: 0.7193, Test Acc: 0.6977, Train Loss: 0.6685, Test Loss: 0.6623\n",
      "Epoch: 040, Train Acc: 0.7026, Test Acc: 0.6957, Train Loss: 0.6606, Test Loss: 0.6518\n",
      "Epoch: 050, Train Acc: 0.7057, Test Acc: 0.6993, Train Loss: 0.6506, Test Loss: 0.6410\n",
      "Epoch: 060, Train Acc: 0.5201, Test Acc: 0.4973, Train Loss: 0.6415, Test Loss: 0.6408\n",
      "Epoch: 070, Train Acc: 0.7444, Test Acc: 0.7150, Train Loss: 0.6210, Test Loss: 0.6159\n",
      "Epoch: 080, Train Acc: 0.7226, Test Acc: 0.7180, Train Loss: 0.6090, Test Loss: 0.6021\n",
      "Epoch: 090, Train Acc: 0.7354, Test Acc: 0.7277, Train Loss: 0.5927, Test Loss: 0.5879\n",
      "Epoch: 100, Train Acc: 0.7613, Test Acc: 0.7333, Train Loss: 0.5737, Test Loss: 0.5778\n",
      "Epoch: 110, Train Acc: 0.7571, Test Acc: 0.7293, Train Loss: 0.5580, Test Loss: 0.5636\n",
      "Epoch: 120, Train Acc: 0.7753, Test Acc: 0.7230, Train Loss: 0.5493, Test Loss: 0.5683\n",
      "Epoch: 130, Train Acc: 0.5380, Test Acc: 0.5003, Train Loss: 0.5908, Test Loss: 0.6252\n",
      "Epoch: 140, Train Acc: 0.5461, Test Acc: 0.5163, Train Loss: 0.5667, Test Loss: 0.6061\n",
      "Epoch: 150, Train Acc: 0.7889, Test Acc: 0.7383, Train Loss: 0.4955, Test Loss: 0.5302\n",
      "Epoch: 160, Train Acc: 0.6981, Test Acc: 0.7170, Train Loss: 0.5656, Test Loss: 0.5736\n",
      "Epoch: 170, Train Acc: 0.5651, Test Acc: 0.5137, Train Loss: 0.5456, Test Loss: 0.6078\n",
      "Epoch: 180, Train Acc: 0.7656, Test Acc: 0.7573, Train Loss: 0.4744, Test Loss: 0.5151\n",
      "Epoch: 190, Train Acc: 0.7974, Test Acc: 0.7653, Train Loss: 0.4447, Test Loss: 0.5004\n",
      "Epoch: 200, Train Acc: 0.8009, Test Acc: 0.7660, Train Loss: 0.4343, Test Loss: 0.4980\n",
      "Epoch: 210, Train Acc: 0.8204, Test Acc: 0.7493, Train Loss: 0.4364, Test Loss: 0.5198\n",
      "Epoch: 220, Train Acc: 0.8210, Test Acc: 0.7523, Train Loss: 0.4285, Test Loss: 0.5202\n",
      "Epoch: 230, Train Acc: 0.8147, Test Acc: 0.7743, Train Loss: 0.4053, Test Loss: 0.4936\n",
      "Epoch: 240, Train Acc: 0.8291, Test Acc: 0.7347, Train Loss: 0.4312, Test Loss: 0.5426\n",
      "Epoch: 250, Train Acc: 0.8239, Test Acc: 0.7353, Train Loss: 0.4420, Test Loss: 0.5653\n",
      "20 epochs passed without 0 test loss improvement. \n",
      "Early stopping triggered.\n"
     ]
    },
    {
     "data": {
      "text/html": [
       "<style>\n",
       "    table.wandb td:nth-child(1) { padding: 0 10px; text-align: left ; width: auto;} td:nth-child(2) {text-align: left ; width: 100%}\n",
       "    .wandb-row { display: flex; flex-direction: row; flex-wrap: wrap; justify-content: flex-start; width: 100% }\n",
       "    .wandb-col { display: flex; flex-direction: column; flex-basis: 100%; flex: 1; padding: 10px; }\n",
       "    </style>\n",
       "<div class=\"wandb-row\"><div class=\"wandb-col\"><h3>Run history:</h3><br/><table class=\"wandb\"><tr><td>Test Accuracy</td><td>▁▃▃▂▆▂▆▂▆▆▆▇▇▇▇▇▇▇▇▇▇▇▃▇▇▇▇██▇██▇▇▇████▇</td></tr><tr><td>Test F1</td><td>▁▄▄▂▅▃▃▃▆▃▅▅▅▅▅▆▄▆▆▇▇▅▄▆▇▃█▇▆█▆▇▅██████▆</td></tr><tr><td>Test Loss</td><td>███▇▇▇▇▆▆▆▆▅▅▅▄▄▄▃▃▄▃▃▅▂▂▄▃▂▂▄▁▁▂▂▂▁▁▁▁▃</td></tr><tr><td>Test Sensitivity</td><td>▅██▆▅▆▂▆▄▁▄▃▃▃▂▄▂▃▃▅▄▂▇▃▄▁▅▄▃▆▃▄▂▅▆▄▄▄▄▂</td></tr><tr><td>Test Specificity</td><td>▁▁▁▂▅▂▇▂▆█▆▇▇▇▇▇█▇▇▆▆█▂█▇█▆▇█▅█▇█▆▆▇▇▇▇█</td></tr><tr><td>Train Accuracy</td><td>▁▂▂▂▆▂▆▂▆▅▆▆▆▆▆▇▆▇▇▇▇▆▃▇▇▆█▇▇█▇█▇██████▇</td></tr><tr><td>Train F1</td><td>▁▃▃▂▅▂▂▃▅▁▅▅▄▄▄▆▃▅▅▇▇▄▄▅▆▁▇▇▅█▆▇▄██▇▇█▇▄</td></tr><tr><td>Train Loss</td><td>█████▇▇▇▇▇▇▆▆▆▆▅▅▅▅▅▄▄▅▄▃▅▃▃▃▄▂▂▃▂▂▁▁▁▁▃</td></tr><tr><td>Train Sensitivity</td><td>▆██▆▅▇▂▇▅▁▄▄▃▃▃▄▂▄▄▆▅▂█▃▅▁▆▅▃▇▄▅▃▆▆▅▅▅▅▃</td></tr><tr><td>Train Specificity</td><td>▁▁▁▂▆▂█▂▆█▇▇▇▇▇▇█▇▇▆▇█▂█▇█▆▇█▆█▇█▇▆▇▇▇▇█</td></tr></table><br/></div><div class=\"wandb-col\"><h3>Run summary:</h3><br/><table class=\"wandb\"><tr><td>Test Accuracy</td><td>0.73533</td></tr><tr><td>Test F1</td><td>0.76702</td></tr><tr><td>Test Loss</td><td>0.56534</td></tr><tr><td>Test Sensitivity</td><td>0.85258</td></tr><tr><td>Test Specificity</td><td>0.61282</td></tr><tr><td>Train Accuracy</td><td>0.82386</td></tr><tr><td>Train F1</td><td>0.84516</td></tr><tr><td>Train Loss</td><td>0.44197</td></tr><tr><td>Train Sensitivity</td><td>0.91316</td></tr><tr><td>Train Specificity</td><td>0.72459</td></tr></table><br/></div></div>"
      ],
      "text/plain": [
       "<IPython.core.display.HTML object>"
      ]
     },
     "metadata": {},
     "output_type": "display_data"
    },
    {
     "data": {
      "text/html": [
       " View run <strong style=\"color:#cdcd00\">clean-sweep-9</strong> at: <a href='https://wandb.ai/dylan-home/pnca-sweep-1/runs/tk4qa0fp' target=\"_blank\">https://wandb.ai/dylan-home/pnca-sweep-1/runs/tk4qa0fp</a><br/>Synced 5 W&B file(s), 0 media file(s), 0 artifact file(s) and 0 other file(s)"
      ],
      "text/plain": [
       "<IPython.core.display.HTML object>"
      ]
     },
     "metadata": {},
     "output_type": "display_data"
    },
    {
     "data": {
      "text/html": [
       "Find logs at: <code>./wandb/run-20250127_112211-tk4qa0fp/logs</code>"
      ],
      "text/plain": [
       "<IPython.core.display.HTML object>"
      ]
     },
     "metadata": {},
     "output_type": "display_data"
    },
    {
     "name": "stderr",
     "output_type": "stream",
     "text": [
      "\u001b[34m\u001b[1mwandb\u001b[0m: Agent Starting Run: vkv8231e with config:\n",
      "\u001b[34m\u001b[1mwandb\u001b[0m: \tcutoff_distance: 6.42512262620391\n",
      "\u001b[34m\u001b[1mwandb\u001b[0m: \tdropout: 0.5\n",
      "\u001b[34m\u001b[1mwandb\u001b[0m: \thidden_channels: 192\n",
      "\u001b[34m\u001b[1mwandb\u001b[0m: \tlearning_rate: 0.00011300392705971926\n",
      "\u001b[34m\u001b[1mwandb\u001b[0m: \tweight_decay: 0.0004626899469493093\n",
      "Failed to detect the name of this notebook, you can set it manually with the WANDB_NOTEBOOK_NAME environment variable to enable code saving.\n",
      "/usr/lib/python3/dist-packages/requests/__init__.py:87: RequestsDependencyWarning: urllib3 (2.2.3) or chardet (4.0.0) doesn't match a supported version!\n",
      "  warnings.warn(\"urllib3 ({}) or chardet ({}) doesn't match a supported \"\n"
     ]
    },
    {
     "data": {
      "text/html": [
       "wandb version 0.19.4 is available!  To upgrade, please run:\n",
       " $ pip install wandb --upgrade"
      ],
      "text/plain": [
       "<IPython.core.display.HTML object>"
      ]
     },
     "metadata": {},
     "output_type": "display_data"
    },
    {
     "data": {
      "text/html": [
       "Tracking run with wandb version 0.16.4"
      ],
      "text/plain": [
       "<IPython.core.display.HTML object>"
      ]
     },
     "metadata": {},
     "output_type": "display_data"
    },
    {
     "data": {
      "text/html": [
       "Run data is saved locally in <code>/mnt/alphafold-volume-1/dylan2/repos/tb-pnca-gnn/dd_pnca/wandb/run-20250127_113055-vkv8231e</code>"
      ],
      "text/plain": [
       "<IPython.core.display.HTML object>"
      ]
     },
     "metadata": {},
     "output_type": "display_data"
    },
    {
     "data": {
      "text/html": [
       "Syncing run <strong><a href='https://wandb.ai/dylan-home/pnca-sweep-1/runs/vkv8231e' target=\"_blank\">upbeat-sweep-10</a></strong> to <a href='https://wandb.ai/dylan-home/pnca-sweep-1' target=\"_blank\">Weights & Biases</a> (<a href='https://wandb.me/run' target=\"_blank\">docs</a>)<br/>Sweep page: <a href='https://wandb.ai/dylan-home/pnca-sweep-1/sweeps/gt2h3xwl' target=\"_blank\">https://wandb.ai/dylan-home/pnca-sweep-1/sweeps/gt2h3xwl</a>"
      ],
      "text/plain": [
       "<IPython.core.display.HTML object>"
      ]
     },
     "metadata": {},
     "output_type": "display_data"
    },
    {
     "data": {
      "text/html": [
       " View project at <a href='https://wandb.ai/dylan-home/pnca-sweep-1' target=\"_blank\">https://wandb.ai/dylan-home/pnca-sweep-1</a>"
      ],
      "text/plain": [
       "<IPython.core.display.HTML object>"
      ]
     },
     "metadata": {},
     "output_type": "display_data"
    },
    {
     "data": {
      "text/html": [
       " View sweep at <a href='https://wandb.ai/dylan-home/pnca-sweep-1/sweeps/gt2h3xwl' target=\"_blank\">https://wandb.ai/dylan-home/pnca-sweep-1/sweeps/gt2h3xwl</a>"
      ],
      "text/plain": [
       "<IPython.core.display.HTML object>"
      ]
     },
     "metadata": {},
     "output_type": "display_data"
    },
    {
     "data": {
      "text/html": [
       " View run at <a href='https://wandb.ai/dylan-home/pnca-sweep-1/runs/vkv8231e' target=\"_blank\">https://wandb.ai/dylan-home/pnca-sweep-1/runs/vkv8231e</a>"
      ],
      "text/plain": [
       "<IPython.core.display.HTML object>"
      ]
     },
     "metadata": {},
     "output_type": "display_data"
    },
    {
     "name": "stdout",
     "output_type": "stream",
     "text": [
      "Using CUDA\n",
      "Early stopping enabled. Patience: 20. Min Delta: 0.\n",
      "Epoch: 010, Train Acc: 0.5821, Test Acc: 0.6380, Train Loss: 0.6650, Test Loss: 0.6513\n",
      "Epoch: 020, Train Acc: 0.5286, Test Acc: 0.5057, Train Loss: 0.6720, Test Loss: 0.7184\n",
      "Epoch: 030, Train Acc: 0.7603, Test Acc: 0.7473, Train Loss: 0.4726, Test Loss: 0.5196\n",
      "Epoch: 040, Train Acc: 0.8253, Test Acc: 0.7463, Train Loss: 0.4293, Test Loss: 0.5325\n",
      "Epoch: 050, Train Acc: 0.7261, Test Acc: 0.7093, Train Loss: 0.6239, Test Loss: 0.7092\n",
      "Epoch: 060, Train Acc: 0.7259, Test Acc: 0.7090, Train Loss: 0.6638, Test Loss: 0.7719\n",
      "Epoch: 070, Train Acc: 0.7274, Test Acc: 0.7047, Train Loss: 0.6967, Test Loss: 0.8263\n",
      "20 epochs passed without 0 test loss improvement. \n",
      "Early stopping triggered.\n"
     ]
    },
    {
     "data": {
      "text/html": [
       "<style>\n",
       "    table.wandb td:nth-child(1) { padding: 0 10px; text-align: left ; width: auto;} td:nth-child(2) {text-align: left ; width: 100%}\n",
       "    .wandb-row { display: flex; flex-direction: row; flex-wrap: wrap; justify-content: flex-start; width: 100% }\n",
       "    .wandb-col { display: flex; flex-direction: column; flex-basis: 100%; flex: 1; padding: 10px; }\n",
       "    </style>\n",
       "<div class=\"wandb-row\"><div class=\"wandb-col\"><h3>Run history:</h3><br/><table class=\"wandb\"><tr><td>Test Accuracy</td><td>▂▂▁▂▃▅▆▅▆▇▆▂▇▇▂▆▇█▇▇█▇▆▇▆▇█▂▇██▇▆█▇▇▆▆▂▂</td></tr><tr><td>Test F1</td><td>▇▇▆▇▁▄▅▄▇▇█▇▇█▇▆▇██▇██▆█▆▇█▇████▆▇▇█▆▆▇▇</td></tr><tr><td>Test Loss</td><td>▄▃▃▄▃▃▃▃▂▂▂▃▂▁▃▃▁▁▂▂▁▁▃▂▃▂▁▄▂▁▁▂▅▂▃▂▅▅█▇</td></tr><tr><td>Test Sensitivity</td><td>██▇█▁▃▃▃▅▅▇█▅▆█▄▅▆▇▅▆▇▄▇▄▄▅█▇▅▆▇▄▅▅▇▄▄██</td></tr><tr><td>Test Specificity</td><td>▁▁▂▁██▇█▇▇▅▁▇▇▁█▇▇▅▇▆▆█▅██▇▁▅▇▇▆█▇█▅██▁▁</td></tr><tr><td>Train Accuracy</td><td>▂▂▁▂▁▃▄▃▆▆▆▂▆▇▂▅▆▇▇▆▇▇▅▇▅▆▇▂▇▇██▆▇▇█▅▆▂▂</td></tr><tr><td>Train F1</td><td>▆▆▆▆▁▃▅▄▇▇▇▆▇▇▆▅▇▇█▆██▆█▆▆▇▆█▇██▆▇▇█▆▆▆▆</td></tr><tr><td>Train Loss</td><td>▇▇▆▇▇▆▆▆▅▅▅▆▄▃▅▅▃▃▃▃▂▂▅▃▅▃▂▅▂▁▁▂▆▂▃▂▇▇█▇</td></tr><tr><td>Train Sensitivity</td><td>██▇█▁▂▃▂▅▅▇█▅▆█▄▅▆▇▅▆▇▄▇▄▅▆██▆▆▇▄▅▅█▄▄██</td></tr><tr><td>Train Specificity</td><td>▁▁▂▁████▇▇▆▁▇▇▁█▇▇▆█▇▇█▆███▁▆██▆███▆██▁▁</td></tr></table><br/></div><div class=\"wandb-col\"><h3>Run summary:</h3><br/><table class=\"wandb\"><tr><td>Test Accuracy</td><td>0.51567</td></tr><tr><td>Test F1</td><td>0.67589</td></tr><tr><td>Test Loss</td><td>0.97677</td></tr><tr><td>Test Sensitivity</td><td>0.98826</td></tr><tr><td>Test Specificity</td><td>0.02181</td></tr><tr><td>Train Accuracy</td><td>0.53043</td></tr><tr><td>Train F1</td><td>0.69145</td></tr><tr><td>Train Loss</td><td>0.71552</td></tr><tr><td>Train Sensitivity</td><td>0.99946</td></tr><tr><td>Train Specificity</td><td>0.00905</td></tr></table><br/></div></div>"
      ],
      "text/plain": [
       "<IPython.core.display.HTML object>"
      ]
     },
     "metadata": {},
     "output_type": "display_data"
    },
    {
     "data": {
      "text/html": [
       " View run <strong style=\"color:#cdcd00\">upbeat-sweep-10</strong> at: <a href='https://wandb.ai/dylan-home/pnca-sweep-1/runs/vkv8231e' target=\"_blank\">https://wandb.ai/dylan-home/pnca-sweep-1/runs/vkv8231e</a><br/>Synced 5 W&B file(s), 0 media file(s), 0 artifact file(s) and 0 other file(s)"
      ],
      "text/plain": [
       "<IPython.core.display.HTML object>"
      ]
     },
     "metadata": {},
     "output_type": "display_data"
    },
    {
     "data": {
      "text/html": [
       "Find logs at: <code>./wandb/run-20250127_113055-vkv8231e/logs</code>"
      ],
      "text/plain": [
       "<IPython.core.display.HTML object>"
      ]
     },
     "metadata": {},
     "output_type": "display_data"
    },
    {
     "name": "stderr",
     "output_type": "stream",
     "text": [
      "\u001b[34m\u001b[1mwandb\u001b[0m: Sweep Agent: Waiting for job.\n",
      "500 response executing GraphQL.\n",
      "{\"errors\":[{\"message\":\"context deadline exceeded\"}]}\n",
      "\u001b[34m\u001b[1mwandb\u001b[0m: \u001b[32m\u001b[41mERROR\u001b[0m Error while calling W&B API: context deadline exceeded (<Response [500]>)\n",
      "\u001b[34m\u001b[1mwandb\u001b[0m: Job received.\n",
      "\u001b[34m\u001b[1mwandb\u001b[0m: Agent Starting Run: 85qiages with config:\n",
      "\u001b[34m\u001b[1mwandb\u001b[0m: \tcutoff_distance: 4.889425203197808\n",
      "\u001b[34m\u001b[1mwandb\u001b[0m: \tdropout: 0.5\n",
      "\u001b[34m\u001b[1mwandb\u001b[0m: \thidden_channels: 256\n",
      "\u001b[34m\u001b[1mwandb\u001b[0m: \tlearning_rate: 0.001525590672129621\n",
      "\u001b[34m\u001b[1mwandb\u001b[0m: \tweight_decay: 1.7456325614690555e-05\n",
      "Failed to detect the name of this notebook, you can set it manually with the WANDB_NOTEBOOK_NAME environment variable to enable code saving.\n",
      "/usr/lib/python3/dist-packages/requests/__init__.py:87: RequestsDependencyWarning: urllib3 (2.2.3) or chardet (4.0.0) doesn't match a supported version!\n",
      "  warnings.warn(\"urllib3 ({}) or chardet ({}) doesn't match a supported \"\n"
     ]
    },
    {
     "data": {
      "text/html": [
       "wandb version 0.19.4 is available!  To upgrade, please run:\n",
       " $ pip install wandb --upgrade"
      ],
      "text/plain": [
       "<IPython.core.display.HTML object>"
      ]
     },
     "metadata": {},
     "output_type": "display_data"
    },
    {
     "data": {
      "text/html": [
       "Tracking run with wandb version 0.16.4"
      ],
      "text/plain": [
       "<IPython.core.display.HTML object>"
      ]
     },
     "metadata": {},
     "output_type": "display_data"
    },
    {
     "data": {
      "text/html": [
       "Run data is saved locally in <code>/mnt/alphafold-volume-1/dylan2/repos/tb-pnca-gnn/dd_pnca/wandb/run-20250127_113349-85qiages</code>"
      ],
      "text/plain": [
       "<IPython.core.display.HTML object>"
      ]
     },
     "metadata": {},
     "output_type": "display_data"
    },
    {
     "data": {
      "text/html": [
       "Syncing run <strong><a href='https://wandb.ai/dylan-home/pnca-sweep-1/runs/85qiages' target=\"_blank\">soft-sweep-11</a></strong> to <a href='https://wandb.ai/dylan-home/pnca-sweep-1' target=\"_blank\">Weights & Biases</a> (<a href='https://wandb.me/run' target=\"_blank\">docs</a>)<br/>Sweep page: <a href='https://wandb.ai/dylan-home/pnca-sweep-1/sweeps/gt2h3xwl' target=\"_blank\">https://wandb.ai/dylan-home/pnca-sweep-1/sweeps/gt2h3xwl</a>"
      ],
      "text/plain": [
       "<IPython.core.display.HTML object>"
      ]
     },
     "metadata": {},
     "output_type": "display_data"
    },
    {
     "data": {
      "text/html": [
       " View project at <a href='https://wandb.ai/dylan-home/pnca-sweep-1' target=\"_blank\">https://wandb.ai/dylan-home/pnca-sweep-1</a>"
      ],
      "text/plain": [
       "<IPython.core.display.HTML object>"
      ]
     },
     "metadata": {},
     "output_type": "display_data"
    },
    {
     "data": {
      "text/html": [
       " View sweep at <a href='https://wandb.ai/dylan-home/pnca-sweep-1/sweeps/gt2h3xwl' target=\"_blank\">https://wandb.ai/dylan-home/pnca-sweep-1/sweeps/gt2h3xwl</a>"
      ],
      "text/plain": [
       "<IPython.core.display.HTML object>"
      ]
     },
     "metadata": {},
     "output_type": "display_data"
    },
    {
     "data": {
      "text/html": [
       " View run at <a href='https://wandb.ai/dylan-home/pnca-sweep-1/runs/85qiages' target=\"_blank\">https://wandb.ai/dylan-home/pnca-sweep-1/runs/85qiages</a>"
      ],
      "text/plain": [
       "<IPython.core.display.HTML object>"
      ]
     },
     "metadata": {},
     "output_type": "display_data"
    },
    {
     "name": "stdout",
     "output_type": "stream",
     "text": [
      "Using CUDA\n",
      "Early stopping enabled. Patience: 20. Min Delta: 0.\n",
      "Epoch: 010, Train Acc: 0.6914, Test Acc: 0.6883, Train Loss: 0.5703, Test Loss: 0.5837\n",
      "Epoch: 020, Train Acc: 0.5264, Test Acc: 0.5110, Train Loss: 3.0831, Test Loss: 3.4032\n",
      "Epoch: 030, Train Acc: 0.5264, Test Acc: 0.5110, Train Loss: 4.9921, Test Loss: 5.4484\n",
      "20 epochs passed without 0 test loss improvement. \n",
      "Early stopping triggered.\n"
     ]
    },
    {
     "data": {
      "text/html": [
       "<style>\n",
       "    table.wandb td:nth-child(1) { padding: 0 10px; text-align: left ; width: auto;} td:nth-child(2) {text-align: left ; width: 100%}\n",
       "    .wandb-row { display: flex; flex-direction: row; flex-wrap: wrap; justify-content: flex-start; width: 100% }\n",
       "    .wandb-col { display: flex; flex-direction: column; flex-basis: 100%; flex: 1; padding: 10px; }\n",
       "    </style>\n",
       "<div class=\"wandb-row\"><div class=\"wandb-col\"><h3>Run history:</h3><br/><table class=\"wandb\"><tr><td>Test Accuracy</td><td>▁▂▂▆▁▅▂▁▁▆▄▂▄█▂▂▂▃▂▂▂▂▂▁▁▂▃▂▂▂▂▃▂▂</td></tr><tr><td>Test F1</td><td>▁▇▇▇▂▆▇▁▁▇▅▇▄█▇▇▇▃▇▇▇▇▇▁▁▇▄▃▇▇▇▄▇▇</td></tr><tr><td>Test Loss</td><td>▁▁▁▁▁▁▁▁▁▁▁▂▁▁▃▂▂▁▂▂▂▄▅▄▃█▂▂▂▂▃▂▄▄</td></tr><tr><td>Test Sensitivity</td><td>▁██▅▁▄█▁▁▄▃█▃▆███▂█████▁▁█▂▂███▂██</td></tr><tr><td>Test Specificity</td><td>█▁▁▇██▁████▁█▇▁▁▁█▁▁▁▁▁██▁██▁▁▁█▁▁</td></tr><tr><td>Train Accuracy</td><td>▁▂▂▅▁▄▂▁▁▅▃▂▃█▂▂▂▂▂▂▂▂▂▁▁▂▃▂▂▂▂▃▂▂</td></tr><tr><td>Train F1</td><td>▁▇▇▆▁▅▇▁▁▆▄▇▄█▇▇▇▃▇▇▇▇▇▁▁▇▃▂▇▇▇▃▇▇</td></tr><tr><td>Train Loss</td><td>▁▁▁▁▁▁▁▁▂▁▁▂▁▁▃▂▂▂▂▂▂▄▅▄▃█▂▂▂▂▃▂▄▄</td></tr><tr><td>Train Sensitivity</td><td>▁██▅▁▃█▁▁▄▃█▂▆███▂█████▁▁█▂▂███▂██</td></tr><tr><td>Train Specificity</td><td>█▁▁▇██▁████▁█▇▁▁▁█▁▁▁▁▁██▁██▁▁▁█▁▁</td></tr></table><br/></div><div class=\"wandb-col\"><h3>Run summary:</h3><br/><table class=\"wandb\"><tr><td>Test Accuracy</td><td>0.511</td></tr><tr><td>Test F1</td><td>0.67637</td></tr><tr><td>Test Loss</td><td>12.19683</td></tr><tr><td>Test Sensitivity</td><td>1.0</td></tr><tr><td>Test Specificity</td><td>0.0</td></tr><tr><td>Train Accuracy</td><td>0.52643</td></tr><tr><td>Train F1</td><td>0.68975</td></tr><tr><td>Train Loss</td><td>11.52318</td></tr><tr><td>Train Sensitivity</td><td>1.0</td></tr><tr><td>Train Specificity</td><td>0.0</td></tr></table><br/></div></div>"
      ],
      "text/plain": [
       "<IPython.core.display.HTML object>"
      ]
     },
     "metadata": {},
     "output_type": "display_data"
    },
    {
     "data": {
      "text/html": [
       " View run <strong style=\"color:#cdcd00\">soft-sweep-11</strong> at: <a href='https://wandb.ai/dylan-home/pnca-sweep-1/runs/85qiages' target=\"_blank\">https://wandb.ai/dylan-home/pnca-sweep-1/runs/85qiages</a><br/>Synced 5 W&B file(s), 0 media file(s), 0 artifact file(s) and 0 other file(s)"
      ],
      "text/plain": [
       "<IPython.core.display.HTML object>"
      ]
     },
     "metadata": {},
     "output_type": "display_data"
    },
    {
     "data": {
      "text/html": [
       "Find logs at: <code>./wandb/run-20250127_113349-85qiages/logs</code>"
      ],
      "text/plain": [
       "<IPython.core.display.HTML object>"
      ]
     },
     "metadata": {},
     "output_type": "display_data"
    },
    {
     "name": "stderr",
     "output_type": "stream",
     "text": [
      "\u001b[34m\u001b[1mwandb\u001b[0m: Sweep Agent: Waiting for job.\n",
      "\u001b[34m\u001b[1mwandb\u001b[0m: Job received.\n",
      "\u001b[34m\u001b[1mwandb\u001b[0m: Agent Starting Run: ljekgal8 with config:\n",
      "\u001b[34m\u001b[1mwandb\u001b[0m: \tcutoff_distance: 5.8868582672865415\n",
      "\u001b[34m\u001b[1mwandb\u001b[0m: \tdropout: 0.4\n",
      "\u001b[34m\u001b[1mwandb\u001b[0m: \thidden_channels: 192\n",
      "\u001b[34m\u001b[1mwandb\u001b[0m: \tlearning_rate: 1.0528678561821133e-05\n",
      "\u001b[34m\u001b[1mwandb\u001b[0m: \tweight_decay: 0.00019162077149086635\n",
      "Failed to detect the name of this notebook, you can set it manually with the WANDB_NOTEBOOK_NAME environment variable to enable code saving.\n",
      "/usr/lib/python3/dist-packages/requests/__init__.py:87: RequestsDependencyWarning: urllib3 (2.2.3) or chardet (4.0.0) doesn't match a supported version!\n",
      "  warnings.warn(\"urllib3 ({}) or chardet ({}) doesn't match a supported \"\n"
     ]
    },
    {
     "data": {
      "text/html": [
       "wandb version 0.19.4 is available!  To upgrade, please run:\n",
       " $ pip install wandb --upgrade"
      ],
      "text/plain": [
       "<IPython.core.display.HTML object>"
      ]
     },
     "metadata": {},
     "output_type": "display_data"
    },
    {
     "data": {
      "text/html": [
       "Tracking run with wandb version 0.16.4"
      ],
      "text/plain": [
       "<IPython.core.display.HTML object>"
      ]
     },
     "metadata": {},
     "output_type": "display_data"
    },
    {
     "data": {
      "text/html": [
       "Run data is saved locally in <code>/mnt/alphafold-volume-1/dylan2/repos/tb-pnca-gnn/dd_pnca/wandb/run-20250127_113541-ljekgal8</code>"
      ],
      "text/plain": [
       "<IPython.core.display.HTML object>"
      ]
     },
     "metadata": {},
     "output_type": "display_data"
    },
    {
     "data": {
      "text/html": [
       "Syncing run <strong><a href='https://wandb.ai/dylan-home/pnca-sweep-1/runs/ljekgal8' target=\"_blank\">toasty-sweep-12</a></strong> to <a href='https://wandb.ai/dylan-home/pnca-sweep-1' target=\"_blank\">Weights & Biases</a> (<a href='https://wandb.me/run' target=\"_blank\">docs</a>)<br/>Sweep page: <a href='https://wandb.ai/dylan-home/pnca-sweep-1/sweeps/gt2h3xwl' target=\"_blank\">https://wandb.ai/dylan-home/pnca-sweep-1/sweeps/gt2h3xwl</a>"
      ],
      "text/plain": [
       "<IPython.core.display.HTML object>"
      ]
     },
     "metadata": {},
     "output_type": "display_data"
    },
    {
     "data": {
      "text/html": [
       " View project at <a href='https://wandb.ai/dylan-home/pnca-sweep-1' target=\"_blank\">https://wandb.ai/dylan-home/pnca-sweep-1</a>"
      ],
      "text/plain": [
       "<IPython.core.display.HTML object>"
      ]
     },
     "metadata": {},
     "output_type": "display_data"
    },
    {
     "data": {
      "text/html": [
       " View sweep at <a href='https://wandb.ai/dylan-home/pnca-sweep-1/sweeps/gt2h3xwl' target=\"_blank\">https://wandb.ai/dylan-home/pnca-sweep-1/sweeps/gt2h3xwl</a>"
      ],
      "text/plain": [
       "<IPython.core.display.HTML object>"
      ]
     },
     "metadata": {},
     "output_type": "display_data"
    },
    {
     "data": {
      "text/html": [
       " View run at <a href='https://wandb.ai/dylan-home/pnca-sweep-1/runs/ljekgal8' target=\"_blank\">https://wandb.ai/dylan-home/pnca-sweep-1/runs/ljekgal8</a>"
      ],
      "text/plain": [
       "<IPython.core.display.HTML object>"
      ]
     },
     "metadata": {},
     "output_type": "display_data"
    },
    {
     "name": "stdout",
     "output_type": "stream",
     "text": [
      "Using CUDA\n",
      "Early stopping enabled. Patience: 20. Min Delta: 0.\n",
      "Epoch: 010, Train Acc: 0.5264, Test Acc: 0.5110, Train Loss: 0.6871, Test Loss: 0.6874\n",
      "Epoch: 020, Train Acc: 0.5059, Test Acc: 0.4730, Train Loss: 0.6796, Test Loss: 0.6772\n",
      "Epoch: 030, Train Acc: 0.5016, Test Acc: 0.4777, Train Loss: 0.6730, Test Loss: 0.6704\n",
      "Epoch: 040, Train Acc: 0.5110, Test Acc: 0.4857, Train Loss: 0.6663, Test Loss: 0.6646\n",
      "Epoch: 050, Train Acc: 0.5106, Test Acc: 0.4853, Train Loss: 0.6579, Test Loss: 0.6552\n",
      "Epoch: 060, Train Acc: 0.7220, Test Acc: 0.6823, Train Loss: 0.6490, Test Loss: 0.6452\n",
      "Epoch: 070, Train Acc: 0.7223, Test Acc: 0.7067, Train Loss: 0.6396, Test Loss: 0.6341\n",
      "Epoch: 080, Train Acc: 0.7369, Test Acc: 0.6883, Train Loss: 0.6287, Test Loss: 0.6282\n",
      "Epoch: 090, Train Acc: 0.7341, Test Acc: 0.6840, Train Loss: 0.6198, Test Loss: 0.6215\n",
      "Epoch: 100, Train Acc: 0.5507, Test Acc: 0.5047, Train Loss: 0.6100, Test Loss: 0.6153\n",
      "Epoch: 110, Train Acc: 0.7601, Test Acc: 0.7130, Train Loss: 0.5937, Test Loss: 0.5992\n",
      "Epoch: 120, Train Acc: 0.7303, Test Acc: 0.7170, Train Loss: 0.5833, Test Loss: 0.5846\n",
      "Epoch: 130, Train Acc: 0.7383, Test Acc: 0.7217, Train Loss: 0.5695, Test Loss: 0.5752\n",
      "Epoch: 140, Train Acc: 0.7171, Test Acc: 0.7170, Train Loss: 0.5658, Test Loss: 0.5701\n",
      "Epoch: 150, Train Acc: 0.7794, Test Acc: 0.7247, Train Loss: 0.5425, Test Loss: 0.5652\n",
      "Epoch: 160, Train Acc: 0.7533, Test Acc: 0.7340, Train Loss: 0.5290, Test Loss: 0.5483\n",
      "Epoch: 170, Train Acc: 0.7679, Test Acc: 0.7480, Train Loss: 0.5157, Test Loss: 0.5419\n"
     ]
    }
   ],
   "source": [
    "wandb.agent(sweep_id, sweep_run, project = project, count=200)"
   ]
  },
  {
   "cell_type": "code",
   "execution_count": null,
   "metadata": {},
   "outputs": [],
   "source": []
  }
 ],
 "metadata": {
  "kernelspec": {
   "display_name": "Python 3",
   "language": "python",
   "name": "python3"
  },
  "language_info": {
   "codemirror_mode": {
    "name": "ipython",
    "version": 3
   },
   "file_extension": ".py",
   "mimetype": "text/x-python",
   "name": "python",
   "nbconvert_exporter": "python",
   "pygments_lexer": "ipython3",
   "version": "3.10.12"
  }
 },
 "nbformat": 4,
 "nbformat_minor": 2
}
