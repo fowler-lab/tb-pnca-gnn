{
 "cells": [
  {
   "cell_type": "markdown",
   "metadata": {},
   "source": [
    "# Attach PZA PDB to PncA AlphaFold Predicted Structures PDBs"
   ]
  },
  {
   "cell_type": "code",
   "execution_count": 1,
   "metadata": {},
   "outputs": [],
   "source": [
    "from tqdm import tqdm\n",
    "import os"
   ]
  },
  {
   "cell_type": "code",
   "execution_count": 2,
   "metadata": {},
   "outputs": [],
   "source": [
    "def concat_pdb(file1, file2, output_file):\n",
    "    with open(file1, \"rb\") as f1, open(file2, \"rb\") as f2:\n",
    "        lines1 = f1.readlines()\n",
    "        lines1 = lines1[:-1]\n",
    "        data2 = f2.read()  \n",
    "\n",
    "    # write both files into new pdb\n",
    "    with open(output_file, \"wb\") as out:\n",
    "        out.writelines(lines1) \n",
    "        out.write(data2) \n"
   ]
  },
  {
   "cell_type": "code",
   "execution_count": null,
   "metadata": {},
   "outputs": [],
   "source": [
    "def attach_pza_pdb(structs_path, output_path):\n",
    "    for f in tqdm(os.listdir(structs_path)):\n",
    "        if f.endswith('.pdb'):\n",
    "            concat_pdb(f'{structs_path}/{f}', '../pdb/PZA.pdb', f'{output_path}/{f}')"
   ]
  },
  {
   "cell_type": "markdown",
   "metadata": {},
   "source": [
    "NOTE: Original aligned PncA structures (without PZA) removed from repo"
   ]
  },
  {
   "cell_type": "code",
   "execution_count": 4,
   "metadata": {},
   "outputs": [],
   "source": [
    "test_structs = '../pdb/test_structures/aligned'\n",
    "train_structs = '../pdb/train_structures/aligned'\n",
    "\n",
    "train_output = '../pdb/train_pza'\n",
    "test_output = '../pdb/test_pza'\n",
    "\n",
    "# attach_pza_pdb(test_structs, test_output)\n",
    "# attach_pza_pdb(train_structs, train_output)"
   ]
  }
 ],
 "metadata": {
  "kernelspec": {
   "display_name": "Python 3",
   "language": "python",
   "name": "python3"
  },
  "language_info": {
   "codemirror_mode": {
    "name": "ipython",
    "version": 3
   },
   "file_extension": ".py",
   "mimetype": "text/x-python",
   "name": "python",
   "nbconvert_exporter": "python",
   "pygments_lexer": "ipython3",
   "version": "3.12.0"
  }
 },
 "nbformat": 4,
 "nbformat_minor": 2
}
