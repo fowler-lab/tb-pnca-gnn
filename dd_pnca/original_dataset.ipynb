{
 "cells": [
  {
   "cell_type": "code",
   "execution_count": 41,
   "metadata": {},
   "outputs": [],
   "source": [
    "import pandas as pd\n",
    "import numpy as np\n",
    "import pickle"
   ]
  },
  {
   "cell_type": "code",
   "execution_count": 19,
   "metadata": {},
   "outputs": [],
   "source": [
    "with open('../data/ds-train.npy', 'rb') as f:\n",
    "    y_train = np.load(f)\n",
    "    x_train = np.load(f)\n",
    "    train_muts = np.load(f, allow_pickle=True)\n",
    "    \n",
    "with open('../data/ds-test.npy', 'rb') as f:\n",
    "    y_test = np.load(f)\n",
    "    x_test = np.load(f)\n",
    "    test_muts = np.load(f, allow_pickle=True)"
   ]
  },
  {
   "cell_type": "code",
   "execution_count": 36,
   "metadata": {},
   "outputs": [],
   "source": [
    "muts_dict = {}\n",
    "muts_dict['train'] = list(train_muts)\n",
    "muts_dict['test'] = list(test_muts)"
   ]
  },
  {
   "cell_type": "code",
   "execution_count": 42,
   "metadata": {},
   "outputs": [],
   "source": [
    "with open('../data/original-ds-muts.pkl', 'wb') as f:\n",
    "    pickle.dump(muts_dict, f)"
   ]
  }
 ],
 "metadata": {
  "kernelspec": {
   "display_name": "Python 3",
   "language": "python",
   "name": "python3"
  },
  "language_info": {
   "codemirror_mode": {
    "name": "ipython",
    "version": 3
   },
   "file_extension": ".py",
   "mimetype": "text/x-python",
   "name": "python",
   "nbconvert_exporter": "python",
   "pygments_lexer": "ipython3",
   "version": "3.10.12"
  }
 },
 "nbformat": 4,
 "nbformat_minor": 2
}
