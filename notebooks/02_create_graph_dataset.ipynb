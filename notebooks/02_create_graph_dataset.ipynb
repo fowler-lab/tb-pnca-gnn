{
 "cells": [
  {
   "cell_type": "markdown",
   "metadata": {},
   "source": [
    "# Create Graph Dataset"
   ]
  },
  {
   "cell_type": "code",
   "execution_count": null,
   "metadata": {},
   "outputs": [],
   "source": [
    "import sys\n",
    "import os\n",
    "import pickle as pkl\n",
    "import pandas as pd\n",
    "import torch\n",
    "\n",
    "path = os.path.join('..', '.')\n",
    "if path not in sys.path:\n",
    "    sys.path.append(os.path.abspath(path))\n",
    "\n",
    "from src.protein_graph import pncaGraph\n",
    "\n",
    "from tqdm import tqdm"
   ]
  },
  {
   "cell_type": "code",
   "execution_count": 3,
   "metadata": {},
   "outputs": [],
   "source": [
    "train_seqs = pd.read_csv('../data/real_train_sequences.csv')\n",
    "test_seqs = pd.read_csv('../data/real_test_sequences.csv')"
   ]
  },
  {
   "cell_type": "markdown",
   "metadata": {},
   "source": [
    "### Create graphs and corresponding Data objects\n",
    "\n",
    "Using AlphaFold predicted structures."
   ]
  },
  {
   "cell_type": "code",
   "execution_count": 4,
   "metadata": {},
   "outputs": [],
   "source": [
    "def create_graphs(structs_path, seqs):\n",
    "    \n",
    "    output_dict = {}\n",
    "    \n",
    "    for f in tqdm(os.listdir(structs_path)):\n",
    "        \n",
    "        index = f[:f.find('_')]\n",
    "        name = 'pnca_mut_' + index\n",
    "\n",
    "        pnca_m = pncaGraph(\n",
    "                        pdb=f'{structs_path}/{f}',\n",
    "                        lig_resname='PZA', \n",
    "                        self_loops=False,\n",
    "                        cutoff_distance=12)\n",
    "        \n",
    "        metadata = seqs.iloc[[int(index)]]\n",
    "        # display(metadata)\n",
    "\n",
    "        output_dict[name] = {\n",
    "            'graph':pnca_m, \n",
    "            'metadata':metadata\n",
    "            }\n",
    "        \n",
    "    return output_dict"
   ]
  },
  {
   "cell_type": "code",
   "execution_count": null,
   "metadata": {},
   "outputs": [],
   "source": [
    "test_structs = '../pdb/test_pza'\n",
    "train_structs = '../pdb/train_pza'\n",
    "\n",
    "train_graph_dict = create_graphs(train_structs, train_seqs)\n",
    "test_graph_dict = create_graphs(test_structs, test_seqs)"
   ]
  },
  {
   "cell_type": "code",
   "execution_count": null,
   "metadata": {},
   "outputs": [],
   "source": [
    "# attach sequence from fasta to each key in dictionary\n",
    "# iterate through dict and creat one sample with gen_dataset per graph\n",
    "# assign dataset object to dictionary\n",
    "\n",
    "\n",
    "for sample in tqdm(test_graph_dict):\n",
    "    test_graph_dict[sample]['graph'].gen_dataset(\n",
    "        sequences= test_graph_dict[sample]['metadata'],\n",
    "        edge_weights= 'exp',\n",
    "        lambda_param=2,\n",
    "        normalise=True\n",
    "        )\n",
    "\n",
    "for sample in tqdm(train_graph_dict):\n",
    "    \n",
    "    train_graph_dict[sample]['graph'].gen_dataset(\n",
    "        sequences= train_graph_dict[sample]['metadata'],\n",
    "        edge_weights= 'exp',\n",
    "        lambda_param=2,\n",
    "        normalise=True\n",
    "        )"
   ]
  },
  {
   "cell_type": "code",
   "execution_count": null,
   "metadata": {},
   "outputs": [],
   "source": [
    "# check no nans in features\n",
    "\n",
    "for sample in tqdm(test_graph_dict):\n",
    "    assert torch.isnan(test_graph_dict[sample]['graph'].dataset[0].x).any() == False\n",
    "    \n",
    "for sample in tqdm(train_graph_dict):\n",
    "    assert torch.isnan(train_graph_dict[sample]['graph'].dataset[0].x).any() == False"
   ]
  },
  {
   "cell_type": "code",
   "execution_count": 9,
   "metadata": {},
   "outputs": [],
   "source": [
    "# Create MinMax scaler fit only on training data\n",
    "from sklearn.preprocessing import MinMaxScaler\n",
    "\n",
    "train_features = [train_graph_dict[sample]['graph'].dataset[0].x for sample in train_graph_dict]\n",
    "train_feats_cat = torch.cat([x for x in train_features], dim=0)\n",
    "\n",
    "# fit scaler and save\n",
    "scaler = MinMaxScaler()\n",
    "scaler.fit(train_feats_cat.numpy())\n",
    "\n",
    "\n",
    "with open(\"../data/scaler.pkl\", \"wb\") as f:\n",
    "    pkl.dump(scaler, f)"
   ]
  },
  {
   "cell_type": "code",
   "execution_count": 10,
   "metadata": {},
   "outputs": [],
   "source": [
    "# apply scaler to train and test features\n",
    "\n",
    "for sample in train_graph_dict:\n",
    "    train_graph_dict[sample]['graph'].dataset[0].x = torch.tensor(\n",
    "        scaler.transform(train_graph_dict[sample]['graph'].dataset[0].x.numpy()), \n",
    "        dtype=torch.float\n",
    "    )\n",
    "    \n",
    "for sample in test_graph_dict:\n",
    "    test_graph_dict[sample]['graph'].dataset[0].x = torch.tensor(\n",
    "        scaler.transform(test_graph_dict[sample]['graph'].dataset[0].x.numpy()), \n",
    "        dtype=torch.float\n",
    "    )"
   ]
  },
  {
   "cell_type": "code",
   "execution_count": 11,
   "metadata": {},
   "outputs": [],
   "source": [
    "graph_dict = {\n",
    "    'train': train_graph_dict,\n",
    "    'test': test_graph_dict\n",
    "}"
   ]
  },
  {
   "cell_type": "code",
   "execution_count": 12,
   "metadata": {},
   "outputs": [],
   "source": [
    "# save graph_dict as pickle  \n",
    "\n",
    "with open('datasets/x18_exp_l2_graph_dict.pkl', 'wb') as f:\n",
    "    pkl.dump(graph_dict, f)"
   ]
  }
 ],
 "metadata": {
  "kernelspec": {
   "display_name": "Python 3",
   "language": "python",
   "name": "python3"
  },
  "language_info": {
   "codemirror_mode": {
    "name": "ipython",
    "version": 3
   },
   "file_extension": ".py",
   "mimetype": "text/x-python",
   "name": "python",
   "nbconvert_exporter": "python",
   "pygments_lexer": "ipython3",
   "version": "3.12.0"
  }
 },
 "nbformat": 4,
 "nbformat_minor": 2
}
